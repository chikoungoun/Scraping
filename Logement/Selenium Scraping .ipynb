{
 "cells": [
  {
   "cell_type": "code",
   "execution_count": 1,
   "metadata": {},
   "outputs": [],
   "source": [
    "from selenium import webdriver"
   ]
  },
  {
   "cell_type": "code",
   "execution_count": 2,
   "metadata": {},
   "outputs": [],
   "source": [
    "options = webdriver.ChromeOptions()\n",
    "options.add_argument('--ignore-certificate-errors')\n",
    "options.add_argument('--incognito')# access the browser in incognito mode\n",
    "options.add_argument('--headless') # access the browser without having to open it"
   ]
  },
  {
   "cell_type": "code",
   "execution_count": 7,
   "metadata": {},
   "outputs": [],
   "source": [
    "driver = webdriver.Chrome(\"C:/webdrivers/chromedriver85.exe\", options=options)"
   ]
  },
  {
   "cell_type": "code",
   "execution_count": 8,
   "metadata": {},
   "outputs": [],
   "source": [
    "driver.get('https://www.mubawab.ma/fr/a/6201600/appartement-neuf-de-116-m%C2%B2-en-vente-derriere-ocp-3-ch')\n",
    "page = driver.page_source"
   ]
  },
  {
   "cell_type": "markdown",
   "metadata": {},
   "source": [
    "## Prix"
   ]
  },
  {
   "cell_type": "code",
   "execution_count": 23,
   "metadata": {},
   "outputs": [],
   "source": [
    "prix = driver.find_element_by_class_name('orangeTit')"
   ]
  },
  {
   "cell_type": "code",
   "execution_count": 24,
   "metadata": {},
   "outputs": [
    {
     "data": {
      "text/plain": [
       "'1 990 000 DH'"
      ]
     },
     "execution_count": 24,
     "metadata": {},
     "output_type": "execute_result"
    }
   ],
   "source": [
    "prix.text"
   ]
  },
  {
   "cell_type": "markdown",
   "metadata": {},
   "source": [
    "## Titre"
   ]
  },
  {
   "cell_type": "code",
   "execution_count": 19,
   "metadata": {},
   "outputs": [
    {
     "data": {
      "text/plain": [
       "<selenium.webdriver.remote.webelement.WebElement (session=\"7e7413fa19db20390e5d6abe0ae3c6d1\", element=\"696b14ab-9197-483e-8e95-9d40f0412739\")>"
      ]
     },
     "execution_count": 19,
     "metadata": {},
     "output_type": "execute_result"
    }
   ],
   "source": [
    "titre = driver.find_element_by_class_name('greyTit')\n",
    "titre"
   ]
  },
  {
   "cell_type": "code",
   "execution_count": 22,
   "metadata": {},
   "outputs": [
    {
     "data": {
      "text/plain": [
       "'Ferme Bretonne (Hay Arraha) à Casablanca'"
      ]
     },
     "execution_count": 22,
     "metadata": {},
     "output_type": "execute_result"
    }
   ],
   "source": [
    "titre.text"
   ]
  },
  {
   "cell_type": "markdown",
   "metadata": {},
   "source": [
    "## Tags"
   ]
  },
  {
   "cell_type": "code",
   "execution_count": 29,
   "metadata": {},
   "outputs": [
    {
     "data": {
      "text/plain": [
       "[<selenium.webdriver.remote.webelement.WebElement (session=\"7e7413fa19db20390e5d6abe0ae3c6d1\", element=\"249972d7-6b93-434d-8446-605a51c95af0\")>,\n",
       " <selenium.webdriver.remote.webelement.WebElement (session=\"7e7413fa19db20390e5d6abe0ae3c6d1\", element=\"4aa7a1f8-1bb9-49da-a37a-84823431468b\")>,\n",
       " <selenium.webdriver.remote.webelement.WebElement (session=\"7e7413fa19db20390e5d6abe0ae3c6d1\", element=\"0011314a-687d-40cf-bc07-b12e03051f2f\")>,\n",
       " <selenium.webdriver.remote.webelement.WebElement (session=\"7e7413fa19db20390e5d6abe0ae3c6d1\", element=\"ae077ed2-c9cd-4e65-940c-0f57833b7062\")>,\n",
       " <selenium.webdriver.remote.webelement.WebElement (session=\"7e7413fa19db20390e5d6abe0ae3c6d1\", element=\"ff03771b-1fd3-4397-9132-4d52edb84d23\")>,\n",
       " <selenium.webdriver.remote.webelement.WebElement (session=\"7e7413fa19db20390e5d6abe0ae3c6d1\", element=\"bb4059a5-071f-4a27-8515-49eba1f31132\")>,\n",
       " <selenium.webdriver.remote.webelement.WebElement (session=\"7e7413fa19db20390e5d6abe0ae3c6d1\", element=\"c6343322-fea8-44d6-883b-bddaf08d7c4d\")>,\n",
       " <selenium.webdriver.remote.webelement.WebElement (session=\"7e7413fa19db20390e5d6abe0ae3c6d1\", element=\"ff680eb8-8ec1-41a2-8bad-253220f95be5\")>,\n",
       " <selenium.webdriver.remote.webelement.WebElement (session=\"7e7413fa19db20390e5d6abe0ae3c6d1\", element=\"44fa9b5c-2125-40a1-903f-81f65881332a\")>,\n",
       " <selenium.webdriver.remote.webelement.WebElement (session=\"7e7413fa19db20390e5d6abe0ae3c6d1\", element=\"dac90c79-abb0-473d-ad1c-ebb6a0276b9c\")>,\n",
       " <selenium.webdriver.remote.webelement.WebElement (session=\"7e7413fa19db20390e5d6abe0ae3c6d1\", element=\"a5171c50-dc57-4404-9a61-d92dfeacc461\")>,\n",
       " <selenium.webdriver.remote.webelement.WebElement (session=\"7e7413fa19db20390e5d6abe0ae3c6d1\", element=\"9ded1466-a3c6-4af0-aaa4-fe9282179eb2\")>,\n",
       " <selenium.webdriver.remote.webelement.WebElement (session=\"7e7413fa19db20390e5d6abe0ae3c6d1\", element=\"163b3a87-dc7e-4fbd-a0b6-9c5bfe642f08\")>,\n",
       " <selenium.webdriver.remote.webelement.WebElement (session=\"7e7413fa19db20390e5d6abe0ae3c6d1\", element=\"241872fb-92c5-49bc-ab22-bc9c05a40350\")>]"
      ]
     },
     "execution_count": 29,
     "metadata": {},
     "output_type": "execute_result"
    }
   ],
   "source": [
    "tags = driver.find_elements_by_class_name('tagProp')\n",
    "tags"
   ]
  },
  {
   "cell_type": "code",
   "execution_count": 30,
   "metadata": {},
   "outputs": [
    {
     "name": "stdout",
     "output_type": "stream",
     "text": [
      "116 m²\n",
      "5 Pièces\n",
      "3 Chambres\n",
      "2 Salles de bains\n",
      "Nouveau\n",
      "1-5 ans\n",
      "4ème étage\n",
      "\n",
      "\n",
      "\n",
      "\n",
      "\n",
      "\n",
      "\n"
     ]
    }
   ],
   "source": [
    "for i in tags:\n",
    "    print(i.text)"
   ]
  },
  {
   "cell_type": "code",
   "execution_count": null,
   "metadata": {},
   "outputs": [],
   "source": []
  }
 ],
 "metadata": {
  "kernelspec": {
   "display_name": "Python 3",
   "language": "python",
   "name": "python3"
  },
  "language_info": {
   "codemirror_mode": {
    "name": "ipython",
    "version": 3
   },
   "file_extension": ".py",
   "mimetype": "text/x-python",
   "name": "python",
   "nbconvert_exporter": "python",
   "pygments_lexer": "ipython3",
   "version": "3.8.2"
  }
 },
 "nbformat": 4,
 "nbformat_minor": 4
}
