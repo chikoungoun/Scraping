{
 "cells": [
  {
   "cell_type": "markdown",
   "metadata": {},
   "source": [
    "# Mubawab Scraping : Recherche Baraque"
   ]
  },
  {
   "cell_type": "markdown",
   "metadata": {},
   "source": [
    "Scraping des données Mubawab pour élaboration d'une base de données de maisons selon critères"
   ]
  },
  {
   "cell_type": "code",
   "execution_count": 1,
   "metadata": {},
   "outputs": [
    {
     "data": {
      "text/plain": [
       "<Response [200]>"
      ]
     },
     "execution_count": 1,
     "metadata": {},
     "output_type": "execute_result"
    }
   ],
   "source": [
    "import requests\n",
    "\n",
    "\n",
    "# Scraping pour une page sur 18 de résultat\n",
    "url = 'https://www.mubawab.ma/fr/ct/casablanca/immobilier-a-vendre-all:prmn:%3E1000000:prmx:%3C2000000:esmn:%3E80:esmx:%3C130:et:y:sc:apartments-for-sale:p:1'\n",
    "response = requests.get(url)\n",
    "response"
   ]
  },
  {
   "cell_type": "code",
   "execution_count": 2,
   "metadata": {},
   "outputs": [
    {
     "name": "stdout",
     "output_type": "stream",
     "text": [
      "<?xml version=\"1.0\" encoding=\"utf-8\"?>\n",
      "<!DOCTYPE html>\n",
      "<html xmlns=\"http://www.w3.org/1999/xhtml\" la\n"
     ]
    }
   ],
   "source": [
    "print(response.text[:100])"
   ]
  },
  {
   "cell_type": "code",
   "execution_count": 3,
   "metadata": {},
   "outputs": [
    {
     "data": {
      "text/plain": [
       "bs4.BeautifulSoup"
      ]
     },
     "execution_count": 3,
     "metadata": {},
     "output_type": "execute_result"
    }
   ],
   "source": [
    "from bs4 import BeautifulSoup\n",
    "\n",
    "soup = BeautifulSoup(response.text,'html.parser')\n",
    "type(soup)"
   ]
  },
  {
   "cell_type": "markdown",
   "metadata": {},
   "source": [
    "**Bloc de liste global**"
   ]
  },
  {
   "cell_type": "code",
   "execution_count": 4,
   "metadata": {},
   "outputs": [],
   "source": [
    "ulist = soup.find(\"ul\",class_=\"ulListing\")"
   ]
  },
  {
   "cell_type": "markdown",
   "metadata": {},
   "source": [
    "**Liste des éléments \"Spremium\"**"
   ]
  },
  {
   "cell_type": "code",
   "execution_count": 5,
   "metadata": {},
   "outputs": [],
   "source": [
    "islist = ulist.find_all(\"li\",class_=\"SpremiumBox w100\")\n"
   ]
  },
  {
   "cell_type": "code",
   "execution_count": 7,
   "metadata": {},
   "outputs": [
    {
     "name": "stdout",
     "output_type": "stream",
     "text": [
      "<li class=\"SpremiumBox w100\" linkref=\"https://www.mubawab.ma/fr/a/6201600/appartement-neuf-de-116-m%C2%B2-en-vente-derriere-ocp-3-ch\">\n",
      "<input class=\"adId\" type=\"hidden\" value=\"6201600\"/>\n",
      "<div class=\"photoBox col-5 floatR emptyCol\" data-url=\"https://www.mubawab-media.com/pictures/6201600/l/appartement-neuf-de-116-m%C2%B2-en-vente-val-fleury_20277206.jpg\">\n",
      "<div class=\"photoControls positionAb favDivPickId\" id=\"6201600\">\n",
      "<i adid=\"6201600\" class=\"favHolder icon-heart-empty iconPad likeIcon whiteIcon\"></i>\n",
      "<span class=\"photoPrice float-right floatL\">1 990 000 DH\n",
      "\t\t\t\t\t\t</span>\n",
      "<span class=\"priceRibbon float-right floatL rotate180\"></span>\n",
      "</div>\n",
      "<div class=\"photoMask\">\n",
      "<img class=\"spPhoto\"/>\n",
      "</div>\n",
      "</div>\n",
      "<div class=\"contentBox colSPremiumContent col-7\">\n",
      "<h2 class=\"SpremiumH2\">\n",
      "<a href=\"https://www.mubawab.ma/fr/a/6201600/appartement-neuf-de-116-m%C2%B2-en-vente-derriere-ocp-3-ch\">Appartement neuf de 116 m² en vente, derriere ocp 3 CH \n",
      "\t\t\t\t\t</a>\n",
      "</h2>\n",
      "<div class=\"inBlock w100\">\n",
      "<h4 class=\"SpremiumH4 floatR\">3 chambres, 116 m²\n",
      "\t\t\t\t\t</h4>\n",
      "</div>\n",
      "<h3 class=\"SpremiumH3\">Ferme Bretonne (Hay Arraha) à\n",
      "   \t\t\t\t\t\tCasablanca\n",
      "\t\t\t\t</h3>\n",
      "<p class=\"SpremiumP descLi\">ap1335 appartement neuf de 6 mois a vendre\r\n",
      "superficie 116m\r\n",
      "4 eme etage\r\n",
      "sans vis a vis\r\n",
      "ensoleillé\r\n",
      "1 salon\r\n",
      "1 hall coin sejour\r\n",
      "3 chambres dont chambre parentale avec dressing sdb et balcon\r\n",
      "sdb\n",
      "\t\t\t\t\t\t<i class=\"icon-right-small greyIcon rotate180 inBlock\"></i></p>\n",
      "<div class=\"controlBar\">\n",
      "<span class=\"SpremiumDetails iconPadR\">\n",
      "<i class=\"icon-calendar-plus-o iconPadR greyIcon\"></i>03/09/20\n",
      "\t\t\t\t\t</span>\n",
      "<span class=\"SpremiumDetails\">\n",
      "<i class=\"icon-camera iconPadR greyIcon\"></i>14       photos\n",
      "\t\t\t\t\t</span>\n",
      "<button class=\"contactAd btn btnFlat uppercase float-right floatL\" data-adid=\"6201600\" href=\"#contactPopup\" onclick=\"openContactPopup(this);\" type=\"button\">Contacter</button>\n",
      "</div>\n",
      "</div>\n",
      "</li>\n",
      " ###\n",
      " ###\n",
      " ###\n",
      " ###\n",
      "\n",
      "<li class=\"SpremiumBox w100\" linkref=\"https://www.mubawab.ma/fr/a/6954087/appart-2-chambres-%C3%A0-palmier-sans-vis-%C3%A0-vis\">\n",
      "<input class=\"adId\" type=\"hidden\" value=\"6954087\"/>\n",
      "<div class=\"photoBox col-5 floatR emptyCol\" data-url=\"https://www.mubawab-media.com/pictures/6954087/l/appart-2-chambres-%C3%A0-palmier-sans-vis-%C3%A0-vis_24093694.jpg\">\n",
      "<div class=\"photoControls positionAb favDivPickId\" id=\"6954087\">\n",
      "<i adid=\"6954087\" class=\"favHolder icon-heart-empty iconPad likeIcon whiteIcon\"></i>\n",
      "<span class=\"photoPrice float-right floatL\">1 600 000 DH\n",
      "\t\t\t\t\t\t</span>\n",
      "<span class=\"priceRibbon float-right floatL rotate180\"></span>\n",
      "</div>\n",
      "<div class=\"photoMask\">\n",
      "<img class=\"spPhoto\"/>\n",
      "</div>\n",
      "</div>\n",
      "<div class=\"contentBox colSPremiumContent col-7\">\n",
      "<h2 class=\"SpremiumH2\">\n",
      "<a href=\"https://www.mubawab.ma/fr/a/6954087/appart-2-chambres-%C3%A0-palmier-sans-vis-%C3%A0-vis\">Appart 2 chambres à Palmier sans vis à vis\n",
      "\t\t\t\t\t</a>\n",
      "</h2>\n",
      "<div class=\"inBlock w100\">\n",
      "<h4 class=\"SpremiumH4 floatR\">2 chambres, 100 m²\n",
      "\t\t\t\t\t</h4>\n",
      "</div>\n",
      "<h3 class=\"SpremiumH3\">Palmier à\n",
      "   \t\t\t\t\t\tCasablanca\n",
      "\t\t\t\t</h3>\n",
      "<p class=\"SpremiumP descLi\">dana immobillier vous propose une opportunité a saisir au cœur à casablanca dans le quartier palmier un appartement baigné de soleil.\r\n",
      "\r\n",
      "\r\n",
      "\r\n",
      "l'appartement se compose de 3 pièces :\r\n",
      "-1 salon avec\n",
      "\t\t\t\t\t\t<i class=\"icon-right-small greyIcon rotate180 inBlock\"></i></p>\n",
      "<div class=\"controlBar\">\n",
      "<span class=\"SpremiumDetails iconPadR\">\n",
      "<i class=\"icon-calendar-plus-o iconPadR greyIcon\"></i>02/09/20\n",
      "\t\t\t\t\t</span>\n",
      "<span class=\"SpremiumDetails\">\n",
      "<i class=\"icon-camera iconPadR greyIcon\"></i>12       photos\n",
      "\t\t\t\t\t</span>\n",
      "<button class=\"contactAd btn btnFlat uppercase float-right floatL\" data-adid=\"6954087\" href=\"#contactPopup\" onclick=\"openContactPopup(this);\" type=\"button\">Contacter</button>\n",
      "</div>\n",
      "</div>\n",
      "</li>\n",
      " ###\n",
      " ###\n",
      " ###\n",
      " ###\n",
      "\n",
      "<li class=\"SpremiumBox w100\" linkref=\"https://www.mubawab.ma/fr/pa/6913468/appartement-de-56m%C2%B2-29m%C2%B2-de-cour-r%C3%A9sidence-laya\">\n",
      "<input class=\"adId\" type=\"hidden\" value=\"6913468\"/>\n",
      "<div class=\"photoBox col-5 floatR emptyCol\" data-url=\"https://www.mubawab-media.com/pictures/6913468/l/appartement-de-161m%C2%B2-en-vente-r%C3%A9sidence-laya_23768037.jpg\">\n",
      "<div class=\"photoControls positionAb favDivPickId\" id=\"6913468\">\n",
      "<i adid=\"6913468\" class=\"favHolder icon-heart-empty iconPad likeIcon whiteIcon\"></i>\n",
      "<span class=\"photoPrice float-right floatL\">1 395 000 DH\n",
      "\t\t\t\t\t\t</span>\n",
      "<span class=\"priceRibbon float-right floatL rotate180\"></span>\n",
      "</div>\n",
      "<div class=\"photoMask\">\n",
      "<img class=\"spPhoto\"/>\n",
      "</div>\n",
      "</div>\n",
      "<div class=\"contentBox colSPremiumContent col-7\">\n",
      "<h2 class=\"SpremiumH2\">\n",
      "<a href=\"https://www.mubawab.ma/fr/pa/6913468/appartement-de-56m%C2%B2-29m%C2%B2-de-cour-r%C3%A9sidence-laya\">Appartement de 56m²+ 29m² de cour, Résidence Laya\n",
      "\t\t\t\t\t</a>\n",
      "</h2>\n",
      "<div class=\"inBlock w100\">\n",
      "<h4 class=\"SpremiumH4 floatR\">1 chambre, 85 m²\n",
      "\t\t\t\t\t</h4>\n",
      "</div>\n",
      "<h3 class=\"SpremiumH3\">Hay Hassani à\n",
      "   \t\t\t\t\t\tCasablanca\n",
      "\t\t\t\t</h3>\n",
      "<p class=\"SpremiumP descLi\">petit bijou de l'immobilier, la résidence laya vous propose des appartements modernes aux finitions haute couture. \r\n",
      "\r\n",
      "idéalement nichée au centre d’un triangle vert (forêt de l’ocp, anfa park et le\n",
      "\t\t\t\t\t\t<i class=\"icon-right-small greyIcon rotate180 inBlock\"></i></p>\n",
      "<div class=\"controlBar\">\n",
      "<span class=\"SpremiumDetails iconPadR\">\n",
      "<i class=\"icon-calendar-plus-o iconPadR greyIcon\"></i>01/09/20\n",
      "\t\t\t\t\t</span>\n",
      "<span class=\"SpremiumDetails\">\n",
      "<i class=\"icon-camera iconPadR greyIcon\"></i>32       photos\n",
      "\t\t\t\t\t</span>\n",
      "<button class=\"contactAd btn btnFlat uppercase float-right floatL\" data-adid=\"6913468\" data-promotionid=\"2961\" href=\"#contactPopup\" onclick=\"openContactPopup(this);\" type=\"button\">Contacter</button>\n",
      "</div>\n",
      "</div>\n",
      "</li>\n",
      " ###\n",
      " ###\n",
      " ###\n",
      " ###\n",
      "\n",
      "<li class=\"SpremiumBox w100\" linkref=\"https://www.mubawab.ma/fr/pa/5916134/vente-d-appartement-f3-de-93-m%C2%B2-dans-les-r%C3%A9sidences-la-cit%C3%A9-des-arts\">\n",
      "<input class=\"adId\" type=\"hidden\" value=\"5916134\"/>\n",
      "<div class=\"photoBox col-5 floatR emptyCol\" data-url=\"https://www.mubawab-media.com/pictures/5916134/l/vente-d-appartement-f3-de-92-m%C2%B2-dans-les-r%C3%A9sidences-la-cit%C3%A9-des-arts_18222234.jpg\">\n",
      "<div class=\"photoControls positionAb favDivPickId\" id=\"5916134\">\n",
      "<i adid=\"5916134\" class=\"favHolder icon-heart-empty iconPad likeIcon whiteIcon\"></i>\n",
      "<span class=\"photoPrice float-right floatL\">1 761 000 DH\n",
      "\t\t\t\t\t\t</span>\n",
      "<span class=\"priceRibbon float-right floatL rotate180\"></span>\n",
      "</div>\n",
      "<div class=\"photoMask\">\n",
      "<img class=\"spPhoto\"/>\n",
      "</div>\n",
      "</div>\n",
      "<div class=\"contentBox colSPremiumContent col-7\">\n",
      "<h2 class=\"SpremiumH2\">\n",
      "<a href=\"https://www.mubawab.ma/fr/pa/5916134/vente-d-appartement-f3-de-93-m%C2%B2-dans-les-r%C3%A9sidences-la-cit%C3%A9-des-arts\">Vente d'appartement F3 de 93 m² dans les résidences la Cité des Arts\n",
      "\t\t\t\t\t</a>\n",
      "</h2>\n",
      "<div class=\"inBlock w100\">\n",
      "<h4 class=\"SpremiumH4 floatR\">2 chambres, 93 m²\n",
      "\t\t\t\t\t</h4>\n",
      "</div>\n",
      "<h3 class=\"SpremiumH3\">Bourgogne Ouest à\n",
      "   \t\t\t\t\t\tCasablanca\n",
      "\t\t\t\t</h3>\n",
      "<p class=\"SpremiumP descLi\">c’est au cœur de casablanca, à quelques pas de la corniche et de la mosquée hassan ii, qu’est située votre nouvelle adresse résidentielle moderne, la cité des arts.\r\n",
      "le complexe résidentiel la cité\n",
      "\t\t\t\t\t\t<i class=\"icon-right-small greyIcon rotate180 inBlock\"></i></p>\n",
      "<div class=\"controlBar\">\n",
      "<span class=\"SpremiumDetails iconPadR\">\n",
      "<i class=\"icon-calendar-plus-o iconPadR greyIcon\"></i>29/08/20\n",
      "\t\t\t\t\t</span>\n",
      "<span class=\"SpremiumDetails\">\n",
      "<i class=\"icon-camera iconPadR greyIcon\"></i>6       photos\n",
      "\t\t\t\t\t</span>\n",
      "<button class=\"contactAd btn btnFlat uppercase float-right floatL\" data-adid=\"5916134\" data-promotionid=\"1313\" href=\"#contactPopup\" onclick=\"openContactPopup(this);\" type=\"button\">Contacter</button>\n",
      "</div>\n",
      "</div>\n",
      "</li>\n",
      " ###\n",
      " ###\n",
      " ###\n",
      " ###\n",
      "\n",
      "<li class=\"SpremiumBox w100\" linkref=\"https://www.mubawab.ma/fr/pa/6940804/appartement-107-m%C2%B2-de-2-chambres-salon-%C3%A0-jnane-californie\">\n",
      "<input class=\"adId\" type=\"hidden\" value=\"6940804\"/>\n",
      "<div class=\"photoBox col-5 floatR emptyCol\" data-url=\"https://www.mubawab-media.com/pictures/6940804/l/appartement-107-m%C2%B2-de-2-chambres-salon-%C3%A0-jnane-californie_23994538.jpg\">\n",
      "<div class=\"photoControls positionAb favDivPickId\" id=\"6940804\">\n",
      "<i adid=\"6940804\" class=\"favHolder icon-heart-empty iconPad likeIcon whiteIcon\"></i>\n",
      "<span class=\"photoPrice float-right floatL\">1 872 500 DH\n",
      "\t\t\t\t\t\t</span>\n",
      "<span class=\"priceRibbon float-right floatL rotate180\"></span>\n",
      "</div>\n",
      "<div class=\"photoMask\">\n",
      "<img class=\"spPhoto\"/>\n",
      "</div>\n",
      "</div>\n",
      "<div class=\"contentBox colSPremiumContent col-7\">\n",
      "<h2 class=\"SpremiumH2\">\n",
      "<a href=\"https://www.mubawab.ma/fr/pa/6940804/appartement-107-m%C2%B2-de-2-chambres-salon-%C3%A0-jnane-californie\">Appartement 107 m² de 2 chambres, salon à Jnane Californie\n",
      "\t\t\t\t\t</a>\n",
      "</h2>\n",
      "<div class=\"inBlock w100\">\n",
      "<h4 class=\"SpremiumH4 floatR\">2 chambres, 107 m²\n",
      "\t\t\t\t\t</h4>\n",
      "</div>\n",
      "<h3 class=\"SpremiumH3\">Californie à\n",
      "   \t\t\t\t\t\tCasablanca\n",
      "\t\t\t\t</h3>\n",
      "<p class=\"SpremiumP descLi\">luxe et elegance \r\n",
      "\r\n",
      "niché au cœur d’une nature verdoyante, jnane californie exclusive est un ensemble résidentiel luxueux qui a été pensé et aménagé pour vous offrir le raffinement et le confort que\n",
      "\t\t\t\t\t\t<i class=\"icon-right-small greyIcon rotate180 inBlock\"></i></p>\n",
      "<div class=\"controlBar\">\n",
      "<span class=\"SpremiumDetails iconPadR\">\n",
      "<i class=\"icon-calendar-plus-o iconPadR greyIcon\"></i>26/08/20\n",
      "\t\t\t\t\t</span>\n",
      "<span class=\"SpremiumDetails\">\n",
      "<i class=\"icon-camera iconPadR greyIcon\"></i>28       photos\n",
      "\t\t\t\t\t</span>\n",
      "<button class=\"contactAd btn btnFlat uppercase float-right floatL\" data-adid=\"6940804\" data-promotionid=\"724\" href=\"#contactPopup\" onclick=\"openContactPopup(this);\" type=\"button\">Contacter</button>\n",
      "</div>\n",
      "</div>\n",
      "</li>\n",
      " ###\n",
      " ###\n",
      " ###\n",
      " ###\n",
      "\n",
      "<li class=\"SpremiumBox w100\" linkref=\"https://www.mubawab.ma/fr/a/6943606/magnifique-appartement-%C3%A0-la-vente-quartier-nassim\">\n",
      "<input class=\"adId\" type=\"hidden\" value=\"6943606\"/>\n",
      "<div class=\"photoBox col-5 floatR emptyCol\" data-url=\"https://www.mubawab-media.com/pictures/6943606/l/magnifique-appartement-%C3%A0-la-vente-quartier-nassim_24016349.jpg\">\n",
      "<div class=\"photoControls positionAb favDivPickId\" id=\"6943606\">\n",
      "<i adid=\"6943606\" class=\"favHolder icon-heart-empty iconPad likeIcon whiteIcon\"></i>\n",
      "<span class=\"photoPrice float-right floatL\">1 300 000 DH\n",
      "\t\t\t\t\t\t</span>\n",
      "<span class=\"priceRibbon float-right floatL rotate180\"></span>\n",
      "</div>\n",
      "<div class=\"photoMask\">\n",
      "<img class=\"spPhoto\"/>\n",
      "</div>\n",
      "</div>\n",
      "<div class=\"contentBox colSPremiumContent col-7\">\n",
      "<h2 class=\"SpremiumH2\">\n",
      "<a href=\"https://www.mubawab.ma/fr/a/6943606/magnifique-appartement-%C3%A0-la-vente-quartier-nassim\">Magnifique appartement à la vente quartier Nassim\n",
      "\t\t\t\t\t</a>\n",
      "</h2>\n",
      "<div class=\"inBlock w100\">\n",
      "<h4 class=\"SpremiumH4 floatR\">3 chambres, 99 m²\n",
      "\t\t\t\t\t</h4>\n",
      "</div>\n",
      "<h3 class=\"SpremiumH3\">Sidi Maarouf à\n",
      "   \t\t\t\t\t\tCasablanca\n",
      "\t\t\t\t</h3>\n",
      "<p class=\"SpremiumP descLi\">votre agence immobilière à casablanca vous propose cet appartement de 99m² au quartier nassim (sidi maarouf) proche de casanearshore en vente.\r\n",
      "il se compose d’un grand salon avec coin cheminée d'une \n",
      "\t\t\t\t\t\t<i class=\"icon-right-small greyIcon rotate180 inBlock\"></i></p>\n",
      "<div class=\"controlBar\">\n",
      "<span class=\"SpremiumDetails iconPadR\">\n",
      "<i class=\"icon-calendar-plus-o iconPadR greyIcon\"></i>23/08/20\n",
      "\t\t\t\t\t</span>\n",
      "<span class=\"SpremiumDetails\">\n",
      "<i class=\"icon-camera iconPadR greyIcon\"></i>7       photos\n",
      "\t\t\t\t\t</span>\n",
      "<button class=\"contactAd btn btnFlat uppercase float-right floatL\" data-adid=\"6943606\" href=\"#contactPopup\" onclick=\"openContactPopup(this);\" type=\"button\">Contacter</button>\n",
      "</div>\n",
      "</div>\n",
      "</li>\n",
      " ###\n",
      " ###\n",
      " ###\n",
      " ###\n",
      "\n",
      "<li class=\"SpremiumBox w100\" linkref=\"https://www.mubawab.ma/fr/pa/6835221/appartement-de-90-m%C2%B2-en-vente-r%C3%A9sidence-shangai\">\n",
      "<input class=\"adId\" type=\"hidden\" value=\"6835221\"/>\n",
      "<div class=\"photoBox col-5 floatR emptyCol\" data-url=\"https://www.mubawab-media.com/pictures/6835221/l/appartement-de-90-m%C2%B2-en-vente-r%C3%A9sidence-shangai_23233614.jpg\">\n",
      "<div class=\"photoControls positionAb favDivPickId\" id=\"6835221\">\n",
      "<i adid=\"6835221\" class=\"favHolder icon-heart-empty iconPad likeIcon whiteIcon\"></i>\n",
      "<span class=\"photoPrice float-right floatL\">1 035 000 DH\n",
      "\t\t\t\t\t\t</span>\n",
      "<span class=\"priceRibbon float-right floatL rotate180\"></span>\n",
      "</div>\n",
      "<div class=\"photoMask\">\n",
      "<img class=\"spPhoto\"/>\n",
      "</div>\n",
      "</div>\n",
      "<div class=\"contentBox colSPremiumContent col-7\">\n",
      "<h2 class=\"SpremiumH2\">\n",
      "<a href=\"https://www.mubawab.ma/fr/pa/6835221/appartement-de-90-m%C2%B2-en-vente-r%C3%A9sidence-shangai\">Appartement de 90 m² en vente, Résidence Shangai\n",
      "\t\t\t\t\t</a>\n",
      "</h2>\n",
      "<div class=\"inBlock w100\">\n",
      "<h4 class=\"SpremiumH4 floatR\">3 chambres, 90 m²\n",
      "\t\t\t\t\t</h4>\n",
      "</div>\n",
      "<h3 class=\"SpremiumH3\">La Gironde à\n",
      "   \t\t\t\t\t\tCasablanca\n",
      "\t\t\t\t</h3>\n",
      "<p class=\"SpremiumP descLi\">appartements modernes et ensoleillés de 90 m², 3 chambres spacieuses et bien réparties, salon moderne et 2 salles de bains équipées,  avec climatisation centralisée, cuisine équipée , ascenseurs et\n",
      "\t\t\t\t\t\t<i class=\"icon-right-small greyIcon rotate180 inBlock\"></i></p>\n",
      "<div class=\"controlBar\">\n",
      "<span class=\"SpremiumDetails iconPadR\">\n",
      "<i class=\"icon-calendar-plus-o iconPadR greyIcon\"></i>11/08/20\n",
      "\t\t\t\t\t</span>\n",
      "<span class=\"SpremiumDetails\">\n",
      "<i class=\"icon-camera iconPadR greyIcon\"></i>23       photos\n",
      "\t\t\t\t\t</span>\n",
      "<button class=\"contactAd btn btnFlat uppercase float-right floatL\" data-adid=\"6835221\" data-promotionid=\"2272\" href=\"#contactPopup\" onclick=\"openContactPopup(this);\" type=\"button\">Contacter</button>\n",
      "</div>\n",
      "</div>\n",
      "</li>\n",
      " ###\n",
      " ###\n",
      " ###\n",
      " ###\n",
      "\n"
     ]
    }
   ],
   "source": [
    "for i in islist:\n",
    "    print(i)\n",
    "    print(\" ###\\n ###\\n ###\\n ###\\n\")"
   ]
  },
  {
   "cell_type": "code",
   "execution_count": 8,
   "metadata": {},
   "outputs": [
    {
     "data": {
      "text/plain": [
       "7"
      ]
     },
     "execution_count": 8,
     "metadata": {},
     "output_type": "execute_result"
    }
   ],
   "source": [
    "len(islist)"
   ]
  },
  {
   "cell_type": "markdown",
   "metadata": {},
   "source": [
    "**Liste des éléments \"Premium\"**"
   ]
  },
  {
   "cell_type": "code",
   "execution_count": 9,
   "metadata": {},
   "outputs": [],
   "source": [
    "ilist = ulist.find_all(\"li\",class_=\"premiumBox w100\")"
   ]
  },
  {
   "cell_type": "code",
   "execution_count": 12,
   "metadata": {},
   "outputs": [
    {
     "name": "stdout",
     "output_type": "stream",
     "text": [
      "https://www.mubawab.ma/fr/a/6908266/dv-608-bel-apt-de-114-m%C2%B2-%C3%A0-bir-anzarane-\n",
      "https://www.mubawab.ma/fr/a/6879238/appart-neuf-3-chambres-%C3%A0-500m-de-cheikh-khalifa\n",
      "https://www.mubawab.ma/fr/a/6879233/appart-neuf-2-chambres-%C3%A0-500m-de-cheikh-khalifa\n",
      "https://www.mubawab.ma/fr/a/6954956/appt-a-vendre-ennassim\n",
      "https://www.mubawab.ma/fr/a/6823369/appartement-a-vendre-2-mars\n",
      "https://www.mubawab.ma/fr/pa/6345664/appartement-107-m%C2%B2-de-2-chambres-salon-%C3%A0-jnane-californie\n",
      "https://www.mubawab.ma/fr/a/6879220/appart-neuf-3-chambres-%C3%A0-500m-de-cheikh-khalifa\n",
      "https://www.mubawab.ma/fr/a/6879244/appart-neuf-2-chambres-%C3%A0-500m-de-cheikh-khalifa\n",
      "https://www.mubawab.ma/fr/a/6879237/appart-neuf-2-chambres-%C3%A0-500m-de-cheikh-khalifa\n",
      "https://www.mubawab.ma/fr/pa/6913450/appartement-de-101m%C2%B2-en-vente-r%C3%A9sidence-laya\n",
      "https://www.mubawab.ma/fr/pa/5916136/vente-d-appartement-f3-de-90-m%C2%B2-dans-les-r%C3%A9sidences-la-cit%C3%A9-des-arts\n",
      "https://www.mubawab.ma/fr/pa/6381615/appartement-de-88m%C2%B2-en-vente-r%C3%A9sidence-place-2-mars\n",
      "https://www.mubawab.ma/fr/pa/6815859/appartement-de-86m%C2%B2-en-vente-bellerive-r%C3%A9sidence\n",
      "https://www.mubawab.ma/fr/pa/6860820/appartement-de-90m%C2%B2-en-vente-r%C3%A9sidence-les-all%C3%A9es-de-californie\n",
      "https://www.mubawab.ma/fr/pa/5916135/vente-d-appartement-f3-de-90-m%C2%B2-dans-les-r%C3%A9sidences-la-cit%C3%A9-des-arts\n"
     ]
    }
   ],
   "source": [
    "for i in ilist:\n",
    "    print(i['linkref'])"
   ]
  },
  {
   "cell_type": "code",
   "execution_count": 11,
   "metadata": {},
   "outputs": [
    {
     "data": {
      "text/plain": [
       "15"
      ]
     },
     "execution_count": 11,
     "metadata": {},
     "output_type": "execute_result"
    }
   ],
   "source": [
    "len(ilist)"
   ]
  },
  {
   "cell_type": "code",
   "execution_count": null,
   "metadata": {},
   "outputs": [],
   "source": []
  },
  {
   "cell_type": "code",
   "execution_count": null,
   "metadata": {},
   "outputs": [],
   "source": []
  }
 ],
 "metadata": {
  "kernelspec": {
   "display_name": "Python 3",
   "language": "python",
   "name": "python3"
  },
  "language_info": {
   "codemirror_mode": {
    "name": "ipython",
    "version": 3
   },
   "file_extension": ".py",
   "mimetype": "text/x-python",
   "name": "python",
   "nbconvert_exporter": "python",
   "pygments_lexer": "ipython3",
   "version": "3.8.2"
  }
 },
 "nbformat": 4,
 "nbformat_minor": 4
}
