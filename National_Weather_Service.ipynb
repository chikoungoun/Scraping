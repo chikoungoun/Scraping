{
 "cells": [
  {
   "cell_type": "markdown",
   "metadata": {},
   "source": [
    "### Tuto depuis Dataquest : https://www.dataquest.io/blog/web-scraping-tutorial-python/"
   ]
  },
  {
   "cell_type": "markdown",
   "metadata": {},
   "source": [
    "# National Weather Service"
   ]
  },
  {
   "cell_type": "markdown",
   "metadata": {},
   "source": [
    "* Pour scraper une page web il faut d'abord la télécharger en utilisant la lib 'requests' qui envoie un GET au serveur web"
   ]
  },
  {
   "cell_type": "code",
   "execution_count": 2,
   "metadata": {},
   "outputs": [
    {
     "data": {
      "text/plain": [
       "<Response [200]>"
      ]
     },
     "execution_count": 2,
     "metadata": {},
     "output_type": "execute_result"
    }
   ],
   "source": [
    "import requests\n",
    "\n",
    "page = requests.get(\"http://dataquestio.github.io/web-scraping-pages/simple.html\")\n",
    "page"
   ]
  },
  {
   "cell_type": "code",
   "execution_count": 3,
   "metadata": {},
   "outputs": [
    {
     "data": {
      "text/plain": [
       "200"
      ]
     },
     "execution_count": 3,
     "metadata": {},
     "output_type": "execute_result"
    }
   ],
   "source": [
    "page.status_code # U status code de 200 : Succes Telechargement de la Page"
   ]
  },
  {
   "cell_type": "markdown",
   "metadata": {},
   "source": [
    "* Les status codes commencçant pas '2' indiquent un succès contrairement au status code '4' ou '5' (404, 500,...)"
   ]
  },
  {
   "cell_type": "code",
   "execution_count": 4,
   "metadata": {},
   "outputs": [
    {
     "data": {
      "text/plain": [
       "' Imprimer le contenu de la page'"
      ]
     },
     "execution_count": 4,
     "metadata": {},
     "output_type": "execute_result"
    }
   ],
   "source": [
    "\"\"\" Imprimer le contenu de la page\"\"\""
   ]
  },
  {
   "cell_type": "code",
   "execution_count": 5,
   "metadata": {},
   "outputs": [
    {
     "data": {
      "text/plain": [
       "b'<!DOCTYPE html>\\n<html>\\n    <head>\\n        <title>A simple example page</title>\\n    </head>\\n    <body>\\n        <p>Here is some simple content for this page.</p>\\n    </body>\\n</html>'"
      ]
     },
     "execution_count": 5,
     "metadata": {},
     "output_type": "execute_result"
    }
   ],
   "source": [
    "page.content"
   ]
  },
  {
   "cell_type": "markdown",
   "metadata": {},
   "source": [
    "### Parsing de contenu avec BeautifulSoup\n",
    "\n",
    "Analyse Syntaxique"
   ]
  },
  {
   "cell_type": "code",
   "execution_count": 6,
   "metadata": {},
   "outputs": [
    {
     "data": {
      "text/plain": [
       "\" extraire le contenu des tags 'p' d'une simple page\""
      ]
     },
     "execution_count": 6,
     "metadata": {},
     "output_type": "execute_result"
    }
   ],
   "source": [
    "\"\"\" extraire le contenu des tags 'p' d'une simple page\"\"\""
   ]
  },
  {
   "cell_type": "code",
   "execution_count": 7,
   "metadata": {},
   "outputs": [],
   "source": [
    "from bs4 import BeautifulSoup\n",
    "\n",
    "soup = BeautifulSoup(page.content,'html.parser')"
   ]
  },
  {
   "cell_type": "code",
   "execution_count": 8,
   "metadata": {},
   "outputs": [
    {
     "data": {
      "text/plain": [
       "<!DOCTYPE html>\n",
       "\n",
       "<html>\n",
       "<head>\n",
       "<title>A simple example page</title>\n",
       "</head>\n",
       "<body>\n",
       "<p>Here is some simple content for this page.</p>\n",
       "</body>\n",
       "</html>"
      ]
     },
     "execution_count": 8,
     "metadata": {},
     "output_type": "execute_result"
    }
   ],
   "source": [
    "soup"
   ]
  },
  {
   "cell_type": "code",
   "execution_count": 11,
   "metadata": {},
   "outputs": [
    {
     "name": "stdout",
     "output_type": "stream",
     "text": [
      "<!DOCTYPE html>\n",
      "<html>\n",
      " <head>\n",
      "  <title>\n",
      "   A simple example page\n",
      "  </title>\n",
      " </head>\n",
      " <body>\n",
      "  <p>\n",
      "   Here is some simple content for this page.\n",
      "  </p>\n",
      " </body>\n",
      "</html>\n"
     ]
    }
   ],
   "source": [
    "\"\"\" Afficher l'objet BS tel qu'en code\"\"\"\n",
    "print(soup.prettify())"
   ]
  },
  {
   "cell_type": "code",
   "execution_count": 15,
   "metadata": {},
   "outputs": [
    {
     "data": {
      "text/plain": [
       "['html', '\\n', <html>\n",
       " <head>\n",
       " <title>A simple example page</title>\n",
       " </head>\n",
       " <body>\n",
       " <p>Here is some simple content for this page.</p>\n",
       " </body>\n",
       " </html>]"
      ]
     },
     "execution_count": 15,
     "metadata": {},
     "output_type": "execute_result"
    }
   ],
   "source": [
    "\"\"\" Afficher les children depuid <html> sous forme de liste\"\"\"\n",
    "list(soup.children)"
   ]
  },
  {
   "cell_type": "code",
   "execution_count": 16,
   "metadata": {},
   "outputs": [
    {
     "data": {
      "text/plain": [
       "[bs4.element.Doctype, bs4.element.NavigableString, bs4.element.Tag]"
      ]
     },
     "execution_count": 16,
     "metadata": {},
     "output_type": "execute_result"
    }
   ],
   "source": [
    "\"\"\" Définir le type de chaque élément dans la liste\"\"\"\n",
    "[type(item) for item in list(soup.children)]"
   ]
  },
  {
   "cell_type": "code",
   "execution_count": 19,
   "metadata": {},
   "outputs": [],
   "source": [
    "\"\"\" sélectionner  le 3eme elt d'une liste : à savoir l'élément tag\"\"\"\n",
    "html = list(soup.children)[2]"
   ]
  },
  {
   "cell_type": "code",
   "execution_count": 20,
   "metadata": {},
   "outputs": [
    {
     "name": "stdout",
     "output_type": "stream",
     "text": [
      "<html>\n",
      "<head>\n",
      "<title>A simple example page</title>\n",
      "</head>\n",
      "<body>\n",
      "<p>Here is some simple content for this page.</p>\n",
      "</body>\n",
      "</html>\n"
     ]
    }
   ],
   "source": [
    "print(html)"
   ]
  },
  {
   "cell_type": "code",
   "execution_count": 21,
   "metadata": {},
   "outputs": [
    {
     "data": {
      "text/plain": [
       "['\\n', <head>\n",
       " <title>A simple example page</title>\n",
       " </head>, '\\n', <body>\n",
       " <p>Here is some simple content for this page.</p>\n",
       " </body>, '\\n']"
      ]
     },
     "execution_count": 21,
     "metadata": {},
     "output_type": "execute_result"
    }
   ],
   "source": [
    "list(html.children)# on se retroue avec 2 tags : head, body"
   ]
  },
  {
   "cell_type": "code",
   "execution_count": 23,
   "metadata": {},
   "outputs": [],
   "source": [
    "\"\"\" on descend plus vers body \"\"\"\n",
    "body = list(html.children)[3]"
   ]
  },
  {
   "cell_type": "code",
   "execution_count": 24,
   "metadata": {},
   "outputs": [
    {
     "data": {
      "text/plain": [
       "<body>\n",
       "<p>Here is some simple content for this page.</p>\n",
       "</body>"
      ]
     },
     "execution_count": 24,
     "metadata": {},
     "output_type": "execute_result"
    }
   ],
   "source": [
    "body"
   ]
  },
  {
   "cell_type": "code",
   "execution_count": 25,
   "metadata": {},
   "outputs": [
    {
     "data": {
      "text/plain": [
       "['\\n', <p>Here is some simple content for this page.</p>, '\\n']"
      ]
     },
     "execution_count": 25,
     "metadata": {},
     "output_type": "execute_result"
    }
   ],
   "source": [
    "list(body.children)"
   ]
  },
  {
   "cell_type": "code",
   "execution_count": 26,
   "metadata": {},
   "outputs": [],
   "source": [
    "p = list(body.children)[1]"
   ]
  },
  {
   "cell_type": "code",
   "execution_count": 27,
   "metadata": {},
   "outputs": [
    {
     "data": {
      "text/plain": [
       "<p>Here is some simple content for this page.</p>"
      ]
     },
     "execution_count": 27,
     "metadata": {},
     "output_type": "execute_result"
    }
   ],
   "source": [
    "p"
   ]
  },
  {
   "cell_type": "code",
   "execution_count": 29,
   "metadata": {},
   "outputs": [
    {
     "name": "stdout",
     "output_type": "stream",
     "text": [
      "Here is some simple content for this page.\n"
     ]
    }
   ],
   "source": [
    "\"\"\" Extraire uniquement le texte\"\"\"\n",
    "print(p.get_text())"
   ]
  },
  {
   "cell_type": "markdown",
   "metadata": {},
   "source": [
    "### Trouver toutes les instances d'un Tag d'un coup"
   ]
  },
  {
   "cell_type": "code",
   "execution_count": 31,
   "metadata": {},
   "outputs": [
    {
     "data": {
      "text/plain": [
       "[<p>Here is some simple content for this page.</p>]"
      ]
     },
     "execution_count": 31,
     "metadata": {},
     "output_type": "execute_result"
    }
   ],
   "source": [
    "soup = BeautifulSoup(page.content,'html.parser')\n",
    "soup.find_all('p')"
   ]
  },
  {
   "cell_type": "code",
   "execution_count": 33,
   "metadata": {},
   "outputs": [
    {
     "data": {
      "text/plain": [
       "'Here is some simple content for this page.'"
      ]
     },
     "execution_count": 33,
     "metadata": {},
     "output_type": "execute_result"
    }
   ],
   "source": [
    "\"\"\" Renvoie une liste, donc il faudra la parcourir pour récupérer les éléments\"\"\"\n",
    "soup.find_all('p')[0].get_text()"
   ]
  },
  {
   "cell_type": "markdown",
   "metadata": {},
   "source": [
    "### La première instance d'un tag"
   ]
  },
  {
   "cell_type": "code",
   "execution_count": 35,
   "metadata": {},
   "outputs": [
    {
     "data": {
      "text/plain": [
       "<p>Here is some simple content for this page.</p>"
      ]
     },
     "execution_count": 35,
     "metadata": {},
     "output_type": "execute_result"
    }
   ],
   "source": [
    "soup.find('p')"
   ]
  },
  {
   "cell_type": "markdown",
   "metadata": {},
   "source": [
    "### Chercher des tags par 'class' et 'id'"
   ]
  },
  {
   "cell_type": "code",
   "execution_count": 37,
   "metadata": {},
   "outputs": [
    {
     "name": "stdout",
     "output_type": "stream",
     "text": [
      "<html>\n",
      " <head>\n",
      "  <title>\n",
      "   A simple example page\n",
      "  </title>\n",
      " </head>\n",
      " <body>\n",
      "  <div>\n",
      "   <p class=\"inner-text first-item\" id=\"first\">\n",
      "    First paragraph.\n",
      "   </p>\n",
      "   <p class=\"inner-text\">\n",
      "    Second paragraph.\n",
      "   </p>\n",
      "  </div>\n",
      "  <p class=\"outer-text first-item\" id=\"second\">\n",
      "   <b>\n",
      "    First outer paragraph.\n",
      "   </b>\n",
      "  </p>\n",
      "  <p class=\"outer-text\">\n",
      "   <b>\n",
      "    Second outer paragraph.\n",
      "   </b>\n",
      "  </p>\n",
      " </body>\n",
      "</html>\n"
     ]
    }
   ],
   "source": [
    "page = requests.get(\"http://dataquestio.github.io/web-scraping-pages/ids_and_classes.html\")\n",
    "soup = BeautifulSoup(page.content,'html.parser')\n",
    "print(soup.prettify())"
   ]
  },
  {
   "cell_type": "code",
   "execution_count": 38,
   "metadata": {},
   "outputs": [
    {
     "data": {
      "text/plain": [
       "\" Chercher les 'p' avec des 'class' : outer-text \""
      ]
     },
     "execution_count": 38,
     "metadata": {},
     "output_type": "execute_result"
    }
   ],
   "source": [
    "\"\"\" Chercher les 'p' avec des 'class' : outer-text \"\"\""
   ]
  },
  {
   "cell_type": "code",
   "execution_count": 39,
   "metadata": {},
   "outputs": [
    {
     "data": {
      "text/plain": [
       "[<p class=\"outer-text first-item\" id=\"second\">\n",
       " <b>\n",
       "                 First outer paragraph.\n",
       "             </b>\n",
       " </p>, <p class=\"outer-text\">\n",
       " <b>\n",
       "                 Second outer paragraph.\n",
       "             </b>\n",
       " </p>]"
      ]
     },
     "execution_count": 39,
     "metadata": {},
     "output_type": "execute_result"
    }
   ],
   "source": [
    "soup.find_all('p',class_='outer-text')"
   ]
  },
  {
   "cell_type": "code",
   "execution_count": 41,
   "metadata": {},
   "outputs": [
    {
     "data": {
      "text/plain": [
       "[<p class=\"outer-text first-item\" id=\"second\">\n",
       " <b>\n",
       "                 First outer paragraph.\n",
       "             </b>\n",
       " </p>, <p class=\"outer-text\">\n",
       " <b>\n",
       "                 Second outer paragraph.\n",
       "             </b>\n",
       " </p>]"
      ]
     },
     "execution_count": 41,
     "metadata": {},
     "output_type": "execute_result"
    }
   ],
   "source": [
    "\"\"\" Renvoyer n'importe quel tag avec la class : outer-text\"\"\"\n",
    "soup.find_all(class_='outer-text')"
   ]
  },
  {
   "cell_type": "code",
   "execution_count": 42,
   "metadata": {},
   "outputs": [
    {
     "data": {
      "text/plain": [
       "[<p class=\"inner-text first-item\" id=\"first\">\n",
       "                 First paragraph.\n",
       "             </p>]"
      ]
     },
     "execution_count": 42,
     "metadata": {},
     "output_type": "execute_result"
    }
   ],
   "source": [
    "\"\"\" Chercher les éléments par 'id' \"\"\"\n",
    "soup.find_all(id=\"first\")"
   ]
  },
  {
   "cell_type": "markdown",
   "metadata": {},
   "source": [
    "### Utiliser les CSS Selectors\n",
    "\n",
    "Il est possible de faire de s recherches de CSS en utilisant '.select()'"
   ]
  },
  {
   "cell_type": "code",
   "execution_count": 43,
   "metadata": {},
   "outputs": [
    {
     "data": {
      "text/plain": [
       "[<p class=\"inner-text first-item\" id=\"first\">\n",
       "                 First paragraph.\n",
       "             </p>, <p class=\"inner-text\">\n",
       "                 Second paragraph.\n",
       "             </p>]"
      ]
     },
     "execution_count": 43,
     "metadata": {},
     "output_type": "execute_result"
    }
   ],
   "source": [
    "soup.select('div p')#renvoie les 'p' dans 'body'"
   ]
  },
  {
   "cell_type": "code",
   "execution_count": 44,
   "metadata": {},
   "outputs": [
    {
     "data": {
      "text/plain": [
       "[<p class=\"inner-text first-item\" id=\"first\">\n",
       "                 First paragraph.\n",
       "             </p>]"
      ]
     },
     "execution_count": 44,
     "metadata": {},
     "output_type": "execute_result"
    }
   ],
   "source": [
    "soup.select('p#first')"
   ]
  },
  {
   "cell_type": "markdown",
   "metadata": {},
   "source": [
    "# ------------------------------------------------------------------- "
   ]
  },
  {
   "cell_type": "markdown",
   "metadata": {},
   "source": [
    "### Télécharger les données Weather\n",
    "Scraper les données sur la météo de San Francisco"
   ]
  },
  {
   "cell_type": "code",
   "execution_count": 53,
   "metadata": {},
   "outputs": [
    {
     "data": {
      "text/plain": [
       "<Response [200]>"
      ]
     },
     "execution_count": 53,
     "metadata": {},
     "output_type": "execute_result"
    }
   ],
   "source": [
    "page = requests.get('https://forecast.weather.gov/MapClick.php?lat=37.7772&lon=-122.4168#.WwqS2yDA9pg')\n",
    "page"
   ]
  },
  {
   "cell_type": "code",
   "execution_count": 54,
   "metadata": {},
   "outputs": [],
   "source": [
    "soup = BeautifulSoup(page.content,'html.parser')"
   ]
  },
  {
   "cell_type": "code",
   "execution_count": 55,
   "metadata": {},
   "outputs": [],
   "source": [
    "seven_day = soup.find('div',id='seven-day-forecast')"
   ]
  },
  {
   "cell_type": "code",
   "execution_count": 57,
   "metadata": {},
   "outputs": [
    {
     "name": "stdout",
     "output_type": "stream",
     "text": [
      "<div class=\"panel panel-default\" id=\"seven-day-forecast\">\n",
      " <div class=\"panel-heading\">\n",
      "  <b>\n",
      "   Extended Forecast for\n",
      "  </b>\n",
      "  <h2 class=\"panel-title\">\n",
      "   San Francisco CA\n",
      "  </h2>\n",
      " </div>\n",
      " <div class=\"panel-body\" id=\"seven-day-forecast-body\">\n",
      "  <div id=\"seven-day-forecast-container\">\n",
      "   <ul class=\"list-unstyled\" id=\"seven-day-forecast-list\">\n",
      "    <li class=\"forecast-tombstone\">\n",
      "     <div class=\"tombstone-container\">\n",
      "      <p class=\"period-name\">\n",
      "       Today\n",
      "       <br/>\n",
      "       <br/>\n",
      "      </p>\n",
      "      <p>\n",
      "       <img alt=\"Today: Sunny, with a high near 70. West southwest wind 5 to 10 mph increasing to 16 to 21 mph in the afternoon. Winds could gust as high as 28 mph. \" class=\"forecast-icon\" src=\"newimages/medium/few.png\" title=\"Today: Sunny, with a high near 70. West southwest wind 5 to 10 mph increasing to 16 to 21 mph in the afternoon. Winds could gust as high as 28 mph. \"/>\n",
      "      </p>\n",
      "      <p class=\"short-desc\">\n",
      "       Sunny\n",
      "      </p>\n",
      "      <p class=\"temp temp-high\">\n",
      "       High: 70 °F\n",
      "      </p>\n",
      "     </div>\n",
      "    </li>\n",
      "    <li class=\"forecast-tombstone\">\n",
      "     <div class=\"tombstone-container\">\n",
      "      <p class=\"period-name\">\n",
      "       Tonight\n",
      "       <br/>\n",
      "       <br/>\n",
      "      </p>\n",
      "      <p>\n",
      "       <img alt=\"Tonight: Mostly clear, with a low around 54. West southwest wind 16 to 21 mph decreasing to 5 to 10 mph after midnight. Winds could gust as high as 28 mph. \" class=\"forecast-icon\" src=\"newimages/medium/nfew.png\" title=\"Tonight: Mostly clear, with a low around 54. West southwest wind 16 to 21 mph decreasing to 5 to 10 mph after midnight. Winds could gust as high as 28 mph. \"/>\n",
      "      </p>\n",
      "      <p class=\"short-desc\">\n",
      "       Mostly Clear\n",
      "      </p>\n",
      "      <p class=\"temp temp-low\">\n",
      "       Low: 54 °F\n",
      "      </p>\n",
      "     </div>\n",
      "    </li>\n",
      "    <li class=\"forecast-tombstone\">\n",
      "     <div class=\"tombstone-container\">\n",
      "      <p class=\"period-name\">\n",
      "       Memorial\n",
      "       <br/>\n",
      "       Day\n",
      "      </p>\n",
      "      <p>\n",
      "       <img alt=\"Memorial Day: Sunny, with a high near 75. Light west wind increasing to 16 to 21 mph in the afternoon. Winds could gust as high as 28 mph. \" class=\"forecast-icon\" src=\"newimages/medium/few.png\" title=\"Memorial Day: Sunny, with a high near 75. Light west wind increasing to 16 to 21 mph in the afternoon. Winds could gust as high as 28 mph. \"/>\n",
      "      </p>\n",
      "      <p class=\"short-desc\">\n",
      "       Sunny\n",
      "      </p>\n",
      "      <p class=\"temp temp-high\">\n",
      "       High: 75 °F\n",
      "      </p>\n",
      "     </div>\n",
      "    </li>\n",
      "    <li class=\"forecast-tombstone\">\n",
      "     <div class=\"tombstone-container\">\n",
      "      <p class=\"period-name\">\n",
      "       Monday\n",
      "       <br/>\n",
      "       Night\n",
      "      </p>\n",
      "      <p>\n",
      "       <img alt=\"Monday Night: Mostly clear, with a low around 55. West southwest wind 16 to 21 mph decreasing to 9 to 14 mph in the evening. Winds could gust as high as 26 mph. \" class=\"forecast-icon\" src=\"newimages/medium/nfew.png\" title=\"Monday Night: Mostly clear, with a low around 55. West southwest wind 16 to 21 mph decreasing to 9 to 14 mph in the evening. Winds could gust as high as 26 mph. \"/>\n",
      "      </p>\n",
      "      <p class=\"short-desc\">\n",
      "       Mostly Clear\n",
      "      </p>\n",
      "      <p class=\"temp temp-low\">\n",
      "       Low: 55 °F\n",
      "      </p>\n",
      "     </div>\n",
      "    </li>\n",
      "    <li class=\"forecast-tombstone\">\n",
      "     <div class=\"tombstone-container\">\n",
      "      <p class=\"period-name\">\n",
      "       Tuesday\n",
      "       <br/>\n",
      "       <br/>\n",
      "      </p>\n",
      "      <p>\n",
      "       <img alt=\"Tuesday: Sunny, with a high near 68. West southwest wind 9 to 14 mph increasing to 16 to 21 mph in the morning. Winds could gust as high as 26 mph. \" class=\"forecast-icon\" src=\"newimages/medium/few.png\" title=\"Tuesday: Sunny, with a high near 68. West southwest wind 9 to 14 mph increasing to 16 to 21 mph in the morning. Winds could gust as high as 26 mph. \"/>\n",
      "      </p>\n",
      "      <p class=\"short-desc\">\n",
      "       Sunny\n",
      "      </p>\n",
      "      <p class=\"temp temp-high\">\n",
      "       High: 68 °F\n",
      "      </p>\n",
      "     </div>\n",
      "    </li>\n",
      "    <li class=\"forecast-tombstone\">\n",
      "     <div class=\"tombstone-container\">\n",
      "      <p class=\"period-name\">\n",
      "       Tuesday\n",
      "       <br/>\n",
      "       Night\n",
      "      </p>\n",
      "      <p>\n",
      "       <img alt=\"Tuesday Night: Patchy fog after 11pm.  Otherwise, mostly cloudy, with a low around 54.\" class=\"forecast-icon\" src=\"newimages/medium/nfg.png\" title=\"Tuesday Night: Patchy fog after 11pm.  Otherwise, mostly cloudy, with a low around 54.\"/>\n",
      "      </p>\n",
      "      <p class=\"short-desc\">\n",
      "       Patchy Fog\n",
      "      </p>\n",
      "      <p class=\"temp temp-low\">\n",
      "       Low: 54 °F\n",
      "      </p>\n",
      "     </div>\n",
      "    </li>\n",
      "    <li class=\"forecast-tombstone\">\n",
      "     <div class=\"tombstone-container\">\n",
      "      <p class=\"period-name\">\n",
      "       Wednesday\n",
      "       <br/>\n",
      "       <br/>\n",
      "      </p>\n",
      "      <p>\n",
      "       <img alt=\"Wednesday: Patchy fog before 11am.  Otherwise, mostly sunny, with a high near 63.\" class=\"forecast-icon\" src=\"DualImage.php?i=fg&amp;j=few\" title=\"Wednesday: Patchy fog before 11am.  Otherwise, mostly sunny, with a high near 63.\"/>\n",
      "      </p>\n",
      "      <p class=\"short-desc\">\n",
      "       Patchy Fog\n",
      "       <br/>\n",
      "       then Sunny\n",
      "      </p>\n",
      "      <p class=\"temp temp-high\">\n",
      "       High: 63 °F\n",
      "      </p>\n",
      "     </div>\n",
      "    </li>\n",
      "    <li class=\"forecast-tombstone\">\n",
      "     <div class=\"tombstone-container\">\n",
      "      <p class=\"period-name\">\n",
      "       Wednesday\n",
      "       <br/>\n",
      "       Night\n",
      "      </p>\n",
      "      <p>\n",
      "       <img alt=\"Wednesday Night: Partly cloudy, with a low around 53.\" class=\"forecast-icon\" src=\"newimages/medium/nsct.png\" title=\"Wednesday Night: Partly cloudy, with a low around 53.\"/>\n",
      "      </p>\n",
      "      <p class=\"short-desc\">\n",
      "       Partly Cloudy\n",
      "      </p>\n",
      "      <p class=\"temp temp-low\">\n",
      "       Low: 53 °F\n",
      "      </p>\n",
      "     </div>\n",
      "    </li>\n",
      "    <li class=\"forecast-tombstone\">\n",
      "     <div class=\"tombstone-container\">\n",
      "      <p class=\"period-name\">\n",
      "       Thursday\n",
      "       <br/>\n",
      "       <br/>\n",
      "      </p>\n",
      "      <p>\n",
      "       <img alt=\"Thursday: Mostly sunny, with a high near 63.\" class=\"forecast-icon\" src=\"newimages/medium/sct.png\" title=\"Thursday: Mostly sunny, with a high near 63.\"/>\n",
      "      </p>\n",
      "      <p class=\"short-desc\">\n",
      "       Mostly Sunny\n",
      "      </p>\n",
      "      <p class=\"temp temp-high\">\n",
      "       High: 63 °F\n",
      "      </p>\n",
      "     </div>\n",
      "    </li>\n",
      "   </ul>\n",
      "  </div>\n",
      "  <script type=\"text/javascript\">\n",
      "   // equalize forecast heights\n",
      "$(function () {\n",
      "\tvar maxh = 0;\n",
      "\t$(\".forecast-tombstone .short-desc\").each(function () {\n",
      "\t\tvar h = $(this).height();\n",
      "\t\tif (h > maxh) { maxh = h; }\n",
      "\t});\n",
      "\t$(\".forecast-tombstone .short-desc\").height(maxh);\n",
      "});\n",
      "  </script>\n",
      " </div>\n",
      "</div>\n",
      "\n"
     ]
    }
   ],
   "source": [
    "print(seven_day.prettify())"
   ]
  },
  {
   "cell_type": "code",
   "execution_count": 51,
   "metadata": {},
   "outputs": [
    {
     "data": {
      "text/plain": [
       "b'<!DOCTYPE html>\\n<html>\\n<head>\\n\\n    <meta charset=\"utf-8\" />\\n    <meta http-equiv=\"X-UA-Compatible\" content=\"IE=edge\" />\\n\\n    <title>Python Web Scraping Tutorial using BeautifulSoup</title>\\n    <meta name=\"HandheldFriendly\" content=\"True\" />\\n    <meta name=\"viewport\" content=\"width=device-width, initial-scale=1.0\" />\\n\\n    <link href=\"https://cdnjs.cloudflare.com/ajax/libs/prism/1.8.4/themes/prism.min.css\" rel=\"stylesheet\" />\\n    <link rel=\"stylesheet\" type=\"text/css\" href=\"/blog/assets/built/screen.css?v=a0706482e9\" />\\n    <link rel=\"stylesheet\" type=\"text/css\" href=\"/blog/assets/built/custom.css?v=a0706482e9\" />\\n\\n    <meta name=\"description\" content=\"Web scraping allows us to extract information from web pages.  In this tutorial, youll learn how to perform web scraping with Python.\" />\\n    <link rel=\"shortcut icon\" href=\"/blog/favicon.png\" type=\"image/png\" />\\n    <link rel=\"canonical\" href=\"https://www.dataquest.io/blog/web-scraping-tutorial-python/\" />\\n    <meta name=\"referrer\" content=\"no-referrer-when-downgrade\" />\\n    \\n    <meta property=\"og:site_name\" content=\"Dataquest\" />\\n    <meta property=\"og:type\" content=\"article\" />\\n    <meta property=\"og:title\" content=\"Python Web Scraping Tutorial using BeautifulSoup\" />\\n    <meta property=\"og:description\" content=\"Web scraping allows us to extract information from web pages.  In this tutorial, you&#x27;ll learn how to perform web scraping with Python.\" />\\n    <meta property=\"og:url\" content=\"https://www.dataquest.io/blog/web-scraping-tutorial-python/\" />\\n    <meta property=\"og:image\" content=\"https://www.dataquest.io/blog/content/images/2017/11/web_scraping.jpg\" />\\n    <meta property=\"article:published_time\" content=\"2016-11-17T00:00:00.000Z\" />\\n    <meta property=\"article:modified_time\" content=\"2017-12-15T01:42:30.000Z\" />\\n    <meta property=\"article:tag\" content=\"Python\" />\\n    <meta property=\"article:tag\" content=\"Pandas\" />\\n    <meta property=\"article:tag\" content=\"Beautiful Soup\" />\\n    <meta property=\"article:tag\" content=\"Tutorials\" />\\n    \\n    <meta property=\"article:publisher\" content=\"https://www.facebook.com/dataquestio/\" />\\n    <meta name=\"twitter:card\" content=\"summary\" />\\n    <meta name=\"twitter:title\" content=\"Python Web Scraping Tutorial\" />\\n    <meta name=\"twitter:description\" content=\"You&#x27;ll learn how to perform web scraping with #Python and #beautifulsoup, and analyze the data with #pandas.\" />\\n    <meta name=\"twitter:url\" content=\"https://www.dataquest.io/blog/web-scraping-tutorial-python/\" />\\n    <meta name=\"twitter:image\" content=\"https://www.dataquest.io/blog/content/images/2017/11/web_scraping-1.jpg\" />\\n    <meta name=\"twitter:label1\" content=\"Written by\" />\\n    <meta name=\"twitter:data1\" content=\"Vik Paruchuri\" />\\n    <meta name=\"twitter:label2\" content=\"Filed under\" />\\n    <meta name=\"twitter:data2\" content=\"Python, Pandas, Beautiful Soup, Tutorials\" />\\n    <meta name=\"twitter:site\" content=\"@dataquestio\" />\\n    <meta property=\"og:image:width\" content=\"2048\" />\\n    <meta property=\"og:image:height\" content=\"1021\" />\\n    \\n    <script type=\"application/ld+json\">\\n{\\n    \"@context\": \"https://schema.org\",\\n    \"@type\": \"Article\",\\n    \"publisher\": {\\n        \"@type\": \"Organization\",\\n        \"name\": \"Dataquest\",\\n        \"logo\": \"https://www.dataquest.io/blog/content/images/2017/12/Logo-On-Dark--2-.png\"\\n    },\\n    \"author\": {\\n        \"@type\": \"Person\",\\n        \"name\": \"Vik Paruchuri\",\\n        \"url\": \"https://www.dataquest.io/blog/author/vik/\",\\n        \"sameAs\": []\\n    },\\n    \"headline\": \"Python Web Scraping Tutorial using BeautifulSoup\",\\n    \"url\": \"https://www.dataquest.io/blog/web-scraping-tutorial-python/\",\\n    \"datePublished\": \"2016-11-17T00:00:00.000Z\",\\n    \"dateModified\": \"2017-12-15T01:42:30.000Z\",\\n    \"keywords\": \"Python, Pandas, Beautiful Soup, Tutorials\",\\n    \"description\": \"Web scraping allows us to extract information from web pages.  In this tutorial, you&#x27;ll learn how to perform web scraping with Python.\",\\n    \"mainEntityOfPage\": {\\n        \"@type\": \"WebPage\",\\n        \"@id\": \"https://www.dataquest.io/blog/\"\\n    }\\n}\\n    </script>\\n\\n    <script src=\"/blog/public/ghost-sdk.min.js?v=a0706482e9\"></script>\\n<script>\\nghost.init({\\n\\tclientId: \"ghost-frontend\",\\n\\tclientSecret: \"2e84fde6d9c4\"\\n});\\n</script>\\n    <meta name=\"generator\" content=\"Ghost 1.23\" />\\n    <link rel=\"alternate\" type=\"application/rss+xml\" title=\"Dataquest\" href=\"https://www.dataquest.io/blog/rss/\" />\\n    <meta property=\"fb:pages\" content=\"937097596357357\" />\\n\\n</head>\\n<body class=\"post-template tag-python tag-pandas tag-beautifulsoup tag-tutorials\">\\n\\n    <div class=\"site-wrapper\">\\n\\n        \\n\\n<header class=\"site-header outer\">\\n    <div class=\"inner\">\\n        <nav class=\"site-nav\">\\n    <div class=\"site-nav-left\">\\n                <a class=\"site-nav-logo\" href=\"https://www.dataquest.io/blog\"><img src=\"/blog/content/images/2017/12/Logo-On-Dark--2-.png\" alt=\"Dataquest\" /></a>\\n            <ul class=\"nav\" role=\"menu\">\\n    <li class=\"nav-blog\" role=\"menuitem\"><a href=\"https://www.dataquest.io/blog/\">Blog</a></li>\\n</ul>\\n\\n    </div>\\n    <div class=\"site-nav-right\">\\n        <div class=\"social-links\">\\n                <a class=\"social-link social-link-fb\" href=\"https://www.facebook.com/dataquestio/\" target=\"_blank\" rel=\"noopener\"><svg xmlns=\"http://www.w3.org/2000/svg\" viewBox=\"0 0 32 32\"><path d=\"M19 6h5V0h-5c-3.86 0-7 3.14-7 7v3H8v6h4v16h6V16h5l1-6h-6V7c0-.542.458-1 1-1z\"/></svg>\\n</a>\\n                <a class=\"social-link social-link-tw\" href=\"https://twitter.com/dataquestio\" target=\"_blank\" rel=\"noopener\"><svg xmlns=\"http://www.w3.org/2000/svg\" viewBox=\"0 0 32 32\"><path d=\"M30.063 7.313c-.813 1.125-1.75 2.125-2.875 2.938v.75c0 1.563-.188 3.125-.688 4.625a15.088 15.088 0 0 1-2.063 4.438c-.875 1.438-2 2.688-3.25 3.813a15.015 15.015 0 0 1-4.625 2.563c-1.813.688-3.75 1-5.75 1-3.25 0-6.188-.875-8.875-2.625.438.063.875.125 1.375.125 2.688 0 5.063-.875 7.188-2.5-1.25 0-2.375-.375-3.375-1.125s-1.688-1.688-2.063-2.875c.438.063.813.125 1.125.125.5 0 1-.063 1.5-.25-1.313-.25-2.438-.938-3.313-1.938a5.673 5.673 0 0 1-1.313-3.688v-.063c.813.438 1.688.688 2.625.688a5.228 5.228 0 0 1-1.875-2c-.5-.875-.688-1.813-.688-2.75 0-1.063.25-2.063.75-2.938 1.438 1.75 3.188 3.188 5.25 4.25s4.313 1.688 6.688 1.813a5.579 5.579 0 0 1 1.5-5.438c1.125-1.125 2.5-1.688 4.125-1.688s3.063.625 4.188 1.813a11.48 11.48 0 0 0 3.688-1.375c-.438 1.375-1.313 2.438-2.563 3.188 1.125-.125 2.188-.438 3.313-.875z\"/></svg>\\n</a>\\n        </div>\\n            <a class=\"rss-button\" href=\"http://cloud.feedly.com/#subscription/feed/https://www.dataquest.io/blog/rss/\" target=\"_blank\" rel=\"noopener\"><svg xmlns=\"http://www.w3.org/2000/svg\" viewBox=\"0 0 24 24\"><circle cx=\"6.18\" cy=\"17.82\" r=\"2.18\"/><path d=\"M4 4.44v2.83c7.03 0 12.73 5.7 12.73 12.73h2.83c0-8.59-6.97-15.56-15.56-15.56zm0 5.66v2.83c3.9 0 7.07 3.17 7.07 7.07h2.83c0-5.47-4.43-9.9-9.9-9.9z\"/></svg>\\n</a>\\n    </div>\\n</nav>\\n        <div class=\"header-search-wrapper\">\\n            <form>\\n                <input class=\"header-search-input\" id=\"searchField\" autocomplete=\"off\" />\\n                <button class=\"header-search-submit\" type=\"submit\"><i class=\"fas fa-search\"></i></button>\\n                <div style=\"clear:both\"></div>\\n            </form>\\n            <div class=\"header-search-results-wrapper empty\">\\n                <div class=\"search-no-results\">No results.</div>\\n                <div id=\"dropdownResults\" class=\"header-search-results\">\\n                </div>\\n                <a href=\"/search\" class=\"header-view-all\">View All</a>\\n            </div>\\n        </div>\\n    </div>\\n</header>\\n\\n\\n<main id=\"site-main\" class=\"site-main outer\" role=\"main\">\\n    <div class=\"inner\">\\n\\n        <article class=\"post-full post tag-python tag-pandas tag-beautifulsoup tag-tutorials no-image\">\\n\\n            <header class=\"post-full-header\">\\n                <section class=\"post-full-meta\">\\n                    <time class=\"post-full-meta-date\" datetime=\"2016-11-17\">17 November 2016</time>\\n                        <span class=\"date-divider\">/</span> <a href=\"/blog/tag/python/\">Python</a>\\n                </section>\\n                <h1 class=\"post-full-title\">Python Web Scraping Tutorial using BeautifulSoup</h1>\\n            </header>\\n\\n\\n            <section class=\"post-full-content\">\\n                <div class=\"kg-card-markdown\"><p>When performing data science tasks, it\\'s common to want to use data found on the internet.  You\\'ll usually be able to access this data in <em>csv</em> format, or via an <a href=\"https://en.wikipedia.org/wiki/Application_programming_interface\">Application Programming Interface</a> (API).  However, there are times when the data you want can only be accessed as part of a web page.  In cases like this, you\\'ll want to use a technique called web scraping to get the data from the web page into a format you can work with in your analysis.</p>\\n<p>In this tutorial, we\\'ll show you how to perform web scraping using <a href=\"https://www.python.org/downloads/release/python-350/\">Python 3</a> and the <a href=\"https://www.crummy.com/software/BeautifulSoup/\">BeautifulSoup</a> library.  We\\'ll be scraping weather forecasts from the <a href=\"http://www.weather.gov/\">National Weather Service</a>, and then analyzing them using the <a href=\"http://pandas.pydata.org/\">Pandas</a> library.</p>\\n<img class=\"full-width\" src=\"/blog/content/images/nws.png\">\\n<p class=\"small text-center\">We\\'ll be scraping weather forecasts from the National Weather Service site.</p>\\n<p>Before we get started, if you\\'re looking for more background on APIs or the <em>csv</em> format, you might want to check out our Dataquest courses on <a href=\"https://www.dataquest.io/course/apis-and-scraping\">APIs</a> or <a href=\"https://www.dataquest.io/course/data-analysis-intermediate\">data analysis</a>.</p>\\n<h2 id=\"thecomponentsofawebpage\">The components of a web page</h2>\\n<p>When we visit a web page, our web browser makes a request to a web server.  This request is called a <code>GET</code> request, since we\\'re getting files from the server.  The server then sends back files that tell our browser how to render the page for us.  The files fall into a few main types:</p>\\n<ul>\\n<li><a href=\"https://www.w3.org/TR/html/\">HTML</a> \\xe2\\x80\\x94 contain the main content of the page.</li>\\n<li><a href=\"https://developer.mozilla.org/en-US/docs/Web/CSS\">CSS</a> \\xe2\\x80\\x94 add styling to make the page look nicer.</li>\\n<li><a href=\"https://developer.mozilla.org/en-US/docs/Web/JavaScript\">JS</a> \\xe2\\x80\\x94 Javascript files add interactivity to web pages.</li>\\n<li>Images \\xe2\\x80\\x94 image formats, such as <a href=\"https://en.wikipedia.org/wiki/JPEG\">JPG</a> and <a href=\"https://en.wikipedia.org/wiki/Portable_Network_Graphics\">PNG</a> allow web pages to show pictures.</li>\\n</ul>\\n<p>After our browser receives all the files, it renders the page and displays it to us.  There\\'s a lot that happens behind the scenes to render a page nicely, but we don\\'t need to worry about most of it when we\\'re web scraping.  When we perform web scraping, we\\'re interested in the main content of the web page, so we look at the HTML.</p>\\n<h2 id=\"html\">HTML</h2>\\n<p><a href=\"https://en.wikipedia.org/wiki/HTML\">HyperText Markup Language</a> (HTML) is a language that web pages are created in.  HTML isn\\'t a programming language, like Python \\xe2\\x80\\x94 instead, it\\'s a markup language that tells a browser how to layout content.  HTML allows you to do similar things to what you do in a word processor like Microsoft Word \\xe2\\x80\\x94 make text bold, create paragraphs, and so on.  Because HTML isn\\'t a programming language, it isn\\'t nearly as complex as Python.</p>\\n<p>Let\\'s take a quick tour through HTML so we know enough to scrape effectively.  HTML consists of elements called tags.  The most basic tag is the <code>&lt;html&gt;</code> tag.  This tag tells the web browser that everything inside of it is HTML.  We can make a simple HTML document just using this tag:</p>\\n<pre><code>&lt;html&gt;\\n&lt;/html&gt;\\n</code></pre>\\n<p>We haven\\'t added any content to our page yet, so if we viewed our HTML document in a web browser, we wouldn\\'t see anything:</p>\\n<div style=\"border: 1px solid black;min-height: 25px;padding: 10px;margin-bottom:15px;margin-top:15px;\">\\n</div>\\n<p>Right inside an <code>html</code> tag, we put two other tags, the <code>head</code> tag, and the <code>body</code> tag.  The main content of the web page goes into the <code>body</code> tag.  The <code>head</code> tag contains data about the title of the page, and other information that generally isn\\'t useful in web scraping:</p>\\n<pre><code>&lt;html&gt;\\n    &lt;head&gt;\\n    &lt;/head&gt;\\n    &lt;body&gt;\\n    &lt;/body&gt;\\n&lt;/html&gt;\\n</code></pre>\\n<p>We still haven\\'t added any content to our page (that goes inside the <code>body</code> tag), so we again won\\'t see anything:</p>\\n<div style=\"border: 1px solid black;min-height: 25px;padding: 10px;margin-bottom:15px;margin-top:15px;\">\\n</div>\\n<p>You may have noticed above that we put the <code>head</code> and <code>body</code> tags inside the <code>html</code> tag.  In HTML, tags are nested, and can go inside other tags.</p>\\n<p>We\\'ll now add our first content to the page, in the form of the <code>p</code> tag.  The <code>p</code> tag defines a paragraph, and any text inside the tag is shown as a separate paragraph:</p>\\n<pre><code>&lt;html&gt;\\n    &lt;head&gt;\\n    &lt;/head&gt;\\n    &lt;body&gt;\\n        &lt;p&gt;\\n            Here\\'s a paragraph of text!\\n        &lt;/p&gt;\\n        &lt;p&gt;\\n            Here\\'s a second paragraph of text!\\n        &lt;/p&gt;\\n    &lt;/body&gt;\\n&lt;/html&gt;\\n</code></pre>\\n<p>Here\\'s how this will look:</p>\\n<div style=\"border: 1px solid black;min-height: 25px;padding: 10px;margin-bottom:15px;margin-top:15px;\">\\n    <p>\\n        Here\\'s a paragraph of text!\\n    </p>\\n    <p>\\n        Here\\'s a second paragraph of text!\\n    </p>\\n</div>\\n<p>Tags have commonly used names that depend on their position in relation to other tags:</p>\\n<ul>\\n<li><code>child</code> \\xe2\\x80\\x94 a child is a tag inside another tag.  So the two <code>p</code> tags above are both children of the <code>body</code> tag.</li>\\n<li><code>parent</code> \\xe2\\x80\\x94 a parent is the tag another tag is inside.  Above, the <code>html</code> tag is the parent of the <code>body</code> tag.</li>\\n<li><code>sibiling</code> \\xe2\\x80\\x94 a sibiling is a tag that is nested inside the same parent as another tag.  For example, <code>head</code> and <code>body</code> are siblings, since they\\'re both inside <code>html</code>.  Both <code>p</code> tags are siblings, since they\\'re both inside <code>body</code>.</li>\\n</ul>\\n<p>We can also add properties to HTML tags that change their behavior:</p>\\n<pre><code>&lt;html&gt;\\n    &lt;head&gt;\\n    &lt;/head&gt;\\n    &lt;body&gt;\\n        &lt;p&gt;\\n            Here\\'s a paragraph of text!\\n            &lt;a href=&quot;https://www.dataquest.io&quot;&gt;Learn Data Science Online&lt;/a&gt;\\n        &lt;/p&gt;\\n        &lt;p&gt;\\n            Here\\'s a second paragraph of text!\\n            &lt;a href=&quot;https://www.python.org&quot;&gt;Python&lt;/a&gt;\\n        &lt;/p&gt;\\n    &lt;/body&gt;\\n&lt;/html&gt;\\n</code></pre>\\n<p>Here\\'s how this will look:</p>\\n<div style=\"border: 1px solid black;min-height: 25px;padding: 10px;margin-bottom:15px;margin-top:15px;\">\\n    <p>\\n        Here\\'s a paragraph of text!\\n        <a href=\"https://www.dataquest.io\">Learn Data Science Online</a>\\n    </p>\\n    <p>\\n        Here\\'s a second paragraph of text!\\n        <a href=\"https://www.python.org\">Python</a>\\n    </p>\\n</div>\\n<p>In the above example, we added two <code>a</code> tags.  <code>a</code> tags are links, and tell the browser to render a link to another web page.  The <code>href</code> property of the tag determines where the link goes.</p>\\n<p><code>a</code> and <code>p</code> are extremely common html tags.  Here are a few others:</p>\\n<ul>\\n<li><code>div</code> \\xe2\\x80\\x94 indicates a division, or area, of the page.</li>\\n<li><code>b</code> \\xe2\\x80\\x94 bolds any text inside.</li>\\n<li><code>i</code> \\xe2\\x80\\x94 italicizes any text inside.</li>\\n<li><code>table</code> \\xe2\\x80\\x94 creates a table.</li>\\n<li><code>form</code> \\xe2\\x80\\x94 creates an input form.</li>\\n</ul>\\n<p>For a full list of tags, look <a href=\"https://developer.mozilla.org/en-US/docs/Web/HTML/Element\">here</a>.</p>\\n<p>Before we move into actual web scraping, let\\'s learn about the <code>class</code> and <code>id</code> properties.  These special properties give HTML elements names, and make them easier to interact with when we\\'re scraping.  One element can have multiple classes, and a class can be shared between elements.  Each element can only have one id, and an id can only be used once on a page.  Classes and ids are optional, and not all elements will have them.</p>\\n<p>We can add classes and ids to our example:</p>\\n<pre><code>&lt;html&gt;\\n    &lt;head&gt;\\n    &lt;/head&gt;\\n    &lt;body&gt;\\n        &lt;p class=&quot;bold-paragraph&quot;&gt;\\n            Here\\'s a paragraph of text!\\n            &lt;a href=&quot;https://www.dataquest.io&quot; id=&quot;learn-link&quot;&gt;Learn Data Science Online&lt;/a&gt;\\n        &lt;/p&gt;\\n        &lt;p class=&quot;bold-paragraph extra-large&quot;&gt;\\n            Here\\'s a second paragraph of text!\\n            &lt;a href=&quot;https://www.python.org&quot; class=&quot;extra-large&quot;&gt;Python&lt;/a&gt;\\n        &lt;/p&gt;\\n    &lt;/body&gt;\\n&lt;/html&gt;\\n</code></pre>\\n<p>Here\\'s how this will look:</p>\\n<div style=\"border: 1px solid black;min-height: 25px;padding: 10px;margin-bottom:15px;margin-top:15px;\">\\n    <p class=\"bold-paragraph\">\\n        Here\\'s a paragraph of text!\\n        <a href=\"https://www.dataquest.io\" id=\"learn-link\">Learn Data Science Online</a>\\n    </p>\\n    <p class=\"bold-paragraph extra-large\">\\n        Here\\'s a second paragraph of text!\\n        <a href=\"https://www.python.org\" class=\"extra-large\">Python</a>\\n    </p>\\n</div>\\n<p>As you can see, adding classes and ids doesn\\'t change how the tags are rendered at all.</p>\\n<h2 id=\"therequestslibrary\">The requests library</h2>\\n<p>The first thing we\\'ll need to do to scrape a web page is to download the page.  We can download pages using the Python <a href=\"http://docs.python-requests.org/en/master/\">requests</a> library.  The requests library will make a <code>GET</code> request to a web server, which will download the HTML contents of a given web page for us.  There are several different types of requests we can make using <code>requests</code>, of which <code>GET</code> is just one.  If you want to learn more, check out our <a href=\"http://www.dataquest.io/blog/python-api-tutorial/\">API tutorial</a>.</p>\\n<p>Let\\'s try downloading a simple sample website, <code>http://dataquestio.github.io/web-scraping-pages/simple.html</code>.  We\\'ll need to first download it using the <a href=\"http://docs.python-requests.org/en/master/user/quickstart/#make-a-request\">requests.get</a> method.</p>\\n<pre><code class=\"language-python\">import requests\\n\\npage = requests.get(&quot;http://dataquestio.github.io/web-scraping-pages/simple.html&quot;)\\npage\\n</code></pre>\\n<pre><code>&lt;Response [200]&gt;\\n</code></pre>\\n<p>After running our request, we get a <a href=\"http://docs.python-requests.org/en/master/user/quickstart/#response-content\">Response</a> object.  This object has a <code>status_code</code> property, which indicates if the page was downloaded successfully:</p>\\n<pre><code class=\"language-python\">page.status_code\\n</code></pre>\\n<pre><code>200\\n</code></pre>\\n<p>A <code>status_code</code> of <code>200</code> means that the page downloaded successfully.  We won\\'t fully dive into status codes here, but a status code starting with a <code>2</code> generally indicates success, and a code starting with a <code>4</code> or a <code>5</code> indicates an error.</p>\\n<p>We can print out the HTML content of the page using the <code>content</code> property:</p>\\n<pre><code class=\"language-python\">page.content\\n</code></pre>\\n<pre><code>b\\'&lt;!DOCTYPE html&gt;\\\\n&lt;html&gt;\\\\n    &lt;head&gt;\\\\n        &lt;title&gt;A simple example page&lt;/title&gt;\\\\n    &lt;/head&gt;\\\\n    &lt;body&gt;\\\\n        &lt;p&gt;Here is some simple content for this page.&lt;/p&gt;\\\\n    &lt;/body&gt;\\\\n&lt;/html&gt;\\'\\n</code></pre>\\n<h2 id=\"parsingapagewithbeautifulsoup\">Parsing a page with BeautifulSoup</h2>\\n<p>As you can see above, we now have downloaded an HTML document.</p>\\n<p>We can use the <a href=\"https://www.crummy.com/software/BeautifulSoup/\">BeautifulSoup</a> library to parse this document, and extract the text from the <code>p</code> tag.  We first have to import the library, and create an instance of the <code>BeautifulSoup</code> class to parse our document:</p>\\n<pre><code class=\"language-python\">from bs4 import BeautifulSoup\\nsoup = BeautifulSoup(page.content, \\'html.parser\\')\\n</code></pre>\\n<p>We can now print out the HTML content of the page, formatted nicely, using the <code>prettify</code> method on the <code>BeautifulSoup</code> object:</p>\\n<pre><code class=\"language-python\">print(soup.prettify())\\n</code></pre>\\n<pre><code>&lt;!DOCTYPE html&gt;\\n&lt;html&gt;\\n &lt;head&gt;\\n  &lt;title&gt;\\n   A simple example page\\n  &lt;/title&gt;\\n &lt;/head&gt;\\n &lt;body&gt;\\n  &lt;p&gt;\\n   Here is some simple content for this page.\\n  &lt;/p&gt;\\n &lt;/body&gt;\\n&lt;/html&gt;\\n</code></pre>\\n<p>As all the tags are nested, we can move through the structure one level at a time.  We can first select all the elements at the top level of the page using the <code>children</code> property of <code>soup</code>.  Note that <code>children</code> returns a list generator, so we need to call the <code>list</code> function on it:</p>\\n<pre><code class=\"language-python\">list(soup.children)\\n</code></pre>\\n<pre><code>[\\'html\\', \\'\\\\n\\', &lt;html&gt;\\n &lt;head&gt;\\n &lt;title&gt;A simple example page&lt;/title&gt;\\n &lt;/head&gt;\\n &lt;body&gt;\\n &lt;p&gt;Here is some simple content for this page.&lt;/p&gt;\\n &lt;/body&gt;\\n &lt;/html&gt;]\\n</code></pre>\\n<p>The above tells us that there are two tags at the top level of the page -- the initial <code>&lt;!DOCTYPE html&gt;</code> tag, and the <code>&lt;html&gt;</code> tag.  There is a newline character (<code>\\\\n</code>) in the list as well.  Let\\'s see what the type of each element in the list is:</p>\\n<pre><code class=\"language-python\">[type(item) for item in list(soup.children)]\\n</code></pre>\\n<pre><code>[bs4.element.Doctype, bs4.element.NavigableString, bs4.element.Tag]\\n</code></pre>\\n<p>As you can see, all of the items are <code>BeautifulSoup</code> objects.  The first is a <code>Doctype</code> object, which contains information about the type of the document.  The second is a <code>NavigableString</code>, which represents text found in the HTML document.  The final item is a <code>Tag</code> object, which contains other nested tags.  The most important object type, and the one we\\'ll deal with most often, is the <code>Tag</code> object.</p>\\n<p>The <code>Tag</code> object allows us to navigate through an HTML document, and extract other tags and text.  You can learn more about the various <code>BeautifulSoup</code> objects <a href=\"https://www.crummy.com/software/BeautifulSoup/bs4/doc/#kinds-of-objects\">here</a>.</p>\\n<p>We can now select the <code>html</code> tag and its children by taking the third item in the list:</p>\\n<pre><code class=\"language-python\">html = list(soup.children)[2]\\n</code></pre>\\n<p>Each item in the list returned by the <code>children</code> property is also a <code>BeautifulSoup</code> object, so we can also call the <code>children</code> method on <code>html</code>.</p>\\n<p>Now, we can find the children inside the <code>html</code> tag:</p>\\n<pre><code class=\"language-python\">list(html.children)\\n</code></pre>\\n<pre><code>[\\'\\\\n\\', &lt;head&gt;\\n &lt;title&gt;A simple example page&lt;/title&gt;\\n &lt;/head&gt;, \\'\\\\n\\', &lt;body&gt;\\n &lt;p&gt;Here is some simple content for this page.&lt;/p&gt;\\n &lt;/body&gt;, \\'\\\\n\\']\\n</code></pre>\\n<p>As you can see above, there are two tags here, <code>head</code>, and <code>body</code>.  We want to extract the text inside the <code>p</code> tag, so we\\'ll dive into the body:</p>\\n<pre><code class=\"language-python\">body = list(html.children)[3]\\n</code></pre>\\n<p>Now, we can get the <code>p</code> tag by finding the children of the body tag:</p>\\n<pre><code class=\"language-python\">list(body.children)\\n</code></pre>\\n<pre><code>[\\'\\\\n\\', &lt;p&gt;Here is some simple content for this page.&lt;/p&gt;, \\'\\\\n\\']\\n</code></pre>\\n<p>We can now isolate the p tag:</p>\\n<pre><code class=\"language-python\">p = list(body.children)[1]\\n</code></pre>\\n<p>Once we\\'ve isolated the tag, we can use the <code>get_text</code> method to extract all of the text inside the tag:</p>\\n<pre><code class=\"language-python\">p.get_text()\\n</code></pre>\\n<pre><code>\\'Here is some simple content for this page.\\'\\n</code></pre>\\n<h2 id=\"findingallinstancesofatagatonce\">Finding all instances of a tag at once</h2>\\n<p>What we did above was useful for figuring out how to navigate a page, but it took a lot of commands to do something fairly simple.  If we want to extract a single tag, we can instead use the <code>find_all</code> method, which will find all the instances of a tag on a page.</p>\\n<pre><code class=\"language-python\">soup = BeautifulSoup(page.content, \\'html.parser\\')\\nsoup.find_all(\\'p\\')\\n</code></pre>\\n<pre><code>[&lt;p&gt;Here is some simple content for this page.&lt;/p&gt;]\\n</code></pre>\\n<p>Note that <code>find_all</code> returns a list, so we\\'ll have to loop through, or use list indexing, it to extract text:</p>\\n<pre><code class=\"language-python\">soup.find_all(\\'p\\')[0].get_text()\\n</code></pre>\\n<pre><code>\\'Here is some simple content for this page.\\'\\n</code></pre>\\n<p>If you instead only want to find the first instance of a tag, you can use the <code>find</code> method, which will return a single <code>BeautifulSoup</code> object:</p>\\n<pre><code class=\"language-python\">soup.find(\\'p\\')\\n</code></pre>\\n<pre><code>&lt;p&gt;Here is some simple content for this page.&lt;/p&gt;\\n</code></pre>\\n<h2 id=\"searchingfortagsbyclassandid\">Searching for tags by class and id</h2>\\n<p>We introduced classes and ids earlier, but it probably wasn\\'t clear why they were useful.  Classes and ids are used by CSS to determine which HTML elements to apply certain styles to.  We can also use them when scraping to specify specific elements we want to scrape.  To illustrate this principle, we\\'ll work with the following page:</p>\\n<pre><code>&lt;html&gt;\\n    &lt;head&gt;\\n        &lt;title&gt;A simple example page&lt;/title&gt;\\n    &lt;/head&gt;\\n    &lt;body&gt;\\n        &lt;div&gt;\\n            &lt;p class=&quot;inner-text first-item&quot; id=&quot;first&quot;&gt;\\n                First paragraph.\\n            &lt;/p&gt;\\n            &lt;p class=&quot;inner-text&quot;&gt;\\n                Second paragraph.\\n            &lt;/p&gt;\\n        &lt;/div&gt;\\n        &lt;p class=&quot;outer-text first-item&quot; id=&quot;second&quot;&gt;\\n            &lt;b&gt;\\n                First outer paragraph.\\n            &lt;/b&gt;\\n        &lt;/p&gt;\\n        &lt;p class=&quot;outer-text&quot;&gt;\\n            &lt;b&gt;\\n                Second outer paragraph.\\n            &lt;/b&gt;\\n        &lt;/p&gt;\\n    &lt;/body&gt;\\n&lt;/html&gt;\\n</code></pre>\\n<p>We can access the above document at the URL <code>http://dataquestio.github.io/web-scraping-pages/ids_and_classes.html</code>.  Let\\'s first download the page and create a <code>BeautifulSoup</code> object:</p>\\n<pre><code class=\"language-python\">page = requests.get(&quot;http://dataquestio.github.io/web-scraping-pages/ids_and_classes.html&quot;)\\nsoup = BeautifulSoup(page.content, \\'html.parser\\')\\nsoup\\n</code></pre>\\n<pre><code>&lt;html&gt;\\n&lt;head&gt;\\n&lt;title&gt;A simple example page&lt;/title&gt;\\n&lt;/head&gt;\\n&lt;body&gt;\\n&lt;div&gt;\\n&lt;p class=&quot;inner-text first-item&quot; id=&quot;first&quot;&gt;\\n                First paragraph.\\n            &lt;/p&gt;\\n&lt;p class=&quot;inner-text&quot;&gt;\\n                Second paragraph.\\n            &lt;/p&gt;\\n&lt;/div&gt;\\n&lt;p class=&quot;outer-text first-item&quot; id=&quot;second&quot;&gt;\\n&lt;b&gt;\\n                First outer paragraph.\\n            &lt;/b&gt;\\n&lt;/p&gt;\\n&lt;p class=&quot;outer-text&quot;&gt;\\n&lt;b&gt;\\n                Second outer paragraph.\\n            &lt;/b&gt;\\n&lt;/p&gt;\\n&lt;/body&gt;\\n&lt;/html&gt;\\n</code></pre>\\n<p>Now, we can use the <code>find_all</code> method to search for items by class or by id.  In the below example, we\\'ll search for any <code>p</code> tag that has the class <code>outer-text</code>:</p>\\n<pre><code class=\"language-python\">soup.find_all(\\'p\\', class_=\\'outer-text\\')\\n</code></pre>\\n<pre><code>[&lt;p class=&quot;outer-text first-item&quot; id=&quot;second&quot;&gt;\\n &lt;b&gt;\\n                 First outer paragraph.\\n             &lt;/b&gt;\\n &lt;/p&gt;, &lt;p class=&quot;outer-text&quot;&gt;\\n &lt;b&gt;\\n                 Second outer paragraph.\\n             &lt;/b&gt;\\n &lt;/p&gt;]\\n</code></pre>\\n<p>In the below example, we\\'ll look for any tag that has the class <code>outer-text</code>:</p>\\n<pre><code class=\"language-python\">soup.find_all(class_=&quot;outer-text&quot;)\\n</code></pre>\\n<pre><code>[&lt;p class=&quot;outer-text first-item&quot; id=&quot;second&quot;&gt;\\n &lt;b&gt;\\n                 First outer paragraph.\\n             &lt;/b&gt;\\n &lt;/p&gt;, &lt;p class=&quot;outer-text&quot;&gt;\\n &lt;b&gt;\\n                 Second outer paragraph.\\n             &lt;/b&gt;\\n &lt;/p&gt;]\\n</code></pre>\\n<p>We can also search for elements by id:</p>\\n<pre><code class=\"language-python\">soup.find_all(id=&quot;first&quot;)\\n</code></pre>\\n<pre><code>[&lt;p class=&quot;inner-text first-item&quot; id=&quot;first&quot;&gt;\\n                 First paragraph.\\n             &lt;/p&gt;]\\n</code></pre>\\n<h2 id=\"usingcssselectors\">Using CSS Selectors</h2>\\n<p>You can also search for items using <a href=\"https://developer.mozilla.org/en-US/docs/Web/Guide/CSS/Getting_started/Selectors\">CSS selectors</a>.  These selectors are how the CSS language allows developers to specify HTML tags to style.  Here are some examples:</p>\\n<ul>\\n<li><code>p a</code> \\xe2\\x80\\x94 finds all <code>a</code> tags inside of a <code>p</code> tag.</li>\\n<li><code>body p a</code> \\xe2\\x80\\x94 finds all <code>a</code> tags inside of a <code>p</code> tag inside of a <code>body</code> tag.</li>\\n<li><code>html body</code> \\xe2\\x80\\x94 finds all <code>body</code> tags inside of an <code>html</code> tag.</li>\\n<li><code>p.outer-text</code> \\xe2\\x80\\x94 finds all <code>p</code> tags with a class of <code>outer-text</code>.</li>\\n<li><code>p#first</code> \\xe2\\x80\\x94 finds all <code>p</code> tags with an id of <code>first</code>.</li>\\n<li><code>body p.outer-text</code> \\xe2\\x80\\x94 finds any <code>p</code> tags with a class of <code>outer-text</code> inside of a <code>body</code> tag.</li>\\n</ul>\\n<p>You can learn more about CSS selectors <a href=\"https://developer.mozilla.org/en-US/docs/Web/Guide/CSS/Getting_started/Selectors\">here</a>.</p>\\n<p><code>BeautifulSoup</code> objects support searching a page via CSS selectors using the <code>select</code> method.  We can use CSS selectors to find all the <code>p</code> tags in our page that are inside of a <code>div</code> like this:</p>\\n<pre><code class=\"language-python\">soup.select(&quot;div p&quot;)\\n</code></pre>\\n<pre><code>[&lt;p class=&quot;inner-text first-item&quot; id=&quot;first&quot;&gt;\\n                 First paragraph.\\n             &lt;/p&gt;, &lt;p class=&quot;inner-text&quot;&gt;\\n                 Second paragraph.\\n             &lt;/p&gt;]\\n</code></pre>\\n<p>Note that the <code>select</code> method above returns a list of <code>BeautifulSoup</code> objects, just like <code>find</code> and <code>find_all</code>.</p>\\n<h2 id=\"downloadingweatherdata\">Downloading weather data</h2>\\n<p>We now know enough to proceed with extracting information about the local weather from the National Weather Service website.  The first step is to find the page we want to scrape.  We\\'ll extract weather information about downtown San Francisco from <a href=\"http://forecast.weather.gov/MapClick.php?lat=37.7772&amp;lon=-122.4168\">this page</a>.</p>\\n<img class=\"full-width\" src=\"/blog/content/images/extended_forecast.png\">\\n<p class=\"small text-center\">We\\'ll extract data about the extended forecast.</p>\\n<p>As you can see from the image, the page has information about the extended forecast for the next week, including time of day, temperature, and a brief description of the conditions.</p>\\n<h2 id=\"exploringpagestructurewithchromedevtools\">Exploring page structure with Chrome DevTools</h2>\\n<p>The first thing we\\'ll need to do is inspect the page using <a href=\"https://developer.chrome.com/devtools\">Chrome Devtools</a>.  If you\\'re using another browser, <a href=\"https://developer.mozilla.org/en-US/docs/Tools/Web_Console/Opening_the_Web_Console\">Firefox</a> and <a href=\"https://developer.apple.com/safari/tools/\">Safari</a> have equivalents.  It\\'s recommended to use Chrome though.</p>\\n<p>You can start the developer tools in Chrome by clicking <code>View -&gt; Developer -&gt; Developer Tools</code>.  You should end up with a panel at the bottom of the browser like what you see below.  Make sure the <code>Elements</code> panel is highlighted:</p>\\n<img class=\"full-width\" src=\"/blog/content/images/devtools.png\">\\n<p class=\"small text-center\">Chrome Developer Tools.</p>\\n<p>The elements panel will show you all the HTML tags on the page, and let you navigate through them.  It\\'s a really handy feature!</p>\\n<p>By right clicking on the page near where it says &quot;Extended Forecast&quot;, then clicking &quot;Inspect&quot;, we\\'ll open up the tag that contains the text &quot;Extended Forecast&quot; in the elements panel:</p>\\n<img class=\"full-width\" src=\"/blog/content/images/ex_selected.png\">\\n<p class=\"small text-center\">The extended forecast text.</p>\\n<p>We can then scroll up in the elements panel to find the &quot;outermost&quot; element that contains all of the text that corresponds to the extended forecasts.  In this case, it\\'s a <code>div</code> tag with the id <code>seven-day-forecast</code>:</p>\\n<img class=\"full-width\" src=\"/blog/content/images/div.png\">\\n<p class=\"small text-center\">The div that contains the extended forecast items.</p>\\n<p>If you click around on the console, and explore the div, you\\'ll discover that each forecast item (like &quot;Tonight&quot;, &quot;Thursday&quot;, and &quot;Thursday Night&quot;) is contained in a <code>div</code> with the class <code>tombstone-container</code>.</p>\\n<p>We now know enough to download the page and start parsing it.  In the below code, we:</p>\\n<ul>\\n<li>Download the web page containing the forecast.</li>\\n<li>Create a <code>BeautifulSoup</code> class to parse the page.</li>\\n<li>Find the <code>div</code> with id <code>seven-day-forecast</code>, and assign to <code>seven_day</code></li>\\n<li>Inside <code>seven_day</code>, find each individual forecast item.</li>\\n<li>Extract and print the first forecast item.</li>\\n</ul>\\n<pre><code class=\"language-python\">page = requests.get(&quot;http://forecast.weather.gov/MapClick.php?lat=37.7772&amp;lon=-122.4168&quot;)\\nsoup = BeautifulSoup(page.content, \\'html.parser\\')\\nseven_day = soup.find(id=&quot;seven-day-forecast&quot;)\\nforecast_items = seven_day.find_all(class_=&quot;tombstone-container&quot;)\\ntonight = forecast_items[0]\\nprint(tonight.prettify())\\n</code></pre>\\n<pre><code>&lt;div class=&quot;tombstone-container&quot;&gt;\\n &lt;p class=&quot;period-name&quot;&gt;\\n  Tonight\\n  &lt;br&gt;\\n   &lt;br/&gt;\\n  &lt;/br&gt;\\n &lt;/p&gt;\\n &lt;p&gt;\\n  &lt;img alt=&quot;Tonight: Mostly clear, with a low around 49. West northwest wind 12 to 17 mph decreasing to 6 to 11 mph after midnight. Winds could gust as high as 23 mph. &quot; class=&quot;forecast-icon&quot; src=&quot;newimages/medium/nfew.png&quot; title=&quot;Tonight: Mostly clear, with a low around 49. West northwest wind 12 to 17 mph decreasing to 6 to 11 mph after midnight. Winds could gust as high as 23 mph. &quot;/&gt;\\n &lt;/p&gt;\\n &lt;p class=&quot;short-desc&quot;&gt;\\n  Mostly Clear\\n &lt;/p&gt;\\n &lt;p class=&quot;temp temp-low&quot;&gt;\\n  Low: 49 \\xc2\\xb0F\\n &lt;/p&gt;\\n&lt;/div&gt;\\n</code></pre>\\n<h2 id=\"extractinginformationfromthepage\">Extracting information from the page</h2>\\n<p>As you can see, inside the forecast item <code>tonight</code> is all the information we want.  There are <code>4</code> pieces of information we can extract:</p>\\n<ul>\\n<li>The name of the forecast item \\xe2\\x80\\x94 in this case, <code>Tonight</code>.</li>\\n<li>The description of the conditions \\xe2\\x80\\x94 this is stored in the <code>title</code> property of <code>img</code>.</li>\\n<li>A short description of the conditions \\xe2\\x80\\x94 in this case, <code>Mostly Clear</code>.</li>\\n<li>The temperature low \\xe2\\x80\\x94 in this case, <code>49</code> degrees.</li>\\n</ul>\\n<p>We\\'ll extract the name of the forecast item, the short description, and the temperature first, since they\\'re all similar:</p>\\n<pre><code class=\"language-python\">period = tonight.find(class_=&quot;period-name&quot;).get_text()\\nshort_desc = tonight.find(class_=&quot;short-desc&quot;).get_text()\\ntemp = tonight.find(class_=&quot;temp&quot;).get_text()\\n\\nprint(period)\\nprint(short_desc)\\nprint(temp)\\n</code></pre>\\n<pre><code>Tonight\\nMostly Clear\\nLow: 49 \\xc2\\xb0F\\n</code></pre>\\n<p>Now, we can extract the <code>title</code> attribute from the <code>img</code> tag.  To do this, we just treat the <code>BeautifulSoup</code> object like a dictionary, and pass in the attribute we want as a key:</p>\\n<pre><code class=\"language-python\">img = tonight.find(&quot;img&quot;)\\ndesc = img[\\'title\\']\\n\\nprint(desc)\\n</code></pre>\\n<pre><code>Tonight: Mostly clear, with a low around 49. West northwest wind 12 to 17 mph decreasing to 6 to 11 mph after midnight. Winds could gust as high as 23 mph.\\n</code></pre>\\n<h2 id=\"extractingalltheinformationfromthepage\">Extracting all the information from the page</h2>\\n<p>Now that we know how to extract each individual piece of information, we can combine our knowledge with css selectors and list comprehensions to extract everything at once.</p>\\n<p>In the below code, we:</p>\\n<ul>\\n<li>Select all items with the class <code>period-name</code> inside an item with the class <code>tombstone-container</code> in <code>seven_day</code>.</li>\\n<li>Use a list comprehension to call the <code>get_text</code> method on each <code>BeautifulSoup</code> object.</li>\\n</ul>\\n<pre><code class=\"language-python\">period_tags = seven_day.select(&quot;.tombstone-container .period-name&quot;)\\nperiods = [pt.get_text() for pt in period_tags]\\nperiods\\n</code></pre>\\n<pre><code>[\\'Tonight\\',\\n \\'Thursday\\',\\n \\'ThursdayNight\\',\\n \\'Friday\\',\\n \\'FridayNight\\',\\n \\'Saturday\\',\\n \\'SaturdayNight\\',\\n \\'Sunday\\',\\n \\'SundayNight\\']\\n</code></pre>\\n<p>As you can see above, our technique gets us each of the period names, in order.  We can apply the same technique to get the other <code>3</code> fields:</p>\\n<pre><code class=\"language-python\">short_descs = [sd.get_text() for sd in seven_day.select(&quot;.tombstone-container .short-desc&quot;)]\\ntemps = [t.get_text() for t in seven_day.select(&quot;.tombstone-container .temp&quot;)]\\ndescs = [d[&quot;title&quot;] for d in seven_day.select(&quot;.tombstone-container img&quot;)]\\n\\nprint(short_descs)\\nprint(temps)\\nprint(descs)\\n</code></pre>\\n<pre><code>[\\'Mostly Clear\\', \\'Sunny\\', \\'Mostly Clear\\', \\'Sunny\\', \\'Slight ChanceRain\\', \\'Rain Likely\\', \\'Rain Likely\\', \\'Rain Likely\\', \\'Chance Rain\\']\\n[\\'Low: 49 \\xc2\\xb0F\\', \\'High: 63 \\xc2\\xb0F\\', \\'Low: 50 \\xc2\\xb0F\\', \\'High: 67 \\xc2\\xb0F\\', \\'Low: 57 \\xc2\\xb0F\\', \\'High: 64 \\xc2\\xb0F\\', \\'Low: 57 \\xc2\\xb0F\\', \\'High: 64 \\xc2\\xb0F\\', \\'Low: 55 \\xc2\\xb0F\\']\\n[\\'Tonight: Mostly clear, with a low around 49. West northwest wind 12 to 17 mph decreasing to 6 to 11 mph after midnight. Winds could gust as high as 23 mph. \\', \\'Thursday: Sunny, with a high near 63. North wind 3 to 5 mph. \\', \\'Thursday Night: Mostly clear, with a low around 50. Light and variable wind becoming east southeast 5 to 8 mph after midnight. \\', \\'Friday: Sunny, with a high near 67. Southeast wind around 9 mph. \\', \\'Friday Night: A 20 percent chance of rain after 11pm.  Partly cloudy, with a low around 57. South southeast wind 13 to 15 mph, with gusts as high as 20 mph.  New precipitation amounts of less than a tenth of an inch possible. \\', \\'Saturday: Rain likely.  Cloudy, with a high near 64. Chance of precipitation is 70%. New precipitation amounts between a quarter and half of an inch possible. \\', \\'Saturday Night: Rain likely.  Cloudy, with a low around 57. Chance of precipitation is 60%.\\', \\'Sunday: Rain likely.  Cloudy, with a high near 64.\\', \\'Sunday Night: A chance of rain.  Mostly cloudy, with a low around 55.\\']\\n</code></pre>\\n<h2 id=\"combiningourdataintoapandasdataframe\">Combining our data into a Pandas Dataframe</h2>\\n<p>We can now combine the data into a <a href=\"http://pandas.pydata.org/\">Pandas</a> DataFrame and analyze it.  A DataFrame is an object that can store tabular data, making data analysis easy.  If you want to learn more about Pandas, check out our free to start course <a href=\"https://www.dataquest.io/course/data-analysis-intermediate\">here</a>.</p>\\n<p>In order to do this, we\\'ll call the <a href=\"http://pandas.pydata.org/pandas-docs/stable/generated/pandas.DataFrame.html\">DataFrame</a> class, and pass in each list of items that we have.  We pass them in as part of a dictionary.  Each dictionary key will become a column in the DataFrame, and each list will become the values in the column:</p>\\n<pre><code class=\"language-python\">import pandas as pd\\nweather = pd.DataFrame({\\n        &quot;period&quot;: periods, \\n        &quot;short_desc&quot;: short_descs, \\n        &quot;temp&quot;: temps, \\n        &quot;desc&quot;:descs\\n    })\\nweather\\n</code></pre>\\n<div class=\"output_html rendered_html output_subarea output_execute_result\">\\n<div>\\n<table border=\"1\" class=\"dataframe\">\\n<thead>\\n<tr style=\"text-align: right;\">\\n<th></th>\\n<th>desc</th>\\n<th>period</th>\\n<th>short_desc</th>\\n<th>temp</th>\\n</tr>\\n</thead>\\n<tbody>\\n<tr>\\n<th>0</th>\\n<td>Tonight: Mostly clear, with a low around 49. W...</td>\\n<td>Tonight</td>\\n<td>Mostly Clear</td>\\n<td>Low: 49 \\xc2\\xb0F</td>\\n</tr>\\n<tr>\\n<th>1</th>\\n<td>Thursday: Sunny, with a high near 63. North wi...</td>\\n<td>Thursday</td>\\n<td>Sunny</td>\\n<td>High: 63 \\xc2\\xb0F</td>\\n</tr>\\n<tr>\\n<th>2</th>\\n<td>Thursday Night: Mostly clear, with a low aroun...</td>\\n<td>ThursdayNight</td>\\n<td>Mostly Clear</td>\\n<td>Low: 50 \\xc2\\xb0F</td>\\n</tr>\\n<tr>\\n<th>3</th>\\n<td>Friday: Sunny, with a high near 67. Southeast ...</td>\\n<td>Friday</td>\\n<td>Sunny</td>\\n<td>High: 67 \\xc2\\xb0F</td>\\n</tr>\\n<tr>\\n<th>4</th>\\n<td>Friday Night: A 20 percent chance of rain afte...</td>\\n<td>FridayNight</td>\\n<td>Slight ChanceRain</td>\\n<td>Low: 57 \\xc2\\xb0F</td>\\n</tr>\\n<tr>\\n<th>5</th>\\n<td>Saturday: Rain likely.  Cloudy, with a high ne...</td>\\n<td>Saturday</td>\\n<td>Rain Likely</td>\\n<td>High: 64 \\xc2\\xb0F</td>\\n</tr>\\n<tr>\\n<th>6</th>\\n<td>Saturday Night: Rain likely.  Cloudy, with a l...</td>\\n<td>SaturdayNight</td>\\n<td>Rain Likely</td>\\n<td>Low: 57 \\xc2\\xb0F</td>\\n</tr>\\n<tr>\\n<th>7</th>\\n<td>Sunday: Rain likely.  Cloudy, with a high near...</td>\\n<td>Sunday</td>\\n<td>Rain Likely</td>\\n<td>High: 64 \\xc2\\xb0F</td>\\n</tr>\\n<tr>\\n<th>8</th>\\n<td>Sunday Night: A chance of rain.  Mostly cloudy...</td>\\n<td>SundayNight</td>\\n<td>Chance Rain</td>\\n<td>Low: 55 \\xc2\\xb0F</td>\\n</tr>\\n</tbody>\\n</table>\\n</div>\\n</div>\\n<p>We can now do some analysis on the data.  For example, we can use a regular expression and the <a href=\"http://pandas.pydata.org/pandas-docs/stable/generated/pandas.Series.str.extract.html\">Series.str.extract</a> method to pull out the numeric temperature values:</p>\\n<pre><code class=\"language-python\">temp_nums = weather[&quot;temp&quot;].str.extract(&quot;(?P&lt;temp_num&gt;\\\\d+)&quot;, expand=False)\\nweather[&quot;temp_num&quot;] = temp_nums.astype(\\'int\\')\\ntemp_nums\\n</code></pre>\\n<pre><code>0    49\\n1    63\\n2    50\\n3    67\\n4    57\\n5    64\\n6    57\\n7    64\\n8    55\\nName: temp_num, dtype: object\\n</code></pre>\\n<p>We could then find the mean of all the high and low temperatures:</p>\\n<pre><code class=\"language-python\">weather[&quot;temp_num&quot;].mean()\\n</code></pre>\\n<pre><code>58.444444444444443\\n</code></pre>\\n<p>We could also only select the rows that happen at night:</p>\\n<pre><code class=\"language-python\">is_night = weather[&quot;temp&quot;].str.contains(&quot;Low&quot;)\\nweather[&quot;is_night&quot;] = is_night\\nis_night\\n</code></pre>\\n<pre><code>0     True\\n1    False\\n2     True\\n3    False\\n4     True\\n5    False\\n6     True\\n7    False\\n8     True\\nName: temp, dtype: bool\\n</code></pre>\\n<pre><code class=\"language-python\">weather[is_night]\\n</code></pre>\\n<div class=\"output_html rendered_html output_subarea output_execute_result\">\\n<div>\\n<table border=\"1\" class=\"dataframe\">\\n<thead>\\n<tr style=\"text-align: right;\">\\n<th></th>\\n<th>desc</th>\\n<th>period</th>\\n<th>short_desc</th>\\n<th>temp</th>\\n<th>temp_num</th>\\n<th>is_night</th>\\n</tr>\\n</thead>\\n<tbody>\\n<tr>\\n<th>0</th>\\n<td>Tonight: Mostly clear, with a low around 49. W...</td>\\n<td>Tonight</td>\\n<td>Mostly Clear</td>\\n<td>Low: 49 \\xc2\\xb0F</td>\\n<td>49</td>\\n<td>True</td>\\n</tr>\\n<tr>\\n<th>2</th>\\n<td>Thursday Night: Mostly clear, with a low aroun...</td>\\n<td>ThursdayNight</td>\\n<td>Mostly Clear</td>\\n<td>Low: 50 \\xc2\\xb0F</td>\\n<td>50</td>\\n<td>True</td>\\n</tr>\\n<tr>\\n<th>4</th>\\n<td>Friday Night: A 20 percent chance of rain afte...</td>\\n<td>FridayNight</td>\\n<td>Slight ChanceRain</td>\\n<td>Low: 57 \\xc2\\xb0F</td>\\n<td>57</td>\\n<td>True</td>\\n</tr>\\n<tr>\\n<th>6</th>\\n<td>Saturday Night: Rain likely.  Cloudy, with a l...</td>\\n<td>SaturdayNight</td>\\n<td>Rain Likely</td>\\n<td>Low: 57 \\xc2\\xb0F</td>\\n<td>57</td>\\n<td>True</td>\\n</tr>\\n<tr>\\n<th>8</th>\\n<td>Sunday Night: A chance of rain.  Mostly cloudy...</td>\\n<td>SundayNight</td>\\n<td>Chance Rain</td>\\n<td>Low: 55 \\xc2\\xb0F</td>\\n<td>55</td>\\n<td>True</td>\\n</tr>\\n</tbody>\\n</table>\\n</div>\\n</div>\\n<h2 id=\"nextsteps\">Next Steps</h2>\\n<p>You should now have a good understanding of how to scrape web pages and extract data.  A good next step would be to pick a site and try some web scraping on your own.  Some good examples of data to scrape are:</p>\\n<ul>\\n<li>News articles</li>\\n<li>Sports scores</li>\\n<li>Weather forecasts</li>\\n<li>Stock prices</li>\\n<li>Online retailer prices</li>\\n</ul>\\n<p>You may also want to keep scraping the National Weather Service, and see what other data you can extract from the page, or about your own city.</p>\\n<p>If you want to learn more about any of the topics covered here, check out our interactive courses which you can start for free:</p>\\n<ul>\\n<li><a href=\"https://www.dataquest.io/course/data-analysis-intermediate\">pandas Course</a></li>\\n<li><a href=\"https://www.dataquest.io/course/apis-and-scraping\">APIs and Web Scraping Course</a></li>\\n</ul>\\n</div>\\n            </section>\\n\\n\\n            <footer class=\"post-full-footer\">\\n                <div class=\"newsletter-block\">\\n                    <data data-token=\"4d32db293dfe16ddcd8c4583e3dcce22\" class=\"mj-w-data\" data-apikey=\"2N0E\" data-w-id=\"68c\" data-lang=\"en_US\" data-base=\"https://app.mailjet.com\" data-width=\"640\" data-height=\"328\" data-statics=\"statics\"></data>\\n                    <div class=\"mj-w-button mj-w-btn\" data-token=\"4d32db293dfe16ddcd8c4583e3dcce22\" style=\"font-family: Ubuntu, Helvetica; color: white; padding: 0px 25px; background-color: rgb(97, 209, 153); text-align: center; vertical-align: middle; display: inline-block; border-radius: 3px;margin-left:auto;margin-right:auto;\">\\n                        <div style=\"display: table; height: 45px;\">\\n                            <div style=\"display: table-cell; vertical-align: middle;\">\\n                                <div class=\"mj-w-button-content\" style=\"font-family:Ubuntu, Helvetica; display: inline-block; text-align: center; font-size: 13px; vertical-align: middle;\" onclick=\"analytics.track(\\n                                        \\'blog-conversion\\',\\n                                          {\\n                                            category: \\'email-signup\\',\\n                                            label: \\'end-post\\',\\n                                          });\"><b>SUBSCRIBE TO OUR MAILING LIST!</b></div>\\n                            </div>\\n                        </div>\\n                    </div>\\n                    <script type=\"text/javascript\" src=\"https://app.mailjet.com/statics/js/widget.modal.js\"></script>\\n                </div>\\n                <div class=\"author-block\">\\n\\n                    <section class=\"author-card\">\\n                        <section class=\"author-card-content\">\\n                            <h4 class=\"author-card-name\"><a href=\"/blog/author/vik/\">Vik Paruchuri</a></h4>\\n                                <p>Read <a href=\"/blog/author/vik/\">more posts</a> by this author.</p>\\n                        </section>\\n                    </section>\\n                    <div class=\"post-full-footer-right\">\\n                        <a class=\"author-card-button\" href=\"/blog/author/vik/\">Read More</a>\\n                    </div>\\n                </div>\\n\\n\\n            </footer>\\n\\n\\n        </article>\\n\\n    </div>\\n    <div id=\"ad-box-content\" style=\\'display: none;\\'>\\n        <h3>What is your passion?</h3>\\n        <p>\\n            To celebrate spring, we\\'re focusing on data in nature, and want to make sure you notice the data in the things you love. To help, click below to get $100 off our annual premium subscription.\\n        </p>\\n        <p>\\n            <a class=\"learning-cta\"\\n               href=\"https://www.dataquest.io/payment?discount=may18_passion&only_yearly=true\"\\n               onclick=\"analytics.track(\\n                        \\'blog-conversion\\',\\n                        {\\n                          category: \\'may18-promo\\',\\n                          label: \\'popup-bottom-right\\',\\n                        });\"\\n              >Claim Your Discount Now</a>\\n        </p>\\n\\n    </div>\\n</main>\\n\\n<aside class=\"read-next outer\">\\n    <div class=\"inner\">\\n        <div class=\"read-next-feed\">\\n                <article class=\"read-next-card\"\\n\\n                >\\n                    <header class=\"read-next-card-header\">\\n                        <small class=\"read-next-card-header-sitetitle\">&mdash; Dataquest &mdash;</small>\\n                        <h3 class=\"read-next-card-header-title\"><a href=\"/blog/tag/python/\">Python</a></h3>\\n                    </header>\\n                    <div class=\"read-next-divider\"><svg xmlns=\"http://www.w3.org/2000/svg\" viewBox=\"0 0 24 24\"><path d=\"M13 14.5s2 3 5 3 5.5-2.463 5.5-5.5S21 6.5 18 6.5c-5 0-7 11-12 11C2.962 17.5.5 15.037.5 12S3 6.5 6 6.5s4.5 3.5 4.5 3.5\"/></svg>\\n</div>\\n                    <div class=\"read-next-card-content\">\\n                        <ul>\\n                            <li><a href=\"/blog/data-retrieval-and-cleaning/\">Data Retrieval and Cleaning: Tracking Migratory Patterns</a></li>\\n                            <li><a href=\"/blog/climate-temperature-spirals-python/\">Generating Climate Temperature Spirals in Python</a></li>\\n                            <li><a href=\"/blog/jupyter-notebook-tutorial/\">Jupyter Notebook for Beginners: A Tutorial</a></li>\\n                        </ul>\\n                    </div>\\n                    <footer class=\"read-next-card-footer\">\\n                        <a href=\"/blog/tag/python/\">See all 74 posts \\xe2\\x86\\x92</a>\\n                    </footer>\\n                </article>\\n\\n                <article class=\"post-card post no-image\" data-title=\"Whats New in v1.10: Answer diffs, Improved Q&amp;A!\" data-date=\"2016-11-23\">\\n    <div class=\"post-card-content\">\\n        <a class=\"post-card-content-link\" href=\"/blog/whats-new-v1-10-diffs-qa/\">\\n            <header class=\"post-card-header\">\\n                <span class=\"post-card-date\">Nov 23, 2016</span>\\n                <div style=\"clear:both;\"></div>\\n                <h2 class=\"post-card-title\">Whats New in v1.10: Answer diffs, Improved Q&amp;A!</h2>\\n            </header>\\n            <section class=\"post-card-excerpt\">\\n                <p>Read about the latest new features from Dataquest, including two new courses, answer diffing, and improvements to our Q&A.</p>\\n            </section>\\n        </a>\\n        <footer class=\"post-card-meta\">\\n                <img class=\"author-profile-image\" src=\"/blog/content/images/2017/12/josh_profile.png\" alt=\"Josh Devlin\" />\\n            <span class=\"post-card-author\"><a href=\"/blog/author/josh/\">Josh Devlin</a></span>\\n        </footer>\\n    </div>\\n</article>\\n\\n                <article class=\"post-card post tag-motivation no-image\" data-title=\"I barely graduated college, and that&#x27;s okay\" data-date=\"2016-11-11\">\\n    <div class=\"post-card-content\">\\n        <a class=\"post-card-content-link\" href=\"/blog/i-barely-graduated-college/\">\\n            <header class=\"post-card-header\">\\n                    <span class=\"post-card-tags\">Motivation</span>\\n                <span class=\"post-card-date\">Nov 11, 2016</span>\\n                <div style=\"clear:both;\"></div>\\n                <h2 class=\"post-card-title\">I barely graduated college, and that&#x27;s okay</h2>\\n            </header>\\n            <section class=\"post-card-excerpt\">\\n                <p>The story of how I taught myself Data Science and became inspired to build Dataquest.</p>\\n            </section>\\n        </a>\\n        <footer class=\"post-card-meta\">\\n            <span class=\"post-card-author\"><a href=\"/blog/author/vik/\">Vik Paruchuri</a></span>\\n        </footer>\\n    </div>\\n</article>\\n\\n        </div>\\n    </div>\\n</aside>\\n\\n<div class=\"floating-header\">\\n    <div class=\"floating-header-logo\">\\n        <a href=\"https://www.dataquest.io/blog\">\\n                <img src=\"/blog/content/images/2017/12/ms-icon-144x144.png\" alt=\"Dataquest icon\" />\\n            <span>Dataquest</span>\\n        </a>\\n    </div>\\n    <span class=\"floating-header-divider\">&mdash;</span>\\n    <div class=\"floating-header-title\">Python Web Scraping Tutorial using BeautifulSoup</div>\\n    <div class=\"floating-header-signup\">\\n        <a\\n          class=\"author-card-button\"\\n          href=\"https://www.dataquest.io\"\\n          onclick=\"analytics.track(\\n                        \\'blog-conversion\\',\\n                        {\\n                          category: \\'homepage-link\\',\\n                          label: \\'floating-header\\',\\n                        });\"\\n          >Learn Data Science Online</a>\\n    </div>\\n    <div class=\"floating-header-share\">\\n        <div class=\"floating-header-share-label\">Share this <svg xmlns=\"http://www.w3.org/2000/svg\" viewBox=\"0 0 24 24\">\\n    <path d=\"M7.5 15.5V4a1.5 1.5 0 1 1 3 0v4.5h2a1 1 0 0 1 1 1h2a1 1 0 0 1 1 1H18a1.5 1.5 0 0 1 1.5 1.5v3.099c0 .929-.13 1.854-.385 2.748L17.5 23.5h-9c-1.5-2-5.417-8.673-5.417-8.673a1.2 1.2 0 0 1 1.76-1.605L7.5 15.5zm6-6v2m-3-3.5v3.5m6-1v2\"/>\\n</svg>\\n</div>\\n        <a class=\"floating-header-share-tw\" href=\"https://twitter.com/share?text=Python%20Web%20Scraping%20Tutorial%20using%20BeautifulSoup&amp;url=https://www.dataquest.io/blog/web-scraping-tutorial-python/\"\\n            onclick=\"window.open(this.href, \\'share-twitter\\', \\'width=550,height=235\\');return false;\">\\n            <svg xmlns=\"http://www.w3.org/2000/svg\" viewBox=\"0 0 32 32\"><path d=\"M30.063 7.313c-.813 1.125-1.75 2.125-2.875 2.938v.75c0 1.563-.188 3.125-.688 4.625a15.088 15.088 0 0 1-2.063 4.438c-.875 1.438-2 2.688-3.25 3.813a15.015 15.015 0 0 1-4.625 2.563c-1.813.688-3.75 1-5.75 1-3.25 0-6.188-.875-8.875-2.625.438.063.875.125 1.375.125 2.688 0 5.063-.875 7.188-2.5-1.25 0-2.375-.375-3.375-1.125s-1.688-1.688-2.063-2.875c.438.063.813.125 1.125.125.5 0 1-.063 1.5-.25-1.313-.25-2.438-.938-3.313-1.938a5.673 5.673 0 0 1-1.313-3.688v-.063c.813.438 1.688.688 2.625.688a5.228 5.228 0 0 1-1.875-2c-.5-.875-.688-1.813-.688-2.75 0-1.063.25-2.063.75-2.938 1.438 1.75 3.188 3.188 5.25 4.25s4.313 1.688 6.688 1.813a5.579 5.579 0 0 1 1.5-5.438c1.125-1.125 2.5-1.688 4.125-1.688s3.063.625 4.188 1.813a11.48 11.48 0 0 0 3.688-1.375c-.438 1.375-1.313 2.438-2.563 3.188 1.125-.125 2.188-.438 3.313-.875z\"/></svg>\\n        </a>\\n        <a class=\"floating-header-share-fb\" href=\"https://www.facebook.com/sharer/sharer.php?u=https://www.dataquest.io/blog/web-scraping-tutorial-python/\"\\n            onclick=\"window.open(this.href, \\'share-facebook\\',\\'width=580,height=296\\');return false;\">\\n            <svg xmlns=\"http://www.w3.org/2000/svg\" viewBox=\"0 0 32 32\"><path d=\"M19 6h5V0h-5c-3.86 0-7 3.14-7 7v3H8v6h4v16h6V16h5l1-6h-6V7c0-.542.458-1 1-1z\"/></svg>\\n        </a>\\n    </div>\\n    <progress class=\"progress\" value=\"0\">\\n        <div class=\"progress-container\">\\n            <span class=\"progress-bar\"></span>\\n        </div>\\n    </progress>\\n</div>\\n\\n\\n\\n\\n        <footer class=\"site-footer outer\">\\n            <div class=\"site-footer-content inner\">\\n                <section class=\"copyright\"><a href=\"https://www.dataquest.io/blog\">Dataquest</a> &copy; 2018</section>\\n                <nav class=\"site-footer-nav\">\\n                    <a href=\"https://www.dataquest.io/blog\">Latest Posts</a>\\n                    <a href=\"https://www.facebook.com/dataquestio/\" target=\"_blank\" rel=\"noopener\">Facebook</a>\\n                    <a href=\"https://twitter.com/dataquestio\" target=\"_blank\" rel=\"noopener\">Twitter</a>\\n                </nav>\\n            </div>\\n        </footer>\\n\\n    </div>\\n\\n\\n    <script src=\"https://ajax.googleapis.com/ajax/libs/jquery/3.3.1/jquery.min.js\"></script>\\n    <script type=\"text/javascript\" src=\"/blog/assets/ghostHunter/dist/jquery.ghosthunter.js?v=a0706482e9\"></script>\\n    <script type=\"text/javascript\" src=\"/blog/assets/js/initghost.js?v=a0706482e9\"></script>\\n    <script type=\"text/javascript\" src=\"/blog/assets/js/jquery.fitvids.js?v=a0706482e9\"></script>\\n    <script type=\"text/javascript\" src=\"/blog/assets/js/fa-solid.min.js?v=a0706482e9\"></script>\\n    <script type=\"text/javascript\" src=\"/blog/assets/js/fontawesome.min.js?v=a0706482e9\"></script>\\n\\n    <script type=\"text/javascript\" src=\"https://cdnjs.cloudflare.com/ajax/libs/prism/1.8.4/prism.min.js\" ></script>\\n    <script type=\"text/javascript\" src=\"//cdnjs.cloudflare.com/ajax/libs/prism/1.8.4/components/prism-python.min.js\"></script>\\n    <script type=\"text/javascript\" src=\"//cdnjs.cloudflare.com/ajax/libs/prism/1.8.4/components/prism-r.min.js\"></script>\\n    <script type=\"text/javascript\" src=\"//cdnjs.cloudflare.com/ajax/libs/prism/1.8.4/components/prism-sql.min.js\"></script>\\n    <script type=\"text/javascript\" src=\"//cdnjs.cloudflare.com/ajax/libs/prism/1.8.4/components/prism-bash.min.js\"></script>\\n    <script type=\"text/javascript\" async\\n      src=\"https://cdnjs.cloudflare.com/ajax/libs/mathjax/2.7.2/MathJax.js?config=TeX-MML-AM_CHTML\">\\n    </script>\\n    <script type=\"text/x-mathjax-config\">\\n        MathJax.Hub.Config({\\n            tex2jax: {\\n                inlineMath: [ [\"\\\\\\\\(\",\"\\\\\\\\)\"] ],\\n                displayMath: [ [\\'$$\\',\\'$$\\'], [\"\\\\\\\\[\",\"\\\\\\\\]\"] ],\\n                processEscapes: true,\\n                processEnvironments: true\\n            },\\n            // Center justify equations in code and markdown cells. Elsewhere\\n            // we use CSS to left justify single line equations in code cells.\\n            displayAlign: \\'center\\',\\n            \"HTML-CSS\": {\\n                styles: {\\'.MathJax_Display\\': {\"margin\": 0}},\\n                linebreaks: { automatic: true }\\n            }\\n        });\\n    </script>\\n\\n    <script>\\n      if(window.location.host === \\'www.dataquest.io\\') {\\n        var segment = \\'AshBDDdcjA4D5pxKTMHzKN0dCzbjfTc3\\' // this is the blog prod segment key\\n      } else {\\n        var segment = \\'Cwx1HZOBtWSKbPh9WcJZyyuo7WAYlEIb\\' // this is the blog test segment key\\n      }\\n      \\n      !function(){var analytics=window.analytics=window.analytics||[];if(!analytics.initialize)if(analytics.invoked)window.console&&console.error&&console.error(\"Segment snippet included twice.\");else{analytics.invoked=!0;analytics.methods=[\"trackSubmit\",\"trackClick\",\"trackLink\",\"trackForm\",\"pageview\",\"identify\",\"reset\",\"group\",\"track\",\"ready\",\"alias\",\"page\",\"once\",\"off\",\"on\"];analytics.factory=function(t){return function(){var e=Array.prototype.slice.call(arguments);e.unshift(t);analytics.push(e);return analytics}};for(var t=0;t<analytics.methods.length;t++){var e=analytics.methods[t];analytics[e]=analytics.factory(e)}analytics.load=function(t){var e=document.createElement(\"script\");e.type=\"text/javascript\";e.async=!0;e.src=(\"https:\"===document.location.protocol?\"https://\":\"http://\")+\"cdn.segment.com/analytics.js/v1/\"+t+\"/analytics.min.js\";var n=document.getElementsByTagName(\"script\")[0];n.parentNode.insertBefore(e,n)};analytics.SNIPPET_VERSION=\"3.1.0\";\\n      analytics.load(segment);\\n      analytics.page()\\n      }}();\\n    </script>\\n\\n\\n    <script>\\n\\n// NOTE: Scroll performance is poor in Safari\\n// - this appears to be due to the events firing much more slowly in Safari.\\n//   Dropping the scroll event and using only a raf loop results in smoother\\n//   scrolling but continuous processing even when not scrolling\\n$(document).ready(function () {\\n    // Start fitVids\\n    var $postContent = $(\".post-full-content\");\\n    $postContent.fitVids();\\n    // End fitVids\\n\\n    var progressBar = document.querySelector(\\'progress\\');\\n    var header = document.querySelector(\\'.floating-header\\');\\n    var title = document.querySelector(\\'.post-full-title\\');\\n\\n    var lastScrollY = window.scrollY;\\n    var lastWindowHeight = window.innerHeight;\\n    var lastDocumentHeight = $(document).height();\\n    var ticking = false;\\n\\n    function onScroll() {\\n        lastScrollY = window.scrollY;\\n        requestTick();\\n    }\\n\\n    function onResize() {\\n        lastWindowHeight = window.innerHeight;\\n        lastDocumentHeight = $(document).height();\\n        requestTick();\\n    }\\n\\n    function requestTick() {\\n        if (!ticking) {\\n            requestAnimationFrame(update);\\n        }\\n        ticking = true;\\n    }\\n\\n    function update() {\\n        var trigger = title.getBoundingClientRect().top + window.scrollY;\\n        var triggerOffset = title.offsetHeight + 35;\\n        var progressMax = lastDocumentHeight - lastWindowHeight;\\n\\n        // show/hide floating header\\n        if (lastScrollY >= trigger + triggerOffset) {\\n            header.classList.add(\\'floating-active\\');\\n        } else {\\n            header.classList.remove(\\'floating-active\\');\\n        }\\n\\n        progressBar.setAttribute(\\'max\\', progressMax);\\n        progressBar.setAttribute(\\'value\\', lastScrollY);\\n\\n        ticking = false;\\n    }\\n\\n    window.addEventListener(\\'scroll\\', onScroll, {passive: true});\\n    window.addEventListener(\\'resize\\', onResize, false);\\n\\n    update();\\n});\\n</script>\\n<script src=\"/blog/assets/js/boxzilla.js?v=a0706482e9\"></script>\\n<script>\\n    Boxzilla.init();\\n    Boxzilla.create(\\'ad-box\\', {\\n        content: document.getElementById(\\'ad-box-content\\').innerHTML,\\n        trigger: {\\n            method: \\'percentage\\',\\n            value: 50\\n        },\\n        \\'cookie\\': {\\n            \\'dismissed\\': 6,        // hours that a box should stay hidden after being dismissed\\n            \\'triggered\\': 1          // hours that a box should stay hidden after being triggered\\n        },\\n        position: \"bottom-right\"\\n    });\\n</script>\\n<script src=\"//dqeditor.dataquest.io/dq_post_box.js\"></script>\\n\\n\\n    \\n\\n</body>\\n</html>\\n'"
      ]
     },
     "execution_count": 51,
     "metadata": {},
     "output_type": "execute_result"
    }
   ],
   "source": []
  },
  {
   "cell_type": "code",
   "execution_count": 59,
   "metadata": {},
   "outputs": [],
   "source": [
    "forecast_items = seven_day.find_all(class_='tombstone-container')"
   ]
  },
  {
   "cell_type": "code",
   "execution_count": 60,
   "metadata": {},
   "outputs": [],
   "source": [
    "tonight = forecast_items[1]"
   ]
  },
  {
   "cell_type": "code",
   "execution_count": 62,
   "metadata": {},
   "outputs": [
    {
     "name": "stdout",
     "output_type": "stream",
     "text": [
      "<div class=\"tombstone-container\">\n",
      " <p class=\"period-name\">\n",
      "  Tonight\n",
      "  <br/>\n",
      "  <br/>\n",
      " </p>\n",
      " <p>\n",
      "  <img alt=\"Tonight: Mostly clear, with a low around 54. West southwest wind 16 to 21 mph decreasing to 5 to 10 mph after midnight. Winds could gust as high as 28 mph. \" class=\"forecast-icon\" src=\"newimages/medium/nfew.png\" title=\"Tonight: Mostly clear, with a low around 54. West southwest wind 16 to 21 mph decreasing to 5 to 10 mph after midnight. Winds could gust as high as 28 mph. \"/>\n",
      " </p>\n",
      " <p class=\"short-desc\">\n",
      "  Mostly Clear\n",
      " </p>\n",
      " <p class=\"temp temp-low\">\n",
      "  Low: 54 °F\n",
      " </p>\n",
      "</div>\n"
     ]
    }
   ],
   "source": [
    "print(tonight.prettify())"
   ]
  },
  {
   "cell_type": "markdown",
   "metadata": {},
   "source": [
    "### Extracting information from the page\n",
    "* Nom du forecast - (Tonight)\n",
    "* Description des conditions - (dans 'title' de 'img')\n",
    "* breve description des conditions - (Mostly clear)\n",
    "* Temperature basse - (49°)"
   ]
  },
  {
   "cell_type": "code",
   "execution_count": 69,
   "metadata": {},
   "outputs": [],
   "source": [
    "period_name = tonight.find('p',class_='period-name').get_text()\n",
    "#conditions = soup.find()\n",
    "short_desc = tonight.find('p',class_='short-desc').get_text()\n",
    "temp = tonight.find('p',class_='temp temp-low').get_text()\n"
   ]
  },
  {
   "cell_type": "code",
   "execution_count": 70,
   "metadata": {},
   "outputs": [
    {
     "name": "stdout",
     "output_type": "stream",
     "text": [
      "Tonight Mostly Clear Low: 54 °F\n"
     ]
    }
   ],
   "source": [
    "print(period_name,short_desc,temp)"
   ]
  },
  {
   "cell_type": "code",
   "execution_count": 75,
   "metadata": {},
   "outputs": [],
   "source": [
    "img = tonight.find('img')"
   ]
  },
  {
   "cell_type": "code",
   "execution_count": 76,
   "metadata": {},
   "outputs": [],
   "source": [
    "desc = img['title']"
   ]
  },
  {
   "cell_type": "code",
   "execution_count": 77,
   "metadata": {},
   "outputs": [
    {
     "data": {
      "text/plain": [
       "'Tonight: Mostly clear, with a low around 54. West southwest wind 16 to 21 mph decreasing to 5 to 10 mph after midnight. Winds could gust as high as 28 mph. '"
      ]
     },
     "execution_count": 77,
     "metadata": {},
     "output_type": "execute_result"
    }
   ],
   "source": [
    "desc"
   ]
  },
  {
   "cell_type": "markdown",
   "metadata": {},
   "source": [
    "### Extracting ALL the information from the page"
   ]
  },
  {
   "cell_type": "code",
   "execution_count": 78,
   "metadata": {},
   "outputs": [],
   "source": [
    "period_tags = seven_day.select('.tombstone-container .period-name')"
   ]
  },
  {
   "cell_type": "code",
   "execution_count": 83,
   "metadata": {},
   "outputs": [],
   "source": [
    "periods = [i.get_text() for i in period_tags]"
   ]
  },
  {
   "cell_type": "code",
   "execution_count": 84,
   "metadata": {},
   "outputs": [
    {
     "data": {
      "text/plain": [
       "['Today',\n",
       " 'Tonight',\n",
       " 'MemorialDay',\n",
       " 'MondayNight',\n",
       " 'Tuesday',\n",
       " 'TuesdayNight',\n",
       " 'Wednesday',\n",
       " 'WednesdayNight',\n",
       " 'Thursday']"
      ]
     },
     "execution_count": 84,
     "metadata": {},
     "output_type": "execute_result"
    }
   ],
   "source": [
    "periods"
   ]
  },
  {
   "cell_type": "code",
   "execution_count": 86,
   "metadata": {},
   "outputs": [],
   "source": [
    "short_descs = [i.get_text() for i in seven_day.select('.tombstone-container .short-desc')]"
   ]
  },
  {
   "cell_type": "code",
   "execution_count": 90,
   "metadata": {},
   "outputs": [],
   "source": [
    "temps = [i.get_text() for i in seven_day.select('.tombstone-container .temp')]"
   ]
  },
  {
   "cell_type": "code",
   "execution_count": 97,
   "metadata": {},
   "outputs": [],
   "source": [
    "descs = [d['title'] for d in seven_day.select('.tombstone-container img')]"
   ]
  },
  {
   "cell_type": "code",
   "execution_count": 98,
   "metadata": {},
   "outputs": [
    {
     "data": {
      "text/plain": [
       "['Today: Sunny, with a high near 70. West southwest wind 5 to 10 mph increasing to 16 to 21 mph in the afternoon. Winds could gust as high as 28 mph. ',\n",
       " 'Tonight: Mostly clear, with a low around 54. West southwest wind 16 to 21 mph decreasing to 5 to 10 mph after midnight. Winds could gust as high as 28 mph. ',\n",
       " 'Memorial Day: Sunny, with a high near 75. Light west wind increasing to 16 to 21 mph in the afternoon. Winds could gust as high as 28 mph. ',\n",
       " 'Monday Night: Mostly clear, with a low around 55. West southwest wind 16 to 21 mph decreasing to 9 to 14 mph in the evening. Winds could gust as high as 26 mph. ',\n",
       " 'Tuesday: Sunny, with a high near 68. West southwest wind 9 to 14 mph increasing to 16 to 21 mph in the morning. Winds could gust as high as 26 mph. ',\n",
       " 'Tuesday Night: Patchy fog after 11pm.  Otherwise, mostly cloudy, with a low around 54.',\n",
       " 'Wednesday: Patchy fog before 11am.  Otherwise, mostly sunny, with a high near 63.',\n",
       " 'Wednesday Night: Partly cloudy, with a low around 53.',\n",
       " 'Thursday: Mostly sunny, with a high near 63.']"
      ]
     },
     "execution_count": 98,
     "metadata": {},
     "output_type": "execute_result"
    }
   ],
   "source": [
    "descs"
   ]
  },
  {
   "cell_type": "markdown",
   "metadata": {},
   "source": [
    "### Combining our data into a Pandas Dataframe"
   ]
  },
  {
   "cell_type": "code",
   "execution_count": 104,
   "metadata": {},
   "outputs": [],
   "source": [
    "import pandas as pd\n",
    "\n",
    "weather = pd.DataFrame({'period':periods,'short_desc':short_descs,'temp':temps,'desc':descs})"
   ]
  },
  {
   "cell_type": "code",
   "execution_count": 105,
   "metadata": {},
   "outputs": [
    {
     "data": {
      "text/html": [
       "<div>\n",
       "<style>\n",
       "    .dataframe thead tr:only-child th {\n",
       "        text-align: right;\n",
       "    }\n",
       "\n",
       "    .dataframe thead th {\n",
       "        text-align: left;\n",
       "    }\n",
       "\n",
       "    .dataframe tbody tr th {\n",
       "        vertical-align: top;\n",
       "    }\n",
       "</style>\n",
       "<table border=\"1\" class=\"dataframe\">\n",
       "  <thead>\n",
       "    <tr style=\"text-align: right;\">\n",
       "      <th></th>\n",
       "      <th>desc</th>\n",
       "      <th>period</th>\n",
       "      <th>short_desc</th>\n",
       "      <th>temp</th>\n",
       "    </tr>\n",
       "  </thead>\n",
       "  <tbody>\n",
       "    <tr>\n",
       "      <th>0</th>\n",
       "      <td>Today: Sunny, with a high near 70. West southw...</td>\n",
       "      <td>Today</td>\n",
       "      <td>Sunny</td>\n",
       "      <td>High: 70 °F</td>\n",
       "    </tr>\n",
       "    <tr>\n",
       "      <th>1</th>\n",
       "      <td>Tonight: Mostly clear, with a low around 54. W...</td>\n",
       "      <td>Tonight</td>\n",
       "      <td>Mostly Clear</td>\n",
       "      <td>Low: 54 °F</td>\n",
       "    </tr>\n",
       "    <tr>\n",
       "      <th>2</th>\n",
       "      <td>Memorial Day: Sunny, with a high near 75. Ligh...</td>\n",
       "      <td>MemorialDay</td>\n",
       "      <td>Sunny</td>\n",
       "      <td>High: 75 °F</td>\n",
       "    </tr>\n",
       "    <tr>\n",
       "      <th>3</th>\n",
       "      <td>Monday Night: Mostly clear, with a low around ...</td>\n",
       "      <td>MondayNight</td>\n",
       "      <td>Mostly Clear</td>\n",
       "      <td>Low: 55 °F</td>\n",
       "    </tr>\n",
       "    <tr>\n",
       "      <th>4</th>\n",
       "      <td>Tuesday: Sunny, with a high near 68. West sout...</td>\n",
       "      <td>Tuesday</td>\n",
       "      <td>Sunny</td>\n",
       "      <td>High: 68 °F</td>\n",
       "    </tr>\n",
       "    <tr>\n",
       "      <th>5</th>\n",
       "      <td>Tuesday Night: Patchy fog after 11pm.  Otherwi...</td>\n",
       "      <td>TuesdayNight</td>\n",
       "      <td>Patchy Fog</td>\n",
       "      <td>Low: 54 °F</td>\n",
       "    </tr>\n",
       "    <tr>\n",
       "      <th>6</th>\n",
       "      <td>Wednesday: Patchy fog before 11am.  Otherwise,...</td>\n",
       "      <td>Wednesday</td>\n",
       "      <td>Patchy Fogthen Sunny</td>\n",
       "      <td>High: 63 °F</td>\n",
       "    </tr>\n",
       "    <tr>\n",
       "      <th>7</th>\n",
       "      <td>Wednesday Night: Partly cloudy, with a low aro...</td>\n",
       "      <td>WednesdayNight</td>\n",
       "      <td>Partly Cloudy</td>\n",
       "      <td>Low: 53 °F</td>\n",
       "    </tr>\n",
       "    <tr>\n",
       "      <th>8</th>\n",
       "      <td>Thursday: Mostly sunny, with a high near 63.</td>\n",
       "      <td>Thursday</td>\n",
       "      <td>Mostly Sunny</td>\n",
       "      <td>High: 63 °F</td>\n",
       "    </tr>\n",
       "  </tbody>\n",
       "</table>\n",
       "</div>"
      ],
      "text/plain": [
       "                                                desc          period  \\\n",
       "0  Today: Sunny, with a high near 70. West southw...           Today   \n",
       "1  Tonight: Mostly clear, with a low around 54. W...         Tonight   \n",
       "2  Memorial Day: Sunny, with a high near 75. Ligh...     MemorialDay   \n",
       "3  Monday Night: Mostly clear, with a low around ...     MondayNight   \n",
       "4  Tuesday: Sunny, with a high near 68. West sout...         Tuesday   \n",
       "5  Tuesday Night: Patchy fog after 11pm.  Otherwi...    TuesdayNight   \n",
       "6  Wednesday: Patchy fog before 11am.  Otherwise,...       Wednesday   \n",
       "7  Wednesday Night: Partly cloudy, with a low aro...  WednesdayNight   \n",
       "8       Thursday: Mostly sunny, with a high near 63.        Thursday   \n",
       "\n",
       "             short_desc         temp  \n",
       "0                 Sunny  High: 70 °F  \n",
       "1          Mostly Clear   Low: 54 °F  \n",
       "2                 Sunny  High: 75 °F  \n",
       "3          Mostly Clear   Low: 55 °F  \n",
       "4                 Sunny  High: 68 °F  \n",
       "5            Patchy Fog   Low: 54 °F  \n",
       "6  Patchy Fogthen Sunny  High: 63 °F  \n",
       "7         Partly Cloudy   Low: 53 °F  \n",
       "8          Mostly Sunny  High: 63 °F  "
      ]
     },
     "execution_count": 105,
     "metadata": {},
     "output_type": "execute_result"
    }
   ],
   "source": [
    "weather"
   ]
  },
  {
   "cell_type": "code",
   "execution_count": 107,
   "metadata": {},
   "outputs": [],
   "source": [
    "#extraire les temperature\n",
    "temp_nums = weather['temp'].str.extract(\"(?P<temp_num>\\d+)\", expand=False)\n",
    "weather['temp_num'] = temp_nums.astype('int')"
   ]
  },
  {
   "cell_type": "code",
   "execution_count": 108,
   "metadata": {},
   "outputs": [
    {
     "data": {
      "text/plain": [
       "0    70\n",
       "1    54\n",
       "2    75\n",
       "3    55\n",
       "4    68\n",
       "5    54\n",
       "6    63\n",
       "7    53\n",
       "8    63\n",
       "Name: temp_num, dtype: object"
      ]
     },
     "execution_count": 108,
     "metadata": {},
     "output_type": "execute_result"
    }
   ],
   "source": [
    "temp_nums"
   ]
  },
  {
   "cell_type": "code",
   "execution_count": 109,
   "metadata": {},
   "outputs": [
    {
     "data": {
      "text/html": [
       "<div>\n",
       "<style>\n",
       "    .dataframe thead tr:only-child th {\n",
       "        text-align: right;\n",
       "    }\n",
       "\n",
       "    .dataframe thead th {\n",
       "        text-align: left;\n",
       "    }\n",
       "\n",
       "    .dataframe tbody tr th {\n",
       "        vertical-align: top;\n",
       "    }\n",
       "</style>\n",
       "<table border=\"1\" class=\"dataframe\">\n",
       "  <thead>\n",
       "    <tr style=\"text-align: right;\">\n",
       "      <th></th>\n",
       "      <th>desc</th>\n",
       "      <th>period</th>\n",
       "      <th>short_desc</th>\n",
       "      <th>temp</th>\n",
       "      <th>temp_num</th>\n",
       "    </tr>\n",
       "  </thead>\n",
       "  <tbody>\n",
       "    <tr>\n",
       "      <th>0</th>\n",
       "      <td>Today: Sunny, with a high near 70. West southw...</td>\n",
       "      <td>Today</td>\n",
       "      <td>Sunny</td>\n",
       "      <td>High: 70 °F</td>\n",
       "      <td>70</td>\n",
       "    </tr>\n",
       "    <tr>\n",
       "      <th>1</th>\n",
       "      <td>Tonight: Mostly clear, with a low around 54. W...</td>\n",
       "      <td>Tonight</td>\n",
       "      <td>Mostly Clear</td>\n",
       "      <td>Low: 54 °F</td>\n",
       "      <td>54</td>\n",
       "    </tr>\n",
       "    <tr>\n",
       "      <th>2</th>\n",
       "      <td>Memorial Day: Sunny, with a high near 75. Ligh...</td>\n",
       "      <td>MemorialDay</td>\n",
       "      <td>Sunny</td>\n",
       "      <td>High: 75 °F</td>\n",
       "      <td>75</td>\n",
       "    </tr>\n",
       "    <tr>\n",
       "      <th>3</th>\n",
       "      <td>Monday Night: Mostly clear, with a low around ...</td>\n",
       "      <td>MondayNight</td>\n",
       "      <td>Mostly Clear</td>\n",
       "      <td>Low: 55 °F</td>\n",
       "      <td>55</td>\n",
       "    </tr>\n",
       "    <tr>\n",
       "      <th>4</th>\n",
       "      <td>Tuesday: Sunny, with a high near 68. West sout...</td>\n",
       "      <td>Tuesday</td>\n",
       "      <td>Sunny</td>\n",
       "      <td>High: 68 °F</td>\n",
       "      <td>68</td>\n",
       "    </tr>\n",
       "    <tr>\n",
       "      <th>5</th>\n",
       "      <td>Tuesday Night: Patchy fog after 11pm.  Otherwi...</td>\n",
       "      <td>TuesdayNight</td>\n",
       "      <td>Patchy Fog</td>\n",
       "      <td>Low: 54 °F</td>\n",
       "      <td>54</td>\n",
       "    </tr>\n",
       "    <tr>\n",
       "      <th>6</th>\n",
       "      <td>Wednesday: Patchy fog before 11am.  Otherwise,...</td>\n",
       "      <td>Wednesday</td>\n",
       "      <td>Patchy Fogthen Sunny</td>\n",
       "      <td>High: 63 °F</td>\n",
       "      <td>63</td>\n",
       "    </tr>\n",
       "    <tr>\n",
       "      <th>7</th>\n",
       "      <td>Wednesday Night: Partly cloudy, with a low aro...</td>\n",
       "      <td>WednesdayNight</td>\n",
       "      <td>Partly Cloudy</td>\n",
       "      <td>Low: 53 °F</td>\n",
       "      <td>53</td>\n",
       "    </tr>\n",
       "    <tr>\n",
       "      <th>8</th>\n",
       "      <td>Thursday: Mostly sunny, with a high near 63.</td>\n",
       "      <td>Thursday</td>\n",
       "      <td>Mostly Sunny</td>\n",
       "      <td>High: 63 °F</td>\n",
       "      <td>63</td>\n",
       "    </tr>\n",
       "  </tbody>\n",
       "</table>\n",
       "</div>"
      ],
      "text/plain": [
       "                                                desc          period  \\\n",
       "0  Today: Sunny, with a high near 70. West southw...           Today   \n",
       "1  Tonight: Mostly clear, with a low around 54. W...         Tonight   \n",
       "2  Memorial Day: Sunny, with a high near 75. Ligh...     MemorialDay   \n",
       "3  Monday Night: Mostly clear, with a low around ...     MondayNight   \n",
       "4  Tuesday: Sunny, with a high near 68. West sout...         Tuesday   \n",
       "5  Tuesday Night: Patchy fog after 11pm.  Otherwi...    TuesdayNight   \n",
       "6  Wednesday: Patchy fog before 11am.  Otherwise,...       Wednesday   \n",
       "7  Wednesday Night: Partly cloudy, with a low aro...  WednesdayNight   \n",
       "8       Thursday: Mostly sunny, with a high near 63.        Thursday   \n",
       "\n",
       "             short_desc         temp  temp_num  \n",
       "0                 Sunny  High: 70 °F        70  \n",
       "1          Mostly Clear   Low: 54 °F        54  \n",
       "2                 Sunny  High: 75 °F        75  \n",
       "3          Mostly Clear   Low: 55 °F        55  \n",
       "4                 Sunny  High: 68 °F        68  \n",
       "5            Patchy Fog   Low: 54 °F        54  \n",
       "6  Patchy Fogthen Sunny  High: 63 °F        63  \n",
       "7         Partly Cloudy   Low: 53 °F        53  \n",
       "8          Mostly Sunny  High: 63 °F        63  "
      ]
     },
     "execution_count": 109,
     "metadata": {},
     "output_type": "execute_result"
    }
   ],
   "source": [
    "weather"
   ]
  },
  {
   "cell_type": "code",
   "execution_count": 110,
   "metadata": {},
   "outputs": [
    {
     "data": {
      "text/plain": [
       "' Moyenne des High et Low'"
      ]
     },
     "execution_count": 110,
     "metadata": {},
     "output_type": "execute_result"
    }
   ],
   "source": [
    "\"\"\" Moyenne des High et Low\"\"\""
   ]
  },
  {
   "cell_type": "code",
   "execution_count": 112,
   "metadata": {},
   "outputs": [
    {
     "data": {
      "text/plain": [
       "61.666666666666664"
      ]
     },
     "execution_count": 112,
     "metadata": {},
     "output_type": "execute_result"
    }
   ],
   "source": [
    "weather['temp_num'].mean()"
   ]
  },
  {
   "cell_type": "code",
   "execution_count": 113,
   "metadata": {},
   "outputs": [],
   "source": [
    "\"\"\" Sélectionner uniquement les données de nuit\"\"\"\n",
    "is_night = weather['temp'].str.contains('Low')\n",
    "weather['is_night'] = is_night"
   ]
  },
  {
   "cell_type": "code",
   "execution_count": 114,
   "metadata": {},
   "outputs": [
    {
     "data": {
      "text/plain": [
       "0    False\n",
       "1     True\n",
       "2    False\n",
       "3     True\n",
       "4    False\n",
       "5     True\n",
       "6    False\n",
       "7     True\n",
       "8    False\n",
       "Name: temp, dtype: bool"
      ]
     },
     "execution_count": 114,
     "metadata": {},
     "output_type": "execute_result"
    }
   ],
   "source": [
    "is_night"
   ]
  },
  {
   "cell_type": "code",
   "execution_count": 115,
   "metadata": {},
   "outputs": [
    {
     "data": {
      "text/html": [
       "<div>\n",
       "<style>\n",
       "    .dataframe thead tr:only-child th {\n",
       "        text-align: right;\n",
       "    }\n",
       "\n",
       "    .dataframe thead th {\n",
       "        text-align: left;\n",
       "    }\n",
       "\n",
       "    .dataframe tbody tr th {\n",
       "        vertical-align: top;\n",
       "    }\n",
       "</style>\n",
       "<table border=\"1\" class=\"dataframe\">\n",
       "  <thead>\n",
       "    <tr style=\"text-align: right;\">\n",
       "      <th></th>\n",
       "      <th>desc</th>\n",
       "      <th>period</th>\n",
       "      <th>short_desc</th>\n",
       "      <th>temp</th>\n",
       "      <th>temp_num</th>\n",
       "      <th>is_night</th>\n",
       "    </tr>\n",
       "  </thead>\n",
       "  <tbody>\n",
       "    <tr>\n",
       "      <th>1</th>\n",
       "      <td>Tonight: Mostly clear, with a low around 54. W...</td>\n",
       "      <td>Tonight</td>\n",
       "      <td>Mostly Clear</td>\n",
       "      <td>Low: 54 °F</td>\n",
       "      <td>54</td>\n",
       "      <td>True</td>\n",
       "    </tr>\n",
       "    <tr>\n",
       "      <th>3</th>\n",
       "      <td>Monday Night: Mostly clear, with a low around ...</td>\n",
       "      <td>MondayNight</td>\n",
       "      <td>Mostly Clear</td>\n",
       "      <td>Low: 55 °F</td>\n",
       "      <td>55</td>\n",
       "      <td>True</td>\n",
       "    </tr>\n",
       "    <tr>\n",
       "      <th>5</th>\n",
       "      <td>Tuesday Night: Patchy fog after 11pm.  Otherwi...</td>\n",
       "      <td>TuesdayNight</td>\n",
       "      <td>Patchy Fog</td>\n",
       "      <td>Low: 54 °F</td>\n",
       "      <td>54</td>\n",
       "      <td>True</td>\n",
       "    </tr>\n",
       "    <tr>\n",
       "      <th>7</th>\n",
       "      <td>Wednesday Night: Partly cloudy, with a low aro...</td>\n",
       "      <td>WednesdayNight</td>\n",
       "      <td>Partly Cloudy</td>\n",
       "      <td>Low: 53 °F</td>\n",
       "      <td>53</td>\n",
       "      <td>True</td>\n",
       "    </tr>\n",
       "  </tbody>\n",
       "</table>\n",
       "</div>"
      ],
      "text/plain": [
       "                                                desc          period  \\\n",
       "1  Tonight: Mostly clear, with a low around 54. W...         Tonight   \n",
       "3  Monday Night: Mostly clear, with a low around ...     MondayNight   \n",
       "5  Tuesday Night: Patchy fog after 11pm.  Otherwi...    TuesdayNight   \n",
       "7  Wednesday Night: Partly cloudy, with a low aro...  WednesdayNight   \n",
       "\n",
       "      short_desc        temp  temp_num  is_night  \n",
       "1   Mostly Clear  Low: 54 °F        54      True  \n",
       "3   Mostly Clear  Low: 55 °F        55      True  \n",
       "5     Patchy Fog  Low: 54 °F        54      True  \n",
       "7  Partly Cloudy  Low: 53 °F        53      True  "
      ]
     },
     "execution_count": 115,
     "metadata": {},
     "output_type": "execute_result"
    }
   ],
   "source": [
    "weather[is_night]"
   ]
  },
  {
   "cell_type": "code",
   "execution_count": null,
   "metadata": {},
   "outputs": [],
   "source": []
  }
 ],
 "metadata": {
  "kernelspec": {
   "display_name": "Python 3",
   "language": "python",
   "name": "python3"
  },
  "language_info": {
   "codemirror_mode": {
    "name": "ipython",
    "version": 3
   },
   "file_extension": ".py",
   "mimetype": "text/x-python",
   "name": "python",
   "nbconvert_exporter": "python",
   "pygments_lexer": "ipython3",
   "version": "3.6.1"
  }
 },
 "nbformat": 4,
 "nbformat_minor": 2
}
