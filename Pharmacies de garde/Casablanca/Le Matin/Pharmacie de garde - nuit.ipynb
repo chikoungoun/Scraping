{
 "cells": [
  {
   "cell_type": "markdown",
   "metadata": {},
   "source": [
    "# Pharmacie de garde de Nuit"
   ]
  },
  {
   "cell_type": "markdown",
   "metadata": {},
   "source": [
    "**Fonction extraction téléphone**"
   ]
  },
  {
   "cell_type": "code",
   "execution_count": 1,
   "metadata": {},
   "outputs": [],
   "source": [
    "def telephone_pharmacie(adress):\n",
    "    #renverser la chaine de caractères\n",
    "    adress[::-1]\n",
    "    \n",
    "    #extraire le téléphone inversé\n",
    "    ntel = ''\n",
    "    for i in adress[::-1]:\n",
    "        if i == ':':\n",
    "            break\n",
    "        elif i.isnumeric():#uniquement ajouter les nombres\n",
    "            ntel = ntel + i\n",
    "        else:\n",
    "            continue\n",
    "        \n",
    "    #remettre le num de tel à l'endroit\n",
    "    tel = ''\n",
    "    for i in ntel[::-1]:\n",
    "        tel = tel + i\n",
    "        \n",
    "    return tel.strip()"
   ]
  },
  {
   "cell_type": "markdown",
   "metadata": {},
   "source": [
    "**Fonction effacer téléphone** ( renvoie l'adresse seule"
   ]
  },
  {
   "cell_type": "code",
   "execution_count": 2,
   "metadata": {},
   "outputs": [],
   "source": [
    "def effacer_telephone(d):\n",
    "    #renverser la chaîne\n",
    "    nd = d[::-1]\n",
    "    #trouver la position du dernier tiret\n",
    "    c = nd.find('-')\n",
    "    #retourner la sous chaine de caractère depuis la position+1\n",
    "    snd = nd[(c+1):].strip()\n",
    "    #inverser la sous chaîne une deuxième fois\n",
    "    pnd = snd[::-1]\n",
    "\n",
    "    return pnd\n",
    "    "
   ]
  },
  {
   "cell_type": "markdown",
   "metadata": {},
   "source": [
    "# Scraping des pharmacies de garde sur Casablanca"
   ]
  },
  {
   "cell_type": "markdown",
   "metadata": {},
   "source": [
    "source des données : https://lematin.ma/pharmacie-garde-casablanca.html"
   ]
  },
  {
   "cell_type": "code",
   "execution_count": 3,
   "metadata": {},
   "outputs": [
    {
     "data": {
      "text/plain": [
       "<Response [200]>"
      ]
     },
     "execution_count": 3,
     "metadata": {},
     "output_type": "execute_result"
    }
   ],
   "source": [
    "import requests\n",
    "\n",
    "url = 'https://lematin.ma/pharmacie-garde-casablanca/nuit.html'\n",
    "response = requests.get(url)\n",
    "response"
   ]
  },
  {
   "cell_type": "code",
   "execution_count": 4,
   "metadata": {},
   "outputs": [
    {
     "data": {
      "text/plain": [
       "bs4.BeautifulSoup"
      ]
     },
     "execution_count": 4,
     "metadata": {},
     "output_type": "execute_result"
    }
   ],
   "source": [
    "from bs4 import BeautifulSoup\n",
    "\n",
    "soup = BeautifulSoup(response.text,'html.parser')\n",
    "type(soup)"
   ]
  },
  {
   "cell_type": "code",
   "execution_count": null,
   "metadata": {},
   "outputs": [],
   "source": []
  },
  {
   "cell_type": "code",
   "execution_count": 5,
   "metadata": {},
   "outputs": [],
   "source": [
    "quartiers = soup.find_all('div',class_='lespharmaciengarde')"
   ]
  },
  {
   "cell_type": "code",
   "execution_count": 6,
   "metadata": {},
   "outputs": [
    {
     "data": {
      "text/plain": [
       "[<div class=\"lespharmaciengarde\">\n",
       " <h4><a href=\"/pharmacie-garde-casablanca/nuit/al-fida.html\">Al Fida</a></h4>\n",
       " </div>, <div class=\"lespharmaciengarde\">\n",
       " <h4><a href=\"/pharmacie-garde-casablanca/nuit/sidi-bernoussi.html\">Sidi Bernoussi</a></h4>\n",
       " </div>, <div class=\"lespharmaciengarde\">\n",
       " <h4><a href=\"/pharmacie-garde-casablanca/nuit/belvedere.html\">Belvédère</a></h4>\n",
       " </div>, <div class=\"lespharmaciengarde\">\n",
       " <h4><a href=\"/pharmacie-garde-casablanca/nuit/lissasfa.html\">Lissasfa</a></h4>\n",
       " </div>, <div class=\"lespharmaciengarde\">\n",
       " <h4><a href=\"/pharmacie-garde-casablanca/nuit/sidi-maarouf.html\">Sidi Maarouf</a></h4>\n",
       " </div>, <div class=\"lespharmaciengarde\">\n",
       " <h4><a href=\"/pharmacie-garde-casablanca/nuit/ain-sebaa.html\">Aïn Sebaâ</a></h4>\n",
       " </div>, <div class=\"lespharmaciengarde\">\n",
       " <h4><a href=\"/pharmacie-garde-casablanca/nuit/hay-mohammadi.html\">Hay Mohammadi</a></h4>\n",
       " </div>, <div class=\"lespharmaciengarde\">\n",
       " <h4><a href=\"/pharmacie-garde-casablanca/nuit/hay-moulay-rachid.html\">Hay Moulay Rachid</a></h4>\n",
       " </div>, <div class=\"lespharmaciengarde\">\n",
       " <h4><a href=\"/pharmacie-garde-casablanca/nuit/maarif.html\">Maarif</a></h4>\n",
       " </div>, <div class=\"lespharmaciengarde\">\n",
       " <h4><a href=\"/pharmacie-garde-casablanca/nuit/bourgogne.html\">Bourgogne</a></h4>\n",
       " </div>, <div class=\"lespharmaciengarde\">\n",
       " <h4><a href=\"/pharmacie-garde-casablanca/nuit/oulfa.html\">Oulfa</a></h4>\n",
       " </div>, <div class=\"lespharmaciengarde\">\n",
       " <h4><a href=\"/pharmacie-garde-casablanca/nuit/beausejour.html\">Beauséjour</a></h4>\n",
       " </div>, <div class=\"lespharmaciengarde\">\n",
       " <h4><a href=\"/pharmacie-garde-casablanca/nuit/ben-msick.html\">Ben Msick</a></h4>\n",
       " </div>, <div class=\"lespharmaciengarde\">\n",
       " <h4><a href=\"/pharmacie-garde-casablanca/nuit/sidi-moumen.html\">Sidi Moumen</a></h4>\n",
       " </div>, <div class=\"lespharmaciengarde\">\n",
       " <h4><a href=\"/pharmacie-garde-casablanca/nuit/hay-hassani.html\">Hay Hassani</a></h4>\n",
       " </div>]"
      ]
     },
     "execution_count": 6,
     "metadata": {},
     "output_type": "execute_result"
    }
   ],
   "source": [
    "quartiers"
   ]
  },
  {
   "cell_type": "markdown",
   "metadata": {},
   "source": [
    "**Liste des liens des quartiers **"
   ]
  },
  {
   "cell_type": "code",
   "execution_count": 7,
   "metadata": {},
   "outputs": [],
   "source": [
    "liens = []\n",
    "for i in quartiers:\n",
    "    liens.append(\"https://lematin.ma\"+str(i.find('a')['href']))"
   ]
  },
  {
   "cell_type": "code",
   "execution_count": 8,
   "metadata": {
    "scrolled": true
   },
   "outputs": [
    {
     "name": "stdout",
     "output_type": "stream",
     "text": [
      "https://lematin.ma/pharmacie-garde-casablanca/nuit/al-fida.html\n",
      "https://lematin.ma/pharmacie-garde-casablanca/nuit/sidi-bernoussi.html\n",
      "https://lematin.ma/pharmacie-garde-casablanca/nuit/belvedere.html\n",
      "https://lematin.ma/pharmacie-garde-casablanca/nuit/lissasfa.html\n",
      "https://lematin.ma/pharmacie-garde-casablanca/nuit/sidi-maarouf.html\n",
      "https://lematin.ma/pharmacie-garde-casablanca/nuit/ain-sebaa.html\n",
      "https://lematin.ma/pharmacie-garde-casablanca/nuit/hay-mohammadi.html\n",
      "https://lematin.ma/pharmacie-garde-casablanca/nuit/hay-moulay-rachid.html\n",
      "https://lematin.ma/pharmacie-garde-casablanca/nuit/maarif.html\n",
      "https://lematin.ma/pharmacie-garde-casablanca/nuit/bourgogne.html\n",
      "https://lematin.ma/pharmacie-garde-casablanca/nuit/oulfa.html\n",
      "https://lematin.ma/pharmacie-garde-casablanca/nuit/beausejour.html\n",
      "https://lematin.ma/pharmacie-garde-casablanca/nuit/ben-msick.html\n",
      "https://lematin.ma/pharmacie-garde-casablanca/nuit/sidi-moumen.html\n",
      "https://lematin.ma/pharmacie-garde-casablanca/nuit/hay-hassani.html\n"
     ]
    }
   ],
   "source": [
    "for i in liens:\n",
    "    print(i)"
   ]
  },
  {
   "cell_type": "markdown",
   "metadata": {},
   "source": [
    "** Liste des quartiers **"
   ]
  },
  {
   "cell_type": "code",
   "execution_count": 9,
   "metadata": {},
   "outputs": [
    {
     "name": "stdout",
     "output_type": "stream",
     "text": [
      "Al Fida\n",
      "Sidi Bernoussi\n",
      "Belvédère\n",
      "Lissasfa\n",
      "Sidi Maarouf\n",
      "Aïn Sebaâ\n",
      "Hay Mohammadi\n",
      "Hay Moulay Rachid\n",
      "Maarif\n",
      "Bourgogne\n",
      "Oulfa\n",
      "Beauséjour\n",
      "Ben Msick\n",
      "Sidi Moumen\n",
      "Hay Hassani\n"
     ]
    }
   ],
   "source": [
    "liste_quartiers = []\n",
    "for i in quartiers:\n",
    "    liste_quartiers.append(i.find('h4').text)\n",
    "    print(i.find('h4').text)"
   ]
  },
  {
   "cell_type": "code",
   "execution_count": 10,
   "metadata": {},
   "outputs": [
    {
     "data": {
      "text/plain": [
       "['Al Fida',\n",
       " 'Sidi Bernoussi',\n",
       " 'Belvédère',\n",
       " 'Lissasfa',\n",
       " 'Sidi Maarouf',\n",
       " 'Aïn Sebaâ',\n",
       " 'Hay Mohammadi',\n",
       " 'Hay Moulay Rachid',\n",
       " 'Maarif',\n",
       " 'Bourgogne',\n",
       " 'Oulfa',\n",
       " 'Beauséjour',\n",
       " 'Ben Msick',\n",
       " 'Sidi Moumen',\n",
       " 'Hay Hassani']"
      ]
     },
     "execution_count": 10,
     "metadata": {},
     "output_type": "execute_result"
    }
   ],
   "source": [
    "liste_quartiers"
   ]
  },
  {
   "cell_type": "markdown",
   "metadata": {},
   "source": [
    "Scrap page par page"
   ]
  },
  {
   "cell_type": "code",
   "execution_count": 11,
   "metadata": {},
   "outputs": [],
   "source": [
    "from time import time\n",
    "from time import sleep\n",
    "from random import randint\n",
    "\n",
    "start_time = time()\n",
    "requests = 0\n",
    "\n",
    "from requests import get"
   ]
  },
  {
   "cell_type": "code",
   "execution_count": 12,
   "metadata": {},
   "outputs": [
    {
     "name": "stdout",
     "output_type": "stream",
     "text": [
      "https://lematin.ma/pharmacie-garde-casablanca/nuit/al-fida.html\n",
      "12\n",
      "https://lematin.ma/pharmacie-garde-casablanca/nuit/sidi-bernoussi.html\n",
      "9\n",
      "https://lematin.ma/pharmacie-garde-casablanca/nuit/belvedere.html\n",
      "12\n",
      "https://lematin.ma/pharmacie-garde-casablanca/nuit/lissasfa.html\n",
      "9\n",
      "https://lematin.ma/pharmacie-garde-casablanca/nuit/sidi-maarouf.html\n",
      "13\n",
      "https://lematin.ma/pharmacie-garde-casablanca/nuit/ain-sebaa.html\n",
      "13\n",
      "https://lematin.ma/pharmacie-garde-casablanca/nuit/hay-mohammadi.html\n",
      "9\n",
      "https://lematin.ma/pharmacie-garde-casablanca/nuit/hay-moulay-rachid.html\n",
      "12\n",
      "https://lematin.ma/pharmacie-garde-casablanca/nuit/maarif.html\n",
      "11\n",
      "https://lematin.ma/pharmacie-garde-casablanca/nuit/bourgogne.html\n",
      "9\n",
      "https://lematin.ma/pharmacie-garde-casablanca/nuit/oulfa.html\n",
      "9\n",
      "https://lematin.ma/pharmacie-garde-casablanca/nuit/beausejour.html\n",
      "10\n",
      "https://lematin.ma/pharmacie-garde-casablanca/nuit/ben-msick.html\n",
      "12\n",
      "https://lematin.ma/pharmacie-garde-casablanca/nuit/sidi-moumen.html\n",
      "12\n",
      "https://lematin.ma/pharmacie-garde-casablanca/nuit/hay-hassani.html\n",
      "8\n",
      "*** *** Done *** ***\n"
     ]
    }
   ],
   "source": [
    "noms =[]\n",
    "adresses = []\n",
    "quartiers = []\n",
    "telephones = []\n",
    "\n",
    "for i,j in zip(liens,liste_quartiers):\n",
    "    print(i)\n",
    "    response = get(i)\n",
    "    \n",
    "    timer = randint(8,15)\n",
    "    #pause de loop\n",
    "    print(timer)\n",
    "    sleep(timer)\n",
    "    \n",
    "    #renvoyer un warning pour les non 'status code : 200'\n",
    "    if response.status_code != 200:\n",
    "        warn('Request: {}; Status code: {}'.format(requests, response.status_code))\n",
    "            \n",
    "    #parser en BS\n",
    "    page_html = BeautifulSoup(response.text,'html.parser')\n",
    "    \n",
    "    pharmacies = page_html.find_all('div',class_='pharmacie')\n",
    "    \n",
    "    \"\"\" Noms et adresse \"\"\"\n",
    "    for k in pharmacies:\n",
    "        noms.append(k.find('h5').text) \n",
    "        adresses.append(effacer_telephone(k.find('p').text))\n",
    "        quartiers.append(j)\n",
    "        telephones.append(telephone_pharmacie(k.find('p').text))\n",
    "        \n",
    "    \n",
    "    \n",
    "    \n",
    "\n",
    "print('*** *** Done *** ***')\n",
    "    "
   ]
  },
  {
   "cell_type": "code",
   "execution_count": 13,
   "metadata": {
    "scrolled": true
   },
   "outputs": [
    {
     "data": {
      "text/plain": [
       "['Pharmacie DERB TOLBA',\n",
       " \"Pharmacie DE L'INDUSTRIE\",\n",
       " 'Pharmacie UNIVERS',\n",
       " 'Pharmacie CHARIF IDRISSI',\n",
       " 'Pharmacie ZHOUR']"
      ]
     },
     "execution_count": 13,
     "metadata": {},
     "output_type": "execute_result"
    }
   ],
   "source": [
    "noms[:5]"
   ]
  },
  {
   "cell_type": "code",
   "execution_count": 14,
   "metadata": {},
   "outputs": [
    {
     "data": {
      "text/plain": [
       "20"
      ]
     },
     "execution_count": 14,
     "metadata": {},
     "output_type": "execute_result"
    }
   ],
   "source": [
    "len(noms)"
   ]
  },
  {
   "cell_type": "code",
   "execution_count": 15,
   "metadata": {},
   "outputs": [
    {
     "data": {
      "text/plain": [
       "['RUE 23 N° 50/52 DERB TOLBA & CHORFA - BD. EL FIDA (PLACE SRAGHNAS)',\n",
       " '84, BOULEVARD CHEFCHAOUNI (KM 11.500 - ROUTE 110) - QUARTIER INDUSTRIEL',\n",
       " 'BOULEVARD MOULAY SMAIL ANGLE EMILE ZOLA ROCROY ET ROUTE DE RABAT N° 319/10',\n",
       " 'RIAD SOFIA GH9, E1 N° 201 - LISSASFA',\n",
       " 'CITE SALAM HAY FARAH - HAY HASSANI GH 82 IMMEUBLE 130 A, MAGASIN N° 1']"
      ]
     },
     "execution_count": 15,
     "metadata": {},
     "output_type": "execute_result"
    }
   ],
   "source": [
    "adresses[:5]"
   ]
  },
  {
   "cell_type": "code",
   "execution_count": 16,
   "metadata": {},
   "outputs": [
    {
     "data": {
      "text/plain": [
       "20"
      ]
     },
     "execution_count": 16,
     "metadata": {},
     "output_type": "execute_result"
    }
   ],
   "source": [
    "len(adresses)"
   ]
  },
  {
   "cell_type": "code",
   "execution_count": 17,
   "metadata": {
    "scrolled": true
   },
   "outputs": [
    {
     "data": {
      "text/plain": [
       "['Al Fida', 'Sidi Bernoussi', 'Belvédère', 'Lissasfa', 'Lissasfa']"
      ]
     },
     "execution_count": 17,
     "metadata": {},
     "output_type": "execute_result"
    }
   ],
   "source": [
    "quartiers[:5]"
   ]
  },
  {
   "cell_type": "code",
   "execution_count": 18,
   "metadata": {},
   "outputs": [
    {
     "data": {
      "text/plain": [
       "20"
      ]
     },
     "execution_count": 18,
     "metadata": {},
     "output_type": "execute_result"
    }
   ],
   "source": [
    "len(quartiers)"
   ]
  },
  {
   "cell_type": "code",
   "execution_count": 19,
   "metadata": {},
   "outputs": [
    {
     "data": {
      "text/plain": [
       "['0522853106', '0522352225', '0522242555', '0522650191', '0522909166']"
      ]
     },
     "execution_count": 19,
     "metadata": {},
     "output_type": "execute_result"
    }
   ],
   "source": [
    "telephones[:5]"
   ]
  },
  {
   "cell_type": "code",
   "execution_count": 20,
   "metadata": {},
   "outputs": [
    {
     "data": {
      "text/plain": [
       "20"
      ]
     },
     "execution_count": 20,
     "metadata": {},
     "output_type": "execute_result"
    }
   ],
   "source": [
    "len(telephones)"
   ]
  },
  {
   "cell_type": "code",
   "execution_count": 21,
   "metadata": {},
   "outputs": [],
   "source": [
    "garde = []\n",
    "for i,j,k,l in zip(noms,adresses,quartiers,telephones):\n",
    "    t = (i,j,k,l)\n",
    "    garde.append(t)"
   ]
  },
  {
   "cell_type": "code",
   "execution_count": 22,
   "metadata": {
    "scrolled": true
   },
   "outputs": [
    {
     "name": "stdout",
     "output_type": "stream",
     "text": [
      "[('Pharmacie DERB TOLBA', 'RUE 23 N° 50/52 DERB TOLBA & CHORFA - BD. EL FIDA (PLACE SRAGHNAS)', 'Al Fida', '0522853106'), (\"Pharmacie DE L'INDUSTRIE\", '84, BOULEVARD CHEFCHAOUNI (KM 11.500 - ROUTE 110) - QUARTIER INDUSTRIEL', 'Sidi Bernoussi', '0522352225'), ('Pharmacie UNIVERS', 'BOULEVARD MOULAY SMAIL ANGLE EMILE ZOLA ROCROY ET ROUTE DE RABAT N° 319/10', 'Belvédère', '0522242555'), ('Pharmacie CHARIF IDRISSI', 'RIAD SOFIA GH9, E1 N° 201 - LISSASFA', 'Lissasfa', '0522650191'), ('Pharmacie ZHOUR', 'CITE SALAM HAY FARAH - HAY HASSANI GH 82 IMMEUBLE 130 A, MAGASIN N° 1', 'Lissasfa', '0522909166'), ('Pharmacie AHMED ALI', 'LOTISSEMENT EL FATH, N° 60 BIS - SIDI MAAROUF', 'Sidi Maarouf', '0522973216'), ('Pharmacie HAY BOUCHRA', '44, LOTISSEMENT BOUCHRA - SIDI MAAROUF (A COTE ECOLE BOUCHRA)', 'Sidi Maarouf', '0522581949'), ('Pharmacie DES CITRONNIERS', '29BIS, ALLEE DES CITRONNIERS - AIN SEBAA', 'Aïn Sebaâ', '0522344670'), ('Pharmacie AFAK', 'BLOC 22 , RUE 6 N° 74 - HAY MOHAMMADI - ECOLE OMAR IBNOU KHETTAB - CINEMA SAADA', 'Hay Mohammadi', '0522628370'), ('Pharmacie ZONE INDUSTRIELLE', '41, BD ABDELKADER SAHRAOUI GROUPE 6', 'Hay Moulay Rachid', '0522709190'), ('Pharmacie DES PRELES', '18 RUE BRAHIM NAKHAI (EX. MONT CINTO) BD. YACOUB EL MANSOUR', 'Maarif', '0522234033'), ('Pharmacie ANOUAL', 'BD. ANOUAL - ANGLE ALLEE DU LION (A COTE COMMUNE ANOUAL & RADIOLOGIE ANOUAL)', 'Maarif', '0522861120'), ('Pharmacie NOUVELLE ERE', 'RUE MOSTAFA CHOUKRI \"PETCHOU\" BLOC 15 N° 1 - ROMANDIE II (EN FACE STADE D\\'HONNEUR)', 'Maarif', '0522945347'), ('Pharmacie EDEN', '13, RUE JAAFAR IBN HABIB - BD. DE BOURGOGNE - DOUAR SIDI BRAHIM (ANGLE BANQUE POPULAIRE & BMCI) LAHJAJMA', 'Bourgogne', '0522492879'), ('Pharmacie LE BIEN-ETRE', 'LOTISSEMENT EL AZHARI 2 - RUE 77 N° 53/55/57 - EL OULFA', 'Oulfa', '0522932680'), ('Pharmacie ODYSSEE', '15 BIS, RUE TANANE, FERME BRETONNE - BEAUSEJOUR (EN FACE DU C.A.F.)', 'Beauséjour', '0522255263'), ('Pharmacie ADIBA', '181 AV.REDA GUEDIRA (EX. AV. NIL) - CITE DJEMAA', 'Ben Msick', '0522373936'), ('Pharmacie AL MARWA', 'IKAMAT AL BOUSTANE IMM A 5 N° 8 - SIDI MOUMEN', 'Sidi Moumen', '0522704849'), ('Pharmacie AL ARABIYA', 'LOTISSEMENT AL FALAH TRANCHE I - LOT 205 MAGASIN 2 SIDI MOUMEN', 'Sidi Moumen', '0522719885'), ('Pharmacie IBNOU SINA HAY HASSANI', 'RESIDENCE AL BARAKA - AVENUE IBN SINA - FACE RESIDENCE OUALILI (POLICE) - HAY HASSANI', 'Hay Hassani', '0522904269')]\n"
     ]
    }
   ],
   "source": [
    "print(garde)"
   ]
  },
  {
   "cell_type": "markdown",
   "metadata": {},
   "source": [
    "## Convertir en objet pandas"
   ]
  },
  {
   "cell_type": "code",
   "execution_count": 23,
   "metadata": {},
   "outputs": [],
   "source": [
    "import pandas as pd"
   ]
  },
  {
   "cell_type": "code",
   "execution_count": 24,
   "metadata": {},
   "outputs": [],
   "source": [
    "df = pd.DataFrame(garde,columns=['nom','adresse','quartier','telephone'])"
   ]
  },
  {
   "cell_type": "code",
   "execution_count": 25,
   "metadata": {},
   "outputs": [
    {
     "data": {
      "text/html": [
       "<div>\n",
       "<style>\n",
       "    .dataframe thead tr:only-child th {\n",
       "        text-align: right;\n",
       "    }\n",
       "\n",
       "    .dataframe thead th {\n",
       "        text-align: left;\n",
       "    }\n",
       "\n",
       "    .dataframe tbody tr th {\n",
       "        vertical-align: top;\n",
       "    }\n",
       "</style>\n",
       "<table border=\"1\" class=\"dataframe\">\n",
       "  <thead>\n",
       "    <tr style=\"text-align: right;\">\n",
       "      <th></th>\n",
       "      <th>nom</th>\n",
       "      <th>adresse</th>\n",
       "      <th>quartier</th>\n",
       "      <th>telephone</th>\n",
       "    </tr>\n",
       "  </thead>\n",
       "  <tbody>\n",
       "    <tr>\n",
       "      <th>0</th>\n",
       "      <td>Pharmacie DERB TOLBA</td>\n",
       "      <td>RUE 23 N° 50/52 DERB TOLBA &amp; CHORFA - BD. EL F...</td>\n",
       "      <td>Al Fida</td>\n",
       "      <td>0522853106</td>\n",
       "    </tr>\n",
       "    <tr>\n",
       "      <th>1</th>\n",
       "      <td>Pharmacie DE L'INDUSTRIE</td>\n",
       "      <td>84, BOULEVARD CHEFCHAOUNI (KM 11.500 - ROUTE 1...</td>\n",
       "      <td>Sidi Bernoussi</td>\n",
       "      <td>0522352225</td>\n",
       "    </tr>\n",
       "    <tr>\n",
       "      <th>2</th>\n",
       "      <td>Pharmacie UNIVERS</td>\n",
       "      <td>BOULEVARD MOULAY SMAIL ANGLE EMILE ZOLA ROCROY...</td>\n",
       "      <td>Belvédère</td>\n",
       "      <td>0522242555</td>\n",
       "    </tr>\n",
       "    <tr>\n",
       "      <th>3</th>\n",
       "      <td>Pharmacie CHARIF IDRISSI</td>\n",
       "      <td>RIAD SOFIA GH9, E1 N° 201 - LISSASFA</td>\n",
       "      <td>Lissasfa</td>\n",
       "      <td>0522650191</td>\n",
       "    </tr>\n",
       "    <tr>\n",
       "      <th>4</th>\n",
       "      <td>Pharmacie ZHOUR</td>\n",
       "      <td>CITE SALAM HAY FARAH - HAY HASSANI GH 82 IMMEU...</td>\n",
       "      <td>Lissasfa</td>\n",
       "      <td>0522909166</td>\n",
       "    </tr>\n",
       "    <tr>\n",
       "      <th>5</th>\n",
       "      <td>Pharmacie AHMED ALI</td>\n",
       "      <td>LOTISSEMENT EL FATH, N° 60 BIS - SIDI MAAROUF</td>\n",
       "      <td>Sidi Maarouf</td>\n",
       "      <td>0522973216</td>\n",
       "    </tr>\n",
       "    <tr>\n",
       "      <th>6</th>\n",
       "      <td>Pharmacie HAY BOUCHRA</td>\n",
       "      <td>44, LOTISSEMENT BOUCHRA - SIDI MAAROUF (A COTE...</td>\n",
       "      <td>Sidi Maarouf</td>\n",
       "      <td>0522581949</td>\n",
       "    </tr>\n",
       "    <tr>\n",
       "      <th>7</th>\n",
       "      <td>Pharmacie DES CITRONNIERS</td>\n",
       "      <td>29BIS, ALLEE DES CITRONNIERS - AIN SEBAA</td>\n",
       "      <td>Aïn Sebaâ</td>\n",
       "      <td>0522344670</td>\n",
       "    </tr>\n",
       "    <tr>\n",
       "      <th>8</th>\n",
       "      <td>Pharmacie AFAK</td>\n",
       "      <td>BLOC 22 , RUE 6 N° 74 - HAY MOHAMMADI - ECOLE ...</td>\n",
       "      <td>Hay Mohammadi</td>\n",
       "      <td>0522628370</td>\n",
       "    </tr>\n",
       "    <tr>\n",
       "      <th>9</th>\n",
       "      <td>Pharmacie ZONE INDUSTRIELLE</td>\n",
       "      <td>41, BD ABDELKADER SAHRAOUI GROUPE 6</td>\n",
       "      <td>Hay Moulay Rachid</td>\n",
       "      <td>0522709190</td>\n",
       "    </tr>\n",
       "    <tr>\n",
       "      <th>10</th>\n",
       "      <td>Pharmacie DES PRELES</td>\n",
       "      <td>18 RUE BRAHIM NAKHAI (EX. MONT CINTO) BD. YACO...</td>\n",
       "      <td>Maarif</td>\n",
       "      <td>0522234033</td>\n",
       "    </tr>\n",
       "    <tr>\n",
       "      <th>11</th>\n",
       "      <td>Pharmacie ANOUAL</td>\n",
       "      <td>BD. ANOUAL - ANGLE ALLEE DU LION (A COTE COMMU...</td>\n",
       "      <td>Maarif</td>\n",
       "      <td>0522861120</td>\n",
       "    </tr>\n",
       "    <tr>\n",
       "      <th>12</th>\n",
       "      <td>Pharmacie NOUVELLE ERE</td>\n",
       "      <td>RUE MOSTAFA CHOUKRI \"PETCHOU\" BLOC 15 N° 1 - R...</td>\n",
       "      <td>Maarif</td>\n",
       "      <td>0522945347</td>\n",
       "    </tr>\n",
       "    <tr>\n",
       "      <th>13</th>\n",
       "      <td>Pharmacie EDEN</td>\n",
       "      <td>13, RUE JAAFAR IBN HABIB - BD. DE BOURGOGNE - ...</td>\n",
       "      <td>Bourgogne</td>\n",
       "      <td>0522492879</td>\n",
       "    </tr>\n",
       "    <tr>\n",
       "      <th>14</th>\n",
       "      <td>Pharmacie LE BIEN-ETRE</td>\n",
       "      <td>LOTISSEMENT EL AZHARI 2 - RUE 77 N° 53/55/57 -...</td>\n",
       "      <td>Oulfa</td>\n",
       "      <td>0522932680</td>\n",
       "    </tr>\n",
       "    <tr>\n",
       "      <th>15</th>\n",
       "      <td>Pharmacie ODYSSEE</td>\n",
       "      <td>15 BIS, RUE TANANE, FERME BRETONNE - BEAUSEJOU...</td>\n",
       "      <td>Beauséjour</td>\n",
       "      <td>0522255263</td>\n",
       "    </tr>\n",
       "    <tr>\n",
       "      <th>16</th>\n",
       "      <td>Pharmacie ADIBA</td>\n",
       "      <td>181 AV.REDA GUEDIRA (EX. AV. NIL) - CITE DJEMAA</td>\n",
       "      <td>Ben Msick</td>\n",
       "      <td>0522373936</td>\n",
       "    </tr>\n",
       "    <tr>\n",
       "      <th>17</th>\n",
       "      <td>Pharmacie AL MARWA</td>\n",
       "      <td>IKAMAT AL BOUSTANE IMM A 5 N° 8 - SIDI MOUMEN</td>\n",
       "      <td>Sidi Moumen</td>\n",
       "      <td>0522704849</td>\n",
       "    </tr>\n",
       "    <tr>\n",
       "      <th>18</th>\n",
       "      <td>Pharmacie AL ARABIYA</td>\n",
       "      <td>LOTISSEMENT AL FALAH TRANCHE I - LOT 205 MAGAS...</td>\n",
       "      <td>Sidi Moumen</td>\n",
       "      <td>0522719885</td>\n",
       "    </tr>\n",
       "    <tr>\n",
       "      <th>19</th>\n",
       "      <td>Pharmacie IBNOU SINA HAY HASSANI</td>\n",
       "      <td>RESIDENCE AL BARAKA - AVENUE IBN SINA - FACE R...</td>\n",
       "      <td>Hay Hassani</td>\n",
       "      <td>0522904269</td>\n",
       "    </tr>\n",
       "  </tbody>\n",
       "</table>\n",
       "</div>"
      ],
      "text/plain": [
       "                                 nom  \\\n",
       "0               Pharmacie DERB TOLBA   \n",
       "1           Pharmacie DE L'INDUSTRIE   \n",
       "2                  Pharmacie UNIVERS   \n",
       "3           Pharmacie CHARIF IDRISSI   \n",
       "4                    Pharmacie ZHOUR   \n",
       "5                Pharmacie AHMED ALI   \n",
       "6              Pharmacie HAY BOUCHRA   \n",
       "7          Pharmacie DES CITRONNIERS   \n",
       "8                     Pharmacie AFAK   \n",
       "9        Pharmacie ZONE INDUSTRIELLE   \n",
       "10              Pharmacie DES PRELES   \n",
       "11                  Pharmacie ANOUAL   \n",
       "12            Pharmacie NOUVELLE ERE   \n",
       "13                    Pharmacie EDEN   \n",
       "14            Pharmacie LE BIEN-ETRE   \n",
       "15                 Pharmacie ODYSSEE   \n",
       "16                   Pharmacie ADIBA   \n",
       "17                Pharmacie AL MARWA   \n",
       "18              Pharmacie AL ARABIYA   \n",
       "19  Pharmacie IBNOU SINA HAY HASSANI   \n",
       "\n",
       "                                              adresse           quartier  \\\n",
       "0   RUE 23 N° 50/52 DERB TOLBA & CHORFA - BD. EL F...            Al Fida   \n",
       "1   84, BOULEVARD CHEFCHAOUNI (KM 11.500 - ROUTE 1...     Sidi Bernoussi   \n",
       "2   BOULEVARD MOULAY SMAIL ANGLE EMILE ZOLA ROCROY...          Belvédère   \n",
       "3                RIAD SOFIA GH9, E1 N° 201 - LISSASFA           Lissasfa   \n",
       "4   CITE SALAM HAY FARAH - HAY HASSANI GH 82 IMMEU...           Lissasfa   \n",
       "5       LOTISSEMENT EL FATH, N° 60 BIS - SIDI MAAROUF       Sidi Maarouf   \n",
       "6   44, LOTISSEMENT BOUCHRA - SIDI MAAROUF (A COTE...       Sidi Maarouf   \n",
       "7            29BIS, ALLEE DES CITRONNIERS - AIN SEBAA          Aïn Sebaâ   \n",
       "8   BLOC 22 , RUE 6 N° 74 - HAY MOHAMMADI - ECOLE ...      Hay Mohammadi   \n",
       "9                 41, BD ABDELKADER SAHRAOUI GROUPE 6  Hay Moulay Rachid   \n",
       "10  18 RUE BRAHIM NAKHAI (EX. MONT CINTO) BD. YACO...             Maarif   \n",
       "11  BD. ANOUAL - ANGLE ALLEE DU LION (A COTE COMMU...             Maarif   \n",
       "12  RUE MOSTAFA CHOUKRI \"PETCHOU\" BLOC 15 N° 1 - R...             Maarif   \n",
       "13  13, RUE JAAFAR IBN HABIB - BD. DE BOURGOGNE - ...          Bourgogne   \n",
       "14  LOTISSEMENT EL AZHARI 2 - RUE 77 N° 53/55/57 -...              Oulfa   \n",
       "15  15 BIS, RUE TANANE, FERME BRETONNE - BEAUSEJOU...         Beauséjour   \n",
       "16    181 AV.REDA GUEDIRA (EX. AV. NIL) - CITE DJEMAA          Ben Msick   \n",
       "17      IKAMAT AL BOUSTANE IMM A 5 N° 8 - SIDI MOUMEN        Sidi Moumen   \n",
       "18  LOTISSEMENT AL FALAH TRANCHE I - LOT 205 MAGAS...        Sidi Moumen   \n",
       "19  RESIDENCE AL BARAKA - AVENUE IBN SINA - FACE R...        Hay Hassani   \n",
       "\n",
       "     telephone  \n",
       "0   0522853106  \n",
       "1   0522352225  \n",
       "2   0522242555  \n",
       "3   0522650191  \n",
       "4   0522909166  \n",
       "5   0522973216  \n",
       "6   0522581949  \n",
       "7   0522344670  \n",
       "8   0522628370  \n",
       "9   0522709190  \n",
       "10  0522234033  \n",
       "11  0522861120  \n",
       "12  0522945347  \n",
       "13  0522492879  \n",
       "14  0522932680  \n",
       "15  0522255263  \n",
       "16  0522373936  \n",
       "17  0522704849  \n",
       "18  0522719885  \n",
       "19  0522904269  "
      ]
     },
     "execution_count": 25,
     "metadata": {},
     "output_type": "execute_result"
    }
   ],
   "source": [
    "df"
   ]
  },
  {
   "cell_type": "markdown",
   "metadata": {},
   "source": [
    "## Exporter en JSON"
   ]
  },
  {
   "cell_type": "code",
   "execution_count": 26,
   "metadata": {},
   "outputs": [],
   "source": [
    "df.to_json(\"pdg_nuit\",orient=\"records\")"
   ]
  },
  {
   "cell_type": "markdown",
   "metadata": {},
   "source": [
    "### Scraping the date"
   ]
  },
  {
   "cell_type": "code",
   "execution_count": 30,
   "metadata": {},
   "outputs": [
    {
     "data": {
      "text/plain": [
       "'Casablanca 03 décembre 2019 '"
      ]
     },
     "execution_count": 30,
     "metadata": {},
     "output_type": "execute_result"
    }
   ],
   "source": [
    "soup.find('div',class_='py-4 px-4 meteo-bloc border-r').find('p').text"
   ]
  },
  {
   "cell_type": "markdown",
   "metadata": {},
   "source": [
    "** -------------- **"
   ]
  }
 ],
 "metadata": {
  "kernelspec": {
   "display_name": "Python 3",
   "language": "python",
   "name": "python3"
  },
  "language_info": {
   "codemirror_mode": {
    "name": "ipython",
    "version": 3
   },
   "file_extension": ".py",
   "mimetype": "text/x-python",
   "name": "python",
   "nbconvert_exporter": "python",
   "pygments_lexer": "ipython3",
   "version": "3.6.1"
  }
 },
 "nbformat": 4,
 "nbformat_minor": 2
}
