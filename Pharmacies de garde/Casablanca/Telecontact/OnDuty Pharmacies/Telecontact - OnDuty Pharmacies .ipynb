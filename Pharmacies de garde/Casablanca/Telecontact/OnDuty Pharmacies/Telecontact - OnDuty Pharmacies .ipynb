{
 "cells": [
  {
   "cell_type": "markdown",
   "metadata": {},
   "source": [
    "# On Duty Pharmacies directly from TeleContact\n"
   ]
  },
  {
   "cell_type": "code",
   "execution_count": 1,
   "metadata": {},
   "outputs": [
    {
     "data": {
      "text/plain": [
       "<Response [200]>"
      ]
     },
     "execution_count": 1,
     "metadata": {},
     "output_type": "execute_result"
    }
   ],
   "source": [
    "import requests\n",
    "\n",
    "url = 'https://www.telecontact.ma/services/pharmacies-de-garde/casablanca-Maroc'\n",
    "response = requests.get(url)\n",
    "response"
   ]
  },
  {
   "cell_type": "code",
   "execution_count": 2,
   "metadata": {},
   "outputs": [
    {
     "data": {
      "text/plain": [
       "'<!DOCTYPE html PUBLIC \"-//W3C//DTD XHTML 1.0 Transitional//EN\" \"http://www.w3.org/TR/xhtml1/DTD/xhtm'"
      ]
     },
     "execution_count": 2,
     "metadata": {},
     "output_type": "execute_result"
    }
   ],
   "source": [
    "response.text[:100]"
   ]
  },
  {
   "cell_type": "code",
   "execution_count": 3,
   "metadata": {},
   "outputs": [
    {
     "data": {
      "text/plain": [
       "bs4.BeautifulSoup"
      ]
     },
     "execution_count": 3,
     "metadata": {},
     "output_type": "execute_result"
    }
   ],
   "source": [
    "from bs4 import BeautifulSoup\n",
    "\n",
    "soup = BeautifulSoup(response.text,'html.parser')\n",
    "type(soup)"
   ]
  },
  {
   "cell_type": "markdown",
   "metadata": {},
   "source": [
    "### Results "
   ]
  },
  {
   "cell_type": "code",
   "execution_count": 4,
   "metadata": {},
   "outputs": [],
   "source": [
    "results = soup.find('section',id='engine-results')"
   ]
  },
  {
   "cell_type": "code",
   "execution_count": 5,
   "metadata": {},
   "outputs": [],
   "source": [
    "rs = results.find_all('div')"
   ]
  },
  {
   "cell_type": "code",
   "execution_count": 13,
   "metadata": {},
   "outputs": [
    {
     "data": {
      "text/plain": [
       "'Pharmacie Ain Chok'"
      ]
     },
     "execution_count": 13,
     "metadata": {},
     "output_type": "execute_result"
    }
   ],
   "source": [
    "soup.find('span',id='resultats_h3_span').find('a').text"
   ]
  },
  {
   "cell_type": "code",
   "execution_count": 14,
   "metadata": {},
   "outputs": [
    {
     "data": {
      "text/plain": [
       "'  Quartier: Aïn chok'"
      ]
     },
     "execution_count": 14,
     "metadata": {},
     "output_type": "execute_result"
    }
   ],
   "source": [
    "soup.find('div',class_=\"col-xs-12 p-garde-quartier no-margin\").text"
   ]
  },
  {
   "cell_type": "code",
   "execution_count": 54,
   "metadata": {},
   "outputs": [
    {
     "name": "stdout",
     "output_type": "stream",
     "text": [
      " Aïn chok\n",
      "Pharmacie Ain Chok\n",
      "Pharmacie Ain Chok\n",
      "Pharmacie Ain Chok\n",
      "Pharmacie Hay R'Mila\n",
      "Pharmacie Hay R'Mila\n",
      "Pharmacie Hay R'Mila\n",
      "Pharmacie Abdessalam\n",
      "Pharmacie Abdessalam\n",
      "Pharmacie Abdessalam\n",
      "Pharmacie Raji\n",
      "Pharmacie Raji\n",
      "Pharmacie Raji\n",
      "Pharmacie El Baraka 2\n",
      "Pharmacie El Baraka 2\n",
      "Pharmacie El Baraka 2\n",
      " Aïn diab\n",
      "Pharmacie Chafik\n",
      "Pharmacie Chafik\n",
      "Pharmacie Chafik\n",
      " Aïn sebaâ\n",
      "Pharmacie du Zoo\n",
      "Pharmacie du Zoo\n",
      "Pharmacie du Zoo\n",
      " Beauséjour\n",
      "Pharmacie AlWouroud\n",
      "Pharmacie AlWouroud\n",
      "Pharmacie AlWouroud\n",
      " Belvédère\n",
      "Pharmacie des Halles\n",
      "Pharmacie des Halles\n",
      "Pharmacie des Halles\n",
      " Bourgogne\n",
      "Pharmacie Marina\n",
      "Pharmacie Marina\n",
      "Pharmacie Marina\n",
      " Californie\n",
      "Pharmacie Soulaima\n",
      "Pharmacie Soulaima\n",
      "Pharmacie Soulaima\n",
      " Centre ville\n",
      "Pharmacie de la Bourse\n",
      "Pharmacie de la Bourse\n",
      "Pharmacie de la Bourse\n",
      " Derb ghalef\n",
      "Pharmacie Zaouia\n",
      "Pharmacie Zaouia\n",
      "Pharmacie Zaouia\n",
      " Hay el farah\n",
      "Pharmacie Areski\n",
      "Pharmacie Areski\n",
      "Pharmacie Areski\n",
      " Hay hassani\n",
      "Pharmacie Assafa\n",
      "Pharmacie Assafa\n",
      "Pharmacie Assafa\n",
      " Hay mohammadi\n",
      "Pharmacie Moulay Cherif\n",
      "Pharmacie Moulay Cherif\n",
      "Pharmacie Moulay Cherif\n",
      "Pharmacie Moulay Ismaïl\n",
      "Pharmacie Moulay Ismaïl\n",
      "Pharmacie Moulay Ismaïl\n",
      " Hay moulay rachid\n",
      "Pharmacie Joudar\n",
      "Pharmacie Joudar\n",
      "Pharmacie Joudar\n",
      " Lissasfa\n",
      "Pharmacie Touati\n",
      "Pharmacie Touati\n",
      "Pharmacie Touati\n",
      " Mers sultan\n",
      "Pharmacie Moulay Idriss 1er\n",
      "Pharmacie Moulay Idriss 1er\n",
      "Pharmacie Moulay Idriss 1er\n",
      " Nouvelle médina\n",
      "Pharmacie les AlMohades\n",
      "Pharmacie les AlMohades\n",
      "Pharmacie les AlMohades\n",
      " Oukacha\n",
      "Pharmacie Moulay Slimane\n",
      "Pharmacie Moulay Slimane\n",
      "Pharmacie Moulay Slimane\n",
      " Oulfa\n",
      "Pharmacie Abi Regrag\n",
      "Pharmacie Abi Regrag\n",
      "Pharmacie Abi Regrag\n",
      "Pharmacie Al Qodouss\n",
      "Pharmacie Al Qodouss\n",
      "Pharmacie Al Qodouss\n",
      " Polo\n",
      "Pharmacie Bab Taddart\n",
      "Pharmacie Bab Taddart\n",
      "Pharmacie Bab Taddart\n",
      " Racine\n",
      "Pharmacie Les Iris\n",
      "Pharmacie Les Iris\n",
      "Pharmacie Les Iris\n",
      " Sbata\n",
      "Pharmacie ElMansour\n",
      "Pharmacie ElMansour\n",
      "Pharmacie ElMansour\n",
      "Pharmacie BismiAllah\n",
      "Pharmacie BismiAllah\n",
      "Pharmacie BismiAllah\n",
      " Sidi bernoussi\n",
      "Pharmacie Fatihat Elkheir\n",
      "Pharmacie Fatihat Elkheir\n",
      "Pharmacie Fatihat Elkheir\n",
      "Pharmacie la Rosa\n",
      "Pharmacie la Rosa\n",
      "Pharmacie la Rosa\n",
      " Sidi maarouf\n",
      "Pharmacie Ibn Taimia\n",
      "Pharmacie Ibn Taimia\n",
      "Pharmacie Ibn Taimia\n",
      "Pharmacie Tmime\n",
      "Pharmacie Tmime\n",
      "Pharmacie Tmime\n",
      " Sidi moumen\n",
      "Pharmacie ElBadie\n",
      "Pharmacie ElBadie\n",
      "Pharmacie ElBadie\n",
      "Pharmacie Abdellatif\n",
      "Pharmacie Abdellatif\n",
      "Pharmacie Abdellatif\n",
      "Pharmacie AlHayat\n",
      "Pharmacie AlHayat\n",
      "Pharmacie AlHayat\n",
      "Pharmacie Al Maghariba\n",
      "Pharmacie Al Maghariba\n",
      "Pharmacie Al Maghariba\n",
      " Sidi othman\n",
      "Pharmacie Bouazzaoui\n",
      "Pharmacie Bouazzaoui\n",
      "Pharmacie Bouazzaoui\n",
      " Val fleuri\n",
      "Pharmacie Addoha\n",
      "Pharmacie Addoha\n",
      "Pharmacie Addoha\n",
      " Autre\n",
      "Pharmacie Adil\n",
      "Pharmacie Adil\n",
      "Pharmacie Adil\n",
      " La villette\n",
      "Pharmacie hay Makam\n",
      "Pharmacie hay Makam\n",
      "Pharmacie hay Makam\n"
     ]
    }
   ],
   "source": [
    "phs = []\n",
    "x = \"\"\n",
    "\n",
    "for i in rs:\n",
    "    \n",
    "    #print(type(i))\n",
    "    \n",
    "    if i is not None and (\"Quartier:\" in i.text):\n",
    "        q = (i.text).strip()\n",
    "        q = q.replace(\"Quartier:\",\"\")\n",
    "        print(q)\n",
    "    elif i is not None and i.find('span',id='resultats_h3_span') is not None:\n",
    "        print(i.find('span',id='resultats_h3_span').find('a',class_='moodalbox').text)\n",
    "        p = i.find('span',id='resultats_h3_span').find('a',class_='moodalbox').text\n",
    "        phs.append((q,p))\n",
    "    \n",
    "        \n",
    "        \n",
    "#        print(\"--\"+str(i.find('div',class_=\"col-xs-12 p-garde-quartier no-margin\").text))\n",
    "#    else:\n",
    "#        print(\"HUmmm Chais pas\")\n",
    "    \n",
    "        "
   ]
  },
  {
   "cell_type": "code",
   "execution_count": 55,
   "metadata": {},
   "outputs": [
    {
     "data": {
      "text/plain": [
       "[(' Aïn chok', 'Pharmacie Ain Chok'),\n",
       " (' Aïn chok', \"Pharmacie Hay R'Mila\"),\n",
       " (' Aïn chok', 'Pharmacie Abdessalam'),\n",
       " (' Aïn chok', 'Pharmacie Raji'),\n",
       " (' Aïn chok', 'Pharmacie El Baraka 2'),\n",
       " (' Aïn diab', 'Pharmacie Chafik'),\n",
       " (' Aïn sebaâ', 'Pharmacie du Zoo'),\n",
       " (' Beauséjour', 'Pharmacie AlWouroud'),\n",
       " (' Belvédère', 'Pharmacie des Halles'),\n",
       " (' Bourgogne', 'Pharmacie Marina'),\n",
       " (' Californie', 'Pharmacie Soulaima'),\n",
       " (' Centre ville', 'Pharmacie de la Bourse'),\n",
       " (' Derb ghalef', 'Pharmacie Zaouia'),\n",
       " (' Hay el farah', 'Pharmacie Areski'),\n",
       " (' Hay hassani', 'Pharmacie Assafa'),\n",
       " (' Hay mohammadi', 'Pharmacie Moulay Cherif'),\n",
       " (' Hay mohammadi', 'Pharmacie Moulay Ismaïl'),\n",
       " (' Hay moulay rachid', 'Pharmacie Joudar'),\n",
       " (' Lissasfa', 'Pharmacie Touati'),\n",
       " (' Mers sultan', 'Pharmacie Moulay Idriss 1er'),\n",
       " (' Nouvelle médina', 'Pharmacie les AlMohades'),\n",
       " (' Oukacha', 'Pharmacie Moulay Slimane'),\n",
       " (' Oulfa', 'Pharmacie Abi Regrag'),\n",
       " (' Oulfa', 'Pharmacie Al Qodouss'),\n",
       " (' Polo', 'Pharmacie Bab Taddart'),\n",
       " (' Racine', 'Pharmacie Les Iris'),\n",
       " (' Sbata', 'Pharmacie ElMansour'),\n",
       " (' Sbata', 'Pharmacie BismiAllah'),\n",
       " (' Sidi bernoussi', 'Pharmacie Fatihat Elkheir'),\n",
       " (' Sidi bernoussi', 'Pharmacie la Rosa'),\n",
       " (' Sidi maarouf', 'Pharmacie Ibn Taimia'),\n",
       " (' Sidi maarouf', 'Pharmacie Tmime'),\n",
       " (' Sidi moumen', 'Pharmacie ElBadie'),\n",
       " (' Sidi moumen', 'Pharmacie Abdellatif'),\n",
       " (' Sidi moumen', 'Pharmacie AlHayat'),\n",
       " (' Sidi moumen', 'Pharmacie Al Maghariba'),\n",
       " (' Sidi othman', 'Pharmacie Bouazzaoui'),\n",
       " (' Val fleuri', 'Pharmacie Addoha'),\n",
       " (' Autre', 'Pharmacie Adil'),\n",
       " (' La villette', 'Pharmacie hay Makam')]"
      ]
     },
     "execution_count": 55,
     "metadata": {},
     "output_type": "execute_result"
    }
   ],
   "source": [
    "phs = list(dict.fromkeys(phs))\n",
    "phs"
   ]
  },
  {
   "cell_type": "code",
   "execution_count": null,
   "metadata": {},
   "outputs": [],
   "source": []
  }
 ],
 "metadata": {
  "kernelspec": {
   "display_name": "Python 3",
   "language": "python",
   "name": "python3"
  },
  "language_info": {
   "codemirror_mode": {
    "name": "ipython",
    "version": 3
   },
   "file_extension": ".py",
   "mimetype": "text/x-python",
   "name": "python",
   "nbconvert_exporter": "python",
   "pygments_lexer": "ipython3",
   "version": "3.6.1"
  }
 },
 "nbformat": 4,
 "nbformat_minor": 2
}
