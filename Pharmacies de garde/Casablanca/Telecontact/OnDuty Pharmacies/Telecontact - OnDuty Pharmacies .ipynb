{
 "cells": [
  {
   "cell_type": "markdown",
   "metadata": {},
   "source": [
    "# On Duty Pharmacies directly from TeleContact\n"
   ]
  },
  {
   "cell_type": "code",
   "execution_count": 1,
   "metadata": {},
   "outputs": [
    {
     "data": {
      "text/plain": [
       "<Response [200]>"
      ]
     },
     "execution_count": 1,
     "metadata": {},
     "output_type": "execute_result"
    }
   ],
   "source": [
    "import requests\n",
    "\n",
    "url = 'https://www.telecontact.ma/services/pharmacies-de-garde/casablanca-Maroc'\n",
    "response = requests.get(url)\n",
    "response"
   ]
  },
  {
   "cell_type": "code",
   "execution_count": 2,
   "metadata": {},
   "outputs": [
    {
     "data": {
      "text/plain": [
       "'<!DOCTYPE html PUBLIC \"-//W3C//DTD XHTML 1.0 Transitional//EN\" \"http://www.w3.org/TR/xhtml1/DTD/xhtm'"
      ]
     },
     "execution_count": 2,
     "metadata": {},
     "output_type": "execute_result"
    }
   ],
   "source": [
    "response.text[:100]"
   ]
  },
  {
   "cell_type": "code",
   "execution_count": 3,
   "metadata": {},
   "outputs": [
    {
     "data": {
      "text/plain": [
       "bs4.BeautifulSoup"
      ]
     },
     "execution_count": 3,
     "metadata": {},
     "output_type": "execute_result"
    }
   ],
   "source": [
    "from bs4 import BeautifulSoup\n",
    "\n",
    "soup = BeautifulSoup(response.text,'html.parser')\n",
    "type(soup)"
   ]
  },
  {
   "cell_type": "markdown",
   "metadata": {},
   "source": [
    "### Results "
   ]
  },
  {
   "cell_type": "code",
   "execution_count": 4,
   "metadata": {},
   "outputs": [],
   "source": [
    "results = soup.find('section',id='engine-results')"
   ]
  },
  {
   "cell_type": "code",
   "execution_count": 5,
   "metadata": {},
   "outputs": [],
   "source": [
    "rs = results.find_all('div')"
   ]
  },
  {
   "cell_type": "code",
   "execution_count": 13,
   "metadata": {},
   "outputs": [
    {
     "data": {
      "text/plain": [
       "'Pharmacie Ain Chok'"
      ]
     },
     "execution_count": 13,
     "metadata": {},
     "output_type": "execute_result"
    }
   ],
   "source": [
    "soup.find('span',id='resultats_h3_span').find('a').text"
   ]
  },
  {
   "cell_type": "code",
   "execution_count": 14,
   "metadata": {},
   "outputs": [
    {
     "data": {
      "text/plain": [
       "'  Quartier: Aïn chok'"
      ]
     },
     "execution_count": 14,
     "metadata": {},
     "output_type": "execute_result"
    }
   ],
   "source": [
    "soup.find('div',class_=\"col-xs-12 p-garde-quartier no-margin\").text"
   ]
  },
  {
   "cell_type": "code",
   "execution_count": 42,
   "metadata": {},
   "outputs": [
    {
     "name": "stdout",
     "output_type": "stream",
     "text": [
      "Quartier: Aïn chok\n",
      "Pharmacie Ain Chok\n",
      "1\n",
      "Pharmacie Ain Chok\n",
      "2\n",
      "Pharmacie Ain Chok\n",
      "3\n",
      "Pharmacie Hay R'Mila\n",
      "14\n",
      "Pharmacie Hay R'Mila\n",
      "15\n",
      "Pharmacie Hay R'Mila\n",
      "16\n",
      "Pharmacie Abdessalam\n",
      "27\n",
      "Pharmacie Abdessalam\n",
      "28\n",
      "Pharmacie Abdessalam\n",
      "29\n",
      "Pharmacie Raji\n",
      "40\n",
      "Pharmacie Raji\n",
      "41\n",
      "Pharmacie Raji\n",
      "42\n",
      "Pharmacie El Baraka 2\n",
      "53\n",
      "Pharmacie El Baraka 2\n",
      "54\n",
      "Pharmacie El Baraka 2\n",
      "55\n",
      "Quartier: Aïn diab\n",
      "Pharmacie Chafik\n",
      "66\n",
      "Pharmacie Chafik\n",
      "67\n",
      "Pharmacie Chafik\n",
      "68\n",
      "Quartier: Aïn sebaâ\n",
      "Pharmacie du Zoo\n",
      "80\n",
      "Pharmacie du Zoo\n",
      "81\n",
      "Pharmacie du Zoo\n",
      "82\n",
      "Quartier: Beauséjour\n",
      "Pharmacie AlWouroud\n",
      "94\n",
      "Pharmacie AlWouroud\n",
      "95\n",
      "Pharmacie AlWouroud\n",
      "96\n",
      "Quartier: Belvédère\n",
      "Pharmacie des Halles\n",
      "108\n",
      "Pharmacie des Halles\n",
      "109\n",
      "Pharmacie des Halles\n",
      "110\n",
      "Quartier: Bourgogne\n",
      "Pharmacie Marina\n",
      "122\n",
      "Pharmacie Marina\n",
      "123\n",
      "Pharmacie Marina\n",
      "124\n",
      "Quartier: Californie\n",
      "Pharmacie Soulaima\n",
      "136\n",
      "Pharmacie Soulaima\n",
      "137\n",
      "Pharmacie Soulaima\n",
      "138\n",
      "Quartier: Centre ville\n",
      "Pharmacie de la Bourse\n",
      "149\n",
      "Pharmacie de la Bourse\n",
      "150\n",
      "Pharmacie de la Bourse\n",
      "151\n",
      "Quartier: Derb ghalef\n",
      "Pharmacie Zaouia\n",
      "163\n",
      "Pharmacie Zaouia\n",
      "164\n",
      "Pharmacie Zaouia\n",
      "165\n",
      "Quartier: Hay el farah\n",
      "Pharmacie Areski\n",
      "177\n",
      "Pharmacie Areski\n",
      "178\n",
      "Pharmacie Areski\n",
      "179\n",
      "Quartier: Hay hassani\n",
      "Pharmacie Assafa\n",
      "191\n",
      "Pharmacie Assafa\n",
      "192\n",
      "Pharmacie Assafa\n",
      "193\n",
      "Quartier: Hay mohammadi\n",
      "Pharmacie Moulay Cherif\n",
      "205\n",
      "Pharmacie Moulay Cherif\n",
      "206\n",
      "Pharmacie Moulay Cherif\n",
      "207\n",
      "Pharmacie Moulay Ismaïl\n",
      "218\n",
      "Pharmacie Moulay Ismaïl\n",
      "219\n",
      "Pharmacie Moulay Ismaïl\n",
      "220\n",
      "Quartier: Hay moulay rachid\n",
      "Pharmacie Joudar\n",
      "232\n",
      "Pharmacie Joudar\n",
      "233\n",
      "Pharmacie Joudar\n",
      "234\n",
      "Quartier: Lissasfa\n",
      "Pharmacie Touati\n",
      "246\n",
      "Pharmacie Touati\n",
      "247\n",
      "Pharmacie Touati\n",
      "248\n",
      "Quartier: Mers sultan\n",
      "Pharmacie Moulay Idriss 1er\n",
      "260\n",
      "Pharmacie Moulay Idriss 1er\n",
      "261\n",
      "Pharmacie Moulay Idriss 1er\n",
      "262\n",
      "Quartier: Nouvelle médina\n",
      "Pharmacie les AlMohades\n",
      "274\n",
      "Pharmacie les AlMohades\n",
      "275\n",
      "Pharmacie les AlMohades\n",
      "276\n",
      "Quartier: Oukacha\n",
      "Pharmacie Moulay Slimane\n",
      "288\n",
      "Pharmacie Moulay Slimane\n",
      "289\n",
      "Pharmacie Moulay Slimane\n",
      "290\n",
      "Quartier: Oulfa\n",
      "Pharmacie Abi Regrag\n",
      "302\n",
      "Pharmacie Abi Regrag\n",
      "303\n",
      "Pharmacie Abi Regrag\n",
      "304\n",
      "Pharmacie Al Qodouss\n",
      "315\n",
      "Pharmacie Al Qodouss\n",
      "316\n",
      "Pharmacie Al Qodouss\n",
      "317\n",
      "Quartier: Polo\n",
      "Pharmacie Bab Taddart\n",
      "329\n",
      "Pharmacie Bab Taddart\n",
      "330\n",
      "Pharmacie Bab Taddart\n",
      "331\n",
      "Quartier: Racine\n",
      "Pharmacie Les Iris\n",
      "343\n",
      "Pharmacie Les Iris\n",
      "344\n",
      "Pharmacie Les Iris\n",
      "345\n",
      "Quartier: Sbata\n",
      "Pharmacie ElMansour\n",
      "357\n",
      "Pharmacie ElMansour\n",
      "358\n",
      "Pharmacie ElMansour\n",
      "359\n",
      "Pharmacie BismiAllah\n",
      "370\n",
      "Pharmacie BismiAllah\n",
      "371\n",
      "Pharmacie BismiAllah\n",
      "372\n",
      "Quartier: Sidi bernoussi\n",
      "Pharmacie Fatihat Elkheir\n",
      "384\n",
      "Pharmacie Fatihat Elkheir\n",
      "385\n",
      "Pharmacie Fatihat Elkheir\n",
      "386\n",
      "Pharmacie la Rosa\n",
      "397\n",
      "Pharmacie la Rosa\n",
      "398\n",
      "Pharmacie la Rosa\n",
      "399\n",
      "Quartier: Sidi maarouf\n",
      "Pharmacie Ibn Taimia\n",
      "411\n",
      "Pharmacie Ibn Taimia\n",
      "412\n",
      "Pharmacie Ibn Taimia\n",
      "413\n",
      "Pharmacie Tmime\n",
      "424\n",
      "Pharmacie Tmime\n",
      "425\n",
      "Pharmacie Tmime\n",
      "426\n",
      "Quartier: Sidi moumen\n",
      "Pharmacie ElBadie\n",
      "438\n",
      "Pharmacie ElBadie\n",
      "439\n",
      "Pharmacie ElBadie\n",
      "440\n",
      "Pharmacie Abdellatif\n",
      "451\n",
      "Pharmacie Abdellatif\n",
      "452\n",
      "Pharmacie Abdellatif\n",
      "453\n",
      "Pharmacie AlHayat\n",
      "464\n",
      "Pharmacie AlHayat\n",
      "465\n",
      "Pharmacie AlHayat\n",
      "466\n",
      "Pharmacie Al Maghariba\n",
      "477\n",
      "Pharmacie Al Maghariba\n",
      "478\n",
      "Pharmacie Al Maghariba\n",
      "479\n",
      "Quartier: Sidi othman\n",
      "Pharmacie Bouazzaoui\n",
      "491\n",
      "Pharmacie Bouazzaoui\n",
      "492\n",
      "Pharmacie Bouazzaoui\n",
      "493\n",
      "Quartier: Val fleuri\n",
      "Pharmacie Addoha\n",
      "505\n",
      "Pharmacie Addoha\n",
      "506\n",
      "Pharmacie Addoha\n",
      "507\n",
      "Quartier: Autre\n",
      "Pharmacie Adil\n",
      "519\n",
      "Pharmacie Adil\n",
      "520\n",
      "Pharmacie Adil\n",
      "521\n",
      "Quartier: La villette\n",
      "Pharmacie hay Makam\n",
      "533\n",
      "Pharmacie hay Makam\n",
      "534\n",
      "Pharmacie hay Makam\n",
      "535\n"
     ]
    }
   ],
   "source": [
    "phs = []\n",
    "\n",
    "for i in rs:\n",
    "    #print(type(i))\n",
    "    if i is not None and i.find('span',id='resultats_h3_span') is not None:\n",
    "        print(i.find('span',id='resultats_h3_span').find('a',class_='moodalbox').text)\n",
    "        print(rs.index(i))\n",
    "        phs.append(i.find('span',id='resultats_h3_span').find('a',class_='moodalbox').text)\n",
    "    elif i is not None and (\"Quartier:\" in i.text):\n",
    "        print((i.text).strip())\n",
    "#        print(\"--\"+str(i.find('div',class_=\"col-xs-12 p-garde-quartier no-margin\").text))\n",
    "#    else:\n",
    "#        print(\"HUmmm Chais pas\")\n",
    "    \n",
    "        "
   ]
  },
  {
   "cell_type": "code",
   "execution_count": 44,
   "metadata": {},
   "outputs": [
    {
     "data": {
      "text/plain": [
       "['Pharmacie Ain Chok',\n",
       " \"Pharmacie Hay R'Mila\",\n",
       " 'Pharmacie Abdessalam',\n",
       " 'Pharmacie Raji',\n",
       " 'Pharmacie El Baraka 2',\n",
       " 'Pharmacie Chafik',\n",
       " 'Pharmacie du Zoo',\n",
       " 'Pharmacie AlWouroud',\n",
       " 'Pharmacie des Halles',\n",
       " 'Pharmacie Marina',\n",
       " 'Pharmacie Soulaima',\n",
       " 'Pharmacie de la Bourse',\n",
       " 'Pharmacie Zaouia',\n",
       " 'Pharmacie Areski',\n",
       " 'Pharmacie Assafa',\n",
       " 'Pharmacie Moulay Cherif',\n",
       " 'Pharmacie Moulay Ismaïl',\n",
       " 'Pharmacie Joudar',\n",
       " 'Pharmacie Touati',\n",
       " 'Pharmacie Moulay Idriss 1er',\n",
       " 'Pharmacie les AlMohades',\n",
       " 'Pharmacie Moulay Slimane',\n",
       " 'Pharmacie Abi Regrag',\n",
       " 'Pharmacie Al Qodouss',\n",
       " 'Pharmacie Bab Taddart',\n",
       " 'Pharmacie Les Iris',\n",
       " 'Pharmacie ElMansour',\n",
       " 'Pharmacie BismiAllah',\n",
       " 'Pharmacie Fatihat Elkheir',\n",
       " 'Pharmacie la Rosa',\n",
       " 'Pharmacie Ibn Taimia',\n",
       " 'Pharmacie Tmime',\n",
       " 'Pharmacie ElBadie',\n",
       " 'Pharmacie Abdellatif',\n",
       " 'Pharmacie AlHayat',\n",
       " 'Pharmacie Al Maghariba',\n",
       " 'Pharmacie Bouazzaoui',\n",
       " 'Pharmacie Addoha',\n",
       " 'Pharmacie Adil',\n",
       " 'Pharmacie hay Makam']"
      ]
     },
     "execution_count": 44,
     "metadata": {},
     "output_type": "execute_result"
    }
   ],
   "source": [
    "phs = list(dict.fromkeys(phs))\n",
    "phs"
   ]
  },
  {
   "cell_type": "code",
   "execution_count": null,
   "metadata": {},
   "outputs": [],
   "source": []
  }
 ],
 "metadata": {
  "kernelspec": {
   "display_name": "Python 3",
   "language": "python",
   "name": "python3"
  },
  "language_info": {
   "codemirror_mode": {
    "name": "ipython",
    "version": 3
   },
   "file_extension": ".py",
   "mimetype": "text/x-python",
   "name": "python",
   "nbconvert_exporter": "python",
   "pygments_lexer": "ipython3",
   "version": "3.6.1"
  }
 },
 "nbformat": 4,
 "nbformat_minor": 2
}
