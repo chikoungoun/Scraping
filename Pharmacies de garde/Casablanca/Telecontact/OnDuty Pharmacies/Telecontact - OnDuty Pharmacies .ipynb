{
 "cells": [
  {
   "cell_type": "markdown",
   "metadata": {},
   "source": [
    "# On Duty Pharmacies directly from TeleContact\n"
   ]
  },
  {
   "cell_type": "code",
   "execution_count": 1,
   "metadata": {},
   "outputs": [
    {
     "data": {
      "text/plain": [
       "<Response [200]>"
      ]
     },
     "execution_count": 1,
     "metadata": {},
     "output_type": "execute_result"
    }
   ],
   "source": [
    "import requests\n",
    "\n",
    "url = 'https://www.telecontact.ma/services/pharmacies-de-garde/casablanca-Maroc'\n",
    "response = requests.get(url)\n",
    "response"
   ]
  },
  {
   "cell_type": "code",
   "execution_count": 2,
   "metadata": {},
   "outputs": [
    {
     "data": {
      "text/plain": [
       "'<!DOCTYPE html PUBLIC \"-//W3C//DTD XHTML 1.0 Transitional//EN\" \"http://www.w3.org/TR/xhtml1/DTD/xhtm'"
      ]
     },
     "execution_count": 2,
     "metadata": {},
     "output_type": "execute_result"
    }
   ],
   "source": [
    "response.text[:100]"
   ]
  },
  {
   "cell_type": "code",
   "execution_count": 3,
   "metadata": {},
   "outputs": [
    {
     "data": {
      "text/plain": [
       "bs4.BeautifulSoup"
      ]
     },
     "execution_count": 3,
     "metadata": {},
     "output_type": "execute_result"
    }
   ],
   "source": [
    "from bs4 import BeautifulSoup\n",
    "\n",
    "soup = BeautifulSoup(response.text,'html.parser')\n",
    "type(soup)"
   ]
  },
  {
   "cell_type": "markdown",
   "metadata": {},
   "source": [
    "### Results "
   ]
  },
  {
   "cell_type": "code",
   "execution_count": 4,
   "metadata": {},
   "outputs": [],
   "source": [
    "results = soup.find('section',id='engine-results')"
   ]
  },
  {
   "cell_type": "code",
   "execution_count": 5,
   "metadata": {},
   "outputs": [],
   "source": [
    "rs = results.find_all('div')"
   ]
  },
  {
   "cell_type": "code",
   "execution_count": 6,
   "metadata": {},
   "outputs": [
    {
     "data": {
      "text/plain": [
       "'Pharmacie Ain Chok'"
      ]
     },
     "execution_count": 6,
     "metadata": {},
     "output_type": "execute_result"
    }
   ],
   "source": [
    "soup.find('span',id='resultats_h3_span').find('a').text"
   ]
  },
  {
   "cell_type": "code",
   "execution_count": 7,
   "metadata": {},
   "outputs": [
    {
     "data": {
      "text/plain": [
       "'  Quartier: Aïn chok'"
      ]
     },
     "execution_count": 7,
     "metadata": {},
     "output_type": "execute_result"
    }
   ],
   "source": [
    "soup.find('div',class_=\"col-xs-12 p-garde-quartier no-margin\").text"
   ]
  },
  {
   "cell_type": "code",
   "execution_count": 8,
   "metadata": {},
   "outputs": [
    {
     "name": "stdout",
     "output_type": "stream",
     "text": [
      "Aïn chok\n",
      "Pharmacie Ain Chok\n",
      "Pharmacie Ain Chok\n",
      "Pharmacie Ain Chok\n",
      "Pharmacie Hay R'Mila\n",
      "Pharmacie Hay R'Mila\n",
      "Pharmacie Hay R'Mila\n",
      "Pharmacie Abdessalam\n",
      "Pharmacie Abdessalam\n",
      "Pharmacie Abdessalam\n",
      "Pharmacie Raji\n",
      "Pharmacie Raji\n",
      "Pharmacie Raji\n",
      "Pharmacie El Baraka 2\n",
      "Pharmacie El Baraka 2\n",
      "Pharmacie El Baraka 2\n",
      "Aïn diab\n",
      "Pharmacie Chafik\n",
      "Pharmacie Chafik\n",
      "Pharmacie Chafik\n",
      "Aïn sebaâ\n",
      "Pharmacie du Zoo\n",
      "Pharmacie du Zoo\n",
      "Pharmacie du Zoo\n",
      "Beauséjour\n",
      "Pharmacie AlWouroud\n",
      "Pharmacie AlWouroud\n",
      "Pharmacie AlWouroud\n",
      "Belvédère\n",
      "Pharmacie des Halles\n",
      "Pharmacie des Halles\n",
      "Pharmacie des Halles\n",
      "Bourgogne\n",
      "Pharmacie Marina\n",
      "Pharmacie Marina\n",
      "Pharmacie Marina\n",
      "Californie\n",
      "Pharmacie Soulaima\n",
      "Pharmacie Soulaima\n",
      "Pharmacie Soulaima\n",
      "Centre ville\n",
      "Pharmacie de la Bourse\n",
      "Pharmacie de la Bourse\n",
      "Pharmacie de la Bourse\n",
      "Derb ghalef\n",
      "Pharmacie Zaouia\n",
      "Pharmacie Zaouia\n",
      "Pharmacie Zaouia\n",
      "Hay el farah\n",
      "Pharmacie Areski\n",
      "Pharmacie Areski\n",
      "Pharmacie Areski\n",
      "Hay hassani\n",
      "Pharmacie Assafa\n",
      "Pharmacie Assafa\n",
      "Pharmacie Assafa\n",
      "Hay mohammadi\n",
      "Pharmacie Moulay Cherif\n",
      "Pharmacie Moulay Cherif\n",
      "Pharmacie Moulay Cherif\n",
      "Pharmacie Moulay Ismaïl\n",
      "Pharmacie Moulay Ismaïl\n",
      "Pharmacie Moulay Ismaïl\n",
      "Hay moulay rachid\n",
      "Pharmacie Joudar\n",
      "Pharmacie Joudar\n",
      "Pharmacie Joudar\n",
      "Lissasfa\n",
      "Pharmacie Touati\n",
      "Pharmacie Touati\n",
      "Pharmacie Touati\n",
      "Mers sultan\n",
      "Pharmacie Moulay Idriss 1er\n",
      "Pharmacie Moulay Idriss 1er\n",
      "Pharmacie Moulay Idriss 1er\n",
      "Nouvelle médina\n",
      "Pharmacie les AlMohades\n",
      "Pharmacie les AlMohades\n",
      "Pharmacie les AlMohades\n",
      "Oukacha\n",
      "Pharmacie Moulay Slimane\n",
      "Pharmacie Moulay Slimane\n",
      "Pharmacie Moulay Slimane\n",
      "Oulfa\n",
      "Pharmacie Abi Regrag\n",
      "Pharmacie Abi Regrag\n",
      "Pharmacie Abi Regrag\n",
      "Pharmacie Al Qodouss\n",
      "Pharmacie Al Qodouss\n",
      "Pharmacie Al Qodouss\n",
      "Polo\n",
      "Pharmacie Bab Taddart\n",
      "Pharmacie Bab Taddart\n",
      "Pharmacie Bab Taddart\n",
      "Racine\n",
      "Pharmacie Les Iris\n",
      "Pharmacie Les Iris\n",
      "Pharmacie Les Iris\n",
      "Sbata\n",
      "Pharmacie ElMansour\n",
      "Pharmacie ElMansour\n",
      "Pharmacie ElMansour\n",
      "Pharmacie BismiAllah\n",
      "Pharmacie BismiAllah\n",
      "Pharmacie BismiAllah\n",
      "Sidi bernoussi\n",
      "Pharmacie Fatihat Elkheir\n",
      "Pharmacie Fatihat Elkheir\n",
      "Pharmacie Fatihat Elkheir\n",
      "Pharmacie la Rosa\n",
      "Pharmacie la Rosa\n",
      "Pharmacie la Rosa\n",
      "Sidi maarouf\n",
      "Pharmacie Ibn Taimia\n",
      "Pharmacie Ibn Taimia\n",
      "Pharmacie Ibn Taimia\n",
      "Pharmacie Tmime\n",
      "Pharmacie Tmime\n",
      "Pharmacie Tmime\n",
      "Sidi moumen\n",
      "Pharmacie ElBadie\n",
      "Pharmacie ElBadie\n",
      "Pharmacie ElBadie\n",
      "Pharmacie Abdellatif\n",
      "Pharmacie Abdellatif\n",
      "Pharmacie Abdellatif\n",
      "Pharmacie AlHayat\n",
      "Pharmacie AlHayat\n",
      "Pharmacie AlHayat\n",
      "Pharmacie Al Maghariba\n",
      "Pharmacie Al Maghariba\n",
      "Pharmacie Al Maghariba\n",
      "Sidi othman\n",
      "Pharmacie Bouazzaoui\n",
      "Pharmacie Bouazzaoui\n",
      "Pharmacie Bouazzaoui\n",
      "Val fleuri\n",
      "Pharmacie Addoha\n",
      "Pharmacie Addoha\n",
      "Pharmacie Addoha\n",
      "Autre\n",
      "Pharmacie Adil\n",
      "Pharmacie Adil\n",
      "Pharmacie Adil\n",
      "La villette\n",
      "Pharmacie hay Makam\n",
      "Pharmacie hay Makam\n",
      "Pharmacie hay Makam\n"
     ]
    }
   ],
   "source": [
    "phs = []\n",
    "x = \"\"\n",
    "\n",
    "for i in rs:\n",
    "    \n",
    "    #print(type(i))\n",
    "    \n",
    "    if i is not None and (\"Quartier:\" in i.text):\n",
    "        q = (i.text).strip()\n",
    "        q = q.replace(\"Quartier:\",\"\").strip()\n",
    "        print(q.strip())\n",
    "    elif i is not None and i.find('span',id='resultats_h3_span') is not None:\n",
    "        print(i.find('span',id='resultats_h3_span').find('a',class_='moodalbox').text)\n",
    "        p = i.find('span',id='resultats_h3_span').find('a',class_='moodalbox').text\n",
    "        phs.append((q,p))\n",
    "    \n",
    "        \n",
    "        \n",
    "#        print(\"--\"+str(i.find('div',class_=\"col-xs-12 p-garde-quartier no-margin\").text))\n",
    "#    else:\n",
    "#        print(\"HUmmm Chais pas\")\n",
    "    \n",
    "        "
   ]
  },
  {
   "cell_type": "code",
   "execution_count": 9,
   "metadata": {},
   "outputs": [
    {
     "data": {
      "text/plain": [
       "[('Aïn chok', 'Pharmacie Ain Chok'),\n",
       " ('Aïn chok', \"Pharmacie Hay R'Mila\"),\n",
       " ('Aïn chok', 'Pharmacie Abdessalam'),\n",
       " ('Aïn chok', 'Pharmacie Raji'),\n",
       " ('Aïn chok', 'Pharmacie El Baraka 2'),\n",
       " ('Aïn diab', 'Pharmacie Chafik'),\n",
       " ('Aïn sebaâ', 'Pharmacie du Zoo'),\n",
       " ('Beauséjour', 'Pharmacie AlWouroud'),\n",
       " ('Belvédère', 'Pharmacie des Halles'),\n",
       " ('Bourgogne', 'Pharmacie Marina'),\n",
       " ('Californie', 'Pharmacie Soulaima'),\n",
       " ('Centre ville', 'Pharmacie de la Bourse'),\n",
       " ('Derb ghalef', 'Pharmacie Zaouia'),\n",
       " ('Hay el farah', 'Pharmacie Areski'),\n",
       " ('Hay hassani', 'Pharmacie Assafa'),\n",
       " ('Hay mohammadi', 'Pharmacie Moulay Cherif'),\n",
       " ('Hay mohammadi', 'Pharmacie Moulay Ismaïl'),\n",
       " ('Hay moulay rachid', 'Pharmacie Joudar'),\n",
       " ('Lissasfa', 'Pharmacie Touati'),\n",
       " ('Mers sultan', 'Pharmacie Moulay Idriss 1er'),\n",
       " ('Nouvelle médina', 'Pharmacie les AlMohades'),\n",
       " ('Oukacha', 'Pharmacie Moulay Slimane'),\n",
       " ('Oulfa', 'Pharmacie Abi Regrag'),\n",
       " ('Oulfa', 'Pharmacie Al Qodouss'),\n",
       " ('Polo', 'Pharmacie Bab Taddart'),\n",
       " ('Racine', 'Pharmacie Les Iris'),\n",
       " ('Sbata', 'Pharmacie ElMansour'),\n",
       " ('Sbata', 'Pharmacie BismiAllah'),\n",
       " ('Sidi bernoussi', 'Pharmacie Fatihat Elkheir'),\n",
       " ('Sidi bernoussi', 'Pharmacie la Rosa'),\n",
       " ('Sidi maarouf', 'Pharmacie Ibn Taimia'),\n",
       " ('Sidi maarouf', 'Pharmacie Tmime'),\n",
       " ('Sidi moumen', 'Pharmacie ElBadie'),\n",
       " ('Sidi moumen', 'Pharmacie Abdellatif'),\n",
       " ('Sidi moumen', 'Pharmacie AlHayat'),\n",
       " ('Sidi moumen', 'Pharmacie Al Maghariba'),\n",
       " ('Sidi othman', 'Pharmacie Bouazzaoui'),\n",
       " ('Val fleuri', 'Pharmacie Addoha'),\n",
       " ('Autre', 'Pharmacie Adil'),\n",
       " ('La villette', 'Pharmacie hay Makam')]"
      ]
     },
     "execution_count": 9,
     "metadata": {},
     "output_type": "execute_result"
    }
   ],
   "source": [
    "phs = list(dict.fromkeys(phs))\n",
    "phs"
   ]
  },
  {
   "cell_type": "code",
   "execution_count": 10,
   "metadata": {},
   "outputs": [
    {
     "name": "stdout",
     "output_type": "stream",
     "text": [
      "Pharmacie Ain Chok\n",
      "Pharmacie Hay R'Mila\n",
      "Pharmacie Abdessalam\n",
      "Pharmacie Raji\n",
      "Pharmacie El Baraka 2\n",
      "Pharmacie Chafik\n",
      "Pharmacie du Zoo\n",
      "Pharmacie AlWouroud\n",
      "Pharmacie des Halles\n",
      "Pharmacie Marina\n",
      "Pharmacie Soulaima\n",
      "Pharmacie de la Bourse\n",
      "Pharmacie Zaouia\n",
      "Pharmacie Areski\n",
      "Pharmacie Assafa\n",
      "Pharmacie Moulay Cherif\n",
      "Pharmacie Moulay Ismaïl\n",
      "Pharmacie Joudar\n",
      "Pharmacie Touati\n",
      "Pharmacie Moulay Idriss 1er\n",
      "Pharmacie les AlMohades\n",
      "Pharmacie Moulay Slimane\n",
      "Pharmacie Abi Regrag\n",
      "Pharmacie Al Qodouss\n",
      "Pharmacie Bab Taddart\n",
      "Pharmacie Les Iris\n",
      "Pharmacie ElMansour\n",
      "Pharmacie BismiAllah\n",
      "Pharmacie Fatihat Elkheir\n",
      "Pharmacie la Rosa\n",
      "Pharmacie Ibn Taimia\n",
      "Pharmacie Tmime\n",
      "Pharmacie ElBadie\n",
      "Pharmacie Abdellatif\n",
      "Pharmacie AlHayat\n",
      "Pharmacie Al Maghariba\n",
      "Pharmacie Bouazzaoui\n",
      "Pharmacie Addoha\n",
      "Pharmacie Adil\n",
      "Pharmacie hay Makam\n"
     ]
    }
   ],
   "source": [
    "for i in phs:\n",
    "    print(i[1])"
   ]
  },
  {
   "cell_type": "markdown",
   "metadata": {},
   "source": [
    "### Convert Into Pandas object"
   ]
  },
  {
   "cell_type": "code",
   "execution_count": 13,
   "metadata": {},
   "outputs": [],
   "source": [
    "import pandas as pd"
   ]
  },
  {
   "cell_type": "code",
   "execution_count": 16,
   "metadata": {},
   "outputs": [],
   "source": [
    "tc_duty = pd.DataFrame(phs,columns=['quartier','pharmacie'])"
   ]
  },
  {
   "cell_type": "code",
   "execution_count": 17,
   "metadata": {},
   "outputs": [
    {
     "data": {
      "text/html": [
       "<div>\n",
       "<style>\n",
       "    .dataframe thead tr:only-child th {\n",
       "        text-align: right;\n",
       "    }\n",
       "\n",
       "    .dataframe thead th {\n",
       "        text-align: left;\n",
       "    }\n",
       "\n",
       "    .dataframe tbody tr th {\n",
       "        vertical-align: top;\n",
       "    }\n",
       "</style>\n",
       "<table border=\"1\" class=\"dataframe\">\n",
       "  <thead>\n",
       "    <tr style=\"text-align: right;\">\n",
       "      <th></th>\n",
       "      <th>quartier</th>\n",
       "      <th>pharmacie</th>\n",
       "    </tr>\n",
       "  </thead>\n",
       "  <tbody>\n",
       "    <tr>\n",
       "      <th>0</th>\n",
       "      <td>Aïn chok</td>\n",
       "      <td>Pharmacie Ain Chok</td>\n",
       "    </tr>\n",
       "    <tr>\n",
       "      <th>1</th>\n",
       "      <td>Aïn chok</td>\n",
       "      <td>Pharmacie Hay R'Mila</td>\n",
       "    </tr>\n",
       "    <tr>\n",
       "      <th>2</th>\n",
       "      <td>Aïn chok</td>\n",
       "      <td>Pharmacie Abdessalam</td>\n",
       "    </tr>\n",
       "    <tr>\n",
       "      <th>3</th>\n",
       "      <td>Aïn chok</td>\n",
       "      <td>Pharmacie Raji</td>\n",
       "    </tr>\n",
       "    <tr>\n",
       "      <th>4</th>\n",
       "      <td>Aïn chok</td>\n",
       "      <td>Pharmacie El Baraka 2</td>\n",
       "    </tr>\n",
       "    <tr>\n",
       "      <th>5</th>\n",
       "      <td>Aïn diab</td>\n",
       "      <td>Pharmacie Chafik</td>\n",
       "    </tr>\n",
       "    <tr>\n",
       "      <th>6</th>\n",
       "      <td>Aïn sebaâ</td>\n",
       "      <td>Pharmacie du Zoo</td>\n",
       "    </tr>\n",
       "    <tr>\n",
       "      <th>7</th>\n",
       "      <td>Beauséjour</td>\n",
       "      <td>Pharmacie AlWouroud</td>\n",
       "    </tr>\n",
       "    <tr>\n",
       "      <th>8</th>\n",
       "      <td>Belvédère</td>\n",
       "      <td>Pharmacie des Halles</td>\n",
       "    </tr>\n",
       "    <tr>\n",
       "      <th>9</th>\n",
       "      <td>Bourgogne</td>\n",
       "      <td>Pharmacie Marina</td>\n",
       "    </tr>\n",
       "    <tr>\n",
       "      <th>10</th>\n",
       "      <td>Californie</td>\n",
       "      <td>Pharmacie Soulaima</td>\n",
       "    </tr>\n",
       "    <tr>\n",
       "      <th>11</th>\n",
       "      <td>Centre ville</td>\n",
       "      <td>Pharmacie de la Bourse</td>\n",
       "    </tr>\n",
       "    <tr>\n",
       "      <th>12</th>\n",
       "      <td>Derb ghalef</td>\n",
       "      <td>Pharmacie Zaouia</td>\n",
       "    </tr>\n",
       "    <tr>\n",
       "      <th>13</th>\n",
       "      <td>Hay el farah</td>\n",
       "      <td>Pharmacie Areski</td>\n",
       "    </tr>\n",
       "    <tr>\n",
       "      <th>14</th>\n",
       "      <td>Hay hassani</td>\n",
       "      <td>Pharmacie Assafa</td>\n",
       "    </tr>\n",
       "    <tr>\n",
       "      <th>15</th>\n",
       "      <td>Hay mohammadi</td>\n",
       "      <td>Pharmacie Moulay Cherif</td>\n",
       "    </tr>\n",
       "    <tr>\n",
       "      <th>16</th>\n",
       "      <td>Hay mohammadi</td>\n",
       "      <td>Pharmacie Moulay Ismaïl</td>\n",
       "    </tr>\n",
       "    <tr>\n",
       "      <th>17</th>\n",
       "      <td>Hay moulay rachid</td>\n",
       "      <td>Pharmacie Joudar</td>\n",
       "    </tr>\n",
       "    <tr>\n",
       "      <th>18</th>\n",
       "      <td>Lissasfa</td>\n",
       "      <td>Pharmacie Touati</td>\n",
       "    </tr>\n",
       "    <tr>\n",
       "      <th>19</th>\n",
       "      <td>Mers sultan</td>\n",
       "      <td>Pharmacie Moulay Idriss 1er</td>\n",
       "    </tr>\n",
       "    <tr>\n",
       "      <th>20</th>\n",
       "      <td>Nouvelle médina</td>\n",
       "      <td>Pharmacie les AlMohades</td>\n",
       "    </tr>\n",
       "    <tr>\n",
       "      <th>21</th>\n",
       "      <td>Oukacha</td>\n",
       "      <td>Pharmacie Moulay Slimane</td>\n",
       "    </tr>\n",
       "    <tr>\n",
       "      <th>22</th>\n",
       "      <td>Oulfa</td>\n",
       "      <td>Pharmacie Abi Regrag</td>\n",
       "    </tr>\n",
       "    <tr>\n",
       "      <th>23</th>\n",
       "      <td>Oulfa</td>\n",
       "      <td>Pharmacie Al Qodouss</td>\n",
       "    </tr>\n",
       "    <tr>\n",
       "      <th>24</th>\n",
       "      <td>Polo</td>\n",
       "      <td>Pharmacie Bab Taddart</td>\n",
       "    </tr>\n",
       "    <tr>\n",
       "      <th>25</th>\n",
       "      <td>Racine</td>\n",
       "      <td>Pharmacie Les Iris</td>\n",
       "    </tr>\n",
       "    <tr>\n",
       "      <th>26</th>\n",
       "      <td>Sbata</td>\n",
       "      <td>Pharmacie ElMansour</td>\n",
       "    </tr>\n",
       "    <tr>\n",
       "      <th>27</th>\n",
       "      <td>Sbata</td>\n",
       "      <td>Pharmacie BismiAllah</td>\n",
       "    </tr>\n",
       "    <tr>\n",
       "      <th>28</th>\n",
       "      <td>Sidi bernoussi</td>\n",
       "      <td>Pharmacie Fatihat Elkheir</td>\n",
       "    </tr>\n",
       "    <tr>\n",
       "      <th>29</th>\n",
       "      <td>Sidi bernoussi</td>\n",
       "      <td>Pharmacie la Rosa</td>\n",
       "    </tr>\n",
       "    <tr>\n",
       "      <th>30</th>\n",
       "      <td>Sidi maarouf</td>\n",
       "      <td>Pharmacie Ibn Taimia</td>\n",
       "    </tr>\n",
       "    <tr>\n",
       "      <th>31</th>\n",
       "      <td>Sidi maarouf</td>\n",
       "      <td>Pharmacie Tmime</td>\n",
       "    </tr>\n",
       "    <tr>\n",
       "      <th>32</th>\n",
       "      <td>Sidi moumen</td>\n",
       "      <td>Pharmacie ElBadie</td>\n",
       "    </tr>\n",
       "    <tr>\n",
       "      <th>33</th>\n",
       "      <td>Sidi moumen</td>\n",
       "      <td>Pharmacie Abdellatif</td>\n",
       "    </tr>\n",
       "    <tr>\n",
       "      <th>34</th>\n",
       "      <td>Sidi moumen</td>\n",
       "      <td>Pharmacie AlHayat</td>\n",
       "    </tr>\n",
       "    <tr>\n",
       "      <th>35</th>\n",
       "      <td>Sidi moumen</td>\n",
       "      <td>Pharmacie Al Maghariba</td>\n",
       "    </tr>\n",
       "    <tr>\n",
       "      <th>36</th>\n",
       "      <td>Sidi othman</td>\n",
       "      <td>Pharmacie Bouazzaoui</td>\n",
       "    </tr>\n",
       "    <tr>\n",
       "      <th>37</th>\n",
       "      <td>Val fleuri</td>\n",
       "      <td>Pharmacie Addoha</td>\n",
       "    </tr>\n",
       "    <tr>\n",
       "      <th>38</th>\n",
       "      <td>Autre</td>\n",
       "      <td>Pharmacie Adil</td>\n",
       "    </tr>\n",
       "    <tr>\n",
       "      <th>39</th>\n",
       "      <td>La villette</td>\n",
       "      <td>Pharmacie hay Makam</td>\n",
       "    </tr>\n",
       "  </tbody>\n",
       "</table>\n",
       "</div>"
      ],
      "text/plain": [
       "             quartier                    pharmacie\n",
       "0            Aïn chok           Pharmacie Ain Chok\n",
       "1            Aïn chok         Pharmacie Hay R'Mila\n",
       "2            Aïn chok         Pharmacie Abdessalam\n",
       "3            Aïn chok               Pharmacie Raji\n",
       "4            Aïn chok        Pharmacie El Baraka 2\n",
       "5            Aïn diab             Pharmacie Chafik\n",
       "6           Aïn sebaâ             Pharmacie du Zoo\n",
       "7          Beauséjour          Pharmacie AlWouroud\n",
       "8           Belvédère         Pharmacie des Halles\n",
       "9           Bourgogne             Pharmacie Marina\n",
       "10         Californie           Pharmacie Soulaima\n",
       "11       Centre ville       Pharmacie de la Bourse\n",
       "12        Derb ghalef             Pharmacie Zaouia\n",
       "13       Hay el farah             Pharmacie Areski\n",
       "14        Hay hassani             Pharmacie Assafa\n",
       "15      Hay mohammadi      Pharmacie Moulay Cherif\n",
       "16      Hay mohammadi      Pharmacie Moulay Ismaïl\n",
       "17  Hay moulay rachid             Pharmacie Joudar\n",
       "18           Lissasfa             Pharmacie Touati\n",
       "19        Mers sultan  Pharmacie Moulay Idriss 1er\n",
       "20    Nouvelle médina      Pharmacie les AlMohades\n",
       "21            Oukacha     Pharmacie Moulay Slimane\n",
       "22              Oulfa         Pharmacie Abi Regrag\n",
       "23              Oulfa         Pharmacie Al Qodouss\n",
       "24               Polo        Pharmacie Bab Taddart\n",
       "25             Racine           Pharmacie Les Iris\n",
       "26              Sbata          Pharmacie ElMansour\n",
       "27              Sbata         Pharmacie BismiAllah\n",
       "28     Sidi bernoussi    Pharmacie Fatihat Elkheir\n",
       "29     Sidi bernoussi            Pharmacie la Rosa\n",
       "30       Sidi maarouf         Pharmacie Ibn Taimia\n",
       "31       Sidi maarouf              Pharmacie Tmime\n",
       "32        Sidi moumen            Pharmacie ElBadie\n",
       "33        Sidi moumen         Pharmacie Abdellatif\n",
       "34        Sidi moumen            Pharmacie AlHayat\n",
       "35        Sidi moumen       Pharmacie Al Maghariba\n",
       "36        Sidi othman         Pharmacie Bouazzaoui\n",
       "37         Val fleuri             Pharmacie Addoha\n",
       "38              Autre               Pharmacie Adil\n",
       "39        La villette          Pharmacie hay Makam"
      ]
     },
     "execution_count": 17,
     "metadata": {},
     "output_type": "execute_result"
    }
   ],
   "source": [
    "tc_duty"
   ]
  },
  {
   "cell_type": "markdown",
   "metadata": {},
   "source": [
    "### Export pickle file"
   ]
  },
  {
   "cell_type": "code",
   "execution_count": 18,
   "metadata": {},
   "outputs": [
    {
     "name": "stdout",
     "output_type": "stream",
     "text": [
      "PDG pickled\n"
     ]
    }
   ],
   "source": [
    "import pickle\n",
    "\n",
    "pickle_out = open(\"tc_pdg.pickle\",\"wb\")\n",
    "pickle.dump(tc_duty,pickle_out)\n",
    "pickle_out.close()\n",
    "\n",
    "print(\"PDG pickled\")"
   ]
  },
  {
   "cell_type": "code",
   "execution_count": null,
   "metadata": {},
   "outputs": [],
   "source": []
  }
 ],
 "metadata": {
  "kernelspec": {
   "display_name": "Python 3",
   "language": "python",
   "name": "python3"
  },
  "language_info": {
   "codemirror_mode": {
    "name": "ipython",
    "version": 3
   },
   "file_extension": ".py",
   "mimetype": "text/x-python",
   "name": "python",
   "nbconvert_exporter": "python",
   "pygments_lexer": "ipython3",
   "version": "3.6.1"
  }
 },
 "nbformat": 4,
 "nbformat_minor": 2
}
