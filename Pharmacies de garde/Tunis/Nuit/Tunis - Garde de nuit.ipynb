{
 "cells": [
  {
   "cell_type": "markdown",
   "metadata": {},
   "source": [
    "# Pharmacie de Garde - Nuit"
   ]
  },
  {
   "cell_type": "code",
   "execution_count": 1,
   "metadata": {},
   "outputs": [
    {
     "data": {
      "text/plain": [
       "<Response [200]>"
      ]
     },
     "execution_count": 1,
     "metadata": {},
     "output_type": "execute_result"
    }
   ],
   "source": [
    "import requests\n",
    "\n",
    "url = 'https://www.med.tn/pharmacie/nuit/tunis'\n",
    "response = requests.get(url)\n",
    "response"
   ]
  },
  {
   "cell_type": "code",
   "execution_count": 2,
   "metadata": {},
   "outputs": [
    {
     "data": {
      "text/plain": [
       "bs4.BeautifulSoup"
      ]
     },
     "execution_count": 2,
     "metadata": {},
     "output_type": "execute_result"
    }
   ],
   "source": [
    "from bs4 import BeautifulSoup\n",
    "\n",
    "soup = BeautifulSoup(response.text,'html.parser')\n",
    "type(soup)"
   ]
  },
  {
   "cell_type": "code",
   "execution_count": 3,
   "metadata": {},
   "outputs": [],
   "source": [
    "results = soup.find('div',class_=\"resultsxyz\")"
   ]
  },
  {
   "cell_type": "code",
   "execution_count": 4,
   "metadata": {},
   "outputs": [
    {
     "data": {
      "text/plain": [
       "<div class=\"resultsxyz\" dir=\"ltr\">\n",
       "<div class=\"slider pharmacy-city\" style=\"margin-bottom: 15px;display: none\">\n",
       "<div>\n",
       "<a class=\"btn btn-default btn-sm\" href=\"https://www.med.tn/pharmacie/nuit/tunis/bab-bhar\" style=\"margin-right:7px;\" title=\"Pharmacie de Nuit à Bab Bhar Tunis\">Bab Bhar (6)</a>\n",
       "</div>\n",
       "<div>\n",
       "<a class=\"btn btn-default btn-sm\" href=\"https://www.med.tn/pharmacie/nuit/tunis/el-omrane\" style=\"margin-right:7px;\" title=\"Pharmacie de Nuit à El Omrane Tunis\">El Omrane (2)</a>\n",
       "</div>\n",
       "<div>\n",
       "<a class=\"btn btn-default btn-sm\" href=\"https://www.med.tn/pharmacie/nuit/tunis/la-marsa\" style=\"margin-right:7px;\" title=\"Pharmacie de Nuit à La Marsa Tunis\">La Marsa (2)</a>\n",
       "</div>\n",
       "<div>\n",
       "<a class=\"btn btn-default btn-sm\" href=\"https://www.med.tn/pharmacie/nuit/tunis/le-bardo\" style=\"margin-right:7px;\" title=\"Pharmacie de Nuit à Le Bardo Tunis\">Le Bardo (2)</a>\n",
       "</div>\n",
       "<div>\n",
       "<a class=\"btn btn-default btn-sm\" href=\"https://www.med.tn/pharmacie/nuit/tunis/sidi-hassine\" style=\"margin-right:7px;\" title=\"Pharmacie de Nuit à Sidi Hassine Tunis\">Sidi Hassine (2)</a>\n",
       "</div>\n",
       "<div>\n",
       "<a class=\"btn btn-default btn-sm\" href=\"https://www.med.tn/pharmacie/nuit/tunis/el-manar-3\" style=\"margin-right:7px;\" title=\"Pharmacie de Nuit à El Manar 3 Tunis\">El Manar 3 (1)</a>\n",
       "</div>\n",
       "<div>\n",
       "<a class=\"btn btn-default btn-sm\" href=\"https://www.med.tn/pharmacie/nuit/tunis/el-hrairia\" style=\"margin-right:7px;\" title=\"Pharmacie de Nuit à El Hrairia Tunis\">El Hrairia (1)</a>\n",
       "</div>\n",
       "<div>\n",
       "<a class=\"btn btn-default btn-sm\" href=\"https://www.med.tn/pharmacie/nuit/tunis/el-ouerdia\" style=\"margin-right:7px;\" title=\"Pharmacie de Nuit à El Ouerdia Tunis\">El Ouerdia (1)</a>\n",
       "</div>\n",
       "<div>\n",
       "<a class=\"btn btn-default btn-sm\" href=\"https://www.med.tn/pharmacie/nuit/tunis/el-manar\" style=\"margin-right:7px;\" title=\"Pharmacie de Nuit à El Manar Tunis\">El Manar (1)</a>\n",
       "</div>\n",
       "<div>\n",
       "<a class=\"btn btn-default btn-sm\" href=\"https://www.med.tn/pharmacie/nuit/tunis/carthage\" style=\"margin-right:7px;\" title=\"Pharmacie de Nuit à Carthage Tunis\">Carthage (1)</a>\n",
       "</div>\n",
       "</div>\n",
       "<div class=\"searchResults-content clearfix\">\n",
       "<div class=\"searchResults-itemDoctor\" id=\"41ebe5f026f12ee1bc5dcd9510938091\">\n",
       "<div class=\"searchResults-card card-doctor \" data-key=\"41ebe5f026f12ee1bc5dcd9510938091\" data-lat=\"\" data-lng=\"\">\n",
       "<div class=\"card-doctor-header\">\n",
       "<div class=\"card-doctor-picture\">\n",
       "<a href=\"https://www.med.tn/pharmacie/tunis/zied-karray-8532.html\" title=\"Pharmacie ZIED KARRAY\"><img alt=\"Pharmacie ZIED KARRAY\" src=\"img/pharma.png\"/>\n",
       "</a>\n",
       "</div>\n",
       "<a href=\"https://www.med.tn/pharmacie/tunis/zied-karray-8532.html\" title=\"Pharmacie ZIED KARRAY\">\n",
       "<div class=\"card-doctor-info\">\n",
       "<h2>\n",
       "<span class=\"practitioner-title\">Pharmacie de  nuit</span>\n",
       "<span class=\"practitioner-name\">ZIED KARRAY</span></h2>\n",
       "<p class=\"practitioner-speciality\"><strong class=\"text-danger\">Ouvre dans 2 min</strong></p>\n",
       "<div class=\"practitioner-address\">\n",
       "<img alt=\"Tunisie\" src=\"https://www.med.tn/img/tunisie.svg\"/>\n",
       "<p>24, CENTRE DORRA TUNIS MANAR El Manar Tunis                                Tunisie  \n",
       "\t\t\t\t\t\t\t\t\n",
       "                                                      \n",
       "                           </p>\n",
       "</div>\n",
       "</div></a>\n",
       "<div class=\"card-doctor-button\">\n",
       "<a class=\"btn\" href=\"https://www.med.tn/pharmacie/tunis/zied-karray-8532.html\" style=\"min-width: 140px;\">Voir Fiche</a>\n",
       "<a class=\"btn btn-phone\" href=\"tel:+21671887635\"><span class=\"hide-tel\">+216.71.887.635</span><span class=\"view-tel\">+216.71.887.635</span></a>\n",
       "</div>\n",
       "</div>\n",
       "</div>\n",
       "</div>\n",
       "<div class=\"searchResults-itemDoctor\" id=\"3caf9a222542a03aeb30d2cd5f1ce561\">\n",
       "<div class=\"searchResults-card card-doctor \" data-key=\"3caf9a222542a03aeb30d2cd5f1ce561\" data-lat=\"\" data-lng=\"\">\n",
       "<div class=\"card-doctor-header\">\n",
       "<div class=\"card-doctor-picture\">\n",
       "<a href=\"https://www.med.tn/pharmacie/tunis/haifa-machat-8533.html\" title=\"Pharmacie HAIFA MACHAT\"><img alt=\"Pharmacie HAIFA MACHAT\" src=\"img/pharma.png\"/>\n",
       "</a>\n",
       "</div>\n",
       "<a href=\"https://www.med.tn/pharmacie/tunis/haifa-machat-8533.html\" title=\"Pharmacie HAIFA MACHAT\">\n",
       "<div class=\"card-doctor-info\">\n",
       "<h2>\n",
       "<span class=\"practitioner-title\">Pharmacie de  nuit</span>\n",
       "<span class=\"practitioner-name\">HAIFA MACHAT</span></h2>\n",
       "<p class=\"practitioner-speciality\"><strong class=\"text-danger\">Ouvre dans 2 min</strong></p>\n",
       "<div class=\"practitioner-address\">\n",
       "<img alt=\"Tunisie\" src=\"https://www.med.tn/img/tunisie.svg\"/>\n",
       "<p>Rue 4657 - Rte DE MORNAGUIA TUNIS SIDI HASSINE Sidi Hassine Tunis                                Tunisie  \n",
       "\t\t\t\t\t\t\t\t\n",
       "                                                      \n",
       "                           </p>\n",
       "</div>\n",
       "</div></a>\n",
       "<div class=\"card-doctor-button\">\n",
       "<a class=\"btn\" href=\"https://www.med.tn/pharmacie/tunis/haifa-machat-8533.html\" style=\"min-width: 140px;\">Voir Fiche</a>\n",
       "<a class=\"btn\" href=\"https://www.google.com/maps?saddr&amp;daddr=36.7816482,10.1100048\" style=\"min-width: 140px;\" target=\"_dir\">Itinéraire</a>\n",
       "<a class=\"btn btn-phone\" href=\"tel:+21654567788\"><span class=\"hide-tel\">+216.54.567.788</span><span class=\"view-tel\">+216.54.567.788</span></a>\n",
       "</div>\n",
       "</div>\n",
       "</div>\n",
       "</div>\n",
       "<div class=\"searchResults-itemDoctor\" id=\"f14bc0e59a483fcc8275172cc9f3f673\">\n",
       "<div class=\"searchResults-card card-doctor \" data-key=\"f14bc0e59a483fcc8275172cc9f3f673\" data-lat=\"\" data-lng=\"\">\n",
       "<div class=\"card-doctor-header\">\n",
       "<div class=\"card-doctor-picture\">\n",
       "<a href=\"https://www.med.tn/pharmacie/tunis/mahmoud-bach-hamba-1644.html\" title=\"Pharmacie MAHMOUD BACH HAMBA\"><img alt=\"Pharmacie MAHMOUD BACH HAMBA\" src=\"img/pharma.png\"/>\n",
       "</a>\n",
       "</div>\n",
       "<a href=\"https://www.med.tn/pharmacie/tunis/mahmoud-bach-hamba-1644.html\" title=\"Pharmacie MAHMOUD BACH HAMBA\">\n",
       "<div class=\"card-doctor-info\">\n",
       "<h2>\n",
       "<span class=\"practitioner-title\">Pharmacie de  nuit</span>\n",
       "<span class=\"practitioner-name\">MAHMOUD BACH HAMBA</span></h2>\n",
       "<p class=\"practitioner-speciality\"><strong class=\"text-danger\">Ouvre dans 2 min</strong></p>\n",
       "<div class=\"practitioner-address\">\n",
       "<img alt=\"Tunisie\" src=\"https://www.med.tn/img/tunisie.svg\"/>\n",
       "<p>9, Rue Ali Belhaouane La Marsa Tunis                                Tunisie  \n",
       "\t\t\t\t\t\t\t\t\n",
       "                                                      \n",
       "                           </p>\n",
       "</div>\n",
       "</div></a>\n",
       "<div class=\"card-doctor-button\">\n",
       "<a class=\"btn\" href=\"https://www.med.tn/pharmacie/tunis/mahmoud-bach-hamba-1644.html\" style=\"min-width: 140px;\">Voir Fiche</a>\n",
       "<a class=\"btn\" href=\"https://www.google.com/maps?saddr&amp;daddr=36.878368,10.327491\" style=\"min-width: 140px;\" target=\"_dir\">Itinéraire</a>\n",
       "<a class=\"btn btn-phone\" href=\"tel:+21671775770\"><span class=\"hide-tel\">+216.71.775.770</span><span class=\"view-tel\">+216.71.775.770</span></a>\n",
       "</div>\n",
       "</div>\n",
       "</div>\n",
       "</div>\n",
       "<div class=\"searchResults-itemDoctor\" id=\"dfcfd63e2a3c1dba8c72fbc4e8ba7d06\">\n",
       "<div class=\"searchResults-card card-doctor \" data-key=\"dfcfd63e2a3c1dba8c72fbc4e8ba7d06\" data-lat=\"\" data-lng=\"\">\n",
       "<div class=\"card-doctor-header\">\n",
       "<div class=\"card-doctor-picture\">\n",
       "<a href=\"https://www.med.tn/pharmacie/tunis/abdessattar-zouari-1683.html\" title=\"Pharmacie ABDESSATTAR ZOUARI\"><img alt=\"Pharmacie ABDESSATTAR ZOUARI\" src=\"img/pharma.png\"/>\n",
       "</a>\n",
       "</div>\n",
       "<a href=\"https://www.med.tn/pharmacie/tunis/abdessattar-zouari-1683.html\" title=\"Pharmacie ABDESSATTAR ZOUARI\">\n",
       "<div class=\"card-doctor-info\">\n",
       "<h2>\n",
       "<span class=\"practitioner-title\">Pharmacie de  nuit</span>\n",
       "<span class=\"practitioner-name\">ABDESSATTAR ZOUARI</span></h2>\n",
       "<p class=\"practitioner-speciality\"><strong class=\"text-danger\">Ouvre dans 2 min</strong></p>\n",
       "<div class=\"practitioner-address\">\n",
       "<img alt=\"Tunisie\" src=\"https://www.med.tn/img/tunisie.svg\"/>\n",
       "<p>92, Avenue Khaled Ibn El Walid Aîn Zaghouan Tunis                                Tunisie  \n",
       "\t\t\t\t\t\t\t\t\n",
       "                                                      \n",
       "                           </p>\n",
       "</div>\n",
       "</div></a>\n",
       "<div class=\"card-doctor-button\">\n",
       "<a class=\"btn\" href=\"https://www.med.tn/pharmacie/tunis/abdessattar-zouari-1683.html\" style=\"min-width: 140px;\">Voir Fiche</a>\n",
       "<a class=\"btn\" href=\"https://www.google.com/maps?saddr&amp;daddr=36.8616484,10.2762783\" style=\"min-width: 140px;\" target=\"_dir\">Itinéraire</a>\n",
       "<a class=\"btn btn-phone\" href=\"tel:+21671724336\"><span class=\"hide-tel\">+216.71.724.336</span><span class=\"view-tel\">+216.71.724.336</span></a>\n",
       "</div>\n",
       "</div>\n",
       "</div>\n",
       "</div>\n",
       "<div class=\"searchResults-itemDoctor\" id=\"1dcf970fbcc5ea925bc80afe1af0dee7\">\n",
       "<div class=\"searchResults-card card-doctor \" data-key=\"1dcf970fbcc5ea925bc80afe1af0dee7\" data-lat=\"\" data-lng=\"\">\n",
       "<div class=\"card-doctor-header\">\n",
       "<div class=\"card-doctor-picture\">\n",
       "<a href=\"https://www.med.tn/pharmacie/tunis/abdelkarim-hamrouni-1650.html\" title=\"Pharmacie ABDELKARIM HAMROUNI\"><img alt=\"Pharmacie ABDELKARIM HAMROUNI\" src=\"img/pharma.png\"/>\n",
       "</a>\n",
       "</div>\n",
       "<a href=\"https://www.med.tn/pharmacie/tunis/abdelkarim-hamrouni-1650.html\" title=\"Pharmacie ABDELKARIM HAMROUNI\">\n",
       "<div class=\"card-doctor-info\">\n",
       "<h2>\n",
       "<span class=\"practitioner-title\">Pharmacie de  nuit</span>\n",
       "<span class=\"practitioner-name\">ABDELKARIM HAMROUNI</span></h2>\n",
       "<p class=\"practitioner-speciality\"><strong class=\"text-danger\">Ouvre dans 2 min</strong></p>\n",
       "<div class=\"practitioner-address\">\n",
       "<img alt=\"Tunisie\" src=\"https://www.med.tn/img/tunisie.svg\"/>\n",
       "<p>24, Centre Dorra El Manar 3 Tunis                                Tunisie  \n",
       "\t\t\t\t\t\t\t\t\n",
       "                                                      \n",
       "                           </p>\n",
       "</div>\n",
       "</div></a>\n",
       "<div class=\"card-doctor-button\">\n",
       "<a class=\"btn\" href=\"https://www.med.tn/pharmacie/tunis/abdelkarim-hamrouni-1650.html\" style=\"min-width: 140px;\">Voir Fiche</a>\n",
       "<a class=\"btn\" href=\"https://www.google.com/maps?saddr&amp;daddr=36.842682,10.16605\" style=\"min-width: 140px;\" target=\"_dir\">Itinéraire</a>\n",
       "<a class=\"btn btn-phone\" href=\"tel:+21671750375\"><span class=\"hide-tel\">+216.71.750.375</span><span class=\"view-tel\">+216.71.750.375</span></a>\n",
       "</div>\n",
       "</div>\n",
       "</div>\n",
       "</div>\n",
       "<div class=\"searchResults-itemDoctor\" id=\"faaee7b2f1e4640686d2626a2e01266d\">\n",
       "<div class=\"searchResults-card card-doctor \" data-key=\"faaee7b2f1e4640686d2626a2e01266d\" data-lat=\"\" data-lng=\"\">\n",
       "<div class=\"card-doctor-header\">\n",
       "<div class=\"card-doctor-picture\">\n",
       "<a href=\"https://www.med.tn/pharmacie/tunis/mohamed-salah-oueslati-1604.html\" title=\"Pharmacie MOHAMED SALAH OUESLATI\"><img alt=\"Pharmacie MOHAMED SALAH OUESLATI\" src=\"img/pharma.png\"/>\n",
       "</a>\n",
       "</div>\n",
       "<a href=\"https://www.med.tn/pharmacie/tunis/mohamed-salah-oueslati-1604.html\" title=\"Pharmacie MOHAMED SALAH OUESLATI\">\n",
       "<div class=\"card-doctor-info\">\n",
       "<h2>\n",
       "<span class=\"practitioner-title\">Pharmacie de  nuit</span>\n",
       "<span class=\"practitioner-name\">MOHAMED SALAH OUESLATI</span></h2>\n",
       "<p class=\"practitioner-speciality\"><strong class=\"text-danger\">Ouvre dans 2 min</strong></p>\n",
       "<div class=\"practitioner-address\">\n",
       "<img alt=\"Tunisie\" src=\"https://www.med.tn/img/tunisie.svg\"/>\n",
       "<p>54, Avenue 10236 El Ouerdia Tunis                                Tunisie  \n",
       "\t\t\t\t\t\t\t\t\n",
       "                                                      \n",
       "                           </p>\n",
       "</div>\n",
       "</div></a>\n",
       "<div class=\"card-doctor-button\">\n",
       "<a class=\"btn\" href=\"https://www.med.tn/pharmacie/tunis/mohamed-salah-oueslati-1604.html\" style=\"min-width: 140px;\">Voir Fiche</a>\n",
       "<a class=\"btn\" href=\"https://www.google.com/maps?saddr&amp;daddr=36.754559,10.1937\" style=\"min-width: 140px;\" target=\"_dir\">Itinéraire</a>\n",
       "<a class=\"btn btn-phone\" href=\"tel:+21671270727\"><span class=\"hide-tel\">+216.71.270.727</span><span class=\"view-tel\">+216.71.270.727</span></a>\n",
       "</div>\n",
       "</div>\n",
       "</div>\n",
       "</div>\n",
       "<div class=\"searchResults-itemDoctor\" id=\"17fbaaab4b89372a7e985ed86456aef7\">\n",
       "<div class=\"searchResults-card card-doctor \" data-key=\"17fbaaab4b89372a7e985ed86456aef7\" data-lat=\"\" data-lng=\"\">\n",
       "<div class=\"card-doctor-header\">\n",
       "<div class=\"card-doctor-picture\">\n",
       "<a href=\"https://www.med.tn/pharmacie/tunis/soufia-debbiche-ep-ghariani-1682.html\" title=\"Pharmacie SOUFIA DEBBICHE EP GHARIANI\"><img alt=\"Pharmacie SOUFIA DEBBICHE EP GHARIANI\" src=\"img/pharma.png\"/>\n",
       "</a>\n",
       "</div>\n",
       "<a href=\"https://www.med.tn/pharmacie/tunis/soufia-debbiche-ep-ghariani-1682.html\" title=\"Pharmacie SOUFIA DEBBICHE EP GHARIANI\">\n",
       "<div class=\"card-doctor-info\">\n",
       "<h2>\n",
       "<span class=\"practitioner-title\">Pharmacie de  nuit</span>\n",
       "<span class=\"practitioner-name\">SOUFIA DEBBICHE EP GHARIANI</span></h2>\n",
       "<p class=\"practitioner-speciality\"><strong class=\"text-danger\">Ouvre dans 2 min</strong></p>\n",
       "<div class=\"practitioner-address\">\n",
       "<img alt=\"Tunisie\" src=\"https://www.med.tn/img/tunisie.svg\"/>\n",
       "<p>45,Avenue Ibn El Khatib Cite Ibn Khaldoun Tunis                                Tunisie  \n",
       "\t\t\t\t\t\t\t\t\n",
       "                                                      \n",
       "                           </p>\n",
       "</div>\n",
       "</div></a>\n",
       "<div class=\"card-doctor-button\">\n",
       "<a class=\"btn\" href=\"https://www.med.tn/pharmacie/tunis/soufia-debbiche-ep-ghariani-1682.html\" style=\"min-width: 140px;\">Voir Fiche</a>\n",
       "<a class=\"btn\" href=\"https://www.google.com/maps?saddr&amp;daddr=36.8269241,10.1409283\" style=\"min-width: 140px;\" target=\"_dir\">Itinéraire</a>\n",
       "<a class=\"btn btn-phone\" href=\"tel:+21671929842\"><span class=\"hide-tel\">+216.71.929.842</span><span class=\"view-tel\">+216.71.929.842</span></a>\n",
       "</div>\n",
       "</div>\n",
       "</div>\n",
       "</div>\n",
       "<div class=\"searchResults-itemDoctor\" id=\"e561a8d6365263f39148323b24488b69\">\n",
       "<div class=\"searchResults-card card-doctor \" data-key=\"e561a8d6365263f39148323b24488b69\" data-lat=\"\" data-lng=\"\">\n",
       "<div class=\"card-doctor-header\">\n",
       "<div class=\"card-doctor-picture\">\n",
       "<a href=\"https://www.med.tn/pharmacie/tunis/neila-sfar-1792.html\" title=\"Pharmacie NEILA SFAR\"><img alt=\"Pharmacie NEILA SFAR\" src=\"img/pharma.png\"/>\n",
       "</a>\n",
       "</div>\n",
       "<a href=\"https://www.med.tn/pharmacie/tunis/neila-sfar-1792.html\" title=\"Pharmacie NEILA SFAR\">\n",
       "<div class=\"card-doctor-info\">\n",
       "<h2>\n",
       "<span class=\"practitioner-title\">Pharmacie de  nuit</span>\n",
       "<span class=\"practitioner-name\">NEILA SFAR</span></h2>\n",
       "<p class=\"practitioner-speciality\"><strong class=\"text-danger\">Ouvre dans 2 min</strong></p>\n",
       "<div class=\"practitioner-address\">\n",
       "<img alt=\"Tunisie\" src=\"https://www.med.tn/img/tunisie.svg\"/>\n",
       "<p>Lot B. Moussa  Route n 39    Route Fouchana Sidi Hassine Tunis                                Tunisie  \n",
       "\t\t\t\t\t\t\t\t\n",
       "                                                      \n",
       "                           </p>\n",
       "</div>\n",
       "</div></a>\n",
       "<div class=\"card-doctor-button\">\n",
       "<a class=\"btn\" href=\"https://www.med.tn/pharmacie/tunis/neila-sfar-1792.html\" style=\"min-width: 140px;\">Voir Fiche</a>\n",
       "<a class=\"btn\" href=\"https://www.google.com/maps?saddr&amp;daddr=36.7482884,10.1143176\" style=\"min-width: 140px;\" target=\"_dir\">Itinéraire</a>\n",
       "<a class=\"btn btn-phone\" href=\"tel:+21622289484\"><span class=\"hide-tel\">+216.22.289.484</span><span class=\"view-tel\">+216.22.289.484</span></a>\n",
       "</div>\n",
       "</div>\n",
       "</div>\n",
       "</div>\n",
       "<div class=\"searchResults-itemDoctor\" id=\"22e8101959f33ec9eaf56de1ff35c0ae\">\n",
       "<div class=\"searchResults-card card-doctor \" data-key=\"22e8101959f33ec9eaf56de1ff35c0ae\" data-lat=\"\" data-lng=\"\">\n",
       "<div class=\"card-doctor-header\">\n",
       "<div class=\"card-doctor-picture\">\n",
       "<a href=\"https://www.med.tn/pharmacie/tunis/imed-kolsi-1676.html\" title=\"Pharmacie IMED KOLSI\"><img alt=\"Pharmacie IMED KOLSI\" src=\"img/pharma.png\"/>\n",
       "</a>\n",
       "</div>\n",
       "<a href=\"https://www.med.tn/pharmacie/tunis/imed-kolsi-1676.html\" title=\"Pharmacie IMED KOLSI\">\n",
       "<div class=\"card-doctor-info\">\n",
       "<h2>\n",
       "<span class=\"practitioner-title\">Pharmacie de  nuit</span>\n",
       "<span class=\"practitioner-name\">IMED KOLSI</span></h2>\n",
       "<p class=\"practitioner-speciality\"><strong class=\"text-danger\">Ouvre dans 2 min</strong></p>\n",
       "<div class=\"practitioner-address\">\n",
       "<img alt=\"Tunisie\" src=\"https://www.med.tn/img/tunisie.svg\"/>\n",
       "<p>92, avenue Louis Braille Cite El Khadhra Tunis                                Tunisie  \n",
       "\t\t\t\t\t\t\t\t\n",
       "                                                      \n",
       "                           </p>\n",
       "</div>\n",
       "</div></a>\n",
       "<div class=\"card-doctor-button\">\n",
       "<a class=\"btn\" href=\"https://www.med.tn/pharmacie/tunis/imed-kolsi-1676.html\" style=\"min-width: 140px;\">Voir Fiche</a>\n",
       "<a class=\"btn\" href=\"https://www.google.com/maps?saddr&amp;daddr=36.829857,10.193384\" style=\"min-width: 140px;\" target=\"_dir\">Itinéraire</a>\n",
       "<a class=\"btn btn-phone\" href=\"tel:+21671779204\"><span class=\"hide-tel\">+216.71.779.204</span><span class=\"view-tel\">+216.71.779.204</span></a>\n",
       "</div>\n",
       "</div>\n",
       "</div>\n",
       "</div>\n",
       "<div class=\"searchResults-itemDoctor\" id=\"1ca98bbbc823a01e46cd8b63faf1a7c4\">\n",
       "<div class=\"searchResults-card card-doctor \" data-key=\"1ca98bbbc823a01e46cd8b63faf1a7c4\" data-lat=\"\" data-lng=\"\">\n",
       "<div class=\"card-doctor-header\">\n",
       "<div class=\"card-doctor-picture\">\n",
       "<a href=\"https://www.med.tn/pharmacie/tunis/mariem-kilani-8534.html\" title=\"Pharmacie MARIEM KILANI\"><img alt=\"Pharmacie MARIEM KILANI\" src=\"img/pharma.png\"/>\n",
       "</a>\n",
       "</div>\n",
       "<a href=\"https://www.med.tn/pharmacie/tunis/mariem-kilani-8534.html\" title=\"Pharmacie MARIEM KILANI\">\n",
       "<div class=\"card-doctor-info\">\n",
       "<h2>\n",
       "<span class=\"practitioner-title\">Pharmacie de  nuit</span>\n",
       "<span class=\"practitioner-name\">MARIEM KILANI</span></h2>\n",
       "<p class=\"practitioner-speciality\"><strong class=\"text-danger\">Ouvre dans 2 min</strong></p>\n",
       "<div class=\"practitioner-address\">\n",
       "<img alt=\"Tunisie\" src=\"https://www.med.tn/img/tunisie.svg\"/>\n",
       "<p>56, Rue SIDI EL BECHIR TUNIS TUNIS VILLE Bab Bhar Tunis                                Tunisie  \n",
       "\t\t\t\t\t\t\t\t\n",
       "                                                      \n",
       "                           </p>\n",
       "</div>\n",
       "</div></a>\n",
       "<div class=\"card-doctor-button\">\n",
       "<a class=\"btn\" href=\"https://www.med.tn/pharmacie/tunis/mariem-kilani-8534.html\" style=\"min-width: 140px;\">Voir Fiche</a>\n",
       "<a class=\"btn btn-phone\" href=\"tel:+21671347224\"><span class=\"hide-tel\">+216.71.347.224</span><span class=\"view-tel\">+216.71.347.224</span></a>\n",
       "</div>\n",
       "</div>\n",
       "</div>\n",
       "</div>\n",
       "</div>\n",
       "</div>"
      ]
     },
     "execution_count": 4,
     "metadata": {},
     "output_type": "execute_result"
    }
   ],
   "source": [
    "results"
   ]
  },
  {
   "cell_type": "code",
   "execution_count": 5,
   "metadata": {},
   "outputs": [],
   "source": [
    "slider = results.find_all('a',class_=\"btn btn-default btn-sm\")"
   ]
  },
  {
   "cell_type": "code",
   "execution_count": 6,
   "metadata": {},
   "outputs": [
    {
     "data": {
      "text/plain": [
       "10"
      ]
     },
     "execution_count": 6,
     "metadata": {},
     "output_type": "execute_result"
    }
   ],
   "source": [
    "len(slider)"
   ]
  },
  {
   "cell_type": "code",
   "execution_count": 7,
   "metadata": {},
   "outputs": [
    {
     "name": "stdout",
     "output_type": "stream",
     "text": [
      "https://www.med.tn/pharmacie/nuit/tunis/bab-bhar\n",
      "https://www.med.tn/pharmacie/nuit/tunis/el-omrane\n",
      "https://www.med.tn/pharmacie/nuit/tunis/la-marsa\n",
      "https://www.med.tn/pharmacie/nuit/tunis/le-bardo\n",
      "https://www.med.tn/pharmacie/nuit/tunis/sidi-hassine\n",
      "https://www.med.tn/pharmacie/nuit/tunis/el-manar-3\n",
      "https://www.med.tn/pharmacie/nuit/tunis/el-hrairia\n",
      "https://www.med.tn/pharmacie/nuit/tunis/el-ouerdia\n",
      "https://www.med.tn/pharmacie/nuit/tunis/el-manar\n",
      "https://www.med.tn/pharmacie/nuit/tunis/carthage\n"
     ]
    }
   ],
   "source": [
    "liens_quartiers = []\n",
    "for i in slider:\n",
    "    print(i['href'])\n",
    "    liens_quartiers.append(i['href'])"
   ]
  },
  {
   "cell_type": "code",
   "execution_count": 8,
   "metadata": {},
   "outputs": [
    {
     "data": {
      "text/plain": [
       "['https://www.med.tn/pharmacie/nuit/tunis/bab-bhar',\n",
       " 'https://www.med.tn/pharmacie/nuit/tunis/el-omrane',\n",
       " 'https://www.med.tn/pharmacie/nuit/tunis/la-marsa',\n",
       " 'https://www.med.tn/pharmacie/nuit/tunis/le-bardo',\n",
       " 'https://www.med.tn/pharmacie/nuit/tunis/sidi-hassine',\n",
       " 'https://www.med.tn/pharmacie/nuit/tunis/el-manar-3',\n",
       " 'https://www.med.tn/pharmacie/nuit/tunis/el-hrairia',\n",
       " 'https://www.med.tn/pharmacie/nuit/tunis/el-ouerdia',\n",
       " 'https://www.med.tn/pharmacie/nuit/tunis/el-manar',\n",
       " 'https://www.med.tn/pharmacie/nuit/tunis/carthage']"
      ]
     },
     "execution_count": 8,
     "metadata": {},
     "output_type": "execute_result"
    }
   ],
   "source": [
    "liens_quartiers"
   ]
  },
  {
   "cell_type": "markdown",
   "metadata": {},
   "source": [
    "## Scraping link by link"
   ]
  },
  {
   "cell_type": "code",
   "execution_count": 9,
   "metadata": {},
   "outputs": [],
   "source": [
    "from time import time\n",
    "from time import sleep\n",
    "from random import randint"
   ]
  },
  {
   "cell_type": "code",
   "execution_count": 10,
   "metadata": {},
   "outputs": [],
   "source": [
    "start_time = time()\n",
    "requests = 0"
   ]
  },
  {
   "cell_type": "code",
   "execution_count": 11,
   "metadata": {},
   "outputs": [],
   "source": [
    "from requests import get"
   ]
  },
  {
   "cell_type": "code",
   "execution_count": 13,
   "metadata": {
    "scrolled": true
   },
   "outputs": [
    {
     "name": "stdout",
     "output_type": "stream",
     "text": [
      "https://www.med.tn/pharmacie/nuit/tunis/bab-bhar\n",
      "13\n",
      "NEJIB BEN JEBARA\n",
      "56,rue Sidi El Bechir Bab Bhar Tunis                                Tunisie\n",
      "+216.75.673.496\n",
      "https://www.google.com/maps?saddr&daddr=36.790722,10.17871\n",
      "RACHED KHABTHANI\n",
      "43,av.Habib Bourguiba(Colisee) Bab Bhar Tunis                                Tunisie\n",
      "+216.71.252.507\n",
      "https://www.google.com/maps?saddr&daddr=36.800056,10.182266\n",
      "SLIM KARRAY\n",
      "20,avenue de la Liberte Bab Bhar Tunis                                Tunisie\n",
      "+216.71.243.520\n",
      "https://www.google.com/maps?saddr&daddr=36.808083,10.180098\n",
      "HOSNIA JENANE EP. AYACHI\n",
      "44 Avenue Bab Jedid Bab Bhar Tunis                                Tunisie\n",
      "+216.71.240.994\n",
      "https://www.google.com/maps?saddr&daddr=36.792126,10.175423\n",
      "MARIEM KILANI\n",
      "56, Rue SIDI EL BECHIR TUNIS TUNIS VILLE Bab Bhar Tunis                                Tunisie\n",
      "+216.71.347.224\n",
      "tel:+21671347224\n",
      "MOSTEFA OUAHCHI\n",
      "47,avenue Ali Belhaouane Bab Bhar Tunis                                Tunisie\n",
      "+216.71.262.600\n",
      "https://www.google.com/maps?saddr&daddr=36.805664,10.171533\n",
      "https://www.med.tn/pharmacie/nuit/tunis/el-omrane\n",
      "11\n",
      "HOUSSEM BOUBAYA\n",
      "21 rue Hedi Saidi El Omrane Tunis El Omrane Tunis                                Tunisie\n",
      "+216.75.322.411\n",
      "https://www.google.com/maps?saddr&daddr=36.8184209,10.135409\n",
      "MOHAMED GOUIA\n",
      "Avenue Hedi Saidi el omrane El Omrane Tunis                                Tunisie\n",
      "+216.71.897.768\n",
      "https://www.google.com/maps?saddr&daddr=36.809673,10.152282\n",
      "https://www.med.tn/pharmacie/nuit/tunis/la-marsa\n",
      "14\n",
      "MOUNA LAFIF EP. ANNABI GHAIET EL\n",
      "32, Avenue Taieb M'Hiri La Marsa Tunis                                Tunisie\n",
      "+216.71.729.811\n",
      "https://www.google.com/maps?saddr&daddr=36.887825,10.322535\n",
      "MAHMOUD BACH HAMBA\n",
      "9, Rue Ali Belhaouane La Marsa Tunis                                Tunisie\n",
      "+216.71.775.770\n",
      "https://www.google.com/maps?saddr&daddr=36.878368,10.327491\n",
      "https://www.med.tn/pharmacie/nuit/tunis/le-bardo\n",
      "11\n",
      "HEDI BEL HADJ HASSEN\n",
      "24,avenue Habib Bourguiba Le Bardo Tunis                                Tunisie\n",
      "+216.71.222.284\n",
      "https://www.google.com/maps?saddr&daddr=36.81065,10.140433\n",
      "SAIDA BALTI MELIANI\n",
      "60, Rue Habib Bougatfa Le Bardo Tunis                                Tunisie\n",
      "+216.71.510.700\n",
      "https://www.google.com/maps?saddr&daddr=36.813473,10.147204\n",
      "https://www.med.tn/pharmacie/nuit/tunis/sidi-hassine\n",
      "9\n",
      "HAIFA MACHAT\n",
      "Rue 4657 - Rte DE MORNAGUIA TUNIS SIDI HASSINE Sidi Hassine Tunis                                Tunisie\n",
      "+216.54.567.788\n",
      "https://www.google.com/maps?saddr&daddr=36.7816482,10.1100048\n",
      "NEILA SFAR\n",
      "Lot B. Moussa  Route n 39    Route Fouchana Sidi Hassine Tunis                                Tunisie\n",
      "+216.22.289.484\n",
      "https://www.google.com/maps?saddr&daddr=36.7482884,10.1143176\n",
      "https://www.med.tn/pharmacie/nuit/tunis/el-manar-3\n",
      "8\n",
      "ABDELKARIM HAMROUNI\n",
      "24, Centre Dorra El Manar 3 Tunis                                Tunisie\n",
      "+216.71.750.375\n",
      "https://www.google.com/maps?saddr&daddr=36.842682,10.16605\n",
      "https://www.med.tn/pharmacie/nuit/tunis/el-hrairia\n",
      "9\n",
      "MARIEM BEN YAHIA\n",
      "32bis, Rue 4001 El Hrairia Tunis                                Tunisie\n",
      "+216.71.529.925\n",
      "https://www.google.com/maps?saddr&daddr=36.7942755,10.1309437\n",
      "https://www.med.tn/pharmacie/nuit/tunis/el-ouerdia\n",
      "13\n",
      "MOHAMED SALAH OUESLATI\n",
      "54, Avenue 10236 El Ouerdia Tunis                                Tunisie\n",
      "+216.71.270.727\n",
      "https://www.google.com/maps?saddr&daddr=36.754559,10.1937\n",
      "https://www.med.tn/pharmacie/nuit/tunis/el-manar\n",
      "8\n",
      "ZIED KARRAY\n",
      "24, CENTRE DORRA TUNIS MANAR El Manar Tunis                                Tunisie\n",
      "+216.71.887.635\n",
      "tel:+21671887635\n",
      "https://www.med.tn/pharmacie/nuit/tunis/carthage\n",
      "11\n",
      "HOSNI BOUHAJEB\n",
      "1,rue Scipion Carthage Tunis                                Tunisie\n",
      "+216.71.223.434\n",
      "https://www.google.com/maps?saddr&daddr=36.8162642,10.3020146\n",
      " *** Done ***\n"
     ]
    }
   ],
   "source": [
    "noms = []\n",
    "pre_adresses = []\n",
    "pre_coors = []\n",
    "phones = []\n",
    "\n",
    "for i in liens_quartiers:\n",
    "    print(i)\n",
    "    \n",
    "    response = get(i)\n",
    "    \n",
    "    timer = randint(8,15)\n",
    "    #pause de loop\n",
    "    print(timer)\n",
    "    sleep(timer)\n",
    "    \n",
    "    #Scraping the links\n",
    "    soup = BeautifulSoup(response.text,'html.parser')\n",
    "    \n",
    "    results = soup.find_all('div',class_=\"searchResults-itemDoctor\")\n",
    "    \n",
    "    for i in results:\n",
    "        # Scraping the names\n",
    "        print(i.find('span',class_='practitioner-name').text)\n",
    "        noms.append((i.find('span',class_='practitioner-name').text).lower())\n",
    "        \n",
    "        # Scraping the adresses\n",
    "        print((i.find('div',class_='practitioner-address').find('p').text).strip())\n",
    "        pre_adresses.append((i.find('div',class_='practitioner-address').find('p').text).strip())\n",
    "        \n",
    "        # Scraping the phone numbers\n",
    "        print(i.find('span',class_='view-tel').text)\n",
    "        phones.append(i.find('span',class_='view-tel').text)        \n",
    "   \n",
    "        # Scraping the coordinates \n",
    "        print(i.find('a',class_='btn').findNext('a')['href'])\n",
    "        pre_coors.append(i.find('a',class_='btn').findNext('a')['href'])\n",
    "                \n",
    "    \n",
    "    \n",
    "    \n",
    "    \n",
    "    \n",
    "print(\" *** Done ***\")"
   ]
  },
  {
   "cell_type": "markdown",
   "metadata": {},
   "source": [
    "### cleaning up adresses"
   ]
  },
  {
   "cell_type": "code",
   "execution_count": 14,
   "metadata": {},
   "outputs": [],
   "source": [
    "adresses = []\n",
    "for i in pre_adresses:\n",
    "    adresses.append(i.replace('Tunisie','').replace('  ',''))"
   ]
  },
  {
   "cell_type": "markdown",
   "metadata": {},
   "source": [
    "### cleaning up coordinates"
   ]
  },
  {
   "cell_type": "code",
   "execution_count": 40,
   "metadata": {},
   "outputs": [
    {
     "name": "stdout",
     "output_type": "stream",
     "text": [
      "36.790722,10.17871\n",
      "36.800056,10.182266\n",
      "36.808083,10.180098\n",
      "36.792126,10.175423\n",
      "tel:+21671347224\n",
      "36.805664,10.171533\n",
      "36.8184209,10.135409\n",
      "36.809673,10.152282\n",
      "36.887825,10.322535\n",
      "36.878368,10.327491\n",
      "36.81065,10.140433\n",
      "36.813473,10.147204\n",
      "36.7816482,10.1100048\n",
      "36.7482884,10.1143176\n",
      "36.842682,10.16605\n",
      "36.7942755,10.1309437\n",
      "36.754559,10.1937\n",
      "tel:+21671887635\n",
      "36.8162642,10.3020146\n"
     ]
    }
   ],
   "source": [
    "coors = []\n",
    "for i in pre_coors:\n",
    "    eq = i.find('=')\n",
    "    print(i[eq+1:])\n",
    "    coors.append(i[eq+1:])"
   ]
  },
  {
   "cell_type": "code",
   "execution_count": 41,
   "metadata": {},
   "outputs": [
    {
     "name": "stdout",
     "output_type": "stream",
     "text": [
      "yep\n",
      "yep\n"
     ]
    }
   ],
   "source": [
    "for i,j in enumerate(coors):\n",
    "    if \"tel\" in coors[i]:\n",
    "        print('yep')\n",
    "        coors[i] = \"NO COORDINATES\""
   ]
  },
  {
   "cell_type": "code",
   "execution_count": 42,
   "metadata": {},
   "outputs": [
    {
     "data": {
      "text/plain": [
       "['36.790722,10.17871',\n",
       " '36.800056,10.182266',\n",
       " '36.808083,10.180098',\n",
       " '36.792126,10.175423',\n",
       " 'NO COORDINATES',\n",
       " '36.805664,10.171533',\n",
       " '36.8184209,10.135409',\n",
       " '36.809673,10.152282',\n",
       " '36.887825,10.322535',\n",
       " '36.878368,10.327491',\n",
       " '36.81065,10.140433',\n",
       " '36.813473,10.147204',\n",
       " '36.7816482,10.1100048',\n",
       " '36.7482884,10.1143176',\n",
       " '36.842682,10.16605',\n",
       " '36.7942755,10.1309437',\n",
       " '36.754559,10.1937',\n",
       " 'NO COORDINATES',\n",
       " '36.8162642,10.3020146']"
      ]
     },
     "execution_count": 42,
     "metadata": {},
     "output_type": "execute_result"
    }
   ],
   "source": [
    "coors"
   ]
  },
  {
   "cell_type": "code",
   "execution_count": null,
   "metadata": {},
   "outputs": [],
   "source": []
  },
  {
   "cell_type": "code",
   "execution_count": null,
   "metadata": {},
   "outputs": [],
   "source": []
  }
 ],
 "metadata": {
  "kernelspec": {
   "display_name": "Python 3",
   "language": "python",
   "name": "python3"
  },
  "language_info": {
   "codemirror_mode": {
    "name": "ipython",
    "version": 3
   },
   "file_extension": ".py",
   "mimetype": "text/x-python",
   "name": "python",
   "nbconvert_exporter": "python",
   "pygments_lexer": "ipython3",
   "version": "3.6.1"
  }
 },
 "nbformat": 4,
 "nbformat_minor": 2
}
