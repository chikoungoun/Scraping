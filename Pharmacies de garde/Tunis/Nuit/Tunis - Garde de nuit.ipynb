{
 "cells": [
  {
   "cell_type": "markdown",
   "metadata": {},
   "source": [
    "# Pharmacie de Garde - Nuit"
   ]
  },
  {
   "cell_type": "code",
   "execution_count": 1,
   "metadata": {},
   "outputs": [
    {
     "data": {
      "text/plain": [
       "<Response [200]>"
      ]
     },
     "execution_count": 1,
     "metadata": {},
     "output_type": "execute_result"
    }
   ],
   "source": [
    "import requests\n",
    "\n",
    "url = 'https://www.med.tn/pharmacie/nuit/tunis'\n",
    "response = requests.get(url)\n",
    "response"
   ]
  },
  {
   "cell_type": "code",
   "execution_count": 2,
   "metadata": {},
   "outputs": [
    {
     "data": {
      "text/plain": [
       "bs4.BeautifulSoup"
      ]
     },
     "execution_count": 2,
     "metadata": {},
     "output_type": "execute_result"
    }
   ],
   "source": [
    "from bs4 import BeautifulSoup\n",
    "\n",
    "soup = BeautifulSoup(response.text,'html.parser')\n",
    "type(soup)"
   ]
  },
  {
   "cell_type": "code",
   "execution_count": 3,
   "metadata": {},
   "outputs": [],
   "source": [
    "results = soup.find('div',class_=\"resultsxyz\")"
   ]
  },
  {
   "cell_type": "code",
   "execution_count": 65,
   "metadata": {
    "scrolled": true
   },
   "outputs": [
    {
     "data": {
      "text/plain": [
       "[<div class=\"searchResults-itemDoctor\" id=\"1481ea59c28e9e1c88fa029fa145a891\">\n",
       " <div class=\"searchResults-card card-doctor \" data-key=\"1481ea59c28e9e1c88fa029fa145a891\" data-lat=\"\" data-lng=\"\">\n",
       " <div class=\"card-doctor-header\">\n",
       " <div class=\"card-doctor-picture\">\n",
       " <a href=\"https://www.med.tn/pharmacie/tunis/hosni-bouhajeb-1655.html\" title=\"Pharmacie HOSNI BOUHAJEB\"><img alt=\"Pharmacie HOSNI BOUHAJEB\" src=\"img/pharma.png\"/>\n",
       " </a>\n",
       " </div>\n",
       " <a href=\"https://www.med.tn/pharmacie/tunis/hosni-bouhajeb-1655.html\" title=\"Pharmacie HOSNI BOUHAJEB\">\n",
       " <div class=\"card-doctor-info\">\n",
       " <h2>\n",
       " <span class=\"practitioner-title\">Pharmacie de  nuit</span>\n",
       " <span class=\"practitioner-name\">HOSNI BOUHAJEB</span></h2>\n",
       " <p class=\"practitioner-speciality\"><strong class=\"text-success\">Ouverte</strong></p>\n",
       " <div class=\"practitioner-address\">\n",
       " <img alt=\"Tunisie\" src=\"https://www.med.tn/img/tunisie.svg\"/>\n",
       " <p>1,rue Scipion Carthage Tunis                                Tunisie  \n",
       " \t\t\t\t\t\t\t\t\n",
       "                                                       \n",
       "                            </p>\n",
       " </div>\n",
       " </div></a>\n",
       " <div class=\"card-doctor-button\">\n",
       " <a class=\"btn\" href=\"https://www.med.tn/pharmacie/tunis/hosni-bouhajeb-1655.html\" style=\"min-width: 140px;\">Voir Fiche</a>\n",
       " <a class=\"btn\" href=\"https://www.google.com/maps?saddr&amp;daddr=36.8162642,10.3020146\" style=\"min-width: 140px;\" target=\"_dir\">Itinéraire</a>\n",
       " <a class=\"btn btn-phone\" href=\"tel:+21671223434\"><span class=\"hide-tel\">+216.71.223.434</span><span class=\"view-tel\">+216.71.223.434</span></a>\n",
       " </div>\n",
       " </div>\n",
       " </div>\n",
       " </div>]"
      ]
     },
     "execution_count": 65,
     "metadata": {},
     "output_type": "execute_result"
    }
   ],
   "source": [
    "results[:100]"
   ]
  },
  {
   "cell_type": "markdown",
   "metadata": {},
   "source": [
    "### Neighborhood links"
   ]
  },
  {
   "cell_type": "code",
   "execution_count": 5,
   "metadata": {},
   "outputs": [],
   "source": [
    "slider = results.find_all('a',class_=\"btn btn-default btn-sm\")"
   ]
  },
  {
   "cell_type": "code",
   "execution_count": 6,
   "metadata": {},
   "outputs": [
    {
     "data": {
      "text/plain": [
       "10"
      ]
     },
     "execution_count": 6,
     "metadata": {},
     "output_type": "execute_result"
    }
   ],
   "source": [
    "len(slider)"
   ]
  },
  {
   "cell_type": "code",
   "execution_count": 7,
   "metadata": {},
   "outputs": [
    {
     "name": "stdout",
     "output_type": "stream",
     "text": [
      "https://www.med.tn/pharmacie/nuit/tunis/bab-bhar\n",
      "https://www.med.tn/pharmacie/nuit/tunis/el-omrane\n",
      "https://www.med.tn/pharmacie/nuit/tunis/la-marsa\n",
      "https://www.med.tn/pharmacie/nuit/tunis/le-bardo\n",
      "https://www.med.tn/pharmacie/nuit/tunis/sidi-hassine\n",
      "https://www.med.tn/pharmacie/nuit/tunis/el-manar-3\n",
      "https://www.med.tn/pharmacie/nuit/tunis/el-hrairia\n",
      "https://www.med.tn/pharmacie/nuit/tunis/el-ouerdia\n",
      "https://www.med.tn/pharmacie/nuit/tunis/el-manar\n",
      "https://www.med.tn/pharmacie/nuit/tunis/carthage\n"
     ]
    }
   ],
   "source": [
    "liens_quartiers = []\n",
    "for i in slider:\n",
    "    print(i['href'])\n",
    "    liens_quartiers.append(i['href'])"
   ]
  },
  {
   "cell_type": "code",
   "execution_count": 8,
   "metadata": {
    "scrolled": true
   },
   "outputs": [
    {
     "data": {
      "text/plain": [
       "['https://www.med.tn/pharmacie/nuit/tunis/bab-bhar',\n",
       " 'https://www.med.tn/pharmacie/nuit/tunis/el-omrane',\n",
       " 'https://www.med.tn/pharmacie/nuit/tunis/la-marsa',\n",
       " 'https://www.med.tn/pharmacie/nuit/tunis/le-bardo',\n",
       " 'https://www.med.tn/pharmacie/nuit/tunis/sidi-hassine',\n",
       " 'https://www.med.tn/pharmacie/nuit/tunis/el-manar-3',\n",
       " 'https://www.med.tn/pharmacie/nuit/tunis/el-hrairia',\n",
       " 'https://www.med.tn/pharmacie/nuit/tunis/el-ouerdia',\n",
       " 'https://www.med.tn/pharmacie/nuit/tunis/el-manar',\n",
       " 'https://www.med.tn/pharmacie/nuit/tunis/carthage']"
      ]
     },
     "execution_count": 8,
     "metadata": {},
     "output_type": "execute_result"
    }
   ],
   "source": [
    "liens_quartiers"
   ]
  },
  {
   "cell_type": "markdown",
   "metadata": {},
   "source": [
    "### Neighborhood names"
   ]
  },
  {
   "cell_type": "code",
   "execution_count": 71,
   "metadata": {
    "scrolled": true
   },
   "outputs": [
    {
     "name": "stdout",
     "output_type": "stream",
     "text": [
      "Bab Bhar (6)\n",
      "El Omrane (2)\n",
      "La Marsa (2)\n",
      "Le Bardo (2)\n",
      "Sidi Hassine (2)\n",
      "El Manar 3 (1)\n",
      "El Hrairia (1)\n",
      "El Ouerdia (1)\n",
      "El Manar (1)\n",
      "Carthage (1)\n"
     ]
    }
   ],
   "source": [
    "noms_quartiers = []\n",
    "for i in slider:\n",
    "    print(i.text)\n",
    "    noms_quartiers.append(i.text[:i.text.find('(')].strip())"
   ]
  },
  {
   "cell_type": "code",
   "execution_count": 72,
   "metadata": {},
   "outputs": [
    {
     "data": {
      "text/plain": [
       "['Bab Bhar',\n",
       " 'El Omrane',\n",
       " 'La Marsa',\n",
       " 'Le Bardo',\n",
       " 'Sidi Hassine',\n",
       " 'El Manar 3',\n",
       " 'El Hrairia',\n",
       " 'El Ouerdia',\n",
       " 'El Manar',\n",
       " 'Carthage']"
      ]
     },
     "execution_count": 72,
     "metadata": {},
     "output_type": "execute_result"
    }
   ],
   "source": [
    "noms_quartiers"
   ]
  },
  {
   "cell_type": "markdown",
   "metadata": {},
   "source": [
    "## Scraping link by link"
   ]
  },
  {
   "cell_type": "code",
   "execution_count": 9,
   "metadata": {},
   "outputs": [],
   "source": [
    "from time import time\n",
    "from time import sleep\n",
    "from random import randint"
   ]
  },
  {
   "cell_type": "code",
   "execution_count": 10,
   "metadata": {},
   "outputs": [],
   "source": [
    "start_time = time()\n",
    "requests = 0"
   ]
  },
  {
   "cell_type": "code",
   "execution_count": 11,
   "metadata": {},
   "outputs": [],
   "source": [
    "from requests import get"
   ]
  },
  {
   "cell_type": "code",
   "execution_count": 53,
   "metadata": {
    "scrolled": true
   },
   "outputs": [
    {
     "name": "stdout",
     "output_type": "stream",
     "text": [
      "https://www.med.tn/pharmacie/nuit/tunis/bab-bhar\n",
      "10\n",
      "MARIEM KILANI\n",
      "56, Rue SIDI EL BECHIR TUNIS TUNIS VILLE Bab Bhar Tunis                                Tunisie\n",
      "+216.71.347.224\n",
      "tel:+21671347224\n",
      "MOSTEFA OUAHCHI\n",
      "47,avenue Ali Belhaouane Bab Bhar Tunis                                Tunisie\n",
      "+216.71.262.600\n",
      "https://www.google.com/maps?saddr&daddr=36.805664,10.171533\n",
      "NEJIB BEN JEBARA\n",
      "56,rue Sidi El Bechir Bab Bhar Tunis                                Tunisie\n",
      "+216.75.673.496\n",
      "https://www.google.com/maps?saddr&daddr=36.790722,10.17871\n",
      "HOSNIA JENANE EP. AYACHI\n",
      "44 Avenue Bab Jedid Bab Bhar Tunis                                Tunisie\n",
      "+216.71.240.994\n",
      "https://www.google.com/maps?saddr&daddr=36.792126,10.175423\n",
      "SLIM KARRAY\n",
      "20,avenue de la Liberte Bab Bhar Tunis                                Tunisie\n",
      "+216.71.243.520\n",
      "https://www.google.com/maps?saddr&daddr=36.808083,10.180098\n",
      "RACHED KHABTHANI\n",
      "43,av.Habib Bourguiba(Colisee) Bab Bhar Tunis                                Tunisie\n",
      "+216.71.252.507\n",
      "https://www.google.com/maps?saddr&daddr=36.800056,10.182266\n",
      "https://www.med.tn/pharmacie/nuit/tunis/el-omrane\n",
      "12\n",
      "MOHAMED GOUIA\n",
      "Avenue Hedi Saidi el omrane El Omrane Tunis                                Tunisie\n",
      "+216.71.897.768\n",
      "https://www.google.com/maps?saddr&daddr=36.809673,10.152282\n",
      "HOUSSEM BOUBAYA\n",
      "21 rue Hedi Saidi El Omrane Tunis El Omrane Tunis                                Tunisie\n",
      "+216.75.322.411\n",
      "https://www.google.com/maps?saddr&daddr=36.8184209,10.135409\n",
      "https://www.med.tn/pharmacie/nuit/tunis/la-marsa\n",
      "12\n",
      "MOUNA LAFIF EP. ANNABI GHAIET EL\n",
      "32, Avenue Taieb M'Hiri La Marsa Tunis                                Tunisie\n",
      "+216.71.729.811\n",
      "https://www.google.com/maps?saddr&daddr=36.887825,10.322535\n",
      "MAHMOUD BACH HAMBA\n",
      "9, Rue Ali Belhaouane La Marsa Tunis                                Tunisie\n",
      "+216.71.775.770\n",
      "https://www.google.com/maps?saddr&daddr=36.878368,10.327491\n",
      "https://www.med.tn/pharmacie/nuit/tunis/le-bardo\n",
      "10\n",
      "SAIDA BALTI MELIANI\n",
      "60, Rue Habib Bougatfa Le Bardo Tunis                                Tunisie\n",
      "+216.71.510.700\n",
      "https://www.google.com/maps?saddr&daddr=36.813473,10.147204\n",
      "HEDI BEL HADJ HASSEN\n",
      "24,avenue Habib Bourguiba Le Bardo Tunis                                Tunisie\n",
      "+216.71.222.284\n",
      "https://www.google.com/maps?saddr&daddr=36.81065,10.140433\n",
      "https://www.med.tn/pharmacie/nuit/tunis/sidi-hassine\n",
      "10\n",
      "HAIFA MACHAT\n",
      "Rue 4657 - Rte DE MORNAGUIA TUNIS SIDI HASSINE Sidi Hassine Tunis                                Tunisie\n",
      "+216.54.567.788\n",
      "https://www.google.com/maps?saddr&daddr=36.7816482,10.1100048\n",
      "NEILA SFAR\n",
      "Lot B. Moussa  Route n 39    Route Fouchana Sidi Hassine Tunis                                Tunisie\n",
      "+216.22.289.484\n",
      "https://www.google.com/maps?saddr&daddr=36.7482884,10.1143176\n",
      "https://www.med.tn/pharmacie/nuit/tunis/el-manar-3\n",
      "9\n",
      "ABDELKARIM HAMROUNI\n",
      "24, Centre Dorra El Manar 3 Tunis                                Tunisie\n",
      "+216.71.750.375\n",
      "https://www.google.com/maps?saddr&daddr=36.842682,10.16605\n",
      "https://www.med.tn/pharmacie/nuit/tunis/el-hrairia\n",
      "13\n",
      "MARIEM BEN YAHIA\n",
      "32bis, Rue 4001 El Hrairia Tunis                                Tunisie\n",
      "+216.71.529.925\n",
      "https://www.google.com/maps?saddr&daddr=36.7942755,10.1309437\n",
      "https://www.med.tn/pharmacie/nuit/tunis/el-ouerdia\n",
      "11\n",
      "MOHAMED SALAH OUESLATI\n",
      "54, Avenue 10236 El Ouerdia Tunis                                Tunisie\n",
      "+216.71.270.727\n",
      "https://www.google.com/maps?saddr&daddr=36.754559,10.1937\n",
      "https://www.med.tn/pharmacie/nuit/tunis/el-manar\n",
      "14\n",
      "ZIED KARRAY\n",
      "24, CENTRE DORRA TUNIS MANAR El Manar Tunis                                Tunisie\n",
      "+216.71.887.635\n",
      "tel:+21671887635\n",
      "https://www.med.tn/pharmacie/nuit/tunis/carthage\n",
      "9\n",
      "HOSNI BOUHAJEB\n",
      "1,rue Scipion Carthage Tunis                                Tunisie\n",
      "+216.71.223.434\n",
      "https://www.google.com/maps?saddr&daddr=36.8162642,10.3020146\n",
      " *** Done ***\n"
     ]
    }
   ],
   "source": [
    "noms = []\n",
    "pre_adresses = []\n",
    "pre_coors = []\n",
    "phones = []\n",
    "\n",
    "for i in liens_quartiers:\n",
    "    print(i)\n",
    "    \n",
    "    response = get(i)\n",
    "    \n",
    "    timer = randint(8,15)\n",
    "    #pause de loop\n",
    "    print(timer)\n",
    "    sleep(timer)\n",
    "    \n",
    "    #Scraping the links\n",
    "    soup = BeautifulSoup(response.text,'html.parser')\n",
    "    \n",
    "    results = soup.find_all('div',class_=\"searchResults-itemDoctor\")\n",
    "    \n",
    "    for i in results:\n",
    "        # Scraping the names\n",
    "        print(i.find('span',class_='practitioner-name').text)\n",
    "        noms.append(\"Pharmacie \"+(i.find('span',class_='practitioner-name').text).lower())\n",
    "        \n",
    "        # Scraping the adresses\n",
    "        print((i.find('div',class_='practitioner-address').find('p').text).strip())\n",
    "        pre_adresses.append((i.find('div',class_='practitioner-address').find('p').text).strip())\n",
    "        \n",
    "        # Scraping the phone numbers\n",
    "        print(i.find('span',class_='view-tel').text)\n",
    "        phones.append((i.find('span',class_='view-tel').text).replace('.',''))        \n",
    "   \n",
    "        # Scraping the coordinates \n",
    "        print(i.find('a',class_='btn').findNext('a')['href'])\n",
    "        pre_coors.append(i.find('a',class_='btn').findNext('a')['href'])\n",
    "                \n",
    "    \n",
    "    \n",
    "    \n",
    "    \n",
    "    \n",
    "print(\" *** Done ***\")"
   ]
  },
  {
   "cell_type": "markdown",
   "metadata": {},
   "source": [
    "### cleaning up adresses"
   ]
  },
  {
   "cell_type": "code",
   "execution_count": 56,
   "metadata": {},
   "outputs": [],
   "source": [
    "adresses = []\n",
    "for i in pre_adresses:\n",
    "    adresses.append(i.replace('Tunisie','').replace('  ',''))"
   ]
  },
  {
   "cell_type": "markdown",
   "metadata": {},
   "source": [
    "### cleaning up coordinates"
   ]
  },
  {
   "cell_type": "code",
   "execution_count": 57,
   "metadata": {},
   "outputs": [
    {
     "name": "stdout",
     "output_type": "stream",
     "text": [
      "tel:+21671347224\n",
      "36.805664,10.171533\n",
      "36.790722,10.17871\n",
      "36.792126,10.175423\n",
      "36.808083,10.180098\n",
      "36.800056,10.182266\n",
      "36.809673,10.152282\n",
      "36.8184209,10.135409\n",
      "36.887825,10.322535\n",
      "36.878368,10.327491\n",
      "36.813473,10.147204\n",
      "36.81065,10.140433\n",
      "36.7816482,10.1100048\n",
      "36.7482884,10.1143176\n",
      "36.842682,10.16605\n",
      "36.7942755,10.1309437\n",
      "36.754559,10.1937\n",
      "tel:+21671887635\n",
      "36.8162642,10.3020146\n"
     ]
    }
   ],
   "source": [
    "coors = []\n",
    "for i in pre_coors:\n",
    "    eq = i.find('=')\n",
    "    print(i[eq+1:])\n",
    "    coors.append(i[eq+1:])"
   ]
  },
  {
   "cell_type": "code",
   "execution_count": 58,
   "metadata": {},
   "outputs": [
    {
     "name": "stdout",
     "output_type": "stream",
     "text": [
      "yep\n",
      "yep\n"
     ]
    }
   ],
   "source": [
    "for i,j in enumerate(coors):\n",
    "    if \"tel\" in coors[i]:\n",
    "        print('yep')\n",
    "        coors[i] = \"NO COORDINATES\""
   ]
  },
  {
   "cell_type": "code",
   "execution_count": 59,
   "metadata": {},
   "outputs": [
    {
     "data": {
      "text/plain": [
       "['NO COORDINATES',\n",
       " '36.805664,10.171533',\n",
       " '36.790722,10.17871',\n",
       " '36.792126,10.175423',\n",
       " '36.808083,10.180098',\n",
       " '36.800056,10.182266',\n",
       " '36.809673,10.152282',\n",
       " '36.8184209,10.135409',\n",
       " '36.887825,10.322535',\n",
       " '36.878368,10.327491',\n",
       " '36.813473,10.147204',\n",
       " '36.81065,10.140433',\n",
       " '36.7816482,10.1100048',\n",
       " '36.7482884,10.1143176',\n",
       " '36.842682,10.16605',\n",
       " '36.7942755,10.1309437',\n",
       " '36.754559,10.1937',\n",
       " 'NO COORDINATES',\n",
       " '36.8162642,10.3020146']"
      ]
     },
     "execution_count": 59,
     "metadata": {},
     "output_type": "execute_result"
    }
   ],
   "source": [
    "coors"
   ]
  },
  {
   "cell_type": "markdown",
   "metadata": {},
   "source": [
    "## Merging the data we got "
   ]
  },
  {
   "cell_type": "code",
   "execution_count": 60,
   "metadata": {},
   "outputs": [],
   "source": [
    "garde = []\n",
    "for i,j,k,l in zip(noms,adresses,coors,phones):\n",
    "    t = (i,j,k,l)\n",
    "    garde.append(t)"
   ]
  },
  {
   "cell_type": "code",
   "execution_count": 61,
   "metadata": {},
   "outputs": [
    {
     "data": {
      "text/plain": [
       "[('Pharmacie mariem kilani',\n",
       "  '56, Rue SIDI EL BECHIR TUNIS TUNIS VILLE Bab Bhar Tunis',\n",
       "  'NO COORDINATES',\n",
       "  '+21671347224'),\n",
       " ('Pharmacie mostefa ouahchi',\n",
       "  '47,avenue Ali Belhaouane Bab Bhar Tunis',\n",
       "  '36.805664,10.171533',\n",
       "  '+21671262600'),\n",
       " ('Pharmacie nejib ben jebara',\n",
       "  '56,rue Sidi El Bechir Bab Bhar Tunis',\n",
       "  '36.790722,10.17871',\n",
       "  '+21675673496'),\n",
       " ('Pharmacie hosnia jenane ep. ayachi',\n",
       "  '44 Avenue Bab Jedid Bab Bhar Tunis',\n",
       "  '36.792126,10.175423',\n",
       "  '+21671240994'),\n",
       " ('Pharmacie slim karray',\n",
       "  '20,avenue de la Liberte Bab Bhar Tunis',\n",
       "  '36.808083,10.180098',\n",
       "  '+21671243520'),\n",
       " ('Pharmacie rached khabthani',\n",
       "  '43,av.Habib Bourguiba(Colisee) Bab Bhar Tunis',\n",
       "  '36.800056,10.182266',\n",
       "  '+21671252507'),\n",
       " ('Pharmacie mohamed gouia',\n",
       "  'Avenue Hedi Saidi el omrane El Omrane Tunis',\n",
       "  '36.809673,10.152282',\n",
       "  '+21671897768'),\n",
       " ('Pharmacie houssem boubaya',\n",
       "  '21 rue Hedi Saidi El Omrane Tunis El Omrane Tunis',\n",
       "  '36.8184209,10.135409',\n",
       "  '+21675322411'),\n",
       " ('Pharmacie mouna lafif ep. annabi ghaiet el',\n",
       "  \"32, Avenue Taieb M'Hiri La Marsa Tunis\",\n",
       "  '36.887825,10.322535',\n",
       "  '+21671729811'),\n",
       " ('Pharmacie mahmoud bach hamba',\n",
       "  '9, Rue Ali Belhaouane La Marsa Tunis',\n",
       "  '36.878368,10.327491',\n",
       "  '+21671775770'),\n",
       " ('Pharmacie saida balti meliani',\n",
       "  '60, Rue Habib Bougatfa Le Bardo Tunis',\n",
       "  '36.813473,10.147204',\n",
       "  '+21671510700'),\n",
       " ('Pharmacie hedi bel hadj hassen',\n",
       "  '24,avenue Habib Bourguiba Le Bardo Tunis',\n",
       "  '36.81065,10.140433',\n",
       "  '+21671222284'),\n",
       " ('Pharmacie haifa machat',\n",
       "  'Rue 4657 - Rte DE MORNAGUIA TUNIS SIDI HASSINE Sidi Hassine Tunis',\n",
       "  '36.7816482,10.1100048',\n",
       "  '+21654567788'),\n",
       " ('Pharmacie neila sfar',\n",
       "  'Lot B. MoussaRoute n 39Route Fouchana Sidi Hassine Tunis',\n",
       "  '36.7482884,10.1143176',\n",
       "  '+21622289484'),\n",
       " ('Pharmacie abdelkarim hamrouni',\n",
       "  '24, Centre Dorra El Manar 3 Tunis',\n",
       "  '36.842682,10.16605',\n",
       "  '+21671750375'),\n",
       " ('Pharmacie mariem ben yahia',\n",
       "  '32bis, Rue 4001 El Hrairia Tunis',\n",
       "  '36.7942755,10.1309437',\n",
       "  '+21671529925'),\n",
       " ('Pharmacie mohamed salah oueslati',\n",
       "  '54, Avenue 10236 El Ouerdia Tunis',\n",
       "  '36.754559,10.1937',\n",
       "  '+21671270727'),\n",
       " ('Pharmacie zied karray',\n",
       "  '24, CENTRE DORRA TUNIS MANAR El Manar Tunis',\n",
       "  'NO COORDINATES',\n",
       "  '+21671887635'),\n",
       " ('Pharmacie hosni bouhajeb',\n",
       "  '1,rue Scipion Carthage Tunis',\n",
       "  '36.8162642,10.3020146',\n",
       "  '+21671223434')]"
      ]
     },
     "execution_count": 61,
     "metadata": {},
     "output_type": "execute_result"
    }
   ],
   "source": [
    "garde"
   ]
  },
  {
   "cell_type": "markdown",
   "metadata": {},
   "source": [
    "### Convert into a Pandas Object"
   ]
  },
  {
   "cell_type": "code",
   "execution_count": 62,
   "metadata": {},
   "outputs": [],
   "source": [
    "import pandas as pd"
   ]
  },
  {
   "cell_type": "code",
   "execution_count": 63,
   "metadata": {},
   "outputs": [],
   "source": [
    "df = pd.DataFrame(garde,columns=['nom','adresse','coordonnee','telephone'])"
   ]
  },
  {
   "cell_type": "code",
   "execution_count": 64,
   "metadata": {},
   "outputs": [
    {
     "data": {
      "text/html": [
       "<div>\n",
       "<style>\n",
       "    .dataframe thead tr:only-child th {\n",
       "        text-align: right;\n",
       "    }\n",
       "\n",
       "    .dataframe thead th {\n",
       "        text-align: left;\n",
       "    }\n",
       "\n",
       "    .dataframe tbody tr th {\n",
       "        vertical-align: top;\n",
       "    }\n",
       "</style>\n",
       "<table border=\"1\" class=\"dataframe\">\n",
       "  <thead>\n",
       "    <tr style=\"text-align: right;\">\n",
       "      <th></th>\n",
       "      <th>nom</th>\n",
       "      <th>adresse</th>\n",
       "      <th>coordonnee</th>\n",
       "      <th>telephone</th>\n",
       "    </tr>\n",
       "  </thead>\n",
       "  <tbody>\n",
       "    <tr>\n",
       "      <th>0</th>\n",
       "      <td>Pharmacie mariem kilani</td>\n",
       "      <td>56, Rue SIDI EL BECHIR TUNIS TUNIS VILLE Bab B...</td>\n",
       "      <td>NO COORDINATES</td>\n",
       "      <td>+21671347224</td>\n",
       "    </tr>\n",
       "    <tr>\n",
       "      <th>1</th>\n",
       "      <td>Pharmacie mostefa ouahchi</td>\n",
       "      <td>47,avenue Ali Belhaouane Bab Bhar Tunis</td>\n",
       "      <td>36.805664,10.171533</td>\n",
       "      <td>+21671262600</td>\n",
       "    </tr>\n",
       "    <tr>\n",
       "      <th>2</th>\n",
       "      <td>Pharmacie nejib ben jebara</td>\n",
       "      <td>56,rue Sidi El Bechir Bab Bhar Tunis</td>\n",
       "      <td>36.790722,10.17871</td>\n",
       "      <td>+21675673496</td>\n",
       "    </tr>\n",
       "    <tr>\n",
       "      <th>3</th>\n",
       "      <td>Pharmacie hosnia jenane ep. ayachi</td>\n",
       "      <td>44 Avenue Bab Jedid Bab Bhar Tunis</td>\n",
       "      <td>36.792126,10.175423</td>\n",
       "      <td>+21671240994</td>\n",
       "    </tr>\n",
       "    <tr>\n",
       "      <th>4</th>\n",
       "      <td>Pharmacie slim karray</td>\n",
       "      <td>20,avenue de la Liberte Bab Bhar Tunis</td>\n",
       "      <td>36.808083,10.180098</td>\n",
       "      <td>+21671243520</td>\n",
       "    </tr>\n",
       "    <tr>\n",
       "      <th>5</th>\n",
       "      <td>Pharmacie rached khabthani</td>\n",
       "      <td>43,av.Habib Bourguiba(Colisee) Bab Bhar Tunis</td>\n",
       "      <td>36.800056,10.182266</td>\n",
       "      <td>+21671252507</td>\n",
       "    </tr>\n",
       "    <tr>\n",
       "      <th>6</th>\n",
       "      <td>Pharmacie mohamed gouia</td>\n",
       "      <td>Avenue Hedi Saidi el omrane El Omrane Tunis</td>\n",
       "      <td>36.809673,10.152282</td>\n",
       "      <td>+21671897768</td>\n",
       "    </tr>\n",
       "    <tr>\n",
       "      <th>7</th>\n",
       "      <td>Pharmacie houssem boubaya</td>\n",
       "      <td>21 rue Hedi Saidi El Omrane Tunis El Omrane Tunis</td>\n",
       "      <td>36.8184209,10.135409</td>\n",
       "      <td>+21675322411</td>\n",
       "    </tr>\n",
       "    <tr>\n",
       "      <th>8</th>\n",
       "      <td>Pharmacie mouna lafif ep. annabi ghaiet el</td>\n",
       "      <td>32, Avenue Taieb M'Hiri La Marsa Tunis</td>\n",
       "      <td>36.887825,10.322535</td>\n",
       "      <td>+21671729811</td>\n",
       "    </tr>\n",
       "    <tr>\n",
       "      <th>9</th>\n",
       "      <td>Pharmacie mahmoud bach hamba</td>\n",
       "      <td>9, Rue Ali Belhaouane La Marsa Tunis</td>\n",
       "      <td>36.878368,10.327491</td>\n",
       "      <td>+21671775770</td>\n",
       "    </tr>\n",
       "    <tr>\n",
       "      <th>10</th>\n",
       "      <td>Pharmacie saida balti meliani</td>\n",
       "      <td>60, Rue Habib Bougatfa Le Bardo Tunis</td>\n",
       "      <td>36.813473,10.147204</td>\n",
       "      <td>+21671510700</td>\n",
       "    </tr>\n",
       "    <tr>\n",
       "      <th>11</th>\n",
       "      <td>Pharmacie hedi bel hadj hassen</td>\n",
       "      <td>24,avenue Habib Bourguiba Le Bardo Tunis</td>\n",
       "      <td>36.81065,10.140433</td>\n",
       "      <td>+21671222284</td>\n",
       "    </tr>\n",
       "    <tr>\n",
       "      <th>12</th>\n",
       "      <td>Pharmacie haifa machat</td>\n",
       "      <td>Rue 4657 - Rte DE MORNAGUIA TUNIS SIDI HASSINE...</td>\n",
       "      <td>36.7816482,10.1100048</td>\n",
       "      <td>+21654567788</td>\n",
       "    </tr>\n",
       "    <tr>\n",
       "      <th>13</th>\n",
       "      <td>Pharmacie neila sfar</td>\n",
       "      <td>Lot B. MoussaRoute n 39Route Fouchana Sidi Has...</td>\n",
       "      <td>36.7482884,10.1143176</td>\n",
       "      <td>+21622289484</td>\n",
       "    </tr>\n",
       "    <tr>\n",
       "      <th>14</th>\n",
       "      <td>Pharmacie abdelkarim hamrouni</td>\n",
       "      <td>24, Centre Dorra El Manar 3 Tunis</td>\n",
       "      <td>36.842682,10.16605</td>\n",
       "      <td>+21671750375</td>\n",
       "    </tr>\n",
       "    <tr>\n",
       "      <th>15</th>\n",
       "      <td>Pharmacie mariem ben yahia</td>\n",
       "      <td>32bis, Rue 4001 El Hrairia Tunis</td>\n",
       "      <td>36.7942755,10.1309437</td>\n",
       "      <td>+21671529925</td>\n",
       "    </tr>\n",
       "    <tr>\n",
       "      <th>16</th>\n",
       "      <td>Pharmacie mohamed salah oueslati</td>\n",
       "      <td>54, Avenue 10236 El Ouerdia Tunis</td>\n",
       "      <td>36.754559,10.1937</td>\n",
       "      <td>+21671270727</td>\n",
       "    </tr>\n",
       "    <tr>\n",
       "      <th>17</th>\n",
       "      <td>Pharmacie zied karray</td>\n",
       "      <td>24, CENTRE DORRA TUNIS MANAR El Manar Tunis</td>\n",
       "      <td>NO COORDINATES</td>\n",
       "      <td>+21671887635</td>\n",
       "    </tr>\n",
       "    <tr>\n",
       "      <th>18</th>\n",
       "      <td>Pharmacie hosni bouhajeb</td>\n",
       "      <td>1,rue Scipion Carthage Tunis</td>\n",
       "      <td>36.8162642,10.3020146</td>\n",
       "      <td>+21671223434</td>\n",
       "    </tr>\n",
       "  </tbody>\n",
       "</table>\n",
       "</div>"
      ],
      "text/plain": [
       "                                           nom  \\\n",
       "0                      Pharmacie mariem kilani   \n",
       "1                    Pharmacie mostefa ouahchi   \n",
       "2                   Pharmacie nejib ben jebara   \n",
       "3           Pharmacie hosnia jenane ep. ayachi   \n",
       "4                        Pharmacie slim karray   \n",
       "5                   Pharmacie rached khabthani   \n",
       "6                      Pharmacie mohamed gouia   \n",
       "7                    Pharmacie houssem boubaya   \n",
       "8   Pharmacie mouna lafif ep. annabi ghaiet el   \n",
       "9                 Pharmacie mahmoud bach hamba   \n",
       "10               Pharmacie saida balti meliani   \n",
       "11              Pharmacie hedi bel hadj hassen   \n",
       "12                      Pharmacie haifa machat   \n",
       "13                        Pharmacie neila sfar   \n",
       "14               Pharmacie abdelkarim hamrouni   \n",
       "15                  Pharmacie mariem ben yahia   \n",
       "16            Pharmacie mohamed salah oueslati   \n",
       "17                       Pharmacie zied karray   \n",
       "18                    Pharmacie hosni bouhajeb   \n",
       "\n",
       "                                              adresse             coordonnee  \\\n",
       "0   56, Rue SIDI EL BECHIR TUNIS TUNIS VILLE Bab B...         NO COORDINATES   \n",
       "1             47,avenue Ali Belhaouane Bab Bhar Tunis    36.805664,10.171533   \n",
       "2                56,rue Sidi El Bechir Bab Bhar Tunis     36.790722,10.17871   \n",
       "3                  44 Avenue Bab Jedid Bab Bhar Tunis    36.792126,10.175423   \n",
       "4              20,avenue de la Liberte Bab Bhar Tunis    36.808083,10.180098   \n",
       "5       43,av.Habib Bourguiba(Colisee) Bab Bhar Tunis    36.800056,10.182266   \n",
       "6         Avenue Hedi Saidi el omrane El Omrane Tunis    36.809673,10.152282   \n",
       "7   21 rue Hedi Saidi El Omrane Tunis El Omrane Tunis   36.8184209,10.135409   \n",
       "8              32, Avenue Taieb M'Hiri La Marsa Tunis    36.887825,10.322535   \n",
       "9                9, Rue Ali Belhaouane La Marsa Tunis    36.878368,10.327491   \n",
       "10              60, Rue Habib Bougatfa Le Bardo Tunis    36.813473,10.147204   \n",
       "11           24,avenue Habib Bourguiba Le Bardo Tunis     36.81065,10.140433   \n",
       "12  Rue 4657 - Rte DE MORNAGUIA TUNIS SIDI HASSINE...  36.7816482,10.1100048   \n",
       "13  Lot B. MoussaRoute n 39Route Fouchana Sidi Has...  36.7482884,10.1143176   \n",
       "14                  24, Centre Dorra El Manar 3 Tunis     36.842682,10.16605   \n",
       "15                   32bis, Rue 4001 El Hrairia Tunis  36.7942755,10.1309437   \n",
       "16                  54, Avenue 10236 El Ouerdia Tunis      36.754559,10.1937   \n",
       "17        24, CENTRE DORRA TUNIS MANAR El Manar Tunis         NO COORDINATES   \n",
       "18                       1,rue Scipion Carthage Tunis  36.8162642,10.3020146   \n",
       "\n",
       "       telephone  \n",
       "0   +21671347224  \n",
       "1   +21671262600  \n",
       "2   +21675673496  \n",
       "3   +21671240994  \n",
       "4   +21671243520  \n",
       "5   +21671252507  \n",
       "6   +21671897768  \n",
       "7   +21675322411  \n",
       "8   +21671729811  \n",
       "9   +21671775770  \n",
       "10  +21671510700  \n",
       "11  +21671222284  \n",
       "12  +21654567788  \n",
       "13  +21622289484  \n",
       "14  +21671750375  \n",
       "15  +21671529925  \n",
       "16  +21671270727  \n",
       "17  +21671887635  \n",
       "18  +21671223434  "
      ]
     },
     "execution_count": 64,
     "metadata": {},
     "output_type": "execute_result"
    }
   ],
   "source": [
    "df"
   ]
  },
  {
   "cell_type": "code",
   "execution_count": null,
   "metadata": {},
   "outputs": [],
   "source": []
  },
  {
   "cell_type": "code",
   "execution_count": null,
   "metadata": {},
   "outputs": [],
   "source": []
  }
 ],
 "metadata": {
  "kernelspec": {
   "display_name": "Python 3",
   "language": "python",
   "name": "python3"
  },
  "language_info": {
   "codemirror_mode": {
    "name": "ipython",
    "version": 3
   },
   "file_extension": ".py",
   "mimetype": "text/x-python",
   "name": "python",
   "nbconvert_exporter": "python",
   "pygments_lexer": "ipython3",
   "version": "3.6.1"
  }
 },
 "nbformat": 4,
 "nbformat_minor": 2
}
