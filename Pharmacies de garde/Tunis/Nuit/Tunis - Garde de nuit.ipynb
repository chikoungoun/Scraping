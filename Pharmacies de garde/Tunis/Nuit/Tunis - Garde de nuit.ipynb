{
 "cells": [
  {
   "cell_type": "markdown",
   "metadata": {},
   "source": [
    "# Pharmacie de Garde - Nuit"
   ]
  },
  {
   "cell_type": "code",
   "execution_count": 1,
   "metadata": {},
   "outputs": [
    {
     "data": {
      "text/plain": [
       "<Response [200]>"
      ]
     },
     "execution_count": 1,
     "metadata": {},
     "output_type": "execute_result"
    }
   ],
   "source": [
    "import requests\n",
    "\n",
    "url = 'https://www.med.tn/pharmacie/nuit/tunis'\n",
    "response = requests.get(url)\n",
    "response"
   ]
  },
  {
   "cell_type": "code",
   "execution_count": 2,
   "metadata": {},
   "outputs": [
    {
     "data": {
      "text/plain": [
       "bs4.BeautifulSoup"
      ]
     },
     "execution_count": 2,
     "metadata": {},
     "output_type": "execute_result"
    }
   ],
   "source": [
    "from bs4 import BeautifulSoup\n",
    "\n",
    "soup = BeautifulSoup(response.text,'html.parser')\n",
    "type(soup)"
   ]
  },
  {
   "cell_type": "code",
   "execution_count": 3,
   "metadata": {},
   "outputs": [],
   "source": [
    "results = soup.find('div',class_=\"resultsxyz\")"
   ]
  },
  {
   "cell_type": "code",
   "execution_count": 4,
   "metadata": {
    "scrolled": true
   },
   "outputs": [
    {
     "data": {
      "text/plain": [
       "<div class=\"resultsxyz\" dir=\"ltr\">\n",
       "<div class=\"slider pharmacy-city\" style=\"margin-bottom: 15px;display: none\">\n",
       "<div>\n",
       "<a class=\"btn btn-default btn-sm\" href=\"https://www.med.tn/pharmacie/nuit/tunis/bab-bhar\" style=\"margin-right:7px;\" title=\"Pharmacie de Nuit à Bab Bhar Tunis\">Bab Bhar (6)</a>\n",
       "</div>\n",
       "<div>\n",
       "<a class=\"btn btn-default btn-sm\" href=\"https://www.med.tn/pharmacie/nuit/tunis/sidi-hassine\" style=\"margin-right:7px;\" title=\"Pharmacie de Nuit à Sidi Hassine Tunis\">Sidi Hassine (2)</a>\n",
       "</div>\n",
       "<div>\n",
       "<a class=\"btn btn-default btn-sm\" href=\"https://www.med.tn/pharmacie/nuit/tunis/el-omrane\" style=\"margin-right:7px;\" title=\"Pharmacie de Nuit à El Omrane Tunis\">El Omrane (2)</a>\n",
       "</div>\n",
       "<div>\n",
       "<a class=\"btn btn-default btn-sm\" href=\"https://www.med.tn/pharmacie/nuit/tunis/la-marsa\" style=\"margin-right:7px;\" title=\"Pharmacie de Nuit à La Marsa Tunis\">La Marsa (2)</a>\n",
       "</div>\n",
       "<div>\n",
       "<a class=\"btn btn-default btn-sm\" href=\"https://www.med.tn/pharmacie/nuit/tunis/le-bardo\" style=\"margin-right:7px;\" title=\"Pharmacie de Nuit à Le Bardo Tunis\">Le Bardo (2)</a>\n",
       "</div>\n",
       "<div>\n",
       "<a class=\"btn btn-default btn-sm\" href=\"https://www.med.tn/pharmacie/nuit/tunis/el-manar\" style=\"margin-right:7px;\" title=\"Pharmacie de Nuit à El Manar Tunis\">El Manar (1)</a>\n",
       "</div>\n",
       "<div>\n",
       "<a class=\"btn btn-default btn-sm\" href=\"https://www.med.tn/pharmacie/nuit/tunis/carthage\" style=\"margin-right:7px;\" title=\"Pharmacie de Nuit à Carthage Tunis\">Carthage (1)</a>\n",
       "</div>\n",
       "<div>\n",
       "<a class=\"btn btn-default btn-sm\" href=\"https://www.med.tn/pharmacie/nuit/tunis/el-hrairia\" style=\"margin-right:7px;\" title=\"Pharmacie de Nuit à El Hrairia Tunis\">El Hrairia (1)</a>\n",
       "</div>\n",
       "<div>\n",
       "<a class=\"btn btn-default btn-sm\" href=\"https://www.med.tn/pharmacie/nuit/tunis/el-ouerdia\" style=\"margin-right:7px;\" title=\"Pharmacie de Nuit à El Ouerdia Tunis\">El Ouerdia (1)</a>\n",
       "</div>\n",
       "<div>\n",
       "<a class=\"btn btn-default btn-sm\" href=\"https://www.med.tn/pharmacie/nuit/tunis/ain-zaghouan\" style=\"margin-right:7px;\" title=\"Pharmacie de Nuit à Aîn Zaghouan Tunis\">Aîn Zaghouan (1)</a>\n",
       "</div>\n",
       "</div>\n",
       "<div class=\"searchResults-content clearfix\">\n",
       "<div class=\"searchResults-itemDoctor\" id=\"dfcfd63e2a3c1dba8c72fbc4e8ba7d06\">\n",
       "<div class=\"searchResults-card card-doctor \" data-key=\"dfcfd63e2a3c1dba8c72fbc4e8ba7d06\" data-lat=\"\" data-lng=\"\">\n",
       "<div class=\"card-doctor-header\">\n",
       "<div class=\"card-doctor-picture\">\n",
       "<a href=\"https://www.med.tn/pharmacie/tunis/abdessattar-zouari-1683.html\" title=\"Pharmacie ABDESSATTAR ZOUARI\"><img alt=\"Pharmacie ABDESSATTAR ZOUARI\" src=\"img/pharma.png\"/>\n",
       "</a>\n",
       "</div>\n",
       "<a href=\"https://www.med.tn/pharmacie/tunis/abdessattar-zouari-1683.html\" title=\"Pharmacie ABDESSATTAR ZOUARI\">\n",
       "<div class=\"card-doctor-info\">\n",
       "<h2>\n",
       "<span class=\"practitioner-title\">Pharmacie de  nuit</span>\n",
       "<span class=\"practitioner-name\">ABDESSATTAR ZOUARI</span></h2>\n",
       "<p class=\"practitioner-speciality\"><strong class=\"text-success\">Ouverte</strong></p>\n",
       "<div class=\"practitioner-address\">\n",
       "<img alt=\"Tunisie\" src=\"https://www.med.tn/img/tunisie.svg\"/>\n",
       "<p>92, Avenue Khaled Ibn El Walid Aîn Zaghouan Tunis                                Tunisie  \n",
       "\t\t\t\t\t\t\t\t\n",
       "                                                      \n",
       "                           </p>\n",
       "</div>\n",
       "</div></a>\n",
       "<div class=\"card-doctor-button\">\n",
       "<a class=\"btn\" href=\"https://www.med.tn/pharmacie/tunis/abdessattar-zouari-1683.html\" style=\"min-width: 140px;\">Voir Fiche</a>\n",
       "<a class=\"btn\" href=\"https://www.google.com/maps?saddr&amp;daddr=36.8616484,10.2762783\" style=\"min-width: 140px;\" target=\"_dir\">Itinéraire</a>\n",
       "<a class=\"btn btn-phone\" href=\"tel:+21671724336\"><span class=\"hide-tel\">+216.71.724.336</span><span class=\"view-tel\">+216.71.724.336</span></a>\n",
       "</div>\n",
       "</div>\n",
       "</div>\n",
       "</div>\n",
       "<div class=\"searchResults-itemDoctor\" id=\"41ebe5f026f12ee1bc5dcd9510938091\">\n",
       "<div class=\"searchResults-card card-doctor \" data-key=\"41ebe5f026f12ee1bc5dcd9510938091\" data-lat=\"\" data-lng=\"\">\n",
       "<div class=\"card-doctor-header\">\n",
       "<div class=\"card-doctor-picture\">\n",
       "<a href=\"https://www.med.tn/pharmacie/tunis/zied-karray-8532.html\" title=\"Pharmacie ZIED KARRAY\"><img alt=\"Pharmacie ZIED KARRAY\" src=\"img/pharma.png\"/>\n",
       "</a>\n",
       "</div>\n",
       "<a href=\"https://www.med.tn/pharmacie/tunis/zied-karray-8532.html\" title=\"Pharmacie ZIED KARRAY\">\n",
       "<div class=\"card-doctor-info\">\n",
       "<h2>\n",
       "<span class=\"practitioner-title\">Pharmacie de  nuit</span>\n",
       "<span class=\"practitioner-name\">ZIED KARRAY</span></h2>\n",
       "<p class=\"practitioner-speciality\"><strong class=\"text-success\">Ouverte</strong></p>\n",
       "<div class=\"practitioner-address\">\n",
       "<img alt=\"Tunisie\" src=\"https://www.med.tn/img/tunisie.svg\"/>\n",
       "<p>24, CENTRE DORRA TUNIS MANAR El Manar Tunis                                Tunisie  \n",
       "\t\t\t\t\t\t\t\t\n",
       "                                                      \n",
       "                           </p>\n",
       "</div>\n",
       "</div></a>\n",
       "<div class=\"card-doctor-button\">\n",
       "<a class=\"btn\" href=\"https://www.med.tn/pharmacie/tunis/zied-karray-8532.html\" style=\"min-width: 140px;\">Voir Fiche</a>\n",
       "<a class=\"btn btn-phone\" href=\"tel:+21671887635\"><span class=\"hide-tel\">+216.71.887.635</span><span class=\"view-tel\">+216.71.887.635</span></a>\n",
       "</div>\n",
       "</div>\n",
       "</div>\n",
       "</div>\n",
       "<div class=\"searchResults-itemDoctor\" id=\"728232df174cf14f0b667b3bbe7a4137\">\n",
       "<div class=\"searchResults-card card-doctor \" data-key=\"728232df174cf14f0b667b3bbe7a4137\" data-lat=\"\" data-lng=\"\">\n",
       "<div class=\"card-doctor-header\">\n",
       "<div class=\"card-doctor-picture\">\n",
       "<a href=\"https://www.med.tn/pharmacie/tunis/houda-el-kotti-ep.-jomni-1857.html\" title=\"Pharmacie HOUDA EL KOTTI EP. JOMNI\"><img alt=\"Pharmacie HOUDA EL KOTTI EP. JOMNI\" src=\"img/pharma.png\"/>\n",
       "</a>\n",
       "</div>\n",
       "<a href=\"https://www.med.tn/pharmacie/tunis/houda-el-kotti-ep.-jomni-1857.html\" title=\"Pharmacie HOUDA EL KOTTI EP. JOMNI\">\n",
       "<div class=\"card-doctor-info\">\n",
       "<h2>\n",
       "<span class=\"practitioner-title\">Pharmacie de  nuit</span>\n",
       "<span class=\"practitioner-name\">HOUDA EL KOTTI EP. JOMNI</span></h2>\n",
       "<p class=\"practitioner-speciality\"><strong class=\"text-success\">Ouverte</strong></p>\n",
       "<div class=\"practitioner-address\">\n",
       "<img alt=\"Tunisie\" src=\"https://www.med.tn/img/tunisie.svg\"/>\n",
       "<p>Avenue 14 Janvier El Battan Tunis                                Tunisie  \n",
       "\t\t\t\t\t\t\t\t\n",
       "                                                      \n",
       "                           </p>\n",
       "</div>\n",
       "</div></a>\n",
       "<div class=\"card-doctor-button\">\n",
       "<a class=\"btn\" href=\"https://www.med.tn/pharmacie/tunis/houda-el-kotti-ep.-jomni-1857.html\" style=\"min-width: 140px;\">Voir Fiche</a>\n",
       "<a class=\"btn\" href=\"https://www.google.com/maps?saddr&amp;daddr=36.7825261,9.8348146\" style=\"min-width: 140px;\" target=\"_dir\">Itinéraire</a>\n",
       "<a class=\"btn btn-phone\" href=\"tel:+21671641395\"><span class=\"hide-tel\">+216.71.641.395</span><span class=\"view-tel\">+216.71.641.395</span></a>\n",
       "</div>\n",
       "</div>\n",
       "</div>\n",
       "</div>\n",
       "<div class=\"searchResults-itemDoctor\" id=\"2da91d2b80e4475517cbcfd60fb8d5c9\">\n",
       "<div class=\"searchResults-card card-doctor \" data-key=\"2da91d2b80e4475517cbcfd60fb8d5c9\" data-lat=\"\" data-lng=\"\">\n",
       "<div class=\"card-doctor-header\">\n",
       "<div class=\"card-doctor-picture\">\n",
       "<a href=\"https://www.med.tn/pharmacie/tunis/hedi-bel-hadj-hassen-1617.html\" title=\"Pharmacie HEDI BEL HADJ HASSEN\"><img alt=\"Pharmacie HEDI BEL HADJ HASSEN\" src=\"img/pharma.png\"/>\n",
       "</a>\n",
       "</div>\n",
       "<a href=\"https://www.med.tn/pharmacie/tunis/hedi-bel-hadj-hassen-1617.html\" title=\"Pharmacie HEDI BEL HADJ HASSEN\">\n",
       "<div class=\"card-doctor-info\">\n",
       "<h2>\n",
       "<span class=\"practitioner-title\">Pharmacie de  nuit</span>\n",
       "<span class=\"practitioner-name\">HEDI BEL HADJ HASSEN</span></h2>\n",
       "<p class=\"practitioner-speciality\"><strong class=\"text-success\">Ouverte</strong></p>\n",
       "<div class=\"practitioner-address\">\n",
       "<img alt=\"Tunisie\" src=\"https://www.med.tn/img/tunisie.svg\"/>\n",
       "<p>24,avenue Habib Bourguiba Le Bardo Tunis                                Tunisie  \n",
       "\t\t\t\t\t\t\t\t\n",
       "                                                      \n",
       "                           </p>\n",
       "</div>\n",
       "</div></a>\n",
       "<div class=\"card-doctor-button\">\n",
       "<a class=\"btn\" href=\"https://www.med.tn/pharmacie/tunis/hedi-bel-hadj-hassen-1617.html\" style=\"min-width: 140px;\">Voir Fiche</a>\n",
       "<a class=\"btn\" href=\"https://www.google.com/maps?saddr&amp;daddr=36.81065,10.140433\" style=\"min-width: 140px;\" target=\"_dir\">Itinéraire</a>\n",
       "<a class=\"btn btn-phone\" href=\"tel:+21671222284\"><span class=\"hide-tel\">+216.71.222.284</span><span class=\"view-tel\">+216.71.222.284</span></a>\n",
       "</div>\n",
       "</div>\n",
       "</div>\n",
       "</div>\n",
       "<div class=\"searchResults-itemDoctor\" id=\"c2584250ca133744f03d7e3696e070b5\">\n",
       "<div class=\"searchResults-card card-doctor \" data-key=\"c2584250ca133744f03d7e3696e070b5\" data-lat=\"\" data-lng=\"\">\n",
       "<div class=\"card-doctor-header\">\n",
       "<div class=\"card-doctor-picture\">\n",
       "<a href=\"https://www.med.tn/pharmacie/tunis/houssem-boubaya-1858.html\" title=\"Pharmacie HOUSSEM BOUBAYA\"><img alt=\"Pharmacie HOUSSEM BOUBAYA\" src=\"img/pharma.png\"/>\n",
       "</a>\n",
       "</div>\n",
       "<a href=\"https://www.med.tn/pharmacie/tunis/houssem-boubaya-1858.html\" title=\"Pharmacie HOUSSEM BOUBAYA\">\n",
       "<div class=\"card-doctor-info\">\n",
       "<h2>\n",
       "<span class=\"practitioner-title\">Pharmacie de  nuit</span>\n",
       "<span class=\"practitioner-name\">HOUSSEM BOUBAYA</span></h2>\n",
       "<p class=\"practitioner-speciality\"><strong class=\"text-success\">Ouverte</strong></p>\n",
       "<div class=\"practitioner-address\">\n",
       "<img alt=\"Tunisie\" src=\"https://www.med.tn/img/tunisie.svg\"/>\n",
       "<p>21 rue Hedi Saidi El Omrane Tunis El Omrane Tunis                                Tunisie  \n",
       "\t\t\t\t\t\t\t\t\n",
       "                                                      \n",
       "                           </p>\n",
       "</div>\n",
       "</div></a>\n",
       "<div class=\"card-doctor-button\">\n",
       "<a class=\"btn\" href=\"https://www.med.tn/pharmacie/tunis/houssem-boubaya-1858.html\" style=\"min-width: 140px;\">Voir Fiche</a>\n",
       "<a class=\"btn\" href=\"https://www.google.com/maps?saddr&amp;daddr=36.8184209,10.135409\" style=\"min-width: 140px;\" target=\"_dir\">Itinéraire</a>\n",
       "<a class=\"btn btn-phone\" href=\"tel:+21675322411\"><span class=\"hide-tel\">+216.75.322.411</span><span class=\"view-tel\">+216.75.322.411</span></a>\n",
       "</div>\n",
       "</div>\n",
       "</div>\n",
       "</div>\n",
       "<div class=\"searchResults-itemDoctor\" id=\"1dcf970fbcc5ea925bc80afe1af0dee7\">\n",
       "<div class=\"searchResults-card card-doctor \" data-key=\"1dcf970fbcc5ea925bc80afe1af0dee7\" data-lat=\"\" data-lng=\"\">\n",
       "<div class=\"card-doctor-header\">\n",
       "<div class=\"card-doctor-picture\">\n",
       "<a href=\"https://www.med.tn/pharmacie/tunis/abdelkarim-hamrouni-1650.html\" title=\"Pharmacie ABDELKARIM HAMROUNI\"><img alt=\"Pharmacie ABDELKARIM HAMROUNI\" src=\"img/pharma.png\"/>\n",
       "</a>\n",
       "</div>\n",
       "<a href=\"https://www.med.tn/pharmacie/tunis/abdelkarim-hamrouni-1650.html\" title=\"Pharmacie ABDELKARIM HAMROUNI\">\n",
       "<div class=\"card-doctor-info\">\n",
       "<h2>\n",
       "<span class=\"practitioner-title\">Pharmacie de  nuit</span>\n",
       "<span class=\"practitioner-name\">ABDELKARIM HAMROUNI</span></h2>\n",
       "<p class=\"practitioner-speciality\"><strong class=\"text-success\">Ouverte</strong></p>\n",
       "<div class=\"practitioner-address\">\n",
       "<img alt=\"Tunisie\" src=\"https://www.med.tn/img/tunisie.svg\"/>\n",
       "<p>24, Centre Dorra El Manar 3 Tunis                                Tunisie  \n",
       "\t\t\t\t\t\t\t\t\n",
       "                                                      \n",
       "                           </p>\n",
       "</div>\n",
       "</div></a>\n",
       "<div class=\"card-doctor-button\">\n",
       "<a class=\"btn\" href=\"https://www.med.tn/pharmacie/tunis/abdelkarim-hamrouni-1650.html\" style=\"min-width: 140px;\">Voir Fiche</a>\n",
       "<a class=\"btn\" href=\"https://www.google.com/maps?saddr&amp;daddr=36.842682,10.16605\" style=\"min-width: 140px;\" target=\"_dir\">Itinéraire</a>\n",
       "<a class=\"btn btn-phone\" href=\"tel:+21671750375\"><span class=\"hide-tel\">+216.71.750.375</span><span class=\"view-tel\">+216.71.750.375</span></a>\n",
       "</div>\n",
       "</div>\n",
       "</div>\n",
       "</div>\n",
       "<div class=\"searchResults-itemDoctor\" id=\"4b1ce23922947160edb5cab9ca9348be\">\n",
       "<div class=\"searchResults-card card-doctor \" data-key=\"4b1ce23922947160edb5cab9ca9348be\" data-lat=\"\" data-lng=\"\">\n",
       "<div class=\"card-doctor-header\">\n",
       "<div class=\"card-doctor-picture\">\n",
       "<a href=\"https://www.med.tn/pharmacie/tunis/rached-khabthani-1609.html\" title=\"Pharmacie RACHED KHABTHANI\"><img alt=\"Pharmacie RACHED KHABTHANI\" src=\"img/pharma.png\"/>\n",
       "</a>\n",
       "</div>\n",
       "<a href=\"https://www.med.tn/pharmacie/tunis/rached-khabthani-1609.html\" title=\"Pharmacie RACHED KHABTHANI\">\n",
       "<div class=\"card-doctor-info\">\n",
       "<h2>\n",
       "<span class=\"practitioner-title\">Pharmacie de  nuit</span>\n",
       "<span class=\"practitioner-name\">RACHED KHABTHANI</span></h2>\n",
       "<p class=\"practitioner-speciality\"><strong class=\"text-success\">Ouverte</strong></p>\n",
       "<div class=\"practitioner-address\">\n",
       "<img alt=\"Tunisie\" src=\"https://www.med.tn/img/tunisie.svg\"/>\n",
       "<p>43,av.Habib Bourguiba(Colisee) Bab Bhar Tunis                                Tunisie  \n",
       "\t\t\t\t\t\t\t\t\n",
       "                                                      \n",
       "                           </p>\n",
       "</div>\n",
       "</div></a>\n",
       "<div class=\"card-doctor-button\">\n",
       "<a class=\"btn\" href=\"https://www.med.tn/pharmacie/tunis/rached-khabthani-1609.html\" style=\"min-width: 140px;\">Voir Fiche</a>\n",
       "<a class=\"btn\" href=\"https://www.google.com/maps?saddr&amp;daddr=36.800056,10.182266\" style=\"min-width: 140px;\" target=\"_dir\">Itinéraire</a>\n",
       "<a class=\"btn btn-phone\" href=\"tel:+21671252507\"><span class=\"hide-tel\">+216.71.252.507</span><span class=\"view-tel\">+216.71.252.507</span></a>\n",
       "</div>\n",
       "</div>\n",
       "</div>\n",
       "</div>\n",
       "<div class=\"searchResults-itemDoctor\" id=\"2c26fbd03734b3a959270094189421c5\">\n",
       "<div class=\"searchResults-card card-doctor \" data-key=\"2c26fbd03734b3a959270094189421c5\" data-lat=\"\" data-lng=\"\">\n",
       "<div class=\"card-doctor-header\">\n",
       "<div class=\"card-doctor-picture\">\n",
       "<a href=\"https://www.med.tn/pharmacie/tunis/mohamed-mondher-debbiche-1620.html\" title=\"Pharmacie MOHAMED MONDHER DEBBICHE\"><img alt=\"Pharmacie MOHAMED MONDHER DEBBICHE\" src=\"img/pharma.png\"/>\n",
       "</a>\n",
       "</div>\n",
       "<a href=\"https://www.med.tn/pharmacie/tunis/mohamed-mondher-debbiche-1620.html\" title=\"Pharmacie MOHAMED MONDHER DEBBICHE\">\n",
       "<div class=\"card-doctor-info\">\n",
       "<h2>\n",
       "<span class=\"practitioner-title\">Pharmacie de  nuit</span>\n",
       "<span class=\"practitioner-name\">MOHAMED MONDHER DEBBICHE</span></h2>\n",
       "<p class=\"practitioner-speciality\"><strong class=\"text-success\">Ouverte</strong></p>\n",
       "<div class=\"practitioner-address\">\n",
       "<img alt=\"Tunisie\" src=\"https://www.med.tn/img/tunisie.svg\"/>\n",
       "<p>207 avenue Habib Bourguiba Le Kram Tunis                                Tunisie  \n",
       "\t\t\t\t\t\t\t\t\n",
       "                                                      \n",
       "                           </p>\n",
       "</div>\n",
       "</div></a>\n",
       "<div class=\"card-doctor-button\">\n",
       "<a class=\"btn\" href=\"https://www.med.tn/pharmacie/tunis/mohamed-mondher-debbiche-1620.html\" style=\"min-width: 140px;\">Voir Fiche</a>\n",
       "<a class=\"btn\" href=\"https://www.google.com/maps?saddr&amp;daddr=36.8345106,10.31651850000003\" style=\"min-width: 140px;\" target=\"_dir\">Itinéraire</a>\n",
       "<a class=\"btn btn-phone\" href=\"tel:+21671721354\"><span class=\"hide-tel\">+216.71.721.354</span><span class=\"view-tel\">+216.71.721.354</span></a>\n",
       "</div>\n",
       "</div>\n",
       "</div>\n",
       "</div>\n",
       "<div class=\"searchResults-itemDoctor\" id=\"b3c17d3214f5cf405009e0fd1a91d546\">\n",
       "<div class=\"searchResults-card card-doctor \" data-key=\"b3c17d3214f5cf405009e0fd1a91d546\" data-lat=\"\" data-lng=\"\">\n",
       "<div class=\"card-doctor-header\">\n",
       "<div class=\"card-doctor-picture\">\n",
       "<a href=\"https://www.med.tn/pharmacie/tunis/slim-karray-1653.html\" title=\"Pharmacie SLIM KARRAY\"><img alt=\"Pharmacie SLIM KARRAY\" src=\"img/pharma.png\"/>\n",
       "</a>\n",
       "</div>\n",
       "<a href=\"https://www.med.tn/pharmacie/tunis/slim-karray-1653.html\" title=\"Pharmacie SLIM KARRAY\">\n",
       "<div class=\"card-doctor-info\">\n",
       "<h2>\n",
       "<span class=\"practitioner-title\">Pharmacie de  nuit</span>\n",
       "<span class=\"practitioner-name\">SLIM KARRAY</span></h2>\n",
       "<p class=\"practitioner-speciality\"><strong class=\"text-success\">Ouverte</strong></p>\n",
       "<div class=\"practitioner-address\">\n",
       "<img alt=\"Tunisie\" src=\"https://www.med.tn/img/tunisie.svg\"/>\n",
       "<p>20,avenue de la Liberte Bab Bhar Tunis                                Tunisie  \n",
       "\t\t\t\t\t\t\t\t\n",
       "                                                      \n",
       "                           </p>\n",
       "</div>\n",
       "</div></a>\n",
       "<div class=\"card-doctor-button\">\n",
       "<a class=\"btn\" href=\"https://www.med.tn/pharmacie/tunis/slim-karray-1653.html\" style=\"min-width: 140px;\">Voir Fiche</a>\n",
       "<a class=\"btn\" href=\"https://www.google.com/maps?saddr&amp;daddr=36.808083,10.180098\" style=\"min-width: 140px;\" target=\"_dir\">Itinéraire</a>\n",
       "<a class=\"btn btn-phone\" href=\"tel:+21671243520\"><span class=\"hide-tel\">+216.71.243.520</span><span class=\"view-tel\">+216.71.243.520</span></a>\n",
       "</div>\n",
       "</div>\n",
       "</div>\n",
       "</div>\n",
       "<div class=\"searchResults-itemDoctor\" id=\"f14bc0e59a483fcc8275172cc9f3f673\">\n",
       "<div class=\"searchResults-card card-doctor \" data-key=\"f14bc0e59a483fcc8275172cc9f3f673\" data-lat=\"\" data-lng=\"\">\n",
       "<div class=\"card-doctor-header\">\n",
       "<div class=\"card-doctor-picture\">\n",
       "<a href=\"https://www.med.tn/pharmacie/tunis/mahmoud-bach-hamba-1644.html\" title=\"Pharmacie MAHMOUD BACH HAMBA\"><img alt=\"Pharmacie MAHMOUD BACH HAMBA\" src=\"img/pharma.png\"/>\n",
       "</a>\n",
       "</div>\n",
       "<a href=\"https://www.med.tn/pharmacie/tunis/mahmoud-bach-hamba-1644.html\" title=\"Pharmacie MAHMOUD BACH HAMBA\">\n",
       "<div class=\"card-doctor-info\">\n",
       "<h2>\n",
       "<span class=\"practitioner-title\">Pharmacie de  nuit</span>\n",
       "<span class=\"practitioner-name\">MAHMOUD BACH HAMBA</span></h2>\n",
       "<p class=\"practitioner-speciality\"><strong class=\"text-success\">Ouverte</strong></p>\n",
       "<div class=\"practitioner-address\">\n",
       "<img alt=\"Tunisie\" src=\"https://www.med.tn/img/tunisie.svg\"/>\n",
       "<p>9, Rue Ali Belhaouane La Marsa Tunis                                Tunisie  \n",
       "\t\t\t\t\t\t\t\t\n",
       "                                                      \n",
       "                           </p>\n",
       "</div>\n",
       "</div></a>\n",
       "<div class=\"card-doctor-button\">\n",
       "<a class=\"btn\" href=\"https://www.med.tn/pharmacie/tunis/mahmoud-bach-hamba-1644.html\" style=\"min-width: 140px;\">Voir Fiche</a>\n",
       "<a class=\"btn\" href=\"https://www.google.com/maps?saddr&amp;daddr=36.878368,10.327491\" style=\"min-width: 140px;\" target=\"_dir\">Itinéraire</a>\n",
       "<a class=\"btn btn-phone\" href=\"tel:+21671775770\"><span class=\"hide-tel\">+216.71.775.770</span><span class=\"view-tel\">+216.71.775.770</span></a>\n",
       "</div>\n",
       "</div>\n",
       "</div>\n",
       "</div>\n",
       "</div>\n",
       "</div>"
      ]
     },
     "execution_count": 4,
     "metadata": {},
     "output_type": "execute_result"
    }
   ],
   "source": [
    "results"
   ]
  },
  {
   "cell_type": "markdown",
   "metadata": {},
   "source": [
    "### Neighborhood links"
   ]
  },
  {
   "cell_type": "code",
   "execution_count": 5,
   "metadata": {},
   "outputs": [],
   "source": [
    "slider = results.find_all('a',class_=\"btn btn-default btn-sm\")"
   ]
  },
  {
   "cell_type": "code",
   "execution_count": 6,
   "metadata": {},
   "outputs": [
    {
     "data": {
      "text/plain": [
       "10"
      ]
     },
     "execution_count": 6,
     "metadata": {},
     "output_type": "execute_result"
    }
   ],
   "source": [
    "len(slider)"
   ]
  },
  {
   "cell_type": "code",
   "execution_count": 7,
   "metadata": {},
   "outputs": [
    {
     "name": "stdout",
     "output_type": "stream",
     "text": [
      "https://www.med.tn/pharmacie/nuit/tunis/bab-bhar\n",
      "https://www.med.tn/pharmacie/nuit/tunis/sidi-hassine\n",
      "https://www.med.tn/pharmacie/nuit/tunis/el-omrane\n",
      "https://www.med.tn/pharmacie/nuit/tunis/la-marsa\n",
      "https://www.med.tn/pharmacie/nuit/tunis/le-bardo\n",
      "https://www.med.tn/pharmacie/nuit/tunis/el-manar\n",
      "https://www.med.tn/pharmacie/nuit/tunis/carthage\n",
      "https://www.med.tn/pharmacie/nuit/tunis/el-hrairia\n",
      "https://www.med.tn/pharmacie/nuit/tunis/el-ouerdia\n",
      "https://www.med.tn/pharmacie/nuit/tunis/ain-zaghouan\n"
     ]
    }
   ],
   "source": [
    "liens_quartiers = []\n",
    "for i in slider:\n",
    "    print(i['href'])\n",
    "    liens_quartiers.append(i['href'])"
   ]
  },
  {
   "cell_type": "code",
   "execution_count": 8,
   "metadata": {
    "scrolled": true
   },
   "outputs": [
    {
     "data": {
      "text/plain": [
       "['https://www.med.tn/pharmacie/nuit/tunis/bab-bhar',\n",
       " 'https://www.med.tn/pharmacie/nuit/tunis/sidi-hassine',\n",
       " 'https://www.med.tn/pharmacie/nuit/tunis/el-omrane',\n",
       " 'https://www.med.tn/pharmacie/nuit/tunis/la-marsa',\n",
       " 'https://www.med.tn/pharmacie/nuit/tunis/le-bardo',\n",
       " 'https://www.med.tn/pharmacie/nuit/tunis/el-manar',\n",
       " 'https://www.med.tn/pharmacie/nuit/tunis/carthage',\n",
       " 'https://www.med.tn/pharmacie/nuit/tunis/el-hrairia',\n",
       " 'https://www.med.tn/pharmacie/nuit/tunis/el-ouerdia',\n",
       " 'https://www.med.tn/pharmacie/nuit/tunis/ain-zaghouan']"
      ]
     },
     "execution_count": 8,
     "metadata": {},
     "output_type": "execute_result"
    }
   ],
   "source": [
    "liens_quartiers"
   ]
  },
  {
   "cell_type": "markdown",
   "metadata": {},
   "source": [
    "### Neighborhood names"
   ]
  },
  {
   "cell_type": "code",
   "execution_count": 9,
   "metadata": {
    "scrolled": true
   },
   "outputs": [
    {
     "name": "stdout",
     "output_type": "stream",
     "text": [
      "Bab Bhar (6)\n",
      "Sidi Hassine (2)\n",
      "El Omrane (2)\n",
      "La Marsa (2)\n",
      "Le Bardo (2)\n",
      "El Manar (1)\n",
      "Carthage (1)\n",
      "El Hrairia (1)\n",
      "El Ouerdia (1)\n",
      "Aîn Zaghouan (1)\n"
     ]
    }
   ],
   "source": [
    "noms_quartiers = []\n",
    "for i in slider:\n",
    "    print(i.text)\n",
    "    noms_quartiers.append(i.text[:i.text.find('(')].strip())"
   ]
  },
  {
   "cell_type": "code",
   "execution_count": 10,
   "metadata": {
    "scrolled": true
   },
   "outputs": [
    {
     "data": {
      "text/plain": [
       "['Bab Bhar',\n",
       " 'Sidi Hassine',\n",
       " 'El Omrane',\n",
       " 'La Marsa',\n",
       " 'Le Bardo',\n",
       " 'El Manar',\n",
       " 'Carthage',\n",
       " 'El Hrairia',\n",
       " 'El Ouerdia',\n",
       " 'Aîn Zaghouan']"
      ]
     },
     "execution_count": 10,
     "metadata": {},
     "output_type": "execute_result"
    }
   ],
   "source": [
    "noms_quartiers"
   ]
  },
  {
   "cell_type": "markdown",
   "metadata": {},
   "source": [
    "### Neighborhood duo"
   ]
  },
  {
   "cell_type": "code",
   "execution_count": 11,
   "metadata": {},
   "outputs": [],
   "source": [
    "duo_quartier = []\n",
    "for i,j in zip(liens_quartiers,noms_quartiers):\n",
    "    t = (i,j)\n",
    "    duo_quartier.append(t)"
   ]
  },
  {
   "cell_type": "code",
   "execution_count": 12,
   "metadata": {},
   "outputs": [
    {
     "data": {
      "text/plain": [
       "[('https://www.med.tn/pharmacie/nuit/tunis/bab-bhar', 'Bab Bhar'),\n",
       " ('https://www.med.tn/pharmacie/nuit/tunis/sidi-hassine', 'Sidi Hassine'),\n",
       " ('https://www.med.tn/pharmacie/nuit/tunis/el-omrane', 'El Omrane'),\n",
       " ('https://www.med.tn/pharmacie/nuit/tunis/la-marsa', 'La Marsa'),\n",
       " ('https://www.med.tn/pharmacie/nuit/tunis/le-bardo', 'Le Bardo'),\n",
       " ('https://www.med.tn/pharmacie/nuit/tunis/el-manar', 'El Manar'),\n",
       " ('https://www.med.tn/pharmacie/nuit/tunis/carthage', 'Carthage'),\n",
       " ('https://www.med.tn/pharmacie/nuit/tunis/el-hrairia', 'El Hrairia'),\n",
       " ('https://www.med.tn/pharmacie/nuit/tunis/el-ouerdia', 'El Ouerdia'),\n",
       " ('https://www.med.tn/pharmacie/nuit/tunis/ain-zaghouan', 'Aîn Zaghouan')]"
      ]
     },
     "execution_count": 12,
     "metadata": {},
     "output_type": "execute_result"
    }
   ],
   "source": [
    "duo_quartier"
   ]
  },
  {
   "cell_type": "code",
   "execution_count": 18,
   "metadata": {},
   "outputs": [
    {
     "data": {
      "text/plain": [
       "'https://www.med.tn/pharmacie/nuit/tunis/bab-bhar'"
      ]
     },
     "execution_count": 18,
     "metadata": {},
     "output_type": "execute_result"
    }
   ],
   "source": [
    "duo_quartier[0][0]"
   ]
  },
  {
   "cell_type": "code",
   "execution_count": 23,
   "metadata": {},
   "outputs": [
    {
     "name": "stdout",
     "output_type": "stream",
     "text": [
      "Bab Bhar\n",
      "Sidi Hassine\n",
      "El Omrane\n",
      "La Marsa\n",
      "Le Bardo\n",
      "El Manar\n",
      "Carthage\n",
      "El Hrairia\n",
      "El Ouerdia\n",
      "Aîn Zaghouan\n"
     ]
    }
   ],
   "source": [
    "for i in duo_quartier:\n",
    "    print(i[1])"
   ]
  },
  {
   "cell_type": "markdown",
   "metadata": {},
   "source": [
    "## Scraping link by link"
   ]
  },
  {
   "cell_type": "code",
   "execution_count": 13,
   "metadata": {},
   "outputs": [],
   "source": [
    "from time import time\n",
    "from time import sleep\n",
    "from random import randint"
   ]
  },
  {
   "cell_type": "code",
   "execution_count": 14,
   "metadata": {},
   "outputs": [],
   "source": [
    "start_time = time()\n",
    "requests = 0"
   ]
  },
  {
   "cell_type": "code",
   "execution_count": 15,
   "metadata": {},
   "outputs": [],
   "source": [
    "from requests import get"
   ]
  },
  {
   "cell_type": "code",
   "execution_count": 26,
   "metadata": {
    "scrolled": true
   },
   "outputs": [
    {
     "name": "stdout",
     "output_type": "stream",
     "text": [
      "https://www.med.tn/pharmacie/nuit/tunis/bab-bhar\n",
      "15\n",
      "Bab Bhar\n",
      "NEJIB BEN JEBARA\n",
      "56,rue Sidi El Bechir Bab Bhar Tunis                                Tunisie\n",
      "+216.75.673.496\n",
      "https://www.google.com/maps?saddr&daddr=36.790722,10.17871\n",
      "Bab Bhar\n",
      "MOSTEFA OUAHCHI\n",
      "47,avenue Ali Belhaouane Bab Bhar Tunis                                Tunisie\n",
      "+216.71.262.600\n",
      "https://www.google.com/maps?saddr&daddr=36.805664,10.171533\n",
      "Bab Bhar\n",
      "SLIM KARRAY\n",
      "20,avenue de la Liberte Bab Bhar Tunis                                Tunisie\n",
      "+216.71.243.520\n",
      "https://www.google.com/maps?saddr&daddr=36.808083,10.180098\n",
      "Bab Bhar\n",
      "HOSNIA JENANE EP. AYACHI\n",
      "44 Avenue Bab Jedid Bab Bhar Tunis                                Tunisie\n",
      "+216.71.240.994\n",
      "https://www.google.com/maps?saddr&daddr=36.792126,10.175423\n",
      "Bab Bhar\n",
      "RACHED KHABTHANI\n",
      "43,av.Habib Bourguiba(Colisee) Bab Bhar Tunis                                Tunisie\n",
      "+216.71.252.507\n",
      "https://www.google.com/maps?saddr&daddr=36.800056,10.182266\n",
      "Bab Bhar\n",
      "MARIEM KILANI\n",
      "56, Rue SIDI EL BECHIR TUNIS TUNIS VILLE Bab Bhar Tunis                                Tunisie\n",
      "+216.71.347.224\n",
      "tel:+21671347224\n",
      "https://www.med.tn/pharmacie/nuit/tunis/sidi-hassine\n",
      "10\n",
      "Sidi Hassine\n",
      "NEILA SFAR\n",
      "Lot B. Moussa  Route n 39    Route Fouchana Sidi Hassine Tunis                                Tunisie\n",
      "+216.22.289.484\n",
      "https://www.google.com/maps?saddr&daddr=36.7482884,10.1143176\n",
      "Sidi Hassine\n",
      "HAIFA MACHAT\n",
      "Rue 4657 - Rte DE MORNAGUIA TUNIS SIDI HASSINE Sidi Hassine Tunis                                Tunisie\n",
      "+216.54.567.788\n",
      "https://www.google.com/maps?saddr&daddr=36.7816482,10.1100048\n",
      "https://www.med.tn/pharmacie/nuit/tunis/el-omrane\n",
      "14\n",
      "El Omrane\n",
      "MOHAMED GOUIA\n",
      "Avenue Hedi Saidi el omrane El Omrane Tunis                                Tunisie\n",
      "+216.71.897.768\n",
      "https://www.google.com/maps?saddr&daddr=36.809673,10.152282\n",
      "El Omrane\n",
      "HOUSSEM BOUBAYA\n",
      "21 rue Hedi Saidi El Omrane Tunis El Omrane Tunis                                Tunisie\n",
      "+216.75.322.411\n",
      "https://www.google.com/maps?saddr&daddr=36.8184209,10.135409\n",
      "https://www.med.tn/pharmacie/nuit/tunis/la-marsa\n",
      "10\n",
      "La Marsa\n",
      "MAHMOUD BACH HAMBA\n",
      "9, Rue Ali Belhaouane La Marsa Tunis                                Tunisie\n",
      "+216.71.775.770\n",
      "https://www.google.com/maps?saddr&daddr=36.878368,10.327491\n",
      "La Marsa\n",
      "MOUNA LAFIF EP. ANNABI GHAIET EL\n",
      "32, Avenue Taieb M'Hiri La Marsa Tunis                                Tunisie\n",
      "+216.71.729.811\n",
      "https://www.google.com/maps?saddr&daddr=36.887825,10.322535\n",
      "https://www.med.tn/pharmacie/nuit/tunis/le-bardo\n",
      "15\n",
      "Le Bardo\n",
      "HEDI BEL HADJ HASSEN\n",
      "24,avenue Habib Bourguiba Le Bardo Tunis                                Tunisie\n",
      "+216.71.222.284\n",
      "https://www.google.com/maps?saddr&daddr=36.81065,10.140433\n",
      "Le Bardo\n",
      "SAIDA BALTI MELIANI\n",
      "60, Rue Habib Bougatfa Le Bardo Tunis                                Tunisie\n",
      "+216.71.510.700\n",
      "https://www.google.com/maps?saddr&daddr=36.813473,10.147204\n",
      "https://www.med.tn/pharmacie/nuit/tunis/el-manar\n",
      "11\n",
      "El Manar\n",
      "ZIED KARRAY\n",
      "24, CENTRE DORRA TUNIS MANAR El Manar Tunis                                Tunisie\n",
      "+216.71.887.635\n",
      "tel:+21671887635\n",
      "https://www.med.tn/pharmacie/nuit/tunis/carthage\n",
      "10\n",
      "Carthage\n",
      "HOSNI BOUHAJEB\n",
      "1,rue Scipion Carthage Tunis                                Tunisie\n",
      "+216.71.223.434\n",
      "https://www.google.com/maps?saddr&daddr=36.8162642,10.3020146\n",
      "https://www.med.tn/pharmacie/nuit/tunis/el-hrairia\n",
      "10\n",
      "El Hrairia\n",
      "MARIEM BEN YAHIA\n",
      "32bis, Rue 4001 El Hrairia Tunis                                Tunisie\n",
      "+216.71.529.925\n",
      "https://www.google.com/maps?saddr&daddr=36.7942755,10.1309437\n",
      "https://www.med.tn/pharmacie/nuit/tunis/el-ouerdia\n",
      "14\n",
      "El Ouerdia\n",
      "MOHAMED SALAH OUESLATI\n",
      "54, Avenue 10236 El Ouerdia Tunis                                Tunisie\n",
      "+216.71.270.727\n",
      "https://www.google.com/maps?saddr&daddr=36.754559,10.1937\n",
      "https://www.med.tn/pharmacie/nuit/tunis/ain-zaghouan\n",
      "8\n",
      "Aîn Zaghouan\n",
      "ABDESSATTAR ZOUARI\n",
      "92, Avenue Khaled Ibn El Walid Aîn Zaghouan Tunis                                Tunisie\n",
      "+216.71.724.336\n",
      "https://www.google.com/maps?saddr&daddr=36.8616484,10.2762783\n",
      " *** Done ***\n"
     ]
    }
   ],
   "source": [
    "noms = []\n",
    "pre_adresses = []\n",
    "pre_coors = []\n",
    "phones = []\n",
    "quartiers = []\n",
    "\n",
    "for i in duo_quartier:\n",
    "    print(i[0])\n",
    "    \n",
    "    response = get(i[0])\n",
    "    \n",
    "    timer = randint(8,15)\n",
    "    #pause de loop\n",
    "    print(timer)\n",
    "    sleep(timer)\n",
    "    \n",
    "    #Scraping the links\n",
    "    soup = BeautifulSoup(response.text,'html.parser')\n",
    "    \n",
    "    results = soup.find_all('div',class_=\"searchResults-itemDoctor\")\n",
    "    \n",
    "    for j in results:\n",
    "        #Setting the neighborhood\n",
    "        print(i[1])\n",
    "        quartiers.append(i[1])\n",
    "        \n",
    "        \n",
    "        # Scraping the names\n",
    "        print(j.find('span',class_='practitioner-name').text)\n",
    "        noms.append(\"Pharmacie \"+(j.find('span',class_='practitioner-name').text).lower())\n",
    "        \n",
    "        # Scraping the adresses\n",
    "        print((j.find('div',class_='practitioner-address').find('p').text).strip())\n",
    "        pre_adresses.append((j.find('div',class_='practitioner-address').find('p').text).strip())\n",
    "        \n",
    "        # Scraping the phone numbers\n",
    "        print(j.find('span',class_='view-tel').text)\n",
    "        phones.append((j.find('span',class_='view-tel').text).replace('.',''))        \n",
    "   \n",
    "        # Scraping the coordinates \n",
    "        print(j.find('a',class_='btn').findNext('a')['href'])\n",
    "        pre_coors.append(j.find('a',class_='btn').findNext('a')['href'])\n",
    "                \n",
    "    \n",
    "    \n",
    "    \n",
    "    \n",
    "    \n",
    "print(\" *** Done ***\")"
   ]
  },
  {
   "cell_type": "markdown",
   "metadata": {},
   "source": [
    "### cleaning up adresses"
   ]
  },
  {
   "cell_type": "code",
   "execution_count": 27,
   "metadata": {},
   "outputs": [],
   "source": [
    "adresses = []\n",
    "for i in pre_adresses:\n",
    "    adresses.append(i.replace('Tunisie','').replace('  ',''))"
   ]
  },
  {
   "cell_type": "markdown",
   "metadata": {},
   "source": [
    "### cleaning up coordinates"
   ]
  },
  {
   "cell_type": "code",
   "execution_count": 28,
   "metadata": {},
   "outputs": [
    {
     "name": "stdout",
     "output_type": "stream",
     "text": [
      "36.790722,10.17871\n",
      "36.805664,10.171533\n",
      "36.808083,10.180098\n",
      "36.792126,10.175423\n",
      "36.800056,10.182266\n",
      "tel:+21671347224\n",
      "36.7482884,10.1143176\n",
      "36.7816482,10.1100048\n",
      "36.809673,10.152282\n",
      "36.8184209,10.135409\n",
      "36.878368,10.327491\n",
      "36.887825,10.322535\n",
      "36.81065,10.140433\n",
      "36.813473,10.147204\n",
      "tel:+21671887635\n",
      "36.8162642,10.3020146\n",
      "36.7942755,10.1309437\n",
      "36.754559,10.1937\n",
      "36.8616484,10.2762783\n"
     ]
    }
   ],
   "source": [
    "coors = []\n",
    "for i in pre_coors:\n",
    "    eq = i.find('=')\n",
    "    print(i[eq+1:])\n",
    "    coors.append(i[eq+1:])"
   ]
  },
  {
   "cell_type": "code",
   "execution_count": 29,
   "metadata": {},
   "outputs": [
    {
     "name": "stdout",
     "output_type": "stream",
     "text": [
      "yep\n",
      "yep\n"
     ]
    }
   ],
   "source": [
    "for i,j in enumerate(coors):\n",
    "    if \"tel\" in coors[i]:\n",
    "        print('yep')\n",
    "        coors[i] = \"NO COORDINATES\""
   ]
  },
  {
   "cell_type": "code",
   "execution_count": 30,
   "metadata": {},
   "outputs": [
    {
     "data": {
      "text/plain": [
       "['36.790722,10.17871',\n",
       " '36.805664,10.171533',\n",
       " '36.808083,10.180098',\n",
       " '36.792126,10.175423',\n",
       " '36.800056,10.182266',\n",
       " 'NO COORDINATES',\n",
       " '36.7482884,10.1143176',\n",
       " '36.7816482,10.1100048',\n",
       " '36.809673,10.152282',\n",
       " '36.8184209,10.135409',\n",
       " '36.878368,10.327491',\n",
       " '36.887825,10.322535',\n",
       " '36.81065,10.140433',\n",
       " '36.813473,10.147204',\n",
       " 'NO COORDINATES',\n",
       " '36.8162642,10.3020146',\n",
       " '36.7942755,10.1309437',\n",
       " '36.754559,10.1937',\n",
       " '36.8616484,10.2762783']"
      ]
     },
     "execution_count": 30,
     "metadata": {},
     "output_type": "execute_result"
    }
   ],
   "source": [
    "coors"
   ]
  },
  {
   "cell_type": "markdown",
   "metadata": {},
   "source": [
    "## Merging the data we got "
   ]
  },
  {
   "cell_type": "code",
   "execution_count": 42,
   "metadata": {},
   "outputs": [],
   "source": [
    "garde = []\n",
    "for i,j,k,l,m in zip(noms,quartiers,adresses,coors,phones):\n",
    "    t = (i,j,k,l,m)\n",
    "    garde.append(t)"
   ]
  },
  {
   "cell_type": "code",
   "execution_count": 43,
   "metadata": {},
   "outputs": [
    {
     "data": {
      "text/plain": [
       "[('Pharmacie nejib ben jebara',\n",
       "  'Bab Bhar',\n",
       "  '56,rue Sidi El Bechir Bab Bhar Tunis',\n",
       "  '36.790722,10.17871',\n",
       "  '+21675673496'),\n",
       " ('Pharmacie mostefa ouahchi',\n",
       "  'Bab Bhar',\n",
       "  '47,avenue Ali Belhaouane Bab Bhar Tunis',\n",
       "  '36.805664,10.171533',\n",
       "  '+21671262600'),\n",
       " ('Pharmacie slim karray',\n",
       "  'Bab Bhar',\n",
       "  '20,avenue de la Liberte Bab Bhar Tunis',\n",
       "  '36.808083,10.180098',\n",
       "  '+21671243520'),\n",
       " ('Pharmacie hosnia jenane ep. ayachi',\n",
       "  'Bab Bhar',\n",
       "  '44 Avenue Bab Jedid Bab Bhar Tunis',\n",
       "  '36.792126,10.175423',\n",
       "  '+21671240994'),\n",
       " ('Pharmacie rached khabthani',\n",
       "  'Bab Bhar',\n",
       "  '43,av.Habib Bourguiba(Colisee) Bab Bhar Tunis',\n",
       "  '36.800056,10.182266',\n",
       "  '+21671252507'),\n",
       " ('Pharmacie mariem kilani',\n",
       "  'Bab Bhar',\n",
       "  '56, Rue SIDI EL BECHIR TUNIS TUNIS VILLE Bab Bhar Tunis',\n",
       "  'NO COORDINATES',\n",
       "  '+21671347224'),\n",
       " ('Pharmacie neila sfar',\n",
       "  'Sidi Hassine',\n",
       "  'Lot B. MoussaRoute n 39Route Fouchana Sidi Hassine Tunis',\n",
       "  '36.7482884,10.1143176',\n",
       "  '+21622289484'),\n",
       " ('Pharmacie haifa machat',\n",
       "  'Sidi Hassine',\n",
       "  'Rue 4657 - Rte DE MORNAGUIA TUNIS SIDI HASSINE Sidi Hassine Tunis',\n",
       "  '36.7816482,10.1100048',\n",
       "  '+21654567788'),\n",
       " ('Pharmacie mohamed gouia',\n",
       "  'El Omrane',\n",
       "  'Avenue Hedi Saidi el omrane El Omrane Tunis',\n",
       "  '36.809673,10.152282',\n",
       "  '+21671897768'),\n",
       " ('Pharmacie houssem boubaya',\n",
       "  'El Omrane',\n",
       "  '21 rue Hedi Saidi El Omrane Tunis El Omrane Tunis',\n",
       "  '36.8184209,10.135409',\n",
       "  '+21675322411'),\n",
       " ('Pharmacie mahmoud bach hamba',\n",
       "  'La Marsa',\n",
       "  '9, Rue Ali Belhaouane La Marsa Tunis',\n",
       "  '36.878368,10.327491',\n",
       "  '+21671775770'),\n",
       " ('Pharmacie mouna lafif ep. annabi ghaiet el',\n",
       "  'La Marsa',\n",
       "  \"32, Avenue Taieb M'Hiri La Marsa Tunis\",\n",
       "  '36.887825,10.322535',\n",
       "  '+21671729811'),\n",
       " ('Pharmacie hedi bel hadj hassen',\n",
       "  'Le Bardo',\n",
       "  '24,avenue Habib Bourguiba Le Bardo Tunis',\n",
       "  '36.81065,10.140433',\n",
       "  '+21671222284'),\n",
       " ('Pharmacie saida balti meliani',\n",
       "  'Le Bardo',\n",
       "  '60, Rue Habib Bougatfa Le Bardo Tunis',\n",
       "  '36.813473,10.147204',\n",
       "  '+21671510700'),\n",
       " ('Pharmacie zied karray',\n",
       "  'El Manar',\n",
       "  '24, CENTRE DORRA TUNIS MANAR El Manar Tunis',\n",
       "  'NO COORDINATES',\n",
       "  '+21671887635'),\n",
       " ('Pharmacie hosni bouhajeb',\n",
       "  'Carthage',\n",
       "  '1,rue Scipion Carthage Tunis',\n",
       "  '36.8162642,10.3020146',\n",
       "  '+21671223434'),\n",
       " ('Pharmacie mariem ben yahia',\n",
       "  'El Hrairia',\n",
       "  '32bis, Rue 4001 El Hrairia Tunis',\n",
       "  '36.7942755,10.1309437',\n",
       "  '+21671529925'),\n",
       " ('Pharmacie mohamed salah oueslati',\n",
       "  'El Ouerdia',\n",
       "  '54, Avenue 10236 El Ouerdia Tunis',\n",
       "  '36.754559,10.1937',\n",
       "  '+21671270727'),\n",
       " ('Pharmacie abdessattar zouari',\n",
       "  'Aîn Zaghouan',\n",
       "  '92, Avenue Khaled Ibn El Walid Aîn Zaghouan Tunis',\n",
       "  '36.8616484,10.2762783',\n",
       "  '+21671724336')]"
      ]
     },
     "execution_count": 43,
     "metadata": {},
     "output_type": "execute_result"
    }
   ],
   "source": [
    "garde"
   ]
  },
  {
   "cell_type": "markdown",
   "metadata": {},
   "source": [
    "### Convert into a Pandas Object"
   ]
  },
  {
   "cell_type": "code",
   "execution_count": 44,
   "metadata": {},
   "outputs": [],
   "source": [
    "import pandas as pd"
   ]
  },
  {
   "cell_type": "code",
   "execution_count": 45,
   "metadata": {},
   "outputs": [],
   "source": [
    "df = pd.DataFrame(garde,columns=['nom','quartier','adresse','coordonnee','telephone'])"
   ]
  },
  {
   "cell_type": "code",
   "execution_count": 46,
   "metadata": {},
   "outputs": [
    {
     "data": {
      "text/html": [
       "<div>\n",
       "<style>\n",
       "    .dataframe thead tr:only-child th {\n",
       "        text-align: right;\n",
       "    }\n",
       "\n",
       "    .dataframe thead th {\n",
       "        text-align: left;\n",
       "    }\n",
       "\n",
       "    .dataframe tbody tr th {\n",
       "        vertical-align: top;\n",
       "    }\n",
       "</style>\n",
       "<table border=\"1\" class=\"dataframe\">\n",
       "  <thead>\n",
       "    <tr style=\"text-align: right;\">\n",
       "      <th></th>\n",
       "      <th>nom</th>\n",
       "      <th>quartier</th>\n",
       "      <th>adresse</th>\n",
       "      <th>coordonnee</th>\n",
       "      <th>telephone</th>\n",
       "    </tr>\n",
       "  </thead>\n",
       "  <tbody>\n",
       "    <tr>\n",
       "      <th>0</th>\n",
       "      <td>Pharmacie nejib ben jebara</td>\n",
       "      <td>Bab Bhar</td>\n",
       "      <td>56,rue Sidi El Bechir Bab Bhar Tunis</td>\n",
       "      <td>36.790722,10.17871</td>\n",
       "      <td>+21675673496</td>\n",
       "    </tr>\n",
       "    <tr>\n",
       "      <th>1</th>\n",
       "      <td>Pharmacie mostefa ouahchi</td>\n",
       "      <td>Bab Bhar</td>\n",
       "      <td>47,avenue Ali Belhaouane Bab Bhar Tunis</td>\n",
       "      <td>36.805664,10.171533</td>\n",
       "      <td>+21671262600</td>\n",
       "    </tr>\n",
       "    <tr>\n",
       "      <th>2</th>\n",
       "      <td>Pharmacie slim karray</td>\n",
       "      <td>Bab Bhar</td>\n",
       "      <td>20,avenue de la Liberte Bab Bhar Tunis</td>\n",
       "      <td>36.808083,10.180098</td>\n",
       "      <td>+21671243520</td>\n",
       "    </tr>\n",
       "    <tr>\n",
       "      <th>3</th>\n",
       "      <td>Pharmacie hosnia jenane ep. ayachi</td>\n",
       "      <td>Bab Bhar</td>\n",
       "      <td>44 Avenue Bab Jedid Bab Bhar Tunis</td>\n",
       "      <td>36.792126,10.175423</td>\n",
       "      <td>+21671240994</td>\n",
       "    </tr>\n",
       "    <tr>\n",
       "      <th>4</th>\n",
       "      <td>Pharmacie rached khabthani</td>\n",
       "      <td>Bab Bhar</td>\n",
       "      <td>43,av.Habib Bourguiba(Colisee) Bab Bhar Tunis</td>\n",
       "      <td>36.800056,10.182266</td>\n",
       "      <td>+21671252507</td>\n",
       "    </tr>\n",
       "    <tr>\n",
       "      <th>5</th>\n",
       "      <td>Pharmacie mariem kilani</td>\n",
       "      <td>Bab Bhar</td>\n",
       "      <td>56, Rue SIDI EL BECHIR TUNIS TUNIS VILLE Bab B...</td>\n",
       "      <td>NO COORDINATES</td>\n",
       "      <td>+21671347224</td>\n",
       "    </tr>\n",
       "    <tr>\n",
       "      <th>6</th>\n",
       "      <td>Pharmacie neila sfar</td>\n",
       "      <td>Sidi Hassine</td>\n",
       "      <td>Lot B. MoussaRoute n 39Route Fouchana Sidi Has...</td>\n",
       "      <td>36.7482884,10.1143176</td>\n",
       "      <td>+21622289484</td>\n",
       "    </tr>\n",
       "    <tr>\n",
       "      <th>7</th>\n",
       "      <td>Pharmacie haifa machat</td>\n",
       "      <td>Sidi Hassine</td>\n",
       "      <td>Rue 4657 - Rte DE MORNAGUIA TUNIS SIDI HASSINE...</td>\n",
       "      <td>36.7816482,10.1100048</td>\n",
       "      <td>+21654567788</td>\n",
       "    </tr>\n",
       "    <tr>\n",
       "      <th>8</th>\n",
       "      <td>Pharmacie mohamed gouia</td>\n",
       "      <td>El Omrane</td>\n",
       "      <td>Avenue Hedi Saidi el omrane El Omrane Tunis</td>\n",
       "      <td>36.809673,10.152282</td>\n",
       "      <td>+21671897768</td>\n",
       "    </tr>\n",
       "    <tr>\n",
       "      <th>9</th>\n",
       "      <td>Pharmacie houssem boubaya</td>\n",
       "      <td>El Omrane</td>\n",
       "      <td>21 rue Hedi Saidi El Omrane Tunis El Omrane Tunis</td>\n",
       "      <td>36.8184209,10.135409</td>\n",
       "      <td>+21675322411</td>\n",
       "    </tr>\n",
       "    <tr>\n",
       "      <th>10</th>\n",
       "      <td>Pharmacie mahmoud bach hamba</td>\n",
       "      <td>La Marsa</td>\n",
       "      <td>9, Rue Ali Belhaouane La Marsa Tunis</td>\n",
       "      <td>36.878368,10.327491</td>\n",
       "      <td>+21671775770</td>\n",
       "    </tr>\n",
       "    <tr>\n",
       "      <th>11</th>\n",
       "      <td>Pharmacie mouna lafif ep. annabi ghaiet el</td>\n",
       "      <td>La Marsa</td>\n",
       "      <td>32, Avenue Taieb M'Hiri La Marsa Tunis</td>\n",
       "      <td>36.887825,10.322535</td>\n",
       "      <td>+21671729811</td>\n",
       "    </tr>\n",
       "    <tr>\n",
       "      <th>12</th>\n",
       "      <td>Pharmacie hedi bel hadj hassen</td>\n",
       "      <td>Le Bardo</td>\n",
       "      <td>24,avenue Habib Bourguiba Le Bardo Tunis</td>\n",
       "      <td>36.81065,10.140433</td>\n",
       "      <td>+21671222284</td>\n",
       "    </tr>\n",
       "    <tr>\n",
       "      <th>13</th>\n",
       "      <td>Pharmacie saida balti meliani</td>\n",
       "      <td>Le Bardo</td>\n",
       "      <td>60, Rue Habib Bougatfa Le Bardo Tunis</td>\n",
       "      <td>36.813473,10.147204</td>\n",
       "      <td>+21671510700</td>\n",
       "    </tr>\n",
       "    <tr>\n",
       "      <th>14</th>\n",
       "      <td>Pharmacie zied karray</td>\n",
       "      <td>El Manar</td>\n",
       "      <td>24, CENTRE DORRA TUNIS MANAR El Manar Tunis</td>\n",
       "      <td>NO COORDINATES</td>\n",
       "      <td>+21671887635</td>\n",
       "    </tr>\n",
       "    <tr>\n",
       "      <th>15</th>\n",
       "      <td>Pharmacie hosni bouhajeb</td>\n",
       "      <td>Carthage</td>\n",
       "      <td>1,rue Scipion Carthage Tunis</td>\n",
       "      <td>36.8162642,10.3020146</td>\n",
       "      <td>+21671223434</td>\n",
       "    </tr>\n",
       "    <tr>\n",
       "      <th>16</th>\n",
       "      <td>Pharmacie mariem ben yahia</td>\n",
       "      <td>El Hrairia</td>\n",
       "      <td>32bis, Rue 4001 El Hrairia Tunis</td>\n",
       "      <td>36.7942755,10.1309437</td>\n",
       "      <td>+21671529925</td>\n",
       "    </tr>\n",
       "    <tr>\n",
       "      <th>17</th>\n",
       "      <td>Pharmacie mohamed salah oueslati</td>\n",
       "      <td>El Ouerdia</td>\n",
       "      <td>54, Avenue 10236 El Ouerdia Tunis</td>\n",
       "      <td>36.754559,10.1937</td>\n",
       "      <td>+21671270727</td>\n",
       "    </tr>\n",
       "    <tr>\n",
       "      <th>18</th>\n",
       "      <td>Pharmacie abdessattar zouari</td>\n",
       "      <td>Aîn Zaghouan</td>\n",
       "      <td>92, Avenue Khaled Ibn El Walid Aîn Zaghouan Tunis</td>\n",
       "      <td>36.8616484,10.2762783</td>\n",
       "      <td>+21671724336</td>\n",
       "    </tr>\n",
       "  </tbody>\n",
       "</table>\n",
       "</div>"
      ],
      "text/plain": [
       "                                           nom      quartier  \\\n",
       "0                   Pharmacie nejib ben jebara      Bab Bhar   \n",
       "1                    Pharmacie mostefa ouahchi      Bab Bhar   \n",
       "2                        Pharmacie slim karray      Bab Bhar   \n",
       "3           Pharmacie hosnia jenane ep. ayachi      Bab Bhar   \n",
       "4                   Pharmacie rached khabthani      Bab Bhar   \n",
       "5                      Pharmacie mariem kilani      Bab Bhar   \n",
       "6                         Pharmacie neila sfar  Sidi Hassine   \n",
       "7                       Pharmacie haifa machat  Sidi Hassine   \n",
       "8                      Pharmacie mohamed gouia     El Omrane   \n",
       "9                    Pharmacie houssem boubaya     El Omrane   \n",
       "10                Pharmacie mahmoud bach hamba      La Marsa   \n",
       "11  Pharmacie mouna lafif ep. annabi ghaiet el      La Marsa   \n",
       "12              Pharmacie hedi bel hadj hassen      Le Bardo   \n",
       "13               Pharmacie saida balti meliani      Le Bardo   \n",
       "14                       Pharmacie zied karray      El Manar   \n",
       "15                    Pharmacie hosni bouhajeb      Carthage   \n",
       "16                  Pharmacie mariem ben yahia    El Hrairia   \n",
       "17            Pharmacie mohamed salah oueslati    El Ouerdia   \n",
       "18                Pharmacie abdessattar zouari  Aîn Zaghouan   \n",
       "\n",
       "                                              adresse             coordonnee  \\\n",
       "0                56,rue Sidi El Bechir Bab Bhar Tunis     36.790722,10.17871   \n",
       "1             47,avenue Ali Belhaouane Bab Bhar Tunis    36.805664,10.171533   \n",
       "2              20,avenue de la Liberte Bab Bhar Tunis    36.808083,10.180098   \n",
       "3                  44 Avenue Bab Jedid Bab Bhar Tunis    36.792126,10.175423   \n",
       "4       43,av.Habib Bourguiba(Colisee) Bab Bhar Tunis    36.800056,10.182266   \n",
       "5   56, Rue SIDI EL BECHIR TUNIS TUNIS VILLE Bab B...         NO COORDINATES   \n",
       "6   Lot B. MoussaRoute n 39Route Fouchana Sidi Has...  36.7482884,10.1143176   \n",
       "7   Rue 4657 - Rte DE MORNAGUIA TUNIS SIDI HASSINE...  36.7816482,10.1100048   \n",
       "8         Avenue Hedi Saidi el omrane El Omrane Tunis    36.809673,10.152282   \n",
       "9   21 rue Hedi Saidi El Omrane Tunis El Omrane Tunis   36.8184209,10.135409   \n",
       "10               9, Rue Ali Belhaouane La Marsa Tunis    36.878368,10.327491   \n",
       "11             32, Avenue Taieb M'Hiri La Marsa Tunis    36.887825,10.322535   \n",
       "12           24,avenue Habib Bourguiba Le Bardo Tunis     36.81065,10.140433   \n",
       "13              60, Rue Habib Bougatfa Le Bardo Tunis    36.813473,10.147204   \n",
       "14        24, CENTRE DORRA TUNIS MANAR El Manar Tunis         NO COORDINATES   \n",
       "15                       1,rue Scipion Carthage Tunis  36.8162642,10.3020146   \n",
       "16                   32bis, Rue 4001 El Hrairia Tunis  36.7942755,10.1309437   \n",
       "17                  54, Avenue 10236 El Ouerdia Tunis      36.754559,10.1937   \n",
       "18  92, Avenue Khaled Ibn El Walid Aîn Zaghouan Tunis  36.8616484,10.2762783   \n",
       "\n",
       "       telephone  \n",
       "0   +21675673496  \n",
       "1   +21671262600  \n",
       "2   +21671243520  \n",
       "3   +21671240994  \n",
       "4   +21671252507  \n",
       "5   +21671347224  \n",
       "6   +21622289484  \n",
       "7   +21654567788  \n",
       "8   +21671897768  \n",
       "9   +21675322411  \n",
       "10  +21671775770  \n",
       "11  +21671729811  \n",
       "12  +21671222284  \n",
       "13  +21671510700  \n",
       "14  +21671887635  \n",
       "15  +21671223434  \n",
       "16  +21671529925  \n",
       "17  +21671270727  \n",
       "18  +21671724336  "
      ]
     },
     "execution_count": 46,
     "metadata": {},
     "output_type": "execute_result"
    }
   ],
   "source": [
    "df"
   ]
  },
  {
   "cell_type": "code",
   "execution_count": null,
   "metadata": {},
   "outputs": [],
   "source": []
  },
  {
   "cell_type": "code",
   "execution_count": null,
   "metadata": {},
   "outputs": [],
   "source": []
  }
 ],
 "metadata": {
  "kernelspec": {
   "display_name": "Python 3",
   "language": "python",
   "name": "python3"
  },
  "language_info": {
   "codemirror_mode": {
    "name": "ipython",
    "version": 3
   },
   "file_extension": ".py",
   "mimetype": "text/x-python",
   "name": "python",
   "nbconvert_exporter": "python",
   "pygments_lexer": "ipython3",
   "version": "3.6.1"
  }
 },
 "nbformat": 4,
 "nbformat_minor": 2
}
