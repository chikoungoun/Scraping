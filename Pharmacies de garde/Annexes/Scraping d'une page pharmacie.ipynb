{
 "cells": [
  {
   "cell_type": "markdown",
   "metadata": {},
   "source": [
    "# Scraper les pharmacies d'un quartier"
   ]
  },
  {
   "cell_type": "code",
   "execution_count": 1,
   "metadata": {},
   "outputs": [
    {
     "data": {
      "text/plain": [
       "<Response [200]>"
      ]
     },
     "execution_count": 1,
     "metadata": {},
     "output_type": "execute_result"
    }
   ],
   "source": [
    "import requests\n",
    "\n",
    "url = 'https://lematin.ma/pharmacie-garde-casablanca/sidi-bernoussi.html'\n",
    "response = requests.get(url)\n",
    "response"
   ]
  },
  {
   "cell_type": "code",
   "execution_count": 2,
   "metadata": {},
   "outputs": [
    {
     "data": {
      "text/plain": [
       "bs4.BeautifulSoup"
      ]
     },
     "execution_count": 2,
     "metadata": {},
     "output_type": "execute_result"
    }
   ],
   "source": [
    "from bs4 import BeautifulSoup\n",
    "\n",
    "soup = BeautifulSoup(response.text,'html.parser')\n",
    "type(soup)"
   ]
  },
  {
   "cell_type": "markdown",
   "metadata": {},
   "source": [
    "Trouver toutes les pharmacies du quartier"
   ]
  },
  {
   "cell_type": "code",
   "execution_count": 3,
   "metadata": {},
   "outputs": [],
   "source": [
    "pharmacies = soup.find_all('div',class_='pharmacie')"
   ]
  },
  {
   "cell_type": "code",
   "execution_count": 4,
   "metadata": {},
   "outputs": [
    {
     "data": {
      "text/plain": [
       "[<div class=\"pharmacie\">\n",
       " <h5><a href=\"/pharmacie/casablanca/sidi-bernoussi/athina.html\">Pharmacie ATHINA</a></h5>\n",
       " <p>N° 7, LOT. CHABAB - GROUPE C2 - SIDI BERNOUSSI - Tél : 0522.73.74.73 <a href=\"/pharmacie/casablanca/sidi-bernoussi/athina.html\">[+]</a>\n",
       " </p>\n",
       " </div>, <div class=\"pharmacie\">\n",
       " <h5><a href=\"/pharmacie/casablanca/sidi-bernoussi/l-horizon.html\">Pharmacie L'HORIZON</a></h5>\n",
       " <p>ANGLE DES RUES 3 &amp; 5 -ESSAADA HAY EL QODS (37EME ARRONDIS. DE LA SURETE NATIONALE) BERNOUSSI- Tél : 0522.73.70.57 <a class=\"btn btn-success btn-xs\" href=\"/pharmacie/casablanca/sidi-bernoussi/l-horizon.html\">Voir la position <i aria-hidden=\"true\" class=\"ion-ios-location\"></i></a>\n",
       " </p>\n",
       " </div>]"
      ]
     },
     "execution_count": 4,
     "metadata": {},
     "output_type": "execute_result"
    }
   ],
   "source": [
    "pharmacies"
   ]
  },
  {
   "cell_type": "code",
   "execution_count": 7,
   "metadata": {},
   "outputs": [],
   "source": [
    "noms =[]\n",
    "adresses = []\n",
    "for i in pharmacies:\n",
    "    noms.append(i.find('h5').text)\n",
    "    adresses.append(i.find('p').text)"
   ]
  },
  {
   "cell_type": "code",
   "execution_count": 6,
   "metadata": {},
   "outputs": [
    {
     "data": {
      "text/plain": [
       "['Pharmacie ATHINA', \"Pharmacie L'HORIZON\"]"
      ]
     },
     "execution_count": 6,
     "metadata": {},
     "output_type": "execute_result"
    }
   ],
   "source": [
    "noms"
   ]
  },
  {
   "cell_type": "code",
   "execution_count": 8,
   "metadata": {},
   "outputs": [
    {
     "data": {
      "text/plain": [
       "['N° 7, LOT. CHABAB - GROUPE C2 - SIDI BERNOUSSI - Tél : 0522.73.74.73 [+]\\n',\n",
       " 'ANGLE DES RUES 3 & 5 -ESSAADA HAY EL QODS (37EME ARRONDIS. DE LA SURETE NATIONALE) BERNOUSSI- Tél : 0522.73.70.57 Voir la position \\n']"
      ]
     },
     "execution_count": 8,
     "metadata": {},
     "output_type": "execute_result"
    }
   ],
   "source": [
    "adresses"
   ]
  },
  {
   "cell_type": "code",
   "execution_count": null,
   "metadata": {},
   "outputs": [],
   "source": []
  }
 ],
 "metadata": {
  "kernelspec": {
   "display_name": "Python 3",
   "language": "python",
   "name": "python3"
  },
  "language_info": {
   "codemirror_mode": {
    "name": "ipython",
    "version": 3
   },
   "file_extension": ".py",
   "mimetype": "text/x-python",
   "name": "python",
   "nbconvert_exporter": "python",
   "pygments_lexer": "ipython3",
   "version": "3.6.1"
  }
 },
 "nbformat": 4,
 "nbformat_minor": 2
}
