{
 "cells": [
  {
   "cell_type": "markdown",
   "metadata": {},
   "source": [
    "#  Finding the Geocode from an adress / finding the neighborhood of a place"
   ]
  },
  {
   "cell_type": "code",
   "execution_count": 1,
   "metadata": {},
   "outputs": [],
   "source": [
    "import requests\n",
    "import json"
   ]
  },
  {
   "cell_type": "code",
   "execution_count": 2,
   "metadata": {},
   "outputs": [],
   "source": [
    "with open('api_key.txt') as f:\n",
    "    api_key = f.readline()\n",
    "    f.close"
   ]
  },
  {
   "cell_type": "markdown",
   "metadata": {},
   "source": [
    "** requires Google places API **"
   ]
  },
  {
   "cell_type": "code",
   "execution_count": 3,
   "metadata": {},
   "outputs": [],
   "source": [
    "url = \"https://maps.googleapis.com/maps/api/geocode/json?\""
   ]
  },
  {
   "cell_type": "code",
   "execution_count": 4,
   "metadata": {},
   "outputs": [],
   "source": [
    "#query = \"pharmacie dahab, rabat\""
   ]
  },
  {
   "cell_type": "markdown",
   "metadata": {},
   "source": [
    "** Defining the function **"
   ]
  },
  {
   "cell_type": "code",
   "execution_count": 28,
   "metadata": {},
   "outputs": [],
   "source": [
    "def neighborhood_finder(url,query):\n",
    "    r = requests.get(url + 'address=' + query +'&key=' + api_key) \n",
    "    x = r.json()\n",
    "    #y = x['results'][0]\n",
    "    #n = y['address_components'][2]\n",
    "    #neighborhood = n['long_name']\n",
    "    #print(neighborhood)\n",
    "    print(x)\n",
    "    print(\"\\n ************* \\n\")"
   ]
  },
  {
   "cell_type": "markdown",
   "metadata": {},
   "source": [
    "** Import the csv file**"
   ]
  },
  {
   "cell_type": "code",
   "execution_count": 13,
   "metadata": {},
   "outputs": [],
   "source": [
    "import pandas as pd"
   ]
  },
  {
   "cell_type": "code",
   "execution_count": 14,
   "metadata": {},
   "outputs": [],
   "source": [
    "df = pd.read_csv('pdg_rabat.csv',delimiter=';',index_col=0)"
   ]
  },
  {
   "cell_type": "code",
   "execution_count": 15,
   "metadata": {
    "scrolled": true
   },
   "outputs": [
    {
     "data": {
      "text/html": [
       "<div>\n",
       "<style>\n",
       "    .dataframe thead tr:only-child th {\n",
       "        text-align: right;\n",
       "    }\n",
       "\n",
       "    .dataframe thead th {\n",
       "        text-align: left;\n",
       "    }\n",
       "\n",
       "    .dataframe tbody tr th {\n",
       "        vertical-align: top;\n",
       "    }\n",
       "</style>\n",
       "<table border=\"1\" class=\"dataframe\">\n",
       "  <thead>\n",
       "    <tr style=\"text-align: right;\">\n",
       "      <th></th>\n",
       "      <th>pharmacie</th>\n",
       "      <th>lien</th>\n",
       "      <th>access</th>\n",
       "      <th>coordonnee</th>\n",
       "    </tr>\n",
       "  </thead>\n",
       "  <tbody>\n",
       "    <tr>\n",
       "      <th>0</th>\n",
       "      <td>Pharmacie  la Pinède</td>\n",
       "      <td>https://www.telecontact.ma/annonceur/pharmacie...</td>\n",
       "      <td>https://www.telecontact.ma/plan-acces/pharmaci...</td>\n",
       "      <td>33.94920717, -6.82331364</td>\n",
       "    </tr>\n",
       "    <tr>\n",
       "      <th>1</th>\n",
       "      <td>Pharmacie  La Reussite</td>\n",
       "      <td>https://www.telecontact.ma/annonceur/pharmacie...</td>\n",
       "      <td>https://www.telecontact.ma/plan-acces/pharmaci...</td>\n",
       "      <td>33.98600103693816, -6.814933453970298</td>\n",
       "    </tr>\n",
       "    <tr>\n",
       "      <th>2</th>\n",
       "      <td>Pharmacie  La Rosee</td>\n",
       "      <td>https://www.telecontact.ma/annonceur/pharmacie...</td>\n",
       "      <td>https://www.telecontact.ma/plan-acces/pharmaci...</td>\n",
       "      <td>33.990054, -6.817109</td>\n",
       "    </tr>\n",
       "    <tr>\n",
       "      <th>3</th>\n",
       "      <td>Pharmacie  La Vitalité</td>\n",
       "      <td>https://www.telecontact.ma/annonceur/pharmacie...</td>\n",
       "      <td>https://www.telecontact.ma/plan-acces/pharmaci...</td>\n",
       "      <td>33.956908122640876, -6.859374975138053</td>\n",
       "    </tr>\n",
       "    <tr>\n",
       "      <th>4</th>\n",
       "      <td>Pharmacie  le Claridge</td>\n",
       "      <td>https://www.telecontact.ma/annonceur/pharmacie...</td>\n",
       "      <td>https://www.telecontact.ma/plan-acces/pharmaci...</td>\n",
       "      <td>33.97340548733602, -6.830059771709784</td>\n",
       "    </tr>\n",
       "  </tbody>\n",
       "</table>\n",
       "</div>"
      ],
      "text/plain": [
       "                pharmacie                                               lien  \\\n",
       "0    Pharmacie  la Pinède  https://www.telecontact.ma/annonceur/pharmacie...   \n",
       "1  Pharmacie  La Reussite  https://www.telecontact.ma/annonceur/pharmacie...   \n",
       "2     Pharmacie  La Rosee  https://www.telecontact.ma/annonceur/pharmacie...   \n",
       "3  Pharmacie  La Vitalité  https://www.telecontact.ma/annonceur/pharmacie...   \n",
       "4  Pharmacie  le Claridge  https://www.telecontact.ma/annonceur/pharmacie...   \n",
       "\n",
       "                                              access  \\\n",
       "0  https://www.telecontact.ma/plan-acces/pharmaci...   \n",
       "1  https://www.telecontact.ma/plan-acces/pharmaci...   \n",
       "2  https://www.telecontact.ma/plan-acces/pharmaci...   \n",
       "3  https://www.telecontact.ma/plan-acces/pharmaci...   \n",
       "4  https://www.telecontact.ma/plan-acces/pharmaci...   \n",
       "\n",
       "                               coordonnee  \n",
       "0                33.94920717, -6.82331364  \n",
       "1   33.98600103693816, -6.814933453970298  \n",
       "2                    33.990054, -6.817109  \n",
       "3  33.956908122640876, -6.859374975138053  \n",
       "4   33.97340548733602, -6.830059771709784  "
      ]
     },
     "execution_count": 15,
     "metadata": {},
     "output_type": "execute_result"
    }
   ],
   "source": [
    "df.head()"
   ]
  },
  {
   "cell_type": "markdown",
   "metadata": {},
   "source": [
    "**Looping through the data**"
   ]
  },
  {
   "cell_type": "code",
   "execution_count": 29,
   "metadata": {},
   "outputs": [
    {
     "name": "stdout",
     "output_type": "stream",
     "text": [
      "{'results': [{'address_components': [{'long_name': 'R401', 'short_name': 'R401', 'types': ['route']}, {'long_name': 'Rabat', 'short_name': 'Rabat', 'types': ['locality', 'political']}, {'long_name': 'Rabat-Salé-Kénitra', 'short_name': 'Rabat-Salé-Kénitra', 'types': ['administrative_area_level_1', 'political']}, {'long_name': 'Morocco', 'short_name': 'MA', 'types': ['country', 'political']}, {'long_name': '10000', 'short_name': '10000', 'types': ['postal_code']}], 'formatted_address': '155 Avenue Med VI - Route de Zaers, R401, Rabat 10000, Morocco', 'geometry': {'location': {'lat': 33.985846, 'lng': -6.828255}, 'location_type': 'GEOMETRIC_CENTER', 'viewport': {'northeast': {'lat': 33.9871949802915, 'lng': -6.826906019708497}, 'southwest': {'lat': 33.9844970197085, 'lng': -6.829603980291502}}}, 'place_id': 'ChIJlyF6i11rpw0R6AxFzalDPx4', 'plus_code': {'compound_code': 'X5PC+8M Rabat, Morocco', 'global_code': '8C5MX5PC+8M'}, 'types': ['establishment', 'health', 'pharmacy', 'point_of_interest', 'store']}], 'status': 'OK'}\n",
      "\n",
      " ************* \n",
      "\n",
      "{'results': [{'address_components': [{'long_name': 'Rabat', 'short_name': 'Rabat', 'types': ['locality', 'political']}, {'long_name': 'Rabat-Salé-Kénitra', 'short_name': 'Rabat-Salé-Kénitra', 'types': ['administrative_area_level_1', 'political']}, {'long_name': 'Morocco', 'short_name': 'MA', 'types': ['country', 'political']}, {'long_name': '10000', 'short_name': '10000', 'types': ['postal_code']}], 'formatted_address': '88 Rue Numero 3 Hay El Farah - Takadoum, Rabat 10000, Morocco', 'geometry': {'location': {'lat': 33.9859014, 'lng': -6.8149798}, 'location_type': 'GEOMETRIC_CENTER', 'viewport': {'northeast': {'lat': 33.98725038029149, 'lng': -6.813630819708497}, 'southwest': {'lat': 33.9845524197085, 'lng': -6.816328780291502}}}, 'place_id': 'ChIJeY48HBZrpw0RqReZzqXEm7M', 'plus_code': {'compound_code': 'X5PP+92 Rabat, Morocco', 'global_code': '8C5MX5PP+92'}, 'types': ['establishment', 'health', 'pharmacy', 'point_of_interest', 'store']}], 'status': 'OK'}\n",
      "\n",
      " ************* \n",
      "\n",
      "{'results': [{'address_components': [{'long_name': 'Rabat', 'short_name': 'Rabat', 'types': ['locality', 'political']}, {'long_name': 'Rabat-Salé-Kénitra', 'short_name': 'Rabat-Salé-Kénitra', 'types': ['administrative_area_level_1', 'political']}, {'long_name': 'Morocco', 'short_name': 'MA', 'types': ['country', 'political']}, {'long_name': '10000', 'short_name': '10000', 'types': ['postal_code']}], 'formatted_address': '1036 Groupe El Majd Nahda, Rabat 10000, Morocco', 'geometry': {'location': {'lat': 33.9738331, 'lng': -6.816902499999999}, 'location_type': 'GEOMETRIC_CENTER', 'viewport': {'northeast': {'lat': 33.9751820802915, 'lng': -6.815553519708497}, 'southwest': {'lat': 33.9724841197085, 'lng': -6.818251480291502}}}, 'place_id': 'ChIJwcVQH4drpw0R9ItnhbTZlac', 'plus_code': {'compound_code': 'X5FM+G6 Rabat, Morocco', 'global_code': '8C5MX5FM+G6'}, 'types': ['establishment', 'point_of_interest']}], 'status': 'OK'}\n",
      "\n",
      " ************* \n",
      "\n",
      "{'results': [{'address_components': [{'long_name': 'Avenue Atthuya', 'short_name': 'Avenue Atthuya', 'types': ['route']}, {'long_name': 'Hay Riad', 'short_name': 'Hay Riad', 'types': ['political', 'sublocality', 'sublocality_level_1']}, {'long_name': 'Rabat', 'short_name': 'Rabat', 'types': ['locality', 'political']}, {'long_name': 'Rabat-Salé-Kénitra', 'short_name': 'Rabat-Salé-Kénitra', 'types': ['administrative_area_level_1', 'political']}, {'long_name': 'Morocco', 'short_name': 'MA', 'types': ['country', 'political']}], 'formatted_address': 'Avenue Atthuya, Rabat, Morocco', 'geometry': {'location': {'lat': 33.9568944, 'lng': -6.859379400000001}, 'location_type': 'GEOMETRIC_CENTER', 'viewport': {'northeast': {'lat': 33.9582433802915, 'lng': -6.858030419708499}, 'southwest': {'lat': 33.9555454197085, 'lng': -6.860728380291503}}}, 'place_id': 'ChIJ4U0GKzQTpw0RQHVhGCYbvdc', 'plus_code': {'compound_code': 'X44R+Q6 Rabat, Morocco', 'global_code': '8C5MX44R+Q6'}, 'types': ['establishment', 'health', 'pharmacy', 'point_of_interest', 'store']}], 'status': 'OK'}\n",
      "\n",
      " ************* \n",
      "\n",
      "{'results': [{'address_components': [{'long_name': 'Avenue Ahmed Rifai', 'short_name': 'Avenue Ahmed Rifai', 'types': ['route']}, {'long_name': 'Rabat', 'short_name': 'Rabat', 'types': ['locality', 'political']}, {'long_name': 'Rabat-Salé-Kénitra', 'short_name': 'Rabat-Salé-Kénitra', 'types': ['administrative_area_level_1', 'political']}, {'long_name': 'Morocco', 'short_name': 'MA', 'types': ['country', 'political']}, {'long_name': '10170', 'short_name': '10170', 'types': ['postal_code']}], 'formatted_address': 'Avenue Ahmed Rifai, Rabat 10170, Morocco', 'geometry': {'location': {'lat': 33.9730689, 'lng': -6.8321352}, 'location_type': 'GEOMETRIC_CENTER', 'viewport': {'northeast': {'lat': 33.9744178802915, 'lng': -6.830786219708497}, 'southwest': {'lat': 33.9717199197085, 'lng': -6.833484180291502}}}, 'place_id': 'ChIJVXYH_Vdrpw0R8FnrVzArgqs', 'plus_code': {'compound_code': 'X5F9+64 Rabat, Morocco', 'global_code': '8C5MX5F9+64'}, 'types': ['establishment', 'health', 'pharmacy', 'point_of_interest', 'store']}], 'status': 'OK'}\n",
      "\n",
      " ************* \n",
      "\n",
      "{'results': [{'address_components': [{'long_name': '9', 'short_name': '9', 'types': ['street_number']}, {'long_name': 'Avenue Hassan II', 'short_name': 'Avenue Hassan II', 'types': ['route']}, {'long_name': 'Quartier Hassan', 'short_name': 'Quartier Hassan', 'types': ['political', 'sublocality', 'sublocality_level_1']}, {'long_name': 'Rabat', 'short_name': 'Rabat', 'types': ['locality', 'political']}, {'long_name': 'Rabat-Salé-Kénitra', 'short_name': 'Rabat-Salé-Kénitra', 'types': ['administrative_area_level_1', 'political']}, {'long_name': 'Morocco', 'short_name': 'MA', 'types': ['country', 'political']}, {'long_name': '10000', 'short_name': '10000', 'types': ['postal_code']}], 'formatted_address': '9 Avenue Hassan II, Rabat 10000, Morocco', 'geometry': {'location': {'lat': 34.0257009, 'lng': -6.8278547}, 'location_type': 'ROOFTOP', 'viewport': {'northeast': {'lat': 34.02704988029149, 'lng': -6.826505719708497}, 'southwest': {'lat': 34.02435191970849, 'lng': -6.829203680291502}}}, 'place_id': 'ChIJadtY4nZspw0RO8On3mTiD40', 'plus_code': {'compound_code': '25GC+7V Rabat, Morocco', 'global_code': '8C6M25GC+7V'}, 'types': ['establishment', 'health', 'pharmacy', 'point_of_interest', 'store']}], 'status': 'OK'}\n",
      "\n",
      " ************* \n",
      "\n",
      "{'results': [{'address_components': [{'long_name': 'Rue Zagora Hassan', 'short_name': 'Rue Zagora Hassan', 'types': ['route']}, {'long_name': 'Quartier Hassan', 'short_name': 'Quartier Hassan', 'types': ['political', 'sublocality', 'sublocality_level_1']}, {'long_name': 'Rabat', 'short_name': 'Rabat', 'types': ['locality', 'political']}, {'long_name': 'Rabat-Salé-Kénitra', 'short_name': 'Rabat-Salé-Kénitra', 'types': ['administrative_area_level_1', 'political']}, {'long_name': 'Morocco', 'short_name': 'MA', 'types': ['country', 'political']}, {'long_name': '10000', 'short_name': '10000', 'types': ['postal_code']}], 'formatted_address': 'Rue Zagora Hassan, Rabat 10000, Morocco', 'geometry': {'location': {'lat': 34.0208077, 'lng': -6.824429899999999}, 'location_type': 'GEOMETRIC_CENTER', 'viewport': {'northeast': {'lat': 34.02215668029149, 'lng': -6.823080919708497}, 'southwest': {'lat': 34.0194587197085, 'lng': -6.825778880291502}}}, 'place_id': 'ChIJD4aH3o9rpw0Rt6qlO6KGSWY', 'types': ['establishment', 'point_of_interest']}], 'status': 'OK'}\n",
      "\n",
      " ************* \n",
      "\n",
      "{'results': [{'address_components': [{'long_name': 'Rabat', 'short_name': 'Rabat', 'types': ['locality', 'political']}, {'long_name': 'Quartier Des Orangers', 'short_name': 'Quartier Des Orangers', 'types': ['political', 'sublocality', 'sublocality_level_1']}, {'long_name': 'Rabat-Salé-Kénitra', 'short_name': 'Rabat-Salé-Kénitra', 'types': ['administrative_area_level_1', 'political']}, {'long_name': 'Morocco', 'short_name': 'MA', 'types': ['country', 'political']}], 'formatted_address': '44 Bis Les, Avenue Pasteur, Rabat, Morocco', 'geometry': {'location': {'lat': 34.012133, 'lng': -6.842637}, 'location_type': 'GEOMETRIC_CENTER', 'viewport': {'northeast': {'lat': 34.0134819802915, 'lng': -6.841288019708498}, 'southwest': {'lat': 34.0107840197085, 'lng': -6.843985980291502}}}, 'place_id': 'ChIJ96rKZXxspw0R68oIfk2dJoU', 'plus_code': {'compound_code': '2564+VW Rabat, Morocco', 'global_code': '8C6M2564+VW'}, 'types': ['establishment', 'health', 'pharmacy', 'point_of_interest', 'store']}], 'status': 'OK'}\n",
      "\n",
      " ************* \n",
      "\n"
     ]
    },
    {
     "name": "stdout",
     "output_type": "stream",
     "text": [
      "{'results': [{'address_components': [{'long_name': 'Rabat', 'short_name': 'Rabat', 'types': ['locality', 'political']}, {'long_name': 'Quartier Administratif', 'short_name': 'Quartier Administratif', 'types': ['political', 'sublocality', 'sublocality_level_1']}, {'long_name': 'Rabat-Salé-Kénitra', 'short_name': 'Rabat-Salé-Kénitra', 'types': ['administrative_area_level_1', 'political']}, {'long_name': 'Morocco', 'short_name': 'MA', 'types': ['country', 'political']}, {'long_name': '10000', 'short_name': '10000', 'types': ['postal_code']}], 'formatted_address': '15 Avenue Med El Fassi(Ex-Marakech) Hassan, Rabat 10000, Morocco', 'geometry': {'location': {'lat': 34.0133656, 'lng': -6.8226175}, 'location_type': 'GEOMETRIC_CENTER', 'viewport': {'northeast': {'lat': 34.0147145802915, 'lng': -6.821268519708497}, 'southwest': {'lat': 34.0120166197085, 'lng': -6.823966480291502}}}, 'place_id': 'ChIJ1aHnkJxrpw0R0i3kY_GsWWY', 'plus_code': {'compound_code': '257G+8X Rabat, Morocco', 'global_code': '8C6M257G+8X'}, 'types': ['establishment', 'health', 'pharmacy', 'point_of_interest', 'store']}], 'status': 'OK'}\n",
      "\n",
      " ************* \n",
      "\n",
      "{'results': [{'address_components': [{'long_name': 'Avenue Ibn Sina', 'short_name': 'Avenue Ibn Sina', 'types': ['route']}, {'long_name': 'Agdal', 'short_name': 'Agdal', 'types': ['political', 'sublocality', 'sublocality_level_1']}, {'long_name': 'Rabat', 'short_name': 'Rabat', 'types': ['locality', 'political']}, {'long_name': 'Rabat-Salé-Kénitra', 'short_name': 'Rabat-Salé-Kénitra', 'types': ['administrative_area_level_1', 'political']}, {'long_name': 'Morocco', 'short_name': 'MA', 'types': ['country', 'political']}, {'long_name': '10000', 'short_name': '10000', 'types': ['postal_code']}], 'formatted_address': 'Avenue Ibn Sina, Rabat 10000, Morocco', 'geometry': {'location': {'lat': 33.9972915, 'lng': -6.8511031}, 'location_type': 'GEOMETRIC_CENTER', 'viewport': {'northeast': {'lat': 33.99864048029149, 'lng': -6.849754119708497}, 'southwest': {'lat': 33.99594251970849, 'lng': -6.852452080291502}}}, 'place_id': 'ChIJ4V8cHJJspw0Rd0E6fKzMOdA', 'types': ['establishment', 'health', 'pharmacy', 'point_of_interest', 'store']}], 'status': 'OK'}\n",
      "\n",
      " ************* \n",
      "\n",
      "{'results': [{'address_components': [{'long_name': 'Rabat', 'short_name': 'Rabat', 'types': ['locality', 'political']}, {'long_name': 'Quartier Hassan', 'short_name': 'Quartier Hassan', 'types': ['political', 'sublocality', 'sublocality_level_1']}, {'long_name': 'Rabat-Salé-Kénitra', 'short_name': 'Rabat-Salé-Kénitra', 'types': ['administrative_area_level_1', 'political']}, {'long_name': 'Morocco', 'short_name': 'MA', 'types': ['country', 'political']}, {'long_name': '10000', 'short_name': '10000', 'types': ['postal_code']}], 'formatted_address': '61D Rue Bani Obeid Nahdaii, Rabat 10000, Morocco', 'geometry': {'location': {'lat': 34.015049, 'lng': -6.83272}, 'location_type': 'GEOMETRIC_CENTER', 'viewport': {'northeast': {'lat': 34.0163979802915, 'lng': -6.831371019708498}, 'southwest': {'lat': 34.0137000197085, 'lng': -6.834068980291502}}}, 'place_id': 'ChIJwcVQH4drpw0RQPUVNNwGT2M', 'types': ['establishment', 'point_of_interest']}], 'status': 'OK'}\n",
      "\n",
      " ************* \n",
      "\n"
     ]
    },
    {
     "ename": "KeyboardInterrupt",
     "evalue": "",
     "output_type": "error",
     "traceback": [
      "\u001b[1;31m---------------------------------------------------------------------------\u001b[0m",
      "\u001b[1;31mKeyboardInterrupt\u001b[0m                         Traceback (most recent call last)",
      "\u001b[1;32m<ipython-input-29-8924bb9e31aa>\u001b[0m in \u001b[0;36m<module>\u001b[1;34m()\u001b[0m\n\u001b[0;32m      1\u001b[0m \u001b[1;32mfor\u001b[0m \u001b[0mi\u001b[0m \u001b[1;32min\u001b[0m \u001b[0mdf\u001b[0m\u001b[1;33m[\u001b[0m\u001b[1;34m'pharmacie'\u001b[0m\u001b[1;33m]\u001b[0m\u001b[1;33m:\u001b[0m\u001b[1;33m\u001b[0m\u001b[0m\n\u001b[0;32m      2\u001b[0m     \u001b[0mquery\u001b[0m \u001b[1;33m=\u001b[0m \u001b[0mstr\u001b[0m\u001b[1;33m(\u001b[0m\u001b[0mi\u001b[0m\u001b[1;33m)\u001b[0m\u001b[1;33m+\u001b[0m\u001b[1;34m\", Rabat\"\u001b[0m\u001b[1;33m\u001b[0m\u001b[0m\n\u001b[1;32m----> 3\u001b[1;33m     \u001b[0mneighborhood_finder\u001b[0m\u001b[1;33m(\u001b[0m\u001b[0murl\u001b[0m\u001b[1;33m,\u001b[0m\u001b[0mquery\u001b[0m\u001b[1;33m)\u001b[0m\u001b[1;33m\u001b[0m\u001b[0m\n\u001b[0m\u001b[0;32m      4\u001b[0m \u001b[1;33m\u001b[0m\u001b[0m\n",
      "\u001b[1;32m<ipython-input-28-96d822c5fbd0>\u001b[0m in \u001b[0;36mneighborhood_finder\u001b[1;34m(url, query)\u001b[0m\n\u001b[0;32m      1\u001b[0m \u001b[1;32mdef\u001b[0m \u001b[0mneighborhood_finder\u001b[0m\u001b[1;33m(\u001b[0m\u001b[0murl\u001b[0m\u001b[1;33m,\u001b[0m\u001b[0mquery\u001b[0m\u001b[1;33m)\u001b[0m\u001b[1;33m:\u001b[0m\u001b[1;33m\u001b[0m\u001b[0m\n\u001b[1;32m----> 2\u001b[1;33m     \u001b[0mr\u001b[0m \u001b[1;33m=\u001b[0m \u001b[0mrequests\u001b[0m\u001b[1;33m.\u001b[0m\u001b[0mget\u001b[0m\u001b[1;33m(\u001b[0m\u001b[0murl\u001b[0m \u001b[1;33m+\u001b[0m \u001b[1;34m'address='\u001b[0m \u001b[1;33m+\u001b[0m \u001b[0mquery\u001b[0m \u001b[1;33m+\u001b[0m\u001b[1;34m'&key='\u001b[0m \u001b[1;33m+\u001b[0m \u001b[0mapi_key\u001b[0m\u001b[1;33m)\u001b[0m\u001b[1;33m\u001b[0m\u001b[0m\n\u001b[0m\u001b[0;32m      3\u001b[0m     \u001b[0mx\u001b[0m \u001b[1;33m=\u001b[0m \u001b[0mr\u001b[0m\u001b[1;33m.\u001b[0m\u001b[0mjson\u001b[0m\u001b[1;33m(\u001b[0m\u001b[1;33m)\u001b[0m\u001b[1;33m\u001b[0m\u001b[0m\n\u001b[0;32m      4\u001b[0m     \u001b[1;31m#y = x['results'][0]\u001b[0m\u001b[1;33m\u001b[0m\u001b[1;33m\u001b[0m\u001b[0m\n\u001b[0;32m      5\u001b[0m     \u001b[1;31m#n = y['address_components'][2]\u001b[0m\u001b[1;33m\u001b[0m\u001b[1;33m\u001b[0m\u001b[0m\n",
      "\u001b[1;32mc:\\users\\marwane\\appdata\\local\\programs\\python\\python36-32\\lib\\site-packages\\requests\\api.py\u001b[0m in \u001b[0;36mget\u001b[1;34m(url, params, **kwargs)\u001b[0m\n\u001b[0;32m     73\u001b[0m \u001b[1;33m\u001b[0m\u001b[0m\n\u001b[0;32m     74\u001b[0m     \u001b[0mkwargs\u001b[0m\u001b[1;33m.\u001b[0m\u001b[0msetdefault\u001b[0m\u001b[1;33m(\u001b[0m\u001b[1;34m'allow_redirects'\u001b[0m\u001b[1;33m,\u001b[0m \u001b[1;32mTrue\u001b[0m\u001b[1;33m)\u001b[0m\u001b[1;33m\u001b[0m\u001b[0m\n\u001b[1;32m---> 75\u001b[1;33m     \u001b[1;32mreturn\u001b[0m \u001b[0mrequest\u001b[0m\u001b[1;33m(\u001b[0m\u001b[1;34m'get'\u001b[0m\u001b[1;33m,\u001b[0m \u001b[0murl\u001b[0m\u001b[1;33m,\u001b[0m \u001b[0mparams\u001b[0m\u001b[1;33m=\u001b[0m\u001b[0mparams\u001b[0m\u001b[1;33m,\u001b[0m \u001b[1;33m**\u001b[0m\u001b[0mkwargs\u001b[0m\u001b[1;33m)\u001b[0m\u001b[1;33m\u001b[0m\u001b[0m\n\u001b[0m\u001b[0;32m     76\u001b[0m \u001b[1;33m\u001b[0m\u001b[0m\n\u001b[0;32m     77\u001b[0m \u001b[1;33m\u001b[0m\u001b[0m\n",
      "\u001b[1;32mc:\\users\\marwane\\appdata\\local\\programs\\python\\python36-32\\lib\\site-packages\\requests\\api.py\u001b[0m in \u001b[0;36mrequest\u001b[1;34m(method, url, **kwargs)\u001b[0m\n\u001b[0;32m     58\u001b[0m     \u001b[1;31m# cases, and look like a memory leak in others.\u001b[0m\u001b[1;33m\u001b[0m\u001b[1;33m\u001b[0m\u001b[0m\n\u001b[0;32m     59\u001b[0m     \u001b[1;32mwith\u001b[0m \u001b[0msessions\u001b[0m\u001b[1;33m.\u001b[0m\u001b[0mSession\u001b[0m\u001b[1;33m(\u001b[0m\u001b[1;33m)\u001b[0m \u001b[1;32mas\u001b[0m \u001b[0msession\u001b[0m\u001b[1;33m:\u001b[0m\u001b[1;33m\u001b[0m\u001b[0m\n\u001b[1;32m---> 60\u001b[1;33m         \u001b[1;32mreturn\u001b[0m \u001b[0msession\u001b[0m\u001b[1;33m.\u001b[0m\u001b[0mrequest\u001b[0m\u001b[1;33m(\u001b[0m\u001b[0mmethod\u001b[0m\u001b[1;33m=\u001b[0m\u001b[0mmethod\u001b[0m\u001b[1;33m,\u001b[0m \u001b[0murl\u001b[0m\u001b[1;33m=\u001b[0m\u001b[0murl\u001b[0m\u001b[1;33m,\u001b[0m \u001b[1;33m**\u001b[0m\u001b[0mkwargs\u001b[0m\u001b[1;33m)\u001b[0m\u001b[1;33m\u001b[0m\u001b[0m\n\u001b[0m\u001b[0;32m     61\u001b[0m \u001b[1;33m\u001b[0m\u001b[0m\n\u001b[0;32m     62\u001b[0m \u001b[1;33m\u001b[0m\u001b[0m\n",
      "\u001b[1;32mc:\\users\\marwane\\appdata\\local\\programs\\python\\python36-32\\lib\\site-packages\\requests\\sessions.py\u001b[0m in \u001b[0;36mrequest\u001b[1;34m(self, method, url, params, data, headers, cookies, files, auth, timeout, allow_redirects, proxies, hooks, stream, verify, cert, json)\u001b[0m\n\u001b[0;32m    531\u001b[0m         }\n\u001b[0;32m    532\u001b[0m         \u001b[0msend_kwargs\u001b[0m\u001b[1;33m.\u001b[0m\u001b[0mupdate\u001b[0m\u001b[1;33m(\u001b[0m\u001b[0msettings\u001b[0m\u001b[1;33m)\u001b[0m\u001b[1;33m\u001b[0m\u001b[0m\n\u001b[1;32m--> 533\u001b[1;33m         \u001b[0mresp\u001b[0m \u001b[1;33m=\u001b[0m \u001b[0mself\u001b[0m\u001b[1;33m.\u001b[0m\u001b[0msend\u001b[0m\u001b[1;33m(\u001b[0m\u001b[0mprep\u001b[0m\u001b[1;33m,\u001b[0m \u001b[1;33m**\u001b[0m\u001b[0msend_kwargs\u001b[0m\u001b[1;33m)\u001b[0m\u001b[1;33m\u001b[0m\u001b[0m\n\u001b[0m\u001b[0;32m    534\u001b[0m \u001b[1;33m\u001b[0m\u001b[0m\n\u001b[0;32m    535\u001b[0m         \u001b[1;32mreturn\u001b[0m \u001b[0mresp\u001b[0m\u001b[1;33m\u001b[0m\u001b[0m\n",
      "\u001b[1;32mc:\\users\\marwane\\appdata\\local\\programs\\python\\python36-32\\lib\\site-packages\\requests\\sessions.py\u001b[0m in \u001b[0;36msend\u001b[1;34m(self, request, **kwargs)\u001b[0m\n\u001b[0;32m    644\u001b[0m \u001b[1;33m\u001b[0m\u001b[0m\n\u001b[0;32m    645\u001b[0m         \u001b[1;31m# Send the request\u001b[0m\u001b[1;33m\u001b[0m\u001b[1;33m\u001b[0m\u001b[0m\n\u001b[1;32m--> 646\u001b[1;33m         \u001b[0mr\u001b[0m \u001b[1;33m=\u001b[0m \u001b[0madapter\u001b[0m\u001b[1;33m.\u001b[0m\u001b[0msend\u001b[0m\u001b[1;33m(\u001b[0m\u001b[0mrequest\u001b[0m\u001b[1;33m,\u001b[0m \u001b[1;33m**\u001b[0m\u001b[0mkwargs\u001b[0m\u001b[1;33m)\u001b[0m\u001b[1;33m\u001b[0m\u001b[0m\n\u001b[0m\u001b[0;32m    647\u001b[0m \u001b[1;33m\u001b[0m\u001b[0m\n\u001b[0;32m    648\u001b[0m         \u001b[1;31m# Total elapsed time of the request (approximately)\u001b[0m\u001b[1;33m\u001b[0m\u001b[1;33m\u001b[0m\u001b[0m\n",
      "\u001b[1;32mc:\\users\\marwane\\appdata\\local\\programs\\python\\python36-32\\lib\\site-packages\\requests\\adapters.py\u001b[0m in \u001b[0;36msend\u001b[1;34m(self, request, stream, timeout, verify, cert, proxies)\u001b[0m\n\u001b[0;32m    447\u001b[0m                     \u001b[0mdecode_content\u001b[0m\u001b[1;33m=\u001b[0m\u001b[1;32mFalse\u001b[0m\u001b[1;33m,\u001b[0m\u001b[1;33m\u001b[0m\u001b[0m\n\u001b[0;32m    448\u001b[0m                     \u001b[0mretries\u001b[0m\u001b[1;33m=\u001b[0m\u001b[0mself\u001b[0m\u001b[1;33m.\u001b[0m\u001b[0mmax_retries\u001b[0m\u001b[1;33m,\u001b[0m\u001b[1;33m\u001b[0m\u001b[0m\n\u001b[1;32m--> 449\u001b[1;33m                     \u001b[0mtimeout\u001b[0m\u001b[1;33m=\u001b[0m\u001b[0mtimeout\u001b[0m\u001b[1;33m\u001b[0m\u001b[0m\n\u001b[0m\u001b[0;32m    450\u001b[0m                 )\n\u001b[0;32m    451\u001b[0m \u001b[1;33m\u001b[0m\u001b[0m\n",
      "\u001b[1;32mc:\\users\\marwane\\appdata\\local\\programs\\python\\python36-32\\lib\\site-packages\\urllib3\\connectionpool.py\u001b[0m in \u001b[0;36murlopen\u001b[1;34m(self, method, url, body, headers, retries, redirect, assert_same_host, timeout, pool_timeout, release_conn, chunked, body_pos, **response_kw)\u001b[0m\n\u001b[0;32m    598\u001b[0m                                                   \u001b[0mtimeout\u001b[0m\u001b[1;33m=\u001b[0m\u001b[0mtimeout_obj\u001b[0m\u001b[1;33m,\u001b[0m\u001b[1;33m\u001b[0m\u001b[0m\n\u001b[0;32m    599\u001b[0m                                                   \u001b[0mbody\u001b[0m\u001b[1;33m=\u001b[0m\u001b[0mbody\u001b[0m\u001b[1;33m,\u001b[0m \u001b[0mheaders\u001b[0m\u001b[1;33m=\u001b[0m\u001b[0mheaders\u001b[0m\u001b[1;33m,\u001b[0m\u001b[1;33m\u001b[0m\u001b[0m\n\u001b[1;32m--> 600\u001b[1;33m                                                   chunked=chunked)\n\u001b[0m\u001b[0;32m    601\u001b[0m \u001b[1;33m\u001b[0m\u001b[0m\n\u001b[0;32m    602\u001b[0m             \u001b[1;31m# If we're going to release the connection in ``finally:``, then\u001b[0m\u001b[1;33m\u001b[0m\u001b[1;33m\u001b[0m\u001b[0m\n",
      "\u001b[1;32mc:\\users\\marwane\\appdata\\local\\programs\\python\\python36-32\\lib\\site-packages\\urllib3\\connectionpool.py\u001b[0m in \u001b[0;36m_make_request\u001b[1;34m(self, conn, method, url, timeout, chunked, **httplib_request_kw)\u001b[0m\n\u001b[0;32m    343\u001b[0m         \u001b[1;31m# Trigger any extra validation we need to do.\u001b[0m\u001b[1;33m\u001b[0m\u001b[1;33m\u001b[0m\u001b[0m\n\u001b[0;32m    344\u001b[0m         \u001b[1;32mtry\u001b[0m\u001b[1;33m:\u001b[0m\u001b[1;33m\u001b[0m\u001b[0m\n\u001b[1;32m--> 345\u001b[1;33m             \u001b[0mself\u001b[0m\u001b[1;33m.\u001b[0m\u001b[0m_validate_conn\u001b[0m\u001b[1;33m(\u001b[0m\u001b[0mconn\u001b[0m\u001b[1;33m)\u001b[0m\u001b[1;33m\u001b[0m\u001b[0m\n\u001b[0m\u001b[0;32m    346\u001b[0m         \u001b[1;32mexcept\u001b[0m \u001b[1;33m(\u001b[0m\u001b[0mSocketTimeout\u001b[0m\u001b[1;33m,\u001b[0m \u001b[0mBaseSSLError\u001b[0m\u001b[1;33m)\u001b[0m \u001b[1;32mas\u001b[0m \u001b[0me\u001b[0m\u001b[1;33m:\u001b[0m\u001b[1;33m\u001b[0m\u001b[0m\n\u001b[0;32m    347\u001b[0m             \u001b[1;31m# Py2 raises this as a BaseSSLError, Py3 raises it as socket timeout.\u001b[0m\u001b[1;33m\u001b[0m\u001b[1;33m\u001b[0m\u001b[0m\n",
      "\u001b[1;32mc:\\users\\marwane\\appdata\\local\\programs\\python\\python36-32\\lib\\site-packages\\urllib3\\connectionpool.py\u001b[0m in \u001b[0;36m_validate_conn\u001b[1;34m(self, conn)\u001b[0m\n\u001b[0;32m    842\u001b[0m         \u001b[1;31m# Force connect early to allow us to validate the connection.\u001b[0m\u001b[1;33m\u001b[0m\u001b[1;33m\u001b[0m\u001b[0m\n\u001b[0;32m    843\u001b[0m         \u001b[1;32mif\u001b[0m \u001b[1;32mnot\u001b[0m \u001b[0mgetattr\u001b[0m\u001b[1;33m(\u001b[0m\u001b[0mconn\u001b[0m\u001b[1;33m,\u001b[0m \u001b[1;34m'sock'\u001b[0m\u001b[1;33m,\u001b[0m \u001b[1;32mNone\u001b[0m\u001b[1;33m)\u001b[0m\u001b[1;33m:\u001b[0m  \u001b[1;31m# AppEngine might not have  `.sock`\u001b[0m\u001b[1;33m\u001b[0m\u001b[0m\n\u001b[1;32m--> 844\u001b[1;33m             \u001b[0mconn\u001b[0m\u001b[1;33m.\u001b[0m\u001b[0mconnect\u001b[0m\u001b[1;33m(\u001b[0m\u001b[1;33m)\u001b[0m\u001b[1;33m\u001b[0m\u001b[0m\n\u001b[0m\u001b[0;32m    845\u001b[0m \u001b[1;33m\u001b[0m\u001b[0m\n\u001b[0;32m    846\u001b[0m         \u001b[1;32mif\u001b[0m \u001b[1;32mnot\u001b[0m \u001b[0mconn\u001b[0m\u001b[1;33m.\u001b[0m\u001b[0mis_verified\u001b[0m\u001b[1;33m:\u001b[0m\u001b[1;33m\u001b[0m\u001b[0m\n",
      "\u001b[1;32mc:\\users\\marwane\\appdata\\local\\programs\\python\\python36-32\\lib\\site-packages\\urllib3\\connection.py\u001b[0m in \u001b[0;36mconnect\u001b[1;34m(self)\u001b[0m\n\u001b[0;32m    324\u001b[0m             \u001b[0mca_cert_dir\u001b[0m\u001b[1;33m=\u001b[0m\u001b[0mself\u001b[0m\u001b[1;33m.\u001b[0m\u001b[0mca_cert_dir\u001b[0m\u001b[1;33m,\u001b[0m\u001b[1;33m\u001b[0m\u001b[0m\n\u001b[0;32m    325\u001b[0m             \u001b[0mserver_hostname\u001b[0m\u001b[1;33m=\u001b[0m\u001b[0mhostname\u001b[0m\u001b[1;33m,\u001b[0m\u001b[1;33m\u001b[0m\u001b[0m\n\u001b[1;32m--> 326\u001b[1;33m             ssl_context=context)\n\u001b[0m\u001b[0;32m    327\u001b[0m \u001b[1;33m\u001b[0m\u001b[0m\n\u001b[0;32m    328\u001b[0m         \u001b[1;32mif\u001b[0m \u001b[0mself\u001b[0m\u001b[1;33m.\u001b[0m\u001b[0massert_fingerprint\u001b[0m\u001b[1;33m:\u001b[0m\u001b[1;33m\u001b[0m\u001b[0m\n",
      "\u001b[1;32mc:\\users\\marwane\\appdata\\local\\programs\\python\\python36-32\\lib\\site-packages\\urllib3\\util\\ssl_.py\u001b[0m in \u001b[0;36mssl_wrap_socket\u001b[1;34m(sock, keyfile, certfile, cert_reqs, ca_certs, server_hostname, ssl_version, ciphers, ssl_context, ca_cert_dir)\u001b[0m\n\u001b[0;32m    323\u001b[0m         \u001b[0mcontext\u001b[0m\u001b[1;33m.\u001b[0m\u001b[0mload_cert_chain\u001b[0m\u001b[1;33m(\u001b[0m\u001b[0mcertfile\u001b[0m\u001b[1;33m,\u001b[0m \u001b[0mkeyfile\u001b[0m\u001b[1;33m)\u001b[0m\u001b[1;33m\u001b[0m\u001b[0m\n\u001b[0;32m    324\u001b[0m     \u001b[1;32mif\u001b[0m \u001b[0mHAS_SNI\u001b[0m\u001b[1;33m:\u001b[0m  \u001b[1;31m# Platform-specific: OpenSSL with enabled SNI\u001b[0m\u001b[1;33m\u001b[0m\u001b[0m\n\u001b[1;32m--> 325\u001b[1;33m         \u001b[1;32mreturn\u001b[0m \u001b[0mcontext\u001b[0m\u001b[1;33m.\u001b[0m\u001b[0mwrap_socket\u001b[0m\u001b[1;33m(\u001b[0m\u001b[0msock\u001b[0m\u001b[1;33m,\u001b[0m \u001b[0mserver_hostname\u001b[0m\u001b[1;33m=\u001b[0m\u001b[0mserver_hostname\u001b[0m\u001b[1;33m)\u001b[0m\u001b[1;33m\u001b[0m\u001b[0m\n\u001b[0m\u001b[0;32m    326\u001b[0m \u001b[1;33m\u001b[0m\u001b[0m\n\u001b[0;32m    327\u001b[0m     warnings.warn(\n",
      "\u001b[1;32mc:\\users\\marwane\\appdata\\local\\programs\\python\\python36-32\\lib\\ssl.py\u001b[0m in \u001b[0;36mwrap_socket\u001b[1;34m(self, sock, server_side, do_handshake_on_connect, suppress_ragged_eofs, server_hostname, session)\u001b[0m\n\u001b[0;32m    399\u001b[0m                          \u001b[0msuppress_ragged_eofs\u001b[0m\u001b[1;33m=\u001b[0m\u001b[0msuppress_ragged_eofs\u001b[0m\u001b[1;33m,\u001b[0m\u001b[1;33m\u001b[0m\u001b[0m\n\u001b[0;32m    400\u001b[0m                          \u001b[0mserver_hostname\u001b[0m\u001b[1;33m=\u001b[0m\u001b[0mserver_hostname\u001b[0m\u001b[1;33m,\u001b[0m\u001b[1;33m\u001b[0m\u001b[0m\n\u001b[1;32m--> 401\u001b[1;33m                          _context=self, _session=session)\n\u001b[0m\u001b[0;32m    402\u001b[0m \u001b[1;33m\u001b[0m\u001b[0m\n\u001b[0;32m    403\u001b[0m     def wrap_bio(self, incoming, outgoing, server_side=False,\n",
      "\u001b[1;32mc:\\users\\marwane\\appdata\\local\\programs\\python\\python36-32\\lib\\ssl.py\u001b[0m in \u001b[0;36m__init__\u001b[1;34m(self, sock, keyfile, certfile, server_side, cert_reqs, ssl_version, ca_certs, do_handshake_on_connect, family, type, proto, fileno, suppress_ragged_eofs, npn_protocols, ciphers, server_hostname, _context, _session)\u001b[0m\n\u001b[0;32m    806\u001b[0m                         \u001b[1;31m# non-blocking\u001b[0m\u001b[1;33m\u001b[0m\u001b[1;33m\u001b[0m\u001b[0m\n\u001b[0;32m    807\u001b[0m                         \u001b[1;32mraise\u001b[0m \u001b[0mValueError\u001b[0m\u001b[1;33m(\u001b[0m\u001b[1;34m\"do_handshake_on_connect should not be specified for non-blocking sockets\"\u001b[0m\u001b[1;33m)\u001b[0m\u001b[1;33m\u001b[0m\u001b[0m\n\u001b[1;32m--> 808\u001b[1;33m                     \u001b[0mself\u001b[0m\u001b[1;33m.\u001b[0m\u001b[0mdo_handshake\u001b[0m\u001b[1;33m(\u001b[0m\u001b[1;33m)\u001b[0m\u001b[1;33m\u001b[0m\u001b[0m\n\u001b[0m\u001b[0;32m    809\u001b[0m \u001b[1;33m\u001b[0m\u001b[0m\n\u001b[0;32m    810\u001b[0m             \u001b[1;32mexcept\u001b[0m \u001b[1;33m(\u001b[0m\u001b[0mOSError\u001b[0m\u001b[1;33m,\u001b[0m \u001b[0mValueError\u001b[0m\u001b[1;33m)\u001b[0m\u001b[1;33m:\u001b[0m\u001b[1;33m\u001b[0m\u001b[0m\n",
      "\u001b[1;32mc:\\users\\marwane\\appdata\\local\\programs\\python\\python36-32\\lib\\ssl.py\u001b[0m in \u001b[0;36mdo_handshake\u001b[1;34m(self, block)\u001b[0m\n\u001b[0;32m   1059\u001b[0m             \u001b[1;32mif\u001b[0m \u001b[0mtimeout\u001b[0m \u001b[1;33m==\u001b[0m \u001b[1;36m0.0\u001b[0m \u001b[1;32mand\u001b[0m \u001b[0mblock\u001b[0m\u001b[1;33m:\u001b[0m\u001b[1;33m\u001b[0m\u001b[0m\n\u001b[0;32m   1060\u001b[0m                 \u001b[0mself\u001b[0m\u001b[1;33m.\u001b[0m\u001b[0msettimeout\u001b[0m\u001b[1;33m(\u001b[0m\u001b[1;32mNone\u001b[0m\u001b[1;33m)\u001b[0m\u001b[1;33m\u001b[0m\u001b[0m\n\u001b[1;32m-> 1061\u001b[1;33m             \u001b[0mself\u001b[0m\u001b[1;33m.\u001b[0m\u001b[0m_sslobj\u001b[0m\u001b[1;33m.\u001b[0m\u001b[0mdo_handshake\u001b[0m\u001b[1;33m(\u001b[0m\u001b[1;33m)\u001b[0m\u001b[1;33m\u001b[0m\u001b[0m\n\u001b[0m\u001b[0;32m   1062\u001b[0m         \u001b[1;32mfinally\u001b[0m\u001b[1;33m:\u001b[0m\u001b[1;33m\u001b[0m\u001b[0m\n\u001b[0;32m   1063\u001b[0m             \u001b[0mself\u001b[0m\u001b[1;33m.\u001b[0m\u001b[0msettimeout\u001b[0m\u001b[1;33m(\u001b[0m\u001b[0mtimeout\u001b[0m\u001b[1;33m)\u001b[0m\u001b[1;33m\u001b[0m\u001b[0m\n",
      "\u001b[1;32mc:\\users\\marwane\\appdata\\local\\programs\\python\\python36-32\\lib\\ssl.py\u001b[0m in \u001b[0;36mdo_handshake\u001b[1;34m(self)\u001b[0m\n\u001b[0;32m    681\u001b[0m     \u001b[1;32mdef\u001b[0m \u001b[0mdo_handshake\u001b[0m\u001b[1;33m(\u001b[0m\u001b[0mself\u001b[0m\u001b[1;33m)\u001b[0m\u001b[1;33m:\u001b[0m\u001b[1;33m\u001b[0m\u001b[0m\n\u001b[0;32m    682\u001b[0m         \u001b[1;34m\"\"\"Start the SSL/TLS handshake.\"\"\"\u001b[0m\u001b[1;33m\u001b[0m\u001b[0m\n\u001b[1;32m--> 683\u001b[1;33m         \u001b[0mself\u001b[0m\u001b[1;33m.\u001b[0m\u001b[0m_sslobj\u001b[0m\u001b[1;33m.\u001b[0m\u001b[0mdo_handshake\u001b[0m\u001b[1;33m(\u001b[0m\u001b[1;33m)\u001b[0m\u001b[1;33m\u001b[0m\u001b[0m\n\u001b[0m\u001b[0;32m    684\u001b[0m         \u001b[1;32mif\u001b[0m \u001b[0mself\u001b[0m\u001b[1;33m.\u001b[0m\u001b[0mcontext\u001b[0m\u001b[1;33m.\u001b[0m\u001b[0mcheck_hostname\u001b[0m\u001b[1;33m:\u001b[0m\u001b[1;33m\u001b[0m\u001b[0m\n\u001b[0;32m    685\u001b[0m             \u001b[1;32mif\u001b[0m \u001b[1;32mnot\u001b[0m \u001b[0mself\u001b[0m\u001b[1;33m.\u001b[0m\u001b[0mserver_hostname\u001b[0m\u001b[1;33m:\u001b[0m\u001b[1;33m\u001b[0m\u001b[0m\n",
      "\u001b[1;31mKeyboardInterrupt\u001b[0m: "
     ]
    }
   ],
   "source": [
    "for i in df['pharmacie']:\n",
    "    query = str(i)+\", Rabat\"\n",
    "    neighborhood_finder(url,query)\n",
    "    "
   ]
  },
  {
   "cell_type": "code",
   "execution_count": null,
   "metadata": {},
   "outputs": [],
   "source": []
  }
 ],
 "metadata": {
  "kernelspec": {
   "display_name": "Python 3",
   "language": "python",
   "name": "python3"
  },
  "language_info": {
   "codemirror_mode": {
    "name": "ipython",
    "version": 3
   },
   "file_extension": ".py",
   "mimetype": "text/x-python",
   "name": "python",
   "nbconvert_exporter": "python",
   "pygments_lexer": "ipython3",
   "version": "3.6.1"
  }
 },
 "nbformat": 4,
 "nbformat_minor": 2
}
