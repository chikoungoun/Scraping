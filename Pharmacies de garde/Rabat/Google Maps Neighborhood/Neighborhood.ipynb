{
 "cells": [
  {
   "cell_type": "markdown",
   "metadata": {},
   "source": [
    "#  Finding the Geocode from an adress / finding the neighborhood of a place"
   ]
  },
  {
   "cell_type": "code",
   "execution_count": 1,
   "metadata": {},
   "outputs": [],
   "source": [
    "import requests\n",
    "import json"
   ]
  },
  {
   "cell_type": "code",
   "execution_count": 2,
   "metadata": {},
   "outputs": [],
   "source": [
    "with open('api_key.txt') as f:\n",
    "    api_key = f.readline()\n",
    "    f.close"
   ]
  },
  {
   "cell_type": "markdown",
   "metadata": {},
   "source": [
    "** requires Google places API **"
   ]
  },
  {
   "cell_type": "code",
   "execution_count": 3,
   "metadata": {},
   "outputs": [],
   "source": [
    "url = \"https://maps.googleapis.com/maps/api/geocode/json?\""
   ]
  },
  {
   "cell_type": "markdown",
   "metadata": {},
   "source": [
    "** Defining the function **"
   ]
  },
  {
   "cell_type": "code",
   "execution_count": 45,
   "metadata": {},
   "outputs": [],
   "source": [
    "def neighborhood_finder(url,query):\n",
    "    r = requests.get(url + 'address=' + query +'&key=' + api_key) \n",
    "    x = r.json()\n",
    "    res = x['results']\n",
    "    addr = res[0]['address_components']\n",
    "    neigh = \"\"\n",
    "    for i in addr:\n",
    "    \n",
    "        if ('sublocality_level_1' in i['types']):\n",
    "            print(i['long_name'])\n",
    "            neigh = i['long_name']       \n",
    "    \n",
    "    print(\"\\n ************* \\n\")\n",
    "    print(neigh)\n",
    "    return \"\"+neigh"
   ]
  },
  {
   "cell_type": "markdown",
   "metadata": {},
   "source": [
    "** Import the csv file**"
   ]
  },
  {
   "cell_type": "code",
   "execution_count": 13,
   "metadata": {},
   "outputs": [],
   "source": [
    "import pandas as pd"
   ]
  },
  {
   "cell_type": "code",
   "execution_count": 14,
   "metadata": {},
   "outputs": [],
   "source": [
    "df = pd.read_csv('pdg_rabat.csv',delimiter=';',index_col=0)"
   ]
  },
  {
   "cell_type": "code",
   "execution_count": 15,
   "metadata": {
    "scrolled": true
   },
   "outputs": [
    {
     "data": {
      "text/html": [
       "<div>\n",
       "<style>\n",
       "    .dataframe thead tr:only-child th {\n",
       "        text-align: right;\n",
       "    }\n",
       "\n",
       "    .dataframe thead th {\n",
       "        text-align: left;\n",
       "    }\n",
       "\n",
       "    .dataframe tbody tr th {\n",
       "        vertical-align: top;\n",
       "    }\n",
       "</style>\n",
       "<table border=\"1\" class=\"dataframe\">\n",
       "  <thead>\n",
       "    <tr style=\"text-align: right;\">\n",
       "      <th></th>\n",
       "      <th>pharmacie</th>\n",
       "      <th>lien</th>\n",
       "      <th>access</th>\n",
       "      <th>coordonnee</th>\n",
       "    </tr>\n",
       "  </thead>\n",
       "  <tbody>\n",
       "    <tr>\n",
       "      <th>0</th>\n",
       "      <td>Pharmacie  la Pinède</td>\n",
       "      <td>https://www.telecontact.ma/annonceur/pharmacie...</td>\n",
       "      <td>https://www.telecontact.ma/plan-acces/pharmaci...</td>\n",
       "      <td>33.94920717, -6.82331364</td>\n",
       "    </tr>\n",
       "    <tr>\n",
       "      <th>1</th>\n",
       "      <td>Pharmacie  La Reussite</td>\n",
       "      <td>https://www.telecontact.ma/annonceur/pharmacie...</td>\n",
       "      <td>https://www.telecontact.ma/plan-acces/pharmaci...</td>\n",
       "      <td>33.98600103693816, -6.814933453970298</td>\n",
       "    </tr>\n",
       "    <tr>\n",
       "      <th>2</th>\n",
       "      <td>Pharmacie  La Rosee</td>\n",
       "      <td>https://www.telecontact.ma/annonceur/pharmacie...</td>\n",
       "      <td>https://www.telecontact.ma/plan-acces/pharmaci...</td>\n",
       "      <td>33.990054, -6.817109</td>\n",
       "    </tr>\n",
       "    <tr>\n",
       "      <th>3</th>\n",
       "      <td>Pharmacie  La Vitalité</td>\n",
       "      <td>https://www.telecontact.ma/annonceur/pharmacie...</td>\n",
       "      <td>https://www.telecontact.ma/plan-acces/pharmaci...</td>\n",
       "      <td>33.956908122640876, -6.859374975138053</td>\n",
       "    </tr>\n",
       "    <tr>\n",
       "      <th>4</th>\n",
       "      <td>Pharmacie  le Claridge</td>\n",
       "      <td>https://www.telecontact.ma/annonceur/pharmacie...</td>\n",
       "      <td>https://www.telecontact.ma/plan-acces/pharmaci...</td>\n",
       "      <td>33.97340548733602, -6.830059771709784</td>\n",
       "    </tr>\n",
       "  </tbody>\n",
       "</table>\n",
       "</div>"
      ],
      "text/plain": [
       "                pharmacie                                               lien  \\\n",
       "0    Pharmacie  la Pinède  https://www.telecontact.ma/annonceur/pharmacie...   \n",
       "1  Pharmacie  La Reussite  https://www.telecontact.ma/annonceur/pharmacie...   \n",
       "2     Pharmacie  La Rosee  https://www.telecontact.ma/annonceur/pharmacie...   \n",
       "3  Pharmacie  La Vitalité  https://www.telecontact.ma/annonceur/pharmacie...   \n",
       "4  Pharmacie  le Claridge  https://www.telecontact.ma/annonceur/pharmacie...   \n",
       "\n",
       "                                              access  \\\n",
       "0  https://www.telecontact.ma/plan-acces/pharmaci...   \n",
       "1  https://www.telecontact.ma/plan-acces/pharmaci...   \n",
       "2  https://www.telecontact.ma/plan-acces/pharmaci...   \n",
       "3  https://www.telecontact.ma/plan-acces/pharmaci...   \n",
       "4  https://www.telecontact.ma/plan-acces/pharmaci...   \n",
       "\n",
       "                               coordonnee  \n",
       "0                33.94920717, -6.82331364  \n",
       "1   33.98600103693816, -6.814933453970298  \n",
       "2                    33.990054, -6.817109  \n",
       "3  33.956908122640876, -6.859374975138053  \n",
       "4   33.97340548733602, -6.830059771709784  "
      ]
     },
     "execution_count": 15,
     "metadata": {},
     "output_type": "execute_result"
    }
   ],
   "source": [
    "df.head()"
   ]
  },
  {
   "cell_type": "markdown",
   "metadata": {},
   "source": [
    "**Looping through the data**"
   ]
  },
  {
   "cell_type": "code",
   "execution_count": 47,
   "metadata": {},
   "outputs": [
    {
     "name": "stdout",
     "output_type": "stream",
     "text": [
      "\n",
      " ************* \n",
      "\n",
      "\n",
      "n : \n",
      "\n",
      " ************* \n",
      "\n",
      "\n",
      "n : \n",
      "\n",
      " ************* \n",
      "\n",
      "\n",
      "n : \n",
      "Hay Riad\n",
      "\n",
      " ************* \n",
      "\n",
      "Hay Riad\n",
      "n : Hay Riad\n",
      "\n",
      " ************* \n",
      "\n",
      "\n",
      "n : \n",
      "Quartier Hassan\n",
      "\n",
      " ************* \n",
      "\n",
      "Quartier Hassan\n",
      "n : Quartier Hassan\n",
      "Quartier Hassan\n",
      "\n",
      " ************* \n",
      "\n",
      "Quartier Hassan\n",
      "n : Quartier Hassan\n",
      "Quartier Des Orangers\n",
      "\n",
      " ************* \n",
      "\n",
      "Quartier Des Orangers\n",
      "n : Quartier Des Orangers\n",
      "Quartier Administratif\n",
      "\n",
      " ************* \n",
      "\n",
      "Quartier Administratif\n",
      "n : Quartier Administratif\n",
      "Agdal\n",
      "\n",
      " ************* \n",
      "\n",
      "Agdal\n",
      "n : Agdal\n",
      "Done\n"
     ]
    }
   ],
   "source": [
    "quartiers = []\n",
    "\n",
    "for i in df['pharmacie'].head(10):\n",
    "    query = str(i)+\", Rabat\" \n",
    "    n = neighborhood_finder(url,query)\n",
    "    print(\"n : \"+str(n))\n",
    "    quartiers.append(n)\n",
    "\n",
    "print('Done')"
   ]
  },
  {
   "cell_type": "markdown",
   "metadata": {},
   "source": [
    "## Populatin the neighborhood database"
   ]
  },
  {
   "cell_type": "code",
   "execution_count": 48,
   "metadata": {},
   "outputs": [
    {
     "data": {
      "text/plain": [
       "['',\n",
       " '',\n",
       " '',\n",
       " 'Hay Riad',\n",
       " '',\n",
       " 'Quartier Hassan',\n",
       " 'Quartier Hassan',\n",
       " 'Quartier Des Orangers',\n",
       " 'Quartier Administratif',\n",
       " 'Agdal']"
      ]
     },
     "execution_count": 48,
     "metadata": {},
     "output_type": "execute_result"
    }
   ],
   "source": [
    "quartiers"
   ]
  },
  {
   "cell_type": "code",
   "execution_count": null,
   "metadata": {},
   "outputs": [],
   "source": []
  }
 ],
 "metadata": {
  "kernelspec": {
   "display_name": "Python 3",
   "language": "python",
   "name": "python3"
  },
  "language_info": {
   "codemirror_mode": {
    "name": "ipython",
    "version": 3
   },
   "file_extension": ".py",
   "mimetype": "text/x-python",
   "name": "python",
   "nbconvert_exporter": "python",
   "pygments_lexer": "ipython3",
   "version": "3.6.1"
  }
 },
 "nbformat": 4,
 "nbformat_minor": 2
}
