{
 "cells": [
  {
   "cell_type": "markdown",
   "metadata": {},
   "source": [
    "# Treating Neighborhood data"
   ]
  },
  {
   "cell_type": "code",
   "execution_count": 1,
   "metadata": {},
   "outputs": [],
   "source": [
    "import pandas as pd"
   ]
  },
  {
   "cell_type": "code",
   "execution_count": 4,
   "metadata": {},
   "outputs": [],
   "source": [
    "df = pd.read_csv('pdg_rabat_plus_quartiers.csv',delimiter=';',index_col=0)"
   ]
  },
  {
   "cell_type": "code",
   "execution_count": 8,
   "metadata": {
    "scrolled": false
   },
   "outputs": [
    {
     "data": {
      "text/html": [
       "<div>\n",
       "<style>\n",
       "    .dataframe thead tr:only-child th {\n",
       "        text-align: right;\n",
       "    }\n",
       "\n",
       "    .dataframe thead th {\n",
       "        text-align: left;\n",
       "    }\n",
       "\n",
       "    .dataframe tbody tr th {\n",
       "        vertical-align: top;\n",
       "    }\n",
       "</style>\n",
       "<table border=\"1\" class=\"dataframe\">\n",
       "  <thead>\n",
       "    <tr style=\"text-align: right;\">\n",
       "      <th></th>\n",
       "      <th>pharmacie</th>\n",
       "      <th>lien</th>\n",
       "      <th>access</th>\n",
       "      <th>coordonnee</th>\n",
       "      <th>quartier</th>\n",
       "    </tr>\n",
       "  </thead>\n",
       "  <tbody>\n",
       "    <tr>\n",
       "      <th>0</th>\n",
       "      <td>Pharmacie  la Pinède</td>\n",
       "      <td>https://www.telecontact.ma/annonceur/pharmacie...</td>\n",
       "      <td>https://www.telecontact.ma/plan-acces/pharmaci...</td>\n",
       "      <td>33.94920717, -6.82331364</td>\n",
       "      <td>NaN</td>\n",
       "    </tr>\n",
       "    <tr>\n",
       "      <th>1</th>\n",
       "      <td>Pharmacie  La Reussite</td>\n",
       "      <td>https://www.telecontact.ma/annonceur/pharmacie...</td>\n",
       "      <td>https://www.telecontact.ma/plan-acces/pharmaci...</td>\n",
       "      <td>33.98600103693816, -6.814933453970298</td>\n",
       "      <td>NaN</td>\n",
       "    </tr>\n",
       "    <tr>\n",
       "      <th>2</th>\n",
       "      <td>Pharmacie  La Rosee</td>\n",
       "      <td>https://www.telecontact.ma/annonceur/pharmacie...</td>\n",
       "      <td>https://www.telecontact.ma/plan-acces/pharmaci...</td>\n",
       "      <td>33.990054, -6.817109</td>\n",
       "      <td>NaN</td>\n",
       "    </tr>\n",
       "    <tr>\n",
       "      <th>3</th>\n",
       "      <td>Pharmacie  La Vitalité</td>\n",
       "      <td>https://www.telecontact.ma/annonceur/pharmacie...</td>\n",
       "      <td>https://www.telecontact.ma/plan-acces/pharmaci...</td>\n",
       "      <td>33.956908122640876, -6.859374975138053</td>\n",
       "      <td>Hay Riad</td>\n",
       "    </tr>\n",
       "    <tr>\n",
       "      <th>4</th>\n",
       "      <td>Pharmacie  le Claridge</td>\n",
       "      <td>https://www.telecontact.ma/annonceur/pharmacie...</td>\n",
       "      <td>https://www.telecontact.ma/plan-acces/pharmaci...</td>\n",
       "      <td>33.97340548733602, -6.830059771709784</td>\n",
       "      <td>NaN</td>\n",
       "    </tr>\n",
       "    <tr>\n",
       "      <th>5</th>\n",
       "      <td>Pharmacie  le Dauphin</td>\n",
       "      <td>https://www.telecontact.ma/annonceur/pharmacie...</td>\n",
       "      <td>https://www.telecontact.ma/plan-acces/pharmaci...</td>\n",
       "      <td>34.030926, -6.82064244</td>\n",
       "      <td>Quartier Hassan</td>\n",
       "    </tr>\n",
       "    <tr>\n",
       "      <th>6</th>\n",
       "      <td>Pharmacie  les Almohades</td>\n",
       "      <td>https://www.telecontact.ma/annonceur/pharmacie...</td>\n",
       "      <td>https://www.telecontact.ma/plan-acces/pharmaci...</td>\n",
       "      <td>34.02123147, -6.8247864</td>\n",
       "      <td>Quartier Hassan</td>\n",
       "    </tr>\n",
       "    <tr>\n",
       "      <th>7</th>\n",
       "      <td>Pharmacie  les Arcades</td>\n",
       "      <td>https://www.telecontact.ma/annonceur/pharmacie...</td>\n",
       "      <td>https://www.telecontact.ma/plan-acces/pharmaci...</td>\n",
       "      <td>34.01230824, -6.84258984</td>\n",
       "      <td>Quartier Des Orangers</td>\n",
       "    </tr>\n",
       "    <tr>\n",
       "      <th>8</th>\n",
       "      <td>Pharmacie  les colonnes</td>\n",
       "      <td>https://www.telecontact.ma/annonceur/pharmacie...</td>\n",
       "      <td>https://www.telecontact.ma/plan-acces/pharmaci...</td>\n",
       "      <td>34.01333109, -6.82260192</td>\n",
       "      <td>Quartier Administratif</td>\n",
       "    </tr>\n",
       "    <tr>\n",
       "      <th>9</th>\n",
       "      <td>Pharmacie  Les Iris</td>\n",
       "      <td>https://www.telecontact.ma/annonceur/pharmacie...</td>\n",
       "      <td>https://www.telecontact.ma/plan-acces/pharmaci...</td>\n",
       "      <td>33.99807573, -6.85113696</td>\n",
       "      <td>Agdal</td>\n",
       "    </tr>\n",
       "  </tbody>\n",
       "</table>\n",
       "</div>"
      ],
      "text/plain": [
       "                  pharmacie  \\\n",
       "0      Pharmacie  la Pinède   \n",
       "1    Pharmacie  La Reussite   \n",
       "2       Pharmacie  La Rosee   \n",
       "3    Pharmacie  La Vitalité   \n",
       "4    Pharmacie  le Claridge   \n",
       "5     Pharmacie  le Dauphin   \n",
       "6  Pharmacie  les Almohades   \n",
       "7    Pharmacie  les Arcades   \n",
       "8   Pharmacie  les colonnes   \n",
       "9       Pharmacie  Les Iris   \n",
       "\n",
       "                                                lien  \\\n",
       "0  https://www.telecontact.ma/annonceur/pharmacie...   \n",
       "1  https://www.telecontact.ma/annonceur/pharmacie...   \n",
       "2  https://www.telecontact.ma/annonceur/pharmacie...   \n",
       "3  https://www.telecontact.ma/annonceur/pharmacie...   \n",
       "4  https://www.telecontact.ma/annonceur/pharmacie...   \n",
       "5  https://www.telecontact.ma/annonceur/pharmacie...   \n",
       "6  https://www.telecontact.ma/annonceur/pharmacie...   \n",
       "7  https://www.telecontact.ma/annonceur/pharmacie...   \n",
       "8  https://www.telecontact.ma/annonceur/pharmacie...   \n",
       "9  https://www.telecontact.ma/annonceur/pharmacie...   \n",
       "\n",
       "                                              access  \\\n",
       "0  https://www.telecontact.ma/plan-acces/pharmaci...   \n",
       "1  https://www.telecontact.ma/plan-acces/pharmaci...   \n",
       "2  https://www.telecontact.ma/plan-acces/pharmaci...   \n",
       "3  https://www.telecontact.ma/plan-acces/pharmaci...   \n",
       "4  https://www.telecontact.ma/plan-acces/pharmaci...   \n",
       "5  https://www.telecontact.ma/plan-acces/pharmaci...   \n",
       "6  https://www.telecontact.ma/plan-acces/pharmaci...   \n",
       "7  https://www.telecontact.ma/plan-acces/pharmaci...   \n",
       "8  https://www.telecontact.ma/plan-acces/pharmaci...   \n",
       "9  https://www.telecontact.ma/plan-acces/pharmaci...   \n",
       "\n",
       "                               coordonnee                quartier  \n",
       "0                33.94920717, -6.82331364                     NaN  \n",
       "1   33.98600103693816, -6.814933453970298                     NaN  \n",
       "2                    33.990054, -6.817109                     NaN  \n",
       "3  33.956908122640876, -6.859374975138053                Hay Riad  \n",
       "4   33.97340548733602, -6.830059771709784                     NaN  \n",
       "5                  34.030926, -6.82064244         Quartier Hassan  \n",
       "6                 34.02123147, -6.8247864         Quartier Hassan  \n",
       "7                34.01230824, -6.84258984   Quartier Des Orangers  \n",
       "8                34.01333109, -6.82260192  Quartier Administratif  \n",
       "9                33.99807573, -6.85113696                   Agdal  "
      ]
     },
     "execution_count": 8,
     "metadata": {},
     "output_type": "execute_result"
    }
   ],
   "source": [
    "df.head(10)"
   ]
  },
  {
   "cell_type": "code",
   "execution_count": 19,
   "metadata": {},
   "outputs": [
    {
     "data": {
      "text/plain": [
       "Index(['quartier'], dtype='object')"
      ]
     },
     "execution_count": 19,
     "metadata": {},
     "output_type": "execute_result"
    }
   ],
   "source": [
    "null_columns=df.columns[df.isnull().any()]\n",
    "null_columns"
   ]
  },
  {
   "cell_type": "code",
   "execution_count": 20,
   "metadata": {},
   "outputs": [
    {
     "data": {
      "text/plain": [
       "quartier    168\n",
       "dtype: int64"
      ]
     },
     "execution_count": 20,
     "metadata": {},
     "output_type": "execute_result"
    }
   ],
   "source": [
    "df[null_columns].isnull().sum()"
   ]
  },
  {
   "cell_type": "code",
   "execution_count": null,
   "metadata": {},
   "outputs": [],
   "source": []
  }
 ],
 "metadata": {
  "kernelspec": {
   "display_name": "Python 3",
   "language": "python",
   "name": "python3"
  },
  "language_info": {
   "codemirror_mode": {
    "name": "ipython",
    "version": 3
   },
   "file_extension": ".py",
   "mimetype": "text/x-python",
   "name": "python",
   "nbconvert_exporter": "python",
   "pygments_lexer": "ipython3",
   "version": "3.6.1"
  }
 },
 "nbformat": 4,
 "nbformat_minor": 2
}
