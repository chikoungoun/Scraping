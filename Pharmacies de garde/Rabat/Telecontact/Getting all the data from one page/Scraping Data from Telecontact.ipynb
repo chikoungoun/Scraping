{
 "cells": [
  {
   "cell_type": "markdown",
   "metadata": {},
   "source": [
    "# Scraping Name, phone, adress & coordinates from telecontact"
   ]
  },
  {
   "cell_type": "markdown",
   "metadata": {},
   "source": [
    "## Scraping functions"
   ]
  },
  {
   "cell_type": "markdown",
   "metadata": {},
   "source": [
    "* **Names**"
   ]
  },
  {
   "cell_type": "code",
   "execution_count": 1,
   "metadata": {},
   "outputs": [],
   "source": [
    "def scrape_name(soup):\n",
    "    name = soup.find('h1',id='lenom').text\n",
    "    return name.strip()"
   ]
  },
  {
   "cell_type": "markdown",
   "metadata": {},
   "source": [
    "* **Phones**"
   ]
  },
  {
   "cell_type": "code",
   "execution_count": 2,
   "metadata": {},
   "outputs": [],
   "source": [
    "def scrape_phone(soup):\n",
    "    return soup.find('div',class_='letel').find('strong').text"
   ]
  },
  {
   "cell_type": "markdown",
   "metadata": {},
   "source": [
    "* **Adresses**"
   ]
  },
  {
   "cell_type": "code",
   "execution_count": 3,
   "metadata": {},
   "outputs": [],
   "source": [
    "def scrape_adresse(soup):\n",
    "    adress = soup.find('div',class_='col-md-3 col-xs-12 col-sm-6 no-margin').text\n",
    "    return adress.replace(\"\\n\",\"\").replace(\"\\t\",\"\").replace(\"Adresse\",\"\").replace('  ','')"
   ]
  },
  {
   "cell_type": "markdown",
   "metadata": {},
   "source": [
    "* **Coordinates**"
   ]
  },
  {
   "cell_type": "code",
   "execution_count": 4,
   "metadata": {},
   "outputs": [],
   "source": [
    "def scrape_coordinate(response):\n",
    "    \n",
    "    s = response\n",
    "    \n",
    "    if((\"LatLng(,\" in response) == True):\n",
    "        return \"NO COORDINATES\"\n",
    "    \n",
    "    print('LatLng' in response)\n",
    "    print(s.find('LatLng'))\n",
    "    deb = s.find('LatLng')\n",
    "    print(deb)\n",
    "    LatLng = s[deb:]\n",
    "    fin = LatLng.find(')')\n",
    "    LatLng_full = LatLng[:fin+1]\n",
    "\n",
    "    return LatLng_full[LatLng_full.find('(')+1:LatLng_full.find(')')]"
   ]
  },
  {
   "cell_type": "markdown",
   "metadata": {},
   "source": [
    "## Principal Link structure"
   ]
  },
  {
   "cell_type": "code",
   "execution_count": 5,
   "metadata": {},
   "outputs": [],
   "source": [
    "url =\"https://www.telecontact.ma/liens/pharmacies/rabat.php&page=\""
   ]
  },
  {
   "cell_type": "code",
   "execution_count": 6,
   "metadata": {},
   "outputs": [],
   "source": [
    "from bs4 import BeautifulSoup"
   ]
  },
  {
   "cell_type": "code",
   "execution_count": 7,
   "metadata": {},
   "outputs": [],
   "source": [
    "from time import time\n",
    "from time import sleep\n",
    "from random import randint"
   ]
  },
  {
   "cell_type": "code",
   "execution_count": 8,
   "metadata": {},
   "outputs": [],
   "source": [
    "start_time = time()\n",
    "requests = 0"
   ]
  },
  {
   "cell_type": "code",
   "execution_count": 9,
   "metadata": {},
   "outputs": [],
   "source": [
    "from requests import get"
   ]
  },
  {
   "cell_type": "code",
   "execution_count": 10,
   "metadata": {
    "scrolled": true
   },
   "outputs": [
    {
     "name": "stdout",
     "output_type": "stream",
     "text": [
      " --- ---  PAGE 1 --- ---\n",
      "https://www.telecontact.ma/liens/pharmacies/rabat.php&page=1\n",
      "13\n",
      "https://www.telecontact.ma/annonceur/pharmacie-du-soleil-/0326700/rabat.php\n",
      "True\n",
      "67446\n",
      "67446\n",
      "https://www.telecontact.ma/annonceur/pharmacie-du-th-tre-/2182000/rabat.php\n",
      "True\n",
      "68031\n",
      "68031\n",
      "https://www.telecontact.ma/annonceur/pharmacie-el-mellah-/3316244/rabat.php\n",
      "https://www.telecontact.ma/annonceur/pharmacie-elamine-/1481000/rabat.php\n",
      "True\n",
      "67721\n",
      "67721\n",
      "https://www.telecontact.ma/annonceur/pharmacie-elatlas-/2149341/rabat.php\n",
      "True\n",
      "67672\n",
      "67672\n",
      "https://www.telecontact.ma/annonceur/pharmacie-elguich-/2194762/rabat.php\n",
      "True\n",
      "69227\n",
      "69227\n",
      "https://www.telecontact.ma/annonceur/pharmacie-elhanae-/2183062/rabat.php\n",
      "True\n",
      "68335\n",
      "68335\n",
      "https://www.telecontact.ma/annonceur/pharmacie-elighata-/3036304/rabat.php\n",
      "True\n",
      "67987\n",
      "67987\n",
      "https://www.telecontact.ma/annonceur/pharmacie-elinbiat-/2191267/rabat.php\n",
      "True\n",
      "67295\n",
      "67295\n",
      "https://www.telecontact.ma/annonceur/pharmacie-elirfane-/2159702/rabat.php\n",
      "True\n",
      "68141\n",
      "68141\n",
      "https://www.telecontact.ma/annonceur/pharmacie-eljoulane-/2191784/rabat.php\n",
      "True\n",
      "67642\n",
      "67642\n",
      "https://www.telecontact.ma/annonceur/pharmacie-elkamra-/2207078/rabat.php\n",
      "True\n",
      "67616\n",
      "67616\n",
      "https://www.telecontact.ma/annonceur/pharmacie-elkouass-/0322300/rabat.php\n",
      "True\n",
      "67784\n",
      "67784\n",
      "https://www.telecontact.ma/annonceur/pharmacie-elmansour-/1793900/rabat.php\n",
      "True\n",
      "68274\n",
      "68274\n",
      "https://www.telecontact.ma/annonceur/pharmacie-elmanzeh-/1794300/rabat.php\n",
      "True\n",
      "68248\n",
      "68248\n",
      "https://www.telecontact.ma/annonceur/pharmacie-elmouna-/2190434/rabat.php\n",
      "True\n",
      "68094\n",
      "68094\n",
      "https://www.telecontact.ma/annonceur/pharmacie-eloumnia-/3035594/rabat.php\n",
      "True\n",
      "68104\n",
      "68104\n",
      "https://www.telecontact.ma/annonceur/pharmacie-elwafaa-/2155458/rabat.php\n",
      "True\n",
      "68049\n",
      "68049\n",
      "https://www.telecontact.ma/annonceur/pharmacie-elwahda-/2156587/rabat.php\n",
      "True\n",
      "68361\n",
      "68361\n",
      "https://www.telecontact.ma/annonceur/pharmacie-ennasr-/0322600/rabat.php\n",
      "True\n",
      "67383\n",
      "67383\n",
      " *** DONE ***\n"
     ]
    }
   ],
   "source": [
    "liens =[]\n",
    "\n",
    "noms = []\n",
    "phones = []\n",
    "adresses = []\n",
    "coors = []\n",
    "\n",
    "z = 1\n",
    "while(z < 2):\n",
    "    print(\" --- ---  PAGE \"+str(z)+\" --- ---\")\n",
    "    print(url+str(z))\n",
    "    lien = url+str(z)\n",
    "    \n",
    "    response = get(lien)\n",
    "    \n",
    "    timer = randint(8,15)\n",
    "    #pause de loop\n",
    "    print(timer)\n",
    "    sleep(timer)\n",
    "    \n",
    "    #Scraping the links\n",
    "    soup = BeautifulSoup(response.text,'html.parser')\n",
    "    \n",
    "    results = soup.find_all('article',class_='drs col-xs-12')\n",
    "    \n",
    "    for i in results:\n",
    "        link = \"https://www.telecontact.ma\"+str(i.find('span',id='resultats_h3_span').findAll('a')[1]['href'])\n",
    "        print(link)\n",
    "        liens.append(link)\n",
    "        \n",
    "        resp = get(link)\n",
    "        s = BeautifulSoup(resp.text,'html.parser')\n",
    "        \n",
    "        noms.append(scrape_name(s))\n",
    "        phones.append(scrape_phone(s))\n",
    "        adresses.append(scrape_adresse(s))\n",
    "        coors.append(scrape_coordinate(resp.text))\n",
    "    ######\n",
    "    z = z + 1\n",
    "    \n",
    "    \n",
    "    \n",
    "    \n",
    "print(\" *** DONE ***\")\n",
    "\n"
   ]
  },
  {
   "cell_type": "code",
   "execution_count": 11,
   "metadata": {},
   "outputs": [
    {
     "data": {
      "text/plain": [
       "['https://www.telecontact.ma/annonceur/pharmacie-du-soleil-/0326700/rabat.php',\n",
       " 'https://www.telecontact.ma/annonceur/pharmacie-du-th-tre-/2182000/rabat.php',\n",
       " 'https://www.telecontact.ma/annonceur/pharmacie-el-mellah-/3316244/rabat.php',\n",
       " 'https://www.telecontact.ma/annonceur/pharmacie-elamine-/1481000/rabat.php',\n",
       " 'https://www.telecontact.ma/annonceur/pharmacie-elatlas-/2149341/rabat.php']"
      ]
     },
     "execution_count": 11,
     "metadata": {},
     "output_type": "execute_result"
    }
   ],
   "source": [
    "liens[:5]"
   ]
  },
  {
   "cell_type": "code",
   "execution_count": 12,
   "metadata": {},
   "outputs": [
    {
     "data": {
      "text/plain": [
       "['Pharmacie du Soleil',\n",
       " 'Pharmacie du Théâtre',\n",
       " 'Pharmacie El Mellah',\n",
       " 'Pharmacie ElAmine',\n",
       " 'Pharmacie ElAtlas']"
      ]
     },
     "execution_count": 12,
     "metadata": {},
     "output_type": "execute_result"
    }
   ],
   "source": [
    "noms[:5]"
   ]
  },
  {
   "cell_type": "code",
   "execution_count": 13,
   "metadata": {},
   "outputs": [
    {
     "data": {
      "text/plain": [
       "['05 37 72 46 63',\n",
       " '05 37 70 27 94',\n",
       " '05 37 20 18 02',\n",
       " '05 37 72 69 32',\n",
       " '05 37 69 23 59']"
      ]
     },
     "execution_count": 13,
     "metadata": {},
     "output_type": "execute_result"
    }
   ],
   "source": [
    "phones[:5]"
   ]
  },
  {
   "cell_type": "code",
   "execution_count": 14,
   "metadata": {},
   "outputs": [
    {
     "data": {
      "text/plain": [
       "[' 16, rue Dar El BeïdaRABAT',\n",
       " ' 11, rue Haj Abdeslam Kabbaj -ex AlmarjRABAT',\n",
       " ' 7, impasse Assouli , El mellah RABAT',\n",
       " ' 281, avenue Hassan IIRABAT',\n",
       " ' 204, avenue Sidi Mohamed Ben Abdallah , sect. C cym. RABAT']"
      ]
     },
     "execution_count": 14,
     "metadata": {},
     "output_type": "execute_result"
    }
   ],
   "source": [
    "adresses[:5]"
   ]
  },
  {
   "cell_type": "code",
   "execution_count": null,
   "metadata": {},
   "outputs": [],
   "source": []
  }
 ],
 "metadata": {
  "kernelspec": {
   "display_name": "Python 3",
   "language": "python",
   "name": "python3"
  },
  "language_info": {
   "codemirror_mode": {
    "name": "ipython",
    "version": 3
   },
   "file_extension": ".py",
   "mimetype": "text/x-python",
   "name": "python",
   "nbconvert_exporter": "python",
   "pygments_lexer": "ipython3",
   "version": "3.6.1"
  }
 },
 "nbformat": 4,
 "nbformat_minor": 2
}
