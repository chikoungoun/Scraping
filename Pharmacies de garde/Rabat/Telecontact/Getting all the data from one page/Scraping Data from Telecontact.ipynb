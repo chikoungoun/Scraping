{
 "cells": [
  {
   "cell_type": "markdown",
   "metadata": {},
   "source": [
    "# Scraping Name, phone, adress & coordinates from telecontact"
   ]
  },
  {
   "cell_type": "markdown",
   "metadata": {},
   "source": [
    "## Scraping functions"
   ]
  },
  {
   "cell_type": "markdown",
   "metadata": {},
   "source": [
    "* **Names**"
   ]
  },
  {
   "cell_type": "code",
   "execution_count": 1,
   "metadata": {},
   "outputs": [],
   "source": [
    "def scrape_name(soup):\n",
    "    name = soup.find('h1',id='lenom').text\n",
    "    return name.strip()"
   ]
  },
  {
   "cell_type": "markdown",
   "metadata": {},
   "source": [
    "* **Phones**"
   ]
  },
  {
   "cell_type": "code",
   "execution_count": 2,
   "metadata": {},
   "outputs": [],
   "source": [
    "def scrape_phone(soup):\n",
    "    return soup.find('div',class_='letel').find('strong').text"
   ]
  },
  {
   "cell_type": "markdown",
   "metadata": {},
   "source": [
    "* **Adresses**"
   ]
  },
  {
   "cell_type": "code",
   "execution_count": 3,
   "metadata": {},
   "outputs": [],
   "source": [
    "def scrape_adresse(soup):\n",
    "    adress = soup.find('div',class_='col-md-3 col-xs-12 col-sm-6 no-margin').text\n",
    "    return adress.replace(\"\\n\",\"\").replace(\"\\t\",\"\").replace(\"Adresse\",\"\").replace('  ','')"
   ]
  },
  {
   "cell_type": "markdown",
   "metadata": {},
   "source": [
    "* **Coordinates**"
   ]
  },
  {
   "cell_type": "code",
   "execution_count": 4,
   "metadata": {},
   "outputs": [],
   "source": [
    "def scrape_coordinate(response):\n",
    "    \n",
    "    s = response\n",
    "    \n",
    "    if((\"LatLng(,\" in response) == True):\n",
    "        return \"NO COORDINATES\"\n",
    "    \n",
    "    print('LatLng' in response)\n",
    "    print(s.find('LatLng'))\n",
    "    deb = s.find('LatLng')\n",
    "    print(deb)\n",
    "    LatLng = s[deb:]\n",
    "    fin = LatLng.find(')')\n",
    "    LatLng_full = LatLng[:fin+1]\n",
    "\n",
    "    return LatLng_full[LatLng_full.find('(')+1:LatLng_full.find(')')]"
   ]
  },
  {
   "cell_type": "markdown",
   "metadata": {},
   "source": [
    "## Principal Link structure"
   ]
  },
  {
   "cell_type": "code",
   "execution_count": 5,
   "metadata": {},
   "outputs": [],
   "source": [
    "url =\"https://www.telecontact.ma/liens/pharmacies/rabat.php&page=\""
   ]
  },
  {
   "cell_type": "code",
   "execution_count": 6,
   "metadata": {},
   "outputs": [],
   "source": [
    "from bs4 import BeautifulSoup"
   ]
  },
  {
   "cell_type": "code",
   "execution_count": 7,
   "metadata": {},
   "outputs": [],
   "source": [
    "from time import time\n",
    "from time import sleep\n",
    "from random import randint"
   ]
  },
  {
   "cell_type": "code",
   "execution_count": 8,
   "metadata": {},
   "outputs": [],
   "source": [
    "start_time = time()\n",
    "requests = 0"
   ]
  },
  {
   "cell_type": "code",
   "execution_count": 9,
   "metadata": {},
   "outputs": [],
   "source": [
    "from requests import get"
   ]
  },
  {
   "cell_type": "code",
   "execution_count": 10,
   "metadata": {
    "scrolled": true
   },
   "outputs": [
    {
     "name": "stdout",
     "output_type": "stream",
     "text": [
      " --- ---  PAGE 1 --- ---\n",
      "https://www.telecontact.ma/liens/pharmacies/rabat.php&page=1\n",
      "15\n",
      "https://www.telecontact.ma/annonceur/pharmacie-assorour-/3311980/rabat.php\n",
      "https://www.telecontact.ma/annonceur/pharmacie-assounah-/1502500/rabat.php\n",
      "True\n",
      "68232\n",
      "68232\n",
      "https://www.telecontact.ma/annonceur/pharmacie-attaossir-/2208839/rabat.php\n",
      "True\n",
      "68029\n",
      "68029\n",
      "https://www.telecontact.ma/annonceur/pharmacie-attannoub-/3220920/rabat.php\n",
      "True\n",
      "68445\n",
      "68445\n",
      "https://www.telecontact.ma/annonceur/pharmacie-attine-/3037029/rabat.php\n",
      "True\n",
      "68215\n",
      "68215\n",
      "https://www.telecontact.ma/annonceur/pharmacie-av-mohammed-vi-/3058099/rabat.php\n",
      "True\n",
      "67931\n",
      "67931\n",
      "https://www.telecontact.ma/annonceur/pharmacie-av-goundafa-/3074441/rabat.php\n",
      "True\n",
      "68560\n",
      "68560\n",
      "https://www.telecontact.ma/annonceur/pharmacie-aya-/3110436/rabat.php\n",
      "True\n",
      "67592\n",
      "67592\n",
      "https://www.telecontact.ma/annonceur/pharmacie-azhar-/1502200/rabat.php\n",
      "True\n",
      "67767\n",
      "67767\n",
      "https://www.telecontact.ma/annonceur/pharmacie-azur-/2210272/rabat.php\n",
      "True\n",
      "67580\n",
      "67580\n",
      "https://www.telecontact.ma/annonceur/pharmacie-bab-jdid-/2217354/rabat.php\n",
      "True\n",
      "67679\n",
      "67679\n",
      "https://www.telecontact.ma/annonceur/pharmacie-bab-marrakech-/3154703/rabat.php\n",
      "True\n",
      "68413\n",
      "68413\n",
      "https://www.telecontact.ma/annonceur/pharmacie-badr-/0320600/rabat.php\n",
      "True\n",
      "67722\n",
      "67722\n",
      "https://www.telecontact.ma/annonceur/pharmacie-bayt-al-maarifa-/3220910/rabat.php\n",
      "True\n",
      "68245\n",
      "68245\n",
      "https://www.telecontact.ma/annonceur/pharmacie-bekkari-/2169057/rabat.php\n",
      "True\n",
      "67667\n",
      "67667\n",
      "https://www.telecontact.ma/annonceur/pharmacie-belmahi-/0320700/rabat.php\n",
      "True\n",
      "67793\n",
      "67793\n",
      "https://www.telecontact.ma/annonceur/pharmacie-ben-omar-/3201490/rabat.php\n",
      "True\n",
      "68350\n",
      "68350\n",
      "https://www.telecontact.ma/annonceur/pharmacie-beni-snassen-/2194112/rabat.php\n",
      "True\n",
      "69302\n",
      "69302\n",
      "https://www.telecontact.ma/annonceur/pharmacie-benjelloun-/2222708/rabat.php\n",
      "True\n",
      "67712\n",
      "67712\n",
      "https://www.telecontact.ma/annonceur/pharmacie-benyahya-/3140375/rabat.php\n",
      "True\n",
      "67381\n",
      "67381\n",
      " *** DONE ***\n"
     ]
    }
   ],
   "source": [
    "liens =[]\n",
    "\n",
    "noms = []\n",
    "phones = []\n",
    "adresses = []\n",
    "coors = []\n",
    "\n",
    "z = 1\n",
    "while(z < 2):\n",
    "    print(\" --- ---  PAGE \"+str(z)+\" --- ---\")\n",
    "    print(url+str(z))\n",
    "    lien = url+str(z)\n",
    "    \n",
    "    response = get(lien)\n",
    "    \n",
    "    timer = randint(8,15)\n",
    "    #pause de loop\n",
    "    print(timer)\n",
    "    sleep(timer)\n",
    "    \n",
    "    #Scraping the links\n",
    "    soup = BeautifulSoup(response.text,'html.parser')\n",
    "    \n",
    "    results = soup.find_all('article',class_='drs col-xs-12')\n",
    "    \n",
    "    for i in results:\n",
    "        link = \"https://www.telecontact.ma\"+str(i.find('span',id='resultats_h3_span').findAll('a')[1]['href'])\n",
    "        print(link)\n",
    "        liens.append(link)\n",
    "        \n",
    "        resp = get(link)\n",
    "        s = BeautifulSoup(resp.text,'html.parser')\n",
    "        \n",
    "        noms.append(scrape_name(s))\n",
    "        phones.append(scrape_phone(s))\n",
    "        adresses.append(scrape_adresse(s))\n",
    "        coors.append(scrape_coordinate(resp.text))\n",
    "    ######\n",
    "    z = z + 1\n",
    "    \n",
    "    \n",
    "    \n",
    "    \n",
    "print(\" *** DONE ***\")\n",
    "\n"
   ]
  },
  {
   "cell_type": "code",
   "execution_count": 11,
   "metadata": {},
   "outputs": [
    {
     "data": {
      "text/plain": [
       "['https://www.telecontact.ma/annonceur/pharmacie-assorour-/3311980/rabat.php',\n",
       " 'https://www.telecontact.ma/annonceur/pharmacie-assounah-/1502500/rabat.php',\n",
       " 'https://www.telecontact.ma/annonceur/pharmacie-attaossir-/2208839/rabat.php',\n",
       " 'https://www.telecontact.ma/annonceur/pharmacie-attannoub-/3220920/rabat.php',\n",
       " 'https://www.telecontact.ma/annonceur/pharmacie-attine-/3037029/rabat.php']"
      ]
     },
     "execution_count": 11,
     "metadata": {},
     "output_type": "execute_result"
    }
   ],
   "source": [
    "liens[:5]"
   ]
  },
  {
   "cell_type": "code",
   "execution_count": 12,
   "metadata": {},
   "outputs": [
    {
     "data": {
      "text/plain": [
       "['Pharmacie Assorour',\n",
       " 'Pharmacie Assounah',\n",
       " 'Pharmacie Attaïssir',\n",
       " 'Pharmacie Attannoub',\n",
       " 'Pharmacie Attine']"
      ]
     },
     "execution_count": 12,
     "metadata": {},
     "output_type": "execute_result"
    }
   ],
   "source": [
    "noms[:5]"
   ]
  },
  {
   "cell_type": "code",
   "execution_count": 13,
   "metadata": {},
   "outputs": [
    {
     "data": {
      "text/plain": [
       "['05 37 75 88 57',\n",
       " '05 37 76 59 95',\n",
       " '05 37 28 02 96',\n",
       " '05 37 71 38 85',\n",
       " '05 37 28 12 84']"
      ]
     },
     "execution_count": 13,
     "metadata": {},
     "output_type": "execute_result"
    }
   ],
   "source": [
    "phones[:5]"
   ]
  },
  {
   "cell_type": "code",
   "execution_count": 14,
   "metadata": {},
   "outputs": [
    {
     "data": {
      "text/plain": [
       "[' 13, quartier Youssoufia , imm.14 RABAT',\n",
       " ' 497, avenue Mohammed VRABAT',\n",
       " ' 443, hay El Manzeh (c.y.m.)RABAT',\n",
       " ' , av. Attanoub , hay Ryad 5D 11 RABAT',\n",
       " ' 830, bd Armées RoyalesRABAT']"
      ]
     },
     "execution_count": 14,
     "metadata": {},
     "output_type": "execute_result"
    }
   ],
   "source": [
    "adresses[:5]"
   ]
  },
  {
   "cell_type": "code",
   "execution_count": 15,
   "metadata": {},
   "outputs": [
    {
     "data": {
      "text/plain": [
       "['NO COORDINATES',\n",
       " '34.02632502, -6.84039492',\n",
       " '33.977022, -6.894134',\n",
       " '33.95676573663576, -6.854766940050467',\n",
       " '33.977531, -6.889314']"
      ]
     },
     "execution_count": 15,
     "metadata": {},
     "output_type": "execute_result"
    }
   ],
   "source": [
    "coors[:5]"
   ]
  },
  {
   "cell_type": "markdown",
   "metadata": {},
   "source": [
    "## Join the Data"
   ]
  },
  {
   "cell_type": "code",
   "execution_count": 16,
   "metadata": {},
   "outputs": [],
   "source": [
    "combo = []\n",
    "for i,j,k,l,m in zip(noms,liens,adresses,coors,phones):\n",
    "    \n",
    "    t = (i,j,k,l,m)\n",
    "    combo.append(t)"
   ]
  },
  {
   "cell_type": "code",
   "execution_count": 17,
   "metadata": {},
   "outputs": [
    {
     "data": {
      "text/plain": [
       "[('Pharmacie Assorour',\n",
       "  'https://www.telecontact.ma/annonceur/pharmacie-assorour-/3311980/rabat.php',\n",
       "  ' 13, quartier Youssoufia , imm.14 RABAT',\n",
       "  'NO COORDINATES',\n",
       "  '05 37 75 88 57'),\n",
       " ('Pharmacie Assounah',\n",
       "  'https://www.telecontact.ma/annonceur/pharmacie-assounah-/1502500/rabat.php',\n",
       "  ' 497, avenue Mohammed VRABAT',\n",
       "  '34.02632502, -6.84039492',\n",
       "  '05 37 76 59 95'),\n",
       " ('Pharmacie Attaïssir',\n",
       "  'https://www.telecontact.ma/annonceur/pharmacie-attaossir-/2208839/rabat.php',\n",
       "  ' 443, hay El Manzeh (c.y.m.)RABAT',\n",
       "  '33.977022, -6.894134',\n",
       "  '05 37 28 02 96'),\n",
       " ('Pharmacie Attannoub',\n",
       "  'https://www.telecontact.ma/annonceur/pharmacie-attannoub-/3220920/rabat.php',\n",
       "  ' , av. Attanoub , hay Ryad 5D 11 RABAT',\n",
       "  '33.95676573663576, -6.854766940050467',\n",
       "  '05 37 71 38 85'),\n",
       " ('Pharmacie Attine',\n",
       "  'https://www.telecontact.ma/annonceur/pharmacie-attine-/3037029/rabat.php',\n",
       "  ' 830, bd Armées RoyalesRABAT',\n",
       "  '33.977531, -6.889314',\n",
       "  '05 37 28 12 84'),\n",
       " ('Pharmacie av Mohammed VI',\n",
       "  'https://www.telecontact.ma/annonceur/pharmacie-av-mohammed-vi-/3058099/rabat.php',\n",
       "  ' K050, avenue Imam Malik - ex Zaers , c.com. des Ambassadeurs, Km 5 RABAT',\n",
       "  '33.96110840259192, -6.826134358816489',\n",
       "  '05 37 65 06 74'),\n",
       " ('Pharmacie Av. Goundafa',\n",
       "  'https://www.telecontact.ma/annonceur/pharmacie-av-goundafa-/3074441/rabat.php',\n",
       "  ' , quartier Bou Regreg , rue 43 n°9 Youssoufia RABAT',\n",
       "  '33.98359239083203, -6.818929945402488',\n",
       "  '05 37 75 27 22'),\n",
       " ('Pharmacie Aya',\n",
       "  'https://www.telecontact.ma/annonceur/pharmacie-aya-/3110436/rabat.php',\n",
       "  ' , rue Al Hachimi El Mestari , Kbibat Akkari RABAT',\n",
       "  '34.01634679641305, -6.857203726940497',\n",
       "  '05 37 69 33 88'),\n",
       " ('Pharmacie Azhar',\n",
       "  'https://www.telecontact.ma/annonceur/pharmacie-azhar-/1502200/rabat.php',\n",
       "  ' 44, av Al Amir Fal Ould Oumeir , Agdal RABAT',\n",
       "  '34.00268301, -6.851205',\n",
       "  '05 37 68 08 17'),\n",
       " ('Pharmacie Azur',\n",
       "  'https://www.telecontact.ma/annonceur/pharmacie-azur-/2210272/rabat.php',\n",
       "  ' 80, hay El Guich des Oudayas RABAT',\n",
       "  '33.936475520157, -6.887599860601767',\n",
       "  '05 37 56 15 92'),\n",
       " ('Pharmacie Bab Jdid',\n",
       "  'https://www.telecontact.ma/annonceur/pharmacie-bab-jdid-/2217354/rabat.php',\n",
       "  ' 265, avenue Mohammed V , Legza RABAT',\n",
       "  '34.0207704, -6.83731476',\n",
       "  '05 37 72 62 27'),\n",
       " ('Pharmacie Bab Marrakech',\n",
       "  'https://www.telecontact.ma/annonceur/pharmacie-bab-marrakech-/3154703/rabat.php',\n",
       "  ' 1, rue Al Achaari , Agdal RABAT',\n",
       "  '34.01502174, -6.84619884',\n",
       "  '05 37 77 95 00'),\n",
       " ('Pharmacie Badr',\n",
       "  'https://www.telecontact.ma/annonceur/pharmacie-badr-/0320600/rabat.php',\n",
       "  ' 15, av Al Amir Fal Ould OumeirRABAT',\n",
       "  '34.00268301, -6.851205',\n",
       "  '05 37 77 34 62'),\n",
       " ('Pharmacie Bayt Al Maarifa',\n",
       "  'https://www.telecontact.ma/annonceur/pharmacie-bayt-al-maarifa-/3220910/rabat.php',\n",
       "  ' 1, avenue Allal El Fassi , résid. Bayt Al Maarifa RABAT',\n",
       "  '33.98442864135213, -6.862944995336875',\n",
       "  '05 37 77 07 38'),\n",
       " ('Pharmacie Bekkari',\n",
       "  'https://www.telecontact.ma/annonceur/pharmacie-bekkari-/2169057/rabat.php',\n",
       "  ' 285, rue Oulfa , Amal III bloc \"R\" RABAT',\n",
       "  '33.97855446, -6.88348584',\n",
       "  '05 37 79 41 84'),\n",
       " ('Pharmacie Belmahi',\n",
       "  'https://www.telecontact.ma/annonceur/pharmacie-belmahi-/0320700/rabat.php',\n",
       "  ' 1, rue du Tonkin , diour Jamaâ RABAT',\n",
       "  '34.01636346, -6.85016316',\n",
       "  '05 37 72 26 50'),\n",
       " ('Pharmacie Ben Omar',\n",
       "  'https://www.telecontact.ma/annonceur/pharmacie-ben-omar-/3201490/rabat.php',\n",
       "  ' 72, avenue du Chellah -ex Abderrahmane AnnegayRABAT',\n",
       "  '34.01563248, -6.82713288',\n",
       "  '05 37 76 99 30'),\n",
       " ('Pharmacie Beni Snassen',\n",
       "  'https://www.telecontact.ma/annonceur/pharmacie-beni-snassen-/2194112/rabat.php',\n",
       "  ' , bd Mehdi Benbarka , Souissi RABAT',\n",
       "  '33.964783477434445, -6.851980124883994',\n",
       "  '05 37 75 76 72'),\n",
       " ('Pharmacie Benjelloun',\n",
       "  'https://www.telecontact.ma/annonceur/pharmacie-benjelloun-/2222708/rabat.php',\n",
       "  ' 3, rue Zerhoun , Souissi RABAT',\n",
       "  '33.95991654, -6.83721648',\n",
       "  '05 37 63 68 64'),\n",
       " ('Pharmacie Benyahya',\n",
       "  'https://www.telecontact.ma/annonceur/pharmacie-benyahya-/3140375/rabat.php',\n",
       "  ' 457, avenue Hassan II , résid. Mariam RABAT',\n",
       "  '34.00571423438301, -6.856611721737636',\n",
       "  '05 37 69 39 00')]"
      ]
     },
     "execution_count": 17,
     "metadata": {},
     "output_type": "execute_result"
    }
   ],
   "source": [
    "combo"
   ]
  },
  {
   "cell_type": "markdown",
   "metadata": {},
   "source": [
    "### Convert into a pandas Object"
   ]
  },
  {
   "cell_type": "code",
   "execution_count": 18,
   "metadata": {},
   "outputs": [],
   "source": [
    "import pandas as pd"
   ]
  },
  {
   "cell_type": "code",
   "execution_count": 19,
   "metadata": {},
   "outputs": [],
   "source": [
    "df = pd.DataFrame(combo,columns=['pharmacie','lien','adresse','coordonnee','telephone'])"
   ]
  },
  {
   "cell_type": "code",
   "execution_count": 20,
   "metadata": {},
   "outputs": [
    {
     "data": {
      "text/html": [
       "<div>\n",
       "<style>\n",
       "    .dataframe thead tr:only-child th {\n",
       "        text-align: right;\n",
       "    }\n",
       "\n",
       "    .dataframe thead th {\n",
       "        text-align: left;\n",
       "    }\n",
       "\n",
       "    .dataframe tbody tr th {\n",
       "        vertical-align: top;\n",
       "    }\n",
       "</style>\n",
       "<table border=\"1\" class=\"dataframe\">\n",
       "  <thead>\n",
       "    <tr style=\"text-align: right;\">\n",
       "      <th></th>\n",
       "      <th>pharmacie</th>\n",
       "      <th>lien</th>\n",
       "      <th>adresse</th>\n",
       "      <th>coordonnee</th>\n",
       "      <th>telephone</th>\n",
       "    </tr>\n",
       "  </thead>\n",
       "  <tbody>\n",
       "    <tr>\n",
       "      <th>0</th>\n",
       "      <td>Pharmacie Assorour</td>\n",
       "      <td>https://www.telecontact.ma/annonceur/pharmacie...</td>\n",
       "      <td>13, quartier Youssoufia , imm.14 RABAT</td>\n",
       "      <td>NO COORDINATES</td>\n",
       "      <td>05 37 75 88 57</td>\n",
       "    </tr>\n",
       "    <tr>\n",
       "      <th>1</th>\n",
       "      <td>Pharmacie Assounah</td>\n",
       "      <td>https://www.telecontact.ma/annonceur/pharmacie...</td>\n",
       "      <td>497, avenue Mohammed VRABAT</td>\n",
       "      <td>34.02632502, -6.84039492</td>\n",
       "      <td>05 37 76 59 95</td>\n",
       "    </tr>\n",
       "    <tr>\n",
       "      <th>2</th>\n",
       "      <td>Pharmacie Attaïssir</td>\n",
       "      <td>https://www.telecontact.ma/annonceur/pharmacie...</td>\n",
       "      <td>443, hay El Manzeh (c.y.m.)RABAT</td>\n",
       "      <td>33.977022, -6.894134</td>\n",
       "      <td>05 37 28 02 96</td>\n",
       "    </tr>\n",
       "    <tr>\n",
       "      <th>3</th>\n",
       "      <td>Pharmacie Attannoub</td>\n",
       "      <td>https://www.telecontact.ma/annonceur/pharmacie...</td>\n",
       "      <td>, av. Attanoub , hay Ryad 5D 11 RABAT</td>\n",
       "      <td>33.95676573663576, -6.854766940050467</td>\n",
       "      <td>05 37 71 38 85</td>\n",
       "    </tr>\n",
       "    <tr>\n",
       "      <th>4</th>\n",
       "      <td>Pharmacie Attine</td>\n",
       "      <td>https://www.telecontact.ma/annonceur/pharmacie...</td>\n",
       "      <td>830, bd Armées RoyalesRABAT</td>\n",
       "      <td>33.977531, -6.889314</td>\n",
       "      <td>05 37 28 12 84</td>\n",
       "    </tr>\n",
       "    <tr>\n",
       "      <th>5</th>\n",
       "      <td>Pharmacie av Mohammed VI</td>\n",
       "      <td>https://www.telecontact.ma/annonceur/pharmacie...</td>\n",
       "      <td>K050, avenue Imam Malik - ex Zaers , c.com. d...</td>\n",
       "      <td>33.96110840259192, -6.826134358816489</td>\n",
       "      <td>05 37 65 06 74</td>\n",
       "    </tr>\n",
       "    <tr>\n",
       "      <th>6</th>\n",
       "      <td>Pharmacie Av. Goundafa</td>\n",
       "      <td>https://www.telecontact.ma/annonceur/pharmacie...</td>\n",
       "      <td>, quartier Bou Regreg , rue 43 n°9 Youssoufia...</td>\n",
       "      <td>33.98359239083203, -6.818929945402488</td>\n",
       "      <td>05 37 75 27 22</td>\n",
       "    </tr>\n",
       "    <tr>\n",
       "      <th>7</th>\n",
       "      <td>Pharmacie Aya</td>\n",
       "      <td>https://www.telecontact.ma/annonceur/pharmacie...</td>\n",
       "      <td>, rue Al Hachimi El Mestari , Kbibat Akkari R...</td>\n",
       "      <td>34.01634679641305, -6.857203726940497</td>\n",
       "      <td>05 37 69 33 88</td>\n",
       "    </tr>\n",
       "    <tr>\n",
       "      <th>8</th>\n",
       "      <td>Pharmacie Azhar</td>\n",
       "      <td>https://www.telecontact.ma/annonceur/pharmacie...</td>\n",
       "      <td>44, av Al Amir Fal Ould Oumeir , Agdal RABAT</td>\n",
       "      <td>34.00268301, -6.851205</td>\n",
       "      <td>05 37 68 08 17</td>\n",
       "    </tr>\n",
       "    <tr>\n",
       "      <th>9</th>\n",
       "      <td>Pharmacie Azur</td>\n",
       "      <td>https://www.telecontact.ma/annonceur/pharmacie...</td>\n",
       "      <td>80, hay El Guich des Oudayas RABAT</td>\n",
       "      <td>33.936475520157, -6.887599860601767</td>\n",
       "      <td>05 37 56 15 92</td>\n",
       "    </tr>\n",
       "    <tr>\n",
       "      <th>10</th>\n",
       "      <td>Pharmacie Bab Jdid</td>\n",
       "      <td>https://www.telecontact.ma/annonceur/pharmacie...</td>\n",
       "      <td>265, avenue Mohammed V , Legza RABAT</td>\n",
       "      <td>34.0207704, -6.83731476</td>\n",
       "      <td>05 37 72 62 27</td>\n",
       "    </tr>\n",
       "    <tr>\n",
       "      <th>11</th>\n",
       "      <td>Pharmacie Bab Marrakech</td>\n",
       "      <td>https://www.telecontact.ma/annonceur/pharmacie...</td>\n",
       "      <td>1, rue Al Achaari , Agdal RABAT</td>\n",
       "      <td>34.01502174, -6.84619884</td>\n",
       "      <td>05 37 77 95 00</td>\n",
       "    </tr>\n",
       "    <tr>\n",
       "      <th>12</th>\n",
       "      <td>Pharmacie Badr</td>\n",
       "      <td>https://www.telecontact.ma/annonceur/pharmacie...</td>\n",
       "      <td>15, av Al Amir Fal Ould OumeirRABAT</td>\n",
       "      <td>34.00268301, -6.851205</td>\n",
       "      <td>05 37 77 34 62</td>\n",
       "    </tr>\n",
       "    <tr>\n",
       "      <th>13</th>\n",
       "      <td>Pharmacie Bayt Al Maarifa</td>\n",
       "      <td>https://www.telecontact.ma/annonceur/pharmacie...</td>\n",
       "      <td>1, avenue Allal El Fassi , résid. Bayt Al Maa...</td>\n",
       "      <td>33.98442864135213, -6.862944995336875</td>\n",
       "      <td>05 37 77 07 38</td>\n",
       "    </tr>\n",
       "    <tr>\n",
       "      <th>14</th>\n",
       "      <td>Pharmacie Bekkari</td>\n",
       "      <td>https://www.telecontact.ma/annonceur/pharmacie...</td>\n",
       "      <td>285, rue Oulfa , Amal III bloc \"R\" RABAT</td>\n",
       "      <td>33.97855446, -6.88348584</td>\n",
       "      <td>05 37 79 41 84</td>\n",
       "    </tr>\n",
       "    <tr>\n",
       "      <th>15</th>\n",
       "      <td>Pharmacie Belmahi</td>\n",
       "      <td>https://www.telecontact.ma/annonceur/pharmacie...</td>\n",
       "      <td>1, rue du Tonkin , diour Jamaâ RABAT</td>\n",
       "      <td>34.01636346, -6.85016316</td>\n",
       "      <td>05 37 72 26 50</td>\n",
       "    </tr>\n",
       "    <tr>\n",
       "      <th>16</th>\n",
       "      <td>Pharmacie Ben Omar</td>\n",
       "      <td>https://www.telecontact.ma/annonceur/pharmacie...</td>\n",
       "      <td>72, avenue du Chellah -ex Abderrahmane Annega...</td>\n",
       "      <td>34.01563248, -6.82713288</td>\n",
       "      <td>05 37 76 99 30</td>\n",
       "    </tr>\n",
       "    <tr>\n",
       "      <th>17</th>\n",
       "      <td>Pharmacie Beni Snassen</td>\n",
       "      <td>https://www.telecontact.ma/annonceur/pharmacie...</td>\n",
       "      <td>, bd Mehdi Benbarka , Souissi RABAT</td>\n",
       "      <td>33.964783477434445, -6.851980124883994</td>\n",
       "      <td>05 37 75 76 72</td>\n",
       "    </tr>\n",
       "    <tr>\n",
       "      <th>18</th>\n",
       "      <td>Pharmacie Benjelloun</td>\n",
       "      <td>https://www.telecontact.ma/annonceur/pharmacie...</td>\n",
       "      <td>3, rue Zerhoun , Souissi RABAT</td>\n",
       "      <td>33.95991654, -6.83721648</td>\n",
       "      <td>05 37 63 68 64</td>\n",
       "    </tr>\n",
       "    <tr>\n",
       "      <th>19</th>\n",
       "      <td>Pharmacie Benyahya</td>\n",
       "      <td>https://www.telecontact.ma/annonceur/pharmacie...</td>\n",
       "      <td>457, avenue Hassan II , résid. Mariam RABAT</td>\n",
       "      <td>34.00571423438301, -6.856611721737636</td>\n",
       "      <td>05 37 69 39 00</td>\n",
       "    </tr>\n",
       "  </tbody>\n",
       "</table>\n",
       "</div>"
      ],
      "text/plain": [
       "                    pharmacie  \\\n",
       "0          Pharmacie Assorour   \n",
       "1          Pharmacie Assounah   \n",
       "2         Pharmacie Attaïssir   \n",
       "3         Pharmacie Attannoub   \n",
       "4            Pharmacie Attine   \n",
       "5    Pharmacie av Mohammed VI   \n",
       "6      Pharmacie Av. Goundafa   \n",
       "7               Pharmacie Aya   \n",
       "8             Pharmacie Azhar   \n",
       "9              Pharmacie Azur   \n",
       "10         Pharmacie Bab Jdid   \n",
       "11    Pharmacie Bab Marrakech   \n",
       "12             Pharmacie Badr   \n",
       "13  Pharmacie Bayt Al Maarifa   \n",
       "14          Pharmacie Bekkari   \n",
       "15          Pharmacie Belmahi   \n",
       "16         Pharmacie Ben Omar   \n",
       "17     Pharmacie Beni Snassen   \n",
       "18       Pharmacie Benjelloun   \n",
       "19         Pharmacie Benyahya   \n",
       "\n",
       "                                                 lien  \\\n",
       "0   https://www.telecontact.ma/annonceur/pharmacie...   \n",
       "1   https://www.telecontact.ma/annonceur/pharmacie...   \n",
       "2   https://www.telecontact.ma/annonceur/pharmacie...   \n",
       "3   https://www.telecontact.ma/annonceur/pharmacie...   \n",
       "4   https://www.telecontact.ma/annonceur/pharmacie...   \n",
       "5   https://www.telecontact.ma/annonceur/pharmacie...   \n",
       "6   https://www.telecontact.ma/annonceur/pharmacie...   \n",
       "7   https://www.telecontact.ma/annonceur/pharmacie...   \n",
       "8   https://www.telecontact.ma/annonceur/pharmacie...   \n",
       "9   https://www.telecontact.ma/annonceur/pharmacie...   \n",
       "10  https://www.telecontact.ma/annonceur/pharmacie...   \n",
       "11  https://www.telecontact.ma/annonceur/pharmacie...   \n",
       "12  https://www.telecontact.ma/annonceur/pharmacie...   \n",
       "13  https://www.telecontact.ma/annonceur/pharmacie...   \n",
       "14  https://www.telecontact.ma/annonceur/pharmacie...   \n",
       "15  https://www.telecontact.ma/annonceur/pharmacie...   \n",
       "16  https://www.telecontact.ma/annonceur/pharmacie...   \n",
       "17  https://www.telecontact.ma/annonceur/pharmacie...   \n",
       "18  https://www.telecontact.ma/annonceur/pharmacie...   \n",
       "19  https://www.telecontact.ma/annonceur/pharmacie...   \n",
       "\n",
       "                                              adresse  \\\n",
       "0              13, quartier Youssoufia , imm.14 RABAT   \n",
       "1                         497, avenue Mohammed VRABAT   \n",
       "2                    443, hay El Manzeh (c.y.m.)RABAT   \n",
       "3               , av. Attanoub , hay Ryad 5D 11 RABAT   \n",
       "4                         830, bd Armées RoyalesRABAT   \n",
       "5    K050, avenue Imam Malik - ex Zaers , c.com. d...   \n",
       "6    , quartier Bou Regreg , rue 43 n°9 Youssoufia...   \n",
       "7    , rue Al Hachimi El Mestari , Kbibat Akkari R...   \n",
       "8        44, av Al Amir Fal Ould Oumeir , Agdal RABAT   \n",
       "9                  80, hay El Guich des Oudayas RABAT   \n",
       "10               265, avenue Mohammed V , Legza RABAT   \n",
       "11                    1, rue Al Achaari , Agdal RABAT   \n",
       "12                15, av Al Amir Fal Ould OumeirRABAT   \n",
       "13   1, avenue Allal El Fassi , résid. Bayt Al Maa...   \n",
       "14           285, rue Oulfa , Amal III bloc \"R\" RABAT   \n",
       "15               1, rue du Tonkin , diour Jamaâ RABAT   \n",
       "16   72, avenue du Chellah -ex Abderrahmane Annega...   \n",
       "17                , bd Mehdi Benbarka , Souissi RABAT   \n",
       "18                     3, rue Zerhoun , Souissi RABAT   \n",
       "19        457, avenue Hassan II , résid. Mariam RABAT   \n",
       "\n",
       "                                coordonnee       telephone  \n",
       "0                           NO COORDINATES  05 37 75 88 57  \n",
       "1                 34.02632502, -6.84039492  05 37 76 59 95  \n",
       "2                     33.977022, -6.894134  05 37 28 02 96  \n",
       "3    33.95676573663576, -6.854766940050467  05 37 71 38 85  \n",
       "4                     33.977531, -6.889314  05 37 28 12 84  \n",
       "5    33.96110840259192, -6.826134358816489  05 37 65 06 74  \n",
       "6    33.98359239083203, -6.818929945402488  05 37 75 27 22  \n",
       "7    34.01634679641305, -6.857203726940497  05 37 69 33 88  \n",
       "8                   34.00268301, -6.851205  05 37 68 08 17  \n",
       "9      33.936475520157, -6.887599860601767  05 37 56 15 92  \n",
       "10                 34.0207704, -6.83731476  05 37 72 62 27  \n",
       "11                34.01502174, -6.84619884  05 37 77 95 00  \n",
       "12                  34.00268301, -6.851205  05 37 77 34 62  \n",
       "13   33.98442864135213, -6.862944995336875  05 37 77 07 38  \n",
       "14                33.97855446, -6.88348584  05 37 79 41 84  \n",
       "15                34.01636346, -6.85016316  05 37 72 26 50  \n",
       "16                34.01563248, -6.82713288  05 37 76 99 30  \n",
       "17  33.964783477434445, -6.851980124883994  05 37 75 76 72  \n",
       "18                33.95991654, -6.83721648  05 37 63 68 64  \n",
       "19   34.00571423438301, -6.856611721737636  05 37 69 39 00  "
      ]
     },
     "execution_count": 20,
     "metadata": {},
     "output_type": "execute_result"
    }
   ],
   "source": [
    "df"
   ]
  },
  {
   "cell_type": "markdown",
   "metadata": {},
   "source": [
    "### Export into a CSV object"
   ]
  },
  {
   "cell_type": "code",
   "execution_count": 21,
   "metadata": {},
   "outputs": [],
   "source": [
    "df.to_csv(\"ph.csv\",sep=\";\",header=True,encoding='utf-8')"
   ]
  },
  {
   "cell_type": "code",
   "execution_count": null,
   "metadata": {},
   "outputs": [],
   "source": []
  }
 ],
 "metadata": {
  "kernelspec": {
   "display_name": "Python 3",
   "language": "python",
   "name": "python3"
  },
  "language_info": {
   "codemirror_mode": {
    "name": "ipython",
    "version": 3
   },
   "file_extension": ".py",
   "mimetype": "text/x-python",
   "name": "python",
   "nbconvert_exporter": "python",
   "pygments_lexer": "ipython3",
   "version": "3.6.1"
  }
 },
 "nbformat": 4,
 "nbformat_minor": 2
}
