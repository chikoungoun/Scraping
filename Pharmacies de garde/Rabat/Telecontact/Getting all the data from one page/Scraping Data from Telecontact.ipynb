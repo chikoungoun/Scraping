{
 "cells": [
  {
   "cell_type": "markdown",
   "metadata": {},
   "source": [
    "# Scraping Name, phone, adress & coordinates from telecontact"
   ]
  },
  {
   "cell_type": "markdown",
   "metadata": {},
   "source": [
    "## Scraping functions"
   ]
  },
  {
   "cell_type": "markdown",
   "metadata": {},
   "source": [
    "* **Names**"
   ]
  },
  {
   "cell_type": "code",
   "execution_count": 1,
   "metadata": {},
   "outputs": [],
   "source": [
    "def scrape_name(soup):\n",
    "    name = soup.find('h1',id='lenom').text\n",
    "    return name.strip()"
   ]
  },
  {
   "cell_type": "markdown",
   "metadata": {},
   "source": [
    "* **Phones**"
   ]
  },
  {
   "cell_type": "code",
   "execution_count": 2,
   "metadata": {},
   "outputs": [],
   "source": [
    "def scrape_phone(soup):\n",
    "    return soup.find('div',class_='letel').find('strong').text"
   ]
  },
  {
   "cell_type": "markdown",
   "metadata": {},
   "source": [
    "* **Adresses**"
   ]
  },
  {
   "cell_type": "code",
   "execution_count": 3,
   "metadata": {},
   "outputs": [],
   "source": [
    "def scrape_adresse(soup):\n",
    "    adress = soup.find('div',class_='col-md-3 col-xs-12 col-sm-6 no-margin').text\n",
    "    return adress.replace(\"\\n\",\"\").replace(\"\\t\",\"\").replace(\"Adresse\",\"\").replace('  ','')"
   ]
  },
  {
   "cell_type": "markdown",
   "metadata": {},
   "source": [
    "* **Coordinates**"
   ]
  },
  {
   "cell_type": "code",
   "execution_count": 4,
   "metadata": {},
   "outputs": [],
   "source": [
    "def scrape_coordinate(response):\n",
    "    \n",
    "    s = response\n",
    "    \n",
    "    if((\"LatLng(,\" in response) == True):\n",
    "        return \"NO COORDINATES\"\n",
    "    \n",
    "    print('LatLng' in response)\n",
    "    print(s.find('LatLng'))\n",
    "    deb = s.find('LatLng')\n",
    "    print(deb)\n",
    "    LatLng = s[deb:]\n",
    "    fin = LatLng.find(')')\n",
    "    LatLng_full = LatLng[:fin+1]\n",
    "\n",
    "    return LatLng_full[LatLng_full.find('(')+1:LatLng_full.find(')')]"
   ]
  },
  {
   "cell_type": "markdown",
   "metadata": {},
   "source": [
    "## Principal Link structure"
   ]
  },
  {
   "cell_type": "code",
   "execution_count": 5,
   "metadata": {},
   "outputs": [],
   "source": [
    "url =\"https://www.telecontact.ma/liens/pharmacies/rabat.php&page=\""
   ]
  },
  {
   "cell_type": "code",
   "execution_count": 6,
   "metadata": {},
   "outputs": [],
   "source": [
    "from bs4 import BeautifulSoup"
   ]
  },
  {
   "cell_type": "code",
   "execution_count": 7,
   "metadata": {},
   "outputs": [],
   "source": [
    "from time import time\n",
    "from time import sleep\n",
    "from random import randint"
   ]
  },
  {
   "cell_type": "code",
   "execution_count": 8,
   "metadata": {},
   "outputs": [],
   "source": [
    "start_time = time()\n",
    "requests = 0"
   ]
  },
  {
   "cell_type": "code",
   "execution_count": 9,
   "metadata": {},
   "outputs": [],
   "source": [
    "from requests import get"
   ]
  },
  {
   "cell_type": "code",
   "execution_count": 10,
   "metadata": {
    "scrolled": true
   },
   "outputs": [
    {
     "name": "stdout",
     "output_type": "stream",
     "text": [
      " --- ---  PAGE 1 --- ---\n",
      "https://www.telecontact.ma/liens/pharmacies/rabat.php&page=1\n",
      "15\n",
      "https://www.telecontact.ma/annonceur/pharmacie-assorour-/3311980/rabat.php\n",
      "https://www.telecontact.ma/annonceur/pharmacie-assounah-/1502500/rabat.php\n",
      "True\n",
      "68232\n",
      "68232\n",
      "https://www.telecontact.ma/annonceur/pharmacie-attaossir-/2208839/rabat.php\n",
      "True\n",
      "68029\n",
      "68029\n",
      "https://www.telecontact.ma/annonceur/pharmacie-attannoub-/3220920/rabat.php\n",
      "True\n",
      "68445\n",
      "68445\n",
      "https://www.telecontact.ma/annonceur/pharmacie-attine-/3037029/rabat.php\n",
      "True\n",
      "68215\n",
      "68215\n",
      "https://www.telecontact.ma/annonceur/pharmacie-av-mohammed-vi-/3058099/rabat.php\n",
      "True\n",
      "67931\n",
      "67931\n",
      "https://www.telecontact.ma/annonceur/pharmacie-av-goundafa-/3074441/rabat.php\n",
      "True\n",
      "68560\n",
      "68560\n",
      "https://www.telecontact.ma/annonceur/pharmacie-aya-/3110436/rabat.php\n",
      "True\n",
      "67592\n",
      "67592\n",
      "https://www.telecontact.ma/annonceur/pharmacie-azhar-/1502200/rabat.php\n",
      "True\n",
      "67767\n",
      "67767\n",
      "https://www.telecontact.ma/annonceur/pharmacie-azur-/2210272/rabat.php\n",
      "True\n",
      "67580\n",
      "67580\n",
      "https://www.telecontact.ma/annonceur/pharmacie-bab-jdid-/2217354/rabat.php\n",
      "True\n",
      "67679\n",
      "67679\n",
      "https://www.telecontact.ma/annonceur/pharmacie-bab-marrakech-/3154703/rabat.php\n",
      "True\n",
      "68413\n",
      "68413\n",
      "https://www.telecontact.ma/annonceur/pharmacie-badr-/0320600/rabat.php\n",
      "True\n",
      "67722\n",
      "67722\n",
      "https://www.telecontact.ma/annonceur/pharmacie-bayt-al-maarifa-/3220910/rabat.php\n",
      "True\n",
      "68245\n",
      "68245\n",
      "https://www.telecontact.ma/annonceur/pharmacie-bekkari-/2169057/rabat.php\n",
      "True\n",
      "67667\n",
      "67667\n",
      "https://www.telecontact.ma/annonceur/pharmacie-belmahi-/0320700/rabat.php\n",
      "True\n",
      "67793\n",
      "67793\n",
      "https://www.telecontact.ma/annonceur/pharmacie-ben-omar-/3201490/rabat.php\n",
      "True\n",
      "68350\n",
      "68350\n",
      "https://www.telecontact.ma/annonceur/pharmacie-beni-snassen-/2194112/rabat.php\n",
      "True\n",
      "69302\n",
      "69302\n",
      "https://www.telecontact.ma/annonceur/pharmacie-benjelloun-/2222708/rabat.php\n",
      "True\n",
      "67712\n",
      "67712\n",
      "https://www.telecontact.ma/annonceur/pharmacie-benyahya-/3140375/rabat.php\n",
      "True\n",
      "67381\n",
      "67381\n",
      " *** DONE ***\n"
     ]
    }
   ],
   "source": [
    "liens =[]\n",
    "\n",
    "noms = []\n",
    "phones = []\n",
    "adresses = []\n",
    "coors = []\n",
    "\n",
    "z = 1\n",
    "while(z < 2):\n",
    "    print(\" --- ---  PAGE \"+str(z)+\" --- ---\")\n",
    "    print(url+str(z))\n",
    "    lien = url+str(z)\n",
    "    \n",
    "    response = get(lien)\n",
    "    \n",
    "    timer = randint(8,15)\n",
    "    #pause de loop\n",
    "    print(timer)\n",
    "    sleep(timer)\n",
    "    \n",
    "    #Scraping the links\n",
    "    soup = BeautifulSoup(response.text,'html.parser')\n",
    "    \n",
    "    results = soup.find_all('article',class_='drs col-xs-12')\n",
    "    \n",
    "    for i in results:\n",
    "        link = \"https://www.telecontact.ma\"+str(i.find('span',id='resultats_h3_span').findAll('a')[1]['href'])\n",
    "        print(link)\n",
    "        liens.append(link)\n",
    "        \n",
    "        resp = get(link)\n",
    "        s = BeautifulSoup(resp.text,'html.parser')\n",
    "        \n",
    "        noms.append(scrape_name(s))\n",
    "        phones.append(scrape_phone(s))\n",
    "        adresses.append(scrape_adresse(s))\n",
    "        coors.append(scrape_coordinate(resp.text))\n",
    "    ######\n",
    "    z = z + 1\n",
    "    \n",
    "    \n",
    "    \n",
    "    \n",
    "print(\" *** DONE ***\")\n",
    "\n"
   ]
  },
  {
   "cell_type": "code",
   "execution_count": 11,
   "metadata": {},
   "outputs": [
    {
     "data": {
      "text/plain": [
       "['https://www.telecontact.ma/annonceur/pharmacie-assorour-/3311980/rabat.php',\n",
       " 'https://www.telecontact.ma/annonceur/pharmacie-assounah-/1502500/rabat.php',\n",
       " 'https://www.telecontact.ma/annonceur/pharmacie-attaossir-/2208839/rabat.php',\n",
       " 'https://www.telecontact.ma/annonceur/pharmacie-attannoub-/3220920/rabat.php',\n",
       " 'https://www.telecontact.ma/annonceur/pharmacie-attine-/3037029/rabat.php']"
      ]
     },
     "execution_count": 11,
     "metadata": {},
     "output_type": "execute_result"
    }
   ],
   "source": [
    "liens[:5]"
   ]
  },
  {
   "cell_type": "code",
   "execution_count": 12,
   "metadata": {},
   "outputs": [
    {
     "data": {
      "text/plain": [
       "['Pharmacie Assorour',\n",
       " 'Pharmacie Assounah',\n",
       " 'Pharmacie Attaïssir',\n",
       " 'Pharmacie Attannoub',\n",
       " 'Pharmacie Attine']"
      ]
     },
     "execution_count": 12,
     "metadata": {},
     "output_type": "execute_result"
    }
   ],
   "source": [
    "noms[:5]"
   ]
  },
  {
   "cell_type": "code",
   "execution_count": 13,
   "metadata": {},
   "outputs": [
    {
     "data": {
      "text/plain": [
       "['05 37 75 88 57',\n",
       " '05 37 76 59 95',\n",
       " '05 37 28 02 96',\n",
       " '05 37 71 38 85',\n",
       " '05 37 28 12 84']"
      ]
     },
     "execution_count": 13,
     "metadata": {},
     "output_type": "execute_result"
    }
   ],
   "source": [
    "phones[:5]"
   ]
  },
  {
   "cell_type": "code",
   "execution_count": 14,
   "metadata": {},
   "outputs": [
    {
     "data": {
      "text/plain": [
       "[' 13, quartier Youssoufia , imm.14 RABAT',\n",
       " ' 497, avenue Mohammed VRABAT',\n",
       " ' 443, hay El Manzeh (c.y.m.)RABAT',\n",
       " ' , av. Attanoub , hay Ryad 5D 11 RABAT',\n",
       " ' 830, bd Armées RoyalesRABAT']"
      ]
     },
     "execution_count": 14,
     "metadata": {},
     "output_type": "execute_result"
    }
   ],
   "source": [
    "adresses[:5]"
   ]
  },
  {
   "cell_type": "code",
   "execution_count": 15,
   "metadata": {},
   "outputs": [
    {
     "data": {
      "text/plain": [
       "['NO COORDINATES',\n",
       " '34.02632502, -6.84039492',\n",
       " '33.977022, -6.894134',\n",
       " '33.95676573663576, -6.854766940050467',\n",
       " '33.977531, -6.889314']"
      ]
     },
     "execution_count": 15,
     "metadata": {},
     "output_type": "execute_result"
    }
   ],
   "source": [
    "coors[:5]"
   ]
  },
  {
   "cell_type": "markdown",
   "metadata": {},
   "source": [
    "## Join the Data"
   ]
  },
  {
   "cell_type": "code",
   "execution_count": null,
   "metadata": {},
   "outputs": [],
   "source": []
  }
 ],
 "metadata": {
  "kernelspec": {
   "display_name": "Python 3",
   "language": "python",
   "name": "python3"
  },
  "language_info": {
   "codemirror_mode": {
    "name": "ipython",
    "version": 3
   },
   "file_extension": ".py",
   "mimetype": "text/x-python",
   "name": "python",
   "nbconvert_exporter": "python",
   "pygments_lexer": "ipython3",
   "version": "3.6.1"
  }
 },
 "nbformat": 4,
 "nbformat_minor": 2
}
