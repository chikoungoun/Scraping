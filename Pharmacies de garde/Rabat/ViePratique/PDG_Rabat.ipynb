{
 "cells": [
  {
   "cell_type": "markdown",
   "metadata": {},
   "source": [
    "# Scraping des pharmacies de garde sur Rabat"
   ]
  },
  {
   "cell_type": "code",
   "execution_count": 1,
   "metadata": {},
   "outputs": [
    {
     "data": {
      "text/plain": [
       "<Response [200]>"
      ]
     },
     "execution_count": 1,
     "metadata": {},
     "output_type": "execute_result"
    }
   ],
   "source": [
    "import requests\n",
    "\n",
    "url = 'http://www.viepratique.ma/pharmacies-de-garde/rabat-Maroc'\n",
    "response = requests.get(url)\n",
    "response"
   ]
  },
  {
   "cell_type": "code",
   "execution_count": 2,
   "metadata": {},
   "outputs": [
    {
     "data": {
      "text/plain": [
       "bs4.BeautifulSoup"
      ]
     },
     "execution_count": 2,
     "metadata": {},
     "output_type": "execute_result"
    }
   ],
   "source": [
    "from bs4 import BeautifulSoup\n",
    "\n",
    "soup = BeautifulSoup(response.text,'html.parser')\n",
    "type(soup)"
   ]
  },
  {
   "cell_type": "code",
   "execution_count": 3,
   "metadata": {},
   "outputs": [],
   "source": [
    "articles = soup.find_all('article',class_ = 'one_element')"
   ]
  },
  {
   "cell_type": "code",
   "execution_count": 4,
   "metadata": {},
   "outputs": [
    {
     "name": "stdout",
     "output_type": "stream",
     "text": [
      "[<article class=\"one_element 1\"><div class=\"row no-margin\"><div class=\"col-xs-3 col-sm-3 col-md-3 col-lg-3 hidden-xs\"><a href=\"#\"><figure class=\"picture\"><img class=\"img-responsive\" src=\"/images/pharmacy_logo.jpg\" style=\"display: block;\"/></figure></a></div><div class=\"col-xs-12 col-sm-9 col-md-9 col-lg-9 no-margin\"><div class=\"row no-margin\"><div class=\"col-xs-9 col-sm-9 col-md-9 col-lg-9\"><h2><span class=\"number\">1</span><a href=\"#\">Pharmacie Cité Amal</a></h2><div class=\"adress-container\"><span itemprop=\"streetAddress\">57, avenue Al Massira (C.y.m), bloc D.O, ElKouass</span></div></div><div class=\"col-xs-3 col-sm-3 col-md-3 col-lg-3 no-margin\" style=\"text-align: right;\"><div class=\"avis-result\"></div><div class=\"horaire\"><span\"><i class=\"fa fa-clock-o\"></i>  Ouvert</span\"></div></div></div></div></div></article>, <article class=\"one_element 2\"><div class=\"row no-margin\"><div class=\"col-xs-3 col-sm-3 col-md-3 col-lg-3 hidden-xs\"><a href=\"#\"><figure class=\"picture\"><img class=\"img-responsive\" src=\"/images/pharmacy_logo.jpg\" style=\"display: block;\"/></figure></a></div><div class=\"col-xs-12 col-sm-9 col-md-9 col-lg-9 no-margin\"><div class=\"row no-margin\"><div class=\"col-xs-9 col-sm-9 col-md-9 col-lg-9\"><h2><span class=\"number\">2</span><a href=\"#\">Pharmacie Idéale</a></h2><div class=\"adress-container\"><span itemprop=\"streetAddress\">594, bd El Manzah (c.y.m.) </span></div></div><div class=\"col-xs-3 col-sm-3 col-md-3 col-lg-3 no-margin\" style=\"text-align: right;\"><div class=\"avis-result\"></div><div class=\"horaire\"><span\"><i class=\"fa fa-clock-o\"></i>  Ouvert</span\"></div></div></div></div></div></article>, <article class=\"one_element 3\"><div class=\"row no-margin\"><div class=\"col-xs-3 col-sm-3 col-md-3 col-lg-3 hidden-xs\"><a href=\"#\"><figure class=\"picture\"><img class=\"img-responsive\" src=\"/images/pharmacy_logo.jpg\" style=\"display: block;\"/></figure></a></div><div class=\"col-xs-12 col-sm-9 col-md-9 col-lg-9 no-margin\"><div class=\"row no-margin\"><div class=\"col-xs-9 col-sm-9 col-md-9 col-lg-9\"><h2><span class=\"number\">3</span><a href=\"#\">Pharmacie de l'étoile</a></h2><div class=\"adress-container\"><span itemprop=\"streetAddress\">4, rue Al Amir Abdelkader </span></div></div><div class=\"col-xs-3 col-sm-3 col-md-3 col-lg-3 no-margin\" style=\"text-align: right;\"><div class=\"avis-result\"></div><div class=\"horaire\"><span\"><i class=\"fa fa-clock-o\"></i>  Ouvert</span\"></div></div></div></div></div></article>, <article class=\"one_element 4\"><div class=\"row no-margin\"><div class=\"col-xs-3 col-sm-3 col-md-3 col-lg-3 hidden-xs\"><a href=\"#\"><figure class=\"picture\"><img class=\"img-responsive\" src=\"/images/pharmacy_logo.jpg\" style=\"display: block;\"/></figure></a></div><div class=\"col-xs-12 col-sm-9 col-md-9 col-lg-9 no-margin\"><div class=\"row no-margin\"><div class=\"col-xs-9 col-sm-9 col-md-9 col-lg-9\"><h2><span class=\"number\">4</span><a href=\"#\">Pharmacie Bir Kacem</a></h2><div class=\"adress-container\"><span itemprop=\"streetAddress\">28, avenue Bir Kacem </span></div></div><div class=\"col-xs-3 col-sm-3 col-md-3 col-lg-3 no-margin\" style=\"text-align: right;\"><div class=\"avis-result\"></div><div class=\"horaire\"><span\"><i class=\"fa fa-clock-o\"></i>  Ouvert</span\"></div></div></div></div></div></article>, <article class=\"one_element 5\"><div class=\"row no-margin\"><div class=\"col-xs-3 col-sm-3 col-md-3 col-lg-3 hidden-xs\"><a href=\"#\"><figure class=\"picture\"><img class=\"img-responsive\" src=\"/images/pharmacy_logo.jpg\" style=\"display: block;\"/></figure></a></div><div class=\"col-xs-12 col-sm-9 col-md-9 col-lg-9 no-margin\"><div class=\"row no-margin\"><div class=\"col-xs-9 col-sm-9 col-md-9 col-lg-9\"><h2><span class=\"number\">5</span><a href=\"#\">Pharmacie Abdelkrim ElKhattabi</a></h2><div class=\"adress-container\"><span itemprop=\"streetAddress\">272, avenue Abdelkrim Al Khattabi, Océan</span></div></div><div class=\"col-xs-3 col-sm-3 col-md-3 col-lg-3 no-margin\" style=\"text-align: right;\"><div class=\"avis-result\"></div><div class=\"horaire\"><span\"><i class=\"fa fa-clock-o\"></i>  Ouvert</span\"></div></div></div></div></div></article>, <article class=\"one_element 6\"><div class=\"row no-margin\"><div class=\"col-xs-3 col-sm-3 col-md-3 col-lg-3 hidden-xs\"><a href=\"#\"><figure class=\"picture\"><img class=\"img-responsive\" src=\"/images/pharmacy_logo.jpg\" style=\"display: block;\"/></figure></a></div><div class=\"col-xs-12 col-sm-9 col-md-9 col-lg-9 no-margin\"><div class=\"row no-margin\"><div class=\"col-xs-9 col-sm-9 col-md-9 col-lg-9\"><h2><span class=\"number\">6</span><a href=\"#\">Pharmacie Marché de Gros</a></h2><div class=\"adress-container\"><span itemprop=\"streetAddress\">hay Lahbass, n°67 rue 7 Bled Frej C.y.m.</span></div></div><div class=\"col-xs-3 col-sm-3 col-md-3 col-lg-3 no-margin\" style=\"text-align: right;\"><div class=\"avis-result\"></div><div class=\"horaire\"><span\"><i class=\"fa fa-clock-o\"></i>  Ouvert</span\"></div></div></div></div></div></article>, <article class=\"one_element 7\"><div class=\"row no-margin\"><div class=\"col-xs-3 col-sm-3 col-md-3 col-lg-3 hidden-xs\"><a href=\"#\"><figure class=\"picture\"><img class=\"img-responsive\" src=\"/images/pharmacy_logo.jpg\" style=\"display: block;\"/></figure></a></div><div class=\"col-xs-12 col-sm-9 col-md-9 col-lg-9 no-margin\"><div class=\"row no-margin\"><div class=\"col-xs-9 col-sm-9 col-md-9 col-lg-9\"><h2><span class=\"number\">7</span><a href=\"#\">Pharmacie Ben Omar</a></h2><div class=\"adress-container\"><span itemprop=\"streetAddress\">72 Bis, avenue du Chellah -ex Abderrahmane Annegay </span></div></div><div class=\"col-xs-3 col-sm-3 col-md-3 col-lg-3 no-margin\" style=\"text-align: right;\"><div class=\"avis-result\"></div><div class=\"horaire\"><span\"><i class=\"fa fa-clock-o\"></i>  Ouvert</span\"></div></div></div></div></div></article>]\n",
      "7\n"
     ]
    }
   ],
   "source": [
    "print(articles[:100])\n",
    "print(len(articles))"
   ]
  },
  {
   "cell_type": "markdown",
   "metadata": {},
   "source": [
    "### Scraping the pharmacies names"
   ]
  },
  {
   "cell_type": "code",
   "execution_count": 5,
   "metadata": {},
   "outputs": [
    {
     "name": "stdout",
     "output_type": "stream",
     "text": [
      "Pharmacie Cité Amal\n",
      "Pharmacie Idéale\n",
      "Pharmacie de l'étoile\n",
      "Pharmacie Bir Kacem\n",
      "Pharmacie Abdelkrim ElKhattabi\n",
      "Pharmacie Marché de Gros\n",
      "Pharmacie Ben Omar\n"
     ]
    }
   ],
   "source": [
    "noms = []\n",
    "for i in articles:\n",
    "    print(i.find('h2').text[1:])\n",
    "    noms.append(i.find('h2').text[1:])"
   ]
  },
  {
   "cell_type": "code",
   "execution_count": 6,
   "metadata": {},
   "outputs": [
    {
     "data": {
      "text/plain": [
       "['Pharmacie Cité Amal',\n",
       " 'Pharmacie Idéale',\n",
       " \"Pharmacie de l'étoile\",\n",
       " 'Pharmacie Bir Kacem',\n",
       " 'Pharmacie Abdelkrim ElKhattabi',\n",
       " 'Pharmacie Marché de Gros',\n",
       " 'Pharmacie Ben Omar']"
      ]
     },
     "execution_count": 6,
     "metadata": {},
     "output_type": "execute_result"
    }
   ],
   "source": [
    "noms"
   ]
  },
  {
   "cell_type": "markdown",
   "metadata": {},
   "source": [
    "### Scraping the pharmacies adresses"
   ]
  },
  {
   "cell_type": "code",
   "execution_count": 7,
   "metadata": {},
   "outputs": [
    {
     "name": "stdout",
     "output_type": "stream",
     "text": [
      "57, avenue Al Massira (C.y.m), bloc D.O, ElKouass\n",
      "594, bd El Manzah (c.y.m.) \n",
      "4, rue Al Amir Abdelkader \n",
      "28, avenue Bir Kacem \n",
      "272, avenue Abdelkrim Al Khattabi, Océan\n",
      "hay Lahbass, n°67 rue 7 Bled Frej C.y.m.\n",
      "72 Bis, avenue du Chellah -ex Abderrahmane Annegay \n"
     ]
    }
   ],
   "source": [
    "adresses = []\n",
    "for i in articles:\n",
    "    print(i.find('div',class_='adress-container').text)\n",
    "    adresses.append(i.find('div',class_='adress-container').text)"
   ]
  },
  {
   "cell_type": "code",
   "execution_count": 8,
   "metadata": {
    "scrolled": true
   },
   "outputs": [
    {
     "data": {
      "text/plain": [
       "['57, avenue Al Massira (C.y.m), bloc D.O, ElKouass',\n",
       " '594, bd El Manzah (c.y.m.) ',\n",
       " '4, rue Al Amir Abdelkader ',\n",
       " '28, avenue Bir Kacem ',\n",
       " '272, avenue Abdelkrim Al Khattabi, Océan',\n",
       " 'hay Lahbass, n°67 rue 7 Bled Frej C.y.m.',\n",
       " '72 Bis, avenue du Chellah -ex Abderrahmane Annegay ']"
      ]
     },
     "execution_count": 8,
     "metadata": {},
     "output_type": "execute_result"
    }
   ],
   "source": [
    "adresses"
   ]
  },
  {
   "cell_type": "markdown",
   "metadata": {},
   "source": [
    "### Scraping the phone numbers"
   ]
  },
  {
   "cell_type": "code",
   "execution_count": 34,
   "metadata": {},
   "outputs": [],
   "source": [
    "p = soup.find_all('div',class_='number_phone')"
   ]
  },
  {
   "cell_type": "code",
   "execution_count": 37,
   "metadata": {},
   "outputs": [
    {
     "name": "stdout",
     "output_type": "stream",
     "text": [
      "0537795018\n",
      "0537795934\n",
      "0537671414\n",
      "0537658820\n",
      "0537203881\n",
      "0537231177\n",
      "0537769930\n"
     ]
    }
   ],
   "source": [
    "phones = []\n",
    "for i in p:\n",
    "    print(i.find_next_sibling().text)\n",
    "    phones.append(i.find_next_sibling().text)"
   ]
  },
  {
   "cell_type": "code",
   "execution_count": 38,
   "metadata": {},
   "outputs": [
    {
     "data": {
      "text/plain": [
       "['0537795018',\n",
       " '0537795934',\n",
       " '0537671414',\n",
       " '0537658820',\n",
       " '0537203881',\n",
       " '0537231177',\n",
       " '0537769930']"
      ]
     },
     "execution_count": 38,
     "metadata": {},
     "output_type": "execute_result"
    }
   ],
   "source": [
    "phones"
   ]
  },
  {
   "cell_type": "markdown",
   "metadata": {},
   "source": [
    "## Merge the data we got so far"
   ]
  },
  {
   "cell_type": "code",
   "execution_count": 39,
   "metadata": {},
   "outputs": [],
   "source": [
    "garde = []\n",
    "for i,j,k in zip(noms,adresses,phones):\n",
    "    t = (i,j,k)\n",
    "    garde.append(t)"
   ]
  },
  {
   "cell_type": "code",
   "execution_count": 40,
   "metadata": {},
   "outputs": [
    {
     "data": {
      "text/plain": [
       "[('Pharmacie Cité Amal',\n",
       "  '57, avenue Al Massira (C.y.m), bloc D.O, ElKouass',\n",
       "  '0537795018'),\n",
       " ('Pharmacie Idéale', '594, bd El Manzah (c.y.m.) ', '0537795934'),\n",
       " (\"Pharmacie de l'étoile\", '4, rue Al Amir Abdelkader ', '0537671414'),\n",
       " ('Pharmacie Bir Kacem', '28, avenue Bir Kacem ', '0537658820'),\n",
       " ('Pharmacie Abdelkrim ElKhattabi',\n",
       "  '272, avenue Abdelkrim Al Khattabi, Océan',\n",
       "  '0537203881'),\n",
       " ('Pharmacie Marché de Gros',\n",
       "  'hay Lahbass, n°67 rue 7 Bled Frej C.y.m.',\n",
       "  '0537231177'),\n",
       " ('Pharmacie Ben Omar',\n",
       "  '72 Bis, avenue du Chellah -ex Abderrahmane Annegay ',\n",
       "  '0537769930')]"
      ]
     },
     "execution_count": 40,
     "metadata": {},
     "output_type": "execute_result"
    }
   ],
   "source": [
    "garde"
   ]
  },
  {
   "cell_type": "markdown",
   "metadata": {},
   "source": [
    "## Convert into Pandas object"
   ]
  },
  {
   "cell_type": "code",
   "execution_count": 12,
   "metadata": {},
   "outputs": [],
   "source": [
    "import pandas as pd"
   ]
  },
  {
   "cell_type": "code",
   "execution_count": 13,
   "metadata": {},
   "outputs": [],
   "source": [
    "df = pd.DataFrame(garde,columns=['nom','adresse'])"
   ]
  },
  {
   "cell_type": "code",
   "execution_count": 14,
   "metadata": {},
   "outputs": [
    {
     "data": {
      "text/html": [
       "<div>\n",
       "<style>\n",
       "    .dataframe thead tr:only-child th {\n",
       "        text-align: right;\n",
       "    }\n",
       "\n",
       "    .dataframe thead th {\n",
       "        text-align: left;\n",
       "    }\n",
       "\n",
       "    .dataframe tbody tr th {\n",
       "        vertical-align: top;\n",
       "    }\n",
       "</style>\n",
       "<table border=\"1\" class=\"dataframe\">\n",
       "  <thead>\n",
       "    <tr style=\"text-align: right;\">\n",
       "      <th></th>\n",
       "      <th>nom</th>\n",
       "      <th>adresse</th>\n",
       "    </tr>\n",
       "  </thead>\n",
       "  <tbody>\n",
       "    <tr>\n",
       "      <th>0</th>\n",
       "      <td>Pharmacie Cité Amal</td>\n",
       "      <td>57, avenue Al Massira (C.y.m), bloc D.O, ElKouass</td>\n",
       "    </tr>\n",
       "    <tr>\n",
       "      <th>1</th>\n",
       "      <td>Pharmacie Idéale</td>\n",
       "      <td>594, bd El Manzah (c.y.m.)</td>\n",
       "    </tr>\n",
       "    <tr>\n",
       "      <th>2</th>\n",
       "      <td>Pharmacie de l'étoile</td>\n",
       "      <td>4, rue Al Amir Abdelkader</td>\n",
       "    </tr>\n",
       "    <tr>\n",
       "      <th>3</th>\n",
       "      <td>Pharmacie Bir Kacem</td>\n",
       "      <td>28, avenue Bir Kacem</td>\n",
       "    </tr>\n",
       "    <tr>\n",
       "      <th>4</th>\n",
       "      <td>Pharmacie Abdelkrim ElKhattabi</td>\n",
       "      <td>272, avenue Abdelkrim Al Khattabi, Océan</td>\n",
       "    </tr>\n",
       "    <tr>\n",
       "      <th>5</th>\n",
       "      <td>Pharmacie Marché de Gros</td>\n",
       "      <td>hay Lahbass, n°67 rue 7 Bled Frej C.y.m.</td>\n",
       "    </tr>\n",
       "    <tr>\n",
       "      <th>6</th>\n",
       "      <td>Pharmacie Ben Omar</td>\n",
       "      <td>72 Bis, avenue du Chellah -ex Abderrahmane Ann...</td>\n",
       "    </tr>\n",
       "  </tbody>\n",
       "</table>\n",
       "</div>"
      ],
      "text/plain": [
       "                              nom  \\\n",
       "0             Pharmacie Cité Amal   \n",
       "1                Pharmacie Idéale   \n",
       "2           Pharmacie de l'étoile   \n",
       "3             Pharmacie Bir Kacem   \n",
       "4  Pharmacie Abdelkrim ElKhattabi   \n",
       "5        Pharmacie Marché de Gros   \n",
       "6              Pharmacie Ben Omar   \n",
       "\n",
       "                                             adresse  \n",
       "0  57, avenue Al Massira (C.y.m), bloc D.O, ElKouass  \n",
       "1                        594, bd El Manzah (c.y.m.)   \n",
       "2                         4, rue Al Amir Abdelkader   \n",
       "3                              28, avenue Bir Kacem   \n",
       "4           272, avenue Abdelkrim Al Khattabi, Océan  \n",
       "5           hay Lahbass, n°67 rue 7 Bled Frej C.y.m.  \n",
       "6  72 Bis, avenue du Chellah -ex Abderrahmane Ann...  "
      ]
     },
     "execution_count": 14,
     "metadata": {},
     "output_type": "execute_result"
    }
   ],
   "source": [
    "df"
   ]
  },
  {
   "cell_type": "code",
   "execution_count": null,
   "metadata": {},
   "outputs": [],
   "source": []
  }
 ],
 "metadata": {
  "kernelspec": {
   "display_name": "Python 3",
   "language": "python",
   "name": "python3"
  },
  "language_info": {
   "codemirror_mode": {
    "name": "ipython",
    "version": 3
   },
   "file_extension": ".py",
   "mimetype": "text/x-python",
   "name": "python",
   "nbconvert_exporter": "python",
   "pygments_lexer": "ipython3",
   "version": "3.6.1"
  }
 },
 "nbformat": 4,
 "nbformat_minor": 2
}
