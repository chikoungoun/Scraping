{
 "cells": [
  {
   "cell_type": "markdown",
   "metadata": {},
   "source": [
    "# Scraping des pharmacies de garde sur Rabat"
   ]
  },
  {
   "cell_type": "code",
   "execution_count": 1,
   "metadata": {},
   "outputs": [
    {
     "data": {
      "text/plain": [
       "<Response [200]>"
      ]
     },
     "execution_count": 1,
     "metadata": {},
     "output_type": "execute_result"
    }
   ],
   "source": [
    "import requests\n",
    "\n",
    "url = 'http://www.viepratique.ma/pharmacies-de-garde/rabat-Maroc'\n",
    "response = requests.get(url)\n",
    "response"
   ]
  },
  {
   "cell_type": "code",
   "execution_count": 2,
   "metadata": {},
   "outputs": [
    {
     "data": {
      "text/plain": [
       "bs4.BeautifulSoup"
      ]
     },
     "execution_count": 2,
     "metadata": {},
     "output_type": "execute_result"
    }
   ],
   "source": [
    "from bs4 import BeautifulSoup\n",
    "\n",
    "soup = BeautifulSoup(response.text,'html.parser')\n",
    "type(soup)"
   ]
  },
  {
   "cell_type": "code",
   "execution_count": 3,
   "metadata": {},
   "outputs": [],
   "source": [
    "articles = soup.find_all('article',class_ = 'one_element')"
   ]
  },
  {
   "cell_type": "code",
   "execution_count": 4,
   "metadata": {},
   "outputs": [
    {
     "name": "stdout",
     "output_type": "stream",
     "text": [
      "[<article class=\"one_element 1\"><div class=\"row no-margin\"><div class=\"col-xs-3 col-sm-3 col-md-3 col-lg-3 hidden-xs\"><a href=\"#\"><figure class=\"picture\"><img class=\"img-responsive\" src=\"/images/pharmacy_logo.jpg\" style=\"display: block;\"/></figure></a></div><div class=\"col-xs-12 col-sm-9 col-md-9 col-lg-9 no-margin\"><div class=\"row no-margin\"><div class=\"col-xs-9 col-sm-9 col-md-9 col-lg-9\"><h2><span class=\"number\">1</span><a href=\"#\">Pharmacie Chellah</a></h2><div class=\"adress-container\"><span itemprop=\"streetAddress\">2, place de Melilya </span></div></div><div class=\"col-xs-3 col-sm-3 col-md-3 col-lg-3 no-margin\" style=\"text-align: right;\"><div class=\"avis-result\"></div><div class=\"horaire\"><span\"><i class=\"fa fa-clock-o\"></i>  Ouvert</span\"></div></div></div></div></div></article>, <article class=\"one_element 2\"><div class=\"row no-margin\"><div class=\"col-xs-3 col-sm-3 col-md-3 col-lg-3 hidden-xs\"><a href=\"#\"><figure class=\"picture\"><img class=\"img-responsive\" src=\"/images/pharmacy_logo.jpg\" style=\"display: block;\"/></figure></a></div><div class=\"col-xs-12 col-sm-9 col-md-9 col-lg-9 no-margin\"><div class=\"row no-margin\"><div class=\"col-xs-9 col-sm-9 col-md-9 col-lg-9\"><h2><span class=\"number\">2</span><a href=\"#\">Pharmacie de Madagascar</a></h2><div class=\"adress-container\"><span itemprop=\"streetAddress\">67, avenue de Madagascar </span></div></div><div class=\"col-xs-3 col-sm-3 col-md-3 col-lg-3 no-margin\" style=\"text-align: right;\"><div class=\"avis-result\"></div><div class=\"horaire\"><span\"><i class=\"fa fa-clock-o\"></i>  Ouvert</span\"></div></div></div></div></div></article>, <article class=\"one_element 3\"><div class=\"row no-margin\"><div class=\"col-xs-3 col-sm-3 col-md-3 col-lg-3 hidden-xs\"><a href=\"#\"><figure class=\"picture\"><img class=\"img-responsive\" src=\"/images/pharmacy_logo.jpg\" style=\"display: block;\"/></figure></a></div><div class=\"col-xs-12 col-sm-9 col-md-9 col-lg-9 no-margin\"><div class=\"row no-margin\"><div class=\"col-xs-9 col-sm-9 col-md-9 col-lg-9\"><h2><span class=\"number\">3</span><a href=\"#\">Pharmacie Oqba</a></h2><div class=\"adress-container\"><span itemprop=\"streetAddress\">62, avenue Oqba Bnou Nafiaa </span></div></div><div class=\"col-xs-3 col-sm-3 col-md-3 col-lg-3 no-margin\" style=\"text-align: right;\"><div class=\"avis-result\"></div><div class=\"horaire\"><span\"><i class=\"fa fa-clock-o\"></i>  Ouvert</span\"></div></div></div></div></div></article>, <article class=\"one_element 4\"><div class=\"row no-margin\"><div class=\"col-xs-3 col-sm-3 col-md-3 col-lg-3 hidden-xs\"><a href=\"#\"><figure class=\"picture\"><img class=\"img-responsive\" src=\"/images/pharmacy_logo.jpg\" style=\"display: block;\"/></figure></a></div><div class=\"col-xs-12 col-sm-9 col-md-9 col-lg-9 no-margin\"><div class=\"row no-margin\"><div class=\"col-xs-9 col-sm-9 col-md-9 col-lg-9\"><h2><span class=\"number\">4</span><a href=\"#\">Pharmacie du 16 novembre</a></h2><div class=\"adress-container\"><span itemprop=\"streetAddress\">16, rue Seize Novembre Agdal</span></div></div><div class=\"col-xs-3 col-sm-3 col-md-3 col-lg-3 no-margin\" style=\"text-align: right;\"><div class=\"avis-result\"></div><div class=\"horaire\"><span\"><i class=\"fa fa-clock-o\"></i>  Ouvert</span\"></div></div></div></div></div></article>, <article class=\"one_element 5\"><div class=\"row no-margin\"><div class=\"col-xs-3 col-sm-3 col-md-3 col-lg-3 hidden-xs\"><a href=\"#\"><figure class=\"picture\"><img class=\"img-responsive\" src=\"/images/pharmacy_logo.jpg\" style=\"display: block;\"/></figure></a></div><div class=\"col-xs-12 col-sm-9 col-md-9 col-lg-9 no-margin\"><div class=\"row no-margin\"><div class=\"col-xs-9 col-sm-9 col-md-9 col-lg-9\"><h2><span class=\"number\">5</span><a href=\"#\">Pharmacie Ryad</a></h2><div class=\"adress-container\"><span itemprop=\"streetAddress\">8, av. Annakhil, c. com. Ryad 1, sect. 21</span></div></div><div class=\"col-xs-3 col-sm-3 col-md-3 col-lg-3 no-margin\" style=\"text-align: right;\"><div class=\"avis-result\"></div><div class=\"horaire\"><span\"><i class=\"fa fa-clock-o\"></i>  Ouvert</span\"></div></div></div></div></div></article>, <article class=\"one_element 6\"><div class=\"row no-margin\"><div class=\"col-xs-3 col-sm-3 col-md-3 col-lg-3 hidden-xs\"><a href=\"#\"><figure class=\"picture\"><img class=\"img-responsive\" src=\"/images/pharmacy_logo.jpg\" style=\"display: block;\"/></figure></a></div><div class=\"col-xs-12 col-sm-9 col-md-9 col-lg-9 no-margin\"><div class=\"row no-margin\"><div class=\"col-xs-9 col-sm-9 col-md-9 col-lg-9\"><h2><span class=\"number\">6</span><a href=\"#\">Pharmacie Al-Amana</a></h2><div class=\"adress-container\"><span itemprop=\"streetAddress\">425, avenue Hassan II, résid. Hasna mag. n°7</span></div></div><div class=\"col-xs-3 col-sm-3 col-md-3 col-lg-3 no-margin\" style=\"text-align: right;\"><div class=\"avis-result\"></div><div class=\"horaire\"><span\"><i class=\"fa fa-clock-o\"></i>  Ouvert</span\"></div></div></div></div></div></article>, <article class=\"one_element 7\"><div class=\"row no-margin\"><div class=\"col-xs-3 col-sm-3 col-md-3 col-lg-3 hidden-xs\"><a href=\"#\"><figure class=\"picture\"><img class=\"img-responsive\" src=\"/images/pharmacy_logo.jpg\" style=\"display: block;\"/></figure></a></div><div class=\"col-xs-12 col-sm-9 col-md-9 col-lg-9 no-margin\"><div class=\"row no-margin\"><div class=\"col-xs-9 col-sm-9 col-md-9 col-lg-9\"><h2><span class=\"number\">7</span><a href=\"#\">Pharmacie Fatima-Zahraa</a></h2><div class=\"adress-container\"><span itemprop=\"streetAddress\">814, quartier Jabal Arraissi, bloc 5 B3</span></div></div><div class=\"col-xs-3 col-sm-3 col-md-3 col-lg-3 no-margin\" style=\"text-align: right;\"><div class=\"avis-result\"></div><div class=\"horaire\"><span\"><i class=\"fa fa-clock-o\"></i>  Ouvert</span\"></div></div></div></div></div></article>, <article class=\"one_element 8\"><div class=\"row no-margin\"><div class=\"col-xs-3 col-sm-3 col-md-3 col-lg-3 hidden-xs\"><a href=\"#\"><figure class=\"picture\"><img class=\"img-responsive\" src=\"/images/pharmacy_logo.jpg\" style=\"display: block;\"/></figure></a></div><div class=\"col-xs-12 col-sm-9 col-md-9 col-lg-9 no-margin\"><div class=\"row no-margin\"><div class=\"col-xs-9 col-sm-9 col-md-9 col-lg-9\"><h2><span class=\"number\">8</span><a href=\"#\">Pharmacie Rim</a></h2><div class=\"adress-container\"><span itemprop=\"streetAddress\">496, hay Guich Loudaya </span></div></div><div class=\"col-xs-3 col-sm-3 col-md-3 col-lg-3 no-margin\" style=\"text-align: right;\"><div class=\"avis-result\"></div><div class=\"horaire\"><span\"><i class=\"fa fa-clock-o\"></i>  Ouvert</span\"></div></div></div></div></div></article>, <article class=\"one_element 9\"><div class=\"row no-margin\"><div class=\"col-xs-3 col-sm-3 col-md-3 col-lg-3 hidden-xs\"><a href=\"#\"><figure class=\"picture\"><img class=\"img-responsive\" src=\"/images/pharmacy_logo.jpg\" style=\"display: block;\"/></figure></a></div><div class=\"col-xs-12 col-sm-9 col-md-9 col-lg-9 no-margin\"><div class=\"row no-margin\"><div class=\"col-xs-9 col-sm-9 col-md-9 col-lg-9\"><h2><span class=\"number\">9</span><a href=\"#\">Pharmacie City Center Ryad</a></h2><div class=\"adress-container\"><span itemprop=\"streetAddress\">Hay Ryad, Acima city Center</span></div></div><div class=\"col-xs-3 col-sm-3 col-md-3 col-lg-3 no-margin\" style=\"text-align: right;\"><div class=\"avis-result\"></div><div class=\"horaire\"><span\"><i class=\"fa fa-clock-o\"></i>  Ouvert</span\"></div></div></div></div></div></article>, <article class=\"one_element 10\"><div class=\"row no-margin\"><div class=\"col-xs-3 col-sm-3 col-md-3 col-lg-3 hidden-xs\"><a href=\"#\"><figure class=\"picture\"><img class=\"img-responsive\" src=\"/images/pharmacy_logo.jpg\" style=\"display: block;\"/></figure></a></div><div class=\"col-xs-12 col-sm-9 col-md-9 col-lg-9 no-margin\"><div class=\"row no-margin\"><div class=\"col-xs-9 col-sm-9 col-md-9 col-lg-9\"><h2><span class=\"number\">10</span><a href=\"#\">Pharmacie Aya</a></h2><div class=\"adress-container\"><span itemprop=\"streetAddress\">rue Al Hachimi El Mestari, Kbibat Akkari</span></div></div><div class=\"col-xs-3 col-sm-3 col-md-3 col-lg-3 no-margin\" style=\"text-align: right;\"><div class=\"avis-result\"></div><div class=\"horaire\"><span\"><i class=\"fa fa-clock-o\"></i>  Ouvert</span\"></div></div></div></div></div></article>, <article class=\"one_element 11\"><div class=\"row no-margin\"><div class=\"col-xs-3 col-sm-3 col-md-3 col-lg-3 hidden-xs\"><a href=\"#\"><figure class=\"picture\"><img class=\"img-responsive\" src=\"/images/pharmacy_logo.jpg\" style=\"display: block;\"/></figure></a></div><div class=\"col-xs-12 col-sm-9 col-md-9 col-lg-9 no-margin\"><div class=\"row no-margin\"><div class=\"col-xs-9 col-sm-9 col-md-9 col-lg-9\"><h2><span class=\"number\">11</span><a href=\"#\">Pharmacie Benyahya</a></h2><div class=\"adress-container\"><span itemprop=\"streetAddress\">457, avenue Hassan II, résid. Mariam</span></div></div><div class=\"col-xs-3 col-sm-3 col-md-3 col-lg-3 no-margin\" style=\"text-align: right;\"><div class=\"avis-result\"></div><div class=\"horaire\"><span\"><i class=\"fa fa-clock-o\"></i>  Ouvert</span\"></div></div></div></div></div></article>, <article class=\"one_element 12\"><div class=\"row no-margin\"><div class=\"col-xs-3 col-sm-3 col-md-3 col-lg-3 hidden-xs\"><a href=\"#\"><figure class=\"picture\"><img class=\"img-responsive\" src=\"/images/pharmacy_logo.jpg\" style=\"display: block;\"/></figure></a></div><div class=\"col-xs-12 col-sm-9 col-md-9 col-lg-9 no-margin\"><div class=\"row no-margin\"><div class=\"col-xs-9 col-sm-9 col-md-9 col-lg-9\"><h2><span class=\"number\">12</span><a href=\"#\">Pharmacie Pharma Square</a></h2><div class=\"adress-container\"><span itemprop=\"streetAddress\">Hay Ryad, c. commercial Ryad, Rocade urbain</span></div></div><div class=\"col-xs-3 col-sm-3 col-md-3 col-lg-3 no-margin\" style=\"text-align: right;\"><div class=\"avis-result\"></div><div class=\"horaire\"><span\"><i class=\"fa fa-clock-o\"></i>  Ouvert</span\"></div></div></div></div></div></article>]\n",
      "12\n"
     ]
    }
   ],
   "source": [
    "print(articles[:100])\n",
    "print(len(articles))"
   ]
  },
  {
   "cell_type": "markdown",
   "metadata": {},
   "source": [
    "### Scraping the pharmacies names"
   ]
  },
  {
   "cell_type": "code",
   "execution_count": 5,
   "metadata": {},
   "outputs": [
    {
     "name": "stdout",
     "output_type": "stream",
     "text": [
      "Pharmacie Chellah\n",
      "Pharmacie de Madagascar\n",
      "Pharmacie Oqba\n",
      "Pharmacie du 16 novembre\n",
      "Pharmacie Ryad\n",
      "Pharmacie Al-Amana\n",
      "Pharmacie Fatima-Zahraa\n",
      "Pharmacie Rim\n",
      "Pharmacie City Center Ryad\n",
      "Pharmacie Aya\n",
      "Pharmacie Benyahya\n",
      "Pharmacie Pharma Square\n"
     ]
    }
   ],
   "source": [
    "noms = []\n",
    "for i in articles:\n",
    "    print(i.find('h2').find('a').text)\n",
    "    noms.append(i.find('h2').find('a').text)"
   ]
  },
  {
   "cell_type": "code",
   "execution_count": 6,
   "metadata": {},
   "outputs": [
    {
     "data": {
      "text/plain": [
       "['Pharmacie Chellah',\n",
       " 'Pharmacie de Madagascar',\n",
       " 'Pharmacie Oqba',\n",
       " 'Pharmacie du 16 novembre',\n",
       " 'Pharmacie Ryad',\n",
       " 'Pharmacie Al-Amana',\n",
       " 'Pharmacie Fatima-Zahraa',\n",
       " 'Pharmacie Rim',\n",
       " 'Pharmacie City Center Ryad',\n",
       " 'Pharmacie Aya',\n",
       " 'Pharmacie Benyahya',\n",
       " 'Pharmacie Pharma Square']"
      ]
     },
     "execution_count": 6,
     "metadata": {},
     "output_type": "execute_result"
    }
   ],
   "source": [
    "noms"
   ]
  },
  {
   "cell_type": "markdown",
   "metadata": {},
   "source": [
    "### Scraping the pharmacies adresses"
   ]
  },
  {
   "cell_type": "code",
   "execution_count": 7,
   "metadata": {},
   "outputs": [
    {
     "name": "stdout",
     "output_type": "stream",
     "text": [
      "2, place de Melilya \n",
      "67, avenue de Madagascar \n",
      "62, avenue Oqba Bnou Nafiaa \n",
      "16, rue Seize Novembre Agdal\n",
      "8, av. Annakhil, c. com. Ryad 1, sect. 21\n",
      "425, avenue Hassan II, résid. Hasna mag. n°7\n",
      "814, quartier Jabal Arraissi, bloc 5 B3\n",
      "496, hay Guich Loudaya \n",
      "Hay Ryad, Acima city Center\n",
      "rue Al Hachimi El Mestari, Kbibat Akkari\n",
      "457, avenue Hassan II, résid. Mariam\n",
      "Hay Ryad, c. commercial Ryad, Rocade urbain\n"
     ]
    }
   ],
   "source": [
    "adresses = []\n",
    "for i in articles:\n",
    "    print(i.find('div',class_='adress-container').text)\n",
    "    adresses.append(i.find('div',class_='adress-container').text)"
   ]
  },
  {
   "cell_type": "code",
   "execution_count": 8,
   "metadata": {
    "scrolled": true
   },
   "outputs": [
    {
     "data": {
      "text/plain": [
       "['2, place de Melilya ',\n",
       " '67, avenue de Madagascar ',\n",
       " '62, avenue Oqba Bnou Nafiaa ',\n",
       " '16, rue Seize Novembre Agdal',\n",
       " '8, av. Annakhil, c. com. Ryad 1, sect. 21',\n",
       " '425, avenue Hassan II, résid. Hasna mag. n°7',\n",
       " '814, quartier Jabal Arraissi, bloc 5 B3',\n",
       " '496, hay Guich Loudaya ',\n",
       " 'Hay Ryad, Acima city Center',\n",
       " 'rue Al Hachimi El Mestari, Kbibat Akkari',\n",
       " '457, avenue Hassan II, résid. Mariam',\n",
       " 'Hay Ryad, c. commercial Ryad, Rocade urbain']"
      ]
     },
     "execution_count": 8,
     "metadata": {},
     "output_type": "execute_result"
    }
   ],
   "source": [
    "adresses"
   ]
  },
  {
   "cell_type": "markdown",
   "metadata": {},
   "source": [
    "### Scraping the phone numbers"
   ]
  },
  {
   "cell_type": "code",
   "execution_count": 9,
   "metadata": {},
   "outputs": [],
   "source": [
    "p = soup.find_all('div',class_='number_phone')"
   ]
  },
  {
   "cell_type": "code",
   "execution_count": 10,
   "metadata": {},
   "outputs": [
    {
     "name": "stdout",
     "output_type": "stream",
     "text": [
      "0537724723\n",
      "0537732210\n",
      "0537772699\n",
      "0537670024\n",
      "0537710681\n",
      "0537262773\n",
      "0537758973\n",
      "0537561813\n",
      "0537563277\n",
      "0537693388\n",
      "0537693900\n",
      "0808520353\n"
     ]
    }
   ],
   "source": [
    "phones = []\n",
    "for i in p:\n",
    "    print(i.find_next_sibling().text)\n",
    "    phones.append(i.find_next_sibling().text)"
   ]
  },
  {
   "cell_type": "code",
   "execution_count": 11,
   "metadata": {},
   "outputs": [
    {
     "data": {
      "text/plain": [
       "['0537724723',\n",
       " '0537732210',\n",
       " '0537772699',\n",
       " '0537670024',\n",
       " '0537710681',\n",
       " '0537262773',\n",
       " '0537758973',\n",
       " '0537561813',\n",
       " '0537563277',\n",
       " '0537693388',\n",
       " '0537693900',\n",
       " '0808520353']"
      ]
     },
     "execution_count": 11,
     "metadata": {},
     "output_type": "execute_result"
    }
   ],
   "source": [
    "phones"
   ]
  },
  {
   "cell_type": "markdown",
   "metadata": {},
   "source": [
    "## Merge the data we got so far"
   ]
  },
  {
   "cell_type": "code",
   "execution_count": 12,
   "metadata": {},
   "outputs": [],
   "source": [
    "garde = []\n",
    "for i,j,k in zip(noms,adresses,phones):\n",
    "    t = (i,j,k)\n",
    "    garde.append(t)"
   ]
  },
  {
   "cell_type": "code",
   "execution_count": 13,
   "metadata": {},
   "outputs": [
    {
     "data": {
      "text/plain": [
       "[('Pharmacie Chellah', '2, place de Melilya ', '0537724723'),\n",
       " ('Pharmacie de Madagascar', '67, avenue de Madagascar ', '0537732210'),\n",
       " ('Pharmacie Oqba', '62, avenue Oqba Bnou Nafiaa ', '0537772699'),\n",
       " ('Pharmacie du 16 novembre', '16, rue Seize Novembre Agdal', '0537670024'),\n",
       " ('Pharmacie Ryad', '8, av. Annakhil, c. com. Ryad 1, sect. 21', '0537710681'),\n",
       " ('Pharmacie Al-Amana',\n",
       "  '425, avenue Hassan II, résid. Hasna mag. n°7',\n",
       "  '0537262773'),\n",
       " ('Pharmacie Fatima-Zahraa',\n",
       "  '814, quartier Jabal Arraissi, bloc 5 B3',\n",
       "  '0537758973'),\n",
       " ('Pharmacie Rim', '496, hay Guich Loudaya ', '0537561813'),\n",
       " ('Pharmacie City Center Ryad', 'Hay Ryad, Acima city Center', '0537563277'),\n",
       " ('Pharmacie Aya', 'rue Al Hachimi El Mestari, Kbibat Akkari', '0537693388'),\n",
       " ('Pharmacie Benyahya', '457, avenue Hassan II, résid. Mariam', '0537693900'),\n",
       " ('Pharmacie Pharma Square',\n",
       "  'Hay Ryad, c. commercial Ryad, Rocade urbain',\n",
       "  '0808520353')]"
      ]
     },
     "execution_count": 13,
     "metadata": {},
     "output_type": "execute_result"
    }
   ],
   "source": [
    "garde"
   ]
  },
  {
   "cell_type": "markdown",
   "metadata": {},
   "source": [
    "## Convert into Pandas object"
   ]
  },
  {
   "cell_type": "code",
   "execution_count": 14,
   "metadata": {},
   "outputs": [],
   "source": [
    "import pandas as pd"
   ]
  },
  {
   "cell_type": "code",
   "execution_count": 15,
   "metadata": {},
   "outputs": [],
   "source": [
    "df = pd.DataFrame(garde,columns=['nom','adresse','telephone'])"
   ]
  },
  {
   "cell_type": "code",
   "execution_count": 16,
   "metadata": {},
   "outputs": [
    {
     "data": {
      "text/html": [
       "<div>\n",
       "<style scoped>\n",
       "    .dataframe tbody tr th:only-of-type {\n",
       "        vertical-align: middle;\n",
       "    }\n",
       "\n",
       "    .dataframe tbody tr th {\n",
       "        vertical-align: top;\n",
       "    }\n",
       "\n",
       "    .dataframe thead th {\n",
       "        text-align: right;\n",
       "    }\n",
       "</style>\n",
       "<table border=\"1\" class=\"dataframe\">\n",
       "  <thead>\n",
       "    <tr style=\"text-align: right;\">\n",
       "      <th></th>\n",
       "      <th>nom</th>\n",
       "      <th>adresse</th>\n",
       "      <th>telephone</th>\n",
       "    </tr>\n",
       "  </thead>\n",
       "  <tbody>\n",
       "    <tr>\n",
       "      <th>0</th>\n",
       "      <td>Pharmacie Chellah</td>\n",
       "      <td>2, place de Melilya</td>\n",
       "      <td>0537724723</td>\n",
       "    </tr>\n",
       "    <tr>\n",
       "      <th>1</th>\n",
       "      <td>Pharmacie de Madagascar</td>\n",
       "      <td>67, avenue de Madagascar</td>\n",
       "      <td>0537732210</td>\n",
       "    </tr>\n",
       "    <tr>\n",
       "      <th>2</th>\n",
       "      <td>Pharmacie Oqba</td>\n",
       "      <td>62, avenue Oqba Bnou Nafiaa</td>\n",
       "      <td>0537772699</td>\n",
       "    </tr>\n",
       "    <tr>\n",
       "      <th>3</th>\n",
       "      <td>Pharmacie du 16 novembre</td>\n",
       "      <td>16, rue Seize Novembre Agdal</td>\n",
       "      <td>0537670024</td>\n",
       "    </tr>\n",
       "    <tr>\n",
       "      <th>4</th>\n",
       "      <td>Pharmacie Ryad</td>\n",
       "      <td>8, av. Annakhil, c. com. Ryad 1, sect. 21</td>\n",
       "      <td>0537710681</td>\n",
       "    </tr>\n",
       "    <tr>\n",
       "      <th>5</th>\n",
       "      <td>Pharmacie Al-Amana</td>\n",
       "      <td>425, avenue Hassan II, résid. Hasna mag. n°7</td>\n",
       "      <td>0537262773</td>\n",
       "    </tr>\n",
       "    <tr>\n",
       "      <th>6</th>\n",
       "      <td>Pharmacie Fatima-Zahraa</td>\n",
       "      <td>814, quartier Jabal Arraissi, bloc 5 B3</td>\n",
       "      <td>0537758973</td>\n",
       "    </tr>\n",
       "    <tr>\n",
       "      <th>7</th>\n",
       "      <td>Pharmacie Rim</td>\n",
       "      <td>496, hay Guich Loudaya</td>\n",
       "      <td>0537561813</td>\n",
       "    </tr>\n",
       "    <tr>\n",
       "      <th>8</th>\n",
       "      <td>Pharmacie City Center Ryad</td>\n",
       "      <td>Hay Ryad, Acima city Center</td>\n",
       "      <td>0537563277</td>\n",
       "    </tr>\n",
       "    <tr>\n",
       "      <th>9</th>\n",
       "      <td>Pharmacie Aya</td>\n",
       "      <td>rue Al Hachimi El Mestari, Kbibat Akkari</td>\n",
       "      <td>0537693388</td>\n",
       "    </tr>\n",
       "    <tr>\n",
       "      <th>10</th>\n",
       "      <td>Pharmacie Benyahya</td>\n",
       "      <td>457, avenue Hassan II, résid. Mariam</td>\n",
       "      <td>0537693900</td>\n",
       "    </tr>\n",
       "    <tr>\n",
       "      <th>11</th>\n",
       "      <td>Pharmacie Pharma Square</td>\n",
       "      <td>Hay Ryad, c. commercial Ryad, Rocade urbain</td>\n",
       "      <td>0808520353</td>\n",
       "    </tr>\n",
       "  </tbody>\n",
       "</table>\n",
       "</div>"
      ],
      "text/plain": [
       "                           nom                                       adresse  \\\n",
       "0            Pharmacie Chellah                          2, place de Melilya    \n",
       "1      Pharmacie de Madagascar                     67, avenue de Madagascar    \n",
       "2               Pharmacie Oqba                  62, avenue Oqba Bnou Nafiaa    \n",
       "3     Pharmacie du 16 novembre                  16, rue Seize Novembre Agdal   \n",
       "4               Pharmacie Ryad     8, av. Annakhil, c. com. Ryad 1, sect. 21   \n",
       "5           Pharmacie Al-Amana  425, avenue Hassan II, résid. Hasna mag. n°7   \n",
       "6      Pharmacie Fatima-Zahraa       814, quartier Jabal Arraissi, bloc 5 B3   \n",
       "7                Pharmacie Rim                       496, hay Guich Loudaya    \n",
       "8   Pharmacie City Center Ryad                   Hay Ryad, Acima city Center   \n",
       "9                Pharmacie Aya      rue Al Hachimi El Mestari, Kbibat Akkari   \n",
       "10          Pharmacie Benyahya          457, avenue Hassan II, résid. Mariam   \n",
       "11     Pharmacie Pharma Square   Hay Ryad, c. commercial Ryad, Rocade urbain   \n",
       "\n",
       "     telephone  \n",
       "0   0537724723  \n",
       "1   0537732210  \n",
       "2   0537772699  \n",
       "3   0537670024  \n",
       "4   0537710681  \n",
       "5   0537262773  \n",
       "6   0537758973  \n",
       "7   0537561813  \n",
       "8   0537563277  \n",
       "9   0537693388  \n",
       "10  0537693900  \n",
       "11  0808520353  "
      ]
     },
     "execution_count": 16,
     "metadata": {},
     "output_type": "execute_result"
    }
   ],
   "source": [
    "df"
   ]
  },
  {
   "cell_type": "code",
   "execution_count": null,
   "metadata": {},
   "outputs": [],
   "source": []
  }
 ],
 "metadata": {
  "kernelspec": {
   "display_name": "Python 3",
   "language": "python",
   "name": "python3"
  },
  "language_info": {
   "codemirror_mode": {
    "name": "ipython",
    "version": 3
   },
   "file_extension": ".py",
   "mimetype": "text/x-python",
   "name": "python",
   "nbconvert_exporter": "python",
   "pygments_lexer": "ipython3",
   "version": "3.8.2"
  }
 },
 "nbformat": 4,
 "nbformat_minor": 2
}
