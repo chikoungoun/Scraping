{
 "cells": [
  {
   "cell_type": "markdown",
   "metadata": {},
   "source": [
    "# Scraping des pharmacies de garde sur Casablanca"
   ]
  },
  {
   "cell_type": "code",
   "execution_count": 1,
   "metadata": {},
   "outputs": [
    {
     "data": {
      "text/plain": [
       "<Response [200]>"
      ]
     },
     "execution_count": 1,
     "metadata": {},
     "output_type": "execute_result"
    }
   ],
   "source": [
    "import requests\n",
    "\n",
    "url = 'http://www.viepratique.ma/pharmacies-de-garde/rabat-Maroc'\n",
    "response = requests.get(url)\n",
    "response"
   ]
  },
  {
   "cell_type": "code",
   "execution_count": 2,
   "metadata": {},
   "outputs": [
    {
     "data": {
      "text/plain": [
       "bs4.BeautifulSoup"
      ]
     },
     "execution_count": 2,
     "metadata": {},
     "output_type": "execute_result"
    }
   ],
   "source": [
    "from bs4 import BeautifulSoup\n",
    "\n",
    "soup = BeautifulSoup(response.text,'html.parser')\n",
    "type(soup)"
   ]
  },
  {
   "cell_type": "code",
   "execution_count": 5,
   "metadata": {},
   "outputs": [],
   "source": [
    "articles = soup.find_all('article',class_ = 'one_element')"
   ]
  },
  {
   "cell_type": "code",
   "execution_count": 10,
   "metadata": {},
   "outputs": [
    {
     "name": "stdout",
     "output_type": "stream",
     "text": [
      "[<article class=\"one_element 1\"><div class=\"row no-margin\"><div class=\"col-xs-3 col-sm-3 col-md-3 col-lg-3 hidden-xs\"><a href=\"#\"><figure class=\"picture\"><img class=\"img-responsive\" src=\"/images/pharmacy_logo.jpg\" style=\"display: block;\"/></figure></a></div><div class=\"col-xs-12 col-sm-9 col-md-9 col-lg-9 no-margin\"><div class=\"row no-margin\"><div class=\"col-xs-9 col-sm-9 col-md-9 col-lg-9\"><h2><span class=\"number\">1</span><a href=\"#\">Pharmacie Annour</a></h2><div class=\"adress-container\"><span itemprop=\"streetAddress\">33, avenue Ennour sect.\"H\" Est c.y.m</span></div></div><div class=\"col-xs-3 col-sm-3 col-md-3 col-lg-3 no-margin\" style=\"text-align: right;\"><div class=\"avis-result\"></div><div class=\"horaire\"><span\"><i class=\"fa fa-clock-o\"></i>  Ouvert</span\"></div></div></div></div></div></article>, <article class=\"one_element 2\"><div class=\"row no-margin\"><div class=\"col-xs-3 col-sm-3 col-md-3 col-lg-3 hidden-xs\"><a href=\"#\"><figure class=\"picture\"><img class=\"img-responsive\" src=\"/images/pharmacy_logo.jpg\" style=\"display: block;\"/></figure></a></div><div class=\"col-xs-12 col-sm-9 col-md-9 col-lg-9 no-margin\"><div class=\"row no-margin\"><div class=\"col-xs-9 col-sm-9 col-md-9 col-lg-9\"><h2><span class=\"number\">2</span><a href=\"#\">Pharmacie Alkifah</a></h2><div class=\"adress-container\"><span itemprop=\"streetAddress\">avenue Kifah (c.y.m.), bloc \"DA\", n°26</span></div></div><div class=\"col-xs-3 col-sm-3 col-md-3 col-lg-3 no-margin\" style=\"text-align: right;\"><div class=\"avis-result\"></div><div class=\"horaire\"><span\"><i class=\"fa fa-clock-o\"></i>  Ouvert</span\"></div></div></div></div></div></article>, <article class=\"one_element 3\"><div class=\"row no-margin\"><div class=\"col-xs-3 col-sm-3 col-md-3 col-lg-3 hidden-xs\"><a href=\"#\"><figure class=\"picture\"><img class=\"img-responsive\" src=\"/images/pharmacy_logo.jpg\" style=\"display: block;\"/></figure></a></div><div class=\"col-xs-12 col-sm-9 col-md-9 col-lg-9 no-margin\"><div class=\"row no-margin\"><div class=\"col-xs-9 col-sm-9 col-md-9 col-lg-9\"><h2><span class=\"number\">3</span><a href=\"#\">Pharmacie Akkari</a></h2><div class=\"adress-container\"><span itemprop=\"streetAddress\">57, rue Sidi Ahmed </span></div></div><div class=\"col-xs-3 col-sm-3 col-md-3 col-lg-3 no-margin\" style=\"text-align: right;\"><div class=\"avis-result\"></div><div class=\"horaire\"><span\"><i class=\"fa fa-clock-o\"></i>  Ouvert</span\"></div></div></div></div></div></article>, <article class=\"one_element 4\"><div class=\"row no-margin\"><div class=\"col-xs-3 col-sm-3 col-md-3 col-lg-3 hidden-xs\"><a href=\"#\"><figure class=\"picture\"><img class=\"img-responsive\" src=\"/images/pharmacy_logo.jpg\" style=\"display: block;\"/></figure></a></div><div class=\"col-xs-12 col-sm-9 col-md-9 col-lg-9 no-margin\"><div class=\"row no-margin\"><div class=\"col-xs-9 col-sm-9 col-md-9 col-lg-9\"><h2><span class=\"number\">4</span><a href=\"#\">Pharmacie ElManzeh</a></h2><div class=\"adress-container\"><span itemprop=\"streetAddress\">964, avenue Al Massira (C.y.m), hay ELManzeh</span></div></div><div class=\"col-xs-3 col-sm-3 col-md-3 col-lg-3 no-margin\" style=\"text-align: right;\"><div class=\"avis-result\"></div><div class=\"horaire\"><span\"><i class=\"fa fa-clock-o\"></i>  Ouvert</span\"></div></div></div></div></div></article>, <article class=\"one_element 5\"><div class=\"row no-margin\"><div class=\"col-xs-3 col-sm-3 col-md-3 col-lg-3 hidden-xs\"><a href=\"#\"><figure class=\"picture\"><img class=\"img-responsive\" src=\"/images/pharmacy_logo.jpg\" style=\"display: block;\"/></figure></a></div><div class=\"col-xs-12 col-sm-9 col-md-9 col-lg-9 no-margin\"><div class=\"row no-margin\"><div class=\"col-xs-9 col-sm-9 col-md-9 col-lg-9\"><h2><span class=\"number\">5</span><a href=\"#\">Pharmacie Safiya</a></h2><div class=\"adress-container\"><span itemprop=\"streetAddress\">av. Annakhil, sect.8 hay Riad</span></div></div><div class=\"col-xs-3 col-sm-3 col-md-3 col-lg-3 no-margin\" style=\"text-align: right;\"><div class=\"avis-result\"></div><div class=\"horaire\"><span\"><i class=\"fa fa-clock-o\"></i>  Ouvert</span\"></div></div></div></div></div></article>, <article class=\"one_element 6\"><div class=\"row no-margin\"><div class=\"col-xs-3 col-sm-3 col-md-3 col-lg-3 hidden-xs\"><a href=\"#\"><figure class=\"picture\"><img class=\"img-responsive\" src=\"/images/pharmacy_logo.jpg\" style=\"display: block;\"/></figure></a></div><div class=\"col-xs-12 col-sm-9 col-md-9 col-lg-9 no-margin\"><div class=\"row no-margin\"><div class=\"col-xs-9 col-sm-9 col-md-9 col-lg-9\"><h2><span class=\"number\">6</span><a href=\"#\">Pharmacie Mourad</a></h2><div class=\"adress-container\"><span itemprop=\"streetAddress\">douar Rjafellah, bloc TZ, n°1 Cym</span></div></div><div class=\"col-xs-3 col-sm-3 col-md-3 col-lg-3 no-margin\" style=\"text-align: right;\"><div class=\"avis-result\"></div><div class=\"horaire\"><span\"><i class=\"fa fa-clock-o\"></i>  Ouvert</span\"></div></div></div></div></div></article>, <article class=\"one_element 7\"><div class=\"row no-margin\"><div class=\"col-xs-3 col-sm-3 col-md-3 col-lg-3 hidden-xs\"><a href=\"#\"><figure class=\"picture\"><img class=\"img-responsive\" src=\"/images/pharmacy_logo.jpg\" style=\"display: block;\"/></figure></a></div><div class=\"col-xs-12 col-sm-9 col-md-9 col-lg-9 no-margin\"><div class=\"row no-margin\"><div class=\"col-xs-9 col-sm-9 col-md-9 col-lg-9\"><h2><span class=\"number\">7</span><a href=\"#\">Pharmacie des Cliniques</a></h2><div class=\"adress-container\"><span itemprop=\"streetAddress\">9, rue d' Ouazzane, Hassan</span></div></div><div class=\"col-xs-3 col-sm-3 col-md-3 col-lg-3 no-margin\" style=\"text-align: right;\"><div class=\"avis-result\"></div><div class=\"horaire\"><span\"><i class=\"fa fa-clock-o\"></i>  Ouvert</span\"></div></div></div></div></div></article>, <article class=\"one_element 8\"><div class=\"row no-margin\"><div class=\"col-xs-3 col-sm-3 col-md-3 col-lg-3 hidden-xs\"><a href=\"#\"><figure class=\"picture\"><img class=\"img-responsive\" src=\"/images/pharmacy_logo.jpg\" style=\"display: block;\"/></figure></a></div><div class=\"col-xs-12 col-sm-9 col-md-9 col-lg-9 no-margin\"><div class=\"row no-margin\"><div class=\"col-xs-9 col-sm-9 col-md-9 col-lg-9\"><h2><span class=\"number\">8</span><a href=\"#\">Pharmacie Bayt Al Maarifa</a></h2><div class=\"adress-container\"><span itemprop=\"streetAddress\">1, avenue Allal El Fassi, résid. Bayt Al Maarifa</span></div></div><div class=\"col-xs-3 col-sm-3 col-md-3 col-lg-3 no-margin\" style=\"text-align: right;\"><div class=\"avis-result\"></div><div class=\"horaire\"><span\"><i class=\"fa fa-clock-o\"></i>  Ouvert</span\"></div></div></div></div></div></article>]\n",
      "8\n"
     ]
    }
   ],
   "source": [
    "print(articles[:100])\n",
    "print(len(articles))"
   ]
  },
  {
   "cell_type": "markdown",
   "metadata": {},
   "source": [
    "### Scraping the pharmacies names"
   ]
  },
  {
   "cell_type": "code",
   "execution_count": 12,
   "metadata": {},
   "outputs": [
    {
     "name": "stdout",
     "output_type": "stream",
     "text": [
      "Pharmacie Annour\n",
      "Pharmacie Alkifah\n",
      "Pharmacie Akkari\n",
      "Pharmacie ElManzeh\n",
      "Pharmacie Safiya\n",
      "Pharmacie Mourad\n",
      "Pharmacie des Cliniques\n",
      "Pharmacie Bayt Al Maarifa\n"
     ]
    }
   ],
   "source": [
    "noms = []\n",
    "for i in articles:\n",
    "    print(i.find('h2').text[1:])\n",
    "    noms.append(i.find('h2').text[1:])"
   ]
  },
  {
   "cell_type": "code",
   "execution_count": 13,
   "metadata": {},
   "outputs": [
    {
     "data": {
      "text/plain": [
       "['Pharmacie Annour',\n",
       " 'Pharmacie Alkifah',\n",
       " 'Pharmacie Akkari',\n",
       " 'Pharmacie ElManzeh',\n",
       " 'Pharmacie Safiya',\n",
       " 'Pharmacie Mourad',\n",
       " 'Pharmacie des Cliniques',\n",
       " 'Pharmacie Bayt Al Maarifa']"
      ]
     },
     "execution_count": 13,
     "metadata": {},
     "output_type": "execute_result"
    }
   ],
   "source": [
    "noms"
   ]
  },
  {
   "cell_type": "markdown",
   "metadata": {},
   "source": [
    "### Scraping the pharmacies names"
   ]
  },
  {
   "cell_type": "code",
   "execution_count": 15,
   "metadata": {},
   "outputs": [
    {
     "name": "stdout",
     "output_type": "stream",
     "text": [
      "3, avenue Ennour sect.\"H\" Est c.y.m\n",
      "venue Kifah (c.y.m.), bloc \"DA\", n°26\n",
      "7, rue Sidi Ahmed \n",
      "64, avenue Al Massira (C.y.m), hay ELManzeh\n",
      "v. Annakhil, sect.8 hay Riad\n",
      "ouar Rjafellah, bloc TZ, n°1 Cym\n",
      ", rue d' Ouazzane, Hassan\n",
      ", avenue Allal El Fassi, résid. Bayt Al Maarifa\n"
     ]
    }
   ],
   "source": [
    "adresses = []\n",
    "for i in articles:\n",
    "    print(i.find('div',class_='adress-container').text[1:])\n",
    "    adresses.append(i.find('div',class_='adress-container').text[1:])"
   ]
  },
  {
   "cell_type": "code",
   "execution_count": 16,
   "metadata": {},
   "outputs": [
    {
     "data": {
      "text/plain": [
       "['3, avenue Ennour sect.\"H\" Est c.y.m',\n",
       " 'venue Kifah (c.y.m.), bloc \"DA\", n°26',\n",
       " '7, rue Sidi Ahmed ',\n",
       " '64, avenue Al Massira (C.y.m), hay ELManzeh',\n",
       " 'v. Annakhil, sect.8 hay Riad',\n",
       " 'ouar Rjafellah, bloc TZ, n°1 Cym',\n",
       " \", rue d' Ouazzane, Hassan\",\n",
       " ', avenue Allal El Fassi, résid. Bayt Al Maarifa']"
      ]
     },
     "execution_count": 16,
     "metadata": {},
     "output_type": "execute_result"
    }
   ],
   "source": [
    "adresses"
   ]
  },
  {
   "cell_type": "code",
   "execution_count": null,
   "metadata": {},
   "outputs": [],
   "source": []
  }
 ],
 "metadata": {
  "kernelspec": {
   "display_name": "Python 3",
   "language": "python",
   "name": "python3"
  },
  "language_info": {
   "codemirror_mode": {
    "name": "ipython",
    "version": 3
   },
   "file_extension": ".py",
   "mimetype": "text/x-python",
   "name": "python",
   "nbconvert_exporter": "python",
   "pygments_lexer": "ipython3",
   "version": "3.6.1"
  }
 },
 "nbformat": 4,
 "nbformat_minor": 2
}
