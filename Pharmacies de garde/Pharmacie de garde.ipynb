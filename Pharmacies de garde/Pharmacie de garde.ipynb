{
 "cells": [
  {
   "cell_type": "markdown",
   "metadata": {},
   "source": [
    "**Fonction extraction téléphone**"
   ]
  },
  {
   "cell_type": "code",
   "execution_count": 1,
   "metadata": {},
   "outputs": [],
   "source": [
    "def telephone_pharmacie(adress):\n",
    "    #renverser la chaine de caractères\n",
    "    adress[::-1]\n",
    "    \n",
    "    #extraire le téléphone inversé\n",
    "    ntel = ''\n",
    "    for i in adress[::-1]:\n",
    "        if i == ':':\n",
    "            break\n",
    "        elif i.isnumeric():#uniquement ajouter les nombres\n",
    "            ntel = ntel + i\n",
    "        else:\n",
    "            continue\n",
    "        \n",
    "    #remettre le num de tel à l'endroit\n",
    "    tel = ''\n",
    "    for i in ntel[::-1]:\n",
    "        tel = tel + i\n",
    "        \n",
    "    return tel.strip()"
   ]
  },
  {
   "cell_type": "markdown",
   "metadata": {},
   "source": [
    "**Fonction effacer téléphone** ( renvoie l'adresse seule"
   ]
  },
  {
   "cell_type": "code",
   "execution_count": 2,
   "metadata": {},
   "outputs": [],
   "source": [
    "def effacer_telephone(d):\n",
    "    #renverser la chaîne\n",
    "    nd = d[::-1]\n",
    "    #trouver la position du dernier tiret\n",
    "    c = nd.find('-')\n",
    "    #retourner la sous chaine de caractère depuis la position+1\n",
    "    snd = nd[(c+1):].strip()\n",
    "    #inverser la sous chaîne une deuxième fois\n",
    "    pnd = snd[::-1]\n",
    "\n",
    "    return pnd\n",
    "    "
   ]
  },
  {
   "cell_type": "markdown",
   "metadata": {},
   "source": [
    "# Scraping des pharmacies de garde sur Casablanca"
   ]
  },
  {
   "cell_type": "markdown",
   "metadata": {},
   "source": [
    "source des données : https://lematin.ma/pharmacie-garde-casablanca.html"
   ]
  },
  {
   "cell_type": "code",
   "execution_count": 3,
   "metadata": {},
   "outputs": [
    {
     "data": {
      "text/plain": [
       "<Response [200]>"
      ]
     },
     "execution_count": 3,
     "metadata": {},
     "output_type": "execute_result"
    }
   ],
   "source": [
    "import requests\n",
    "\n",
    "url = 'https://lematin.ma/pharmacie-garde-casablanca.html'\n",
    "response = requests.get(url)\n",
    "response"
   ]
  },
  {
   "cell_type": "code",
   "execution_count": 4,
   "metadata": {},
   "outputs": [
    {
     "data": {
      "text/plain": [
       "bs4.BeautifulSoup"
      ]
     },
     "execution_count": 4,
     "metadata": {},
     "output_type": "execute_result"
    }
   ],
   "source": [
    "from bs4 import BeautifulSoup\n",
    "\n",
    "soup = BeautifulSoup(response.text,'html.parser')\n",
    "type(soup)"
   ]
  },
  {
   "cell_type": "code",
   "execution_count": null,
   "metadata": {},
   "outputs": [],
   "source": []
  },
  {
   "cell_type": "code",
   "execution_count": 5,
   "metadata": {},
   "outputs": [],
   "source": [
    "quartiers = soup.find_all('div',class_='lespharmaciengarde')"
   ]
  },
  {
   "cell_type": "code",
   "execution_count": 6,
   "metadata": {},
   "outputs": [
    {
     "data": {
      "text/plain": [
       "[<div class=\"lespharmaciengarde\">\n",
       " <h4><a href=\"/pharmacie-garde-casablanca/lissasfa.html\">Lissasfa</a></h4>\n",
       " </div>, <div class=\"lespharmaciengarde\">\n",
       " <h4><a href=\"/pharmacie-garde-casablanca/ain-chock.html\">Aïn Chock</a></h4>\n",
       " </div>, <div class=\"lespharmaciengarde\">\n",
       " <h4><a href=\"/pharmacie-garde-casablanca/sidi-moumen.html\">Sidi Moumen</a></h4>\n",
       " </div>, <div class=\"lespharmaciengarde\">\n",
       " <h4><a href=\"/pharmacie-garde-casablanca/ben-msick.html\">Ben Msick</a></h4>\n",
       " </div>, <div class=\"lespharmaciengarde\">\n",
       " <h4><a href=\"/pharmacie-garde-casablanca/sidi-bernoussi.html\">Sidi Bernoussi</a></h4>\n",
       " </div>, <div class=\"lespharmaciengarde\">\n",
       " <h4><a href=\"/pharmacie-garde-casablanca/annasi.html\">Annasi</a></h4>\n",
       " </div>, <div class=\"lespharmaciengarde\">\n",
       " <h4><a href=\"/pharmacie-garde-casablanca/sidi-maarouf.html\">Sidi Maarouf</a></h4>\n",
       " </div>, <div class=\"lespharmaciengarde\">\n",
       " <h4><a href=\"/pharmacie-garde-casablanca/maarif.html\">Maarif</a></h4>\n",
       " </div>, <div class=\"lespharmaciengarde\">\n",
       " <h4><a href=\"/pharmacie-garde-casablanca/belvedere.html\">Belvédère</a></h4>\n",
       " </div>, <div class=\"lespharmaciengarde\">\n",
       " <h4><a href=\"/pharmacie-garde-casablanca/al-azhar-panorama.html\">Al Azhar Panorama</a></h4>\n",
       " </div>, <div class=\"lespharmaciengarde\">\n",
       " <h4><a href=\"/pharmacie-garde-casablanca/hay-moulay-rachid.html\">Hay Moulay Rachid</a></h4>\n",
       " </div>, <div class=\"lespharmaciengarde\">\n",
       " <h4><a href=\"/pharmacie-garde-casablanca/sidi-othmane.html\">Sidi Othmane</a></h4>\n",
       " </div>, <div class=\"lespharmaciengarde\">\n",
       " <h4><a href=\"/pharmacie-garde-casablanca/bourgogne.html\">Bourgogne</a></h4>\n",
       " </div>, <div class=\"lespharmaciengarde\">\n",
       " <h4><a href=\"/pharmacie-garde-casablanca/hay-mohammadi.html\">Hay Mohammadi</a></h4>\n",
       " </div>, <div class=\"lespharmaciengarde\">\n",
       " <h4><a href=\"/pharmacie-garde-casablanca/ain-sebaa.html\">Aïn Sebaâ</a></h4>\n",
       " </div>, <div class=\"lespharmaciengarde\">\n",
       " <h4><a href=\"/pharmacie-garde-casablanca/al-fida.html\">Al Fida</a></h4>\n",
       " </div>, <div class=\"lespharmaciengarde\">\n",
       " <h4><a href=\"/pharmacie-garde-casablanca/oulfa.html\">Oulfa</a></h4>\n",
       " </div>]"
      ]
     },
     "execution_count": 6,
     "metadata": {},
     "output_type": "execute_result"
    }
   ],
   "source": [
    "quartiers"
   ]
  },
  {
   "cell_type": "markdown",
   "metadata": {},
   "source": [
    "**Liste des liens des quartiers **"
   ]
  },
  {
   "cell_type": "code",
   "execution_count": 7,
   "metadata": {},
   "outputs": [],
   "source": [
    "liens = []\n",
    "for i in quartiers:\n",
    "    liens.append(\"https://lematin.ma\"+str(i.find('a')['href']))"
   ]
  },
  {
   "cell_type": "code",
   "execution_count": 8,
   "metadata": {
    "scrolled": true
   },
   "outputs": [
    {
     "name": "stdout",
     "output_type": "stream",
     "text": [
      "https://lematin.ma/pharmacie-garde-casablanca/lissasfa.html\n",
      "https://lematin.ma/pharmacie-garde-casablanca/ain-chock.html\n",
      "https://lematin.ma/pharmacie-garde-casablanca/sidi-moumen.html\n",
      "https://lematin.ma/pharmacie-garde-casablanca/ben-msick.html\n",
      "https://lematin.ma/pharmacie-garde-casablanca/sidi-bernoussi.html\n",
      "https://lematin.ma/pharmacie-garde-casablanca/annasi.html\n",
      "https://lematin.ma/pharmacie-garde-casablanca/sidi-maarouf.html\n",
      "https://lematin.ma/pharmacie-garde-casablanca/maarif.html\n",
      "https://lematin.ma/pharmacie-garde-casablanca/belvedere.html\n",
      "https://lematin.ma/pharmacie-garde-casablanca/al-azhar-panorama.html\n",
      "https://lematin.ma/pharmacie-garde-casablanca/hay-moulay-rachid.html\n",
      "https://lematin.ma/pharmacie-garde-casablanca/sidi-othmane.html\n",
      "https://lematin.ma/pharmacie-garde-casablanca/bourgogne.html\n",
      "https://lematin.ma/pharmacie-garde-casablanca/hay-mohammadi.html\n",
      "https://lematin.ma/pharmacie-garde-casablanca/ain-sebaa.html\n",
      "https://lematin.ma/pharmacie-garde-casablanca/al-fida.html\n",
      "https://lematin.ma/pharmacie-garde-casablanca/oulfa.html\n"
     ]
    }
   ],
   "source": [
    "for i in liens:\n",
    "    print(i)"
   ]
  },
  {
   "cell_type": "markdown",
   "metadata": {},
   "source": [
    "** Liste des quartiers **"
   ]
  },
  {
   "cell_type": "code",
   "execution_count": 9,
   "metadata": {},
   "outputs": [
    {
     "name": "stdout",
     "output_type": "stream",
     "text": [
      "Lissasfa\n",
      "Aïn Chock\n",
      "Sidi Moumen\n",
      "Ben Msick\n",
      "Sidi Bernoussi\n",
      "Annasi\n",
      "Sidi Maarouf\n",
      "Maarif\n",
      "Belvédère\n",
      "Al Azhar Panorama\n",
      "Hay Moulay Rachid\n",
      "Sidi Othmane\n",
      "Bourgogne\n",
      "Hay Mohammadi\n",
      "Aïn Sebaâ\n",
      "Al Fida\n",
      "Oulfa\n"
     ]
    }
   ],
   "source": [
    "liste_quartiers = []\n",
    "for i in quartiers:\n",
    "    liste_quartiers.append(i.find('h4').text)\n",
    "    print(i.find('h4').text)"
   ]
  },
  {
   "cell_type": "code",
   "execution_count": 10,
   "metadata": {},
   "outputs": [
    {
     "data": {
      "text/plain": [
       "['Lissasfa',\n",
       " 'Aïn Chock',\n",
       " 'Sidi Moumen',\n",
       " 'Ben Msick',\n",
       " 'Sidi Bernoussi',\n",
       " 'Annasi',\n",
       " 'Sidi Maarouf',\n",
       " 'Maarif',\n",
       " 'Belvédère',\n",
       " 'Al Azhar Panorama',\n",
       " 'Hay Moulay Rachid',\n",
       " 'Sidi Othmane',\n",
       " 'Bourgogne',\n",
       " 'Hay Mohammadi',\n",
       " 'Aïn Sebaâ',\n",
       " 'Al Fida',\n",
       " 'Oulfa']"
      ]
     },
     "execution_count": 10,
     "metadata": {},
     "output_type": "execute_result"
    }
   ],
   "source": [
    "liste_quartiers"
   ]
  },
  {
   "cell_type": "markdown",
   "metadata": {},
   "source": [
    "Scrap page par page"
   ]
  },
  {
   "cell_type": "code",
   "execution_count": 11,
   "metadata": {},
   "outputs": [],
   "source": [
    "from time import time\n",
    "from time import sleep\n",
    "from random import randint\n",
    "\n",
    "start_time = time()\n",
    "requests = 0\n",
    "\n",
    "from requests import get"
   ]
  },
  {
   "cell_type": "code",
   "execution_count": 12,
   "metadata": {},
   "outputs": [
    {
     "name": "stdout",
     "output_type": "stream",
     "text": [
      "https://lematin.ma/pharmacie-garde-casablanca/lissasfa.html\n",
      "13\n",
      "https://lematin.ma/pharmacie-garde-casablanca/ain-chock.html\n",
      "12\n",
      "https://lematin.ma/pharmacie-garde-casablanca/sidi-moumen.html\n",
      "12\n",
      "https://lematin.ma/pharmacie-garde-casablanca/ben-msick.html\n",
      "15\n",
      "https://lematin.ma/pharmacie-garde-casablanca/sidi-bernoussi.html\n",
      "13\n",
      "https://lematin.ma/pharmacie-garde-casablanca/annasi.html\n",
      "13\n",
      "https://lematin.ma/pharmacie-garde-casablanca/sidi-maarouf.html\n",
      "11\n",
      "https://lematin.ma/pharmacie-garde-casablanca/maarif.html\n",
      "8\n",
      "https://lematin.ma/pharmacie-garde-casablanca/belvedere.html\n",
      "9\n",
      "https://lematin.ma/pharmacie-garde-casablanca/al-azhar-panorama.html\n",
      "10\n",
      "https://lematin.ma/pharmacie-garde-casablanca/hay-moulay-rachid.html\n",
      "14\n",
      "https://lematin.ma/pharmacie-garde-casablanca/sidi-othmane.html\n",
      "12\n",
      "https://lematin.ma/pharmacie-garde-casablanca/bourgogne.html\n",
      "9\n",
      "https://lematin.ma/pharmacie-garde-casablanca/hay-mohammadi.html\n",
      "10\n",
      "https://lematin.ma/pharmacie-garde-casablanca/ain-sebaa.html\n",
      "9\n",
      "https://lematin.ma/pharmacie-garde-casablanca/al-fida.html\n",
      "14\n",
      "https://lematin.ma/pharmacie-garde-casablanca/oulfa.html\n",
      "14\n",
      "*** *** Done *** ***\n"
     ]
    }
   ],
   "source": [
    "noms =[]\n",
    "adresses = []\n",
    "quartiers = []\n",
    "telephones = []\n",
    "\n",
    "for i,j in zip(liens,liste_quartiers):\n",
    "    print(i)\n",
    "    response = get(i)\n",
    "    \n",
    "    timer = randint(8,15)\n",
    "    #pause de loop\n",
    "    print(timer)\n",
    "    sleep(timer)\n",
    "    \n",
    "    #renvoyer un warning pour les non 'status code : 200'\n",
    "    if response.status_code != 200:\n",
    "        warn('Request: {}; Status code: {}'.format(requests, response.status_code))\n",
    "            \n",
    "    #parser en BS\n",
    "    page_html = BeautifulSoup(response.text,'html.parser')\n",
    "    \n",
    "    pharmacies = page_html.find_all('div',class_='pharmacie')\n",
    "    \n",
    "    \"\"\" Noms et adresse \"\"\"\n",
    "    for k in pharmacies:\n",
    "        noms.append(k.find('h5').text) \n",
    "        adresses.append(effacer_telephone(k.find('p').text))\n",
    "        quartiers.append(j)\n",
    "        telephones.append(telephone_pharmacie(k.find('p').text))\n",
    "        \n",
    "    \n",
    "    \n",
    "    \n",
    "\n",
    "print('*** *** Done *** ***')\n",
    "    "
   ]
  },
  {
   "cell_type": "code",
   "execution_count": 13,
   "metadata": {
    "scrolled": true
   },
   "outputs": [
    {
     "data": {
      "text/plain": [
       "['Pharmacie AL AZHAR SALAM',\n",
       " 'Pharmacie ZORAIAI',\n",
       " 'Pharmacie ABDELALI',\n",
       " 'Pharmacie MAJORELLE',\n",
       " 'Pharmacie MECQUA']"
      ]
     },
     "execution_count": 13,
     "metadata": {},
     "output_type": "execute_result"
    }
   ],
   "source": [
    "noms[:5]"
   ]
  },
  {
   "cell_type": "code",
   "execution_count": 14,
   "metadata": {},
   "outputs": [
    {
     "data": {
      "text/plain": [
       "40"
      ]
     },
     "execution_count": 14,
     "metadata": {},
     "output_type": "execute_result"
    }
   ],
   "source": [
    "len(noms)"
   ]
  },
  {
   "cell_type": "code",
   "execution_count": 15,
   "metadata": {},
   "outputs": [
    {
     "data": {
      "text/plain": [
       "['GH54 COMPLEXE RESIDENTIEL AL AZHAR SALAM, N°4 HAY HASSANI',\n",
       " 'LISSASFA II BLOC D N° 250 B',\n",
       " '(EX. CHAARANI) 42, BD TAZA - HAY MOULAY ABDELLAH - INARA 2 - AIN CHOCK',\n",
       " 'COOPERATIVE SOFACA, VOIE AC8 N° 14 - OULED TALEB - OULED HADDOU',\n",
       " '119, ANGLE BD. PANORAMIQUE ET AVENUE MECQUA']"
      ]
     },
     "execution_count": 15,
     "metadata": {},
     "output_type": "execute_result"
    }
   ],
   "source": [
    "adresses[:5]"
   ]
  },
  {
   "cell_type": "code",
   "execution_count": 16,
   "metadata": {},
   "outputs": [
    {
     "data": {
      "text/plain": [
       "40"
      ]
     },
     "execution_count": 16,
     "metadata": {},
     "output_type": "execute_result"
    }
   ],
   "source": [
    "len(adresses)"
   ]
  },
  {
   "cell_type": "code",
   "execution_count": 17,
   "metadata": {
    "scrolled": true
   },
   "outputs": [
    {
     "data": {
      "text/plain": [
       "['Lissasfa', 'Lissasfa', 'Aïn Chock', 'Aïn Chock', 'Aïn Chock']"
      ]
     },
     "execution_count": 17,
     "metadata": {},
     "output_type": "execute_result"
    }
   ],
   "source": [
    "quartiers[:5]"
   ]
  },
  {
   "cell_type": "code",
   "execution_count": 18,
   "metadata": {},
   "outputs": [
    {
     "data": {
      "text/plain": [
       "40"
      ]
     },
     "execution_count": 18,
     "metadata": {},
     "output_type": "execute_result"
    }
   ],
   "source": [
    "len(quartiers)"
   ]
  },
  {
   "cell_type": "code",
   "execution_count": 19,
   "metadata": {},
   "outputs": [
    {
     "data": {
      "text/plain": [
       "['0522911718', '0522651074', '0522218884', '0522508142', '0522525948']"
      ]
     },
     "execution_count": 19,
     "metadata": {},
     "output_type": "execute_result"
    }
   ],
   "source": [
    "telephones[:5]"
   ]
  },
  {
   "cell_type": "code",
   "execution_count": 20,
   "metadata": {},
   "outputs": [
    {
     "data": {
      "text/plain": [
       "40"
      ]
     },
     "execution_count": 20,
     "metadata": {},
     "output_type": "execute_result"
    }
   ],
   "source": [
    "len(telephones)"
   ]
  },
  {
   "cell_type": "code",
   "execution_count": 21,
   "metadata": {},
   "outputs": [],
   "source": [
    "garde = []\n",
    "for i,j,k,l in zip(noms,adresses,quartiers,telephones):\n",
    "    t = (i,j,k,l)\n",
    "    garde.append(t)"
   ]
  },
  {
   "cell_type": "code",
   "execution_count": 22,
   "metadata": {
    "scrolled": true
   },
   "outputs": [
    {
     "name": "stdout",
     "output_type": "stream",
     "text": [
      "[('Pharmacie AL AZHAR SALAM', 'GH54 COMPLEXE RESIDENTIEL AL AZHAR SALAM, N°4 HAY HASSANI', 'Lissasfa', '0522911718'), ('Pharmacie ZORAIAI', 'LISSASFA II BLOC D N° 250 B', 'Lissasfa', '0522651074'), ('Pharmacie ABDELALI', '(EX. CHAARANI) 42, BD TAZA - HAY MOULAY ABDELLAH - INARA 2 - AIN CHOCK', 'Aïn Chock', '0522218884'), ('Pharmacie MAJORELLE', 'COOPERATIVE SOFACA, VOIE AC8 N° 14 - OULED TALEB - OULED HADDOU', 'Aïn Chock', '0522508142'), ('Pharmacie MECQUA', '119, ANGLE BD. PANORAMIQUE ET AVENUE MECQUA', 'Aïn Chock', '0522525948'), ('Pharmacie ANDALOUS', '394, ANGLE BD. PANORAMIQUE & AVENUE DU 2 MARS', 'Aïn Chock', '0522528031'), ('Pharmacie LOTISSEMENT SALIMA', '64, RUE 6 - LOTISSEMENT SALIMA - HAY INARA (PRES DE LA R.T.M.)', 'Aïn Chock', '0522210284'), ('Pharmacie SIHAM', 'ANGLE RUE 31 ET 34 N° 64 - LOTISSEMENT OMARYA - AL INARA', 'Aïn Chock', '0522526303'), ('Pharmacie MIFTAH AL KHAYR', 'N° 3 RUE 5 MOSQUEE ATTAOUABINE - SIDI MOUMEN', 'Sidi Moumen', '0522706084'), ('Pharmacie RAHMANI', 'LOTISSEMENT RAHMANI RUE 14 N° 76 - SIDI MOUMEN', 'Sidi Moumen', '0522728988'), ('Pharmacie EL JOULANE', 'ANGLE BOULEVARD OUED EDDAHAB & BD. EL JOULANE N° 720 - JAMILA 6 - CITE DJEMAA', 'Ben Msick', '0522291700'), ('Pharmacie OCEANIA', '146 - 148, AVENUE DU NIL - CITE DJEMAA', 'Ben Msick', '0522372375'), ('Pharmacie MENDOUR', '33, AVENUE \"C\" LOT. AL HAMIDIA - SIDI BERNOUSSI', 'Sidi Bernoussi', '0522734040'), ('Pharmacie DOUAA', '1, RUE 4 SIDI BERNOUSSI II A COTE SOUK ALLAK', 'Sidi Bernoussi', '0522767453'), ('Pharmacie VALENCIA', 'LOT SALAM 01 LOT 372 \"SAL EXT\" AHL LOGHLAM - SIDI MOUMEN', 'Annasi', '0522743879'), ('Pharmacie ATTENMIA', 'LOTISSEMENT SOUFIANE, IMM. B 2 N° 1 - SIDI MAAROUF', 'Sidi Maarouf', '0522584777'), ('Pharmacie MEFTAHA', 'LOTISSEMENT EL KHAIR LOT. N° 455 - SIDI MAAROUF', 'Sidi Maarouf', '0522974573'), ('Pharmacie DE PARIS', \"60, RUE ALLAL BEN ABDELLAH (EX. RUE DE L'HORLOGE) - (ECOLE PIGIER - CINEMA RIF - FACE CAFE MILANO - BERKLEY)\", 'Maarif', '0522274210'), ('Pharmacie DU MIDI', '10, RUE EL JADIDA, ANCIENNE MEDINA', 'Maarif', '0522220666'), ('Pharmacie CITE PLATEAU', '24 BIS, AVENUE STANDHAL - CITE PLATEAU (FACE PATISSERIE AL MAQUAM)', 'Maarif', '0522250571'), ('Pharmacie KOUNOUZ AL KHAIR', \"RUE L'ARDECHE N° 5 - POLO (PRES MOSQUEE CHEFCHAOUNI - DERRIERE LYCEE MY. ABDELLAH)\", 'Maarif', '0522829774'), ('Pharmacie DU CEDRE', 'BD MOHAMED ABDOU QUARTIER PALMIER ROND POINT PALMIER', 'Maarif', '0522251467'), ('Pharmacie IBNOU KATIR', '26, RUE IMPASSE IBNOU KATIR (DERRIERE SOCRATE) - MAARIF', 'Maarif', '0522234183'), ('Pharmacie AL INAYA', 'BOULEVARD MOULAY ISMAIL - CITE DES CHEMINOTS - N° 80-81-82', 'Belvédère', '0522241773'), ('Pharmacie AL AMANA', '419 LOT AL AMANA Tr 01 AHL LOGHLAM - SIDI MOUMEN', 'Al Azhar Panorama', '0522758145'), ('Pharmacie DU GRAND MAGHREB', 'HAY MOULAY RACHID - GROUPE 2 - RUE 11 N° 110 (FACE DISPENSAIRE MY. RACHID)', 'Hay Moulay Rachid', '0522709560'), ('Pharmacie LILAS MADINA AL JADIDA', '262, BD 20 AOUT MEDINA AL JADIDA (PRES DE ANNEXE DISTRICT MY RACHID)', 'Hay Moulay Rachid', '0522709635'), ('Pharmacie JAWAD', 'HAY MOULAY RACHID II RUE 5 N° 60 BOURNAZEL (PERCEPTION SIDI OTHMANE)', 'Sidi Othmane', '0522705502'), ('Pharmacie DAWLIZ', '3, BD TAN - TAN - QUARTIER EL HANK (TERMINUS 38) EL HANK', 'Bourgogne', '0522362574'), ('Pharmacie EL FETOUAKI', 'N° 1 BIS, RUE 2, LOTISSEMENT TAFRAOUT HAY MOHAMMADI', 'Hay Mohammadi', '0522665850'), ('Pharmacie IBN SINA', '319, BD. CHOUHADA - HAY MOHAMMADI (PRES CINEMA ESSAADA)', 'Hay Mohammadi', '0522620731'), ('Pharmacie HAY HAKAM', 'QUARTIER HAKAM I, RUE 21 N° 40 - HAY MOHAMMADI', 'Hay Mohammadi', '0522624646'), ('Pharmacie AIN SEBAA', '15/17, PLACE TIZI OUZLI - (PLACE DU MARCHE) - AIN SEBAA', 'Aïn Sebaâ', '0522350362'), ('Pharmacie VIDAL', '404, BD. DE LA GRANDE CEINTURE - AIN SEBAA (FACE TERRAIN EL ARBI ZAOULI)', 'Aïn Sebaâ', '0522343218'), ('Pharmacie AICHA', '167, BOULEVARD MODIBO KEITA', 'Al Fida', '0522281796'), ('Pharmacie GHAZALI', 'PROJET OMAR BNOU AL KHATTAB (EX. DERB MILAN) - 2ème TRANCHE N° 148', 'Al Fida', '0522806597'), ('Pharmacie DU MECHOUAR', '93, RUE LIBOURNE - CROISEMENT BD. MOHAMED VI & BD. LA RESISTANCE', 'Al Fida', '0522304990'), ('Pharmacie EL JAOUI', 'RUE 22 N° 36 - HAY EL HANA', 'Oulfa', '0522399124'), ('Pharmacie EL MANAL', '320, BOULEVARD OUED OUM ERRABII - EL OULFA (MOSQUEE BEN RAYEN - EX. KSABRI)', 'Oulfa', '0522932829'), ('Pharmacie GHAFIRI', '22, ANGLE RUE ABOURROUSS & BD. TERRAINS DE SPORT(FERME BRETONNE- FACE DU COC)', 'Oulfa', '0522250645')]\n"
     ]
    }
   ],
   "source": [
    "print(garde)"
   ]
  },
  {
   "cell_type": "markdown",
   "metadata": {},
   "source": [
    "## Convertir en objet pandas"
   ]
  },
  {
   "cell_type": "code",
   "execution_count": 23,
   "metadata": {},
   "outputs": [],
   "source": [
    "import pandas as pd"
   ]
  },
  {
   "cell_type": "code",
   "execution_count": 24,
   "metadata": {},
   "outputs": [],
   "source": [
    "df = pd.DataFrame(garde,columns=['nom','adresse','quartier','telephone'])"
   ]
  },
  {
   "cell_type": "code",
   "execution_count": 25,
   "metadata": {},
   "outputs": [
    {
     "data": {
      "text/html": [
       "<div>\n",
       "<style>\n",
       "    .dataframe thead tr:only-child th {\n",
       "        text-align: right;\n",
       "    }\n",
       "\n",
       "    .dataframe thead th {\n",
       "        text-align: left;\n",
       "    }\n",
       "\n",
       "    .dataframe tbody tr th {\n",
       "        vertical-align: top;\n",
       "    }\n",
       "</style>\n",
       "<table border=\"1\" class=\"dataframe\">\n",
       "  <thead>\n",
       "    <tr style=\"text-align: right;\">\n",
       "      <th></th>\n",
       "      <th>nom</th>\n",
       "      <th>adresse</th>\n",
       "      <th>quartier</th>\n",
       "      <th>telephone</th>\n",
       "    </tr>\n",
       "  </thead>\n",
       "  <tbody>\n",
       "    <tr>\n",
       "      <th>0</th>\n",
       "      <td>Pharmacie AL AZHAR SALAM</td>\n",
       "      <td>GH54 COMPLEXE RESIDENTIEL AL AZHAR SALAM, N°4 ...</td>\n",
       "      <td>Lissasfa</td>\n",
       "      <td>0522911718</td>\n",
       "    </tr>\n",
       "    <tr>\n",
       "      <th>1</th>\n",
       "      <td>Pharmacie ZORAIAI</td>\n",
       "      <td>LISSASFA II BLOC D N° 250 B</td>\n",
       "      <td>Lissasfa</td>\n",
       "      <td>0522651074</td>\n",
       "    </tr>\n",
       "    <tr>\n",
       "      <th>2</th>\n",
       "      <td>Pharmacie ABDELALI</td>\n",
       "      <td>(EX. CHAARANI) 42, BD TAZA - HAY MOULAY ABDELL...</td>\n",
       "      <td>Aïn Chock</td>\n",
       "      <td>0522218884</td>\n",
       "    </tr>\n",
       "    <tr>\n",
       "      <th>3</th>\n",
       "      <td>Pharmacie MAJORELLE</td>\n",
       "      <td>COOPERATIVE SOFACA, VOIE AC8 N° 14 - OULED TAL...</td>\n",
       "      <td>Aïn Chock</td>\n",
       "      <td>0522508142</td>\n",
       "    </tr>\n",
       "    <tr>\n",
       "      <th>4</th>\n",
       "      <td>Pharmacie MECQUA</td>\n",
       "      <td>119, ANGLE BD. PANORAMIQUE ET AVENUE MECQUA</td>\n",
       "      <td>Aïn Chock</td>\n",
       "      <td>0522525948</td>\n",
       "    </tr>\n",
       "    <tr>\n",
       "      <th>5</th>\n",
       "      <td>Pharmacie ANDALOUS</td>\n",
       "      <td>394, ANGLE BD. PANORAMIQUE &amp; AVENUE DU 2 MARS</td>\n",
       "      <td>Aïn Chock</td>\n",
       "      <td>0522528031</td>\n",
       "    </tr>\n",
       "    <tr>\n",
       "      <th>6</th>\n",
       "      <td>Pharmacie LOTISSEMENT SALIMA</td>\n",
       "      <td>64, RUE 6 - LOTISSEMENT SALIMA - HAY INARA (PR...</td>\n",
       "      <td>Aïn Chock</td>\n",
       "      <td>0522210284</td>\n",
       "    </tr>\n",
       "    <tr>\n",
       "      <th>7</th>\n",
       "      <td>Pharmacie SIHAM</td>\n",
       "      <td>ANGLE RUE 31 ET 34 N° 64 - LOTISSEMENT OMARYA ...</td>\n",
       "      <td>Aïn Chock</td>\n",
       "      <td>0522526303</td>\n",
       "    </tr>\n",
       "    <tr>\n",
       "      <th>8</th>\n",
       "      <td>Pharmacie MIFTAH AL KHAYR</td>\n",
       "      <td>N° 3 RUE 5 MOSQUEE ATTAOUABINE - SIDI MOUMEN</td>\n",
       "      <td>Sidi Moumen</td>\n",
       "      <td>0522706084</td>\n",
       "    </tr>\n",
       "    <tr>\n",
       "      <th>9</th>\n",
       "      <td>Pharmacie RAHMANI</td>\n",
       "      <td>LOTISSEMENT RAHMANI RUE 14 N° 76 - SIDI MOUMEN</td>\n",
       "      <td>Sidi Moumen</td>\n",
       "      <td>0522728988</td>\n",
       "    </tr>\n",
       "    <tr>\n",
       "      <th>10</th>\n",
       "      <td>Pharmacie EL JOULANE</td>\n",
       "      <td>ANGLE BOULEVARD OUED EDDAHAB &amp; BD. EL JOULANE ...</td>\n",
       "      <td>Ben Msick</td>\n",
       "      <td>0522291700</td>\n",
       "    </tr>\n",
       "    <tr>\n",
       "      <th>11</th>\n",
       "      <td>Pharmacie OCEANIA</td>\n",
       "      <td>146 - 148, AVENUE DU NIL - CITE DJEMAA</td>\n",
       "      <td>Ben Msick</td>\n",
       "      <td>0522372375</td>\n",
       "    </tr>\n",
       "    <tr>\n",
       "      <th>12</th>\n",
       "      <td>Pharmacie MENDOUR</td>\n",
       "      <td>33, AVENUE \"C\" LOT. AL HAMIDIA - SIDI BERNOUSSI</td>\n",
       "      <td>Sidi Bernoussi</td>\n",
       "      <td>0522734040</td>\n",
       "    </tr>\n",
       "    <tr>\n",
       "      <th>13</th>\n",
       "      <td>Pharmacie DOUAA</td>\n",
       "      <td>1, RUE 4 SIDI BERNOUSSI II A COTE SOUK ALLAK</td>\n",
       "      <td>Sidi Bernoussi</td>\n",
       "      <td>0522767453</td>\n",
       "    </tr>\n",
       "    <tr>\n",
       "      <th>14</th>\n",
       "      <td>Pharmacie VALENCIA</td>\n",
       "      <td>LOT SALAM 01 LOT 372 \"SAL EXT\" AHL LOGHLAM - S...</td>\n",
       "      <td>Annasi</td>\n",
       "      <td>0522743879</td>\n",
       "    </tr>\n",
       "    <tr>\n",
       "      <th>15</th>\n",
       "      <td>Pharmacie ATTENMIA</td>\n",
       "      <td>LOTISSEMENT SOUFIANE, IMM. B 2 N° 1 - SIDI MAA...</td>\n",
       "      <td>Sidi Maarouf</td>\n",
       "      <td>0522584777</td>\n",
       "    </tr>\n",
       "    <tr>\n",
       "      <th>16</th>\n",
       "      <td>Pharmacie MEFTAHA</td>\n",
       "      <td>LOTISSEMENT EL KHAIR LOT. N° 455 - SIDI MAAROUF</td>\n",
       "      <td>Sidi Maarouf</td>\n",
       "      <td>0522974573</td>\n",
       "    </tr>\n",
       "    <tr>\n",
       "      <th>17</th>\n",
       "      <td>Pharmacie DE PARIS</td>\n",
       "      <td>60, RUE ALLAL BEN ABDELLAH (EX. RUE DE L'HORLO...</td>\n",
       "      <td>Maarif</td>\n",
       "      <td>0522274210</td>\n",
       "    </tr>\n",
       "    <tr>\n",
       "      <th>18</th>\n",
       "      <td>Pharmacie DU MIDI</td>\n",
       "      <td>10, RUE EL JADIDA, ANCIENNE MEDINA</td>\n",
       "      <td>Maarif</td>\n",
       "      <td>0522220666</td>\n",
       "    </tr>\n",
       "    <tr>\n",
       "      <th>19</th>\n",
       "      <td>Pharmacie CITE PLATEAU</td>\n",
       "      <td>24 BIS, AVENUE STANDHAL - CITE PLATEAU (FACE P...</td>\n",
       "      <td>Maarif</td>\n",
       "      <td>0522250571</td>\n",
       "    </tr>\n",
       "    <tr>\n",
       "      <th>20</th>\n",
       "      <td>Pharmacie KOUNOUZ AL KHAIR</td>\n",
       "      <td>RUE L'ARDECHE N° 5 - POLO (PRES MOSQUEE CHEFCH...</td>\n",
       "      <td>Maarif</td>\n",
       "      <td>0522829774</td>\n",
       "    </tr>\n",
       "    <tr>\n",
       "      <th>21</th>\n",
       "      <td>Pharmacie DU CEDRE</td>\n",
       "      <td>BD MOHAMED ABDOU QUARTIER PALMIER ROND POINT P...</td>\n",
       "      <td>Maarif</td>\n",
       "      <td>0522251467</td>\n",
       "    </tr>\n",
       "    <tr>\n",
       "      <th>22</th>\n",
       "      <td>Pharmacie IBNOU KATIR</td>\n",
       "      <td>26, RUE IMPASSE IBNOU KATIR (DERRIERE SOCRATE)...</td>\n",
       "      <td>Maarif</td>\n",
       "      <td>0522234183</td>\n",
       "    </tr>\n",
       "    <tr>\n",
       "      <th>23</th>\n",
       "      <td>Pharmacie AL INAYA</td>\n",
       "      <td>BOULEVARD MOULAY ISMAIL - CITE DES CHEMINOTS -...</td>\n",
       "      <td>Belvédère</td>\n",
       "      <td>0522241773</td>\n",
       "    </tr>\n",
       "    <tr>\n",
       "      <th>24</th>\n",
       "      <td>Pharmacie AL AMANA</td>\n",
       "      <td>419 LOT AL AMANA Tr 01 AHL LOGHLAM - SIDI MOUMEN</td>\n",
       "      <td>Al Azhar Panorama</td>\n",
       "      <td>0522758145</td>\n",
       "    </tr>\n",
       "    <tr>\n",
       "      <th>25</th>\n",
       "      <td>Pharmacie DU GRAND MAGHREB</td>\n",
       "      <td>HAY MOULAY RACHID - GROUPE 2 - RUE 11 N° 110 (...</td>\n",
       "      <td>Hay Moulay Rachid</td>\n",
       "      <td>0522709560</td>\n",
       "    </tr>\n",
       "    <tr>\n",
       "      <th>26</th>\n",
       "      <td>Pharmacie LILAS MADINA AL JADIDA</td>\n",
       "      <td>262, BD 20 AOUT MEDINA AL JADIDA (PRES DE ANNE...</td>\n",
       "      <td>Hay Moulay Rachid</td>\n",
       "      <td>0522709635</td>\n",
       "    </tr>\n",
       "    <tr>\n",
       "      <th>27</th>\n",
       "      <td>Pharmacie JAWAD</td>\n",
       "      <td>HAY MOULAY RACHID II RUE 5 N° 60 BOURNAZEL (PE...</td>\n",
       "      <td>Sidi Othmane</td>\n",
       "      <td>0522705502</td>\n",
       "    </tr>\n",
       "    <tr>\n",
       "      <th>28</th>\n",
       "      <td>Pharmacie DAWLIZ</td>\n",
       "      <td>3, BD TAN - TAN - QUARTIER EL HANK (TERMINUS 3...</td>\n",
       "      <td>Bourgogne</td>\n",
       "      <td>0522362574</td>\n",
       "    </tr>\n",
       "    <tr>\n",
       "      <th>29</th>\n",
       "      <td>Pharmacie EL FETOUAKI</td>\n",
       "      <td>N° 1 BIS, RUE 2, LOTISSEMENT TAFRAOUT HAY MOHA...</td>\n",
       "      <td>Hay Mohammadi</td>\n",
       "      <td>0522665850</td>\n",
       "    </tr>\n",
       "    <tr>\n",
       "      <th>30</th>\n",
       "      <td>Pharmacie IBN SINA</td>\n",
       "      <td>319, BD. CHOUHADA - HAY MOHAMMADI (PRES CINEMA...</td>\n",
       "      <td>Hay Mohammadi</td>\n",
       "      <td>0522620731</td>\n",
       "    </tr>\n",
       "    <tr>\n",
       "      <th>31</th>\n",
       "      <td>Pharmacie HAY HAKAM</td>\n",
       "      <td>QUARTIER HAKAM I, RUE 21 N° 40 - HAY MOHAMMADI</td>\n",
       "      <td>Hay Mohammadi</td>\n",
       "      <td>0522624646</td>\n",
       "    </tr>\n",
       "    <tr>\n",
       "      <th>32</th>\n",
       "      <td>Pharmacie AIN SEBAA</td>\n",
       "      <td>15/17, PLACE TIZI OUZLI - (PLACE DU MARCHE) - ...</td>\n",
       "      <td>Aïn Sebaâ</td>\n",
       "      <td>0522350362</td>\n",
       "    </tr>\n",
       "    <tr>\n",
       "      <th>33</th>\n",
       "      <td>Pharmacie VIDAL</td>\n",
       "      <td>404, BD. DE LA GRANDE CEINTURE - AIN SEBAA (FA...</td>\n",
       "      <td>Aïn Sebaâ</td>\n",
       "      <td>0522343218</td>\n",
       "    </tr>\n",
       "    <tr>\n",
       "      <th>34</th>\n",
       "      <td>Pharmacie AICHA</td>\n",
       "      <td>167, BOULEVARD MODIBO KEITA</td>\n",
       "      <td>Al Fida</td>\n",
       "      <td>0522281796</td>\n",
       "    </tr>\n",
       "    <tr>\n",
       "      <th>35</th>\n",
       "      <td>Pharmacie GHAZALI</td>\n",
       "      <td>PROJET OMAR BNOU AL KHATTAB (EX. DERB MILAN) -...</td>\n",
       "      <td>Al Fida</td>\n",
       "      <td>0522806597</td>\n",
       "    </tr>\n",
       "    <tr>\n",
       "      <th>36</th>\n",
       "      <td>Pharmacie DU MECHOUAR</td>\n",
       "      <td>93, RUE LIBOURNE - CROISEMENT BD. MOHAMED VI &amp;...</td>\n",
       "      <td>Al Fida</td>\n",
       "      <td>0522304990</td>\n",
       "    </tr>\n",
       "    <tr>\n",
       "      <th>37</th>\n",
       "      <td>Pharmacie EL JAOUI</td>\n",
       "      <td>RUE 22 N° 36 - HAY EL HANA</td>\n",
       "      <td>Oulfa</td>\n",
       "      <td>0522399124</td>\n",
       "    </tr>\n",
       "    <tr>\n",
       "      <th>38</th>\n",
       "      <td>Pharmacie EL MANAL</td>\n",
       "      <td>320, BOULEVARD OUED OUM ERRABII - EL OULFA (MO...</td>\n",
       "      <td>Oulfa</td>\n",
       "      <td>0522932829</td>\n",
       "    </tr>\n",
       "    <tr>\n",
       "      <th>39</th>\n",
       "      <td>Pharmacie GHAFIRI</td>\n",
       "      <td>22, ANGLE RUE ABOURROUSS &amp; BD. TERRAINS DE SPO...</td>\n",
       "      <td>Oulfa</td>\n",
       "      <td>0522250645</td>\n",
       "    </tr>\n",
       "  </tbody>\n",
       "</table>\n",
       "</div>"
      ],
      "text/plain": [
       "                                 nom  \\\n",
       "0           Pharmacie AL AZHAR SALAM   \n",
       "1                  Pharmacie ZORAIAI   \n",
       "2                 Pharmacie ABDELALI   \n",
       "3                Pharmacie MAJORELLE   \n",
       "4                   Pharmacie MECQUA   \n",
       "5                 Pharmacie ANDALOUS   \n",
       "6       Pharmacie LOTISSEMENT SALIMA   \n",
       "7                    Pharmacie SIHAM   \n",
       "8          Pharmacie MIFTAH AL KHAYR   \n",
       "9                  Pharmacie RAHMANI   \n",
       "10              Pharmacie EL JOULANE   \n",
       "11                 Pharmacie OCEANIA   \n",
       "12                 Pharmacie MENDOUR   \n",
       "13                   Pharmacie DOUAA   \n",
       "14                Pharmacie VALENCIA   \n",
       "15                Pharmacie ATTENMIA   \n",
       "16                 Pharmacie MEFTAHA   \n",
       "17                Pharmacie DE PARIS   \n",
       "18                 Pharmacie DU MIDI   \n",
       "19            Pharmacie CITE PLATEAU   \n",
       "20        Pharmacie KOUNOUZ AL KHAIR   \n",
       "21                Pharmacie DU CEDRE   \n",
       "22             Pharmacie IBNOU KATIR   \n",
       "23                Pharmacie AL INAYA   \n",
       "24                Pharmacie AL AMANA   \n",
       "25        Pharmacie DU GRAND MAGHREB   \n",
       "26  Pharmacie LILAS MADINA AL JADIDA   \n",
       "27                   Pharmacie JAWAD   \n",
       "28                  Pharmacie DAWLIZ   \n",
       "29             Pharmacie EL FETOUAKI   \n",
       "30                Pharmacie IBN SINA   \n",
       "31               Pharmacie HAY HAKAM   \n",
       "32               Pharmacie AIN SEBAA   \n",
       "33                   Pharmacie VIDAL   \n",
       "34                   Pharmacie AICHA   \n",
       "35                 Pharmacie GHAZALI   \n",
       "36             Pharmacie DU MECHOUAR   \n",
       "37                Pharmacie EL JAOUI   \n",
       "38                Pharmacie EL MANAL   \n",
       "39                 Pharmacie GHAFIRI   \n",
       "\n",
       "                                              adresse           quartier  \\\n",
       "0   GH54 COMPLEXE RESIDENTIEL AL AZHAR SALAM, N°4 ...           Lissasfa   \n",
       "1                         LISSASFA II BLOC D N° 250 B           Lissasfa   \n",
       "2   (EX. CHAARANI) 42, BD TAZA - HAY MOULAY ABDELL...          Aïn Chock   \n",
       "3   COOPERATIVE SOFACA, VOIE AC8 N° 14 - OULED TAL...          Aïn Chock   \n",
       "4         119, ANGLE BD. PANORAMIQUE ET AVENUE MECQUA          Aïn Chock   \n",
       "5       394, ANGLE BD. PANORAMIQUE & AVENUE DU 2 MARS          Aïn Chock   \n",
       "6   64, RUE 6 - LOTISSEMENT SALIMA - HAY INARA (PR...          Aïn Chock   \n",
       "7   ANGLE RUE 31 ET 34 N° 64 - LOTISSEMENT OMARYA ...          Aïn Chock   \n",
       "8        N° 3 RUE 5 MOSQUEE ATTAOUABINE - SIDI MOUMEN        Sidi Moumen   \n",
       "9      LOTISSEMENT RAHMANI RUE 14 N° 76 - SIDI MOUMEN        Sidi Moumen   \n",
       "10  ANGLE BOULEVARD OUED EDDAHAB & BD. EL JOULANE ...          Ben Msick   \n",
       "11             146 - 148, AVENUE DU NIL - CITE DJEMAA          Ben Msick   \n",
       "12    33, AVENUE \"C\" LOT. AL HAMIDIA - SIDI BERNOUSSI     Sidi Bernoussi   \n",
       "13       1, RUE 4 SIDI BERNOUSSI II A COTE SOUK ALLAK     Sidi Bernoussi   \n",
       "14  LOT SALAM 01 LOT 372 \"SAL EXT\" AHL LOGHLAM - S...             Annasi   \n",
       "15  LOTISSEMENT SOUFIANE, IMM. B 2 N° 1 - SIDI MAA...       Sidi Maarouf   \n",
       "16    LOTISSEMENT EL KHAIR LOT. N° 455 - SIDI MAAROUF       Sidi Maarouf   \n",
       "17  60, RUE ALLAL BEN ABDELLAH (EX. RUE DE L'HORLO...             Maarif   \n",
       "18                 10, RUE EL JADIDA, ANCIENNE MEDINA             Maarif   \n",
       "19  24 BIS, AVENUE STANDHAL - CITE PLATEAU (FACE P...             Maarif   \n",
       "20  RUE L'ARDECHE N° 5 - POLO (PRES MOSQUEE CHEFCH...             Maarif   \n",
       "21  BD MOHAMED ABDOU QUARTIER PALMIER ROND POINT P...             Maarif   \n",
       "22  26, RUE IMPASSE IBNOU KATIR (DERRIERE SOCRATE)...             Maarif   \n",
       "23  BOULEVARD MOULAY ISMAIL - CITE DES CHEMINOTS -...          Belvédère   \n",
       "24   419 LOT AL AMANA Tr 01 AHL LOGHLAM - SIDI MOUMEN  Al Azhar Panorama   \n",
       "25  HAY MOULAY RACHID - GROUPE 2 - RUE 11 N° 110 (...  Hay Moulay Rachid   \n",
       "26  262, BD 20 AOUT MEDINA AL JADIDA (PRES DE ANNE...  Hay Moulay Rachid   \n",
       "27  HAY MOULAY RACHID II RUE 5 N° 60 BOURNAZEL (PE...       Sidi Othmane   \n",
       "28  3, BD TAN - TAN - QUARTIER EL HANK (TERMINUS 3...          Bourgogne   \n",
       "29  N° 1 BIS, RUE 2, LOTISSEMENT TAFRAOUT HAY MOHA...      Hay Mohammadi   \n",
       "30  319, BD. CHOUHADA - HAY MOHAMMADI (PRES CINEMA...      Hay Mohammadi   \n",
       "31     QUARTIER HAKAM I, RUE 21 N° 40 - HAY MOHAMMADI      Hay Mohammadi   \n",
       "32  15/17, PLACE TIZI OUZLI - (PLACE DU MARCHE) - ...          Aïn Sebaâ   \n",
       "33  404, BD. DE LA GRANDE CEINTURE - AIN SEBAA (FA...          Aïn Sebaâ   \n",
       "34                        167, BOULEVARD MODIBO KEITA            Al Fida   \n",
       "35  PROJET OMAR BNOU AL KHATTAB (EX. DERB MILAN) -...            Al Fida   \n",
       "36  93, RUE LIBOURNE - CROISEMENT BD. MOHAMED VI &...            Al Fida   \n",
       "37                         RUE 22 N° 36 - HAY EL HANA              Oulfa   \n",
       "38  320, BOULEVARD OUED OUM ERRABII - EL OULFA (MO...              Oulfa   \n",
       "39  22, ANGLE RUE ABOURROUSS & BD. TERRAINS DE SPO...              Oulfa   \n",
       "\n",
       "     telephone  \n",
       "0   0522911718  \n",
       "1   0522651074  \n",
       "2   0522218884  \n",
       "3   0522508142  \n",
       "4   0522525948  \n",
       "5   0522528031  \n",
       "6   0522210284  \n",
       "7   0522526303  \n",
       "8   0522706084  \n",
       "9   0522728988  \n",
       "10  0522291700  \n",
       "11  0522372375  \n",
       "12  0522734040  \n",
       "13  0522767453  \n",
       "14  0522743879  \n",
       "15  0522584777  \n",
       "16  0522974573  \n",
       "17  0522274210  \n",
       "18  0522220666  \n",
       "19  0522250571  \n",
       "20  0522829774  \n",
       "21  0522251467  \n",
       "22  0522234183  \n",
       "23  0522241773  \n",
       "24  0522758145  \n",
       "25  0522709560  \n",
       "26  0522709635  \n",
       "27  0522705502  \n",
       "28  0522362574  \n",
       "29  0522665850  \n",
       "30  0522620731  \n",
       "31  0522624646  \n",
       "32  0522350362  \n",
       "33  0522343218  \n",
       "34  0522281796  \n",
       "35  0522806597  \n",
       "36  0522304990  \n",
       "37  0522399124  \n",
       "38  0522932829  \n",
       "39  0522250645  "
      ]
     },
     "execution_count": 25,
     "metadata": {},
     "output_type": "execute_result"
    }
   ],
   "source": [
    "df"
   ]
  },
  {
   "cell_type": "markdown",
   "metadata": {},
   "source": [
    "** -------------- **"
   ]
  }
 ],
 "metadata": {
  "kernelspec": {
   "display_name": "Python 3",
   "language": "python",
   "name": "python3"
  },
  "language_info": {
   "codemirror_mode": {
    "name": "ipython",
    "version": 3
   },
   "file_extension": ".py",
   "mimetype": "text/x-python",
   "name": "python",
   "nbconvert_exporter": "python",
   "pygments_lexer": "ipython3",
   "version": "3.6.1"
  }
 },
 "nbformat": 4,
 "nbformat_minor": 2
}
