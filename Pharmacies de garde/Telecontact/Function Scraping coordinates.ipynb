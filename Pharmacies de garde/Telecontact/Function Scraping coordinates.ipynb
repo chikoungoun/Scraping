{
 "cells": [
  {
   "cell_type": "markdown",
   "metadata": {},
   "source": [
    "# Scraping the location coordinates from the telecontact website using BeautifulSoup text"
   ]
  },
  {
   "cell_type": "code",
   "execution_count": 55,
   "metadata": {},
   "outputs": [],
   "source": [
    "import requests\n",
    "\n",
    "def coordinates(u):\n",
    "    \n",
    "    response = requests.get(url)\n",
    "    s = response.text\n",
    "\n",
    "    print(\"setView\" in s)\n",
    "    \n",
    "    #Isolate SetView\n",
    "    deb = s.find('setView')\n",
    "    setview = s[deb:]\n",
    "    fin = setview.find(']')\n",
    "    setview_full =  setview[:fin+1]\n",
    "    \n",
    "    #Take out the elements \n",
    "    s_full = setview_full[setview_full.find('[')+1:setview_full.find(']')]\n",
    "    return s_full"
   ]
  },
  {
   "cell_type": "markdown",
   "metadata": {},
   "source": [
    "** Testing the code **"
   ]
  },
  {
   "cell_type": "code",
   "execution_count": 51,
   "metadata": {},
   "outputs": [],
   "source": [
    "url = 'https://www.telecontact.ma/plan-acces/pharmacie-oc-anic-/3039567/casablanca'"
   ]
  },
  {
   "cell_type": "code",
   "execution_count": 56,
   "metadata": {
    "scrolled": true
   },
   "outputs": [
    {
     "name": "stdout",
     "output_type": "stream",
     "text": [
      "True\n"
     ]
    }
   ],
   "source": [
    "coor = coordinates(url)"
   ]
  },
  {
   "cell_type": "code",
   "execution_count": 59,
   "metadata": {},
   "outputs": [],
   "source": [
    "lat,lng = coor.split(',')"
   ]
  },
  {
   "cell_type": "code",
   "execution_count": 60,
   "metadata": {},
   "outputs": [
    {
     "name": "stdout",
     "output_type": "stream",
     "text": [
      "33.62083610090128\n",
      " -7.530997485550125\n"
     ]
    }
   ],
   "source": [
    "print(lat)\n",
    "print(lng)"
   ]
  },
  {
   "cell_type": "code",
   "execution_count": null,
   "metadata": {},
   "outputs": [],
   "source": []
  },
  {
   "cell_type": "code",
   "execution_count": null,
   "metadata": {},
   "outputs": [],
   "source": []
  }
 ],
 "metadata": {
  "kernelspec": {
   "display_name": "Python 3",
   "language": "python",
   "name": "python3"
  },
  "language_info": {
   "codemirror_mode": {
    "name": "ipython",
    "version": 3
   },
   "file_extension": ".py",
   "mimetype": "text/x-python",
   "name": "python",
   "nbconvert_exporter": "python",
   "pygments_lexer": "ipython3",
   "version": "3.6.1"
  }
 },
 "nbformat": 4,
 "nbformat_minor": 2
}
