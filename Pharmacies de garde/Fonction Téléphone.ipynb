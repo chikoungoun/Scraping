{
 "cells": [
  {
   "cell_type": "markdown",
   "metadata": {},
   "source": [
    "# Extraire le numéro de téléphone des pharmacies"
   ]
  },
  {
   "cell_type": "code",
   "execution_count": 13,
   "metadata": {},
   "outputs": [],
   "source": [
    "def telephone_pharmacie(adress):\n",
    "    #renverser la chaine de caractères\n",
    "    adress[::-1]\n",
    "    \n",
    "    #extraire le téléphone inversé\n",
    "    ntel = ''\n",
    "    for i in adress[::-1]:\n",
    "        if i == ':':\n",
    "            break\n",
    "        else:\n",
    "            print(i)\n",
    "            ntel = ntel + i\n",
    "        \n",
    "    #remettre le num de tel à l'endroit\n",
    "    tel = ''\n",
    "    for i in ntel[::-1]:\n",
    "        tel = tel + i\n",
    "        \n",
    "    return tel.strip()"
   ]
  },
  {
   "cell_type": "code",
   "execution_count": 14,
   "metadata": {},
   "outputs": [],
   "source": [
    "d = '93, RUE LIBOURNE - CROISEMENT BD. MOHAMED VI & BD. LA RESISTANCE - Tél : 0522.30.49.90'"
   ]
  },
  {
   "cell_type": "markdown",
   "metadata": {},
   "source": [
    "Tester la fonction"
   ]
  },
  {
   "cell_type": "code",
   "execution_count": 15,
   "metadata": {},
   "outputs": [
    {
     "name": "stdout",
     "output_type": "stream",
     "text": [
      "0\n",
      "9\n",
      ".\n",
      "9\n",
      "4\n",
      ".\n",
      "0\n",
      "3\n",
      ".\n",
      "2\n",
      "2\n",
      "5\n",
      "0\n",
      " \n"
     ]
    }
   ],
   "source": [
    "x = telephone_pharmacie(d)"
   ]
  },
  {
   "cell_type": "code",
   "execution_count": 16,
   "metadata": {},
   "outputs": [
    {
     "data": {
      "text/plain": [
       "'0522.30.49.90'"
      ]
     },
     "execution_count": 16,
     "metadata": {},
     "output_type": "execute_result"
    }
   ],
   "source": [
    "x"
   ]
  },
  {
   "cell_type": "code",
   "execution_count": null,
   "metadata": {},
   "outputs": [],
   "source": []
  }
 ],
 "metadata": {
  "kernelspec": {
   "display_name": "Python 3",
   "language": "python",
   "name": "python3"
  },
  "language_info": {
   "codemirror_mode": {
    "name": "ipython",
    "version": 3
   },
   "file_extension": ".py",
   "mimetype": "text/x-python",
   "name": "python",
   "nbconvert_exporter": "python",
   "pygments_lexer": "ipython3",
   "version": "3.6.1"
  }
 },
 "nbformat": 4,
 "nbformat_minor": 2
}
