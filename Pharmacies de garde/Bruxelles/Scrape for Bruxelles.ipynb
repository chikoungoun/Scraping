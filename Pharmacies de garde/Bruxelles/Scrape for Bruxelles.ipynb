{
 "cells": [
  {
   "cell_type": "code",
   "execution_count": 1,
   "metadata": {},
   "outputs": [
    {
     "name": "stdout",
     "output_type": "stream",
     "text": [
      "Pharmacie de l'étoile\n",
      "Rue de l'Enseignement 38\n",
      "1000 Bruxelles\n",
      "--------------------------------------------------------------------------------\n",
      "Pharmacie St. Géry\n",
      "Rue Van Artevelde 20\n",
      "1000 Bruxelles\n",
      "--------------------------------------------------------------------------------\n",
      "Pharmacie Tete\n",
      "Avenue Jean Volders 50\n",
      "1060 Saint-Gilles\n",
      "--------------------------------------------------------------------------------\n",
      "Pharmacie de la Duch.de Brabant\n",
      "Place de la Duchesse de Brabant 39\n",
      "1080 Molenbeek-Saint-Jean\n",
      "--------------------------------------------------------------------------------\n",
      "Pharmacie Laytimi Khadija\n",
      "Chaussée d'Ixelles 274\n",
      "1050 Ixelles\n",
      "--------------------------------------------------------------------------------\n"
     ]
    }
   ],
   "source": [
    "import json\n",
    "import requests\n",
    "\n",
    "search_term = '1000 bruxelles'\n",
    "\n",
    "url1 = 'https://api.tomtom.com/search/2/geocode/{}.json?key=ixTHgmn1oIBAMGhFbkAWgG5ajGKI4psb&limit=1&countrySet=BE'\n",
    "url2 = 'https://api.geowacht.be/api-v4/json/pharmacies/near_coordinate?&latitude={}&longitude={}&jsonp=?&max_distance=30&max_results=5&language=fr'\n",
    "\n",
    "data = requests.get(url1.format(search_term)).json()\n",
    "\n",
    "lat, lon = data['results'][0]['position']['lat'], data['results'][0]['position']['lon']\n",
    "\n",
    "data = requests.get(url2.format(lat, lon), headers={'Api-user-agent':'gwapi.js/4.0 (pharmacie.be)'}).json()\n",
    "\n",
    "# print(json.dumps(data, indent=4)) # <-- uncomment to see all data\n",
    "\n",
    "for result in data['results']:\n",
    "    print(result['pharmacy']['name'])\n",
    "    print(result['pharmacy']['address_street'], result['pharmacy']['address_streetnr'])\n",
    "    print(result['pharmacy']['address_postalcode'], result['pharmacy']['address_locality'])\n",
    "    print('-' * 80)"
   ]
  },
  {
   "cell_type": "code",
   "execution_count": null,
   "metadata": {},
   "outputs": [],
   "source": []
  }
 ],
 "metadata": {
  "kernelspec": {
   "display_name": "Python 3",
   "language": "python",
   "name": "python3"
  },
  "language_info": {
   "codemirror_mode": {
    "name": "ipython",
    "version": 3
   },
   "file_extension": ".py",
   "mimetype": "text/x-python",
   "name": "python",
   "nbconvert_exporter": "python",
   "pygments_lexer": "ipython3",
   "version": "3.6.1"
  }
 },
 "nbformat": 4,
 "nbformat_minor": 2
}
