{
 "cells": [
  {
   "cell_type": "markdown",
   "metadata": {},
   "source": [
    "## Immaculate perfect thanks"
   ]
  },
  {
   "cell_type": "code",
   "execution_count": 1,
   "metadata": {},
   "outputs": [
    {
     "name": "stdout",
     "output_type": "stream",
     "text": [
      "Pharmacie Dansaert\n",
      "Rue Antoine Dansaert 110\n",
      "1000 Bruxelles\n",
      "--------------------------------------------------------------------------------\n",
      "Pharmacie De La Cour\n",
      "Rue de la Science 5\n",
      "1000 Bruxelles\n",
      "--------------------------------------------------------------------------------\n",
      "Pharmacie Coppejans\n",
      "Rue Blaes 250\n",
      "1000 Bruxelles\n",
      "--------------------------------------------------------------------------------\n",
      "Pharmacie Kneip-Decoster\n",
      "Chaussée de Charleroi 55\n",
      "1060 Saint-Gilles\n",
      "--------------------------------------------------------------------------------\n",
      "Pharmacie Dargent\n",
      "Avenue Clemenceau 29\n",
      "1070 Anderlecht\n",
      "--------------------------------------------------------------------------------\n"
     ]
    }
   ],
   "source": [
    "import json\n",
    "import requests\n",
    "\n",
    "search_term = '1000 bruxelles'\n",
    "\n",
    "url1 = 'https://api.tomtom.com/search/2/geocode/{}.json?key=ixTHgmn1oIBAMGhFbkAWgG5ajGKI4psb&limit=1&countrySet=BE'\n",
    "url2 = 'https://api.geowacht.be/api-v4/json/pharmacies/near_coordinate?&latitude={}&longitude={}&jsonp=?&max_distance=30&max_results=5&language=fr'\n",
    "\n",
    "data = requests.get(url1.format(search_term)).json()\n",
    "\n",
    "lat, lon = data['results'][0]['position']['lat'], data['results'][0]['position']['lon']\n",
    "\n",
    "data = requests.get(url2.format(lat, lon), headers={'Api-user-agent':'gwapi.js/4.0 (pharmacie.be)'}).json()\n",
    "\n",
    "# print(json.dumps(data, indent=4)) # <-- uncomment to see all data\n",
    "\n",
    "for result in data['results']:\n",
    "    print(result['pharmacy']['name'])\n",
    "    print(result['pharmacy']['address_street'], result['pharmacy']['address_streetnr'])\n",
    "    print(result['pharmacy']['address_postalcode'], result['pharmacy']['address_locality'])\n",
    "    print('-' * 80)"
   ]
  },
  {
   "cell_type": "code",
   "execution_count": 2,
   "metadata": {
    "scrolled": false
   },
   "outputs": [
    {
     "name": "stdout",
     "output_type": "stream",
     "text": [
      "{'pharmacy': {'coordinate': {'type': 'Point', 'coordinates': [4.33475221891369, 50.8402676725139]}, 'id': 210107, 'phone_nr_formatted': '02/521 25 05', 'phone_nr_digits': '025212505', 'name': 'Pharmacie Dargent', 'pharmacist_description': 'Jacqueline Dargent', 'address_street': 'Avenue Clemenceau', 'address_streetnr': '29', 'address_postalcode': 1070, 'address_locality': 'Anderlecht', 'address_geodescription': None}, 'on_duty': True, 'travel': {'road_time': None, 'geodesic_distance': 1.5883372, 'road_distance': None}}\n"
     ]
    }
   ],
   "source": [
    "print(result)"
   ]
  },
  {
   "cell_type": "markdown",
   "metadata": {},
   "source": [
    "### Phone number"
   ]
  },
  {
   "cell_type": "code",
   "execution_count": 3,
   "metadata": {},
   "outputs": [
    {
     "name": "stdout",
     "output_type": "stream",
     "text": [
      "025212505\n"
     ]
    }
   ],
   "source": [
    "print(result['pharmacy']['phone_nr_digits'])"
   ]
  },
  {
   "cell_type": "code",
   "execution_count": null,
   "metadata": {},
   "outputs": [],
   "source": []
  },
  {
   "cell_type": "markdown",
   "metadata": {},
   "source": [
    "### Coordonnées"
   ]
  },
  {
   "cell_type": "code",
   "execution_count": 4,
   "metadata": {},
   "outputs": [
    {
     "name": "stdout",
     "output_type": "stream",
     "text": [
      "{'type': 'Point', 'coordinates': [4.33475221891369, 50.8402676725139]}\n"
     ]
    }
   ],
   "source": [
    "print(result['pharmacy']['coordinate'])"
   ]
  },
  {
   "cell_type": "code",
   "execution_count": 5,
   "metadata": {},
   "outputs": [
    {
     "name": "stdout",
     "output_type": "stream",
     "text": [
      "[4.33475221891369, 50.8402676725139]\n"
     ]
    }
   ],
   "source": [
    "print(result['pharmacy']['coordinate']['coordinates'])"
   ]
  },
  {
   "cell_type": "markdown",
   "metadata": {},
   "source": [
    "### getting the data in each structure : adresses, names, cp"
   ]
  },
  {
   "cell_type": "code",
   "execution_count": 6,
   "metadata": {},
   "outputs": [
    {
     "name": "stdout",
     "output_type": "stream",
     "text": [
      "Pharmacie Dansaert\n",
      "Rue Antoine Dansaert 110\n",
      "1000 Bruxelles\n",
      "[4.34403058791262, 50.8517592525116]\n",
      "025135502\n",
      "--------------------------------------------------------------------------------\n",
      "Pharmacie De La Cour\n",
      "Rue de la Science 5\n",
      "1000 Bruxelles\n",
      "[4.37091091490488, 50.8413609025177]\n",
      "022300892\n",
      "--------------------------------------------------------------------------------\n",
      "Pharmacie Coppejans\n",
      "Rue Blaes 250\n",
      "1000 Bruxelles\n",
      "[4.34379553891088, 50.8347532825165]\n",
      "025127842\n",
      "--------------------------------------------------------------------------------\n",
      "Pharmacie Kneip-Decoster\n",
      "Chaussée de Charleroi 55\n",
      "1060 Saint-Gilles\n",
      "[4.35642212990743, 50.8316495925188]\n",
      "025380544\n",
      "--------------------------------------------------------------------------------\n",
      "Pharmacie Dargent\n",
      "Avenue Clemenceau 29\n",
      "1070 Anderlecht\n",
      "[4.33475221891369, 50.8402676725139]\n",
      "025212505\n",
      "--------------------------------------------------------------------------------\n"
     ]
    }
   ],
   "source": [
    "pharmacies = []\n",
    "adresses = []\n",
    "cps = []\n",
    "coors = []\n",
    "phones = []\n",
    "\n",
    "for result in data['results']:\n",
    "    print(result['pharmacy']['name'])\n",
    "    pharmacies.append(result['pharmacy']['name'])\n",
    "    \n",
    "    print(result['pharmacy']['address_street'], result['pharmacy']['address_streetnr'])\n",
    "    adresses.append(str(result['pharmacy']['address_streetnr'])+\", \"+result['pharmacy']['address_street'])\n",
    "    \n",
    "    print(result['pharmacy']['address_postalcode'], result['pharmacy']['address_locality'])\n",
    "    cps.append(str(result['pharmacy']['address_postalcode'])+\" \"+result['pharmacy']['address_locality'])\n",
    "    \n",
    "    print(result['pharmacy']['coordinate']['coordinates'])\n",
    "    coors.append(result['pharmacy']['coordinate']['coordinates'])\n",
    "    \n",
    "    print(result['pharmacy']['phone_nr_digits'])\n",
    "    phones.append(result['pharmacy']['phone_nr_digits'])\n",
    "    \n",
    "    print('-' * 80)"
   ]
  },
  {
   "cell_type": "code",
   "execution_count": 7,
   "metadata": {},
   "outputs": [
    {
     "data": {
      "text/plain": [
       "['Pharmacie Dansaert',\n",
       " 'Pharmacie De La Cour',\n",
       " 'Pharmacie Coppejans',\n",
       " 'Pharmacie Kneip-Decoster',\n",
       " 'Pharmacie Dargent']"
      ]
     },
     "execution_count": 7,
     "metadata": {},
     "output_type": "execute_result"
    }
   ],
   "source": [
    "pharmacies"
   ]
  },
  {
   "cell_type": "code",
   "execution_count": 8,
   "metadata": {},
   "outputs": [
    {
     "data": {
      "text/plain": [
       "['110, Rue Antoine Dansaert',\n",
       " '5, Rue de la Science',\n",
       " '250, Rue Blaes',\n",
       " '55, Chaussée de Charleroi',\n",
       " '29, Avenue Clemenceau']"
      ]
     },
     "execution_count": 8,
     "metadata": {},
     "output_type": "execute_result"
    }
   ],
   "source": [
    "adresses"
   ]
  },
  {
   "cell_type": "code",
   "execution_count": 9,
   "metadata": {},
   "outputs": [
    {
     "data": {
      "text/plain": [
       "['1000 Bruxelles',\n",
       " '1000 Bruxelles',\n",
       " '1000 Bruxelles',\n",
       " '1060 Saint-Gilles',\n",
       " '1070 Anderlecht']"
      ]
     },
     "execution_count": 9,
     "metadata": {},
     "output_type": "execute_result"
    }
   ],
   "source": [
    "cps"
   ]
  },
  {
   "cell_type": "code",
   "execution_count": 10,
   "metadata": {},
   "outputs": [
    {
     "data": {
      "text/plain": [
       "[[4.34403058791262, 50.8517592525116],\n",
       " [4.37091091490488, 50.8413609025177],\n",
       " [4.34379553891088, 50.8347532825165],\n",
       " [4.35642212990743, 50.8316495925188],\n",
       " [4.33475221891369, 50.8402676725139]]"
      ]
     },
     "execution_count": 10,
     "metadata": {},
     "output_type": "execute_result"
    }
   ],
   "source": [
    "coors"
   ]
  },
  {
   "cell_type": "code",
   "execution_count": 11,
   "metadata": {},
   "outputs": [
    {
     "data": {
      "text/plain": [
       "['025135502', '022300892', '025127842', '025380544', '025212505']"
      ]
     },
     "execution_count": 11,
     "metadata": {},
     "output_type": "execute_result"
    }
   ],
   "source": [
    "phones"
   ]
  },
  {
   "cell_type": "markdown",
   "metadata": {},
   "source": [
    "## Combine the data into  an array"
   ]
  },
  {
   "cell_type": "code",
   "execution_count": 12,
   "metadata": {},
   "outputs": [],
   "source": [
    "combo = []\n",
    "for i,j,k,l,m in zip(pharmacies,adresses,cps,coors,phones):\n",
    "    \n",
    "    t = (i,j,k,l,m)\n",
    "    combo.append(t)"
   ]
  },
  {
   "cell_type": "code",
   "execution_count": 13,
   "metadata": {},
   "outputs": [
    {
     "data": {
      "text/plain": [
       "[('Pharmacie Dansaert',\n",
       "  '110, Rue Antoine Dansaert',\n",
       "  '1000 Bruxelles',\n",
       "  [4.34403058791262, 50.8517592525116],\n",
       "  '025135502'),\n",
       " ('Pharmacie De La Cour',\n",
       "  '5, Rue de la Science',\n",
       "  '1000 Bruxelles',\n",
       "  [4.37091091490488, 50.8413609025177],\n",
       "  '022300892'),\n",
       " ('Pharmacie Coppejans',\n",
       "  '250, Rue Blaes',\n",
       "  '1000 Bruxelles',\n",
       "  [4.34379553891088, 50.8347532825165],\n",
       "  '025127842'),\n",
       " ('Pharmacie Kneip-Decoster',\n",
       "  '55, Chaussée de Charleroi',\n",
       "  '1060 Saint-Gilles',\n",
       "  [4.35642212990743, 50.8316495925188],\n",
       "  '025380544'),\n",
       " ('Pharmacie Dargent',\n",
       "  '29, Avenue Clemenceau',\n",
       "  '1070 Anderlecht',\n",
       "  [4.33475221891369, 50.8402676725139],\n",
       "  '025212505')]"
      ]
     },
     "execution_count": 13,
     "metadata": {},
     "output_type": "execute_result"
    }
   ],
   "source": [
    "combo"
   ]
  },
  {
   "cell_type": "markdown",
   "metadata": {},
   "source": [
    "## convert into a pandas object"
   ]
  },
  {
   "cell_type": "code",
   "execution_count": 14,
   "metadata": {},
   "outputs": [],
   "source": [
    "import pandas as pd"
   ]
  },
  {
   "cell_type": "code",
   "execution_count": 15,
   "metadata": {},
   "outputs": [],
   "source": [
    "df = pd.DataFrame(combo,columns=['pharmacie','adresse','cp','coordonnee','telephone'])"
   ]
  },
  {
   "cell_type": "code",
   "execution_count": 16,
   "metadata": {},
   "outputs": [
    {
     "data": {
      "text/html": [
       "<div>\n",
       "<style>\n",
       "    .dataframe thead tr:only-child th {\n",
       "        text-align: right;\n",
       "    }\n",
       "\n",
       "    .dataframe thead th {\n",
       "        text-align: left;\n",
       "    }\n",
       "\n",
       "    .dataframe tbody tr th {\n",
       "        vertical-align: top;\n",
       "    }\n",
       "</style>\n",
       "<table border=\"1\" class=\"dataframe\">\n",
       "  <thead>\n",
       "    <tr style=\"text-align: right;\">\n",
       "      <th></th>\n",
       "      <th>pharmacie</th>\n",
       "      <th>adresse</th>\n",
       "      <th>cp</th>\n",
       "      <th>coordonnee</th>\n",
       "      <th>telephone</th>\n",
       "    </tr>\n",
       "  </thead>\n",
       "  <tbody>\n",
       "    <tr>\n",
       "      <th>0</th>\n",
       "      <td>Pharmacie Dansaert</td>\n",
       "      <td>110, Rue Antoine Dansaert</td>\n",
       "      <td>1000 Bruxelles</td>\n",
       "      <td>[4.34403058791262, 50.8517592525116]</td>\n",
       "      <td>025135502</td>\n",
       "    </tr>\n",
       "    <tr>\n",
       "      <th>1</th>\n",
       "      <td>Pharmacie De La Cour</td>\n",
       "      <td>5, Rue de la Science</td>\n",
       "      <td>1000 Bruxelles</td>\n",
       "      <td>[4.37091091490488, 50.8413609025177]</td>\n",
       "      <td>022300892</td>\n",
       "    </tr>\n",
       "    <tr>\n",
       "      <th>2</th>\n",
       "      <td>Pharmacie Coppejans</td>\n",
       "      <td>250, Rue Blaes</td>\n",
       "      <td>1000 Bruxelles</td>\n",
       "      <td>[4.34379553891088, 50.8347532825165]</td>\n",
       "      <td>025127842</td>\n",
       "    </tr>\n",
       "    <tr>\n",
       "      <th>3</th>\n",
       "      <td>Pharmacie Kneip-Decoster</td>\n",
       "      <td>55, Chaussée de Charleroi</td>\n",
       "      <td>1060 Saint-Gilles</td>\n",
       "      <td>[4.35642212990743, 50.8316495925188]</td>\n",
       "      <td>025380544</td>\n",
       "    </tr>\n",
       "    <tr>\n",
       "      <th>4</th>\n",
       "      <td>Pharmacie Dargent</td>\n",
       "      <td>29, Avenue Clemenceau</td>\n",
       "      <td>1070 Anderlecht</td>\n",
       "      <td>[4.33475221891369, 50.8402676725139]</td>\n",
       "      <td>025212505</td>\n",
       "    </tr>\n",
       "  </tbody>\n",
       "</table>\n",
       "</div>"
      ],
      "text/plain": [
       "                  pharmacie                    adresse                 cp  \\\n",
       "0        Pharmacie Dansaert  110, Rue Antoine Dansaert     1000 Bruxelles   \n",
       "1      Pharmacie De La Cour       5, Rue de la Science     1000 Bruxelles   \n",
       "2       Pharmacie Coppejans             250, Rue Blaes     1000 Bruxelles   \n",
       "3  Pharmacie Kneip-Decoster  55, Chaussée de Charleroi  1060 Saint-Gilles   \n",
       "4         Pharmacie Dargent      29, Avenue Clemenceau    1070 Anderlecht   \n",
       "\n",
       "                             coordonnee  telephone  \n",
       "0  [4.34403058791262, 50.8517592525116]  025135502  \n",
       "1  [4.37091091490488, 50.8413609025177]  022300892  \n",
       "2  [4.34379553891088, 50.8347532825165]  025127842  \n",
       "3  [4.35642212990743, 50.8316495925188]  025380544  \n",
       "4  [4.33475221891369, 50.8402676725139]  025212505  "
      ]
     },
     "execution_count": 16,
     "metadata": {},
     "output_type": "execute_result"
    }
   ],
   "source": [
    "df"
   ]
  },
  {
   "cell_type": "code",
   "execution_count": null,
   "metadata": {},
   "outputs": [],
   "source": []
  }
 ],
 "metadata": {
  "kernelspec": {
   "display_name": "Python 3",
   "language": "python",
   "name": "python3"
  },
  "language_info": {
   "codemirror_mode": {
    "name": "ipython",
    "version": 3
   },
   "file_extension": ".py",
   "mimetype": "text/x-python",
   "name": "python",
   "nbconvert_exporter": "python",
   "pygments_lexer": "ipython3",
   "version": "3.6.1"
  }
 },
 "nbformat": 4,
 "nbformat_minor": 2
}
