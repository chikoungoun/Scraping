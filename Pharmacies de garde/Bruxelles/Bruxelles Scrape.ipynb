{
 "cells": [
  {
   "cell_type": "markdown",
   "metadata": {},
   "source": [
    "## Immaculate perfect thanks"
   ]
  },
  {
   "cell_type": "code",
   "execution_count": 1,
   "metadata": {},
   "outputs": [
    {
     "name": "stdout",
     "output_type": "stream",
     "text": [
      "Pharmacie de l'étoile\n",
      "Rue de l'Enseignement 38\n",
      "1000 Bruxelles\n",
      "--------------------------------------------------------------------------------\n",
      "Pharmacie St. Géry\n",
      "Rue Van Artevelde 20\n",
      "1000 Bruxelles\n",
      "--------------------------------------------------------------------------------\n",
      "Pharmacie Tete\n",
      "Avenue Jean Volders 50\n",
      "1060 Saint-Gilles\n",
      "--------------------------------------------------------------------------------\n",
      "Pharmacie de la Duch.de Brabant\n",
      "Place de la Duchesse de Brabant 39\n",
      "1080 Molenbeek-Saint-Jean\n",
      "--------------------------------------------------------------------------------\n",
      "Pharmacie Laytimi Khadija\n",
      "Chaussée d'Ixelles 274\n",
      "1050 Ixelles\n",
      "--------------------------------------------------------------------------------\n"
     ]
    }
   ],
   "source": [
    "import json\n",
    "import requests\n",
    "\n",
    "search_term = '1000 bruxelles'\n",
    "\n",
    "url1 = 'https://api.tomtom.com/search/2/geocode/{}.json?key=ixTHgmn1oIBAMGhFbkAWgG5ajGKI4psb&limit=1&countrySet=BE'\n",
    "url2 = 'https://api.geowacht.be/api-v4/json/pharmacies/near_coordinate?&latitude={}&longitude={}&jsonp=?&max_distance=30&max_results=5&language=fr'\n",
    "\n",
    "data = requests.get(url1.format(search_term)).json()\n",
    "\n",
    "lat, lon = data['results'][0]['position']['lat'], data['results'][0]['position']['lon']\n",
    "\n",
    "data = requests.get(url2.format(lat, lon), headers={'Api-user-agent':'gwapi.js/4.0 (pharmacie.be)'}).json()\n",
    "\n",
    "# print(json.dumps(data, indent=4)) # <-- uncomment to see all data\n",
    "\n",
    "for result in data['results']:\n",
    "    print(result['pharmacy']['name'])\n",
    "    print(result['pharmacy']['address_street'], result['pharmacy']['address_streetnr'])\n",
    "    print(result['pharmacy']['address_postalcode'], result['pharmacy']['address_locality'])\n",
    "    print('-' * 80)"
   ]
  },
  {
   "cell_type": "code",
   "execution_count": 11,
   "metadata": {
    "scrolled": false
   },
   "outputs": [
    {
     "name": "stdout",
     "output_type": "stream",
     "text": [
      "{'pharmacy': {'coordinate': {'type': 'Point', 'coordinates': [4.36996898790388, 50.829637302521]}, 'id': 212061, 'phone_nr_formatted': '02/648 37 60', 'phone_nr_digits': '026483760', 'name': 'Pharmacie Laytimi Khadija', 'pharmacist_description': 'Khadija Laytimi', 'address_street': \"Chaussée d'Ixelles\", 'address_streetnr': '274', 'address_postalcode': 1050, 'address_locality': 'Ixelles', 'address_geodescription': None}, 'on_duty': True, 'travel': {'road_time': None, 'geodesic_distance': 2.0342705, 'road_distance': None}}\n"
     ]
    }
   ],
   "source": [
    "print(result)"
   ]
  },
  {
   "cell_type": "markdown",
   "metadata": {},
   "source": [
    "### Phone number"
   ]
  },
  {
   "cell_type": "code",
   "execution_count": 24,
   "metadata": {},
   "outputs": [
    {
     "name": "stdout",
     "output_type": "stream",
     "text": [
      "026483760\n"
     ]
    }
   ],
   "source": [
    "print(result['pharmacy']['phone_nr_digits'])"
   ]
  },
  {
   "cell_type": "code",
   "execution_count": null,
   "metadata": {},
   "outputs": [],
   "source": []
  },
  {
   "cell_type": "markdown",
   "metadata": {},
   "source": [
    "### Coordonnées"
   ]
  },
  {
   "cell_type": "code",
   "execution_count": 16,
   "metadata": {},
   "outputs": [
    {
     "name": "stdout",
     "output_type": "stream",
     "text": [
      "{'type': 'Point', 'coordinates': [4.36996898790388, 50.829637302521]}\n"
     ]
    }
   ],
   "source": [
    "print(result['pharmacy']['coordinate'])"
   ]
  },
  {
   "cell_type": "code",
   "execution_count": 20,
   "metadata": {},
   "outputs": [
    {
     "name": "stdout",
     "output_type": "stream",
     "text": [
      "[4.36996898790388, 50.829637302521]\n"
     ]
    }
   ],
   "source": [
    "print(result['pharmacy']['coordinate']['coordinates'])"
   ]
  },
  {
   "cell_type": "markdown",
   "metadata": {},
   "source": [
    "### getting the data in each structure : adresses, names, cp"
   ]
  },
  {
   "cell_type": "code",
   "execution_count": 25,
   "metadata": {},
   "outputs": [
    {
     "name": "stdout",
     "output_type": "stream",
     "text": [
      "Pharmacie de l'étoile\n",
      "Rue de l'Enseignement 38\n",
      "1000 Bruxelles\n",
      "[4.36399289790733, 50.8483212725148]\n",
      "025117952\n",
      "--------------------------------------------------------------------------------\n",
      "Pharmacie St. Géry\n",
      "Rue Van Artevelde 20\n",
      "1000 Bruxelles\n",
      "[4.3471346729115, 50.8484358025129]\n",
      "025134955\n",
      "--------------------------------------------------------------------------------\n",
      "Pharmacie Tete\n",
      "Avenue Jean Volders 50\n",
      "1060 Saint-Gilles\n",
      "[4.34369943191055, 50.8314700125175]\n",
      "025441299\n",
      "--------------------------------------------------------------------------------\n",
      "Pharmacie de la Duch.de Brabant\n",
      "Place de la Duchesse de Brabant 39\n",
      "1080 Molenbeek-Saint-Jean\n",
      "[4.33027729091579, 50.8496939825107]\n",
      "024104050\n",
      "--------------------------------------------------------------------------------\n",
      "Pharmacie Laytimi Khadija\n",
      "Chaussée d'Ixelles 274\n",
      "1050 Ixelles\n",
      "[4.36996898790388, 50.829637302521]\n",
      "026483760\n",
      "--------------------------------------------------------------------------------\n"
     ]
    }
   ],
   "source": [
    "pharmacies = []\n",
    "adresses = []\n",
    "cps = []\n",
    "coors = []\n",
    "phones = []\n",
    "\n",
    "for result in data['results']:\n",
    "    print(result['pharmacy']['name'])\n",
    "    pharmacies.append(result['pharmacy']['name'])\n",
    "    \n",
    "    print(result['pharmacy']['address_street'], result['pharmacy']['address_streetnr'])\n",
    "    adresses.append(str(result['pharmacy']['address_streetnr'])+\", \"+result['pharmacy']['address_street'])\n",
    "    \n",
    "    print(result['pharmacy']['address_postalcode'], result['pharmacy']['address_locality'])\n",
    "    cps.append(str(result['pharmacy']['address_postalcode'])+\" \"+result['pharmacy']['address_locality'])\n",
    "    \n",
    "    print(result['pharmacy']['coordinate']['coordinates'])\n",
    "    coors.append(result['pharmacy']['coordinate']['coordinates'])\n",
    "    \n",
    "    print(result['pharmacy']['phone_nr_digits'])\n",
    "    phones.append(result['pharmacy']['phone_nr_digits'])\n",
    "    \n",
    "    print('-' * 80)"
   ]
  },
  {
   "cell_type": "code",
   "execution_count": 8,
   "metadata": {},
   "outputs": [
    {
     "data": {
      "text/plain": [
       "[\"Pharmacie de l'étoile\",\n",
       " 'Pharmacie St. Géry',\n",
       " 'Pharmacie Tete',\n",
       " 'Pharmacie de la Duch.de Brabant',\n",
       " 'Pharmacie Laytimi Khadija']"
      ]
     },
     "execution_count": 8,
     "metadata": {},
     "output_type": "execute_result"
    }
   ],
   "source": [
    "pharmacies"
   ]
  },
  {
   "cell_type": "code",
   "execution_count": 9,
   "metadata": {},
   "outputs": [
    {
     "data": {
      "text/plain": [
       "[\"38, Rue de l'Enseignement\",\n",
       " '20, Rue Van Artevelde',\n",
       " '50, Avenue Jean Volders',\n",
       " '39, Place de la Duchesse de Brabant',\n",
       " \"274, Chaussée d'Ixelles\"]"
      ]
     },
     "execution_count": 9,
     "metadata": {},
     "output_type": "execute_result"
    }
   ],
   "source": [
    "adresses"
   ]
  },
  {
   "cell_type": "code",
   "execution_count": 10,
   "metadata": {},
   "outputs": [
    {
     "data": {
      "text/plain": [
       "['1000 Bruxelles',\n",
       " '1000 Bruxelles',\n",
       " '1060 Saint-Gilles',\n",
       " '1080 Molenbeek-Saint-Jean',\n",
       " '1050 Ixelles']"
      ]
     },
     "execution_count": 10,
     "metadata": {},
     "output_type": "execute_result"
    }
   ],
   "source": [
    "cps"
   ]
  },
  {
   "cell_type": "code",
   "execution_count": 22,
   "metadata": {},
   "outputs": [
    {
     "data": {
      "text/plain": [
       "[[4.36399289790733, 50.8483212725148],\n",
       " [4.3471346729115, 50.8484358025129],\n",
       " [4.34369943191055, 50.8314700125175],\n",
       " [4.33027729091579, 50.8496939825107],\n",
       " [4.36996898790388, 50.829637302521]]"
      ]
     },
     "execution_count": 22,
     "metadata": {},
     "output_type": "execute_result"
    }
   ],
   "source": [
    "coors"
   ]
  },
  {
   "cell_type": "code",
   "execution_count": 26,
   "metadata": {},
   "outputs": [
    {
     "data": {
      "text/plain": [
       "['025117952', '025134955', '025441299', '024104050', '026483760']"
      ]
     },
     "execution_count": 26,
     "metadata": {},
     "output_type": "execute_result"
    }
   ],
   "source": [
    "phones"
   ]
  },
  {
   "cell_type": "markdown",
   "metadata": {},
   "source": [
    "## Combine the data into  an array"
   ]
  },
  {
   "cell_type": "code",
   "execution_count": 27,
   "metadata": {},
   "outputs": [],
   "source": [
    "combo = []\n",
    "for i,j,k,l,m in zip(pharmacies,adresses,cps,coors,phones):\n",
    "    \n",
    "    t = (i,j,k,l,m)\n",
    "    combo.append(t)"
   ]
  },
  {
   "cell_type": "code",
   "execution_count": 28,
   "metadata": {},
   "outputs": [
    {
     "data": {
      "text/plain": [
       "[(\"Pharmacie de l'étoile\",\n",
       "  \"38, Rue de l'Enseignement\",\n",
       "  '1000 Bruxelles',\n",
       "  [4.36399289790733, 50.8483212725148],\n",
       "  '025117952'),\n",
       " ('Pharmacie St. Géry',\n",
       "  '20, Rue Van Artevelde',\n",
       "  '1000 Bruxelles',\n",
       "  [4.3471346729115, 50.8484358025129],\n",
       "  '025134955'),\n",
       " ('Pharmacie Tete',\n",
       "  '50, Avenue Jean Volders',\n",
       "  '1060 Saint-Gilles',\n",
       "  [4.34369943191055, 50.8314700125175],\n",
       "  '025441299'),\n",
       " ('Pharmacie de la Duch.de Brabant',\n",
       "  '39, Place de la Duchesse de Brabant',\n",
       "  '1080 Molenbeek-Saint-Jean',\n",
       "  [4.33027729091579, 50.8496939825107],\n",
       "  '024104050'),\n",
       " ('Pharmacie Laytimi Khadija',\n",
       "  \"274, Chaussée d'Ixelles\",\n",
       "  '1050 Ixelles',\n",
       "  [4.36996898790388, 50.829637302521],\n",
       "  '026483760')]"
      ]
     },
     "execution_count": 28,
     "metadata": {},
     "output_type": "execute_result"
    }
   ],
   "source": [
    "combo"
   ]
  },
  {
   "cell_type": "code",
   "execution_count": null,
   "metadata": {},
   "outputs": [],
   "source": []
  }
 ],
 "metadata": {
  "kernelspec": {
   "display_name": "Python 3",
   "language": "python",
   "name": "python3"
  },
  "language_info": {
   "codemirror_mode": {
    "name": "ipython",
    "version": 3
   },
   "file_extension": ".py",
   "mimetype": "text/x-python",
   "name": "python",
   "nbconvert_exporter": "python",
   "pygments_lexer": "ipython3",
   "version": "3.6.1"
  }
 },
 "nbformat": 4,
 "nbformat_minor": 2
}
