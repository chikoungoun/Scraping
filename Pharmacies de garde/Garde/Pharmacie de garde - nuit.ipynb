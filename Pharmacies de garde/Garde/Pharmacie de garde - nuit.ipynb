{
 "cells": [
  {
   "cell_type": "markdown",
   "metadata": {},
   "source": [
    "# Pharmacie de garde de Nuit"
   ]
  },
  {
   "cell_type": "markdown",
   "metadata": {},
   "source": [
    "**Fonction extraction téléphone**"
   ]
  },
  {
   "cell_type": "code",
   "execution_count": 1,
   "metadata": {},
   "outputs": [],
   "source": [
    "def telephone_pharmacie(adress):\n",
    "    #renverser la chaine de caractères\n",
    "    adress[::-1]\n",
    "    \n",
    "    #extraire le téléphone inversé\n",
    "    ntel = ''\n",
    "    for i in adress[::-1]:\n",
    "        if i == ':':\n",
    "            break\n",
    "        elif i.isnumeric():#uniquement ajouter les nombres\n",
    "            ntel = ntel + i\n",
    "        else:\n",
    "            continue\n",
    "        \n",
    "    #remettre le num de tel à l'endroit\n",
    "    tel = ''\n",
    "    for i in ntel[::-1]:\n",
    "        tel = tel + i\n",
    "        \n",
    "    return tel.strip()"
   ]
  },
  {
   "cell_type": "markdown",
   "metadata": {},
   "source": [
    "**Fonction effacer téléphone** ( renvoie l'adresse seule"
   ]
  },
  {
   "cell_type": "code",
   "execution_count": 2,
   "metadata": {},
   "outputs": [],
   "source": [
    "def effacer_telephone(d):\n",
    "    #renverser la chaîne\n",
    "    nd = d[::-1]\n",
    "    #trouver la position du dernier tiret\n",
    "    c = nd.find('-')\n",
    "    #retourner la sous chaine de caractère depuis la position+1\n",
    "    snd = nd[(c+1):].strip()\n",
    "    #inverser la sous chaîne une deuxième fois\n",
    "    pnd = snd[::-1]\n",
    "\n",
    "    return pnd\n",
    "    "
   ]
  },
  {
   "cell_type": "markdown",
   "metadata": {},
   "source": [
    "# Scraping des pharmacies de garde sur Casablanca"
   ]
  },
  {
   "cell_type": "markdown",
   "metadata": {},
   "source": [
    "source des données : https://lematin.ma/pharmacie-garde-casablanca.html"
   ]
  },
  {
   "cell_type": "code",
   "execution_count": 3,
   "metadata": {},
   "outputs": [
    {
     "data": {
      "text/plain": [
       "<Response [200]>"
      ]
     },
     "execution_count": 3,
     "metadata": {},
     "output_type": "execute_result"
    }
   ],
   "source": [
    "import requests\n",
    "\n",
    "url = 'https://lematin.ma/pharmacie-garde-casablanca/nuit.html'\n",
    "response = requests.get(url)\n",
    "response"
   ]
  },
  {
   "cell_type": "code",
   "execution_count": 4,
   "metadata": {},
   "outputs": [
    {
     "data": {
      "text/plain": [
       "bs4.BeautifulSoup"
      ]
     },
     "execution_count": 4,
     "metadata": {},
     "output_type": "execute_result"
    }
   ],
   "source": [
    "from bs4 import BeautifulSoup\n",
    "\n",
    "soup = BeautifulSoup(response.text,'html.parser')\n",
    "type(soup)"
   ]
  },
  {
   "cell_type": "code",
   "execution_count": null,
   "metadata": {},
   "outputs": [],
   "source": []
  },
  {
   "cell_type": "code",
   "execution_count": 5,
   "metadata": {},
   "outputs": [],
   "source": [
    "quartiers = soup.find_all('div',class_='lespharmaciengarde')"
   ]
  },
  {
   "cell_type": "code",
   "execution_count": 6,
   "metadata": {},
   "outputs": [
    {
     "data": {
      "text/plain": [
       "[<div class=\"lespharmaciengarde\">\n",
       " <h4><a href=\"/pharmacie-garde-casablanca/nuit/ain-sebaa.html\">Aïn Sebaâ</a></h4>\n",
       " </div>, <div class=\"lespharmaciengarde\">\n",
       " <h4><a href=\"/pharmacie-garde-casablanca/nuit/sidi-maarouf.html\">Sidi Maarouf</a></h4>\n",
       " </div>, <div class=\"lespharmaciengarde\">\n",
       " <h4><a href=\"/pharmacie-garde-casablanca/nuit/maarif.html\">Maarif</a></h4>\n",
       " </div>, <div class=\"lespharmaciengarde\">\n",
       " <h4><a href=\"/pharmacie-garde-casablanca/nuit/sidi-moumen.html\">Sidi Moumen</a></h4>\n",
       " </div>, <div class=\"lespharmaciengarde\">\n",
       " <h4><a href=\"/pharmacie-garde-casablanca/nuit/lissasfa.html\">Lissasfa</a></h4>\n",
       " </div>, <div class=\"lespharmaciengarde\">\n",
       " <h4><a href=\"/pharmacie-garde-casablanca/nuit/derb-omar.html\">Derb Omar</a></h4>\n",
       " </div>, <div class=\"lespharmaciengarde\">\n",
       " <h4><a href=\"/pharmacie-garde-casablanca/nuit/hay-mohammadi.html\">Hay Mohammadi</a></h4>\n",
       " </div>, <div class=\"lespharmaciengarde\">\n",
       " <h4><a href=\"/pharmacie-garde-casablanca/nuit/sidi-bernoussi.html\">Sidi Bernoussi</a></h4>\n",
       " </div>, <div class=\"lespharmaciengarde\">\n",
       " <h4><a href=\"/pharmacie-garde-casablanca/nuit/sidi-othmane.html\">Sidi Othmane</a></h4>\n",
       " </div>, <div class=\"lespharmaciengarde\">\n",
       " <h4><a href=\"/pharmacie-garde-casablanca/nuit/hay-hassani.html\">Hay Hassani</a></h4>\n",
       " </div>, <div class=\"lespharmaciengarde\">\n",
       " <h4><a href=\"/pharmacie-garde-casablanca/nuit/mers-sultan.html\">Mers Sultan</a></h4>\n",
       " </div>, <div class=\"lespharmaciengarde\">\n",
       " <h4><a href=\"/pharmacie-garde-casablanca/nuit/roches-noires.html\">Roches Noires</a></h4>\n",
       " </div>, <div class=\"lespharmaciengarde\">\n",
       " <h4><a href=\"/pharmacie-garde-casablanca/nuit/oulfa.html\">Oulfa</a></h4>\n",
       " </div>, <div class=\"lespharmaciengarde\">\n",
       " <h4><a href=\"/pharmacie-garde-casablanca/nuit/ben-msick.html\">Ben Msick</a></h4>\n",
       " </div>]"
      ]
     },
     "execution_count": 6,
     "metadata": {},
     "output_type": "execute_result"
    }
   ],
   "source": [
    "quartiers"
   ]
  },
  {
   "cell_type": "markdown",
   "metadata": {},
   "source": [
    "**Liste des liens des quartiers **"
   ]
  },
  {
   "cell_type": "code",
   "execution_count": 7,
   "metadata": {},
   "outputs": [],
   "source": [
    "liens = []\n",
    "for i in quartiers:\n",
    "    liens.append(\"https://lematin.ma\"+str(i.find('a')['href']))"
   ]
  },
  {
   "cell_type": "code",
   "execution_count": 8,
   "metadata": {
    "scrolled": true
   },
   "outputs": [
    {
     "name": "stdout",
     "output_type": "stream",
     "text": [
      "https://lematin.ma/pharmacie-garde-casablanca/nuit/ain-sebaa.html\n",
      "https://lematin.ma/pharmacie-garde-casablanca/nuit/sidi-maarouf.html\n",
      "https://lematin.ma/pharmacie-garde-casablanca/nuit/maarif.html\n",
      "https://lematin.ma/pharmacie-garde-casablanca/nuit/sidi-moumen.html\n",
      "https://lematin.ma/pharmacie-garde-casablanca/nuit/lissasfa.html\n",
      "https://lematin.ma/pharmacie-garde-casablanca/nuit/derb-omar.html\n",
      "https://lematin.ma/pharmacie-garde-casablanca/nuit/hay-mohammadi.html\n",
      "https://lematin.ma/pharmacie-garde-casablanca/nuit/sidi-bernoussi.html\n",
      "https://lematin.ma/pharmacie-garde-casablanca/nuit/sidi-othmane.html\n",
      "https://lematin.ma/pharmacie-garde-casablanca/nuit/hay-hassani.html\n",
      "https://lematin.ma/pharmacie-garde-casablanca/nuit/mers-sultan.html\n",
      "https://lematin.ma/pharmacie-garde-casablanca/nuit/roches-noires.html\n",
      "https://lematin.ma/pharmacie-garde-casablanca/nuit/oulfa.html\n",
      "https://lematin.ma/pharmacie-garde-casablanca/nuit/ben-msick.html\n"
     ]
    }
   ],
   "source": [
    "for i in liens:\n",
    "    print(i)"
   ]
  },
  {
   "cell_type": "markdown",
   "metadata": {},
   "source": [
    "** Liste des quartiers **"
   ]
  },
  {
   "cell_type": "code",
   "execution_count": 9,
   "metadata": {},
   "outputs": [
    {
     "name": "stdout",
     "output_type": "stream",
     "text": [
      "Aïn Sebaâ\n",
      "Sidi Maarouf\n",
      "Maarif\n",
      "Sidi Moumen\n",
      "Lissasfa\n",
      "Derb Omar\n",
      "Hay Mohammadi\n",
      "Sidi Bernoussi\n",
      "Sidi Othmane\n",
      "Hay Hassani\n",
      "Mers Sultan\n",
      "Roches Noires\n",
      "Oulfa\n",
      "Ben Msick\n"
     ]
    }
   ],
   "source": [
    "liste_quartiers = []\n",
    "for i in quartiers:\n",
    "    liste_quartiers.append(i.find('h4').text)\n",
    "    print(i.find('h4').text)"
   ]
  },
  {
   "cell_type": "code",
   "execution_count": 10,
   "metadata": {},
   "outputs": [
    {
     "data": {
      "text/plain": [
       "['Aïn Sebaâ',\n",
       " 'Sidi Maarouf',\n",
       " 'Maarif',\n",
       " 'Sidi Moumen',\n",
       " 'Lissasfa',\n",
       " 'Derb Omar',\n",
       " 'Hay Mohammadi',\n",
       " 'Sidi Bernoussi',\n",
       " 'Sidi Othmane',\n",
       " 'Hay Hassani',\n",
       " 'Mers Sultan',\n",
       " 'Roches Noires',\n",
       " 'Oulfa',\n",
       " 'Ben Msick']"
      ]
     },
     "execution_count": 10,
     "metadata": {},
     "output_type": "execute_result"
    }
   ],
   "source": [
    "liste_quartiers"
   ]
  },
  {
   "cell_type": "markdown",
   "metadata": {},
   "source": [
    "Scrap page par page"
   ]
  },
  {
   "cell_type": "code",
   "execution_count": 11,
   "metadata": {},
   "outputs": [],
   "source": [
    "from time import time\n",
    "from time import sleep\n",
    "from random import randint\n",
    "\n",
    "start_time = time()\n",
    "requests = 0\n",
    "\n",
    "from requests import get"
   ]
  },
  {
   "cell_type": "code",
   "execution_count": 12,
   "metadata": {},
   "outputs": [
    {
     "name": "stdout",
     "output_type": "stream",
     "text": [
      "https://lematin.ma/pharmacie-garde-casablanca/nuit/ain-sebaa.html\n",
      "15\n",
      "https://lematin.ma/pharmacie-garde-casablanca/nuit/sidi-maarouf.html\n",
      "11\n",
      "https://lematin.ma/pharmacie-garde-casablanca/nuit/maarif.html\n",
      "8\n",
      "https://lematin.ma/pharmacie-garde-casablanca/nuit/sidi-moumen.html\n",
      "13\n",
      "https://lematin.ma/pharmacie-garde-casablanca/nuit/lissasfa.html\n",
      "9\n",
      "https://lematin.ma/pharmacie-garde-casablanca/nuit/derb-omar.html\n",
      "15\n",
      "https://lematin.ma/pharmacie-garde-casablanca/nuit/hay-mohammadi.html\n",
      "15\n",
      "https://lematin.ma/pharmacie-garde-casablanca/nuit/sidi-bernoussi.html\n",
      "10\n",
      "https://lematin.ma/pharmacie-garde-casablanca/nuit/sidi-othmane.html\n",
      "9\n",
      "https://lematin.ma/pharmacie-garde-casablanca/nuit/hay-hassani.html\n",
      "15\n",
      "https://lematin.ma/pharmacie-garde-casablanca/nuit/mers-sultan.html\n",
      "15\n",
      "https://lematin.ma/pharmacie-garde-casablanca/nuit/roches-noires.html\n",
      "15\n",
      "https://lematin.ma/pharmacie-garde-casablanca/nuit/oulfa.html\n",
      "10\n",
      "https://lematin.ma/pharmacie-garde-casablanca/nuit/ben-msick.html\n",
      "9\n",
      "*** *** Done *** ***\n"
     ]
    }
   ],
   "source": [
    "noms =[]\n",
    "adresses = []\n",
    "quartiers = []\n",
    "telephones = []\n",
    "\n",
    "for i,j in zip(liens,liste_quartiers):\n",
    "    print(i)\n",
    "    response = get(i)\n",
    "    \n",
    "    timer = randint(8,15)\n",
    "    #pause de loop\n",
    "    print(timer)\n",
    "    sleep(timer)\n",
    "    \n",
    "    #renvoyer un warning pour les non 'status code : 200'\n",
    "    if response.status_code != 200:\n",
    "        warn('Request: {}; Status code: {}'.format(requests, response.status_code))\n",
    "            \n",
    "    #parser en BS\n",
    "    page_html = BeautifulSoup(response.text,'html.parser')\n",
    "    \n",
    "    pharmacies = page_html.find_all('div',class_='pharmacie')\n",
    "    \n",
    "    \"\"\" Noms et adresse \"\"\"\n",
    "    for k in pharmacies:\n",
    "        noms.append(k.find('h5').text) \n",
    "        adresses.append(effacer_telephone(k.find('p').text))\n",
    "        quartiers.append(j)\n",
    "        telephones.append(telephone_pharmacie(k.find('p').text))\n",
    "        \n",
    "    \n",
    "    \n",
    "    \n",
    "\n",
    "print('*** *** Done *** ***')\n",
    "    "
   ]
  },
  {
   "cell_type": "code",
   "execution_count": 13,
   "metadata": {
    "scrolled": true
   },
   "outputs": [
    {
     "data": {
      "text/plain": [
       "['Pharmacie JACARANDA',\n",
       " 'Pharmacie AIT LBACHA',\n",
       " 'Pharmacie AMINE',\n",
       " \"Pharmacie WIDAD'S\",\n",
       " 'Pharmacie RIVE BLEUE']"
      ]
     },
     "execution_count": 13,
     "metadata": {},
     "output_type": "execute_result"
    }
   ],
   "source": [
    "noms[:5]"
   ]
  },
  {
   "cell_type": "code",
   "execution_count": 14,
   "metadata": {},
   "outputs": [
    {
     "data": {
      "text/plain": [
       "18"
      ]
     },
     "execution_count": 14,
     "metadata": {},
     "output_type": "execute_result"
    }
   ],
   "source": [
    "len(noms)"
   ]
  },
  {
   "cell_type": "code",
   "execution_count": 15,
   "metadata": {},
   "outputs": [
    {
     "data": {
      "text/plain": [
       "['N° 1BIS, RUE EL GARA - BOULEVARD MOULAY SLIMANE - AIN SEBAA',\n",
       " 'STATION AFRIQUIA - OULED HADDOU - ROUTE 109 KM. 10',\n",
       " 'LOTISSEMENT AMINE N° 65 - SIDI MAAROUF OULED HADDOU - ROUTE 1029',\n",
       " '27, AVENUE HABIB SINACEUR - ANFA (PRES DE ACIMA LAHJAJMA) (FACE DES POMPIERS)',\n",
       " '26, ALLEE ABOU ELMAHASSINE AROUANI - RACINE (DERRIERE OLIVERI MAARIF)']"
      ]
     },
     "execution_count": 15,
     "metadata": {},
     "output_type": "execute_result"
    }
   ],
   "source": [
    "adresses[:5]"
   ]
  },
  {
   "cell_type": "code",
   "execution_count": 16,
   "metadata": {},
   "outputs": [
    {
     "data": {
      "text/plain": [
       "18"
      ]
     },
     "execution_count": 16,
     "metadata": {},
     "output_type": "execute_result"
    }
   ],
   "source": [
    "len(adresses)"
   ]
  },
  {
   "cell_type": "code",
   "execution_count": 17,
   "metadata": {
    "scrolled": true
   },
   "outputs": [
    {
     "data": {
      "text/plain": [
       "['Aïn Sebaâ', 'Sidi Maarouf', 'Sidi Maarouf', 'Maarif', 'Maarif']"
      ]
     },
     "execution_count": 17,
     "metadata": {},
     "output_type": "execute_result"
    }
   ],
   "source": [
    "quartiers[:5]"
   ]
  },
  {
   "cell_type": "code",
   "execution_count": 18,
   "metadata": {},
   "outputs": [
    {
     "data": {
      "text/plain": [
       "18"
      ]
     },
     "execution_count": 18,
     "metadata": {},
     "output_type": "execute_result"
    }
   ],
   "source": [
    "len(quartiers)"
   ]
  },
  {
   "cell_type": "code",
   "execution_count": 19,
   "metadata": {},
   "outputs": [
    {
     "data": {
      "text/plain": [
       "['0522673006', '0522321210', '0522972585', '0522942029', '0522989456']"
      ]
     },
     "execution_count": 19,
     "metadata": {},
     "output_type": "execute_result"
    }
   ],
   "source": [
    "telephones[:5]"
   ]
  },
  {
   "cell_type": "code",
   "execution_count": 20,
   "metadata": {},
   "outputs": [
    {
     "data": {
      "text/plain": [
       "18"
      ]
     },
     "execution_count": 20,
     "metadata": {},
     "output_type": "execute_result"
    }
   ],
   "source": [
    "len(telephones)"
   ]
  },
  {
   "cell_type": "code",
   "execution_count": 21,
   "metadata": {},
   "outputs": [],
   "source": [
    "garde = []\n",
    "for i,j,k,l in zip(noms,adresses,quartiers,telephones):\n",
    "    t = (i,j,k,l)\n",
    "    garde.append(t)"
   ]
  },
  {
   "cell_type": "code",
   "execution_count": 22,
   "metadata": {
    "scrolled": true
   },
   "outputs": [
    {
     "name": "stdout",
     "output_type": "stream",
     "text": [
      "[('Pharmacie JACARANDA', 'N° 1BIS, RUE EL GARA - BOULEVARD MOULAY SLIMANE - AIN SEBAA', 'Aïn Sebaâ', '0522673006'), ('Pharmacie AIT LBACHA', 'STATION AFRIQUIA - OULED HADDOU - ROUTE 109 KM. 10', 'Sidi Maarouf', '0522321210'), ('Pharmacie AMINE', 'LOTISSEMENT AMINE N° 65 - SIDI MAAROUF OULED HADDOU - ROUTE 1029', 'Sidi Maarouf', '0522972585'), (\"Pharmacie WIDAD'S\", '27, AVENUE HABIB SINACEUR - ANFA (PRES DE ACIMA LAHJAJMA) (FACE DES POMPIERS)', 'Maarif', '0522942029'), ('Pharmacie RIVE BLEUE', '26, ALLEE ABOU ELMAHASSINE AROUANI - RACINE (DERRIERE OLIVERI MAARIF)', 'Maarif', '0522989456'), ('Pharmacie HAY ZARHOUNE', 'N° 5, IMMEUBLE 13 TRANCHE N° 2B - SECTEUR 3 ZARHOUNE 2 SIDI MOUMEN', 'Sidi Moumen', '0522708584'), ('Pharmacie RACHA', 'ROUTE 36, SIDI MOUMEN N° 10', 'Sidi Moumen', '0522700294'), ('Pharmacie MOULAY AHMED', 'LOT 1 UNITE 6 JNANE LOUZ-OULFA OULAZ AZOUZ - LISSASFA', 'Lissasfa', '0522658608'), ('Pharmacie RIAD RAHA', 'LES JARDINS DE LISSASFA GH 4 - 2 RDC - ENTREE 20 N° 4 LISSASFA', 'Lissasfa', '0522655689'), ('Pharmacie 15 RAMADAN', 'BD. MOHAMED VI - ROND-POINT DE LA VICTOIRE (BENJDIA - DERB OMAR)', 'Derb Omar', '0522452521'), ('Pharmacie AL AMAL', '44 BIS, BLOC KOUDIA - HAY MOHAMMADI', 'Hay Mohammadi', '0522601319'), (\"Pharmacie L'OLIVIER\", '62 RUE 61- HAY TARIK - SIDI BERNOUSSI', 'Sidi Bernoussi', '0522731606'), ('Pharmacie ZAITOUN', '16, BD. MOHAMED JOUDAR - HAY BARAKA', 'Sidi Othmane', '0522727270'), ('Pharmacie NEJMA', 'DERB NEJMA, BLOC 415 N° 902 HAY HASSANI', 'Hay Hassani', '0522895435'), ('Pharmacie LE GALIEN', '77, RUE DE ROME ET 132, AVENUE 2 MARS (PRES MOSQUEE AL HOUDA - - WANA 2 MARS)', 'Mers Sultan', '0522806787'), ('Pharmacie SOURZAC ROCHES NOIRES', 'N° 164, BD. ZOUBIR IBNOU AL AOUAM - ANGLE RUE SOURZAC (A COTE COMMISSARIAT 3ème) ROCHES NOIRES', 'Roches Noires', '0522243340'), ('Pharmacie AL MOTAHIDA', '31, RUE 36 - LOTISSEMENT SIDI ABDERRAHMANE - EL OULFA', 'Oulfa', '0522895606'), ('Pharmacie AFRIQUIA', '1017, ROUTE MEDIOUNA', 'Ben Msick', '0522371428')]\n"
     ]
    }
   ],
   "source": [
    "print(garde)"
   ]
  },
  {
   "cell_type": "markdown",
   "metadata": {},
   "source": [
    "## Convertir en objet pandas"
   ]
  },
  {
   "cell_type": "code",
   "execution_count": 23,
   "metadata": {},
   "outputs": [],
   "source": [
    "import pandas as pd"
   ]
  },
  {
   "cell_type": "code",
   "execution_count": 24,
   "metadata": {},
   "outputs": [],
   "source": [
    "df = pd.DataFrame(garde,columns=['nom','adresse','quartier','telephone'])"
   ]
  },
  {
   "cell_type": "code",
   "execution_count": 25,
   "metadata": {},
   "outputs": [
    {
     "data": {
      "text/html": [
       "<div>\n",
       "<style>\n",
       "    .dataframe thead tr:only-child th {\n",
       "        text-align: right;\n",
       "    }\n",
       "\n",
       "    .dataframe thead th {\n",
       "        text-align: left;\n",
       "    }\n",
       "\n",
       "    .dataframe tbody tr th {\n",
       "        vertical-align: top;\n",
       "    }\n",
       "</style>\n",
       "<table border=\"1\" class=\"dataframe\">\n",
       "  <thead>\n",
       "    <tr style=\"text-align: right;\">\n",
       "      <th></th>\n",
       "      <th>nom</th>\n",
       "      <th>adresse</th>\n",
       "      <th>quartier</th>\n",
       "      <th>telephone</th>\n",
       "    </tr>\n",
       "  </thead>\n",
       "  <tbody>\n",
       "    <tr>\n",
       "      <th>0</th>\n",
       "      <td>Pharmacie JACARANDA</td>\n",
       "      <td>N° 1BIS, RUE EL GARA - BOULEVARD MOULAY SLIMAN...</td>\n",
       "      <td>Aïn Sebaâ</td>\n",
       "      <td>0522673006</td>\n",
       "    </tr>\n",
       "    <tr>\n",
       "      <th>1</th>\n",
       "      <td>Pharmacie AIT LBACHA</td>\n",
       "      <td>STATION AFRIQUIA - OULED HADDOU - ROUTE 109 KM...</td>\n",
       "      <td>Sidi Maarouf</td>\n",
       "      <td>0522321210</td>\n",
       "    </tr>\n",
       "    <tr>\n",
       "      <th>2</th>\n",
       "      <td>Pharmacie AMINE</td>\n",
       "      <td>LOTISSEMENT AMINE N° 65 - SIDI MAAROUF OULED H...</td>\n",
       "      <td>Sidi Maarouf</td>\n",
       "      <td>0522972585</td>\n",
       "    </tr>\n",
       "    <tr>\n",
       "      <th>3</th>\n",
       "      <td>Pharmacie WIDAD'S</td>\n",
       "      <td>27, AVENUE HABIB SINACEUR - ANFA (PRES DE ACIM...</td>\n",
       "      <td>Maarif</td>\n",
       "      <td>0522942029</td>\n",
       "    </tr>\n",
       "    <tr>\n",
       "      <th>4</th>\n",
       "      <td>Pharmacie RIVE BLEUE</td>\n",
       "      <td>26, ALLEE ABOU ELMAHASSINE AROUANI - RACINE (D...</td>\n",
       "      <td>Maarif</td>\n",
       "      <td>0522989456</td>\n",
       "    </tr>\n",
       "    <tr>\n",
       "      <th>5</th>\n",
       "      <td>Pharmacie HAY ZARHOUNE</td>\n",
       "      <td>N° 5, IMMEUBLE 13 TRANCHE N° 2B - SECTEUR 3 ZA...</td>\n",
       "      <td>Sidi Moumen</td>\n",
       "      <td>0522708584</td>\n",
       "    </tr>\n",
       "    <tr>\n",
       "      <th>6</th>\n",
       "      <td>Pharmacie RACHA</td>\n",
       "      <td>ROUTE 36, SIDI MOUMEN N° 10</td>\n",
       "      <td>Sidi Moumen</td>\n",
       "      <td>0522700294</td>\n",
       "    </tr>\n",
       "    <tr>\n",
       "      <th>7</th>\n",
       "      <td>Pharmacie MOULAY AHMED</td>\n",
       "      <td>LOT 1 UNITE 6 JNANE LOUZ-OULFA OULAZ AZOUZ - L...</td>\n",
       "      <td>Lissasfa</td>\n",
       "      <td>0522658608</td>\n",
       "    </tr>\n",
       "    <tr>\n",
       "      <th>8</th>\n",
       "      <td>Pharmacie RIAD RAHA</td>\n",
       "      <td>LES JARDINS DE LISSASFA GH 4 - 2 RDC - ENTREE ...</td>\n",
       "      <td>Lissasfa</td>\n",
       "      <td>0522655689</td>\n",
       "    </tr>\n",
       "    <tr>\n",
       "      <th>9</th>\n",
       "      <td>Pharmacie 15 RAMADAN</td>\n",
       "      <td>BD. MOHAMED VI - ROND-POINT DE LA VICTOIRE (BE...</td>\n",
       "      <td>Derb Omar</td>\n",
       "      <td>0522452521</td>\n",
       "    </tr>\n",
       "    <tr>\n",
       "      <th>10</th>\n",
       "      <td>Pharmacie AL AMAL</td>\n",
       "      <td>44 BIS, BLOC KOUDIA - HAY MOHAMMADI</td>\n",
       "      <td>Hay Mohammadi</td>\n",
       "      <td>0522601319</td>\n",
       "    </tr>\n",
       "    <tr>\n",
       "      <th>11</th>\n",
       "      <td>Pharmacie L'OLIVIER</td>\n",
       "      <td>62 RUE 61- HAY TARIK - SIDI BERNOUSSI</td>\n",
       "      <td>Sidi Bernoussi</td>\n",
       "      <td>0522731606</td>\n",
       "    </tr>\n",
       "    <tr>\n",
       "      <th>12</th>\n",
       "      <td>Pharmacie ZAITOUN</td>\n",
       "      <td>16, BD. MOHAMED JOUDAR - HAY BARAKA</td>\n",
       "      <td>Sidi Othmane</td>\n",
       "      <td>0522727270</td>\n",
       "    </tr>\n",
       "    <tr>\n",
       "      <th>13</th>\n",
       "      <td>Pharmacie NEJMA</td>\n",
       "      <td>DERB NEJMA, BLOC 415 N° 902 HAY HASSANI</td>\n",
       "      <td>Hay Hassani</td>\n",
       "      <td>0522895435</td>\n",
       "    </tr>\n",
       "    <tr>\n",
       "      <th>14</th>\n",
       "      <td>Pharmacie LE GALIEN</td>\n",
       "      <td>77, RUE DE ROME ET 132, AVENUE 2 MARS (PRES MO...</td>\n",
       "      <td>Mers Sultan</td>\n",
       "      <td>0522806787</td>\n",
       "    </tr>\n",
       "    <tr>\n",
       "      <th>15</th>\n",
       "      <td>Pharmacie SOURZAC ROCHES NOIRES</td>\n",
       "      <td>N° 164, BD. ZOUBIR IBNOU AL AOUAM - ANGLE RUE ...</td>\n",
       "      <td>Roches Noires</td>\n",
       "      <td>0522243340</td>\n",
       "    </tr>\n",
       "    <tr>\n",
       "      <th>16</th>\n",
       "      <td>Pharmacie AL MOTAHIDA</td>\n",
       "      <td>31, RUE 36 - LOTISSEMENT SIDI ABDERRAHMANE - E...</td>\n",
       "      <td>Oulfa</td>\n",
       "      <td>0522895606</td>\n",
       "    </tr>\n",
       "    <tr>\n",
       "      <th>17</th>\n",
       "      <td>Pharmacie AFRIQUIA</td>\n",
       "      <td>1017, ROUTE MEDIOUNA</td>\n",
       "      <td>Ben Msick</td>\n",
       "      <td>0522371428</td>\n",
       "    </tr>\n",
       "  </tbody>\n",
       "</table>\n",
       "</div>"
      ],
      "text/plain": [
       "                                nom  \\\n",
       "0               Pharmacie JACARANDA   \n",
       "1              Pharmacie AIT LBACHA   \n",
       "2                   Pharmacie AMINE   \n",
       "3                 Pharmacie WIDAD'S   \n",
       "4              Pharmacie RIVE BLEUE   \n",
       "5            Pharmacie HAY ZARHOUNE   \n",
       "6                   Pharmacie RACHA   \n",
       "7            Pharmacie MOULAY AHMED   \n",
       "8               Pharmacie RIAD RAHA   \n",
       "9              Pharmacie 15 RAMADAN   \n",
       "10                Pharmacie AL AMAL   \n",
       "11              Pharmacie L'OLIVIER   \n",
       "12                Pharmacie ZAITOUN   \n",
       "13                  Pharmacie NEJMA   \n",
       "14              Pharmacie LE GALIEN   \n",
       "15  Pharmacie SOURZAC ROCHES NOIRES   \n",
       "16            Pharmacie AL MOTAHIDA   \n",
       "17               Pharmacie AFRIQUIA   \n",
       "\n",
       "                                              adresse        quartier  \\\n",
       "0   N° 1BIS, RUE EL GARA - BOULEVARD MOULAY SLIMAN...       Aïn Sebaâ   \n",
       "1   STATION AFRIQUIA - OULED HADDOU - ROUTE 109 KM...    Sidi Maarouf   \n",
       "2   LOTISSEMENT AMINE N° 65 - SIDI MAAROUF OULED H...    Sidi Maarouf   \n",
       "3   27, AVENUE HABIB SINACEUR - ANFA (PRES DE ACIM...          Maarif   \n",
       "4   26, ALLEE ABOU ELMAHASSINE AROUANI - RACINE (D...          Maarif   \n",
       "5   N° 5, IMMEUBLE 13 TRANCHE N° 2B - SECTEUR 3 ZA...     Sidi Moumen   \n",
       "6                         ROUTE 36, SIDI MOUMEN N° 10     Sidi Moumen   \n",
       "7   LOT 1 UNITE 6 JNANE LOUZ-OULFA OULAZ AZOUZ - L...        Lissasfa   \n",
       "8   LES JARDINS DE LISSASFA GH 4 - 2 RDC - ENTREE ...        Lissasfa   \n",
       "9   BD. MOHAMED VI - ROND-POINT DE LA VICTOIRE (BE...       Derb Omar   \n",
       "10                44 BIS, BLOC KOUDIA - HAY MOHAMMADI   Hay Mohammadi   \n",
       "11              62 RUE 61- HAY TARIK - SIDI BERNOUSSI  Sidi Bernoussi   \n",
       "12                16, BD. MOHAMED JOUDAR - HAY BARAKA    Sidi Othmane   \n",
       "13            DERB NEJMA, BLOC 415 N° 902 HAY HASSANI     Hay Hassani   \n",
       "14  77, RUE DE ROME ET 132, AVENUE 2 MARS (PRES MO...     Mers Sultan   \n",
       "15  N° 164, BD. ZOUBIR IBNOU AL AOUAM - ANGLE RUE ...   Roches Noires   \n",
       "16  31, RUE 36 - LOTISSEMENT SIDI ABDERRAHMANE - E...           Oulfa   \n",
       "17                               1017, ROUTE MEDIOUNA       Ben Msick   \n",
       "\n",
       "     telephone  \n",
       "0   0522673006  \n",
       "1   0522321210  \n",
       "2   0522972585  \n",
       "3   0522942029  \n",
       "4   0522989456  \n",
       "5   0522708584  \n",
       "6   0522700294  \n",
       "7   0522658608  \n",
       "8   0522655689  \n",
       "9   0522452521  \n",
       "10  0522601319  \n",
       "11  0522731606  \n",
       "12  0522727270  \n",
       "13  0522895435  \n",
       "14  0522806787  \n",
       "15  0522243340  \n",
       "16  0522895606  \n",
       "17  0522371428  "
      ]
     },
     "execution_count": 25,
     "metadata": {},
     "output_type": "execute_result"
    }
   ],
   "source": [
    "df"
   ]
  },
  {
   "cell_type": "markdown",
   "metadata": {},
   "source": [
    "## Exporter en JSON"
   ]
  },
  {
   "cell_type": "code",
   "execution_count": 27,
   "metadata": {},
   "outputs": [],
   "source": [
    "df.to_json(\"pdg_nuit\",orient=\"records\")"
   ]
  },
  {
   "cell_type": "markdown",
   "metadata": {},
   "source": [
    "** -------------- **"
   ]
  }
 ],
 "metadata": {
  "kernelspec": {
   "display_name": "Python 3",
   "language": "python",
   "name": "python3"
  },
  "language_info": {
   "codemirror_mode": {
    "name": "ipython",
    "version": 3
   },
   "file_extension": ".py",
   "mimetype": "text/x-python",
   "name": "python",
   "nbconvert_exporter": "python",
   "pygments_lexer": "ipython3",
   "version": "3.6.1"
  }
 },
 "nbformat": 4,
 "nbformat_minor": 2
}
