{
 "cells": [
  {
   "cell_type": "markdown",
   "metadata": {},
   "source": [
    "# Scraping des pharmacies de garde sur Casablanca"
   ]
  },
  {
   "cell_type": "markdown",
   "metadata": {},
   "source": [
    "source des données : https://lematin.ma/pharmacie-garde-casablanca.html"
   ]
  },
  {
   "cell_type": "code",
   "execution_count": 1,
   "metadata": {},
   "outputs": [
    {
     "data": {
      "text/plain": [
       "<Response [200]>"
      ]
     },
     "execution_count": 1,
     "metadata": {},
     "output_type": "execute_result"
    }
   ],
   "source": [
    "import requests\n",
    "\n",
    "url = 'https://lematin.ma/pharmacie-garde-casablanca.html'\n",
    "response = requests.get(url)\n",
    "response"
   ]
  },
  {
   "cell_type": "code",
   "execution_count": 2,
   "metadata": {},
   "outputs": [
    {
     "data": {
      "text/plain": [
       "bs4.BeautifulSoup"
      ]
     },
     "execution_count": 2,
     "metadata": {},
     "output_type": "execute_result"
    }
   ],
   "source": [
    "from bs4 import BeautifulSoup\n",
    "\n",
    "soup = BeautifulSoup(response.text,'html.parser')\n",
    "type(soup)"
   ]
  },
  {
   "cell_type": "code",
   "execution_count": null,
   "metadata": {},
   "outputs": [],
   "source": []
  },
  {
   "cell_type": "code",
   "execution_count": 3,
   "metadata": {},
   "outputs": [],
   "source": [
    "quartiers = soup.find_all('div',class_='lespharmaciengarde')"
   ]
  },
  {
   "cell_type": "code",
   "execution_count": 14,
   "metadata": {},
   "outputs": [
    {
     "data": {
      "text/plain": [
       "[<div class=\"lespharmaciengarde\">\n",
       " <h4><a href=\"/pharmacie-garde-casablanca/lissasfa.html\">Lissasfa</a></h4>\n",
       " </div>, <div class=\"lespharmaciengarde\">\n",
       " <h4><a href=\"/pharmacie-garde-casablanca/ain-chock.html\">Aïn Chock</a></h4>\n",
       " </div>, <div class=\"lespharmaciengarde\">\n",
       " <h4><a href=\"/pharmacie-garde-casablanca/sidi-moumen.html\">Sidi Moumen</a></h4>\n",
       " </div>, <div class=\"lespharmaciengarde\">\n",
       " <h4><a href=\"/pharmacie-garde-casablanca/ben-msick.html\">Ben Msick</a></h4>\n",
       " </div>, <div class=\"lespharmaciengarde\">\n",
       " <h4><a href=\"/pharmacie-garde-casablanca/sidi-bernoussi.html\">Sidi Bernoussi</a></h4>\n",
       " </div>, <div class=\"lespharmaciengarde\">\n",
       " <h4><a href=\"/pharmacie-garde-casablanca/annasi.html\">Annasi</a></h4>\n",
       " </div>, <div class=\"lespharmaciengarde\">\n",
       " <h4><a href=\"/pharmacie-garde-casablanca/sidi-maarouf.html\">Sidi Maarouf</a></h4>\n",
       " </div>, <div class=\"lespharmaciengarde\">\n",
       " <h4><a href=\"/pharmacie-garde-casablanca/maarif.html\">Maarif</a></h4>\n",
       " </div>, <div class=\"lespharmaciengarde\">\n",
       " <h4><a href=\"/pharmacie-garde-casablanca/belvedere.html\">Belvédère</a></h4>\n",
       " </div>, <div class=\"lespharmaciengarde\">\n",
       " <h4><a href=\"/pharmacie-garde-casablanca/al-azhar-panorama.html\">Al Azhar Panorama</a></h4>\n",
       " </div>, <div class=\"lespharmaciengarde\">\n",
       " <h4><a href=\"/pharmacie-garde-casablanca/hay-moulay-rachid.html\">Hay Moulay Rachid</a></h4>\n",
       " </div>, <div class=\"lespharmaciengarde\">\n",
       " <h4><a href=\"/pharmacie-garde-casablanca/sidi-othmane.html\">Sidi Othmane</a></h4>\n",
       " </div>, <div class=\"lespharmaciengarde\">\n",
       " <h4><a href=\"/pharmacie-garde-casablanca/bourgogne.html\">Bourgogne</a></h4>\n",
       " </div>, <div class=\"lespharmaciengarde\">\n",
       " <h4><a href=\"/pharmacie-garde-casablanca/hay-mohammadi.html\">Hay Mohammadi</a></h4>\n",
       " </div>, <div class=\"lespharmaciengarde\">\n",
       " <h4><a href=\"/pharmacie-garde-casablanca/ain-sebaa.html\">Aïn Sebaâ</a></h4>\n",
       " </div>, <div class=\"lespharmaciengarde\">\n",
       " <h4><a href=\"/pharmacie-garde-casablanca/al-fida.html\">Al Fida</a></h4>\n",
       " </div>, <div class=\"lespharmaciengarde\">\n",
       " <h4><a href=\"/pharmacie-garde-casablanca/oulfa.html\">Oulfa</a></h4>\n",
       " </div>]"
      ]
     },
     "execution_count": 14,
     "metadata": {},
     "output_type": "execute_result"
    }
   ],
   "source": [
    "quartiers"
   ]
  },
  {
   "cell_type": "markdown",
   "metadata": {},
   "source": [
    "**Liste des liens des quartiers **"
   ]
  },
  {
   "cell_type": "code",
   "execution_count": 19,
   "metadata": {},
   "outputs": [],
   "source": [
    "liens = []\n",
    "for i in quartiers:\n",
    "    liens.append(\"https://lematin.ma\"+str(i.find('a')['href']))"
   ]
  },
  {
   "cell_type": "code",
   "execution_count": 20,
   "metadata": {
    "scrolled": true
   },
   "outputs": [
    {
     "name": "stdout",
     "output_type": "stream",
     "text": [
      "https://lematin.ma/pharmacie-garde-casablanca/lissasfa.html\n",
      "https://lematin.ma/pharmacie-garde-casablanca/ain-chock.html\n",
      "https://lematin.ma/pharmacie-garde-casablanca/sidi-moumen.html\n",
      "https://lematin.ma/pharmacie-garde-casablanca/ben-msick.html\n",
      "https://lematin.ma/pharmacie-garde-casablanca/sidi-bernoussi.html\n",
      "https://lematin.ma/pharmacie-garde-casablanca/annasi.html\n",
      "https://lematin.ma/pharmacie-garde-casablanca/sidi-maarouf.html\n",
      "https://lematin.ma/pharmacie-garde-casablanca/maarif.html\n",
      "https://lematin.ma/pharmacie-garde-casablanca/belvedere.html\n",
      "https://lematin.ma/pharmacie-garde-casablanca/al-azhar-panorama.html\n",
      "https://lematin.ma/pharmacie-garde-casablanca/hay-moulay-rachid.html\n",
      "https://lematin.ma/pharmacie-garde-casablanca/sidi-othmane.html\n",
      "https://lematin.ma/pharmacie-garde-casablanca/bourgogne.html\n",
      "https://lematin.ma/pharmacie-garde-casablanca/hay-mohammadi.html\n",
      "https://lematin.ma/pharmacie-garde-casablanca/ain-sebaa.html\n",
      "https://lematin.ma/pharmacie-garde-casablanca/al-fida.html\n",
      "https://lematin.ma/pharmacie-garde-casablanca/oulfa.html\n"
     ]
    }
   ],
   "source": [
    "for i in liens:\n",
    "    print(i)"
   ]
  },
  {
   "cell_type": "markdown",
   "metadata": {},
   "source": [
    "** Liste des quartiers **"
   ]
  },
  {
   "cell_type": "code",
   "execution_count": 27,
   "metadata": {},
   "outputs": [
    {
     "name": "stdout",
     "output_type": "stream",
     "text": [
      "Lissasfa\n",
      "Aïn Chock\n",
      "Sidi Moumen\n",
      "Ben Msick\n",
      "Sidi Bernoussi\n",
      "Annasi\n",
      "Sidi Maarouf\n",
      "Maarif\n",
      "Belvédère\n",
      "Al Azhar Panorama\n",
      "Hay Moulay Rachid\n",
      "Sidi Othmane\n",
      "Bourgogne\n",
      "Hay Mohammadi\n",
      "Aïn Sebaâ\n",
      "Al Fida\n",
      "Oulfa\n"
     ]
    }
   ],
   "source": [
    "liste_quartiers = []\n",
    "for i in quartiers:\n",
    "    liste_quartiers.append(i.find('h4').text)\n",
    "    print(i.find('h4').text)"
   ]
  },
  {
   "cell_type": "code",
   "execution_count": 28,
   "metadata": {},
   "outputs": [
    {
     "data": {
      "text/plain": [
       "['Lissasfa',\n",
       " 'Aïn Chock',\n",
       " 'Sidi Moumen',\n",
       " 'Ben Msick',\n",
       " 'Sidi Bernoussi',\n",
       " 'Annasi',\n",
       " 'Sidi Maarouf',\n",
       " 'Maarif',\n",
       " 'Belvédère',\n",
       " 'Al Azhar Panorama',\n",
       " 'Hay Moulay Rachid',\n",
       " 'Sidi Othmane',\n",
       " 'Bourgogne',\n",
       " 'Hay Mohammadi',\n",
       " 'Aïn Sebaâ',\n",
       " 'Al Fida',\n",
       " 'Oulfa']"
      ]
     },
     "execution_count": 28,
     "metadata": {},
     "output_type": "execute_result"
    }
   ],
   "source": [
    "liste_quartiers"
   ]
  },
  {
   "cell_type": "markdown",
   "metadata": {},
   "source": [
    "Scrap page par page"
   ]
  },
  {
   "cell_type": "code",
   "execution_count": 6,
   "metadata": {},
   "outputs": [],
   "source": [
    "from time import time\n",
    "from time import sleep\n",
    "from random import randint\n",
    "\n",
    "start_time = time()\n",
    "requests = 0\n",
    "\n",
    "from requests import get"
   ]
  },
  {
   "cell_type": "code",
   "execution_count": 7,
   "metadata": {},
   "outputs": [
    {
     "name": "stdout",
     "output_type": "stream",
     "text": [
      "https://lematin.ma/pharmacie-garde-casablanca/lissasfa.html\n",
      "9\n",
      "https://lematin.ma/pharmacie-garde-casablanca/ain-chock.html\n",
      "11\n",
      "https://lematin.ma/pharmacie-garde-casablanca/sidi-moumen.html\n",
      "11\n",
      "https://lematin.ma/pharmacie-garde-casablanca/ben-msick.html\n",
      "14\n",
      "https://lematin.ma/pharmacie-garde-casablanca/sidi-bernoussi.html\n",
      "12\n",
      "*** *** Done *** ***\n"
     ]
    }
   ],
   "source": [
    "noms =[]\n",
    "adresses = []\n",
    "quartiers = []\n",
    "\n",
    "for i in liste_quartiers[:5]:\n",
    "    print(i)\n",
    "    response = get(i)\n",
    "    \n",
    "    timer = randint(8,15)\n",
    "    #pause de loop\n",
    "    print(timer)\n",
    "    sleep(timer)\n",
    "    \n",
    "    #renvoyer un warning pour les non 'status code : 200'\n",
    "    if response.status_code != 200:\n",
    "        warn('Request: {}; Status code: {}'.format(requests, response.status_code))\n",
    "            \n",
    "    #parser en BS\n",
    "    page_html = BeautifulSoup(response.text,'html.parser')\n",
    "    \n",
    "    pharmacies = page_html.find_all('div',class_='pharmacie')\n",
    "    \n",
    "    for j in pharmacies:\n",
    "        noms.append(j.find('h5').text)\n",
    "        adresses.append(j.find('p').text)\n",
    "    \n",
    "    \n",
    "\n",
    "print('*** *** Done *** ***')\n",
    "    "
   ]
  },
  {
   "cell_type": "code",
   "execution_count": 8,
   "metadata": {
    "scrolled": true
   },
   "outputs": [
    {
     "data": {
      "text/plain": [
       "['Pharmacie AL AZHAR SALAM',\n",
       " 'Pharmacie ZORAIAI',\n",
       " 'Pharmacie ABDELALI',\n",
       " 'Pharmacie MAJORELLE',\n",
       " 'Pharmacie MECQUA',\n",
       " 'Pharmacie ANDALOUS',\n",
       " 'Pharmacie LOTISSEMENT SALIMA',\n",
       " 'Pharmacie SIHAM',\n",
       " 'Pharmacie MIFTAH AL KHAYR',\n",
       " 'Pharmacie RAHMANI',\n",
       " 'Pharmacie EL JOULANE',\n",
       " 'Pharmacie OCEANIA',\n",
       " 'Pharmacie MENDOUR',\n",
       " 'Pharmacie DOUAA']"
      ]
     },
     "execution_count": 8,
     "metadata": {},
     "output_type": "execute_result"
    }
   ],
   "source": [
    "noms"
   ]
  },
  {
   "cell_type": "code",
   "execution_count": 9,
   "metadata": {},
   "outputs": [
    {
     "data": {
      "text/plain": [
       "14"
      ]
     },
     "execution_count": 9,
     "metadata": {},
     "output_type": "execute_result"
    }
   ],
   "source": [
    "len(noms)"
   ]
  },
  {
   "cell_type": "code",
   "execution_count": 10,
   "metadata": {},
   "outputs": [
    {
     "data": {
      "text/plain": [
       "['GH54 COMPLEXE RESIDENTIEL AL AZHAR SALAM, N°4 HAY HASSANI - Tél : 0522 91.17.18 [+]\\n',\n",
       " 'LISSASFA II BLOC D N° 250 B - Tél : 0522.65.10.74 Voir la position \\n',\n",
       " '(EX. CHAARANI) 42, BD TAZA - HAY MOULAY ABDELLAH - INARA 2 - AIN CHOCK- Tél : 0522.21.88.84 [+]\\n',\n",
       " 'COOPERATIVE SOFACA, VOIE AC8 N° 14 - OULED TALEB - OULED HADDOU - Tél : 0522.50.81.42 [+]\\n',\n",
       " '119, ANGLE BD. PANORAMIQUE ET AVENUE MECQUA - Tél : 0522.52.59.48 [+]\\n',\n",
       " '394, ANGLE BD. PANORAMIQUE & AVENUE DU 2 MARS - Tél : 0522.52.80.31 [+]\\n',\n",
       " '64, RUE 6 - LOTISSEMENT SALIMA - HAY INARA (PRES DE LA R.T.M.) - Tél : 0522.21.02.84 [+]\\n',\n",
       " 'ANGLE RUE 31 ET 34 N° 64 - LOTISSEMENT OMARYA - AL INARA - Tél : 0522.52.63.03 [+]\\n',\n",
       " 'N° 3 RUE 5 MOSQUEE ATTAOUABINE - SIDI MOUMEN - Tél : 0522.70.60.84 [+]\\n',\n",
       " 'LOTISSEMENT RAHMANI RUE 14 N° 76 - SIDI MOUMEN - Tél : 0522.72.89.88 Voir la position \\n',\n",
       " 'ANGLE BOULEVARD OUED EDDAHAB & BD. EL JOULANE N° 720 - JAMILA 6 - CITE DJEMAA- Tél : 0522.29.17.00 [+]\\n',\n",
       " '146 - 148, AVENUE DU NIL - CITE DJEMAA - Tél : 0522.37.23.75 Voir la position \\n',\n",
       " '33, AVENUE \"C\" LOT. AL HAMIDIA - SIDI BERNOUSSI - Tél : 0522.73.40.40 [+]\\n',\n",
       " '1, RUE 4 SIDI BERNOUSSI II A COTE SOUK ALLAK - Tél : 0522.76.74.53 [+]\\n']"
      ]
     },
     "execution_count": 10,
     "metadata": {},
     "output_type": "execute_result"
    }
   ],
   "source": [
    "adresses"
   ]
  },
  {
   "cell_type": "code",
   "execution_count": 11,
   "metadata": {},
   "outputs": [
    {
     "data": {
      "text/plain": [
       "14"
      ]
     },
     "execution_count": 11,
     "metadata": {},
     "output_type": "execute_result"
    }
   ],
   "source": [
    "len(adresses)"
   ]
  },
  {
   "cell_type": "code",
   "execution_count": 12,
   "metadata": {},
   "outputs": [],
   "source": [
    "garde = []\n",
    "for i,j in zip(noms,adresses):\n",
    "    t = (i,j)\n",
    "    garde.append(t)"
   ]
  },
  {
   "cell_type": "code",
   "execution_count": 13,
   "metadata": {},
   "outputs": [
    {
     "name": "stdout",
     "output_type": "stream",
     "text": [
      "[('Pharmacie AL AZHAR SALAM', 'GH54 COMPLEXE RESIDENTIEL AL AZHAR SALAM, N°4 HAY HASSANI - Tél : 0522 91.17.18 [+]\\n'), ('Pharmacie ZORAIAI', 'LISSASFA II BLOC D N° 250 B - Tél : 0522.65.10.74 Voir la position \\n'), ('Pharmacie ABDELALI', '(EX. CHAARANI) 42, BD TAZA - HAY MOULAY ABDELLAH - INARA 2 - AIN CHOCK- Tél : 0522.21.88.84 [+]\\n'), ('Pharmacie MAJORELLE', 'COOPERATIVE SOFACA, VOIE AC8 N° 14 - OULED TALEB - OULED HADDOU - Tél : 0522.50.81.42 [+]\\n'), ('Pharmacie MECQUA', '119, ANGLE BD. PANORAMIQUE ET AVENUE MECQUA - Tél : 0522.52.59.48 [+]\\n'), ('Pharmacie ANDALOUS', '394, ANGLE BD. PANORAMIQUE & AVENUE DU 2 MARS - Tél : 0522.52.80.31 [+]\\n'), ('Pharmacie LOTISSEMENT SALIMA', '64, RUE 6 - LOTISSEMENT SALIMA - HAY INARA (PRES DE LA R.T.M.) - Tél : 0522.21.02.84 [+]\\n'), ('Pharmacie SIHAM', 'ANGLE RUE 31 ET 34 N° 64 - LOTISSEMENT OMARYA - AL INARA - Tél : 0522.52.63.03 [+]\\n'), ('Pharmacie MIFTAH AL KHAYR', 'N° 3 RUE 5 MOSQUEE ATTAOUABINE - SIDI MOUMEN - Tél : 0522.70.60.84 [+]\\n'), ('Pharmacie RAHMANI', 'LOTISSEMENT RAHMANI RUE 14 N° 76 - SIDI MOUMEN - Tél : 0522.72.89.88 Voir la position \\n'), ('Pharmacie EL JOULANE', 'ANGLE BOULEVARD OUED EDDAHAB & BD. EL JOULANE N° 720 - JAMILA 6 - CITE DJEMAA- Tél : 0522.29.17.00 [+]\\n'), ('Pharmacie OCEANIA', '146 - 148, AVENUE DU NIL - CITE DJEMAA - Tél : 0522.37.23.75 Voir la position \\n'), ('Pharmacie MENDOUR', '33, AVENUE \"C\" LOT. AL HAMIDIA - SIDI BERNOUSSI - Tél : 0522.73.40.40 [+]\\n'), ('Pharmacie DOUAA', '1, RUE 4 SIDI BERNOUSSI II A COTE SOUK ALLAK - Tél : 0522.76.74.53 [+]\\n')]\n"
     ]
    }
   ],
   "source": [
    "print(garde)"
   ]
  },
  {
   "cell_type": "code",
   "execution_count": null,
   "metadata": {},
   "outputs": [],
   "source": []
  }
 ],
 "metadata": {
  "kernelspec": {
   "display_name": "Python 3",
   "language": "python",
   "name": "python3"
  },
  "language_info": {
   "codemirror_mode": {
    "name": "ipython",
    "version": 3
   },
   "file_extension": ".py",
   "mimetype": "text/x-python",
   "name": "python",
   "nbconvert_exporter": "python",
   "pygments_lexer": "ipython3",
   "version": "3.6.1"
  }
 },
 "nbformat": 4,
 "nbformat_minor": 2
}
