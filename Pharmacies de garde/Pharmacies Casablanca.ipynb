{
 "cells": [
  {
   "cell_type": "markdown",
   "metadata": {},
   "source": [
    "# Scraping des pharmacies de garde sur Casablanca"
   ]
  },
  {
   "cell_type": "markdown",
   "metadata": {},
   "source": [
    "source des données : https://lematin.ma/pharmacie-garde-casablanca.html"
   ]
  },
  {
   "cell_type": "code",
   "execution_count": 1,
   "metadata": {},
   "outputs": [
    {
     "data": {
      "text/plain": [
       "<Response [200]>"
      ]
     },
     "execution_count": 1,
     "metadata": {},
     "output_type": "execute_result"
    }
   ],
   "source": [
    "import requests\n",
    "\n",
    "url = 'https://lematin.ma/pharmacie-garde-casablanca.html'\n",
    "response = requests.get(url)\n",
    "response"
   ]
  },
  {
   "cell_type": "code",
   "execution_count": 2,
   "metadata": {},
   "outputs": [
    {
     "data": {
      "text/plain": [
       "bs4.BeautifulSoup"
      ]
     },
     "execution_count": 2,
     "metadata": {},
     "output_type": "execute_result"
    }
   ],
   "source": [
    "from bs4 import BeautifulSoup\n",
    "\n",
    "soup = BeautifulSoup(response.text,'html.parser')\n",
    "type(soup)"
   ]
  },
  {
   "cell_type": "code",
   "execution_count": 3,
   "metadata": {},
   "outputs": [],
   "source": []
  },
  {
   "cell_type": "code",
   "execution_count": 4,
   "metadata": {},
   "outputs": [],
   "source": [
    "quartiers = soup.find_all('div',class_='lespharmaciengarde')"
   ]
  },
  {
   "cell_type": "code",
   "execution_count": 9,
   "metadata": {},
   "outputs": [],
   "source": []
  },
  {
   "cell_type": "code",
   "execution_count": 16,
   "metadata": {},
   "outputs": [],
   "source": [
    "liste_quartiers = []\n",
    "for i in quartiers:\n",
    "    liste_quartiers.append(\"https://lematin.ma\"+str(i.find('a')['href']))"
   ]
  },
  {
   "cell_type": "code",
   "execution_count": 18,
   "metadata": {},
   "outputs": [
    {
     "name": "stdout",
     "output_type": "stream",
     "text": [
      "https://lematin.ma/pharmacie-garde-casablanca/ain-sebaa.html\n",
      "https://lematin.ma/pharmacie-garde-casablanca/sidi-bernoussi.html\n",
      "https://lematin.ma/pharmacie-garde-casablanca/benmsik.html\n",
      "https://lematin.ma/pharmacie-garde-casablanca/sidi-othmane.html\n",
      "https://lematin.ma/pharmacie-garde-casablanca/hay-moulay-rachid.html\n",
      "https://lematin.ma/pharmacie-garde-casablanca/lissasfa.html\n",
      "https://lematin.ma/pharmacie-garde-casablanca/annasi.html\n",
      "https://lematin.ma/pharmacie-garde-casablanca/belvedere.html\n",
      "https://lematin.ma/pharmacie-garde-casablanca/al-azhar-panorama.html\n",
      "https://lematin.ma/pharmacie-garde-casablanca/hay-mohammadi.html\n",
      "https://lematin.ma/pharmacie-garde-casablanca/sidi-maarouf.html\n",
      "https://lematin.ma/pharmacie-garde-casablanca/ain-chock.html\n",
      "https://lematin.ma/pharmacie-garde-casablanca/maarif.html\n",
      "https://lematin.ma/pharmacie-garde-casablanca/al-fida.html\n",
      "https://lematin.ma/pharmacie-garde-casablanca/oulfa.html\n",
      "https://lematin.ma/pharmacie-garde-casablanca/sidi-moumen.html\n",
      "https://lematin.ma/pharmacie-garde-casablanca/bourgogne.html\n"
     ]
    }
   ],
   "source": [
    "for i in liste_quartiers:\n",
    "    print(i)"
   ]
  },
  {
   "cell_type": "code",
   "execution_count": null,
   "metadata": {},
   "outputs": [],
   "source": []
  }
 ],
 "metadata": {
  "kernelspec": {
   "display_name": "Python 3",
   "language": "python",
   "name": "python3"
  },
  "language_info": {
   "codemirror_mode": {
    "name": "ipython",
    "version": 3
   },
   "file_extension": ".py",
   "mimetype": "text/x-python",
   "name": "python",
   "nbconvert_exporter": "python",
   "pygments_lexer": "ipython3",
   "version": "3.6.1"
  }
 },
 "nbformat": 4,
 "nbformat_minor": 2
}
