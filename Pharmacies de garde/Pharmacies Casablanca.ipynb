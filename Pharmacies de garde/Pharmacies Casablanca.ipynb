{
 "cells": [
  {
   "cell_type": "markdown",
   "metadata": {},
   "source": [
    "# Scraping des pharmacies de garde sur Casablanca"
   ]
  },
  {
   "cell_type": "markdown",
   "metadata": {},
   "source": [
    "source des données : https://lematin.ma/pharmacie-garde-casablanca.html"
   ]
  },
  {
   "cell_type": "code",
   "execution_count": 1,
   "metadata": {},
   "outputs": [
    {
     "data": {
      "text/plain": [
       "<Response [200]>"
      ]
     },
     "execution_count": 1,
     "metadata": {},
     "output_type": "execute_result"
    }
   ],
   "source": [
    "import requests\n",
    "\n",
    "url = 'https://lematin.ma/pharmacie-garde-casablanca.html'\n",
    "response = requests.get(url)\n",
    "response"
   ]
  },
  {
   "cell_type": "code",
   "execution_count": 2,
   "metadata": {},
   "outputs": [
    {
     "data": {
      "text/plain": [
       "bs4.BeautifulSoup"
      ]
     },
     "execution_count": 2,
     "metadata": {},
     "output_type": "execute_result"
    }
   ],
   "source": [
    "from bs4 import BeautifulSoup\n",
    "\n",
    "soup = BeautifulSoup(response.text,'html.parser')\n",
    "type(soup)"
   ]
  },
  {
   "cell_type": "code",
   "execution_count": null,
   "metadata": {},
   "outputs": [],
   "source": []
  },
  {
   "cell_type": "code",
   "execution_count": 3,
   "metadata": {},
   "outputs": [],
   "source": [
    "quartiers = soup.find_all('div',class_='lespharmaciengarde')"
   ]
  },
  {
   "cell_type": "code",
   "execution_count": 4,
   "metadata": {},
   "outputs": [
    {
     "data": {
      "text/plain": [
       "[<div class=\"lespharmaciengarde\">\n",
       " <h4><a href=\"/pharmacie-garde-casablanca/lissasfa.html\">Lissasfa</a></h4>\n",
       " </div>, <div class=\"lespharmaciengarde\">\n",
       " <h4><a href=\"/pharmacie-garde-casablanca/ain-chock.html\">Aïn Chock</a></h4>\n",
       " </div>, <div class=\"lespharmaciengarde\">\n",
       " <h4><a href=\"/pharmacie-garde-casablanca/sidi-moumen.html\">Sidi Moumen</a></h4>\n",
       " </div>, <div class=\"lespharmaciengarde\">\n",
       " <h4><a href=\"/pharmacie-garde-casablanca/ben-msick.html\">Ben Msick</a></h4>\n",
       " </div>, <div class=\"lespharmaciengarde\">\n",
       " <h4><a href=\"/pharmacie-garde-casablanca/sidi-bernoussi.html\">Sidi Bernoussi</a></h4>\n",
       " </div>, <div class=\"lespharmaciengarde\">\n",
       " <h4><a href=\"/pharmacie-garde-casablanca/annasi.html\">Annasi</a></h4>\n",
       " </div>, <div class=\"lespharmaciengarde\">\n",
       " <h4><a href=\"/pharmacie-garde-casablanca/sidi-maarouf.html\">Sidi Maarouf</a></h4>\n",
       " </div>, <div class=\"lespharmaciengarde\">\n",
       " <h4><a href=\"/pharmacie-garde-casablanca/maarif.html\">Maarif</a></h4>\n",
       " </div>, <div class=\"lespharmaciengarde\">\n",
       " <h4><a href=\"/pharmacie-garde-casablanca/belvedere.html\">Belvédère</a></h4>\n",
       " </div>, <div class=\"lespharmaciengarde\">\n",
       " <h4><a href=\"/pharmacie-garde-casablanca/al-azhar-panorama.html\">Al Azhar Panorama</a></h4>\n",
       " </div>, <div class=\"lespharmaciengarde\">\n",
       " <h4><a href=\"/pharmacie-garde-casablanca/hay-moulay-rachid.html\">Hay Moulay Rachid</a></h4>\n",
       " </div>, <div class=\"lespharmaciengarde\">\n",
       " <h4><a href=\"/pharmacie-garde-casablanca/sidi-othmane.html\">Sidi Othmane</a></h4>\n",
       " </div>, <div class=\"lespharmaciengarde\">\n",
       " <h4><a href=\"/pharmacie-garde-casablanca/bourgogne.html\">Bourgogne</a></h4>\n",
       " </div>, <div class=\"lespharmaciengarde\">\n",
       " <h4><a href=\"/pharmacie-garde-casablanca/hay-mohammadi.html\">Hay Mohammadi</a></h4>\n",
       " </div>, <div class=\"lespharmaciengarde\">\n",
       " <h4><a href=\"/pharmacie-garde-casablanca/ain-sebaa.html\">Aïn Sebaâ</a></h4>\n",
       " </div>, <div class=\"lespharmaciengarde\">\n",
       " <h4><a href=\"/pharmacie-garde-casablanca/al-fida.html\">Al Fida</a></h4>\n",
       " </div>, <div class=\"lespharmaciengarde\">\n",
       " <h4><a href=\"/pharmacie-garde-casablanca/oulfa.html\">Oulfa</a></h4>\n",
       " </div>]"
      ]
     },
     "execution_count": 4,
     "metadata": {},
     "output_type": "execute_result"
    }
   ],
   "source": [
    "quartiers"
   ]
  },
  {
   "cell_type": "markdown",
   "metadata": {},
   "source": [
    "**Liste des liens des quartiers **"
   ]
  },
  {
   "cell_type": "code",
   "execution_count": 5,
   "metadata": {},
   "outputs": [],
   "source": [
    "liens = []\n",
    "for i in quartiers:\n",
    "    liens.append(\"https://lematin.ma\"+str(i.find('a')['href']))"
   ]
  },
  {
   "cell_type": "code",
   "execution_count": 6,
   "metadata": {
    "scrolled": true
   },
   "outputs": [
    {
     "name": "stdout",
     "output_type": "stream",
     "text": [
      "https://lematin.ma/pharmacie-garde-casablanca/lissasfa.html\n",
      "https://lematin.ma/pharmacie-garde-casablanca/ain-chock.html\n",
      "https://lematin.ma/pharmacie-garde-casablanca/sidi-moumen.html\n",
      "https://lematin.ma/pharmacie-garde-casablanca/ben-msick.html\n",
      "https://lematin.ma/pharmacie-garde-casablanca/sidi-bernoussi.html\n",
      "https://lematin.ma/pharmacie-garde-casablanca/annasi.html\n",
      "https://lematin.ma/pharmacie-garde-casablanca/sidi-maarouf.html\n",
      "https://lematin.ma/pharmacie-garde-casablanca/maarif.html\n",
      "https://lematin.ma/pharmacie-garde-casablanca/belvedere.html\n",
      "https://lematin.ma/pharmacie-garde-casablanca/al-azhar-panorama.html\n",
      "https://lematin.ma/pharmacie-garde-casablanca/hay-moulay-rachid.html\n",
      "https://lematin.ma/pharmacie-garde-casablanca/sidi-othmane.html\n",
      "https://lematin.ma/pharmacie-garde-casablanca/bourgogne.html\n",
      "https://lematin.ma/pharmacie-garde-casablanca/hay-mohammadi.html\n",
      "https://lematin.ma/pharmacie-garde-casablanca/ain-sebaa.html\n",
      "https://lematin.ma/pharmacie-garde-casablanca/al-fida.html\n",
      "https://lematin.ma/pharmacie-garde-casablanca/oulfa.html\n"
     ]
    }
   ],
   "source": [
    "for i in liens:\n",
    "    print(i)"
   ]
  },
  {
   "cell_type": "markdown",
   "metadata": {},
   "source": [
    "** Liste des quartiers **"
   ]
  },
  {
   "cell_type": "code",
   "execution_count": 7,
   "metadata": {},
   "outputs": [
    {
     "name": "stdout",
     "output_type": "stream",
     "text": [
      "Lissasfa\n",
      "Aïn Chock\n",
      "Sidi Moumen\n",
      "Ben Msick\n",
      "Sidi Bernoussi\n",
      "Annasi\n",
      "Sidi Maarouf\n",
      "Maarif\n",
      "Belvédère\n",
      "Al Azhar Panorama\n",
      "Hay Moulay Rachid\n",
      "Sidi Othmane\n",
      "Bourgogne\n",
      "Hay Mohammadi\n",
      "Aïn Sebaâ\n",
      "Al Fida\n",
      "Oulfa\n"
     ]
    }
   ],
   "source": [
    "liste_quartiers = []\n",
    "for i in quartiers:\n",
    "    liste_quartiers.append(i.find('h4').text)\n",
    "    print(i.find('h4').text)"
   ]
  },
  {
   "cell_type": "code",
   "execution_count": 8,
   "metadata": {},
   "outputs": [
    {
     "data": {
      "text/plain": [
       "['Lissasfa',\n",
       " 'Aïn Chock',\n",
       " 'Sidi Moumen',\n",
       " 'Ben Msick',\n",
       " 'Sidi Bernoussi',\n",
       " 'Annasi',\n",
       " 'Sidi Maarouf',\n",
       " 'Maarif',\n",
       " 'Belvédère',\n",
       " 'Al Azhar Panorama',\n",
       " 'Hay Moulay Rachid',\n",
       " 'Sidi Othmane',\n",
       " 'Bourgogne',\n",
       " 'Hay Mohammadi',\n",
       " 'Aïn Sebaâ',\n",
       " 'Al Fida',\n",
       " 'Oulfa']"
      ]
     },
     "execution_count": 8,
     "metadata": {},
     "output_type": "execute_result"
    }
   ],
   "source": [
    "liste_quartiers"
   ]
  },
  {
   "cell_type": "markdown",
   "metadata": {},
   "source": [
    "Scrap page par page"
   ]
  },
  {
   "cell_type": "code",
   "execution_count": 9,
   "metadata": {},
   "outputs": [],
   "source": [
    "from time import time\n",
    "from time import sleep\n",
    "from random import randint\n",
    "\n",
    "start_time = time()\n",
    "requests = 0\n",
    "\n",
    "from requests import get"
   ]
  },
  {
   "cell_type": "code",
   "execution_count": 10,
   "metadata": {},
   "outputs": [
    {
     "name": "stdout",
     "output_type": "stream",
     "text": [
      "https://lematin.ma/pharmacie-garde-casablanca/lissasfa.html\n",
      "15\n",
      "https://lematin.ma/pharmacie-garde-casablanca/ain-chock.html\n",
      "8\n",
      "https://lematin.ma/pharmacie-garde-casablanca/sidi-moumen.html\n",
      "15\n",
      "https://lematin.ma/pharmacie-garde-casablanca/ben-msick.html\n",
      "14\n",
      "https://lematin.ma/pharmacie-garde-casablanca/sidi-bernoussi.html\n",
      "9\n",
      "https://lematin.ma/pharmacie-garde-casablanca/annasi.html\n",
      "8\n",
      "https://lematin.ma/pharmacie-garde-casablanca/sidi-maarouf.html\n",
      "9\n",
      "https://lematin.ma/pharmacie-garde-casablanca/maarif.html\n",
      "14\n",
      "https://lematin.ma/pharmacie-garde-casablanca/belvedere.html\n",
      "8\n",
      "https://lematin.ma/pharmacie-garde-casablanca/al-azhar-panorama.html\n",
      "9\n",
      "https://lematin.ma/pharmacie-garde-casablanca/hay-moulay-rachid.html\n",
      "8\n",
      "https://lematin.ma/pharmacie-garde-casablanca/sidi-othmane.html\n",
      "10\n",
      "https://lematin.ma/pharmacie-garde-casablanca/bourgogne.html\n",
      "12\n",
      "https://lematin.ma/pharmacie-garde-casablanca/hay-mohammadi.html\n",
      "14\n",
      "https://lematin.ma/pharmacie-garde-casablanca/ain-sebaa.html\n",
      "11\n",
      "https://lematin.ma/pharmacie-garde-casablanca/al-fida.html\n",
      "12\n",
      "https://lematin.ma/pharmacie-garde-casablanca/oulfa.html\n",
      "9\n",
      "*** *** Done *** ***\n"
     ]
    }
   ],
   "source": [
    "noms =[]\n",
    "adresses = []\n",
    "quartiers = []\n",
    "\n",
    "for i,j in zip(liens,liste_quartiers):\n",
    "    print(i)\n",
    "    response = get(i)\n",
    "    \n",
    "    timer = randint(8,15)\n",
    "    #pause de loop\n",
    "    print(timer)\n",
    "    sleep(timer)\n",
    "    \n",
    "    #renvoyer un warning pour les non 'status code : 200'\n",
    "    if response.status_code != 200:\n",
    "        warn('Request: {}; Status code: {}'.format(requests, response.status_code))\n",
    "            \n",
    "    #parser en BS\n",
    "    page_html = BeautifulSoup(response.text,'html.parser')\n",
    "    \n",
    "    pharmacies = page_html.find_all('div',class_='pharmacie')\n",
    "    \n",
    "    \"\"\" Noms et adresse \"\"\"\n",
    "    for k in pharmacies:\n",
    "        noms.append(k.find('h5').text) \n",
    "        adresses.append(k.find('p').text)\n",
    "        quartiers.append(j)\n",
    "        \n",
    "    \n",
    "    \n",
    "    \n",
    "\n",
    "print('*** *** Done *** ***')\n",
    "    "
   ]
  },
  {
   "cell_type": "code",
   "execution_count": 18,
   "metadata": {
    "scrolled": true
   },
   "outputs": [
    {
     "data": {
      "text/plain": [
       "['Pharmacie AL AZHAR SALAM',\n",
       " 'Pharmacie ZORAIAI',\n",
       " 'Pharmacie ABDELALI',\n",
       " 'Pharmacie MAJORELLE',\n",
       " 'Pharmacie MECQUA',\n",
       " 'Pharmacie ANDALOUS',\n",
       " 'Pharmacie LOTISSEMENT SALIMA',\n",
       " 'Pharmacie SIHAM',\n",
       " 'Pharmacie MIFTAH AL KHAYR',\n",
       " 'Pharmacie RAHMANI',\n",
       " 'Pharmacie EL JOULANE',\n",
       " 'Pharmacie OCEANIA',\n",
       " 'Pharmacie MENDOUR',\n",
       " 'Pharmacie DOUAA',\n",
       " 'Pharmacie VALENCIA',\n",
       " 'Pharmacie ATTENMIA',\n",
       " 'Pharmacie MEFTAHA',\n",
       " 'Pharmacie DE PARIS',\n",
       " 'Pharmacie DU MIDI',\n",
       " 'Pharmacie CITE PLATEAU',\n",
       " 'Pharmacie KOUNOUZ AL KHAIR',\n",
       " 'Pharmacie DU CEDRE',\n",
       " 'Pharmacie IBNOU KATIR',\n",
       " 'Pharmacie AL INAYA',\n",
       " 'Pharmacie AL AMANA',\n",
       " 'Pharmacie DU GRAND MAGHREB',\n",
       " 'Pharmacie LILAS MADINA AL JADIDA',\n",
       " 'Pharmacie JAWAD',\n",
       " 'Pharmacie DAWLIZ',\n",
       " 'Pharmacie EL FETOUAKI',\n",
       " 'Pharmacie IBN SINA',\n",
       " 'Pharmacie HAY HAKAM',\n",
       " 'Pharmacie AIN SEBAA',\n",
       " 'Pharmacie VIDAL',\n",
       " 'Pharmacie AICHA',\n",
       " 'Pharmacie GHAZALI',\n",
       " 'Pharmacie DU MECHOUAR',\n",
       " 'Pharmacie EL JAOUI',\n",
       " 'Pharmacie EL MANAL',\n",
       " 'Pharmacie GHAFIRI']"
      ]
     },
     "execution_count": 18,
     "metadata": {},
     "output_type": "execute_result"
    }
   ],
   "source": [
    "noms"
   ]
  },
  {
   "cell_type": "code",
   "execution_count": 19,
   "metadata": {},
   "outputs": [
    {
     "data": {
      "text/plain": [
       "40"
      ]
     },
     "execution_count": 19,
     "metadata": {},
     "output_type": "execute_result"
    }
   ],
   "source": [
    "len(noms)"
   ]
  },
  {
   "cell_type": "code",
   "execution_count": 13,
   "metadata": {},
   "outputs": [
    {
     "data": {
      "text/plain": [
       "['GH54 COMPLEXE RESIDENTIEL AL AZHAR SALAM, N°4 HAY HASSANI - Tél : 0522 91.17.18 [+]\\n',\n",
       " 'LISSASFA II BLOC D N° 250 B - Tél : 0522.65.10.74 Voir la position \\n',\n",
       " '(EX. CHAARANI) 42, BD TAZA - HAY MOULAY ABDELLAH - INARA 2 - AIN CHOCK- Tél : 0522.21.88.84 [+]\\n',\n",
       " 'COOPERATIVE SOFACA, VOIE AC8 N° 14 - OULED TALEB - OULED HADDOU - Tél : 0522.50.81.42 [+]\\n',\n",
       " '119, ANGLE BD. PANORAMIQUE ET AVENUE MECQUA - Tél : 0522.52.59.48 [+]\\n',\n",
       " '394, ANGLE BD. PANORAMIQUE & AVENUE DU 2 MARS - Tél : 0522.52.80.31 [+]\\n',\n",
       " '64, RUE 6 - LOTISSEMENT SALIMA - HAY INARA (PRES DE LA R.T.M.) - Tél : 0522.21.02.84 [+]\\n',\n",
       " 'ANGLE RUE 31 ET 34 N° 64 - LOTISSEMENT OMARYA - AL INARA - Tél : 0522.52.63.03 [+]\\n',\n",
       " 'N° 3 RUE 5 MOSQUEE ATTAOUABINE - SIDI MOUMEN - Tél : 0522.70.60.84 [+]\\n',\n",
       " 'LOTISSEMENT RAHMANI RUE 14 N° 76 - SIDI MOUMEN - Tél : 0522.72.89.88 Voir la position \\n',\n",
       " 'ANGLE BOULEVARD OUED EDDAHAB & BD. EL JOULANE N° 720 - JAMILA 6 - CITE DJEMAA- Tél : 0522.29.17.00 [+]\\n',\n",
       " '146 - 148, AVENUE DU NIL - CITE DJEMAA - Tél : 0522.37.23.75 Voir la position \\n',\n",
       " '33, AVENUE \"C\" LOT. AL HAMIDIA - SIDI BERNOUSSI - Tél : 0522.73.40.40 [+]\\n',\n",
       " '1, RUE 4 SIDI BERNOUSSI II A COTE SOUK ALLAK - Tél : 0522.76.74.53 [+]\\n',\n",
       " 'LOT SALAM 01 LOT 372 \"SAL EXT\" AHL LOGHLAM - SIDI MOUMEN - Tél : 0522.74.38.79 Voir la position \\n',\n",
       " 'LOTISSEMENT SOUFIANE, IMM. B 2 N° 1 - SIDI MAAROUF - Tél : 0522.58.47.77 Voir la position \\n',\n",
       " 'LOTISSEMENT EL KHAIR LOT. N° 455 - SIDI MAAROUF - Tél : 0522.97.45.73 [+]\\n',\n",
       " \"60, RUE ALLAL BEN ABDELLAH (EX. RUE DE L'HORLOGE) - (ECOLE PIGIER - CINEMA RIF - FACE CAFE MILANO - BERKLEY)- Tél : 0522.27.42.10 Voir la position \\n\",\n",
       " '10, RUE EL JADIDA, ANCIENNE MEDINA - Tél : 0522.22.06.66 Voir la position \\n',\n",
       " '24 BIS, AVENUE STANDHAL - CITE PLATEAU (FACE PATISSERIE AL MAQUAM) - Tél : 0522.25.05.71 Voir la position \\n',\n",
       " \"RUE L'ARDECHE N° 5 - POLO (PRES MOSQUEE CHEFCHAOUNI - DERRIERE LYCEE MY. ABDELLAH)- Tél : 0522.82.97.74 [+]\\n\",\n",
       " 'BD MOHAMED ABDOU QUARTIER PALMIER ROND POINT PALMIER - Tél : 0522.25.14.67 Voir la position \\n',\n",
       " '26, RUE IMPASSE IBNOU KATIR (DERRIERE SOCRATE) - MAARIF - Tél : 0522.23.41.83 [+]\\n',\n",
       " 'BOULEVARD MOULAY ISMAIL - CITE DES CHEMINOTS - N° 80-81-82- Tél : 0522.24.17.73 [+]\\n',\n",
       " '419 LOT AL AMANA Tr 01 AHL LOGHLAM - SIDI MOUMEN - Tél : 0522.75.81.45 [+]\\n',\n",
       " 'HAY MOULAY RACHID - GROUPE 2 - RUE 11 N° 110 (FACE DISPENSAIRE MY. RACHID)- Tél : 0522.70.95.60 [+]\\n',\n",
       " '262, BD 20 AOUT MEDINA AL JADIDA (PRES DE ANNEXE DISTRICT MY RACHID) - Tél : 0522.70.96.35 [+]\\n',\n",
       " 'HAY MOULAY RACHID II RUE 5 N° 60 BOURNAZEL (PERCEPTION SIDI OTHMANE)- Tél : 0522.70.55.02 Voir la position \\n',\n",
       " '3, BD TAN - TAN - QUARTIER EL HANK (TERMINUS 38) EL HANK- Tél : 0522.36.25.74 Voir la position \\n',\n",
       " 'N° 1 BIS, RUE 2, LOTISSEMENT TAFRAOUT HAY MOHAMMADI\\t- Tél : 0522.66.58.50 [+]\\n',\n",
       " '319, BD. CHOUHADA - HAY MOHAMMADI (PRES CINEMA ESSAADA) - Tél : 0522.62.07.31 [+]\\n',\n",
       " 'QUARTIER HAKAM I, RUE 21 N° 40 - HAY MOHAMMADI - Tél : 0522.62.46.46 [+]\\n',\n",
       " '15/17, PLACE TIZI OUZLI - (PLACE DU MARCHE) - AIN SEBAA - Tél : 0522.35.03.62 Voir la position \\n',\n",
       " '404, BD. DE LA GRANDE CEINTURE - AIN SEBAA (FACE TERRAIN EL ARBI ZAOULI)- Tél : 0522.34.32.18 [+]\\n',\n",
       " '167, BOULEVARD MODIBO KEITA - Tél : 0522.28.17.96 [+]\\n',\n",
       " 'PROJET OMAR BNOU AL KHATTAB (EX. DERB MILAN) - 2ème TRANCHE N° 148 - Tél : 0522.80.65.97 [+]\\n',\n",
       " '93, RUE LIBOURNE - CROISEMENT BD. MOHAMED VI & BD. LA RESISTANCE - Tél : 0522.30.49.90 [+]\\n',\n",
       " 'RUE 22 N° 36 - HAY EL HANA - Tél : 0522.39.91.24 Voir la position \\n',\n",
       " '320, BOULEVARD OUED OUM ERRABII - EL OULFA (MOSQUEE BEN RAYEN - EX. KSABRI)\\t- Tél : 0522.93.28.29 Voir la position \\n',\n",
       " '22, ANGLE RUE ABOURROUSS & BD. TERRAINS DE SPORT(FERME BRETONNE- FACE DU COC) - Tél : 0522.25.06.45 [+]\\n']"
      ]
     },
     "execution_count": 13,
     "metadata": {},
     "output_type": "execute_result"
    }
   ],
   "source": [
    "adresses"
   ]
  },
  {
   "cell_type": "code",
   "execution_count": 14,
   "metadata": {},
   "outputs": [
    {
     "data": {
      "text/plain": [
       "40"
      ]
     },
     "execution_count": 14,
     "metadata": {},
     "output_type": "execute_result"
    }
   ],
   "source": [
    "len(adresses)"
   ]
  },
  {
   "cell_type": "code",
   "execution_count": 15,
   "metadata": {
    "scrolled": true
   },
   "outputs": [
    {
     "data": {
      "text/plain": [
       "['Lissasfa',\n",
       " 'Lissasfa',\n",
       " 'Aïn Chock',\n",
       " 'Aïn Chock',\n",
       " 'Aïn Chock',\n",
       " 'Aïn Chock',\n",
       " 'Aïn Chock',\n",
       " 'Aïn Chock',\n",
       " 'Sidi Moumen',\n",
       " 'Sidi Moumen',\n",
       " 'Ben Msick',\n",
       " 'Ben Msick',\n",
       " 'Sidi Bernoussi',\n",
       " 'Sidi Bernoussi',\n",
       " 'Annasi',\n",
       " 'Sidi Maarouf',\n",
       " 'Sidi Maarouf',\n",
       " 'Maarif',\n",
       " 'Maarif',\n",
       " 'Maarif',\n",
       " 'Maarif',\n",
       " 'Maarif',\n",
       " 'Maarif',\n",
       " 'Belvédère',\n",
       " 'Al Azhar Panorama',\n",
       " 'Hay Moulay Rachid',\n",
       " 'Hay Moulay Rachid',\n",
       " 'Sidi Othmane',\n",
       " 'Bourgogne',\n",
       " 'Hay Mohammadi',\n",
       " 'Hay Mohammadi',\n",
       " 'Hay Mohammadi',\n",
       " 'Aïn Sebaâ',\n",
       " 'Aïn Sebaâ',\n",
       " 'Al Fida',\n",
       " 'Al Fida',\n",
       " 'Al Fida',\n",
       " 'Oulfa',\n",
       " 'Oulfa',\n",
       " 'Oulfa']"
      ]
     },
     "execution_count": 15,
     "metadata": {},
     "output_type": "execute_result"
    }
   ],
   "source": [
    "quartiers"
   ]
  },
  {
   "cell_type": "code",
   "execution_count": 20,
   "metadata": {},
   "outputs": [
    {
     "data": {
      "text/plain": [
       "40"
      ]
     },
     "execution_count": 20,
     "metadata": {},
     "output_type": "execute_result"
    }
   ],
   "source": [
    "len(quartiers)"
   ]
  },
  {
   "cell_type": "code",
   "execution_count": 21,
   "metadata": {},
   "outputs": [],
   "source": [
    "garde = []\n",
    "for i,j,k in zip(noms,adresses,quartiers):\n",
    "    t = (i,j,k)\n",
    "    garde.append(t)"
   ]
  },
  {
   "cell_type": "code",
   "execution_count": 22,
   "metadata": {},
   "outputs": [
    {
     "name": "stdout",
     "output_type": "stream",
     "text": [
      "[('Pharmacie AL AZHAR SALAM', 'GH54 COMPLEXE RESIDENTIEL AL AZHAR SALAM, N°4 HAY HASSANI - Tél : 0522 91.17.18 [+]\\n', 'Lissasfa'), ('Pharmacie ZORAIAI', 'LISSASFA II BLOC D N° 250 B - Tél : 0522.65.10.74 Voir la position \\n', 'Lissasfa'), ('Pharmacie ABDELALI', '(EX. CHAARANI) 42, BD TAZA - HAY MOULAY ABDELLAH - INARA 2 - AIN CHOCK- Tél : 0522.21.88.84 [+]\\n', 'Aïn Chock'), ('Pharmacie MAJORELLE', 'COOPERATIVE SOFACA, VOIE AC8 N° 14 - OULED TALEB - OULED HADDOU - Tél : 0522.50.81.42 [+]\\n', 'Aïn Chock'), ('Pharmacie MECQUA', '119, ANGLE BD. PANORAMIQUE ET AVENUE MECQUA - Tél : 0522.52.59.48 [+]\\n', 'Aïn Chock'), ('Pharmacie ANDALOUS', '394, ANGLE BD. PANORAMIQUE & AVENUE DU 2 MARS - Tél : 0522.52.80.31 [+]\\n', 'Aïn Chock'), ('Pharmacie LOTISSEMENT SALIMA', '64, RUE 6 - LOTISSEMENT SALIMA - HAY INARA (PRES DE LA R.T.M.) - Tél : 0522.21.02.84 [+]\\n', 'Aïn Chock'), ('Pharmacie SIHAM', 'ANGLE RUE 31 ET 34 N° 64 - LOTISSEMENT OMARYA - AL INARA - Tél : 0522.52.63.03 [+]\\n', 'Aïn Chock'), ('Pharmacie MIFTAH AL KHAYR', 'N° 3 RUE 5 MOSQUEE ATTAOUABINE - SIDI MOUMEN - Tél : 0522.70.60.84 [+]\\n', 'Sidi Moumen'), ('Pharmacie RAHMANI', 'LOTISSEMENT RAHMANI RUE 14 N° 76 - SIDI MOUMEN - Tél : 0522.72.89.88 Voir la position \\n', 'Sidi Moumen'), ('Pharmacie EL JOULANE', 'ANGLE BOULEVARD OUED EDDAHAB & BD. EL JOULANE N° 720 - JAMILA 6 - CITE DJEMAA- Tél : 0522.29.17.00 [+]\\n', 'Ben Msick'), ('Pharmacie OCEANIA', '146 - 148, AVENUE DU NIL - CITE DJEMAA - Tél : 0522.37.23.75 Voir la position \\n', 'Ben Msick'), ('Pharmacie MENDOUR', '33, AVENUE \"C\" LOT. AL HAMIDIA - SIDI BERNOUSSI - Tél : 0522.73.40.40 [+]\\n', 'Sidi Bernoussi'), ('Pharmacie DOUAA', '1, RUE 4 SIDI BERNOUSSI II A COTE SOUK ALLAK - Tél : 0522.76.74.53 [+]\\n', 'Sidi Bernoussi'), ('Pharmacie VALENCIA', 'LOT SALAM 01 LOT 372 \"SAL EXT\" AHL LOGHLAM - SIDI MOUMEN - Tél : 0522.74.38.79 Voir la position \\n', 'Annasi'), ('Pharmacie ATTENMIA', 'LOTISSEMENT SOUFIANE, IMM. B 2 N° 1 - SIDI MAAROUF - Tél : 0522.58.47.77 Voir la position \\n', 'Sidi Maarouf'), ('Pharmacie MEFTAHA', 'LOTISSEMENT EL KHAIR LOT. N° 455 - SIDI MAAROUF - Tél : 0522.97.45.73 [+]\\n', 'Sidi Maarouf'), ('Pharmacie DE PARIS', \"60, RUE ALLAL BEN ABDELLAH (EX. RUE DE L'HORLOGE) - (ECOLE PIGIER - CINEMA RIF - FACE CAFE MILANO - BERKLEY)- Tél : 0522.27.42.10 Voir la position \\n\", 'Maarif'), ('Pharmacie DU MIDI', '10, RUE EL JADIDA, ANCIENNE MEDINA - Tél : 0522.22.06.66 Voir la position \\n', 'Maarif'), ('Pharmacie CITE PLATEAU', '24 BIS, AVENUE STANDHAL - CITE PLATEAU (FACE PATISSERIE AL MAQUAM) - Tél : 0522.25.05.71 Voir la position \\n', 'Maarif'), ('Pharmacie KOUNOUZ AL KHAIR', \"RUE L'ARDECHE N° 5 - POLO (PRES MOSQUEE CHEFCHAOUNI - DERRIERE LYCEE MY. ABDELLAH)- Tél : 0522.82.97.74 [+]\\n\", 'Maarif'), ('Pharmacie DU CEDRE', 'BD MOHAMED ABDOU QUARTIER PALMIER ROND POINT PALMIER - Tél : 0522.25.14.67 Voir la position \\n', 'Maarif'), ('Pharmacie IBNOU KATIR', '26, RUE IMPASSE IBNOU KATIR (DERRIERE SOCRATE) - MAARIF - Tél : 0522.23.41.83 [+]\\n', 'Maarif'), ('Pharmacie AL INAYA', 'BOULEVARD MOULAY ISMAIL - CITE DES CHEMINOTS - N° 80-81-82- Tél : 0522.24.17.73 [+]\\n', 'Belvédère'), ('Pharmacie AL AMANA', '419 LOT AL AMANA Tr 01 AHL LOGHLAM - SIDI MOUMEN - Tél : 0522.75.81.45 [+]\\n', 'Al Azhar Panorama'), ('Pharmacie DU GRAND MAGHREB', 'HAY MOULAY RACHID - GROUPE 2 - RUE 11 N° 110 (FACE DISPENSAIRE MY. RACHID)- Tél : 0522.70.95.60 [+]\\n', 'Hay Moulay Rachid'), ('Pharmacie LILAS MADINA AL JADIDA', '262, BD 20 AOUT MEDINA AL JADIDA (PRES DE ANNEXE DISTRICT MY RACHID) - Tél : 0522.70.96.35 [+]\\n', 'Hay Moulay Rachid'), ('Pharmacie JAWAD', 'HAY MOULAY RACHID II RUE 5 N° 60 BOURNAZEL (PERCEPTION SIDI OTHMANE)- Tél : 0522.70.55.02 Voir la position \\n', 'Sidi Othmane'), ('Pharmacie DAWLIZ', '3, BD TAN - TAN - QUARTIER EL HANK (TERMINUS 38) EL HANK- Tél : 0522.36.25.74 Voir la position \\n', 'Bourgogne'), ('Pharmacie EL FETOUAKI', 'N° 1 BIS, RUE 2, LOTISSEMENT TAFRAOUT HAY MOHAMMADI\\t- Tél : 0522.66.58.50 [+]\\n', 'Hay Mohammadi'), ('Pharmacie IBN SINA', '319, BD. CHOUHADA - HAY MOHAMMADI (PRES CINEMA ESSAADA) - Tél : 0522.62.07.31 [+]\\n', 'Hay Mohammadi'), ('Pharmacie HAY HAKAM', 'QUARTIER HAKAM I, RUE 21 N° 40 - HAY MOHAMMADI - Tél : 0522.62.46.46 [+]\\n', 'Hay Mohammadi'), ('Pharmacie AIN SEBAA', '15/17, PLACE TIZI OUZLI - (PLACE DU MARCHE) - AIN SEBAA - Tél : 0522.35.03.62 Voir la position \\n', 'Aïn Sebaâ'), ('Pharmacie VIDAL', '404, BD. DE LA GRANDE CEINTURE - AIN SEBAA (FACE TERRAIN EL ARBI ZAOULI)- Tél : 0522.34.32.18 [+]\\n', 'Aïn Sebaâ'), ('Pharmacie AICHA', '167, BOULEVARD MODIBO KEITA - Tél : 0522.28.17.96 [+]\\n', 'Al Fida'), ('Pharmacie GHAZALI', 'PROJET OMAR BNOU AL KHATTAB (EX. DERB MILAN) - 2ème TRANCHE N° 148 - Tél : 0522.80.65.97 [+]\\n', 'Al Fida'), ('Pharmacie DU MECHOUAR', '93, RUE LIBOURNE - CROISEMENT BD. MOHAMED VI & BD. LA RESISTANCE - Tél : 0522.30.49.90 [+]\\n', 'Al Fida'), ('Pharmacie EL JAOUI', 'RUE 22 N° 36 - HAY EL HANA - Tél : 0522.39.91.24 Voir la position \\n', 'Oulfa'), ('Pharmacie EL MANAL', '320, BOULEVARD OUED OUM ERRABII - EL OULFA (MOSQUEE BEN RAYEN - EX. KSABRI)\\t- Tél : 0522.93.28.29 Voir la position \\n', 'Oulfa'), ('Pharmacie GHAFIRI', '22, ANGLE RUE ABOURROUSS & BD. TERRAINS DE SPORT(FERME BRETONNE- FACE DU COC) - Tél : 0522.25.06.45 [+]\\n', 'Oulfa')]\n"
     ]
    }
   ],
   "source": [
    "print(garde)"
   ]
  },
  {
   "cell_type": "code",
   "execution_count": null,
   "metadata": {},
   "outputs": [],
   "source": []
  }
 ],
 "metadata": {
  "kernelspec": {
   "display_name": "Python 3",
   "language": "python",
   "name": "python3"
  },
  "language_info": {
   "codemirror_mode": {
    "name": "ipython",
    "version": 3
   },
   "file_extension": ".py",
   "mimetype": "text/x-python",
   "name": "python",
   "nbconvert_exporter": "python",
   "pygments_lexer": "ipython3",
   "version": "3.6.1"
  }
 },
 "nbformat": 4,
 "nbformat_minor": 2
}
