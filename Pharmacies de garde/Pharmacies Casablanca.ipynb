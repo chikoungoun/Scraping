{
 "cells": [
  {
   "cell_type": "markdown",
   "metadata": {},
   "source": [
    "Fonction extraction téléphone"
   ]
  },
  {
   "cell_type": "code",
   "execution_count": 1,
   "metadata": {},
   "outputs": [],
   "source": [
    "def telephone_pharmacie(adress):\n",
    "    #renverser la chaine de caractères\n",
    "    adress[::-1]\n",
    "    \n",
    "    #extraire le téléphone inversé\n",
    "    ntel = ''\n",
    "    for i in adress[::-1]:\n",
    "        if i == ':':\n",
    "            break\n",
    "        elif i.isnumeric():#uniquement ajouter les nombres\n",
    "            ntel = ntel + i\n",
    "        else:\n",
    "            continue\n",
    "        \n",
    "    #remettre le num de tel à l'endroit\n",
    "    tel = ''\n",
    "    for i in ntel[::-1]:\n",
    "        tel = tel + i\n",
    "        \n",
    "    return tel.strip()"
   ]
  },
  {
   "cell_type": "markdown",
   "metadata": {},
   "source": [
    "# Scraping des pharmacies de garde sur Casablanca"
   ]
  },
  {
   "cell_type": "markdown",
   "metadata": {},
   "source": [
    "source des données : https://lematin.ma/pharmacie-garde-casablanca.html"
   ]
  },
  {
   "cell_type": "code",
   "execution_count": 2,
   "metadata": {},
   "outputs": [
    {
     "data": {
      "text/plain": [
       "<Response [200]>"
      ]
     },
     "execution_count": 2,
     "metadata": {},
     "output_type": "execute_result"
    }
   ],
   "source": [
    "import requests\n",
    "\n",
    "url = 'https://lematin.ma/pharmacie-garde-casablanca.html'\n",
    "response = requests.get(url)\n",
    "response"
   ]
  },
  {
   "cell_type": "code",
   "execution_count": 3,
   "metadata": {},
   "outputs": [
    {
     "data": {
      "text/plain": [
       "bs4.BeautifulSoup"
      ]
     },
     "execution_count": 3,
     "metadata": {},
     "output_type": "execute_result"
    }
   ],
   "source": [
    "from bs4 import BeautifulSoup\n",
    "\n",
    "soup = BeautifulSoup(response.text,'html.parser')\n",
    "type(soup)"
   ]
  },
  {
   "cell_type": "code",
   "execution_count": null,
   "metadata": {},
   "outputs": [],
   "source": []
  },
  {
   "cell_type": "code",
   "execution_count": 4,
   "metadata": {},
   "outputs": [],
   "source": [
    "quartiers = soup.find_all('div',class_='lespharmaciengarde')"
   ]
  },
  {
   "cell_type": "code",
   "execution_count": 5,
   "metadata": {},
   "outputs": [
    {
     "data": {
      "text/plain": [
       "[<div class=\"lespharmaciengarde\">\n",
       " <h4><a href=\"/pharmacie-garde-casablanca/lissasfa.html\">Lissasfa</a></h4>\n",
       " </div>, <div class=\"lespharmaciengarde\">\n",
       " <h4><a href=\"/pharmacie-garde-casablanca/ain-chock.html\">Aïn Chock</a></h4>\n",
       " </div>, <div class=\"lespharmaciengarde\">\n",
       " <h4><a href=\"/pharmacie-garde-casablanca/sidi-moumen.html\">Sidi Moumen</a></h4>\n",
       " </div>, <div class=\"lespharmaciengarde\">\n",
       " <h4><a href=\"/pharmacie-garde-casablanca/ben-msick.html\">Ben Msick</a></h4>\n",
       " </div>, <div class=\"lespharmaciengarde\">\n",
       " <h4><a href=\"/pharmacie-garde-casablanca/sidi-bernoussi.html\">Sidi Bernoussi</a></h4>\n",
       " </div>, <div class=\"lespharmaciengarde\">\n",
       " <h4><a href=\"/pharmacie-garde-casablanca/annasi.html\">Annasi</a></h4>\n",
       " </div>, <div class=\"lespharmaciengarde\">\n",
       " <h4><a href=\"/pharmacie-garde-casablanca/sidi-maarouf.html\">Sidi Maarouf</a></h4>\n",
       " </div>, <div class=\"lespharmaciengarde\">\n",
       " <h4><a href=\"/pharmacie-garde-casablanca/maarif.html\">Maarif</a></h4>\n",
       " </div>, <div class=\"lespharmaciengarde\">\n",
       " <h4><a href=\"/pharmacie-garde-casablanca/belvedere.html\">Belvédère</a></h4>\n",
       " </div>, <div class=\"lespharmaciengarde\">\n",
       " <h4><a href=\"/pharmacie-garde-casablanca/al-azhar-panorama.html\">Al Azhar Panorama</a></h4>\n",
       " </div>, <div class=\"lespharmaciengarde\">\n",
       " <h4><a href=\"/pharmacie-garde-casablanca/hay-moulay-rachid.html\">Hay Moulay Rachid</a></h4>\n",
       " </div>, <div class=\"lespharmaciengarde\">\n",
       " <h4><a href=\"/pharmacie-garde-casablanca/sidi-othmane.html\">Sidi Othmane</a></h4>\n",
       " </div>, <div class=\"lespharmaciengarde\">\n",
       " <h4><a href=\"/pharmacie-garde-casablanca/bourgogne.html\">Bourgogne</a></h4>\n",
       " </div>, <div class=\"lespharmaciengarde\">\n",
       " <h4><a href=\"/pharmacie-garde-casablanca/hay-mohammadi.html\">Hay Mohammadi</a></h4>\n",
       " </div>, <div class=\"lespharmaciengarde\">\n",
       " <h4><a href=\"/pharmacie-garde-casablanca/ain-sebaa.html\">Aïn Sebaâ</a></h4>\n",
       " </div>, <div class=\"lespharmaciengarde\">\n",
       " <h4><a href=\"/pharmacie-garde-casablanca/al-fida.html\">Al Fida</a></h4>\n",
       " </div>, <div class=\"lespharmaciengarde\">\n",
       " <h4><a href=\"/pharmacie-garde-casablanca/oulfa.html\">Oulfa</a></h4>\n",
       " </div>]"
      ]
     },
     "execution_count": 5,
     "metadata": {},
     "output_type": "execute_result"
    }
   ],
   "source": [
    "quartiers"
   ]
  },
  {
   "cell_type": "markdown",
   "metadata": {},
   "source": [
    "**Liste des liens des quartiers **"
   ]
  },
  {
   "cell_type": "code",
   "execution_count": 6,
   "metadata": {},
   "outputs": [],
   "source": [
    "liens = []\n",
    "for i in quartiers:\n",
    "    liens.append(\"https://lematin.ma\"+str(i.find('a')['href']))"
   ]
  },
  {
   "cell_type": "code",
   "execution_count": 7,
   "metadata": {
    "scrolled": true
   },
   "outputs": [
    {
     "name": "stdout",
     "output_type": "stream",
     "text": [
      "https://lematin.ma/pharmacie-garde-casablanca/lissasfa.html\n",
      "https://lematin.ma/pharmacie-garde-casablanca/ain-chock.html\n",
      "https://lematin.ma/pharmacie-garde-casablanca/sidi-moumen.html\n",
      "https://lematin.ma/pharmacie-garde-casablanca/ben-msick.html\n",
      "https://lematin.ma/pharmacie-garde-casablanca/sidi-bernoussi.html\n",
      "https://lematin.ma/pharmacie-garde-casablanca/annasi.html\n",
      "https://lematin.ma/pharmacie-garde-casablanca/sidi-maarouf.html\n",
      "https://lematin.ma/pharmacie-garde-casablanca/maarif.html\n",
      "https://lematin.ma/pharmacie-garde-casablanca/belvedere.html\n",
      "https://lematin.ma/pharmacie-garde-casablanca/al-azhar-panorama.html\n",
      "https://lematin.ma/pharmacie-garde-casablanca/hay-moulay-rachid.html\n",
      "https://lematin.ma/pharmacie-garde-casablanca/sidi-othmane.html\n",
      "https://lematin.ma/pharmacie-garde-casablanca/bourgogne.html\n",
      "https://lematin.ma/pharmacie-garde-casablanca/hay-mohammadi.html\n",
      "https://lematin.ma/pharmacie-garde-casablanca/ain-sebaa.html\n",
      "https://lematin.ma/pharmacie-garde-casablanca/al-fida.html\n",
      "https://lematin.ma/pharmacie-garde-casablanca/oulfa.html\n"
     ]
    }
   ],
   "source": [
    "for i in liens:\n",
    "    print(i)"
   ]
  },
  {
   "cell_type": "markdown",
   "metadata": {},
   "source": [
    "** Liste des quartiers **"
   ]
  },
  {
   "cell_type": "code",
   "execution_count": 8,
   "metadata": {},
   "outputs": [
    {
     "name": "stdout",
     "output_type": "stream",
     "text": [
      "Lissasfa\n",
      "Aïn Chock\n",
      "Sidi Moumen\n",
      "Ben Msick\n",
      "Sidi Bernoussi\n",
      "Annasi\n",
      "Sidi Maarouf\n",
      "Maarif\n",
      "Belvédère\n",
      "Al Azhar Panorama\n",
      "Hay Moulay Rachid\n",
      "Sidi Othmane\n",
      "Bourgogne\n",
      "Hay Mohammadi\n",
      "Aïn Sebaâ\n",
      "Al Fida\n",
      "Oulfa\n"
     ]
    }
   ],
   "source": [
    "liste_quartiers = []\n",
    "for i in quartiers:\n",
    "    liste_quartiers.append(i.find('h4').text)\n",
    "    print(i.find('h4').text)"
   ]
  },
  {
   "cell_type": "code",
   "execution_count": 9,
   "metadata": {},
   "outputs": [
    {
     "data": {
      "text/plain": [
       "['Lissasfa',\n",
       " 'Aïn Chock',\n",
       " 'Sidi Moumen',\n",
       " 'Ben Msick',\n",
       " 'Sidi Bernoussi',\n",
       " 'Annasi',\n",
       " 'Sidi Maarouf',\n",
       " 'Maarif',\n",
       " 'Belvédère',\n",
       " 'Al Azhar Panorama',\n",
       " 'Hay Moulay Rachid',\n",
       " 'Sidi Othmane',\n",
       " 'Bourgogne',\n",
       " 'Hay Mohammadi',\n",
       " 'Aïn Sebaâ',\n",
       " 'Al Fida',\n",
       " 'Oulfa']"
      ]
     },
     "execution_count": 9,
     "metadata": {},
     "output_type": "execute_result"
    }
   ],
   "source": [
    "liste_quartiers"
   ]
  },
  {
   "cell_type": "markdown",
   "metadata": {},
   "source": [
    "Scrap page par page"
   ]
  },
  {
   "cell_type": "code",
   "execution_count": 10,
   "metadata": {},
   "outputs": [],
   "source": [
    "from time import time\n",
    "from time import sleep\n",
    "from random import randint\n",
    "\n",
    "start_time = time()\n",
    "requests = 0\n",
    "\n",
    "from requests import get"
   ]
  },
  {
   "cell_type": "code",
   "execution_count": 11,
   "metadata": {},
   "outputs": [
    {
     "name": "stdout",
     "output_type": "stream",
     "text": [
      "https://lematin.ma/pharmacie-garde-casablanca/lissasfa.html\n",
      "10\n",
      "https://lematin.ma/pharmacie-garde-casablanca/ain-chock.html\n",
      "15\n",
      "https://lematin.ma/pharmacie-garde-casablanca/sidi-moumen.html\n",
      "15\n",
      "https://lematin.ma/pharmacie-garde-casablanca/ben-msick.html\n",
      "13\n",
      "https://lematin.ma/pharmacie-garde-casablanca/sidi-bernoussi.html\n",
      "12\n",
      "https://lematin.ma/pharmacie-garde-casablanca/annasi.html\n",
      "11\n",
      "https://lematin.ma/pharmacie-garde-casablanca/sidi-maarouf.html\n",
      "13\n",
      "https://lematin.ma/pharmacie-garde-casablanca/maarif.html\n",
      "12\n",
      "https://lematin.ma/pharmacie-garde-casablanca/belvedere.html\n",
      "12\n",
      "https://lematin.ma/pharmacie-garde-casablanca/al-azhar-panorama.html\n",
      "9\n",
      "https://lematin.ma/pharmacie-garde-casablanca/hay-moulay-rachid.html\n",
      "10\n",
      "https://lematin.ma/pharmacie-garde-casablanca/sidi-othmane.html\n",
      "13\n",
      "https://lematin.ma/pharmacie-garde-casablanca/bourgogne.html\n",
      "9\n",
      "https://lematin.ma/pharmacie-garde-casablanca/hay-mohammadi.html\n",
      "13\n",
      "https://lematin.ma/pharmacie-garde-casablanca/ain-sebaa.html\n",
      "8\n",
      "https://lematin.ma/pharmacie-garde-casablanca/al-fida.html\n",
      "10\n",
      "https://lematin.ma/pharmacie-garde-casablanca/oulfa.html\n",
      "12\n",
      "*** *** Done *** ***\n"
     ]
    }
   ],
   "source": [
    "noms =[]\n",
    "adresses = []\n",
    "quartiers = []\n",
    "telephones = []\n",
    "\n",
    "for i,j in zip(liens,liste_quartiers):\n",
    "    print(i)\n",
    "    response = get(i)\n",
    "    \n",
    "    timer = randint(8,15)\n",
    "    #pause de loop\n",
    "    print(timer)\n",
    "    sleep(timer)\n",
    "    \n",
    "    #renvoyer un warning pour les non 'status code : 200'\n",
    "    if response.status_code != 200:\n",
    "        warn('Request: {}; Status code: {}'.format(requests, response.status_code))\n",
    "            \n",
    "    #parser en BS\n",
    "    page_html = BeautifulSoup(response.text,'html.parser')\n",
    "    \n",
    "    pharmacies = page_html.find_all('div',class_='pharmacie')\n",
    "    \n",
    "    \"\"\" Noms et adresse \"\"\"\n",
    "    for k in pharmacies:\n",
    "        noms.append(k.find('h5').text) \n",
    "        adresses.append(k.find('p').text)\n",
    "        quartiers.append(j)\n",
    "        telephones.append(telephone_pharmacie(k.find('p').text))\n",
    "        \n",
    "    \n",
    "    \n",
    "    \n",
    "\n",
    "print('*** *** Done *** ***')\n",
    "    "
   ]
  },
  {
   "cell_type": "code",
   "execution_count": 12,
   "metadata": {
    "scrolled": true
   },
   "outputs": [
    {
     "data": {
      "text/plain": [
       "['Pharmacie AL AZHAR SALAM',\n",
       " 'Pharmacie ZORAIAI',\n",
       " 'Pharmacie ABDELALI',\n",
       " 'Pharmacie MAJORELLE',\n",
       " 'Pharmacie MECQUA']"
      ]
     },
     "execution_count": 12,
     "metadata": {},
     "output_type": "execute_result"
    }
   ],
   "source": [
    "noms[:5]"
   ]
  },
  {
   "cell_type": "code",
   "execution_count": 13,
   "metadata": {},
   "outputs": [
    {
     "data": {
      "text/plain": [
       "40"
      ]
     },
     "execution_count": 13,
     "metadata": {},
     "output_type": "execute_result"
    }
   ],
   "source": [
    "len(noms)"
   ]
  },
  {
   "cell_type": "code",
   "execution_count": 14,
   "metadata": {},
   "outputs": [
    {
     "data": {
      "text/plain": [
       "['GH54 COMPLEXE RESIDENTIEL AL AZHAR SALAM, N°4 HAY HASSANI - Tél : 0522 91.17.18 [+]\\n',\n",
       " 'LISSASFA II BLOC D N° 250 B - Tél : 0522.65.10.74 Voir la position \\n',\n",
       " '(EX. CHAARANI) 42, BD TAZA - HAY MOULAY ABDELLAH - INARA 2 - AIN CHOCK- Tél : 0522.21.88.84 [+]\\n',\n",
       " 'COOPERATIVE SOFACA, VOIE AC8 N° 14 - OULED TALEB - OULED HADDOU - Tél : 0522.50.81.42 [+]\\n',\n",
       " '119, ANGLE BD. PANORAMIQUE ET AVENUE MECQUA - Tél : 0522.52.59.48 [+]\\n']"
      ]
     },
     "execution_count": 14,
     "metadata": {},
     "output_type": "execute_result"
    }
   ],
   "source": [
    "adresses[:5]"
   ]
  },
  {
   "cell_type": "code",
   "execution_count": 15,
   "metadata": {},
   "outputs": [
    {
     "data": {
      "text/plain": [
       "40"
      ]
     },
     "execution_count": 15,
     "metadata": {},
     "output_type": "execute_result"
    }
   ],
   "source": [
    "len(adresses)"
   ]
  },
  {
   "cell_type": "code",
   "execution_count": 16,
   "metadata": {
    "scrolled": true
   },
   "outputs": [
    {
     "data": {
      "text/plain": [
       "['Lissasfa', 'Lissasfa', 'Aïn Chock', 'Aïn Chock', 'Aïn Chock']"
      ]
     },
     "execution_count": 16,
     "metadata": {},
     "output_type": "execute_result"
    }
   ],
   "source": [
    "quartiers[:5]"
   ]
  },
  {
   "cell_type": "code",
   "execution_count": 17,
   "metadata": {},
   "outputs": [
    {
     "data": {
      "text/plain": [
       "40"
      ]
     },
     "execution_count": 17,
     "metadata": {},
     "output_type": "execute_result"
    }
   ],
   "source": [
    "len(quartiers)"
   ]
  },
  {
   "cell_type": "code",
   "execution_count": 18,
   "metadata": {},
   "outputs": [
    {
     "data": {
      "text/plain": [
       "['0522911718', '0522651074', '0522218884', '0522508142', '0522525948']"
      ]
     },
     "execution_count": 18,
     "metadata": {},
     "output_type": "execute_result"
    }
   ],
   "source": [
    "telephones[:5]"
   ]
  },
  {
   "cell_type": "code",
   "execution_count": 21,
   "metadata": {},
   "outputs": [
    {
     "data": {
      "text/plain": [
       "40"
      ]
     },
     "execution_count": 21,
     "metadata": {},
     "output_type": "execute_result"
    }
   ],
   "source": [
    "len(telephones)"
   ]
  },
  {
   "cell_type": "code",
   "execution_count": 22,
   "metadata": {},
   "outputs": [],
   "source": [
    "garde = []\n",
    "for i,j,k,l in zip(noms,adresses,quartiers,telephones):\n",
    "    t = (i,j,k,l)\n",
    "    garde.append(t)"
   ]
  },
  {
   "cell_type": "code",
   "execution_count": 23,
   "metadata": {},
   "outputs": [
    {
     "name": "stdout",
     "output_type": "stream",
     "text": [
      "[('Pharmacie AL AZHAR SALAM', 'GH54 COMPLEXE RESIDENTIEL AL AZHAR SALAM, N°4 HAY HASSANI - Tél : 0522 91.17.18 [+]\\n', 'Lissasfa', '0522911718'), ('Pharmacie ZORAIAI', 'LISSASFA II BLOC D N° 250 B - Tél : 0522.65.10.74 Voir la position \\n', 'Lissasfa', '0522651074'), ('Pharmacie ABDELALI', '(EX. CHAARANI) 42, BD TAZA - HAY MOULAY ABDELLAH - INARA 2 - AIN CHOCK- Tél : 0522.21.88.84 [+]\\n', 'Aïn Chock', '0522218884'), ('Pharmacie MAJORELLE', 'COOPERATIVE SOFACA, VOIE AC8 N° 14 - OULED TALEB - OULED HADDOU - Tél : 0522.50.81.42 [+]\\n', 'Aïn Chock', '0522508142'), ('Pharmacie MECQUA', '119, ANGLE BD. PANORAMIQUE ET AVENUE MECQUA - Tél : 0522.52.59.48 [+]\\n', 'Aïn Chock', '0522525948'), ('Pharmacie ANDALOUS', '394, ANGLE BD. PANORAMIQUE & AVENUE DU 2 MARS - Tél : 0522.52.80.31 [+]\\n', 'Aïn Chock', '0522528031'), ('Pharmacie LOTISSEMENT SALIMA', '64, RUE 6 - LOTISSEMENT SALIMA - HAY INARA (PRES DE LA R.T.M.) - Tél : 0522.21.02.84 [+]\\n', 'Aïn Chock', '0522210284'), ('Pharmacie SIHAM', 'ANGLE RUE 31 ET 34 N° 64 - LOTISSEMENT OMARYA - AL INARA - Tél : 0522.52.63.03 [+]\\n', 'Aïn Chock', '0522526303'), ('Pharmacie MIFTAH AL KHAYR', 'N° 3 RUE 5 MOSQUEE ATTAOUABINE - SIDI MOUMEN - Tél : 0522.70.60.84 [+]\\n', 'Sidi Moumen', '0522706084'), ('Pharmacie RAHMANI', 'LOTISSEMENT RAHMANI RUE 14 N° 76 - SIDI MOUMEN - Tél : 0522.72.89.88 Voir la position \\n', 'Sidi Moumen', '0522728988'), ('Pharmacie EL JOULANE', 'ANGLE BOULEVARD OUED EDDAHAB & BD. EL JOULANE N° 720 - JAMILA 6 - CITE DJEMAA- Tél : 0522.29.17.00 [+]\\n', 'Ben Msick', '0522291700'), ('Pharmacie OCEANIA', '146 - 148, AVENUE DU NIL - CITE DJEMAA - Tél : 0522.37.23.75 Voir la position \\n', 'Ben Msick', '0522372375'), ('Pharmacie MENDOUR', '33, AVENUE \"C\" LOT. AL HAMIDIA - SIDI BERNOUSSI - Tél : 0522.73.40.40 [+]\\n', 'Sidi Bernoussi', '0522734040'), ('Pharmacie DOUAA', '1, RUE 4 SIDI BERNOUSSI II A COTE SOUK ALLAK - Tél : 0522.76.74.53 [+]\\n', 'Sidi Bernoussi', '0522767453'), ('Pharmacie VALENCIA', 'LOT SALAM 01 LOT 372 \"SAL EXT\" AHL LOGHLAM - SIDI MOUMEN - Tél : 0522.74.38.79 Voir la position \\n', 'Annasi', '0522743879'), ('Pharmacie ATTENMIA', 'LOTISSEMENT SOUFIANE, IMM. B 2 N° 1 - SIDI MAAROUF - Tél : 0522.58.47.77 Voir la position \\n', 'Sidi Maarouf', '0522584777'), ('Pharmacie MEFTAHA', 'LOTISSEMENT EL KHAIR LOT. N° 455 - SIDI MAAROUF - Tél : 0522.97.45.73 [+]\\n', 'Sidi Maarouf', '0522974573'), ('Pharmacie DE PARIS', \"60, RUE ALLAL BEN ABDELLAH (EX. RUE DE L'HORLOGE) - (ECOLE PIGIER - CINEMA RIF - FACE CAFE MILANO - BERKLEY)- Tél : 0522.27.42.10 Voir la position \\n\", 'Maarif', '0522274210'), ('Pharmacie DU MIDI', '10, RUE EL JADIDA, ANCIENNE MEDINA - Tél : 0522.22.06.66 Voir la position \\n', 'Maarif', '0522220666'), ('Pharmacie CITE PLATEAU', '24 BIS, AVENUE STANDHAL - CITE PLATEAU (FACE PATISSERIE AL MAQUAM) - Tél : 0522.25.05.71 Voir la position \\n', 'Maarif', '0522250571'), ('Pharmacie KOUNOUZ AL KHAIR', \"RUE L'ARDECHE N° 5 - POLO (PRES MOSQUEE CHEFCHAOUNI - DERRIERE LYCEE MY. ABDELLAH)- Tél : 0522.82.97.74 [+]\\n\", 'Maarif', '0522829774'), ('Pharmacie DU CEDRE', 'BD MOHAMED ABDOU QUARTIER PALMIER ROND POINT PALMIER - Tél : 0522.25.14.67 Voir la position \\n', 'Maarif', '0522251467'), ('Pharmacie IBNOU KATIR', '26, RUE IMPASSE IBNOU KATIR (DERRIERE SOCRATE) - MAARIF - Tél : 0522.23.41.83 [+]\\n', 'Maarif', '0522234183'), ('Pharmacie AL INAYA', 'BOULEVARD MOULAY ISMAIL - CITE DES CHEMINOTS - N° 80-81-82- Tél : 0522.24.17.73 [+]\\n', 'Belvédère', '0522241773'), ('Pharmacie AL AMANA', '419 LOT AL AMANA Tr 01 AHL LOGHLAM - SIDI MOUMEN - Tél : 0522.75.81.45 [+]\\n', 'Al Azhar Panorama', '0522758145'), ('Pharmacie DU GRAND MAGHREB', 'HAY MOULAY RACHID - GROUPE 2 - RUE 11 N° 110 (FACE DISPENSAIRE MY. RACHID)- Tél : 0522.70.95.60 [+]\\n', 'Hay Moulay Rachid', '0522709560'), ('Pharmacie LILAS MADINA AL JADIDA', '262, BD 20 AOUT MEDINA AL JADIDA (PRES DE ANNEXE DISTRICT MY RACHID) - Tél : 0522.70.96.35 [+]\\n', 'Hay Moulay Rachid', '0522709635'), ('Pharmacie JAWAD', 'HAY MOULAY RACHID II RUE 5 N° 60 BOURNAZEL (PERCEPTION SIDI OTHMANE)- Tél : 0522.70.55.02 Voir la position \\n', 'Sidi Othmane', '0522705502'), ('Pharmacie DAWLIZ', '3, BD TAN - TAN - QUARTIER EL HANK (TERMINUS 38) EL HANK- Tél : 0522.36.25.74 Voir la position \\n', 'Bourgogne', '0522362574'), ('Pharmacie EL FETOUAKI', 'N° 1 BIS, RUE 2, LOTISSEMENT TAFRAOUT HAY MOHAMMADI\\t- Tél : 0522.66.58.50 [+]\\n', 'Hay Mohammadi', '0522665850'), ('Pharmacie IBN SINA', '319, BD. CHOUHADA - HAY MOHAMMADI (PRES CINEMA ESSAADA) - Tél : 0522.62.07.31 [+]\\n', 'Hay Mohammadi', '0522620731'), ('Pharmacie HAY HAKAM', 'QUARTIER HAKAM I, RUE 21 N° 40 - HAY MOHAMMADI - Tél : 0522.62.46.46 [+]\\n', 'Hay Mohammadi', '0522624646'), ('Pharmacie AIN SEBAA', '15/17, PLACE TIZI OUZLI - (PLACE DU MARCHE) - AIN SEBAA - Tél : 0522.35.03.62 Voir la position \\n', 'Aïn Sebaâ', '0522350362'), ('Pharmacie VIDAL', '404, BD. DE LA GRANDE CEINTURE - AIN SEBAA (FACE TERRAIN EL ARBI ZAOULI)- Tél : 0522.34.32.18 [+]\\n', 'Aïn Sebaâ', '0522343218'), ('Pharmacie AICHA', '167, BOULEVARD MODIBO KEITA - Tél : 0522.28.17.96 [+]\\n', 'Al Fida', '0522281796'), ('Pharmacie GHAZALI', 'PROJET OMAR BNOU AL KHATTAB (EX. DERB MILAN) - 2ème TRANCHE N° 148 - Tél : 0522.80.65.97 [+]\\n', 'Al Fida', '0522806597'), ('Pharmacie DU MECHOUAR', '93, RUE LIBOURNE - CROISEMENT BD. MOHAMED VI & BD. LA RESISTANCE - Tél : 0522.30.49.90 [+]\\n', 'Al Fida', '0522304990'), ('Pharmacie EL JAOUI', 'RUE 22 N° 36 - HAY EL HANA - Tél : 0522.39.91.24 Voir la position \\n', 'Oulfa', '0522399124'), ('Pharmacie EL MANAL', '320, BOULEVARD OUED OUM ERRABII - EL OULFA (MOSQUEE BEN RAYEN - EX. KSABRI)\\t- Tél : 0522.93.28.29 Voir la position \\n', 'Oulfa', '0522932829'), ('Pharmacie GHAFIRI', '22, ANGLE RUE ABOURROUSS & BD. TERRAINS DE SPORT(FERME BRETONNE- FACE DU COC) - Tél : 0522.25.06.45 [+]\\n', 'Oulfa', '0522250645')]\n"
     ]
    }
   ],
   "source": [
    "print(garde)"
   ]
  },
  {
   "cell_type": "markdown",
   "metadata": {},
   "source": [
    "** -------------- **"
   ]
  }
 ],
 "metadata": {
  "kernelspec": {
   "display_name": "Python 3",
   "language": "python",
   "name": "python3"
  },
  "language_info": {
   "codemirror_mode": {
    "name": "ipython",
    "version": 3
   },
   "file_extension": ".py",
   "mimetype": "text/x-python",
   "name": "python",
   "nbconvert_exporter": "python",
   "pygments_lexer": "ipython3",
   "version": "3.6.1"
  }
 },
 "nbformat": 4,
 "nbformat_minor": 2
}
