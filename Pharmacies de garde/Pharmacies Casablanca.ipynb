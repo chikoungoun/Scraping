{
 "cells": [
  {
   "cell_type": "markdown",
   "metadata": {},
   "source": [
    "# Scraping des pharmacies de garde sur Casablanca"
   ]
  },
  {
   "cell_type": "markdown",
   "metadata": {},
   "source": [
    "source des données : https://lematin.ma/pharmacie-garde-casablanca.html"
   ]
  },
  {
   "cell_type": "code",
   "execution_count": 1,
   "metadata": {},
   "outputs": [
    {
     "data": {
      "text/plain": [
       "<Response [200]>"
      ]
     },
     "execution_count": 1,
     "metadata": {},
     "output_type": "execute_result"
    }
   ],
   "source": [
    "import requests\n",
    "\n",
    "url = 'https://lematin.ma/pharmacie-garde-casablanca.html'\n",
    "response = requests.get(url)\n",
    "response"
   ]
  },
  {
   "cell_type": "code",
   "execution_count": 2,
   "metadata": {},
   "outputs": [
    {
     "data": {
      "text/plain": [
       "bs4.BeautifulSoup"
      ]
     },
     "execution_count": 2,
     "metadata": {},
     "output_type": "execute_result"
    }
   ],
   "source": [
    "from bs4 import BeautifulSoup\n",
    "\n",
    "soup = BeautifulSoup(response.text,'html.parser')\n",
    "type(soup)"
   ]
  },
  {
   "cell_type": "code",
   "execution_count": null,
   "metadata": {},
   "outputs": [],
   "source": []
  },
  {
   "cell_type": "code",
   "execution_count": 3,
   "metadata": {},
   "outputs": [],
   "source": [
    "quartiers = soup.find_all('div',class_='lespharmaciengarde')"
   ]
  },
  {
   "cell_type": "code",
   "execution_count": null,
   "metadata": {},
   "outputs": [],
   "source": []
  },
  {
   "cell_type": "code",
   "execution_count": 4,
   "metadata": {},
   "outputs": [],
   "source": [
    "liste_quartiers = []\n",
    "for i in quartiers:\n",
    "    liste_quartiers.append(\"https://lematin.ma\"+str(i.find('a')['href']))"
   ]
  },
  {
   "cell_type": "code",
   "execution_count": 5,
   "metadata": {},
   "outputs": [
    {
     "name": "stdout",
     "output_type": "stream",
     "text": [
      "https://lematin.ma/pharmacie-garde-casablanca/ain-sebaa.html\n",
      "https://lematin.ma/pharmacie-garde-casablanca/sidi-bernoussi.html\n",
      "https://lematin.ma/pharmacie-garde-casablanca/benmsik.html\n",
      "https://lematin.ma/pharmacie-garde-casablanca/sidi-othmane.html\n",
      "https://lematin.ma/pharmacie-garde-casablanca/hay-moulay-rachid.html\n",
      "https://lematin.ma/pharmacie-garde-casablanca/lissasfa.html\n",
      "https://lematin.ma/pharmacie-garde-casablanca/annasi.html\n",
      "https://lematin.ma/pharmacie-garde-casablanca/belvedere.html\n",
      "https://lematin.ma/pharmacie-garde-casablanca/al-azhar-panorama.html\n",
      "https://lematin.ma/pharmacie-garde-casablanca/hay-mohammadi.html\n",
      "https://lematin.ma/pharmacie-garde-casablanca/sidi-maarouf.html\n",
      "https://lematin.ma/pharmacie-garde-casablanca/ain-chock.html\n",
      "https://lematin.ma/pharmacie-garde-casablanca/maarif.html\n",
      "https://lematin.ma/pharmacie-garde-casablanca/al-fida.html\n",
      "https://lematin.ma/pharmacie-garde-casablanca/oulfa.html\n",
      "https://lematin.ma/pharmacie-garde-casablanca/sidi-moumen.html\n",
      "https://lematin.ma/pharmacie-garde-casablanca/bourgogne.html\n"
     ]
    }
   ],
   "source": [
    "for i in liste_quartiers:\n",
    "    print(i)"
   ]
  },
  {
   "cell_type": "markdown",
   "metadata": {},
   "source": [
    "Scrap page par page"
   ]
  },
  {
   "cell_type": "code",
   "execution_count": 7,
   "metadata": {},
   "outputs": [],
   "source": [
    "from time import time\n",
    "from time import sleep\n",
    "from random import randint\n",
    "\n",
    "start_time = time()\n",
    "requests = 0\n",
    "\n",
    "from requests import get"
   ]
  },
  {
   "cell_type": "code",
   "execution_count": 8,
   "metadata": {},
   "outputs": [
    {
     "name": "stdout",
     "output_type": "stream",
     "text": [
      "https://lematin.ma/pharmacie-garde-casablanca/ain-sebaa.html\n",
      "10\n",
      "https://lematin.ma/pharmacie-garde-casablanca/sidi-bernoussi.html\n",
      "9\n",
      "https://lematin.ma/pharmacie-garde-casablanca/benmsik.html\n",
      "8\n",
      "https://lematin.ma/pharmacie-garde-casablanca/sidi-othmane.html\n",
      "15\n",
      "https://lematin.ma/pharmacie-garde-casablanca/hay-moulay-rachid.html\n",
      "13\n",
      "*** *** Done *** ***\n"
     ]
    }
   ],
   "source": [
    "noms =[]\n",
    "adresses = []\n",
    "\n",
    "for i in liste_quartiers[:5]:\n",
    "    print(i)\n",
    "    response = get(i)\n",
    "    \n",
    "    timer = randint(8,15)\n",
    "    #pause de loop\n",
    "    print(timer)\n",
    "    sleep(timer)\n",
    "    \n",
    "    #renvoyer un warning pour les non 'status code : 200'\n",
    "    if response.status_code != 200:\n",
    "        warn('Request: {}; Status code: {}'.format(requests, response.status_code))\n",
    "            \n",
    "    #parser en BS\n",
    "    page_html = BeautifulSoup(response.text,'html.parser')\n",
    "    \n",
    "    pharmacies = page_html.find_all('div',class_='pharmacie')\n",
    "    \n",
    "    for j in pharmacies:\n",
    "        noms.append(j.find('h5').text)\n",
    "        adresses.append(j.find('p').text)\n",
    "    \n",
    "    \n",
    "\n",
    "print('*** *** Done *** ***')\n",
    "    "
   ]
  },
  {
   "cell_type": "code",
   "execution_count": 9,
   "metadata": {
    "scrolled": true
   },
   "outputs": [
    {
     "data": {
      "text/plain": [
       "['Pharmacie ESPOIR SANTE',\n",
       " 'Pharmacie SAMANE',\n",
       " 'Pharmacie ATHINA',\n",
       " \"Pharmacie L'HORIZON\",\n",
       " 'Pharmacie JAMILA',\n",
       " 'Pharmacie MOUKDAD LAHRIZI',\n",
       " 'Pharmacie ARRAHMA',\n",
       " 'Pharmacie AYA',\n",
       " 'Pharmacie CHARAI']"
      ]
     },
     "execution_count": 9,
     "metadata": {},
     "output_type": "execute_result"
    }
   ],
   "source": [
    "noms"
   ]
  },
  {
   "cell_type": "code",
   "execution_count": 11,
   "metadata": {},
   "outputs": [
    {
     "data": {
      "text/plain": [
       "9"
      ]
     },
     "execution_count": 11,
     "metadata": {},
     "output_type": "execute_result"
    }
   ],
   "source": [
    "len(noms)"
   ]
  },
  {
   "cell_type": "code",
   "execution_count": 10,
   "metadata": {},
   "outputs": [
    {
     "data": {
      "text/plain": [
       "['28 BIS, AVENUE TIZI OUSLI - AIN SEBAA - Tél : 0522.67.36.00 Voir la position \\n',\n",
       " 'N° 10 - 12, LOTISSEMENT SOLOMA II - DOUAR KRIMAT (HAMMAM SOLOMA) - Tél : 0522.66.22.85 [+]\\n',\n",
       " 'N° 7, LOT. CHABAB - GROUPE C2 - SIDI BERNOUSSI - Tél : 0522.73.74.73 [+]\\n',\n",
       " 'ANGLE DES RUES 3 & 5 -ESSAADA HAY EL QODS (37EME ARRONDIS. DE LA SURETE NATIONALE) BERNOUSSI- Tél : 0522.73.70.57 Voir la position \\n',\n",
       " '326,AVENUE IDRISS EL HARTI - EX. AVENUE A - CITE DJEMAA - Tél : 0522.37.21.07 Voir la position \\n',\n",
       " '153, BOULEVARD MOUKDAD LAHRIZI - HAY EL HOUDA (INSTITUT DE TECHNOLOGIE)- Tél : 0522.37.37.35 [+]\\n',\n",
       " '49/50, CENTRE COMMERCIAL N° 2 CITE ERRAHMA RUE 23 - SIDI OTHMANE- Tél : 0522.70.01.95 Voir la position \\n',\n",
       " '42, LOTISSEMENT NOUR RUE 2 - AVENUE ABDELKADER SAHRAOUI - SIDI OTHMANE - Tél : 0522.59.44.55 Voir la position \\n',\n",
       " 'HAY MOULAY RACHID, GROUPE 2 RUE 45 N° 9 - Tél : 0522.72.66.64 [+]\\n']"
      ]
     },
     "execution_count": 10,
     "metadata": {},
     "output_type": "execute_result"
    }
   ],
   "source": [
    "adresses"
   ]
  },
  {
   "cell_type": "code",
   "execution_count": 12,
   "metadata": {},
   "outputs": [
    {
     "data": {
      "text/plain": [
       "9"
      ]
     },
     "execution_count": 12,
     "metadata": {},
     "output_type": "execute_result"
    }
   ],
   "source": [
    "len(adresses)"
   ]
  },
  {
   "cell_type": "code",
   "execution_count": 13,
   "metadata": {},
   "outputs": [],
   "source": [
    "garde = []\n",
    "for i,j in zip(noms,adresses):\n",
    "    t = (i,j)\n",
    "    garde.append(t)"
   ]
  },
  {
   "cell_type": "code",
   "execution_count": 14,
   "metadata": {},
   "outputs": [
    {
     "name": "stdout",
     "output_type": "stream",
     "text": [
      "[('Pharmacie ESPOIR SANTE', '28 BIS, AVENUE TIZI OUSLI - AIN SEBAA - Tél : 0522.67.36.00 Voir la position \\n'), ('Pharmacie SAMANE', 'N° 10 - 12, LOTISSEMENT SOLOMA II - DOUAR KRIMAT (HAMMAM SOLOMA) - Tél : 0522.66.22.85 [+]\\n'), ('Pharmacie ATHINA', 'N° 7, LOT. CHABAB - GROUPE C2 - SIDI BERNOUSSI - Tél : 0522.73.74.73 [+]\\n'), (\"Pharmacie L'HORIZON\", 'ANGLE DES RUES 3 & 5 -ESSAADA HAY EL QODS (37EME ARRONDIS. DE LA SURETE NATIONALE) BERNOUSSI- Tél : 0522.73.70.57 Voir la position \\n'), ('Pharmacie JAMILA', '326,AVENUE IDRISS EL HARTI - EX. AVENUE A - CITE DJEMAA - Tél : 0522.37.21.07 Voir la position \\n'), ('Pharmacie MOUKDAD LAHRIZI', '153, BOULEVARD MOUKDAD LAHRIZI - HAY EL HOUDA (INSTITUT DE TECHNOLOGIE)- Tél : 0522.37.37.35 [+]\\n'), ('Pharmacie ARRAHMA', '49/50, CENTRE COMMERCIAL N° 2 CITE ERRAHMA RUE 23 - SIDI OTHMANE- Tél : 0522.70.01.95 Voir la position \\n'), ('Pharmacie AYA', '42, LOTISSEMENT NOUR RUE 2 - AVENUE ABDELKADER SAHRAOUI - SIDI OTHMANE - Tél : 0522.59.44.55 Voir la position \\n'), ('Pharmacie CHARAI', 'HAY MOULAY RACHID, GROUPE 2 RUE 45 N° 9 - Tél : 0522.72.66.64 [+]\\n')]\n"
     ]
    }
   ],
   "source": [
    "print(garde)"
   ]
  },
  {
   "cell_type": "code",
   "execution_count": null,
   "metadata": {},
   "outputs": [],
   "source": []
  }
 ],
 "metadata": {
  "kernelspec": {
   "display_name": "Python 3",
   "language": "python",
   "name": "python3"
  },
  "language_info": {
   "codemirror_mode": {
    "name": "ipython",
    "version": 3
   },
   "file_extension": ".py",
   "mimetype": "text/x-python",
   "name": "python",
   "nbconvert_exporter": "python",
   "pygments_lexer": "ipython3",
   "version": "3.6.1"
  }
 },
 "nbformat": 4,
 "nbformat_minor": 2
}
