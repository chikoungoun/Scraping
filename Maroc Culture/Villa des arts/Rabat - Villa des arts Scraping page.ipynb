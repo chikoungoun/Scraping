{
 "cells": [
  {
   "cell_type": "code",
   "execution_count": 1,
   "metadata": {},
   "outputs": [
    {
     "data": {
      "text/plain": [
       "<Response [200]>"
      ]
     },
     "execution_count": 1,
     "metadata": {},
     "output_type": "execute_result"
    }
   ],
   "source": [
    "import requests\n",
    "\n",
    "url = 'http://www.fondationona.ma/fr/nos-activites/le-maroc-antique-du-chellah-robert-chastel'\n",
    "response = requests.get(url)\n",
    "response"
   ]
  },
  {
   "cell_type": "code",
   "execution_count": 2,
   "metadata": {},
   "outputs": [
    {
     "data": {
      "text/plain": [
       "bs4.BeautifulSoup"
      ]
     },
     "execution_count": 2,
     "metadata": {},
     "output_type": "execute_result"
    }
   ],
   "source": [
    "from bs4 import BeautifulSoup\n",
    "\n",
    "soup = BeautifulSoup(response.text,'html.parser')\n",
    "type(soup)"
   ]
  },
  {
   "cell_type": "code",
   "execution_count": 5,
   "metadata": {},
   "outputs": [],
   "source": [
    "actu = soup.find(\"div\",id=\"blocContenu\")"
   ]
  },
  {
   "cell_type": "code",
   "execution_count": 6,
   "metadata": {},
   "outputs": [
    {
     "data": {
      "text/plain": [
       "<div id=\"blocContenu\">\n",
       "<div id=\"top\"></div>\n",
       "<div id=\"milieu\">\n",
       "<h1> Le Maroc antique du Chellah | Robert CHASTEL </h1>\n",
       "<div class=\"visuel\"><img src=\"/fr/sites/default/files/imagecache/format-90x90/Dr_Chastel_web_0.jpg\"/></div>\n",
       "<ul class=\"proprieteevent\">\n",
       "<li><strong>Date </strong>: Mercredi 18 Mars 2020 à 19h </li>\n",
       "<li><strong>Lieu </strong>: Villa des Arts de Casablanca</li>\n",
       "<li><strong>Entrée </strong>: Libre. Places Limitées.</li>\n",
       "</ul>\n",
       "<p><p>Les Phéniciens de Carthage ou Puniques fondèrent Sala au 8ème siècle av.J.-C,un port et une cité florissante. Ils introduisirent l’olivier, la vigne...<br/>\n",
       "​Sala commerçait avec les grands ports phéniciens de LIXUS et de GADES (Cadix). À la 3ème Guerre Punique en 146 av. J.-C. Carthage fut détruite et Sala phénicienne devint Sala Colonia romaine, administrée par les derniers rois berbères de Maurétanie, Juba II et son fils Ptolémée. Une Antiquité méditerranéenne de 15 siècles pour Rabat, une ville atlantique... À découvrir.</p>\n",
       "</p>\n",
       "<p><a href=\"javascript: history.back();\">Retour</a></p>\n",
       "</div>\n",
       "<div id=\"bas\"></div>\n",
       "</div>"
      ]
     },
     "execution_count": 6,
     "metadata": {},
     "output_type": "execute_result"
    }
   ],
   "source": [
    "actu"
   ]
  },
  {
   "cell_type": "markdown",
   "metadata": {},
   "source": [
    "### Scraping the title"
   ]
  },
  {
   "cell_type": "code",
   "execution_count": 9,
   "metadata": {},
   "outputs": [
    {
     "data": {
      "text/plain": [
       "' Le Maroc antique du Chellah | Robert CHASTEL '"
      ]
     },
     "execution_count": 9,
     "metadata": {},
     "output_type": "execute_result"
    }
   ],
   "source": [
    "titre = actu.find(\"h1\").text\n",
    "titre"
   ]
  },
  {
   "cell_type": "markdown",
   "metadata": {},
   "source": [
    "### Scraping the date"
   ]
  },
  {
   "cell_type": "code",
   "execution_count": 19,
   "metadata": {},
   "outputs": [
    {
     "data": {
      "text/plain": [
       "'Date : Mercredi 18 Mars 2020 à 19h '"
      ]
     },
     "execution_count": 19,
     "metadata": {},
     "output_type": "execute_result"
    }
   ],
   "source": [
    "pre_date = actu.find('ul').findChildren()[0]\n",
    "pre_date.text"
   ]
  },
  {
   "cell_type": "code",
   "execution_count": null,
   "metadata": {},
   "outputs": [],
   "source": []
  }
 ],
 "metadata": {
  "kernelspec": {
   "display_name": "Python 3",
   "language": "python",
   "name": "python3"
  },
  "language_info": {
   "codemirror_mode": {
    "name": "ipython",
    "version": 3
   },
   "file_extension": ".py",
   "mimetype": "text/x-python",
   "name": "python",
   "nbconvert_exporter": "python",
   "pygments_lexer": "ipython3",
   "version": "3.8.2"
  }
 },
 "nbformat": 4,
 "nbformat_minor": 4
}
