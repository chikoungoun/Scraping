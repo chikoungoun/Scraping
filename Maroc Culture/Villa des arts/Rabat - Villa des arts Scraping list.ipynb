{
 "cells": [
  {
   "cell_type": "markdown",
   "metadata": {},
   "source": [
    "# Scraping the Villa des arts website"
   ]
  },
  {
   "cell_type": "code",
   "execution_count": 1,
   "metadata": {},
   "outputs": [
    {
     "data": {
      "text/plain": [
       "<Response [200]>"
      ]
     },
     "execution_count": 1,
     "metadata": {},
     "output_type": "execute_result"
    }
   ],
   "source": [
    "import requests\n",
    "\n",
    "url = 'http://www.fondationona.ma/fr/'\n",
    "response = requests.get(url)\n",
    "response"
   ]
  },
  {
   "cell_type": "code",
   "execution_count": 2,
   "metadata": {},
   "outputs": [
    {
     "data": {
      "text/plain": [
       "bs4.BeautifulSoup"
      ]
     },
     "execution_count": 2,
     "metadata": {},
     "output_type": "execute_result"
    }
   ],
   "source": [
    "from bs4 import BeautifulSoup\n",
    "\n",
    "soup = BeautifulSoup(response.text,'html.parser')\n",
    "type(soup)"
   ]
  },
  {
   "cell_type": "code",
   "execution_count": 3,
   "metadata": {},
   "outputs": [],
   "source": [
    "actu = soup.find(\"div\",class_=\"col3\")"
   ]
  },
  {
   "cell_type": "code",
   "execution_count": 4,
   "metadata": {},
   "outputs": [],
   "source": [
    "ul = actu.find(\"ul\")"
   ]
  },
  {
   "cell_type": "code",
   "execution_count": 5,
   "metadata": {},
   "outputs": [
    {
     "name": "stdout",
     "output_type": "stream",
     "text": [
      "<li>\n",
      "<a href=\"/fr/nos-activites/presentation-du-roman-une-forme-de-nuit-de-salima-louafa\">Présentation du roman «Une forme de nuit» de Salima Louafa</a> - <span><span class=\"date-display-single\">Mardi 17 Mars 2020 10:00</span></span> </li>\n",
      "<li>\n",
      "<a href=\"/fr/nos-activites/le-maroc-antique-du-chellah-robert-chastel\">Le Maroc antique du Chellah | Robert CHASTEL</a> - <span><span class=\"date-display-single\">Mercredi 18 Mars 2020 19:00</span></span> </li>\n",
      "<li>\n",
      "<a href=\"/fr/nos-activites/annule-projection-du-film-hadda-de-l-artiste-mohamed-abouelouakar\">[ANNULÉ] Projection du Film HADDA de l’artiste Mohamed Abouelouakar</a> - <span><span class=\"date-display-single\">Jeudi 19 Mars 2020 18:00</span></span> </li>\n",
      "<li>\n",
      "<a href=\"/fr/nos-activites/fusion-jazzmusiques-marocaines-en-quintet-hamza-bennani-smires\">Fusion jazz/musiques marocaines en Quintet | Hamza Bennani Smires</a> - <span><span class=\"date-display-single\">Vendredi 20 Mars 2020 19:30</span></span> </li>\n",
      "<li>\n",
      "<a href=\"/fr/nos-activites/la-poesie-dans-le-sillage-de-la-peinture-rencontre-autour-de-la-poesie-d-aissa-ikken\">«La poésie dans le sillage de la peinture» | Rencontre autour de la poesie d’Aïssa Ikken</a> - <span><span class=\"date-display-single\">Mardi 24 Mars 2020 18:00</span></span> </li>\n"
     ]
    }
   ],
   "source": [
    "for i in ul.find_all(\"li\"):\n",
    "    print(i)"
   ]
  },
  {
   "cell_type": "code",
   "execution_count": 6,
   "metadata": {},
   "outputs": [
    {
     "name": "stdout",
     "output_type": "stream",
     "text": [
      "http://www.fondationona.ma/fr/nos-activites/presentation-du-roman-une-forme-de-nuit-de-salima-louafa\n",
      "Présentation du roman «Une forme de nuit» de Salima Louafa\n",
      "http://www.fondationona.ma/fr/nos-activites/le-maroc-antique-du-chellah-robert-chastel\n",
      "Le Maroc antique du Chellah | Robert CHASTEL\n",
      "http://www.fondationona.ma/fr/nos-activites/annule-projection-du-film-hadda-de-l-artiste-mohamed-abouelouakar\n",
      "[ANNULÉ] Projection du Film HADDA de l’artiste Mohamed Abouelouakar\n",
      "http://www.fondationona.ma/fr/nos-activites/fusion-jazzmusiques-marocaines-en-quintet-hamza-bennani-smires\n",
      "Fusion jazz/musiques marocaines en Quintet | Hamza Bennani Smires\n",
      "http://www.fondationona.ma/fr/nos-activites/la-poesie-dans-le-sillage-de-la-peinture-rencontre-autour-de-la-poesie-d-aissa-ikken\n",
      "«La poésie dans le sillage de la peinture» | Rencontre autour de la poesie d’Aïssa Ikken\n"
     ]
    }
   ],
   "source": [
    "liens = []\n",
    "titres = []\n",
    "for i in ul.find_all(\"li\"):\n",
    "    print('http://www.fondationona.ma'+str(i.find(\"a\")['href']))\n",
    "    liens.append('http://www.fondationona.ma'+str(i.find(\"a\")['href']))\n",
    "    \n",
    "    print(i.find(\"a\").text)\n",
    "    titres.append(i.find(\"a\").text)\n",
    "    \n",
    "    "
   ]
  },
  {
   "cell_type": "markdown",
   "metadata": {},
   "source": [
    "## Scrape page by page"
   ]
  },
  {
   "cell_type": "code",
   "execution_count": 7,
   "metadata": {},
   "outputs": [],
   "source": [
    "from time import time\n",
    "from time import sleep\n",
    "from random import randint"
   ]
  },
  {
   "cell_type": "code",
   "execution_count": 8,
   "metadata": {},
   "outputs": [],
   "source": [
    "start_time = time()\n",
    "requests = 0"
   ]
  },
  {
   "cell_type": "code",
   "execution_count": 9,
   "metadata": {},
   "outputs": [],
   "source": [
    "from requests import get"
   ]
  },
  {
   "cell_type": "code",
   "execution_count": 12,
   "metadata": {},
   "outputs": [
    {
     "name": "stdout",
     "output_type": "stream",
     "text": [
      "http://www.fondationona.ma/fr/nos-activites/presentation-du-roman-une-forme-de-nuit-de-salima-louafa\n",
      "12\n",
      "http://www.fondationona.ma/fr/nos-activites/le-maroc-antique-du-chellah-robert-chastel\n",
      "15\n",
      "http://www.fondationona.ma/fr/nos-activites/annule-projection-du-film-hadda-de-l-artiste-mohamed-abouelouakar\n",
      "12\n",
      "http://www.fondationona.ma/fr/nos-activites/fusion-jazzmusiques-marocaines-en-quintet-hamza-bennani-smires\n",
      "8\n",
      "http://www.fondationona.ma/fr/nos-activites/la-poesie-dans-le-sillage-de-la-peinture-rencontre-autour-de-la-poesie-d-aissa-ikken\n",
      "12\n",
      " *** Done *** \n"
     ]
    }
   ],
   "source": [
    "dates = []\n",
    "heures = []\n",
    "descs = []\n",
    "\n",
    "for i in liens:\n",
    "    print(i)\n",
    "    response = get(i)\n",
    "    \n",
    "    timer = randint(8,15)\n",
    "    #pause de loop\n",
    "    print(timer)\n",
    "    sleep(timer)\n",
    "    \n",
    "    #renvoyer un warning pour les non 'status code : 200'\n",
    "    if response.status_code != 200:\n",
    "        warn('Request: {}; Status code: {}'.format(requests, response.status_code))\n",
    "        \n",
    "    soup = BeautifulSoup(response.text,'html.parser')\n",
    "    type(soup)\n",
    "    \n",
    "    actu = soup.find(\"div\",id=\"blocContenu\")\n",
    "    \n",
    "    # Date & Hour\n",
    "    pre_date = actu.find('ul').findChildren()[0].text\n",
    "    pre_date\n",
    "    \n",
    "    ## Date\n",
    "    deb = pre_date.find(':')\n",
    "    fin = pre_date.find('à')\n",
    "    date = pre_date[deb+1:fin].strip()\n",
    "    dates.append(date)\n",
    "    \n",
    "    ## Hour\n",
    "    heure = pre_date[fin+1:].strip()\n",
    "    heures.append(heure)\n",
    "    \n",
    "    \n",
    "print(\" *** Done *** \")"
   ]
  },
  {
   "cell_type": "code",
   "execution_count": null,
   "metadata": {},
   "outputs": [],
   "source": []
  }
 ],
 "metadata": {
  "kernelspec": {
   "display_name": "Python 3",
   "language": "python",
   "name": "python3"
  },
  "language_info": {
   "codemirror_mode": {
    "name": "ipython",
    "version": 3
   },
   "file_extension": ".py",
   "mimetype": "text/x-python",
   "name": "python",
   "nbconvert_exporter": "python",
   "pygments_lexer": "ipython3",
   "version": "3.8.2"
  }
 },
 "nbformat": 4,
 "nbformat_minor": 4
}
