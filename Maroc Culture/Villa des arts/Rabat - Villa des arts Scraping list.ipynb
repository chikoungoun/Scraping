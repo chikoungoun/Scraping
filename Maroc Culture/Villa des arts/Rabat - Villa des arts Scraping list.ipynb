{
 "cells": [
  {
   "cell_type": "markdown",
   "metadata": {},
   "source": [
    "# Scraping the Villa des arts website"
   ]
  },
  {
   "cell_type": "code",
   "execution_count": 1,
   "metadata": {},
   "outputs": [
    {
     "data": {
      "text/plain": [
       "<Response [200]>"
      ]
     },
     "execution_count": 1,
     "metadata": {},
     "output_type": "execute_result"
    }
   ],
   "source": [
    "import requests\n",
    "\n",
    "url = 'http://www.fondationona.ma/fr/'\n",
    "response = requests.get(url)\n",
    "response"
   ]
  },
  {
   "cell_type": "code",
   "execution_count": 2,
   "metadata": {},
   "outputs": [
    {
     "data": {
      "text/plain": [
       "bs4.BeautifulSoup"
      ]
     },
     "execution_count": 2,
     "metadata": {},
     "output_type": "execute_result"
    }
   ],
   "source": [
    "from bs4 import BeautifulSoup\n",
    "\n",
    "soup = BeautifulSoup(response.text,'html.parser')\n",
    "type(soup)"
   ]
  },
  {
   "cell_type": "code",
   "execution_count": 3,
   "metadata": {},
   "outputs": [],
   "source": [
    "actu = soup.find(\"div\",class_=\"col3\")"
   ]
  },
  {
   "cell_type": "code",
   "execution_count": 4,
   "metadata": {},
   "outputs": [],
   "source": [
    "ul = actu.find(\"ul\")"
   ]
  },
  {
   "cell_type": "code",
   "execution_count": 5,
   "metadata": {},
   "outputs": [
    {
     "name": "stdout",
     "output_type": "stream",
     "text": [
      "<li>\n",
      "<a href=\"/fr/nos-activites/presentation-du-roman-une-forme-de-nuit-de-salima-louafa\">Présentation du roman «Une forme de nuit» de Salima Louafa</a> - <span><span class=\"date-display-single\">Mardi 17 Mars 2020 10:00</span></span> </li>\n",
      "<li>\n",
      "<a href=\"/fr/nos-activites/le-maroc-antique-du-chellah-robert-chastel\">Le Maroc antique du Chellah | Robert CHASTEL</a> - <span><span class=\"date-display-single\">Mercredi 18 Mars 2020 19:00</span></span> </li>\n",
      "<li>\n",
      "<a href=\"/fr/nos-activites/annule-projection-du-film-hadda-de-l-artiste-mohamed-abouelouakar\">[ANNULÉ] Projection du Film HADDA de l’artiste Mohamed Abouelouakar</a> - <span><span class=\"date-display-single\">Jeudi 19 Mars 2020 18:00</span></span> </li>\n",
      "<li>\n",
      "<a href=\"/fr/nos-activites/fusion-jazzmusiques-marocaines-en-quintet-hamza-bennani-smires\">Fusion jazz/musiques marocaines en Quintet | Hamza Bennani Smires</a> - <span><span class=\"date-display-single\">Vendredi 20 Mars 2020 19:30</span></span> </li>\n",
      "<li>\n",
      "<a href=\"/fr/nos-activites/la-poesie-dans-le-sillage-de-la-peinture-rencontre-autour-de-la-poesie-d-aissa-ikken\">«La poésie dans le sillage de la peinture» | Rencontre autour de la poesie d’Aïssa Ikken</a> - <span><span class=\"date-display-single\">Mardi 24 Mars 2020 18:00</span></span> </li>\n"
     ]
    }
   ],
   "source": [
    "for i in ul.find_all(\"li\"):\n",
    "    print(i)"
   ]
  },
  {
   "cell_type": "markdown",
   "metadata": {},
   "source": [
    "## Scraping the links and event titles"
   ]
  },
  {
   "cell_type": "code",
   "execution_count": 6,
   "metadata": {},
   "outputs": [
    {
     "name": "stdout",
     "output_type": "stream",
     "text": [
      "http://www.fondationona.ma/fr/nos-activites/presentation-du-roman-une-forme-de-nuit-de-salima-louafa\n",
      "Présentation du roman «Une forme de nuit» de Salima Louafa\n",
      "http://www.fondationona.ma/fr/nos-activites/le-maroc-antique-du-chellah-robert-chastel\n",
      "Le Maroc antique du Chellah | Robert CHASTEL\n",
      "http://www.fondationona.ma/fr/nos-activites/annule-projection-du-film-hadda-de-l-artiste-mohamed-abouelouakar\n",
      "[ANNULÉ] Projection du Film HADDA de l’artiste Mohamed Abouelouakar\n",
      "http://www.fondationona.ma/fr/nos-activites/fusion-jazzmusiques-marocaines-en-quintet-hamza-bennani-smires\n",
      "Fusion jazz/musiques marocaines en Quintet | Hamza Bennani Smires\n",
      "http://www.fondationona.ma/fr/nos-activites/la-poesie-dans-le-sillage-de-la-peinture-rencontre-autour-de-la-poesie-d-aissa-ikken\n",
      "«La poésie dans le sillage de la peinture» | Rencontre autour de la poesie d’Aïssa Ikken\n"
     ]
    }
   ],
   "source": [
    "liens = []\n",
    "titres = []\n",
    "for i in ul.find_all(\"li\"):\n",
    "    print('http://www.fondationona.ma'+str(i.find(\"a\")['href']))\n",
    "    liens.append('http://www.fondationona.ma'+str(i.find(\"a\")['href']))\n",
    "    \n",
    "    print(i.find(\"a\").text)\n",
    "    titres.append(i.find(\"a\").text)\n",
    "    \n",
    "    "
   ]
  },
  {
   "cell_type": "markdown",
   "metadata": {},
   "source": [
    "## Scrape page by page"
   ]
  },
  {
   "cell_type": "code",
   "execution_count": 7,
   "metadata": {},
   "outputs": [],
   "source": [
    "from time import time\n",
    "from time import sleep\n",
    "from random import randint"
   ]
  },
  {
   "cell_type": "code",
   "execution_count": 8,
   "metadata": {},
   "outputs": [],
   "source": [
    "start_time = time()\n",
    "requests = 0"
   ]
  },
  {
   "cell_type": "code",
   "execution_count": 9,
   "metadata": {},
   "outputs": [],
   "source": [
    "from requests import get"
   ]
  },
  {
   "cell_type": "code",
   "execution_count": 23,
   "metadata": {
    "scrolled": true
   },
   "outputs": [
    {
     "name": "stdout",
     "output_type": "stream",
     "text": [
      "http://www.fondationona.ma/fr/nos-activites/presentation-du-roman-une-forme-de-nuit-de-salima-louafa\n",
      "15\n",
      "Mardi 17 Mars 2020\n",
      "10h\n",
      "Salima Louafa est une romancière marocaine née à Rabat en 1981. Après des études de commerce international à Bordeaux et un démarrage de sa carrière professionnelle en entreprise à Paris, elle rentre au Maroc où elle exerce la fonction de responsable des ressources humaines dans une multinationale. Salima Louafa fait également plusieurs incursions dans le journalisme en rédigeant des articles pour le quotidien marocain L’Opinion ainsi que pour le Times of India à New Delhi. En 2015, elle s’installe à Manille, aux Philippines où elle se consacre à sa passion: l’écriture. Chairs d’argile paru aux éditions Afrique Orient en 2017 est un premier roman remarqué, finaliste de plusieurs prix littéraires. Avec Une forme de nuit, elle signe un second roman psychologique, paru cette année chez le même éditeur. \n",
      "Résumé du roman Une forme de nuit: Maya a occulté les questions qui l’avaient longtemps torturée. Elle avait renoncé à trouver une réponse et c’était mieux ainsi. Mais soudain un visage, celui d’Amir va la faire sortir du cocon qu’elle s’était fabriquée. Une passion dévorante naît au creux de son ventre, un amour qui ronge et consume. Mais qui est véritablement Amir? Qui est cet homme qui lui fait perdre le nord et la raison? Des zones d’ombre l’entourent, un mystère épais, des doutes, la peur, une multitude de sentiments contradictoires. Maya n’a plus le choix, elle est obligée de faire face à la réalité du secret qu’elle porte et ainsi qu’à cette relation trouble et aliénante qui la lie malgré elle à Amir... \n",
      "\n",
      "http://www.fondationona.ma/fr/nos-activites/le-maroc-antique-du-chellah-robert-chastel\n",
      "14\n",
      "Mercredi 18 Mars 2020\n",
      "19h\n",
      "Les Phéniciens de Carthage ou Puniques fondèrent Sala au 8ème siècle av.J.-C,un port et une cité florissante. Ils introduisirent l’olivier, la vigne...\n",
      "​Sala commerçait avec les grands ports phéniciens de LIXUS et de GADES (Cadix). À la 3ème Guerre Punique en 146 av. J.-C. Carthage fut détruite et Sala phénicienne devint Sala Colonia romaine, administrée par les derniers rois berbères de Maurétanie, Juba II et son fils Ptolémée. Une Antiquité méditerranéenne de 15 siècles pour Rabat, une ville atlantique... À découvrir.\n",
      "\n",
      "http://www.fondationona.ma/fr/nos-activites/annule-projection-du-film-hadda-de-l-artiste-mohamed-abouelouakar\n",
      "12\n",
      "Jeudi 19 Mars 2020\n",
      "18h\n",
      "Cette projection de film prévue le 19/03/2020 à la VDAR est annulée pour des raisons indépendantes de notre volonté.\n",
      "En marge de l’exposition retrospective «Deconstructions» de Mohamed Abouelouakar, son film «HADDA» sera projeté et suivi d’un débat.\n",
      "\n",
      "http://www.fondationona.ma/fr/nos-activites/fusion-jazzmusiques-marocaines-en-quintet-hamza-bennani-smires\n",
      "9\n",
      "Vendredi 20 Mars 2020\n",
      "19h  30min\n",
      "Le trompettiste et compositeur marocain nous présente son premier album de compositions originales intitulé «l’ivresse de la métamorphose». Sédiments de musiques marocaines teintés de jazz moderne, cet album nous invite dans l’intimité du musicien, au cœur d’une quête musicale et esthétique passionnée, entre tradition et renouveau, où le oud traditionnel côtoie naturellement le son chaud du bugle. Enveloppées de la délicatesse des accords du piano, les mélodies nous emportent, soutenues par un groove basse/batterie redoutable ou quand les musiques marocaines flirtent avec le jazz!\n",
      "\n",
      "http://www.fondationona.ma/fr/nos-activites/la-poesie-dans-le-sillage-de-la-peinture-rencontre-autour-de-la-poesie-d-aissa-ikken\n",
      "8\n",
      "Mardi 24 Mars 2020\n",
      "18h\n",
      "Ce fut l’intitulé de l’exposition rétrospective organisée pour les quarante ans de production de l’artiste peintre, sculpteur, Aïisa Ikken par la Fondation ONA, à la Villa des arts de Rabat du 7 février au 4 avril 2008.Décédé le 18 février 2016, sous le même intitulé, la Fondation ONA honore en ce mercredi 25 mars l’artiste-poète, romancier, essayiste, à travers la lecture de poèmes de ses recueils de poésie : Gerçures de pierre, l’automne infidèle, Itinéraires recomposés, Reflets de l’absence. « Selon l’état d’âme, j’écris ou je peins. Parfois le pictural est en suspens comme un drap qui voile le mot, lorsqu’un geste, un rayon de soleil a une emprise sur moi, je me jette dans les bras de mon expression poétique. Poésie et peinture finissent par se rencontrer dans mon œuvre.»\n",
      "Soukaïna, son épouse, accompagnée du musicologue… Rachid Toumi, de Nabila, font retentir la poésie de l’émotion, d’errance, d’Aïssa Ikken.\n",
      "\n",
      " *** Done *** \n"
     ]
    }
   ],
   "source": [
    "dates = []\n",
    "heures = []\n",
    "descs = []\n",
    "\n",
    "for i in liens:\n",
    "    print(i)\n",
    "    response = get(i)\n",
    "    \n",
    "    timer = randint(8,15)\n",
    "    #pause de loop\n",
    "    print(timer)\n",
    "    sleep(timer)\n",
    "    \n",
    "    #renvoyer un warning pour les non 'status code : 200'\n",
    "    if response.status_code != 200:\n",
    "        warn('Request: {}; Status code: {}'.format(requests, response.status_code))\n",
    "        \n",
    "    soup = BeautifulSoup(response.text,'html.parser')\n",
    "    type(soup)\n",
    "    \n",
    "    actu = soup.find(\"div\",id=\"blocContenu\")\n",
    "    \n",
    "    # Date & Hour\n",
    "    pre_date = actu.find('ul').findChildren()[0].text\n",
    "    pre_date\n",
    "    \n",
    "    ## Date\n",
    "    deb = pre_date.find(':')\n",
    "    fin = pre_date.find('à')\n",
    "    date = pre_date[deb+1:fin].strip()\n",
    "    print(date)\n",
    "    dates.append(date)\n",
    "    \n",
    "    ## Hour\n",
    "    heure = pre_date[fin+1:].strip()\n",
    "    print(heure)\n",
    "    heures.append(heure)\n",
    "    \n",
    "    ##Descriptions\n",
    "    desc = actu.find(\"p\").text\n",
    "    print(desc)\n",
    "    descs.append(desc)\n",
    "    \n",
    "    \n",
    "print(\" *** Done *** \")"
   ]
  },
  {
   "cell_type": "code",
   "execution_count": 24,
   "metadata": {},
   "outputs": [
    {
     "data": {
      "text/plain": [
       "['Présentation du roman «Une forme de nuit» de Salima Louafa',\n",
       " 'Le Maroc antique du Chellah | Robert CHASTEL',\n",
       " '[ANNULÉ] Projection du Film HADDA de l’artiste Mohamed Abouelouakar',\n",
       " 'Fusion jazz/musiques marocaines en Quintet | Hamza Bennani Smires',\n",
       " '«La poésie dans le sillage de la peinture» | Rencontre autour de la poesie d’Aïssa Ikken']"
      ]
     },
     "execution_count": 24,
     "metadata": {},
     "output_type": "execute_result"
    }
   ],
   "source": [
    "titres"
   ]
  },
  {
   "cell_type": "code",
   "execution_count": 25,
   "metadata": {},
   "outputs": [
    {
     "data": {
      "text/plain": [
       "['http://www.fondationona.ma/fr/nos-activites/presentation-du-roman-une-forme-de-nuit-de-salima-louafa',\n",
       " 'http://www.fondationona.ma/fr/nos-activites/le-maroc-antique-du-chellah-robert-chastel',\n",
       " 'http://www.fondationona.ma/fr/nos-activites/annule-projection-du-film-hadda-de-l-artiste-mohamed-abouelouakar',\n",
       " 'http://www.fondationona.ma/fr/nos-activites/fusion-jazzmusiques-marocaines-en-quintet-hamza-bennani-smires',\n",
       " 'http://www.fondationona.ma/fr/nos-activites/la-poesie-dans-le-sillage-de-la-peinture-rencontre-autour-de-la-poesie-d-aissa-ikken']"
      ]
     },
     "execution_count": 25,
     "metadata": {},
     "output_type": "execute_result"
    }
   ],
   "source": [
    "liens"
   ]
  },
  {
   "cell_type": "code",
   "execution_count": 26,
   "metadata": {
    "scrolled": true
   },
   "outputs": [
    {
     "data": {
      "text/plain": [
       "['Mardi 17 Mars 2020',\n",
       " 'Mercredi 18 Mars 2020',\n",
       " 'Jeudi 19 Mars 2020',\n",
       " 'Vendredi 20 Mars 2020',\n",
       " 'Mardi 24 Mars 2020']"
      ]
     },
     "execution_count": 26,
     "metadata": {},
     "output_type": "execute_result"
    }
   ],
   "source": [
    "dates"
   ]
  },
  {
   "cell_type": "code",
   "execution_count": 27,
   "metadata": {},
   "outputs": [
    {
     "data": {
      "text/plain": [
       "['10h', '19h', '18h', '19h  30min', '18h']"
      ]
     },
     "execution_count": 27,
     "metadata": {},
     "output_type": "execute_result"
    }
   ],
   "source": [
    "heures"
   ]
  },
  {
   "cell_type": "code",
   "execution_count": 28,
   "metadata": {},
   "outputs": [
    {
     "data": {
      "text/plain": [
       "['Salima Louafa est une romancière marocaine née à Rabat en 1981. Après des études de commerce international à Bordeaux et un démarrage de sa carrière professionnelle en entreprise à Paris, elle rentre au Maroc où elle exerce la fonction de responsable des ressources humaines dans une multinationale. Salima Louafa fait également plusieurs incursions dans le journalisme en rédigeant des articles pour le quotidien marocain L’Opinion ainsi que pour le Times of India à New Delhi. En 2015, elle s’installe à Manille, aux Philippines où elle se consacre à sa passion: l’écriture. Chairs d’argile paru aux éditions Afrique Orient en 2017 est un premier roman remarqué, finaliste de plusieurs prix littéraires. Avec Une forme de nuit, elle signe un second roman psychologique, paru cette année chez le même éditeur.\\xa0\\nRésumé du roman Une forme de nuit: Maya a occulté les questions qui l’avaient longtemps torturée. Elle avait renoncé à trouver une réponse et c’était mieux ainsi. Mais soudain un visage, celui d’Amir va la faire sortir du cocon qu’elle s’était fabriquée. Une passion dévorante naît au creux de son ventre, un amour qui ronge et consume. Mais qui est véritablement Amir? Qui est cet homme qui lui fait perdre le nord et la raison? Des zones d’ombre l’entourent, un mystère épais, des doutes, la peur, une multitude de sentiments contradictoires. Maya n’a plus le choix, elle est obligée de faire face à la réalité du secret qu’elle porte et ainsi qu’à cette relation trouble et aliénante qui la lie malgré elle à Amir...\\xa0\\n',\n",
       " 'Les Phéniciens de Carthage ou Puniques fondèrent Sala au 8ème siècle av.J.-C,un port et une cité florissante. Ils introduisirent l’olivier, la vigne...\\n\\u200bSala commerçait avec les grands ports phéniciens de LIXUS et de GADES (Cadix). À la 3ème Guerre Punique en 146 av. J.-C. Carthage fut détruite et Sala phénicienne devint Sala Colonia romaine, administrée par les derniers rois berbères de Maurétanie, Juba II et son fils Ptolémée. Une Antiquité méditerranéenne de 15 siècles pour Rabat, une ville atlantique... À découvrir.\\n',\n",
       " 'Cette projection de film prévue le 19/03/2020 à la VDAR est annulée pour des raisons indépendantes de notre volonté.\\nEn marge de l’exposition retrospective «Deconstructions» de Mohamed Abouelouakar, son film «HADDA» sera projeté et suivi d’un débat.\\n',\n",
       " 'Le trompettiste et compositeur marocain nous présente son premier album de compositions originales intitulé «l’ivresse de la métamorphose». Sédiments de musiques marocaines teintés de jazz moderne, cet album nous invite dans l’intimité du musicien, au cœur d’une quête musicale et esthétique passionnée, entre tradition et renouveau, où le oud traditionnel côtoie naturellement le son chaud du bugle. Enveloppées de la délicatesse des accords du piano, les mélodies nous emportent, soutenues par un groove basse/batterie redoutable ou quand les musiques marocaines flirtent avec le jazz!\\n',\n",
       " 'Ce fut l’intitulé de l’exposition rétrospective organisée pour les quarante ans de production de l’artiste peintre, sculpteur, Aïisa Ikken par la Fondation ONA, à la Villa des arts de Rabat du 7 février au 4 avril 2008.Décédé le 18 février 2016, sous le même intitulé, la Fondation ONA honore en ce mercredi 25 mars l’artiste-poète, romancier, essayiste, à travers la lecture de poèmes de ses recueils de poésie : Gerçures de pierre, l’automne infidèle, Itinéraires recomposés, Reflets de l’absence. « Selon l’état d’âme, j’écris ou je peins. Parfois le pictural est en suspens comme un drap qui voile le mot, lorsqu’un geste, un rayon de soleil a une emprise sur moi, je me jette dans les bras de mon expression poétique. Poésie et peinture finissent par se rencontrer dans mon œuvre.»\\nSoukaïna, son épouse, accompagnée du musicologue… Rachid Toumi, de Nabila, font retentir la poésie de l’émotion, d’errance, d’Aïssa Ikken.\\n']"
      ]
     },
     "execution_count": 28,
     "metadata": {},
     "output_type": "execute_result"
    }
   ],
   "source": [
    "descs"
   ]
  },
  {
   "cell_type": "markdown",
   "metadata": {},
   "source": [
    "## Combine all the data"
   ]
  },
  {
   "cell_type": "code",
   "execution_count": 31,
   "metadata": {},
   "outputs": [],
   "source": [
    "prog = []\n",
    "for i,j,k,l,m in zip(titres,dates,heures,liens,descs):\n",
    "    #Ajouter le lieu\n",
    "    t = (i,j,k,l,m,\"Villa des arts\")\n",
    "    prog.append(t)"
   ]
  },
  {
   "cell_type": "code",
   "execution_count": 32,
   "metadata": {},
   "outputs": [
    {
     "data": {
      "text/plain": [
       "[('Présentation du roman «Une forme de nuit» de Salima Louafa',\n",
       "  'Mardi 17 Mars 2020',\n",
       "  '10h',\n",
       "  'http://www.fondationona.ma/fr/nos-activites/presentation-du-roman-une-forme-de-nuit-de-salima-louafa',\n",
       "  'Salima Louafa est une romancière marocaine née à Rabat en 1981. Après des études de commerce international à Bordeaux et un démarrage de sa carrière professionnelle en entreprise à Paris, elle rentre au Maroc où elle exerce la fonction de responsable des ressources humaines dans une multinationale. Salima Louafa fait également plusieurs incursions dans le journalisme en rédigeant des articles pour le quotidien marocain L’Opinion ainsi que pour le Times of India à New Delhi. En 2015, elle s’installe à Manille, aux Philippines où elle se consacre à sa passion: l’écriture. Chairs d’argile paru aux éditions Afrique Orient en 2017 est un premier roman remarqué, finaliste de plusieurs prix littéraires. Avec Une forme de nuit, elle signe un second roman psychologique, paru cette année chez le même éditeur.\\xa0\\nRésumé du roman Une forme de nuit: Maya a occulté les questions qui l’avaient longtemps torturée. Elle avait renoncé à trouver une réponse et c’était mieux ainsi. Mais soudain un visage, celui d’Amir va la faire sortir du cocon qu’elle s’était fabriquée. Une passion dévorante naît au creux de son ventre, un amour qui ronge et consume. Mais qui est véritablement Amir? Qui est cet homme qui lui fait perdre le nord et la raison? Des zones d’ombre l’entourent, un mystère épais, des doutes, la peur, une multitude de sentiments contradictoires. Maya n’a plus le choix, elle est obligée de faire face à la réalité du secret qu’elle porte et ainsi qu’à cette relation trouble et aliénante qui la lie malgré elle à Amir...\\xa0\\n',\n",
       "  'Villa des arts'),\n",
       " ('Le Maroc antique du Chellah | Robert CHASTEL',\n",
       "  'Mercredi 18 Mars 2020',\n",
       "  '19h',\n",
       "  'http://www.fondationona.ma/fr/nos-activites/le-maroc-antique-du-chellah-robert-chastel',\n",
       "  'Les Phéniciens de Carthage ou Puniques fondèrent Sala au 8ème siècle av.J.-C,un port et une cité florissante. Ils introduisirent l’olivier, la vigne...\\n\\u200bSala commerçait avec les grands ports phéniciens de LIXUS et de GADES (Cadix). À la 3ème Guerre Punique en 146 av. J.-C. Carthage fut détruite et Sala phénicienne devint Sala Colonia romaine, administrée par les derniers rois berbères de Maurétanie, Juba II et son fils Ptolémée. Une Antiquité méditerranéenne de 15 siècles pour Rabat, une ville atlantique... À découvrir.\\n',\n",
       "  'Villa des arts'),\n",
       " ('[ANNULÉ] Projection du Film HADDA de l’artiste Mohamed Abouelouakar',\n",
       "  'Jeudi 19 Mars 2020',\n",
       "  '18h',\n",
       "  'http://www.fondationona.ma/fr/nos-activites/annule-projection-du-film-hadda-de-l-artiste-mohamed-abouelouakar',\n",
       "  'Cette projection de film prévue le 19/03/2020 à la VDAR est annulée pour des raisons indépendantes de notre volonté.\\nEn marge de l’exposition retrospective «Deconstructions» de Mohamed Abouelouakar, son film «HADDA» sera projeté et suivi d’un débat.\\n',\n",
       "  'Villa des arts'),\n",
       " ('Fusion jazz/musiques marocaines en Quintet | Hamza Bennani Smires',\n",
       "  'Vendredi 20 Mars 2020',\n",
       "  '19h  30min',\n",
       "  'http://www.fondationona.ma/fr/nos-activites/fusion-jazzmusiques-marocaines-en-quintet-hamza-bennani-smires',\n",
       "  'Le trompettiste et compositeur marocain nous présente son premier album de compositions originales intitulé «l’ivresse de la métamorphose». Sédiments de musiques marocaines teintés de jazz moderne, cet album nous invite dans l’intimité du musicien, au cœur d’une quête musicale et esthétique passionnée, entre tradition et renouveau, où le oud traditionnel côtoie naturellement le son chaud du bugle. Enveloppées de la délicatesse des accords du piano, les mélodies nous emportent, soutenues par un groove basse/batterie redoutable ou quand les musiques marocaines flirtent avec le jazz!\\n',\n",
       "  'Villa des arts'),\n",
       " ('«La poésie dans le sillage de la peinture» | Rencontre autour de la poesie d’Aïssa Ikken',\n",
       "  'Mardi 24 Mars 2020',\n",
       "  '18h',\n",
       "  'http://www.fondationona.ma/fr/nos-activites/la-poesie-dans-le-sillage-de-la-peinture-rencontre-autour-de-la-poesie-d-aissa-ikken',\n",
       "  'Ce fut l’intitulé de l’exposition rétrospective organisée pour les quarante ans de production de l’artiste peintre, sculpteur, Aïisa Ikken par la Fondation ONA, à la Villa des arts de Rabat du 7 février au 4 avril 2008.Décédé le 18 février 2016, sous le même intitulé, la Fondation ONA honore en ce mercredi 25 mars l’artiste-poète, romancier, essayiste, à travers la lecture de poèmes de ses recueils de poésie : Gerçures de pierre, l’automne infidèle, Itinéraires recomposés, Reflets de l’absence. « Selon l’état d’âme, j’écris ou je peins. Parfois le pictural est en suspens comme un drap qui voile le mot, lorsqu’un geste, un rayon de soleil a une emprise sur moi, je me jette dans les bras de mon expression poétique. Poésie et peinture finissent par se rencontrer dans mon œuvre.»\\nSoukaïna, son épouse, accompagnée du musicologue… Rachid Toumi, de Nabila, font retentir la poésie de l’émotion, d’errance, d’Aïssa Ikken.\\n',\n",
       "  'Villa des arts')]"
      ]
     },
     "execution_count": 32,
     "metadata": {},
     "output_type": "execute_result"
    }
   ],
   "source": [
    "prog"
   ]
  },
  {
   "cell_type": "code",
   "execution_count": null,
   "metadata": {},
   "outputs": [],
   "source": []
  }
 ],
 "metadata": {
  "kernelspec": {
   "display_name": "Python 3",
   "language": "python",
   "name": "python3"
  },
  "language_info": {
   "codemirror_mode": {
    "name": "ipython",
    "version": 3
   },
   "file_extension": ".py",
   "mimetype": "text/x-python",
   "name": "python",
   "nbconvert_exporter": "python",
   "pygments_lexer": "ipython3",
   "version": "3.8.2"
  }
 },
 "nbformat": 4,
 "nbformat_minor": 4
}
