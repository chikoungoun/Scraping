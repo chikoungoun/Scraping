{
 "cells": [
  {
   "cell_type": "markdown",
   "metadata": {},
   "source": [
    "# Scraping the Villa des arts website"
   ]
  },
  {
   "cell_type": "code",
   "execution_count": 1,
   "metadata": {},
   "outputs": [
    {
     "data": {
      "text/plain": [
       "<Response [200]>"
      ]
     },
     "execution_count": 1,
     "metadata": {},
     "output_type": "execute_result"
    }
   ],
   "source": [
    "import requests\n",
    "\n",
    "url = 'http://www.fondationona.ma/fr/'\n",
    "response = requests.get(url)\n",
    "response"
   ]
  },
  {
   "cell_type": "code",
   "execution_count": 2,
   "metadata": {},
   "outputs": [
    {
     "data": {
      "text/plain": [
       "bs4.BeautifulSoup"
      ]
     },
     "execution_count": 2,
     "metadata": {},
     "output_type": "execute_result"
    }
   ],
   "source": [
    "from bs4 import BeautifulSoup\n",
    "\n",
    "soup = BeautifulSoup(response.text,'html.parser')\n",
    "type(soup)"
   ]
  },
  {
   "cell_type": "code",
   "execution_count": 3,
   "metadata": {},
   "outputs": [],
   "source": [
    "actu = soup.find(\"div\",class_=\"col3\")"
   ]
  },
  {
   "cell_type": "code",
   "execution_count": 6,
   "metadata": {},
   "outputs": [],
   "source": [
    "ul = actu.find(\"ul\")"
   ]
  },
  {
   "cell_type": "code",
   "execution_count": 8,
   "metadata": {},
   "outputs": [
    {
     "name": "stdout",
     "output_type": "stream",
     "text": [
      "<li>\n",
      "<a href=\"/fr/nos-activites/le-maroc-antique-du-chellah-robert-chastel\">Le Maroc antique du Chellah | Robert CHASTEL</a> - <span><span class=\"date-display-single\">Mercredi 18 Mars 2020 19:00</span></span> </li>\n",
      "<li>\n",
      "<a href=\"/fr/nos-activites/projection-du-film-hadda-de-l-artiste-mohamed-abouelouakar\">Projection du Film HADDA de l’artiste Mohamed Abouelouakar</a> - <span><span class=\"date-display-single\">Jeudi 19 Mars 2020 18:00</span></span> </li>\n",
      "<li>\n",
      "<a href=\"/fr/nos-activites/fusion-jazzmusiques-marocaines-en-quintet-hamza-bennani-smires\">Fusion jazz/musiques marocaines en Quintet | Hamza Bennani Smires</a> - <span><span class=\"date-display-single\">Vendredi 20 Mars 2020 19:30</span></span> </li>\n",
      "<li>\n",
      "<a href=\"/fr/nos-activites/la-poesie-dans-le-sillage-de-la-peinture-rencontre-autour-de-la-poesie-d-aissa-ikken\">«La poésie dans le sillage de la peinture» | Rencontre autour de la poesie d’Aïssa Ikken</a> - <span><span class=\"date-display-single\">Mardi 24 Mars 2020 18:00</span></span> </li>\n",
      "<li>\n",
      "<a href=\"/fr/nos-activites/le-negatif-en-psychanalyse-et-dans-la-culture-seminaire-de-psychanalyse-avec-dr-rouc-1\">«Le négatif en psychanalyse et dans la culture» | Séminaire de psychanalyse avec Dr Rouchdi CHAMCHAM</a> - <span><span class=\"date-display-single\">Mercredi 25 Mars 2020 19:00</span></span> </li>\n"
     ]
    }
   ],
   "source": [
    "for i in ul.find_all(\"li\"):\n",
    "    print(i)"
   ]
  },
  {
   "cell_type": "code",
   "execution_count": null,
   "metadata": {},
   "outputs": [],
   "source": []
  }
 ],
 "metadata": {
  "kernelspec": {
   "display_name": "Python 3",
   "language": "python",
   "name": "python3"
  },
  "language_info": {
   "codemirror_mode": {
    "name": "ipython",
    "version": 3
   },
   "file_extension": ".py",
   "mimetype": "text/x-python",
   "name": "python",
   "nbconvert_exporter": "python",
   "pygments_lexer": "ipython3",
   "version": "3.8.2"
  }
 },
 "nbformat": 4,
 "nbformat_minor": 4
}
