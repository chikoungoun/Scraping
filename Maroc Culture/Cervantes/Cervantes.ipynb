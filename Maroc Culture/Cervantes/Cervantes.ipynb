{
 "cells": [
  {
   "cell_type": "markdown",
   "metadata": {},
   "source": [
    "# Scraping des évènements : Institut Cervantes"
   ]
  },
  {
   "cell_type": "code",
   "execution_count": 1,
   "metadata": {},
   "outputs": [],
   "source": [
    "from selenium import webdriver"
   ]
  },
  {
   "cell_type": "code",
   "execution_count": 2,
   "metadata": {},
   "outputs": [],
   "source": [
    "driver = webdriver.Chrome(\"C:/webdrivers/chromedriver.exe\")"
   ]
  },
  {
   "cell_type": "code",
   "execution_count": 3,
   "metadata": {},
   "outputs": [],
   "source": [
    "driver.get('https://rabat.cervantes.es/fr/culture_espagnole/activites_culturelles_espagnoles.shtm')\n",
    "page = driver.page_source"
   ]
  },
  {
   "cell_type": "code",
   "execution_count": 4,
   "metadata": {},
   "outputs": [
    {
     "data": {
      "text/plain": [
       "bs4.BeautifulSoup"
      ]
     },
     "execution_count": 4,
     "metadata": {},
     "output_type": "execute_result"
    }
   ],
   "source": [
    "from bs4 import BeautifulSoup\n",
    "\n",
    "soup = BeautifulSoup(page,'html.parser')\n",
    "type(soup)"
   ]
  },
  {
   "cell_type": "code",
   "execution_count": 5,
   "metadata": {},
   "outputs": [
    {
     "data": {
      "text/plain": [
       "<html lang=\"fr\" xml:lang=\"fr\" xmlns=\"https://www.w3.org/1999/xhtml\"><head>\n",
       "<title>Programmation culturell du mois. Instituto Cervantes de Rabat.</title>\n",
       "<meta content=\"text/html; charset=utf-8\" http-equiv=\"Content-Type\"/>\n",
       "<meta content=\"1 days\" name=\"revisit\"/>\n",
       "<meta content=\"ALL\" name=\"robots\"/>\n",
       "<meta content=\"Instituto Cervantes\" name=\"author\"/>\n",
       "<meta content=\"text/css\" http-equiv=\"Content-style-Type\"/>\n",
       "<meta content=\"text/javascript\" http-equiv=\"Content-script-Type\"/>\n",
       "<meta content=\"IE=edge\" http-equiv=\"X-UA-Compatible\"/>\n",
       "<link href=\"https://comunes.cervantes.es/1_STYLE/estilosportal.css\" rel=\"stylesheet\" type=\"text/css\"/>\n",
       "<link href=\"https://comunes.cervantes.es/1_STYLE/html.css\" rel=\"stylesheet\" type=\"text/css\"/>\n",
       "<link href=\"https://comunes.cervantes.es/1_STYLE/cabeceras.css\" rel=\"stylesheet\" type=\"text/css\"/>\n",
       "<link href=\"https://comunes.cervantes.es/1_STYLE/pies.css\" rel=\"stylesheet\" type=\"text/css\"/>\n",
       "<link href=\"https://comunes.cervantes.es/1_STYLE/menu_navegacion.css\" rel=\"stylesheet\" type=\"text/css\"/>\n",
       "<link href=\"https://comunes.cervantes.es/1_STYLE/Pagina_iframe.css\" rel=\"stylesheet\" type=\"text/css\"/>\n",
       "<link href=\"https://comunes.cervantes.es/1_STYLE/Menu_vertical.css\" rel=\"stylesheet\" type=\"text/css\"/>\n",
       "<link href=\"https://comunes.cervantes.es/1_STYLE/Pagina_Include.css\" rel=\"stylesheet\" type=\"text/css\"/>\n",
       "<link href=\"https://comunes.cervantes.es/1_STYLE/imagenes/favico.ico\" rel=\"shortcut icon\" type=\"image/x-icon\"/>\n",
       "<script async=\"\" src=\"//www.google-analytics.com/analytics.js\"></script><script src=\"https://comunes.cervantes.es/js/funciones.js\" type=\"text/javascript\"></script>\n",
       "<script src=\"https://comunes.cervantes.es/js/moverCapasMarcos.js\" type=\"text/javascript\"></script>\n",
       "<script src=\"https://comunes.cervantes.es/js/funciones_generales.js\" type=\"text/javascript\"></script>\n",
       "<script src=\"https://comunes.cervantes.es/js/video.js\" type=\"text/javascript\"></script>\n",
       "<script src=\"https://comunes.cervantes.es/js/twitterFetcher_v10_min.js\" type=\"text/javascript\"></script>\n",
       "<script src=\"https://comunes.cervantes.es/js/transmenuC.js\" type=\"text/javascript\"></script>\n",
       "<script type=\"text/javascript\">\n",
       "function MM_openBrWindow(theURL,winName,features)\n",
       "{ window.open(theURL,winName,features);}\n",
       "function wtLogin(where){window.open(where);}\n",
       "function init() {\n",
       "if (TransMenu.isSupported()) {\n",
       "TransMenu.initialize();\n",
       "}}</script>\n",
       "<script type=\"text/javascript\">\n",
       "var AnchoCapas;\n",
       "var NumDivisiones;\n",
       "var valDivision;\n",
       "var AnchoPagina;\n",
       "var entreCapas=3;\n",
       "var intEntreCalle=10;\n",
       "var intMargenIzq=2;\n",
       "NumDivisiones=parseInt('4')\n",
       "strAnchoColumnas='136;455;157;215'\n",
       "ConfigPagina()\n",
       "CreaArrPos()\n",
       "</script>\n",
       "<!--Insertamos la huella por código-->\n",
       "<!--Huella avanzada-->\n",
       "<script>\n",
       "(function(i,s,o,g,r,a,m){i['GoogleAnalyticsObject']=r;i[r]=i[r]||function(){\n",
       "(i[r].q=i[r].q||[]).push(arguments)},i[r].l=1*new Date();a=s.createElement(o),\n",
       "m=s.getElementsByTagName(o)[0];a.async=1;a.src=g;m.parentNode.insertBefore(a,m)\n",
       " })(window,document,'script','//www.google-analytics.com/analytics.js','ga');\n",
       " ga('create', 'UA-71118623-5', 'auto');\n",
       " ga('set', 'anonymizeIp', true);\n",
       "ga('send', 'pageview');\n",
       "</script>\n",
       "</head>\n",
       "<body onload=\"redimIMG(); RedimCapas(); TargetBlank(); init(); focus();cambiaenlaces()\">\n",
       "<!-- CONTENIDO DE CABECERA -->\n",
       "<div style=\"z-index:1000; width: 1000px;\">\n",
       "<!-- COMIENZO DEL CONTENIDO DE LA CABECERA   -->\n",
       "<div id=\"ContenidoCabecera\" style=\"top: 0px; z-index: 1000; position: absolute;\">\n",
       "<div id=\"cab_ic_1024\">\n",
       "<p> </p></div>\n",
       "<div id=\"cabecera\">\n",
       "<p><a href=\"/fr/default.shtm\" title=\"Ir a página principal\">\n",
       "<img alt=\"Instituto Cervantes. Centre de Rabat\" class=\"centro\" src=\"/imagenes/image/cabecera/barra_rabat.gif\" style=\"border-width: 0px; border-style: initial; border-color: initial; display: inline;\"/></a> <a href=\"https://www.cervantes.es/\" title=\"Instituto Cervantes\">\n",
       "<img alt=\"Page d’accueil de l’Instituto Cervantes\" class=\"logo\" src=\"/imagenes/image/cabecera/logoic.gif\" style=\"height: 39px; width: 202px; display: inline;\"/></a></p>\n",
       "<ul>\n",
       "<li><a href=\"/fr/a_propos_de_nous_centre_espagnol.htm\" title=\"Information générale sur l’Instituto Cervantes\">A PROPOS DE NOUS</a> </li>\n",
       "<li><a ?=\"\" href=\"/website/mapa_web_site_fr.htm\" title=\"Plan du site\">PLAN DU SITE</a> </li>\n",
       "<li><a href=\"/fr/demande_information_espagnol.shtm\" title=\"Abonnement au bulletin d’information\">S’INSCRIRE</a> </li>\n",
       "<li><a href=\"/fr/cours_espagnol/etudiants_espagnol/acces_etudiants_espagnol.htm\" id=\"alumnos\" title=\"Formulaire d’accès pour les étudiants\">ACCÈS ÉLÈVE</a> </li>\n",
       "<li><a href=\"/fr/recherche/recherche.htm\" id=\"busqueda\" title=\"Formulaire de recherche\">RECHERCHER</a> </li>\n",
       "</ul>\n",
       "<div id=\"buscador\">\n",
       "<p><a class=\"cierre\" onclick=\"cerrar_capa('buscador');\" style=\"CURSOR: pointer\">[x]</a></p>\n",
       "<form action=\"\" id=\"form525\" onsubmit=\"return buscar()\">\n",
       "<p>\n",
       "<label for=\"cadena_busqueda\">Chercher: </label>\n",
       "<input id=\"cadena_busqueda\" name=\"cadena_busqueda\" onfocus=\"borrar('cadena_busqueda')\" value=\"chercher\"/></p>\n",
       "<p>\n",
       "<input class=\"boton_formulario\" onclick=\"return buscar()\" type=\"button\" value=\"ENVOYER\"/></p>\n",
       "</form></div></div>\n",
       "<div id=\"menu\"><ul>\n",
       "<li><a href=\"/fr/culture_espagnole/culture_espagnole.htm\" id=\"elmenu1\">Activités culturelles</a></li>\n",
       "<li><a href=\"/fr/cours_espagnol/cours_espagnol.htm\" id=\"elmenu2\">Cours d´espagnol</a></li>\n",
       "<li><a href=\"/fr/diplomes_espagnol_dele/dele_diplomes_espagnol.htm\" id=\"elmenu3\">DELE</a></li>\n",
       "<li><a href=\"/fr/bibliotheque_espagnole/bibliotheque_espagnole.htm\" id=\"elmenu4\">Bibliothèque Pérez Galdós</a></li>\n",
       "<li><a href=\"/fr/cours_espagnol/professeurs_espagnol/professeurs_espagnol.htm\" id=\"elmenu5\">Formation professeurs</a></li>\n",
       "</ul></div>\n",
       "<div id=\"miga\"><a href=\"/fr/default.shtm\">Accueil</a> &gt; <a href=\"/fr/culture_espagnole/culture_espagnole.htm\">Activités culturelles</a> &gt; Programmation de ce mois</div>\n",
       "<div id=\"postmiga\"> </div>\n",
       "<script type=\"text/javascript\">\n",
       "//<![CDATA[\n",
       "function buscar(){\n",
       " if (document.getElementById(\"form525\").cadena_busqueda.value==\"\"){alert(\"Debe introducir la cadena a buscar\");document.getElementById(\"form525\").cadena_busqueda.focus();return false;}\n",
       " else{    \n",
       "          \n",
       "               parent.top.location.href=\"/fr/recherche/recherche.htm?query=\"+document.getElementById(\"form525\").cadena_busqueda.value\n",
       "          \n",
       "    }\n",
       " }\n",
       "function escuchar_cabecera() {\n",
       "   if (document.addEventListener) {\n",
       "      document.getElementById('busqueda').addEventListener('click',desplegar_buscador, 'false');\n",
       "   } else {\n",
       "      document.getElementById('busqueda').attachEvent('onclick',desplegar_buscador); \n",
       "   \n",
       "   }\n",
       "}\n",
       "function desplegar_buscador(evento) {\n",
       "  if (document.addEventListener) {\n",
       "     document.getElementById('buscador').setAttribute('style','display:block');\n",
       "       evento.preventDefault();\n",
       "  } else {\n",
       "    document.getElementById('buscador').style.display = \"block\";\n",
       "       return false; \n",
       "  }\n",
       "}\n",
       "function cerrar_capa(x){\n",
       " if (document.addEventListener) {\n",
       "  document.getElementById(x).setAttribute('style','display:none');\n",
       " } else {\n",
       "  document.getElementById(x).style.display = \"none\";\n",
       "  }\n",
       "}\n",
       "function borrar(e){\n",
       "  document.getElementById(e).value = '';\n",
       "}\n",
       "escuchar_cabecera();\n",
       "//]]>\n",
       "</script>\n",
       "</div>\n",
       "</div>\n",
       "<!--======================INICIO MARCO================================-->\n",
       "<div id=\"CapaNum0\" style=\"float: left; left: 2px; width: 136px; top: 129px; position: absolute;\">\n",
       "<!--1|136|1|1|1|34946-->\n",
       "<!--COLUM_INTERNAS | ANCHO_COLUM_INTERNAS | COLUMNAS_OCUPADAS | COLUMNA_PLANTILLA | ORDEN_COL_PLAN | ID_SECCION-->\n",
       "<!--Inicio Seccion CapaNum0-->\n",
       "<div id=\"CapaNum0_Columna_0\" style=\"float:left; width:136px;\">\n",
       "<!--Inicio columna CapaNum0-->\n",
       "<!--**********************INICIO CAPA********************************-->\n",
       "<div id=\"CapaNum0_Objeto_1\"><!--47993-->\n",
       "<div>\n",
       "<p style=\"BORDER-BOTTOM: rgb(71,64,108) 1px solid; PADDING-BOTTOM: 3px; PADDING-LEFT: 5px; FONT-FAMILY: Arial,Helvetica,sans-serif; MARGIN-BOTTOM: 9px\">Français<a href=\"/es/cultura_espanol/actividades_cultura_espanol.htm\"> / Español</a></p></div></div>\n",
       "<!--**************************FIN CAPA*******************************-->\n",
       "<!--**********************INICIO CAPA********************************-->\n",
       "<div id=\"CapaNum0_Objeto_2\"><!--41066-->\n",
       "<div class=\"menu_vertical\">\n",
       "<div class=\"cabecera_menu_vertical\">Activités Culturelles* </div>\n",
       "<div class=\"item_menu_vertical\"><a class=\"item_menu_vertical_a\" href=\"/fr/culture_espagnole/culture_espagnole.htm\" title=\"Information générale\">Information générale</a></div>\n",
       "<div class=\"item_menu_vertical\"><a class=\"item_menu_vertical_a\" href=\"/fr/culture_espagnole/activites_culturelles_espagnoles.shtm\" title=\"Programmation du mois\">Programmation du mois</a></div>\n",
       "<div class=\"item_menu_vertical\"><a class=\"item_menu_vertical_a\" href=\"/fr/culture_espagnole/prochaines_activites_culturelles.shtm\" title=\"Prochaines activités\">Prochaines activités</a></div>\n",
       "<div class=\"item_menu_vertical\"><a class=\"item_menu_vertical_a\" href=\"/fr/culture_espagnole/calendrier_culturel_espagnol.htm\" title=\"Calendrier culturel\">Calendrier culturel</a></div>\n",
       "<div class=\"item_menu_vertical\"><a class=\"item_menu_vertical_a\" href=\"/fr/culture_espagnole/historique_activites_culturelles.shtm\" title=\"Activités antérieures\">Activités antérieures</a></div>\n",
       "<div class=\"subitem_menu_vertical\"><a class=\"subitem_menu_vertical_a\" href=\"/fr/culture_espagnole/historique_activites_culturelles_2018.htm\" title=\"2018\">2018</a></div>\n",
       "<div class=\"subitem_menu_vertical\"><a class=\"subitem_menu_vertical_a\" href=\"/fr/culture_espagnole/historique_activites_culturelles_2017.htm\" title=\"2017\">2017</a></div>\n",
       "<div class=\"subitem_menu_vertical\"><a class=\"subitem_menu_vertical_a\" href=\"/fr/culture_espagnole/historique_activites_culturelles_2016.htm\" title=\"2016\">2016</a></div>\n",
       "<div class=\"subitem_menu_vertical\"><a class=\"subitem_menu_vertical_a\" href=\"/fr/culture_espagnole/historique_activites_culturelles_2015.htm\" title=\"2015\">2015</a></div>\n",
       "<div class=\"subitem_menu_vertical\"><a class=\"subitem_menu_vertical_a\" href=\"/fr/culture_espagnole/historique_activites_culturelles_2014.htm\" title=\"2014\">2014</a></div>\n",
       "<div class=\"subitem_menu_vertical\"><a class=\"subitem_menu_vertical_a\" href=\"/fr/culture_espagnole/historique_activites_culturelles_2013.htm\" title=\"2013\">2013</a></div>\n",
       "<div class=\"subitem_menu_vertical\"><a class=\"subitem_menu_vertical_a\" href=\"/fr/culture_espagnole/historique_activites_culturelles_2012.htm\" title=\"2012\">2012</a></div>\n",
       "<div class=\"subitem_menu_vertical\"><a class=\"subitem_menu_vertical_a\" href=\"/fr/culture_espagnole/historique_activities_culturelles_2011.htm\" title=\"2011\">2011</a></div>\n",
       "<div class=\"subitem_menu_vertical\"><a class=\"subitem_menu_vertical_a\" href=\"/fr/culture_espagnole/historique_activities_culturelles_2010.htm\" title=\"2010\">2010</a></div>\n",
       "<div class=\"subitem_menu_vertical\"><a class=\"subitem_menu_vertical_a\" href=\"/fr/culture_espagnole/historique_activities_culturelles_2009.htm\" title=\"2009\">2009</a></div>\n",
       "<div class=\"subitem_menu_vertical\"><a class=\"subitem_menu_vertical_a\" href=\"/fr/culture_espagnole/historique_activites_culturelles_2008.htm\" title=\"2008\">2008</a></div>\n",
       "<div class=\"subitem_menu_vertical\"><a class=\"subitem_menu_vertical_a\" href=\"/fr/culture_espagnole/historique_activites_culturelles_2007.htm\" title=\"2007\">2007</a></div>\n",
       "<div class=\"subitem_menu_vertical\"><a class=\"subitem_menu_vertical_a\" href=\"/fr/culture_espagnole/historique_activites_culturelles_2006.htm\" title=\"2006\">2006</a></div>\n",
       "<div class=\"subitem_menu_vertical\"><a class=\"subitem_menu_vertical_a\" href=\"/fr/culture_espagnole/historique_activites_culturelles_2005.htm\" title=\"2005\">2005</a></div>\n",
       "<div class=\"subitem_menu_vertical\"><a class=\"subitem_menu_vertical_a\" href=\"/fr/culture_espagnole/historique_activites_culturelles_2004.htm\" title=\"2004\">2004</a></div> </div></div>\n",
       "<!--**************************FIN CAPA*******************************-->\n",
       "<!--fin columna-->\n",
       "</div>\n",
       "<!--fin Seccion CapaNum1-->\n",
       "</div>\n",
       "<!--=================FIN MARCO========================================-->\n",
       "<!--======================INICIO MARCO================================-->\n",
       "<div id=\"CapaNum1\" style=\"float: left; left: 148px; width: 455px; top: 129px; position: absolute;\">\n",
       "<!--1|455|1|2|1|34947-->\n",
       "<!--COLUM_INTERNAS | ANCHO_COLUM_INTERNAS | COLUMNAS_OCUPADAS | COLUMNA_PLANTILLA | ORDEN_COL_PLAN | ID_SECCION-->\n",
       "<!--Inicio Seccion CapaNum1-->\n",
       "<div id=\"CapaNum1_Columna_0\" style=\"float:left; width:455px;\">\n",
       "<!--Inicio columna CapaNum1-->\n",
       "<!--**********************INICIO CAPA********************************-->\n",
       "<div id=\"CapaNum1_Objeto_1\"><!--158636-->\n",
       "<iframe frameborder=\"0\" height=\"1500\" id=\"Hermes_mes_frances\" name=\"Hermes_mes_frances\" scrolling=\"auto\" src=\"https://gestionportales.cervantes.es/comunes/hermes/culturames_gestor.asp?CodSitio=55&amp;CodIdioma=130&amp;TipoActividades=1\" width=\"100%\"></iframe>\n",
       "</div>\n",
       "<!--**************************FIN CAPA*******************************-->\n",
       "<!--fin columna-->\n",
       "</div>\n",
       "<!--fin Seccion CapaNum2-->\n",
       "</div>\n",
       "<!--=================FIN MARCO========================================-->\n",
       "<!--======================INICIO MARCO================================-->\n",
       "<div id=\"CapaNum2\" style=\"float: left; left: 613px; width: 157px; top: 129px; position: absolute;\">\n",
       "<!--1|157|1|3|1|34948-->\n",
       "<!--COLUM_INTERNAS | ANCHO_COLUM_INTERNAS | COLUMNAS_OCUPADAS | COLUMNA_PLANTILLA | ORDEN_COL_PLAN | ID_SECCION-->\n",
       "<!--Inicio Seccion CapaNum2-->\n",
       "<div id=\"CapaNum2_Columna_0\" style=\"float:left; width:157px;\">\n",
       "<!--Inicio columna CapaNum2-->\n",
       "<!--fin columna-->\n",
       "</div>\n",
       "<!--fin Seccion CapaNum3-->\n",
       "</div>\n",
       "<!--=================FIN MARCO========================================-->\n",
       "<!--======================INICIO MARCO================================-->\n",
       "<div id=\"CapaNum3\" style=\"float: left; left: 780px; width: 215px; top: 129px; position: absolute;\">\n",
       "<!--1|215|1|4|1|38013-->\n",
       "<!--COLUM_INTERNAS | ANCHO_COLUM_INTERNAS | COLUMNAS_OCUPADAS | COLUMNA_PLANTILLA | ORDEN_COL_PLAN | ID_SECCION-->\n",
       "<!--Inicio Seccion CapaNum3-->\n",
       "<div id=\"CapaNum3_Columna_0\" style=\"float:left; width:215px;\">\n",
       "<!--Inicio columna CapaNum3-->\n",
       "<!--**********************INICIO CAPA********************************-->\n",
       "<div id=\"CapaNum3_Objeto_1\"><!--32868-->\n",
       "<div id=\"CapaNum0_Objeto_1-Promo886\"><!--11973-->\n",
       "<div class=\"img_vert_sep2\">\n",
       "</div>\n",
       "</div>\n",
       "<div id=\"CapaNum0_Objeto_2-Promo886\"><!--12975-->\n",
       "<div class=\"img_vert_sep2\">\n",
       "</div>\n",
       "</div>\n",
       "<div id=\"CapaNum0_Objeto_3-Promo886\"><!--21095-->\n",
       "<div class=\"img_vert_sep2\">\n",
       "</div>\n",
       "</div>\n",
       "<div id=\"CapaNum0_Objeto_4-Promo886\"><!--19914-->\n",
       "<div class=\"img_vert_sep2\">\n",
       "</div>\n",
       "</div>\n",
       "<div id=\"CapaNum0_Objeto_5-Promo886\"><!--16511-->\n",
       "<div class=\"img_vert_sep2\">\n",
       "</div>\n",
       "</div>\n",
       "<div id=\"CapaNum0_Objeto_6-Promo886\"><!--18792-->\n",
       "<div class=\"img_vert_sep2\">\n",
       "<a href=\"https://siele.org/\" id=\"enlace18792_0_e44_1_target\"><img alt=\"SIELE\" src=\"https://www.cervantes.es/imagenes/Image/comunes/promo/SIELE_206.gif\" style=\"display: inline;\" title=\"Acceso al sitio del SIELE  (abre en ventana nueva)\"/></a>\n",
       "<div class=\"hr\"><div class=\"none\"><hr/></div></div>\n",
       "<a href=\"https://examenes.cervantes.es/es/presentacion/nacionalidad\" id=\"enlace18792_1_e46_1_target\"><img alt=\"Pruebas para la obtención de la nacionalidad española \" src=\"https://www.cervantes.es/imagenes/Image/comunes/promo/pruebas_de_nacionalidad_espanola_2019.png\" style=\"display: inline;\" title=\"Pulse para acceder al sitio de información sobre las pruebas para la obtención de la nacionalidad española  (abre en ventana nueva)\"/></a>\n",
       "<div class=\"hr\"><div class=\"none\"><hr/></div></div>\n",
       "<a href=\"https://ave.cervantes.es/pruebe-los-cursos-de-espanol-en-linea-ave-global?utm_source=portales_ic&amp;utm_medium=promo_columna_ic&amp;utm_campaign=demoave-2019\" id=\"enlace18792_3_e50_1_target\"><img alt=\"AVE Global. Español. Donde quieras. Cuando quieras\" src=\"https://www.cervantes.es/imagenes/Image/comunes/promo/ave_global_demo_206.png\" style=\"display: inline;\" title=\"Acceso a la demo del AVE Global  (abre en ventana nueva)\"/></a>\n",
       "<div class=\"hr\"><div class=\"none\"><hr/></div></div>\n",
       "</div>\n",
       "</div>\n",
       "<div id=\"CapaNum0_Objeto_7-Promo886\"><!--30652-->\n",
       "<div class=\"img_vert_sep2\">\n",
       "</div>\n",
       "</div>\n",
       "<div id=\"CapaNum0_Objeto_8-Promo886\"><!--10753-->\n",
       "<div class=\"rss-promo\"><h2><a class=\"rss_enlace_h2\" href=\"https://cvc.cervantes.es/rss/rss.asp\" id=\"cvc-rss_target\" title=\"Suscripción a novedades por RSS (abre en ventana nueva)\">Novedades del \n",
       "<acronym title=\"Centro Virtual Cervantes\">CVC</acronym> </a></h2>\n",
       "<script src=\"https://www.cervantes.es/comunes/js/jquery.min.js\" type=\"text/javascript\"></script>\n",
       "<script src=\"https://www.cervantes.es/comunes/js/jquery.qtip.js\" type=\"text/javascript\"></script>\n",
       "<div id=\"rsspromo\">\n",
       "<ul>\n",
       "<li><a href=\"https://blogscvc.cervantes.es/martes-neologico/infusionar/\" id=\"rss_10000_target\" oldtitle=\"Este siglo XIX se caracteriza, en la esfera gastronómica, por el aumento progresivo del afán culinario, no solo en el contexto de la alta cocina, representado por reconocidos chefs, sino extrapolable a un ámbito no especializado. Los medios de comunicación han contribuido, sin lugar a dudas, a promocionar dicho auge. Esta difusión no debe centralizarse en exclusiva en programas televisivos, puesto que las redes sociales poseen un poder muy significativo al respecto. [...]\"><span class=\"corchete\">Lengua.</span> Hoy en «Martes Neológico»: infusionar</a></li><li><a href=\"http://cvc.cervantes.es/foros/leer_asunto1.asp?vCodigo=55657\" id=\"rss_10001_target\" oldtitle='Quisiera saber cómo se analiza sintácticamente la expresión\n",
       "\"Esto no tiene nada que ver conmigo\"\n",
       "Gracias [...]'><span class=\"corchete\">Foros.</span> «Esto no tiene nada que ver conmigo»: análisis sintáctico</a></li><li><a href=\"https://cvc.cervantes.es/el_rinconete/anteriores/septiembre_19/17092019_01.htm\" id=\"rss_10002_target\" oldtitle=\"Por David Prieto García-Seco. Hace poco oí decir a una joven que se había comprado «dos macas para el verano». En un primer momento me extrañó eso de «dos macas», pero poco después, al conocer qué se esperaba de ellas, confirmé mi sospecha. La joven se refería, sin duda, a dos &lt;em&gt;hamacas&lt;/em&gt;; sin embargo, en lugar de emplear la voz taína con su forma habitual, es decir, con tres sílabas, había pronunciado una variante, digamos, cercenada. [...]\"><span class=\"corchete\">Rinconete.</span> Variantes léxicas populares (1): «dos macas para el verano»</a></li><li><a href=\"http://cvc.cervantes.es/foros/leer_asunto1.asp?vCodigo=55653\" id=\"rss_10003_target\" oldtitle=\"Buenas. De una obra de Galdós. ¿Qué significa y cuál es el origen? Gracias. [...]\"><span class=\"corchete\">Foros.</span> «A Segura llevan preso»</a></li><li><a href=\"http://cvc.cervantes.es/foros/leer_asunto1.asp?vCodigo=55652\" id=\"rss_10004_target\" oldtitle=\"Buenas. He leído esta expresión en una obra de Galdós. Expresa una disyuntiva, pero quisiera saber de dónde viene la misma. Gracias. [...]\"><span class=\"corchete\">Foros.</span> «A fondo o a Flandes»</a></li><li><a href=\"http://cvc.cervantes.es/foros/leer_asunto1.asp?vCodigo=55651\" id=\"rss_10005_target\" oldtitle='Buenos días\n",
       "\n",
       "Estoy escribiendo un ensayo y necesito parafrasear una cita latina.\n",
       "El original reza \"Inde deus abest\" que significa \"donde dios no está\"..\n",
       "Si quiero decir \" donde el Ser no está\" entendiendo Ser en sentido ontológico-metafísico, sería correcta la fórmula \"Inde esse abest\"?\n",
       "Muchas gracias [...]'><span class=\"corchete\">Foros.</span> Traducción del español al latín</a></li><li><a href=\"http://cvc.cervantes.es/foros/leer_asunto1.asp?vCodigo=55650\" id=\"rss_10006_target\" oldtitle='He escrito una consigna que dice así:\n",
       "Deja aquí una tarjeta con tu nombre y retira una con otro nombre. Escríbele a esa persona: \"Que te regalaría hoy\"...\n",
       "Esto generó confusiones ya que hubo quienes interpretaron que debían escribir lo que querían que les regalen y quienes pensaron que tenían que poner lo que ellos regalarían a esa persona cuyo nombre estaba en la tarjeta.\n",
       "Quisiera saber cuál es la correcta interpretación, ya que mi intención fue lo interpretado por el segundo grupo que mencioné.\n",
       "Muchas gracias! [...]'><span class=\"corchete\">Foros.</span> Correcta interpretación de una frase</a></li></ul>\n",
       "<script type=\"text/javascript\">\n",
       "$(document).ready(function() { \n",
       "$('#rsspromo a[title]').qtip({ \n",
       "             position: { \n",
       "                    my: 'bottom center', \n",
       "                    target: 'mouse' \n",
       "             }, \n",
       "             hide: { \n",
       "                    fixed: true \n",
       "             }, \n",
       "             style: 'ui-tooltip-shadow' \n",
       "});\n",
       "});\n",
       "</script></div>\n",
       "</div>\n",
       "</div>\n",
       "<div id=\"CapaNum0_Objeto_9-Promo886\"><!--19557-->\n",
       "<div class=\"img_vert_sep2\">\n",
       "</div>\n",
       "</div>\n",
       "<div id=\"CapaNum0_Objeto_10-Promo886\"><!--20616-->\n",
       "<div class=\"img_vert_sep2\">\n",
       "</div>\n",
       "</div>\n",
       "<div id=\"CapaNum0_Objeto_11-Promo886\"><!--18793-->\n",
       "<div class=\"img_vert_sep2\">\n",
       "<a href=\"https://www.cervantes.es/sobre_instituto_cervantes/proyecto_europeo_silknow.htm?utm_source=portales&amp;utm_medium=columna_ic&amp;utm_campaign=silknow\" id=\"enlace18793_0_e114_1_target\"><img alt=\"Silknow\" src=\"https://www.cervantes.es/imagenes/Image/comunes/promo/instituto_cervantes_silknow_2019_206b.png\" style=\"display: inline;\" title=\"Acceso a información sobre el proyecto Silknow  (abre en ventana nueva)\"/></a>\n",
       "<div class=\"hr\"><div class=\"none\"><hr/></div></div>\n",
       "</div>\n",
       "</div>\n",
       "<div id=\"CapaNum0_Objeto_12-Promo886\"><!--21416-->\n",
       "<div id=\"img_vert_sep2_al\">\n",
       "<a href=\"http://www.canalsur.es/radio/flamencoradio-1313.html\" id=\"enlace21416_0_e144_1_target\"><img alt=\"flamencoradio.com\" src=\"https://www.cervantes.es/imagenes/Image/comunes/promo/flamenco_radio_206.png\" style=\"display: inline;\" title=\"Acceso a FlamencoRadio.com (se abre en ventana nueva)\"/></a>\n",
       "<div class=\"hr\"><div class=\"none\"><hr/></div></div>\n",
       "</div>\n",
       "</div>\n",
       "<div id=\"CapaNum0_Objeto_14-Promo886\"><!--30914-->\n",
       "</div>\n",
       "</div>\n",
       "<!--**************************FIN CAPA*******************************-->\n",
       "<!--fin columna-->\n",
       "</div>\n",
       "<!--fin Seccion CapaNum4-->\n",
       "</div>\n",
       "<!--=================FIN MARCO========================================-->\n",
       "<script type=\"text/javascript\">Numero_Secciones=4</script>\n",
       "<div id=\"piepagina\" style=\"float: left; border: thick; visibility: visible; width: 1005px; top: 1631px; left: 2px; position: absolute;\">\n",
       "<div id=\"pie_contenido\">Zankat Madnine, 3-5. 10 000 Rabat<br/>\n",
       "\t(+212) 0 537 70 87 38/ 20 37 15 || <a href=\"”mailto:cenrab@cervantes.es”\">cenrab@cervantes.es</a><br/>\n",
       "\t© Instituto Cervantes (España), 1991-2019. Tous droits réservés. <br/>\n",
       "<a href=\"http://www.cervantes.es/mentions_legales_politique_confidentialite_fr.htm\" rel=\"popup-610-800-yes\" title=\"Accès à la mention légale Institut Cervantes (S'ouvre dans nouvelle fenêtre).\">Mention légale</a> </div>\n",
       "</div>\n",
       "<script type=\"text/javascript\">\n",
       "if (TransMenu.isSupported()) {\n",
       "var ms = new TransMenuSet(TransMenu.direction.down, 0, 0, TransMenu.reference.bottomLeft);\n",
       "TransMenu.renderAll();\n",
       "}</script>\n",
       "<script src=\"https://comunes.cervantes.es/js/aleatorio.js\" type=\"text/javascript\"></script>\n",
       "<script src=\"https://comunes.cervantes.es/js/cookies.js\" type=\"text/javascript\"></script>\n",
       "<div id=\"aviso-cookies\" style='position: fixed; bottom: 0px; left: 0px; width: 100%; background: url(\"https://cvc.cervantes.es/img/comunes/fondos/fondo-cookies.png\"); z-index: 9999; font-size: 10px; color: rgb(255, 255, 255);'><p style=\"font-family: Verdana, Geneva, sans-serif; font-size: 10px; padding: 0px; color: rgb(255, 255, 255); margin: 5px 10px;\">El Instituto Cervantes utiliza «cookies» propias y de terceros para facilitar, mejorar y optimizar la experiencia del usuario, por motivos de seguridad, y para conocer sus hábitos de navegación. Recuerde que, al utilizar sus servicios, acepta <a href=\"http://www.cervantes.es/aviso_legal.htm\" onclick='window.open(\"http://www.cervantes.es/aviso_legal.htm\",\"popup\",\"statusbar=yes, scrollbars=yes, width=610, height=800\"); return false;' rel=\"external\" style=\"font-size: 10px; color: rgb(255, 255, 255); text-decoration: underline;\">su aviso legal</a> y su <a href=\"http://www.cervantes.es/politica_cookies.htm\" onclick='window.open(\"http://www.cervantes.es/politica_cookies.htm\",\"popup\",\"statusbar=yes, scrollbars=yes, width=610, height=800\"); return false;' rel=\"external\" style=\"font-size: 10px; color: rgb(255, 255, 255); text-decoration: underline;\">política de «cookies»</a>. <span onclick=\"aceptCookies()\" style=\"background-color: rgb(255, 255, 255); font-size: 10px; color: rgb(68, 68, 68); padding: 3px 5px; margin-left: 10px; cursor: pointer;\">Aceptar</span></p></div></body></html>"
      ]
     },
     "execution_count": 5,
     "metadata": {},
     "output_type": "execute_result"
    }
   ],
   "source": [
    "soup"
   ]
  },
  {
   "cell_type": "markdown",
   "metadata": {},
   "source": [
    "## Scraping du matériel principal à partir duquel découlera toute l'information"
   ]
  },
  {
   "cell_type": "code",
   "execution_count": 7,
   "metadata": {},
   "outputs": [],
   "source": [
    "iframe = driver.find_element_by_tag_name('iframe')"
   ]
  },
  {
   "cell_type": "code",
   "execution_count": 8,
   "metadata": {},
   "outputs": [],
   "source": [
    "driver.switch_to.frame(iframe)"
   ]
  },
  {
   "cell_type": "code",
   "execution_count": 9,
   "metadata": {},
   "outputs": [],
   "source": [
    "programaciones = driver.find_elements_by_class_name('programacionmes_principal')"
   ]
  },
  {
   "cell_type": "code",
   "execution_count": 10,
   "metadata": {},
   "outputs": [
    {
     "name": "stdout",
     "output_type": "stream",
     "text": [
      "<selenium.webdriver.remote.webelement.WebElement (session=\"57c18e2ef594085c8377541571663d80\", element=\"65fd299a-d33e-41fc-98dd-edd5a987f5bb\")>\n",
      "<selenium.webdriver.remote.webelement.WebElement (session=\"57c18e2ef594085c8377541571663d80\", element=\"913971c9-efde-412c-a009-b1f6d5295557\")>\n",
      "<selenium.webdriver.remote.webelement.WebElement (session=\"57c18e2ef594085c8377541571663d80\", element=\"13852bdc-b0ea-4b15-8bfe-10415f333235\")>\n",
      "<selenium.webdriver.remote.webelement.WebElement (session=\"57c18e2ef594085c8377541571663d80\", element=\"99d26651-ed01-4a16-ad3b-9badc03332a1\")>\n"
     ]
    }
   ],
   "source": [
    "for i in programaciones:\n",
    "    print(i)"
   ]
  },
  {
   "cell_type": "code",
   "execution_count": 11,
   "metadata": {},
   "outputs": [
    {
     "data": {
      "text/plain": [
       "4"
      ]
     },
     "execution_count": 11,
     "metadata": {},
     "output_type": "execute_result"
    }
   ],
   "source": [
    "len(programaciones)"
   ]
  },
  {
   "cell_type": "markdown",
   "metadata": {},
   "source": [
    "### Scraping des dates"
   ]
  },
  {
   "cell_type": "code",
   "execution_count": 13,
   "metadata": {
    "scrolled": true
   },
   "outputs": [
    {
     "name": "stdout",
     "output_type": "stream",
     "text": [
      "03/09/2019 - 30/09/2019\n",
      "13/09/2019\n",
      "20/09/2019\n",
      "27/09/2019\n"
     ]
    }
   ],
   "source": [
    "dates = []\n",
    "for i in programaciones:\n",
    "    print(i.find_element_by_class_name('programacionmes_fecha').text)\n",
    "    dates.append(i.find_element_by_class_name('programacionmes_fecha').text)"
   ]
  },
  {
   "cell_type": "code",
   "execution_count": 14,
   "metadata": {},
   "outputs": [
    {
     "data": {
      "text/plain": [
       "['03/09/2019 - 30/09/2019', '13/09/2019', '20/09/2019', '27/09/2019']"
      ]
     },
     "execution_count": 14,
     "metadata": {},
     "output_type": "execute_result"
    }
   ],
   "source": [
    "dates"
   ]
  },
  {
   "cell_type": "markdown",
   "metadata": {},
   "source": [
    "### Scraping des descriptions!"
   ]
  },
  {
   "cell_type": "code",
   "execution_count": 15,
   "metadata": {},
   "outputs": [
    {
     "name": "stdout",
     "output_type": "stream",
     "text": [
      "Découvrez les dernières nouveautés du matériel concernant l’apprentissage et l’enseignement de l’Espagnol Langue Etrangère (ELE) que nous disposons dans notre bibliothèque: manuels, grammaires, lectures faciles, espagnol pour enfants et adolescents, préparation DELE et didactique de l’Espagnol Langue Etrangère.\n",
      "En 2015, dans leur vol en provenance de Syrie, Ossamah et son jeune fils ont été victimes d'un voyage à la frontière hongroise par un journaliste. L'image est devenue virale et est devenue l'une des icônes les plus honteuses du conflit. Paradoxalement, cela lui a permis d’atteindre Madrid. Le reste de sa famille est coincé en Turquie. Son exemple nous permet de réfléchir à la survie des familles syriennes bloquées en Turquie. Que fait-on de tes rêves? HAYATI (Ma vie), c'est l'histoire d'Ossamah, mais aussi de Moatassam, Youssef et Muhannad, trois footballeurs syriens prometteurs à qui la guerre a confisqué leur avenir.\n",
      "ldo et Gabriella sont mariés depuis presque cinquante ans, ils ont trois enfants et plusieurs petits-enfants et se préparent à vivre leur vieillesse en paix. Mais quelque chose ne va pas. Les jeunes passionnés les uns des autres dans les années 50, qui juraient de s'aimer et de s'accompagner jusqu'au dernier jour, sont distraits. Leurs personnalités, leurs intérêts et leurs façons de voir le monde ne sont plus les mêmes. Et quand ils ont quatre-vingts ans, ils commencent à se demander: pourquoi sommes-nous ensemble? La fleur de la vie est un conte de fées face à la réalité, une histoire universelle sur l’amour - et le chagrin -, les relations et les défis du vieillissement.\n",
      "En 1997, trente ans après la mort de Che Guevara, Fernando Birri a parcouru l’Amérique latine dans le but simple et puissant de revenir sur sa figure, en plus de redécouvrir dans différents témoignages le sens et la validité des utopies.\n"
     ]
    }
   ],
   "source": [
    "descs = []\n",
    "for i in programaciones:\n",
    "    print(i.find_element_by_class_name('programacionmes_contenido').text)\n",
    "    descs.append(i.find_element_by_class_name('programacionmes_contenido').text)"
   ]
  },
  {
   "cell_type": "code",
   "execution_count": 16,
   "metadata": {},
   "outputs": [
    {
     "data": {
      "text/plain": [
       "['Découvrez les dernières nouveautés du matériel concernant l’apprentissage et l’enseignement de l’Espagnol Langue Etrangère (ELE) que nous disposons dans notre bibliothèque: manuels, grammaires, lectures faciles, espagnol pour enfants et adolescents, préparation DELE et didactique de l’Espagnol Langue Etrangère.',\n",
       " \"En 2015, dans leur vol en provenance de Syrie, Ossamah et son jeune fils ont été victimes d'un voyage à la frontière hongroise par un journaliste. L'image est devenue virale et est devenue l'une des icônes les plus honteuses du conflit. Paradoxalement, cela lui a permis d’atteindre Madrid. Le reste de sa famille est coincé en Turquie. Son exemple nous permet de réfléchir à la survie des familles syriennes bloquées en Turquie. Que fait-on de tes rêves? HAYATI (Ma vie), c'est l'histoire d'Ossamah, mais aussi de Moatassam, Youssef et Muhannad, trois footballeurs syriens prometteurs à qui la guerre a confisqué leur avenir.\",\n",
       " \"ldo et Gabriella sont mariés depuis presque cinquante ans, ils ont trois enfants et plusieurs petits-enfants et se préparent à vivre leur vieillesse en paix. Mais quelque chose ne va pas. Les jeunes passionnés les uns des autres dans les années 50, qui juraient de s'aimer et de s'accompagner jusqu'au dernier jour, sont distraits. Leurs personnalités, leurs intérêts et leurs façons de voir le monde ne sont plus les mêmes. Et quand ils ont quatre-vingts ans, ils commencent à se demander: pourquoi sommes-nous ensemble? La fleur de la vie est un conte de fées face à la réalité, une histoire universelle sur l’amour - et le chagrin -, les relations et les défis du vieillissement.\",\n",
       " 'En 1997, trente ans après la mort de Che Guevara, Fernando Birri a parcouru l’Amérique latine dans le but simple et puissant de revenir sur sa figure, en plus de redécouvrir dans différents témoignages le sens et la validité des utopies.']"
      ]
     },
     "execution_count": 16,
     "metadata": {},
     "output_type": "execute_result"
    }
   ],
   "source": [
    "descs"
   ]
  },
  {
   "cell_type": "markdown",
   "metadata": {},
   "source": [
    "### Scraping des liens"
   ]
  },
  {
   "cell_type": "code",
   "execution_count": 23,
   "metadata": {},
   "outputs": [
    {
     "name": "stdout",
     "output_type": "stream",
     "text": [
      "https://cultura.cervantes.es/rabat/fr/Novedades-ELE/128413\n",
      "https://cultura.cervantes.es/rabat/fr/Hayati--Mi-vida-de-Liliana-Torres-y-Sofi-Escud%C3%A9/125855\n",
      "https://cultura.cervantes.es/rabat/fr/La-flor-de-la-vida-de-Liliana-Torres-y-Sofi-Escud%C3%A9/125856\n",
      "https://cultura.cervantes.es/rabat/fr/Ata-tu-arado-a-una-estrella-de-Carmen-Guarini/125858\n"
     ]
    }
   ],
   "source": [
    "liens = []\n",
    "x = 1\n",
    "for i in programaciones:\n",
    "    print(i.find_element_by_id('abreOtra'+str(x)+'_target').get_attribute('href'))\n",
    "    liens.append(i.find_element_by_id('abreOtra'+str(x)+'_target').get_attribute('href'))\n",
    "    x = x + 1"
   ]
  },
  {
   "cell_type": "code",
   "execution_count": 24,
   "metadata": {},
   "outputs": [
    {
     "data": {
      "text/plain": [
       "['https://cultura.cervantes.es/rabat/fr/Novedades-ELE/128413',\n",
       " 'https://cultura.cervantes.es/rabat/fr/Hayati--Mi-vida-de-Liliana-Torres-y-Sofi-Escud%C3%A9/125855',\n",
       " 'https://cultura.cervantes.es/rabat/fr/La-flor-de-la-vida-de-Liliana-Torres-y-Sofi-Escud%C3%A9/125856',\n",
       " 'https://cultura.cervantes.es/rabat/fr/Ata-tu-arado-a-una-estrella-de-Carmen-Guarini/125858']"
      ]
     },
     "execution_count": 24,
     "metadata": {},
     "output_type": "execute_result"
    }
   ],
   "source": [
    "liens"
   ]
  },
  {
   "cell_type": "markdown",
   "metadata": {},
   "source": [
    "### Scraping des Titres"
   ]
  },
  {
   "cell_type": "code",
   "execution_count": 29,
   "metadata": {},
   "outputs": [
    {
     "name": "stdout",
     "output_type": "stream",
     "text": [
      "\n",
      "Projection de cinéma: \"Hayati/ Mi vida de Liliana Torres y Sofi Escudé\"\n",
      "Projection de cinéma: \"La flor de la vida de Liliana Torres y Sofi Escudé\"\n",
      "Projection de cinéma: \"Ata tu arado a una estrella de Carmen Guarini\"\n"
     ]
    }
   ],
   "source": [
    "noms = []\n",
    "x = 1\n",
    "for i in programaciones:\n",
    "    print(i.find_element_by_id('abreOtra'+str(x)+'_target').text)\n",
    "    noms.append(i.find_element_by_id('abreOtra'+str(x)+'_target').text)\n",
    "    x = x + 1"
   ]
  },
  {
   "cell_type": "code",
   "execution_count": 30,
   "metadata": {},
   "outputs": [
    {
     "data": {
      "text/plain": [
       "['',\n",
       " 'Projection de cinéma: \"Hayati/ Mi vida de Liliana Torres y Sofi Escudé\"',\n",
       " 'Projection de cinéma: \"La flor de la vida de Liliana Torres y Sofi Escudé\"',\n",
       " 'Projection de cinéma: \"Ata tu arado a una estrella de Carmen Guarini\"']"
      ]
     },
     "execution_count": 30,
     "metadata": {},
     "output_type": "execute_result"
    }
   ],
   "source": [
    "noms"
   ]
  },
  {
   "cell_type": "code",
   "execution_count": null,
   "metadata": {},
   "outputs": [],
   "source": []
  }
 ],
 "metadata": {
  "kernelspec": {
   "display_name": "Python 3",
   "language": "python",
   "name": "python3"
  },
  "language_info": {
   "codemirror_mode": {
    "name": "ipython",
    "version": 3
   },
   "file_extension": ".py",
   "mimetype": "text/x-python",
   "name": "python",
   "nbconvert_exporter": "python",
   "pygments_lexer": "ipython3",
   "version": "3.6.1"
  }
 },
 "nbformat": 4,
 "nbformat_minor": 2
}
