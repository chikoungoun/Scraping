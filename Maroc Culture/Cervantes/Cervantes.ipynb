{
 "cells": [
  {
   "cell_type": "markdown",
   "metadata": {},
   "source": [
    "# Scraping des évènements : Institut Cervantes"
   ]
  },
  {
   "cell_type": "code",
   "execution_count": 1,
   "metadata": {},
   "outputs": [],
   "source": [
    "from selenium import webdriver"
   ]
  },
  {
   "cell_type": "code",
   "execution_count": 2,
   "metadata": {},
   "outputs": [],
   "source": [
    "driver = webdriver.Chrome(\"C:/webdrivers/chromedriver.exe\")"
   ]
  },
  {
   "cell_type": "code",
   "execution_count": 3,
   "metadata": {},
   "outputs": [],
   "source": [
    "driver.get('https://rabat.cervantes.es/fr/culture_espagnole/activites_culturelles_espagnoles.shtm')\n",
    "page = driver.page_source"
   ]
  },
  {
   "cell_type": "markdown",
   "metadata": {},
   "source": [
    "## Scraping du matériel principal à partir duquel découlera toute l'information"
   ]
  },
  {
   "cell_type": "code",
   "execution_count": 4,
   "metadata": {},
   "outputs": [],
   "source": [
    "iframe = driver.find_element_by_tag_name('iframe')"
   ]
  },
  {
   "cell_type": "code",
   "execution_count": 5,
   "metadata": {},
   "outputs": [],
   "source": [
    "driver.switch_to.frame(iframe)"
   ]
  },
  {
   "cell_type": "code",
   "execution_count": 6,
   "metadata": {},
   "outputs": [],
   "source": [
    "programaciones = driver.find_elements_by_class_name('programacionmes_principal')"
   ]
  },
  {
   "cell_type": "code",
   "execution_count": 7,
   "metadata": {},
   "outputs": [
    {
     "name": "stdout",
     "output_type": "stream",
     "text": [
      "<selenium.webdriver.remote.webelement.WebElement (session=\"c59808f59e447924caebcdd29d181b31\", element=\"3ffba91c-97e3-4ce7-b8f0-bd2a54543f0c\")>\n",
      "<selenium.webdriver.remote.webelement.WebElement (session=\"c59808f59e447924caebcdd29d181b31\", element=\"730e22d5-8f5e-444b-8c4d-35d8eeb7f261\")>\n",
      "<selenium.webdriver.remote.webelement.WebElement (session=\"c59808f59e447924caebcdd29d181b31\", element=\"c450c40e-593d-43be-8d63-fee0653603b6\")>\n",
      "<selenium.webdriver.remote.webelement.WebElement (session=\"c59808f59e447924caebcdd29d181b31\", element=\"701f062f-0333-4f64-93c5-59eeee6c2a8d\")>\n"
     ]
    }
   ],
   "source": [
    "for i in programaciones:\n",
    "    print(i)"
   ]
  },
  {
   "cell_type": "code",
   "execution_count": 8,
   "metadata": {},
   "outputs": [
    {
     "data": {
      "text/plain": [
       "4"
      ]
     },
     "execution_count": 8,
     "metadata": {},
     "output_type": "execute_result"
    }
   ],
   "source": [
    "len(programaciones)"
   ]
  },
  {
   "cell_type": "markdown",
   "metadata": {},
   "source": [
    "### Scraping des dates"
   ]
  },
  {
   "cell_type": "code",
   "execution_count": 9,
   "metadata": {
    "scrolled": true
   },
   "outputs": [
    {
     "name": "stdout",
     "output_type": "stream",
     "text": [
      "03/09/2019 - 30/09/2019\n",
      "13/09/2019\n",
      "20/09/2019\n",
      "27/09/2019\n"
     ]
    }
   ],
   "source": [
    "dates = []\n",
    "for i in programaciones:\n",
    "    print(i.find_element_by_class_name('programacionmes_fecha').text)\n",
    "    dates.append(i.find_element_by_class_name('programacionmes_fecha').text)"
   ]
  },
  {
   "cell_type": "code",
   "execution_count": 10,
   "metadata": {},
   "outputs": [
    {
     "data": {
      "text/plain": [
       "['03/09/2019 - 30/09/2019', '13/09/2019', '20/09/2019', '27/09/2019']"
      ]
     },
     "execution_count": 10,
     "metadata": {},
     "output_type": "execute_result"
    }
   ],
   "source": [
    "dates"
   ]
  },
  {
   "cell_type": "markdown",
   "metadata": {},
   "source": [
    "### Scraping des descriptions!"
   ]
  },
  {
   "cell_type": "code",
   "execution_count": 11,
   "metadata": {},
   "outputs": [
    {
     "name": "stdout",
     "output_type": "stream",
     "text": [
      "Découvrez les dernières nouveautés du matériel concernant l’apprentissage et l’enseignement de l’Espagnol Langue Etrangère (ELE) que nous disposons dans notre bibliothèque: manuels, grammaires, lectures faciles, espagnol pour enfants et adolescents, préparation DELE et didactique de l’Espagnol Langue Etrangère.\n",
      "En 2015, dans leur vol en provenance de Syrie, Ossamah et son jeune fils ont été victimes d'un voyage à la frontière hongroise par un journaliste. L'image est devenue virale et est devenue l'une des icônes les plus honteuses du conflit. Paradoxalement, cela lui a permis d’atteindre Madrid. Le reste de sa famille est coincé en Turquie. Son exemple nous permet de réfléchir à la survie des familles syriennes bloquées en Turquie. Que fait-on de tes rêves? HAYATI (Ma vie), c'est l'histoire d'Ossamah, mais aussi de Moatassam, Youssef et Muhannad, trois footballeurs syriens prometteurs à qui la guerre a confisqué leur avenir.\n",
      "ldo et Gabriella sont mariés depuis presque cinquante ans, ils ont trois enfants et plusieurs petits-enfants et se préparent à vivre leur vieillesse en paix. Mais quelque chose ne va pas. Les jeunes passionnés les uns des autres dans les années 50, qui juraient de s'aimer et de s'accompagner jusqu'au dernier jour, sont distraits. Leurs personnalités, leurs intérêts et leurs façons de voir le monde ne sont plus les mêmes. Et quand ils ont quatre-vingts ans, ils commencent à se demander: pourquoi sommes-nous ensemble? La fleur de la vie est un conte de fées face à la réalité, une histoire universelle sur l’amour - et le chagrin -, les relations et les défis du vieillissement.\n",
      "En 1997, trente ans après la mort de Che Guevara, Fernando Birri a parcouru l’Amérique latine dans le but simple et puissant de revenir sur sa figure, en plus de redécouvrir dans différents témoignages le sens et la validité des utopies.\n"
     ]
    }
   ],
   "source": [
    "descs = []\n",
    "for i in programaciones:\n",
    "    print(i.find_element_by_class_name('programacionmes_contenido').text)\n",
    "    descs.append(i.find_element_by_class_name('programacionmes_contenido').text)"
   ]
  },
  {
   "cell_type": "code",
   "execution_count": 12,
   "metadata": {},
   "outputs": [
    {
     "data": {
      "text/plain": [
       "['Découvrez les dernières nouveautés du matériel concernant l’apprentissage et l’enseignement de l’Espagnol Langue Etrangère (ELE) que nous disposons dans notre bibliothèque: manuels, grammaires, lectures faciles, espagnol pour enfants et adolescents, préparation DELE et didactique de l’Espagnol Langue Etrangère.',\n",
       " \"En 2015, dans leur vol en provenance de Syrie, Ossamah et son jeune fils ont été victimes d'un voyage à la frontière hongroise par un journaliste. L'image est devenue virale et est devenue l'une des icônes les plus honteuses du conflit. Paradoxalement, cela lui a permis d’atteindre Madrid. Le reste de sa famille est coincé en Turquie. Son exemple nous permet de réfléchir à la survie des familles syriennes bloquées en Turquie. Que fait-on de tes rêves? HAYATI (Ma vie), c'est l'histoire d'Ossamah, mais aussi de Moatassam, Youssef et Muhannad, trois footballeurs syriens prometteurs à qui la guerre a confisqué leur avenir.\",\n",
       " \"ldo et Gabriella sont mariés depuis presque cinquante ans, ils ont trois enfants et plusieurs petits-enfants et se préparent à vivre leur vieillesse en paix. Mais quelque chose ne va pas. Les jeunes passionnés les uns des autres dans les années 50, qui juraient de s'aimer et de s'accompagner jusqu'au dernier jour, sont distraits. Leurs personnalités, leurs intérêts et leurs façons de voir le monde ne sont plus les mêmes. Et quand ils ont quatre-vingts ans, ils commencent à se demander: pourquoi sommes-nous ensemble? La fleur de la vie est un conte de fées face à la réalité, une histoire universelle sur l’amour - et le chagrin -, les relations et les défis du vieillissement.\",\n",
       " 'En 1997, trente ans après la mort de Che Guevara, Fernando Birri a parcouru l’Amérique latine dans le but simple et puissant de revenir sur sa figure, en plus de redécouvrir dans différents témoignages le sens et la validité des utopies.']"
      ]
     },
     "execution_count": 12,
     "metadata": {},
     "output_type": "execute_result"
    }
   ],
   "source": [
    "descs"
   ]
  },
  {
   "cell_type": "markdown",
   "metadata": {},
   "source": [
    "### Scraping des liens"
   ]
  },
  {
   "cell_type": "code",
   "execution_count": 13,
   "metadata": {},
   "outputs": [
    {
     "name": "stdout",
     "output_type": "stream",
     "text": [
      "https://cultura.cervantes.es/rabat/fr/Novedades-ELE/128413\n",
      "https://cultura.cervantes.es/rabat/fr/Hayati--Mi-vida-de-Liliana-Torres-y-Sofi-Escud%C3%A9/125855\n",
      "https://cultura.cervantes.es/rabat/fr/La-flor-de-la-vida-de-Liliana-Torres-y-Sofi-Escud%C3%A9/125856\n",
      "https://cultura.cervantes.es/rabat/fr/Ata-tu-arado-a-una-estrella-de-Carmen-Guarini/125858\n"
     ]
    }
   ],
   "source": [
    "liens = []\n",
    "x = 1\n",
    "for i in programaciones:\n",
    "    print(i.find_element_by_id('abreOtra'+str(x)+'_target').get_attribute('href'))\n",
    "    liens.append(i.find_element_by_id('abreOtra'+str(x)+'_target').get_attribute('href'))\n",
    "    x = x + 1"
   ]
  },
  {
   "cell_type": "code",
   "execution_count": 14,
   "metadata": {},
   "outputs": [
    {
     "data": {
      "text/plain": [
       "['https://cultura.cervantes.es/rabat/fr/Novedades-ELE/128413',\n",
       " 'https://cultura.cervantes.es/rabat/fr/Hayati--Mi-vida-de-Liliana-Torres-y-Sofi-Escud%C3%A9/125855',\n",
       " 'https://cultura.cervantes.es/rabat/fr/La-flor-de-la-vida-de-Liliana-Torres-y-Sofi-Escud%C3%A9/125856',\n",
       " 'https://cultura.cervantes.es/rabat/fr/Ata-tu-arado-a-una-estrella-de-Carmen-Guarini/125858']"
      ]
     },
     "execution_count": 14,
     "metadata": {},
     "output_type": "execute_result"
    }
   ],
   "source": [
    "liens"
   ]
  },
  {
   "cell_type": "markdown",
   "metadata": {},
   "source": [
    "### Scraping des Titres"
   ]
  },
  {
   "cell_type": "code",
   "execution_count": 15,
   "metadata": {},
   "outputs": [
    {
     "name": "stdout",
     "output_type": "stream",
     "text": [
      "\n",
      "Projection de cinéma: \"Hayati/ Mi vida de Liliana Torres y Sofi Escudé\"\n",
      "Projection de cinéma: \"La flor de la vida de Liliana Torres y Sofi Escudé\"\n",
      "Projection de cinéma: \"Ata tu arado a una estrella de Carmen Guarini\"\n"
     ]
    }
   ],
   "source": [
    "noms = []\n",
    "x = 1\n",
    "for i in programaciones:\n",
    "    print(i.find_element_by_id('abreOtra'+str(x)+'_target').text)\n",
    "    noms.append(i.find_element_by_id('abreOtra'+str(x)+'_target').text)\n",
    "    x = x + 1"
   ]
  },
  {
   "cell_type": "code",
   "execution_count": 16,
   "metadata": {},
   "outputs": [
    {
     "data": {
      "text/plain": [
       "['',\n",
       " 'Projection de cinéma: \"Hayati/ Mi vida de Liliana Torres y Sofi Escudé\"',\n",
       " 'Projection de cinéma: \"La flor de la vida de Liliana Torres y Sofi Escudé\"',\n",
       " 'Projection de cinéma: \"Ata tu arado a una estrella de Carmen Guarini\"']"
      ]
     },
     "execution_count": 16,
     "metadata": {},
     "output_type": "execute_result"
    }
   ],
   "source": [
    "noms"
   ]
  },
  {
   "cell_type": "markdown",
   "metadata": {},
   "source": [
    "### Scraping des images"
   ]
  },
  {
   "cell_type": "code",
   "execution_count": 17,
   "metadata": {},
   "outputs": [
    {
     "data": {
      "text/plain": [
       "<Response [200]>"
      ]
     },
     "execution_count": 17,
     "metadata": {},
     "output_type": "execute_result"
    }
   ],
   "source": [
    "import requests\n",
    "\n",
    "url = 'https://cultura.cervantes.es/rabat/fr/Hayati--Mi-vida-de-Liliana-Torres-y-Sofi-Escud%C3%A9/125855'\n",
    "response = requests.get(url)\n",
    "response"
   ]
  },
  {
   "cell_type": "code",
   "execution_count": 18,
   "metadata": {},
   "outputs": [],
   "source": [
    "from time import time\n",
    "from time import sleep\n",
    "from random import randint"
   ]
  },
  {
   "cell_type": "code",
   "execution_count": 19,
   "metadata": {},
   "outputs": [],
   "source": [
    "start_time = time()\n",
    "requests = 0"
   ]
  },
  {
   "cell_type": "code",
   "execution_count": 20,
   "metadata": {},
   "outputs": [],
   "source": [
    "from bs4 import BeautifulSoup\n",
    "from requests import get"
   ]
  },
  {
   "cell_type": "code",
   "execution_count": 21,
   "metadata": {},
   "outputs": [],
   "source": [
    "x = \"https://hermes.cervantes.es\""
   ]
  },
  {
   "cell_type": "code",
   "execution_count": 36,
   "metadata": {
    "scrolled": true
   },
   "outputs": [
    {
     "name": "stdout",
     "output_type": "stream",
     "text": [
      "https://cultura.cervantes.es/rabat/fr/Novedades-ELE/128413\n",
      "10\n",
      "../../../SSAA/ImgSharepoint.ashx?UniqueId=1c04520e-23b9-4d66-9b6e-758a144b0fe1\n",
      "https://cultura.cervantes.es/rabat/fr/Hayati--Mi-vida-de-Liliana-Torres-y-Sofi-Escud%C3%A9/125855\n",
      "10\n",
      "../../../SSAA/ImgSharepoint.ashx?UniqueId=1c04520e-23b9-4d66-9b6e-758a144b0fe1\n",
      "https://hermes.cervantes.es/SSAA/ImgSharepoint.ashx?UniqueId=7ac77f53-9d92-4b6f-8aa5-f9d06e05d0d9\n",
      "https://cultura.cervantes.es/rabat/fr/La-flor-de-la-vida-de-Liliana-Torres-y-Sofi-Escud%C3%A9/125856\n",
      "9\n",
      "../../../SSAA/ImgSharepoint.ashx?UniqueId=7ac77f53-9d92-4b6f-8aa5-f9d06e05d0d9\n",
      "https://hermes.cervantes.es/SSAA/ImgSharepoint.ashx?UniqueId=944618a4-2890-463d-9f55-2011b79acc51\n",
      "https://cultura.cervantes.es/rabat/fr/Ata-tu-arado-a-una-estrella-de-Carmen-Guarini/125858\n",
      "15\n",
      "../../../SSAA/ImgSharepoint.ashx?UniqueId=944618a4-2890-463d-9f55-2011b79acc51\n",
      "https://hermes.cervantes.es/SSAA/ImgSharepoint.ashx?UniqueId=1c04520e-23b9-4d66-9b6e-758a144b0fe1\n",
      "*** *** Done  *** ***\n"
     ]
    }
   ],
   "source": [
    "images = []\n",
    "for i in liens:\n",
    "    print(i)\n",
    "    response = get(i)\n",
    "    \n",
    "    timer = randint(8,15)\n",
    "    print(timer)\n",
    "    sleep(timer)\n",
    "    \n",
    "    #renvoyer un warning pour les non 'status code : 200'\n",
    "    if response.status_code != 200:\n",
    "        warn('Request: {}; Status code: {}'.format(requests, response.status_code))\n",
    "            \n",
    "     #parser en BS\n",
    "    soup = BeautifulSoup(response.text,'html.parser') \n",
    "    \n",
    "    film = soup.find(\"main\")\n",
    "    img = film.find('img')\n",
    "    print(image)\n",
    "    \n",
    "    if img is None:\n",
    "        images.append(\"NO IMAGE\")\n",
    "        continue\n",
    "    \n",
    "    image = img['src']\n",
    "    \n",
    "    print(x+image[8:])\n",
    "    images.append(x+image[8:])\n",
    "    \n",
    "    \n",
    "print('*** *** Done  *** ***')"
   ]
  },
  {
   "cell_type": "markdown",
   "metadata": {},
   "source": [
    "Les liens avec \"hermes\" contiennent les images des films"
   ]
  },
  {
   "cell_type": "code",
   "execution_count": 35,
   "metadata": {},
   "outputs": [
    {
     "data": {
      "text/plain": [
       "['NO DESCRIPTION',\n",
       " 'https://hermes.cervantes.es/SSAA/ImgSharepoint.ashx?UniqueId=7ac77f53-9d92-4b6f-8aa5-f9d06e05d0d9',\n",
       " 'https://hermes.cervantes.es/SSAA/ImgSharepoint.ashx?UniqueId=944618a4-2890-463d-9f55-2011b79acc51',\n",
       " 'https://hermes.cervantes.es/SSAA/ImgSharepoint.ashx?UniqueId=1c04520e-23b9-4d66-9b6e-758a144b0fe1']"
      ]
     },
     "execution_count": 35,
     "metadata": {},
     "output_type": "execute_result"
    }
   ],
   "source": [
    "images"
   ]
  },
  {
   "cell_type": "code",
   "execution_count": null,
   "metadata": {},
   "outputs": [],
   "source": []
  }
 ],
 "metadata": {
  "kernelspec": {
   "display_name": "Python 3",
   "language": "python",
   "name": "python3"
  },
  "language_info": {
   "codemirror_mode": {
    "name": "ipython",
    "version": 3
   },
   "file_extension": ".py",
   "mimetype": "text/x-python",
   "name": "python",
   "nbconvert_exporter": "python",
   "pygments_lexer": "ipython3",
   "version": "3.6.1"
  }
 },
 "nbformat": 4,
 "nbformat_minor": 2
}
