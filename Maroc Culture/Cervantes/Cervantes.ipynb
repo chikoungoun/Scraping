{
 "cells": [
  {
   "cell_type": "markdown",
   "metadata": {},
   "source": [
    "# Scraping des évènements : Institut Cervantes"
   ]
  },
  {
   "cell_type": "code",
   "execution_count": 1,
   "metadata": {},
   "outputs": [],
   "source": [
    "from selenium import webdriver"
   ]
  },
  {
   "cell_type": "code",
   "execution_count": 2,
   "metadata": {},
   "outputs": [],
   "source": [
    "driver = webdriver.Chrome(\"C:/webdrivers/chromedriver.exe\")"
   ]
  },
  {
   "cell_type": "code",
   "execution_count": 3,
   "metadata": {},
   "outputs": [],
   "source": [
    "driver.get('https://rabat.cervantes.es/fr/culture_espagnole/activites_culturelles_espagnoles.shtm')\n",
    "page = driver.page_source"
   ]
  },
  {
   "cell_type": "markdown",
   "metadata": {},
   "source": [
    "## Scraping du matériel principal à partir duquel découlera toute l'information"
   ]
  },
  {
   "cell_type": "code",
   "execution_count": 4,
   "metadata": {},
   "outputs": [],
   "source": [
    "iframe = driver.find_element_by_tag_name('iframe')"
   ]
  },
  {
   "cell_type": "code",
   "execution_count": 5,
   "metadata": {},
   "outputs": [],
   "source": [
    "driver.switch_to.frame(iframe)"
   ]
  },
  {
   "cell_type": "code",
   "execution_count": 6,
   "metadata": {},
   "outputs": [],
   "source": [
    "programaciones = driver.find_elements_by_class_name('programacionmes_principal')"
   ]
  },
  {
   "cell_type": "code",
   "execution_count": 7,
   "metadata": {},
   "outputs": [
    {
     "name": "stdout",
     "output_type": "stream",
     "text": [
      "<selenium.webdriver.remote.webelement.WebElement (session=\"35a9521a8a5aab805cdc30ecd6033326\", element=\"573c0962-9b3f-483d-bd54-7ce3c85a04fc\")>\n",
      "<selenium.webdriver.remote.webelement.WebElement (session=\"35a9521a8a5aab805cdc30ecd6033326\", element=\"575ec3e7-68ae-4ebd-9284-579610e01e56\")>\n",
      "<selenium.webdriver.remote.webelement.WebElement (session=\"35a9521a8a5aab805cdc30ecd6033326\", element=\"e7c368a3-f080-4db0-8d51-7a33e5c613bc\")>\n",
      "<selenium.webdriver.remote.webelement.WebElement (session=\"35a9521a8a5aab805cdc30ecd6033326\", element=\"4e8d45b4-5d7e-41e5-a56d-907357cc55c5\")>\n",
      "<selenium.webdriver.remote.webelement.WebElement (session=\"35a9521a8a5aab805cdc30ecd6033326\", element=\"c246b251-8cb0-45cc-bf5b-a203887ef2c0\")>\n",
      "<selenium.webdriver.remote.webelement.WebElement (session=\"35a9521a8a5aab805cdc30ecd6033326\", element=\"bb5e7252-08b8-4450-9b20-83f5a3159e5a\")>\n",
      "<selenium.webdriver.remote.webelement.WebElement (session=\"35a9521a8a5aab805cdc30ecd6033326\", element=\"2486b252-133d-4498-9114-244bf2479ff5\")>\n"
     ]
    }
   ],
   "source": [
    "for i in programaciones:\n",
    "    print(i)"
   ]
  },
  {
   "cell_type": "code",
   "execution_count": 8,
   "metadata": {},
   "outputs": [
    {
     "data": {
      "text/plain": [
       "7"
      ]
     },
     "execution_count": 8,
     "metadata": {},
     "output_type": "execute_result"
    }
   ],
   "source": [
    "len(programaciones)"
   ]
  },
  {
   "cell_type": "markdown",
   "metadata": {},
   "source": [
    "### Scraping des dates"
   ]
  },
  {
   "cell_type": "code",
   "execution_count": 9,
   "metadata": {
    "scrolled": true
   },
   "outputs": [
    {
     "name": "stdout",
     "output_type": "stream",
     "text": [
      "01/10/2019 - 31/10/2019\n",
      "05/10/2019\n",
      "11/10/2019\n",
      "17/10/2019\n",
      "18/10/2019\n",
      "23/10/2019\n",
      "25/10/2019\n"
     ]
    }
   ],
   "source": [
    "dates = []\n",
    "for i in programaciones:\n",
    "    print(i.find_element_by_class_name('programacionmes_fecha').text)\n",
    "    dates.append(i.find_element_by_class_name('programacionmes_fecha').text)"
   ]
  },
  {
   "cell_type": "code",
   "execution_count": 10,
   "metadata": {},
   "outputs": [
    {
     "data": {
      "text/plain": [
       "['01/10/2019 - 31/10/2019',\n",
       " '05/10/2019',\n",
       " '11/10/2019',\n",
       " '17/10/2019',\n",
       " '18/10/2019',\n",
       " '23/10/2019',\n",
       " '25/10/2019']"
      ]
     },
     "execution_count": 10,
     "metadata": {},
     "output_type": "execute_result"
    }
   ],
   "source": [
    "dates"
   ]
  },
  {
   "cell_type": "markdown",
   "metadata": {},
   "source": [
    "### Scraping des descriptions!"
   ]
  },
  {
   "cell_type": "code",
   "execution_count": 11,
   "metadata": {},
   "outputs": [
    {
     "name": "stdout",
     "output_type": "stream",
     "text": [
      "Il s’agit d’une exposition bibliographique de livres de poésie que les artistes du monde de flamenco ont adaptés et adoptés pour leur composition musicale. A titre d'exemple, nous citons: Miguel Hernández, García Lorca, Les Frères Machado, Lope de Vega, Al-Mou’tamid, José Bergamín, Jorge Guillén et José Hierro...\n",
      "Vandalus représente l'élégance du Moyen-Orient, la passion et la force du flamenco, deux racines musicales dans une proposition musicale unique. La guitare flamenca mélodique et rythmée-vertueuse, renforcée par les flûtes et le tiroir avec instruments orientaux, à la fois sobre et raffinée mais à la fois puissante. Cante propose une série d'enregistrements contrastés, de chants profonds et de lyrisme débridé dans le même spectacle.\n",
      "Omega est un documentaire sur le disque légendaire de flamenco-rock \"Omega\", composé en 1996 par le maestro Enrique Morente et le groupe Lagartija Nick de Grenade. Un disque émouvant qui a crée un grand impact au niveau du panorama musical national e international dans lequel Morente a adapté des thèmes du chanteur canadien Leonard Cohen et des compositions de la musique des poèmes de Federico García-Lorca.\n",
      "Dans EQUILIBRE FLAMENCO Jesús Carmona Nous montre sa version du flamenco. il fait preuve d'une grande maitrise de la danse, des divers rythmes traditionnel du flamenco, acompagné par une petite troupe qui possède la même qualité et force que sa danse. Jesús Carmona, né à Barcelone en 1985, commence sa formation à 7 ans à La Macarena et le Niño de Morón. Licencié en danse espagnole et flamenco par l'Institut de théâtre et de danse de la capitale barcelonaise en 2004. Enrichit ses études avec différents cours et professeurs tels qu'Antonio Canales, Rafaela Carrasco, Manolete, Eva Yerbabuena, Aida Gómez et d'autres grands maîtres de la danse. Espagnol et flamenco\n",
      "Carlos Saura fait une analise de la diversité de l'art du flamenco, dans le deuxième film les sepctateurs pourront aprécier l'art du flamenco, à travers la musique, danses et chants qui sont d'une incomparable beauté.\n",
      "Le spectacle de fusion se déroule en collaboration avec la Fondation Heeren de Flamenco et le Ministère de la culture et de la communication du Maroc. Les participants espagnols sont: Luisa Palicio, danseuse; Manuel Romero, chanter et Jesús Rodríguez, guitare.\n",
      "Documental que cuenta historia de la escuela internacional de flamenco Cristina Heeren que, a lo largo de sus veinte años de existencia, ha formado a más de 6.000 artistas de todo el mundo. La Fundación, pionera en la enseñanza reglada del flamenco, ha instruido a toda una generación de prestigiosos artistas y profesionales del flamenco de todo el mundo.\n"
     ]
    }
   ],
   "source": [
    "descs = []\n",
    "for i in programaciones:\n",
    "    print(i.find_element_by_class_name('programacionmes_contenido').text)\n",
    "    descs.append(i.find_element_by_class_name('programacionmes_contenido').text)"
   ]
  },
  {
   "cell_type": "code",
   "execution_count": 12,
   "metadata": {},
   "outputs": [
    {
     "data": {
      "text/plain": [
       "[\"Il s’agit d’une exposition bibliographique de livres de poésie que les artistes du monde de flamenco ont adaptés et adoptés pour leur composition musicale. A titre d'exemple, nous citons: Miguel Hernández, García Lorca, Les Frères Machado, Lope de Vega, Al-Mou’tamid, José Bergamín, Jorge Guillén et José Hierro...\",\n",
       " \"Vandalus représente l'élégance du Moyen-Orient, la passion et la force du flamenco, deux racines musicales dans une proposition musicale unique. La guitare flamenca mélodique et rythmée-vertueuse, renforcée par les flûtes et le tiroir avec instruments orientaux, à la fois sobre et raffinée mais à la fois puissante. Cante propose une série d'enregistrements contrastés, de chants profonds et de lyrisme débridé dans le même spectacle.\",\n",
       " 'Omega est un documentaire sur le disque légendaire de flamenco-rock \"Omega\", composé en 1996 par le maestro Enrique Morente et le groupe Lagartija Nick de Grenade. Un disque émouvant qui a crée un grand impact au niveau du panorama musical national e international dans lequel Morente a adapté des thèmes du chanteur canadien Leonard Cohen et des compositions de la musique des poèmes de Federico García-Lorca.',\n",
       " \"Dans EQUILIBRE FLAMENCO Jesús Carmona Nous montre sa version du flamenco. il fait preuve d'une grande maitrise de la danse, des divers rythmes traditionnel du flamenco, acompagné par une petite troupe qui possède la même qualité et force que sa danse. Jesús Carmona, né à Barcelone en 1985, commence sa formation à 7 ans à La Macarena et le Niño de Morón. Licencié en danse espagnole et flamenco par l'Institut de théâtre et de danse de la capitale barcelonaise en 2004. Enrichit ses études avec différents cours et professeurs tels qu'Antonio Canales, Rafaela Carrasco, Manolete, Eva Yerbabuena, Aida Gómez et d'autres grands maîtres de la danse. Espagnol et flamenco\",\n",
       " \"Carlos Saura fait une analise de la diversité de l'art du flamenco, dans le deuxième film les sepctateurs pourront aprécier l'art du flamenco, à travers la musique, danses et chants qui sont d'une incomparable beauté.\",\n",
       " 'Le spectacle de fusion se déroule en collaboration avec la Fondation Heeren de Flamenco et le Ministère de la culture et de la communication du Maroc. Les participants espagnols sont: Luisa Palicio, danseuse; Manuel Romero, chanter et Jesús Rodríguez, guitare.',\n",
       " 'Documental que cuenta historia de la escuela internacional de flamenco Cristina Heeren que, a lo largo de sus veinte años de existencia, ha formado a más de 6.000 artistas de todo el mundo. La Fundación, pionera en la enseñanza reglada del flamenco, ha instruido a toda una generación de prestigiosos artistas y profesionales del flamenco de todo el mundo.']"
      ]
     },
     "execution_count": 12,
     "metadata": {},
     "output_type": "execute_result"
    }
   ],
   "source": [
    "descs"
   ]
  },
  {
   "cell_type": "markdown",
   "metadata": {},
   "source": [
    "### Scraping des liens"
   ]
  },
  {
   "cell_type": "code",
   "execution_count": 13,
   "metadata": {},
   "outputs": [
    {
     "name": "stdout",
     "output_type": "stream",
     "text": [
      "https://cultura.cervantes.es/rabat/fr/La-poes%C3%ADa-en-el-flamenco-/128414\n",
      "https://cultura.cervantes.es/rabat/fr/Vandalus,-herencia-oriental-del-flamenco/128108\n",
      "https://cultura.cervantes.es/rabat/fr/Omega/128406\n",
      "https://cultura.cervantes.es/rabat/fr/Equilibrio-flamenco-de-Jes%C3%BAs-Carmona/128403\n",
      "https://cultura.cervantes.es/rabat/fr/Flamenco,-flamenco/128407\n",
      "https://cultura.cervantes.es/rabat/fr/Fusi%C3%B3n-flamenca-con-Issaoua/128404\n",
      "https://cultura.cervantes.es/rabat/fr/Escuela-de-flamencos.-Fundaci%C3%B3n-Cristina-Heeren/128408\n"
     ]
    }
   ],
   "source": [
    "liens = []\n",
    "x = 1\n",
    "for i in programaciones:\n",
    "    print(i.find_element_by_id('abreOtra'+str(x)+'_target').get_attribute('href'))\n",
    "    liens.append(i.find_element_by_id('abreOtra'+str(x)+'_target').get_attribute('href'))\n",
    "    x = x + 1"
   ]
  },
  {
   "cell_type": "code",
   "execution_count": 14,
   "metadata": {},
   "outputs": [
    {
     "data": {
      "text/plain": [
       "['https://cultura.cervantes.es/rabat/fr/La-poes%C3%ADa-en-el-flamenco-/128414',\n",
       " 'https://cultura.cervantes.es/rabat/fr/Vandalus,-herencia-oriental-del-flamenco/128108',\n",
       " 'https://cultura.cervantes.es/rabat/fr/Omega/128406',\n",
       " 'https://cultura.cervantes.es/rabat/fr/Equilibrio-flamenco-de-Jes%C3%BAs-Carmona/128403',\n",
       " 'https://cultura.cervantes.es/rabat/fr/Flamenco,-flamenco/128407',\n",
       " 'https://cultura.cervantes.es/rabat/fr/Fusi%C3%B3n-flamenca-con-Issaoua/128404',\n",
       " 'https://cultura.cervantes.es/rabat/fr/Escuela-de-flamencos.-Fundaci%C3%B3n-Cristina-Heeren/128408']"
      ]
     },
     "execution_count": 14,
     "metadata": {},
     "output_type": "execute_result"
    }
   ],
   "source": [
    "liens"
   ]
  },
  {
   "cell_type": "markdown",
   "metadata": {},
   "source": [
    "### Scraping des Titres"
   ]
  },
  {
   "cell_type": "code",
   "execution_count": 15,
   "metadata": {},
   "outputs": [
    {
     "name": "stdout",
     "output_type": "stream",
     "text": [
      "Points d’intérêt: \"La poésie chantée par le flamenco\"\n",
      "Spectacle: \"Vandalus, héritage oriental du flamenco.\"\n",
      "Projection de cinéma: \"\"\n",
      "Spectacle: \"Compañía Jesús Carmona\"\n",
      "Projection de cinéma: \"Flamenco, flamenco\"\n",
      "Spectacle: \"Concert de fusion de la Fondation Cristina Heeren\"\n",
      "Projection de cinéma: \"École de flamenco. Fondation Cristina Heeren\"\n"
     ]
    }
   ],
   "source": [
    "noms = []\n",
    "x = 1\n",
    "for i in programaciones:\n",
    "    print(i.find_element_by_id('abreOtra'+str(x)+'_target').text)\n",
    "    noms.append(i.find_element_by_id('abreOtra'+str(x)+'_target').text)\n",
    "    x = x + 1"
   ]
  },
  {
   "cell_type": "code",
   "execution_count": 16,
   "metadata": {},
   "outputs": [
    {
     "data": {
      "text/plain": [
       "['Points d’intérêt: \"La poésie chantée par le flamenco\"',\n",
       " 'Spectacle: \"Vandalus, héritage oriental du flamenco.\"',\n",
       " 'Projection de cinéma: \"\"',\n",
       " 'Spectacle: \"Compañía Jesús Carmona\"',\n",
       " 'Projection de cinéma: \"Flamenco, flamenco\"',\n",
       " 'Spectacle: \"Concert de fusion de la Fondation Cristina Heeren\"',\n",
       " 'Projection de cinéma: \"École de flamenco. Fondation Cristina Heeren\"']"
      ]
     },
     "execution_count": 16,
     "metadata": {},
     "output_type": "execute_result"
    }
   ],
   "source": [
    "noms"
   ]
  },
  {
   "cell_type": "markdown",
   "metadata": {},
   "source": [
    "### Scraping des images"
   ]
  },
  {
   "cell_type": "code",
   "execution_count": 17,
   "metadata": {},
   "outputs": [
    {
     "data": {
      "text/plain": [
       "<Response [200]>"
      ]
     },
     "execution_count": 17,
     "metadata": {},
     "output_type": "execute_result"
    }
   ],
   "source": [
    "import requests\n",
    "\n",
    "url = 'https://cultura.cervantes.es/rabat/fr/Hayati--Mi-vida-de-Liliana-Torres-y-Sofi-Escud%C3%A9/125855'\n",
    "response = requests.get(url)\n",
    "response"
   ]
  },
  {
   "cell_type": "code",
   "execution_count": 18,
   "metadata": {},
   "outputs": [],
   "source": [
    "from time import time\n",
    "from time import sleep\n",
    "from random import randint"
   ]
  },
  {
   "cell_type": "code",
   "execution_count": 19,
   "metadata": {},
   "outputs": [],
   "source": [
    "start_time = time()\n",
    "requests = 0"
   ]
  },
  {
   "cell_type": "code",
   "execution_count": 20,
   "metadata": {},
   "outputs": [],
   "source": [
    "from bs4 import BeautifulSoup\n",
    "from requests import get"
   ]
  },
  {
   "cell_type": "code",
   "execution_count": 21,
   "metadata": {},
   "outputs": [],
   "source": [
    "x = \"https://hermes.cervantes.es\""
   ]
  },
  {
   "cell_type": "code",
   "execution_count": 36,
   "metadata": {
    "scrolled": true
   },
   "outputs": [
    {
     "name": "stdout",
     "output_type": "stream",
     "text": [
      "https://cultura.cervantes.es/rabat/fr/La-poes%C3%ADa-en-el-flamenco-/128414\n",
      "8\n",
      "du 01/10/2019 au 31/10/2019\n",
      "<img alt=\"La poésie chantée par le flamenco\" id=\"ctrlFichaWebActividad_imgPortada\" src=\"../../../SSAA/ImgSharepoint.ashx?UniqueId=900534fa-be15-4e63-a04f-f0206f788539\"/>\n",
      "https://hermes.cervantes.es/SSAA/ImgSharepoint.ashx?UniqueId=900534fa-be15-4e63-a04f-f0206f788539\n",
      "https://cultura.cervantes.es/rabat/fr/Vandalus,-herencia-oriental-del-flamenco/128108\n",
      "13\n",
      "du 05/10/2019 à 19:00 jusqu'à 20:30\n",
      "<img alt=\"Vandalus, héritage oriental du flamenco.\" id=\"ctrlFichaWebActividad_imgPortada\" src=\"../../../SSAA/ImgSharepoint.ashx?UniqueId=1c9b47bc-4f89-45e3-852e-acb148381a94\"/>\n",
      "https://hermes.cervantes.es/SSAA/ImgSharepoint.ashx?UniqueId=1c9b47bc-4f89-45e3-852e-acb148381a94\n",
      "https://cultura.cervantes.es/rabat/fr/Omega/128406\n",
      "9\n",
      "du 11/10/2019 à 18:30 jusqu'à 20:30\n",
      "<img id=\"ctrlFichaWebActividad_imgPortada\" src=\"../../../SSAA/ImgSharepoint.ashx?UniqueId=a5a63621-6c59-4f1f-a83d-fbea588225cc\"/>\n",
      "https://hermes.cervantes.es/SSAA/ImgSharepoint.ashx?UniqueId=a5a63621-6c59-4f1f-a83d-fbea588225cc\n",
      "https://cultura.cervantes.es/rabat/fr/Equilibrio-flamenco-de-Jes%C3%BAs-Carmona/128403\n",
      "11\n",
      "le 17/10/2019 à 19:00\n",
      "<img alt=\"Compañía Jesús Carmona\" id=\"ctrlFichaWebActividad_imgPortada\" src=\"../../../SSAA/ImgSharepoint.ashx?UniqueId=d691f495-f7c5-467c-ba56-9b0337de4113\"/>\n",
      "https://hermes.cervantes.es/SSAA/ImgSharepoint.ashx?UniqueId=d691f495-f7c5-467c-ba56-9b0337de4113\n",
      "https://cultura.cervantes.es/rabat/fr/Flamenco,-flamenco/128407\n",
      "15\n",
      "du 18/10/2019 à 18:30 jusqu'à 20:30\n",
      "<img alt=\"Flamenco, flamenco\" id=\"ctrlFichaWebActividad_imgPortada\" src=\"../../../SSAA/ImgSharepoint.ashx?UniqueId=9c3bc46b-ee25-4bfd-a84f-36955aebb775\"/>\n",
      "https://hermes.cervantes.es/SSAA/ImgSharepoint.ashx?UniqueId=9c3bc46b-ee25-4bfd-a84f-36955aebb775\n",
      "https://cultura.cervantes.es/rabat/fr/Fusi%C3%B3n-flamenca-con-Issaoua/128404\n",
      "10\n",
      "le 23/10/2019 à 20:00\n",
      "<img alt=\"Concert de fusion de la Fondation Cristina Heeren\" id=\"ctrlFichaWebActividad_imgPortada\" src=\"../../../SSAA/ImgSharepoint.ashx?UniqueId=1c67bf2a-2f8c-4eb1-9462-46ed9e4aaaba\"/>\n",
      "https://hermes.cervantes.es/SSAA/ImgSharepoint.ashx?UniqueId=1c67bf2a-2f8c-4eb1-9462-46ed9e4aaaba\n",
      "https://cultura.cervantes.es/rabat/fr/Escuela-de-flamencos.-Fundaci%C3%B3n-Cristina-Heeren/128408\n",
      "14\n",
      "du 25/10/2019 à 18:30 jusqu'à 20:30\n",
      "<img alt=\"École de flamenco. Fondation Cristina Heeren\" id=\"ctrlFichaWebActividad_imgPortada\" src=\"../../../SSAA/ImgSharepoint.ashx?UniqueId=5f044d10-8374-4efe-aad9-4d6b106fefd2\"/>\n",
      "https://hermes.cervantes.es/SSAA/ImgSharepoint.ashx?UniqueId=5f044d10-8374-4efe-aad9-4d6b106fefd2\n",
      "*** *** Done  *** ***\n"
     ]
    }
   ],
   "source": [
    "images = []\n",
    "horas = []\n",
    "for i in liens:\n",
    "    print(i)\n",
    "    response = get(i)\n",
    "    \n",
    "    timer = randint(8,15)\n",
    "    print(timer)\n",
    "    sleep(timer)\n",
    "    \n",
    "    #renvoyer un warning pour les non 'status code : 200'\n",
    "    if response.status_code != 200:\n",
    "        warn('Request: {}; Status code: {}'.format(requests, response.status_code))\n",
    "            \n",
    "     #parser en BS\n",
    "    soup = BeautifulSoup(response.text,'html.parser') \n",
    "    \n",
    "    \"\"\" Heures \"\"\"\n",
    "    h = soup.find('span',id='ctrlFichaWebActividad_rpFechas_lbfecha_0')\n",
    "    \n",
    "    if h is None:\n",
    "        horas.append('')\n",
    "        continue\n",
    "    \n",
    "    print(h.text)\n",
    "    horas.append(h.text)\n",
    "    \n",
    "    \n",
    "    \"\"\" Images \"\"\"\n",
    "    film = soup.find(\"main\")\n",
    "    img = film.find('img')\n",
    "    print(img)\n",
    "    \n",
    "    if img is None:\n",
    "        images.append(\"NO IMAGE\")\n",
    "        continue\n",
    "    \n",
    "    image = img['src']\n",
    "    \n",
    "    print(x+image[8:])\n",
    "    images.append(x+image[8:])\n",
    "    \n",
    "    \n",
    "print('*** *** Done  *** ***')"
   ]
  },
  {
   "cell_type": "markdown",
   "metadata": {},
   "source": [
    "**N.B : ** Les liens avec \"hermes\" contiennent les images des films"
   ]
  },
  {
   "cell_type": "markdown",
   "metadata": {},
   "source": [
    "### Traitement de l'heure"
   ]
  },
  {
   "cell_type": "markdown",
   "metadata": {},
   "source": [
    "Trouver la première occurence de \":\" que l'on trouve dans l'heure de début, puis récupérer les données autour qui"
   ]
  },
  {
   "cell_type": "code",
   "execution_count": 37,
   "metadata": {
    "scrolled": true
   },
   "outputs": [
    {
     "data": {
      "text/plain": [
       "['du 01/10/2019 au 31/10/2019',\n",
       " \"du 05/10/2019 à 19:00 jusqu'à 20:30\",\n",
       " \"du 11/10/2019 à 18:30 jusqu'à 20:30\",\n",
       " 'le 17/10/2019 à 19:00',\n",
       " \"du 18/10/2019 à 18:30 jusqu'à 20:30\",\n",
       " 'le 23/10/2019 à 20:00',\n",
       " \"du 25/10/2019 à 18:30 jusqu'à 20:30\"]"
      ]
     },
     "execution_count": 37,
     "metadata": {},
     "output_type": "execute_result"
    }
   ],
   "source": [
    "horas"
   ]
  },
  {
   "cell_type": "code",
   "execution_count": 38,
   "metadata": {},
   "outputs": [
    {
     "name": "stdout",
     "output_type": "stream",
     "text": [
      "\n",
      "19:00\n",
      "18:30\n",
      "19:00\n",
      "18:30\n",
      "20:00\n",
      "18:30\n"
     ]
    }
   ],
   "source": [
    "heures = []\n",
    "for i in horas:\n",
    "    c = i.find(':')\n",
    "    if c != -1:\n",
    "        print(i[(c-2):(c+3)])\n",
    "        heures.append(i[(c-2):(c+3)])\n",
    "    else:\n",
    "        print('')"
   ]
  },
  {
   "cell_type": "code",
   "execution_count": 39,
   "metadata": {},
   "outputs": [
    {
     "data": {
      "text/plain": [
       "['https://hermes.cervantes.es/SSAA/ImgSharepoint.ashx?UniqueId=900534fa-be15-4e63-a04f-f0206f788539',\n",
       " 'https://hermes.cervantes.es/SSAA/ImgSharepoint.ashx?UniqueId=1c9b47bc-4f89-45e3-852e-acb148381a94',\n",
       " 'https://hermes.cervantes.es/SSAA/ImgSharepoint.ashx?UniqueId=a5a63621-6c59-4f1f-a83d-fbea588225cc',\n",
       " 'https://hermes.cervantes.es/SSAA/ImgSharepoint.ashx?UniqueId=d691f495-f7c5-467c-ba56-9b0337de4113',\n",
       " 'https://hermes.cervantes.es/SSAA/ImgSharepoint.ashx?UniqueId=9c3bc46b-ee25-4bfd-a84f-36955aebb775',\n",
       " 'https://hermes.cervantes.es/SSAA/ImgSharepoint.ashx?UniqueId=1c67bf2a-2f8c-4eb1-9462-46ed9e4aaaba',\n",
       " 'https://hermes.cervantes.es/SSAA/ImgSharepoint.ashx?UniqueId=5f044d10-8374-4efe-aad9-4d6b106fefd2']"
      ]
     },
     "execution_count": 39,
     "metadata": {},
     "output_type": "execute_result"
    }
   ],
   "source": [
    "images"
   ]
  },
  {
   "cell_type": "markdown",
   "metadata": {},
   "source": [
    "### Combiner les données dans le même tableau"
   ]
  },
  {
   "cell_type": "code",
   "execution_count": 40,
   "metadata": {},
   "outputs": [],
   "source": [
    "prog = []\n",
    "for i,j,k,l,m,n in zip(noms,dates,heures,images,liens,descs):\n",
    "    t = (i,j,k,l,m,n,\"Instituto Cervantes\")\n",
    "    prog.append(t)"
   ]
  },
  {
   "cell_type": "code",
   "execution_count": 41,
   "metadata": {},
   "outputs": [
    {
     "data": {
      "text/plain": [
       "[('Points d’intérêt: \"La poésie chantée par le flamenco\"',\n",
       "  '01/10/2019 - 31/10/2019',\n",
       "  '19:00',\n",
       "  'https://hermes.cervantes.es/SSAA/ImgSharepoint.ashx?UniqueId=900534fa-be15-4e63-a04f-f0206f788539',\n",
       "  'https://cultura.cervantes.es/rabat/fr/La-poes%C3%ADa-en-el-flamenco-/128414',\n",
       "  \"Il s’agit d’une exposition bibliographique de livres de poésie que les artistes du monde de flamenco ont adaptés et adoptés pour leur composition musicale. A titre d'exemple, nous citons: Miguel Hernández, García Lorca, Les Frères Machado, Lope de Vega, Al-Mou’tamid, José Bergamín, Jorge Guillén et José Hierro...\",\n",
       "  'Instituto Cervantes'),\n",
       " ('Spectacle: \"Vandalus, héritage oriental du flamenco.\"',\n",
       "  '05/10/2019',\n",
       "  '18:30',\n",
       "  'https://hermes.cervantes.es/SSAA/ImgSharepoint.ashx?UniqueId=1c9b47bc-4f89-45e3-852e-acb148381a94',\n",
       "  'https://cultura.cervantes.es/rabat/fr/Vandalus,-herencia-oriental-del-flamenco/128108',\n",
       "  \"Vandalus représente l'élégance du Moyen-Orient, la passion et la force du flamenco, deux racines musicales dans une proposition musicale unique. La guitare flamenca mélodique et rythmée-vertueuse, renforcée par les flûtes et le tiroir avec instruments orientaux, à la fois sobre et raffinée mais à la fois puissante. Cante propose une série d'enregistrements contrastés, de chants profonds et de lyrisme débridé dans le même spectacle.\",\n",
       "  'Instituto Cervantes'),\n",
       " ('Projection de cinéma: \"\"',\n",
       "  '11/10/2019',\n",
       "  '19:00',\n",
       "  'https://hermes.cervantes.es/SSAA/ImgSharepoint.ashx?UniqueId=a5a63621-6c59-4f1f-a83d-fbea588225cc',\n",
       "  'https://cultura.cervantes.es/rabat/fr/Omega/128406',\n",
       "  'Omega est un documentaire sur le disque légendaire de flamenco-rock \"Omega\", composé en 1996 par le maestro Enrique Morente et le groupe Lagartija Nick de Grenade. Un disque émouvant qui a crée un grand impact au niveau du panorama musical national e international dans lequel Morente a adapté des thèmes du chanteur canadien Leonard Cohen et des compositions de la musique des poèmes de Federico García-Lorca.',\n",
       "  'Instituto Cervantes'),\n",
       " ('Spectacle: \"Compañía Jesús Carmona\"',\n",
       "  '17/10/2019',\n",
       "  '18:30',\n",
       "  'https://hermes.cervantes.es/SSAA/ImgSharepoint.ashx?UniqueId=d691f495-f7c5-467c-ba56-9b0337de4113',\n",
       "  'https://cultura.cervantes.es/rabat/fr/Equilibrio-flamenco-de-Jes%C3%BAs-Carmona/128403',\n",
       "  \"Dans EQUILIBRE FLAMENCO Jesús Carmona Nous montre sa version du flamenco. il fait preuve d'une grande maitrise de la danse, des divers rythmes traditionnel du flamenco, acompagné par une petite troupe qui possède la même qualité et force que sa danse. Jesús Carmona, né à Barcelone en 1985, commence sa formation à 7 ans à La Macarena et le Niño de Morón. Licencié en danse espagnole et flamenco par l'Institut de théâtre et de danse de la capitale barcelonaise en 2004. Enrichit ses études avec différents cours et professeurs tels qu'Antonio Canales, Rafaela Carrasco, Manolete, Eva Yerbabuena, Aida Gómez et d'autres grands maîtres de la danse. Espagnol et flamenco\",\n",
       "  'Instituto Cervantes'),\n",
       " ('Projection de cinéma: \"Flamenco, flamenco\"',\n",
       "  '18/10/2019',\n",
       "  '20:00',\n",
       "  'https://hermes.cervantes.es/SSAA/ImgSharepoint.ashx?UniqueId=9c3bc46b-ee25-4bfd-a84f-36955aebb775',\n",
       "  'https://cultura.cervantes.es/rabat/fr/Flamenco,-flamenco/128407',\n",
       "  \"Carlos Saura fait une analise de la diversité de l'art du flamenco, dans le deuxième film les sepctateurs pourront aprécier l'art du flamenco, à travers la musique, danses et chants qui sont d'une incomparable beauté.\",\n",
       "  'Instituto Cervantes'),\n",
       " ('Spectacle: \"Concert de fusion de la Fondation Cristina Heeren\"',\n",
       "  '23/10/2019',\n",
       "  '18:30',\n",
       "  'https://hermes.cervantes.es/SSAA/ImgSharepoint.ashx?UniqueId=1c67bf2a-2f8c-4eb1-9462-46ed9e4aaaba',\n",
       "  'https://cultura.cervantes.es/rabat/fr/Fusi%C3%B3n-flamenca-con-Issaoua/128404',\n",
       "  'Le spectacle de fusion se déroule en collaboration avec la Fondation Heeren de Flamenco et le Ministère de la culture et de la communication du Maroc. Les participants espagnols sont: Luisa Palicio, danseuse; Manuel Romero, chanter et Jesús Rodríguez, guitare.',\n",
       "  'Instituto Cervantes')]"
      ]
     },
     "execution_count": 41,
     "metadata": {},
     "output_type": "execute_result"
    }
   ],
   "source": [
    "prog"
   ]
  },
  {
   "cell_type": "markdown",
   "metadata": {},
   "source": [
    "### Convertir en objet Pandas"
   ]
  },
  {
   "cell_type": "code",
   "execution_count": 42,
   "metadata": {},
   "outputs": [],
   "source": [
    "import pandas as pd"
   ]
  },
  {
   "cell_type": "code",
   "execution_count": 43,
   "metadata": {},
   "outputs": [],
   "source": [
    "df = pd.DataFrame(prog,columns=['noms','date','heure','image','lien','description','lieu'])"
   ]
  },
  {
   "cell_type": "code",
   "execution_count": 44,
   "metadata": {},
   "outputs": [
    {
     "data": {
      "text/html": [
       "<div>\n",
       "<style>\n",
       "    .dataframe thead tr:only-child th {\n",
       "        text-align: right;\n",
       "    }\n",
       "\n",
       "    .dataframe thead th {\n",
       "        text-align: left;\n",
       "    }\n",
       "\n",
       "    .dataframe tbody tr th {\n",
       "        vertical-align: top;\n",
       "    }\n",
       "</style>\n",
       "<table border=\"1\" class=\"dataframe\">\n",
       "  <thead>\n",
       "    <tr style=\"text-align: right;\">\n",
       "      <th></th>\n",
       "      <th>noms</th>\n",
       "      <th>date</th>\n",
       "      <th>heure</th>\n",
       "      <th>image</th>\n",
       "      <th>lien</th>\n",
       "      <th>description</th>\n",
       "      <th>lieu</th>\n",
       "    </tr>\n",
       "  </thead>\n",
       "  <tbody>\n",
       "    <tr>\n",
       "      <th>0</th>\n",
       "      <td>Points d’intérêt: \"La poésie chantée par le fl...</td>\n",
       "      <td>01/10/2019 - 31/10/2019</td>\n",
       "      <td>19:00</td>\n",
       "      <td>https://hermes.cervantes.es/SSAA/ImgSharepoint...</td>\n",
       "      <td>https://cultura.cervantes.es/rabat/fr/La-poes%...</td>\n",
       "      <td>Il s’agit d’une exposition bibliographique de ...</td>\n",
       "      <td>Instituto Cervantes</td>\n",
       "    </tr>\n",
       "    <tr>\n",
       "      <th>1</th>\n",
       "      <td>Spectacle: \"Vandalus, héritage oriental du fla...</td>\n",
       "      <td>05/10/2019</td>\n",
       "      <td>18:30</td>\n",
       "      <td>https://hermes.cervantes.es/SSAA/ImgSharepoint...</td>\n",
       "      <td>https://cultura.cervantes.es/rabat/fr/Vandalus...</td>\n",
       "      <td>Vandalus représente l'élégance du Moyen-Orient...</td>\n",
       "      <td>Instituto Cervantes</td>\n",
       "    </tr>\n",
       "    <tr>\n",
       "      <th>2</th>\n",
       "      <td>Projection de cinéma: \"\"</td>\n",
       "      <td>11/10/2019</td>\n",
       "      <td>19:00</td>\n",
       "      <td>https://hermes.cervantes.es/SSAA/ImgSharepoint...</td>\n",
       "      <td>https://cultura.cervantes.es/rabat/fr/Omega/12...</td>\n",
       "      <td>Omega est un documentaire sur le disque légend...</td>\n",
       "      <td>Instituto Cervantes</td>\n",
       "    </tr>\n",
       "    <tr>\n",
       "      <th>3</th>\n",
       "      <td>Spectacle: \"Compañía Jesús Carmona\"</td>\n",
       "      <td>17/10/2019</td>\n",
       "      <td>18:30</td>\n",
       "      <td>https://hermes.cervantes.es/SSAA/ImgSharepoint...</td>\n",
       "      <td>https://cultura.cervantes.es/rabat/fr/Equilibr...</td>\n",
       "      <td>Dans EQUILIBRE FLAMENCO Jesús Carmona Nous mon...</td>\n",
       "      <td>Instituto Cervantes</td>\n",
       "    </tr>\n",
       "    <tr>\n",
       "      <th>4</th>\n",
       "      <td>Projection de cinéma: \"Flamenco, flamenco\"</td>\n",
       "      <td>18/10/2019</td>\n",
       "      <td>20:00</td>\n",
       "      <td>https://hermes.cervantes.es/SSAA/ImgSharepoint...</td>\n",
       "      <td>https://cultura.cervantes.es/rabat/fr/Flamenco...</td>\n",
       "      <td>Carlos Saura fait une analise de la diversité ...</td>\n",
       "      <td>Instituto Cervantes</td>\n",
       "    </tr>\n",
       "    <tr>\n",
       "      <th>5</th>\n",
       "      <td>Spectacle: \"Concert de fusion de la Fondation ...</td>\n",
       "      <td>23/10/2019</td>\n",
       "      <td>18:30</td>\n",
       "      <td>https://hermes.cervantes.es/SSAA/ImgSharepoint...</td>\n",
       "      <td>https://cultura.cervantes.es/rabat/fr/Fusi%C3%...</td>\n",
       "      <td>Le spectacle de fusion se déroule en collabora...</td>\n",
       "      <td>Instituto Cervantes</td>\n",
       "    </tr>\n",
       "  </tbody>\n",
       "</table>\n",
       "</div>"
      ],
      "text/plain": [
       "                                                noms                     date  \\\n",
       "0  Points d’intérêt: \"La poésie chantée par le fl...  01/10/2019 - 31/10/2019   \n",
       "1  Spectacle: \"Vandalus, héritage oriental du fla...               05/10/2019   \n",
       "2                           Projection de cinéma: \"\"               11/10/2019   \n",
       "3                Spectacle: \"Compañía Jesús Carmona\"               17/10/2019   \n",
       "4         Projection de cinéma: \"Flamenco, flamenco\"               18/10/2019   \n",
       "5  Spectacle: \"Concert de fusion de la Fondation ...               23/10/2019   \n",
       "\n",
       "   heure                                              image  \\\n",
       "0  19:00  https://hermes.cervantes.es/SSAA/ImgSharepoint...   \n",
       "1  18:30  https://hermes.cervantes.es/SSAA/ImgSharepoint...   \n",
       "2  19:00  https://hermes.cervantes.es/SSAA/ImgSharepoint...   \n",
       "3  18:30  https://hermes.cervantes.es/SSAA/ImgSharepoint...   \n",
       "4  20:00  https://hermes.cervantes.es/SSAA/ImgSharepoint...   \n",
       "5  18:30  https://hermes.cervantes.es/SSAA/ImgSharepoint...   \n",
       "\n",
       "                                                lien  \\\n",
       "0  https://cultura.cervantes.es/rabat/fr/La-poes%...   \n",
       "1  https://cultura.cervantes.es/rabat/fr/Vandalus...   \n",
       "2  https://cultura.cervantes.es/rabat/fr/Omega/12...   \n",
       "3  https://cultura.cervantes.es/rabat/fr/Equilibr...   \n",
       "4  https://cultura.cervantes.es/rabat/fr/Flamenco...   \n",
       "5  https://cultura.cervantes.es/rabat/fr/Fusi%C3%...   \n",
       "\n",
       "                                         description                 lieu  \n",
       "0  Il s’agit d’une exposition bibliographique de ...  Instituto Cervantes  \n",
       "1  Vandalus représente l'élégance du Moyen-Orient...  Instituto Cervantes  \n",
       "2  Omega est un documentaire sur le disque légend...  Instituto Cervantes  \n",
       "3  Dans EQUILIBRE FLAMENCO Jesús Carmona Nous mon...  Instituto Cervantes  \n",
       "4  Carlos Saura fait une analise de la diversité ...  Instituto Cervantes  \n",
       "5  Le spectacle de fusion se déroule en collabora...  Instituto Cervantes  "
      ]
     },
     "execution_count": 44,
     "metadata": {},
     "output_type": "execute_result"
    }
   ],
   "source": [
    "df"
   ]
  },
  {
   "cell_type": "code",
   "execution_count": null,
   "metadata": {},
   "outputs": [],
   "source": []
  }
 ],
 "metadata": {
  "kernelspec": {
   "display_name": "Python 3",
   "language": "python",
   "name": "python3"
  },
  "language_info": {
   "codemirror_mode": {
    "name": "ipython",
    "version": 3
   },
   "file_extension": ".py",
   "mimetype": "text/x-python",
   "name": "python",
   "nbconvert_exporter": "python",
   "pygments_lexer": "ipython3",
   "version": "3.6.1"
  }
 },
 "nbformat": 4,
 "nbformat_minor": 2
}
