{
 "cells": [
  {
   "cell_type": "markdown",
   "metadata": {},
   "source": [
    "# Scraping des évènements : Institut Cervantes"
   ]
  },
  {
   "cell_type": "code",
   "execution_count": 1,
   "metadata": {},
   "outputs": [],
   "source": [
    "from selenium import webdriver"
   ]
  },
  {
   "cell_type": "code",
   "execution_count": 2,
   "metadata": {},
   "outputs": [],
   "source": [
    "driver = webdriver.Chrome(\"C:/webdrivers/chromedriver.exe\")"
   ]
  },
  {
   "cell_type": "code",
   "execution_count": 3,
   "metadata": {},
   "outputs": [],
   "source": [
    "driver.get('https://rabat.cervantes.es/fr/culture_espagnole/activites_culturelles_espagnoles.shtm')\n",
    "page = driver.page_source"
   ]
  },
  {
   "cell_type": "markdown",
   "metadata": {},
   "source": [
    "## Scraping du matériel principal à partir duquel découlera toute l'information"
   ]
  },
  {
   "cell_type": "code",
   "execution_count": 4,
   "metadata": {},
   "outputs": [],
   "source": [
    "iframe = driver.find_element_by_tag_name('iframe')"
   ]
  },
  {
   "cell_type": "code",
   "execution_count": 5,
   "metadata": {},
   "outputs": [],
   "source": [
    "driver.switch_to.frame(iframe)"
   ]
  },
  {
   "cell_type": "code",
   "execution_count": 6,
   "metadata": {},
   "outputs": [],
   "source": [
    "programaciones = driver.find_elements_by_class_name('programacionmes_principal')"
   ]
  },
  {
   "cell_type": "code",
   "execution_count": 7,
   "metadata": {},
   "outputs": [
    {
     "name": "stdout",
     "output_type": "stream",
     "text": [
      "<selenium.webdriver.remote.webelement.WebElement (session=\"15cfd0522d977391d3153033bfbe95a8\", element=\"f1e09d9b-772c-466c-8352-1db53a569e1d\")>\n",
      "<selenium.webdriver.remote.webelement.WebElement (session=\"15cfd0522d977391d3153033bfbe95a8\", element=\"4af06997-bb12-46f0-b974-7c165a6879ec\")>\n",
      "<selenium.webdriver.remote.webelement.WebElement (session=\"15cfd0522d977391d3153033bfbe95a8\", element=\"c7a14567-c592-4ded-8f98-c91a5166411d\")>\n",
      "<selenium.webdriver.remote.webelement.WebElement (session=\"15cfd0522d977391d3153033bfbe95a8\", element=\"d1bda3d3-344d-4158-8d94-776473477643\")>\n"
     ]
    }
   ],
   "source": [
    "for i in programaciones:\n",
    "    print(i)"
   ]
  },
  {
   "cell_type": "code",
   "execution_count": 8,
   "metadata": {},
   "outputs": [
    {
     "data": {
      "text/plain": [
       "4"
      ]
     },
     "execution_count": 8,
     "metadata": {},
     "output_type": "execute_result"
    }
   ],
   "source": [
    "len(programaciones)"
   ]
  },
  {
   "cell_type": "markdown",
   "metadata": {},
   "source": [
    "### Scraping des dates"
   ]
  },
  {
   "cell_type": "code",
   "execution_count": 9,
   "metadata": {
    "scrolled": true
   },
   "outputs": [
    {
     "name": "stdout",
     "output_type": "stream",
     "text": [
      "03/09/2019 - 30/09/2019\n",
      "13/09/2019\n",
      "20/09/2019\n",
      "27/09/2019\n"
     ]
    }
   ],
   "source": [
    "dates = []\n",
    "for i in programaciones:\n",
    "    print(i.find_element_by_class_name('programacionmes_fecha').text)\n",
    "    dates.append(i.find_element_by_class_name('programacionmes_fecha').text)"
   ]
  },
  {
   "cell_type": "code",
   "execution_count": 10,
   "metadata": {},
   "outputs": [
    {
     "data": {
      "text/plain": [
       "['03/09/2019 - 30/09/2019', '13/09/2019', '20/09/2019', '27/09/2019']"
      ]
     },
     "execution_count": 10,
     "metadata": {},
     "output_type": "execute_result"
    }
   ],
   "source": [
    "dates"
   ]
  },
  {
   "cell_type": "markdown",
   "metadata": {},
   "source": [
    "### Scraping des descriptions!"
   ]
  },
  {
   "cell_type": "code",
   "execution_count": 11,
   "metadata": {},
   "outputs": [
    {
     "name": "stdout",
     "output_type": "stream",
     "text": [
      "Découvrez les dernières nouveautés du matériel concernant l’apprentissage et l’enseignement de l’Espagnol Langue Etrangère (ELE) que nous disposons dans notre bibliothèque: manuels, grammaires, lectures faciles, espagnol pour enfants et adolescents, préparation DELE et didactique de l’Espagnol Langue Etrangère.\n",
      "En 2015, dans leur vol en provenance de Syrie, Ossamah et son jeune fils ont été victimes d'un voyage à la frontière hongroise par un journaliste. L'image est devenue virale et est devenue l'une des icônes les plus honteuses du conflit. Paradoxalement, cela lui a permis d’atteindre Madrid. Le reste de sa famille est coincé en Turquie. Son exemple nous permet de réfléchir à la survie des familles syriennes bloquées en Turquie. Que fait-on de tes rêves? HAYATI (Ma vie), c'est l'histoire d'Ossamah, mais aussi de Moatassam, Youssef et Muhannad, trois footballeurs syriens prometteurs à qui la guerre a confisqué leur avenir.\n",
      "ldo et Gabriella sont mariés depuis presque cinquante ans, ils ont trois enfants et plusieurs petits-enfants et se préparent à vivre leur vieillesse en paix. Mais quelque chose ne va pas. Les jeunes passionnés les uns des autres dans les années 50, qui juraient de s'aimer et de s'accompagner jusqu'au dernier jour, sont distraits. Leurs personnalités, leurs intérêts et leurs façons de voir le monde ne sont plus les mêmes. Et quand ils ont quatre-vingts ans, ils commencent à se demander: pourquoi sommes-nous ensemble? La fleur de la vie est un conte de fées face à la réalité, une histoire universelle sur l’amour - et le chagrin -, les relations et les défis du vieillissement.\n",
      "En 1997, trente ans après la mort de Che Guevara, Fernando Birri a parcouru l’Amérique latine dans le but simple et puissant de revenir sur sa figure, en plus de redécouvrir dans différents témoignages le sens et la validité des utopies.\n"
     ]
    }
   ],
   "source": [
    "descs = []\n",
    "for i in programaciones:\n",
    "    print(i.find_element_by_class_name('programacionmes_contenido').text)\n",
    "    descs.append(i.find_element_by_class_name('programacionmes_contenido').text)"
   ]
  },
  {
   "cell_type": "code",
   "execution_count": 12,
   "metadata": {},
   "outputs": [
    {
     "data": {
      "text/plain": [
       "['Découvrez les dernières nouveautés du matériel concernant l’apprentissage et l’enseignement de l’Espagnol Langue Etrangère (ELE) que nous disposons dans notre bibliothèque: manuels, grammaires, lectures faciles, espagnol pour enfants et adolescents, préparation DELE et didactique de l’Espagnol Langue Etrangère.',\n",
       " \"En 2015, dans leur vol en provenance de Syrie, Ossamah et son jeune fils ont été victimes d'un voyage à la frontière hongroise par un journaliste. L'image est devenue virale et est devenue l'une des icônes les plus honteuses du conflit. Paradoxalement, cela lui a permis d’atteindre Madrid. Le reste de sa famille est coincé en Turquie. Son exemple nous permet de réfléchir à la survie des familles syriennes bloquées en Turquie. Que fait-on de tes rêves? HAYATI (Ma vie), c'est l'histoire d'Ossamah, mais aussi de Moatassam, Youssef et Muhannad, trois footballeurs syriens prometteurs à qui la guerre a confisqué leur avenir.\",\n",
       " \"ldo et Gabriella sont mariés depuis presque cinquante ans, ils ont trois enfants et plusieurs petits-enfants et se préparent à vivre leur vieillesse en paix. Mais quelque chose ne va pas. Les jeunes passionnés les uns des autres dans les années 50, qui juraient de s'aimer et de s'accompagner jusqu'au dernier jour, sont distraits. Leurs personnalités, leurs intérêts et leurs façons de voir le monde ne sont plus les mêmes. Et quand ils ont quatre-vingts ans, ils commencent à se demander: pourquoi sommes-nous ensemble? La fleur de la vie est un conte de fées face à la réalité, une histoire universelle sur l’amour - et le chagrin -, les relations et les défis du vieillissement.\",\n",
       " 'En 1997, trente ans après la mort de Che Guevara, Fernando Birri a parcouru l’Amérique latine dans le but simple et puissant de revenir sur sa figure, en plus de redécouvrir dans différents témoignages le sens et la validité des utopies.']"
      ]
     },
     "execution_count": 12,
     "metadata": {},
     "output_type": "execute_result"
    }
   ],
   "source": [
    "descs"
   ]
  },
  {
   "cell_type": "markdown",
   "metadata": {},
   "source": [
    "### Scraping des liens"
   ]
  },
  {
   "cell_type": "code",
   "execution_count": 13,
   "metadata": {},
   "outputs": [
    {
     "name": "stdout",
     "output_type": "stream",
     "text": [
      "https://cultura.cervantes.es/rabat/fr/Novedades-ELE/128413\n",
      "https://cultura.cervantes.es/rabat/fr/Hayati--Mi-vida-de-Liliana-Torres-y-Sofi-Escud%C3%A9/125855\n",
      "https://cultura.cervantes.es/rabat/fr/La-flor-de-la-vida-de-Liliana-Torres-y-Sofi-Escud%C3%A9/125856\n",
      "https://cultura.cervantes.es/rabat/fr/Ata-tu-arado-a-una-estrella-de-Carmen-Guarini/125858\n"
     ]
    }
   ],
   "source": [
    "liens = []\n",
    "x = 1\n",
    "for i in programaciones:\n",
    "    print(i.find_element_by_id('abreOtra'+str(x)+'_target').get_attribute('href'))\n",
    "    liens.append(i.find_element_by_id('abreOtra'+str(x)+'_target').get_attribute('href'))\n",
    "    x = x + 1"
   ]
  },
  {
   "cell_type": "code",
   "execution_count": 14,
   "metadata": {},
   "outputs": [
    {
     "data": {
      "text/plain": [
       "['https://cultura.cervantes.es/rabat/fr/Novedades-ELE/128413',\n",
       " 'https://cultura.cervantes.es/rabat/fr/Hayati--Mi-vida-de-Liliana-Torres-y-Sofi-Escud%C3%A9/125855',\n",
       " 'https://cultura.cervantes.es/rabat/fr/La-flor-de-la-vida-de-Liliana-Torres-y-Sofi-Escud%C3%A9/125856',\n",
       " 'https://cultura.cervantes.es/rabat/fr/Ata-tu-arado-a-una-estrella-de-Carmen-Guarini/125858']"
      ]
     },
     "execution_count": 14,
     "metadata": {},
     "output_type": "execute_result"
    }
   ],
   "source": [
    "liens"
   ]
  },
  {
   "cell_type": "markdown",
   "metadata": {},
   "source": [
    "### Scraping des Titres"
   ]
  },
  {
   "cell_type": "code",
   "execution_count": 15,
   "metadata": {},
   "outputs": [
    {
     "name": "stdout",
     "output_type": "stream",
     "text": [
      "\n",
      "Projection de cinéma: \"Hayati/ Mi vida de Liliana Torres y Sofi Escudé\"\n",
      "Projection de cinéma: \"La flor de la vida de Liliana Torres y Sofi Escudé\"\n",
      "Projection de cinéma: \"Ata tu arado a una estrella de Carmen Guarini\"\n"
     ]
    }
   ],
   "source": [
    "noms = []\n",
    "x = 1\n",
    "for i in programaciones:\n",
    "    print(i.find_element_by_id('abreOtra'+str(x)+'_target').text)\n",
    "    noms.append(i.find_element_by_id('abreOtra'+str(x)+'_target').text)\n",
    "    x = x + 1"
   ]
  },
  {
   "cell_type": "code",
   "execution_count": 16,
   "metadata": {},
   "outputs": [
    {
     "data": {
      "text/plain": [
       "['',\n",
       " 'Projection de cinéma: \"Hayati/ Mi vida de Liliana Torres y Sofi Escudé\"',\n",
       " 'Projection de cinéma: \"La flor de la vida de Liliana Torres y Sofi Escudé\"',\n",
       " 'Projection de cinéma: \"Ata tu arado a una estrella de Carmen Guarini\"']"
      ]
     },
     "execution_count": 16,
     "metadata": {},
     "output_type": "execute_result"
    }
   ],
   "source": [
    "noms"
   ]
  },
  {
   "cell_type": "markdown",
   "metadata": {},
   "source": [
    "### Scraping des images"
   ]
  },
  {
   "cell_type": "code",
   "execution_count": 41,
   "metadata": {},
   "outputs": [
    {
     "data": {
      "text/plain": [
       "<Response [200]>"
      ]
     },
     "execution_count": 41,
     "metadata": {},
     "output_type": "execute_result"
    }
   ],
   "source": [
    "import requests\n",
    "\n",
    "url = 'https://cultura.cervantes.es/rabat/fr/Hayati--Mi-vida-de-Liliana-Torres-y-Sofi-Escud%C3%A9/125855'\n",
    "response = requests.get(url)\n",
    "response"
   ]
  },
  {
   "cell_type": "code",
   "execution_count": 42,
   "metadata": {},
   "outputs": [
    {
     "data": {
      "text/plain": [
       "bs4.BeautifulSoup"
      ]
     },
     "execution_count": 42,
     "metadata": {},
     "output_type": "execute_result"
    }
   ],
   "source": [
    "from bs4 import BeautifulSoup\n",
    "\n",
    "soup = BeautifulSoup(response.text,'html.parser')\n",
    "type(soup)"
   ]
  },
  {
   "cell_type": "code",
   "execution_count": 49,
   "metadata": {},
   "outputs": [],
   "source": [
    "films = soup.find(\"main\")"
   ]
  },
  {
   "cell_type": "code",
   "execution_count": 50,
   "metadata": {},
   "outputs": [
    {
     "data": {
      "text/plain": [
       "<main>\n",
       "<div id=\"mainWrapper\">\n",
       "<section class=\"bordeInferior\">\n",
       "<article>\n",
       "<h1><span id=\"ctrlFichaWebActividad_lbTituloActividad\">Hayati/ Mi vida de Liliana Torres y Sofi Escudé</span></h1>\n",
       "<img alt=\"Hayati/ Mi vida de Liliana Torres y Sofi Escudé\" id=\"ctrlFichaWebActividad_imgPortada\" src=\"../../../SSAA/ImgSharepoint.ashx?UniqueId=7ac77f53-9d92-4b6f-8aa5-f9d06e05d0d9\"/>\n",
       "<cite><span id=\"ctrlFichaWebActividad_lbAutor\">Liliana Torres y Sofi Escudé</span></cite>\n",
       "<p><span id=\"ctrlFichaWebActividad_lbResumen\">En 2015, dans leur vol en provenance de Syrie, Ossamah et son jeune fils ont été victimes d'un voyage à la frontière hongroise par un journaliste. L'image est devenue virale et est devenue l'une des icônes les plus honteuses du conflit. Paradoxalement, cela lui a permis d’atteindre Madrid. Le reste de sa famille est coincé en Turquie. Son exemple nous permet de réfléchir à la survie des familles syriennes bloquées en Turquie. Que fait-on de tes rêves? HAYATI (Ma vie), c'est l'histoire d'Ossamah, mais aussi de Moatassam, Youssef et Muhannad, trois footballeurs syriens prometteurs à qui la guerre a confisqué leur avenir.</span></p>\n",
       "</article>\n",
       "</section>\n",
       "<section id=\"actividadesRelacionadas\">\n",
       "<h2>Dans</h2>\n",
       "<ul>\n",
       "<li>\n",
       "<li><a href=\"https://cultura.cervantes.es/rabat/fr/zonazine-documental-en-espa%c3%b1ol/125853\" id=\"ctrlFichaWebActividad_rpActividadesDentroDe_lnkActRelacionadas_0\" target=\"_blank\" title=\"Zonazine documental en español\">Zonazine documental en español</a>\n",
       "</li>\n",
       "</li></ul>\n",
       "</section>\n",
       "</div>\n",
       "<aside>\n",
       "<section id=\"fichaTecnica2\">\n",
       "<h2>Fiche technique</h2>\n",
       "<ul>\n",
       "<li><span class=\"negrita\">Projection:</span> Hatati/Mi vida</li>\n",
       "<li><span class=\"negrita\">Directeur/s:</span> Liliana Torres y Sofi Escudé</li>\n",
       "<li><span class=\"negrita\">Année production:</span> 2018</li>\n",
       "<li><span class=\"negrita\">Format:</span> DVD</li>\n",
       "<li><span class=\"negrita\">Durée:</span> Largometraje - 83 min</li>\n",
       "<li><span class=\"negrita\">Genre:</span> Documental</li>\n",
       "<li><span class=\"negrita\">Pays production:</span> España</li>\n",
       "<li style=\"display:none;\"><span class=\"negrita\">Maisons de production:</span> </li>\n",
       "<li style=\"display:none;\">Acteurs principaux:</li></ul></section></aside></main>"
      ]
     },
     "execution_count": 50,
     "metadata": {},
     "output_type": "execute_result"
    }
   ],
   "source": [
    "films"
   ]
  },
  {
   "cell_type": "code",
   "execution_count": 51,
   "metadata": {},
   "outputs": [
    {
     "data": {
      "text/plain": [
       "<img alt=\"Hayati/ Mi vida de Liliana Torres y Sofi Escudé\" id=\"ctrlFichaWebActividad_imgPortada\" src=\"../../../SSAA/ImgSharepoint.ashx?UniqueId=7ac77f53-9d92-4b6f-8aa5-f9d06e05d0d9\"/>"
      ]
     },
     "execution_count": 51,
     "metadata": {},
     "output_type": "execute_result"
    }
   ],
   "source": [
    "films.img"
   ]
  },
  {
   "cell_type": "code",
   "execution_count": 53,
   "metadata": {},
   "outputs": [
    {
     "data": {
      "text/plain": [
       "<img alt=\"Hayati/ Mi vida de Liliana Torres y Sofi Escudé\" id=\"ctrlFichaWebActividad_imgPortada\" src=\"../../../SSAA/ImgSharepoint.ashx?UniqueId=7ac77f53-9d92-4b6f-8aa5-f9d06e05d0d9\"/>"
      ]
     },
     "execution_count": 53,
     "metadata": {},
     "output_type": "execute_result"
    }
   ],
   "source": [
    "image = films.img\n",
    "image"
   ]
  },
  {
   "cell_type": "code",
   "execution_count": 57,
   "metadata": {},
   "outputs": [],
   "source": [
    "img_link = image['src']"
   ]
  },
  {
   "cell_type": "code",
   "execution_count": 61,
   "metadata": {},
   "outputs": [],
   "source": [
    "x = \"https://hermes.cervantes.es\""
   ]
  },
  {
   "cell_type": "code",
   "execution_count": 62,
   "metadata": {},
   "outputs": [],
   "source": [
    "y = img_link[8:]"
   ]
  },
  {
   "cell_type": "code",
   "execution_count": 64,
   "metadata": {},
   "outputs": [
    {
     "name": "stdout",
     "output_type": "stream",
     "text": [
      "https://hermes.cervantes.es/SSAA/ImgSharepoint.ashx?UniqueId=7ac77f53-9d92-4b6f-8aa5-f9d06e05d0d9\n"
     ]
    }
   ],
   "source": [
    "print(x+y)"
   ]
  },
  {
   "cell_type": "code",
   "execution_count": null,
   "metadata": {},
   "outputs": [],
   "source": []
  }
 ],
 "metadata": {
  "kernelspec": {
   "display_name": "Python 3",
   "language": "python",
   "name": "python3"
  },
  "language_info": {
   "codemirror_mode": {
    "name": "ipython",
    "version": 3
   },
   "file_extension": ".py",
   "mimetype": "text/x-python",
   "name": "python",
   "nbconvert_exporter": "python",
   "pygments_lexer": "ipython3",
   "version": "3.6.1"
  }
 },
 "nbformat": 4,
 "nbformat_minor": 2
}
