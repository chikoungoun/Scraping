{
 "cells": [
  {
   "cell_type": "markdown",
   "metadata": {},
   "source": [
    "# Scraper CineAtlas avec des fonctions"
   ]
  },
  {
   "cell_type": "code",
   "execution_count": 3,
   "metadata": {},
   "outputs": [],
   "source": [
    "import re\n",
    "import json\n",
    "import requests\n",
    "from ast import literal_eval\n",
    "\n",
    "url = 'https://www.cineatlas.com/'\n",
    "\n",
    "html_data = requests.get(url).text\n",
    "movieData = re.findall(r'movieData = ({.*?}), movieDataByReleaseDate', html_data, flags=re.DOTALL)[0]\n",
    "movieData = re.sub(r'\\s*/\\*.*?\\*/\\s*', '', movieData)   # remove comments\n",
    "movieData = literal_eval(movieData) # in movieData you have now the information about the current movies"
   ]
  },
  {
   "cell_type": "markdown",
   "metadata": {},
   "source": [
    "### Formater le JSON pour plus de lisibilité"
   ]
  },
  {
   "cell_type": "code",
   "execution_count": 4,
   "metadata": {},
   "outputs": [],
   "source": [
    "jfile = json.dumps(movieData, indent=4)"
   ]
  },
  {
   "cell_type": "code",
   "execution_count": 5,
   "metadata": {},
   "outputs": [],
   "source": [
    "data = json.loads(jfile)"
   ]
  },
  {
   "cell_type": "markdown",
   "metadata": {},
   "source": [
    "## Scraper les dates"
   ]
  },
  {
   "cell_type": "markdown",
   "metadata": {},
   "source": [
    "Le fichier JSON est défini date par date. Il faut d'abord isoler ces données pour les réutiliser avec les fonctions"
   ]
  },
  {
   "cell_type": "code",
   "execution_count": 7,
   "metadata": {},
   "outputs": [
    {
     "name": "stdout",
     "output_type": "stream",
     "text": [
      "2019-08-11\n",
      "2019-08-12\n",
      "2019-08-13\n"
     ]
    }
   ],
   "source": [
    "dates = [ ]\n",
    "for k in data:\n",
    "    dates.append(k)\n",
    "    print(k)"
   ]
  },
  {
   "cell_type": "markdown",
   "metadata": {},
   "source": [
    "# ---------------    Fonctions   -------------------------"
   ]
  },
  {
   "cell_type": "markdown",
   "metadata": {},
   "source": [
    "## Liens :"
   ]
  },
  {
   "cell_type": "code",
   "execution_count": 32,
   "metadata": {},
   "outputs": [],
   "source": [
    "def scrape_liens(date):\n",
    "    mLiens = []\n",
    "    for i in data.get(date):\n",
    "        print(i['url'])\n",
    "        mLiens.append(\"https://www.cineatlas.com/movie/\"+str(i['url']))\n",
    "    return mLiens"
   ]
  },
  {
   "cell_type": "markdown",
   "metadata": {},
   "source": [
    "## Noms :"
   ]
  },
  {
   "cell_type": "code",
   "execution_count": 28,
   "metadata": {},
   "outputs": [],
   "source": [
    "def scrape_noms(date):\n",
    "    mNoms = []\n",
    "    for i in data.get(date):\n",
    "        print(i['title'])\n",
    "        mNoms.append((i['title']))\n",
    "    return mNoms"
   ]
  },
  {
   "cell_type": "markdown",
   "metadata": {},
   "source": [
    "## Images : "
   ]
  },
  {
   "cell_type": "code",
   "execution_count": 29,
   "metadata": {},
   "outputs": [],
   "source": [
    "def scrape_images(date):\n",
    "    mImages = []\n",
    "    for i in data.get(date):\n",
    "        print(i['image-portrait'])\n",
    "        mImages.append((i['image-portrait']))\n",
    "    return mImages\n",
    "    "
   ]
  },
  {
   "cell_type": "markdown",
   "metadata": {},
   "source": [
    "## Heures :"
   ]
  },
  {
   "cell_type": "code",
   "execution_count": 30,
   "metadata": {},
   "outputs": [],
   "source": [
    "def scrape_heures(date):\n",
    "    mHeures = []\n",
    "    heures = []\n",
    "    \n",
    "    for i in data.get(date):\n",
    "        h = []\n",
    "        for j in i['times']:\n",
    "            print(j['time'])\n",
    "            h.append(j['time'])\n",
    "        print(\" *** *** BUMPER *** ***\")\n",
    "        heures.append(h)\n",
    "    \n",
    "    for i in heures:\n",
    "        s = \"\"\n",
    "        for j in i:\n",
    "            s =s+str(j)+\" \"\n",
    "        mHeures.append(s)     \n",
    "        \n",
    "    return mHeures    "
   ]
  },
  {
   "cell_type": "markdown",
   "metadata": {},
   "source": [
    "## Descriptions :"
   ]
  },
  {
   "cell_type": "code",
   "execution_count": 18,
   "metadata": {},
   "outputs": [],
   "source": [
    "from time import time\n",
    "from time import sleep\n",
    "from random import randint"
   ]
  },
  {
   "cell_type": "code",
   "execution_count": 19,
   "metadata": {},
   "outputs": [],
   "source": [
    "from bs4 import BeautifulSoup\n",
    "from requests import get"
   ]
  },
  {
   "cell_type": "code",
   "execution_count": null,
   "metadata": {},
   "outputs": [],
   "source": []
  },
  {
   "cell_type": "code",
   "execution_count": 44,
   "metadata": {},
   "outputs": [],
   "source": [
    "def scrape_descriptions(links):\n",
    "    \n",
    "    mDescs = []\n",
    "    \n",
    "    start_time = time()\n",
    "    requests = 0\n",
    "    \n",
    "   \n",
    "    for i in links:\n",
    "        print(i)\n",
    "        response = get(i)\n",
    "    \n",
    "        timer = randint(8,15)\n",
    "        #pause de loop\n",
    "        print(timer)\n",
    "        sleep(timer)\n",
    "    \n",
    "        #renvoyer un warning pour les non 'status code : 200'\n",
    "        if response.status_code != 200:\n",
    "            warn('Request: {}; Status code: {}'.format(requests, response.status_code))\n",
    "            \n",
    "        #parser en BS\n",
    "        page_html = BeautifulSoup(response.text,'html.parser')  \n",
    "    \n",
    "        events = page_html.find('div',class_='mobile-hide movie-details-container')\n",
    "    \n",
    "        if events is None:\n",
    "            mDescs.append(\"NO DESCRIPTION\")\n",
    "            continue\n",
    "    \n",
    "        event = events.find('div',class_='movie-details')   \n",
    "    \n",
    "        \n",
    "        #dans le trou du cul du code (aka 4eme <p> du <div> cible )\n",
    "        print(event.findAll('p',recursive=False)[3].text)\n",
    "    \n",
    "        mDescs.append(event.findAll('p',recursive=False)[3].text)\n",
    "        \n",
    "    print(\"** Done **\") \n",
    "    \n",
    "    return mDescs\n",
    "    \n",
    "     \n",
    "    \n",
    "    \n",
    "    "
   ]
  },
  {
   "cell_type": "markdown",
   "metadata": {},
   "source": [
    "# ------------------- TESTER LE BORDEL  pour une seule date ------------------"
   ]
  },
  {
   "cell_type": "code",
   "execution_count": 21,
   "metadata": {
    "scrolled": true
   },
   "outputs": [
    {
     "data": {
      "text/plain": [
       "['2019-08-11', '2019-08-12', '2019-08-13']"
      ]
     },
     "execution_count": 21,
     "metadata": {},
     "output_type": "execute_result"
    }
   ],
   "source": [
    "dates"
   ]
  },
  {
   "cell_type": "code",
   "execution_count": 23,
   "metadata": {},
   "outputs": [
    {
     "data": {
      "text/plain": [
       "'2019-08-11'"
      ]
     },
     "execution_count": 23,
     "metadata": {},
     "output_type": "execute_result"
    }
   ],
   "source": [
    "dates[0]"
   ]
  },
  {
   "cell_type": "markdown",
   "metadata": {},
   "source": [
    "### liens"
   ]
  },
  {
   "cell_type": "code",
   "execution_count": 33,
   "metadata": {},
   "outputs": [
    {
     "name": "stdout",
     "output_type": "stream",
     "text": [
      "fast--furious--hobbs--shaw\n",
      "ST00000406-toy-story-4\n",
      "comme-des-btes-2\n",
      "uglydolls\n",
      "midsommar\n",
      "annabelle-la-maison-du-mal\n",
      "ST00000442-le-roi-lion\n",
      "le-coup-du-siecle--the-hustle\n",
      "spider-manfar-from-home\n"
     ]
    }
   ],
   "source": [
    "a = scrape_liens(dates[0])"
   ]
  },
  {
   "cell_type": "code",
   "execution_count": 35,
   "metadata": {},
   "outputs": [
    {
     "data": {
      "text/plain": [
       "['https://www.cineatlas.com/movie/fast--furious--hobbs--shaw',\n",
       " 'https://www.cineatlas.com/movie/ST00000406-toy-story-4',\n",
       " 'https://www.cineatlas.com/movie/comme-des-btes-2',\n",
       " 'https://www.cineatlas.com/movie/uglydolls',\n",
       " 'https://www.cineatlas.com/movie/midsommar',\n",
       " 'https://www.cineatlas.com/movie/annabelle-la-maison-du-mal',\n",
       " 'https://www.cineatlas.com/movie/ST00000442-le-roi-lion',\n",
       " 'https://www.cineatlas.com/movie/le-coup-du-siecle--the-hustle',\n",
       " 'https://www.cineatlas.com/movie/spider-manfar-from-home']"
      ]
     },
     "execution_count": 35,
     "metadata": {},
     "output_type": "execute_result"
    }
   ],
   "source": [
    "a"
   ]
  },
  {
   "cell_type": "markdown",
   "metadata": {},
   "source": [
    "### noms"
   ]
  },
  {
   "cell_type": "code",
   "execution_count": 34,
   "metadata": {},
   "outputs": [
    {
     "name": "stdout",
     "output_type": "stream",
     "text": [
      "FAST &amp; FURIOUS : HOBBS &amp; SHAW\n",
      "TOY STORY 4\n",
      "Comme des bêtes 2\n",
      "UGLYDOLLS\n",
      "Midsommar\n",
      "ANNABELLE LA MAISON DU MAL\n",
      "LE ROI LION\n",
      "LE COUP DU SIECLE / THE HUSTLE\n",
      "SPIDER-MAN:FAR FROM HOME\n"
     ]
    }
   ],
   "source": [
    "b = scrape_noms(dates[0])"
   ]
  },
  {
   "cell_type": "markdown",
   "metadata": {},
   "source": [
    "### images"
   ]
  },
  {
   "cell_type": "code",
   "execution_count": 36,
   "metadata": {},
   "outputs": [
    {
     "name": "stdout",
     "output_type": "stream",
     "text": [
      "https://d10u9ygjms7run.cloudfront.net/dd2qd1xaf4pceqxvb41s1xpzs0/1562603443098_891497ecc8b16b3a662ad8b036820ed1_500x735.jpg\n",
      "https://d10u9ygjms7run.cloudfront.net/dd2qd1xaf4pceqxvb41s1xpzs0/1565449135940_Poster.jpg\n",
      "https://d10u9ygjms7run.cloudfront.net/dd2qd1xaf4pceqxvb41s1xpzs0/1565449171380_Poster.jpeg\n",
      "https://d10u9ygjms7run.cloudfront.net/dd2qd1xaf4pceqxvb41s1xpzs0/1565449164653_Poster.jpg\n",
      "https://d10u9ygjms7run.cloudfront.net/dd2qd1xaf4pceqxvb41s1xpzs0/1565449143142_Poster.jpg\n",
      "https://d10u9ygjms7run.cloudfront.net/dd2qd1xaf4pceqxvb41s1xpzs0/1565449177540_Poster.jpg\n",
      "https://d10u9ygjms7run.cloudfront.net/dd2qd1xaf4pceqxvb41s1xpzs0/1565449130260_Poster.jpg\n",
      "https://d10u9ygjms7run.cloudfront.net/dd2qd1xaf4pceqxvb41s1xpzs0/1565449149916_Poster.jpg\n",
      "https://d10u9ygjms7run.cloudfront.net/dd2qd1xaf4pceqxvb41s1xpzs0/1565449187392_Poster.jpg\n"
     ]
    }
   ],
   "source": [
    "c = scrape_images(dates[0])"
   ]
  },
  {
   "cell_type": "markdown",
   "metadata": {},
   "source": [
    "### heures"
   ]
  },
  {
   "cell_type": "code",
   "execution_count": 37,
   "metadata": {},
   "outputs": [
    {
     "name": "stdout",
     "output_type": "stream",
     "text": [
      "12:30pm\n",
      "12:30pm\n",
      "3:30pm\n",
      "6:25pm\n",
      "9:15pm\n",
      " *** *** BUMPER *** ***\n",
      "10:30am\n",
      " *** *** BUMPER *** ***\n",
      "10:30am\n",
      "12:30pm\n",
      " *** *** BUMPER *** ***\n",
      "10:30am\n",
      " *** *** BUMPER *** ***\n",
      "7:10pm\n",
      "9:55pm\n",
      " *** *** BUMPER *** ***\n",
      "7:30pm\n",
      "9:40pm\n",
      " *** *** BUMPER *** ***\n",
      "10:30am\n",
      "1:00pm\n",
      "3:10pm\n",
      "5:35pm\n",
      "7:55pm\n",
      "10:20pm\n",
      " *** *** BUMPER *** ***\n",
      "3:10pm\n",
      "5:10pm\n",
      " *** *** BUMPER *** ***\n",
      "2:20pm\n",
      "4:55pm\n",
      " *** *** BUMPER *** ***\n"
     ]
    }
   ],
   "source": [
    "d = scrape_heures(dates[0])"
   ]
  },
  {
   "cell_type": "code",
   "execution_count": 38,
   "metadata": {},
   "outputs": [
    {
     "data": {
      "text/plain": [
       "['12:30pm 12:30pm 3:30pm 6:25pm 9:15pm ',\n",
       " '10:30am ',\n",
       " '10:30am 12:30pm ',\n",
       " '10:30am ',\n",
       " '7:10pm 9:55pm ',\n",
       " '7:30pm 9:40pm ',\n",
       " '10:30am 1:00pm 3:10pm 5:35pm 7:55pm 10:20pm ',\n",
       " '3:10pm 5:10pm ',\n",
       " '2:20pm 4:55pm ']"
      ]
     },
     "execution_count": 38,
     "metadata": {},
     "output_type": "execute_result"
    }
   ],
   "source": [
    "d"
   ]
  },
  {
   "cell_type": "markdown",
   "metadata": {},
   "source": [
    "### descriptions"
   ]
  },
  {
   "cell_type": "code",
   "execution_count": 45,
   "metadata": {},
   "outputs": [
    {
     "name": "stdout",
     "output_type": "stream",
     "text": [
      "https://www.cineatlas.com/movie/fast--furious--hobbs--shaw\n",
      "8\n",
      "Depuis que Hobbs, fidèle agent de sécurité au service diplomatique des Etats-Unis, combatif mais droit, et Shaw, un homme sans foi ni loi, ancien membre de l’élite militaire britannique, se sont affrontés en 2015 dans Fast & Furious 7 ; les deux hommes font tout ce qu’ils peuvent pour se nuire l’un à l’autre.Mais lorsque Brixton, un anarchiste génétiquement modifié, met la main sur une arme de destruction massive après avoir battu le meilleur agent du MI6 qui se trouve être la sœur de Shaw. Les deux ennemis de longue date vont devoir alors faire équipe pour faire tomber le seul adversaire capable de les anéantir.\n",
      "https://www.cineatlas.com/movie/ST00000406-toy-story-4\n",
      "11\n",
      "https://www.cineatlas.com/movie/comme-des-btes-2\n",
      "10\n",
      "La suite du film d'animation \"Comme des bêtes\", qui permet de découvrir à nouveau la vie secrète que mènent nos animaux domestiques.\n",
      "https://www.cineatlas.com/movie/uglydolls\n",
      "14\n",
      "À Uglyville, on aime tout ce qui est bizarre, on célèbre les particularités et la beauté cachée ailleurs que dans les apparences. Moxy, une drôle de petite créature à l’esprit libre, et ses amis les UglyDolls vivent chaque jour dans un tourbillon de joie et de bonne humeur, savourant la vie et ses possibilités infinies. Moxy est parfaitement heureuse dans cet endroit où personne n’est comme tout le monde. Mais sa curiosité naturelle la pousse à se demander ce qui peut bien se trouver de l’autre côté de la montagne où se niche Uglyville. Accompagnée de ses amis, elle va découvrir un autre monde, Perfection, une ville où les poupées ordinaires sont élevées pour être idéalement conformes aux critères conventionnels afin de séduire les enfants. Moxy et ses copains vont être soumis aux manipulations de Lou, la poupée idéale chargée de former les nouvelles recrues. À Perfection, les UglyDolls vont se retrouver confrontés à la différence, au rejet et à l’envie d'être aimés, mais ils finiront par comprendre qu’il n’est pas nécessaire d’être parfait pour être extraordinaire et que la seule chose qui compte, c’est qui l’on est vraiment.\n",
      "https://www.cineatlas.com/movie/midsommar\n",
      "9\n",
      "Dani and Christian are a young American couple with a relationship on the brink of falling apart. But after a family tragedy keeps them together, a grieving Dani invites herself to join Christian and his friends on a trip to a once-in-a-lifetime midsummer festival in a remote Swedish village. What begins as a carefree summer holiday in a land of eternal sunlight takes a sinister turn when the insular villagers invite their guests to partake in festivities that render the pastoral paradise increasingly unnerving and viscerally disturbing. From the visionary mind of Ari Aster comes a dread-soaked cinematic fairytale where a world of darkness unfolds in broad daylight.\n",
      "https://www.cineatlas.com/movie/annabelle-la-maison-du-mal\n",
      "11\n",
      "Déterminés à mettre Annabelle hors d'état de nuire, les démonologues Ed et Lorraine Warren enferment la poupée démoniaque dans leur \"pièce des souvenirs\", en prenant soin de la placer derrière une vitre sacrée et de solliciter la bénédiction d'un prêtre. Mais Annabelle réveille les esprits maléfiques qui l'entourent et qui s'intéressent désormais à de nouvelles victimes potentielles : Judy, la fille des Warren âgée de 10 ans, et ses amis. Une nouvelle nuit d'horreur se prépare…\n",
      "https://www.cineatlas.com/movie/ST00000442-le-roi-lion\n",
      "8\n",
      "https://www.cineatlas.com/movie/le-coup-du-siecle--the-hustle\n",
      "13\n",
      "In the hilarious new comedy THE HUSTLE, Anne Hathaway and Rebel Wilson star as female scam artists, one low rent and the other high class, who team up to take down the dirty rotten men who have wronged them.\n",
      "https://www.cineatlas.com/movie/spider-manfar-from-home\n",
      "10\n",
      "L'araignée sympa du quartier décide de rejoindre ses meilleurs amis Ned, MJ, et le reste de la bande pour des vacances en Europe. Cependant, le projet de Peter de laisser son costume de super-héros derrière lui pendant quelques semaines est rapidement compromis quand il accepte à contrecoeur d'aider Nick Fury à découvrir le mystère de plusieurs attaques de créatures, qui ravagent le continent !\n"
     ]
    }
   ],
   "source": [
    "e = scrape_descriptions(a)"
   ]
  },
  {
   "cell_type": "markdown",
   "metadata": {},
   "source": [
    "### Regrouper les données dans une même structure"
   ]
  },
  {
   "cell_type": "code",
   "execution_count": 47,
   "metadata": {},
   "outputs": [],
   "source": [
    "prog = []\n",
    "for i,j,k,l,m in zip(b,d,c,a,e):\n",
    "    #Ajouter le lieu\n",
    "    t = (i,dates[0],j,k,l,m,\"Cine Atlas\")\n",
    "    prog.append(t)"
   ]
  },
  {
   "cell_type": "code",
   "execution_count": 48,
   "metadata": {},
   "outputs": [
    {
     "data": {
      "text/plain": [
       "[('FAST &amp; FURIOUS : HOBBS &amp; SHAW',\n",
       "  '2019-08-11',\n",
       "  '12:30pm 12:30pm 3:30pm 6:25pm 9:15pm ',\n",
       "  'https://d10u9ygjms7run.cloudfront.net/dd2qd1xaf4pceqxvb41s1xpzs0/1562603443098_891497ecc8b16b3a662ad8b036820ed1_500x735.jpg',\n",
       "  'https://www.cineatlas.com/movie/fast--furious--hobbs--shaw',\n",
       "  'Depuis que Hobbs, fidèle agent de sécurité au service diplomatique des Etats-Unis, combatif mais droit, et Shaw, un homme sans foi ni loi, ancien membre de l’élite militaire britannique, se sont affrontés en 2015 dans Fast & Furious 7 ; les deux hommes font tout ce qu’ils peuvent pour se nuire l’un à l’autre.Mais lorsque Brixton, un anarchiste génétiquement modifié, met la main sur une arme de destruction massive après avoir battu le meilleur agent du MI6 qui se trouve être la sœur de Shaw. Les deux ennemis de longue date vont devoir alors faire équipe pour faire tomber le seul adversaire capable de les anéantir.',\n",
       "  'Cine Atlas'),\n",
       " ('TOY STORY 4',\n",
       "  '2019-08-11',\n",
       "  '10:30am ',\n",
       "  'https://d10u9ygjms7run.cloudfront.net/dd2qd1xaf4pceqxvb41s1xpzs0/1565449135940_Poster.jpg',\n",
       "  'https://www.cineatlas.com/movie/ST00000406-toy-story-4',\n",
       "  'NO DESCRIPTION',\n",
       "  'Cine Atlas'),\n",
       " ('Comme des bêtes 2',\n",
       "  '2019-08-11',\n",
       "  '10:30am 12:30pm ',\n",
       "  'https://d10u9ygjms7run.cloudfront.net/dd2qd1xaf4pceqxvb41s1xpzs0/1565449171380_Poster.jpeg',\n",
       "  'https://www.cineatlas.com/movie/comme-des-btes-2',\n",
       "  'La suite du film d\\'animation \"Comme des bêtes\", qui permet de découvrir à nouveau la vie secrète que mènent nos animaux domestiques.',\n",
       "  'Cine Atlas'),\n",
       " ('UGLYDOLLS',\n",
       "  '2019-08-11',\n",
       "  '10:30am ',\n",
       "  'https://d10u9ygjms7run.cloudfront.net/dd2qd1xaf4pceqxvb41s1xpzs0/1565449164653_Poster.jpg',\n",
       "  'https://www.cineatlas.com/movie/uglydolls',\n",
       "  \"À Uglyville, on aime tout ce qui est bizarre, on célèbre les particularités et la beauté cachée ailleurs que dans les apparences. Moxy, une drôle de petite créature à l’esprit libre, et ses amis les UglyDolls vivent chaque jour dans un tourbillon de joie et de bonne humeur, savourant la vie et ses possibilités infinies. Moxy est parfaitement heureuse dans cet endroit où personne n’est comme tout le monde. Mais sa curiosité naturelle la pousse à se demander ce qui peut bien se trouver de l’autre côté de la montagne où se niche Uglyville. Accompagnée de ses amis, elle va découvrir un autre monde, Perfection, une ville où les poupées ordinaires sont élevées pour être idéalement conformes aux critères conventionnels afin de séduire les enfants. Moxy et ses copains vont être soumis aux manipulations de Lou, la poupée idéale chargée de former les nouvelles recrues. À Perfection, les UglyDolls vont se retrouver confrontés à la différence, au rejet et à l’envie d'être aimés, mais ils finiront par comprendre qu’il n’est pas nécessaire d’être parfait pour être extraordinaire et que la seule chose qui compte, c’est qui l’on est vraiment.\",\n",
       "  'Cine Atlas'),\n",
       " ('Midsommar',\n",
       "  '2019-08-11',\n",
       "  '7:10pm 9:55pm ',\n",
       "  'https://d10u9ygjms7run.cloudfront.net/dd2qd1xaf4pceqxvb41s1xpzs0/1565449143142_Poster.jpg',\n",
       "  'https://www.cineatlas.com/movie/midsommar',\n",
       "  'Dani and Christian are a young American couple with a relationship on the brink of falling apart. But after a family tragedy keeps them together, a grieving Dani invites herself to join Christian and his friends on a trip to a once-in-a-lifetime midsummer festival in a remote Swedish village. What begins as a carefree summer holiday in a land of eternal sunlight takes a sinister turn when the insular villagers invite their guests to partake in festivities that render the pastoral paradise increasingly unnerving and viscerally disturbing. From the visionary mind of Ari Aster comes a dread-soaked cinematic fairytale where a world of darkness unfolds in broad daylight.',\n",
       "  'Cine Atlas'),\n",
       " ('ANNABELLE LA MAISON DU MAL',\n",
       "  '2019-08-11',\n",
       "  '7:30pm 9:40pm ',\n",
       "  'https://d10u9ygjms7run.cloudfront.net/dd2qd1xaf4pceqxvb41s1xpzs0/1565449177540_Poster.jpg',\n",
       "  'https://www.cineatlas.com/movie/annabelle-la-maison-du-mal',\n",
       "  'Déterminés à mettre Annabelle hors d\\'état de nuire, les démonologues Ed et Lorraine Warren enferment la poupée démoniaque dans leur \"pièce des souvenirs\", en prenant soin de la placer derrière une vitre sacrée et de solliciter la bénédiction d\\'un prêtre. Mais Annabelle réveille les esprits maléfiques qui l\\'entourent et qui s\\'intéressent désormais à de nouvelles victimes potentielles : Judy, la fille des Warren âgée de 10 ans, et ses amis. Une nouvelle nuit d\\'horreur se prépare…',\n",
       "  'Cine Atlas'),\n",
       " ('LE ROI LION',\n",
       "  '2019-08-11',\n",
       "  '10:30am 1:00pm 3:10pm 5:35pm 7:55pm 10:20pm ',\n",
       "  'https://d10u9ygjms7run.cloudfront.net/dd2qd1xaf4pceqxvb41s1xpzs0/1565449130260_Poster.jpg',\n",
       "  'https://www.cineatlas.com/movie/ST00000442-le-roi-lion',\n",
       "  'NO DESCRIPTION',\n",
       "  'Cine Atlas'),\n",
       " ('LE COUP DU SIECLE / THE HUSTLE',\n",
       "  '2019-08-11',\n",
       "  '3:10pm 5:10pm ',\n",
       "  'https://d10u9ygjms7run.cloudfront.net/dd2qd1xaf4pceqxvb41s1xpzs0/1565449149916_Poster.jpg',\n",
       "  'https://www.cineatlas.com/movie/le-coup-du-siecle--the-hustle',\n",
       "  'In the hilarious new comedy THE HUSTLE, Anne Hathaway and Rebel Wilson star as female scam artists, one low rent and the other high class, who team up to take down the dirty rotten men who have wronged them.',\n",
       "  'Cine Atlas'),\n",
       " ('SPIDER-MAN:FAR FROM HOME',\n",
       "  '2019-08-11',\n",
       "  '2:20pm 4:55pm ',\n",
       "  'https://d10u9ygjms7run.cloudfront.net/dd2qd1xaf4pceqxvb41s1xpzs0/1565449187392_Poster.jpg',\n",
       "  'https://www.cineatlas.com/movie/spider-manfar-from-home',\n",
       "  \"L'araignée sympa du quartier décide de rejoindre ses meilleurs amis Ned, MJ, et le reste de la bande pour des vacances en Europe. Cependant, le projet de Peter de laisser son costume de super-héros derrière lui pendant quelques semaines est rapidement compromis quand il accepte à contrecoeur d'aider Nick Fury à découvrir le mystère de plusieurs attaques de créatures, qui ravagent le continent !\",\n",
       "  'Cine Atlas')]"
      ]
     },
     "execution_count": 48,
     "metadata": {},
     "output_type": "execute_result"
    }
   ],
   "source": [
    "prog"
   ]
  },
  {
   "cell_type": "code",
   "execution_count": null,
   "metadata": {},
   "outputs": [],
   "source": []
  }
 ],
 "metadata": {
  "kernelspec": {
   "display_name": "Python 3",
   "language": "python",
   "name": "python3"
  },
  "language_info": {
   "codemirror_mode": {
    "name": "ipython",
    "version": 3
   },
   "file_extension": ".py",
   "mimetype": "text/x-python",
   "name": "python",
   "nbconvert_exporter": "python",
   "pygments_lexer": "ipython3",
   "version": "3.6.1"
  }
 },
 "nbformat": 4,
 "nbformat_minor": 2
}
