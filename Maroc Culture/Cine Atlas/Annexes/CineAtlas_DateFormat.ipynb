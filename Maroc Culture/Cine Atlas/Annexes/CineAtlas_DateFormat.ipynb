{
 "cells": [
  {
   "cell_type": "markdown",
   "metadata": {},
   "source": [
    "# CineAtlas :  Formatage des dates"
   ]
  },
  {
   "cell_type": "markdown",
   "metadata": {},
   "source": [
    "Function declaration"
   ]
  },
  {
   "cell_type": "code",
   "execution_count": 1,
   "metadata": {},
   "outputs": [],
   "source": [
    "import datetime\n",
    "import time \n",
    "import locale\n",
    "locale.setlocale(locale.LC_ALL,\"french\")\n",
    "\n",
    "from datetime import datetime\n",
    "\n",
    "def num_to_date(num_date):\n",
    "    #convertir en datetime object\n",
    "    date_obj = datetime.strptime(num_date,'%Y-%m-%d')\n",
    "    #formater \n",
    "    return date_obj.strftime('%A %d %b')"
   ]
  },
  {
   "cell_type": "code",
   "execution_count": 2,
   "metadata": {},
   "outputs": [],
   "source": [
    "import pickle"
   ]
  },
  {
   "cell_type": "code",
   "execution_count": 3,
   "metadata": {},
   "outputs": [
    {
     "name": "stdout",
     "output_type": "stream",
     "text": [
      "[('Scary Stories to Tell in the Dark', '2019-09-03', '2:55pm 9:35pm ', 'https://d10u9ygjms7run.cloudfront.net/dd2qd1xaf4pceqxvb41s1xpzs0/1567104212392_Poster.jpeg', 'https://www.cineatlas.com/movie/scary-stories-to-tell-in-the-dark', 'Dans un manoir abandonné, un groupe de jeunes trouve un livre qui raconte des histoires terrifiantes. Mais cette trouvaille n’est pas sans conséquence : la lecture du livre permet à ses effroyables créatures de prendre vie… La petite ville va alors faire face à une vague de morts particulièrement atroces, et chacun devra affronter ses pires peurs pour sauver les habitants et arrêter ce carnage.', 'Cine Atlas'), ('WEDDING NIGHTMARE', '2019-09-03', '3:10pm 10:35pm ', 'https://d10u9ygjms7run.cloudfront.net/dd2qd1xaf4pceqxvb41s1xpzs0/1567104234826_Poster.jpg', 'https://www.cineatlas.com/movie/ready-or-not', 'La nuit de noces d’une jeune mariée tourne au cauchemar quand sa riche et excentrique belle-famille lui demande d’honorer une tradition qui va se révéler meurtrière et où chacun luttera pour sa survie.', 'Cine Atlas'), ('LE ROI LION', '2019-09-03', '1:00pm 3:30pm 7:10pm ', 'https://d10u9ygjms7run.cloudfront.net/dd2qd1xaf4pceqxvb41s1xpzs0/1567104181282_Poster.jpg', 'https://www.cineatlas.com/movie/ST00000442-le-roi-lion', \"Au fond de la savane africaine, tous les animaux célèbrent la naissance de Simba, leur futur roi. Les mois passent. Simba idolâtre son père, le roi Mufasa, qui prend à cœur de lui faire comprendre les enjeux de sa royale destinée. Mais tout le monde ne semble pas de cet avis. Scar, le frère de Mufasa, l'ancien héritier du trône, a ses propres plans. La bataille pour la prise de contrôle de la Terre des Lions est ravagée par la trahison, la tragédie et le drame, ce qui finit par entraîner l'exil de Simba. Avec l'aide de deux nouveaux amis, Timon et Pumbaa, le jeune lion va devoir trouver comment grandir et reprendre ce qui lui revient de droit…\", 'Cine Atlas'), ('FAST &amp; FURIOUS:HOBBS AND SHAW', '2019-09-03', '12:30pm 5:10pm 7:50pm ', 'https://d10u9ygjms7run.cloudfront.net/dd2qd1xaf4pceqxvb41s1xpzs0/1567104254835_Poster.jpg', 'https://www.cineatlas.com/movie/fast--furioushobbs-and-shaw', 'Depuis que Hobbs, fidèle agent de sécurité au service diplomatique des Etats-Unis, combatif mais droit, et Shaw, un homme sans foi ni loi, ancien membre de l’élite militaire britannique, se sont affrontés en 2015 dans Fast & Furious 7 ; les deux hommes font tout ce qu’ils peuvent pour se nuire l’un à l’autre.Mais lorsque Brixton, un anarchiste génétiquement modifié, met la main sur une arme de destruction massive après avoir battu le meilleur agent du MI6 qui se trouve être la sœur de Shaw. Les deux ennemis de longue date vont devoir alors faire équipe pour faire tomber le seul adversaire capable de les anéantir.', 'Cine Atlas'), ('ONCE UPON A TIME IN HOLLYWOOD', '2019-09-03', '1:00pm 4:05pm 6:05pm 9:20pm ', 'https://d10u9ygjms7run.cloudfront.net/dd2qd1xaf4pceqxvb41s1xpzs0/1567104195876_Poster.jpg', 'https://www.cineatlas.com/movie/ST00000454-once-upon-a-time-in-hollywood', 'Le film est présenté en compétition au Festival de Cannes 2019En 1969, la star de télévision Rick Dalton et le cascadeur Cliff Booth, sa doublure de longue date, poursuivent leurs carrières au sein d’une industrie qu’ils ne reconnaissent plus.', 'Cine Atlas'), ('Angel Has Fallen', '2019-09-03', '12:30pm 5:10pm 7:40pm 10:05pm ', 'https://d10u9ygjms7run.cloudfront.net/dd2qd1xaf4pceqxvb41s1xpzs0/1567104219039_Poster.jpeg', 'https://www.cineatlas.com/movie/angel-has-fallen', 'Victime d’un coup monté, Mike Banning, agent des services secrets, est accusé d’être le cerveau d’une tentative d’assassinat envers le président américain, Allan Trumbull. Poursuivi par le FBI, il va devoir combattre pour survivre et trouver l’identité de celui qui menace la vie du président…', 'Cine Atlas')]\n"
     ]
    }
   ],
   "source": [
    "pickle_in = open('ca.pickle','rb') #rb : read - byte\n",
    "prog = pickle.load(pickle_in)\n",
    "\n",
    "print(prog)"
   ]
  },
  {
   "cell_type": "code",
   "execution_count": 4,
   "metadata": {},
   "outputs": [],
   "source": [
    "import pandas as pd\n",
    "df = pd.DataFrame(prog,columns=['noms','date','heure','image','lien','description','lieu'])"
   ]
  },
  {
   "cell_type": "code",
   "execution_count": 5,
   "metadata": {},
   "outputs": [
    {
     "data": {
      "text/html": [
       "<div>\n",
       "<style>\n",
       "    .dataframe thead tr:only-child th {\n",
       "        text-align: right;\n",
       "    }\n",
       "\n",
       "    .dataframe thead th {\n",
       "        text-align: left;\n",
       "    }\n",
       "\n",
       "    .dataframe tbody tr th {\n",
       "        vertical-align: top;\n",
       "    }\n",
       "</style>\n",
       "<table border=\"1\" class=\"dataframe\">\n",
       "  <thead>\n",
       "    <tr style=\"text-align: right;\">\n",
       "      <th></th>\n",
       "      <th>noms</th>\n",
       "      <th>date</th>\n",
       "      <th>heure</th>\n",
       "      <th>image</th>\n",
       "      <th>lien</th>\n",
       "      <th>description</th>\n",
       "      <th>lieu</th>\n",
       "    </tr>\n",
       "  </thead>\n",
       "  <tbody>\n",
       "    <tr>\n",
       "      <th>0</th>\n",
       "      <td>Scary Stories to Tell in the Dark</td>\n",
       "      <td>2019-09-03</td>\n",
       "      <td>2:55pm 9:35pm</td>\n",
       "      <td>https://d10u9ygjms7run.cloudfront.net/dd2qd1xa...</td>\n",
       "      <td>https://www.cineatlas.com/movie/scary-stories-...</td>\n",
       "      <td>Dans un manoir abandonné, un groupe de jeunes ...</td>\n",
       "      <td>Cine Atlas</td>\n",
       "    </tr>\n",
       "    <tr>\n",
       "      <th>1</th>\n",
       "      <td>WEDDING NIGHTMARE</td>\n",
       "      <td>2019-09-03</td>\n",
       "      <td>3:10pm 10:35pm</td>\n",
       "      <td>https://d10u9ygjms7run.cloudfront.net/dd2qd1xa...</td>\n",
       "      <td>https://www.cineatlas.com/movie/ready-or-not</td>\n",
       "      <td>La nuit de noces d’une jeune mariée tourne au ...</td>\n",
       "      <td>Cine Atlas</td>\n",
       "    </tr>\n",
       "    <tr>\n",
       "      <th>2</th>\n",
       "      <td>LE ROI LION</td>\n",
       "      <td>2019-09-03</td>\n",
       "      <td>1:00pm 3:30pm 7:10pm</td>\n",
       "      <td>https://d10u9ygjms7run.cloudfront.net/dd2qd1xa...</td>\n",
       "      <td>https://www.cineatlas.com/movie/ST00000442-le-...</td>\n",
       "      <td>Au fond de la savane africaine, tous les anima...</td>\n",
       "      <td>Cine Atlas</td>\n",
       "    </tr>\n",
       "    <tr>\n",
       "      <th>3</th>\n",
       "      <td>FAST &amp;amp; FURIOUS:HOBBS AND SHAW</td>\n",
       "      <td>2019-09-03</td>\n",
       "      <td>12:30pm 5:10pm 7:50pm</td>\n",
       "      <td>https://d10u9ygjms7run.cloudfront.net/dd2qd1xa...</td>\n",
       "      <td>https://www.cineatlas.com/movie/fast--furioush...</td>\n",
       "      <td>Depuis que Hobbs, fidèle agent de sécurité au ...</td>\n",
       "      <td>Cine Atlas</td>\n",
       "    </tr>\n",
       "    <tr>\n",
       "      <th>4</th>\n",
       "      <td>ONCE UPON A TIME IN HOLLYWOOD</td>\n",
       "      <td>2019-09-03</td>\n",
       "      <td>1:00pm 4:05pm 6:05pm 9:20pm</td>\n",
       "      <td>https://d10u9ygjms7run.cloudfront.net/dd2qd1xa...</td>\n",
       "      <td>https://www.cineatlas.com/movie/ST00000454-onc...</td>\n",
       "      <td>Le film est présenté en compétition au Festiva...</td>\n",
       "      <td>Cine Atlas</td>\n",
       "    </tr>\n",
       "    <tr>\n",
       "      <th>5</th>\n",
       "      <td>Angel Has Fallen</td>\n",
       "      <td>2019-09-03</td>\n",
       "      <td>12:30pm 5:10pm 7:40pm 10:05pm</td>\n",
       "      <td>https://d10u9ygjms7run.cloudfront.net/dd2qd1xa...</td>\n",
       "      <td>https://www.cineatlas.com/movie/angel-has-fallen</td>\n",
       "      <td>Victime d’un coup monté, Mike Banning, agent d...</td>\n",
       "      <td>Cine Atlas</td>\n",
       "    </tr>\n",
       "  </tbody>\n",
       "</table>\n",
       "</div>"
      ],
      "text/plain": [
       "                                noms        date  \\\n",
       "0  Scary Stories to Tell in the Dark  2019-09-03   \n",
       "1                  WEDDING NIGHTMARE  2019-09-03   \n",
       "2                        LE ROI LION  2019-09-03   \n",
       "3  FAST &amp; FURIOUS:HOBBS AND SHAW  2019-09-03   \n",
       "4      ONCE UPON A TIME IN HOLLYWOOD  2019-09-03   \n",
       "5                   Angel Has Fallen  2019-09-03   \n",
       "\n",
       "                            heure  \\\n",
       "0                  2:55pm 9:35pm    \n",
       "1                 3:10pm 10:35pm    \n",
       "2           1:00pm 3:30pm 7:10pm    \n",
       "3          12:30pm 5:10pm 7:50pm    \n",
       "4    1:00pm 4:05pm 6:05pm 9:20pm    \n",
       "5  12:30pm 5:10pm 7:40pm 10:05pm    \n",
       "\n",
       "                                               image  \\\n",
       "0  https://d10u9ygjms7run.cloudfront.net/dd2qd1xa...   \n",
       "1  https://d10u9ygjms7run.cloudfront.net/dd2qd1xa...   \n",
       "2  https://d10u9ygjms7run.cloudfront.net/dd2qd1xa...   \n",
       "3  https://d10u9ygjms7run.cloudfront.net/dd2qd1xa...   \n",
       "4  https://d10u9ygjms7run.cloudfront.net/dd2qd1xa...   \n",
       "5  https://d10u9ygjms7run.cloudfront.net/dd2qd1xa...   \n",
       "\n",
       "                                                lien  \\\n",
       "0  https://www.cineatlas.com/movie/scary-stories-...   \n",
       "1       https://www.cineatlas.com/movie/ready-or-not   \n",
       "2  https://www.cineatlas.com/movie/ST00000442-le-...   \n",
       "3  https://www.cineatlas.com/movie/fast--furioush...   \n",
       "4  https://www.cineatlas.com/movie/ST00000454-onc...   \n",
       "5   https://www.cineatlas.com/movie/angel-has-fallen   \n",
       "\n",
       "                                         description        lieu  \n",
       "0  Dans un manoir abandonné, un groupe de jeunes ...  Cine Atlas  \n",
       "1  La nuit de noces d’une jeune mariée tourne au ...  Cine Atlas  \n",
       "2  Au fond de la savane africaine, tous les anima...  Cine Atlas  \n",
       "3  Depuis que Hobbs, fidèle agent de sécurité au ...  Cine Atlas  \n",
       "4  Le film est présenté en compétition au Festiva...  Cine Atlas  \n",
       "5  Victime d’un coup monté, Mike Banning, agent d...  Cine Atlas  "
      ]
     },
     "execution_count": 5,
     "metadata": {},
     "output_type": "execute_result"
    }
   ],
   "source": [
    "df"
   ]
  },
  {
   "cell_type": "code",
   "execution_count": 6,
   "metadata": {
    "scrolled": true
   },
   "outputs": [],
   "source": [
    "df['date'] = df['date'].apply(num_to_date)"
   ]
  },
  {
   "cell_type": "code",
   "execution_count": 7,
   "metadata": {},
   "outputs": [
    {
     "data": {
      "text/plain": [
       "0    mardi 03 sept.\n",
       "1    mardi 03 sept.\n",
       "2    mardi 03 sept.\n",
       "3    mardi 03 sept.\n",
       "4    mardi 03 sept.\n",
       "5    mardi 03 sept.\n",
       "Name: date, dtype: object"
      ]
     },
     "execution_count": 7,
     "metadata": {},
     "output_type": "execute_result"
    }
   ],
   "source": [
    "df['date']"
   ]
  },
  {
   "cell_type": "code",
   "execution_count": 8,
   "metadata": {},
   "outputs": [
    {
     "data": {
      "text/html": [
       "<div>\n",
       "<style>\n",
       "    .dataframe thead tr:only-child th {\n",
       "        text-align: right;\n",
       "    }\n",
       "\n",
       "    .dataframe thead th {\n",
       "        text-align: left;\n",
       "    }\n",
       "\n",
       "    .dataframe tbody tr th {\n",
       "        vertical-align: top;\n",
       "    }\n",
       "</style>\n",
       "<table border=\"1\" class=\"dataframe\">\n",
       "  <thead>\n",
       "    <tr style=\"text-align: right;\">\n",
       "      <th></th>\n",
       "      <th>noms</th>\n",
       "      <th>date</th>\n",
       "      <th>heure</th>\n",
       "      <th>image</th>\n",
       "      <th>lien</th>\n",
       "      <th>description</th>\n",
       "      <th>lieu</th>\n",
       "    </tr>\n",
       "  </thead>\n",
       "  <tbody>\n",
       "    <tr>\n",
       "      <th>0</th>\n",
       "      <td>Scary Stories to Tell in the Dark</td>\n",
       "      <td>mardi 03 sept.</td>\n",
       "      <td>2:55pm 9:35pm</td>\n",
       "      <td>https://d10u9ygjms7run.cloudfront.net/dd2qd1xa...</td>\n",
       "      <td>https://www.cineatlas.com/movie/scary-stories-...</td>\n",
       "      <td>Dans un manoir abandonné, un groupe de jeunes ...</td>\n",
       "      <td>Cine Atlas</td>\n",
       "    </tr>\n",
       "    <tr>\n",
       "      <th>1</th>\n",
       "      <td>WEDDING NIGHTMARE</td>\n",
       "      <td>mardi 03 sept.</td>\n",
       "      <td>3:10pm 10:35pm</td>\n",
       "      <td>https://d10u9ygjms7run.cloudfront.net/dd2qd1xa...</td>\n",
       "      <td>https://www.cineatlas.com/movie/ready-or-not</td>\n",
       "      <td>La nuit de noces d’une jeune mariée tourne au ...</td>\n",
       "      <td>Cine Atlas</td>\n",
       "    </tr>\n",
       "    <tr>\n",
       "      <th>2</th>\n",
       "      <td>LE ROI LION</td>\n",
       "      <td>mardi 03 sept.</td>\n",
       "      <td>1:00pm 3:30pm 7:10pm</td>\n",
       "      <td>https://d10u9ygjms7run.cloudfront.net/dd2qd1xa...</td>\n",
       "      <td>https://www.cineatlas.com/movie/ST00000442-le-...</td>\n",
       "      <td>Au fond de la savane africaine, tous les anima...</td>\n",
       "      <td>Cine Atlas</td>\n",
       "    </tr>\n",
       "    <tr>\n",
       "      <th>3</th>\n",
       "      <td>FAST &amp;amp; FURIOUS:HOBBS AND SHAW</td>\n",
       "      <td>mardi 03 sept.</td>\n",
       "      <td>12:30pm 5:10pm 7:50pm</td>\n",
       "      <td>https://d10u9ygjms7run.cloudfront.net/dd2qd1xa...</td>\n",
       "      <td>https://www.cineatlas.com/movie/fast--furioush...</td>\n",
       "      <td>Depuis que Hobbs, fidèle agent de sécurité au ...</td>\n",
       "      <td>Cine Atlas</td>\n",
       "    </tr>\n",
       "    <tr>\n",
       "      <th>4</th>\n",
       "      <td>ONCE UPON A TIME IN HOLLYWOOD</td>\n",
       "      <td>mardi 03 sept.</td>\n",
       "      <td>1:00pm 4:05pm 6:05pm 9:20pm</td>\n",
       "      <td>https://d10u9ygjms7run.cloudfront.net/dd2qd1xa...</td>\n",
       "      <td>https://www.cineatlas.com/movie/ST00000454-onc...</td>\n",
       "      <td>Le film est présenté en compétition au Festiva...</td>\n",
       "      <td>Cine Atlas</td>\n",
       "    </tr>\n",
       "    <tr>\n",
       "      <th>5</th>\n",
       "      <td>Angel Has Fallen</td>\n",
       "      <td>mardi 03 sept.</td>\n",
       "      <td>12:30pm 5:10pm 7:40pm 10:05pm</td>\n",
       "      <td>https://d10u9ygjms7run.cloudfront.net/dd2qd1xa...</td>\n",
       "      <td>https://www.cineatlas.com/movie/angel-has-fallen</td>\n",
       "      <td>Victime d’un coup monté, Mike Banning, agent d...</td>\n",
       "      <td>Cine Atlas</td>\n",
       "    </tr>\n",
       "  </tbody>\n",
       "</table>\n",
       "</div>"
      ],
      "text/plain": [
       "                                noms            date  \\\n",
       "0  Scary Stories to Tell in the Dark  mardi 03 sept.   \n",
       "1                  WEDDING NIGHTMARE  mardi 03 sept.   \n",
       "2                        LE ROI LION  mardi 03 sept.   \n",
       "3  FAST &amp; FURIOUS:HOBBS AND SHAW  mardi 03 sept.   \n",
       "4      ONCE UPON A TIME IN HOLLYWOOD  mardi 03 sept.   \n",
       "5                   Angel Has Fallen  mardi 03 sept.   \n",
       "\n",
       "                            heure  \\\n",
       "0                  2:55pm 9:35pm    \n",
       "1                 3:10pm 10:35pm    \n",
       "2           1:00pm 3:30pm 7:10pm    \n",
       "3          12:30pm 5:10pm 7:50pm    \n",
       "4    1:00pm 4:05pm 6:05pm 9:20pm    \n",
       "5  12:30pm 5:10pm 7:40pm 10:05pm    \n",
       "\n",
       "                                               image  \\\n",
       "0  https://d10u9ygjms7run.cloudfront.net/dd2qd1xa...   \n",
       "1  https://d10u9ygjms7run.cloudfront.net/dd2qd1xa...   \n",
       "2  https://d10u9ygjms7run.cloudfront.net/dd2qd1xa...   \n",
       "3  https://d10u9ygjms7run.cloudfront.net/dd2qd1xa...   \n",
       "4  https://d10u9ygjms7run.cloudfront.net/dd2qd1xa...   \n",
       "5  https://d10u9ygjms7run.cloudfront.net/dd2qd1xa...   \n",
       "\n",
       "                                                lien  \\\n",
       "0  https://www.cineatlas.com/movie/scary-stories-...   \n",
       "1       https://www.cineatlas.com/movie/ready-or-not   \n",
       "2  https://www.cineatlas.com/movie/ST00000442-le-...   \n",
       "3  https://www.cineatlas.com/movie/fast--furioush...   \n",
       "4  https://www.cineatlas.com/movie/ST00000454-onc...   \n",
       "5   https://www.cineatlas.com/movie/angel-has-fallen   \n",
       "\n",
       "                                         description        lieu  \n",
       "0  Dans un manoir abandonné, un groupe de jeunes ...  Cine Atlas  \n",
       "1  La nuit de noces d’une jeune mariée tourne au ...  Cine Atlas  \n",
       "2  Au fond de la savane africaine, tous les anima...  Cine Atlas  \n",
       "3  Depuis que Hobbs, fidèle agent de sécurité au ...  Cine Atlas  \n",
       "4  Le film est présenté en compétition au Festiva...  Cine Atlas  \n",
       "5  Victime d’un coup monté, Mike Banning, agent d...  Cine Atlas  "
      ]
     },
     "execution_count": 8,
     "metadata": {},
     "output_type": "execute_result"
    }
   ],
   "source": [
    "df"
   ]
  },
  {
   "cell_type": "code",
   "execution_count": null,
   "metadata": {},
   "outputs": [],
   "source": []
  }
 ],
 "metadata": {
  "kernelspec": {
   "display_name": "Python 3",
   "language": "python",
   "name": "python3"
  },
  "language_info": {
   "codemirror_mode": {
    "name": "ipython",
    "version": 3
   },
   "file_extension": ".py",
   "mimetype": "text/x-python",
   "name": "python",
   "nbconvert_exporter": "python",
   "pygments_lexer": "ipython3",
   "version": "3.6.1"
  }
 },
 "nbformat": 4,
 "nbformat_minor": 2
}
