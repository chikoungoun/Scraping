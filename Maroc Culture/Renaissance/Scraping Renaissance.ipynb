{
 "cells": [
  {
   "cell_type": "markdown",
   "metadata": {},
   "source": [
    "# Scraping : Renaissance"
   ]
  },
  {
   "cell_type": "code",
   "execution_count": 1,
   "metadata": {},
   "outputs": [
    {
     "data": {
      "text/plain": [
       "<Response [200]>"
      ]
     },
     "execution_count": 1,
     "metadata": {},
     "output_type": "execute_result"
    }
   ],
   "source": [
    "import requests\n",
    "\n",
    "url = 'http://www.renaissance.ma/content/enSalle'\n",
    "response = requests.get(url)\n",
    "response"
   ]
  },
  {
   "cell_type": "code",
   "execution_count": 2,
   "metadata": {},
   "outputs": [
    {
     "name": "stdout",
     "output_type": "stream",
     "text": [
      "\r\n",
      "\t<!-- SIDEBAR -->\r\n",
      "\t<!DOCTYPE html>\r\n",
      "<html>\r\n",
      "<head>\r\n",
      "    <meta http-equiv=\"Content-Type\" content=\"\n"
     ]
    }
   ],
   "source": [
    "print(response.text[:100])"
   ]
  },
  {
   "cell_type": "code",
   "execution_count": 3,
   "metadata": {},
   "outputs": [
    {
     "data": {
      "text/plain": [
       "bs4.BeautifulSoup"
      ]
     },
     "execution_count": 3,
     "metadata": {},
     "output_type": "execute_result"
    }
   ],
   "source": [
    "from bs4 import BeautifulSoup\n",
    "\n",
    "soup = BeautifulSoup(response.text,'html.parser')\n",
    "type(soup)"
   ]
  },
  {
   "cell_type": "code",
   "execution_count": 7,
   "metadata": {},
   "outputs": [],
   "source": [
    "events = soup.find(id='events-list')"
   ]
  },
  {
   "cell_type": "code",
   "execution_count": 8,
   "metadata": {},
   "outputs": [
    {
     "data": {
      "text/plain": [
       "<div class=\"col-md-9 content\" id=\"events-list\">\n",
       "<div class=\"col-xs-12 title-section\">\n",
       "<div class=\"col-xs-12\">\n",
       "<h2>EN SALLE</h2>\n",
       "<h2><span>- قاعة العرض</span></h2>\n",
       "<div class=\"spacer\"></div>\n",
       "</div>\n",
       "</div>\n",
       "<!-- MESSAGES -->\n",
       "<div class=\"col-xs-12 m-item event\" data-dated=\"2019-07-11\">\n",
       "<div class=\"media\">\n",
       "<div class=\"media-left\">\n",
       "<!-- Affiche -->\n",
       "<img alt=\"Spider-Man: Far From Home\" src=\"/img/affiche/600/thumb_Spider.jpg\"/> </div>\n",
       "<div class=\"media-body\">\n",
       "<!-- Titre -->\n",
       "<h4 class=\"media-heading\">Spider-Man: Far From Home</h4>\n",
       "<!-- Date -->\n",
       "<small>\n",
       "\t\t\t\t\t\t\tLe 11 juillet\t\t\t\t\t\t\t</small>\n",
       "<!-- Description -->\n",
       "<p class=\"synopsis\">\n",
       "\t\t\t\t\t\t\t\tL'araignée sympa du quartier décide de rejoindre ses meilleurs amis Ned, MJ, et le reste de la bande pour des vacances en Europe. Cependant, le projet de Peter de laisser son costume de super-héros derrière lui pendant quelques semaines est rapidement compromis quand il accepte à contrecoeur d'aider Nick Fury à découvrir le mystère de plusieurs attaques de créatures, qui ravagent le continent !                            </p>\n",
       "<!-- captures -->\n",
       "<ul class=\"captures\">\n",
       "</ul>\n",
       "<p>\n",
       "<div class=\"fb-like\" data-action=\"like\" data-layout=\"button_count\" data-share=\"true\" data-show-faces=\"true\"></div>\n",
       "<a class=\"twitter-share-button\" data-hashtags=\"programmecinemalarenaissance\" data-text=\"En ce moment au Cinema Renaissance Rabat #programmecinema #larenaissance\" data-via=\"ccrenaissance\" href=\"https://twitter.com/share\">Tweet</a>\n",
       "<script>!function(d,s,id){var js,fjs=d.getElementsByTagName(s)[0],p=/^http:/.test(d.location)?'http':'https';if(!d.getElementById(id)){js=d.createElement(s);js.id=id;js.src=p+'://platform.twitter.com/widgets.js';fjs.parentNode.insertBefore(js,fjs);}}(document, 'script', 'twitter-wjs');</script>\n",
       "</p>\n",
       "<!-- Infos -->\n",
       "<div class=\"infos\">\n",
       "<ul class=\"list-unstyled\">\n",
       "<li><span>Date de sortie : </span>2019 </li>\n",
       "<li><span>Réalisé par : </span>Jon Watts</li>\n",
       "<li><span>Avec : </span>Tom Holland, Jake Gyllenhaal, Zendaya, Samuel L. Jackson, Jon Favreau</li>\n",
       "<li><span>Genre : </span>Aventure,</li>\n",
       "<li><span>Nationalité : </span>U.S.A.</li>\n",
       "<li><span>Prix : </span>Tarif réduit : 30DH - Tarif normal : 50DH</li>\n",
       "</ul>\n",
       "</div>\n",
       "<!-- Buttons -->\n",
       "<div class=\"buttons\">\n",
       "<ul class=\"infos\">\n",
       "<li>\n",
       "<div class=\"icon time\"></div>\n",
       "<div class=\"text\"> à 17h00 - 22h30</div>\n",
       "</li>\n",
       "<li>\n",
       "<div class=\"icon play\"></div>\n",
       "<div class=\"text\"><a class=\"various fancybox.iframe\" href=\"https://www.youtube.com/embed/h6GdOpjD3Oc\">Voir la bande annonce</a></div>\n",
       "</li>\n",
       "</ul>\n",
       "</div>\n",
       "</div>\n",
       "</div>\n",
       "</div>\n",
       "<div class=\"col-xs-12 m-item event\" data-dated=\"2019-07-10\">\n",
       "<div class=\"media\">\n",
       "<div class=\"media-left\">\n",
       "<!-- Affiche -->\n",
       "<img alt=\"Toy Story 4\" src=\"/img/affiche/601/thumb_toy4.jpg\"/> </div>\n",
       "<div class=\"media-body\">\n",
       "<!-- Titre -->\n",
       "<h4 class=\"media-heading\">Toy Story 4</h4>\n",
       "<!-- Date -->\n",
       "<small>\n",
       "\t\t\t\t\t\t\t Du 10 au 11 juillet\t\t\t\t\t\t\t</small>\n",
       "<!-- Description -->\n",
       "<p class=\"synopsis\">\n",
       "\t\t\t\t\t\t\t\tWoody a toujours privilégié la joie et le bien-être de ses jeunes propriétaires – Andy puis Bonnie – et de ses compagnons, n'hésitant pas à prendre tous les risques pour eux, aussi inconsidérés soient-ils. L'arrivée de Forky un nouveau jouet qui ne veut pas en être un dans la chambre de Bonnie met toute la petite bande en émoi. C'est le début d'une grande aventure et d'un extraordinaire voyage pour Woody et ses amis. Le cowboy va découvrir à quel point le monde peut être vaste pour un jouet…                            </p>\n",
       "<!-- captures -->\n",
       "<ul class=\"captures\">\n",
       "</ul>\n",
       "<p>\n",
       "<div class=\"fb-like\" data-action=\"like\" data-layout=\"button_count\" data-share=\"true\" data-show-faces=\"true\"></div>\n",
       "<a class=\"twitter-share-button\" data-hashtags=\"programmecinemalarenaissance\" data-text=\"En ce moment au Cinema Renaissance Rabat #programmecinema #larenaissance\" data-via=\"ccrenaissance\" href=\"https://twitter.com/share\">Tweet</a>\n",
       "<script>!function(d,s,id){var js,fjs=d.getElementsByTagName(s)[0],p=/^http:/.test(d.location)?'http':'https';if(!d.getElementById(id)){js=d.createElement(s);js.id=id;js.src=p+'://platform.twitter.com/widgets.js';fjs.parentNode.insertBefore(js,fjs);}}(document, 'script', 'twitter-wjs');</script>\n",
       "</p>\n",
       "<!-- Infos -->\n",
       "<div class=\"infos\">\n",
       "<ul class=\"list-unstyled\">\n",
       "<li><span>Date de sortie : </span>2019 </li>\n",
       "<li><span>Réalisé par : </span>Josh Cooley</li>\n",
       "<li><span>Avec : </span>Jean-Philippe Puymartin, Richard Darbois, Pierre Niney, Ariane Aggiage, Wallace Shawn</li>\n",
       "<li><span>Genre : </span>Animation, Aventure,</li>\n",
       "<li><span>Nationalité : </span>U.S.A.</li>\n",
       "<li><span>Prix : </span>Tarif unique : 30DH</li>\n",
       "</ul>\n",
       "</div>\n",
       "<!-- Buttons -->\n",
       "<div class=\"buttons\">\n",
       "<ul class=\"infos\">\n",
       "<li>\n",
       "<div class=\"icon time\"></div>\n",
       "<div class=\"text\">Tous les jours à <br/>  14h30</div>\n",
       "</li>\n",
       "<li>\n",
       "<div class=\"icon play\"></div>\n",
       "<div class=\"text\"><a class=\"various fancybox.iframe\" href=\"https://www.youtube.com/embed/2DRD4xSUbhM\">Voir la bande annonce</a></div>\n",
       "</li>\n",
       "</ul>\n",
       "</div>\n",
       "</div>\n",
       "</div>\n",
       "</div>\n",
       "</div>"
      ]
     },
     "execution_count": 8,
     "metadata": {},
     "output_type": "execute_result"
    }
   ],
   "source": [
    "events"
   ]
  },
  {
   "cell_type": "markdown",
   "metadata": {},
   "source": [
    "### Scraper les titres"
   ]
  },
  {
   "cell_type": "code",
   "execution_count": 16,
   "metadata": {},
   "outputs": [],
   "source": [
    "titres = []"
   ]
  },
  {
   "cell_type": "code",
   "execution_count": 15,
   "metadata": {},
   "outputs": [],
   "source": [
    "t = events.find_all('h4',class_='media-heading')"
   ]
  },
  {
   "cell_type": "code",
   "execution_count": 17,
   "metadata": {},
   "outputs": [],
   "source": [
    "for i in t:\n",
    "    titres.append(i.text)\n",
    "    "
   ]
  },
  {
   "cell_type": "code",
   "execution_count": 18,
   "metadata": {},
   "outputs": [
    {
     "data": {
      "text/plain": [
       "['Spider-Man: Far From Home', 'Toy Story 4']"
      ]
     },
     "execution_count": 18,
     "metadata": {},
     "output_type": "execute_result"
    }
   ],
   "source": [
    "titres"
   ]
  },
  {
   "cell_type": "markdown",
   "metadata": {},
   "source": [
    "### Scraper les dates"
   ]
  },
  {
   "cell_type": "code",
   "execution_count": 21,
   "metadata": {},
   "outputs": [],
   "source": [
    "dates = []"
   ]
  },
  {
   "cell_type": "code",
   "execution_count": 22,
   "metadata": {},
   "outputs": [],
   "source": [
    "d = events.find_all('small')"
   ]
  },
  {
   "cell_type": "code",
   "execution_count": 24,
   "metadata": {},
   "outputs": [],
   "source": [
    "for i in d:\n",
    "    dates.append((i.text).strip())"
   ]
  },
  {
   "cell_type": "code",
   "execution_count": 25,
   "metadata": {},
   "outputs": [
    {
     "data": {
      "text/plain": [
       "['Le 11 juillet', 'Du 10 au 11 juillet']"
      ]
     },
     "execution_count": 25,
     "metadata": {},
     "output_type": "execute_result"
    }
   ],
   "source": [
    "dates"
   ]
  },
  {
   "cell_type": "markdown",
   "metadata": {},
   "source": [
    "### Scraper les heures"
   ]
  },
  {
   "cell_type": "code",
   "execution_count": 66,
   "metadata": {},
   "outputs": [],
   "source": [
    "heures = []"
   ]
  },
  {
   "cell_type": "code",
   "execution_count": 67,
   "metadata": {},
   "outputs": [],
   "source": [
    "h = events.find_all('ul',class_='infos')"
   ]
  },
  {
   "cell_type": "code",
   "execution_count": 68,
   "metadata": {},
   "outputs": [
    {
     "data": {
      "text/plain": [
       "[<ul class=\"infos\">\n",
       " <li>\n",
       " <div class=\"icon time\"></div>\n",
       " <div class=\"text\"> à 17h00 - 22h30</div>\n",
       " </li>\n",
       " <li>\n",
       " <div class=\"icon play\"></div>\n",
       " <div class=\"text\"><a class=\"various fancybox.iframe\" href=\"https://www.youtube.com/embed/h6GdOpjD3Oc\">Voir la bande annonce</a></div>\n",
       " </li>\n",
       " </ul>, <ul class=\"infos\">\n",
       " <li>\n",
       " <div class=\"icon time\"></div>\n",
       " <div class=\"text\">Tous les jours à <br/>  14h30</div>\n",
       " </li>\n",
       " <li>\n",
       " <div class=\"icon play\"></div>\n",
       " <div class=\"text\"><a class=\"various fancybox.iframe\" href=\"https://www.youtube.com/embed/2DRD4xSUbhM\">Voir la bande annonce</a></div>\n",
       " </li>\n",
       " </ul>]"
      ]
     },
     "execution_count": 68,
     "metadata": {},
     "output_type": "execute_result"
    }
   ],
   "source": [
    "h"
   ]
  },
  {
   "cell_type": "code",
   "execution_count": 69,
   "metadata": {},
   "outputs": [],
   "source": [
    "for i in h:\n",
    "    heures.append((i.find('div',class_='text').text).strip())\n",
    "    "
   ]
  },
  {
   "cell_type": "code",
   "execution_count": 70,
   "metadata": {},
   "outputs": [
    {
     "data": {
      "text/plain": [
       "['à 17h00 - 22h30', 'Tous les jours à   14h30']"
      ]
     },
     "execution_count": 70,
     "metadata": {},
     "output_type": "execute_result"
    }
   ],
   "source": [
    "heures"
   ]
  },
  {
   "cell_type": "markdown",
   "metadata": {},
   "source": [
    "### Scraper la description"
   ]
  },
  {
   "cell_type": "code",
   "execution_count": 27,
   "metadata": {},
   "outputs": [],
   "source": [
    "descs = []"
   ]
  },
  {
   "cell_type": "code",
   "execution_count": 26,
   "metadata": {},
   "outputs": [],
   "source": [
    "d = events.find_all('p',class_='synopsis')"
   ]
  },
  {
   "cell_type": "code",
   "execution_count": 30,
   "metadata": {},
   "outputs": [],
   "source": [
    "for i in d:\n",
    "    descs.append((i.text).strip())"
   ]
  },
  {
   "cell_type": "code",
   "execution_count": 31,
   "metadata": {},
   "outputs": [
    {
     "data": {
      "text/plain": [
       "[\"\\n\\t\\t\\t\\t\\t\\t\\t\\tL'araignée sympa du quartier décide de rejoindre ses meilleurs amis Ned, MJ, et le reste de la bande pour des vacances en Europe. Cependant, le projet de Peter de laisser son costume de super-héros derrière lui pendant quelques semaines est rapidement compromis quand il accepte à contrecoeur d'aider Nick Fury à découvrir le mystère de plusieurs attaques de créatures, qui ravagent le continent !                            \",\n",
       " \"\\n\\t\\t\\t\\t\\t\\t\\t\\tWoody a toujours privilégié la joie et le bien-être de ses jeunes propriétaires – Andy puis Bonnie – et de ses compagnons, n'hésitant pas à prendre tous les risques pour eux, aussi inconsidérés soient-ils. L'arrivée de Forky un nouveau jouet qui ne veut pas en être un dans la chambre de Bonnie met toute la petite bande en émoi. C'est le début d'une grande aventure et d'un extraordinaire voyage pour Woody et ses amis. Le cowboy va découvrir à quel point le monde peut être vaste pour un jouet…                            \",\n",
       " \"L'araignée sympa du quartier décide de rejoindre ses meilleurs amis Ned, MJ, et le reste de la bande pour des vacances en Europe. Cependant, le projet de Peter de laisser son costume de super-héros derrière lui pendant quelques semaines est rapidement compromis quand il accepte à contrecoeur d'aider Nick Fury à découvrir le mystère de plusieurs attaques de créatures, qui ravagent le continent !\",\n",
       " \"Woody a toujours privilégié la joie et le bien-être de ses jeunes propriétaires – Andy puis Bonnie – et de ses compagnons, n'hésitant pas à prendre tous les risques pour eux, aussi inconsidérés soient-ils. L'arrivée de Forky un nouveau jouet qui ne veut pas en être un dans la chambre de Bonnie met toute la petite bande en émoi. C'est le début d'une grande aventure et d'un extraordinaire voyage pour Woody et ses amis. Le cowboy va découvrir à quel point le monde peut être vaste pour un jouet…\"]"
      ]
     },
     "execution_count": 31,
     "metadata": {},
     "output_type": "execute_result"
    }
   ],
   "source": [
    "descs"
   ]
  },
  {
   "cell_type": "markdown",
   "metadata": {},
   "source": [
    "### Scraper les images"
   ]
  },
  {
   "cell_type": "code",
   "execution_count": 78,
   "metadata": {},
   "outputs": [],
   "source": [
    "images = []"
   ]
  },
  {
   "cell_type": "code",
   "execution_count": 79,
   "metadata": {},
   "outputs": [],
   "source": [
    "img = events.find_all('img')"
   ]
  },
  {
   "cell_type": "code",
   "execution_count": 80,
   "metadata": {},
   "outputs": [],
   "source": [
    "for i in img:\n",
    "    images.append(\"http://www.renaissance.ma\"+str(i['src']))"
   ]
  },
  {
   "cell_type": "code",
   "execution_count": 81,
   "metadata": {},
   "outputs": [
    {
     "data": {
      "text/plain": [
       "['http://www.renaissance.ma/img/affiche/600/thumb_Spider.jpg',\n",
       " 'http://www.renaissance.ma/img/affiche/601/thumb_toy4.jpg']"
      ]
     },
     "execution_count": 81,
     "metadata": {},
     "output_type": "execute_result"
    }
   ],
   "source": [
    "images"
   ]
  },
  {
   "cell_type": "code",
   "execution_count": 77,
   "metadata": {},
   "outputs": [
    {
     "data": {
      "text/plain": [
       "['http://www.renaissance.ma/img/affiche/601/thumb_toy4.jpg']"
      ]
     },
     "execution_count": 77,
     "metadata": {},
     "output_type": "execute_result"
    }
   ],
   "source": []
  },
  {
   "cell_type": "markdown",
   "metadata": {},
   "source": [
    "### N.B : Le lien et lieu sont constants donc on ne change rien et les intègre directement"
   ]
  },
  {
   "cell_type": "markdown",
   "metadata": {},
   "source": [
    "##  Tout regrouper en une seule structure"
   ]
  },
  {
   "cell_type": "code",
   "execution_count": 84,
   "metadata": {},
   "outputs": [],
   "source": [
    "prog = []\n",
    "for i,j,k,l,m in zip(titres,dates,heures,images,descs):\n",
    "    #Ajouter le lieu\n",
    "    t = (i,j,k,l,\"http://www.renaissance.ma/content/enSalle\",m,\"Espace Renaissance\")\n",
    "    prog.append(t)"
   ]
  },
  {
   "cell_type": "code",
   "execution_count": 85,
   "metadata": {},
   "outputs": [
    {
     "data": {
      "text/plain": [
       "[('Spider-Man: Far From Home',\n",
       "  'Le 11 juillet',\n",
       "  'à 17h00 - 22h30',\n",
       "  'http://www.renaissance.ma/img/affiche/600/thumb_Spider.jpg',\n",
       "  'http://www.renaissance.ma/content/enSalle',\n",
       "  \"\\n\\t\\t\\t\\t\\t\\t\\t\\tL'araignée sympa du quartier décide de rejoindre ses meilleurs amis Ned, MJ, et le reste de la bande pour des vacances en Europe. Cependant, le projet de Peter de laisser son costume de super-héros derrière lui pendant quelques semaines est rapidement compromis quand il accepte à contrecoeur d'aider Nick Fury à découvrir le mystère de plusieurs attaques de créatures, qui ravagent le continent !                            \",\n",
       "  'Espace Renaissance'),\n",
       " ('Toy Story 4',\n",
       "  'Du 10 au 11 juillet',\n",
       "  'Tous les jours à   14h30',\n",
       "  'http://www.renaissance.ma/img/affiche/601/thumb_toy4.jpg',\n",
       "  'http://www.renaissance.ma/content/enSalle',\n",
       "  \"\\n\\t\\t\\t\\t\\t\\t\\t\\tWoody a toujours privilégié la joie et le bien-être de ses jeunes propriétaires – Andy puis Bonnie – et de ses compagnons, n'hésitant pas à prendre tous les risques pour eux, aussi inconsidérés soient-ils. L'arrivée de Forky un nouveau jouet qui ne veut pas en être un dans la chambre de Bonnie met toute la petite bande en émoi. C'est le début d'une grande aventure et d'un extraordinaire voyage pour Woody et ses amis. Le cowboy va découvrir à quel point le monde peut être vaste pour un jouet…                            \",\n",
       "  'Espace Renaissance')]"
      ]
     },
     "execution_count": 85,
     "metadata": {},
     "output_type": "execute_result"
    }
   ],
   "source": [
    "prog"
   ]
  },
  {
   "cell_type": "markdown",
   "metadata": {},
   "source": [
    "### Convertir en objet pandas"
   ]
  },
  {
   "cell_type": "code",
   "execution_count": 86,
   "metadata": {},
   "outputs": [],
   "source": [
    "import pandas as pd"
   ]
  },
  {
   "cell_type": "code",
   "execution_count": 87,
   "metadata": {},
   "outputs": [],
   "source": [
    "df = pd.DataFrame(prog,columns=['noms','date','heure','image','lien','description','lieu'])"
   ]
  },
  {
   "cell_type": "code",
   "execution_count": 88,
   "metadata": {},
   "outputs": [
    {
     "data": {
      "text/html": [
       "<div>\n",
       "<style>\n",
       "    .dataframe thead tr:only-child th {\n",
       "        text-align: right;\n",
       "    }\n",
       "\n",
       "    .dataframe thead th {\n",
       "        text-align: left;\n",
       "    }\n",
       "\n",
       "    .dataframe tbody tr th {\n",
       "        vertical-align: top;\n",
       "    }\n",
       "</style>\n",
       "<table border=\"1\" class=\"dataframe\">\n",
       "  <thead>\n",
       "    <tr style=\"text-align: right;\">\n",
       "      <th></th>\n",
       "      <th>noms</th>\n",
       "      <th>date</th>\n",
       "      <th>heure</th>\n",
       "      <th>image</th>\n",
       "      <th>lien</th>\n",
       "      <th>description</th>\n",
       "      <th>lieu</th>\n",
       "    </tr>\n",
       "  </thead>\n",
       "  <tbody>\n",
       "    <tr>\n",
       "      <th>0</th>\n",
       "      <td>Spider-Man: Far From Home</td>\n",
       "      <td>Le 11 juillet</td>\n",
       "      <td>à 17h00 - 22h30</td>\n",
       "      <td>http://www.renaissance.ma/img/affiche/600/thum...</td>\n",
       "      <td>http://www.renaissance.ma/content/enSalle</td>\n",
       "      <td>\\n\\t\\t\\t\\t\\t\\t\\t\\tL'araignée sympa du quartier...</td>\n",
       "      <td>Espace Renaissance</td>\n",
       "    </tr>\n",
       "    <tr>\n",
       "      <th>1</th>\n",
       "      <td>Toy Story 4</td>\n",
       "      <td>Du 10 au 11 juillet</td>\n",
       "      <td>Tous les jours à   14h30</td>\n",
       "      <td>http://www.renaissance.ma/img/affiche/601/thum...</td>\n",
       "      <td>http://www.renaissance.ma/content/enSalle</td>\n",
       "      <td>\\n\\t\\t\\t\\t\\t\\t\\t\\tWoody a toujours privilégié ...</td>\n",
       "      <td>Espace Renaissance</td>\n",
       "    </tr>\n",
       "  </tbody>\n",
       "</table>\n",
       "</div>"
      ],
      "text/plain": [
       "                        noms                 date                     heure  \\\n",
       "0  Spider-Man: Far From Home        Le 11 juillet           à 17h00 - 22h30   \n",
       "1                Toy Story 4  Du 10 au 11 juillet  Tous les jours à   14h30   \n",
       "\n",
       "                                               image  \\\n",
       "0  http://www.renaissance.ma/img/affiche/600/thum...   \n",
       "1  http://www.renaissance.ma/img/affiche/601/thum...   \n",
       "\n",
       "                                        lien  \\\n",
       "0  http://www.renaissance.ma/content/enSalle   \n",
       "1  http://www.renaissance.ma/content/enSalle   \n",
       "\n",
       "                                         description                lieu  \n",
       "0  \\n\\t\\t\\t\\t\\t\\t\\t\\tL'araignée sympa du quartier...  Espace Renaissance  \n",
       "1  \\n\\t\\t\\t\\t\\t\\t\\t\\tWoody a toujours privilégié ...  Espace Renaissance  "
      ]
     },
     "execution_count": 88,
     "metadata": {},
     "output_type": "execute_result"
    }
   ],
   "source": [
    "df"
   ]
  },
  {
   "cell_type": "code",
   "execution_count": null,
   "metadata": {},
   "outputs": [],
   "source": []
  }
 ],
 "metadata": {
  "kernelspec": {
   "display_name": "Python 3",
   "language": "python",
   "name": "python3"
  },
  "language_info": {
   "codemirror_mode": {
    "name": "ipython",
    "version": 3
   },
   "file_extension": ".py",
   "mimetype": "text/x-python",
   "name": "python",
   "nbconvert_exporter": "python",
   "pygments_lexer": "ipython3",
   "version": "3.6.1"
  }
 },
 "nbformat": 4,
 "nbformat_minor": 2
}
