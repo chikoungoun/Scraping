{
 "cells": [
  {
   "cell_type": "markdown",
   "metadata": {},
   "source": [
    "# Combiner le résultat des différents scraping en un seul fichier"
   ]
  },
  {
   "cell_type": "code",
   "execution_count": 1,
   "metadata": {},
   "outputs": [],
   "source": [
    "import pickle"
   ]
  },
  {
   "cell_type": "markdown",
   "metadata": {},
   "source": [
    "### Lire les fichiers pickle"
   ]
  },
  {
   "cell_type": "code",
   "execution_count": 2,
   "metadata": {},
   "outputs": [],
   "source": [
    "i_f = pickle.load(open('if.pickle','rb'))\n",
    "renaissance = pickle.load(open('renaissance.pickle','rb'))"
   ]
  },
  {
   "cell_type": "code",
   "execution_count": 3,
   "metadata": {},
   "outputs": [],
   "source": [
    "prog = i_f + renaissance"
   ]
  },
  {
   "cell_type": "markdown",
   "metadata": {},
   "source": [
    "### Combiner les données de IF et renaissance en un seul fichier"
   ]
  },
  {
   "cell_type": "code",
   "execution_count": 4,
   "metadata": {},
   "outputs": [
    {
     "data": {
      "text/plain": [
       "[('LES FRÈRES SISTERS (THE SISTERS BROTHERS)',\n",
       "  ' dimanche 13 janv.',\n",
       "  ' 18:30',\n",
       "  'https://if-maroc.org/rabat/wp-content/uploads/sites/18/2018/12/lesfreressisters-360x488.jpg',\n",
       "  'https://if-maroc.org/rabat/film/les-freres-sisters-the-sisters-brothers/',\n",
       "  'Charlie et Eli Sisters évoluent dans un monde sauvage et hostile, ils ont du sang sur les mains : celui de criminels, celui d’innocents… Ils n’éprouvent aucun état d’âme à tuer. C’est leur métier. Charlie, le cadet, est né pour ça. Eli, lui, ne rêve que d’une vie normale. Ils sont engagés par le Commodore pour rechercher et tuer un homme. De l’Oregon à la Californie, une traque implacable commence, un parcours initiatique qui va éprouver ce lien fou qui les unit. Un chemin vers leur humanité ?',\n",
       "  'Salle Gérard Philipe                                                                     -                                                                     Rabat'),\n",
       " ('16 LEVERS DE SOLEIL',\n",
       "  ' dimanche 20 janv.',\n",
       "  ' 18:30',\n",
       "  'https://if-maroc.org/rabat/wp-content/uploads/sites/18/2019/01/16leversdesoleil-360x488.jpg',\n",
       "  'https://if-maroc.org/rabat/film/16-levers-de-soleil/',\n",
       "  'S’envoler pour l’espace. C’est ce rêve que Thomas Pesquet a réalisé́ en décollant depuis la base de Baïkonour. A 450 kilomètres de la Terre, durant ces six mois où le monde semble basculer dans l’inconnu, un dialogue se tisse entre l’astronaute et l’œuvre visionnaire de Saint Exupéry qu’il a emportée dans la station spatiale.',\n",
       "  'Salle Gérard Philipe                                                                     -                                                                     Rabat'),\n",
       " ('L’AMOUR FLOU',\n",
       "  ' dimanche 27 janv.',\n",
       "  ' 18:30',\n",
       "  'https://if-maroc.org/rabat/wp-content/uploads/sites/18/2018/12/lamourflou-360x488.jpg',\n",
       "  'https://if-maroc.org/rabat/film/lamour-flou/',\n",
       "  'Romane et Philippe se séparent. Après 10 ans de vie commune, deux enfants et un chien, ils ne s’aiment plus. Enfin… ils ne sont plus amoureux. Mais ils s’aiment quand même. Beaucoup. Trop pour se séparer vraiment\\xa0? Bref…C’est flou. Alors, sous le regard circonspect de leur entourage, ils accouchent ensemble d’un «\\xa0sépartement\\xa0» : deux appartements séparés, communiquant par… la chambre de leurs enfants ! Peut-on se séparer ensemble\\xa0? Peut-on refaire sa vie, sans la défaire\\xa0?',\n",
       "  'Salle Gérard Philipe                                                                     -                                                                     Rabat'),\n",
       " ('CAPHARNAÜM',\n",
       "  ' dimanche 03 févr.',\n",
       "  ' 18:30',\n",
       "  'https://if-maroc.org/rabat/wp-content/uploads/sites/18/2018/12/capharnaum-360x488.jpg',\n",
       "  'https://if-maroc.org/rabat/film/capharnaum/',\n",
       "  'À l’intérieur d’un tribunal, Zain, un garçon de 12 ans, est présenté devant le juge. À la question : \\xa0» Pourquoi attaquez-vous vos parents en justice ? «\\xa0, Zain lui répond : \\xa0» Pour m’avoir donné la vie ! «\\xa0. Capharnaüm retrace l’incroyable parcours de cet enfant en quête d’identité et qui se rebelle contre la vie qu’on cherche à lui imposer.',\n",
       "  'Salle Gérard Philipe                                                                     -                                                                     Rabat'),\n",
       " ('AMANDA',\n",
       "  ' dimanche 10 févr.',\n",
       "  ' 18:30',\n",
       "  'https://if-maroc.org/rabat/wp-content/uploads/sites/18/2018/12/amanda-360x488.jpg',\n",
       "  'https://if-maroc.org/rabat/film/amanda/',\n",
       "  'Paris, de nos jours. David, 24 ans, vit au présent. Il jongle entre différents petits boulots et recule, pour un temps encore, l’heure des choix plus engageants. Le cours tranquille des choses vole en éclats quand sa sœur aînée meurt brutalement. Il se retrouve alors en charge de sa nièce de 7 ans, Amanda.',\n",
       "  'Salle Gérard Philipe                                                                     -                                                                     Rabat'),\n",
       " ('LOLA ET SES FRERES',\n",
       "  ' dimanche 17 févr.',\n",
       "  ' 18:30',\n",
       "  'https://if-maroc.org/rabat/wp-content/uploads/sites/18/2018/12/lolaetsesfreres-360x488.jpg',\n",
       "  'https://if-maroc.org/rabat/film/lola-et-ses-freres/',\n",
       "  'Lola a deux frères : Benoit, qui se marie pour la 3ème fois, et Pierre, qui débarque en retard au mariage… Excuses, reproches, engueulades, brouilles, chacun essaye de vivre sa vie de son côté. Benoit va devenir père sans y être prêt. Lola fait la rencontre de Zoher alors qu’elle s’occupe de son divorce. Quant à Pierre, ses problèmes professionnels s’enveniment. Tout dans leur vie devrait les éloigner, mais ces trois-là sont inséparables.',\n",
       "  'Salle Gérard Philipe                                                                     -                                                                     Rabat'),\n",
       " ('UNE AFFAIRE DE FAMILLE',\n",
       "  ' dimanche 24 févr.',\n",
       "  ' 18:30',\n",
       "  'https://if-maroc.org/rabat/wp-content/uploads/sites/18/2018/12/uneaffairedefamille-360x488.jpg',\n",
       "  'https://if-maroc.org/rabat/film/une-affaire-de-famille/',\n",
       "  'Au retour d’une nouvelle expédition de vol à l’étalage, Osamu et son fils recueillent dans la rue une petite fille qui semble livrée à elle-même.\\xa0D’abord réticente à l’idée d’abriter l’enfant pour la nuit, la femme d’Osamu accepte de s’occuper d’elle lorsqu‘elle comprend\\xa0que ses parents la maltraitent.\\xa0En dépit de leur pauvreté, survivant de petites rapines qui complètent leurs maigres salaires, les membres de cette famille semblent vivre heureux – jusqu’à ce qu’un incident révèle brutalement leurs plus terribles secrets…',\n",
       "  'Salle Gérard Philipe                                                                     -                                                                     Rabat'),\n",
       " ('L’EMPEREUR DE PARIS',\n",
       "  ' dimanche 03 mars',\n",
       "  ' 18:30',\n",
       "  'https://if-maroc.org/rabat/wp-content/uploads/sites/18/2018/12/lempereurdeparis-360x488.jpg',\n",
       "  'https://if-maroc.org/rabat/film/lempereur-de-paris/',\n",
       "  'Avertissement : des scènes, des propos ou des images peuvent heurter la sensibilité des spectateurs',\n",
       "  'Salle Gérard Philipe                                                                     -                                                                     Rabat'),\n",
       " ('SAUVER OU PERIR',\n",
       "  ' dimanche 10 mars',\n",
       "  ' 18:30',\n",
       "  'https://if-maroc.org/rabat/wp-content/uploads/sites/18/2018/12/suaverouperir-360x488.jpg',\n",
       "  'https://if-maroc.org/rabat/film/sauver-ou-perir/',\n",
       "  'Franck est Sapeur-Pompier de Paris. Il sauve des gens. Il vit dans la caserne avec sa femme qui accouche de jumelles. Il est heureux. Lors d’une intervention sur un incendie, il se sacrifie pour sauver ses hommes.\\xa0A son réveil dans un centre de traitement des Grands Brûlés, il comprend que son visage a fondu dans les flammes. Il va devoir réapprendre à vivre, et accepter d’être sauvé à son tour.',\n",
       "  'Salle Gérard Philipe                                                                     -                                                                     Rabat'),\n",
       " ('DOUBLES VIES',\n",
       "  ' dimanche 17 mars',\n",
       "  ' 18:30',\n",
       "  'https://if-maroc.org/rabat/wp-content/uploads/sites/18/2018/12/doublesvies-360x488.jpg',\n",
       "  'https://if-maroc.org/rabat/film/doubles-vies/',\n",
       "  'Alain, la quarantaine, dirige une célèbre maison d’édition, où son ami Léonard, écrivain bohème publie ses romans. La femme d’Alain, Séléna, est la star d’une série télé populaire et Valérie, compagne de Leonard, assiste vaillamment un homme politique. Bien qu’ils soient amis de longue date, Alain s’apprête à refuser le nouveau manuscrit de Léonard… Les relations entre les deux couples, plus entrelacées qu’il n’y paraît, vont se compliquer.',\n",
       "  'Salle Gérard Philipe                                                                     -                                                                     Rabat'),\n",
       " ('EDMOND',\n",
       "  ' dimanche 24 mars',\n",
       "  ' 18:30',\n",
       "  'https://if-maroc.org/rabat/wp-content/uploads/sites/18/2018/12/edmond-360x488.jpg',\n",
       "  'https://if-maroc.org/rabat/film/edmond/',\n",
       "  'Décembre 1897, Paris. Edmond Rostand n’a pas encore trente ans mais déjà deux enfants et beaucoup d’angoisses. Il n’a rien écrit depuis deux ans. En désespoir de cause, il propose au grand Constant Coquelin une pièce nouvelle, une comédie héroïque, en vers, pour les fêtes. Seul souci : elle n’est pas encore écrite. Faisant fi des caprices des actrices, des exigences de ses producteurs corses, de la jalousie de sa femme, des histoires de cœur de son meilleur ami et du manque d’enthousiasme de l’ensemble de son entourage, Edmond se met à écrire cette pièce à laquelle personne ne croit. Pour l’instant, il n’a que le titre : « Cyrano de Bergerac ».',\n",
       "  'Salle Gérard Philipe                                                                     -                                                                     Rabat'),\n",
       " ('MIRAÏ, MA PETITE SOEUR',\n",
       "  ' dimanche 31 mars',\n",
       "  ' 18:30',\n",
       "  'https://if-maroc.org/rabat/wp-content/uploads/sites/18/2018/12/miraimapetitesoeur-360x488.jpg',\n",
       "  'https://if-maroc.org/rabat/film/mirai-ma-petite-soeur/',\n",
       "  'Kun est un petit garçon à l’enfance heureuse jusqu’à l’arrivée de Miraï, sa petite sœur. Jaloux de ce bébé qui monopolise l’attention de ses parents, il se replie peu à peu sur lui-même. Au fond de son jardin, où il se réfugie souvent, se trouve un arbre généalo-ma-gique. Soudain, Kun est propulsé dans un monde fantastique où vont se mêler passé et futur. Il rencontrera tour à tour ses proches à divers âges de leur vie : sa mère petite fille, son arrière-grand-père dans sa trépidante jeunesse et sa petite sœur adolescente ! A travers ces aventures, Kun va découvrir sa propre histoire.',\n",
       "  'Salle Gérard Philipe                                                                     -                                                                     Rabat'),\n",
       " ('CHAMBOULTOUT',\n",
       "  ' dimanche 26 mai',\n",
       "  ' 21:30',\n",
       "  'https://if-maroc.org/rabat/wp-content/uploads/sites/18/2019/05/chamboultout-360x488.jpg',\n",
       "  'https://if-maroc.org/rabat/film/chamboultout/',\n",
       "  'Béatrice célèbre avec les siens la sortie de son livre, dans lequel elle raconte l’accident de son mari qui a bouleversé leur vie. Frédéric a perdu la vue et ne peut s’empêcher de dire tout ce qu’il pense\\xa0: c’est devenu un homme imprévisible et sans filtre bien que toujours aussi drôle et séduisant. Mais ce livre, véritable hymne-à-la-vie, va déclencher un joyeux pugilat car même si Béatrice a changé les noms, chacun de ses proches cherche à retrouver son personnage. Le groupe d’amis et la famille tanguent… mais certaines tempêtes sont salutaires.',\n",
       "  'Salle Gérard Philipe                                                                     -                                                                     Rabat'),\n",
       " ('LE MYSTERE HENRI PICK',\n",
       "  ' dimanche 05 mai',\n",
       "  ' 18:30',\n",
       "  'https://if-maroc.org/rabat/wp-content/uploads/sites/18/2019/04/le-mystere-360x488.jpg',\n",
       "  'https://if-maroc.org/rabat/film/le-mystere-henri-pick/',\n",
       "  'Dans une étrange bibliothèque au cœur de la Bretagne, une jeune éditrice découvre un manuscrit extraordinaire qu’elle décide aussitôt de publier. Le roman devient un best-seller. Mais son auteur, Henri Pick, un pizzaïolo breton décédé deux ans plus tôt, n’aurait selon sa veuve jamais écrit autre chose que ses listes de courses. Persuadé qu’il s’agit d’une imposture, un célèbre critique littéraire décide de mener l’enquête, avec l’aide inattendue de la fille de l’énigmatique Henri Pick.',\n",
       "  'Salle Gérard Philipe                                                                     -                                                                     Rabat'),\n",
       " ('REBELLES',\n",
       "  ' dimanche 12 mai',\n",
       "  ' 21:30',\n",
       "  'https://if-maroc.org/rabat/wp-content/uploads/sites/18/2019/05/vf0oqfazcumu1axa13_5oarxbgs-360x488.jpg',\n",
       "  'https://if-maroc.org/rabat/film/annulation-de-la-projection-du-film-black-snake/',\n",
       "  'Attention, nouveaux horaires Ramadan.',\n",
       "  'Salle Gérard Philipe                                                                     -                                                                     Rabat'),\n",
       " ('CONVOI EXCEPTIONNEL',\n",
       "  ' dimanche 19 mai',\n",
       "  ' 21:30',\n",
       "  'https://if-maroc.org/rabat/wp-content/uploads/sites/18/2019/05/convoi-360x488.jpg',\n",
       "  'https://if-maroc.org/rabat/film/rebelles/',\n",
       "  'C’est l’histoire d’un type qui va trop vite et d’un gros qui est trop lent. Foster rencontre Taupin. Le premier est en pardessus, le deuxième en guenilles. Tout cela serait banal si l’un des deux n’était en possession d’un scénario effrayant, le scénario de leur vie et de leur mort. Il suffit d’ouvrir les pages et de trembler…',\n",
       "  'Salle Gérard Philipe                                                                     -                                                                     Rabat'),\n",
       " ('LA LUTTE DES CLASSES',\n",
       "  ' dimanche 02 juin',\n",
       "  ' 21:30',\n",
       "  'https://if-maroc.org/rabat/wp-content/uploads/sites/18/2019/05/lutte-360x488.jpg',\n",
       "  'https://if-maroc.org/rabat/film/5842/',\n",
       "  '\\xa0',\n",
       "  'Salle Gérard Philipe                                                                     -                                                                     Rabat'),\n",
       " ('KABULLYWOOD',\n",
       "  ' dimanche 09 juin',\n",
       "  ' 18:30',\n",
       "  'https://if-maroc.org/rabat/wp-content/uploads/sites/18/2019/05/kabullywood-360x488.jpg',\n",
       "  'https://if-maroc.org/rabat/film/la-lutte-des-classes/',\n",
       "  'A Kaboul en Afghanistan, quatre étudiants assoiffés de vie décident d’accomplir un projet audacieux\\xa0: rénover un cinéma abandonné, qui a miraculeusement survécu à 30 ans de guerre. Comme un acte de résistance contre le fondamentalisme des talibans, ils vont aller au bout de leur rêve pour la liberté, la culture, le cinéma…',\n",
       "  'Salle Gérard Philipe                                                                     -                                                                     Rabat'),\n",
       " ('GRÂCE Á DIEU',\n",
       "  ' mardi 18 juin',\n",
       "  ' 20:00',\n",
       "  'https://if-maroc.org/rabat/wp-content/uploads/sites/18/2019/06/b9718622259z-1_20190218130432_000gsdd0iejm-1-0-360x488.jpg',\n",
       "  'https://if-maroc.org/rabat/film/kabullywood/',\n",
       "  'Drame de François Ozon, avec Melvil Poupaud, Denis Mélochet, Swann Arlaud / 2h17',\n",
       "  'Cinéma Renaissance                                                                     -                                                                     Rabat'),\n",
       " ('TEL AVIV ON FIRE',\n",
       "  ' dimanche 23 juin',\n",
       "  ' 18:30',\n",
       "  'https://if-maroc.org/rabat/wp-content/uploads/sites/18/2019/06/telaviv-360x488.jpg',\n",
       "  'https://if-maroc.org/rabat/film/grace-a-dieu/',\n",
       "  'Salam, 30 ans, vit à Jérusalem. Il est\\xa0Palestinien et stagiaire sur le tournage de la série arabe à succès\\xa0Tel Aviv on Fire\\xa0!\\xa0Tous les matins,\\xa0il traverse le même check-point pour aller travailler à Ramallah.\\xa0 Un jour, Salam se fait arrêter par un officier israélien, Assi, fan de la série, et pour s’en sortir, il prétend en être le scénariste.\\xa0Pris à son propre piège, Salam va se voir imposer par Assi un nouveau scénario. Evidemment, rien ne se passera comme prévu.',\n",
       "  'Salle Gérard Philipe                                                                     -                                                                     Rabat'),\n",
       " ('Spider-Man: Far From Home',\n",
       "  'Le 11 juillet',\n",
       "  'à 17h00 - 22h30',\n",
       "  'http://www.renaissance.ma/img/affiche/600/thumb_Spider.jpg',\n",
       "  'http://www.renaissance.ma/content/enSalle',\n",
       "  \"L'araignée sympa du quartier décide de rejoindre ses meilleurs amis Ned, MJ, et le reste de la bande pour des vacances en Europe. Cependant, le projet de Peter de laisser son costume de super-héros derrière lui pendant quelques semaines est rapidement compromis quand il accepte à contrecoeur d'aider Nick Fury à découvrir le mystère de plusieurs attaques de créatures, qui ravagent le continent !\",\n",
       "  'Espace Renaissance'),\n",
       " ('Toy Story 4',\n",
       "  'Du 10 au 11 juillet',\n",
       "  'Tous les jours à   14h30',\n",
       "  'http://www.renaissance.ma/img/affiche/601/thumb_toy4.jpg',\n",
       "  'http://www.renaissance.ma/content/enSalle',\n",
       "  \"Woody a toujours privilégié la joie et le bien-être de ses jeunes propriétaires – Andy puis Bonnie – et de ses compagnons, n'hésitant pas à prendre tous les risques pour eux, aussi inconsidérés soient-ils. L'arrivée de Forky un nouveau jouet qui ne veut pas en être un dans la chambre de Bonnie met toute la petite bande en émoi. C'est le début d'une grande aventure et d'un extraordinaire voyage pour Woody et ses amis. Le cowboy va découvrir à quel point le monde peut être vaste pour un jouet…\",\n",
       "  'Espace Renaissance')]"
      ]
     },
     "execution_count": 4,
     "metadata": {},
     "output_type": "execute_result"
    }
   ],
   "source": [
    "prog"
   ]
  },
  {
   "cell_type": "code",
   "execution_count": 5,
   "metadata": {},
   "outputs": [
    {
     "data": {
      "text/plain": [
       "22"
      ]
     },
     "execution_count": 5,
     "metadata": {},
     "output_type": "execute_result"
    }
   ],
   "source": [
    "len(prog)"
   ]
  },
  {
   "cell_type": "code",
   "execution_count": null,
   "metadata": {},
   "outputs": [],
   "source": []
  }
 ],
 "metadata": {
  "kernelspec": {
   "display_name": "Python 3",
   "language": "python",
   "name": "python3"
  },
  "language_info": {
   "codemirror_mode": {
    "name": "ipython",
    "version": 3
   },
   "file_extension": ".py",
   "mimetype": "text/x-python",
   "name": "python",
   "nbconvert_exporter": "python",
   "pygments_lexer": "ipython3",
   "version": "3.6.1"
  }
 },
 "nbformat": 4,
 "nbformat_minor": 2
}
