{
 "cells": [
  {
   "cell_type": "markdown",
   "metadata": {},
   "source": [
    "# Projet de Scraping pour évènements culturels : Thêatre Mohamed 5"
   ]
  },
  {
   "cell_type": "code",
   "execution_count": 2,
   "metadata": {},
   "outputs": [
    {
     "data": {
      "text/plain": [
       "<Response [200]>"
      ]
     },
     "execution_count": 2,
     "metadata": {},
     "output_type": "execute_result"
    }
   ],
   "source": [
    "import requests\n",
    "\n",
    "url = 'http://www.tnm5.ma/programme-du-mois/'\n",
    "response = requests.get(url)\n",
    "response"
   ]
  },
  {
   "cell_type": "markdown",
   "metadata": {},
   "source": [
    "Réponse positive, on  affiche les 500 premiers caractères"
   ]
  },
  {
   "cell_type": "code",
   "execution_count": 3,
   "metadata": {},
   "outputs": [
    {
     "name": "stdout",
     "output_type": "stream",
     "text": [
      "<!-- Include the header -->\n",
      "<!DOCTYPE html>\n",
      "<html lang=\"en\">\n",
      "<head>\n",
      "  <meta charset=\"utf-8\">\n",
      "  <meta content=\"IE=edge\" http-equiv=\"X-UA-Compatible\">\n",
      "  <meta content=\"width=device-width, initial-scale=1\" name=\"viewport\">\n",
      "  <meta name=\"keywords\" content=\"Theatre National Mohammed 5, Theatre National Mohammed V, theatre de rabat, theatre, théâtre de rabat, théâtre national, théâtre, Theatre Mohammed 5, Theatre National Mohammed 5, tnm5, tnmV, théâtre national mohammed V, rabat, maroc, theatre de ra\n"
     ]
    }
   ],
   "source": [
    "print(response.text[:500])"
   ]
  },
  {
   "cell_type": "markdown",
   "metadata": {},
   "source": [
    "## Utiliser BeautifulSoup pour le parsing"
   ]
  },
  {
   "cell_type": "code",
   "execution_count": 4,
   "metadata": {},
   "outputs": [
    {
     "data": {
      "text/plain": [
       "bs4.BeautifulSoup"
      ]
     },
     "execution_count": 4,
     "metadata": {},
     "output_type": "execute_result"
    }
   ],
   "source": [
    "from bs4 import BeautifulSoup\n",
    "\n",
    "soup = BeautifulSoup(response.text,'html.parser')\n",
    "type(soup)"
   ]
  },
  {
   "cell_type": "code",
   "execution_count": 16,
   "metadata": {},
   "outputs": [],
   "source": [
    "spectacles = soup.find(\"div\", {\"id\": \"iso-container\"})"
   ]
  },
  {
   "cell_type": "code",
   "execution_count": 17,
   "metadata": {},
   "outputs": [
    {
     "data": {
      "text/plain": [
       "<div id=\"iso-container\">\n",
       "<div class=\"col-sm-6 actu col-md-4 musique\">\n",
       "<div class=\"img-hover\">\n",
       "<div class=\"thumbnail\">\n",
       "<a class=\"spt\" href=\"http://tnm5.ma/spectacles/%d8%b3%d9%87%d8%b1%d8%a9-%d9%81%d9%86%d9%8a%d8%a9-%d8%b4%d8%b9%d8%a8%d9%8a%d8%a9/\">\n",
       "<img alt=\"avril1\" class=\"attachment-post-thumbnail wp-post-image\" height=\"380\" src=\"http://tnm5.ma/wp-content/uploads/2019/04/avril1.jpg\" width=\"600\"> </img></a>\n",
       "</div>\n",
       "<div class=\"text-hover\">\n",
       "<a href=\"http://tnm5.ma/spectacles/%d8%b3%d9%87%d8%b1%d8%a9-%d9%81%d9%86%d9%8a%d8%a9-%d8%b4%d8%b9%d8%a8%d9%8a%d8%a9/\">\n",
       "<h3>سهرة فنية شعبية </h3>\n",
       "<p>\n",
       "<span class=\"glyphicon glyphicon-calendar\"></span>\n",
       "<span class=\"help\"> 1 avril 2019  \n",
       "                              <span class=\"glyphicon glyphicon-time\"></span> 20:30</span>\n",
       "</p>\n",
       "<p class=\"\">تخليدا لليوم العالمي للملكية الفكرية\n",
       "\n",
       "</p>\n",
       "</a>\n",
       "</div>\n",
       "</div>\n",
       "</div>\n",
       "<div class=\"col-sm-6 actu col-md-4 theatre\">\n",
       "<div class=\"img-hover\">\n",
       "<div class=\"thumbnail\">\n",
       "<a class=\"spt\" href=\"http://tnm5.ma/spectacles/hariboun/\">\n",
       "<img alt=\"2avril\" class=\"attachment-post-thumbnail wp-post-image\" height=\"600\" src=\"http://tnm5.ma/wp-content/uploads/2019/03/2avril-e1553775605462.jpg\" width=\"429\"/> </a>\n",
       "</div>\n",
       "<div class=\"text-hover\">\n",
       "<a href=\"http://tnm5.ma/spectacles/hariboun/\">\n",
       "<h3>مسرحية الهاربون </h3>\n",
       "<p>\n",
       "<span class=\"glyphicon glyphicon-calendar\"></span>\n",
       "<span class=\"help\"> 2 avril 2019  \n",
       "                              <span class=\"glyphicon glyphicon-time\"></span> 20:00</span>\n",
       "</p>\n",
       "<p class=\"\">تشخيص : حسناء البدوي - زكرياء أشكور - كريمة البدوي |</p>\n",
       "</a>\n",
       "</div>\n",
       "</div>\n",
       "</div>\n",
       "<div class=\"col-sm-6 actu col-md-4 musique\">\n",
       "<div class=\"img-hover\">\n",
       "<div class=\"thumbnail\">\n",
       "<a class=\"spt\" href=\"http://tnm5.ma/spectacles/concert-de-musique-classique-soiree-americaine/\">\n",
       "<img alt=\"2019-04-04-osr\" class=\"attachment-post-thumbnail wp-post-image\" height=\"800\" src=\"http://tnm5.ma/wp-content/uploads/2019/03/2019-04-04-osr-e1552566245609.jpg\" width=\"560\"/> </a>\n",
       "</div>\n",
       "<div class=\"text-hover\">\n",
       "<a href=\"http://tnm5.ma/spectacles/concert-de-musique-classique-soiree-americaine/\">\n",
       "<h3>concert de musique classique : Soirée Américaine </h3>\n",
       "<p>\n",
       "<span class=\"glyphicon glyphicon-calendar\"></span>\n",
       "<span class=\"help\"> 4 avril 2019  \n",
       "                              <span class=\"glyphicon glyphicon-time\"></span> 20:00</span>\n",
       "</p>\n",
       "<p class=\"\">l'Orchestre Symphonique Royal,\n",
       "\n",
       "</p>\n",
       "</a>\n",
       "</div>\n",
       "</div>\n",
       "</div>\n",
       "<div class=\"col-sm-6 actu col-md-4 matinee_enfants\">\n",
       "<div class=\"img-hover\">\n",
       "<div class=\"thumbnail\">\n",
       "<a class=\"spt\" href=\"http://tnm5.ma/spectacles/edition8_med_eljem/\">\n",
       "<img alt=\"FB_IMG_1553977940648\" class=\"attachment-post-thumbnail wp-post-image\" height=\"960\" src=\"http://tnm5.ma/wp-content/uploads/2019/03/FB_IMG_1553977940648.jpg\" width=\"680\"/> </a>\n",
       "</div>\n",
       "<div class=\"text-hover\">\n",
       "<a href=\"http://tnm5.ma/spectacles/edition8_med_eljem/\">\n",
       "<h3>المهرجان الوطني الثاني لجائزة محمد الجم للمسرح المدرسي </h3>\n",
       "<p>\n",
       "<span class=\"glyphicon glyphicon-calendar\"></span>\n",
       "<span class=\"help\"> 5 avril 2019  \n",
       "                              <span class=\"glyphicon glyphicon-time\"></span> 17:00</span>\n",
       "</p>\n",
       "<p class=\"\">جمعية أصدقاء محمد الجم</p>\n",
       "</a>\n",
       "</div>\n",
       "</div>\n",
       "</div>\n",
       "<div class=\"col-sm-6 actu col-md-4 musique\">\n",
       "<div class=\"img-hover\">\n",
       "<div class=\"thumbnail\">\n",
       "<a class=\"spt\" href=\"http://tnm5.ma/spectacles/uca-roseta-rabat-festival-fado-2019/\">\n",
       "<img alt=\"original_fado19_Maroc_rabat_ticketma_Cuca_Roseta_RABAT\" class=\"attachment-post-thumbnail wp-post-image\" height=\"445\" src=\"http://tnm5.ma/wp-content/uploads/2019/03/original_fado19_Maroc_rabat_ticketma_Cuca_Roseta_RABAT.png\" width=\"650\"/> </a>\n",
       "</div>\n",
       "<div class=\"text-hover\">\n",
       "<a href=\"http://tnm5.ma/spectacles/uca-roseta-rabat-festival-fado-2019/\">\n",
       "<h3>CUCA ROSETA (Rabat) FESTIVAL FADO 2019 </h3>\n",
       "<p>\n",
       "<span class=\"glyphicon glyphicon-calendar\"></span>\n",
       "<span class=\"help\"> 6 avril 2019  \n",
       "                              <span class=\"glyphicon glyphicon-time\"></span> 20:00</span>\n",
       "</p>\n",
       "<p class=\"\">FESTIVAL FADO 2019</p>\n",
       "</a>\n",
       "</div>\n",
       "</div>\n",
       "</div>\n",
       "<div class=\"col-sm-6 actu col-md-4 ballet\">\n",
       "<div class=\"img-hover\">\n",
       "<div class=\"thumbnail\">\n",
       "<a class=\"spt\" href=\"http://tnm5.ma/spectacles/fit-ndance-dance-show/\">\n",
       "<img alt=\"2019-04-07\" class=\"attachment-post-thumbnail wp-post-image\" height=\"600\" src=\"http://tnm5.ma/wp-content/uploads/2019/03/2019-04-07.jpg\" width=\"408\"/> </a>\n",
       "</div>\n",
       "<div class=\"text-hover\">\n",
       "<a href=\"http://tnm5.ma/spectacles/fit-ndance-dance-show/\">\n",
       "<h3>FIT N’DANCE : DANCE SHOW </h3>\n",
       "<p>\n",
       "<span class=\"glyphicon glyphicon-calendar\"></span>\n",
       "<span class=\"help\"> 7 avril 2019  \n",
       "                              <span class=\"glyphicon glyphicon-time\"></span> 17:00</span>\n",
       "</p>\n",
       "<p class=\"\">spectacle de danse moderne</p>\n",
       "</a>\n",
       "</div>\n",
       "</div>\n",
       "</div>\n",
       "<div class=\"col-sm-6 actu col-md-4 ballet\">\n",
       "<div class=\"img-hover\">\n",
       "<div class=\"thumbnail\">\n",
       "<a class=\"spt\" href=\"http://tnm5.ma/spectacles/nouvelles-pieces-courtes-de-philippe-decoufle/\">\n",
       "<img alt=\"NPC2©CharlesFreger\" class=\"attachment-post-thumbnail wp-post-image\" height=\"600\" src=\"http://tnm5.ma/wp-content/uploads/2019/03/NPC2©CharlesFreger-e1553162793912.jpg\" width=\"457\"/> </a>\n",
       "</div>\n",
       "<div class=\"text-hover\">\n",
       "<a href=\"http://tnm5.ma/spectacles/nouvelles-pieces-courtes-de-philippe-decoufle/\">\n",
       "<h3>Nouvelles pièces courtes de Philippe Decouflé </h3>\n",
       "<p>\n",
       "<span class=\"glyphicon glyphicon-calendar\"></span>\n",
       "<span class=\"help\"> 9 avril 2019  \n",
       "                              <span class=\"glyphicon glyphicon-time\"></span> 20:00</span>\n",
       "</p>\n",
       "<p class=\"\">Un spectacle de la Compagnie DCA / Philippe Decouflé</p>\n",
       "</a>\n",
       "</div>\n",
       "</div>\n",
       "</div>\n",
       "<div class=\"col-sm-6 actu col-md-4 opera\">\n",
       "<div class=\"img-hover\">\n",
       "<div class=\"thumbnail\">\n",
       "<a class=\"spt\" href=\"http://tnm5.ma/spectacles/opera-tosca/\">\n",
       "<img alt=\"opera tosca-\" class=\"attachment-post-thumbnail wp-post-image\" height=\"695\" src=\"http://tnm5.ma/wp-content/uploads/2019/03/opera-tosca-.jpg\" width=\"478\"/> </a>\n",
       "</div>\n",
       "<div class=\"text-hover\">\n",
       "<a href=\"http://tnm5.ma/spectacles/opera-tosca/\">\n",
       "<h3>OPÉRA TOSCA </h3>\n",
       "<p>\n",
       "<span class=\"glyphicon glyphicon-calendar\"></span>\n",
       "<span class=\"help\">13 avril 2019  \n",
       "                              <span class=\"glyphicon glyphicon-time\"></span> 20:00</span>\n",
       "</p>\n",
       "<p class=\"\">Samedi 13 avril 2019 - 20h</p>\n",
       "</a>\n",
       "</div>\n",
       "</div>\n",
       "</div>\n",
       "<div class=\"col-sm-6 actu col-md-4 opera\">\n",
       "<div class=\"img-hover\">\n",
       "<div class=\"thumbnail\">\n",
       "<a class=\"spt\" href=\"http://tnm5.ma/spectacles/opera-tosca-2/\">\n",
       "<img alt=\"opera tosca-\" class=\"attachment-post-thumbnail wp-post-image\" height=\"695\" src=\"http://tnm5.ma/wp-content/uploads/2019/03/opera-tosca-.jpg\" width=\"478\"/> </a>\n",
       "</div>\n",
       "<div class=\"text-hover\">\n",
       "<a href=\"http://tnm5.ma/spectacles/opera-tosca-2/\">\n",
       "<h3>OPÉRA TOSCA </h3>\n",
       "<p>\n",
       "<span class=\"glyphicon glyphicon-calendar\"></span>\n",
       "<span class=\"help\">15 avril 2019  \n",
       "                              <span class=\"glyphicon glyphicon-time\"></span> 20:00</span>\n",
       "</p>\n",
       "<p class=\"\">Lundi 15 avril 2019 - 20h</p>\n",
       "</a>\n",
       "</div>\n",
       "</div>\n",
       "</div>\n",
       "<div class=\"col-sm-6 actu col-md-4 espaces\">\n",
       "<div class=\"img-hover\">\n",
       "<div class=\"thumbnail\">\n",
       "<a class=\"spt\" href=\"http://tnm5.ma/spectacles/expo-19-avril/\">\n",
       "<img alt=\"doc1\" class=\"attachment-post-thumbnail wp-post-image\" height=\"1000\" src=\"http://tnm5.ma/wp-content/uploads/2019/03/doc1-e1553678751710.jpeg\" width=\"700\"/> </a>\n",
       "</div>\n",
       "<div class=\"text-hover\">\n",
       "<a href=\"http://tnm5.ma/spectacles/expo-19-avril/\">\n",
       "<h3>معرض تشكيلي جماعي </h3>\n",
       "<p>\n",
       "<span class=\"glyphicon glyphicon-calendar\"></span>\n",
       "<span class=\"help\">16 avril 2019  \n",
       "                              <span class=\"glyphicon glyphicon-time\"></span> 18:00</span>\n",
       "</p>\n",
       "<p class=\"\">من 16 إلى 25 أبريل 2019</p>\n",
       "</a>\n",
       "</div>\n",
       "</div>\n",
       "</div>\n",
       "<div class=\"col-sm-6 actu col-md-4 espaces\">\n",
       "<div class=\"img-hover\">\n",
       "<div class=\"thumbnail\">\n",
       "<a class=\"spt\" href=\"http://tnm5.ma/spectacles/signature-livre/\">\n",
       "<img alt=\"livre harrak\" class=\"attachment-post-thumbnail wp-post-image\" height=\"600\" src=\"http://tnm5.ma/wp-content/uploads/2019/03/livre-harrak-e1553686247638.jpg\" width=\"424\"/> </a>\n",
       "</div>\n",
       "<div class=\"text-hover\">\n",
       "<a href=\"http://tnm5.ma/spectacles/signature-livre/\">\n",
       "<h3>حفل تقديم وتوقيع </h3>\n",
       "<p>\n",
       "<span class=\"glyphicon glyphicon-calendar\"></span>\n",
       "<span class=\"help\">17 avril 2019  \n",
       "                              <span class=\"glyphicon glyphicon-time\"></span> 17:00</span>\n",
       "</p>\n",
       "<p class=\"\">signature de livre de Mohammed Touhami EL HARRAK</p>\n",
       "</a>\n",
       "</div>\n",
       "</div>\n",
       "</div>\n",
       "<div class=\"col-sm-6 actu col-md-4 opera\">\n",
       "<div class=\"img-hover\">\n",
       "<div class=\"thumbnail\">\n",
       "<a class=\"spt\" href=\"http://tnm5.ma/spectacles/opera-tosca-3/\">\n",
       "<img alt=\"opera tosca-\" class=\"attachment-post-thumbnail wp-post-image\" height=\"695\" src=\"http://tnm5.ma/wp-content/uploads/2019/03/opera-tosca-.jpg\" width=\"478\"/> </a>\n",
       "</div>\n",
       "<div class=\"text-hover\">\n",
       "<a href=\"http://tnm5.ma/spectacles/opera-tosca-3/\">\n",
       "<h3>OPÉRA TOSCA </h3>\n",
       "<p>\n",
       "<span class=\"glyphicon glyphicon-calendar\"></span>\n",
       "<span class=\"help\">18 avril 2019  \n",
       "                              <span class=\"glyphicon glyphicon-time\"></span> 20:00</span>\n",
       "</p>\n",
       "<p class=\"\">Jeudi18 avril 2019 - 20h</p>\n",
       "</a>\n",
       "</div>\n",
       "</div>\n",
       "</div>\n",
       "<div class=\"col-sm-6 actu col-md-4 ballet\">\n",
       "<div class=\"img-hover\">\n",
       "<div class=\"thumbnail\">\n",
       "<a class=\"spt\" href=\"http://tnm5.ma/spectacles/fit-ndance-le-lac-des-cygnes/\">\n",
       "<img alt=\"2019-04-19\" class=\"attachment-post-thumbnail wp-post-image\" height=\"600\" src=\"http://tnm5.ma/wp-content/uploads/2019/03/2019-04-19.jpg\" width=\"408\"/> </a>\n",
       "</div>\n",
       "<div class=\"text-hover\">\n",
       "<a href=\"http://tnm5.ma/spectacles/fit-ndance-le-lac-des-cygnes/\">\n",
       "<h3>FIT N’DANCE : LE LAC DES CYGNES </h3>\n",
       "<p>\n",
       "<span class=\"glyphicon glyphicon-calendar\"></span>\n",
       "<span class=\"help\">19 avril 2019  \n",
       "                              <span class=\"glyphicon glyphicon-time\"></span> 19:30</span>\n",
       "</p>\n",
       "<p class=\"\">spectacle de danse classique</p>\n",
       "</a>\n",
       "</div>\n",
       "</div>\n",
       "</div>\n",
       "<div class=\"col-sm-6 actu col-md-4 theatre\">\n",
       "<div class=\"img-hover\">\n",
       "<div class=\"thumbnail\">\n",
       "<a class=\"spt\" href=\"http://tnm5.ma/spectacles/abdelkader-secteur-2/\">\n",
       "<img alt=\"IMG-20190326-WA0053\" class=\"attachment-post-thumbnail wp-post-image\" height=\"520\" src=\"http://tnm5.ma/wp-content/uploads/2019/03/IMG-20190326-WA0053.jpg\" width=\"900\"/> </a>\n",
       "</div>\n",
       "<div class=\"text-hover\">\n",
       "<a href=\"http://tnm5.ma/spectacles/abdelkader-secteur-2/\">\n",
       "<h3>Abdelkader Secteur </h3>\n",
       "<p>\n",
       "<span class=\"glyphicon glyphicon-calendar\"></span>\n",
       "<span class=\"help\">20 avril 2019  \n",
       "                              <span class=\"glyphicon glyphicon-time\"></span> 20:30</span>\n",
       "</p>\n",
       "<p class=\"\">Abdelkader Secteur\n",
       "\n",
       "Salam Aleykoum\n",
       "\n",
       "</p>\n",
       "</a>\n",
       "</div>\n",
       "</div>\n",
       "</div>\n",
       "<div class=\"col-sm-6 actu col-md-4 theatre\">\n",
       "<div class=\"img-hover\">\n",
       "<div class=\"thumbnail\">\n",
       "<a class=\"spt\" href=\"http://tnm5.ma/spectacles/comedy-show/\">\n",
       "<img alt=\"22avril\" class=\"attachment-post-thumbnail wp-post-image\" height=\"457\" src=\"http://tnm5.ma/wp-content/uploads/2019/03/22avril.jpg\" width=\"802\"/> </a>\n",
       "</div>\n",
       "<div class=\"text-hover\">\n",
       "<a href=\"http://tnm5.ma/spectacles/comedy-show/\">\n",
       "<h3>Comedy Show </h3>\n",
       "<p>\n",
       "<span class=\"glyphicon glyphicon-calendar\"></span>\n",
       "<span class=\"help\">22 avril 2019  \n",
       "                              <span class=\"glyphicon glyphicon-time\"></span> 20:00</span>\n",
       "</p>\n",
       "<p class=\"\">Comedy Show Saison 2 à Rabat\n",
       "</p>\n",
       "</a>\n",
       "</div>\n",
       "</div>\n",
       "</div>\n",
       "<div class=\"col-sm-6 actu col-md-4 musique\">\n",
       "<div class=\"img-hover\">\n",
       "<div class=\"thumbnail\">\n",
       "<a class=\"spt\" href=\"http://tnm5.ma/spectacles/rencontre-entre-la-coree-et-le-maroc/\">\n",
       "<img alt=\"2019-04-24\" class=\"attachment-post-thumbnail wp-post-image\" height=\"600\" src=\"http://tnm5.ma/wp-content/uploads/2019/03/2019-04-24-e1554717519296.jpg\" width=\"416\"/> </a>\n",
       "</div>\n",
       "<div class=\"text-hover\">\n",
       "<a href=\"http://tnm5.ma/spectacles/rencontre-entre-la-coree-et-le-maroc/\">\n",
       "<h3>Rencontre entre la Corée et le Maroc </h3>\n",
       "<p>\n",
       "<span class=\"glyphicon glyphicon-calendar\"></span>\n",
       "<span class=\"help\">24 avril 2019  \n",
       "                              <span class=\"glyphicon glyphicon-time\"></span> 20:00</span>\n",
       "</p>\n",
       "<p class=\"\">Ambassade de la République de Corée au Royaume du Maroc\n",
       "\n",
       "</p>\n",
       "</a>\n",
       "</div>\n",
       "</div>\n",
       "</div>\n",
       "<div class=\"col-sm-6 actu col-md-4 theatre\">\n",
       "<div class=\"img-hover\">\n",
       "<div class=\"thumbnail\">\n",
       "<a class=\"spt\" href=\"http://tnm5.ma/spectacles/la-chute-6/\">\n",
       "<img alt=\"chute\" class=\"attachment-post-thumbnail wp-post-image\" height=\"483\" src=\"http://tnm5.ma/wp-content/uploads/2019/03/chute.jpg\" width=\"400\"/> </a>\n",
       "</div>\n",
       "<div class=\"text-hover\">\n",
       "<a href=\"http://tnm5.ma/spectacles/la-chute-6/\">\n",
       "<h3>La chute </h3>\n",
       "<p>\n",
       "<span class=\"glyphicon glyphicon-calendar\"></span>\n",
       "<span class=\"help\">26 avril 2019  \n",
       "                              <span class=\"glyphicon glyphicon-time\"></span> 20:00</span>\n",
       "</p>\n",
       "<p class=\"\">Sachant que j’avais interprété plusieurs rôles masculins dont Hamlet, Platon, Vladimir dans En attendant Godot, et L’empereur Schrischmatury, Mantred Stassen penseur et philosophe allemand, </p>\n",
       "</a>\n",
       "</div>\n",
       "</div>\n",
       "</div>\n",
       "<div class=\"col-sm-6 actu col-md-4 musique\">\n",
       "<div class=\"img-hover\">\n",
       "<div class=\"thumbnail\">\n",
       "<a class=\"spt\" href=\"http://tnm5.ma/spectacles/lorchestre-symphonique-royal-combo-jazz/\">\n",
       "<img alt=\"Affiche OSR Combo Jazz Rabat (1)\" class=\"attachment-post-thumbnail wp-post-image\" height=\"600\" src=\"http://tnm5.ma/wp-content/uploads/2019/04/Affiche-OSR-Combo-Jazz-Rabat-1-e1555068259643.jpg\" width=\"420\"/> </a>\n",
       "</div>\n",
       "<div class=\"text-hover\">\n",
       "<a href=\"http://tnm5.ma/spectacles/lorchestre-symphonique-royal-combo-jazz/\">\n",
       "<h3>l’Orchestre Symphonique Royal : Combo Jazz </h3>\n",
       "<p>\n",
       "<span class=\"glyphicon glyphicon-calendar\"></span>\n",
       "<span class=\"help\">30 avril 2019  \n",
       "                              <span class=\"glyphicon glyphicon-time\"></span> 20:00</span>\n",
       "</p>\n",
       "<p class=\"\">hommage à Ella FITZGERALD</p>\n",
       "</a>\n",
       "</div>\n",
       "</div>\n",
       "</div>\n",
       "<div class=\"clear\"></div>\n",
       "</div>"
      ]
     },
     "execution_count": 17,
     "metadata": {},
     "output_type": "execute_result"
    }
   ],
   "source": [
    "spectacles"
   ]
  },
  {
   "cell_type": "code",
   "execution_count": 39,
   "metadata": {},
   "outputs": [
    {
     "data": {
      "text/plain": [
       "[<h3>سهرة فنية شعبية </h3>,\n",
       " <h3>مسرحية الهاربون </h3>,\n",
       " <h3>concert de musique classique : Soirée Américaine </h3>,\n",
       " <h3>المهرجان الوطني الثاني لجائزة محمد الجم للمسرح المدرسي </h3>,\n",
       " <h3>CUCA ROSETA (Rabat) FESTIVAL FADO 2019 </h3>,\n",
       " <h3>FIT N’DANCE : DANCE SHOW </h3>,\n",
       " <h3>Nouvelles pièces courtes de Philippe Decouflé </h3>,\n",
       " <h3>OPÉRA TOSCA </h3>,\n",
       " <h3>OPÉRA TOSCA </h3>,\n",
       " <h3>معرض تشكيلي جماعي </h3>,\n",
       " <h3>حفل تقديم وتوقيع </h3>,\n",
       " <h3>OPÉRA TOSCA </h3>,\n",
       " <h3>FIT N’DANCE : LE LAC DES CYGNES </h3>,\n",
       " <h3>Abdelkader Secteur </h3>,\n",
       " <h3>Comedy Show </h3>,\n",
       " <h3>Rencontre entre la Corée et le Maroc </h3>,\n",
       " <h3>La chute </h3>,\n",
       " <h3>l’Orchestre Symphonique Royal : Combo Jazz </h3>]"
      ]
     },
     "execution_count": 39,
     "metadata": {},
     "output_type": "execute_result"
    }
   ],
   "source": [
    "spectacles.find_all('h3')"
   ]
  },
  {
   "cell_type": "code",
   "execution_count": 40,
   "metadata": {},
   "outputs": [
    {
     "name": "stdout",
     "output_type": "stream",
     "text": [
      "18\n"
     ]
    }
   ],
   "source": [
    "print(len(spectacles.find_all('h3')))"
   ]
  },
  {
   "cell_type": "code",
   "execution_count": 43,
   "metadata": {},
   "outputs": [],
   "source": [
    "noms = []\n",
    "for i in spectacles.find_all('h3'):\n",
    "    noms.append(i.text)"
   ]
  },
  {
   "cell_type": "code",
   "execution_count": 44,
   "metadata": {},
   "outputs": [
    {
     "data": {
      "text/plain": [
       "['سهرة فنية شعبية ',\n",
       " 'مسرحية الهاربون ',\n",
       " 'concert de musique classique : Soirée Américaine ',\n",
       " 'المهرجان الوطني الثاني لجائزة محمد الجم للمسرح المدرسي ',\n",
       " 'CUCA ROSETA (Rabat) FESTIVAL FADO 2019 ',\n",
       " 'FIT N’DANCE : DANCE SHOW ',\n",
       " 'Nouvelles pièces courtes de Philippe Decouflé ',\n",
       " 'OPÉRA TOSCA ',\n",
       " 'OPÉRA TOSCA ',\n",
       " 'معرض تشكيلي جماعي ',\n",
       " 'حفل تقديم وتوقيع ',\n",
       " 'OPÉRA TOSCA ',\n",
       " 'FIT N’DANCE : LE LAC DES CYGNES ',\n",
       " 'Abdelkader Secteur ',\n",
       " 'Comedy Show ',\n",
       " 'Rencontre entre la Corée et le Maroc ',\n",
       " 'La chute ',\n",
       " 'l’Orchestre Symphonique Royal : Combo Jazz ']"
      ]
     },
     "execution_count": 44,
     "metadata": {},
     "output_type": "execute_result"
    }
   ],
   "source": [
    "noms"
   ]
  },
  {
   "cell_type": "code",
   "execution_count": 47,
   "metadata": {},
   "outputs": [
    {
     "data": {
      "text/plain": [
       "[<span class=\"help\"> 1 avril 2019  \n",
       "                               <span class=\"glyphicon glyphicon-time\"></span> 20:30</span>,\n",
       " <span class=\"help\"> 2 avril 2019  \n",
       "                               <span class=\"glyphicon glyphicon-time\"></span> 20:00</span>,\n",
       " <span class=\"help\"> 4 avril 2019  \n",
       "                               <span class=\"glyphicon glyphicon-time\"></span> 20:00</span>,\n",
       " <span class=\"help\"> 5 avril 2019  \n",
       "                               <span class=\"glyphicon glyphicon-time\"></span> 17:00</span>,\n",
       " <span class=\"help\"> 6 avril 2019  \n",
       "                               <span class=\"glyphicon glyphicon-time\"></span> 20:00</span>,\n",
       " <span class=\"help\"> 7 avril 2019  \n",
       "                               <span class=\"glyphicon glyphicon-time\"></span> 17:00</span>,\n",
       " <span class=\"help\"> 9 avril 2019  \n",
       "                               <span class=\"glyphicon glyphicon-time\"></span> 20:00</span>,\n",
       " <span class=\"help\">13 avril 2019  \n",
       "                               <span class=\"glyphicon glyphicon-time\"></span> 20:00</span>,\n",
       " <span class=\"help\">15 avril 2019  \n",
       "                               <span class=\"glyphicon glyphicon-time\"></span> 20:00</span>,\n",
       " <span class=\"help\">16 avril 2019  \n",
       "                               <span class=\"glyphicon glyphicon-time\"></span> 18:00</span>,\n",
       " <span class=\"help\">17 avril 2019  \n",
       "                               <span class=\"glyphicon glyphicon-time\"></span> 17:00</span>,\n",
       " <span class=\"help\">18 avril 2019  \n",
       "                               <span class=\"glyphicon glyphicon-time\"></span> 20:00</span>,\n",
       " <span class=\"help\">19 avril 2019  \n",
       "                               <span class=\"glyphicon glyphicon-time\"></span> 19:30</span>,\n",
       " <span class=\"help\">20 avril 2019  \n",
       "                               <span class=\"glyphicon glyphicon-time\"></span> 20:30</span>,\n",
       " <span class=\"help\">22 avril 2019  \n",
       "                               <span class=\"glyphicon glyphicon-time\"></span> 20:00</span>,\n",
       " <span class=\"help\">24 avril 2019  \n",
       "                               <span class=\"glyphicon glyphicon-time\"></span> 20:00</span>,\n",
       " <span class=\"help\">26 avril 2019  \n",
       "                               <span class=\"glyphicon glyphicon-time\"></span> 20:00</span>,\n",
       " <span class=\"help\">30 avril 2019  \n",
       "                               <span class=\"glyphicon glyphicon-time\"></span> 20:00</span>]"
      ]
     },
     "execution_count": 47,
     "metadata": {},
     "output_type": "execute_result"
    }
   ],
   "source": [
    "spectacles.find_all('span',class_='help')"
   ]
  },
  {
   "cell_type": "code",
   "execution_count": 48,
   "metadata": {},
   "outputs": [],
   "source": [
    "dates = []\n",
    "for i in spectacles.find_all('span',class_='help'):\n",
    "    dates.append(i.text)"
   ]
  },
  {
   "cell_type": "code",
   "execution_count": 49,
   "metadata": {},
   "outputs": [
    {
     "data": {
      "text/plain": [
       "[' 1 avril 2019\\xa0\\xa0\\n                               20:30',\n",
       " ' 2 avril 2019\\xa0\\xa0\\n                               20:00',\n",
       " ' 4 avril 2019\\xa0\\xa0\\n                               20:00',\n",
       " ' 5 avril 2019\\xa0\\xa0\\n                               17:00',\n",
       " ' 6 avril 2019\\xa0\\xa0\\n                               20:00',\n",
       " ' 7 avril 2019\\xa0\\xa0\\n                               17:00',\n",
       " ' 9 avril 2019\\xa0\\xa0\\n                               20:00',\n",
       " '13 avril 2019\\xa0\\xa0\\n                               20:00',\n",
       " '15 avril 2019\\xa0\\xa0\\n                               20:00',\n",
       " '16 avril 2019\\xa0\\xa0\\n                               18:00',\n",
       " '17 avril 2019\\xa0\\xa0\\n                               17:00',\n",
       " '18 avril 2019\\xa0\\xa0\\n                               20:00',\n",
       " '19 avril 2019\\xa0\\xa0\\n                               19:30',\n",
       " '20 avril 2019\\xa0\\xa0\\n                               20:30',\n",
       " '22 avril 2019\\xa0\\xa0\\n                               20:00',\n",
       " '24 avril 2019\\xa0\\xa0\\n                               20:00',\n",
       " '26 avril 2019\\xa0\\xa0\\n                               20:00',\n",
       " '30 avril 2019\\xa0\\xa0\\n                               20:00']"
      ]
     },
     "execution_count": 49,
     "metadata": {},
     "output_type": "execute_result"
    }
   ],
   "source": [
    "dates"
   ]
  },
  {
   "cell_type": "code",
   "execution_count": null,
   "metadata": {},
   "outputs": [],
   "source": []
  }
 ],
 "metadata": {
  "kernelspec": {
   "display_name": "Python 3",
   "language": "python",
   "name": "python3"
  },
  "language_info": {
   "codemirror_mode": {
    "name": "ipython",
    "version": 3
   },
   "file_extension": ".py",
   "mimetype": "text/x-python",
   "name": "python",
   "nbconvert_exporter": "python",
   "pygments_lexer": "ipython3",
   "version": "3.6.1"
  }
 },
 "nbformat": 4,
 "nbformat_minor": 2
}
