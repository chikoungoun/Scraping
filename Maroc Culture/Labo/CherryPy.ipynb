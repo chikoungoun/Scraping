{
 "cells": [
  {
   "cell_type": "code",
   "execution_count": 1,
   "metadata": {},
   "outputs": [],
   "source": [
    "import cherrypy\n",
    "\n",
    "class HelloWorld(object):\n",
    "    @cherrypy.expose\n",
    "    def index(self):\n",
    "        return \"Hello World!\""
   ]
  },
  {
   "cell_type": "code",
   "execution_count": null,
   "metadata": {},
   "outputs": [
    {
     "name": "stderr",
     "output_type": "stream",
     "text": [
      "[25/Jun/2019:19:29:06] ENGINE Listening for SIGTERM.\n",
      "[25/Jun/2019:19:29:06] ENGINE Bus STARTING\n",
      "[25/Jun/2019:19:29:06] ENGINE Set handler for console events.\n",
      "CherryPy Checker:\n",
      "The Application mounted at '' has an empty config.\n",
      "\n",
      "[25/Jun/2019:19:29:06] ENGINE Started monitor thread 'Autoreloader'.\n",
      "[25/Jun/2019:19:29:06] ENGINE Serving on http://127.0.0.1:8080\n",
      "[25/Jun/2019:19:29:06] ENGINE Bus STARTED\n"
     ]
    }
   ],
   "source": [
    "cherrypy.quickstart(HelloWorld())"
   ]
  },
  {
   "cell_type": "code",
   "execution_count": null,
   "metadata": {},
   "outputs": [],
   "source": []
  }
 ],
 "metadata": {
  "kernelspec": {
   "display_name": "Python 3",
   "language": "python",
   "name": "python3"
  },
  "language_info": {
   "codemirror_mode": {
    "name": "ipython",
    "version": 3
   },
   "file_extension": ".py",
   "mimetype": "text/x-python",
   "name": "python",
   "nbconvert_exporter": "python",
   "pygments_lexer": "ipython3",
   "version": "3.6.1"
  }
 },
 "nbformat": 4,
 "nbformat_minor": 2
}
