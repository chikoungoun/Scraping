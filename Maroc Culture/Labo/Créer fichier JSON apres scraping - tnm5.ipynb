{
 "cells": [
  {
   "cell_type": "markdown",
   "metadata": {},
   "source": [
    "# Créer un fichier JSON à partir des données récoltées"
   ]
  },
  {
   "cell_type": "code",
   "execution_count": 1,
   "metadata": {},
   "outputs": [
    {
     "data": {
      "text/plain": [
       "<Response [200]>"
      ]
     },
     "execution_count": 1,
     "metadata": {},
     "output_type": "execute_result"
    }
   ],
   "source": [
    "import requests\n",
    "\n",
    "url = 'http://www.tnm5.ma/programme-du-mois/'\n",
    "response = requests.get(url)\n",
    "response"
   ]
  },
  {
   "cell_type": "code",
   "execution_count": 2,
   "metadata": {},
   "outputs": [
    {
     "name": "stdout",
     "output_type": "stream",
     "text": [
      "<!-- Include the header -->\n",
      "<!DOCTYPE html>\n",
      "<html lang=\"en\">\n",
      "<head>\n",
      "  <meta charset=\"utf-8\">\n",
      "  <meta\n"
     ]
    }
   ],
   "source": [
    "print(response.text[:100])"
   ]
  },
  {
   "cell_type": "code",
   "execution_count": 3,
   "metadata": {},
   "outputs": [
    {
     "data": {
      "text/plain": [
       "bs4.BeautifulSoup"
      ]
     },
     "execution_count": 3,
     "metadata": {},
     "output_type": "execute_result"
    }
   ],
   "source": [
    "from bs4 import BeautifulSoup\n",
    "\n",
    "soup = BeautifulSoup(response.text,'html.parser')\n",
    "type(soup)"
   ]
  },
  {
   "cell_type": "code",
   "execution_count": 4,
   "metadata": {},
   "outputs": [],
   "source": [
    "spectacles = soup.find(\"div\", {\"id\": \"iso-container\"})"
   ]
  },
  {
   "cell_type": "code",
   "execution_count": 5,
   "metadata": {},
   "outputs": [],
   "source": [
    "noms = []\n",
    "for i in spectacles.find_all('h3'):\n",
    "    noms.append(i.text)"
   ]
  },
  {
   "cell_type": "code",
   "execution_count": 6,
   "metadata": {},
   "outputs": [],
   "source": [
    "s = [] #appelé 's' à cause des espaces qu'il contient\n",
    "for i in spectacles.find_all('span',class_='help'):\n",
    "    s.append(i.get_text().replace(\"\\n\", \"\").replace(\"\\xa0\", \"\"))"
   ]
  },
  {
   "cell_type": "code",
   "execution_count": 7,
   "metadata": {},
   "outputs": [],
   "source": [
    "temps = []\n",
    "for i in s:\n",
    "    temps.append(\" \".join(i.split()))"
   ]
  },
  {
   "cell_type": "code",
   "execution_count": 8,
   "metadata": {},
   "outputs": [],
   "source": [
    "dates = []\n",
    "heures = []\n",
    "for i in temps:\n",
    "    dates.append(i[:-6])\n",
    "    heures.append(i[13:])"
   ]
  },
  {
   "cell_type": "code",
   "execution_count": 9,
   "metadata": {},
   "outputs": [],
   "source": [
    "img = spectacles.find_all('img')"
   ]
  },
  {
   "cell_type": "code",
   "execution_count": 10,
   "metadata": {},
   "outputs": [],
   "source": [
    "images = []\n",
    "for i in img:\n",
    "    images.append(i['src'])"
   ]
  },
  {
   "cell_type": "code",
   "execution_count": 11,
   "metadata": {},
   "outputs": [],
   "source": [
    "prog = []\n",
    "for i,j,k,l in zip(noms,dates,heures,images):\n",
    "    t = (i,j,k,l)\n",
    "    prog.append(t)"
   ]
  },
  {
   "cell_type": "code",
   "execution_count": 12,
   "metadata": {},
   "outputs": [
    {
     "data": {
      "text/plain": [
       "[('ALICE AU PAYS DES MERVEILLES ',\n",
       "  '8 juin 2019',\n",
       "  '9:00',\n",
       "  'http://tnm5.ma/wp-content/uploads/2019/06/8juin.jpg'),\n",
       " ('لقاء فكري وثقافي مع الباحث التونسي منصور مهني ',\n",
       "  '8 juin 2019',\n",
       "  '7:00',\n",
       "  'http://tnm5.ma/wp-content/uploads/2019/06/FB_IMG_1560106465847.jpg'),\n",
       " ('Artemesia Club : spectacle de Danse ',\n",
       "  '9 juin 2019',\n",
       "  '8:00',\n",
       "  'http://tnm5.ma/wp-content/uploads/2019/03/Scan.jpg'),\n",
       " ('spectacle de danse moderne ',\n",
       "  '10 juin 2019',\n",
       "  '18:30',\n",
       "  'http://tnm5.ma/wp-content/uploads/2019/03/10juin.jpg'),\n",
       " ('spectacle de danse classique ',\n",
       "  '11 juin 2019',\n",
       "  '19:00',\n",
       "  'http://tnm5.ma/wp-content/uploads/2019/03/11juin.jpg')]"
      ]
     },
     "execution_count": 12,
     "metadata": {},
     "output_type": "execute_result"
    }
   ],
   "source": [
    "#afficher les 5 premiers évènements\n",
    "prog[0:5]"
   ]
  },
  {
   "cell_type": "markdown",
   "metadata": {},
   "source": [
    "**Convertir liste de tuples en Dataframe**"
   ]
  },
  {
   "cell_type": "code",
   "execution_count": 13,
   "metadata": {},
   "outputs": [],
   "source": [
    "import pandas as pd"
   ]
  },
  {
   "cell_type": "code",
   "execution_count": 14,
   "metadata": {},
   "outputs": [],
   "source": [
    "df = pd.DataFrame(prog,columns=['noms','date','heure','image'])"
   ]
  },
  {
   "cell_type": "code",
   "execution_count": 16,
   "metadata": {},
   "outputs": [
    {
     "data": {
      "text/html": [
       "<div>\n",
       "<style>\n",
       "    .dataframe thead tr:only-child th {\n",
       "        text-align: right;\n",
       "    }\n",
       "\n",
       "    .dataframe thead th {\n",
       "        text-align: left;\n",
       "    }\n",
       "\n",
       "    .dataframe tbody tr th {\n",
       "        vertical-align: top;\n",
       "    }\n",
       "</style>\n",
       "<table border=\"1\" class=\"dataframe\">\n",
       "  <thead>\n",
       "    <tr style=\"text-align: right;\">\n",
       "      <th></th>\n",
       "      <th>noms</th>\n",
       "      <th>date</th>\n",
       "      <th>heure</th>\n",
       "      <th>image</th>\n",
       "    </tr>\n",
       "  </thead>\n",
       "  <tbody>\n",
       "    <tr>\n",
       "      <th>0</th>\n",
       "      <td>ALICE AU PAYS DES MERVEILLES</td>\n",
       "      <td>8 juin 2019</td>\n",
       "      <td>9:00</td>\n",
       "      <td>http://tnm5.ma/wp-content/uploads/2019/06/8jui...</td>\n",
       "    </tr>\n",
       "    <tr>\n",
       "      <th>1</th>\n",
       "      <td>لقاء فكري وثقافي مع الباحث التونسي منصور مهني</td>\n",
       "      <td>8 juin 2019</td>\n",
       "      <td>7:00</td>\n",
       "      <td>http://tnm5.ma/wp-content/uploads/2019/06/FB_I...</td>\n",
       "    </tr>\n",
       "    <tr>\n",
       "      <th>2</th>\n",
       "      <td>Artemesia Club : spectacle de Danse</td>\n",
       "      <td>9 juin 2019</td>\n",
       "      <td>8:00</td>\n",
       "      <td>http://tnm5.ma/wp-content/uploads/2019/03/Scan...</td>\n",
       "    </tr>\n",
       "    <tr>\n",
       "      <th>3</th>\n",
       "      <td>spectacle de danse moderne</td>\n",
       "      <td>10 juin 2019</td>\n",
       "      <td>18:30</td>\n",
       "      <td>http://tnm5.ma/wp-content/uploads/2019/03/10ju...</td>\n",
       "    </tr>\n",
       "    <tr>\n",
       "      <th>4</th>\n",
       "      <td>spectacle de danse classique</td>\n",
       "      <td>11 juin 2019</td>\n",
       "      <td>19:00</td>\n",
       "      <td>http://tnm5.ma/wp-content/uploads/2019/03/11ju...</td>\n",
       "    </tr>\n",
       "  </tbody>\n",
       "</table>\n",
       "</div>"
      ],
      "text/plain": [
       "                                             noms          date  heure  \\\n",
       "0                   ALICE AU PAYS DES MERVEILLES    8 juin 2019   9:00   \n",
       "1  لقاء فكري وثقافي مع الباحث التونسي منصور مهني    8 juin 2019   7:00   \n",
       "2            Artemesia Club : spectacle de Danse    9 juin 2019   8:00   \n",
       "3                     spectacle de danse moderne   10 juin 2019  18:30   \n",
       "4                   spectacle de danse classique   11 juin 2019  19:00   \n",
       "\n",
       "                                               image  \n",
       "0  http://tnm5.ma/wp-content/uploads/2019/06/8jui...  \n",
       "1  http://tnm5.ma/wp-content/uploads/2019/06/FB_I...  \n",
       "2  http://tnm5.ma/wp-content/uploads/2019/03/Scan...  \n",
       "3  http://tnm5.ma/wp-content/uploads/2019/03/10ju...  \n",
       "4  http://tnm5.ma/wp-content/uploads/2019/03/11ju...  "
      ]
     },
     "execution_count": 16,
     "metadata": {},
     "output_type": "execute_result"
    }
   ],
   "source": [
    "df.head()"
   ]
  },
  {
   "cell_type": "code",
   "execution_count": null,
   "metadata": {},
   "outputs": [],
   "source": []
  }
 ],
 "metadata": {
  "kernelspec": {
   "display_name": "Python 3",
   "language": "python",
   "name": "python3"
  },
  "language_info": {
   "codemirror_mode": {
    "name": "ipython",
    "version": 3
   },
   "file_extension": ".py",
   "mimetype": "text/x-python",
   "name": "python",
   "nbconvert_exporter": "python",
   "pygments_lexer": "ipython3",
   "version": "3.6.1"
  }
 },
 "nbformat": 4,
 "nbformat_minor": 2
}
