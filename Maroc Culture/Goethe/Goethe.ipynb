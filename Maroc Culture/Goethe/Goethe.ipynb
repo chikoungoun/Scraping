{
 "cells": [
  {
   "cell_type": "markdown",
   "metadata": {},
   "source": [
    "# Scraping évènements culturels Goethe"
   ]
  },
  {
   "cell_type": "code",
   "execution_count": 1,
   "metadata": {},
   "outputs": [
    {
     "data": {
      "text/plain": [
       "<Response [200]>"
      ]
     },
     "execution_count": 1,
     "metadata": {},
     "output_type": "execute_result"
    }
   ],
   "source": [
    "import requests\n",
    "\n",
    "url = 'https://www.goethe.de/ins/ma/fr/ver.cfm?location_IDtxt=9274'\n",
    "response = requests.get(url)\n",
    "response"
   ]
  },
  {
   "cell_type": "code",
   "execution_count": 2,
   "metadata": {},
   "outputs": [
    {
     "name": "stdout",
     "output_type": "stream",
     "text": [
      "\n",
      "\n",
      "\n",
      "\n",
      "<!DOCTYPE html>\n",
      "<html lang=\"fr\">\n",
      "\t\n",
      "\n",
      "\t<head>\n",
      "\t\t<meta charset=\"utf-8\" />\n",
      "\n",
      "\t\t\n",
      "\t\t<meta http-equiv=\"l\n"
     ]
    }
   ],
   "source": [
    "print(response.text[:100])"
   ]
  },
  {
   "cell_type": "code",
   "execution_count": 3,
   "metadata": {},
   "outputs": [
    {
     "data": {
      "text/plain": [
       "bs4.BeautifulSoup"
      ]
     },
     "execution_count": 3,
     "metadata": {},
     "output_type": "execute_result"
    }
   ],
   "source": [
    "from bs4 import BeautifulSoup\n",
    "\n",
    "soup = BeautifulSoup(response.text,'html.parser')\n",
    "type(soup)"
   ]
  },
  {
   "cell_type": "code",
   "execution_count": 4,
   "metadata": {},
   "outputs": [],
   "source": [
    "veranstaltung = soup.find(\"ul\",class_=\"veranstaltungsListe\")"
   ]
  },
  {
   "cell_type": "markdown",
   "metadata": {},
   "source": [
    "## Récupérer les dates "
   ]
  },
  {
   "cell_type": "code",
   "execution_count": 11,
   "metadata": {},
   "outputs": [],
   "source": [
    "datums = veranstaltung.find_all('div',class_='datum')"
   ]
  },
  {
   "cell_type": "code",
   "execution_count": 12,
   "metadata": {},
   "outputs": [
    {
     "data": {
      "text/plain": [
       "[<div class=\"datum\">\n",
       " <h5 title=\"23.09.2019\">\n",
       " \t\t\t\t\t\t\t\t\t23.09.\n",
       " \t\t\t\t\t\t\t\t</h5>\n",
       " <span class=\"eventEnde\">\n",
       " \t\t\t\t\t\t\t\t\t- 27.09.2019\n",
       " \t\t\t\t\t\t\t\t\t</span>\n",
       " </div>, <div class=\"datum\">\n",
       " <h5 title=\"25.09.2019\">\n",
       " \t\t\t\t\t\t\t\t\t25.09.\n",
       " \t\t\t\t\t\t\t\t</h5>\n",
       " </div>, <div class=\"datum\">\n",
       " <h5 title=\"26.09.2019\">\n",
       " \t\t\t\t\t\t\t\t\t26.09.\n",
       " \t\t\t\t\t\t\t\t</h5>\n",
       " <span class=\"eventEnde\">\n",
       " \t\t\t\t\t\t\t\t\t- 18.10.2019\n",
       " \t\t\t\t\t\t\t\t\t</span>\n",
       " </div>, <div class=\"datum\">\n",
       " <h5 title=\"27.09.2019\">\n",
       " \t\t\t\t\t\t\t\t\t27.09.\n",
       " \t\t\t\t\t\t\t\t</h5>\n",
       " </div>, <div class=\"datum\">\n",
       " <h5 title=\"31.10.2019\">\n",
       " \t\t\t\t\t\t\t\t\t31.10.\n",
       " \t\t\t\t\t\t\t\t</h5>\n",
       " </div>]"
      ]
     },
     "execution_count": 12,
     "metadata": {},
     "output_type": "execute_result"
    }
   ],
   "source": [
    "datums"
   ]
  },
  {
   "cell_type": "code",
   "execution_count": 16,
   "metadata": {},
   "outputs": [
    {
     "name": "stdout",
     "output_type": "stream",
     "text": [
      "23.09.2019\n",
      "25.09.2019\n",
      "26.09.2019\n",
      "27.09.2019\n",
      "31.10.2019\n"
     ]
    }
   ],
   "source": [
    "for i in datums:\n",
    "    print(i.find('h5')['title'])"
   ]
  },
  {
   "cell_type": "code",
   "execution_count": null,
   "metadata": {},
   "outputs": [],
   "source": []
  }
 ],
 "metadata": {
  "kernelspec": {
   "display_name": "Python 3",
   "language": "python",
   "name": "python3"
  },
  "language_info": {
   "codemirror_mode": {
    "name": "ipython",
    "version": 3
   },
   "file_extension": ".py",
   "mimetype": "text/x-python",
   "name": "python",
   "nbconvert_exporter": "python",
   "pygments_lexer": "ipython3",
   "version": "3.6.1"
  }
 },
 "nbformat": 4,
 "nbformat_minor": 2
}
