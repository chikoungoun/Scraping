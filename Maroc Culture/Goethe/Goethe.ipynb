{
 "cells": [
  {
   "cell_type": "markdown",
   "metadata": {},
   "source": [
    "# Scraping évènements culturels Goethe"
   ]
  },
  {
   "cell_type": "code",
   "execution_count": 1,
   "metadata": {},
   "outputs": [
    {
     "data": {
      "text/plain": [
       "<Response [200]>"
      ]
     },
     "execution_count": 1,
     "metadata": {},
     "output_type": "execute_result"
    }
   ],
   "source": [
    "import requests\n",
    "\n",
    "url = 'https://www.goethe.de/ins/ma/fr/ver.cfm?location_IDtxt=9274'\n",
    "response = requests.get(url)\n",
    "response"
   ]
  },
  {
   "cell_type": "code",
   "execution_count": 2,
   "metadata": {},
   "outputs": [
    {
     "name": "stdout",
     "output_type": "stream",
     "text": [
      "\n",
      "\n",
      "\n",
      "\n",
      "<!DOCTYPE html>\n",
      "<html lang=\"fr\">\n",
      "\t\n",
      "\n",
      "\t<head>\n",
      "\t\t<meta charset=\"utf-8\" />\n",
      "\n",
      "\t\t\n",
      "\t\t<meta http-equiv=\"l\n"
     ]
    }
   ],
   "source": [
    "print(response.text[:100])"
   ]
  },
  {
   "cell_type": "code",
   "execution_count": 3,
   "metadata": {},
   "outputs": [
    {
     "data": {
      "text/plain": [
       "bs4.BeautifulSoup"
      ]
     },
     "execution_count": 3,
     "metadata": {},
     "output_type": "execute_result"
    }
   ],
   "source": [
    "from bs4 import BeautifulSoup\n",
    "\n",
    "soup = BeautifulSoup(response.text,'html.parser')\n",
    "type(soup)"
   ]
  },
  {
   "cell_type": "code",
   "execution_count": 4,
   "metadata": {},
   "outputs": [],
   "source": [
    "veranstaltung = soup.find(\"ul\",class_=\"veranstaltungsListe\")"
   ]
  },
  {
   "cell_type": "markdown",
   "metadata": {},
   "source": [
    "## Récupérer les dates "
   ]
  },
  {
   "cell_type": "code",
   "execution_count": 11,
   "metadata": {},
   "outputs": [],
   "source": [
    "datums = veranstaltung.find_all('div',class_='datum')"
   ]
  },
  {
   "cell_type": "code",
   "execution_count": 12,
   "metadata": {},
   "outputs": [
    {
     "data": {
      "text/plain": [
       "[<div class=\"datum\">\n",
       " <h5 title=\"23.09.2019\">\n",
       " \t\t\t\t\t\t\t\t\t23.09.\n",
       " \t\t\t\t\t\t\t\t</h5>\n",
       " <span class=\"eventEnde\">\n",
       " \t\t\t\t\t\t\t\t\t- 27.09.2019\n",
       " \t\t\t\t\t\t\t\t\t</span>\n",
       " </div>, <div class=\"datum\">\n",
       " <h5 title=\"25.09.2019\">\n",
       " \t\t\t\t\t\t\t\t\t25.09.\n",
       " \t\t\t\t\t\t\t\t</h5>\n",
       " </div>, <div class=\"datum\">\n",
       " <h5 title=\"26.09.2019\">\n",
       " \t\t\t\t\t\t\t\t\t26.09.\n",
       " \t\t\t\t\t\t\t\t</h5>\n",
       " <span class=\"eventEnde\">\n",
       " \t\t\t\t\t\t\t\t\t- 18.10.2019\n",
       " \t\t\t\t\t\t\t\t\t</span>\n",
       " </div>, <div class=\"datum\">\n",
       " <h5 title=\"27.09.2019\">\n",
       " \t\t\t\t\t\t\t\t\t27.09.\n",
       " \t\t\t\t\t\t\t\t</h5>\n",
       " </div>, <div class=\"datum\">\n",
       " <h5 title=\"31.10.2019\">\n",
       " \t\t\t\t\t\t\t\t\t31.10.\n",
       " \t\t\t\t\t\t\t\t</h5>\n",
       " </div>]"
      ]
     },
     "execution_count": 12,
     "metadata": {},
     "output_type": "execute_result"
    }
   ],
   "source": [
    "datums"
   ]
  },
  {
   "cell_type": "code",
   "execution_count": 26,
   "metadata": {},
   "outputs": [
    {
     "data": {
      "text/plain": [
       "5"
      ]
     },
     "execution_count": 26,
     "metadata": {},
     "output_type": "execute_result"
    }
   ],
   "source": [
    "len(datums)"
   ]
  },
  {
   "cell_type": "code",
   "execution_count": 33,
   "metadata": {},
   "outputs": [],
   "source": [
    "dates = []\n",
    "\n",
    "for i in datums:\n",
    "    d = \"\"\n",
    "    d = d+(i.find('h5')['title'])\n",
    "        \n",
    "    if i.find('span') is not None:\n",
    "        d = d +\" \"+(i.find('span').text).strip()\n",
    "       \n",
    "        \n",
    "    dates.append(d)"
   ]
  },
  {
   "cell_type": "code",
   "execution_count": 34,
   "metadata": {},
   "outputs": [
    {
     "data": {
      "text/plain": [
       "['23.09.2019 - 27.09.2019',\n",
       " '25.09.2019',\n",
       " '26.09.2019 - 18.10.2019',\n",
       " '27.09.2019',\n",
       " '31.10.2019']"
      ]
     },
     "execution_count": 34,
     "metadata": {},
     "output_type": "execute_result"
    }
   ],
   "source": [
    "dates"
   ]
  },
  {
   "cell_type": "markdown",
   "metadata": {},
   "source": [
    "## Récupérer les liens "
   ]
  },
  {
   "cell_type": "code",
   "execution_count": 35,
   "metadata": {},
   "outputs": [],
   "source": [
    "links = veranstaltung.find_all('div',class_=\"event\")"
   ]
  },
  {
   "cell_type": "code",
   "execution_count": 42,
   "metadata": {},
   "outputs": [
    {
     "name": "stdout",
     "output_type": "stream",
     "text": [
      "/ins/ma/fr/ver.cfm?fuseaction=events.detail&event_id=21643484\n",
      "/ins/ma/fr/ver.cfm?fuseaction=events.detail&event_id=21643454\n",
      "/ins/ma/fr/ver.cfm?fuseaction=events.detail&event_id=21645174\n",
      "/ins/ma/fr/ver.cfm?fuseaction=events.detail&event_id=21654827\n",
      "/ins/ma/fr/ver.cfm?fuseaction=events.detail&event_id=21655429\n"
     ]
    }
   ],
   "source": [
    "liens = []\n",
    "for i in links:\n",
    "    print(i.find('a')['href'])\n",
    "    liens.append(\"https://www.goethe.de\"+(i.find('a')['href']))"
   ]
  },
  {
   "cell_type": "code",
   "execution_count": 44,
   "metadata": {},
   "outputs": [
    {
     "name": "stdout",
     "output_type": "stream",
     "text": [
      "https://www.goethe.de/ins/ma/fr/ver.cfm?fuseaction=events.detail&event_id=21643484\n",
      "https://www.goethe.de/ins/ma/fr/ver.cfm?fuseaction=events.detail&event_id=21643454\n",
      "https://www.goethe.de/ins/ma/fr/ver.cfm?fuseaction=events.detail&event_id=21645174\n",
      "https://www.goethe.de/ins/ma/fr/ver.cfm?fuseaction=events.detail&event_id=21654827\n",
      "https://www.goethe.de/ins/ma/fr/ver.cfm?fuseaction=events.detail&event_id=21655429\n"
     ]
    }
   ],
   "source": [
    "for i in liens:\n",
    "    print(i)"
   ]
  },
  {
   "cell_type": "markdown",
   "metadata": {},
   "source": [
    "## Récupérer les noms des évènements "
   ]
  },
  {
   "cell_type": "code",
   "execution_count": 48,
   "metadata": {},
   "outputs": [],
   "source": [
    "namen = veranstaltung.find_all('h3')"
   ]
  },
  {
   "cell_type": "code",
   "execution_count": 52,
   "metadata": {},
   "outputs": [
    {
     "name": "stdout",
     "output_type": "stream",
     "text": [
      "Exposition de livres pour l’apprentissage des langues européennes\n",
      "Livre du mois de Septembre \n",
      "OTTO DIX. Gravures des années 1920 \n",
      "INTRODUCTION A L’EXPOSITION « OTTO DIX »\n",
      "Livre du mois d‘octobre \n"
     ]
    }
   ],
   "source": [
    "noms = []\n",
    "for i in namen:\n",
    "    print(i.text)\n",
    "    noms.append(i)"
   ]
  },
  {
   "cell_type": "markdown",
   "metadata": {},
   "source": [
    "## Récupérer les données lien par lien"
   ]
  },
  {
   "cell_type": "code",
   "execution_count": 53,
   "metadata": {},
   "outputs": [],
   "source": [
    "from time import time\n",
    "from time import sleep\n",
    "from random import randint"
   ]
  },
  {
   "cell_type": "code",
   "execution_count": 54,
   "metadata": {},
   "outputs": [],
   "source": [
    "start_time = time()\n",
    "requests = 0"
   ]
  },
  {
   "cell_type": "code",
   "execution_count": 55,
   "metadata": {},
   "outputs": [],
   "source": [
    "from requests import get"
   ]
  },
  {
   "cell_type": "code",
   "execution_count": 56,
   "metadata": {},
   "outputs": [],
   "source": []
  },
  {
   "cell_type": "code",
   "execution_count": 77,
   "metadata": {
    "scrolled": true
   },
   "outputs": [
    {
     "name": "stdout",
     "output_type": "stream",
     "text": [
      "https://www.goethe.de/ins/ma/fr/ver.cfm?fuseaction=events.detail&event_id=21643484\n",
      "13\n",
      "\n",
      "\n",
      "\n",
      "\t\t\t\tLundi–Jeudi: 10h00–18h00\n",
      "Vendredi: 10h00–16h00\n",
      "\n",
      "La bibliothèque du Goethe-Institut à Rabat présente à l'occasion de la Journée européenne des langues une sélection des livres pour l'apprentissage des langues européennes avec la collaboration des bibliothèques d’Institut Français, Instituto Italiano di Cultura et Instituto Cervantes à Rabat.\n",
      "Les autres dates de l’exposition sont:\n",
      "\n",
      "9.-13. September 2019: Instituto Camões\n",
      "16.-20. September 2019: Instituto Cervantes\n",
      "30. September-4. Oktober 2019: Istituto Italiano di Cultura\n",
      "7.-11. Oktober 2019: Institut Français\n",
      "\n",
      "Visitez nos bibliothèques ! \n",
      "\t\t\t\t\t\tRetour\n",
      "\n",
      "https://www.goethe.de/ins/ma/fr/ver.cfm?fuseaction=events.detail&event_id=21643454\n",
      "11\n",
      "\n",
      "\n",
      "\n",
      "\t\t\t\tCe mois-ci, l’équipe de la bibliothèque vous présente le livre de Ferdinand von Schirach, « Kaffee und Zigaretten ». Le dernier livre de Ferdinand von Schirach, « Kaffee und Zigaretten », entremêle récits autobiographiques, aperçus, notes et observations au sein d’un tout narratif où se croisent, s’emboîtent et se font écho vie privée et vie publique. Il y est question des expériences et rencontres marquantes du narrateur, de brefs moments de bonheur, de solitude et de mélancolie, du déracinement et de la nostalgie du pays natal, d’art et de société autant que des grandes questions sur la vie que se pose Ferdinand von Schirach, de cas juridiques et circonstances singulières, de l’idée du droit et de la dignité humaine, des accomplissements et de l’héritage des Lumières que l’on se doit de conserver, et de ce qui fait qu’un homme est véritablement un homme. (Source : Luchterhand Literaturverlag). Des formats numériques sont utilisés lors de cette manifestation. \n",
      "\t\t\t\t\t\tRetour\n",
      "\n",
      "https://www.goethe.de/ins/ma/fr/ver.cfm?fuseaction=events.detail&event_id=21645174\n",
      "10\n",
      "\n",
      "\n",
      "\n",
      "\t\t\t\tCritique sociale, estampes 1920-1924 – « La Guerre », gravures 1924\n",
      "\n",
      "Une exposition de l’ifa (Institut für Auslandsbeziehungen), présentée par le Goethe-Institut Marokko et l’Institut français de Tanger.\n",
      "Commissaire d’exposition : Eugen Keuerleber\n",
      "\n",
      "Horaires d’ouverture :\n",
      "Ouvert tous les jours sauf le lundi de 11-13 h et de 16-21h\n",
      "\n",
      "\n",
      "\n",
      "\n",
      "© (Otto Dix) VG Bild-Kunst, Bonn\n",
      "\n",
      "\n",
      "Otto Dix (1891 - 1969) est reconnu comme l'un des peintres allemands les plus importants du XXe siècle. Ses travaux furent irrémédiablement marqués par les horreurs de la Première Guerre mondiale, à laquelle l'artiste participa comme engagé volontaire ainsi que par le nazisme qui stigmatisa son œuvre comme \"art dégénéré\". Parallèlement à son œuvre picturale, le dessin et l’art graphique occupent une place prédominante tout au long de sa vie. L’exposition réunit pour la première fois au Maroc un ensemble exceptionnel d’estampes réalisées à l’issue de la Première Guerre mondiale.\n",
      "\n",
      "\n",
      "\n",
      "\n",
      "\n",
      "© (Otto Dix) VG Bild-Kunst, Bonn\n",
      "\n",
      "\n",
      "LA GUERRE (Der Krieg), 1924\n",
      "Cette série de 50 gravures à l’eau forte constitue l’œuvre majeure de Dix. Inspirées de son expérience personnelle des combats pendant la Première Guerre mondiale, ces estampes constituent un rappel direct et provocant des ravages de la guerre. L’artiste exploite les effets de clair-obscur de l’eau forte pour renforcer l’expressivité des scènes et dénoncer la souffrance des soldats comme celle des civils. Ce cycle conserve encore aujourd’hui toute sa force de dénonciation des horreurs de la guerre.\n",
      "\n",
      "\n",
      "\n",
      "\n",
      "\n",
      "(Otto Dix) VG Bild-Kunst, Bonn\n",
      "\n",
      "\n",
      "La critique sociale (1920-1924) \n",
      "La première partie de l’exposition est composée de lithographies qui ont pour décor les grandes villes allemandes des années 20, marquées par une grande pauvreté et les suites de la guerre mais aussi par une libéralisation de mœurs et une effervescence artistique. Les mendiants, les prostituées, le monde du cirque : rien n’échappe au regard acéré de Dix, particulièrement l’insolite et le grotesque. Dix combine ce réalisme cru à une profonde sensibilité : sa sympathie pour les laissés-pour-compte de la société transparait dans les portraits des veuves et des invalides de guerre.\n",
      "\n",
      " \n",
      "Programme autour de l’exposition\n",
      "Vernissage : Jeudi 26 septembre, 19h30, Galerie Delacroix, Tanger\n",
      "Audio-guide de l’exposition en français\n",
      "Introduction à l’exposition par Katrin Peters-Klaphake, historienne de l’art : Vendredi 27 septembre, 19h00\n",
      "Finissage en collaboration avec Atelier Kissaria : Vendredi 18 octobre, 17h00\n",
      "LA PREMIERE GUERRE MONDIALE \n",
      "Otto Dix est célèbre pour ses représentations très expressives des violences de la guerre. Il n’est pas anodin que cette exposition soit le fruit d’un projet franco-allemand, cent ans après la fin d’un conflit qui opposa de 1914 à 1918 la France et l’Allemagne ainsi que leurs alliés. Les combats et leurs conséquences firent dans le monde près de 18 millions de morts, dont la moitié de civils, sans compter les invalides de guerre, les veuves, les orphelins et les destructions matérielles. Le Maroc, protectorat français depuis 1912, ne fut pas épargné par le conflit. Le royaume dut contribuer à l’effort de guerre, en termes de ressources matérielles mais aussi d’hommes. 40 000 marocains furent envoyés sur les champs de bataille français et dans les Balkans. Un quart d’entre eux n’en revinrent pas.\n",
      "\n",
      "\n",
      "L’ALLEMAGNE DES ANNEES 1920 \n",
      "Après la défaite, la République est proclamée en 1918. L’histoire de ce régime démocratique, qui prendra fin avec l’arrivée d’Hitler au pouvoir en 1933, est marquée par de nombreux conflits politiques et sociaux et par des crises économiques sans précédent. Mais cette époque est aussi propice aux expériences. Les libertés instaurées par la Constitution favorisent l’émergence dans les métropoles de courants artistiques novateurs, En observateur fabuleux de son temps, Dix plonge pendant ces « Années folles » dans les bas-fonds de Berlin, de Dresde ou de Düsseldorf pour saisir à travers des portraits sans concession l’âme humaine.\n",
      "\n",
      "  \n",
      "\t\t\t\t\t\tRetour\n",
      "\n",
      "https://www.goethe.de/ins/ma/fr/ver.cfm?fuseaction=events.detail&event_id=21654827\n",
      "15\n",
      "\n",
      "\n",
      "\n",
      "\n",
      "\n",
      "\n",
      "© Katrin Peters-Klaphake \n",
      "\n",
      "\n",
      "\t\tL’historienne de l’art et commissaire d’exposition Katrin Peters-Klaphake est chercheuse au Centre d’études africaines de l’Université de Bayreuth (Allemagne) et conservatrice associée à la galerie d’art « Makerere » à Kampala (Ouganda).\n",
      "\n",
      "Après une introduction générale, elle guidera les visiteurs et répondra à leurs questions dans l’exposition « OTTO DIX. GRAVURES DES ANNEES 1920 » qui présente plus de 80 estampes de l’artiste allemand, dont le célèbre cycle « La Guerre ».\n",
      "\n",
      "Une exposition de l’ifa (Institut für Auslandsbeziehungen) www.ifa.de, présentée par le Goethe-Institut Marokko et l’Institut français de Tanger. Jusqu’au 18 octobre 2019, Galerie Delacroix de l’Institut français.\n",
      "\n",
      "Evénement „Exposition Otto Dix“\n",
      " \n",
      "Programme\n",
      "Vernissage, 26.09., 19:30h\n",
      "Conférence de Katrin Peters-Klaphake, 27.09., 19h\n",
      "Cycle de films à la Cinémathèque Tanger, plus d'informations suivront\n",
      "Finissage avec sérigraphie de l‘Atelier Kissaria, 18.10.\n",
      "Retour\n",
      "\n",
      "https://www.goethe.de/ins/ma/fr/ver.cfm?fuseaction=events.detail&event_id=21655429\n",
      "12\n",
      "\n",
      "\n",
      "\tJohn Kendrick Bangs et Barbara Jelin „Das Wassergespenst von Harrowby Hall“\n",
      "\t\t\t\t\n",
      "\t\t\t\tCe mois-ci, l’équipe de la bibliothèque vous présente la bande dessinée de John Kendrick Bangs et Barbara Jelin „Das Wassergespenst von Harrowby Hall“. La description très humoristique de la façon de se débarrasser d’un fantôme aquatique, par John Kendrick Bangs, connaît ici une nouvelle vie (et mort) grâce à Barbara Yelin.\n",
      "L’atmosphère est délicieusement british, le style esquissé aussi élusif et beau que le fantôme et les couleurs employées aussi fortes que l’élément de l’eau lui-même. (Source : Carlsen Verlag).\n",
      "Des formats numériques sont utilisés lors de cette manifestation. \n",
      "\t\t\t\t\t\tRetour\n",
      "\n",
      " **** ***** Done ***** ***** \n"
     ]
    }
   ],
   "source": [
    "heures = []\n",
    "descs = []\n",
    "images = []\n",
    "for i in liens:\n",
    "    print(i)\n",
    "    response = get(i)\n",
    "    \n",
    "    timer = randint(8,15)\n",
    "    #pause de loop\n",
    "    print(timer)\n",
    "    sleep(timer)\n",
    "    \n",
    "    #renvoyer un warning pour les non 'status code : 200'\n",
    "    if response.status_code != 200:\n",
    "        warn('Request: {}; Status code: {}'.format(requests, response.status_code))\n",
    "            \n",
    "    #parser en BS\n",
    "    page_html = BeautifulSoup(response.text,'html.parser') \n",
    "    \n",
    "    \"\"\" Images \"\"\"\n",
    "    bild = page_html.find('img',class_=\"aufmacherBild\")[\"src\"]\n",
    "    images.append(bild)\n",
    "    \n",
    "    \"\"\" Heure \"\"\"\n",
    "    hur = page_html.find('time',class_='vkZeit').text\n",
    "    heures.append(hur.strip())\n",
    "    \n",
    "    \"\"\" Description\"\"\"\n",
    "    beschreibung = page_html.find('div',class_='span12 doppelTeaser').text\n",
    "    print(beschreibung)\n",
    "    descs.append(beschreibung.strip())\n",
    "    \n",
    "    \n",
    "print(\" **** ***** Done ***** ***** \")"
   ]
  },
  {
   "cell_type": "code",
   "execution_count": 78,
   "metadata": {},
   "outputs": [
    {
     "data": {
      "text/plain": [
       "['//www.goethe.de/resources/files/jpg854/wbn-formatkey-jpg-default.jpg',\n",
       " '//www.goethe.de/resources/files/jpg849/schirach_web-formatkey-jpg-default.jpg',\n",
       " '//www.goethe.de/resources/files/jpg849/web_1-formatkey-jpg-default.jpg',\n",
       " '//www.goethe.de/resources/files/jpg853/web_11-formatkey-jpg-default.jpg',\n",
       " '//www.goethe.de/resources/files/jpg853/web-formatkey-jpg-default.jpg']"
      ]
     },
     "execution_count": 78,
     "metadata": {},
     "output_type": "execute_result"
    }
   ],
   "source": [
    "images"
   ]
  },
  {
   "cell_type": "code",
   "execution_count": 79,
   "metadata": {},
   "outputs": [
    {
     "data": {
      "text/plain": [
       "['', '17h00 - 18h00', '', '19h00', '17h00 - 18h00']"
      ]
     },
     "execution_count": 79,
     "metadata": {},
     "output_type": "execute_result"
    }
   ],
   "source": [
    "heures"
   ]
  },
  {
   "cell_type": "code",
   "execution_count": 80,
   "metadata": {},
   "outputs": [
    {
     "data": {
      "text/plain": [
       "[\"Lundi–Jeudi: 10h00–18h00\\r\\nVendredi: 10h00–16h00\\n\\r\\nLa bibliothèque du Goethe-Institut à Rabat présente à l'occasion de la Journée européenne des langues une sélection des livres pour l'apprentissage des langues européennes avec la collaboration des bibliothèques d’Institut Français, Instituto Italiano di Cultura et Instituto Cervantes à Rabat.\\r\\nLes autres dates de l’exposition sont:\\n\\r\\n9.-13. September 2019: Instituto Camões\\r\\n16.-20. September 2019: Instituto Cervantes\\r\\n30. September-4. Oktober 2019: Istituto Italiano di Cultura\\r\\n7.-11. Oktober 2019: Institut Français\\n\\r\\nVisitez nos bibliothèques ! \\n\\t\\t\\t\\t\\t\\tRetour\",\n",
       " 'Ce mois-ci, l’équipe de la bibliothèque vous présente le livre de Ferdinand von Schirach, « Kaffee und Zigaretten ». Le dernier livre de Ferdinand von Schirach, « Kaffee und Zigaretten », entremêle récits autobiographiques, aperçus, notes et observations au sein d’un tout narratif où se croisent, s’emboîtent et se font écho vie privée et vie publique. Il y est question des expériences et rencontres marquantes du narrateur, de brefs moments de bonheur, de solitude et de mélancolie, du déracinement et de la nostalgie du pays natal, d’art et de société autant que des grandes questions sur la vie que se pose Ferdinand von Schirach, de cas juridiques et circonstances singulières, de l’idée du droit et de la dignité humaine, des accomplissements et de l’héritage des Lumières que l’on se doit de conserver, et de ce qui fait qu’un homme est véritablement un homme. (Source : Luchterhand Literaturverlag). Des formats numériques sont utilisés lors de cette manifestation. \\n\\t\\t\\t\\t\\t\\tRetour',\n",
       " 'Critique sociale, estampes 1920-1924 – « La Guerre », gravures 1924\\n\\nUne exposition de l’ifa (Institut für Auslandsbeziehungen), présentée par le Goethe-Institut Marokko et l’Institut français de Tanger.\\r\\nCommissaire d’exposition : Eugen Keuerleber\\n\\r\\nHoraires d’ouverture :\\r\\nOuvert tous les jours sauf le lundi de 11-13 h et de 16-21h\\n\\n\\n\\n\\n© (Otto Dix) VG Bild-Kunst, Bonn\\n\\n\\nOtto Dix (1891 - 1969) est reconnu comme l\\'un des peintres allemands les plus importants du XXe siècle. Ses travaux furent irrémédiablement marqués par les horreurs de la Première Guerre mondiale, à laquelle l\\'artiste participa comme engagé volontaire ainsi que par le nazisme qui stigmatisa son œuvre comme \"art dégénéré\". Parallèlement à son œuvre picturale, le dessin et l’art graphique occupent une place prédominante tout au long de sa vie. L’exposition réunit pour la première fois au Maroc un ensemble exceptionnel d’estampes réalisées à l’issue de la Première Guerre mondiale.\\n\\n\\n\\n\\n\\n© (Otto Dix) VG Bild-Kunst, Bonn\\n\\n\\nLA GUERRE (Der Krieg), 1924\\r\\nCette série de 50 gravures à l’eau forte constitue l’œuvre majeure de Dix. Inspirées de son expérience personnelle des combats pendant la Première Guerre mondiale, ces estampes constituent un rappel direct et provocant des ravages de la guerre. L’artiste exploite les effets de clair-obscur de l’eau forte pour renforcer l’expressivité des scènes et dénoncer la souffrance des soldats comme celle des civils. Ce cycle conserve encore aujourd’hui toute sa force de dénonciation des horreurs de la guerre.\\n\\n\\n\\n\\n\\n(Otto Dix) VG Bild-Kunst, Bonn\\n\\n\\nLa critique sociale (1920-1924) \\r\\nLa première partie de l’exposition est composée de lithographies qui ont pour décor les grandes villes allemandes des années 20, marquées par une grande pauvreté et les suites de la guerre mais aussi par une libéralisation de mœurs et une effervescence artistique. Les mendiants, les prostituées, le monde du cirque : rien n’échappe au regard acéré de Dix, particulièrement l’insolite et le grotesque. Dix combine ce réalisme cru à une profonde sensibilité : sa sympathie pour les laissés-pour-compte de la société transparait dans les portraits des veuves et des invalides de guerre.\\n\\r\\n\\xa0\\r\\nProgramme autour de l’exposition\\r\\nVernissage : Jeudi 26 septembre, 19h30, Galerie Delacroix, Tanger\\r\\nAudio-guide de l’exposition en français\\r\\nIntroduction à l’exposition par Katrin Peters-Klaphake, historienne de l’art : Vendredi 27 septembre, 19h00\\r\\nFinissage en collaboration avec Atelier Kissaria : Vendredi 18 octobre, 17h00\\nLA PREMIERE GUERRE MONDIALE \\r\\nOtto Dix est célèbre pour ses représentations très expressives des violences de la guerre. Il n’est pas anodin que cette exposition soit le fruit d’un projet franco-allemand, cent ans après la fin d’un conflit qui opposa de 1914 à 1918 la France et l’Allemagne ainsi que leurs alliés. Les combats et leurs conséquences firent dans le monde près de 18 millions de morts, dont la moitié de civils, sans compter les invalides de guerre, les veuves, les orphelins et les destructions matérielles. Le Maroc, protectorat français depuis 1912, ne fut pas épargné par le conflit. Le royaume dut contribuer à l’effort de guerre, en termes de ressources matérielles mais aussi d’hommes. 40 000 marocains furent envoyés sur les champs de bataille français et dans les Balkans. Un quart d’entre eux n’en revinrent pas.\\n\\n\\nL’ALLEMAGNE DES ANNEES 1920 \\r\\nAprès la défaite, la République est proclamée en 1918. L’histoire de ce régime démocratique, qui prendra fin avec l’arrivée d’Hitler au pouvoir en 1933, est marquée par de nombreux conflits politiques et sociaux et par des crises économiques sans précédent. Mais cette époque est aussi propice aux expériences. Les libertés instaurées par la Constitution favorisent l’émergence dans les métropoles de courants artistiques novateurs, En observateur fabuleux de son temps, Dix plonge pendant ces « Années folles » dans les bas-fonds de Berlin, de Dresde ou de Düsseldorf pour saisir à travers des portraits sans concession l’âme humaine.\\n\\r\\n\\xa0 \\n\\t\\t\\t\\t\\t\\tRetour',\n",
       " \"© Katrin Peters-Klaphake \\n\\n\\r\\n\\t\\tL’historienne de l’art et commissaire d’exposition Katrin Peters-Klaphake est chercheuse au Centre d’études africaines de l’Université de Bayreuth (Allemagne) et conservatrice associée à la galerie d’art « Makerere » à Kampala (Ouganda).\\n\\r\\nAprès une introduction générale, elle guidera les visiteurs et répondra à leurs questions dans l’exposition « OTTO DIX. GRAVURES DES ANNEES 1920 »\\xa0qui présente plus de 80 estampes de l’artiste allemand, dont le célèbre cycle « La Guerre ».\\n\\r\\nUne exposition de l’ifa (Institut für Auslandsbeziehungen) www.ifa.de, présentée par le Goethe-Institut Marokko et l’Institut français de Tanger. Jusqu’au 18 octobre 2019, Galerie Delacroix de l’Institut français.\\n\\r\\nEvénement „Exposition Otto Dix“\\r\\n\\xa0\\r\\nProgramme\\r\\nVernissage, 26.09., 19:30h\\r\\nConférence de Katrin Peters-Klaphake, 27.09., 19h\\r\\nCycle de films à la Cinémathèque Tanger, plus d'informations suivront\\r\\nFinissage avec sérigraphie de l‘Atelier Kissaria, 18.10.\\nRetour\",\n",
       " 'John Kendrick Bangs et Barbara Jelin „Das Wassergespenst von Harrowby Hall“\\n\\t\\t\\t\\t\\n\\t\\t\\t\\tCe mois-ci, l’équipe de la bibliothèque vous présente la bande dessinée de John Kendrick Bangs et Barbara Jelin „Das Wassergespenst von Harrowby Hall“. La description très humoristique de la façon de se débarrasser d’un fantôme aquatique, par John Kendrick Bangs, connaît ici une nouvelle vie (et mort) grâce à Barbara Yelin.\\r\\nL’atmosphère est délicieusement british, le style esquissé aussi élusif et beau que le fantôme et les couleurs employées aussi fortes que l’élément de l’eau lui-même. (Source : Carlsen Verlag).\\r\\nDes formats numériques sont utilisés lors de cette manifestation. \\n\\t\\t\\t\\t\\t\\tRetour']"
      ]
     },
     "execution_count": 80,
     "metadata": {},
     "output_type": "execute_result"
    }
   ],
   "source": [
    "descs"
   ]
  },
  {
   "cell_type": "code",
   "execution_count": 81,
   "metadata": {},
   "outputs": [
    {
     "data": {
      "text/plain": [
       "5"
      ]
     },
     "execution_count": 81,
     "metadata": {},
     "output_type": "execute_result"
    }
   ],
   "source": [
    "len(descs)"
   ]
  },
  {
   "cell_type": "code",
   "execution_count": null,
   "metadata": {},
   "outputs": [],
   "source": []
  }
 ],
 "metadata": {
  "kernelspec": {
   "display_name": "Python 3",
   "language": "python",
   "name": "python3"
  },
  "language_info": {
   "codemirror_mode": {
    "name": "ipython",
    "version": 3
   },
   "file_extension": ".py",
   "mimetype": "text/x-python",
   "name": "python",
   "nbconvert_exporter": "python",
   "pygments_lexer": "ipython3",
   "version": "3.6.1"
  }
 },
 "nbformat": 4,
 "nbformat_minor": 2
}
