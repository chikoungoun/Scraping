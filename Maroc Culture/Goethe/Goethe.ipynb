{
 "cells": [
  {
   "cell_type": "markdown",
   "metadata": {},
   "source": [
    "# Scraping évènements culturels Goethe"
   ]
  },
  {
   "cell_type": "code",
   "execution_count": 1,
   "metadata": {},
   "outputs": [
    {
     "data": {
      "text/plain": [
       "<Response [200]>"
      ]
     },
     "execution_count": 1,
     "metadata": {},
     "output_type": "execute_result"
    }
   ],
   "source": [
    "import requests\n",
    "\n",
    "url = 'https://www.goethe.de/ins/ma/fr/ver.cfm?location_IDtxt=9274'\n",
    "response = requests.get(url)\n",
    "response"
   ]
  },
  {
   "cell_type": "code",
   "execution_count": 2,
   "metadata": {},
   "outputs": [
    {
     "name": "stdout",
     "output_type": "stream",
     "text": [
      "\n",
      "\n",
      "\n",
      "\n",
      "<!DOCTYPE html>\n",
      "<html lang=\"fr\">\n",
      "\t\n",
      "\n",
      "\t<head>\n",
      "\t\t<meta charset=\"utf-8\" />\n",
      "\n",
      "\t\t\n",
      "\t\t<meta http-equiv=\"l\n"
     ]
    }
   ],
   "source": [
    "print(response.text[:100])"
   ]
  },
  {
   "cell_type": "code",
   "execution_count": 3,
   "metadata": {},
   "outputs": [
    {
     "data": {
      "text/plain": [
       "bs4.BeautifulSoup"
      ]
     },
     "execution_count": 3,
     "metadata": {},
     "output_type": "execute_result"
    }
   ],
   "source": [
    "from bs4 import BeautifulSoup\n",
    "\n",
    "soup = BeautifulSoup(response.text,'html.parser')\n",
    "type(soup)"
   ]
  },
  {
   "cell_type": "code",
   "execution_count": 4,
   "metadata": {},
   "outputs": [],
   "source": [
    "veranstaltung = soup.find(\"ul\",class_=\"veranstaltungsListe\")"
   ]
  },
  {
   "cell_type": "markdown",
   "metadata": {},
   "source": [
    "## Récupérer les dates "
   ]
  },
  {
   "cell_type": "code",
   "execution_count": 5,
   "metadata": {},
   "outputs": [],
   "source": [
    "datums = veranstaltung.find_all('div',class_='datum')"
   ]
  },
  {
   "cell_type": "code",
   "execution_count": 6,
   "metadata": {},
   "outputs": [
    {
     "data": {
      "text/plain": [
       "[<div class=\"datum\">\n",
       " <h5 title=\"26.09.2019\">\n",
       " \t\t\t\t\t\t\t\t\t26.09.\n",
       " \t\t\t\t\t\t\t\t</h5>\n",
       " <span class=\"eventEnde\">\n",
       " \t\t\t\t\t\t\t\t\t- 18.10.2019\n",
       " \t\t\t\t\t\t\t\t\t</span>\n",
       " </div>, <div class=\"datum\">\n",
       " <h5 title=\"26.09.2019\">\n",
       " \t\t\t\t\t\t\t\t\t26.09.\n",
       " \t\t\t\t\t\t\t\t</h5>\n",
       " <span class=\"eventEnde\">\n",
       " \t\t\t\t\t\t\t\t\t- 18.10.2019\n",
       " \t\t\t\t\t\t\t\t\t</span>\n",
       " </div>, <div class=\"datum\">\n",
       " <h5 title=\"07.10.2019\">\n",
       " \t\t\t\t\t\t\t\t\t07.10.\n",
       " \t\t\t\t\t\t\t\t</h5>\n",
       " <span class=\"eventEnde\">\n",
       " \t\t\t\t\t\t\t\t\t- 22.11.2019\n",
       " \t\t\t\t\t\t\t\t\t</span>\n",
       " </div>, <div class=\"datum\">\n",
       " <h5 title=\"15.10.2019\">\n",
       " \t\t\t\t\t\t\t\t\t15.10.\n",
       " \t\t\t\t\t\t\t\t</h5>\n",
       " <span class=\"eventEnde\">\n",
       " \t\t\t\t\t\t\t\t\t- 16.10.2019\n",
       " \t\t\t\t\t\t\t\t\t</span>\n",
       " </div>, <div class=\"datum\">\n",
       " <h5 title=\"31.10.2019\">\n",
       " \t\t\t\t\t\t\t\t\t31.10.\n",
       " \t\t\t\t\t\t\t\t</h5>\n",
       " </div>]"
      ]
     },
     "execution_count": 6,
     "metadata": {},
     "output_type": "execute_result"
    }
   ],
   "source": [
    "datums"
   ]
  },
  {
   "cell_type": "code",
   "execution_count": 7,
   "metadata": {},
   "outputs": [
    {
     "data": {
      "text/plain": [
       "5"
      ]
     },
     "execution_count": 7,
     "metadata": {},
     "output_type": "execute_result"
    }
   ],
   "source": [
    "len(datums)"
   ]
  },
  {
   "cell_type": "code",
   "execution_count": 8,
   "metadata": {},
   "outputs": [],
   "source": [
    "dates = []\n",
    "\n",
    "for i in datums:\n",
    "    d = \"\"\n",
    "    d = d+(i.find('h5')['title'])\n",
    "        \n",
    "    if i.find('span') is not None:\n",
    "        d = d +\" \"+(i.find('span').text).strip()\n",
    "       \n",
    "        \n",
    "    dates.append(d)"
   ]
  },
  {
   "cell_type": "code",
   "execution_count": 9,
   "metadata": {},
   "outputs": [
    {
     "data": {
      "text/plain": [
       "['26.09.2019 - 18.10.2019',\n",
       " '26.09.2019 - 18.10.2019',\n",
       " '07.10.2019 - 22.11.2019',\n",
       " '15.10.2019 - 16.10.2019',\n",
       " '31.10.2019']"
      ]
     },
     "execution_count": 9,
     "metadata": {},
     "output_type": "execute_result"
    }
   ],
   "source": [
    "dates"
   ]
  },
  {
   "cell_type": "markdown",
   "metadata": {},
   "source": [
    "## Récupérer les liens "
   ]
  },
  {
   "cell_type": "code",
   "execution_count": 10,
   "metadata": {},
   "outputs": [],
   "source": [
    "links = veranstaltung.find_all('div',class_=\"event\")"
   ]
  },
  {
   "cell_type": "code",
   "execution_count": 11,
   "metadata": {},
   "outputs": [
    {
     "name": "stdout",
     "output_type": "stream",
     "text": [
      "/ins/ma/fr/ver.cfm?fuseaction=events.detail&event_id=21645174\n",
      "/ins/ma/fr/ver.cfm?fuseaction=events.detail&event_id=21661881\n",
      "/ins/ma/fr/ver.cfm?fuseaction=events.detail&event_id=21658762\n",
      "/ins/ma/fr/ver.cfm?fuseaction=events.detail&event_id=21672163\n",
      "/ins/ma/fr/ver.cfm?fuseaction=events.detail&event_id=21655429\n"
     ]
    }
   ],
   "source": [
    "liens = []\n",
    "for i in links:\n",
    "    print(i.find('a')['href'])\n",
    "    liens.append(\"https://www.goethe.de\"+(i.find('a')['href']))"
   ]
  },
  {
   "cell_type": "code",
   "execution_count": 12,
   "metadata": {},
   "outputs": [
    {
     "name": "stdout",
     "output_type": "stream",
     "text": [
      "https://www.goethe.de/ins/ma/fr/ver.cfm?fuseaction=events.detail&event_id=21645174\n",
      "https://www.goethe.de/ins/ma/fr/ver.cfm?fuseaction=events.detail&event_id=21661881\n",
      "https://www.goethe.de/ins/ma/fr/ver.cfm?fuseaction=events.detail&event_id=21658762\n",
      "https://www.goethe.de/ins/ma/fr/ver.cfm?fuseaction=events.detail&event_id=21672163\n",
      "https://www.goethe.de/ins/ma/fr/ver.cfm?fuseaction=events.detail&event_id=21655429\n"
     ]
    }
   ],
   "source": [
    "for i in liens:\n",
    "    print(i)"
   ]
  },
  {
   "cell_type": "markdown",
   "metadata": {},
   "source": [
    "## Récupérer les noms des évènements "
   ]
  },
  {
   "cell_type": "code",
   "execution_count": 13,
   "metadata": {},
   "outputs": [],
   "source": [
    "namen = veranstaltung.find_all('h3')"
   ]
  },
  {
   "cell_type": "code",
   "execution_count": 14,
   "metadata": {},
   "outputs": [
    {
     "name": "stdout",
     "output_type": "stream",
     "text": [
      "OTTO DIX. Gravures des années 1920 \n",
      "AUDIO GUIDE DE L’EXPOSITION  « OTTO DIX – GRAVURES DES ANNÉES 1920 »\n",
      "«La Loi fondamentale en calligraphie»\n",
      "Escale Rbatia\n",
      "Livre du mois d‘octobre \n"
     ]
    }
   ],
   "source": [
    "noms = []\n",
    "for i in namen:\n",
    "    print(i.text)\n",
    "    noms.append(i.text)"
   ]
  },
  {
   "cell_type": "markdown",
   "metadata": {},
   "source": [
    "## Récupérer les données lien par lien"
   ]
  },
  {
   "cell_type": "code",
   "execution_count": 15,
   "metadata": {},
   "outputs": [],
   "source": [
    "from time import time\n",
    "from time import sleep\n",
    "from random import randint"
   ]
  },
  {
   "cell_type": "code",
   "execution_count": 16,
   "metadata": {},
   "outputs": [],
   "source": [
    "start_time = time()\n",
    "requests = 0"
   ]
  },
  {
   "cell_type": "code",
   "execution_count": 17,
   "metadata": {},
   "outputs": [],
   "source": [
    "from requests import get"
   ]
  },
  {
   "cell_type": "code",
   "execution_count": null,
   "metadata": {},
   "outputs": [],
   "source": []
  },
  {
   "cell_type": "code",
   "execution_count": 18,
   "metadata": {
    "scrolled": true
   },
   "outputs": [
    {
     "name": "stdout",
     "output_type": "stream",
     "text": [
      "https://www.goethe.de/ins/ma/fr/ver.cfm?fuseaction=events.detail&event_id=21645174\n",
      "15\n",
      "\n",
      "\n",
      "\n",
      "\t\t\t\tCritique sociale, estampes 1920-1924 – « La Guerre », gravures 1924\n",
      "\n",
      "Une exposition de l’ifa (Institut für Auslandsbeziehungen), présentée par le Goethe-Institut Marokko et l’Institut français de Tanger.\n",
      "Commissaire d’exposition : Eugen Keuerleber\n",
      "\n",
      "Horaires d’ouverture :\n",
      "Ouvert tous les jours sauf le lundi de 11-13 h et de 16-21h  \n",
      "\n",
      "Un audio guide de l’exposition en français est à votre disposition.\n",
      "Une brochure français/arabe, disponible dans l’exposition, est à télécharger\n",
      "\n",
      "ici\n",
      " .Traducteur : Rachid Barhoune\n",
      "\n",
      "\n",
      "\n",
      "\n",
      "© (Otto Dix) VG Bild-Kunst, Bonn\n",
      "\n",
      "\n",
      "Otto Dix (1891 - 1969) est reconnu comme l'un des peintres allemands les plus importants du XXe siècle. Ses travaux furent irrémédiablement marqués par les horreurs de la Première Guerre mondiale, à laquelle l'artiste participa comme engagé volontaire ainsi que par le nazisme qui stigmatisa son œuvre comme \"art dégénéré\". Parallèlement à son œuvre picturale, le dessin et l’art graphique occupent une place prédominante tout au long de sa vie. L’exposition réunit pour la première fois au Maroc un ensemble exceptionnel d’estampes réalisées à l’issue de la Première Guerre mondiale.\n",
      "\n",
      "\n",
      "\n",
      "\n",
      "\n",
      "© (Otto Dix) VG Bild-Kunst, Bonn\n",
      "\n",
      "\n",
      "LA GUERRE (Der Krieg), 1924\n",
      "Cette série de 50 gravures à l’eau forte constitue l’œuvre majeure de Dix. Inspirées de son expérience personnelle des combats pendant la Première Guerre mondiale, ces estampes constituent un rappel direct et provocant des ravages de la guerre. L’artiste exploite les effets de clair-obscur de l’eau forte pour renforcer l’expressivité des scènes et dénoncer la souffrance des soldats comme celle des civils. Ce cycle conserve encore aujourd’hui toute sa force de dénonciation des horreurs de la guerre.\n",
      "\n",
      "\n",
      "\n",
      "\n",
      "\n",
      "(Otto Dix) VG Bild-Kunst, Bonn\n",
      "\n",
      "\n",
      "La critique sociale (1920-1924) \n",
      "La première partie de l’exposition est composée de lithographies qui ont pour décor les grandes villes allemandes des années 20, marquées par une grande pauvreté et les suites de la guerre mais aussi par une libéralisation de mœurs et une effervescence artistique. Les mendiants, les prostituées, le monde du cirque : rien n’échappe au regard acéré de Dix, particulièrement l’insolite et le grotesque. Dix combine ce réalisme cru à une profonde sensibilité : sa sympathie pour les laissés-pour-compte de la société transparait dans les portraits des veuves et des invalides de guerre.\n",
      "\n",
      "Programme autour de l’exposition\n",
      "Vernissage : Jeudi 26 septembre, 19h30, Galerie Delacroix, Tanger\n",
      "Audio-guide de l’exposition en français\n",
      "Introduction à l’exposition par Katrin Peters-Klaphake, historienne de l’art : Vendredi 27 septembre, 19h00\n",
      "Finissage en collaboration avec Atelier Kissaria : Vendredi 18 octobre, 17h00\n",
      "\n",
      "Cycle de films en collaboration avec la Cinémathèque de Tanger\n",
      "25.9., 19h30: Berlin, Synphonie d’une grande ville, Walter Ruttmann, 1927\n",
      "29.9., 19h30: M – le maudit, Fritz Lang, 1931\n",
      "2.10., 19h30 : A l’ouest, rien de nouveau, Lewis Milestone, 1930\n",
      "6.10., 19h30: ventres glacés, Slatan Dudow, 1932\n",
      "\n",
      "LA PREMIERE GUERRE MONDIALE \n",
      "Otto Dix est célèbre pour ses représentations très expressives des violences de la guerre. Il n’est pas anodin que cette exposition soit le fruit d’un projet franco-allemand, cent ans après la fin d’un conflit qui opposa de 1914 à 1918 la France et l’Allemagne ainsi que leurs alliés. Les combats et leurs conséquences firent dans le monde près de 18 millions de morts, dont la moitié de civils, sans compter les invalides de guerre, les veuves, les orphelins et les destructions matérielles. Le Maroc, protectorat français depuis 1912, ne fut pas épargné par le conflit. Le royaume dut contribuer à l’effort de guerre, en termes de ressources matérielles mais aussi d’hommes. 40 000 marocains furent envoyés sur les champs de bataille français et dans les Balkans. Un quart d’entre eux n’en revinrent pas.\n",
      "\n",
      "\n",
      "L’ALLEMAGNE DES ANNEES 1920 \n",
      "Après la défaite, la République est proclamée en 1918. L’histoire de ce régime démocratique, qui prendra fin avec l’arrivée d’Hitler au pouvoir en 1933, est marquée par de nombreux conflits politiques et sociaux et par des crises économiques sans précédent. Mais cette époque est aussi propice aux expériences. Les libertés instaurées par la Constitution favorisent l’émergence dans les métropoles de courants artistiques novateurs, En observateur fabuleux de son temps, Dix plonge pendant ces « Années folles » dans les bas-fonds de Berlin, de Dresde ou de Düsseldorf pour saisir à travers des portraits sans concession l’âme humaine.\n",
      "\n",
      "Des livres électroniques sur Otto Dix sont disponibles en allemand dans la bibliothèque en ligne du Goethe-Institut:\n",
      "\n",
      "\"Otto Dix - der unerschrockene Blick\" d'Olaf Peters, Reclam, 2013\n",
      "\"Otto Dix\" d'Uwe M. Schneede, C.H.Beck, 2019\n",
      "\n",
      "Inscription gratuite sur Onleihe\n",
      "Retour\n",
      "\n",
      "https://www.goethe.de/ins/ma/fr/ver.cfm?fuseaction=events.detail&event_id=21661881\n",
      "10\n",
      "\n",
      "\n",
      "\n",
      "Sommaire de l’audio guide « Otto Dix » (durée totale : 20 minutes)\n",
      "\n",
      "\n",
      "\n",
      "\n",
      "\n",
      "\n",
      "\n",
      "\n",
      "\n",
      "\n",
      "\n",
      "\n",
      "\n",
      "\n",
      "\n",
      "\n",
      "\n",
      "Le Goethe-Institut Marokko et l’Institut français de Tanger présentent à la Galerie Delacroix à Tanger une exposition de l’ifa, consacrée à l’artiste allemand Otto Dix (1891 - 1969) : EXPOSITION OTTO DIX. GRAVURES DES ANNEES 1920 \n",
      "\n",
      "\n",
      "\n",
      "\n",
      "© Katrin Peters-Klaphake \n",
      "\n",
      "\n",
      "\t\tAfin de rendre les œuvres plus accessibles au public et de permettre à ceux qui ne peuvent pas faire le déplacement à Tanger de découvrir l’univers d’Otto Dix, le Goethe-Institut Marokko a demandé à l’historienne de l’art Katrin Peters-Klaphake de concevoir une visite sonore de l’exposition.\n",
      "\n",
      "\n",
      "\n",
      "\n",
      "\n",
      "\n",
      "\n",
      "\n",
      "\n",
      "© Fatima Zahra El Azzouzi \n",
      "\n",
      "\n",
      "\t\tLe texte, conçu en français, est lu par Fatima-Zohra El Azzouzi, étudiante à l’ISADAC et a été enregistré avec l’aimable support du studio de la radio allemande ARD à Rabat.\n",
      "\n",
      "Téléchargez gratuitement les fichiers MP3. Vous pouvez écouter la visite sur n’importe quel appareil lisant le format MP3.\n",
      "Par ailleurs une brochure explicative est à télécharger en format PDF \n",
      "\n",
      "ici\n",
      "\n",
      " \n",
      "Programme autour de l’exposition « Otto Dix » \n",
      "\n",
      "-Vernissage : Jeudi 26 septembre, 19h30, Galerie Delacroix, Tanger\n",
      "- Vendredi 27 septembre, 19h, Introduction à l’exposition par Katrin Peters-Klaphake, historienne de l’art.\n",
      "- Vendredi 18 octobre, 17h : Finissage en collaboration avec « Atelier Kissaria »\n",
      "Retour\n",
      "\n",
      "https://www.goethe.de/ins/ma/fr/ver.cfm?fuseaction=events.detail&event_id=21658762\n",
      "10\n",
      "\n",
      "\n",
      "\n",
      "\t\t\t\tExposition d’affiches à l’occasion du 70eme anniversaire de la Loi fondamentale (constitution) de la République fédérale d’Allemagne.\n",
      "Calligraphie : Ahmed Darwish.\n",
      "\n",
      "Ahmed Sayed Hassan Darwish, né le 15.03.1954, a étudié les études arabes à l'Université Al-Azhar, Département d'histoire et civilisation. Il a travaillé comme inspecteur général de l'histoire dans les écoles azharites. Aujourd'hui, il est professeur de calligraphie aux facultés d'art de l'Université d'Helwan et d'Al-Azhar. Depuis 1973, il a participé à plusieurs expositions. Par exemple l'exposition pour l'anniversaire \"Mille ans d'Al-Azhar\" 1973, la célébration des 60 ans de l'atelier du Caire 2016, \"Loi fondamentale de la République fédérale d'Allemagne\" au Caire 2016 et Leipzig 2017, \"Exposition Martin Luther\" (réforme religieuse), dans l'église protestante au Caire 2016 et à Wittenberg 2017.\n",
      "  \n",
      "\t\t\t\t\t\tRetour\n",
      "\n",
      "https://www.goethe.de/ins/ma/fr/ver.cfm?fuseaction=events.detail&event_id=21672163\n",
      "15\n",
      "\n",
      "\n",
      "\tDans le cadre du festival de danse LES RENCONTRES CHOREGRAPHIQUES DE CASABLANCA #5 \n",
      "\t\t\t\t\n",
      "\t\t\t\tLe Goethe-Institut Marokko est partenaire de ce festival qui présente plusieurs facettes de la danse contemporaine à  Rabat et à  Casablanca.\n",
      "\n",
      "Initié par la  compagnie Col’Jam, le festival  Rencontres Chorégraphiques de Casablanca avec son  Escale Rbatia présente pour sa 5ème édition des productions marocaines, tunisiennes, sénégalaises, françaises, roumaines. Le programme complet est disponible sur le site de Col Jam.\n",
      "\n",
      "PROGRAMME\n",
      "Mardi 15 octobre\n",
      "17 h, Place Pietri \n",
      "BURQA ET BASMA - Work in Progress\n",
      "Concept: Radu Dinulescu (Roumanie)\n",
      "Danse: Denisa Blag– Carmen Bulancea, Camelia Strat Blidar, Raul Hotcas, Ahlam El Morsli, Wajdi Gagui, Ester Lozano Torne, Yasmina Chouaib\n",
      "Lumière: Sabrer Gagui (Tunisie). Vidéo et scénographie: Armand Richelet-Kleinberg (Belgique). Coproduction: Teatrul Municipal Baia Mare et Col’jam. Financé par l’Organisation Internationale de La Francophonie (OIF). Partenaires : Association Atelier 92, La Fédération des Œuvres Laïques (FOL), Cité de la Culture de Tunis\n",
      "\n",
      "20 h, Goethe-Institut Rabat\n",
      "DANS LE VENT- Cie Hna-Ya (Kénitra, Maroc) – Duo\n",
      "Chorégraphie et danse : Said El Haddaji et Manon de Matauco\n",
      "\n",
      "\t\n",
      "\n",
      "\n",
      "\n",
      "\n",
      "20h45, Goethe-Institut Rabat\n",
      "NAWAT - Cie Arabesque (Meknès, Maroc) \n",
      "Chorégraphie et danse : Bouchra Bouchama, Houssine Oumoulid\n",
      "Direction artistique : Juliette Feuerbach\n",
      "\n",
      "\n",
      "Mercredi 16 octobre\n",
      "17 h, Place Pietri \n",
      "KAYEN, Cie Col Jam (Casablanca, Maroc) \n",
      "Chorégraphie : Wajdi Gagui.\n",
      "Danse : Ester Lozano Torné, Soufiane Naym, Chakib Yemlahi, Faouzi Mrani, Wajdi Gagui\n",
      "\n",
      "\t\n",
      "\n",
      "KAYEN - Cie Col'Jam from Col'jam on Vimeo.\n",
      "\n",
      "\n",
      "\n",
      "\n",
      "\n",
      "© Compagnies en Lacets \n",
      "\n",
      "\n",
      "\n",
      "\n",
      "\n",
      "\n",
      "\n",
      "\n",
      "\n",
      "\n",
      "\n",
      "\n",
      "20 h, Goethe-Institut Rabat\n",
      "KAARO - Rencontre entre la culture mahorique et la danse contemporaine (France / Mayotte) \n",
      "Chorégraphie et danse: Maud Marquet & Jeff Ridjali. Danse : Maud Marquet, Jeff Ridjali et Damien Guillemin\n",
      "\n",
      "\t\n",
      "\n",
      "\n",
      "\n",
      "\n",
      "20h45, Goethe-Institut Rabat\n",
      "CONTRAINTE - Cie DIAGN@RT (Dakar, Sénégal) \n",
      "Chorégraphie et danse: BAMBA DIAGNE\n",
      "En partenariat avec „Arabesques“ (Meknès) \n",
      "\t\t\t\t\t\tRetour\n",
      "\n",
      "https://www.goethe.de/ins/ma/fr/ver.cfm?fuseaction=events.detail&event_id=21655429\n"
     ]
    },
    {
     "name": "stdout",
     "output_type": "stream",
     "text": [
      "8\n",
      "\n",
      "\n",
      "\tJohn Kendrick Bangs et Barbara Jelin „Das Wassergespenst von Harrowby Hall“\n",
      "\t\t\t\t\n",
      "\t\t\t\tCe mois-ci, l’équipe de la bibliothèque vous présente la bande dessinée de John Kendrick Bangs et Barbara Jelin „Das Wassergespenst von Harrowby Hall“. La description très humoristique de la façon de se débarrasser d’un fantôme aquatique, par John Kendrick Bangs, connaît ici une nouvelle vie (et mort) grâce à Barbara Yelin.\n",
      "L’atmosphère est délicieusement british, le style esquissé aussi élusif et beau que le fantôme et les couleurs employées aussi fortes que l’élément de l’eau lui-même. (Source : Carlsen Verlag).\n",
      "Des formats numériques sont utilisés lors de cette manifestation. \n",
      "\t\t\t\t\t\tRetour\n",
      "\n",
      " **** ***** Done ***** ***** \n"
     ]
    }
   ],
   "source": [
    "heures = []\n",
    "descs = []\n",
    "images = []\n",
    "for i in liens:\n",
    "    print(i)\n",
    "    response = get(i)\n",
    "    \n",
    "    timer = randint(8,15)\n",
    "    #pause de loop\n",
    "    print(timer)\n",
    "    sleep(timer)\n",
    "    \n",
    "    #renvoyer un warning pour les non 'status code : 200'\n",
    "    if response.status_code != 200:\n",
    "        warn('Request: {}; Status code: {}'.format(requests, response.status_code))\n",
    "            \n",
    "    #parser en BS\n",
    "    page_html = BeautifulSoup(response.text,'html.parser') \n",
    "    \n",
    "    \"\"\" Images \"\"\"\n",
    "    bild = page_html.find('img',class_=\"aufmacherBild\")[\"src\"]\n",
    "    images.append(bild)\n",
    "    \n",
    "    \"\"\" Heure \"\"\"\n",
    "    hur = page_html.find('time',class_='vkZeit').text\n",
    "    heures.append(hur.strip())\n",
    "    \n",
    "    \"\"\" Description\"\"\"\n",
    "    #Control anti audio\n",
    "    d = page_html.find_all('div',class_='audio-dl-c')\n",
    "    for i in d:\n",
    "        i.extract()\n",
    "    \n",
    "    beschreibung = page_html.find('div',class_='span12 doppelTeaser').text\n",
    "    print(beschreibung)        \n",
    "    descs.append(beschreibung.strip())\n",
    "    \n",
    "    \n",
    "print(\" **** ***** Done ***** ***** \")"
   ]
  },
  {
   "cell_type": "code",
   "execution_count": 19,
   "metadata": {
    "scrolled": true
   },
   "outputs": [
    {
     "data": {
      "text/plain": [
       "['//www.goethe.de/resources/files/jpg849/web_1-formatkey-jpg-default.jpg',\n",
       " '//www.goethe.de/resources/files/jpg855/otto-dix-web-formatkey-jpg-default.jpg',\n",
       " '//www.goethe.de/resources/files/jpg854/web_neu-formatkey-jpg-default.jpg',\n",
       " '//www.goethe.de/resources/files/jpg858/web2-formatkey-jpg-default.jpg',\n",
       " '//www.goethe.de/resources/files/jpg853/web-formatkey-jpg-default.jpg']"
      ]
     },
     "execution_count": 19,
     "metadata": {},
     "output_type": "execute_result"
    }
   ],
   "source": [
    "images"
   ]
  },
  {
   "cell_type": "code",
   "execution_count": 20,
   "metadata": {},
   "outputs": [
    {
     "data": {
      "text/plain": [
       "['', '', '', '20h00', '17h00 - 18h00']"
      ]
     },
     "execution_count": 20,
     "metadata": {},
     "output_type": "execute_result"
    }
   ],
   "source": [
    "heures"
   ]
  },
  {
   "cell_type": "code",
   "execution_count": 21,
   "metadata": {},
   "outputs": [
    {
     "data": {
      "text/plain": [
       "['Critique sociale, estampes 1920-1924 – « La Guerre », gravures 1924\\n\\nUne exposition de l’ifa (Institut für Auslandsbeziehungen), présentée par le Goethe-Institut Marokko et l’Institut français de Tanger.\\r\\nCommissaire d’exposition : Eugen Keuerleber\\n\\r\\nHoraires d’ouverture :\\r\\nOuvert tous les jours sauf le lundi de 11-13 h et de 16-21h\\xa0\\xa0\\n\\r\\nUn audio guide de l’exposition en français est à votre disposition.\\r\\nUne brochure français/arabe, disponible dans l’exposition, est à télécharger\\n\\nici\\n .Traducteur : Rachid Barhoune\\n\\n\\n\\n\\n© (Otto Dix) VG Bild-Kunst, Bonn\\n\\n\\nOtto Dix (1891 - 1969) est reconnu comme l\\'un des peintres allemands les plus importants du XXe siècle. Ses travaux furent irrémédiablement marqués par les horreurs de la Première Guerre mondiale, à laquelle l\\'artiste participa comme engagé volontaire ainsi que par le nazisme qui stigmatisa son œuvre comme \"art dégénéré\". Parallèlement à son œuvre picturale, le dessin et l’art graphique occupent une place prédominante tout au long de sa vie. L’exposition réunit pour la première fois au Maroc un ensemble exceptionnel d’estampes réalisées à l’issue de la Première Guerre mondiale.\\n\\n\\n\\n\\n\\n© (Otto Dix) VG Bild-Kunst, Bonn\\n\\n\\nLA GUERRE (Der Krieg), 1924\\r\\nCette série de 50 gravures à l’eau forte constitue l’œuvre majeure de Dix. Inspirées de son expérience personnelle des combats pendant la Première Guerre mondiale, ces estampes constituent un rappel direct et provocant des ravages de la guerre. L’artiste exploite les effets de clair-obscur de l’eau forte pour renforcer l’expressivité des scènes et dénoncer la souffrance des soldats comme celle des civils. Ce cycle conserve encore aujourd’hui toute sa force de dénonciation des horreurs de la guerre.\\n\\n\\n\\n\\n\\n(Otto Dix) VG Bild-Kunst, Bonn\\n\\n\\nLa critique sociale (1920-1924) \\r\\nLa première partie de l’exposition est composée de lithographies qui ont pour décor les grandes villes allemandes des années 20, marquées par une grande pauvreté et les suites de la guerre mais aussi par une libéralisation de mœurs et une effervescence artistique. Les mendiants, les prostituées, le monde du cirque : rien n’échappe au regard acéré de Dix, particulièrement l’insolite et le grotesque. Dix combine ce réalisme cru à une profonde sensibilité : sa sympathie pour les laissés-pour-compte de la société transparait dans les portraits des veuves et des invalides de guerre.\\n\\nProgramme autour de l’exposition\\r\\nVernissage : Jeudi 26 septembre, 19h30, Galerie Delacroix, Tanger\\nAudio-guide de l’exposition en français\\nIntroduction à l’exposition par Katrin Peters-Klaphake, historienne de l’art : Vendredi 27 septembre, 19h00\\r\\nFinissage en collaboration avec Atelier Kissaria : Vendredi 18 octobre, 17h00\\n\\nCycle de films en collaboration avec la Cinémathèque de Tanger\\r\\n25.9., 19h30: Berlin, Synphonie d’une grande ville, Walter Ruttmann, 1927\\r\\n29.9., 19h30: M – le maudit, Fritz Lang, 1931\\r\\n2.10., 19h30 : A l’ouest, rien de nouveau, Lewis Milestone, 1930\\r\\n6.10., 19h30: ventres glacés, Slatan Dudow, 1932\\n\\nLA PREMIERE GUERRE MONDIALE \\r\\nOtto Dix est célèbre pour ses représentations très expressives des violences de la guerre. Il n’est pas anodin que cette exposition soit le fruit d’un projet franco-allemand, cent ans après la fin d’un conflit qui opposa de 1914 à 1918 la France et l’Allemagne ainsi que leurs alliés. Les combats et leurs conséquences firent dans le monde près de 18 millions de morts, dont la moitié de civils, sans compter les invalides de guerre, les veuves, les orphelins et les destructions matérielles. Le Maroc, protectorat français depuis 1912, ne fut pas épargné par le conflit. Le royaume dut contribuer à l’effort de guerre, en termes de ressources matérielles mais aussi d’hommes. 40 000 marocains furent envoyés sur les champs de bataille français et dans les Balkans. Un quart d’entre eux n’en revinrent pas.\\n\\n\\nL’ALLEMAGNE DES ANNEES 1920 \\r\\nAprès la défaite, la République est proclamée en 1918. L’histoire de ce régime démocratique, qui prendra fin avec l’arrivée d’Hitler au pouvoir en 1933, est marquée par de nombreux conflits politiques et sociaux et par des crises économiques sans précédent. Mais cette époque est aussi propice aux expériences. Les libertés instaurées par la Constitution favorisent l’émergence dans les métropoles de courants artistiques novateurs, En observateur fabuleux de son temps, Dix plonge pendant ces « Années folles » dans les bas-fonds de Berlin, de Dresde ou de Düsseldorf pour saisir à travers des portraits sans concession l’âme humaine.\\n\\r\\nDes livres électroniques sur Otto Dix sont disponibles en allemand dans la bibliothèque en ligne du Goethe-Institut:\\n\\r\\n\"Otto Dix - der unerschrockene Blick\" d\\'Olaf Peters, Reclam, 2013\\r\\n\"Otto Dix\" d\\'Uwe M. Schneede, C.H.Beck, 2019\\n\\r\\nInscription gratuite sur Onleihe\\nRetour',\n",
       " 'Sommaire de l’audio guide « Otto Dix » (durée totale : 20 minutes)\\r\\n\\r\\n\\r\\n\\n\\n\\n\\n\\n\\n\\n\\n\\n\\n\\n\\n\\n\\n\\r\\nLe Goethe-Institut Marokko et l’Institut français de Tanger présentent à la Galerie Delacroix à Tanger une exposition de l’ifa, consacrée à l’artiste allemand Otto Dix (1891 - 1969) : EXPOSITION OTTO DIX. GRAVURES DES ANNEES 1920 \\n\\n\\n\\n\\n© Katrin Peters-Klaphake \\n\\n\\r\\n\\t\\tAfin de rendre les œuvres plus accessibles au public et de permettre à ceux qui ne peuvent pas faire le déplacement à Tanger de découvrir l’univers d’Otto Dix, le Goethe-Institut Marokko a demandé à l’historienne de l’art Katrin Peters-Klaphake de concevoir une visite sonore de l’exposition.\\n\\n\\n\\n\\n\\n\\n\\n\\n\\n© Fatima Zahra El Azzouzi \\n\\n\\r\\n\\t\\tLe texte, conçu en français, est lu par Fatima-Zohra El Azzouzi, étudiante à l’ISADAC et a été enregistré avec l’aimable support du studio de la radio allemande ARD à Rabat.\\n\\r\\nTéléchargez gratuitement les fichiers MP3. Vous pouvez écouter la visite sur n’importe quel appareil lisant le format MP3.\\r\\nPar ailleurs une brochure explicative est à télécharger en format PDF \\n\\nici\\n\\r\\n\\xa0\\r\\nProgramme autour de l’exposition « Otto Dix » \\n\\r\\n-Vernissage : Jeudi 26 septembre, 19h30, Galerie Delacroix, Tanger\\r\\n- Vendredi 27 septembre, 19h, Introduction à l’exposition par Katrin Peters-Klaphake, historienne de l’art.\\r\\n- Vendredi 18 octobre, 17h : Finissage en collaboration avec « Atelier Kissaria »\\nRetour',\n",
       " 'Exposition d’affiches à l’occasion du 70eme anniversaire de la Loi fondamentale (constitution) de la République fédérale d’Allemagne.\\r\\nCalligraphie : Ahmed Darwish.\\n\\r\\nAhmed Sayed Hassan Darwish, né le 15.03.1954, a étudié les études arabes à l\\'Université Al-Azhar, Département d\\'histoire et civilisation. Il a travaillé comme inspecteur général de l\\'histoire dans les écoles azharites. Aujourd\\'hui, il est professeur de calligraphie aux facultés d\\'art de l\\'Université d\\'Helwan et d\\'Al-Azhar. Depuis 1973, il a participé à plusieurs expositions. Par exemple l\\'exposition pour l\\'anniversaire \"Mille ans d\\'Al-Azhar\" 1973, la célébration des 60 ans de l\\'atelier du Caire 2016, \"Loi fondamentale de la République fédérale d\\'Allemagne\" au Caire 2016 et Leipzig 2017, \"Exposition Martin Luther\" (réforme religieuse), dans l\\'église protestante au Caire 2016 et à Wittenberg 2017.\\r\\n\\xa0 \\n\\t\\t\\t\\t\\t\\tRetour',\n",
       " \"Dans le cadre du festival de danse LES RENCONTRES CHOREGRAPHIQUES DE CASABLANCA #5 \\n\\t\\t\\t\\t\\n\\t\\t\\t\\tLe Goethe-Institut Marokko est partenaire de ce festival qui présente plusieurs facettes de la danse contemporaine à  Rabat et à  Casablanca.\\n\\r\\nInitié par la  compagnie Col’Jam, le festival  Rencontres Chorégraphiques de Casablanca avec son  Escale Rbatia présente pour sa 5ème édition des productions marocaines, tunisiennes, sénégalaises, françaises, roumaines. Le programme complet est disponible sur le site de Col Jam.\\n\\r\\nPROGRAMME\\nMardi 15 octobre\\n17 h, Place Pietri \\nBURQA ET BASMA - Work in Progress\\r\\nConcept: Radu Dinulescu (Roumanie)\\r\\nDanse: Denisa Blag– Carmen Bulancea, Camelia Strat Blidar, Raul Hotcas, Ahlam El Morsli, Wajdi Gagui, Ester Lozano Torne, Yasmina Chouaib\\r\\nLumière: Sabrer Gagui (Tunisie). Vidéo et scénographie: Armand Richelet-Kleinberg (Belgique). Coproduction: Teatrul Municipal Baia Mare et Col’jam. Financé par l’Organisation Internationale de La Francophonie (OIF). Partenaires : Association Atelier 92, La Fédération des Œuvres Laïques (FOL), Cité de la Culture de Tunis\\n\\n20 h, Goethe-Institut Rabat\\nDANS LE VENT- Cie Hna-Ya (Kénitra, Maroc) – Duo\\r\\nChorégraphie et danse : Said El Haddaji et Manon de Matauco\\r\\n\\n\\t\\n\\n\\n\\n\\n20h45, Goethe-Institut Rabat\\nNAWAT - Cie Arabesque (Meknès, Maroc) \\r\\nChorégraphie et danse : Bouchra Bouchama, Houssine Oumoulid\\r\\nDirection artistique : Juliette Feuerbach\\n\\n\\nMercredi 16 octobre\\n17 h, Place Pietri \\nKAYEN, Cie Col Jam (Casablanca, Maroc) \\r\\nChorégraphie : Wajdi Gagui.\\r\\nDanse : Ester Lozano Torné, Soufiane Naym, Chakib Yemlahi, Faouzi Mrani, Wajdi Gagui\\r\\n\\n\\t\\n\\nKAYEN - Cie Col'Jam from Col'jam on Vimeo.\\n\\n\\n\\n\\n\\n© Compagnies en Lacets \\n\\n\\n\\n\\n\\n\\n\\n\\n\\n\\n\\n\\n20 h, Goethe-Institut Rabat\\nKAARO - Rencontre entre la culture mahorique et la danse contemporaine (France / Mayotte) \\r\\nChorégraphie et danse: Maud Marquet & Jeff Ridjali. Danse : Maud Marquet, Jeff Ridjali et Damien Guillemin\\r\\n\\n\\t\\n\\n\\n\\n\\n20h45, Goethe-Institut Rabat\\nCONTRAINTE - Cie DIAGN@RT (Dakar, Sénégal) \\r\\nChorégraphie et danse: BAMBA DIAGNE\\r\\nEn partenariat avec „Arabesques“ (Meknès) \\n\\t\\t\\t\\t\\t\\tRetour\",\n",
       " 'John Kendrick Bangs et Barbara Jelin „Das Wassergespenst von Harrowby Hall“\\n\\t\\t\\t\\t\\n\\t\\t\\t\\tCe mois-ci, l’équipe de la bibliothèque vous présente la bande dessinée de John Kendrick Bangs et Barbara Jelin „Das Wassergespenst von Harrowby Hall“. La description très humoristique de la façon de se débarrasser d’un fantôme aquatique, par John Kendrick Bangs, connaît ici une nouvelle vie (et mort) grâce à Barbara Yelin.\\r\\nL’atmosphère est délicieusement british, le style esquissé aussi élusif et beau que le fantôme et les couleurs employées aussi fortes que l’élément de l’eau lui-même. (Source : Carlsen Verlag).\\r\\nDes formats numériques sont utilisés lors de cette manifestation. \\n\\t\\t\\t\\t\\t\\tRetour']"
      ]
     },
     "execution_count": 21,
     "metadata": {},
     "output_type": "execute_result"
    }
   ],
   "source": [
    "descs"
   ]
  },
  {
   "cell_type": "code",
   "execution_count": 22,
   "metadata": {
    "scrolled": true
   },
   "outputs": [
    {
     "data": {
      "text/plain": [
       "5"
      ]
     },
     "execution_count": 22,
     "metadata": {},
     "output_type": "execute_result"
    }
   ],
   "source": [
    "len(descs)"
   ]
  },
  {
   "cell_type": "markdown",
   "metadata": {},
   "source": [
    "##  Tout regrouper en une seule structure"
   ]
  },
  {
   "cell_type": "code",
   "execution_count": 23,
   "metadata": {},
   "outputs": [],
   "source": [
    "prog = []\n",
    "for i,j,k,l,m,n in zip(noms,dates,heures,images,liens,descs):\n",
    "    #Ajouter le lieu\n",
    "    t = (i,j,k,l,m,n,\"Goethe Institut\")\n",
    "    prog.append(t)"
   ]
  },
  {
   "cell_type": "code",
   "execution_count": 24,
   "metadata": {},
   "outputs": [
    {
     "data": {
      "text/plain": [
       "[('OTTO DIX. Gravures des années 1920 ',\n",
       "  '26.09.2019 - 18.10.2019',\n",
       "  '',\n",
       "  '//www.goethe.de/resources/files/jpg849/web_1-formatkey-jpg-default.jpg',\n",
       "  'https://www.goethe.de/ins/ma/fr/ver.cfm?fuseaction=events.detail&event_id=21645174',\n",
       "  'Critique sociale, estampes 1920-1924 – « La Guerre », gravures 1924\\n\\nUne exposition de l’ifa (Institut für Auslandsbeziehungen), présentée par le Goethe-Institut Marokko et l’Institut français de Tanger.\\r\\nCommissaire d’exposition : Eugen Keuerleber\\n\\r\\nHoraires d’ouverture :\\r\\nOuvert tous les jours sauf le lundi de 11-13 h et de 16-21h\\xa0\\xa0\\n\\r\\nUn audio guide de l’exposition en français est à votre disposition.\\r\\nUne brochure français/arabe, disponible dans l’exposition, est à télécharger\\n\\nici\\n .Traducteur : Rachid Barhoune\\n\\n\\n\\n\\n© (Otto Dix) VG Bild-Kunst, Bonn\\n\\n\\nOtto Dix (1891 - 1969) est reconnu comme l\\'un des peintres allemands les plus importants du XXe siècle. Ses travaux furent irrémédiablement marqués par les horreurs de la Première Guerre mondiale, à laquelle l\\'artiste participa comme engagé volontaire ainsi que par le nazisme qui stigmatisa son œuvre comme \"art dégénéré\". Parallèlement à son œuvre picturale, le dessin et l’art graphique occupent une place prédominante tout au long de sa vie. L’exposition réunit pour la première fois au Maroc un ensemble exceptionnel d’estampes réalisées à l’issue de la Première Guerre mondiale.\\n\\n\\n\\n\\n\\n© (Otto Dix) VG Bild-Kunst, Bonn\\n\\n\\nLA GUERRE (Der Krieg), 1924\\r\\nCette série de 50 gravures à l’eau forte constitue l’œuvre majeure de Dix. Inspirées de son expérience personnelle des combats pendant la Première Guerre mondiale, ces estampes constituent un rappel direct et provocant des ravages de la guerre. L’artiste exploite les effets de clair-obscur de l’eau forte pour renforcer l’expressivité des scènes et dénoncer la souffrance des soldats comme celle des civils. Ce cycle conserve encore aujourd’hui toute sa force de dénonciation des horreurs de la guerre.\\n\\n\\n\\n\\n\\n(Otto Dix) VG Bild-Kunst, Bonn\\n\\n\\nLa critique sociale (1920-1924) \\r\\nLa première partie de l’exposition est composée de lithographies qui ont pour décor les grandes villes allemandes des années 20, marquées par une grande pauvreté et les suites de la guerre mais aussi par une libéralisation de mœurs et une effervescence artistique. Les mendiants, les prostituées, le monde du cirque : rien n’échappe au regard acéré de Dix, particulièrement l’insolite et le grotesque. Dix combine ce réalisme cru à une profonde sensibilité : sa sympathie pour les laissés-pour-compte de la société transparait dans les portraits des veuves et des invalides de guerre.\\n\\nProgramme autour de l’exposition\\r\\nVernissage : Jeudi 26 septembre, 19h30, Galerie Delacroix, Tanger\\nAudio-guide de l’exposition en français\\nIntroduction à l’exposition par Katrin Peters-Klaphake, historienne de l’art : Vendredi 27 septembre, 19h00\\r\\nFinissage en collaboration avec Atelier Kissaria : Vendredi 18 octobre, 17h00\\n\\nCycle de films en collaboration avec la Cinémathèque de Tanger\\r\\n25.9., 19h30: Berlin, Synphonie d’une grande ville, Walter Ruttmann, 1927\\r\\n29.9., 19h30: M – le maudit, Fritz Lang, 1931\\r\\n2.10., 19h30 : A l’ouest, rien de nouveau, Lewis Milestone, 1930\\r\\n6.10., 19h30: ventres glacés, Slatan Dudow, 1932\\n\\nLA PREMIERE GUERRE MONDIALE \\r\\nOtto Dix est célèbre pour ses représentations très expressives des violences de la guerre. Il n’est pas anodin que cette exposition soit le fruit d’un projet franco-allemand, cent ans après la fin d’un conflit qui opposa de 1914 à 1918 la France et l’Allemagne ainsi que leurs alliés. Les combats et leurs conséquences firent dans le monde près de 18 millions de morts, dont la moitié de civils, sans compter les invalides de guerre, les veuves, les orphelins et les destructions matérielles. Le Maroc, protectorat français depuis 1912, ne fut pas épargné par le conflit. Le royaume dut contribuer à l’effort de guerre, en termes de ressources matérielles mais aussi d’hommes. 40 000 marocains furent envoyés sur les champs de bataille français et dans les Balkans. Un quart d’entre eux n’en revinrent pas.\\n\\n\\nL’ALLEMAGNE DES ANNEES 1920 \\r\\nAprès la défaite, la République est proclamée en 1918. L’histoire de ce régime démocratique, qui prendra fin avec l’arrivée d’Hitler au pouvoir en 1933, est marquée par de nombreux conflits politiques et sociaux et par des crises économiques sans précédent. Mais cette époque est aussi propice aux expériences. Les libertés instaurées par la Constitution favorisent l’émergence dans les métropoles de courants artistiques novateurs, En observateur fabuleux de son temps, Dix plonge pendant ces « Années folles » dans les bas-fonds de Berlin, de Dresde ou de Düsseldorf pour saisir à travers des portraits sans concession l’âme humaine.\\n\\r\\nDes livres électroniques sur Otto Dix sont disponibles en allemand dans la bibliothèque en ligne du Goethe-Institut:\\n\\r\\n\"Otto Dix - der unerschrockene Blick\" d\\'Olaf Peters, Reclam, 2013\\r\\n\"Otto Dix\" d\\'Uwe M. Schneede, C.H.Beck, 2019\\n\\r\\nInscription gratuite sur Onleihe\\nRetour',\n",
       "  'Goethe Institut'),\n",
       " ('AUDIO GUIDE DE L’EXPOSITION  « OTTO DIX – GRAVURES DES ANNÉES 1920 »',\n",
       "  '26.09.2019 - 18.10.2019',\n",
       "  '',\n",
       "  '//www.goethe.de/resources/files/jpg855/otto-dix-web-formatkey-jpg-default.jpg',\n",
       "  'https://www.goethe.de/ins/ma/fr/ver.cfm?fuseaction=events.detail&event_id=21661881',\n",
       "  'Sommaire de l’audio guide « Otto Dix » (durée totale : 20 minutes)\\r\\n\\r\\n\\r\\n\\n\\n\\n\\n\\n\\n\\n\\n\\n\\n\\n\\n\\n\\n\\r\\nLe Goethe-Institut Marokko et l’Institut français de Tanger présentent à la Galerie Delacroix à Tanger une exposition de l’ifa, consacrée à l’artiste allemand Otto Dix (1891 - 1969) : EXPOSITION OTTO DIX. GRAVURES DES ANNEES 1920 \\n\\n\\n\\n\\n© Katrin Peters-Klaphake \\n\\n\\r\\n\\t\\tAfin de rendre les œuvres plus accessibles au public et de permettre à ceux qui ne peuvent pas faire le déplacement à Tanger de découvrir l’univers d’Otto Dix, le Goethe-Institut Marokko a demandé à l’historienne de l’art Katrin Peters-Klaphake de concevoir une visite sonore de l’exposition.\\n\\n\\n\\n\\n\\n\\n\\n\\n\\n© Fatima Zahra El Azzouzi \\n\\n\\r\\n\\t\\tLe texte, conçu en français, est lu par Fatima-Zohra El Azzouzi, étudiante à l’ISADAC et a été enregistré avec l’aimable support du studio de la radio allemande ARD à Rabat.\\n\\r\\nTéléchargez gratuitement les fichiers MP3. Vous pouvez écouter la visite sur n’importe quel appareil lisant le format MP3.\\r\\nPar ailleurs une brochure explicative est à télécharger en format PDF \\n\\nici\\n\\r\\n\\xa0\\r\\nProgramme autour de l’exposition « Otto Dix » \\n\\r\\n-Vernissage : Jeudi 26 septembre, 19h30, Galerie Delacroix, Tanger\\r\\n- Vendredi 27 septembre, 19h, Introduction à l’exposition par Katrin Peters-Klaphake, historienne de l’art.\\r\\n- Vendredi 18 octobre, 17h : Finissage en collaboration avec « Atelier Kissaria »\\nRetour',\n",
       "  'Goethe Institut'),\n",
       " ('«La Loi fondamentale en calligraphie»',\n",
       "  '07.10.2019 - 22.11.2019',\n",
       "  '',\n",
       "  '//www.goethe.de/resources/files/jpg854/web_neu-formatkey-jpg-default.jpg',\n",
       "  'https://www.goethe.de/ins/ma/fr/ver.cfm?fuseaction=events.detail&event_id=21658762',\n",
       "  'Exposition d’affiches à l’occasion du 70eme anniversaire de la Loi fondamentale (constitution) de la République fédérale d’Allemagne.\\r\\nCalligraphie : Ahmed Darwish.\\n\\r\\nAhmed Sayed Hassan Darwish, né le 15.03.1954, a étudié les études arabes à l\\'Université Al-Azhar, Département d\\'histoire et civilisation. Il a travaillé comme inspecteur général de l\\'histoire dans les écoles azharites. Aujourd\\'hui, il est professeur de calligraphie aux facultés d\\'art de l\\'Université d\\'Helwan et d\\'Al-Azhar. Depuis 1973, il a participé à plusieurs expositions. Par exemple l\\'exposition pour l\\'anniversaire \"Mille ans d\\'Al-Azhar\" 1973, la célébration des 60 ans de l\\'atelier du Caire 2016, \"Loi fondamentale de la République fédérale d\\'Allemagne\" au Caire 2016 et Leipzig 2017, \"Exposition Martin Luther\" (réforme religieuse), dans l\\'église protestante au Caire 2016 et à Wittenberg 2017.\\r\\n\\xa0 \\n\\t\\t\\t\\t\\t\\tRetour',\n",
       "  'Goethe Institut'),\n",
       " ('Escale Rbatia',\n",
       "  '15.10.2019 - 16.10.2019',\n",
       "  '20h00',\n",
       "  '//www.goethe.de/resources/files/jpg858/web2-formatkey-jpg-default.jpg',\n",
       "  'https://www.goethe.de/ins/ma/fr/ver.cfm?fuseaction=events.detail&event_id=21672163',\n",
       "  \"Dans le cadre du festival de danse LES RENCONTRES CHOREGRAPHIQUES DE CASABLANCA #5 \\n\\t\\t\\t\\t\\n\\t\\t\\t\\tLe Goethe-Institut Marokko est partenaire de ce festival qui présente plusieurs facettes de la danse contemporaine à  Rabat et à  Casablanca.\\n\\r\\nInitié par la  compagnie Col’Jam, le festival  Rencontres Chorégraphiques de Casablanca avec son  Escale Rbatia présente pour sa 5ème édition des productions marocaines, tunisiennes, sénégalaises, françaises, roumaines. Le programme complet est disponible sur le site de Col Jam.\\n\\r\\nPROGRAMME\\nMardi 15 octobre\\n17 h, Place Pietri \\nBURQA ET BASMA - Work in Progress\\r\\nConcept: Radu Dinulescu (Roumanie)\\r\\nDanse: Denisa Blag– Carmen Bulancea, Camelia Strat Blidar, Raul Hotcas, Ahlam El Morsli, Wajdi Gagui, Ester Lozano Torne, Yasmina Chouaib\\r\\nLumière: Sabrer Gagui (Tunisie). Vidéo et scénographie: Armand Richelet-Kleinberg (Belgique). Coproduction: Teatrul Municipal Baia Mare et Col’jam. Financé par l’Organisation Internationale de La Francophonie (OIF). Partenaires : Association Atelier 92, La Fédération des Œuvres Laïques (FOL), Cité de la Culture de Tunis\\n\\n20 h, Goethe-Institut Rabat\\nDANS LE VENT- Cie Hna-Ya (Kénitra, Maroc) – Duo\\r\\nChorégraphie et danse : Said El Haddaji et Manon de Matauco\\r\\n\\n\\t\\n\\n\\n\\n\\n20h45, Goethe-Institut Rabat\\nNAWAT - Cie Arabesque (Meknès, Maroc) \\r\\nChorégraphie et danse : Bouchra Bouchama, Houssine Oumoulid\\r\\nDirection artistique : Juliette Feuerbach\\n\\n\\nMercredi 16 octobre\\n17 h, Place Pietri \\nKAYEN, Cie Col Jam (Casablanca, Maroc) \\r\\nChorégraphie : Wajdi Gagui.\\r\\nDanse : Ester Lozano Torné, Soufiane Naym, Chakib Yemlahi, Faouzi Mrani, Wajdi Gagui\\r\\n\\n\\t\\n\\nKAYEN - Cie Col'Jam from Col'jam on Vimeo.\\n\\n\\n\\n\\n\\n© Compagnies en Lacets \\n\\n\\n\\n\\n\\n\\n\\n\\n\\n\\n\\n\\n20 h, Goethe-Institut Rabat\\nKAARO - Rencontre entre la culture mahorique et la danse contemporaine (France / Mayotte) \\r\\nChorégraphie et danse: Maud Marquet & Jeff Ridjali. Danse : Maud Marquet, Jeff Ridjali et Damien Guillemin\\r\\n\\n\\t\\n\\n\\n\\n\\n20h45, Goethe-Institut Rabat\\nCONTRAINTE - Cie DIAGN@RT (Dakar, Sénégal) \\r\\nChorégraphie et danse: BAMBA DIAGNE\\r\\nEn partenariat avec „Arabesques“ (Meknès) \\n\\t\\t\\t\\t\\t\\tRetour\",\n",
       "  'Goethe Institut'),\n",
       " ('Livre du mois d‘octobre ',\n",
       "  '31.10.2019',\n",
       "  '17h00 - 18h00',\n",
       "  '//www.goethe.de/resources/files/jpg853/web-formatkey-jpg-default.jpg',\n",
       "  'https://www.goethe.de/ins/ma/fr/ver.cfm?fuseaction=events.detail&event_id=21655429',\n",
       "  'John Kendrick Bangs et Barbara Jelin „Das Wassergespenst von Harrowby Hall“\\n\\t\\t\\t\\t\\n\\t\\t\\t\\tCe mois-ci, l’équipe de la bibliothèque vous présente la bande dessinée de John Kendrick Bangs et Barbara Jelin „Das Wassergespenst von Harrowby Hall“. La description très humoristique de la façon de se débarrasser d’un fantôme aquatique, par John Kendrick Bangs, connaît ici une nouvelle vie (et mort) grâce à Barbara Yelin.\\r\\nL’atmosphère est délicieusement british, le style esquissé aussi élusif et beau que le fantôme et les couleurs employées aussi fortes que l’élément de l’eau lui-même. (Source : Carlsen Verlag).\\r\\nDes formats numériques sont utilisés lors de cette manifestation. \\n\\t\\t\\t\\t\\t\\tRetour',\n",
       "  'Goethe Institut')]"
      ]
     },
     "execution_count": 24,
     "metadata": {},
     "output_type": "execute_result"
    }
   ],
   "source": [
    "prog"
   ]
  },
  {
   "cell_type": "markdown",
   "metadata": {},
   "source": [
    "### Convertir en objet pandas"
   ]
  },
  {
   "cell_type": "code",
   "execution_count": 25,
   "metadata": {},
   "outputs": [],
   "source": [
    "import pandas as pd"
   ]
  },
  {
   "cell_type": "code",
   "execution_count": 26,
   "metadata": {},
   "outputs": [],
   "source": [
    "df = pd.DataFrame(prog,columns=['noms','date','heure','image','lien','description','lieu'])"
   ]
  },
  {
   "cell_type": "code",
   "execution_count": 27,
   "metadata": {},
   "outputs": [
    {
     "data": {
      "text/html": [
       "<div>\n",
       "<style>\n",
       "    .dataframe thead tr:only-child th {\n",
       "        text-align: right;\n",
       "    }\n",
       "\n",
       "    .dataframe thead th {\n",
       "        text-align: left;\n",
       "    }\n",
       "\n",
       "    .dataframe tbody tr th {\n",
       "        vertical-align: top;\n",
       "    }\n",
       "</style>\n",
       "<table border=\"1\" class=\"dataframe\">\n",
       "  <thead>\n",
       "    <tr style=\"text-align: right;\">\n",
       "      <th></th>\n",
       "      <th>noms</th>\n",
       "      <th>date</th>\n",
       "      <th>heure</th>\n",
       "      <th>image</th>\n",
       "      <th>lien</th>\n",
       "      <th>description</th>\n",
       "      <th>lieu</th>\n",
       "    </tr>\n",
       "  </thead>\n",
       "  <tbody>\n",
       "    <tr>\n",
       "      <th>0</th>\n",
       "      <td>OTTO DIX. Gravures des années 1920</td>\n",
       "      <td>26.09.2019 - 18.10.2019</td>\n",
       "      <td></td>\n",
       "      <td>//www.goethe.de/resources/files/jpg849/web_1-f...</td>\n",
       "      <td>https://www.goethe.de/ins/ma/fr/ver.cfm?fuseac...</td>\n",
       "      <td>Critique sociale, estampes 1920-1924 – « La Gu...</td>\n",
       "      <td>Goethe Institut</td>\n",
       "    </tr>\n",
       "    <tr>\n",
       "      <th>1</th>\n",
       "      <td>AUDIO GUIDE DE L’EXPOSITION  « OTTO DIX – GRAV...</td>\n",
       "      <td>26.09.2019 - 18.10.2019</td>\n",
       "      <td></td>\n",
       "      <td>//www.goethe.de/resources/files/jpg855/otto-di...</td>\n",
       "      <td>https://www.goethe.de/ins/ma/fr/ver.cfm?fuseac...</td>\n",
       "      <td>Sommaire de l’audio guide « Otto Dix » (durée ...</td>\n",
       "      <td>Goethe Institut</td>\n",
       "    </tr>\n",
       "    <tr>\n",
       "      <th>2</th>\n",
       "      <td>«La Loi fondamentale en calligraphie»</td>\n",
       "      <td>07.10.2019 - 22.11.2019</td>\n",
       "      <td></td>\n",
       "      <td>//www.goethe.de/resources/files/jpg854/web_neu...</td>\n",
       "      <td>https://www.goethe.de/ins/ma/fr/ver.cfm?fuseac...</td>\n",
       "      <td>Exposition d’affiches à l’occasion du 70eme an...</td>\n",
       "      <td>Goethe Institut</td>\n",
       "    </tr>\n",
       "    <tr>\n",
       "      <th>3</th>\n",
       "      <td>Escale Rbatia</td>\n",
       "      <td>15.10.2019 - 16.10.2019</td>\n",
       "      <td>20h00</td>\n",
       "      <td>//www.goethe.de/resources/files/jpg858/web2-fo...</td>\n",
       "      <td>https://www.goethe.de/ins/ma/fr/ver.cfm?fuseac...</td>\n",
       "      <td>Dans le cadre du festival de danse LES RENCONT...</td>\n",
       "      <td>Goethe Institut</td>\n",
       "    </tr>\n",
       "    <tr>\n",
       "      <th>4</th>\n",
       "      <td>Livre du mois d‘octobre</td>\n",
       "      <td>31.10.2019</td>\n",
       "      <td>17h00 - 18h00</td>\n",
       "      <td>//www.goethe.de/resources/files/jpg853/web-for...</td>\n",
       "      <td>https://www.goethe.de/ins/ma/fr/ver.cfm?fuseac...</td>\n",
       "      <td>John Kendrick Bangs et Barbara Jelin „Das Wass...</td>\n",
       "      <td>Goethe Institut</td>\n",
       "    </tr>\n",
       "  </tbody>\n",
       "</table>\n",
       "</div>"
      ],
      "text/plain": [
       "                                                noms                     date  \\\n",
       "0                OTTO DIX. Gravures des années 1920   26.09.2019 - 18.10.2019   \n",
       "1  AUDIO GUIDE DE L’EXPOSITION  « OTTO DIX – GRAV...  26.09.2019 - 18.10.2019   \n",
       "2              «La Loi fondamentale en calligraphie»  07.10.2019 - 22.11.2019   \n",
       "3                                      Escale Rbatia  15.10.2019 - 16.10.2019   \n",
       "4                           Livre du mois d‘octobre                31.10.2019   \n",
       "\n",
       "           heure                                              image  \\\n",
       "0                 //www.goethe.de/resources/files/jpg849/web_1-f...   \n",
       "1                 //www.goethe.de/resources/files/jpg855/otto-di...   \n",
       "2                 //www.goethe.de/resources/files/jpg854/web_neu...   \n",
       "3          20h00  //www.goethe.de/resources/files/jpg858/web2-fo...   \n",
       "4  17h00 - 18h00  //www.goethe.de/resources/files/jpg853/web-for...   \n",
       "\n",
       "                                                lien  \\\n",
       "0  https://www.goethe.de/ins/ma/fr/ver.cfm?fuseac...   \n",
       "1  https://www.goethe.de/ins/ma/fr/ver.cfm?fuseac...   \n",
       "2  https://www.goethe.de/ins/ma/fr/ver.cfm?fuseac...   \n",
       "3  https://www.goethe.de/ins/ma/fr/ver.cfm?fuseac...   \n",
       "4  https://www.goethe.de/ins/ma/fr/ver.cfm?fuseac...   \n",
       "\n",
       "                                         description             lieu  \n",
       "0  Critique sociale, estampes 1920-1924 – « La Gu...  Goethe Institut  \n",
       "1  Sommaire de l’audio guide « Otto Dix » (durée ...  Goethe Institut  \n",
       "2  Exposition d’affiches à l’occasion du 70eme an...  Goethe Institut  \n",
       "3  Dans le cadre du festival de danse LES RENCONT...  Goethe Institut  \n",
       "4  John Kendrick Bangs et Barbara Jelin „Das Wass...  Goethe Institut  "
      ]
     },
     "execution_count": 27,
     "metadata": {},
     "output_type": "execute_result"
    }
   ],
   "source": [
    "df"
   ]
  },
  {
   "cell_type": "markdown",
   "metadata": {},
   "source": [
    "### Exporter en JSON"
   ]
  },
  {
   "cell_type": "code",
   "execution_count": 28,
   "metadata": {},
   "outputs": [],
   "source": [
    "import pickle"
   ]
  },
  {
   "cell_type": "code",
   "execution_count": 29,
   "metadata": {},
   "outputs": [
    {
     "name": "stdout",
     "output_type": "stream",
     "text": [
      "File pickled\n"
     ]
    }
   ],
   "source": [
    "pickle_out = open(\"goethe.pickle\",\"wb\")\n",
    "pickle.dump(prog,pickle_out)\n",
    "pickle_out.close()\n",
    "\n",
    "print(\"File pickled\")"
   ]
  },
  {
   "cell_type": "code",
   "execution_count": null,
   "metadata": {},
   "outputs": [],
   "source": []
  },
  {
   "cell_type": "code",
   "execution_count": null,
   "metadata": {},
   "outputs": [],
   "source": []
  },
  {
   "cell_type": "code",
   "execution_count": null,
   "metadata": {},
   "outputs": [],
   "source": []
  },
  {
   "cell_type": "code",
   "execution_count": null,
   "metadata": {},
   "outputs": [],
   "source": []
  },
  {
   "cell_type": "code",
   "execution_count": null,
   "metadata": {},
   "outputs": [],
   "source": []
  }
 ],
 "metadata": {
  "kernelspec": {
   "display_name": "Python 3",
   "language": "python",
   "name": "python3"
  },
  "language_info": {
   "codemirror_mode": {
    "name": "ipython",
    "version": 3
   },
   "file_extension": ".py",
   "mimetype": "text/x-python",
   "name": "python",
   "nbconvert_exporter": "python",
   "pygments_lexer": "ipython3",
   "version": "3.6.1"
  }
 },
 "nbformat": 4,
 "nbformat_minor": 2
}
