{
 "cells": [
  {
   "cell_type": "markdown",
   "metadata": {},
   "source": [
    "# Scraping évènements culturels Goethe"
   ]
  },
  {
   "cell_type": "code",
   "execution_count": 1,
   "metadata": {},
   "outputs": [
    {
     "data": {
      "text/plain": [
       "<Response [200]>"
      ]
     },
     "execution_count": 1,
     "metadata": {},
     "output_type": "execute_result"
    }
   ],
   "source": [
    "import requests\n",
    "\n",
    "url = 'https://www.goethe.de/ins/ma/fr/ver.cfm?location_IDtxt=9274'\n",
    "response = requests.get(url)\n",
    "response"
   ]
  },
  {
   "cell_type": "code",
   "execution_count": 2,
   "metadata": {},
   "outputs": [
    {
     "name": "stdout",
     "output_type": "stream",
     "text": [
      "\n",
      "\n",
      "\n",
      "\n",
      "<!DOCTYPE html>\n",
      "<html lang=\"fr\">\n",
      "\t\n",
      "\n",
      "\t<head>\n",
      "\t\t<meta charset=\"utf-8\" />\n",
      "\n",
      "\t\t\n",
      "\t\t<meta http-equiv=\"l\n"
     ]
    }
   ],
   "source": [
    "print(response.text[:100])"
   ]
  },
  {
   "cell_type": "code",
   "execution_count": 3,
   "metadata": {},
   "outputs": [
    {
     "data": {
      "text/plain": [
       "bs4.BeautifulSoup"
      ]
     },
     "execution_count": 3,
     "metadata": {},
     "output_type": "execute_result"
    }
   ],
   "source": [
    "from bs4 import BeautifulSoup\n",
    "\n",
    "soup = BeautifulSoup(response.text,'html.parser')\n",
    "type(soup)"
   ]
  },
  {
   "cell_type": "code",
   "execution_count": 4,
   "metadata": {},
   "outputs": [],
   "source": [
    "veranstaltung = soup.find(\"ul\",class_=\"veranstaltungsListe\")"
   ]
  },
  {
   "cell_type": "markdown",
   "metadata": {},
   "source": [
    "## Récupérer les dates "
   ]
  },
  {
   "cell_type": "code",
   "execution_count": 11,
   "metadata": {},
   "outputs": [],
   "source": [
    "datums = veranstaltung.find_all('div',class_='datum')"
   ]
  },
  {
   "cell_type": "code",
   "execution_count": 12,
   "metadata": {},
   "outputs": [
    {
     "data": {
      "text/plain": [
       "[<div class=\"datum\">\n",
       " <h5 title=\"23.09.2019\">\n",
       " \t\t\t\t\t\t\t\t\t23.09.\n",
       " \t\t\t\t\t\t\t\t</h5>\n",
       " <span class=\"eventEnde\">\n",
       " \t\t\t\t\t\t\t\t\t- 27.09.2019\n",
       " \t\t\t\t\t\t\t\t\t</span>\n",
       " </div>, <div class=\"datum\">\n",
       " <h5 title=\"25.09.2019\">\n",
       " \t\t\t\t\t\t\t\t\t25.09.\n",
       " \t\t\t\t\t\t\t\t</h5>\n",
       " </div>, <div class=\"datum\">\n",
       " <h5 title=\"26.09.2019\">\n",
       " \t\t\t\t\t\t\t\t\t26.09.\n",
       " \t\t\t\t\t\t\t\t</h5>\n",
       " <span class=\"eventEnde\">\n",
       " \t\t\t\t\t\t\t\t\t- 18.10.2019\n",
       " \t\t\t\t\t\t\t\t\t</span>\n",
       " </div>, <div class=\"datum\">\n",
       " <h5 title=\"27.09.2019\">\n",
       " \t\t\t\t\t\t\t\t\t27.09.\n",
       " \t\t\t\t\t\t\t\t</h5>\n",
       " </div>, <div class=\"datum\">\n",
       " <h5 title=\"31.10.2019\">\n",
       " \t\t\t\t\t\t\t\t\t31.10.\n",
       " \t\t\t\t\t\t\t\t</h5>\n",
       " </div>]"
      ]
     },
     "execution_count": 12,
     "metadata": {},
     "output_type": "execute_result"
    }
   ],
   "source": [
    "datums"
   ]
  },
  {
   "cell_type": "code",
   "execution_count": 26,
   "metadata": {},
   "outputs": [
    {
     "data": {
      "text/plain": [
       "5"
      ]
     },
     "execution_count": 26,
     "metadata": {},
     "output_type": "execute_result"
    }
   ],
   "source": [
    "len(datums)"
   ]
  },
  {
   "cell_type": "code",
   "execution_count": 33,
   "metadata": {},
   "outputs": [],
   "source": [
    "dates = []\n",
    "\n",
    "for i in datums:\n",
    "    d = \"\"\n",
    "    d = d+(i.find('h5')['title'])\n",
    "        \n",
    "    if i.find('span') is not None:\n",
    "        d = d +\" \"+(i.find('span').text).strip()\n",
    "       \n",
    "        \n",
    "    dates.append(d)"
   ]
  },
  {
   "cell_type": "code",
   "execution_count": 34,
   "metadata": {},
   "outputs": [
    {
     "data": {
      "text/plain": [
       "['23.09.2019 - 27.09.2019',\n",
       " '25.09.2019',\n",
       " '26.09.2019 - 18.10.2019',\n",
       " '27.09.2019',\n",
       " '31.10.2019']"
      ]
     },
     "execution_count": 34,
     "metadata": {},
     "output_type": "execute_result"
    }
   ],
   "source": [
    "dates"
   ]
  },
  {
   "cell_type": "markdown",
   "metadata": {},
   "source": [
    "## Récupérer les liens "
   ]
  },
  {
   "cell_type": "code",
   "execution_count": 35,
   "metadata": {},
   "outputs": [],
   "source": [
    "links = veranstaltung.find_all('div',class_=\"event\")"
   ]
  },
  {
   "cell_type": "code",
   "execution_count": 42,
   "metadata": {},
   "outputs": [
    {
     "name": "stdout",
     "output_type": "stream",
     "text": [
      "/ins/ma/fr/ver.cfm?fuseaction=events.detail&event_id=21643484\n",
      "/ins/ma/fr/ver.cfm?fuseaction=events.detail&event_id=21643454\n",
      "/ins/ma/fr/ver.cfm?fuseaction=events.detail&event_id=21645174\n",
      "/ins/ma/fr/ver.cfm?fuseaction=events.detail&event_id=21654827\n",
      "/ins/ma/fr/ver.cfm?fuseaction=events.detail&event_id=21655429\n"
     ]
    }
   ],
   "source": [
    "liens = []\n",
    "for i in links:\n",
    "    print(i.find('a')['href'])\n",
    "    liens.append(\"https://www.goethe.de\"+(i.find('a')['href']))"
   ]
  },
  {
   "cell_type": "code",
   "execution_count": 44,
   "metadata": {},
   "outputs": [
    {
     "name": "stdout",
     "output_type": "stream",
     "text": [
      "https://www.goethe.de/ins/ma/fr/ver.cfm?fuseaction=events.detail&event_id=21643484\n",
      "https://www.goethe.de/ins/ma/fr/ver.cfm?fuseaction=events.detail&event_id=21643454\n",
      "https://www.goethe.de/ins/ma/fr/ver.cfm?fuseaction=events.detail&event_id=21645174\n",
      "https://www.goethe.de/ins/ma/fr/ver.cfm?fuseaction=events.detail&event_id=21654827\n",
      "https://www.goethe.de/ins/ma/fr/ver.cfm?fuseaction=events.detail&event_id=21655429\n"
     ]
    }
   ],
   "source": [
    "for i in liens:\n",
    "    print(i)"
   ]
  },
  {
   "cell_type": "code",
   "execution_count": null,
   "metadata": {},
   "outputs": [],
   "source": []
  }
 ],
 "metadata": {
  "kernelspec": {
   "display_name": "Python 3",
   "language": "python",
   "name": "python3"
  },
  "language_info": {
   "codemirror_mode": {
    "name": "ipython",
    "version": 3
   },
   "file_extension": ".py",
   "mimetype": "text/x-python",
   "name": "python",
   "nbconvert_exporter": "python",
   "pygments_lexer": "ipython3",
   "version": "3.6.1"
  }
 },
 "nbformat": 4,
 "nbformat_minor": 2
}
