{
 "cells": [
  {
   "cell_type": "markdown",
   "metadata": {},
   "source": [
    "# Scraping évènements Rabat"
   ]
  },
  {
   "cell_type": "code",
   "execution_count": 1,
   "metadata": {},
   "outputs": [],
   "source": [
    "import requests"
   ]
  },
  {
   "cell_type": "code",
   "execution_count": 2,
   "metadata": {},
   "outputs": [
    {
     "data": {
      "text/plain": [
       "<Response [200]>"
      ]
     },
     "execution_count": 2,
     "metadata": {},
     "output_type": "execute_result"
    }
   ],
   "source": [
    "url = 'https://www.ticket.ma/events/search?q=rabat'\n",
    "response = requests.get(url)\n",
    "response"
   ]
  },
  {
   "cell_type": "code",
   "execution_count": 3,
   "metadata": {},
   "outputs": [
    {
     "name": "stdout",
     "output_type": "stream",
     "text": [
      "<html xmlns=\"//www.w3.org/1999/xhtml\">\n",
      "\t<head>\n",
      "\t    <meta property=\"fb:app_id\" content=\"273870459404\n"
     ]
    }
   ],
   "source": [
    "print(response.text[:100])"
   ]
  },
  {
   "cell_type": "code",
   "execution_count": 4,
   "metadata": {},
   "outputs": [
    {
     "data": {
      "text/plain": [
       "bs4.BeautifulSoup"
      ]
     },
     "execution_count": 4,
     "metadata": {},
     "output_type": "execute_result"
    }
   ],
   "source": [
    "from bs4 import BeautifulSoup\n",
    "\n",
    "soup = BeautifulSoup(response.text,'html.parser')\n",
    "type(soup)"
   ]
  },
  {
   "cell_type": "code",
   "execution_count": 5,
   "metadata": {},
   "outputs": [],
   "source": [
    "page_html = soup.find('div',{\"class\":\"home clearfix local-events\"})"
   ]
  },
  {
   "cell_type": "code",
   "execution_count": 6,
   "metadata": {},
   "outputs": [],
   "source": [
    "ul = page_html.find('ul',class_='clearfix')"
   ]
  },
  {
   "cell_type": "code",
   "execution_count": 7,
   "metadata": {},
   "outputs": [
    {
     "data": {
      "text/plain": [
       "<ul class=\"clearfix\">\n",
       "<li class=\"tfly-event-id- vevent\" id=\"event-2092\">\n",
       "<a class=\"data-link\" href=\"/event/concerts-de-musique-classique-piano-le-05-octobre-2019-el-jadida\">\n",
       "<img src=\"/upload/events/2092/original_205_16.png\"> </img></a>\n",
       "<div class=\"activity-tools\">\n",
       "<p>\n",
       "<a class=\"overlay-trigger\" href=\"/event/concerts-de-musique-classique-piano-le-05-octobre-2019-el-jadida\">Acheter</a>\n",
       "</p>\n",
       "<ul>\n",
       "<li><a class=\"activity-tools-facebook\" href=\"javascript:void(0);\" onclick=\"showBShareDialog('event-2092');return false\">Facebook</a></li>\n",
       "<li><a class=\"activity-tools-twitter\" href=\"https://twitter.com/intent/tweet?text=Concerts+de+musique+classique+%22Piano%22+El+Jadida&amp;url=https%3A%2F%2Fwww.ticket.ma%2Fevent%2Fconcerts-de-musique-classique-piano-le-05-octobre-2019-el-jadida&amp;via=ticket_ma\" target=\"_blank\">Twitter</a></li>\n",
       "</ul>\n",
       "</div>\n",
       "<h2 class=\"headliners summary\">\n",
       "<a class=\"overlay-trigger\" href=\"/event/concerts-de-musique-classique-piano-le-05-octobre-2019-el-jadida\">Concerts de musique classique \"Piano\" El Jadida </a>\n",
       "</h2>\n",
       "<p class=\"event-date\">\n",
       "\t\t\t\tLe samedi 05 octobre 2019 · 100 Dhs\t\t\t\n",
       "\t\t\t</p>\n",
       "<p class=\"venue location location_indicator\">\n",
       "<a href=\"/event/concerts-de-musique-classique-piano-le-05-octobre-2019-el-jadida\">Théâtre Afif - El Jadida</a><br/>\n",
       "</p>\n",
       "<div class=\"whos-going\" id=\"rsvp-event-2092\">\n",
       "<script>\n",
       "\t\t\t\t\t\tjQuery(document).ready(function($) {\n",
       "\t\t\t\t\t\t\t\t$('#rsvp-event-2092.whos-going').html('<img src=\"/img/fb-loader.gif\" alt=\"Loading...\" class=\"fb-loading\"/>');\n",
       "\n",
       "\t\t\t\t\t\t\t\tif(true || jQuery('#rsvp-event-2092 .fb-rsvp-modal-status-box').length == 0) {\n",
       "\t\t\t\t\t\t\t\t\n",
       "\n",
       "\t\t\t\t\t\tjQuery.get(\n",
       "\t\t\t\t\t\t\t'/events/fbajax',\n",
       "\t\t\t\t\t\t\t{\n",
       "\t\t\t\t\t\t\t\tfbEventID : '2092',\n",
       "\t\t\t\t\t\t\t\tfbNumberFaces : '6'\n",
       "\t\t\t\t\t\t\t},\n",
       "\t\t\t\t\t\t\tfunction( response ) {\n",
       "\t\t\t\t\t\t\t\tjQuery('#rsvp-event-2092.whos-going').html(response);\n",
       "\t\t\t\t\t\t\t\t//console.log(response);\n",
       "\t\t\t\t\t\t\t}\n",
       "\t\t\t\t\t\t);\n",
       "\t\t\t\t\t\t}\n",
       "\t\t\t\t\t\t}\n",
       "\t\t\t\t\t\t);\n",
       "\n",
       "\t\t\t\t\t</script>\n",
       "</div> <!--/.whos-going--></li>\n",
       "<li class=\"tfly-event-id- vevent\" id=\"event-2093\">\n",
       "<a class=\"data-link\" href=\"/event/concerts-de-musique-classique-piano-le-07-octobre-2019-casablanca\">\n",
       "<img src=\"/upload/events/2093/original_205_16.png\"> </img></a>\n",
       "<div class=\"activity-tools\">\n",
       "<p>\n",
       "<a class=\"overlay-trigger\" href=\"/event/concerts-de-musique-classique-piano-le-07-octobre-2019-casablanca\">Acheter</a>\n",
       "</p>\n",
       "<ul>\n",
       "<li><a class=\"activity-tools-facebook\" href=\"javascript:void(0);\" onclick=\"showBShareDialog('event-2093');return false\">Facebook</a></li>\n",
       "<li><a class=\"activity-tools-twitter\" href=\"https://twitter.com/intent/tweet?text=Concerts+de+musique+classique+%22Piano%22+Casablanca&amp;url=https%3A%2F%2Fwww.ticket.ma%2Fevent%2Fconcerts-de-musique-classique-piano-le-07-octobre-2019-casablanca&amp;via=ticket_ma\" target=\"_blank\">Twitter</a></li>\n",
       "</ul>\n",
       "</div>\n",
       "<h2 class=\"headliners summary\">\n",
       "<a class=\"overlay-trigger\" href=\"/event/concerts-de-musique-classique-piano-le-07-octobre-2019-casablanca\">Concerts de musique classique \"Piano\" Casablanca </a>\n",
       "</h2>\n",
       "<p class=\"event-date\">\n",
       "\t\t\t\tLe dimanche 06 octobre 2019 · 150 Dhs\t\t\t\n",
       "\t\t\t</p>\n",
       "<p class=\"venue location location_indicator\">\n",
       "<a href=\"/event/concerts-de-musique-classique-piano-le-07-octobre-2019-casablanca\">Théâtre Mohammed VI - Casablanca</a><br/>\n",
       "</p>\n",
       "<div class=\"whos-going\" id=\"rsvp-event-2093\">\n",
       "<script>\n",
       "\t\t\t\t\t\tjQuery(document).ready(function($) {\n",
       "\t\t\t\t\t\t\t\t$('#rsvp-event-2093.whos-going').html('<img src=\"/img/fb-loader.gif\" alt=\"Loading...\" class=\"fb-loading\"/>');\n",
       "\n",
       "\t\t\t\t\t\t\t\tif(true || jQuery('#rsvp-event-2093 .fb-rsvp-modal-status-box').length == 0) {\n",
       "\t\t\t\t\t\t\t\t\n",
       "\n",
       "\t\t\t\t\t\tjQuery.get(\n",
       "\t\t\t\t\t\t\t'/events/fbajax',\n",
       "\t\t\t\t\t\t\t{\n",
       "\t\t\t\t\t\t\t\tfbEventID : '2093',\n",
       "\t\t\t\t\t\t\t\tfbNumberFaces : '6'\n",
       "\t\t\t\t\t\t\t},\n",
       "\t\t\t\t\t\t\tfunction( response ) {\n",
       "\t\t\t\t\t\t\t\tjQuery('#rsvp-event-2093.whos-going').html(response);\n",
       "\t\t\t\t\t\t\t\t//console.log(response);\n",
       "\t\t\t\t\t\t\t}\n",
       "\t\t\t\t\t\t);\n",
       "\t\t\t\t\t\t}\n",
       "\t\t\t\t\t\t}\n",
       "\t\t\t\t\t\t);\n",
       "\n",
       "\t\t\t\t\t</script>\n",
       "</div> <!--/.whos-going--></li>\n",
       "<li class=\"tfly-event-id- vevent\" id=\"event-2094\">\n",
       "<a class=\"data-link\" href=\"/event/concerts-de-musique-classique-piano-le-07-octobre-2019-rabat\">\n",
       "<img src=\"/upload/events/2094/original_205_16.png\"> </img></a>\n",
       "<div class=\"activity-tools\">\n",
       "<p>\n",
       "<a class=\"overlay-trigger\" href=\"/event/concerts-de-musique-classique-piano-le-07-octobre-2019-rabat\">Acheter</a>\n",
       "</p>\n",
       "<ul>\n",
       "<li><a class=\"activity-tools-facebook\" href=\"javascript:void(0);\" onclick=\"showBShareDialog('event-2094');return false\">Facebook</a></li>\n",
       "<li><a class=\"activity-tools-twitter\" href=\"https://twitter.com/intent/tweet?text=Concerts+de+musique+classique+%22Piano%22+Rabat&amp;url=https%3A%2F%2Fwww.ticket.ma%2Fevent%2Fconcerts-de-musique-classique-piano-le-07-octobre-2019-rabat&amp;via=ticket_ma\" target=\"_blank\">Twitter</a></li>\n",
       "</ul>\n",
       "</div>\n",
       "<h2 class=\"headliners summary\">\n",
       "<a class=\"overlay-trigger\" href=\"/event/concerts-de-musique-classique-piano-le-07-octobre-2019-rabat\">Concerts de musique classique \"Piano\" Rabat </a>\n",
       "</h2>\n",
       "<p class=\"event-date\">\n",
       "\t\t\t\tLe lundi 07 octobre 2019 · 150 Dhs\t\t\t\n",
       "\t\t\t</p>\n",
       "<p class=\"venue location location_indicator\">\n",
       "<a href=\"/event/concerts-de-musique-classique-piano-le-07-octobre-2019-rabat\">Théâtre National Mohammed V - RABAT</a><br/>\n",
       "</p>\n",
       "<div class=\"whos-going\" id=\"rsvp-event-2094\">\n",
       "<script>\n",
       "\t\t\t\t\t\tjQuery(document).ready(function($) {\n",
       "\t\t\t\t\t\t\t\t$('#rsvp-event-2094.whos-going').html('<img src=\"/img/fb-loader.gif\" alt=\"Loading...\" class=\"fb-loading\"/>');\n",
       "\n",
       "\t\t\t\t\t\t\t\tif(true || jQuery('#rsvp-event-2094 .fb-rsvp-modal-status-box').length == 0) {\n",
       "\t\t\t\t\t\t\t\t\n",
       "\n",
       "\t\t\t\t\t\tjQuery.get(\n",
       "\t\t\t\t\t\t\t'/events/fbajax',\n",
       "\t\t\t\t\t\t\t{\n",
       "\t\t\t\t\t\t\t\tfbEventID : '2094',\n",
       "\t\t\t\t\t\t\t\tfbNumberFaces : '6'\n",
       "\t\t\t\t\t\t\t},\n",
       "\t\t\t\t\t\t\tfunction( response ) {\n",
       "\t\t\t\t\t\t\t\tjQuery('#rsvp-event-2094.whos-going').html(response);\n",
       "\t\t\t\t\t\t\t\t//console.log(response);\n",
       "\t\t\t\t\t\t\t}\n",
       "\t\t\t\t\t\t);\n",
       "\t\t\t\t\t\t}\n",
       "\t\t\t\t\t\t}\n",
       "\t\t\t\t\t\t);\n",
       "\n",
       "\t\t\t\t\t</script>\n",
       "</div> <!--/.whos-going--></li>\n",
       "<li class=\"tfly-event-id- vevent\" id=\"event-2067\">\n",
       "<a class=\"data-link\" href=\"/event/les-concerts-d-ouverture-le-11-octobre-a-theatre-national-med-v-rabat-a-20h30\">\n",
       "<img src=\"/upload/events/2067/original_205_8.png\"/> </a>\n",
       "<div class=\"activity-tools\">\n",
       "<p>\n",
       "<a class=\"overlay-trigger\" href=\"/event/les-concerts-d-ouverture-le-11-octobre-a-theatre-national-med-v-rabat-a-20h30\">Acheter</a>\n",
       "</p>\n",
       "<ul>\n",
       "<li><a class=\"activity-tools-facebook\" href=\"javascript:void(0);\" onclick=\"showBShareDialog('event-2067');return false\">Facebook</a></li>\n",
       "<li><a class=\"activity-tools-twitter\" href=\"https://twitter.com/intent/tweet?text=Les+Concerts+d%E2%80%99ouverture+Rabat&amp;url=https%3A%2F%2Fwww.ticket.ma%2Fevent%2Fles-concerts-d-ouverture-le-11-octobre-a-theatre-national-med-v-rabat-a-20h30&amp;via=ticket_ma\" target=\"_blank\">Twitter</a></li>\n",
       "</ul>\n",
       "</div>\n",
       "<h2 class=\"headliners summary\">\n",
       "<a class=\"overlay-trigger\" href=\"/event/les-concerts-d-ouverture-le-11-octobre-a-theatre-national-med-v-rabat-a-20h30\">Les Concerts d’ouverture Rabat </a>\n",
       "</h2>\n",
       "<p class=\"event-date\">\n",
       "\t\t\t\tLe vendredi 11 octobre 2019 · 50 Dhs\t\t\t\n",
       "\t\t\t</p>\n",
       "<p class=\"venue location location_indicator\">\n",
       "<a href=\"/event/les-concerts-d-ouverture-le-11-octobre-a-theatre-national-med-v-rabat-a-20h30\">Théâtre National Mohammed V - RABAT</a><br/>\n",
       "</p>\n",
       "<div class=\"whos-going\" id=\"rsvp-event-2067\">\n",
       "<script>\n",
       "\t\t\t\t\t\tjQuery(document).ready(function($) {\n",
       "\t\t\t\t\t\t\t\t$('#rsvp-event-2067.whos-going').html('<img src=\"/img/fb-loader.gif\" alt=\"Loading...\" class=\"fb-loading\"/>');\n",
       "\n",
       "\t\t\t\t\t\t\t\tif(true || jQuery('#rsvp-event-2067 .fb-rsvp-modal-status-box').length == 0) {\n",
       "\t\t\t\t\t\t\t\t\n",
       "\n",
       "\t\t\t\t\t\tjQuery.get(\n",
       "\t\t\t\t\t\t\t'/events/fbajax',\n",
       "\t\t\t\t\t\t\t{\n",
       "\t\t\t\t\t\t\t\tfbEventID : '2067',\n",
       "\t\t\t\t\t\t\t\tfbNumberFaces : '6'\n",
       "\t\t\t\t\t\t\t},\n",
       "\t\t\t\t\t\t\tfunction( response ) {\n",
       "\t\t\t\t\t\t\t\tjQuery('#rsvp-event-2067.whos-going').html(response);\n",
       "\t\t\t\t\t\t\t\t//console.log(response);\n",
       "\t\t\t\t\t\t\t}\n",
       "\t\t\t\t\t\t);\n",
       "\t\t\t\t\t\t}\n",
       "\t\t\t\t\t\t}\n",
       "\t\t\t\t\t\t);\n",
       "\n",
       "\t\t\t\t\t</script>\n",
       "</div> <!--/.whos-going--></li>\n",
       "<li class=\"tfly-event-id- vevent\" id=\"event-2101\">\n",
       "<a class=\"data-link\" href=\"/event/jalil-tijani-jeux-de-societe-le-11-octobre-2019-au-studio-des-arts-vivants\">\n",
       "<img src=\"/upload/events/2101/original_205_17.png\"/> </a>\n",
       "<div class=\"activity-tools\">\n",
       "<p>\n",
       "<a class=\"overlay-trigger\" href=\"/event/jalil-tijani-jeux-de-societe-le-11-octobre-2019-au-studio-des-arts-vivants\">Acheter</a>\n",
       "</p>\n",
       "<ul>\n",
       "<li><a class=\"activity-tools-facebook\" href=\"javascript:void(0);\" onclick=\"showBShareDialog('event-2101');return false\">Facebook</a></li>\n",
       "<li><a class=\"activity-tools-twitter\" href=\"https://twitter.com/intent/tweet?text=Jalil+Tijani+%C2%AB++Jeux+de+soci%C3%A9t%C3%A9+%C2%BB&amp;url=https%3A%2F%2Fwww.ticket.ma%2Fevent%2Fjalil-tijani-jeux-de-societe-le-11-octobre-2019-au-studio-des-arts-vivants&amp;via=ticket_ma\" target=\"_blank\">Twitter</a></li>\n",
       "</ul>\n",
       "</div>\n",
       "<h2 class=\"headliners summary\">\n",
       "<a class=\"overlay-trigger\" href=\"/event/jalil-tijani-jeux-de-societe-le-11-octobre-2019-au-studio-des-arts-vivants\">Jalil Tijani «  Jeux de société » </a>\n",
       "</h2>\n",
       "<p class=\"event-date\">\n",
       "\t\t\t\tLe vendredi 11 octobre 2019 · 200 Dhs\t\t\t\n",
       "\t\t\t</p>\n",
       "<p class=\"venue location location_indicator\">\n",
       "<a href=\"/event/jalil-tijani-jeux-de-societe-le-11-octobre-2019-au-studio-des-arts-vivants\">Studio des arts vivants - Casablanca</a><br/>\n",
       "</p>\n",
       "<div class=\"whos-going\" id=\"rsvp-event-2101\">\n",
       "<script>\n",
       "\t\t\t\t\t\tjQuery(document).ready(function($) {\n",
       "\t\t\t\t\t\t\t\t$('#rsvp-event-2101.whos-going').html('<img src=\"/img/fb-loader.gif\" alt=\"Loading...\" class=\"fb-loading\"/>');\n",
       "\n",
       "\t\t\t\t\t\t\t\tif(true || jQuery('#rsvp-event-2101 .fb-rsvp-modal-status-box').length == 0) {\n",
       "\t\t\t\t\t\t\t\t\n",
       "\n",
       "\t\t\t\t\t\tjQuery.get(\n",
       "\t\t\t\t\t\t\t'/events/fbajax',\n",
       "\t\t\t\t\t\t\t{\n",
       "\t\t\t\t\t\t\t\tfbEventID : '2101',\n",
       "\t\t\t\t\t\t\t\tfbNumberFaces : '6'\n",
       "\t\t\t\t\t\t\t},\n",
       "\t\t\t\t\t\t\tfunction( response ) {\n",
       "\t\t\t\t\t\t\t\tjQuery('#rsvp-event-2101.whos-going').html(response);\n",
       "\t\t\t\t\t\t\t\t//console.log(response);\n",
       "\t\t\t\t\t\t\t}\n",
       "\t\t\t\t\t\t);\n",
       "\t\t\t\t\t\t}\n",
       "\t\t\t\t\t\t}\n",
       "\t\t\t\t\t\t);\n",
       "\n",
       "\t\t\t\t\t</script>\n",
       "</div> <!--/.whos-going--></li>\n",
       "<li class=\"tfly-event-id- vevent\" id=\"event-2102\">\n",
       "<a class=\"data-link\" href=\"/event/jalil-tijani-jeux-de-societe-le-12-octobre-2019-au-studio-des-arts-vivants\">\n",
       "<img src=\"/upload/events/2102/original_JALIL_TICKEt_smill.jpg\"/> </a>\n",
       "<div class=\"activity-tools\">\n",
       "<p>\n",
       "<a class=\"overlay-trigger\" href=\"/event/jalil-tijani-jeux-de-societe-le-12-octobre-2019-au-studio-des-arts-vivants\">Acheter</a>\n",
       "</p>\n",
       "<ul>\n",
       "<li><a class=\"activity-tools-facebook\" href=\"javascript:void(0);\" onclick=\"showBShareDialog('event-2102');return false\">Facebook</a></li>\n",
       "<li><a class=\"activity-tools-twitter\" href=\"https://twitter.com/intent/tweet?text=Jalil+Tijani+%C2%AB+Jeux+de+soci%C3%A9t%C3%A9+%C2%BB+&amp;url=https%3A%2F%2Fwww.ticket.ma%2Fevent%2Fjalil-tijani-jeux-de-societe-le-12-octobre-2019-au-studio-des-arts-vivants&amp;via=ticket_ma\" target=\"_blank\">Twitter</a></li>\n",
       "</ul>\n",
       "</div>\n",
       "<h2 class=\"headliners summary\">\n",
       "<a class=\"overlay-trigger\" href=\"/event/jalil-tijani-jeux-de-societe-le-12-octobre-2019-au-studio-des-arts-vivants\">Jalil Tijani « Jeux de société »  </a>\n",
       "</h2>\n",
       "<p class=\"event-date\">\n",
       "\t\t\t\tLe samedi 12 octobre 2019 · 200 Dhs\t\t\t\n",
       "\t\t\t</p>\n",
       "<p class=\"venue location location_indicator\">\n",
       "<a href=\"/event/jalil-tijani-jeux-de-societe-le-12-octobre-2019-au-studio-des-arts-vivants\">Studio des arts vivants - Casablanca</a><br/>\n",
       "</p>\n",
       "<div class=\"whos-going\" id=\"rsvp-event-2102\">\n",
       "<script>\n",
       "\t\t\t\t\t\tjQuery(document).ready(function($) {\n",
       "\t\t\t\t\t\t\t\t$('#rsvp-event-2102.whos-going').html('<img src=\"/img/fb-loader.gif\" alt=\"Loading...\" class=\"fb-loading\"/>');\n",
       "\n",
       "\t\t\t\t\t\t\t\tif(true || jQuery('#rsvp-event-2102 .fb-rsvp-modal-status-box').length == 0) {\n",
       "\t\t\t\t\t\t\t\t\n",
       "\n",
       "\t\t\t\t\t\tjQuery.get(\n",
       "\t\t\t\t\t\t\t'/events/fbajax',\n",
       "\t\t\t\t\t\t\t{\n",
       "\t\t\t\t\t\t\t\tfbEventID : '2102',\n",
       "\t\t\t\t\t\t\t\tfbNumberFaces : '6'\n",
       "\t\t\t\t\t\t\t},\n",
       "\t\t\t\t\t\t\tfunction( response ) {\n",
       "\t\t\t\t\t\t\t\tjQuery('#rsvp-event-2102.whos-going').html(response);\n",
       "\t\t\t\t\t\t\t\t//console.log(response);\n",
       "\t\t\t\t\t\t\t}\n",
       "\t\t\t\t\t\t);\n",
       "\t\t\t\t\t\t}\n",
       "\t\t\t\t\t\t}\n",
       "\t\t\t\t\t\t);\n",
       "\n",
       "\t\t\t\t\t</script>\n",
       "</div> <!--/.whos-going--></li>\n",
       "<li class=\"tfly-event-id- vevent\" id=\"event-2090\">\n",
       "<a class=\"data-link\" href=\"/event/sahara-music-festival-du-18-au-20-octobre-a-merzouga\">\n",
       "<img src=\"/upload/events/2090/original_205.png\"/> </a>\n",
       "<div class=\"activity-tools\">\n",
       "<p>\n",
       "<a class=\"overlay-trigger\" href=\"/event/sahara-music-festival-du-18-au-20-octobre-a-merzouga\">Acheter</a>\n",
       "</p>\n",
       "<ul>\n",
       "<li><a class=\"activity-tools-facebook\" href=\"javascript:void(0);\" onclick=\"showBShareDialog('event-2090');return false\">Facebook</a></li>\n",
       "<li><a class=\"activity-tools-twitter\" href=\"https://twitter.com/intent/tweet?text=Sahara+Music+Festival+&amp;url=https%3A%2F%2Fwww.ticket.ma%2Fevent%2Fsahara-music-festival-du-18-au-20-octobre-a-merzouga&amp;via=ticket_ma\" target=\"_blank\">Twitter</a></li>\n",
       "</ul>\n",
       "</div>\n",
       "<h2 class=\"headliners summary\">\n",
       "<a class=\"overlay-trigger\" href=\"/event/sahara-music-festival-du-18-au-20-octobre-a-merzouga\">Sahara Music Festival  </a>\n",
       "</h2>\n",
       "<p class=\"event-date\">\n",
       "\t\t\t\tLe vendredi 18 octobre 2019 · 1000 Dhs\t\t\t\n",
       "\t\t\t</p>\n",
       "<p class=\"venue location location_indicator\">\n",
       "<a href=\"/event/sahara-music-festival-du-18-au-20-octobre-a-merzouga\">Merzouga - </a><br/>\n",
       "</p>\n",
       "<div class=\"whos-going\" id=\"rsvp-event-2090\">\n",
       "<script>\n",
       "\t\t\t\t\t\tjQuery(document).ready(function($) {\n",
       "\t\t\t\t\t\t\t\t$('#rsvp-event-2090.whos-going').html('<img src=\"/img/fb-loader.gif\" alt=\"Loading...\" class=\"fb-loading\"/>');\n",
       "\n",
       "\t\t\t\t\t\t\t\tif(true || jQuery('#rsvp-event-2090 .fb-rsvp-modal-status-box').length == 0) {\n",
       "\t\t\t\t\t\t\t\t\n",
       "\n",
       "\t\t\t\t\t\tjQuery.get(\n",
       "\t\t\t\t\t\t\t'/events/fbajax',\n",
       "\t\t\t\t\t\t\t{\n",
       "\t\t\t\t\t\t\t\tfbEventID : '2090',\n",
       "\t\t\t\t\t\t\t\tfbNumberFaces : '6'\n",
       "\t\t\t\t\t\t\t},\n",
       "\t\t\t\t\t\t\tfunction( response ) {\n",
       "\t\t\t\t\t\t\t\tjQuery('#rsvp-event-2090.whos-going').html(response);\n",
       "\t\t\t\t\t\t\t\t//console.log(response);\n",
       "\t\t\t\t\t\t\t}\n",
       "\t\t\t\t\t\t);\n",
       "\t\t\t\t\t\t}\n",
       "\t\t\t\t\t\t}\n",
       "\t\t\t\t\t\t);\n",
       "\n",
       "\t\t\t\t\t</script>\n",
       "</div> <!--/.whos-going--></li>\n",
       "<li class=\"tfly-event-id- vevent\" id=\"event-2111\">\n",
       "<a class=\"data-link\" href=\"/event/le-defile-de-mode-dar-maalma-le-29-novembre-2019-au-theatre-national-mohamed-v\">\n",
       "<img src=\"/upload/events/2111/original_205_23.png\"/> </a>\n",
       "<div class=\"activity-tools\">\n",
       "<p>\n",
       "<a class=\"overlay-trigger\" href=\"/event/le-defile-de-mode-dar-maalma-le-29-novembre-2019-au-theatre-national-mohamed-v\">Acheter</a>\n",
       "</p>\n",
       "<ul>\n",
       "<li><a class=\"activity-tools-facebook\" href=\"javascript:void(0);\" onclick=\"showBShareDialog('event-2111');return false\">Facebook</a></li>\n",
       "<li><a class=\"activity-tools-twitter\" href=\"https://twitter.com/intent/tweet?text=Le+D%C3%A9fil%C3%A9+Caftan+Dar+Maalma+en+cloture+du+congres&amp;url=https%3A%2F%2Fwww.ticket.ma%2Fevent%2Fle-defile-de-mode-dar-maalma-le-29-novembre-2019-au-theatre-national-mohamed-v&amp;via=ticket_ma\" target=\"_blank\">Twitter</a></li>\n",
       "</ul>\n",
       "</div>\n",
       "<h2 class=\"headliners summary\">\n",
       "<a class=\"overlay-trigger\" href=\"/event/le-defile-de-mode-dar-maalma-le-29-novembre-2019-au-theatre-national-mohamed-v\">Le Défilé Caftan Dar Maalma en cloture du congres </a>\n",
       "</h2>\n",
       "<p class=\"event-date\">\n",
       "\t\t\t\tLe vendredi 29 novembre 2019 · 350 Dhs\t\t\t\n",
       "\t\t\t</p>\n",
       "<p class=\"venue location location_indicator\">\n",
       "<a href=\"/event/le-defile-de-mode-dar-maalma-le-29-novembre-2019-au-theatre-national-mohamed-v\">Théâtre National Mohammed V - RABAT</a><br/>\n",
       "</p>\n",
       "<div class=\"whos-going\" id=\"rsvp-event-2111\">\n",
       "<script>\n",
       "\t\t\t\t\t\tjQuery(document).ready(function($) {\n",
       "\t\t\t\t\t\t\t\t$('#rsvp-event-2111.whos-going').html('<img src=\"/img/fb-loader.gif\" alt=\"Loading...\" class=\"fb-loading\"/>');\n",
       "\n",
       "\t\t\t\t\t\t\t\tif(true || jQuery('#rsvp-event-2111 .fb-rsvp-modal-status-box').length == 0) {\n",
       "\t\t\t\t\t\t\t\t\n",
       "\n",
       "\t\t\t\t\t\tjQuery.get(\n",
       "\t\t\t\t\t\t\t'/events/fbajax',\n",
       "\t\t\t\t\t\t\t{\n",
       "\t\t\t\t\t\t\t\tfbEventID : '2111',\n",
       "\t\t\t\t\t\t\t\tfbNumberFaces : '6'\n",
       "\t\t\t\t\t\t\t},\n",
       "\t\t\t\t\t\t\tfunction( response ) {\n",
       "\t\t\t\t\t\t\t\tjQuery('#rsvp-event-2111.whos-going').html(response);\n",
       "\t\t\t\t\t\t\t\t//console.log(response);\n",
       "\t\t\t\t\t\t\t}\n",
       "\t\t\t\t\t\t);\n",
       "\t\t\t\t\t\t}\n",
       "\t\t\t\t\t\t}\n",
       "\t\t\t\t\t\t);\n",
       "\n",
       "\t\t\t\t\t</script>\n",
       "</div> <!--/.whos-going--></li>\n",
       "</ul>"
      ]
     },
     "execution_count": 7,
     "metadata": {},
     "output_type": "execute_result"
    }
   ],
   "source": [
    "ul"
   ]
  },
  {
   "cell_type": "code",
   "execution_count": 8,
   "metadata": {},
   "outputs": [],
   "source": [
    "#\n",
    "events = ul.find_all('a',{\"class\":\"data-link\"})"
   ]
  },
  {
   "cell_type": "markdown",
   "metadata": {},
   "source": [
    "### Scraping des liens"
   ]
  },
  {
   "cell_type": "code",
   "execution_count": 9,
   "metadata": {},
   "outputs": [],
   "source": [
    "liens = []"
   ]
  },
  {
   "cell_type": "code",
   "execution_count": 10,
   "metadata": {},
   "outputs": [],
   "source": [
    "for a in events:\n",
    "    liens.append(\"https://www.ticket.ma\"+str(a['href']))    "
   ]
  },
  {
   "cell_type": "code",
   "execution_count": 11,
   "metadata": {},
   "outputs": [
    {
     "data": {
      "text/plain": [
       "['https://www.ticket.ma/event/concerts-de-musique-classique-piano-le-05-octobre-2019-el-jadida',\n",
       " 'https://www.ticket.ma/event/concerts-de-musique-classique-piano-le-07-octobre-2019-casablanca',\n",
       " 'https://www.ticket.ma/event/concerts-de-musique-classique-piano-le-07-octobre-2019-rabat',\n",
       " 'https://www.ticket.ma/event/les-concerts-d-ouverture-le-11-octobre-a-theatre-national-med-v-rabat-a-20h30',\n",
       " 'https://www.ticket.ma/event/jalil-tijani-jeux-de-societe-le-11-octobre-2019-au-studio-des-arts-vivants',\n",
       " 'https://www.ticket.ma/event/jalil-tijani-jeux-de-societe-le-12-octobre-2019-au-studio-des-arts-vivants',\n",
       " 'https://www.ticket.ma/event/sahara-music-festival-du-18-au-20-octobre-a-merzouga',\n",
       " 'https://www.ticket.ma/event/le-defile-de-mode-dar-maalma-le-29-novembre-2019-au-theatre-national-mohamed-v']"
      ]
     },
     "execution_count": 11,
     "metadata": {},
     "output_type": "execute_result"
    }
   ],
   "source": [
    "liens"
   ]
  },
  {
   "cell_type": "markdown",
   "metadata": {},
   "source": [
    "### Scraping des dates (format plus interessant sur la première page)\n"
   ]
  },
  {
   "cell_type": "code",
   "execution_count": 12,
   "metadata": {},
   "outputs": [],
   "source": [
    "d = []\n",
    "for i in page_html.find_all('p',{\"class\":\"event-date\"}):\n",
    "    d.append(i.get_text().replace(\"\\t\",\"\").replace(\"\\n\",\"\"))"
   ]
  },
  {
   "cell_type": "code",
   "execution_count": 13,
   "metadata": {},
   "outputs": [
    {
     "data": {
      "text/plain": [
       "['Le samedi 05 octobre 2019 · 100 Dhs',\n",
       " 'Le dimanche 06 octobre 2019 · 150 Dhs',\n",
       " 'Le lundi 07 octobre 2019 · 150 Dhs',\n",
       " 'Le vendredi 11 octobre 2019 · 50 Dhs',\n",
       " 'Le vendredi 11 octobre 2019 · 200 Dhs',\n",
       " 'Le samedi 12 octobre 2019 · 200 Dhs',\n",
       " 'Le vendredi 18 octobre 2019 · 1000 Dhs',\n",
       " 'Le vendredi 29 novembre 2019 · 350 Dhs']"
      ]
     },
     "execution_count": 13,
     "metadata": {},
     "output_type": "execute_result"
    }
   ],
   "source": [
    "d"
   ]
  },
  {
   "cell_type": "code",
   "execution_count": 14,
   "metadata": {},
   "outputs": [],
   "source": [
    "datez = []\n",
    "for i in d:\n",
    "    a,b = i.split('·')\n",
    "    datez.append(a.replace(\"Le\",\"\").strip())"
   ]
  },
  {
   "cell_type": "code",
   "execution_count": 15,
   "metadata": {
    "scrolled": true
   },
   "outputs": [
    {
     "data": {
      "text/plain": [
       "['samedi 05 octobre 2019',\n",
       " 'dimanche 06 octobre 2019',\n",
       " 'lundi 07 octobre 2019',\n",
       " 'vendredi 11 octobre 2019',\n",
       " 'vendredi 11 octobre 2019',\n",
       " 'samedi 12 octobre 2019',\n",
       " 'vendredi 18 octobre 2019',\n",
       " 'vendredi 29 novembre 2019']"
      ]
     },
     "execution_count": 15,
     "metadata": {},
     "output_type": "execute_result"
    }
   ],
   "source": [
    "datez"
   ]
  },
  {
   "cell_type": "code",
   "execution_count": null,
   "metadata": {},
   "outputs": [],
   "source": []
  },
  {
   "cell_type": "markdown",
   "metadata": {},
   "source": [
    "## Formater les dates pour le format (dd.mm.yyyy)"
   ]
  },
  {
   "cell_type": "markdown",
   "metadata": {},
   "source": [
    "### Fonction à utiliser"
   ]
  },
  {
   "cell_type": "code",
   "execution_count": 16,
   "metadata": {},
   "outputs": [],
   "source": [
    "import datetime\n",
    "import time \n",
    "import locale\n",
    "locale.setlocale(locale.LC_ALL,\"french\")\n",
    "from datetime import datetime\n",
    "\n",
    "def format_date(num_date):\n",
    "    #convertir en datetime object\n",
    "    date_obj = datetime.strptime(num_date,'%A %d %B %Y')\n",
    "    #formater \n",
    "    return date_obj.strftime('%d.%m.%Y')"
   ]
  },
  {
   "cell_type": "markdown",
   "metadata": {},
   "source": [
    "Modifier le format des dates"
   ]
  },
  {
   "cell_type": "code",
   "execution_count": 17,
   "metadata": {},
   "outputs": [
    {
     "name": "stdout",
     "output_type": "stream",
     "text": [
      "['05.10.2019', '06.10.2019', '07.10.2019', '11.10.2019', '11.10.2019', '12.10.2019', '18.10.2019', '29.11.2019']\n"
     ]
    }
   ],
   "source": [
    "datex = []\n",
    "for i in datez:\n",
    "    if \"-\" in i:\n",
    "        x = i.split(' - ')\n",
    "        print(x)\n",
    "        y = []\n",
    "        for j in x:\n",
    "            print(format_date(j))\n",
    "            y.append(format_date(j))\n",
    "        datex.append(y)\n",
    "    else:\n",
    "        datex.append(format_date(i))\n",
    "\n",
    "print(datex)"
   ]
  },
  {
   "cell_type": "code",
   "execution_count": 18,
   "metadata": {},
   "outputs": [
    {
     "name": "stdout",
     "output_type": "stream",
     "text": [
      "['05.10.2019', '06.10.2019', '07.10.2019', '11.10.2019', '11.10.2019', '12.10.2019', '18.10.2019', '29.11.2019']\n"
     ]
    }
   ],
   "source": [
    "dates = []\n",
    "for i in datex:\n",
    "    if len(i) >1 and type(i) ==list:\n",
    "        print(\" - \".join(i))\n",
    "        dates.append(\" - \".join(i))\n",
    "    else:\n",
    "        dates.append(i)\n",
    "\n",
    "print(dates)"
   ]
  },
  {
   "cell_type": "markdown",
   "metadata": {},
   "source": [
    "## Récupérer les données lien par lien"
   ]
  },
  {
   "cell_type": "code",
   "execution_count": 19,
   "metadata": {},
   "outputs": [],
   "source": [
    "from time import time\n",
    "from time import sleep\n",
    "from random import randint"
   ]
  },
  {
   "cell_type": "code",
   "execution_count": 20,
   "metadata": {},
   "outputs": [],
   "source": [
    "start_time = time()\n",
    "requests = 0"
   ]
  },
  {
   "cell_type": "code",
   "execution_count": 21,
   "metadata": {},
   "outputs": [],
   "source": [
    "from requests import get"
   ]
  },
  {
   "cell_type": "code",
   "execution_count": 22,
   "metadata": {},
   "outputs": [],
   "source": [
    "titres = []\n",
    "descs = []\n",
    "images = []\n",
    "heures = []\n",
    "places = []"
   ]
  },
  {
   "cell_type": "code",
   "execution_count": 23,
   "metadata": {},
   "outputs": [
    {
     "name": "stdout",
     "output_type": "stream",
     "text": [
      "https://www.ticket.ma/event/concerts-de-musique-classique-piano-le-05-octobre-2019-el-jadida\n",
      "14\n",
      "https://www.ticket.ma/event/concerts-de-musique-classique-piano-le-07-octobre-2019-casablanca\n",
      "11\n",
      "https://www.ticket.ma/event/concerts-de-musique-classique-piano-le-07-octobre-2019-rabat\n",
      "14\n",
      "https://www.ticket.ma/event/les-concerts-d-ouverture-le-11-octobre-a-theatre-national-med-v-rabat-a-20h30\n",
      "10\n",
      "https://www.ticket.ma/event/jalil-tijani-jeux-de-societe-le-11-octobre-2019-au-studio-des-arts-vivants\n",
      "9\n",
      "https://www.ticket.ma/event/jalil-tijani-jeux-de-societe-le-12-octobre-2019-au-studio-des-arts-vivants\n",
      "11\n",
      "https://www.ticket.ma/event/sahara-music-festival-du-18-au-20-octobre-a-merzouga\n",
      "10\n",
      "https://www.ticket.ma/event/le-defile-de-mode-dar-maalma-le-29-novembre-2019-au-theatre-national-mohamed-v\n",
      "12\n",
      "Done\n"
     ]
    }
   ],
   "source": [
    "for i in liens:\n",
    "    print(i)\n",
    "    response = get(i)\n",
    "    \n",
    "    timer = randint(8,15)\n",
    "    #pause de loop\n",
    "    print(timer)\n",
    "    sleep(timer)\n",
    "    \n",
    "    #renvoyer un warning pour les non 'status code : 200'\n",
    "    if response.status_code != 200:\n",
    "        warn('Request: {}; Status code: {}'.format(requests, response.status_code))\n",
    "            \n",
    "    #parser en BS\n",
    "    page_html = BeautifulSoup(response.text,'html.parser')\n",
    "    \n",
    "    \"\"\" Titres \"\"\"\n",
    "    title = page_html.find('div',class_='event-titles')\n",
    "    titres.append((title.text).strip())\n",
    "    \n",
    "    \"\"\" Descriptions \"\"\"\n",
    "    detail = page_html.find('div',class_='event-details')\n",
    "    descs.append((detail.find('div').text).strip())\n",
    "    \n",
    "    \"\"\" Images \"\"\"\n",
    "    img = page_html.find(id=\"artist-image\")\n",
    "    image = img.find('img')['src']\n",
    "    images.append(\"https://www.ticket.ma\"+str(image))\n",
    "    \n",
    "    \"\"\" Heures \"\"\"\n",
    "    if page_html.find('span',class_='start dtstart') is None:\n",
    "        h = \"n/c\"\n",
    "    else:\n",
    "        h = (page_html.find('span',class_='start dtstart')).text\n",
    "    heures.append(h[-5:])#extraire les derniers elements de la liste\n",
    "    \n",
    "    \"\"\" Places \"\"\"\n",
    "    place = page_html.find('a',class_='fancybox map-location')\n",
    "    places.append(place.text)\n",
    "    \n",
    "\n",
    "print(\"Done\")\n",
    "    "
   ]
  },
  {
   "cell_type": "code",
   "execution_count": 24,
   "metadata": {},
   "outputs": [
    {
     "data": {
      "text/plain": [
       "['https://www.ticket.ma/upload/events/2092/original_650_13.png',\n",
       " 'https://www.ticket.ma/upload/events/2093/original_650_13.png',\n",
       " 'https://www.ticket.ma/upload/events/2094/original_650_13.png',\n",
       " 'https://www.ticket.ma/upload/events/2067/original_650_8.png',\n",
       " 'https://www.ticket.ma/upload/events/2101/original_JALIL_TICKET_650x445_SDAV_DATE_1.jpg',\n",
       " 'https://www.ticket.ma/upload/events/2102/original_JALIL_TICKET_650x445_SDAV_DATE_2.jpg',\n",
       " 'https://www.ticket.ma/upload/events/2090/original_650.png',\n",
       " 'https://www.ticket.ma/upload/events/2111/original_650_17_39_34.png']"
      ]
     },
     "execution_count": 24,
     "metadata": {},
     "output_type": "execute_result"
    }
   ],
   "source": [
    "images"
   ]
  },
  {
   "cell_type": "markdown",
   "metadata": {},
   "source": [
    "## Tout regrouper en une liste"
   ]
  },
  {
   "cell_type": "code",
   "execution_count": 25,
   "metadata": {},
   "outputs": [],
   "source": [
    "prog = []\n",
    "for i,j,k,l,m,n,o in zip(titres,dates,heures,images,liens,descs,places):\n",
    "    #Ajouter le lieu\n",
    "    t = (i,j,k,l,m,n,o)\n",
    "    prog.append(t)"
   ]
  },
  {
   "cell_type": "code",
   "execution_count": 26,
   "metadata": {},
   "outputs": [
    {
     "data": {
      "text/plain": [
       "[('Concerts de musique classique \"Piano\" El Jadida\\n\\n\\t\\t\\t\\t\\t\\tAida Lahlou pianiste',\n",
       "  '05.10.2019',\n",
       "  '20h00',\n",
       "  'https://www.ticket.ma/upload/events/2092/original_650_13.png',\n",
       "  'https://www.ticket.ma/event/concerts-de-musique-classique-piano-le-05-octobre-2019-el-jadida',\n",
       "  'L’orchestre Symphonique Royal ouvre sa 11° saison artistique avec des œuvres de deux grands maîtres de la musique classique Allemande et la participation de la jeune et talentueuse pianiste marocaine Aida LAHLOU.\\nAu programme\\xa0: \\n-\\xa0 \"Concerto pour piano en la mineur, op.54 \" de Robert Schumann avec Aida LAHLOU au piano\\xa0\\n- \" Symphonie\\xa0n°1 en do mineur, op.68\" de Johannes Brahms.\\nAida Lahlou pianiste\\n\"Aïda Lahlou est une pianiste pleine d\\'imagination et de poésie, qui n\\'hésite pas à explorer couleurs, sonorités et contrechants.\"(Ateş Orga, Classical Source)\\nNée à Casablanca en 1998, Aïda Lahlou est l’un des talents pianistiques les plus prometteurs de sa génération. Aïda commence le piano à l’âge de 5 ans avec Yana Kaminska. Trois ans plus tard elle remporte son premier concours international. En 2013, elle est admise avec une bourse d’étude à la prestigieuse école Yehudi Menuhin en Angleterre (fondée en 1963 par le musicien lui même) et devient leur premier élève de nationalité Marocaine.\\nAïda a reçu de nombreux prix dans des concours nationaux et internationaux. Récemment elle reçut une Première Mention et trois prix spéciaux au Concours International de Piano Son Altesse Royale La Princesse Lalla Meryem (Maroc), et obtint un 2e Prix au Concours des Jeunes Interprètes de Musique Classique de Baku (Azerbaïdjan).\\nAïda s\\'est produite dans 9 pays différents, de l\\'Angleterre à l\\'Azerbaïdjan. Elle a joué dans des salles telles que le Wigmore Hall ou St James Piccadilly à Londres, The Royal Overseas League à Edinburgh, St John’s Church à Wimbledon, la salle BOZAR à Bruxelles, la salle Robert Samut à La Valette, le Centro Cultural San Carlos (Ibiza), le Théâtre National Mohamed V à Rabat, le Théâtre 121 à Casablanca, le Solitär de Salzburg ou l\\'Acropolium de Carthage. Récemment, Aïda joua le concerto de Mozart K415 avec l\\'orchestre Boyce Camerata (dir. Adam Heron)et collabora avec le chœur St John\\'s Voices (dir. Graham Walker) pour leur premier CD pour le label \"Naxos\". Dans ses futurs projets figurent une tournée de récitals en Angleterre ainsi qu’un concert pour le 250 e anniversaire de la naissance de Beethoven, où Aïda jouera le Concerto pour Piano et Orchestre no.3 en do mineur avec l’orchestre de la société musicale de St John’s College, Cambridge, dirigé par Matthew Gibson.\\nAïda a participé à des masterclasses de professeurs de renom tels que Roberte Mamou, Edith Fischer, Yoheved Kaplinsky, Lev Natochenny, Valery Piasetsky, Robert Levin et John Rink.\\nElle étudie actuellement à l\\'Université de Cambridge et poursuit ses études de piano en parallèle avec Caroline Palmer (Guildhall School of Music & Drama).\\nAïda remercie Talent Unlimited et St John\\'s College, Cambridge pour leur généreux soutien.',\n",
       "  'Théâtre Afif'),\n",
       " ('Concerts de musique classique \"Piano\" Casablanca\\n\\n\\t\\t\\t\\t\\t\\tAida Lahlou pianiste',\n",
       "  '06.10.2019',\n",
       "  '20h00',\n",
       "  'https://www.ticket.ma/upload/events/2093/original_650_13.png',\n",
       "  'https://www.ticket.ma/event/concerts-de-musique-classique-piano-le-07-octobre-2019-casablanca',\n",
       "  'L’orchestre Symphonique Royal ouvre sa 11° saison artistique avec des œuvres de deux grands maîtres de la musique classique Allemande et la participation de la jeune et talentueuse pianiste marocaine Aida LAHLOU.\\nAu programme\\xa0:\\n-\\xa0 \"Concerto pour piano en la mineur, op.54 \" de Robert Schumann avec Aida LAHLOU au piano\\xa0\\n- \" Symphonie\\xa0n°1 en do mineur, op.68\" de Johannes Brahms.\\nAida Lahlou pianiste\\n\"Aïda Lahlou est une pianiste pleine d\\'imagination et de poésie, qui n\\'hésite pas à explorer couleurs, sonorités et contrechants.\"(Ateş Orga, Classical Source)\\nNée à Casablanca en 1998, Aïda Lahlou est l’un des talents pianistiques les plus prometteurs de sa génération. Aïda commence le piano à l’âge de 5 ans avec Yana Kaminska. Trois ans plus tard elle remporte son premier concours international. En 2013, elle est admise avec une bourse d’étude à la prestigieuse école Yehudi Menuhin en Angleterre (fondée en 1963 par le musicien lui même) et devient leur premier élève de nationalité Marocaine.\\nAïda a reçu de nombreux prix dans des concours nationaux et internationaux. Récemment elle reçut une Première Mention et trois prix spéciaux au Concours International de Piano Son Altesse Royale La Princesse Lalla Meryem (Maroc), et obtint un 2e Prix au Concours des Jeunes Interprètes de Musique Classique de Baku (Azerbaïdjan).\\nAïda s\\'est produite dans 9 pays différents, de l\\'Angleterre à l\\'Azerbaïdjan. Elle a joué dans des salles telles que le Wigmore Hall ou St James Piccadilly à Londres, The Royal Overseas League à Edinburgh, St John’s Church à Wimbledon, la salle BOZAR à Bruxelles, la salle Robert Samut à La Valette, le Centro Cultural San Carlos (Ibiza), le Théâtre National Mohamed V à Rabat, le Théâtre 121 à Casablanca, le Solitär de Salzburg ou l\\'Acropolium de Carthage. Récemment, Aïda joua le concerto de Mozart K415 avec l\\'orchestre Boyce Camerata (dir. Adam Heron)et collabora avec le chœur St John\\'s Voices (dir. Graham Walker) pour leur premier CD pour le label \"Naxos\". Dans ses futurs projets figurent une tournée de récitals en Angleterre ainsi qu’un concert pour le 250 e anniversaire de la naissance de Beethoven, où Aïda jouera le Concerto pour Piano et Orchestre no.3 en do mineur avec l’orchestre de la société musicale de St John’s College, Cambridge, dirigé par Matthew Gibson.\\nAïda a participé à des masterclasses de professeurs de renom tels que Roberte Mamou, Edith Fischer, Yoheved Kaplinsky, Lev Natochenny, Valery Piasetsky, Robert Levin et John Rink.\\nElle étudie actuellement à l\\'Université de Cambridge et poursuit ses études de piano en parallèle avec Caroline Palmer (Guildhall School of Music & Drama).\\nAïda remercie Talent Unlimited et St John\\'s College, Cambridge pour leur généreux soutien.',\n",
       "  'Théâtre Mohammed VI'),\n",
       " ('Concerts de musique classique \"Piano\" Rabat\\n\\n\\t\\t\\t\\t\\t\\tAida Lahlou pianiste',\n",
       "  '07.10.2019',\n",
       "  '20h00',\n",
       "  'https://www.ticket.ma/upload/events/2094/original_650_13.png',\n",
       "  'https://www.ticket.ma/event/concerts-de-musique-classique-piano-le-07-octobre-2019-rabat',\n",
       "  'L’orchestre Symphonique Royal ouvre sa 11° saison artistique avec des œuvres de deux grands maîtres de la musique classique Allemande et la participation de la jeune et talentueuse pianiste marocaine Aida LAHLOU.\\nAu programme\\xa0:\\n-\\xa0 \"Concerto pour piano en la mineur, op.54 \" de Robert Schumann avec Aida LAHLOU au piano\\xa0\\n- \" Symphonie\\xa0n°1 en do mineur, op.68\" de Johannes Brahms.\\nAida Lahlou pianiste\\n\"Aïda Lahlou est une pianiste pleine d\\'imagination et de poésie, qui n\\'hésite pas à explorer couleurs, sonorités et contrechants.\"(Ateş Orga, Classical Source)\\nNée à Casablanca en 1998, Aïda Lahlou est l’un des talents pianistiques les plus prometteurs de sa génération. Aïda commence le piano à l’âge de 5 ans avec Yana Kaminska. Trois ans plus tard elle remporte son premier concours international. En 2013, elle est admise avec une bourse d’étude à la prestigieuse école Yehudi Menuhin en Angleterre (fondée en 1963 par le musicien lui même) et devient leur premier élève de nationalité Marocaine.\\nAïda a reçu de nombreux prix dans des concours nationaux et internationaux. Récemment elle reçut une Première Mention et trois prix spéciaux au Concours International de Piano Son Altesse Royale La Princesse Lalla Meryem (Maroc), et obtint un 2e Prix au Concours des Jeunes Interprètes de Musique Classique de Baku (Azerbaïdjan).\\nAïda s\\'est produite dans 9 pays différents, de l\\'Angleterre à l\\'Azerbaïdjan. Elle a joué dans des salles telles que le Wigmore Hall ou St James Piccadilly à Londres, The Royal Overseas League à Edinburgh, St John’s Church à Wimbledon, la salle BOZAR à Bruxelles, la salle Robert Samut à La Valette, le Centro Cultural San Carlos (Ibiza), le Théâtre National Mohamed V à Rabat, le Théâtre 121 à Casablanca, le Solitär de Salzburg ou l\\'Acropolium de Carthage. Récemment, Aïda joua le concerto de Mozart K415 avec l\\'orchestre Boyce Camerata (dir. Adam Heron)et collabora avec le chœur St John\\'s Voices (dir. Graham Walker) pour leur premier CD pour le label \"Naxos\". Dans ses futurs projets figurent une tournée de récitals en Angleterre ainsi qu’un concert pour le 250 e anniversaire de la naissance de Beethoven, où Aïda jouera le Concerto pour Piano et Orchestre no.3 en do mineur avec l’orchestre de la société musicale de St John’s College, Cambridge, dirigé par Matthew Gibson.\\nAïda a participé à des masterclasses de professeurs de renom tels que Roberte Mamou, Edith Fischer, Yoheved Kaplinsky, Lev Natochenny, Valery Piasetsky, Robert Levin et John Rink.\\nElle étudie actuellement à l\\'Université de Cambridge et poursuit ses études de piano en parallèle avec Caroline Palmer (Guildhall School of Music & Drama).\\nAïda remercie Talent Unlimited et St John\\'s College, Cambridge pour leur généreux soutien.',\n",
       "  'Théâtre National Mohammed V'),\n",
       " ('Les Concerts d’ouverture Rabat\\n\\n\\t\\t\\t\\t\\t\\tLes Religions à l’unisson',\n",
       "  '11.10.2019',\n",
       "  '20h30',\n",
       "  'https://www.ticket.ma/upload/events/2067/original_650_8.png',\n",
       "  'https://www.ticket.ma/event/les-concerts-d-ouverture-le-11-octobre-a-theatre-national-med-v-rabat-a-20h30',\n",
       "  'Pour la 4ème\\xa0année consécutive, les concerts d’ouverture de la saison de l’Orchestre Philharmonique du Maroc ont pour thème les Religions à l’unisson.\\xa0\\nDes artistes issus des trois grandes religions monothéistes partagent la même scène, prônant une image de tolérance, de paix, de dialogue et de respect entre leurs trois cultures.\\xa0\\nPremier concert de l’année, le concert d’ouverture est le plus complet de la saison :\\xa0\\nArtistiquement très riche, ce concert symphonique vous permet de découvrir ou redécouvrir les plus grandes symphonies du répertoire.\\xa0\\nCette année l’OPM s’attaque à une symphonie de taille :\\xa0la Symphonie n°5\\xa0de Gustav Mahler.\\xa0\\nAprès le grand succès de l’arrangement de l’Ave Maria\\xa0de Caccini fait par l’OPM, et joué devant\\xa0Sa Majesté le Roi Mohammed VI\\xa0et\\xa0Sa Sainteté le Pape François\\xa0en mars dernier, l’Orchestre Philharmonique du Maroc vous propose cette fois un arrangement de le l’Ave Maria\\xa0de Schubert,\\xa0mêlant\\xa0des chants en araméen, latin et arabe, en\\xa0symbole d’écoute, de dialogue et de partage\\xa0entre les trois grandes religions monothéistes.\\xa0\\nCette série sera dirigée par le conseiller artistique et premier chef invité de l’Orchestre Philharmonique du Maroc : le chef d’orchestre français\\xa0Olivier Holt.\\r\\n\\xa0\\nF. Shubert, Ave Maria arrangé par l’OPM\\nG.Mahlers, Symphonie nº 5\\xa0\\nOlivier Holt, direction\\r\\n\\xa0\\n\\n\\n\\nCatégories\\nPrix\\n\\n\\nCAT 1 = Orchestre\\n200 Dhs\\n\\n\\nCAT\\xa0 2 = Balcon 1\\n120 Dhs\\n\\n\\nCAT 3 = Balcon 2\\n90 Dhs\\n\\n\\nEtudiants = Balcon 2\\n50 Dhs',\n",
       "  'Théâtre National Mohammed V'),\n",
       " ('Jalil Tijani «  Jeux de société »',\n",
       "  '11.10.2019',\n",
       "  '21h00',\n",
       "  'https://www.ticket.ma/upload/events/2101/original_JALIL_TICKET_650x445_SDAV_DATE_1.jpg',\n",
       "  'https://www.ticket.ma/event/jalil-tijani-jeux-de-societe-le-11-octobre-2019-au-studio-des-arts-vivants',\n",
       "  \"Après une première tournée nationale et internationale à Casablanca, Rabat, Mohammedia, Fès, Paris, Bruxelles, Genève et Lyon, et un succès retentissant lors du Marrakech du Rire, Jalil Tijani et la kyrielle de personnages qu’il interprète s’apprêtent à reconquérir le public casablancais avec deux nouvelles dates qui se tiendront au Studio des Arts Vivants le 11 et 12 octobre 2019. La tournée de son spectacle « Jeux de société » se poursuivra ensuite au Megarama de Casablanca, puis à Marrakech, Meknès, Safi, Tanger, Kénitra et Paris.\\nUn fonctionnaire prêt à toutes les contorsions pour flatter son patron et obtenir une promotion, une bourgeoise coupée de la réalité et enfermée dans sa tour d'ivoire et de commérage, un chauffeur de taxi oscillant entre clichés et éclairs de génie...\\nDans\\xa0Jeux\\xa0de\\xa0Société,\\xa0Jalil\\xa0Tijani\\xa0dresse, à travers une galerie de personnages pleine d'esprit et de contradictions assumées, le portrait bienveillant et hilarant d'un Maroc dont l'identité évolue au gré des rencontres.\\n\\n\\xa0\\n\\n\\n\\nCatégories\\nPrix\\n\\n\\nOrchestre\\xa0\\n300 Dhs\\n\\n\\nBalcon\\n200 Dhs\",\n",
       "  'Studio des arts vivants'),\n",
       " ('Jalil Tijani « Jeux de société »',\n",
       "  '12.10.2019',\n",
       "  '21h00',\n",
       "  'https://www.ticket.ma/upload/events/2102/original_JALIL_TICKET_650x445_SDAV_DATE_2.jpg',\n",
       "  'https://www.ticket.ma/event/jalil-tijani-jeux-de-societe-le-12-octobre-2019-au-studio-des-arts-vivants',\n",
       "  \"Après une première tournée nationale et internationale à Casablanca, Rabat, Mohammedia, Fès, Paris, Bruxelles, Genève et Lyon, et un succès retentissant lors du Marrakech du Rire, Jalil Tijani et la kyrielle de personnages qu’il interprète s’apprêtent à reconquérir le public casablancais avec deux nouvelles dates qui se tiendront au Studio des Arts Vivants le 11 et 12 octobre 2019. La tournée de son spectacle « Jeux de société » se poursuivra ensuite au Megarama de Casablanca, puis à Marrakech, Meknès, Safi, Tanger, Kénitra et Paris.\\nUn fonctionnaire prêt à toutes les contorsions pour flatter son patron et obtenir une promotion, une bourgeoise coupée de la réalité et enfermée dans sa tour d'ivoire et de commérage, un chauffeur de taxi oscillant entre clichés et éclairs de génie...\\nDans\\xa0Jeux\\xa0de\\xa0Société,\\xa0Jalil\\xa0Tijani\\xa0dresse, à travers une galerie de personnages pleine d'esprit et de contradictions assumées, le portrait bienveillant et hilarant d'un Maroc dont l'identité évolue au gré des rencontres.\\n\\xa0\\n\\n\\n\\nCatégories\\nPrix\\n\\n\\nOrchestre\\xa0\\n300 Dhs\\n\\n\\nBalcon\\n200 Dhs\",\n",
       "  'Studio des arts vivants'),\n",
       " ('Sahara Music Festival',\n",
       "  '18.10.2019',\n",
       "  'n/c',\n",
       "  'https://www.ticket.ma/upload/events/2090/original_650.png',\n",
       "  'https://www.ticket.ma/event/sahara-music-festival-du-18-au-20-octobre-a-merzouga',\n",
       "  'Welcome to Sahara Music Festival by\\xa0MRC Trips En partenariat avec Sutter Events ( France ) & Technics Customisation Maroc.\\xa0 Les 18, 19 & 20 Octobre 2019.\\n\\r\\nThe Biggest Event of The Year in The Desert of Merzouga, Morocco.\\r\\n\\xa0\\nAU PROGRAMME :\\n\\r\\nFestival Day 1 & 2 : LINE UP / International & National\\n\\r\\n* International Dj Set :\\xa0Irenee S.\\xa0/ David Lee. \\xa0( France )\\r\\n* National Dj Set : Ot-Man / T-Mood / Joudar / Binop ( Morocco )\\r\\n* Gnawa Fire Camp Show.\\r\\n* Non-Stop Music …. & More Surprises.\\n* Desert Pool Party.\\r\\n* Desert Discovery Tour by 4x4.\\r\\n* Camel Ride.\\n\\nJeudi 17 Octobre\\xa0: Départ des Navettes.\\n\\r\\n22 h 00\\xa0: Départ depuis Casablanca.\\r\\n23 h 30\\xa0: Départ depuis Rabat.\\r\\n02 h 00 (J+1)\\xa0: Départ depuis Fez.\\xa0\\r\\n23 h 00\\xa0: Départ depuis Marrakech.\\n\\nVoyage de nuit à Destination de Erfoud La Porte du Désert.\\n\\nVendredi 18 Octobre\\xa0: Festival Day I\\xa0: Welcome to Merzouga Desert\\n\\r\\n10 h 00 – 12 h 00\\xa0: Arrivée des Navette à Erfoud.\\xa0\\r\\n/ Accueil des Participants à Hôtel Palm 4*.\\r\\n13 h 00\\xa0: Déjeuner à Hotel Palm 4*\\r\\n/ Continuation vers Merzouga Désert.\\r\\n/ Arrivée à Palmeras y Dunas, Auberge et Bivouac de Luxe à Merzouga.\\r\\n/ Thé de Bienvenue.\\r\\n/ Installation dans des Chambres Doubles ou Triples.\\n\\r\\n17 h 00\\xa0: Début des Festivités à la Scène Principale Face au Grand Désert dans un Cadre Unique et Privé Dédié à Sahara Music Festival.\\nLet the Party Begin\\r\\n- International Dj Set :\\xa0Irenee S.\\xa0/ David Lee.\\r\\n- National Dj Set : Ot-Man / T-Mood / Joudar / Binop.\\r\\n- Surprise Guests.\\r\\n21 h 00\\xa0: Diner à Palmeras y Dunas.\\n\\r\\nContinuation des Festivités /\\xa0 Dj Set\\r\\nNon-Stop Music ….\\r\\n\\xa0\\nSamedi 19 Octobre\\xa0: Festival Day II – Desert Discovery Tour – Camel Ride – Pool Party – Gnawa Fire Camp Show….\\nLever du Soleil à ne pas rater.\\r\\n07 h 30 – 09\\xa0 h 30\\xa0: Petit Déjeuner\\xa0\\n\\r\\nMatinée Activités\\xa0:\\n*10 h 00\\xa0: Rejoignez Le Desert Discovery Tour en 4x4 à la Découverte des Nomades / Panorama des Dune / Khamliya Village, une expérience magnifique à ne pas rater.\\r\\n* Remontez encore votre Adrénaline avec un Super Tour en Quad à vitesse\\xa0en plein désert.\\r\\n\\xa0\\r\\n13 h 00\\xa0: Déjeuner à Palmeras y Dunas\\xa0: la Medfouna au Menu.\\n\\r\\n15 h 00\\xa0: Desert Pool Party / Dj Set\\xa0/ Non Stop Music.\\n\\r\\n*\\xa0Balade à dos de Dromadaire pour assister au coucher de Soleil depuis les Dunes d’Or.\\n\\r\\n19 h 00\\xa0: Début des Festivités à la Scène principale.\\n\\r\\n- International Dj Set :\\xa0Irenee S.\\xa0/ David Lee.\\r\\n- National Dj Set : Ot-Man / T-Mood/ Joudar / Binop.\\r\\n- Surprise Guests.\\n\\r\\n21 h 00\\xa0: Diner à Palmeras y Dunas.\\r\\n/ Gnawa Fire Camp Show.\\n\\r\\n/ Continuation des Festivités / Non-Stop Music à la Scène Principale.\\n\\nDimanche 20 Octobre\\xa0: \\xa0Retour à la Maison.\\n\\r\\n- Départ du Désert en début de matinée après le petit déjeuner.\\r\\n- Arrivée à Marrakech, Fès, Casablanca & Rabat dans la soirée avec plein de souvenirs et d’Energie positive.\\nEvénement privé limité à 150 personnes, uniquement sur réservation.\\r\\n\\xa0\\nPack I\\xa0: Full Board Package\\xa0: 2200 Dhs par personne\\xa0!!\\xa0( Réservez votre Ticket en payant 1200 Dhs sur le site et le reste sur place !! )\\xa0\\n\\r\\n- Transport aller-retour depuis Rabat / Casablanca / Fès / Marrakech.\\r\\n- Ticket for Sahara Music Festival.\\r\\n- Hébergement En Chambres Doubles ou Triples à Palmeras y Dunas Merzouga.\\r\\n- Pension Complète durant Le Festival\\xa0:\\r\\n* Déjeuner à Palm Hotel Erfoud.\\r\\n* Diner à Palmeras y Dunas Merzouga.\\r\\n* Petit Déjeuner à Palmeras y Dunas.\\r\\n* Déjeuner à Palmeras y Dunas Merzouga.\\r\\n* Diner à Palmeras y Dunas Merzouga.\\r\\n* Petit Déjeuner à Palmeras y Dunas.\\n\\r\\n- Hébergement En Chambres Doubles ou Triples à Palmeras y Dunas Merzouga.\\r\\n- Ticket for Sahara Music Festival.\\n\\r\\n=============================\\nPack II\\xa0: Full Board Package\\xa0sans transport : 1800 Dhs par personne\\xa0!!\\xa0\\xa0( Réservez votre Ticket en payant 1000 Dhs sur le site et le reste sur place\\xa0!! )\\xa0\\xa0\\n\\r\\n- Ticket for Sahara Music Festival.\\r\\n- Hébergement En Chambres Doubles ou Triples à Palmeras y Dunas Merzouga.\\r\\n- Pension Complète durant Le Festival\\xa0:\\r\\n* Déjeuner à Palm Hotel Erfoud.\\r\\n* Diner à Palmeras y Dunas Merzouga.\\r\\n* Petit Déjeuner à Palmeras y Dunas.\\r\\n* Déjeuner à Palmeras y Dunas Merzouga.\\r\\n* Diner à Palmeras y Dunas Merzouga.\\r\\n* Petit Déjeuner à Palmeras y Dunas.\\n=============================\\nNon Inclus / A Réserver à l’avance en contactant MRC Trips juste après achat du Ticket :\\n\\r\\n* Desert Discovery Tour by 4x4 à base de 6 personne par véhicule : 150 Dhs par personne\\r\\n* Tour en Quad\\xa0pour 1 heure\\xa0:\\xa0600 Dhs pour 2 personne / 400 Dhs pour une personne\\r\\n* Balade en Dromadaire\\xa0: 100 Dhs par personne\\r\\n\\xa0\\n\\n\\n\\nCatégories\\nPrix du package\\xa0\\nMontant à payer sur Ticket.ma\\n\\n\\n\\nFull Board Package (reste à payer sur place)\\n\\n2 200 Dhs\\n1 200 Dhs\\n\\n\\n\\nFull Board Package sans transport\\xa0\\xa0(reste à payer sur place)\\n\\n1 800 Dhs\\n1 000 Dhs',\n",
       "  'Merzouga'),\n",
       " ('Le Défilé Caftan Dar Maalma en cloture du congres\\n\\n\\t\\t\\t\\t\\t\\tDéfilé de mode africain',\n",
       "  '29.11.2019',\n",
       "  '18h00',\n",
       "  'https://www.ticket.ma/upload/events/2111/original_650_17_39_34.png',\n",
       "  'https://www.ticket.ma/event/le-defile-de-mode-dar-maalma-le-29-novembre-2019-au-theatre-national-mohamed-v',\n",
       "  'Le Défilé Caftan Dar Maalma est à sa troisième édition. Il devient cette année un défilé continental. Il fait monter sur le Podium des femmes créatrices de mode, talentueuses mais qui n’ont pas l’occasion l’opportunité laeur propre défilé ou participer aux « fashion week ».\\nLe Défilé Caftan Dar Maalma est conçu et encadré par le talentueux jeune prodige de la mode Eric TIBUSCH – de la Maison Haute couture Eric TIBUSCH PARIS Animé par : animé par les artistes Kader Yomba Condé, Chadi RAHAL et une troupe marocaine.\\nDate : le 29 novembre 2019, en clôture du de la 11e DAR MAALMA EXPO et du CONGRES DES FEMMES ARTISANES AFRICAINES, à partir de 18h\\nLieu : monument historique du Théâtre Mohammed V à Rabat.\\nParticipantes : 12 créatrices de mode africaines.\\n– Chaque créateur présentera cinq tenues sélectionnées par un comité présidé par le créateur Eric Tibusch.\\n\\xa0\\n\\n\\n\\nCatégories\\nPrix\\n\\n\\nTicket\\n350 Dhs\\n\\n\\nCarnet de 10 Tickets\\n3000 Dhs',\n",
       "  'Théâtre National Mohammed V')]"
      ]
     },
     "execution_count": 26,
     "metadata": {},
     "output_type": "execute_result"
    }
   ],
   "source": [
    "prog"
   ]
  },
  {
   "cell_type": "markdown",
   "metadata": {},
   "source": [
    "### Convertir en objet pandas"
   ]
  },
  {
   "cell_type": "code",
   "execution_count": 27,
   "metadata": {},
   "outputs": [],
   "source": [
    "import pandas as pd"
   ]
  },
  {
   "cell_type": "code",
   "execution_count": 28,
   "metadata": {},
   "outputs": [],
   "source": [
    "df = pd.DataFrame(prog,columns=['noms','date','heure','image','lien','description','lieu'])"
   ]
  },
  {
   "cell_type": "code",
   "execution_count": 29,
   "metadata": {},
   "outputs": [
    {
     "data": {
      "text/html": [
       "<div>\n",
       "<style>\n",
       "    .dataframe thead tr:only-child th {\n",
       "        text-align: right;\n",
       "    }\n",
       "\n",
       "    .dataframe thead th {\n",
       "        text-align: left;\n",
       "    }\n",
       "\n",
       "    .dataframe tbody tr th {\n",
       "        vertical-align: top;\n",
       "    }\n",
       "</style>\n",
       "<table border=\"1\" class=\"dataframe\">\n",
       "  <thead>\n",
       "    <tr style=\"text-align: right;\">\n",
       "      <th></th>\n",
       "      <th>noms</th>\n",
       "      <th>date</th>\n",
       "      <th>heure</th>\n",
       "      <th>image</th>\n",
       "      <th>lien</th>\n",
       "      <th>description</th>\n",
       "      <th>lieu</th>\n",
       "    </tr>\n",
       "  </thead>\n",
       "  <tbody>\n",
       "    <tr>\n",
       "      <th>0</th>\n",
       "      <td>Concerts de musique classique \"Piano\" El Jadid...</td>\n",
       "      <td>05.10.2019</td>\n",
       "      <td>20h00</td>\n",
       "      <td>https://www.ticket.ma/upload/events/2092/origi...</td>\n",
       "      <td>https://www.ticket.ma/event/concerts-de-musiqu...</td>\n",
       "      <td>L’orchestre Symphonique Royal ouvre sa 11° sai...</td>\n",
       "      <td>Théâtre Afif</td>\n",
       "    </tr>\n",
       "    <tr>\n",
       "      <th>1</th>\n",
       "      <td>Concerts de musique classique \"Piano\" Casablan...</td>\n",
       "      <td>06.10.2019</td>\n",
       "      <td>20h00</td>\n",
       "      <td>https://www.ticket.ma/upload/events/2093/origi...</td>\n",
       "      <td>https://www.ticket.ma/event/concerts-de-musiqu...</td>\n",
       "      <td>L’orchestre Symphonique Royal ouvre sa 11° sai...</td>\n",
       "      <td>Théâtre Mohammed VI</td>\n",
       "    </tr>\n",
       "    <tr>\n",
       "      <th>2</th>\n",
       "      <td>Concerts de musique classique \"Piano\" Rabat\\n\\...</td>\n",
       "      <td>07.10.2019</td>\n",
       "      <td>20h00</td>\n",
       "      <td>https://www.ticket.ma/upload/events/2094/origi...</td>\n",
       "      <td>https://www.ticket.ma/event/concerts-de-musiqu...</td>\n",
       "      <td>L’orchestre Symphonique Royal ouvre sa 11° sai...</td>\n",
       "      <td>Théâtre National Mohammed V</td>\n",
       "    </tr>\n",
       "    <tr>\n",
       "      <th>3</th>\n",
       "      <td>Les Concerts d’ouverture Rabat\\n\\n\\t\\t\\t\\t\\t\\t...</td>\n",
       "      <td>11.10.2019</td>\n",
       "      <td>20h30</td>\n",
       "      <td>https://www.ticket.ma/upload/events/2067/origi...</td>\n",
       "      <td>https://www.ticket.ma/event/les-concerts-d-ouv...</td>\n",
       "      <td>Pour la 4ème année consécutive, les concerts d...</td>\n",
       "      <td>Théâtre National Mohammed V</td>\n",
       "    </tr>\n",
       "    <tr>\n",
       "      <th>4</th>\n",
       "      <td>Jalil Tijani «  Jeux de société »</td>\n",
       "      <td>11.10.2019</td>\n",
       "      <td>21h00</td>\n",
       "      <td>https://www.ticket.ma/upload/events/2101/origi...</td>\n",
       "      <td>https://www.ticket.ma/event/jalil-tijani-jeux-...</td>\n",
       "      <td>Après une première tournée nationale et intern...</td>\n",
       "      <td>Studio des arts vivants</td>\n",
       "    </tr>\n",
       "    <tr>\n",
       "      <th>5</th>\n",
       "      <td>Jalil Tijani « Jeux de société »</td>\n",
       "      <td>12.10.2019</td>\n",
       "      <td>21h00</td>\n",
       "      <td>https://www.ticket.ma/upload/events/2102/origi...</td>\n",
       "      <td>https://www.ticket.ma/event/jalil-tijani-jeux-...</td>\n",
       "      <td>Après une première tournée nationale et intern...</td>\n",
       "      <td>Studio des arts vivants</td>\n",
       "    </tr>\n",
       "    <tr>\n",
       "      <th>6</th>\n",
       "      <td>Sahara Music Festival</td>\n",
       "      <td>18.10.2019</td>\n",
       "      <td>n/c</td>\n",
       "      <td>https://www.ticket.ma/upload/events/2090/origi...</td>\n",
       "      <td>https://www.ticket.ma/event/sahara-music-festi...</td>\n",
       "      <td>Welcome to Sahara Music Festival by MRC Trips ...</td>\n",
       "      <td>Merzouga</td>\n",
       "    </tr>\n",
       "    <tr>\n",
       "      <th>7</th>\n",
       "      <td>Le Défilé Caftan Dar Maalma en cloture du cong...</td>\n",
       "      <td>29.11.2019</td>\n",
       "      <td>18h00</td>\n",
       "      <td>https://www.ticket.ma/upload/events/2111/origi...</td>\n",
       "      <td>https://www.ticket.ma/event/le-defile-de-mode-...</td>\n",
       "      <td>Le Défilé Caftan Dar Maalma est à sa troisième...</td>\n",
       "      <td>Théâtre National Mohammed V</td>\n",
       "    </tr>\n",
       "  </tbody>\n",
       "</table>\n",
       "</div>"
      ],
      "text/plain": [
       "                                                noms        date  heure  \\\n",
       "0  Concerts de musique classique \"Piano\" El Jadid...  05.10.2019  20h00   \n",
       "1  Concerts de musique classique \"Piano\" Casablan...  06.10.2019  20h00   \n",
       "2  Concerts de musique classique \"Piano\" Rabat\\n\\...  07.10.2019  20h00   \n",
       "3  Les Concerts d’ouverture Rabat\\n\\n\\t\\t\\t\\t\\t\\t...  11.10.2019  20h30   \n",
       "4                  Jalil Tijani «  Jeux de société »  11.10.2019  21h00   \n",
       "5                   Jalil Tijani « Jeux de société »  12.10.2019  21h00   \n",
       "6                              Sahara Music Festival  18.10.2019    n/c   \n",
       "7  Le Défilé Caftan Dar Maalma en cloture du cong...  29.11.2019  18h00   \n",
       "\n",
       "                                               image  \\\n",
       "0  https://www.ticket.ma/upload/events/2092/origi...   \n",
       "1  https://www.ticket.ma/upload/events/2093/origi...   \n",
       "2  https://www.ticket.ma/upload/events/2094/origi...   \n",
       "3  https://www.ticket.ma/upload/events/2067/origi...   \n",
       "4  https://www.ticket.ma/upload/events/2101/origi...   \n",
       "5  https://www.ticket.ma/upload/events/2102/origi...   \n",
       "6  https://www.ticket.ma/upload/events/2090/origi...   \n",
       "7  https://www.ticket.ma/upload/events/2111/origi...   \n",
       "\n",
       "                                                lien  \\\n",
       "0  https://www.ticket.ma/event/concerts-de-musiqu...   \n",
       "1  https://www.ticket.ma/event/concerts-de-musiqu...   \n",
       "2  https://www.ticket.ma/event/concerts-de-musiqu...   \n",
       "3  https://www.ticket.ma/event/les-concerts-d-ouv...   \n",
       "4  https://www.ticket.ma/event/jalil-tijani-jeux-...   \n",
       "5  https://www.ticket.ma/event/jalil-tijani-jeux-...   \n",
       "6  https://www.ticket.ma/event/sahara-music-festi...   \n",
       "7  https://www.ticket.ma/event/le-defile-de-mode-...   \n",
       "\n",
       "                                         description  \\\n",
       "0  L’orchestre Symphonique Royal ouvre sa 11° sai...   \n",
       "1  L’orchestre Symphonique Royal ouvre sa 11° sai...   \n",
       "2  L’orchestre Symphonique Royal ouvre sa 11° sai...   \n",
       "3  Pour la 4ème année consécutive, les concerts d...   \n",
       "4  Après une première tournée nationale et intern...   \n",
       "5  Après une première tournée nationale et intern...   \n",
       "6  Welcome to Sahara Music Festival by MRC Trips ...   \n",
       "7  Le Défilé Caftan Dar Maalma est à sa troisième...   \n",
       "\n",
       "                          lieu  \n",
       "0                 Théâtre Afif  \n",
       "1          Théâtre Mohammed VI  \n",
       "2  Théâtre National Mohammed V  \n",
       "3  Théâtre National Mohammed V  \n",
       "4      Studio des arts vivants  \n",
       "5      Studio des arts vivants  \n",
       "6                     Merzouga  \n",
       "7  Théâtre National Mohammed V  "
      ]
     },
     "execution_count": 29,
     "metadata": {},
     "output_type": "execute_result"
    }
   ],
   "source": [
    "df"
   ]
  },
  {
   "cell_type": "markdown",
   "metadata": {},
   "source": [
    "### Serialization"
   ]
  },
  {
   "cell_type": "code",
   "execution_count": 30,
   "metadata": {},
   "outputs": [],
   "source": [
    "import pickle"
   ]
  },
  {
   "cell_type": "code",
   "execution_count": 31,
   "metadata": {},
   "outputs": [
    {
     "name": "stdout",
     "output_type": "stream",
     "text": [
      "File pickled\n"
     ]
    }
   ],
   "source": [
    "pickle_out = open(\"ticket.pickle\",\"wb\")\n",
    "pickle.dump(prog,pickle_out)\n",
    "pickle_out.close()\n",
    "\n",
    "print(\"File pickled\")"
   ]
  },
  {
   "cell_type": "code",
   "execution_count": null,
   "metadata": {},
   "outputs": [],
   "source": []
  }
 ],
 "metadata": {
  "kernelspec": {
   "display_name": "Python 3",
   "language": "python",
   "name": "python3"
  },
  "language_info": {
   "codemirror_mode": {
    "name": "ipython",
    "version": 3
   },
   "file_extension": ".py",
   "mimetype": "text/x-python",
   "name": "python",
   "nbconvert_exporter": "python",
   "pygments_lexer": "ipython3",
   "version": "3.6.1"
  }
 },
 "nbformat": 4,
 "nbformat_minor": 2
}
