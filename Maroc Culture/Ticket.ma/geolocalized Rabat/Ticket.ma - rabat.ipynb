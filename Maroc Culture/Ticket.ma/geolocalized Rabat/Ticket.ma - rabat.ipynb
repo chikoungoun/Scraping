{
 "cells": [
  {
   "cell_type": "markdown",
   "metadata": {},
   "source": [
    "# Scraping évènements Rabat"
   ]
  },
  {
   "cell_type": "code",
   "execution_count": 1,
   "metadata": {},
   "outputs": [],
   "source": [
    "import requests"
   ]
  },
  {
   "cell_type": "code",
   "execution_count": 2,
   "metadata": {},
   "outputs": [
    {
     "data": {
      "text/plain": [
       "<Response [200]>"
      ]
     },
     "execution_count": 2,
     "metadata": {},
     "output_type": "execute_result"
    }
   ],
   "source": [
    "url = 'https://www.ticket.ma/events/search?q=rabat'\n",
    "response = requests.get(url)\n",
    "response"
   ]
  },
  {
   "cell_type": "code",
   "execution_count": 3,
   "metadata": {},
   "outputs": [
    {
     "name": "stdout",
     "output_type": "stream",
     "text": [
      "<html xmlns=\"//www.w3.org/1999/xhtml\">\n",
      "\t<head>\n",
      "\t    <meta property=\"fb:app_id\" content=\"273870459404\n"
     ]
    }
   ],
   "source": [
    "print(response.text[:100])"
   ]
  },
  {
   "cell_type": "code",
   "execution_count": 4,
   "metadata": {},
   "outputs": [
    {
     "data": {
      "text/plain": [
       "bs4.BeautifulSoup"
      ]
     },
     "execution_count": 4,
     "metadata": {},
     "output_type": "execute_result"
    }
   ],
   "source": [
    "from bs4 import BeautifulSoup\n",
    "\n",
    "soup = BeautifulSoup(response.text,'html.parser')\n",
    "type(soup)"
   ]
  },
  {
   "cell_type": "code",
   "execution_count": 5,
   "metadata": {},
   "outputs": [],
   "source": [
    "page_html = soup.find('div',{\"class\":\"home clearfix local-events\"})"
   ]
  },
  {
   "cell_type": "code",
   "execution_count": 6,
   "metadata": {},
   "outputs": [],
   "source": [
    "ul = page_html.find('ul',class_='clearfix')"
   ]
  },
  {
   "cell_type": "code",
   "execution_count": 7,
   "metadata": {},
   "outputs": [
    {
     "data": {
      "text/plain": [
       "<ul class=\"clearfix\">\n",
       "<li class=\"tfly-event-id- vevent\" id=\"event-2050\">\n",
       "<a class=\"data-link\" href=\"/event/convention-nature-4-ever-au-maroc-le-28-septembre-2019-rabat\">\n",
       "<img src=\"/upload/events/2050/original_convention_rabat_205_1.png\"> </img></a>\n",
       "<div class=\"activity-tools\">\n",
       "<p>\n",
       "<a class=\"overlay-trigger\" href=\"/event/convention-nature-4-ever-au-maroc-le-28-septembre-2019-rabat\">Acheter</a>\n",
       "</p>\n",
       "<ul>\n",
       "<li><a class=\"activity-tools-facebook\" href=\"javascript:void(0);\" onclick=\"showBShareDialog('event-2050');return false\">Facebook</a></li>\n",
       "<li><a class=\"activity-tools-twitter\" href=\"https://twitter.com/intent/tweet?text=Convention+Natura4Ever+au+Maroc&amp;url=https%3A%2F%2Fwww.ticket.ma%2Fevent%2Fconvention-nature-4-ever-au-maroc-le-28-septembre-2019-rabat&amp;via=ticket_ma\" target=\"_blank\">Twitter</a></li>\n",
       "</ul>\n",
       "</div>\n",
       "<h2 class=\"headliners summary\">\n",
       "<a class=\"overlay-trigger\" href=\"/event/convention-nature-4-ever-au-maroc-le-28-septembre-2019-rabat\">Convention Natura4Ever au Maroc </a>\n",
       "</h2>\n",
       "<p class=\"event-date\">\n",
       "\t\t\t\tLe samedi 28 septembre 2019 · 80 Dhs\t\t\t\n",
       "\t\t\t</p>\n",
       "<p class=\"venue location location_indicator\">\n",
       "<a href=\"/event/convention-nature-4-ever-au-maroc-le-28-septembre-2019-rabat\">ZENITH CENTER Rabat - Rabat</a><br/>\n",
       "</p>\n",
       "<div class=\"whos-going\" id=\"rsvp-event-2050\">\n",
       "<script>\n",
       "\t\t\t\t\t\tjQuery(document).ready(function($) {\n",
       "\t\t\t\t\t\t\t\t$('#rsvp-event-2050.whos-going').html('<img src=\"/img/fb-loader.gif\" alt=\"Loading...\" class=\"fb-loading\"/>');\n",
       "\n",
       "\t\t\t\t\t\t\t\tif(true || jQuery('#rsvp-event-2050 .fb-rsvp-modal-status-box').length == 0) {\n",
       "\t\t\t\t\t\t\t\t\n",
       "\n",
       "\t\t\t\t\t\tjQuery.get(\n",
       "\t\t\t\t\t\t\t'/events/fbajax',\n",
       "\t\t\t\t\t\t\t{\n",
       "\t\t\t\t\t\t\t\tfbEventID : '2050',\n",
       "\t\t\t\t\t\t\t\tfbNumberFaces : '6'\n",
       "\t\t\t\t\t\t\t},\n",
       "\t\t\t\t\t\t\tfunction( response ) {\n",
       "\t\t\t\t\t\t\t\tjQuery('#rsvp-event-2050.whos-going').html(response);\n",
       "\t\t\t\t\t\t\t\t//console.log(response);\n",
       "\t\t\t\t\t\t\t}\n",
       "\t\t\t\t\t\t);\n",
       "\t\t\t\t\t\t}\n",
       "\t\t\t\t\t\t}\n",
       "\t\t\t\t\t\t);\n",
       "\n",
       "\t\t\t\t\t</script>\n",
       "</div> <!--/.whos-going--></li>\n",
       "<li class=\"tfly-event-id- vevent\" id=\"event-2088\">\n",
       "<a class=\"data-link\" href=\"/event/sqnc-tini-le-28-septembre-au-dhow-rabat\">\n",
       "<img src=\"/upload/events/2088/original_205_10.png\"> </img></a>\n",
       "<div class=\"activity-tools\">\n",
       "<p>\n",
       "<a class=\"overlay-trigger\" href=\"/event/sqnc-tini-le-28-septembre-au-dhow-rabat\">Acheter</a>\n",
       "</p>\n",
       "<ul>\n",
       "<li><a class=\"activity-tools-facebook\" href=\"javascript:void(0);\" onclick=\"showBShareDialog('event-2088');return false\">Facebook</a></li>\n",
       "<li><a class=\"activity-tools-twitter\" href=\"https://twitter.com/intent/tweet?text=SQNC&amp;url=https%3A%2F%2Fwww.ticket.ma%2Fevent%2Fsqnc-tini-le-28-septembre-au-dhow-rabat&amp;via=ticket_ma\" target=\"_blank\">Twitter</a></li>\n",
       "</ul>\n",
       "</div>\n",
       "<h2 class=\"headliners summary\">\n",
       "<a class=\"overlay-trigger\" href=\"/event/sqnc-tini-le-28-septembre-au-dhow-rabat\">SQNC </a>\n",
       "</h2>\n",
       "<p class=\"event-date\">\n",
       "\t\t\t\tLe samedi 28 septembre 2019 · 150 Dhs\t\t\t\n",
       "\t\t\t</p>\n",
       "<p class=\"venue location location_indicator\">\n",
       "<a href=\"/event/sqnc-tini-le-28-septembre-au-dhow-rabat\">Le Dhow - Rabat</a><br/>\n",
       "</p>\n",
       "<div class=\"whos-going\" id=\"rsvp-event-2088\">\n",
       "<script>\n",
       "\t\t\t\t\t\tjQuery(document).ready(function($) {\n",
       "\t\t\t\t\t\t\t\t$('#rsvp-event-2088.whos-going').html('<img src=\"/img/fb-loader.gif\" alt=\"Loading...\" class=\"fb-loading\"/>');\n",
       "\n",
       "\t\t\t\t\t\t\t\tif(true || jQuery('#rsvp-event-2088 .fb-rsvp-modal-status-box').length == 0) {\n",
       "\t\t\t\t\t\t\t\t\n",
       "\n",
       "\t\t\t\t\t\tjQuery.get(\n",
       "\t\t\t\t\t\t\t'/events/fbajax',\n",
       "\t\t\t\t\t\t\t{\n",
       "\t\t\t\t\t\t\t\tfbEventID : '2088',\n",
       "\t\t\t\t\t\t\t\tfbNumberFaces : '6'\n",
       "\t\t\t\t\t\t\t},\n",
       "\t\t\t\t\t\t\tfunction( response ) {\n",
       "\t\t\t\t\t\t\t\tjQuery('#rsvp-event-2088.whos-going').html(response);\n",
       "\t\t\t\t\t\t\t\t//console.log(response);\n",
       "\t\t\t\t\t\t\t}\n",
       "\t\t\t\t\t\t);\n",
       "\t\t\t\t\t\t}\n",
       "\t\t\t\t\t\t}\n",
       "\t\t\t\t\t\t);\n",
       "\n",
       "\t\t\t\t\t</script>\n",
       "</div> <!--/.whos-going--></li>\n",
       "<li class=\"tfly-event-id- vevent\" id=\"event-2067\">\n",
       "<a class=\"data-link\" href=\"/event/les-concerts-d-ouverture-le-11-octobre-a-theatre-national-med-v-rabat-a-20h30\">\n",
       "<img src=\"/upload/events/2067/original_205_8.png\"> </img></a>\n",
       "<div class=\"activity-tools\">\n",
       "<p>\n",
       "<a class=\"overlay-trigger\" href=\"/event/les-concerts-d-ouverture-le-11-octobre-a-theatre-national-med-v-rabat-a-20h30\">Acheter</a>\n",
       "</p>\n",
       "<ul>\n",
       "<li><a class=\"activity-tools-facebook\" href=\"javascript:void(0);\" onclick=\"showBShareDialog('event-2067');return false\">Facebook</a></li>\n",
       "<li><a class=\"activity-tools-twitter\" href=\"https://twitter.com/intent/tweet?text=Les+Concerts+d%E2%80%99ouverture+Rabat&amp;url=https%3A%2F%2Fwww.ticket.ma%2Fevent%2Fles-concerts-d-ouverture-le-11-octobre-a-theatre-national-med-v-rabat-a-20h30&amp;via=ticket_ma\" target=\"_blank\">Twitter</a></li>\n",
       "</ul>\n",
       "</div>\n",
       "<h2 class=\"headliners summary\">\n",
       "<a class=\"overlay-trigger\" href=\"/event/les-concerts-d-ouverture-le-11-octobre-a-theatre-national-med-v-rabat-a-20h30\">Les Concerts d’ouverture Rabat </a>\n",
       "</h2>\n",
       "<p class=\"event-date\">\n",
       "\t\t\t\tLe vendredi 11 octobre 2019 · 50 Dhs\t\t\t\n",
       "\t\t\t</p>\n",
       "<p class=\"venue location location_indicator\">\n",
       "<a href=\"/event/les-concerts-d-ouverture-le-11-octobre-a-theatre-national-med-v-rabat-a-20h30\">Théâtre National Mohammed V - RABAT</a><br/>\n",
       "</p>\n",
       "<div class=\"whos-going\" id=\"rsvp-event-2067\">\n",
       "<script>\n",
       "\t\t\t\t\t\tjQuery(document).ready(function($) {\n",
       "\t\t\t\t\t\t\t\t$('#rsvp-event-2067.whos-going').html('<img src=\"/img/fb-loader.gif\" alt=\"Loading...\" class=\"fb-loading\"/>');\n",
       "\n",
       "\t\t\t\t\t\t\t\tif(true || jQuery('#rsvp-event-2067 .fb-rsvp-modal-status-box').length == 0) {\n",
       "\t\t\t\t\t\t\t\t\n",
       "\n",
       "\t\t\t\t\t\tjQuery.get(\n",
       "\t\t\t\t\t\t\t'/events/fbajax',\n",
       "\t\t\t\t\t\t\t{\n",
       "\t\t\t\t\t\t\t\tfbEventID : '2067',\n",
       "\t\t\t\t\t\t\t\tfbNumberFaces : '6'\n",
       "\t\t\t\t\t\t\t},\n",
       "\t\t\t\t\t\t\tfunction( response ) {\n",
       "\t\t\t\t\t\t\t\tjQuery('#rsvp-event-2067.whos-going').html(response);\n",
       "\t\t\t\t\t\t\t\t//console.log(response);\n",
       "\t\t\t\t\t\t\t}\n",
       "\t\t\t\t\t\t);\n",
       "\t\t\t\t\t\t}\n",
       "\t\t\t\t\t\t}\n",
       "\t\t\t\t\t\t);\n",
       "\n",
       "\t\t\t\t\t</script>\n",
       "</div> <!--/.whos-going--></li>\n",
       "<li class=\"tfly-event-id- vevent\" id=\"event-2090\">\n",
       "<a class=\"data-link\" href=\"/event/sahara-music-festival-du-18-au-20-octobre-a-merzouga\">\n",
       "<img src=\"/upload/events/2090/original_205.png\"/> </a>\n",
       "<div class=\"activity-tools\">\n",
       "<p>\n",
       "<a class=\"overlay-trigger\" href=\"/event/sahara-music-festival-du-18-au-20-octobre-a-merzouga\">Acheter</a>\n",
       "</p>\n",
       "<ul>\n",
       "<li><a class=\"activity-tools-facebook\" href=\"javascript:void(0);\" onclick=\"showBShareDialog('event-2090');return false\">Facebook</a></li>\n",
       "<li><a class=\"activity-tools-twitter\" href=\"https://twitter.com/intent/tweet?text=Sahara+Music+Festival+&amp;url=https%3A%2F%2Fwww.ticket.ma%2Fevent%2Fsahara-music-festival-du-18-au-20-octobre-a-merzouga&amp;via=ticket_ma\" target=\"_blank\">Twitter</a></li>\n",
       "</ul>\n",
       "</div>\n",
       "<h2 class=\"headliners summary\">\n",
       "<a class=\"overlay-trigger\" href=\"/event/sahara-music-festival-du-18-au-20-octobre-a-merzouga\">Sahara Music Festival  </a>\n",
       "</h2>\n",
       "<p class=\"event-date\">\n",
       "\t\t\t\tLe vendredi 18 octobre 2019 · 1000 Dhs\t\t\t\n",
       "\t\t\t</p>\n",
       "<p class=\"venue location location_indicator\">\n",
       "<a href=\"/event/sahara-music-festival-du-18-au-20-octobre-a-merzouga\">Merzouga - </a><br/>\n",
       "</p>\n",
       "<div class=\"whos-going\" id=\"rsvp-event-2090\">\n",
       "<script>\n",
       "\t\t\t\t\t\tjQuery(document).ready(function($) {\n",
       "\t\t\t\t\t\t\t\t$('#rsvp-event-2090.whos-going').html('<img src=\"/img/fb-loader.gif\" alt=\"Loading...\" class=\"fb-loading\"/>');\n",
       "\n",
       "\t\t\t\t\t\t\t\tif(true || jQuery('#rsvp-event-2090 .fb-rsvp-modal-status-box').length == 0) {\n",
       "\t\t\t\t\t\t\t\t\n",
       "\n",
       "\t\t\t\t\t\tjQuery.get(\n",
       "\t\t\t\t\t\t\t'/events/fbajax',\n",
       "\t\t\t\t\t\t\t{\n",
       "\t\t\t\t\t\t\t\tfbEventID : '2090',\n",
       "\t\t\t\t\t\t\t\tfbNumberFaces : '6'\n",
       "\t\t\t\t\t\t\t},\n",
       "\t\t\t\t\t\t\tfunction( response ) {\n",
       "\t\t\t\t\t\t\t\tjQuery('#rsvp-event-2090.whos-going').html(response);\n",
       "\t\t\t\t\t\t\t\t//console.log(response);\n",
       "\t\t\t\t\t\t\t}\n",
       "\t\t\t\t\t\t);\n",
       "\t\t\t\t\t\t}\n",
       "\t\t\t\t\t\t}\n",
       "\t\t\t\t\t\t);\n",
       "\n",
       "\t\t\t\t\t</script>\n",
       "</div> <!--/.whos-going--></li>\n",
       "</ul>"
      ]
     },
     "execution_count": 7,
     "metadata": {},
     "output_type": "execute_result"
    }
   ],
   "source": [
    "ul"
   ]
  },
  {
   "cell_type": "code",
   "execution_count": 8,
   "metadata": {},
   "outputs": [],
   "source": [
    "#\n",
    "events = ul.find_all('a',{\"class\":\"data-link\"})"
   ]
  },
  {
   "cell_type": "markdown",
   "metadata": {},
   "source": [
    "### Scraping des liens"
   ]
  },
  {
   "cell_type": "code",
   "execution_count": 9,
   "metadata": {},
   "outputs": [],
   "source": [
    "liens = []"
   ]
  },
  {
   "cell_type": "code",
   "execution_count": 10,
   "metadata": {},
   "outputs": [],
   "source": [
    "for a in events:\n",
    "    liens.append(\"https://www.ticket.ma\"+str(a['href']))    "
   ]
  },
  {
   "cell_type": "code",
   "execution_count": 11,
   "metadata": {},
   "outputs": [
    {
     "data": {
      "text/plain": [
       "['https://www.ticket.ma/event/convention-nature-4-ever-au-maroc-le-28-septembre-2019-rabat',\n",
       " 'https://www.ticket.ma/event/sqnc-tini-le-28-septembre-au-dhow-rabat',\n",
       " 'https://www.ticket.ma/event/les-concerts-d-ouverture-le-11-octobre-a-theatre-national-med-v-rabat-a-20h30',\n",
       " 'https://www.ticket.ma/event/sahara-music-festival-du-18-au-20-octobre-a-merzouga']"
      ]
     },
     "execution_count": 11,
     "metadata": {},
     "output_type": "execute_result"
    }
   ],
   "source": [
    "liens"
   ]
  },
  {
   "cell_type": "markdown",
   "metadata": {},
   "source": [
    "### Scraping des dates (format plus interessant sur la première page)\n"
   ]
  },
  {
   "cell_type": "code",
   "execution_count": 12,
   "metadata": {},
   "outputs": [],
   "source": [
    "d = []\n",
    "for i in page_html.find_all('p',{\"class\":\"event-date\"}):\n",
    "    d.append(i.get_text().replace(\"\\t\",\"\").replace(\"\\n\",\"\"))"
   ]
  },
  {
   "cell_type": "code",
   "execution_count": 13,
   "metadata": {},
   "outputs": [
    {
     "data": {
      "text/plain": [
       "['Le samedi 28 septembre 2019 · 80 Dhs',\n",
       " 'Le samedi 28 septembre 2019 · 150 Dhs',\n",
       " 'Le vendredi 11 octobre 2019 · 50 Dhs',\n",
       " 'Le vendredi 18 octobre 2019 · 1000 Dhs']"
      ]
     },
     "execution_count": 13,
     "metadata": {},
     "output_type": "execute_result"
    }
   ],
   "source": [
    "d"
   ]
  },
  {
   "cell_type": "code",
   "execution_count": 14,
   "metadata": {},
   "outputs": [],
   "source": [
    "dates = []\n",
    "for i in d:\n",
    "    a,b = i.split('·')\n",
    "    dates.append(a.replace(\"Le\",\"\").strip())"
   ]
  },
  {
   "cell_type": "code",
   "execution_count": 15,
   "metadata": {},
   "outputs": [
    {
     "data": {
      "text/plain": [
       "['samedi 28 septembre 2019',\n",
       " 'samedi 28 septembre 2019',\n",
       " 'vendredi 11 octobre 2019',\n",
       " 'vendredi 18 octobre 2019']"
      ]
     },
     "execution_count": 15,
     "metadata": {},
     "output_type": "execute_result"
    }
   ],
   "source": [
    "dates"
   ]
  },
  {
   "cell_type": "markdown",
   "metadata": {},
   "source": [
    "## Récupérer les données lien par lien"
   ]
  },
  {
   "cell_type": "code",
   "execution_count": 16,
   "metadata": {},
   "outputs": [],
   "source": [
    "from time import time\n",
    "from time import sleep\n",
    "from random import randint"
   ]
  },
  {
   "cell_type": "code",
   "execution_count": 17,
   "metadata": {},
   "outputs": [],
   "source": [
    "start_time = time()\n",
    "requests = 0"
   ]
  },
  {
   "cell_type": "code",
   "execution_count": 18,
   "metadata": {},
   "outputs": [],
   "source": [
    "from requests import get"
   ]
  },
  {
   "cell_type": "code",
   "execution_count": 19,
   "metadata": {},
   "outputs": [],
   "source": [
    "titres = []\n",
    "descs = []\n",
    "images = []\n",
    "heures = []\n",
    "places = []"
   ]
  },
  {
   "cell_type": "code",
   "execution_count": 20,
   "metadata": {},
   "outputs": [
    {
     "name": "stdout",
     "output_type": "stream",
     "text": [
      "https://www.ticket.ma/event/convention-nature-4-ever-au-maroc-le-28-septembre-2019-rabat\n",
      "11\n",
      "https://www.ticket.ma/event/sqnc-tini-le-28-septembre-au-dhow-rabat\n",
      "9\n",
      "https://www.ticket.ma/event/les-concerts-d-ouverture-le-11-octobre-a-theatre-national-med-v-rabat-a-20h30\n",
      "15\n",
      "https://www.ticket.ma/event/sahara-music-festival-du-18-au-20-octobre-a-merzouga\n",
      "15\n",
      "Done\n"
     ]
    }
   ],
   "source": [
    "for i in liens:\n",
    "    print(i)\n",
    "    response = get(i)\n",
    "    \n",
    "    timer = randint(8,15)\n",
    "    #pause de loop\n",
    "    print(timer)\n",
    "    sleep(timer)\n",
    "    \n",
    "    #renvoyer un warning pour les non 'status code : 200'\n",
    "    if response.status_code != 200:\n",
    "        warn('Request: {}; Status code: {}'.format(requests, response.status_code))\n",
    "            \n",
    "    #parser en BS\n",
    "    page_html = BeautifulSoup(response.text,'html.parser')\n",
    "    \n",
    "    \"\"\" Titres \"\"\"\n",
    "    title = page_html.find('div',class_='event-titles')\n",
    "    titres.append((title.text).strip())\n",
    "    \n",
    "    \"\"\" Descriptions \"\"\"\n",
    "    detail = page_html.find('div',class_='event-details')\n",
    "    descs.append((detail.find('div').text).strip())\n",
    "    \n",
    "    \"\"\" Images \"\"\"\n",
    "    img = page_html.find(id=\"artist-image\")\n",
    "    image = img.find('img')['src']\n",
    "    images.append(\"https://www.ticket.ma\"+str(image))\n",
    "    \n",
    "    \"\"\" Heures \"\"\"\n",
    "    if page_html.find('span',class_='start dtstart') is None:\n",
    "        h = \"n/c\"\n",
    "    else:\n",
    "        h = (page_html.find('span',class_='start dtstart')).text\n",
    "    heures.append(h[-5:])#extraire les derniers elements de la liste\n",
    "    \n",
    "    \"\"\" Places \"\"\"\n",
    "    place = page_html.find('a',class_='fancybox map-location')\n",
    "    places.append(place.text)\n",
    "    \n",
    "\n",
    "print(\"Done\")\n",
    "    "
   ]
  },
  {
   "cell_type": "code",
   "execution_count": 21,
   "metadata": {},
   "outputs": [
    {
     "data": {
      "text/plain": [
       "['https://www.ticket.ma/upload/events/2050/original_convention_rabat_650X445px_2.png',\n",
       " 'https://www.ticket.ma/upload/events/2088/original_650_10.png',\n",
       " 'https://www.ticket.ma/upload/events/2067/original_650_8.png',\n",
       " 'https://www.ticket.ma/upload/events/2090/original_650.png']"
      ]
     },
     "execution_count": 21,
     "metadata": {},
     "output_type": "execute_result"
    }
   ],
   "source": [
    "images"
   ]
  },
  {
   "cell_type": "markdown",
   "metadata": {},
   "source": [
    "## Tout regrouper en une liste"
   ]
  },
  {
   "cell_type": "code",
   "execution_count": 22,
   "metadata": {},
   "outputs": [],
   "source": [
    "prog = []\n",
    "for i,j,k,l,m,n,o in zip(titres,dates,heures,images,liens,descs,places):\n",
    "    #Ajouter le lieu\n",
    "    t = (i,j,k,l,m,n,o)\n",
    "    prog.append(t)"
   ]
  },
  {
   "cell_type": "code",
   "execution_count": 23,
   "metadata": {},
   "outputs": [
    {
     "data": {
      "text/plain": [
       "[('Convention Natura4Ever au Maroc',\n",
       "  'samedi 28 septembre 2019',\n",
       "  '13h30',\n",
       "  'https://www.ticket.ma/upload/events/2050/original_convention_rabat_650X445px_2.png',\n",
       "  'https://www.ticket.ma/event/convention-nature-4-ever-au-maroc-le-28-septembre-2019-rabat',\n",
       "  'Vos leaders Natura4Ever vous accueillent, le Samedi\\xa028\\xa0septembre 2019, au Zénith Center de Rabat pour une convention spéciale.\\n«\\xa0Avec la présence exceptionnelle de Jimmy Wan – vice-président Europe et du Dr Nam N’Guyen – médecin spécialisé en nutrition.\\xa0»\\nOuverture des portes\\xa0: 13h00\\nDébut de la Convention\\xa0: 13h30\\nFin de la Convention\\xa0: 18h00',\n",
       "  'ZENITH CENTER Rabat'),\n",
       " ('SQNC\\n\\n\\t\\t\\t\\t\\t\\tPresent  tINI Part of the Gang Records',\n",
       "  'samedi 28 septembre 2019',\n",
       "  '16h00',\n",
       "  'https://www.ticket.ma/upload/events/2088/original_650_10.png',\n",
       "  'https://www.ticket.ma/event/sqnc-tini-le-28-septembre-au-dhow-rabat',\n",
       "  \"Our last guest for this season is tINI.\\npromoter of the tINI and the gang parties and owner of the label Part of the Gang Records she'll be at LE DHOW the 28/09/2019 to close the upper deck.\\n\\nline up t.b.a\\nartwork : Rajae Ch\\nEarly Bird Tickets = 150 Dhs\",\n",
       "  'Le Dhow'),\n",
       " ('Les Concerts d’ouverture Rabat\\n\\n\\t\\t\\t\\t\\t\\tLes Religions à l’unisson',\n",
       "  'vendredi 11 octobre 2019',\n",
       "  '20h30',\n",
       "  'https://www.ticket.ma/upload/events/2067/original_650_8.png',\n",
       "  'https://www.ticket.ma/event/les-concerts-d-ouverture-le-11-octobre-a-theatre-national-med-v-rabat-a-20h30',\n",
       "  'Pour la 4ème\\xa0année consécutive, les concerts d’ouverture de la saison de l’Orchestre Philharmonique du Maroc ont pour thème les Religions à l’unisson.\\xa0\\nDes artistes issus des trois grandes religions monothéistes partagent la même scène, prônant une image de tolérance, de paix, de dialogue et de respect entre leurs trois cultures.\\xa0\\nPremier concert de l’année, le concert d’ouverture est le plus complet de la saison :\\xa0\\nArtistiquement très riche, ce concert symphonique vous permet de découvrir ou redécouvrir les plus grandes symphonies du répertoire.\\xa0\\nCette année l’OPM s’attaque à une symphonie de taille :\\xa0la Symphonie n°5\\xa0de Gustav Mahler.\\xa0\\nAprès le grand succès de l’arrangement de l’Ave Maria\\xa0de Caccini fait par l’OPM, et joué devant\\xa0Sa Majesté le Roi Mohammed VI\\xa0et\\xa0Sa Sainteté le Pape François\\xa0en mars dernier, l’Orchestre Philharmonique du Maroc vous propose cette fois un arrangement de le l’Ave Maria\\xa0de Schubert,\\xa0mêlant\\xa0des chants en araméen, latin et arabe, en\\xa0symbole d’écoute, de dialogue et de partage\\xa0entre les trois grandes religions monothéistes.\\xa0\\nCette série sera dirigée par le conseiller artistique et premier chef invité de l’Orchestre Philharmonique du Maroc : le chef d’orchestre français\\xa0Olivier Holt.\\r\\n\\xa0\\nF. Shubert, Ave Maria arrangé par l’OPM\\nG.Mahlers, Symphonie nº 5\\xa0\\nOlivier Holt, direction\\r\\n\\xa0\\n\\n\\n\\nCatégories\\nPrix\\n\\n\\nCAT 1 = Orchestre\\n200 Dhs\\n\\n\\nCAT\\xa0 2 = Balcon 1\\n120 Dhs\\n\\n\\nCAT 3 = Balcon 2\\n90 Dhs\\n\\n\\nEtudiants = Balcon 2\\n50 Dhs',\n",
       "  'Théâtre National Mohammed V'),\n",
       " ('Sahara Music Festival',\n",
       "  'vendredi 18 octobre 2019',\n",
       "  'n/c',\n",
       "  'https://www.ticket.ma/upload/events/2090/original_650.png',\n",
       "  'https://www.ticket.ma/event/sahara-music-festival-du-18-au-20-octobre-a-merzouga',\n",
       "  'Welcome to Sahara Music Festival by\\xa0MRC Trips En partenariat avec Sutter Events ( France ) & Technics Customisation Maroc.\\xa0 Les 18, 19 & 20 Octobre 2019.\\n\\r\\nThe Biggest Event of The Year in The Desert of Merzouga, Morocco.\\r\\n\\xa0\\nAU PROGRAMME :\\n\\r\\nFestival Day 1 & 2 : LINE UP / International & National\\n\\r\\n* International Dj Set :\\xa0Irenee S.\\xa0/ David Lee. \\xa0( France )\\r\\n* National Dj Set : Ot-Man / T-Mood / Joudar / Binop ( Morocco )\\r\\n* Gnawa Fire Camp Show.\\r\\n* Non-Stop Music …. & More Surprises.\\n* Desert Pool Party.\\r\\n* Desert Discovery Tour by 4x4.\\r\\n* Camel Ride.\\n\\nJeudi 17 Octobre\\xa0: Départ des Navettes.\\n\\r\\n22 h 00\\xa0: Départ depuis Casablanca.\\r\\n23 h 30\\xa0: Départ depuis Rabat.\\r\\n02 h 00 (J+1)\\xa0: Départ depuis Fez.\\xa0\\r\\n23 h 00\\xa0: Départ depuis Marrakech.\\n\\nVoyage de nuit à Destination de Erfoud La Porte du Désert.\\n\\nVendredi 18 Octobre\\xa0: Festival Day I\\xa0: Welcome to Merzouga Desert\\n\\r\\n10 h 00 – 12 h 00\\xa0: Arrivée des Navette à Erfoud.\\xa0\\r\\n/ Accueil des Participants à Hôtel Palm 4*.\\r\\n13 h 00\\xa0: Déjeuner à Hotel Palm 4*\\r\\n/ Continuation vers Merzouga Désert.\\r\\n/ Arrivée à Palmeras y Dunas, Auberge et Bivouac de Luxe à Merzouga.\\r\\n/ Thé de Bienvenue.\\r\\n/ Installation dans des Chambres Doubles ou Triples.\\n\\r\\n17 h 00\\xa0: Début des Festivités à la Scène Principale Face au Grand Désert dans un Cadre Unique et Privé Dédié à Sahara Music Festival.\\nLet the Party Begin\\r\\n- International Dj Set :\\xa0Irenee S.\\xa0/ David Lee.\\r\\n- National Dj Set : Ot-Man / T-Mood / Joudar / Binop.\\r\\n- Surprise Guests.\\r\\n21 h 00\\xa0: Diner à Palmeras y Dunas.\\n\\r\\nContinuation des Festivités /\\xa0 Dj Set\\r\\nNon-Stop Music ….\\r\\n\\xa0\\nSamedi 19 Octobre\\xa0: Festival Day II – Desert Discovery Tour – Camel Ride – Pool Party – Gnawa Fire Camp Show….\\nLever du Soleil à ne pas rater.\\r\\n07 h 30 – 09\\xa0 h 30\\xa0: Petit Déjeuner\\xa0\\n\\r\\nMatinée Activités\\xa0:\\n*10 h 00\\xa0: Rejoignez Le Desert Discovery Tour en 4x4 à la Découverte des Nomades / Panorama des Dune / Khamliya Village, une expérience magnifique à ne pas rater.\\r\\n* Remontez encore votre Adrénaline avec un Super Tour en Quad à vitesse\\xa0en plein désert.\\r\\n\\xa0\\r\\n13 h 00\\xa0: Déjeuner à Palmeras y Dunas\\xa0: la Medfouna au Menu.\\n\\r\\n15 h 00\\xa0: Desert Pool Party / Dj Set\\xa0/ Non Stop Music.\\n\\r\\n*\\xa0Balade à dos de Dromadaire pour assister au coucher de Soleil depuis les Dunes d’Or.\\n\\r\\n19 h 00\\xa0: Début des Festivités à la Scène principale.\\n\\r\\n- International Dj Set :\\xa0Irenee S.\\xa0/ David Lee.\\r\\n- National Dj Set : Ot-Man / T-Mood/ Joudar / Binop.\\r\\n- Surprise Guests.\\n\\r\\n21 h 00\\xa0: Diner à Palmeras y Dunas.\\r\\n/ Gnawa Fire Camp Show.\\n\\r\\n/ Continuation des Festivités / Non-Stop Music à la Scène Principale.\\n\\nDimanche 20 Octobre\\xa0: \\xa0Retour à la Maison.\\n\\r\\n- Départ du Désert en début de matinée après le petit déjeuner.\\r\\n- Arrivée à Marrakech, Fès, Casablanca & Rabat dans la soirée avec plein de souvenirs et d’Energie positive.\\nEvénement privé limité à 150 personnes, uniquement sur réservation.\\r\\n\\xa0\\nPack I\\xa0: Full Board Package\\xa0: 2200 Dhs par personne\\xa0!!\\xa0( Réservez votre Ticket en payant 1200 Dhs sur le site et le reste sur place !! )\\xa0\\n\\r\\n- Transport aller-retour depuis Rabat / Casablanca / Fès / Marrakech.\\r\\n- Ticket for Sahara Music Festival.\\r\\n- Hébergement En Chambres Doubles ou Triples à Palmeras y Dunas Merzouga.\\r\\n- Pension Complète durant Le Festival\\xa0:\\r\\n* Déjeuner à Palm Hotel Erfoud.\\r\\n* Diner à Palmeras y Dunas Merzouga.\\r\\n* Petit Déjeuner à Palmeras y Dunas.\\r\\n* Déjeuner à Palmeras y Dunas Merzouga.\\r\\n* Diner à Palmeras y Dunas Merzouga.\\r\\n* Petit Déjeuner à Palmeras y Dunas.\\n\\r\\n- Hébergement En Chambres Doubles ou Triples à Palmeras y Dunas Merzouga.\\r\\n- Ticket for Sahara Music Festival.\\n\\r\\n=============================\\nPack II\\xa0: Full Board Package\\xa0sans transport : 1800 Dhs par personne\\xa0!!\\xa0\\xa0( Réservez votre Ticket en payant 1000 Dhs sur le site et le reste sur place\\xa0!! )\\xa0\\xa0\\n\\r\\n- Ticket for Sahara Music Festival.\\r\\n- Hébergement En Chambres Doubles ou Triples à Palmeras y Dunas Merzouga.\\r\\n- Pension Complète durant Le Festival\\xa0:\\r\\n* Déjeuner à Palm Hotel Erfoud.\\r\\n* Diner à Palmeras y Dunas Merzouga.\\r\\n* Petit Déjeuner à Palmeras y Dunas.\\r\\n* Déjeuner à Palmeras y Dunas Merzouga.\\r\\n* Diner à Palmeras y Dunas Merzouga.\\r\\n* Petit Déjeuner à Palmeras y Dunas.\\n=============================\\nNon Inclus / A Réserver à l’avance en contactant MRC Trips juste après achat du Ticket :\\n\\r\\n* Desert Discovery Tour by 4x4 à base de 6 personne par véhicule : 150 Dhs par personne\\r\\n* Tour en Quad\\xa0pour 1 heure\\xa0:\\xa0600 Dhs pour 2 personne / 400 Dhs pour une personne\\r\\n* Balade en Dromadaire\\xa0: 100 Dhs par personne\\r\\n\\xa0\\n\\n\\n\\nCatégories\\nPrix du package\\xa0\\nMontant à payer sur Ticket.ma\\n\\n\\n\\nFull Board Package (reste à payer sur place)\\n\\n2 200 Dhs\\n1 200 Dhs\\n\\n\\n\\nFull Board Package sans transport\\xa0\\xa0(reste à payer sur place)\\n\\n1 800 Dhs\\n1 000 Dhs',\n",
       "  'Merzouga')]"
      ]
     },
     "execution_count": 23,
     "metadata": {},
     "output_type": "execute_result"
    }
   ],
   "source": [
    "prog"
   ]
  },
  {
   "cell_type": "markdown",
   "metadata": {},
   "source": [
    "### Convertir en objet pandas"
   ]
  },
  {
   "cell_type": "code",
   "execution_count": 24,
   "metadata": {},
   "outputs": [],
   "source": [
    "import pandas as pd"
   ]
  },
  {
   "cell_type": "code",
   "execution_count": 25,
   "metadata": {},
   "outputs": [],
   "source": [
    "df = pd.DataFrame(prog,columns=['noms','date','heure','image','lien','description','lieu'])"
   ]
  },
  {
   "cell_type": "code",
   "execution_count": 26,
   "metadata": {},
   "outputs": [
    {
     "data": {
      "text/html": [
       "<div>\n",
       "<style>\n",
       "    .dataframe thead tr:only-child th {\n",
       "        text-align: right;\n",
       "    }\n",
       "\n",
       "    .dataframe thead th {\n",
       "        text-align: left;\n",
       "    }\n",
       "\n",
       "    .dataframe tbody tr th {\n",
       "        vertical-align: top;\n",
       "    }\n",
       "</style>\n",
       "<table border=\"1\" class=\"dataframe\">\n",
       "  <thead>\n",
       "    <tr style=\"text-align: right;\">\n",
       "      <th></th>\n",
       "      <th>noms</th>\n",
       "      <th>date</th>\n",
       "      <th>heure</th>\n",
       "      <th>image</th>\n",
       "      <th>lien</th>\n",
       "      <th>description</th>\n",
       "      <th>lieu</th>\n",
       "    </tr>\n",
       "  </thead>\n",
       "  <tbody>\n",
       "    <tr>\n",
       "      <th>0</th>\n",
       "      <td>Convention Natura4Ever au Maroc</td>\n",
       "      <td>samedi 28 septembre 2019</td>\n",
       "      <td>13h30</td>\n",
       "      <td>https://www.ticket.ma/upload/events/2050/origi...</td>\n",
       "      <td>https://www.ticket.ma/event/convention-nature-...</td>\n",
       "      <td>Vos leaders Natura4Ever vous accueillent, le S...</td>\n",
       "      <td>ZENITH CENTER Rabat</td>\n",
       "    </tr>\n",
       "    <tr>\n",
       "      <th>1</th>\n",
       "      <td>SQNC\\n\\n\\t\\t\\t\\t\\t\\tPresent  tINI Part of the ...</td>\n",
       "      <td>samedi 28 septembre 2019</td>\n",
       "      <td>16h00</td>\n",
       "      <td>https://www.ticket.ma/upload/events/2088/origi...</td>\n",
       "      <td>https://www.ticket.ma/event/sqnc-tini-le-28-se...</td>\n",
       "      <td>Our last guest for this season is tINI.\\npromo...</td>\n",
       "      <td>Le Dhow</td>\n",
       "    </tr>\n",
       "    <tr>\n",
       "      <th>2</th>\n",
       "      <td>Les Concerts d’ouverture Rabat\\n\\n\\t\\t\\t\\t\\t\\t...</td>\n",
       "      <td>vendredi 11 octobre 2019</td>\n",
       "      <td>20h30</td>\n",
       "      <td>https://www.ticket.ma/upload/events/2067/origi...</td>\n",
       "      <td>https://www.ticket.ma/event/les-concerts-d-ouv...</td>\n",
       "      <td>Pour la 4ème année consécutive, les concerts d...</td>\n",
       "      <td>Théâtre National Mohammed V</td>\n",
       "    </tr>\n",
       "    <tr>\n",
       "      <th>3</th>\n",
       "      <td>Sahara Music Festival</td>\n",
       "      <td>vendredi 18 octobre 2019</td>\n",
       "      <td>n/c</td>\n",
       "      <td>https://www.ticket.ma/upload/events/2090/origi...</td>\n",
       "      <td>https://www.ticket.ma/event/sahara-music-festi...</td>\n",
       "      <td>Welcome to Sahara Music Festival by MRC Trips ...</td>\n",
       "      <td>Merzouga</td>\n",
       "    </tr>\n",
       "  </tbody>\n",
       "</table>\n",
       "</div>"
      ],
      "text/plain": [
       "                                                noms  \\\n",
       "0                    Convention Natura4Ever au Maroc   \n",
       "1  SQNC\\n\\n\\t\\t\\t\\t\\t\\tPresent  tINI Part of the ...   \n",
       "2  Les Concerts d’ouverture Rabat\\n\\n\\t\\t\\t\\t\\t\\t...   \n",
       "3                              Sahara Music Festival   \n",
       "\n",
       "                       date  heure  \\\n",
       "0  samedi 28 septembre 2019  13h30   \n",
       "1  samedi 28 septembre 2019  16h00   \n",
       "2  vendredi 11 octobre 2019  20h30   \n",
       "3  vendredi 18 octobre 2019    n/c   \n",
       "\n",
       "                                               image  \\\n",
       "0  https://www.ticket.ma/upload/events/2050/origi...   \n",
       "1  https://www.ticket.ma/upload/events/2088/origi...   \n",
       "2  https://www.ticket.ma/upload/events/2067/origi...   \n",
       "3  https://www.ticket.ma/upload/events/2090/origi...   \n",
       "\n",
       "                                                lien  \\\n",
       "0  https://www.ticket.ma/event/convention-nature-...   \n",
       "1  https://www.ticket.ma/event/sqnc-tini-le-28-se...   \n",
       "2  https://www.ticket.ma/event/les-concerts-d-ouv...   \n",
       "3  https://www.ticket.ma/event/sahara-music-festi...   \n",
       "\n",
       "                                         description  \\\n",
       "0  Vos leaders Natura4Ever vous accueillent, le S...   \n",
       "1  Our last guest for this season is tINI.\\npromo...   \n",
       "2  Pour la 4ème année consécutive, les concerts d...   \n",
       "3  Welcome to Sahara Music Festival by MRC Trips ...   \n",
       "\n",
       "                          lieu  \n",
       "0          ZENITH CENTER Rabat  \n",
       "1                      Le Dhow  \n",
       "2  Théâtre National Mohammed V  \n",
       "3                     Merzouga  "
      ]
     },
     "execution_count": 26,
     "metadata": {},
     "output_type": "execute_result"
    }
   ],
   "source": [
    "df"
   ]
  },
  {
   "cell_type": "markdown",
   "metadata": {},
   "source": [
    "### Serialization"
   ]
  },
  {
   "cell_type": "code",
   "execution_count": 27,
   "metadata": {},
   "outputs": [],
   "source": [
    "import pickle"
   ]
  },
  {
   "cell_type": "code",
   "execution_count": 28,
   "metadata": {},
   "outputs": [
    {
     "name": "stdout",
     "output_type": "stream",
     "text": [
      "File pickled\n"
     ]
    }
   ],
   "source": [
    "pickle_out = open(\"ticket.pickle\",\"wb\")\n",
    "pickle.dump(prog,pickle_out)\n",
    "pickle_out.close()\n",
    "\n",
    "print(\"File pickled\")"
   ]
  },
  {
   "cell_type": "code",
   "execution_count": null,
   "metadata": {},
   "outputs": [],
   "source": []
  }
 ],
 "metadata": {
  "kernelspec": {
   "display_name": "Python 3",
   "language": "python",
   "name": "python3"
  },
  "language_info": {
   "codemirror_mode": {
    "name": "ipython",
    "version": 3
   },
   "file_extension": ".py",
   "mimetype": "text/x-python",
   "name": "python",
   "nbconvert_exporter": "python",
   "pygments_lexer": "ipython3",
   "version": "3.6.1"
  }
 },
 "nbformat": 4,
 "nbformat_minor": 2
}
