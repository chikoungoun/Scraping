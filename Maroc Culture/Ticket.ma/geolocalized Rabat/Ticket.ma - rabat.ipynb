{
 "cells": [
  {
   "cell_type": "markdown",
   "metadata": {},
   "source": [
    "# Geolocaliser les évènements pour Rabat"
   ]
  },
  {
   "cell_type": "code",
   "execution_count": 1,
   "metadata": {},
   "outputs": [],
   "source": [
    "import requests"
   ]
  },
  {
   "cell_type": "code",
   "execution_count": 2,
   "metadata": {},
   "outputs": [
    {
     "data": {
      "text/plain": [
       "<Response [200]>"
      ]
     },
     "execution_count": 2,
     "metadata": {},
     "output_type": "execute_result"
    }
   ],
   "source": [
    "url = 'https://www.ticket.ma/events/search?q=rabat'\n",
    "response = requests.get(url)\n",
    "response"
   ]
  },
  {
   "cell_type": "code",
   "execution_count": 3,
   "metadata": {},
   "outputs": [
    {
     "name": "stdout",
     "output_type": "stream",
     "text": [
      "<html xmlns=\"//www.w3.org/1999/xhtml\">\n",
      "\t<head>\n",
      "\t    <meta property=\"fb:app_id\" content=\"273870459404\n"
     ]
    }
   ],
   "source": [
    "print(response.text[:100])"
   ]
  },
  {
   "cell_type": "code",
   "execution_count": 4,
   "metadata": {},
   "outputs": [
    {
     "data": {
      "text/plain": [
       "bs4.BeautifulSoup"
      ]
     },
     "execution_count": 4,
     "metadata": {},
     "output_type": "execute_result"
    }
   ],
   "source": [
    "from bs4 import BeautifulSoup\n",
    "\n",
    "soup = BeautifulSoup(response.text,'html.parser')\n",
    "type(soup)"
   ]
  },
  {
   "cell_type": "code",
   "execution_count": 5,
   "metadata": {},
   "outputs": [],
   "source": [
    "page_html = soup.find('div',{\"class\":\"home clearfix local-events\"})"
   ]
  },
  {
   "cell_type": "code",
   "execution_count": 6,
   "metadata": {},
   "outputs": [],
   "source": [
    "ul = page_html.find('ul',class_='clearfix')"
   ]
  },
  {
   "cell_type": "code",
   "execution_count": 7,
   "metadata": {},
   "outputs": [
    {
     "data": {
      "text/plain": [
       "<ul class=\"clearfix\">\n",
       "<li class=\"tfly-event-id- vevent\" id=\"event-2051\">\n",
       "<a class=\"data-link\" href=\"/event/sqnc-le-03-aout-au-dhow-rabat\">\n",
       "<img src=\"/upload/events/2051/original_205_4.png\"> </img></a>\n",
       "<div class=\"activity-tools\">\n",
       "<p>\n",
       "<a class=\"overlay-trigger\" href=\"/event/sqnc-le-03-aout-au-dhow-rabat\">Acheter</a>\n",
       "</p>\n",
       "<ul>\n",
       "<li><a class=\"activity-tools-facebook\" href=\"javascript:void(0);\" onclick=\"showBShareDialog('event-2051');return false\">Facebook</a></li>\n",
       "<li><a class=\"activity-tools-twitter\" href=\"https://twitter.com/intent/tweet?text=SQNC.&amp;url=https%3A%2F%2Fwww.ticket.ma%2Fevent%2Fsqnc-le-03-aout-au-dhow-rabat&amp;via=ticket_ma\" target=\"_blank\">Twitter</a></li>\n",
       "</ul>\n",
       "</div>\n",
       "<h2 class=\"headliners summary\">\n",
       "<a class=\"overlay-trigger\" href=\"/event/sqnc-le-03-aout-au-dhow-rabat\">SQNC. </a>\n",
       "</h2>\n",
       "<p class=\"event-date\">\n",
       "\t\t\t\tLe samedi 03 août 2019 · 200 Dhs\t\t\t\n",
       "\t\t\t</p>\n",
       "<p class=\"venue location location_indicator\">\n",
       "<a href=\"/event/sqnc-le-03-aout-au-dhow-rabat\">Le Dhow - Rabat</a><br/>\n",
       "</p>\n",
       "<div class=\"whos-going\" id=\"rsvp-event-2051\">\n",
       "<script>\n",
       "\t\t\t\t\t\tjQuery(document).ready(function($) {\n",
       "\t\t\t\t\t\t\t\t$('#rsvp-event-2051.whos-going').html('<img src=\"/img/fb-loader.gif\" alt=\"Loading...\" class=\"fb-loading\"/>');\n",
       "\n",
       "\t\t\t\t\t\t\t\tif(true || jQuery('#rsvp-event-2051 .fb-rsvp-modal-status-box').length == 0) {\n",
       "\t\t\t\t\t\t\t\t\n",
       "\n",
       "\t\t\t\t\t\tjQuery.get(\n",
       "\t\t\t\t\t\t\t'/events/fbajax',\n",
       "\t\t\t\t\t\t\t{\n",
       "\t\t\t\t\t\t\t\tfbEventID : '2051',\n",
       "\t\t\t\t\t\t\t\tfbNumberFaces : '6'\n",
       "\t\t\t\t\t\t\t},\n",
       "\t\t\t\t\t\t\tfunction( response ) {\n",
       "\t\t\t\t\t\t\t\tjQuery('#rsvp-event-2051.whos-going').html(response);\n",
       "\t\t\t\t\t\t\t\t//console.log(response);\n",
       "\t\t\t\t\t\t\t}\n",
       "\t\t\t\t\t\t);\n",
       "\t\t\t\t\t\t}\n",
       "\t\t\t\t\t\t}\n",
       "\t\t\t\t\t\t);\n",
       "\n",
       "\t\t\t\t\t</script>\n",
       "</div> <!--/.whos-going--></li>\n",
       "<li class=\"tfly-event-id- vevent\" id=\"event-2050\">\n",
       "<a class=\"data-link\" href=\"/event/convention-nature-4-ever-au-maroc-le-28-septembre-2019-rabat\">\n",
       "<img src=\"/upload/events/2050/original_convention_rabat_205_1.png\"> </img></a>\n",
       "<div class=\"activity-tools\">\n",
       "<p>\n",
       "<a class=\"overlay-trigger\" href=\"/event/convention-nature-4-ever-au-maroc-le-28-septembre-2019-rabat\">Acheter</a>\n",
       "</p>\n",
       "<ul>\n",
       "<li><a class=\"activity-tools-facebook\" href=\"javascript:void(0);\" onclick=\"showBShareDialog('event-2050');return false\">Facebook</a></li>\n",
       "<li><a class=\"activity-tools-twitter\" href=\"https://twitter.com/intent/tweet?text=Convention+Natura4Ever+au+Maroc&amp;url=https%3A%2F%2Fwww.ticket.ma%2Fevent%2Fconvention-nature-4-ever-au-maroc-le-28-septembre-2019-rabat&amp;via=ticket_ma\" target=\"_blank\">Twitter</a></li>\n",
       "</ul>\n",
       "</div>\n",
       "<h2 class=\"headliners summary\">\n",
       "<a class=\"overlay-trigger\" href=\"/event/convention-nature-4-ever-au-maroc-le-28-septembre-2019-rabat\">Convention Natura4Ever au Maroc </a>\n",
       "</h2>\n",
       "<p class=\"event-date\">\n",
       "\t\t\t\tLe samedi 28 septembre 2019 · 80 Dhs\t\t\t\n",
       "\t\t\t</p>\n",
       "<p class=\"venue location location_indicator\">\n",
       "<a href=\"/event/convention-nature-4-ever-au-maroc-le-28-septembre-2019-rabat\">ZENITH CENTER Rabat - Rabat</a><br/>\n",
       "</p>\n",
       "<div class=\"whos-going\" id=\"rsvp-event-2050\">\n",
       "<script>\n",
       "\t\t\t\t\t\tjQuery(document).ready(function($) {\n",
       "\t\t\t\t\t\t\t\t$('#rsvp-event-2050.whos-going').html('<img src=\"/img/fb-loader.gif\" alt=\"Loading...\" class=\"fb-loading\"/>');\n",
       "\n",
       "\t\t\t\t\t\t\t\tif(true || jQuery('#rsvp-event-2050 .fb-rsvp-modal-status-box').length == 0) {\n",
       "\t\t\t\t\t\t\t\t\n",
       "\n",
       "\t\t\t\t\t\tjQuery.get(\n",
       "\t\t\t\t\t\t\t'/events/fbajax',\n",
       "\t\t\t\t\t\t\t{\n",
       "\t\t\t\t\t\t\t\tfbEventID : '2050',\n",
       "\t\t\t\t\t\t\t\tfbNumberFaces : '6'\n",
       "\t\t\t\t\t\t\t},\n",
       "\t\t\t\t\t\t\tfunction( response ) {\n",
       "\t\t\t\t\t\t\t\tjQuery('#rsvp-event-2050.whos-going').html(response);\n",
       "\t\t\t\t\t\t\t\t//console.log(response);\n",
       "\t\t\t\t\t\t\t}\n",
       "\t\t\t\t\t\t);\n",
       "\t\t\t\t\t\t}\n",
       "\t\t\t\t\t\t}\n",
       "\t\t\t\t\t\t);\n",
       "\n",
       "\t\t\t\t\t</script>\n",
       "</div> <!--/.whos-going--></li>\n",
       "</ul>"
      ]
     },
     "execution_count": 7,
     "metadata": {},
     "output_type": "execute_result"
    }
   ],
   "source": [
    "ul"
   ]
  },
  {
   "cell_type": "code",
   "execution_count": 8,
   "metadata": {},
   "outputs": [],
   "source": [
    "#\n",
    "events = ul.find_all('a',{\"class\":\"data-link\"})"
   ]
  },
  {
   "cell_type": "markdown",
   "metadata": {},
   "source": [
    "### Scraping des liens"
   ]
  },
  {
   "cell_type": "code",
   "execution_count": 9,
   "metadata": {},
   "outputs": [],
   "source": [
    "liens = []"
   ]
  },
  {
   "cell_type": "code",
   "execution_count": 10,
   "metadata": {},
   "outputs": [],
   "source": [
    "for a in events:\n",
    "    liens.append(\"https://www.ticket.ma\"+str(a['href']))    "
   ]
  },
  {
   "cell_type": "code",
   "execution_count": 11,
   "metadata": {},
   "outputs": [
    {
     "data": {
      "text/plain": [
       "['https://www.ticket.ma/event/sqnc-le-03-aout-au-dhow-rabat',\n",
       " 'https://www.ticket.ma/event/convention-nature-4-ever-au-maroc-le-28-septembre-2019-rabat']"
      ]
     },
     "execution_count": 11,
     "metadata": {},
     "output_type": "execute_result"
    }
   ],
   "source": [
    "liens"
   ]
  },
  {
   "cell_type": "markdown",
   "metadata": {},
   "source": [
    "### Scraping des dates (format plus interessant sur la première page)\n"
   ]
  },
  {
   "cell_type": "code",
   "execution_count": 14,
   "metadata": {},
   "outputs": [],
   "source": [
    "d = []\n",
    "for i in page_html.find_all('p',{\"class\":\"event-date\"}):\n",
    "    d.append(i.get_text().replace(\"\\t\",\"\").replace(\"\\n\",\"\"))"
   ]
  },
  {
   "cell_type": "code",
   "execution_count": 18,
   "metadata": {},
   "outputs": [
    {
     "data": {
      "text/plain": [
       "['Le samedi 03 août 2019 · 200 Dhs', 'Le samedi 28 septembre 2019 · 80 Dhs']"
      ]
     },
     "execution_count": 18,
     "metadata": {},
     "output_type": "execute_result"
    }
   ],
   "source": [
    "d"
   ]
  },
  {
   "cell_type": "code",
   "execution_count": 21,
   "metadata": {},
   "outputs": [],
   "source": [
    "dates = []\n",
    "for i in d:\n",
    "    a,b = i.split('·')\n",
    "    dates.append(a.replace(\"Le\",\"\").strip())"
   ]
  },
  {
   "cell_type": "code",
   "execution_count": 22,
   "metadata": {},
   "outputs": [
    {
     "data": {
      "text/plain": [
       "['samedi 03 août 2019', 'samedi 28 septembre 2019']"
      ]
     },
     "execution_count": 22,
     "metadata": {},
     "output_type": "execute_result"
    }
   ],
   "source": [
    "dates"
   ]
  },
  {
   "cell_type": "markdown",
   "metadata": {},
   "source": [
    "## Récupérer les données lien par lien"
   ]
  },
  {
   "cell_type": "code",
   "execution_count": 25,
   "metadata": {},
   "outputs": [],
   "source": [
    "from time import time\n",
    "from time import sleep\n",
    "from random import randint"
   ]
  },
  {
   "cell_type": "code",
   "execution_count": 26,
   "metadata": {},
   "outputs": [],
   "source": [
    "start_time = time()\n",
    "requests = 0"
   ]
  },
  {
   "cell_type": "code",
   "execution_count": 27,
   "metadata": {},
   "outputs": [],
   "source": [
    "from requests import get"
   ]
  },
  {
   "cell_type": "code",
   "execution_count": 45,
   "metadata": {},
   "outputs": [],
   "source": [
    "titres = []\n",
    "descs = []\n",
    "images = []\n",
    "heures = []\n",
    "places = []"
   ]
  },
  {
   "cell_type": "code",
   "execution_count": 48,
   "metadata": {},
   "outputs": [
    {
     "name": "stdout",
     "output_type": "stream",
     "text": [
      "https://www.ticket.ma/event/sqnc-le-03-aout-au-dhow-rabat\n",
      "14\n",
      "https://www.ticket.ma/event/convention-nature-4-ever-au-maroc-le-28-septembre-2019-rabat\n",
      "15\n",
      "Done\n"
     ]
    }
   ],
   "source": [
    "for i in liens:\n",
    "    print(i)\n",
    "    response = get(i)\n",
    "    \n",
    "    timer = randint(8,15)\n",
    "    #pause de loop\n",
    "    print(timer)\n",
    "    sleep(timer)\n",
    "    \n",
    "    #renvoyer un warning pour les non 'status code : 200'\n",
    "    if response.status_code != 200:\n",
    "        warn('Request: {}; Status code: {}'.format(requests, response.status_code))\n",
    "            \n",
    "    #parser en BS\n",
    "    page_html = BeautifulSoup(response.text,'html.parser')\n",
    "    \n",
    "    \"\"\" Titres \"\"\"\n",
    "    title = page_html.find('div',class_='event-titles')\n",
    "    titres.append((title.text).strip())\n",
    "    \n",
    "    \"\"\" Descriptions \"\"\"\n",
    "    detail = page_html.find('div',class_='event-details')\n",
    "    descs.append((detail.find('div').text).strip())\n",
    "    \n",
    "    \"\"\" Images \"\"\"\n",
    "    img = page_html.find(id=\"artist-image\")\n",
    "    image = img.find('img')['src']\n",
    "    images.append(\"https://www.ticket.ma\"+str(image))\n",
    "    \n",
    "    \"\"\" Heures \"\"\"\n",
    "    h = (page_html.find('span',class_='start dtstart')).text\n",
    "    heures.append(h[-5:])#extraire les derniers elements de la liste\n",
    "    \n",
    "    \"\"\" Places \"\"\"\n",
    "    place = page_html.find('a',class_='fancybox map-location')\n",
    "    places.append(place.text)\n",
    "    \n",
    "\n",
    "print(\"Done\")\n",
    "    "
   ]
  },
  {
   "cell_type": "code",
   "execution_count": 38,
   "metadata": {},
   "outputs": [
    {
     "data": {
      "text/plain": [
       "['https://www.ticket.ma/upload/events/2051/original_650_4.png',\n",
       " 'https://www.ticket.ma/upload/events/2050/original_convention_rabat_650X445px_2.png']"
      ]
     },
     "execution_count": 38,
     "metadata": {},
     "output_type": "execute_result"
    }
   ],
   "source": [
    "images"
   ]
  },
  {
   "cell_type": "markdown",
   "metadata": {},
   "source": [
    "## Tout regrouper en une liste"
   ]
  },
  {
   "cell_type": "code",
   "execution_count": 49,
   "metadata": {},
   "outputs": [],
   "source": [
    "prog = []\n",
    "for i,j,k,l,m,n,o in zip(titres,dates,heures,images,liens,descs,places):\n",
    "    #Ajouter le lieu\n",
    "    t = (i,j,k,l,m,n,o)\n",
    "    prog.append(t)"
   ]
  },
  {
   "cell_type": "code",
   "execution_count": 50,
   "metadata": {},
   "outputs": [
    {
     "data": {
      "text/plain": [
       "[('SQNC.\\n\\n\\t\\t\\t\\t\\t\\t presents RHADOO',\n",
       "  'samedi 03 août 2019',\n",
       "  '16h00',\n",
       "  'https://www.ticket.ma/upload/events/2051/original_650_4.png',\n",
       "  'https://www.ticket.ma/event/sqnc-le-03-aout-au-dhow-rabat',\n",
       "  \"Our next guest is Rhadoo, founder of the romanian label\\xa0[a:rpia:r]\\xa0alongside raresh and petre inspirescu.\\n\\xa0\\nLine up :\\n\\xa0\\n\\nrhadoo //\\xa0[a:rpia:r]\\xa0\\r\\n\\t\\xa0\\nadam dirk'heim // sqnc.\\r\\n\\t\\xa0\\njilaa // sqnc.\\r\\n\\t\\xa0\\nleoma // default settings\\r\\n\\t\\xa0\\nnathabes // [alt]ernative\\n\\n\\xa0\\n*********\\r\\n\\xa0\\npresales are the only way to ensure your entrance d-day // les préventes assurent l'entrée le jour-j\\n\\xa0\\nlimited tickets at the door // tickets limités a la porte\\n\\xa0\\n-Prix unique du ticket : 200 mad\\n\\xa0\\n-Lien facebook de l'évènement :\\xa0https://www.facebook.com/events/330019124332660/?ti=ia\",\n",
       "  'Le Dhow'),\n",
       " ('Convention Natura4Ever au Maroc',\n",
       "  'samedi 28 septembre 2019',\n",
       "  '13h30',\n",
       "  'https://www.ticket.ma/upload/events/2050/original_convention_rabat_650X445px_2.png',\n",
       "  'https://www.ticket.ma/event/convention-nature-4-ever-au-maroc-le-28-septembre-2019-rabat',\n",
       "  'Vos leaders Natura4Ever vous accueillent, le Samedi\\xa028\\xa0septembre 2019, au Zénith Center de Rabat pour une convention spéciale.\\nAvec la présence exceptionnelle d’Éric Masson - chairman de Natura4Ever, Jean-Michel Larré – co-fondateur, Jimmy Wan – vice-président Europe, le Dr Nam N’Guyen – médecin spécialisé en nutrition et Jean-Jacques Trochon - animateur du groupe international de réflexion \"Rethinking Cancer\".\\nOuverture des portes\\xa0: 13h00\\nDébut de la Convention\\xa0: 13h30\\nFin de la Convention\\xa0: 18h00',\n",
       "  'ZENITH CENTER Rabat')]"
      ]
     },
     "execution_count": 50,
     "metadata": {},
     "output_type": "execute_result"
    }
   ],
   "source": [
    "prog"
   ]
  },
  {
   "cell_type": "markdown",
   "metadata": {},
   "source": [
    "### Convertir en objet pandas"
   ]
  },
  {
   "cell_type": "code",
   "execution_count": 51,
   "metadata": {},
   "outputs": [],
   "source": [
    "import pandas as pd"
   ]
  },
  {
   "cell_type": "code",
   "execution_count": 52,
   "metadata": {},
   "outputs": [],
   "source": [
    "df = pd.DataFrame(prog,columns=['noms','date','heure','image','lien','description','lieu'])"
   ]
  },
  {
   "cell_type": "code",
   "execution_count": 53,
   "metadata": {},
   "outputs": [
    {
     "data": {
      "text/html": [
       "<div>\n",
       "<style>\n",
       "    .dataframe thead tr:only-child th {\n",
       "        text-align: right;\n",
       "    }\n",
       "\n",
       "    .dataframe thead th {\n",
       "        text-align: left;\n",
       "    }\n",
       "\n",
       "    .dataframe tbody tr th {\n",
       "        vertical-align: top;\n",
       "    }\n",
       "</style>\n",
       "<table border=\"1\" class=\"dataframe\">\n",
       "  <thead>\n",
       "    <tr style=\"text-align: right;\">\n",
       "      <th></th>\n",
       "      <th>noms</th>\n",
       "      <th>date</th>\n",
       "      <th>heure</th>\n",
       "      <th>image</th>\n",
       "      <th>lien</th>\n",
       "      <th>description</th>\n",
       "      <th>lieu</th>\n",
       "    </tr>\n",
       "  </thead>\n",
       "  <tbody>\n",
       "    <tr>\n",
       "      <th>0</th>\n",
       "      <td>SQNC.\\n\\n\\t\\t\\t\\t\\t\\t presents RHADOO</td>\n",
       "      <td>samedi 03 août 2019</td>\n",
       "      <td>16h00</td>\n",
       "      <td>https://www.ticket.ma/upload/events/2051/origi...</td>\n",
       "      <td>https://www.ticket.ma/event/sqnc-le-03-aout-au...</td>\n",
       "      <td>Our next guest is Rhadoo, founder of the roman...</td>\n",
       "      <td>Le Dhow</td>\n",
       "    </tr>\n",
       "    <tr>\n",
       "      <th>1</th>\n",
       "      <td>Convention Natura4Ever au Maroc</td>\n",
       "      <td>samedi 28 septembre 2019</td>\n",
       "      <td>13h30</td>\n",
       "      <td>https://www.ticket.ma/upload/events/2050/origi...</td>\n",
       "      <td>https://www.ticket.ma/event/convention-nature-...</td>\n",
       "      <td>Vos leaders Natura4Ever vous accueillent, le S...</td>\n",
       "      <td>ZENITH CENTER Rabat</td>\n",
       "    </tr>\n",
       "  </tbody>\n",
       "</table>\n",
       "</div>"
      ],
      "text/plain": [
       "                                    noms                      date  heure  \\\n",
       "0  SQNC.\\n\\n\\t\\t\\t\\t\\t\\t presents RHADOO       samedi 03 août 2019  16h00   \n",
       "1        Convention Natura4Ever au Maroc  samedi 28 septembre 2019  13h30   \n",
       "\n",
       "                                               image  \\\n",
       "0  https://www.ticket.ma/upload/events/2051/origi...   \n",
       "1  https://www.ticket.ma/upload/events/2050/origi...   \n",
       "\n",
       "                                                lien  \\\n",
       "0  https://www.ticket.ma/event/sqnc-le-03-aout-au...   \n",
       "1  https://www.ticket.ma/event/convention-nature-...   \n",
       "\n",
       "                                         description                 lieu  \n",
       "0  Our next guest is Rhadoo, founder of the roman...              Le Dhow  \n",
       "1  Vos leaders Natura4Ever vous accueillent, le S...  ZENITH CENTER Rabat  "
      ]
     },
     "execution_count": 53,
     "metadata": {},
     "output_type": "execute_result"
    }
   ],
   "source": [
    "df"
   ]
  },
  {
   "cell_type": "markdown",
   "metadata": {},
   "source": [
    "### Exporter en JSON"
   ]
  },
  {
   "cell_type": "code",
   "execution_count": 55,
   "metadata": {},
   "outputs": [],
   "source": [
    "df.to_json(\"scraping_json/ticket_records\",orient=\"records\")"
   ]
  },
  {
   "cell_type": "code",
   "execution_count": null,
   "metadata": {},
   "outputs": [],
   "source": []
  }
 ],
 "metadata": {
  "kernelspec": {
   "display_name": "Python 3",
   "language": "python",
   "name": "python3"
  },
  "language_info": {
   "codemirror_mode": {
    "name": "ipython",
    "version": 3
   },
   "file_extension": ".py",
   "mimetype": "text/x-python",
   "name": "python",
   "nbconvert_exporter": "python",
   "pygments_lexer": "ipython3",
   "version": "3.6.1"
  }
 },
 "nbformat": 4,
 "nbformat_minor": 2
}
