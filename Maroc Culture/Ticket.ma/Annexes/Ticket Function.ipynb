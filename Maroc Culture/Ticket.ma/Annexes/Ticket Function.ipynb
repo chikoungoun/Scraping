{
 "cells": [
  {
   "cell_type": "markdown",
   "metadata": {},
   "source": [
    "# Fonction pour extraire tous les éléments d'une page"
   ]
  },
  {
   "cell_type": "code",
   "execution_count": 2,
   "metadata": {},
   "outputs": [],
   "source": [
    "import requests\n",
    "from bs4 import BeautifulSoup"
   ]
  },
  {
   "cell_type": "code",
   "execution_count": 4,
   "metadata": {},
   "outputs": [],
   "source": [
    "def ticket(lien):\n",
    "    url = lien\n",
    "    response = requests.get(url)\n",
    "    print(response)\n",
    "    \n",
    "    soup = BeautifulSoup(response.text,'html.parser')\n",
    "    type(soup)\n",
    "    \n",
    "    #focus sur le cadre de travail\n",
    "    event = soup.find('article',{'class':'event'})\n",
    "    \n",
    "    #extraire le nom\n",
    "    nom = event.find('div',{'class':'event-titles'}).get_text().replace('\\n','')\n",
    "    \n",
    "    #extraire la localisation\n",
    "    lieu = event.find('a',{'class':'fancybox map-location'}).get_text()\n",
    "    \n",
    "    #extraire l'heure du début du spectacle\n",
    "    heure = event.find('span',{'class':'start dtstart'}).get_text()\n",
    "    heure = heure[-5:]\n",
    "    \n",
    "    #retourner sous forme de tuple (nom, localisation, heure)\n",
    "    return (nom,lieu,heure)\n",
    "    \n",
    "    \n",
    "    \n",
    "    "
   ]
  },
  {
   "cell_type": "code",
   "execution_count": null,
   "metadata": {},
   "outputs": [],
   "source": []
  }
 ],
 "metadata": {
  "kernelspec": {
   "display_name": "Python 3",
   "language": "python",
   "name": "python3"
  },
  "language_info": {
   "codemirror_mode": {
    "name": "ipython",
    "version": 3
   },
   "file_extension": ".py",
   "mimetype": "text/x-python",
   "name": "python",
   "nbconvert_exporter": "python",
   "pygments_lexer": "ipython3",
   "version": "3.6.1"
  }
 },
 "nbformat": 4,
 "nbformat_minor": 2
}
