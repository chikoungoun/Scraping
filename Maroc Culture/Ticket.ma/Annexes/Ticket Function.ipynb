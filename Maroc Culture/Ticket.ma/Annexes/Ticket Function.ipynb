{
 "cells": [
  {
   "cell_type": "markdown",
   "metadata": {},
   "source": [
    "# Fonction pour extraire tous les éléments d'une page"
   ]
  },
  {
   "cell_type": "code",
   "execution_count": 1,
   "metadata": {},
   "outputs": [],
   "source": [
    "import requests\n",
    "from bs4 import BeautifulSoup"
   ]
  },
  {
   "cell_type": "markdown",
   "metadata": {},
   "source": [
    "Fonction permettant de renvoyer les éléments pertinents d'un évènement (nom, lieu, date, heure, poster). Le format de la date étant plus adapté depuis la page d'accueil, on combinera entre le résultat de la fonction et la liste de \"dates\"."
   ]
  },
  {
   "cell_type": "code",
   "execution_count": 1,
   "metadata": {},
   "outputs": [],
   "source": [
    "def ticket(lien,date):\n",
    "    url = lien\n",
    "    response = requests.get(url)\n",
    "    print(response)\n",
    "    \n",
    "    soup = BeautifulSoup(response.text,'html.parser')\n",
    "    type(soup)\n",
    "    \n",
    "    #focus sur le cadre de travail\n",
    "    event = soup.find('article',{'class':'event'})\n",
    "    \n",
    "    #extraire le nom\n",
    "    nom = event.find('div',{'class':'event-titles'}).get_text().replace('\\n','').replace('\\t','')\n",
    "    \n",
    "    #extraire la localisation\n",
    "    lieu='N/A'\n",
    "    lieu = event.find('a',{'class':'fancybox map-location'}).get_text()\n",
    "    \n",
    "    #extraire l'heure du début du spectacle\n",
    "    heure = 'N/A'\n",
    "    try:\n",
    "        heure = event.find('span',{'class':'start dtstart'}).get_text()\n",
    "        heure = heure[-5:]\n",
    "    except AttributeError:\n",
    "        print('Error Format')\n",
    "    \n",
    "    \n",
    "    #extraire le lien de l'image\n",
    "    img = 'N/A'\n",
    "    img = event.find('div',{'id':'artist-image'}).find('img')\n",
    "    img['src']\n",
    "    image = \"https://www.ticket.ma/\"+str(img['src'])\n",
    "    \n",
    "    #retourner sous forme de tuple (nom, localisation, heure)\n",
    "    return (nom,lieu,date,heure,image)\n",
    "    "
   ]
  },
  {
   "cell_type": "code",
   "execution_count": null,
   "metadata": {},
   "outputs": [],
   "source": []
  }
 ],
 "metadata": {
  "kernelspec": {
   "display_name": "Python 3",
   "language": "python",
   "name": "python3"
  },
  "language_info": {
   "codemirror_mode": {
    "name": "ipython",
    "version": 3
   },
   "file_extension": ".py",
   "mimetype": "text/x-python",
   "name": "python",
   "nbconvert_exporter": "python",
   "pygments_lexer": "ipython3",
   "version": "3.6.1"
  }
 },
 "nbformat": 4,
 "nbformat_minor": 2
}
