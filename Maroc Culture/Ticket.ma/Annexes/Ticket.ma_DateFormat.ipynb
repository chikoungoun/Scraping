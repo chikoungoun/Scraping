{
 "cells": [
  {
   "cell_type": "markdown",
   "metadata": {},
   "source": [
    "# Ticket.ma : Formatage des dates"
   ]
  },
  {
   "cell_type": "code",
   "execution_count": 11,
   "metadata": {},
   "outputs": [],
   "source": [
    "import datetime\n",
    "import time \n",
    "import locale\n",
    "locale.setlocale(locale.LC_ALL,\"french\")\n",
    "\n",
    "from datetime import datetime\n",
    "\n",
    "def num_to_date(num_date):\n",
    "    #convertir en datetime object\n",
    "    date_obj = datetime.strptime(num_date,'%A %d %B %Y')\n",
    "    #formater \n",
    "    return date_obj.strftime('%A %d %b')"
   ]
  },
  {
   "cell_type": "code",
   "execution_count": 2,
   "metadata": {},
   "outputs": [],
   "source": [
    "import pickle"
   ]
  },
  {
   "cell_type": "code",
   "execution_count": 4,
   "metadata": {},
   "outputs": [
    {
     "name": "stdout",
     "output_type": "stream",
     "text": [
      "[('Les Jeudis de l’OPM Rabat', 'mardi 10 septembre 2019', '20h00', 'https://www.ticket.ma/upload/events/2065/original_650_7.png', 'https://www.ticket.ma/event/les-jeudis-de-l-opm-le-10-septembre-a-lecole-internationale-de-musique-et-de-danse-rabat-a-20h', 'Duos, trios, quatuors ou quintettes, découvrez la saison de musique de chambre de l’Orchestre Philharmonique du Maroc. Favorisant les\\xa0individualités artistiques,\\xa0la musique de chambre propose un répertoire de musique classique dédié à un petit ensemble instrumental. Ces concerts en formation réduite permettent d’êtr\\xa0au plus proche des musiciens de l’Orchestre Philharmonique du Maroc.\\nPour cette première édition de la saison, retrouvez un concert autour de deux instruments indédits : le\\xa0tuba, et le\\xa0vibraphone. Ce mélange d’instrument à percussion et d’instrument en cuivre, permet un de vous faire découvrir un\\xa0programme rythmé\\xa0 allant des danses brésiliennes au folklore tzigane de l’Europe de l’Est.\\xa0\\nZahra Regragui,\\xa0vibraphone\\nFouad Ould Aicha,\\xa0tuba\\xa0\\nTarif plein : 80Dhs - Gratuit pour les étudiants', 'EIMD Rabat'), ('Convention Natura4Ever au Maroc', 'samedi 28 septembre 2019', '13h30', 'https://www.ticket.ma/upload/events/2050/original_convention_rabat_650X445px_2.png', 'https://www.ticket.ma/event/convention-nature-4-ever-au-maroc-le-28-septembre-2019-rabat', 'Vos leaders Natura4Ever vous accueillent, le Samedi\\xa028\\xa0septembre 2019, au Zénith Center de Rabat pour une convention spéciale.\\n«\\xa0Avec la présence exceptionnelle de Jimmy Wan – vice-président Europe et du Dr Nam N’Guyen – médecin spécialisé en nutrition.\\xa0»\\nOuverture des portes\\xa0: 13h00\\nDébut de la Convention\\xa0: 13h30\\nFin de la Convention\\xa0: 18h00', 'ZENITH CENTER Rabat')]\n"
     ]
    }
   ],
   "source": [
    "pickle_in = open('ticket.pickle','rb') #rb : read - byte\n",
    "prog = pickle.load(pickle_in)\n",
    "\n",
    "print(prog)"
   ]
  },
  {
   "cell_type": "code",
   "execution_count": 5,
   "metadata": {},
   "outputs": [],
   "source": [
    "import pandas as pd\n",
    "df = pd.DataFrame(prog,columns=['noms','date','heure','image','lien','description','lieu'])"
   ]
  },
  {
   "cell_type": "code",
   "execution_count": 6,
   "metadata": {},
   "outputs": [
    {
     "data": {
      "text/html": [
       "<div>\n",
       "<style>\n",
       "    .dataframe thead tr:only-child th {\n",
       "        text-align: right;\n",
       "    }\n",
       "\n",
       "    .dataframe thead th {\n",
       "        text-align: left;\n",
       "    }\n",
       "\n",
       "    .dataframe tbody tr th {\n",
       "        vertical-align: top;\n",
       "    }\n",
       "</style>\n",
       "<table border=\"1\" class=\"dataframe\">\n",
       "  <thead>\n",
       "    <tr style=\"text-align: right;\">\n",
       "      <th></th>\n",
       "      <th>noms</th>\n",
       "      <th>date</th>\n",
       "      <th>heure</th>\n",
       "      <th>image</th>\n",
       "      <th>lien</th>\n",
       "      <th>description</th>\n",
       "      <th>lieu</th>\n",
       "    </tr>\n",
       "  </thead>\n",
       "  <tbody>\n",
       "    <tr>\n",
       "      <th>0</th>\n",
       "      <td>Les Jeudis de l’OPM Rabat</td>\n",
       "      <td>mardi 10 septembre 2019</td>\n",
       "      <td>20h00</td>\n",
       "      <td>https://www.ticket.ma/upload/events/2065/origi...</td>\n",
       "      <td>https://www.ticket.ma/event/les-jeudis-de-l-op...</td>\n",
       "      <td>Duos, trios, quatuors ou quintettes, découvrez...</td>\n",
       "      <td>EIMD Rabat</td>\n",
       "    </tr>\n",
       "    <tr>\n",
       "      <th>1</th>\n",
       "      <td>Convention Natura4Ever au Maroc</td>\n",
       "      <td>samedi 28 septembre 2019</td>\n",
       "      <td>13h30</td>\n",
       "      <td>https://www.ticket.ma/upload/events/2050/origi...</td>\n",
       "      <td>https://www.ticket.ma/event/convention-nature-...</td>\n",
       "      <td>Vos leaders Natura4Ever vous accueillent, le S...</td>\n",
       "      <td>ZENITH CENTER Rabat</td>\n",
       "    </tr>\n",
       "  </tbody>\n",
       "</table>\n",
       "</div>"
      ],
      "text/plain": [
       "                              noms                      date  heure  \\\n",
       "0        Les Jeudis de l’OPM Rabat   mardi 10 septembre 2019  20h00   \n",
       "1  Convention Natura4Ever au Maroc  samedi 28 septembre 2019  13h30   \n",
       "\n",
       "                                               image  \\\n",
       "0  https://www.ticket.ma/upload/events/2065/origi...   \n",
       "1  https://www.ticket.ma/upload/events/2050/origi...   \n",
       "\n",
       "                                                lien  \\\n",
       "0  https://www.ticket.ma/event/les-jeudis-de-l-op...   \n",
       "1  https://www.ticket.ma/event/convention-nature-...   \n",
       "\n",
       "                                         description                 lieu  \n",
       "0  Duos, trios, quatuors ou quintettes, découvrez...           EIMD Rabat  \n",
       "1  Vos leaders Natura4Ever vous accueillent, le S...  ZENITH CENTER Rabat  "
      ]
     },
     "execution_count": 6,
     "metadata": {},
     "output_type": "execute_result"
    }
   ],
   "source": [
    "df"
   ]
  },
  {
   "cell_type": "code",
   "execution_count": 12,
   "metadata": {},
   "outputs": [],
   "source": [
    "df['date'] = df['date'].apply(num_to_date)"
   ]
  },
  {
   "cell_type": "code",
   "execution_count": 13,
   "metadata": {},
   "outputs": [
    {
     "data": {
      "text/plain": [
       "0     mardi 10 sept.\n",
       "1    samedi 28 sept.\n",
       "Name: date, dtype: object"
      ]
     },
     "execution_count": 13,
     "metadata": {},
     "output_type": "execute_result"
    }
   ],
   "source": [
    "df['date']"
   ]
  },
  {
   "cell_type": "code",
   "execution_count": 14,
   "metadata": {},
   "outputs": [
    {
     "data": {
      "text/html": [
       "<div>\n",
       "<style>\n",
       "    .dataframe thead tr:only-child th {\n",
       "        text-align: right;\n",
       "    }\n",
       "\n",
       "    .dataframe thead th {\n",
       "        text-align: left;\n",
       "    }\n",
       "\n",
       "    .dataframe tbody tr th {\n",
       "        vertical-align: top;\n",
       "    }\n",
       "</style>\n",
       "<table border=\"1\" class=\"dataframe\">\n",
       "  <thead>\n",
       "    <tr style=\"text-align: right;\">\n",
       "      <th></th>\n",
       "      <th>noms</th>\n",
       "      <th>date</th>\n",
       "      <th>heure</th>\n",
       "      <th>image</th>\n",
       "      <th>lien</th>\n",
       "      <th>description</th>\n",
       "      <th>lieu</th>\n",
       "    </tr>\n",
       "  </thead>\n",
       "  <tbody>\n",
       "    <tr>\n",
       "      <th>0</th>\n",
       "      <td>Les Jeudis de l’OPM Rabat</td>\n",
       "      <td>mardi 10 sept.</td>\n",
       "      <td>20h00</td>\n",
       "      <td>https://www.ticket.ma/upload/events/2065/origi...</td>\n",
       "      <td>https://www.ticket.ma/event/les-jeudis-de-l-op...</td>\n",
       "      <td>Duos, trios, quatuors ou quintettes, découvrez...</td>\n",
       "      <td>EIMD Rabat</td>\n",
       "    </tr>\n",
       "    <tr>\n",
       "      <th>1</th>\n",
       "      <td>Convention Natura4Ever au Maroc</td>\n",
       "      <td>samedi 28 sept.</td>\n",
       "      <td>13h30</td>\n",
       "      <td>https://www.ticket.ma/upload/events/2050/origi...</td>\n",
       "      <td>https://www.ticket.ma/event/convention-nature-...</td>\n",
       "      <td>Vos leaders Natura4Ever vous accueillent, le S...</td>\n",
       "      <td>ZENITH CENTER Rabat</td>\n",
       "    </tr>\n",
       "  </tbody>\n",
       "</table>\n",
       "</div>"
      ],
      "text/plain": [
       "                              noms             date  heure  \\\n",
       "0        Les Jeudis de l’OPM Rabat   mardi 10 sept.  20h00   \n",
       "1  Convention Natura4Ever au Maroc  samedi 28 sept.  13h30   \n",
       "\n",
       "                                               image  \\\n",
       "0  https://www.ticket.ma/upload/events/2065/origi...   \n",
       "1  https://www.ticket.ma/upload/events/2050/origi...   \n",
       "\n",
       "                                                lien  \\\n",
       "0  https://www.ticket.ma/event/les-jeudis-de-l-op...   \n",
       "1  https://www.ticket.ma/event/convention-nature-...   \n",
       "\n",
       "                                         description                 lieu  \n",
       "0  Duos, trios, quatuors ou quintettes, découvrez...           EIMD Rabat  \n",
       "1  Vos leaders Natura4Ever vous accueillent, le S...  ZENITH CENTER Rabat  "
      ]
     },
     "execution_count": 14,
     "metadata": {},
     "output_type": "execute_result"
    }
   ],
   "source": [
    "df"
   ]
  },
  {
   "cell_type": "code",
   "execution_count": null,
   "metadata": {},
   "outputs": [],
   "source": []
  }
 ],
 "metadata": {
  "kernelspec": {
   "display_name": "Python 3",
   "language": "python",
   "name": "python3"
  },
  "language_info": {
   "codemirror_mode": {
    "name": "ipython",
    "version": 3
   },
   "file_extension": ".py",
   "mimetype": "text/x-python",
   "name": "python",
   "nbconvert_exporter": "python",
   "pygments_lexer": "ipython3",
   "version": "3.6.1"
  }
 },
 "nbformat": 4,
 "nbformat_minor": 2
}
