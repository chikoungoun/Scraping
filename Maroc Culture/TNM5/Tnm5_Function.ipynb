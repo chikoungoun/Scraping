{
 "cells": [
  {
   "cell_type": "markdown",
   "metadata": {},
   "source": [
    "# Fonction pour effectuer le scraping des évènements du théâtre Mohamed "
   ]
  },
  {
   "cell_type": "code",
   "execution_count": 1,
   "metadata": {},
   "outputs": [],
   "source": [
    "import requests\n",
    "from bs4 import BeautifulSoup"
   ]
  },
  {
   "cell_type": "code",
   "execution_count": 1,
   "metadata": {},
   "outputs": [],
   "source": [
    "def tnm5(lien):\n",
    "    url = lien\n",
    "    response = requests.get(url)\n",
    "    \n",
    "    soup = BeautifulSoup(response.text,'html.parser')\n",
    "    type(soup)\n",
    "    \n",
    "    spectacles = soup.find(\"div\", {\"id\": \"iso-container\"})\n",
    "    \n",
    "    #nom de l'évènement\n",
    "    noms = []\n",
    "    for i in spectacles.find_all('h3'):\n",
    "        noms.append(i.text)\n",
    "        \n",
    "    #date de l'évènement\n",
    "    s = [] #appelé 's' à cause des espaces qu'il contient\n",
    "    for i in spectacles.find_all('span',class_='help'):\n",
    "        s.append(i.get_text().replace(\"\\n\", \"\").replace(\"\\xa0\", \"\"))\n",
    "        \n",
    "    temps = []\n",
    "    for i in s:\n",
    "        temps.append(\" \".join(i.split()))\n",
    "        \n",
    "    dates = []\n",
    "    heures = []\n",
    "    for i in temps:\n",
    "        dates.append(i[:-6])\n",
    "        heures.append(i[13:])   \n",
    "        \n",
    "    img = spectacles.find_all('img')\n",
    "    \n",
    "    images = []\n",
    "    for i in img:\n",
    "        images.append(i['src'])\n",
    "        \n",
    "    prog = []\n",
    "    for i,j,k,l in zip(noms,dates,heures,images):\n",
    "        t = (i,j,k,l)\n",
    "        prog.append(t)\n",
    "    "
   ]
  },
  {
   "cell_type": "code",
   "execution_count": null,
   "metadata": {},
   "outputs": [],
   "source": []
  }
 ],
 "metadata": {
  "kernelspec": {
   "display_name": "Python 3",
   "language": "python",
   "name": "python3"
  },
  "language_info": {
   "codemirror_mode": {
    "name": "ipython",
    "version": 3
   },
   "file_extension": ".py",
   "mimetype": "text/x-python",
   "name": "python",
   "nbconvert_exporter": "python",
   "pygments_lexer": "ipython3",
   "version": "3.6.1"
  }
 },
 "nbformat": 4,
 "nbformat_minor": 2
}
