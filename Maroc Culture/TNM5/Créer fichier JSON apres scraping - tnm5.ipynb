{
 "cells": [
  {
   "cell_type": "markdown",
   "metadata": {},
   "source": [
    "# Créer un fichier JSON à partir des données récoltées"
   ]
  },
  {
   "cell_type": "code",
   "execution_count": 1,
   "metadata": {},
   "outputs": [
    {
     "data": {
      "text/plain": [
       "<Response [200]>"
      ]
     },
     "execution_count": 1,
     "metadata": {},
     "output_type": "execute_result"
    }
   ],
   "source": [
    "import requests\n",
    "\n",
    "url = 'https://www.tnm5.ma/programme-du-mois/'\n",
    "response = requests.get(url)\n",
    "response"
   ]
  },
  {
   "cell_type": "code",
   "execution_count": 2,
   "metadata": {
    "scrolled": true
   },
   "outputs": [
    {
     "name": "stdout",
     "output_type": "stream",
     "text": [
      "<!-- Include the header -->\n",
      "<!DOCTYPE html>\n",
      "<html lang=\"en\">\n",
      "<head>\n",
      "  <meta charset=\"utf-8\">\n",
      "  <meta\n"
     ]
    }
   ],
   "source": [
    "print(response.text[:100])"
   ]
  },
  {
   "cell_type": "code",
   "execution_count": 3,
   "metadata": {},
   "outputs": [
    {
     "data": {
      "text/plain": [
       "bs4.BeautifulSoup"
      ]
     },
     "execution_count": 3,
     "metadata": {},
     "output_type": "execute_result"
    }
   ],
   "source": [
    "from bs4 import BeautifulSoup\n",
    "\n",
    "soup = BeautifulSoup(response.text,'html.parser')\n",
    "type(soup)"
   ]
  },
  {
   "cell_type": "code",
   "execution_count": 4,
   "metadata": {},
   "outputs": [],
   "source": [
    "spectacles = soup.find(\"div\", {\"id\": \"iso-container\"})"
   ]
  },
  {
   "cell_type": "code",
   "execution_count": 5,
   "metadata": {},
   "outputs": [],
   "source": [
    "noms = []\n",
    "for i in spectacles.find_all('h3'):\n",
    "    noms.append(i.text)"
   ]
  },
  {
   "cell_type": "code",
   "execution_count": 6,
   "metadata": {},
   "outputs": [],
   "source": [
    "s = [] #appelé 's' à cause des espaces qu'il contient\n",
    "for i in spectacles.find_all('span',class_='help'):\n",
    "    s.append(i.get_text().replace(\"\\n\", \"\").replace(\"\\xa0\", \"\"))"
   ]
  },
  {
   "cell_type": "code",
   "execution_count": 7,
   "metadata": {},
   "outputs": [],
   "source": [
    "temps = []\n",
    "for i in s:\n",
    "    temps.append(\" \".join(i.split()))"
   ]
  },
  {
   "cell_type": "code",
   "execution_count": 8,
   "metadata": {},
   "outputs": [],
   "source": [
    "dates = []\n",
    "heures = []\n",
    "for i in temps:\n",
    "    dates.append(i[:-6])\n",
    "    heures.append(i[13:])"
   ]
  },
  {
   "cell_type": "code",
   "execution_count": 9,
   "metadata": {},
   "outputs": [],
   "source": [
    "img = spectacles.find_all('img')"
   ]
  },
  {
   "cell_type": "code",
   "execution_count": 10,
   "metadata": {},
   "outputs": [],
   "source": [
    "images = []\n",
    "for i in img:\n",
    "    images.append(i['src'].replace(\"http:\",\"https:\"))"
   ]
  },
  {
   "cell_type": "code",
   "execution_count": null,
   "metadata": {},
   "outputs": [],
   "source": []
  },
  {
   "cell_type": "code",
   "execution_count": 11,
   "metadata": {},
   "outputs": [
    {
     "data": {
      "text/plain": [
       "['https://tnm5.ma/wp-content/uploads/2019/04/IMG_20190628_175106_866.jpg',\n",
       " 'https://tnm5.ma/wp-content/uploads/2019/06/9juillet--e1561641574477.jpg',\n",
       " 'https://tnm5.ma/wp-content/uploads/2019/06/10juillet2-e1561545507291.jpg',\n",
       " 'https://tnm5.ma/wp-content/uploads/2019/07/12juillet2019-e1562667356185.jpg',\n",
       " 'https://tnm5.ma/wp-content/uploads/2019/07/17juillet2019-e1562668104677.jpg',\n",
       " 'https://tnm5.ma/wp-content/uploads/2019/06/18juillet-2-e1562579160857.jpg',\n",
       " 'https://tnm5.ma/wp-content/uploads/2019/07/Flyer_Golden_Jalia_Awards-e1562061361479.jpg',\n",
       " 'https://tnm5.ma/wp-content/uploads/2019/07/25juillet-.jpg']"
      ]
     },
     "execution_count": 11,
     "metadata": {},
     "output_type": "execute_result"
    }
   ],
   "source": [
    "images"
   ]
  },
  {
   "cell_type": "code",
   "execution_count": 12,
   "metadata": {},
   "outputs": [],
   "source": [
    "prog = []\n",
    "for i,j,k,l in zip(noms,dates,heures,images):\n",
    "    t = (i,j,k,l)\n",
    "    prog.append(t)"
   ]
  },
  {
   "cell_type": "code",
   "execution_count": 13,
   "metadata": {},
   "outputs": [
    {
     "data": {
      "text/plain": [
       "[('Les ballets la Tarentelle : EXCELSIOR ',\n",
       "  '2 juil. 2019',\n",
       "  '18:30',\n",
       "  'https://tnm5.ma/wp-content/uploads/2019/04/IMG_20190628_175106_866.jpg'),\n",
       " ('عطيل دومیل دیزناف ',\n",
       "  '9 juil. 2019',\n",
       "  '20:00',\n",
       "  'https://tnm5.ma/wp-content/uploads/2019/06/9juillet--e1561641574477.jpg'),\n",
       " ('مسرحية  أغنية التم ',\n",
       "  '10 juil. 2019',\n",
       "  ' 20:30',\n",
       "  'https://tnm5.ma/wp-content/uploads/2019/06/10juillet2-e1561545507291.jpg'),\n",
       " ('المهرجان الدولي مغرب الحكايات ',\n",
       "  '12 juil. 2019',\n",
       "  ' 21:00',\n",
       "  'https://tnm5.ma/wp-content/uploads/2019/07/12juillet2019-e1562667356185.jpg'),\n",
       " ('السهرة الكبرى مع الفنانة المتألقة عزيزة ملاك ',\n",
       "  '17 juil. 2019',\n",
       "  ' 20:00',\n",
       "  'https://tnm5.ma/wp-content/uploads/2019/07/17juillet2019-e1562668104677.jpg')]"
      ]
     },
     "execution_count": 13,
     "metadata": {},
     "output_type": "execute_result"
    }
   ],
   "source": [
    "#afficher les 5 premiers évènements\n",
    "prog[0:5]"
   ]
  },
  {
   "cell_type": "markdown",
   "metadata": {},
   "source": [
    "**Convertir liste de tuples en Dataframe**"
   ]
  },
  {
   "cell_type": "code",
   "execution_count": 14,
   "metadata": {},
   "outputs": [],
   "source": [
    "import pandas as pd"
   ]
  },
  {
   "cell_type": "code",
   "execution_count": 15,
   "metadata": {},
   "outputs": [],
   "source": [
    "df = pd.DataFrame(prog,columns=['noms','date','heure','image'])"
   ]
  },
  {
   "cell_type": "code",
   "execution_count": 16,
   "metadata": {},
   "outputs": [
    {
     "data": {
      "text/html": [
       "<div>\n",
       "<style>\n",
       "    .dataframe thead tr:only-child th {\n",
       "        text-align: right;\n",
       "    }\n",
       "\n",
       "    .dataframe thead th {\n",
       "        text-align: left;\n",
       "    }\n",
       "\n",
       "    .dataframe tbody tr th {\n",
       "        vertical-align: top;\n",
       "    }\n",
       "</style>\n",
       "<table border=\"1\" class=\"dataframe\">\n",
       "  <thead>\n",
       "    <tr style=\"text-align: right;\">\n",
       "      <th></th>\n",
       "      <th>noms</th>\n",
       "      <th>date</th>\n",
       "      <th>heure</th>\n",
       "      <th>image</th>\n",
       "    </tr>\n",
       "  </thead>\n",
       "  <tbody>\n",
       "    <tr>\n",
       "      <th>0</th>\n",
       "      <td>Les ballets la Tarentelle : EXCELSIOR</td>\n",
       "      <td>2 juil. 2019</td>\n",
       "      <td>18:30</td>\n",
       "      <td>https://tnm5.ma/wp-content/uploads/2019/04/IMG...</td>\n",
       "    </tr>\n",
       "    <tr>\n",
       "      <th>1</th>\n",
       "      <td>عطيل دومیل دیزناف</td>\n",
       "      <td>9 juil. 2019</td>\n",
       "      <td>20:00</td>\n",
       "      <td>https://tnm5.ma/wp-content/uploads/2019/06/9ju...</td>\n",
       "    </tr>\n",
       "    <tr>\n",
       "      <th>2</th>\n",
       "      <td>مسرحية  أغنية التم</td>\n",
       "      <td>10 juil. 2019</td>\n",
       "      <td>20:30</td>\n",
       "      <td>https://tnm5.ma/wp-content/uploads/2019/06/10j...</td>\n",
       "    </tr>\n",
       "    <tr>\n",
       "      <th>3</th>\n",
       "      <td>المهرجان الدولي مغرب الحكايات</td>\n",
       "      <td>12 juil. 2019</td>\n",
       "      <td>21:00</td>\n",
       "      <td>https://tnm5.ma/wp-content/uploads/2019/07/12j...</td>\n",
       "    </tr>\n",
       "    <tr>\n",
       "      <th>4</th>\n",
       "      <td>السهرة الكبرى مع الفنانة المتألقة عزيزة ملاك</td>\n",
       "      <td>17 juil. 2019</td>\n",
       "      <td>20:00</td>\n",
       "      <td>https://tnm5.ma/wp-content/uploads/2019/07/17j...</td>\n",
       "    </tr>\n",
       "  </tbody>\n",
       "</table>\n",
       "</div>"
      ],
      "text/plain": [
       "                                            noms           date   heure  \\\n",
       "0         Les ballets la Tarentelle : EXCELSIOR    2 juil. 2019   18:30   \n",
       "1                             عطيل دومیل دیزناف    9 juil. 2019   20:00   \n",
       "2                            مسرحية  أغنية التم   10 juil. 2019   20:30   \n",
       "3                 المهرجان الدولي مغرب الحكايات   12 juil. 2019   21:00   \n",
       "4  السهرة الكبرى مع الفنانة المتألقة عزيزة ملاك   17 juil. 2019   20:00   \n",
       "\n",
       "                                               image  \n",
       "0  https://tnm5.ma/wp-content/uploads/2019/04/IMG...  \n",
       "1  https://tnm5.ma/wp-content/uploads/2019/06/9ju...  \n",
       "2  https://tnm5.ma/wp-content/uploads/2019/06/10j...  \n",
       "3  https://tnm5.ma/wp-content/uploads/2019/07/12j...  \n",
       "4  https://tnm5.ma/wp-content/uploads/2019/07/17j...  "
      ]
     },
     "execution_count": 16,
     "metadata": {},
     "output_type": "execute_result"
    }
   ],
   "source": [
    "df.head()"
   ]
  },
  {
   "cell_type": "code",
   "execution_count": null,
   "metadata": {},
   "outputs": [],
   "source": []
  },
  {
   "cell_type": "code",
   "execution_count": 17,
   "metadata": {},
   "outputs": [],
   "source": [
    "# Limiter le nombre d'enregistrements\n",
    "df.head().to_json(\"scraping_json/tnm5_records\",orient=\"records\")"
   ]
  },
  {
   "cell_type": "code",
   "execution_count": null,
   "metadata": {},
   "outputs": [],
   "source": []
  }
 ],
 "metadata": {
  "kernelspec": {
   "display_name": "Python 3",
   "language": "python",
   "name": "python3"
  },
  "language_info": {
   "codemirror_mode": {
    "name": "ipython",
    "version": 3
   },
   "file_extension": ".py",
   "mimetype": "text/x-python",
   "name": "python",
   "nbconvert_exporter": "python",
   "pygments_lexer": "ipython3",
   "version": "3.6.1"
  }
 },
 "nbformat": 4,
 "nbformat_minor": 2
}
