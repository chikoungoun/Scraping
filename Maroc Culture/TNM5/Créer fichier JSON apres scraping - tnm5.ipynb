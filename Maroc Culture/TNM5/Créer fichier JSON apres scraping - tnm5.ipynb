{
 "cells": [
  {
   "cell_type": "markdown",
   "metadata": {},
   "source": [
    "# Créer un fichier JSON à partir des données récoltées"
   ]
  },
  {
   "cell_type": "code",
   "execution_count": 1,
   "metadata": {},
   "outputs": [
    {
     "data": {
      "text/plain": [
       "<Response [200]>"
      ]
     },
     "execution_count": 1,
     "metadata": {},
     "output_type": "execute_result"
    }
   ],
   "source": [
    "import requests\n",
    "\n",
    "url = 'https://www.tnm5.ma/programme-du-mois/'\n",
    "response = requests.get(url)\n",
    "response"
   ]
  },
  {
   "cell_type": "code",
   "execution_count": 2,
   "metadata": {
    "scrolled": true
   },
   "outputs": [
    {
     "name": "stdout",
     "output_type": "stream",
     "text": [
      "<!-- Include the header -->\n",
      "<!DOCTYPE html>\n",
      "<html lang=\"en\">\n",
      "<head>\n",
      "  <meta charset=\"utf-8\">\n",
      "  <meta\n"
     ]
    }
   ],
   "source": [
    "print(response.text[:100])"
   ]
  },
  {
   "cell_type": "code",
   "execution_count": 3,
   "metadata": {},
   "outputs": [
    {
     "data": {
      "text/plain": [
       "bs4.BeautifulSoup"
      ]
     },
     "execution_count": 3,
     "metadata": {},
     "output_type": "execute_result"
    }
   ],
   "source": [
    "from bs4 import BeautifulSoup\n",
    "\n",
    "soup = BeautifulSoup(response.text,'html.parser')\n",
    "type(soup)"
   ]
  },
  {
   "cell_type": "code",
   "execution_count": 4,
   "metadata": {},
   "outputs": [],
   "source": [
    "spectacles = soup.find(\"div\", {\"id\": \"iso-container\"})"
   ]
  },
  {
   "cell_type": "code",
   "execution_count": 5,
   "metadata": {},
   "outputs": [],
   "source": [
    "noms = []\n",
    "for i in spectacles.find_all('h3'):\n",
    "    noms.append(i.text)"
   ]
  },
  {
   "cell_type": "code",
   "execution_count": 6,
   "metadata": {},
   "outputs": [],
   "source": [
    "s = [] #appelé 's' à cause des espaces qu'il contient\n",
    "for i in spectacles.find_all('span',class_='help'):\n",
    "    s.append(i.get_text().replace(\"\\n\", \"\").replace(\"\\xa0\", \"\"))"
   ]
  },
  {
   "cell_type": "code",
   "execution_count": 7,
   "metadata": {},
   "outputs": [],
   "source": [
    "temps = []\n",
    "for i in s:\n",
    "    temps.append(\" \".join(i.split()))"
   ]
  },
  {
   "cell_type": "code",
   "execution_count": 8,
   "metadata": {},
   "outputs": [],
   "source": [
    "dates = []\n",
    "heures = []\n",
    "for i in temps:\n",
    "    dates.append(i[:-6])\n",
    "    heures.append(i[13:])"
   ]
  },
  {
   "cell_type": "code",
   "execution_count": 9,
   "metadata": {},
   "outputs": [],
   "source": [
    "img = spectacles.find_all('img')"
   ]
  },
  {
   "cell_type": "code",
   "execution_count": 10,
   "metadata": {},
   "outputs": [],
   "source": [
    "images = []\n",
    "for i in img:\n",
    "    images.append(i['src'].replace(\"http:\",\"https:\"))"
   ]
  },
  {
   "cell_type": "code",
   "execution_count": null,
   "metadata": {},
   "outputs": [],
   "source": []
  },
  {
   "cell_type": "code",
   "execution_count": 11,
   "metadata": {},
   "outputs": [
    {
     "data": {
      "text/plain": [
       "['https://tnm5.ma/wp-content/uploads/2019/04/IMG_20190628_175106_866.jpg',\n",
       " 'https://tnm5.ma/wp-content/uploads/2019/06/9juillet--e1561641574477.jpg',\n",
       " 'https://tnm5.ma/wp-content/uploads/2019/06/10juillet2-e1561545507291.jpg',\n",
       " 'https://tnm5.ma/wp-content/uploads/2019/07/12juillet2019-e1562667356185.jpg',\n",
       " 'https://tnm5.ma/wp-content/uploads/2019/04/29avril.jpg',\n",
       " 'https://tnm5.ma/wp-content/uploads/2019/07/17juillet2019-e1562668104677.jpg',\n",
       " 'https://tnm5.ma/wp-content/uploads/2019/06/18juillet-2-e1562579160857.jpg',\n",
       " 'https://tnm5.ma/wp-content/uploads/2019/07/20juillet-e1562948225493.jpg',\n",
       " 'https://tnm5.ma/wp-content/uploads/2019/07/22juillet.jpg',\n",
       " 'https://tnm5.ma/wp-content/uploads/2019/07/Flyer_Golden_Jalia_Awards-e1562061361479.jpg',\n",
       " 'https://tnm5.ma/wp-content/uploads/2019/07/25juillet-.jpg',\n",
       " 'https://tnm5.ma/wp-content/uploads/2019/07/25juillet-expo-.jpg',\n",
       " 'https://tnm5.ma/wp-content/uploads/2019/07/26juillet-e1564051409711.jpg',\n",
       " 'https://tnm5.ma/wp-content/uploads/2019/07/27juillet1-e1563809465946.jpg',\n",
       " 'https://tnm5.ma/wp-content/uploads/2019/07/affiche--e1563973254248.png',\n",
       " 'https://tnm5.ma/wp-content/uploads/2019/07/affiche--e1563973254248.png']"
      ]
     },
     "execution_count": 11,
     "metadata": {},
     "output_type": "execute_result"
    }
   ],
   "source": [
    "images"
   ]
  },
  {
   "cell_type": "markdown",
   "metadata": {},
   "source": [
    "### Récupérer le lien de chaque évènement"
   ]
  },
  {
   "cell_type": "code",
   "execution_count": 12,
   "metadata": {},
   "outputs": [],
   "source": [
    "links = spectacles.find_all('a',class_='spt')"
   ]
  },
  {
   "cell_type": "code",
   "execution_count": 13,
   "metadata": {},
   "outputs": [],
   "source": [
    "liens = []\n",
    "for i in links:\n",
    "    liens.append(i.get('href'))"
   ]
  },
  {
   "cell_type": "markdown",
   "metadata": {},
   "source": [
    "## Accéder aux évènements page par page pour extraire la \"description\""
   ]
  },
  {
   "cell_type": "markdown",
   "metadata": {},
   "source": [
    "Pour accéder aux évènements sans attirer l'attention du serveur (mesure de précaution), on va simuler un comportement humain"
   ]
  },
  {
   "cell_type": "code",
   "execution_count": 14,
   "metadata": {},
   "outputs": [],
   "source": [
    "from time import time\n",
    "from time import sleep\n",
    "from random import randint"
   ]
  },
  {
   "cell_type": "code",
   "execution_count": 15,
   "metadata": {},
   "outputs": [],
   "source": [
    "start_time = time()\n",
    "requests = 0"
   ]
  },
  {
   "cell_type": "code",
   "execution_count": 16,
   "metadata": {},
   "outputs": [],
   "source": [
    "from requests import get"
   ]
  },
  {
   "cell_type": "code",
   "execution_count": 17,
   "metadata": {},
   "outputs": [
    {
     "name": "stdout",
     "output_type": "stream",
     "text": [
      "https://tnm5.ma/spectacles/les-ballets-la-tarentelle-excelsior/\n",
      "9\n",
      "https://tnm5.ma/spectacles/%d8%b9%d8%b7%d9%8a%d9%84-%d8%af%d9%88%d9%85%db%8c%d9%84-%d8%af%db%8c%d8%b2%d9%86%d8%a7%d9%81/\n",
      "14\n",
      "https://tnm5.ma/spectacles/%d9%85%d8%b3%d8%b1%d8%ad%d9%8a%d8%a9-%d8%a3%d8%ba%d9%86%d9%8a%d8%a9-%d8%a7%d9%84%d8%aa%d9%85/\n",
      "11\n",
      "https://tnm5.ma/spectacles/%d8%a7%d9%84%d9%85%d9%87%d8%b1%d8%ac%d8%a7%d9%86-%d8%a7%d9%84%d8%af%d9%88%d9%84%d9%8a-%d9%85%d8%ba%d8%b1%d8%a8-%d8%a7%d9%84%d8%ad%d9%83%d8%a7%d9%8a%d8%a7%d8%aa/\n",
      "9\n",
      "https://tnm5.ma/spectacles/%d9%85%d8%b3%d8%b1%d8%ad%d9%8a%d8%a9-%d9%84%d8%a7%d8%af%d8%b1%d9%8a%d8%b3%d8%a9%e2%80%ad-%e2%80%ac%d8%ba%d9%84%d8%b7/\n",
      "12\n",
      "https://tnm5.ma/spectacles/%d8%a7%d9%84%d8%b3%d9%87%d8%b1%d8%a9-%d8%a7%d9%84%d9%83%d8%a8%d8%b1%d9%89-%d9%85%d8%b9-%d8%a7%d9%84%d9%81%d9%86%d8%a7%d9%86%d8%a9-%d8%a7%d9%84%d9%85%d8%aa%d8%a3%d9%84%d9%82%d8%a9-%d8%b9%d8%b2%d9%8a/\n",
      "11\n",
      "https://tnm5.ma/spectacles/%d8%b9%d9%84%d9%8a-%d8%a7%d9%83%d8%b3-%d9%85%d8%b9%d8%ac%d8%b2%d8%a9-30-%d9%81%d8%a8%d8%b1%d8%a7%d9%8a%d8%b1-2/\n",
      "8\n",
      "https://tnm5.ma/spectacles/%d8%b3%d9%87%d8%b1%d8%a9-%d9%81%d9%86%d9%8a%d8%a9-%d9%83%d8%a8%d8%b1%d9%89/\n",
      "10\n",
      "https://tnm5.ma/spectacles/lorchestre-symphonique-national-de-la-jeunesse-du-chili/\n",
      "10\n",
      "https://tnm5.ma/spectacles/golden-jalia-awards/\n",
      "10\n",
      "https://tnm5.ma/spectacles/%d8%a7%d9%84%d9%85%d9%84%d8%ad%d9%85%d8%a9-%d8%a7%d9%84%d9%83%d8%a8%d8%b1%d9%89-%d9%85%d9%84%d9%83%d9%86%d8%a7-%d8%a7%d9%84%d9%87%d9%85%d8%a7%d9%85/\n",
      "9\n",
      "https://tnm5.ma/spectacles/chinese-new-image-oil-paintings-world-tour/\n",
      "10\n",
      "https://tnm5.ma/spectacles/%d8%a7%d9%84%d9%85%d9%87%d8%b1%d8%ac%d8%a7%d9%86-%d8%a7%d9%84%d8%af%d9%88%d9%84%d9%8a-%d8%a3%d8%b7%d9%81%d8%a7%d9%84-%d8%a7%d9%84%d8%b3%d9%84%d8%a7%d9%85/\n",
      "9\n",
      "https://tnm5.ma/spectacles/%d8%ad%d9%81%d9%84-%d9%81%d9%86%d9%8a-6/\n",
      "15\n",
      "https://tnm5.ma/spectacles/%d9%85%d9%87%d8%b1%d8%ac%d8%a7%d9%86-%d8%b4%d8%b9%d8%a8%d9%8a%d8%a7%d8%aa-%d9%84%d9%84%d9%85%d9%88%d8%a7%d8%b7%d9%86%d8%a9-%d9%88%d8%a7%d9%84%d8%aa%d8%ac%d8%af%d9%8a%d8%af/\n",
      "13\n",
      "https://tnm5.ma/spectacles/%d9%85%d9%87%d8%b1%d8%ac%d8%a7%d9%86-%d8%b4%d8%b9%d8%a8%d9%8a%d8%a7%d8%aa-%d9%84%d9%84%d9%85%d9%88%d8%a7%d8%b7%d9%86%d8%a9-%d9%88%d8%a7%d9%84%d8%aa%d8%ac%d8%af%d9%8a%d8%af-2/\n",
      "13\n"
     ]
    }
   ],
   "source": [
    "descs = []\n",
    "for i in liens:\n",
    "    print(i)\n",
    "    response = get(i)\n",
    "    \n",
    "    timer = randint(8,15)\n",
    "    #pause de loop\n",
    "    print(timer)\n",
    "    sleep(timer)\n",
    "    \n",
    "    #renvoyer un warning pour les non 'status code : 200'\n",
    "    if response.status_code != 200:\n",
    "        warn('Request: {}; Status code: {}'.format(requests, response.status_code))\n",
    "            \n",
    "    #parser en BS\n",
    "    page_html = BeautifulSoup(response.text,'html.parser')\n",
    "    \n",
    "    interet = page_html.find('div',class_='post')\n",
    "    \n",
    "    descriptions = interet.find_all('p')\n",
    "    \n",
    "    desc_temp = []\n",
    "    \n",
    "    for d in descriptions:\n",
    "        desc_temp.append(d.text)\n",
    "    \n",
    "    descs.append(desc_temp)\n",
    "    "
   ]
  },
  {
   "cell_type": "code",
   "execution_count": 18,
   "metadata": {},
   "outputs": [
    {
     "data": {
      "text/plain": [
       "[['Les ballets la Tarentelle présentent',\n",
       "  'EXCELSIOR',\n",
       "  'Ballet en trois actes',\n",
       "  '\\xa0sous la direction de Nadia Bouamoud,',\n",
       "  'Danse Orientale',\n",
       "  'Danse Moderne.',\n",
       "  'Danse Hip Hop',\n",
       "  'Nadia Bouamoud comme à son habitude offre au public un spectacle diversifié pour tous les goûts.',\n",
       "  '\\xa0'],\n",
       " ['\\xa0إنتاج مسرح محمد الخامس',\n",
       "  'فرقة المسرح الطلائعي',\n",
       "  'تقدم مسرحية',\n",
       "  '\\xa0تأليف الدكتور عبد الكريم برشيد\\xa0',\n",
       "  ' إخراج الأستاذ ابراهيم وردة\\xa0',\n",
       "  '\\xa0وذلك يوم الثلاثاء 9 يوليوز 2019 ',\n",
       "  'على الساعة الثامنة مساءا',\n",
       "  ' بمسرح محمد الخامس'],\n",
       " ['بشراكة مع مسرح محمد الخامس',\n",
       "  ' مسرح أثينا',\n",
       "  'يقدم مسرحية',\n",
       "  'أغنية التم',\n",
       "  '\\nتأليف أنطون تشيخوف \\nدراماتورجيا وإخراج محمد بن بار\\n إنجاز الديكور الحسن بوخليفي عبد اللطيف نایت عدي\\n إنجاز الملابس الحسن يهدي \\nأنفوغرافيا بهاء الرينكة \\nتصوير عبد الغاني بليوط \\nاعداد\\xa0موسيقي وصوت زكرياء أحواصلي \\nإنارة خالد الإدريسي العمراني \\nالمحافظة العامة عبد الرحمان أومنصور \\nتنفيذ الإنتاج والعلاقات العامة نادية إيكن\\nتشخيص أسامة بورواين – محمد بن بار\\n\\xa0\\n\\n',\n",
       "  'تأليف أنطون تشيخوف ',\n",
       "  'دراماتورجيا وإخراج محمد بن بار',\n",
       "  ' إنجاز الديكور الحسن بوخليفي عبد اللطيف نایت عدي',\n",
       "  ' إنجاز الملابس الحسن يهدي ',\n",
       "  'أنفوغرافيا بهاء الرينكة ',\n",
       "  'تصوير عبد الغاني بليوط ',\n",
       "  'اعداد\\xa0موسيقي وصوت زكرياء أحواصلي ',\n",
       "  'إنارة خالد الإدريسي العمراني ',\n",
       "  'المحافظة العامة عبد الرحمان أومنصور ',\n",
       "  'تنفيذ الإنتاج والعلاقات العامة نادية إيكن',\n",
       "  'تشخيص أسامة بورواين – محمد بن بار',\n",
       "  '\\xa0',\n",
       "  '\\n'],\n",
       " ['تحت الرعاية السامية لصاحب الجلالة الملك محمد السادس نصره الله',\n",
       "  'وفي\\xa0غمرة الاحتفالات للذكرى 20 لعيد العرش المجيد',\n",
       "  'الدورة 16 لسنة 2019 من',\n",
       "  ' المهرجان الدولي مغرب الحكايات\\xa0',\n",
       "  'سهرة حكائية «\\xa0لألف ليلة وليلة\\xa0»',\n",
       "  ' يوم الجمعة 12 يوليوز 2019 على الساعة التاسعة ليلا',\n",
       "  ' بمسرح محمد الخامس بالرباط',\n",
       "  '',\n",
       "  'Conte : Le festival «\\xa0Maroc Hikayate\\xa0» donne la parole aux femmes',\n",
       "  'https://www.leconomiste.com/diaporama/conte-le-festival-maroc-hikayate-donne-la-parole-aux-femmes',\n",
       "  '\\xa0'],\n",
       " ['\\u202c\\u202cمسرح\\u202d \\u202cالشمس',\n",
       "  'يقدم',\n",
       "  'مسرحية',\n",
       "  'نص\\u202d : \\u202cالكاتب\\u202d \\u202cالإيطالي\\u202d \\u202cلويدجي\\u202d \\u202cليوناري',\n",
       "  'ترجمة\\u202d : \\u202cذ\\u202d. \\u202cمحمد\\u202d \\u202cعيان',\n",
       "  'إعداد\\u202d : \\u202cذ\\u202d. \\u202cمصطفى\\u202d \\u202cقيمي',\n",
       "  'سينوغرافيا\\u202d \\u202cوإخراج\\u202d : \\u202cذ\\u202d. \\u202cعبد\\u202d \\u202cالمجيد\\u202d \\u202cشكير',\n",
       "  'تشخيص\\u202d : \\u202cسعاد\\u202d \\u202cنجار\\u202d – \\u202cعادل أبا تراب – جمال العبابسيع – بد\\u202d \\u202cالله\\u202d \\u202cشيشة',\n",
       "  '\\n\\n\\nالاثنين\\xa015 يوليوز 2019 في 8 ليلا بمسرح محمد الخامس\\xa0\\n\\n\\n',\n",
       "  'الاثنين\\xa015 يوليوز 2019 في 8 ليلا بمسرح محمد الخامس\\xa0'],\n",
       " ['بمناسبة عيد العرش المجيد ',\n",
       "  'وزارة الثقافة والاتصال',\n",
       "  ' تنظم',\n",
       "  ' بتعاون مع مسرح محمد الخامس',\n",
       "  'السهرة الكبرى',\n",
       "  'مع الفنانة المتألقة عزيزة ملاك',\n",
       "  '\\xa0: بمشاركة',\n",
       "  ' الفنانة عزيزة ملاك – الفنان الشعبي خالد البوعزاوي – الفنان الأمازيغي العربي امغران – الفنان عبدو السلاوي –\\xa0 الفنانة كوثر التازي – الفرقة الموسيقية العصرية برئاسة المايسترو رضا الإدريسي\\xa0',\n",
       "  ' تقديم : اسماعيل أروي',\n",
       "  'الأربعاء 17 يوليوز 2019 في 8 ليلا بمسرح محمد الخامس – الرباط'],\n",
       " ['La compagnie du Théâtre Nabyl Lahlou',\n",
       "  'direction Sophia Hadi',\n",
       "  'présente',\n",
       "  'ALI IXE MIRACLE DU 30 FEVRIER',\n",
       "  'Texte,\\xa0interprétation\\xa0et mise en scène de\\xa0 : ',\n",
       "  'NABYL LAHLOU',\n",
       "  'une production de :',\n",
       "  'la compagnie du Théâtre Nabyl Lahlou',\n",
       "  'avec le précieux soutien du :',\n",
       "  'Théâtre Mohammed V',\n",
       "  ':::::::',\n",
       "  'مسرح نبيل لحلو',\n",
       "  '\\xa0إدارة صوفيا هادي',\n",
       "  'يقدم',\n",
       "  'علي اكس معجزة 30 فبراير',\n",
       "  'تأليف، أداء و اخراج :',\n",
       "  '\\xa0 نبيل لحلو',\n",
       "  'انتاج\\xa0 مسرح نبيل لحلو',\n",
       "  'بالمساهمة القيمة لمسرح\\xa0محمد الخامس',\n",
       "  '\\n\\n',\n",
       "  ''],\n",
       " ['بمناسبة عيد العرش المجيد',\n",
       "  'جمعية رباط الفتح للتنمية المستديمة',\n",
       "  'وبشراكة مع وزارة الثقافة والاتصال',\n",
       "  'ومسرح محمد الخامس',\n",
       "  'تنظم',\n",
       "  'للأغنية الوطنية المغربية',\n",
       "  'تحييها فرقة رضا للموسيقى العصرية برآسة الأستاذ رضا الإدريسي',\n",
       "  'بمشاركة نخبة من المطربين والمطربات',\n",
       "  'البشير عبدو –\\xa0أمال عبد القادر –\\xa0محسن صلاح الدين\\xa0 –\\xa0ابراهيم بركات –\\xa0فؤاد\\xa0طرب',\n",
       "  'السبت 20 يوليوز 2019 على الساعة الثامنة مساء',\n",
       "  ' بمسرح محمد الخامس'],\n",
       " ['Le Ministère de la Culture et de la Communication – Département de la Culture',\n",
       "  'et l’Ambassade du Chili au Royaume du Maroc',\n",
       "  'Organisent Deux spectacles ',\n",
       "  'de l’Orchestre Symphonique National de la Jeunesse du Chili',\n",
       "  '\\xa0',\n",
       "  'Lundi 22 Juillet 2019 à 20h30',\n",
       "  'Au Théâtre Mohamed V à Rabat',\n",
       "  '\\xa0',\n",
       "  'تنظم وزارة الثقافة والاتصال – قطاع الثقافة',\n",
       "  'وسفارة الشيلي بالمملكة المغربية',\n",
       "  'حفلين فنيين',\n",
       "  ' تحييهما أركسترا السيمفونية الوطنية للشباب بالشيلي',\n",
       "  '\\nالإثنين 22 يوليوز 2019 على الساعة الثامنة والنصف ليلا\\nبمسرح محمد الخامس بالرباط \\n\\n',\n",
       "  'الإثنين 22 يوليوز 2019 على الساعة الثامنة والنصف ليلا',\n",
       "  'بمسرح محمد الخامس بالرباط ',\n",
       "  '\\n'],\n",
       " ['Ministère de la Culture et de la Communication – Département de la Culture',\n",
       "  'Théâtre Mohammed V',\n",
       "  'Région Rabat Salé Kénitra',\n",
       "  'GOLDEN JALIA MAGAZINE',\n",
       "  'GOLDEN JALIA AWARDS',\n",
       "  'Les Marocains du Monde Ont du Talent',\n",
       "  'Cinéma – Peintures – Musique – Spectacles – Shows',\n",
       "  'Mercredi 24 Juillet 2019 à 19h00 Au théâtre Mohammed V à Rabat',\n",
       "  '\\xa0',\n",
       "  'المملكة المغربية وزارة الثقافة والاتصال قطاع الثقافة',\n",
       "  'مسرح محمد الخامس',\n",
       "  'جهة الرباط سلا القنيطرة',\n",
       "  '\\n\\n',\n",
       "  '\\n'],\n",
       " ['بمناسبة الذكرى العشرين لإعتلاء صاحب الجلالة الملك محمد السادس عرش أسلافه المنعمين',\n",
       "  'وبدعم من وزارة الثقافة و الإلتصال',\n",
       "  ' يتشرف رئيس جمعية الأمل تنظيم ',\n",
       "  'الملحمة الكبرى بعنوان',\n",
       "  'ملكنا الهمام',\n",
       "  ' الحفل الفني الذي يستضيف نخبة من نجوم الفن و الطرب',\n",
       "  ' الفنان حمزة لبيض – الفنان مراد بوريقي – الفنان عصام سرحان – الفنان سعيد شرادي',\n",
       "  'بقيادة المايسترو رشيد زروال ',\n",
       "  'وذلك يوم الخميس 25 يوليوز 2019 على الساعة الثامنة والنصف مساء',\n",
       "  'بمسرح محمد الخامس',\n",
       "  '\\xa0'],\n",
       " ['Chinese New Image Oil Paintings World Tour',\n",
       "  'Opening Ceremony: 2019/07/25 10:30 am ',\n",
       "  'Organization: Chinese Cultural Center in Rabat',\n",
       "  'HOST: Moroccan National Theatre, Mohamed V',\n",
       "  'Exhibition time: 2019/07/25-2019/08/01 ',\n",
       "  'Place of exhibition: Moroccan National Theatre, Mohamed V Avenue Al Mansour Addahbi, Rabat',\n",
       "  'Co-organizer: HanVang Education and Training',\n",
       "  '\\xa0'],\n",
       " ['\\xa0تحت الرئاسة الشرفية لصاحبة السمو الملكي الأميرة للا مريم',\n",
       "  'جمعية أبي رقراق',\n",
       "  'تنظم',\n",
       "  'الدورة 13',\n",
       "  '\\nحفل فني متنوع لروائع فلكلور الطفولة من 28 دولة\\nيوم الجمعة 26 يوليوز 2019\\xa0في الثامنة (20h00) مساء\\nبمسرح محمد الخامس\\n\\n',\n",
       "  'حفل فني متنوع لروائع فلكلور الطفولة من 28 دولة',\n",
       "  'يوم الجمعة 26 يوليوز 2019\\xa0في الثامنة (20h00) مساء',\n",
       "  'بمسرح محمد الخامس',\n",
       "  '\\n'],\n",
       " ['بمناسبة عيد العرش المجيد',\n",
       "  'ينظم مجلس جهة الرباط سلا القنيطرة',\n",
       "  'وذلك بمشاركة :',\n",
       "  'عمر پوتا مزوقت',\n",
       "  'سلمى رشيد',\n",
       "  'محمد باسو',\n",
       "  'المايسترو عادل',\n",
       "  'مجموعة المنابرة\\xa0لفن الهيت الغرباوي',\n",
       "  'أوركستر أفنان بقيادة عبد الناصر مكاوي',\n",
       "  'وذلك يوم السبت 27 يوليوز 2019',\n",
       "  '\\xa0ابتداءا من الساعة السابعة مساء',\n",
       "  'بمسرح محمد الخامس',\n",
       "  '\\n\\n',\n",
       "  ''],\n",
       " ['احتفالا بالذكرى العشرين لعيد العرش المجيد\\xa0',\n",
       "  'بشراكة مع وزارة الثقافة و الاتصال – قطاع الثقافة',\n",
       "  'و بتعاون مع مسرح محمد الخامس',\n",
       "  'مدرسة الستاتي\\xa0عبدالعزيز',\n",
       "  'تنظم',\n",
       "  'دورة الفنان : عبدالعزيز الستاتي',\n",
       "  '\\xa0مسابقة للمواهب الشعبية',\n",
       "  'ندوة فكرية',\n",
       "  'معرض لآلات الكمان',\n",
       "  'تحت شعار: الثرات الشعبي ، بين الماضي و الحاضر',\n",
       "  'يومي 30 و 31 يوليوز 2019\\xa0ابتداء من الساعة السابعة مساء',\n",
       "  'بمسرح محمد الخامس'],\n",
       " ['احتفالا بالذكرى العشرين لعيد العرش المجيد\\xa0',\n",
       "  'بشراكة مع وزارة الثقافة و الاتصال – قطاع الثقافة',\n",
       "  'و بتعاون مع مسرح محمد الخامس',\n",
       "  'مدرسة الستاتي\\xa0عبدالعزيز',\n",
       "  'تنظم',\n",
       "  'دورة الفنان : عبدالعزيز الستاتي',\n",
       "  '\\xa0مسابقة للمواهب الشعبية',\n",
       "  'ندوة فكرية',\n",
       "  'معرض لآلات الكمان',\n",
       "  'تحت شعار: الثرات الشعبي ، بين الماضي و الحاضر',\n",
       "  'يومي 30 و 31 يوليوز 2019\\xa0ابتداء من الساعة السابعة مساء',\n",
       "  'بمسرح محمد الخامس']]"
      ]
     },
     "execution_count": 18,
     "metadata": {},
     "output_type": "execute_result"
    }
   ],
   "source": [
    "descs"
   ]
  },
  {
   "cell_type": "code",
   "execution_count": 19,
   "metadata": {},
   "outputs": [
    {
     "data": {
      "text/plain": [
       "16"
      ]
     },
     "execution_count": 19,
     "metadata": {},
     "output_type": "execute_result"
    }
   ],
   "source": [
    "len(descs)"
   ]
  },
  {
   "cell_type": "markdown",
   "metadata": {},
   "source": [
    "### Combiner toutes les données dans un tuple"
   ]
  },
  {
   "cell_type": "code",
   "execution_count": 20,
   "metadata": {},
   "outputs": [],
   "source": [
    "prog = []\n",
    "for i,j,k,l,m,n in zip(noms,dates,heures,images,liens,descs):\n",
    "    #Ajouter le lieu\n",
    "    t = (i,j,k,l,m,n,\"Thêatre National Mohamed 5\")\n",
    "    prog.append(t)"
   ]
  },
  {
   "cell_type": "code",
   "execution_count": 21,
   "metadata": {},
   "outputs": [
    {
     "data": {
      "text/plain": [
       "[('Les ballets la Tarentelle : EXCELSIOR ',\n",
       "  '2 juil. 2019',\n",
       "  '18:30',\n",
       "  'https://tnm5.ma/wp-content/uploads/2019/04/IMG_20190628_175106_866.jpg',\n",
       "  'https://tnm5.ma/spectacles/les-ballets-la-tarentelle-excelsior/',\n",
       "  ['Les ballets la Tarentelle présentent',\n",
       "   'EXCELSIOR',\n",
       "   'Ballet en trois actes',\n",
       "   '\\xa0sous la direction de Nadia Bouamoud,',\n",
       "   'Danse Orientale',\n",
       "   'Danse Moderne.',\n",
       "   'Danse Hip Hop',\n",
       "   'Nadia Bouamoud comme à son habitude offre au public un spectacle diversifié pour tous les goûts.',\n",
       "   '\\xa0'],\n",
       "  'Thêatre National Mohamed 5'),\n",
       " ('عطيل دومیل دیزناف ',\n",
       "  '9 juil. 2019',\n",
       "  '20:00',\n",
       "  'https://tnm5.ma/wp-content/uploads/2019/06/9juillet--e1561641574477.jpg',\n",
       "  'https://tnm5.ma/spectacles/%d8%b9%d8%b7%d9%8a%d9%84-%d8%af%d9%88%d9%85%db%8c%d9%84-%d8%af%db%8c%d8%b2%d9%86%d8%a7%d9%81/',\n",
       "  ['\\xa0إنتاج مسرح محمد الخامس',\n",
       "   'فرقة المسرح الطلائعي',\n",
       "   'تقدم مسرحية',\n",
       "   '\\xa0تأليف الدكتور عبد الكريم برشيد\\xa0',\n",
       "   ' إخراج الأستاذ ابراهيم وردة\\xa0',\n",
       "   '\\xa0وذلك يوم الثلاثاء 9 يوليوز 2019 ',\n",
       "   'على الساعة الثامنة مساءا',\n",
       "   ' بمسرح محمد الخامس'],\n",
       "  'Thêatre National Mohamed 5'),\n",
       " ('مسرحية  أغنية التم ',\n",
       "  '10 juil. 2019',\n",
       "  ' 20:30',\n",
       "  'https://tnm5.ma/wp-content/uploads/2019/06/10juillet2-e1561545507291.jpg',\n",
       "  'https://tnm5.ma/spectacles/%d9%85%d8%b3%d8%b1%d8%ad%d9%8a%d8%a9-%d8%a3%d8%ba%d9%86%d9%8a%d8%a9-%d8%a7%d9%84%d8%aa%d9%85/',\n",
       "  ['بشراكة مع مسرح محمد الخامس',\n",
       "   ' مسرح أثينا',\n",
       "   'يقدم مسرحية',\n",
       "   'أغنية التم',\n",
       "   '\\nتأليف أنطون تشيخوف \\nدراماتورجيا وإخراج محمد بن بار\\n إنجاز الديكور الحسن بوخليفي عبد اللطيف نایت عدي\\n إنجاز الملابس الحسن يهدي \\nأنفوغرافيا بهاء الرينكة \\nتصوير عبد الغاني بليوط \\nاعداد\\xa0موسيقي وصوت زكرياء أحواصلي \\nإنارة خالد الإدريسي العمراني \\nالمحافظة العامة عبد الرحمان أومنصور \\nتنفيذ الإنتاج والعلاقات العامة نادية إيكن\\nتشخيص أسامة بورواين – محمد بن بار\\n\\xa0\\n\\n',\n",
       "   'تأليف أنطون تشيخوف ',\n",
       "   'دراماتورجيا وإخراج محمد بن بار',\n",
       "   ' إنجاز الديكور الحسن بوخليفي عبد اللطيف نایت عدي',\n",
       "   ' إنجاز الملابس الحسن يهدي ',\n",
       "   'أنفوغرافيا بهاء الرينكة ',\n",
       "   'تصوير عبد الغاني بليوط ',\n",
       "   'اعداد\\xa0موسيقي وصوت زكرياء أحواصلي ',\n",
       "   'إنارة خالد الإدريسي العمراني ',\n",
       "   'المحافظة العامة عبد الرحمان أومنصور ',\n",
       "   'تنفيذ الإنتاج والعلاقات العامة نادية إيكن',\n",
       "   'تشخيص أسامة بورواين – محمد بن بار',\n",
       "   '\\xa0',\n",
       "   '\\n'],\n",
       "  'Thêatre National Mohamed 5'),\n",
       " ('المهرجان الدولي مغرب الحكايات ',\n",
       "  '12 juil. 2019',\n",
       "  ' 21:00',\n",
       "  'https://tnm5.ma/wp-content/uploads/2019/07/12juillet2019-e1562667356185.jpg',\n",
       "  'https://tnm5.ma/spectacles/%d8%a7%d9%84%d9%85%d9%87%d8%b1%d8%ac%d8%a7%d9%86-%d8%a7%d9%84%d8%af%d9%88%d9%84%d9%8a-%d9%85%d8%ba%d8%b1%d8%a8-%d8%a7%d9%84%d8%ad%d9%83%d8%a7%d9%8a%d8%a7%d8%aa/',\n",
       "  ['تحت الرعاية السامية لصاحب الجلالة الملك محمد السادس نصره الله',\n",
       "   'وفي\\xa0غمرة الاحتفالات للذكرى 20 لعيد العرش المجيد',\n",
       "   'الدورة 16 لسنة 2019 من',\n",
       "   ' المهرجان الدولي مغرب الحكايات\\xa0',\n",
       "   'سهرة حكائية «\\xa0لألف ليلة وليلة\\xa0»',\n",
       "   ' يوم الجمعة 12 يوليوز 2019 على الساعة التاسعة ليلا',\n",
       "   ' بمسرح محمد الخامس بالرباط',\n",
       "   '',\n",
       "   'Conte : Le festival «\\xa0Maroc Hikayate\\xa0» donne la parole aux femmes',\n",
       "   'https://www.leconomiste.com/diaporama/conte-le-festival-maroc-hikayate-donne-la-parole-aux-femmes',\n",
       "   '\\xa0'],\n",
       "  'Thêatre National Mohamed 5'),\n",
       " ('مسرحية  لادريسة\\u202d \\u202cغلط ',\n",
       "  '15 juil. 2019',\n",
       "  ' 20:00',\n",
       "  'https://tnm5.ma/wp-content/uploads/2019/04/29avril.jpg',\n",
       "  'https://tnm5.ma/spectacles/%d9%85%d8%b3%d8%b1%d8%ad%d9%8a%d8%a9-%d9%84%d8%a7%d8%af%d8%b1%d9%8a%d8%b3%d8%a9%e2%80%ad-%e2%80%ac%d8%ba%d9%84%d8%b7/',\n",
       "  ['\\u202c\\u202cمسرح\\u202d \\u202cالشمس',\n",
       "   'يقدم',\n",
       "   'مسرحية',\n",
       "   'نص\\u202d : \\u202cالكاتب\\u202d \\u202cالإيطالي\\u202d \\u202cلويدجي\\u202d \\u202cليوناري',\n",
       "   'ترجمة\\u202d : \\u202cذ\\u202d. \\u202cمحمد\\u202d \\u202cعيان',\n",
       "   'إعداد\\u202d : \\u202cذ\\u202d. \\u202cمصطفى\\u202d \\u202cقيمي',\n",
       "   'سينوغرافيا\\u202d \\u202cوإخراج\\u202d : \\u202cذ\\u202d. \\u202cعبد\\u202d \\u202cالمجيد\\u202d \\u202cشكير',\n",
       "   'تشخيص\\u202d : \\u202cسعاد\\u202d \\u202cنجار\\u202d – \\u202cعادل أبا تراب – جمال العبابسيع – بد\\u202d \\u202cالله\\u202d \\u202cشيشة',\n",
       "   '\\n\\n\\nالاثنين\\xa015 يوليوز 2019 في 8 ليلا بمسرح محمد الخامس\\xa0\\n\\n\\n',\n",
       "   'الاثنين\\xa015 يوليوز 2019 في 8 ليلا بمسرح محمد الخامس\\xa0'],\n",
       "  'Thêatre National Mohamed 5')]"
      ]
     },
     "execution_count": 21,
     "metadata": {},
     "output_type": "execute_result"
    }
   ],
   "source": [
    "#afficher les 5 premiers évènements\n",
    "prog[0:5]"
   ]
  },
  {
   "cell_type": "code",
   "execution_count": null,
   "metadata": {},
   "outputs": [],
   "source": []
  },
  {
   "cell_type": "markdown",
   "metadata": {},
   "source": [
    "**Convertir liste de tuples en Dataframe**"
   ]
  },
  {
   "cell_type": "code",
   "execution_count": 26,
   "metadata": {},
   "outputs": [],
   "source": [
    "import pandas as pd"
   ]
  },
  {
   "cell_type": "code",
   "execution_count": 27,
   "metadata": {},
   "outputs": [],
   "source": [
    "df = pd.DataFrame(prog,columns=['noms','date','heure','image','lien','description','lieu'])"
   ]
  },
  {
   "cell_type": "code",
   "execution_count": 28,
   "metadata": {},
   "outputs": [
    {
     "data": {
      "text/html": [
       "<div>\n",
       "<style>\n",
       "    .dataframe thead tr:only-child th {\n",
       "        text-align: right;\n",
       "    }\n",
       "\n",
       "    .dataframe thead th {\n",
       "        text-align: left;\n",
       "    }\n",
       "\n",
       "    .dataframe tbody tr th {\n",
       "        vertical-align: top;\n",
       "    }\n",
       "</style>\n",
       "<table border=\"1\" class=\"dataframe\">\n",
       "  <thead>\n",
       "    <tr style=\"text-align: right;\">\n",
       "      <th></th>\n",
       "      <th>noms</th>\n",
       "      <th>date</th>\n",
       "      <th>heure</th>\n",
       "      <th>image</th>\n",
       "      <th>lien</th>\n",
       "      <th>description</th>\n",
       "      <th>lieu</th>\n",
       "    </tr>\n",
       "  </thead>\n",
       "  <tbody>\n",
       "    <tr>\n",
       "      <th>0</th>\n",
       "      <td>Les ballets la Tarentelle : EXCELSIOR</td>\n",
       "      <td>2 juil. 2019</td>\n",
       "      <td>18:30</td>\n",
       "      <td>https://tnm5.ma/wp-content/uploads/2019/04/IMG...</td>\n",
       "      <td>https://tnm5.ma/spectacles/les-ballets-la-tare...</td>\n",
       "      <td>[Les ballets la Tarentelle présentent, EXCELSI...</td>\n",
       "      <td>Thêatre National Mohamed 5</td>\n",
       "    </tr>\n",
       "    <tr>\n",
       "      <th>1</th>\n",
       "      <td>عطيل دومیل دیزناف</td>\n",
       "      <td>9 juil. 2019</td>\n",
       "      <td>20:00</td>\n",
       "      <td>https://tnm5.ma/wp-content/uploads/2019/06/9ju...</td>\n",
       "      <td>https://tnm5.ma/spectacles/%d8%b9%d8%b7%d9%8a%...</td>\n",
       "      <td>[ إنتاج مسرح محمد الخامس, فرقة المسرح الطلائعي...</td>\n",
       "      <td>Thêatre National Mohamed 5</td>\n",
       "    </tr>\n",
       "    <tr>\n",
       "      <th>2</th>\n",
       "      <td>مسرحية  أغنية التم</td>\n",
       "      <td>10 juil. 2019</td>\n",
       "      <td>20:30</td>\n",
       "      <td>https://tnm5.ma/wp-content/uploads/2019/06/10j...</td>\n",
       "      <td>https://tnm5.ma/spectacles/%d9%85%d8%b3%d8%b1%...</td>\n",
       "      <td>[بشراكة مع مسرح محمد الخامس,  مسرح أثينا, يقدم...</td>\n",
       "      <td>Thêatre National Mohamed 5</td>\n",
       "    </tr>\n",
       "    <tr>\n",
       "      <th>3</th>\n",
       "      <td>المهرجان الدولي مغرب الحكايات</td>\n",
       "      <td>12 juil. 2019</td>\n",
       "      <td>21:00</td>\n",
       "      <td>https://tnm5.ma/wp-content/uploads/2019/07/12j...</td>\n",
       "      <td>https://tnm5.ma/spectacles/%d8%a7%d9%84%d9%85%...</td>\n",
       "      <td>[تحت الرعاية السامية لصاحب الجلالة الملك محمد ...</td>\n",
       "      <td>Thêatre National Mohamed 5</td>\n",
       "    </tr>\n",
       "    <tr>\n",
       "      <th>4</th>\n",
       "      <td>مسرحية  لادريسة‭ ‬غلط</td>\n",
       "      <td>15 juil. 2019</td>\n",
       "      <td>20:00</td>\n",
       "      <td>https://tnm5.ma/wp-content/uploads/2019/04/29a...</td>\n",
       "      <td>https://tnm5.ma/spectacles/%d9%85%d8%b3%d8%b1%...</td>\n",
       "      <td>[‬‬مسرح‭ ‬الشمس, يقدم, مسرحية, نص‭ : ‬الكاتب‭ ...</td>\n",
       "      <td>Thêatre National Mohamed 5</td>\n",
       "    </tr>\n",
       "  </tbody>\n",
       "</table>\n",
       "</div>"
      ],
      "text/plain": [
       "                                     noms           date   heure  \\\n",
       "0  Les ballets la Tarentelle : EXCELSIOR    2 juil. 2019   18:30   \n",
       "1                      عطيل دومیل دیزناف    9 juil. 2019   20:00   \n",
       "2                     مسرحية  أغنية التم   10 juil. 2019   20:30   \n",
       "3          المهرجان الدولي مغرب الحكايات   12 juil. 2019   21:00   \n",
       "4                  مسرحية  لادريسة‭ ‬غلط   15 juil. 2019   20:00   \n",
       "\n",
       "                                               image  \\\n",
       "0  https://tnm5.ma/wp-content/uploads/2019/04/IMG...   \n",
       "1  https://tnm5.ma/wp-content/uploads/2019/06/9ju...   \n",
       "2  https://tnm5.ma/wp-content/uploads/2019/06/10j...   \n",
       "3  https://tnm5.ma/wp-content/uploads/2019/07/12j...   \n",
       "4  https://tnm5.ma/wp-content/uploads/2019/04/29a...   \n",
       "\n",
       "                                                lien  \\\n",
       "0  https://tnm5.ma/spectacles/les-ballets-la-tare...   \n",
       "1  https://tnm5.ma/spectacles/%d8%b9%d8%b7%d9%8a%...   \n",
       "2  https://tnm5.ma/spectacles/%d9%85%d8%b3%d8%b1%...   \n",
       "3  https://tnm5.ma/spectacles/%d8%a7%d9%84%d9%85%...   \n",
       "4  https://tnm5.ma/spectacles/%d9%85%d8%b3%d8%b1%...   \n",
       "\n",
       "                                         description  \\\n",
       "0  [Les ballets la Tarentelle présentent, EXCELSI...   \n",
       "1  [ إنتاج مسرح محمد الخامس, فرقة المسرح الطلائعي...   \n",
       "2  [بشراكة مع مسرح محمد الخامس,  مسرح أثينا, يقدم...   \n",
       "3  [تحت الرعاية السامية لصاحب الجلالة الملك محمد ...   \n",
       "4  [‬‬مسرح‭ ‬الشمس, يقدم, مسرحية, نص‭ : ‬الكاتب‭ ...   \n",
       "\n",
       "                         lieu  \n",
       "0  Thêatre National Mohamed 5  \n",
       "1  Thêatre National Mohamed 5  \n",
       "2  Thêatre National Mohamed 5  \n",
       "3  Thêatre National Mohamed 5  \n",
       "4  Thêatre National Mohamed 5  "
      ]
     },
     "execution_count": 28,
     "metadata": {},
     "output_type": "execute_result"
    }
   ],
   "source": [
    "df.head()"
   ]
  },
  {
   "cell_type": "code",
   "execution_count": 29,
   "metadata": {},
   "outputs": [],
   "source": [
    "# Limiter le nombre d'enregistrements\n",
    "df.head().to_json(\"scraping_json/tnm5_records\",orient=\"records\")"
   ]
  },
  {
   "cell_type": "code",
   "execution_count": null,
   "metadata": {},
   "outputs": [],
   "source": []
  }
 ],
 "metadata": {
  "kernelspec": {
   "display_name": "Python 3",
   "language": "python",
   "name": "python3"
  },
  "language_info": {
   "codemirror_mode": {
    "name": "ipython",
    "version": 3
   },
   "file_extension": ".py",
   "mimetype": "text/x-python",
   "name": "python",
   "nbconvert_exporter": "python",
   "pygments_lexer": "ipython3",
   "version": "3.6.1"
  }
 },
 "nbformat": 4,
 "nbformat_minor": 2
}
