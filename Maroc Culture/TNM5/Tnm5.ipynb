{
 "cells": [
  {
   "cell_type": "markdown",
   "metadata": {},
   "source": [
    "# Projet de Scraping des évènements culturels : Thêatre Mohamed 5"
   ]
  },
  {
   "cell_type": "code",
   "execution_count": 1,
   "metadata": {},
   "outputs": [
    {
     "data": {
      "text/plain": [
       "<Response [200]>"
      ]
     },
     "execution_count": 1,
     "metadata": {},
     "output_type": "execute_result"
    }
   ],
   "source": [
    "import requests\n",
    "\n",
    "url = 'http://www.tnm5.ma/programme-du-mois/'\n",
    "response = requests.get(url)\n",
    "response"
   ]
  },
  {
   "cell_type": "markdown",
   "metadata": {},
   "source": [
    "Réponse positive, on  affiche les 500 premiers caractères"
   ]
  },
  {
   "cell_type": "code",
   "execution_count": 2,
   "metadata": {},
   "outputs": [
    {
     "name": "stdout",
     "output_type": "stream",
     "text": [
      "<!-- Include the header -->\n",
      "<!DOCTYPE html>\n",
      "<html lang=\"en\">\n",
      "<head>\n",
      "  <meta charset=\"utf-8\">\n",
      "  <meta content=\"IE=edge\" http-equiv=\"X-UA-Compatible\">\n",
      "  <meta content=\"width=device-width, initial-scale=1\" name=\"viewport\">\n",
      "  <meta name=\"keywords\" content=\"Theatre National Mohammed 5, Theatre National Mohammed V, theatre de rabat, theatre, théâtre de rabat, théâtre national, théâtre, Theatre Mohammed 5, Theatre National Mohammed 5, tnm5, tnmV, théâtre national mohammed V, rabat, maroc, theatre de ra\n"
     ]
    }
   ],
   "source": [
    "print(response.text[:500])"
   ]
  },
  {
   "cell_type": "markdown",
   "metadata": {},
   "source": [
    "## Utiliser BeautifulSoup pour le parsing"
   ]
  },
  {
   "cell_type": "code",
   "execution_count": 3,
   "metadata": {},
   "outputs": [
    {
     "data": {
      "text/plain": [
       "bs4.BeautifulSoup"
      ]
     },
     "execution_count": 3,
     "metadata": {},
     "output_type": "execute_result"
    }
   ],
   "source": [
    "from bs4 import BeautifulSoup\n",
    "\n",
    "soup = BeautifulSoup(response.text,'html.parser')\n",
    "type(soup)"
   ]
  },
  {
   "cell_type": "code",
   "execution_count": 4,
   "metadata": {},
   "outputs": [],
   "source": [
    "spectacles = soup.find(\"div\", {\"id\": \"iso-container\"})"
   ]
  },
  {
   "cell_type": "code",
   "execution_count": 5,
   "metadata": {},
   "outputs": [
    {
     "data": {
      "text/plain": [
       "<div id=\"iso-container\">\n",
       "<div class=\"col-sm-6 actu col-md-4 ballet\">\n",
       "<div class=\"img-hover\">\n",
       "<div class=\"thumbnail\">\n",
       "<a class=\"spt\" href=\"http://tnm5.ma/spectacles/les-ballets-la-tarentelle-excelsior/\">\n",
       "<img alt=\"IMG_20190628_175106_866\" class=\"attachment-post-thumbnail wp-post-image\" height=\"2122\" src=\"http://tnm5.ma/wp-content/uploads/2019/04/IMG_20190628_175106_866.jpg\" width=\"1466\"> </img></a>\n",
       "</div>\n",
       "<div class=\"text-hover\">\n",
       "<a href=\"http://tnm5.ma/spectacles/les-ballets-la-tarentelle-excelsior/\">\n",
       "<h3>Les ballets la Tarentelle : EXCELSIOR </h3>\n",
       "<p>\n",
       "<span class=\"glyphicon glyphicon-calendar\"></span>\n",
       "<span class=\"help\"> 2 juil. 2019  \n",
       "                              <span class=\"glyphicon glyphicon-time\"></span> 18:30</span>\n",
       "</p>\n",
       "<p class=\"\">Ballet en trois actes\n",
       "\n",
       " sous la direction de Nadia Bouamoud,</p>\n",
       "</a>\n",
       "</div>\n",
       "</div>\n",
       "</div>\n",
       "<div class=\"col-sm-6 actu col-md-4 theatre\">\n",
       "<div class=\"img-hover\">\n",
       "<div class=\"thumbnail\">\n",
       "<a class=\"spt\" href=\"http://tnm5.ma/spectacles/%d8%b9%d8%b7%d9%8a%d9%84-%d8%af%d9%88%d9%85%db%8c%d9%84-%d8%af%db%8c%d8%b2%d9%86%d8%a7%d9%81/\">\n",
       "<img alt=\"9juillet+\" class=\"attachment-post-thumbnail wp-post-image\" height=\"600\" src=\"http://tnm5.ma/wp-content/uploads/2019/06/9juillet--e1561641574477.jpg\" width=\"401\"/> </a>\n",
       "</div>\n",
       "<div class=\"text-hover\">\n",
       "<a href=\"http://tnm5.ma/spectacles/%d8%b9%d8%b7%d9%8a%d9%84-%d8%af%d9%88%d9%85%db%8c%d9%84-%d8%af%db%8c%d8%b2%d9%86%d8%a7%d9%81/\">\n",
       "<h3>عطيل دومیل دیزناف </h3>\n",
       "<p>\n",
       "<span class=\"glyphicon glyphicon-calendar\"></span>\n",
       "<span class=\"help\"> 9 juil. 2019  \n",
       "                              <span class=\"glyphicon glyphicon-time\"></span> 20:00</span>\n",
       "</p>\n",
       "<p class=\"\"> تأليف الدكتور عبد الكريم برشيد \n",
       "\n",
       "إخراج الأستاذ ابراهيم وردة \n",
       "\n",
       "</p>\n",
       "</a>\n",
       "</div>\n",
       "</div>\n",
       "</div>\n",
       "<div class=\"col-sm-6 actu col-md-4 theatre\">\n",
       "<div class=\"img-hover\">\n",
       "<div class=\"thumbnail\">\n",
       "<a class=\"spt\" href=\"http://tnm5.ma/spectacles/%d9%85%d8%b3%d8%b1%d8%ad%d9%8a%d8%a9-%d8%a3%d8%ba%d9%86%d9%8a%d8%a9-%d8%a7%d9%84%d8%aa%d9%85/\">\n",
       "<img alt=\"10juillet\" class=\"attachment-post-thumbnail wp-post-image\" height=\"800\" src=\"http://tnm5.ma/wp-content/uploads/2019/06/10juillet2-e1561545507291.jpg\" width=\"500\"/> </a>\n",
       "</div>\n",
       "<div class=\"text-hover\">\n",
       "<a href=\"http://tnm5.ma/spectacles/%d9%85%d8%b3%d8%b1%d8%ad%d9%8a%d8%a9-%d8%a3%d8%ba%d9%86%d9%8a%d8%a9-%d8%a7%d9%84%d8%aa%d9%85/\">\n",
       "<h3>مسرحية  أغنية التم </h3>\n",
       "<p>\n",
       "<span class=\"glyphicon glyphicon-calendar\"></span>\n",
       "<span class=\"help\">10 juil. 2019  \n",
       "                              <span class=\"glyphicon glyphicon-time\"></span> 20:30</span>\n",
       "</p>\n",
       "<p class=\"\">دراماتورجيا وإخراج محمد بن بار\n",
       "\n",
       "</p>\n",
       "</a>\n",
       "</div>\n",
       "</div>\n",
       "</div>\n",
       "<div class=\"col-sm-6 actu col-md-4 theatre\">\n",
       "<div class=\"img-hover\">\n",
       "<div class=\"thumbnail\">\n",
       "<a class=\"spt\" href=\"http://tnm5.ma/spectacles/%d8%a7%d9%84%d9%85%d9%87%d8%b1%d8%ac%d8%a7%d9%86-%d8%a7%d9%84%d8%af%d9%88%d9%84%d9%8a-%d9%85%d8%ba%d8%b1%d8%a8-%d8%a7%d9%84%d8%ad%d9%83%d8%a7%d9%8a%d8%a7%d8%aa/\">\n",
       "<img alt=\"12juillet2019\" class=\"attachment-post-thumbnail wp-post-image\" height=\"800\" src=\"http://tnm5.ma/wp-content/uploads/2019/07/12juillet2019-e1562667356185.jpg\" width=\"572\"/> </a>\n",
       "</div>\n",
       "<div class=\"text-hover\">\n",
       "<a href=\"http://tnm5.ma/spectacles/%d8%a7%d9%84%d9%85%d9%87%d8%b1%d8%ac%d8%a7%d9%86-%d8%a7%d9%84%d8%af%d9%88%d9%84%d9%8a-%d9%85%d8%ba%d8%b1%d8%a8-%d8%a7%d9%84%d8%ad%d9%83%d8%a7%d9%8a%d8%a7%d8%aa/\">\n",
       "<h3>المهرجان الدولي مغرب الحكايات </h3>\n",
       "<p>\n",
       "<span class=\"glyphicon glyphicon-calendar\"></span>\n",
       "<span class=\"help\">12 juil. 2019  \n",
       "                              <span class=\"glyphicon glyphicon-time\"></span> 21:00</span>\n",
       "</p>\n",
       "<p class=\"\">الدورة 16 لسنة 2019</p>\n",
       "</a>\n",
       "</div>\n",
       "</div>\n",
       "</div>\n",
       "<div class=\"col-sm-6 actu col-md-4 theatre\">\n",
       "<div class=\"img-hover\">\n",
       "<div class=\"thumbnail\">\n",
       "<a class=\"spt\" href=\"http://tnm5.ma/spectacles/%d9%85%d8%b3%d8%b1%d8%ad%d9%8a%d8%a9-%d9%84%d8%a7%d8%af%d8%b1%d9%8a%d8%b3%d8%a9%e2%80%ad-%e2%80%ac%d8%ba%d9%84%d8%b7/\">\n",
       "<img alt=\"29avril\" class=\"attachment-post-thumbnail wp-post-image\" height=\"342\" src=\"http://tnm5.ma/wp-content/uploads/2019/04/29avril.jpg\" width=\"600\"/> </a>\n",
       "</div>\n",
       "<div class=\"text-hover\">\n",
       "<a href=\"http://tnm5.ma/spectacles/%d9%85%d8%b3%d8%b1%d8%ad%d9%8a%d8%a9-%d9%84%d8%a7%d8%af%d8%b1%d9%8a%d8%b3%d8%a9%e2%80%ad-%e2%80%ac%d8%ba%d9%84%d8%b7/\">\n",
       "<h3>مسرحية  لادريسة‭ ‬غلط </h3>\n",
       "<p>\n",
       "<span class=\"glyphicon glyphicon-calendar\"></span>\n",
       "<span class=\"help\">15 juil. 2019  \n",
       "                              <span class=\"glyphicon glyphicon-time\"></span> 20:00</span>\n",
       "</p>\n",
       "<p class=\"\">تشخيص‭ : ‬سعاد‭ ‬نجار‭ – ‬عادل أبا تراب – جمال العبابسيع – بد‭ ‬الله‭ ‬شيشة</p>\n",
       "</a>\n",
       "</div>\n",
       "</div>\n",
       "</div>\n",
       "<div class=\"col-sm-6 actu col-md-4 musique\">\n",
       "<div class=\"img-hover\">\n",
       "<div class=\"thumbnail\">\n",
       "<a class=\"spt\" href=\"http://tnm5.ma/spectacles/%d8%a7%d9%84%d8%b3%d9%87%d8%b1%d8%a9-%d8%a7%d9%84%d9%83%d8%a8%d8%b1%d9%89-%d9%85%d8%b9-%d8%a7%d9%84%d9%81%d9%86%d8%a7%d9%86%d8%a9-%d8%a7%d9%84%d9%85%d8%aa%d8%a3%d9%84%d9%82%d8%a9-%d8%b9%d8%b2%d9%8a/\">\n",
       "<img alt=\"17juillet2019\" class=\"attachment-post-thumbnail wp-post-image\" height=\"800\" src=\"http://tnm5.ma/wp-content/uploads/2019/07/17juillet2019-e1562668104677.jpg\" width=\"571\"/> </a>\n",
       "</div>\n",
       "<div class=\"text-hover\">\n",
       "<a href=\"http://tnm5.ma/spectacles/%d8%a7%d9%84%d8%b3%d9%87%d8%b1%d8%a9-%d8%a7%d9%84%d9%83%d8%a8%d8%b1%d9%89-%d9%85%d8%b9-%d8%a7%d9%84%d9%81%d9%86%d8%a7%d9%86%d8%a9-%d8%a7%d9%84%d9%85%d8%aa%d8%a3%d9%84%d9%82%d8%a9-%d8%b9%d8%b2%d9%8a/\">\n",
       "<h3>السهرة الكبرى مع الفنانة المتألقة عزيزة ملاك </h3>\n",
       "<p>\n",
       "<span class=\"glyphicon glyphicon-calendar\"></span>\n",
       "<span class=\"help\">17 juil. 2019  \n",
       "                              <span class=\"glyphicon glyphicon-time\"></span> 20:00</span>\n",
       "</p>\n",
       "<p class=\"\">بمناسبة عيد العرش المجيد</p>\n",
       "</a>\n",
       "</div>\n",
       "</div>\n",
       "</div>\n",
       "<div class=\"col-sm-6 actu col-md-4 theatre\">\n",
       "<div class=\"img-hover\">\n",
       "<div class=\"thumbnail\">\n",
       "<a class=\"spt\" href=\"http://tnm5.ma/spectacles/%d8%b9%d9%84%d9%8a-%d8%a7%d9%83%d8%b3-%d9%85%d8%b9%d8%ac%d8%b2%d8%a9-30-%d9%81%d8%a8%d8%b1%d8%a7%d9%8a%d8%b1-2/\">\n",
       "<img alt=\"18juillet---2\" class=\"attachment-post-thumbnail wp-post-image\" height=\"800\" src=\"http://tnm5.ma/wp-content/uploads/2019/06/18juillet-2-e1562579160857.jpg\" width=\"467\"/> </a>\n",
       "</div>\n",
       "<div class=\"text-hover\">\n",
       "<a href=\"http://tnm5.ma/spectacles/%d8%b9%d9%84%d9%8a-%d8%a7%d9%83%d8%b3-%d9%85%d8%b9%d8%ac%d8%b2%d8%a9-30-%d9%81%d8%a8%d8%b1%d8%a7%d9%8a%d8%b1-2/\">\n",
       "<h3>علي اكس معجزة 30 فبراير </h3>\n",
       "<p>\n",
       "<span class=\"glyphicon glyphicon-calendar\"></span>\n",
       "<span class=\"help\">18 juil. 2019  \n",
       "                              <span class=\"glyphicon glyphicon-time\"></span> 20:00</span>\n",
       "</p>\n",
       "<p class=\"\">Texte, interprétation et mise en scène de  NABYL LAHLOU</p>\n",
       "</a>\n",
       "</div>\n",
       "</div>\n",
       "</div>\n",
       "<div class=\"col-sm-6 actu col-md-4 musique\">\n",
       "<div class=\"img-hover\">\n",
       "<div class=\"thumbnail\">\n",
       "<a class=\"spt\" href=\"http://tnm5.ma/spectacles/%d8%b3%d9%87%d8%b1%d8%a9-%d9%81%d9%86%d9%8a%d8%a9-%d9%83%d8%a8%d8%b1%d9%89/\">\n",
       "<img alt=\"20juillet\" class=\"attachment-post-thumbnail wp-post-image\" height=\"600\" src=\"http://tnm5.ma/wp-content/uploads/2019/07/20juillet-e1562948225493.jpg\" width=\"413\"/> </a>\n",
       "</div>\n",
       "<div class=\"text-hover\">\n",
       "<a href=\"http://tnm5.ma/spectacles/%d8%b3%d9%87%d8%b1%d8%a9-%d9%81%d9%86%d9%8a%d8%a9-%d9%83%d8%a8%d8%b1%d9%89/\">\n",
       "<h3>سهرة فنية كبرى </h3>\n",
       "<p>\n",
       "<span class=\"glyphicon glyphicon-calendar\"></span>\n",
       "<span class=\"help\">20 juil. 2019  \n",
       "                              <span class=\"glyphicon glyphicon-time\"></span> 20:00</span>\n",
       "</p>\n",
       "<p class=\"\">بمناسبة عيد العرش المجيد\n",
       "\n",
       "</p>\n",
       "</a>\n",
       "</div>\n",
       "</div>\n",
       "</div>\n",
       "<div class=\"col-sm-6 actu col-md-4 musique\">\n",
       "<div class=\"img-hover\">\n",
       "<div class=\"thumbnail\">\n",
       "<a class=\"spt\" href=\"http://tnm5.ma/spectacles/lorchestre-symphonique-national-de-la-jeunesse-du-chili/\">\n",
       "<img alt=\"22juillet\" class=\"attachment-post-thumbnail wp-post-image\" height=\"600\" src=\"http://tnm5.ma/wp-content/uploads/2019/07/22juillet.jpg\" width=\"413\"/> </a>\n",
       "</div>\n",
       "<div class=\"text-hover\">\n",
       "<a href=\"http://tnm5.ma/spectacles/lorchestre-symphonique-national-de-la-jeunesse-du-chili/\">\n",
       "<h3>l’Orchestre Symphonique National de la Jeunesse du Chili </h3>\n",
       "<p>\n",
       "<span class=\"glyphicon glyphicon-calendar\"></span>\n",
       "<span class=\"help\">22 juil. 2019  \n",
       "                              <span class=\"glyphicon glyphicon-time\"></span> 20:30</span>\n",
       "</p>\n",
       "<p class=\"\">أركسترا السيمفونية الوطنية للشباب بالشيلي</p>\n",
       "</a>\n",
       "</div>\n",
       "</div>\n",
       "</div>\n",
       "<div class=\"col-sm-6 actu col-md-4 musique\">\n",
       "<div class=\"img-hover\">\n",
       "<div class=\"thumbnail\">\n",
       "<a class=\"spt\" href=\"http://tnm5.ma/spectacles/golden-jalia-awards/\">\n",
       "<img alt=\"Flyer_Golden_Jalia_Awards\" class=\"attachment-post-thumbnail wp-post-image\" height=\"800\" src=\"http://tnm5.ma/wp-content/uploads/2019/07/Flyer_Golden_Jalia_Awards-e1562061361479.jpg\" width=\"571\"/> </a>\n",
       "</div>\n",
       "<div class=\"text-hover\">\n",
       "<a href=\"http://tnm5.ma/spectacles/golden-jalia-awards/\">\n",
       "<h3>GOLDEN JALIA AWARDS </h3>\n",
       "<p>\n",
       "<span class=\"glyphicon glyphicon-calendar\"></span>\n",
       "<span class=\"help\">24 juil. 2019  \n",
       "                              <span class=\"glyphicon glyphicon-time\"></span> 19:00</span>\n",
       "</p>\n",
       "<p class=\"\">Cinéma - Peintures - Musique - Spectacles - Shows\n",
       "\n",
       "</p>\n",
       "</a>\n",
       "</div>\n",
       "</div>\n",
       "</div>\n",
       "<div class=\"col-sm-6 actu col-md-4 musique\">\n",
       "<div class=\"img-hover\">\n",
       "<div class=\"thumbnail\">\n",
       "<a class=\"spt\" href=\"http://tnm5.ma/spectacles/%d8%a7%d9%84%d9%85%d9%84%d8%ad%d9%85%d8%a9-%d8%a7%d9%84%d9%83%d8%a8%d8%b1%d9%89-%d9%85%d9%84%d9%83%d9%86%d8%a7-%d8%a7%d9%84%d9%87%d9%85%d8%a7%d9%85/\">\n",
       "<img alt=\"25juillet-\" class=\"attachment-post-thumbnail wp-post-image\" height=\"800\" src=\"http://tnm5.ma/wp-content/uploads/2019/07/25juillet-.jpg\" width=\"571\"/> </a>\n",
       "</div>\n",
       "<div class=\"text-hover\">\n",
       "<a href=\"http://tnm5.ma/spectacles/%d8%a7%d9%84%d9%85%d9%84%d8%ad%d9%85%d8%a9-%d8%a7%d9%84%d9%83%d8%a8%d8%b1%d9%89-%d9%85%d9%84%d9%83%d9%86%d8%a7-%d8%a7%d9%84%d9%87%d9%85%d8%a7%d9%85/\">\n",
       "<h3>« الملحمة الكبرى « ملكنا الهمام </h3>\n",
       "<p>\n",
       "<span class=\"glyphicon glyphicon-calendar\"></span>\n",
       "<span class=\"help\">25 juil. 2019  \n",
       "                              <span class=\"glyphicon glyphicon-time\"></span> 20:30</span>\n",
       "</p>\n",
       "<p class=\"\">بمناسبة الذكرى العشرين لإعتلاء صاحب الجلالة الملك محمد السادس عرش أسلافه المنعمين</p>\n",
       "</a>\n",
       "</div>\n",
       "</div>\n",
       "</div>\n",
       "<div class=\"col-sm-6 actu col-md-4 espaces\">\n",
       "<div class=\"img-hover\">\n",
       "<div class=\"thumbnail\">\n",
       "<a class=\"spt\" href=\"http://tnm5.ma/spectacles/chinese-new-image-oil-paintings-world-tour/\">\n",
       "<img alt=\"25juillet-expo--\" class=\"attachment-post-thumbnail wp-post-image\" height=\"800\" src=\"http://tnm5.ma/wp-content/uploads/2019/07/25juillet-expo-.jpg\" width=\"370\"/> </a>\n",
       "</div>\n",
       "<div class=\"text-hover\">\n",
       "<a href=\"http://tnm5.ma/spectacles/chinese-new-image-oil-paintings-world-tour/\">\n",
       "<h3>Chinese New Image Oil Paintings World Tour </h3>\n",
       "<p>\n",
       "<span class=\"glyphicon glyphicon-calendar\"></span>\n",
       "<span class=\"help\">25 juil. 2019  \n",
       "                              <span class=\"glyphicon glyphicon-time\"></span> 10:30</span>\n",
       "</p>\n",
       "<p class=\"\">Chinese Cultural Center in Rabat</p>\n",
       "</a>\n",
       "</div>\n",
       "</div>\n",
       "</div>\n",
       "<div class=\"col-sm-6 actu col-md-4 musique\">\n",
       "<div class=\"img-hover\">\n",
       "<div class=\"thumbnail\">\n",
       "<a class=\"spt\" href=\"http://tnm5.ma/spectacles/%d8%a7%d9%84%d9%85%d9%87%d8%b1%d8%ac%d8%a7%d9%86-%d8%a7%d9%84%d8%af%d9%88%d9%84%d9%8a-%d8%a3%d8%b7%d9%81%d8%a7%d9%84-%d8%a7%d9%84%d8%b3%d9%84%d8%a7%d9%85/\">\n",
       "<img alt=\"26juillet\" class=\"attachment-post-thumbnail wp-post-image\" height=\"800\" src=\"http://tnm5.ma/wp-content/uploads/2019/07/26juillet-e1564051409711.jpg\" width=\"773\"/> </a>\n",
       "</div>\n",
       "<div class=\"text-hover\">\n",
       "<a href=\"http://tnm5.ma/spectacles/%d8%a7%d9%84%d9%85%d9%87%d8%b1%d8%ac%d8%a7%d9%86-%d8%a7%d9%84%d8%af%d9%88%d9%84%d9%8a-%d8%a3%d8%b7%d9%81%d8%a7%d9%84-%d8%a7%d9%84%d8%b3%d9%84%d8%a7%d9%85/\">\n",
       "<h3>المهرجان الدولي أطفال السلام </h3>\n",
       "<p>\n",
       "<span class=\"glyphicon glyphicon-calendar\"></span>\n",
       "<span class=\"help\">26 juil. 2019  \n",
       "                              <span class=\"glyphicon glyphicon-time\"></span> 20:00</span>\n",
       "</p>\n",
       "<p class=\"\">حفل فني متنوع لروائع فلكلور الطفولة من 28 دولة\n",
       "\n",
       "</p>\n",
       "</a>\n",
       "</div>\n",
       "</div>\n",
       "</div>\n",
       "<div class=\"col-sm-6 actu col-md-4 musique\">\n",
       "<div class=\"img-hover\">\n",
       "<div class=\"thumbnail\">\n",
       "<a class=\"spt\" href=\"http://tnm5.ma/spectacles/%d8%ad%d9%81%d9%84-%d9%81%d9%86%d9%8a-6/\">\n",
       "<img alt=\"27juillet\" class=\"attachment-post-thumbnail wp-post-image\" height=\"600\" src=\"http://tnm5.ma/wp-content/uploads/2019/07/27juillet1-e1563809465946.jpg\" width=\"437\"/> </a>\n",
       "</div>\n",
       "<div class=\"text-hover\">\n",
       "<a href=\"http://tnm5.ma/spectacles/%d8%ad%d9%81%d9%84-%d9%81%d9%86%d9%8a-6/\">\n",
       "<h3>حفل فني </h3>\n",
       "<p>\n",
       "<span class=\"glyphicon glyphicon-calendar\"></span>\n",
       "<span class=\"help\">27 juil. 2019  \n",
       "                              <span class=\"glyphicon glyphicon-time\"></span> 19:00</span>\n",
       "</p>\n",
       "<p class=\"\">بمناسبة عيد العرش المجيد</p>\n",
       "</a>\n",
       "</div>\n",
       "</div>\n",
       "</div>\n",
       "<div class=\"col-sm-6 actu col-md-4 musique\">\n",
       "<div class=\"img-hover\">\n",
       "<div class=\"thumbnail\">\n",
       "<a class=\"spt\" href=\"http://tnm5.ma/spectacles/%d9%85%d9%87%d8%b1%d8%ac%d8%a7%d9%86-%d8%b4%d8%b9%d8%a8%d9%8a%d8%a7%d8%aa-%d9%84%d9%84%d9%85%d9%88%d8%a7%d8%b7%d9%86%d8%a9-%d9%88%d8%a7%d9%84%d8%aa%d8%ac%d8%af%d9%8a%d8%af/\">\n",
       "<img alt=\"affiche-\" class=\"attachment-post-thumbnail wp-post-image\" height=\"1000\" src=\"http://tnm5.ma/wp-content/uploads/2019/07/affiche--e1563973254248.png\" width=\"714\"/> </a>\n",
       "</div>\n",
       "<div class=\"text-hover\">\n",
       "<a href=\"http://tnm5.ma/spectacles/%d9%85%d9%87%d8%b1%d8%ac%d8%a7%d9%86-%d8%b4%d8%b9%d8%a8%d9%8a%d8%a7%d8%aa-%d9%84%d9%84%d9%85%d9%88%d8%a7%d8%b7%d9%86%d8%a9-%d9%88%d8%a7%d9%84%d8%aa%d8%ac%d8%af%d9%8a%d8%af/\">\n",
       "<h3>مهرجان شعبيات للمواطنة والتجديد </h3>\n",
       "<p>\n",
       "<span class=\"glyphicon glyphicon-calendar\"></span>\n",
       "<span class=\"help\">30 juil. 2019  \n",
       "                              <span class=\"glyphicon glyphicon-time\"></span> 19:00</span>\n",
       "</p>\n",
       "<p class=\"\">احتفالا بالذكرى العشرين لعيد العرش المجيد </p>\n",
       "</a>\n",
       "</div>\n",
       "</div>\n",
       "</div>\n",
       "<div class=\"col-sm-6 actu col-md-4 musique\">\n",
       "<div class=\"img-hover\">\n",
       "<div class=\"thumbnail\">\n",
       "<a class=\"spt\" href=\"http://tnm5.ma/spectacles/%d9%85%d9%87%d8%b1%d8%ac%d8%a7%d9%86-%d8%b4%d8%b9%d8%a8%d9%8a%d8%a7%d8%aa-%d9%84%d9%84%d9%85%d9%88%d8%a7%d8%b7%d9%86%d8%a9-%d9%88%d8%a7%d9%84%d8%aa%d8%ac%d8%af%d9%8a%d8%af-2/\">\n",
       "<img alt=\"affiche-\" class=\"attachment-post-thumbnail wp-post-image\" height=\"1000\" src=\"http://tnm5.ma/wp-content/uploads/2019/07/affiche--e1563973254248.png\" width=\"714\"/> </a>\n",
       "</div>\n",
       "<div class=\"text-hover\">\n",
       "<a href=\"http://tnm5.ma/spectacles/%d9%85%d9%87%d8%b1%d8%ac%d8%a7%d9%86-%d8%b4%d8%b9%d8%a8%d9%8a%d8%a7%d8%aa-%d9%84%d9%84%d9%85%d9%88%d8%a7%d8%b7%d9%86%d8%a9-%d9%88%d8%a7%d9%84%d8%aa%d8%ac%d8%af%d9%8a%d8%af-2/\">\n",
       "<h3>مهرجان شعبيات للمواطنة والتجديد </h3>\n",
       "<p>\n",
       "<span class=\"glyphicon glyphicon-calendar\"></span>\n",
       "<span class=\"help\">31 juil. 2019  \n",
       "                              <span class=\"glyphicon glyphicon-time\"></span> 19:00</span>\n",
       "</p>\n",
       "<p class=\"\">احتفالا بالذكرى العشرين لعيد العرش المجيد </p>\n",
       "</a>\n",
       "</div>\n",
       "</div>\n",
       "</div>\n",
       "<div class=\"clear\"></div>\n",
       "</div>"
      ]
     },
     "execution_count": 5,
     "metadata": {},
     "output_type": "execute_result"
    }
   ],
   "source": [
    "spectacles"
   ]
  },
  {
   "cell_type": "markdown",
   "metadata": {},
   "source": [
    "## Isoler les intitulés des évènements"
   ]
  },
  {
   "cell_type": "code",
   "execution_count": 6,
   "metadata": {},
   "outputs": [
    {
     "data": {
      "text/plain": [
       "[<h3>Les ballets la Tarentelle : EXCELSIOR </h3>,\n",
       " <h3>عطيل دومیل دیزناف </h3>,\n",
       " <h3>مسرحية  أغنية التم </h3>,\n",
       " <h3>المهرجان الدولي مغرب الحكايات </h3>,\n",
       " <h3>مسرحية  لادريسة‭ ‬غلط </h3>,\n",
       " <h3>السهرة الكبرى مع الفنانة المتألقة عزيزة ملاك </h3>,\n",
       " <h3>علي اكس معجزة 30 فبراير </h3>,\n",
       " <h3>سهرة فنية كبرى </h3>,\n",
       " <h3>l’Orchestre Symphonique National de la Jeunesse du Chili </h3>,\n",
       " <h3>GOLDEN JALIA AWARDS </h3>,\n",
       " <h3>« الملحمة الكبرى « ملكنا الهمام </h3>,\n",
       " <h3>Chinese New Image Oil Paintings World Tour </h3>,\n",
       " <h3>المهرجان الدولي أطفال السلام </h3>,\n",
       " <h3>حفل فني </h3>,\n",
       " <h3>مهرجان شعبيات للمواطنة والتجديد </h3>,\n",
       " <h3>مهرجان شعبيات للمواطنة والتجديد </h3>]"
      ]
     },
     "execution_count": 6,
     "metadata": {},
     "output_type": "execute_result"
    }
   ],
   "source": [
    "spectacles.find_all('h3')"
   ]
  },
  {
   "cell_type": "code",
   "execution_count": 7,
   "metadata": {},
   "outputs": [
    {
     "name": "stdout",
     "output_type": "stream",
     "text": [
      "16\n"
     ]
    }
   ],
   "source": [
    "print(len(spectacles.find_all('h3')))"
   ]
  },
  {
   "cell_type": "code",
   "execution_count": 8,
   "metadata": {},
   "outputs": [],
   "source": [
    "noms = []\n",
    "for i in spectacles.find_all('h3'):\n",
    "    noms.append(i.text)"
   ]
  },
  {
   "cell_type": "code",
   "execution_count": 9,
   "metadata": {},
   "outputs": [
    {
     "data": {
      "text/plain": [
       "['Les ballets la Tarentelle : EXCELSIOR ',\n",
       " 'عطيل دومیل دیزناف ',\n",
       " 'مسرحية  أغنية التم ',\n",
       " 'المهرجان الدولي مغرب الحكايات ',\n",
       " 'مسرحية  لادريسة\\u202d \\u202cغلط ',\n",
       " 'السهرة الكبرى مع الفنانة المتألقة عزيزة ملاك ',\n",
       " 'علي اكس معجزة 30 فبراير ',\n",
       " 'سهرة فنية كبرى ',\n",
       " 'l’Orchestre Symphonique National de la Jeunesse du Chili ',\n",
       " 'GOLDEN JALIA AWARDS ',\n",
       " '«\\xa0الملحمة الكبرى «\\xa0ملكنا الهمام ',\n",
       " 'Chinese New Image Oil Paintings World Tour ',\n",
       " 'المهرجان الدولي أطفال السلام ',\n",
       " 'حفل فني ',\n",
       " 'مهرجان شعبيات للمواطنة والتجديد ',\n",
       " 'مهرجان شعبيات للمواطنة والتجديد ']"
      ]
     },
     "execution_count": 9,
     "metadata": {},
     "output_type": "execute_result"
    }
   ],
   "source": [
    "noms"
   ]
  },
  {
   "cell_type": "markdown",
   "metadata": {},
   "source": [
    "### Cibler les dates"
   ]
  },
  {
   "cell_type": "code",
   "execution_count": 10,
   "metadata": {},
   "outputs": [
    {
     "data": {
      "text/plain": [
       "[<span class=\"help\"> 2 juil. 2019  \n",
       "                               <span class=\"glyphicon glyphicon-time\"></span> 18:30</span>,\n",
       " <span class=\"help\"> 9 juil. 2019  \n",
       "                               <span class=\"glyphicon glyphicon-time\"></span> 20:00</span>,\n",
       " <span class=\"help\">10 juil. 2019  \n",
       "                               <span class=\"glyphicon glyphicon-time\"></span> 20:30</span>,\n",
       " <span class=\"help\">12 juil. 2019  \n",
       "                               <span class=\"glyphicon glyphicon-time\"></span> 21:00</span>,\n",
       " <span class=\"help\">15 juil. 2019  \n",
       "                               <span class=\"glyphicon glyphicon-time\"></span> 20:00</span>,\n",
       " <span class=\"help\">17 juil. 2019  \n",
       "                               <span class=\"glyphicon glyphicon-time\"></span> 20:00</span>,\n",
       " <span class=\"help\">18 juil. 2019  \n",
       "                               <span class=\"glyphicon glyphicon-time\"></span> 20:00</span>,\n",
       " <span class=\"help\">20 juil. 2019  \n",
       "                               <span class=\"glyphicon glyphicon-time\"></span> 20:00</span>,\n",
       " <span class=\"help\">22 juil. 2019  \n",
       "                               <span class=\"glyphicon glyphicon-time\"></span> 20:30</span>,\n",
       " <span class=\"help\">24 juil. 2019  \n",
       "                               <span class=\"glyphicon glyphicon-time\"></span> 19:00</span>,\n",
       " <span class=\"help\">25 juil. 2019  \n",
       "                               <span class=\"glyphicon glyphicon-time\"></span> 20:30</span>,\n",
       " <span class=\"help\">25 juil. 2019  \n",
       "                               <span class=\"glyphicon glyphicon-time\"></span> 10:30</span>,\n",
       " <span class=\"help\">26 juil. 2019  \n",
       "                               <span class=\"glyphicon glyphicon-time\"></span> 20:00</span>,\n",
       " <span class=\"help\">27 juil. 2019  \n",
       "                               <span class=\"glyphicon glyphicon-time\"></span> 19:00</span>,\n",
       " <span class=\"help\">30 juil. 2019  \n",
       "                               <span class=\"glyphicon glyphicon-time\"></span> 19:00</span>,\n",
       " <span class=\"help\">31 juil. 2019  \n",
       "                               <span class=\"glyphicon glyphicon-time\"></span> 19:00</span>]"
      ]
     },
     "execution_count": 10,
     "metadata": {},
     "output_type": "execute_result"
    }
   ],
   "source": [
    "spectacles.find_all('span',class_='help')"
   ]
  },
  {
   "cell_type": "markdown",
   "metadata": {},
   "source": [
    "Extraire les dates nous renvoie le format pareil"
   ]
  },
  {
   "cell_type": "code",
   "execution_count": 11,
   "metadata": {},
   "outputs": [
    {
     "data": {
      "text/plain": [
       "'\\n\\n 2 juil. 2019\\xa0\\xa0\\n                               18:30\\n'"
      ]
     },
     "execution_count": 11,
     "metadata": {},
     "output_type": "execute_result"
    }
   ],
   "source": [
    "spectacles.p.get_text()"
   ]
  },
  {
   "cell_type": "markdown",
   "metadata": {},
   "source": [
    "Qu'il faut nettoyer "
   ]
  },
  {
   "cell_type": "code",
   "execution_count": 12,
   "metadata": {},
   "outputs": [
    {
     "data": {
      "text/plain": [
       "' 2 juil. 2019                               18:30'"
      ]
     },
     "execution_count": 12,
     "metadata": {},
     "output_type": "execute_result"
    }
   ],
   "source": [
    "spectacles.p.get_text().replace(\"\\n\", \"\").replace(\"\\xa0\", \"\")"
   ]
  },
  {
   "cell_type": "code",
   "execution_count": 13,
   "metadata": {},
   "outputs": [
    {
     "name": "stdout",
     "output_type": "stream",
     "text": [
      " 2 juil. 2019  \n",
      "                               18:30\n",
      " 9 juil. 2019  \n",
      "                               20:00\n",
      "10 juil. 2019  \n",
      "                               20:30\n",
      "12 juil. 2019  \n",
      "                               21:00\n",
      "15 juil. 2019  \n",
      "                               20:00\n",
      "17 juil. 2019  \n",
      "                               20:00\n",
      "18 juil. 2019  \n",
      "                               20:00\n",
      "20 juil. 2019  \n",
      "                               20:00\n",
      "22 juil. 2019  \n",
      "                               20:30\n",
      "24 juil. 2019  \n",
      "                               19:00\n",
      "25 juil. 2019  \n",
      "                               20:30\n",
      "25 juil. 2019  \n",
      "                               10:30\n",
      "26 juil. 2019  \n",
      "                               20:00\n",
      "27 juil. 2019  \n",
      "                               19:00\n",
      "30 juil. 2019  \n",
      "                               19:00\n",
      "31 juil. 2019  \n",
      "                               19:00\n"
     ]
    }
   ],
   "source": [
    "for i in spectacles.find_all('span',class_='help'):\n",
    "    print(i.get_text())"
   ]
  },
  {
   "cell_type": "code",
   "execution_count": 14,
   "metadata": {},
   "outputs": [],
   "source": [
    "s = [] #appelé 's' à cause des espaces qu'il contient\n",
    "for i in spectacles.find_all('span',class_='help'):\n",
    "    s.append(i.get_text().replace(\"\\n\", \"\").replace(\"\\xa0\", \"\"))"
   ]
  },
  {
   "cell_type": "code",
   "execution_count": 15,
   "metadata": {},
   "outputs": [
    {
     "data": {
      "text/plain": [
       "[' 2 juil. 2019                               18:30',\n",
       " ' 9 juil. 2019                               20:00',\n",
       " '10 juil. 2019                               20:30',\n",
       " '12 juil. 2019                               21:00',\n",
       " '15 juil. 2019                               20:00',\n",
       " '17 juil. 2019                               20:00',\n",
       " '18 juil. 2019                               20:00',\n",
       " '20 juil. 2019                               20:00',\n",
       " '22 juil. 2019                               20:30',\n",
       " '24 juil. 2019                               19:00',\n",
       " '25 juil. 2019                               20:30',\n",
       " '25 juil. 2019                               10:30',\n",
       " '26 juil. 2019                               20:00',\n",
       " '27 juil. 2019                               19:00',\n",
       " '30 juil. 2019                               19:00',\n",
       " '31 juil. 2019                               19:00']"
      ]
     },
     "execution_count": 15,
     "metadata": {},
     "output_type": "execute_result"
    }
   ],
   "source": [
    "s"
   ]
  },
  {
   "cell_type": "code",
   "execution_count": 16,
   "metadata": {},
   "outputs": [],
   "source": [
    "temps = []\n",
    "for i in s:\n",
    "    temps.append(\" \".join(i.split()))"
   ]
  },
  {
   "cell_type": "code",
   "execution_count": 17,
   "metadata": {},
   "outputs": [
    {
     "data": {
      "text/plain": [
       "['2 juil. 2019 18:30',\n",
       " '9 juil. 2019 20:00',\n",
       " '10 juil. 2019 20:30',\n",
       " '12 juil. 2019 21:00',\n",
       " '15 juil. 2019 20:00',\n",
       " '17 juil. 2019 20:00',\n",
       " '18 juil. 2019 20:00',\n",
       " '20 juil. 2019 20:00',\n",
       " '22 juil. 2019 20:30',\n",
       " '24 juil. 2019 19:00',\n",
       " '25 juil. 2019 20:30',\n",
       " '25 juil. 2019 10:30',\n",
       " '26 juil. 2019 20:00',\n",
       " '27 juil. 2019 19:00',\n",
       " '30 juil. 2019 19:00',\n",
       " '31 juil. 2019 19:00']"
      ]
     },
     "execution_count": 17,
     "metadata": {},
     "output_type": "execute_result"
    }
   ],
   "source": [
    "temps"
   ]
  },
  {
   "cell_type": "code",
   "execution_count": 18,
   "metadata": {},
   "outputs": [
    {
     "data": {
      "text/plain": [
       "16"
      ]
     },
     "execution_count": 18,
     "metadata": {},
     "output_type": "execute_result"
    }
   ],
   "source": [
    "len(temps)"
   ]
  },
  {
   "cell_type": "code",
   "execution_count": 19,
   "metadata": {},
   "outputs": [],
   "source": [
    "elt = temps[0]"
   ]
  },
  {
   "cell_type": "code",
   "execution_count": 20,
   "metadata": {
    "scrolled": true
   },
   "outputs": [
    {
     "data": {
      "text/plain": [
       "'2 juil. 2019'"
      ]
     },
     "execution_count": 20,
     "metadata": {},
     "output_type": "execute_result"
    }
   ],
   "source": [
    "elt[:-6]"
   ]
  },
  {
   "cell_type": "code",
   "execution_count": 21,
   "metadata": {},
   "outputs": [
    {
     "data": {
      "text/plain": [
       "' 18:30'"
      ]
     },
     "execution_count": 21,
     "metadata": {},
     "output_type": "execute_result"
    }
   ],
   "source": [
    "elt[12:]"
   ]
  },
  {
   "cell_type": "code",
   "execution_count": 22,
   "metadata": {},
   "outputs": [],
   "source": [
    "dates = []\n",
    "heures = []\n",
    "for i in temps:\n",
    "    dates.append(i[:-6])\n",
    "    heures.append(i[13:])"
   ]
  },
  {
   "cell_type": "code",
   "execution_count": 23,
   "metadata": {},
   "outputs": [
    {
     "data": {
      "text/plain": [
       "['2 juil. 2019',\n",
       " '9 juil. 2019',\n",
       " '10 juil. 2019',\n",
       " '12 juil. 2019',\n",
       " '15 juil. 2019',\n",
       " '17 juil. 2019',\n",
       " '18 juil. 2019',\n",
       " '20 juil. 2019',\n",
       " '22 juil. 2019',\n",
       " '24 juil. 2019',\n",
       " '25 juil. 2019',\n",
       " '25 juil. 2019',\n",
       " '26 juil. 2019',\n",
       " '27 juil. 2019',\n",
       " '30 juil. 2019',\n",
       " '31 juil. 2019']"
      ]
     },
     "execution_count": 23,
     "metadata": {},
     "output_type": "execute_result"
    }
   ],
   "source": [
    "dates"
   ]
  },
  {
   "cell_type": "code",
   "execution_count": 24,
   "metadata": {},
   "outputs": [
    {
     "data": {
      "text/plain": [
       "['18:30',\n",
       " '20:00',\n",
       " ' 20:30',\n",
       " ' 21:00',\n",
       " ' 20:00',\n",
       " ' 20:00',\n",
       " ' 20:00',\n",
       " ' 20:00',\n",
       " ' 20:30',\n",
       " ' 19:00',\n",
       " ' 20:30',\n",
       " ' 10:30',\n",
       " ' 20:00',\n",
       " ' 19:00',\n",
       " ' 19:00',\n",
       " ' 19:00']"
      ]
     },
     "execution_count": 24,
     "metadata": {},
     "output_type": "execute_result"
    }
   ],
   "source": [
    "heures"
   ]
  },
  {
   "cell_type": "markdown",
   "metadata": {},
   "source": [
    "# Récupérer les liens de chaque évènement"
   ]
  },
  {
   "cell_type": "code",
   "execution_count": 25,
   "metadata": {},
   "outputs": [],
   "source": [
    "links = spectacles.find_all('a',class_='spt')"
   ]
  },
  {
   "cell_type": "code",
   "execution_count": 26,
   "metadata": {},
   "outputs": [
    {
     "name": "stdout",
     "output_type": "stream",
     "text": [
      "http://tnm5.ma/spectacles/les-ballets-la-tarentelle-excelsior/\n",
      "http://tnm5.ma/spectacles/%d8%b9%d8%b7%d9%8a%d9%84-%d8%af%d9%88%d9%85%db%8c%d9%84-%d8%af%db%8c%d8%b2%d9%86%d8%a7%d9%81/\n",
      "http://tnm5.ma/spectacles/%d9%85%d8%b3%d8%b1%d8%ad%d9%8a%d8%a9-%d8%a3%d8%ba%d9%86%d9%8a%d8%a9-%d8%a7%d9%84%d8%aa%d9%85/\n",
      "http://tnm5.ma/spectacles/%d8%a7%d9%84%d9%85%d9%87%d8%b1%d8%ac%d8%a7%d9%86-%d8%a7%d9%84%d8%af%d9%88%d9%84%d9%8a-%d9%85%d8%ba%d8%b1%d8%a8-%d8%a7%d9%84%d8%ad%d9%83%d8%a7%d9%8a%d8%a7%d8%aa/\n",
      "http://tnm5.ma/spectacles/%d9%85%d8%b3%d8%b1%d8%ad%d9%8a%d8%a9-%d9%84%d8%a7%d8%af%d8%b1%d9%8a%d8%b3%d8%a9%e2%80%ad-%e2%80%ac%d8%ba%d9%84%d8%b7/\n",
      "http://tnm5.ma/spectacles/%d8%a7%d9%84%d8%b3%d9%87%d8%b1%d8%a9-%d8%a7%d9%84%d9%83%d8%a8%d8%b1%d9%89-%d9%85%d8%b9-%d8%a7%d9%84%d9%81%d9%86%d8%a7%d9%86%d8%a9-%d8%a7%d9%84%d9%85%d8%aa%d8%a3%d9%84%d9%82%d8%a9-%d8%b9%d8%b2%d9%8a/\n",
      "http://tnm5.ma/spectacles/%d8%b9%d9%84%d9%8a-%d8%a7%d9%83%d8%b3-%d9%85%d8%b9%d8%ac%d8%b2%d8%a9-30-%d9%81%d8%a8%d8%b1%d8%a7%d9%8a%d8%b1-2/\n",
      "http://tnm5.ma/spectacles/%d8%b3%d9%87%d8%b1%d8%a9-%d9%81%d9%86%d9%8a%d8%a9-%d9%83%d8%a8%d8%b1%d9%89/\n",
      "http://tnm5.ma/spectacles/lorchestre-symphonique-national-de-la-jeunesse-du-chili/\n",
      "http://tnm5.ma/spectacles/golden-jalia-awards/\n",
      "http://tnm5.ma/spectacles/%d8%a7%d9%84%d9%85%d9%84%d8%ad%d9%85%d8%a9-%d8%a7%d9%84%d9%83%d8%a8%d8%b1%d9%89-%d9%85%d9%84%d9%83%d9%86%d8%a7-%d8%a7%d9%84%d9%87%d9%85%d8%a7%d9%85/\n",
      "http://tnm5.ma/spectacles/chinese-new-image-oil-paintings-world-tour/\n",
      "http://tnm5.ma/spectacles/%d8%a7%d9%84%d9%85%d9%87%d8%b1%d8%ac%d8%a7%d9%86-%d8%a7%d9%84%d8%af%d9%88%d9%84%d9%8a-%d8%a3%d8%b7%d9%81%d8%a7%d9%84-%d8%a7%d9%84%d8%b3%d9%84%d8%a7%d9%85/\n",
      "http://tnm5.ma/spectacles/%d8%ad%d9%81%d9%84-%d9%81%d9%86%d9%8a-6/\n",
      "http://tnm5.ma/spectacles/%d9%85%d9%87%d8%b1%d8%ac%d8%a7%d9%86-%d8%b4%d8%b9%d8%a8%d9%8a%d8%a7%d8%aa-%d9%84%d9%84%d9%85%d9%88%d8%a7%d8%b7%d9%86%d8%a9-%d9%88%d8%a7%d9%84%d8%aa%d8%ac%d8%af%d9%8a%d8%af/\n",
      "http://tnm5.ma/spectacles/%d9%85%d9%87%d8%b1%d8%ac%d8%a7%d9%86-%d8%b4%d8%b9%d8%a8%d9%8a%d8%a7%d8%aa-%d9%84%d9%84%d9%85%d9%88%d8%a7%d8%b7%d9%86%d8%a9-%d9%88%d8%a7%d9%84%d8%aa%d8%ac%d8%af%d9%8a%d8%af-2/\n"
     ]
    }
   ],
   "source": [
    "liens =[]\n",
    "for i in links:\n",
    "    print(i.get('href'))\n",
    "    liens.append(i.get('href'))"
   ]
  },
  {
   "cell_type": "code",
   "execution_count": 27,
   "metadata": {},
   "outputs": [
    {
     "data": {
      "text/plain": [
       "['http://tnm5.ma/spectacles/les-ballets-la-tarentelle-excelsior/',\n",
       " 'http://tnm5.ma/spectacles/%d8%b9%d8%b7%d9%8a%d9%84-%d8%af%d9%88%d9%85%db%8c%d9%84-%d8%af%db%8c%d8%b2%d9%86%d8%a7%d9%81/',\n",
       " 'http://tnm5.ma/spectacles/%d9%85%d8%b3%d8%b1%d8%ad%d9%8a%d8%a9-%d8%a3%d8%ba%d9%86%d9%8a%d8%a9-%d8%a7%d9%84%d8%aa%d9%85/',\n",
       " 'http://tnm5.ma/spectacles/%d8%a7%d9%84%d9%85%d9%87%d8%b1%d8%ac%d8%a7%d9%86-%d8%a7%d9%84%d8%af%d9%88%d9%84%d9%8a-%d9%85%d8%ba%d8%b1%d8%a8-%d8%a7%d9%84%d8%ad%d9%83%d8%a7%d9%8a%d8%a7%d8%aa/',\n",
       " 'http://tnm5.ma/spectacles/%d9%85%d8%b3%d8%b1%d8%ad%d9%8a%d8%a9-%d9%84%d8%a7%d8%af%d8%b1%d9%8a%d8%b3%d8%a9%e2%80%ad-%e2%80%ac%d8%ba%d9%84%d8%b7/',\n",
       " 'http://tnm5.ma/spectacles/%d8%a7%d9%84%d8%b3%d9%87%d8%b1%d8%a9-%d8%a7%d9%84%d9%83%d8%a8%d8%b1%d9%89-%d9%85%d8%b9-%d8%a7%d9%84%d9%81%d9%86%d8%a7%d9%86%d8%a9-%d8%a7%d9%84%d9%85%d8%aa%d8%a3%d9%84%d9%82%d8%a9-%d8%b9%d8%b2%d9%8a/',\n",
       " 'http://tnm5.ma/spectacles/%d8%b9%d9%84%d9%8a-%d8%a7%d9%83%d8%b3-%d9%85%d8%b9%d8%ac%d8%b2%d8%a9-30-%d9%81%d8%a8%d8%b1%d8%a7%d9%8a%d8%b1-2/',\n",
       " 'http://tnm5.ma/spectacles/%d8%b3%d9%87%d8%b1%d8%a9-%d9%81%d9%86%d9%8a%d8%a9-%d9%83%d8%a8%d8%b1%d9%89/',\n",
       " 'http://tnm5.ma/spectacles/lorchestre-symphonique-national-de-la-jeunesse-du-chili/',\n",
       " 'http://tnm5.ma/spectacles/golden-jalia-awards/',\n",
       " 'http://tnm5.ma/spectacles/%d8%a7%d9%84%d9%85%d9%84%d8%ad%d9%85%d8%a9-%d8%a7%d9%84%d9%83%d8%a8%d8%b1%d9%89-%d9%85%d9%84%d9%83%d9%86%d8%a7-%d8%a7%d9%84%d9%87%d9%85%d8%a7%d9%85/',\n",
       " 'http://tnm5.ma/spectacles/chinese-new-image-oil-paintings-world-tour/',\n",
       " 'http://tnm5.ma/spectacles/%d8%a7%d9%84%d9%85%d9%87%d8%b1%d8%ac%d8%a7%d9%86-%d8%a7%d9%84%d8%af%d9%88%d9%84%d9%8a-%d8%a3%d8%b7%d9%81%d8%a7%d9%84-%d8%a7%d9%84%d8%b3%d9%84%d8%a7%d9%85/',\n",
       " 'http://tnm5.ma/spectacles/%d8%ad%d9%81%d9%84-%d9%81%d9%86%d9%8a-6/',\n",
       " 'http://tnm5.ma/spectacles/%d9%85%d9%87%d8%b1%d8%ac%d8%a7%d9%86-%d8%b4%d8%b9%d8%a8%d9%8a%d8%a7%d8%aa-%d9%84%d9%84%d9%85%d9%88%d8%a7%d8%b7%d9%86%d8%a9-%d9%88%d8%a7%d9%84%d8%aa%d8%ac%d8%af%d9%8a%d8%af/',\n",
       " 'http://tnm5.ma/spectacles/%d9%85%d9%87%d8%b1%d8%ac%d8%a7%d9%86-%d8%b4%d8%b9%d8%a8%d9%8a%d8%a7%d8%aa-%d9%84%d9%84%d9%85%d9%88%d8%a7%d8%b7%d9%86%d8%a9-%d9%88%d8%a7%d9%84%d8%aa%d8%ac%d8%af%d9%8a%d8%af-2/']"
      ]
     },
     "execution_count": 27,
     "metadata": {},
     "output_type": "execute_result"
    }
   ],
   "source": [
    "liens"
   ]
  },
  {
   "cell_type": "markdown",
   "metadata": {},
   "source": [
    "# Scraping des images"
   ]
  },
  {
   "cell_type": "code",
   "execution_count": 28,
   "metadata": {},
   "outputs": [],
   "source": [
    "img = spectacles.find_all('img')"
   ]
  },
  {
   "cell_type": "code",
   "execution_count": 29,
   "metadata": {},
   "outputs": [
    {
     "data": {
      "text/plain": [
       "16"
      ]
     },
     "execution_count": 29,
     "metadata": {},
     "output_type": "execute_result"
    }
   ],
   "source": [
    "len(img)"
   ]
  },
  {
   "cell_type": "code",
   "execution_count": 30,
   "metadata": {},
   "outputs": [],
   "source": [
    "images = []"
   ]
  },
  {
   "cell_type": "markdown",
   "metadata": {},
   "source": [
    "### Attention : les liens en \"HTTP\" ne peuvent être récupérés par Picasso ou Glide sur android. C'est pourquoi on converti les liens en \"HTTPS\""
   ]
  },
  {
   "cell_type": "code",
   "execution_count": 31,
   "metadata": {},
   "outputs": [],
   "source": [
    "for i in img:\n",
    "    images.append(i['src'].replace(\"http:\",\"https:\"))"
   ]
  },
  {
   "cell_type": "code",
   "execution_count": 32,
   "metadata": {},
   "outputs": [
    {
     "data": {
      "text/plain": [
       "['https://tnm5.ma/wp-content/uploads/2019/04/IMG_20190628_175106_866.jpg',\n",
       " 'https://tnm5.ma/wp-content/uploads/2019/06/9juillet--e1561641574477.jpg',\n",
       " 'https://tnm5.ma/wp-content/uploads/2019/06/10juillet2-e1561545507291.jpg',\n",
       " 'https://tnm5.ma/wp-content/uploads/2019/07/12juillet2019-e1562667356185.jpg',\n",
       " 'https://tnm5.ma/wp-content/uploads/2019/04/29avril.jpg',\n",
       " 'https://tnm5.ma/wp-content/uploads/2019/07/17juillet2019-e1562668104677.jpg',\n",
       " 'https://tnm5.ma/wp-content/uploads/2019/06/18juillet-2-e1562579160857.jpg',\n",
       " 'https://tnm5.ma/wp-content/uploads/2019/07/20juillet-e1562948225493.jpg',\n",
       " 'https://tnm5.ma/wp-content/uploads/2019/07/22juillet.jpg',\n",
       " 'https://tnm5.ma/wp-content/uploads/2019/07/Flyer_Golden_Jalia_Awards-e1562061361479.jpg',\n",
       " 'https://tnm5.ma/wp-content/uploads/2019/07/25juillet-.jpg',\n",
       " 'https://tnm5.ma/wp-content/uploads/2019/07/25juillet-expo-.jpg',\n",
       " 'https://tnm5.ma/wp-content/uploads/2019/07/26juillet-e1564051409711.jpg',\n",
       " 'https://tnm5.ma/wp-content/uploads/2019/07/27juillet1-e1563809465946.jpg',\n",
       " 'https://tnm5.ma/wp-content/uploads/2019/07/affiche--e1563973254248.png',\n",
       " 'https://tnm5.ma/wp-content/uploads/2019/07/affiche--e1563973254248.png']"
      ]
     },
     "execution_count": 32,
     "metadata": {},
     "output_type": "execute_result"
    }
   ],
   "source": [
    "images"
   ]
  },
  {
   "cell_type": "markdown",
   "metadata": {},
   "source": [
    "# Regrouper les informations dans un tuple"
   ]
  },
  {
   "cell_type": "code",
   "execution_count": 33,
   "metadata": {},
   "outputs": [],
   "source": [
    "prog = []\n",
    "for i,j,k,l,m in zip(noms,dates,heures,images,liens):\n",
    "    t = (i,j,k,l,m)\n",
    "    prog.append(t)"
   ]
  },
  {
   "cell_type": "code",
   "execution_count": 34,
   "metadata": {},
   "outputs": [
    {
     "data": {
      "text/plain": [
       "[('Les ballets la Tarentelle : EXCELSIOR ',\n",
       "  '2 juil. 2019',\n",
       "  '18:30',\n",
       "  'https://tnm5.ma/wp-content/uploads/2019/04/IMG_20190628_175106_866.jpg',\n",
       "  'http://tnm5.ma/spectacles/les-ballets-la-tarentelle-excelsior/'),\n",
       " ('عطيل دومیل دیزناف ',\n",
       "  '9 juil. 2019',\n",
       "  '20:00',\n",
       "  'https://tnm5.ma/wp-content/uploads/2019/06/9juillet--e1561641574477.jpg',\n",
       "  'http://tnm5.ma/spectacles/%d8%b9%d8%b7%d9%8a%d9%84-%d8%af%d9%88%d9%85%db%8c%d9%84-%d8%af%db%8c%d8%b2%d9%86%d8%a7%d9%81/'),\n",
       " ('مسرحية  أغنية التم ',\n",
       "  '10 juil. 2019',\n",
       "  ' 20:30',\n",
       "  'https://tnm5.ma/wp-content/uploads/2019/06/10juillet2-e1561545507291.jpg',\n",
       "  'http://tnm5.ma/spectacles/%d9%85%d8%b3%d8%b1%d8%ad%d9%8a%d8%a9-%d8%a3%d8%ba%d9%86%d9%8a%d8%a9-%d8%a7%d9%84%d8%aa%d9%85/'),\n",
       " ('المهرجان الدولي مغرب الحكايات ',\n",
       "  '12 juil. 2019',\n",
       "  ' 21:00',\n",
       "  'https://tnm5.ma/wp-content/uploads/2019/07/12juillet2019-e1562667356185.jpg',\n",
       "  'http://tnm5.ma/spectacles/%d8%a7%d9%84%d9%85%d9%87%d8%b1%d8%ac%d8%a7%d9%86-%d8%a7%d9%84%d8%af%d9%88%d9%84%d9%8a-%d9%85%d8%ba%d8%b1%d8%a8-%d8%a7%d9%84%d8%ad%d9%83%d8%a7%d9%8a%d8%a7%d8%aa/'),\n",
       " ('مسرحية  لادريسة\\u202d \\u202cغلط ',\n",
       "  '15 juil. 2019',\n",
       "  ' 20:00',\n",
       "  'https://tnm5.ma/wp-content/uploads/2019/04/29avril.jpg',\n",
       "  'http://tnm5.ma/spectacles/%d9%85%d8%b3%d8%b1%d8%ad%d9%8a%d8%a9-%d9%84%d8%a7%d8%af%d8%b1%d9%8a%d8%b3%d8%a9%e2%80%ad-%e2%80%ac%d8%ba%d9%84%d8%b7/'),\n",
       " ('السهرة الكبرى مع الفنانة المتألقة عزيزة ملاك ',\n",
       "  '17 juil. 2019',\n",
       "  ' 20:00',\n",
       "  'https://tnm5.ma/wp-content/uploads/2019/07/17juillet2019-e1562668104677.jpg',\n",
       "  'http://tnm5.ma/spectacles/%d8%a7%d9%84%d8%b3%d9%87%d8%b1%d8%a9-%d8%a7%d9%84%d9%83%d8%a8%d8%b1%d9%89-%d9%85%d8%b9-%d8%a7%d9%84%d9%81%d9%86%d8%a7%d9%86%d8%a9-%d8%a7%d9%84%d9%85%d8%aa%d8%a3%d9%84%d9%82%d8%a9-%d8%b9%d8%b2%d9%8a/'),\n",
       " ('علي اكس معجزة 30 فبراير ',\n",
       "  '18 juil. 2019',\n",
       "  ' 20:00',\n",
       "  'https://tnm5.ma/wp-content/uploads/2019/06/18juillet-2-e1562579160857.jpg',\n",
       "  'http://tnm5.ma/spectacles/%d8%b9%d9%84%d9%8a-%d8%a7%d9%83%d8%b3-%d9%85%d8%b9%d8%ac%d8%b2%d8%a9-30-%d9%81%d8%a8%d8%b1%d8%a7%d9%8a%d8%b1-2/'),\n",
       " ('سهرة فنية كبرى ',\n",
       "  '20 juil. 2019',\n",
       "  ' 20:00',\n",
       "  'https://tnm5.ma/wp-content/uploads/2019/07/20juillet-e1562948225493.jpg',\n",
       "  'http://tnm5.ma/spectacles/%d8%b3%d9%87%d8%b1%d8%a9-%d9%81%d9%86%d9%8a%d8%a9-%d9%83%d8%a8%d8%b1%d9%89/'),\n",
       " ('l’Orchestre Symphonique National de la Jeunesse du Chili ',\n",
       "  '22 juil. 2019',\n",
       "  ' 20:30',\n",
       "  'https://tnm5.ma/wp-content/uploads/2019/07/22juillet.jpg',\n",
       "  'http://tnm5.ma/spectacles/lorchestre-symphonique-national-de-la-jeunesse-du-chili/'),\n",
       " ('GOLDEN JALIA AWARDS ',\n",
       "  '24 juil. 2019',\n",
       "  ' 19:00',\n",
       "  'https://tnm5.ma/wp-content/uploads/2019/07/Flyer_Golden_Jalia_Awards-e1562061361479.jpg',\n",
       "  'http://tnm5.ma/spectacles/golden-jalia-awards/'),\n",
       " ('«\\xa0الملحمة الكبرى «\\xa0ملكنا الهمام ',\n",
       "  '25 juil. 2019',\n",
       "  ' 20:30',\n",
       "  'https://tnm5.ma/wp-content/uploads/2019/07/25juillet-.jpg',\n",
       "  'http://tnm5.ma/spectacles/%d8%a7%d9%84%d9%85%d9%84%d8%ad%d9%85%d8%a9-%d8%a7%d9%84%d9%83%d8%a8%d8%b1%d9%89-%d9%85%d9%84%d9%83%d9%86%d8%a7-%d8%a7%d9%84%d9%87%d9%85%d8%a7%d9%85/'),\n",
       " ('Chinese New Image Oil Paintings World Tour ',\n",
       "  '25 juil. 2019',\n",
       "  ' 10:30',\n",
       "  'https://tnm5.ma/wp-content/uploads/2019/07/25juillet-expo-.jpg',\n",
       "  'http://tnm5.ma/spectacles/chinese-new-image-oil-paintings-world-tour/'),\n",
       " ('المهرجان الدولي أطفال السلام ',\n",
       "  '26 juil. 2019',\n",
       "  ' 20:00',\n",
       "  'https://tnm5.ma/wp-content/uploads/2019/07/26juillet-e1564051409711.jpg',\n",
       "  'http://tnm5.ma/spectacles/%d8%a7%d9%84%d9%85%d9%87%d8%b1%d8%ac%d8%a7%d9%86-%d8%a7%d9%84%d8%af%d9%88%d9%84%d9%8a-%d8%a3%d8%b7%d9%81%d8%a7%d9%84-%d8%a7%d9%84%d8%b3%d9%84%d8%a7%d9%85/'),\n",
       " ('حفل فني ',\n",
       "  '27 juil. 2019',\n",
       "  ' 19:00',\n",
       "  'https://tnm5.ma/wp-content/uploads/2019/07/27juillet1-e1563809465946.jpg',\n",
       "  'http://tnm5.ma/spectacles/%d8%ad%d9%81%d9%84-%d9%81%d9%86%d9%8a-6/'),\n",
       " ('مهرجان شعبيات للمواطنة والتجديد ',\n",
       "  '30 juil. 2019',\n",
       "  ' 19:00',\n",
       "  'https://tnm5.ma/wp-content/uploads/2019/07/affiche--e1563973254248.png',\n",
       "  'http://tnm5.ma/spectacles/%d9%85%d9%87%d8%b1%d8%ac%d8%a7%d9%86-%d8%b4%d8%b9%d8%a8%d9%8a%d8%a7%d8%aa-%d9%84%d9%84%d9%85%d9%88%d8%a7%d8%b7%d9%86%d8%a9-%d9%88%d8%a7%d9%84%d8%aa%d8%ac%d8%af%d9%8a%d8%af/'),\n",
       " ('مهرجان شعبيات للمواطنة والتجديد ',\n",
       "  '31 juil. 2019',\n",
       "  ' 19:00',\n",
       "  'https://tnm5.ma/wp-content/uploads/2019/07/affiche--e1563973254248.png',\n",
       "  'http://tnm5.ma/spectacles/%d9%85%d9%87%d8%b1%d8%ac%d8%a7%d9%86-%d8%b4%d8%b9%d8%a8%d9%8a%d8%a7%d8%aa-%d9%84%d9%84%d9%85%d9%88%d8%a7%d8%b7%d9%86%d8%a9-%d9%88%d8%a7%d9%84%d8%aa%d8%ac%d8%af%d9%8a%d8%af-2/')]"
      ]
     },
     "execution_count": 34,
     "metadata": {},
     "output_type": "execute_result"
    }
   ],
   "source": [
    "prog"
   ]
  },
  {
   "cell_type": "code",
   "execution_count": 35,
   "metadata": {},
   "outputs": [],
   "source": [
    "from IPython.display import Image\n",
    "from IPython.core.display import HTML "
   ]
  },
  {
   "cell_type": "code",
   "execution_count": 36,
   "metadata": {},
   "outputs": [
    {
     "data": {
      "text/html": [
       "<img src=\"https://tnm5.ma/wp-content/uploads/2019/07/17juillet2019-e1562668104677.jpg\"/>"
      ],
      "text/plain": [
       "<IPython.core.display.Image object>"
      ]
     },
     "execution_count": 36,
     "metadata": {},
     "output_type": "execute_result"
    }
   ],
   "source": [
    "Image(url=prog[5][3])"
   ]
  },
  {
   "cell_type": "code",
   "execution_count": 37,
   "metadata": {},
   "outputs": [
    {
     "name": "stdout",
     "output_type": "stream",
     "text": [
      "https://tnm5.ma/wp-content/uploads/2019/04/IMG_20190628_175106_866.jpg\n",
      "https://tnm5.ma/wp-content/uploads/2019/06/9juillet--e1561641574477.jpg\n",
      "https://tnm5.ma/wp-content/uploads/2019/06/10juillet2-e1561545507291.jpg\n",
      "https://tnm5.ma/wp-content/uploads/2019/07/12juillet2019-e1562667356185.jpg\n",
      "https://tnm5.ma/wp-content/uploads/2019/04/29avril.jpg\n",
      "https://tnm5.ma/wp-content/uploads/2019/07/17juillet2019-e1562668104677.jpg\n",
      "https://tnm5.ma/wp-content/uploads/2019/06/18juillet-2-e1562579160857.jpg\n",
      "https://tnm5.ma/wp-content/uploads/2019/07/20juillet-e1562948225493.jpg\n",
      "https://tnm5.ma/wp-content/uploads/2019/07/22juillet.jpg\n",
      "https://tnm5.ma/wp-content/uploads/2019/07/Flyer_Golden_Jalia_Awards-e1562061361479.jpg\n",
      "https://tnm5.ma/wp-content/uploads/2019/07/25juillet-.jpg\n",
      "https://tnm5.ma/wp-content/uploads/2019/07/25juillet-expo-.jpg\n",
      "https://tnm5.ma/wp-content/uploads/2019/07/26juillet-e1564051409711.jpg\n",
      "https://tnm5.ma/wp-content/uploads/2019/07/27juillet1-e1563809465946.jpg\n",
      "https://tnm5.ma/wp-content/uploads/2019/07/affiche--e1563973254248.png\n",
      "https://tnm5.ma/wp-content/uploads/2019/07/affiche--e1563973254248.png\n"
     ]
    }
   ],
   "source": [
    "for i in prog:\n",
    "    print(i[3])"
   ]
  },
  {
   "cell_type": "code",
   "execution_count": null,
   "metadata": {},
   "outputs": [],
   "source": []
  },
  {
   "cell_type": "code",
   "execution_count": null,
   "metadata": {},
   "outputs": [],
   "source": []
  },
  {
   "cell_type": "code",
   "execution_count": null,
   "metadata": {},
   "outputs": [],
   "source": []
  }
 ],
 "metadata": {
  "kernelspec": {
   "display_name": "Python 3",
   "language": "python",
   "name": "python3"
  },
  "language_info": {
   "codemirror_mode": {
    "name": "ipython",
    "version": 3
   },
   "file_extension": ".py",
   "mimetype": "text/x-python",
   "name": "python",
   "nbconvert_exporter": "python",
   "pygments_lexer": "ipython3",
   "version": "3.6.1"
  }
 },
 "nbformat": 4,
 "nbformat_minor": 2
}
