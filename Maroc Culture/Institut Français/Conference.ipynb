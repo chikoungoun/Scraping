{
 "cells": [
  {
   "cell_type": "code",
   "execution_count": 1,
   "metadata": {},
   "outputs": [
    {
     "data": {
      "text/plain": [
       "<Response [200]>"
      ]
     },
     "execution_count": 1,
     "metadata": {},
     "output_type": "execute_result"
    }
   ],
   "source": [
    "import requests\n",
    "\n",
    "url = 'https://if-maroc.org/rabat/evenements-culturels/conferences-et-rencontres/'\n",
    "response = requests.get(url)\n",
    "response"
   ]
  },
  {
   "cell_type": "code",
   "execution_count": 2,
   "metadata": {},
   "outputs": [
    {
     "name": "stdout",
     "output_type": "stream",
     "text": [
      "\n",
      "<!DOCTYPE html>\n",
      "<html lang=\"fr-FR\" prefix=\"og: http://ogp.me/ns#\" class=\"no-js\">\n",
      "    <head>\n",
      "       \n"
     ]
    }
   ],
   "source": [
    "print(response.text[:100])"
   ]
  },
  {
   "cell_type": "code",
   "execution_count": 3,
   "metadata": {},
   "outputs": [
    {
     "data": {
      "text/plain": [
       "bs4.BeautifulSoup"
      ]
     },
     "execution_count": 3,
     "metadata": {},
     "output_type": "execute_result"
    }
   ],
   "source": [
    "from bs4 import BeautifulSoup\n",
    "\n",
    "soup = BeautifulSoup(response.text,'html.parser')\n",
    "type(soup)"
   ]
  },
  {
   "cell_type": "code",
   "execution_count": 4,
   "metadata": {},
   "outputs": [],
   "source": [
    "grille_spectacles = soup.find(\"section\",class_=\"section latest\")"
   ]
  },
  {
   "cell_type": "code",
   "execution_count": 5,
   "metadata": {},
   "outputs": [
    {
     "data": {
      "text/plain": [
       "<section class=\"section latest\">\n",
       "<div class=\"row\">\n",
       "<article class=\"col-md-4 col-sm-4\">\n",
       "<div class=\"post\">\n",
       "<div class=\"post_thumbnail\">\n",
       "<a href=\"https://if-maroc.org/rabat/evenements/conference-abdessamad-dialmy-explosion-misere-et-transition-sexuelle/\" title=\"RENCONTRE ABDESSAMAD DIALMY : EXPLOSION, MISÈRE ET TRANSITION SEXUELLES\">\n",
       "<img alt=\"\" class=\"attachment-home-post size-home-post wp-post-image\" height=\"204\" src=\"https://if-maroc.org/rabat/wp-content/uploads/sites/18/2019/09/dialmy2-360x204.jpg\" width=\"360\"/> </a>\n",
       "</div>\n",
       "<div class=\"post-title\">\n",
       "<h3><a href=\"https://if-maroc.org/rabat/evenements/conference-abdessamad-dialmy-explosion-misere-et-transition-sexuelle/\" title=\"RENCONTRE ABDESSAMAD DIALMY : EXPLOSION, MISÈRE ET TRANSITION SEXUELLES\">RENCONTRE ABDESSAMAD DIALMY : EXPLOSION, MISÈRE ET TRANSITION SEXUELLES</a></h3>\n",
       "</div>\n",
       "<div class=\"post-excerpt\"><p>Le Maroc connaît une explosion de pratiques sexuelles incomplètes et palliatives, multi-risquées et bricolées, frustrantes. En un mot, une misère sexuelle qui prédispose l’individu à basculer dans la violence sexiste et homophobe et/ou dans l’islamisme, voire dans le jihado-terrorisme, tous deux caractérisés par un antiféminisme agressif. Lesdites pratiques sexuelles sont sécularisées sans aucune conviction séculière […]</p>\n",
       "</div>\n",
       "<div class=\"post-info\"><span class=\"post-date\">Conférence / 17 octobre</span><span class=\"post-author\">Rabat / Galerie de l'Institut français de Rabat</span></div> </div>\n",
       "</article>\n",
       "<article class=\"col-md-4 col-sm-4\">\n",
       "<div class=\"post\">\n",
       "<div class=\"post_thumbnail\">\n",
       "<a href=\"https://if-maroc.org/rabat/evenements/conference-larbi-seghier-quest-ce-quun-pere/\" title=\"CONFÉRENCE / LARBI SEGHIER / QU’EST CE QU’UN PÈRE\">\n",
       "<img alt=\"\" class=\"attachment-home-post size-home-post wp-post-image\" height=\"204\" src=\"https://if-maroc.org/rabat/wp-content/uploads/sites/18/2019/07/fond2-360x204.jpg\" width=\"360\"/> </a>\n",
       "</div>\n",
       "<div class=\"post-title\">\n",
       "<h3><a href=\"https://if-maroc.org/rabat/evenements/conference-larbi-seghier-quest-ce-quun-pere/\" title=\"CONFÉRENCE / LARBI SEGHIER / QU’EST CE QU’UN PÈRE\">CONFÉRENCE / LARBI SEGHIER / QU’EST CE QU’UN PÈRE</a></h3>\n",
       "</div>\n",
       "<div class=\"post-excerpt\"><p>Cet exposé se veut avant tout didactique et vise à mettre en relief les difficultés de la position paternelle surtout à l’époque actuelle. Après un rappel succinct des concepts Freudiens et Lacaniens qui cernent les fonctions paternelle, maternelle et celle du sujet, nous verrons entre autres, que l’amour primordial est celui du père et non […]</p>\n",
       "</div>\n",
       "<div class=\"post-info\"><span class=\"post-date\">Conférence / 11 octobre</span><span class=\"post-author\">Rabat / Salle Gérard Philipe</span></div> </div>\n",
       "</article>\n",
       "<article class=\"col-md-4 col-sm-4\">\n",
       "<div class=\"post\">\n",
       "<div class=\"post_thumbnail\">\n",
       "<a href=\"https://if-maroc.org/rabat/les-evenements-passes/\" title=\"Les événements passés\">\n",
       "<img alt=\"\" src=\"https://if-maroc.org/rabat/wp-content/themes/ville/img/default-img.png\"/>\n",
       "</a>\n",
       "</div>\n",
       "<div class=\"post-title\">\n",
       "<h3><a href=\"https://if-maroc.org/rabat/les-evenements-passes/\" title=\"RENCONTRE ABDESSAMAD DIALMY : EXPLOSION, MISÈRE ET TRANSITION SEXUELLES\">Les événements passés</a></h3>\n",
       "</div>\n",
       "<div class=\"post-info\"></div> </div>\n",
       "</article>\n",
       "<br/> </div>\n",
       "</section>"
      ]
     },
     "execution_count": 5,
     "metadata": {},
     "output_type": "execute_result"
    }
   ],
   "source": [
    "grille_spectacles"
   ]
  },
  {
   "cell_type": "code",
   "execution_count": 6,
   "metadata": {},
   "outputs": [],
   "source": [
    "spectacles = grille_spectacles.find_all('div',class_=\"post\")"
   ]
  },
  {
   "cell_type": "code",
   "execution_count": 7,
   "metadata": {},
   "outputs": [
    {
     "data": {
      "text/plain": [
       "[<div class=\"post\">\n",
       " <div class=\"post_thumbnail\">\n",
       " <a href=\"https://if-maroc.org/rabat/evenements/conference-abdessamad-dialmy-explosion-misere-et-transition-sexuelle/\" title=\"RENCONTRE ABDESSAMAD DIALMY : EXPLOSION, MISÈRE ET TRANSITION SEXUELLES\">\n",
       " <img alt=\"\" class=\"attachment-home-post size-home-post wp-post-image\" height=\"204\" src=\"https://if-maroc.org/rabat/wp-content/uploads/sites/18/2019/09/dialmy2-360x204.jpg\" width=\"360\"/> </a>\n",
       " </div>\n",
       " <div class=\"post-title\">\n",
       " <h3><a href=\"https://if-maroc.org/rabat/evenements/conference-abdessamad-dialmy-explosion-misere-et-transition-sexuelle/\" title=\"RENCONTRE ABDESSAMAD DIALMY : EXPLOSION, MISÈRE ET TRANSITION SEXUELLES\">RENCONTRE ABDESSAMAD DIALMY : EXPLOSION, MISÈRE ET TRANSITION SEXUELLES</a></h3>\n",
       " </div>\n",
       " <div class=\"post-excerpt\"><p>Le Maroc connaît une explosion de pratiques sexuelles incomplètes et palliatives, multi-risquées et bricolées, frustrantes. En un mot, une misère sexuelle qui prédispose l’individu à basculer dans la violence sexiste et homophobe et/ou dans l’islamisme, voire dans le jihado-terrorisme, tous deux caractérisés par un antiféminisme agressif. Lesdites pratiques sexuelles sont sécularisées sans aucune conviction séculière […]</p>\n",
       " </div>\n",
       " <div class=\"post-info\"><span class=\"post-date\">Conférence / 17 octobre</span><span class=\"post-author\">Rabat / Galerie de l'Institut français de Rabat</span></div> </div>,\n",
       " <div class=\"post\">\n",
       " <div class=\"post_thumbnail\">\n",
       " <a href=\"https://if-maroc.org/rabat/evenements/conference-larbi-seghier-quest-ce-quun-pere/\" title=\"CONFÉRENCE / LARBI SEGHIER / QU’EST CE QU’UN PÈRE\">\n",
       " <img alt=\"\" class=\"attachment-home-post size-home-post wp-post-image\" height=\"204\" src=\"https://if-maroc.org/rabat/wp-content/uploads/sites/18/2019/07/fond2-360x204.jpg\" width=\"360\"/> </a>\n",
       " </div>\n",
       " <div class=\"post-title\">\n",
       " <h3><a href=\"https://if-maroc.org/rabat/evenements/conference-larbi-seghier-quest-ce-quun-pere/\" title=\"CONFÉRENCE / LARBI SEGHIER / QU’EST CE QU’UN PÈRE\">CONFÉRENCE / LARBI SEGHIER / QU’EST CE QU’UN PÈRE</a></h3>\n",
       " </div>\n",
       " <div class=\"post-excerpt\"><p>Cet exposé se veut avant tout didactique et vise à mettre en relief les difficultés de la position paternelle surtout à l’époque actuelle. Après un rappel succinct des concepts Freudiens et Lacaniens qui cernent les fonctions paternelle, maternelle et celle du sujet, nous verrons entre autres, que l’amour primordial est celui du père et non […]</p>\n",
       " </div>\n",
       " <div class=\"post-info\"><span class=\"post-date\">Conférence / 11 octobre</span><span class=\"post-author\">Rabat / Salle Gérard Philipe</span></div> </div>,\n",
       " <div class=\"post\">\n",
       " <div class=\"post_thumbnail\">\n",
       " <a href=\"https://if-maroc.org/rabat/les-evenements-passes/\" title=\"Les événements passés\">\n",
       " <img alt=\"\" src=\"https://if-maroc.org/rabat/wp-content/themes/ville/img/default-img.png\"/>\n",
       " </a>\n",
       " </div>\n",
       " <div class=\"post-title\">\n",
       " <h3><a href=\"https://if-maroc.org/rabat/les-evenements-passes/\" title=\"RENCONTRE ABDESSAMAD DIALMY : EXPLOSION, MISÈRE ET TRANSITION SEXUELLES\">Les événements passés</a></h3>\n",
       " </div>\n",
       " <div class=\"post-info\"></div> </div>]"
      ]
     },
     "execution_count": 7,
     "metadata": {},
     "output_type": "execute_result"
    }
   ],
   "source": [
    "spectacles"
   ]
  },
  {
   "cell_type": "code",
   "execution_count": 8,
   "metadata": {},
   "outputs": [
    {
     "data": {
      "text/plain": [
       "3"
      ]
     },
     "execution_count": 8,
     "metadata": {},
     "output_type": "execute_result"
    }
   ],
   "source": [
    "len(spectacles)"
   ]
  },
  {
   "cell_type": "markdown",
   "metadata": {},
   "source": [
    "### Scraping des noms"
   ]
  },
  {
   "cell_type": "code",
   "execution_count": 9,
   "metadata": {},
   "outputs": [
    {
     "name": "stdout",
     "output_type": "stream",
     "text": [
      "RENCONTRE ABDESSAMAD DIALMY : EXPLOSION, MISÈRE ET TRANSITION SEXUELLES\n",
      "CONFÉRENCE / LARBI SEGHIER / QU’EST CE QU’UN PÈRE\n",
      "Les événements passés\n"
     ]
    }
   ],
   "source": [
    "noms = []\n",
    "for i in spectacles:\n",
    "    print((i.find('div',class_='post-title').text).strip())\n",
    "    noms.append((i.find('div',class_='post-title').text).strip())"
   ]
  },
  {
   "cell_type": "code",
   "execution_count": 10,
   "metadata": {},
   "outputs": [
    {
     "data": {
      "text/plain": [
       "['RENCONTRE ABDESSAMAD DIALMY : EXPLOSION, MISÈRE ET TRANSITION SEXUELLES',\n",
       " 'CONFÉRENCE / LARBI SEGHIER / QU’EST CE QU’UN PÈRE',\n",
       " 'Les événements passés']"
      ]
     },
     "execution_count": 10,
     "metadata": {},
     "output_type": "execute_result"
    }
   ],
   "source": [
    "noms"
   ]
  },
  {
   "cell_type": "markdown",
   "metadata": {},
   "source": [
    "### Scraping des liens"
   ]
  },
  {
   "cell_type": "code",
   "execution_count": 11,
   "metadata": {},
   "outputs": [
    {
     "name": "stdout",
     "output_type": "stream",
     "text": [
      "https://if-maroc.org/rabat/evenements/conference-abdessamad-dialmy-explosion-misere-et-transition-sexuelle/\n",
      "https://if-maroc.org/rabat/evenements/conference-larbi-seghier-quest-ce-quun-pere/\n",
      "https://if-maroc.org/rabat/les-evenements-passes/\n"
     ]
    }
   ],
   "source": [
    "liens = []\n",
    "for i in spectacles:\n",
    "    link = i.find('a')\n",
    "    print(link.get('href'))\n",
    "    liens.append(link.get('href'))\n",
    "    "
   ]
  },
  {
   "cell_type": "markdown",
   "metadata": {},
   "source": [
    "### Scraping des images"
   ]
  },
  {
   "cell_type": "code",
   "execution_count": 12,
   "metadata": {},
   "outputs": [
    {
     "name": "stdout",
     "output_type": "stream",
     "text": [
      "https://if-maroc.org/rabat/wp-content/uploads/sites/18/2019/09/dialmy2-360x204.jpg\n",
      "https://if-maroc.org/rabat/wp-content/uploads/sites/18/2019/07/fond2-360x204.jpg\n",
      "https://if-maroc.org/rabat/wp-content/themes/ville/img/default-img.png\n"
     ]
    }
   ],
   "source": [
    "images = []\n",
    "for i in spectacles:\n",
    "    img = i.find('img')\n",
    "    print(img.get('src'))\n",
    "    images.append(img.get('src'))"
   ]
  },
  {
   "cell_type": "markdown",
   "metadata": {},
   "source": [
    "## Récupérér les dates, heures et Descriptions lien par lien"
   ]
  },
  {
   "cell_type": "code",
   "execution_count": 13,
   "metadata": {},
   "outputs": [],
   "source": [
    "from time import time\n",
    "from time import sleep\n",
    "from random import randint"
   ]
  },
  {
   "cell_type": "code",
   "execution_count": 14,
   "metadata": {},
   "outputs": [],
   "source": [
    "start_time = time()\n",
    "requests = 0"
   ]
  },
  {
   "cell_type": "code",
   "execution_count": 15,
   "metadata": {},
   "outputs": [],
   "source": [
    "from requests import get"
   ]
  },
  {
   "cell_type": "code",
   "execution_count": 16,
   "metadata": {
    "scrolled": true
   },
   "outputs": [
    {
     "name": "stdout",
     "output_type": "stream",
     "text": [
      "https://if-maroc.org/rabat/evenements/conference-abdessamad-dialmy-explosion-misere-et-transition-sexuelle/\n",
      "14\n",
      "https://if-maroc.org/rabat/evenements/conference-larbi-seghier-quest-ce-quun-pere/\n",
      "12\n",
      "https://if-maroc.org/rabat/les-evenements-passes/\n",
      "15\n",
      " *** *** Done *** *** \n"
     ]
    }
   ],
   "source": [
    "dates = []\n",
    "heures = []\n",
    "places = []\n",
    "descs = []\n",
    "\n",
    "for i in liens:\n",
    "    print(i)\n",
    "    response = get(i)\n",
    "    \n",
    "    timer = randint(8,15)\n",
    "    #pause de loop\n",
    "    print(timer)\n",
    "    sleep(timer)\n",
    "    \n",
    "    #renvoyer un warning pour les non 'status code : 200'\n",
    "    if response.status_code != 200:\n",
    "        warn('Request: {}; Status code: {}'.format(requests, response.status_code))\n",
    "            \n",
    "    #parser en BS\n",
    "    page_html = BeautifulSoup(response.text,'html.parser') \n",
    "    \n",
    "    \"\"\" date et lieu  \"\"\"\n",
    "    events = page_html.find('div',class_='event')\n",
    "    \n",
    "    #Sauter le code si on ne trouve pas les balises nécessaires\n",
    "    if events is None:\n",
    "        dates.append('NO DATE')\n",
    "        heures.append('NO HOUR')\n",
    "        places.append('NO PLACE')\n",
    "        continue    \n",
    "    \n",
    "    #date\n",
    "    date = events.find('div',class_='event-date')\n",
    "    dates.append(date.text)\n",
    "    \n",
    "    #heure\n",
    "    heure = events.find('div',class_='event-hour')\n",
    "    heures.append(heure.text)\n",
    "    \n",
    "    #place\n",
    "    place = events.find('div',class_='event-place')\n",
    "    places.append((place.text).strip())\n",
    "    \n",
    "    \"\"\" Descriptions \"\"\"\n",
    "    detail = page_html.find('div',class_='content')\n",
    "    \n",
    "    if detail is None:\n",
    "        descs.append('NO DESCRIPTION')\n",
    "        continue\n",
    "        \n",
    "    description = detail.find('p')        \n",
    "    descs.append(description.text)\n",
    "    \n",
    "    \n",
    "print(\" *** *** Done *** *** \")"
   ]
  },
  {
   "cell_type": "code",
   "execution_count": 17,
   "metadata": {},
   "outputs": [
    {
     "data": {
      "text/plain": [
       "[' jeudi 17 oct.', ' vendredi 11 oct.', 'NO DATE']"
      ]
     },
     "execution_count": 17,
     "metadata": {},
     "output_type": "execute_result"
    }
   ],
   "source": [
    "dates"
   ]
  },
  {
   "cell_type": "code",
   "execution_count": 18,
   "metadata": {},
   "outputs": [
    {
     "data": {
      "text/plain": [
       "[' 19:00', ' 19:00', 'NO HOUR']"
      ]
     },
     "execution_count": 18,
     "metadata": {},
     "output_type": "execute_result"
    }
   ],
   "source": [
    "heures"
   ]
  },
  {
   "cell_type": "code",
   "execution_count": 19,
   "metadata": {},
   "outputs": [
    {
     "data": {
      "text/plain": [
       "['Médiathèque\\n                                                             - \\n                                                            Rabat',\n",
       " 'Salle Gérard Philipe\\n                                                             - \\n                                                            Rabat',\n",
       " 'NO PLACE']"
      ]
     },
     "execution_count": 19,
     "metadata": {},
     "output_type": "execute_result"
    }
   ],
   "source": [
    "places"
   ]
  },
  {
   "cell_type": "markdown",
   "metadata": {},
   "source": [
    "## Convertir les Dates du format lettre en Numérique"
   ]
  },
  {
   "cell_type": "markdown",
   "metadata": {},
   "source": [
    "Fonction de conversion"
   ]
  },
  {
   "cell_type": "code",
   "execution_count": 20,
   "metadata": {},
   "outputs": [
    {
     "data": {
      "text/plain": [
       "'French_France.1252'"
      ]
     },
     "execution_count": 20,
     "metadata": {},
     "output_type": "execute_result"
    }
   ],
   "source": [
    "import datetime\n",
    "import time \n",
    "import locale\n",
    "locale.setlocale(locale.LC_ALL,\"french\")"
   ]
  },
  {
   "cell_type": "code",
   "execution_count": 21,
   "metadata": {},
   "outputs": [],
   "source": [
    "from datetime import datetime"
   ]
  },
  {
   "cell_type": "code",
   "execution_count": 22,
   "metadata": {},
   "outputs": [],
   "source": [
    "def letter_to_date(num_date):\n",
    "    x =datetime.now()\n",
    "    #convertir en datetime object\n",
    "    date_obj = datetime.strptime(num_date,' %A %d %b')\n",
    "    #formater \n",
    "    return date_obj.strftime(str(x.year)+'-%m-%d')"
   ]
  },
  {
   "cell_type": "code",
   "execution_count": 23,
   "metadata": {},
   "outputs": [
    {
     "name": "stdout",
     "output_type": "stream",
     "text": [
      "2019-10-17\n",
      "2019-10-11\n"
     ]
    }
   ],
   "source": [
    "datez = []\n",
    "for i in dates:\n",
    "    if i =='NO DATE':\n",
    "        continue\n",
    "    print(letter_to_date(i))\n",
    "    datez.append(letter_to_date(i))"
   ]
  },
  {
   "cell_type": "markdown",
   "metadata": {},
   "source": [
    "##  Tout regrouper en une seule structure"
   ]
  },
  {
   "cell_type": "code",
   "execution_count": 29,
   "metadata": {},
   "outputs": [],
   "source": [
    "prog = []\n",
    "for i,j,k,l,m,n,o in zip(noms,datez,heures,images,liens,descs,places):\n",
    "    #Ajouter le lieu\n",
    "    t = (i,j,k,l,m,n,o)\n",
    "    prog.append(t)"
   ]
  },
  {
   "cell_type": "code",
   "execution_count": 30,
   "metadata": {},
   "outputs": [
    {
     "data": {
      "text/plain": [
       "[('RENCONTRE ABDESSAMAD DIALMY : EXPLOSION, MISÈRE ET TRANSITION SEXUELLES',\n",
       "  '2019-10-17',\n",
       "  ' 19:00',\n",
       "  'https://if-maroc.org/rabat/wp-content/uploads/sites/18/2019/09/dialmy2-360x204.jpg',\n",
       "  'https://if-maroc.org/rabat/evenements/conference-abdessamad-dialmy-explosion-misere-et-transition-sexuelle/',\n",
       "  'Le Maroc connaît une explosion de pratiques sexuelles incomplètes et palliatives, multi-risquées et bricolées, frustrantes. En un mot, une misère sexuelle qui prédispose l’individu à basculer dans la violence sexiste et homophobe et/ou dans l’islamisme, voire dans le jihado-terrorisme, tous deux caractérisés par un antiféminisme agressif.',\n",
       "  'Médiathèque\\n                                                             - \\n                                                            Rabat'),\n",
       " ('CONFÉRENCE / LARBI SEGHIER / QU’EST CE QU’UN PÈRE',\n",
       "  '2019-10-11',\n",
       "  ' 19:00',\n",
       "  'https://if-maroc.org/rabat/wp-content/uploads/sites/18/2019/07/fond2-360x204.jpg',\n",
       "  'https://if-maroc.org/rabat/evenements/conference-larbi-seghier-quest-ce-quun-pere/',\n",
       "  'Cet exposé se veut avant tout didactique et vise à mettre en relief les difficultés de la position paternelle surtout à l’époque actuelle.\\nAprès un rappel succinct des concepts Freudiens et Lacaniens qui cernent les fonctions paternelle, maternelle et celle du sujet, nous verrons entre autres, que l’amour primordial est celui du père et non celui de la mère et que de toutes les manières,\\ncomme le disait Lacan « ça ne va pas de soi d’être père à moins d’être paranoïaque ».',\n",
       "  'Salle Gérard Philipe\\n                                                             - \\n                                                            Rabat')]"
      ]
     },
     "execution_count": 30,
     "metadata": {},
     "output_type": "execute_result"
    }
   ],
   "source": [
    "prog"
   ]
  },
  {
   "cell_type": "markdown",
   "metadata": {},
   "source": [
    "### Convertir en objet pandas"
   ]
  },
  {
   "cell_type": "code",
   "execution_count": 31,
   "metadata": {},
   "outputs": [],
   "source": [
    "import pandas as pd"
   ]
  },
  {
   "cell_type": "code",
   "execution_count": 32,
   "metadata": {},
   "outputs": [],
   "source": [
    "df = pd.DataFrame(prog,columns=['noms','date','heure','image','lien','description','lieu'])"
   ]
  },
  {
   "cell_type": "code",
   "execution_count": 33,
   "metadata": {},
   "outputs": [
    {
     "data": {
      "text/html": [
       "<div>\n",
       "<style>\n",
       "    .dataframe thead tr:only-child th {\n",
       "        text-align: right;\n",
       "    }\n",
       "\n",
       "    .dataframe thead th {\n",
       "        text-align: left;\n",
       "    }\n",
       "\n",
       "    .dataframe tbody tr th {\n",
       "        vertical-align: top;\n",
       "    }\n",
       "</style>\n",
       "<table border=\"1\" class=\"dataframe\">\n",
       "  <thead>\n",
       "    <tr style=\"text-align: right;\">\n",
       "      <th></th>\n",
       "      <th>noms</th>\n",
       "      <th>date</th>\n",
       "      <th>heure</th>\n",
       "      <th>image</th>\n",
       "      <th>lien</th>\n",
       "      <th>description</th>\n",
       "      <th>lieu</th>\n",
       "    </tr>\n",
       "  </thead>\n",
       "  <tbody>\n",
       "    <tr>\n",
       "      <th>0</th>\n",
       "      <td>RENCONTRE ABDESSAMAD DIALMY : EXPLOSION, MISÈR...</td>\n",
       "      <td>2019-10-17</td>\n",
       "      <td>19:00</td>\n",
       "      <td>https://if-maroc.org/rabat/wp-content/uploads/...</td>\n",
       "      <td>https://if-maroc.org/rabat/evenements/conferen...</td>\n",
       "      <td>Le Maroc connaît une explosion de pratiques se...</td>\n",
       "      <td>Médiathèque\\n                                 ...</td>\n",
       "    </tr>\n",
       "    <tr>\n",
       "      <th>1</th>\n",
       "      <td>CONFÉRENCE / LARBI SEGHIER / QU’EST CE QU’UN PÈRE</td>\n",
       "      <td>2019-10-11</td>\n",
       "      <td>19:00</td>\n",
       "      <td>https://if-maroc.org/rabat/wp-content/uploads/...</td>\n",
       "      <td>https://if-maroc.org/rabat/evenements/conferen...</td>\n",
       "      <td>Cet exposé se veut avant tout didactique et vi...</td>\n",
       "      <td>Salle Gérard Philipe\\n                        ...</td>\n",
       "    </tr>\n",
       "  </tbody>\n",
       "</table>\n",
       "</div>"
      ],
      "text/plain": [
       "                                                noms        date   heure  \\\n",
       "0  RENCONTRE ABDESSAMAD DIALMY : EXPLOSION, MISÈR...  2019-10-17   19:00   \n",
       "1  CONFÉRENCE / LARBI SEGHIER / QU’EST CE QU’UN PÈRE  2019-10-11   19:00   \n",
       "\n",
       "                                               image  \\\n",
       "0  https://if-maroc.org/rabat/wp-content/uploads/...   \n",
       "1  https://if-maroc.org/rabat/wp-content/uploads/...   \n",
       "\n",
       "                                                lien  \\\n",
       "0  https://if-maroc.org/rabat/evenements/conferen...   \n",
       "1  https://if-maroc.org/rabat/evenements/conferen...   \n",
       "\n",
       "                                         description  \\\n",
       "0  Le Maroc connaît une explosion de pratiques se...   \n",
       "1  Cet exposé se veut avant tout didactique et vi...   \n",
       "\n",
       "                                                lieu  \n",
       "0  Médiathèque\\n                                 ...  \n",
       "1  Salle Gérard Philipe\\n                        ...  "
      ]
     },
     "execution_count": 33,
     "metadata": {},
     "output_type": "execute_result"
    }
   ],
   "source": [
    "df"
   ]
  },
  {
   "cell_type": "code",
   "execution_count": null,
   "metadata": {},
   "outputs": [],
   "source": []
  }
 ],
 "metadata": {
  "kernelspec": {
   "display_name": "Python 3",
   "language": "python",
   "name": "python3"
  },
  "language_info": {
   "codemirror_mode": {
    "name": "ipython",
    "version": 3
   },
   "file_extension": ".py",
   "mimetype": "text/x-python",
   "name": "python",
   "nbconvert_exporter": "python",
   "pygments_lexer": "ipython3",
   "version": "3.6.1"
  }
 },
 "nbformat": 4,
 "nbformat_minor": 2
}
