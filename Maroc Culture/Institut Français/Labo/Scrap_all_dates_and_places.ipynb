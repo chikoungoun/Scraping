{
 "cells": [
  {
   "cell_type": "markdown",
   "metadata": {},
   "source": [
    "# Scraper les différents endroits et dates et regrouper le tout de manière cohérente"
   ]
  },
  {
   "cell_type": "code",
   "execution_count": 1,
   "metadata": {},
   "outputs": [
    {
     "data": {
      "text/plain": [
       "<Response [200]>"
      ]
     },
     "execution_count": 1,
     "metadata": {},
     "output_type": "execute_result"
    }
   ],
   "source": [
    "import requests\n",
    "\n",
    "url = 'https://if-maroc.org/rabat/film/le-jeune-ahmed/'\n",
    "response = requests.get(url)\n",
    "response"
   ]
  },
  {
   "cell_type": "code",
   "execution_count": 2,
   "metadata": {},
   "outputs": [
    {
     "data": {
      "text/plain": [
       "bs4.BeautifulSoup"
      ]
     },
     "execution_count": 2,
     "metadata": {},
     "output_type": "execute_result"
    }
   ],
   "source": [
    "from bs4 import BeautifulSoup\n",
    "\n",
    "soup = BeautifulSoup(response.text,'html.parser')\n",
    "type(soup)"
   ]
  },
  {
   "cell_type": "code",
   "execution_count": 23,
   "metadata": {},
   "outputs": [],
   "source": [
    "film = soup.find('div',class_='row evenements')"
   ]
  },
  {
   "cell_type": "code",
   "execution_count": 24,
   "metadata": {},
   "outputs": [
    {
     "data": {
      "text/plain": [
       "<div class=\"row evenements\">\n",
       "<div class=\"col-md-12\">\n",
       "<div class=\"event\">\n",
       "<div class=\"event-date\"><i class=\"fa fa-calendar\"></i> <span class=\"day\">dimanche 15</span> <span class=\"month\">sept.</span></div>\n",
       "<div class=\"event-hour\"><i class=\"fa fa-clock-o\"></i> 18:30</div>\n",
       "<div class=\"event-place\"><i class=\"fa fa-map-marker\"></i>\n",
       "                                                                    Salle Gérard Philipe                                                                     -                                                                     Rabat                                                                </div>\n",
       "</div>\n",
       "</div>\n",
       "<div class=\"col-md-12\">\n",
       "<div class=\"event\">\n",
       "<div class=\"event-date\"><i class=\"fa fa-calendar\"></i> <span class=\"day\">lundi 16</span> <span class=\"month\">sept.</span></div>\n",
       "<div class=\"event-hour\"><i class=\"fa fa-clock-o\"></i> 18:30</div>\n",
       "<div class=\"event-place\"><i class=\"fa fa-map-marker\"></i>\n",
       "                                                                    Salle Gérard Philipe                                                                     -                                                                     Rabat                                                                </div>\n",
       "</div>\n",
       "</div>\n",
       "<div class=\"col-md-12\">\n",
       "<div class=\"event\">\n",
       "<div class=\"event-date\"><i class=\"fa fa-calendar\"></i> <span class=\"day\">mardi 17</span> <span class=\"month\">sept.</span></div>\n",
       "<div class=\"event-hour\"><i class=\"fa fa-clock-o\"></i> 20:00</div>\n",
       "<div class=\"event-place\"><i class=\"fa fa-map-marker\"></i>\n",
       "                                                                    Cinéma Renaissance                                                                     -                                                                     Rabat                                                                </div>\n",
       "</div>\n",
       "</div>\n",
       "</div>"
      ]
     },
     "execution_count": 24,
     "metadata": {},
     "output_type": "execute_result"
    }
   ],
   "source": [
    "film"
   ]
  },
  {
   "cell_type": "code",
   "execution_count": 25,
   "metadata": {},
   "outputs": [],
   "source": [
    "events = film.find_all('div',class_='col-md-12')"
   ]
  },
  {
   "cell_type": "markdown",
   "metadata": {},
   "source": [
    "### Scraping des dates"
   ]
  },
  {
   "cell_type": "code",
   "execution_count": 26,
   "metadata": {},
   "outputs": [
    {
     "name": "stdout",
     "output_type": "stream",
     "text": [
      " dimanche 15 sept.\n",
      " lundi 16 sept.\n",
      " mardi 17 sept.\n"
     ]
    }
   ],
   "source": [
    "for i in events:\n",
    "     print(i.find('div',class_='event-date').text)"
   ]
  },
  {
   "cell_type": "code",
   "execution_count": null,
   "metadata": {},
   "outputs": [],
   "source": []
  }
 ],
 "metadata": {
  "kernelspec": {
   "display_name": "Python 3",
   "language": "python",
   "name": "python3"
  },
  "language_info": {
   "codemirror_mode": {
    "name": "ipython",
    "version": 3
   },
   "file_extension": ".py",
   "mimetype": "text/x-python",
   "name": "python",
   "nbconvert_exporter": "python",
   "pygments_lexer": "ipython3",
   "version": "3.6.1"
  }
 },
 "nbformat": 4,
 "nbformat_minor": 2
}
