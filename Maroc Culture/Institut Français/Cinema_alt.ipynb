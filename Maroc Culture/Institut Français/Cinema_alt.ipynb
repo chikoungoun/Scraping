{
 "cells": [
  {
   "cell_type": "markdown",
   "metadata": {},
   "source": [
    "# Scraper Toutes les données du film depuis leur propre page"
   ]
  },
  {
   "cell_type": "code",
   "execution_count": 1,
   "metadata": {},
   "outputs": [
    {
     "data": {
      "text/plain": [
       "<Response [200]>"
      ]
     },
     "execution_count": 1,
     "metadata": {},
     "output_type": "execute_result"
    }
   ],
   "source": [
    "import requests\n",
    "\n",
    "url = 'https://if-maroc.org/rabat/film/'\n",
    "response = requests.get(url)\n",
    "response"
   ]
  },
  {
   "cell_type": "code",
   "execution_count": 2,
   "metadata": {},
   "outputs": [
    {
     "name": "stdout",
     "output_type": "stream",
     "text": [
      "\n",
      "<!DOCTYPE html>\n",
      "<html lang=\"fr-FR\" prefix=\"og: http://ogp.me/ns#\" class=\"no-js\">\n",
      "    <head>\n",
      "       \n"
     ]
    }
   ],
   "source": [
    "print(response.text[:100])"
   ]
  },
  {
   "cell_type": "code",
   "execution_count": 3,
   "metadata": {},
   "outputs": [
    {
     "data": {
      "text/plain": [
       "bs4.BeautifulSoup"
      ]
     },
     "execution_count": 3,
     "metadata": {},
     "output_type": "execute_result"
    }
   ],
   "source": [
    "from bs4 import BeautifulSoup\n",
    "\n",
    "soup = BeautifulSoup(response.text,'html.parser')\n",
    "type(soup)"
   ]
  },
  {
   "cell_type": "code",
   "execution_count": 4,
   "metadata": {},
   "outputs": [],
   "source": [
    "grille_spectacles = soup.find(\"section\",class_=\"section latest archive\")"
   ]
  },
  {
   "cell_type": "code",
   "execution_count": 5,
   "metadata": {},
   "outputs": [
    {
     "data": {
      "text/plain": [
       "<section class=\"section latest archive\">\n",
       "<div class=\"row\">\n",
       "<div class=\"col-md-12\">\n",
       "<div class=\"section-title\">\n",
       "<h2>Films</h2>\n",
       "</div>\n",
       "</div>\n",
       "<article class=\"col-md-4\">\n",
       "<div class=\"post\">\n",
       "<div class=\"post_thumbnail\">\n",
       "<a href=\"https://if-maroc.org/rabat/film/cinema-roubaix/\" title=\"CINÉMA / ROUBAIX\">\n",
       "<img src=\"https://if-maroc.org/rabat/wp-content/uploads/sites/18/2019/09/b9720745537z-1_20190831171340_000g26ebp3pu-1-0-1-360x204.jpg\"/> </a>\n",
       "</div>\n",
       "<div class=\"post-title\">\n",
       "<h3><a href=\"https://if-maroc.org/rabat/film/cinema-roubaix/\" title=\"CINÉMA / ROUBAIX\">CINÉMA / ROUBAIX</a></h3>\n",
       "</div>\n",
       "<div class=\"post-excerpt\"><p>À Roubaix, un soir de Noël, Daoud le chef de la police locale et Louis, fraîchement diplômé, font face au meurtre d’une vieille femme. Les voisines de la victime, deux jeunes femmes, Claude et Marie, sont arrêtées. Elles sont toxicomanes, alcooliques, amantes…</p>\n",
       "</div>\n",
       "<div class=\"post-info\"><span class=\"post-date\">Cinéma / 13, 14 et 15 octobre</span><span class=\"post-author\">Rabat</span></div> </div>\n",
       "</article>\n",
       "<article class=\"col-md-4\">\n",
       "<div class=\"post\">\n",
       "<div class=\"post_thumbnail\">\n",
       "<a href=\"https://if-maroc.org/rabat/film/cinema-la-source/\" title=\"CINÉMA / LA SOURCE\">\n",
       "<img src=\"https://if-maroc.org/rabat/wp-content/uploads/sites/18/2019/09/190716_rodolphelaugalasourcecritique-1-360x204.jpg\"/> </a>\n",
       "</div>\n",
       "<div class=\"post-title\">\n",
       "<h3><a href=\"https://if-maroc.org/rabat/film/cinema-la-source/\" title=\"CINÉMA / LA SOURCE\">CINÉMA / LA SOURCE</a></h3>\n",
       "</div>\n",
       "<div class=\"post-excerpt\"><p>Samir vit dans une cité populaire, en banlieue d’une grande ville de province. Entre l’ennui et les petits coups foireux pour tuer le temps avec les potes, son père le forme à la plomberie. Quand celui-ci décède brutalement, Samir n’a plus d’autre choix que de reprendre l’entreprise familiale pour subvenir aux besoins de sa mère […]</p>\n",
       "</div>\n",
       "<div class=\"post-info\"><span class=\"post-date\">Cinéma / 6,7 et 8 octobre</span><span class=\"post-author\">Rabat</span></div> </div>\n",
       "</article>\n",
       "<article class=\"col-md-4\">\n",
       "<div class=\"post\">\n",
       "<div class=\"post_thumbnail\">\n",
       "<a href=\"https://if-maroc.org/rabat/film/cinema-parasite/\" title=\"CINÉMA / PARASITE\">\n",
       "<img src=\"https://if-maroc.org/rabat/wp-content/uploads/sites/18/2019/09/parasite-2-1450x800-c-1-360x204.jpg\"/> </a>\n",
       "</div>\n",
       "<div class=\"post-title\">\n",
       "<h3><a href=\"https://if-maroc.org/rabat/film/cinema-parasite/\" title=\"CINÉMA / PARASITE\">CINÉMA / PARASITE</a></h3>\n",
       "</div>\n",
       "<div class=\"post-excerpt\"><p>Toute la famille de Ki-taek est au chômage, et s’intéresse fortement au train de vie de la richissime famille Park. Un jour, leur fils réussit à se faire recommander pour donner des cours particuliers d’anglais chez les Park. C’est le début d’un engrenage incontrôlable, dont personne ne sortira véritablement indemne… Palme d’or – Festival de […]</p>\n",
       "</div>\n",
       "<div class=\"post-info\"><span class=\"post-date\">Cinéma / 29, 30 septembre et 1er octobre</span><span class=\"post-author\">Rabat</span></div> </div>\n",
       "</article>\n",
       "</div><div class=\"row\">\n",
       "<article class=\"col-md-4\">\n",
       "<div class=\"post\">\n",
       "<div class=\"post_thumbnail\">\n",
       "<a href=\"https://if-maroc.org/rabat/film/le-daim/\" title=\"LE DAIM\">\n",
       "<img src=\"https://if-maroc.org/rabat/wp-content/uploads/sites/18/2019/09/19039124lpw-19044093-libre-jpg_6298766-360x204.jpg\"/> </a>\n",
       "</div>\n",
       "<div class=\"post-title\">\n",
       "<h3><a href=\"https://if-maroc.org/rabat/film/le-daim/\" title=\"LE DAIM\">LE DAIM</a></h3>\n",
       "</div>\n",
       "<div class=\"post-excerpt\"><p>  Georges, 44 ans, et son blouson, 100% daim, ont un projet.</p>\n",
       "</div>\n",
       "<div class=\"post-info\"><span class=\"post-date\">Cinéma / 22, 23 et 24 septembre</span><span class=\"post-author\">Rabat</span></div> </div>\n",
       "</article>\n",
       "<article class=\"col-md-4\">\n",
       "<div class=\"post\">\n",
       "<div class=\"post_thumbnail\">\n",
       "<a href=\"https://if-maroc.org/rabat/film/yves/\" title=\"YVES\">\n",
       "<img src=\"https://if-maroc.org/rabat/wp-content/uploads/sites/18/2019/09/1f555b6_piqtedy77c3nrshftexantbg-360x204.jpg\"/> </a>\n",
       "</div>\n",
       "<div class=\"post-title\">\n",
       "<h3><a href=\"https://if-maroc.org/rabat/film/yves/\" title=\"YVES\">YVES</a></h3>\n",
       "</div>\n",
       "<div class=\"post-excerpt\"><p>Jérem s’installe dans la maison de sa mémé pour y composer son premier disque. Il y fait la rencontre de So, mystérieuse enquêtrice pour le compte de la start-up Digital Cool. Elle le persuade de prendre à l’essai Yves, un réfrigérateur intelligent, censé lui simplifier la vie…  </p>\n",
       "</div>\n",
       "<div class=\"post-info\"><span class=\"post-date\">Cinéma / 8, 9 et 10 septembre</span><span class=\"post-author\">Rabat</span></div> </div>\n",
       "</article>\n",
       "<article class=\"col-md-4\">\n",
       "<div class=\"post\">\n",
       "<div class=\"post_thumbnail\">\n",
       "<a href=\"https://if-maroc.org/rabat/film/le-jeune-ahmed/\" title=\"LE JEUNE AHMED\">\n",
       "<img src=\"https://if-maroc.org/rabat/wp-content/uploads/sites/18/2019/09/telechargement.jpg\"/> </a>\n",
       "</div>\n",
       "<div class=\"post-title\">\n",
       "<h3><a href=\"https://if-maroc.org/rabat/film/le-jeune-ahmed/\" title=\"LE JEUNE AHMED\">LE JEUNE AHMED</a></h3>\n",
       "</div>\n",
       "<div class=\"post-excerpt\"><p>En Belgique, aujourd’hui, le destin du Jeune Ahmed, 13 ans, pris entre les idéaux de pureté de son imam et les appels de la vie.</p>\n",
       "</div>\n",
       "<div class=\"post-info\"><span class=\"post-date\">Cinéma / 15, 16 et 17 septembre</span><span class=\"post-author\">Rabat</span></div> </div>\n",
       "</article>\n",
       "</div><div class=\"row\">\n",
       "<article class=\"col-md-4\">\n",
       "<div class=\"post\">\n",
       "<div class=\"post_thumbnail\">\n",
       "<a href=\"https://if-maroc.org/rabat/film/tel-aviv-on-fire/\" title=\"TEL AVIV ON FIRE\">\n",
       "<img src=\"https://if-maroc.org/rabat/wp-content/uploads/sites/18/2019/06/tel-aviv-on-fire-photo-tel-aviv-on-fire-1080699-360x204.jpg\"/> </a>\n",
       "</div>\n",
       "<div class=\"post-title\">\n",
       "<h3><a href=\"https://if-maroc.org/rabat/film/tel-aviv-on-fire/\" title=\"TEL AVIV ON FIRE\">TEL AVIV ON FIRE</a></h3>\n",
       "</div>\n",
       "<div class=\"post-excerpt\"><p>Salam, 30 ans, vit à Jérusalem. Il est Palestinien et stagiaire sur le tournage de la série arabe à succès Tel Aviv on Fire ! Tous les matins, il traverse le même check-point pour aller travailler à Ramallah.  Un jour, Salam se fait arrêter par un officier israélien, Assi, fan de la série, et pour s’en sortir, il prétend en […]</p>\n",
       "</div>\n",
       "<div class=\"post-info\"><span class=\"post-date\">Cinéma / 23, 24, 27 juin</span><span class=\"post-author\">Rabat</span></div> </div>\n",
       "</article>\n",
       "<article class=\"col-md-4\">\n",
       "<div class=\"post\">\n",
       "<div class=\"post_thumbnail\">\n",
       "<a href=\"https://if-maroc.org/rabat/film/grace-a-dieu/\" title=\"GRÂCE Á DIEU\">\n",
       "<img src=\"https://if-maroc.org/rabat/wp-content/uploads/sites/18/2019/06/b9718622259z-1_20190218130432_000gsdd0iejm-1-0-360x204.jpg\"/> </a>\n",
       "</div>\n",
       "<div class=\"post-title\">\n",
       "<h3><a href=\"https://if-maroc.org/rabat/film/grace-a-dieu/\" title=\"GRÂCE Á DIEU\">GRÂCE Á DIEU</a></h3>\n",
       "</div>\n",
       "<div class=\"post-excerpt\"><p>Drame de François Ozon, avec Melvil Poupaud, Denis Mélochet, Swann Arlaud / 2h17 Alexandre vit à Lyon avec sa femme et ses enfants. Un jour, il découvre par hasard que le prêtre qui a abusé de lui aux scouts officie toujours auprès d’enfants. Il se lance alors dans un combat, très vite rejoint par François et […]</p>\n",
       "</div>\n",
       "<div class=\"post-info\"><span class=\"post-date\">Cinéma / 18 juin</span><span class=\"post-author\">Rabat / Cinéma Renaissance</span></div> </div>\n",
       "</article>\n",
       "<article class=\"col-md-4\">\n",
       "<div class=\"post\">\n",
       "<div class=\"post_thumbnail\">\n",
       "<a href=\"https://if-maroc.org/rabat/film/kabullywood/\" title=\"KABULLYWOOD\">\n",
       "<img src=\"https://if-maroc.org/rabat/wp-content/uploads/sites/18/2019/05/8004999_0cb60c08-296f-11e9-8fe8-6d1c30375965-1_1000x625-360x204.jpg\"/> </a>\n",
       "</div>\n",
       "<div class=\"post-title\">\n",
       "<h3><a href=\"https://if-maroc.org/rabat/film/kabullywood/\" title=\"KABULLYWOOD\">KABULLYWOOD</a></h3>\n",
       "</div>\n",
       "<div class=\"post-excerpt\"><p>A Kaboul en Afghanistan, quatre étudiants assoiffés de vie décident d’accomplir un projet audacieux : rénover un cinéma abandonné, qui a miraculeusement survécu à 30 ans de guerre. Comme un acte de résistance contre le fondamentalisme des talibans, ils vont aller au bout de leur rêve pour la liberté, la culture, le cinéma… Remi d’argent au […]</p>\n",
       "</div>\n",
       "<div class=\"post-info\"><span class=\"post-date\">Cinéma 9, 10 et 13 juin </span><span class=\"post-author\">Rabat</span></div> </div>\n",
       "</article>\n",
       "</div><div class=\"row\">\n",
       "<article class=\"col-md-4\">\n",
       "<div class=\"post\">\n",
       "<div class=\"post_thumbnail\">\n",
       "<a href=\"https://if-maroc.org/rabat/film/la-lutte-des-classes/\" title=\"LA LUTTE DES CLASSES\">\n",
       "<img src=\"https://if-maroc.org/rabat/wp-content/uploads/sites/18/2019/05/la-lutte-des-classes-360x204.jpg\"/> </a>\n",
       "</div>\n",
       "<div class=\"post-title\">\n",
       "<h3><a href=\"https://if-maroc.org/rabat/film/la-lutte-des-classes/\" title=\"LA LUTTE DES CLASSES\">LA LUTTE DES CLASSES</a></h3>\n",
       "</div>\n",
       "<div class=\"post-excerpt\"><p>  Sofia et Paul emménagent dans une petite maison de banlieue. Elle, brillante avocate d’origine magrébine, a grandi dans une cité proche. Lui, batteur punk-rock et anar dans l’âme, cultive un manque d’ambition qui force le respect ! Comme tous les parents, ils veulent le meilleur pour leur fils Corentin, élève à Jean Jaurès, l’école primaire du quartier. Mais […]</p>\n",
       "</div>\n",
       "<div class=\"post-info\"><span class=\"post-date\">Cinéma / 2, 3 et 6 juin</span><span class=\"post-author\">Rabat</span></div> </div>\n",
       "</article>\n",
       "</div>\n",
       "</section>"
      ]
     },
     "execution_count": 5,
     "metadata": {},
     "output_type": "execute_result"
    }
   ],
   "source": [
    "grille_spectacles"
   ]
  },
  {
   "cell_type": "code",
   "execution_count": 6,
   "metadata": {},
   "outputs": [],
   "source": [
    "spectacles = grille_spectacles.find_all('div',class_=\"post\")"
   ]
  },
  {
   "cell_type": "code",
   "execution_count": 7,
   "metadata": {},
   "outputs": [
    {
     "data": {
      "text/plain": [
       "[<div class=\"post\">\n",
       " <div class=\"post_thumbnail\">\n",
       " <a href=\"https://if-maroc.org/rabat/film/cinema-roubaix/\" title=\"CINÉMA / ROUBAIX\">\n",
       " <img src=\"https://if-maroc.org/rabat/wp-content/uploads/sites/18/2019/09/b9720745537z-1_20190831171340_000g26ebp3pu-1-0-1-360x204.jpg\"/> </a>\n",
       " </div>\n",
       " <div class=\"post-title\">\n",
       " <h3><a href=\"https://if-maroc.org/rabat/film/cinema-roubaix/\" title=\"CINÉMA / ROUBAIX\">CINÉMA / ROUBAIX</a></h3>\n",
       " </div>\n",
       " <div class=\"post-excerpt\"><p>À Roubaix, un soir de Noël, Daoud le chef de la police locale et Louis, fraîchement diplômé, font face au meurtre d’une vieille femme. Les voisines de la victime, deux jeunes femmes, Claude et Marie, sont arrêtées. Elles sont toxicomanes, alcooliques, amantes…</p>\n",
       " </div>\n",
       " <div class=\"post-info\"><span class=\"post-date\">Cinéma / 13, 14 et 15 octobre</span><span class=\"post-author\">Rabat</span></div> </div>,\n",
       " <div class=\"post\">\n",
       " <div class=\"post_thumbnail\">\n",
       " <a href=\"https://if-maroc.org/rabat/film/cinema-la-source/\" title=\"CINÉMA / LA SOURCE\">\n",
       " <img src=\"https://if-maroc.org/rabat/wp-content/uploads/sites/18/2019/09/190716_rodolphelaugalasourcecritique-1-360x204.jpg\"/> </a>\n",
       " </div>\n",
       " <div class=\"post-title\">\n",
       " <h3><a href=\"https://if-maroc.org/rabat/film/cinema-la-source/\" title=\"CINÉMA / LA SOURCE\">CINÉMA / LA SOURCE</a></h3>\n",
       " </div>\n",
       " <div class=\"post-excerpt\"><p>Samir vit dans une cité populaire, en banlieue d’une grande ville de province. Entre l’ennui et les petits coups foireux pour tuer le temps avec les potes, son père le forme à la plomberie. Quand celui-ci décède brutalement, Samir n’a plus d’autre choix que de reprendre l’entreprise familiale pour subvenir aux besoins de sa mère […]</p>\n",
       " </div>\n",
       " <div class=\"post-info\"><span class=\"post-date\">Cinéma / 6,7 et 8 octobre</span><span class=\"post-author\">Rabat</span></div> </div>,\n",
       " <div class=\"post\">\n",
       " <div class=\"post_thumbnail\">\n",
       " <a href=\"https://if-maroc.org/rabat/film/cinema-parasite/\" title=\"CINÉMA / PARASITE\">\n",
       " <img src=\"https://if-maroc.org/rabat/wp-content/uploads/sites/18/2019/09/parasite-2-1450x800-c-1-360x204.jpg\"/> </a>\n",
       " </div>\n",
       " <div class=\"post-title\">\n",
       " <h3><a href=\"https://if-maroc.org/rabat/film/cinema-parasite/\" title=\"CINÉMA / PARASITE\">CINÉMA / PARASITE</a></h3>\n",
       " </div>\n",
       " <div class=\"post-excerpt\"><p>Toute la famille de Ki-taek est au chômage, et s’intéresse fortement au train de vie de la richissime famille Park. Un jour, leur fils réussit à se faire recommander pour donner des cours particuliers d’anglais chez les Park. C’est le début d’un engrenage incontrôlable, dont personne ne sortira véritablement indemne… Palme d’or – Festival de […]</p>\n",
       " </div>\n",
       " <div class=\"post-info\"><span class=\"post-date\">Cinéma / 29, 30 septembre et 1er octobre</span><span class=\"post-author\">Rabat</span></div> </div>,\n",
       " <div class=\"post\">\n",
       " <div class=\"post_thumbnail\">\n",
       " <a href=\"https://if-maroc.org/rabat/film/le-daim/\" title=\"LE DAIM\">\n",
       " <img src=\"https://if-maroc.org/rabat/wp-content/uploads/sites/18/2019/09/19039124lpw-19044093-libre-jpg_6298766-360x204.jpg\"/> </a>\n",
       " </div>\n",
       " <div class=\"post-title\">\n",
       " <h3><a href=\"https://if-maroc.org/rabat/film/le-daim/\" title=\"LE DAIM\">LE DAIM</a></h3>\n",
       " </div>\n",
       " <div class=\"post-excerpt\"><p>  Georges, 44 ans, et son blouson, 100% daim, ont un projet.</p>\n",
       " </div>\n",
       " <div class=\"post-info\"><span class=\"post-date\">Cinéma / 22, 23 et 24 septembre</span><span class=\"post-author\">Rabat</span></div> </div>,\n",
       " <div class=\"post\">\n",
       " <div class=\"post_thumbnail\">\n",
       " <a href=\"https://if-maroc.org/rabat/film/yves/\" title=\"YVES\">\n",
       " <img src=\"https://if-maroc.org/rabat/wp-content/uploads/sites/18/2019/09/1f555b6_piqtedy77c3nrshftexantbg-360x204.jpg\"/> </a>\n",
       " </div>\n",
       " <div class=\"post-title\">\n",
       " <h3><a href=\"https://if-maroc.org/rabat/film/yves/\" title=\"YVES\">YVES</a></h3>\n",
       " </div>\n",
       " <div class=\"post-excerpt\"><p>Jérem s’installe dans la maison de sa mémé pour y composer son premier disque. Il y fait la rencontre de So, mystérieuse enquêtrice pour le compte de la start-up Digital Cool. Elle le persuade de prendre à l’essai Yves, un réfrigérateur intelligent, censé lui simplifier la vie…  </p>\n",
       " </div>\n",
       " <div class=\"post-info\"><span class=\"post-date\">Cinéma / 8, 9 et 10 septembre</span><span class=\"post-author\">Rabat</span></div> </div>,\n",
       " <div class=\"post\">\n",
       " <div class=\"post_thumbnail\">\n",
       " <a href=\"https://if-maroc.org/rabat/film/le-jeune-ahmed/\" title=\"LE JEUNE AHMED\">\n",
       " <img src=\"https://if-maroc.org/rabat/wp-content/uploads/sites/18/2019/09/telechargement.jpg\"/> </a>\n",
       " </div>\n",
       " <div class=\"post-title\">\n",
       " <h3><a href=\"https://if-maroc.org/rabat/film/le-jeune-ahmed/\" title=\"LE JEUNE AHMED\">LE JEUNE AHMED</a></h3>\n",
       " </div>\n",
       " <div class=\"post-excerpt\"><p>En Belgique, aujourd’hui, le destin du Jeune Ahmed, 13 ans, pris entre les idéaux de pureté de son imam et les appels de la vie.</p>\n",
       " </div>\n",
       " <div class=\"post-info\"><span class=\"post-date\">Cinéma / 15, 16 et 17 septembre</span><span class=\"post-author\">Rabat</span></div> </div>,\n",
       " <div class=\"post\">\n",
       " <div class=\"post_thumbnail\">\n",
       " <a href=\"https://if-maroc.org/rabat/film/tel-aviv-on-fire/\" title=\"TEL AVIV ON FIRE\">\n",
       " <img src=\"https://if-maroc.org/rabat/wp-content/uploads/sites/18/2019/06/tel-aviv-on-fire-photo-tel-aviv-on-fire-1080699-360x204.jpg\"/> </a>\n",
       " </div>\n",
       " <div class=\"post-title\">\n",
       " <h3><a href=\"https://if-maroc.org/rabat/film/tel-aviv-on-fire/\" title=\"TEL AVIV ON FIRE\">TEL AVIV ON FIRE</a></h3>\n",
       " </div>\n",
       " <div class=\"post-excerpt\"><p>Salam, 30 ans, vit à Jérusalem. Il est Palestinien et stagiaire sur le tournage de la série arabe à succès Tel Aviv on Fire ! Tous les matins, il traverse le même check-point pour aller travailler à Ramallah.  Un jour, Salam se fait arrêter par un officier israélien, Assi, fan de la série, et pour s’en sortir, il prétend en […]</p>\n",
       " </div>\n",
       " <div class=\"post-info\"><span class=\"post-date\">Cinéma / 23, 24, 27 juin</span><span class=\"post-author\">Rabat</span></div> </div>,\n",
       " <div class=\"post\">\n",
       " <div class=\"post_thumbnail\">\n",
       " <a href=\"https://if-maroc.org/rabat/film/grace-a-dieu/\" title=\"GRÂCE Á DIEU\">\n",
       " <img src=\"https://if-maroc.org/rabat/wp-content/uploads/sites/18/2019/06/b9718622259z-1_20190218130432_000gsdd0iejm-1-0-360x204.jpg\"/> </a>\n",
       " </div>\n",
       " <div class=\"post-title\">\n",
       " <h3><a href=\"https://if-maroc.org/rabat/film/grace-a-dieu/\" title=\"GRÂCE Á DIEU\">GRÂCE Á DIEU</a></h3>\n",
       " </div>\n",
       " <div class=\"post-excerpt\"><p>Drame de François Ozon, avec Melvil Poupaud, Denis Mélochet, Swann Arlaud / 2h17 Alexandre vit à Lyon avec sa femme et ses enfants. Un jour, il découvre par hasard que le prêtre qui a abusé de lui aux scouts officie toujours auprès d’enfants. Il se lance alors dans un combat, très vite rejoint par François et […]</p>\n",
       " </div>\n",
       " <div class=\"post-info\"><span class=\"post-date\">Cinéma / 18 juin</span><span class=\"post-author\">Rabat / Cinéma Renaissance</span></div> </div>,\n",
       " <div class=\"post\">\n",
       " <div class=\"post_thumbnail\">\n",
       " <a href=\"https://if-maroc.org/rabat/film/kabullywood/\" title=\"KABULLYWOOD\">\n",
       " <img src=\"https://if-maroc.org/rabat/wp-content/uploads/sites/18/2019/05/8004999_0cb60c08-296f-11e9-8fe8-6d1c30375965-1_1000x625-360x204.jpg\"/> </a>\n",
       " </div>\n",
       " <div class=\"post-title\">\n",
       " <h3><a href=\"https://if-maroc.org/rabat/film/kabullywood/\" title=\"KABULLYWOOD\">KABULLYWOOD</a></h3>\n",
       " </div>\n",
       " <div class=\"post-excerpt\"><p>A Kaboul en Afghanistan, quatre étudiants assoiffés de vie décident d’accomplir un projet audacieux : rénover un cinéma abandonné, qui a miraculeusement survécu à 30 ans de guerre. Comme un acte de résistance contre le fondamentalisme des talibans, ils vont aller au bout de leur rêve pour la liberté, la culture, le cinéma… Remi d’argent au […]</p>\n",
       " </div>\n",
       " <div class=\"post-info\"><span class=\"post-date\">Cinéma 9, 10 et 13 juin </span><span class=\"post-author\">Rabat</span></div> </div>,\n",
       " <div class=\"post\">\n",
       " <div class=\"post_thumbnail\">\n",
       " <a href=\"https://if-maroc.org/rabat/film/la-lutte-des-classes/\" title=\"LA LUTTE DES CLASSES\">\n",
       " <img src=\"https://if-maroc.org/rabat/wp-content/uploads/sites/18/2019/05/la-lutte-des-classes-360x204.jpg\"/> </a>\n",
       " </div>\n",
       " <div class=\"post-title\">\n",
       " <h3><a href=\"https://if-maroc.org/rabat/film/la-lutte-des-classes/\" title=\"LA LUTTE DES CLASSES\">LA LUTTE DES CLASSES</a></h3>\n",
       " </div>\n",
       " <div class=\"post-excerpt\"><p>  Sofia et Paul emménagent dans une petite maison de banlieue. Elle, brillante avocate d’origine magrébine, a grandi dans une cité proche. Lui, batteur punk-rock et anar dans l’âme, cultive un manque d’ambition qui force le respect ! Comme tous les parents, ils veulent le meilleur pour leur fils Corentin, élève à Jean Jaurès, l’école primaire du quartier. Mais […]</p>\n",
       " </div>\n",
       " <div class=\"post-info\"><span class=\"post-date\">Cinéma / 2, 3 et 6 juin</span><span class=\"post-author\">Rabat</span></div> </div>]"
      ]
     },
     "execution_count": 7,
     "metadata": {},
     "output_type": "execute_result"
    }
   ],
   "source": [
    "spectacles"
   ]
  },
  {
   "cell_type": "code",
   "execution_count": 8,
   "metadata": {},
   "outputs": [
    {
     "data": {
      "text/plain": [
       "10"
      ]
     },
     "execution_count": 8,
     "metadata": {},
     "output_type": "execute_result"
    }
   ],
   "source": [
    "len(spectacles)"
   ]
  },
  {
   "cell_type": "markdown",
   "metadata": {},
   "source": [
    "### Scraping des liens"
   ]
  },
  {
   "cell_type": "code",
   "execution_count": 9,
   "metadata": {},
   "outputs": [
    {
     "name": "stdout",
     "output_type": "stream",
     "text": [
      "https://if-maroc.org/rabat/film/cinema-roubaix/\n",
      "https://if-maroc.org/rabat/film/cinema-la-source/\n",
      "https://if-maroc.org/rabat/film/cinema-parasite/\n",
      "https://if-maroc.org/rabat/film/le-daim/\n",
      "https://if-maroc.org/rabat/film/yves/\n",
      "https://if-maroc.org/rabat/film/le-jeune-ahmed/\n",
      "https://if-maroc.org/rabat/film/tel-aviv-on-fire/\n",
      "https://if-maroc.org/rabat/film/grace-a-dieu/\n",
      "https://if-maroc.org/rabat/film/kabullywood/\n",
      "https://if-maroc.org/rabat/film/la-lutte-des-classes/\n"
     ]
    }
   ],
   "source": [
    "liens = []\n",
    "for i in spectacles:\n",
    "    link = i.find('a')\n",
    "    print(link.get('href'))\n",
    "    liens.append(link.get('href'))\n",
    "    "
   ]
  },
  {
   "cell_type": "code",
   "execution_count": 10,
   "metadata": {},
   "outputs": [],
   "source": [
    "from time import time\n",
    "from time import sleep\n",
    "from random import randint"
   ]
  },
  {
   "cell_type": "code",
   "execution_count": 11,
   "metadata": {},
   "outputs": [],
   "source": [
    "start_time = time()\n",
    "requests = 0"
   ]
  },
  {
   "cell_type": "code",
   "execution_count": 12,
   "metadata": {},
   "outputs": [],
   "source": [
    "from requests import get"
   ]
  },
  {
   "cell_type": "code",
   "execution_count": 25,
   "metadata": {
    "scrolled": true
   },
   "outputs": [
    {
     "name": "stdout",
     "output_type": "stream",
     "text": [
      "https://if-maroc.org/rabat/film/cinema-roubaix/\n",
      "8\n",
      "\n",
      "CINÉMA / ROUBAIX\n",
      "\n",
      "https://if-maroc.org/rabat/wp-content/uploads/sites/18/2019/09/roubaix-1-360x488.jpg\n",
      " dimanche 13 oct.\n",
      " lundi 14 oct.\n",
      " mardi 15 oct.\n",
      " 18:30\n",
      " 18:30\n",
      " 19:30\n",
      "Salle Gérard Philipe                                                                     -                                                                     Rabat\n",
      "Salle Gérard Philipe                                                                     -                                                                     Rabat\n",
      "Cinéma Renaissance                                                                     -                                                                     Rabat\n",
      "Counter : 0\n",
      "Counter : 1\n",
      "Counter : 2\n",
      "https://if-maroc.org/rabat/film/cinema-la-source/\n",
      "15\n",
      "\n",
      "CINÉMA / LA SOURCE\n",
      "\n",
      "https://if-maroc.org/rabat/wp-content/uploads/sites/18/2019/09/la-source-1-360x488.jpg\n",
      " dimanche 06 oct.\n",
      " lundi 07 oct.\n",
      " mardi 08 oct.\n",
      " 18:30\n",
      " 18:30\n",
      " 19:30\n",
      "Salle Gérard Philipe                                                                     -                                                                     Rabat\n",
      "Salle Gérard Philipe                                                                     -                                                                     Rabat\n",
      "Cinéma Renaissance                                                                     -                                                                     Rabat\n",
      "Counter : 0\n",
      "Counter : 1\n",
      "Counter : 2\n",
      "https://if-maroc.org/rabat/film/cinema-parasite/\n",
      "9\n",
      "\n",
      "CINÉMA / PARASITE\n",
      "\n",
      "https://if-maroc.org/rabat/wp-content/uploads/sites/18/2019/09/parasite-1-360x488.jpg\n",
      " dimanche 29 sept.\n",
      " lundi 30 sept.\n",
      " mardi 01 oct.\n",
      " 18:30\n",
      " 18:30\n",
      " 19:30\n",
      "Salle Gérard Philipe                                                                     -                                                                     Rabat\n",
      "Salle Gérard Philipe                                                                     -                                                                     Rabat\n",
      "Cinéma Renaissance                                                                     -                                                                     Rabat\n",
      "Counter : 0\n",
      "Counter : 1\n",
      "Counter : 2\n",
      "https://if-maroc.org/rabat/film/le-daim/\n",
      "10\n",
      "\n",
      "LE DAIM\n",
      "\n",
      "https://if-maroc.org/rabat/wp-content/uploads/sites/18/2019/09/le-daim-360x488.jpg\n",
      " dimanche 22 sept.\n",
      " lundi 23 sept.\n",
      " mardi 24 sept.\n",
      " 18:30\n",
      " 18:30\n",
      " 19:30\n",
      "Salle Gérard Philipe                                                                     -                                                                     Rabat\n",
      "Salle Gérard Philipe                                                                     -                                                                     Rabat\n",
      "Cinéma Renaissance                                                                     -                                                                     Rabat\n",
      "Counter : 0\n",
      "Counter : 1\n",
      "Counter : 2\n",
      "https://if-maroc.org/rabat/film/yves/\n",
      "14\n",
      "\n",
      "YVES\n",
      "\n",
      "https://if-maroc.org/rabat/wp-content/uploads/sites/18/2019/09/yves-360x488.jpg\n",
      " dimanche 08 sept.\n",
      " lundi 09 sept.\n",
      " mardi 10 sept.\n",
      " 18:30\n",
      " 18:30\n",
      " 19:30\n",
      "Salle Gérard Philipe                                                                     -                                                                     Rabat\n",
      "Salle Gérard Philipe                                                                     -                                                                     Rabat\n",
      "Cinéma Renaissance                                                                     -                                                                     Rabat\n",
      "Counter : 0\n",
      "Counter : 1\n",
      "Counter : 2\n",
      "https://if-maroc.org/rabat/film/le-jeune-ahmed/\n",
      "8\n",
      "\n",
      "LE JEUNE AHMED\n",
      "\n",
      "https://if-maroc.org/rabat/wp-content/uploads/sites/18/2019/09/le-jeune-ahmed-360x488.jpg\n",
      " dimanche 15 sept.\n",
      " lundi 16 sept.\n",
      " mardi 17 sept.\n",
      " 18:30\n",
      " 18:30\n",
      " 20:00\n",
      "Salle Gérard Philipe                                                                     -                                                                     Rabat\n",
      "Salle Gérard Philipe                                                                     -                                                                     Rabat\n",
      "Cinéma Renaissance                                                                     -                                                                     Rabat\n",
      "Counter : 0\n",
      "Counter : 1\n",
      "Counter : 2\n",
      "https://if-maroc.org/rabat/film/tel-aviv-on-fire/\n",
      "15\n",
      "\n",
      "TEL AVIV ON FIRE\n",
      "\n",
      "https://if-maroc.org/rabat/wp-content/uploads/sites/18/2019/06/telaviv-360x488.jpg\n",
      " dimanche 23 juin\n",
      " lundi 24 juin\n",
      " jeudi 27 juin\n",
      " 18:30\n",
      " 18:30\n",
      " 20:00\n",
      "Salle Gérard Philipe                                                                     -                                                                     Rabat\n",
      "Salle Gérard Philipe                                                                     -                                                                     Rabat\n",
      "Cinéma Renaissance                                                                     -                                                                     Rabat\n",
      "Counter : 0\n",
      "Counter : 1\n",
      "Counter : 2\n",
      "https://if-maroc.org/rabat/film/grace-a-dieu/\n",
      "8\n",
      "\n",
      "GRÂCE Á DIEU\n",
      "\n",
      "https://if-maroc.org/rabat/wp-content/uploads/sites/18/2019/06/b9718622259z-1_20190218130432_000gsdd0iejm-1-0-360x488.jpg\n",
      " mardi 18 juin\n",
      " 20:00\n",
      "Cinéma Renaissance                                                                     -                                                                     Rabat\n",
      "Counter : 0\n",
      "Counter : 1\n"
     ]
    },
    {
     "ename": "IndexError",
     "evalue": "list index out of range",
     "output_type": "error",
     "traceback": [
      "\u001b[1;31m---------------------------------------------------------------------------\u001b[0m",
      "\u001b[1;31mIndexError\u001b[0m                                Traceback (most recent call last)",
      "\u001b[1;32m<ipython-input-25-261aa0d0782a>\u001b[0m in \u001b[0;36m<module>\u001b[1;34m()\u001b[0m\n\u001b[0;32m     74\u001b[0m         \u001b[0mnoms\u001b[0m\u001b[1;33m.\u001b[0m\u001b[0mappend\u001b[0m\u001b[1;33m(\u001b[0m\u001b[0mnom\u001b[0m\u001b[1;33m)\u001b[0m\u001b[1;33m\u001b[0m\u001b[0m\n\u001b[0;32m     75\u001b[0m         \u001b[0mliens\u001b[0m\u001b[1;33m.\u001b[0m\u001b[0mappend\u001b[0m\u001b[1;33m(\u001b[0m\u001b[0mi\u001b[0m\u001b[1;33m)\u001b[0m\u001b[1;33m\u001b[0m\u001b[0m\n\u001b[1;32m---> 76\u001b[1;33m         \u001b[0mdates\u001b[0m\u001b[1;33m.\u001b[0m\u001b[0mappend\u001b[0m\u001b[1;33m(\u001b[0m\u001b[0md\u001b[0m\u001b[1;33m[\u001b[0m\u001b[0mk\u001b[0m\u001b[1;33m]\u001b[0m\u001b[1;33m)\u001b[0m\u001b[1;33m\u001b[0m\u001b[0m\n\u001b[0m\u001b[0;32m     77\u001b[0m         \u001b[0mdescs\u001b[0m\u001b[1;33m.\u001b[0m\u001b[0mappend\u001b[0m\u001b[1;33m(\u001b[0m\u001b[0mdesc\u001b[0m\u001b[1;33m)\u001b[0m\u001b[1;33m\u001b[0m\u001b[0m\n\u001b[0;32m     78\u001b[0m         \u001b[0mheures\u001b[0m\u001b[1;33m.\u001b[0m\u001b[0mappend\u001b[0m\u001b[1;33m(\u001b[0m\u001b[0md\u001b[0m\u001b[1;33m[\u001b[0m\u001b[0mk\u001b[0m\u001b[1;33m]\u001b[0m\u001b[1;33m)\u001b[0m\u001b[1;33m\u001b[0m\u001b[0m\n",
      "\u001b[1;31mIndexError\u001b[0m: list index out of range"
     ]
    }
   ],
   "source": [
    "noms = []\n",
    "dates = []\n",
    "heures = []\n",
    "places = []\n",
    "descs = []\n",
    "\n",
    "for i in liens:\n",
    "    print(i)\n",
    "    response = get(i)\n",
    "    \n",
    "    timer = randint(8,15)\n",
    "    #pause de loop\n",
    "    print(timer)\n",
    "    sleep(timer)\n",
    "    \n",
    "    #renvoyer un warning pour les non 'status code : 200'\n",
    "    if response.status_code != 200:\n",
    "        warn('Request: {}; Status code: {}'.format(requests, response.status_code))\n",
    "            \n",
    "    #parser en BS\n",
    "    page_html = BeautifulSoup(response.text,'html.parser') \n",
    "    \n",
    "    nom = page_html.find('div',class_='col-md-6 title').text\n",
    "    print(nom)\n",
    "    \n",
    "    img = page_html.find('div',class_='post-thumbnail text-left').find('img')['src']\n",
    "    print(img)\n",
    "    \n",
    "    \"\"\" Descriptions \"\"\"\n",
    "    detail = page_html.find('div',class_='content')\n",
    "    \n",
    "    if detail is None:\n",
    "        desc = 'NO DESCRIPTION'\n",
    "        continue\n",
    "        \n",
    "    description = detail.find('p')        \n",
    "    desc = description.text\n",
    "    \n",
    "    \"\"\" date et lieu  \"\"\"\n",
    "    film = page_html.find('div',class_='row evenements')\n",
    "    # Resserrer la recherche\n",
    "    events = film.find_all('div',class_='col-md-12')\n",
    "    \n",
    "    #Sauter le code si on ne trouve pas les balises nécessaires\n",
    "    if events is None:\n",
    "        dates.append('NO DATE')\n",
    "        heures.append('NO HOUR')\n",
    "        places.append('NO PLACE')\n",
    "        continue    \n",
    "    \n",
    "    #date\n",
    "    d = []\n",
    "    for j in events:\n",
    "        print(j.find('div',class_='event-date').text)\n",
    "        d.append(j.find('div',class_='event-date').text)\n",
    "    \n",
    "    #heure\n",
    "    h = []\n",
    "    for j in events:\n",
    "        print(j.find('div',class_='event-hour').text)\n",
    "        h.append(j.find('div',class_='event-hour').text)\n",
    "    \n",
    "    #place\n",
    "    p = []\n",
    "    for j in events:\n",
    "        print((j.find('div',class_='event-place').text).strip())\n",
    "        p.append((j.find('div',class_='event-place').text).strip())\n",
    "        \n",
    "    \n",
    "    \"\"\" Regrouper tous les elts dans leur listes\"\"\"\n",
    "    k = 0\n",
    "    while(k < 3):\n",
    "        print(\"Counter : \"+str(k))\n",
    "        noms.append(nom)\n",
    "        liens.append(i)\n",
    "        dates.append(d[k])\n",
    "        descs.append(desc)\n",
    "        heures.append(d[k])\n",
    "        places.append(d[k])\n",
    "        k = k+1\n",
    "        \n",
    "    \n",
    "   \n",
    "    \n",
    "    \n",
    "print(\" *** *** Done *** *** \")"
   ]
  },
  {
   "cell_type": "code",
   "execution_count": 22,
   "metadata": {
    "scrolled": true
   },
   "outputs": [
    {
     "data": {
      "text/plain": [
       "['\\nCINÉMA / ROUBAIX\\n',\n",
       " '\\nCINÉMA / ROUBAIX\\n',\n",
       " '\\nCINÉMA / ROUBAIX\\n',\n",
       " '\\nCINÉMA / LA SOURCE\\n',\n",
       " '\\nCINÉMA / LA SOURCE\\n',\n",
       " '\\nCINÉMA / LA SOURCE\\n',\n",
       " '\\nCINÉMA / PARASITE\\n',\n",
       " '\\nCINÉMA / PARASITE\\n',\n",
       " '\\nCINÉMA / PARASITE\\n',\n",
       " '\\nLE DAIM\\n',\n",
       " '\\nLE DAIM\\n',\n",
       " '\\nLE DAIM\\n',\n",
       " '\\nYVES\\n',\n",
       " '\\nYVES\\n',\n",
       " '\\nYVES\\n',\n",
       " '\\nLE JEUNE AHMED\\n',\n",
       " '\\nLE JEUNE AHMED\\n',\n",
       " '\\nLE JEUNE AHMED\\n',\n",
       " '\\nTEL AVIV ON FIRE\\n',\n",
       " '\\nTEL AVIV ON FIRE\\n',\n",
       " '\\nTEL AVIV ON FIRE\\n',\n",
       " '\\nGRÂCE Á DIEU\\n',\n",
       " '\\nGRÂCE Á DIEU\\n']"
      ]
     },
     "execution_count": 22,
     "metadata": {},
     "output_type": "execute_result"
    }
   ],
   "source": [
    "noms"
   ]
  },
  {
   "cell_type": "code",
   "execution_count": 23,
   "metadata": {},
   "outputs": [
    {
     "data": {
      "text/plain": [
       "[' dimanche 13 oct.',\n",
       " ' lundi 14 oct.',\n",
       " ' mardi 15 oct.',\n",
       " ' dimanche 06 oct.',\n",
       " ' lundi 07 oct.',\n",
       " ' mardi 08 oct.',\n",
       " ' dimanche 29 sept.',\n",
       " ' lundi 30 sept.',\n",
       " ' mardi 01 oct.',\n",
       " ' dimanche 22 sept.',\n",
       " ' lundi 23 sept.',\n",
       " ' mardi 24 sept.',\n",
       " ' dimanche 08 sept.',\n",
       " ' lundi 09 sept.',\n",
       " ' mardi 10 sept.',\n",
       " ' dimanche 15 sept.',\n",
       " ' lundi 16 sept.',\n",
       " ' mardi 17 sept.',\n",
       " ' dimanche 23 juin',\n",
       " ' lundi 24 juin',\n",
       " ' jeudi 27 juin',\n",
       " ' mardi 18 juin']"
      ]
     },
     "execution_count": 23,
     "metadata": {},
     "output_type": "execute_result"
    }
   ],
   "source": [
    "dates"
   ]
  },
  {
   "cell_type": "markdown",
   "metadata": {},
   "source": [
    "### Scraping des noms"
   ]
  },
  {
   "cell_type": "code",
   "execution_count": null,
   "metadata": {},
   "outputs": [],
   "source": [
    "noms = []\n",
    "for i in spectacles:\n",
    "    print((i.find('div',class_='post-title').text).strip())\n",
    "    noms.append((i.find('div',class_='post-title').text).strip())"
   ]
  },
  {
   "cell_type": "code",
   "execution_count": null,
   "metadata": {},
   "outputs": [],
   "source": [
    "noms"
   ]
  },
  {
   "cell_type": "markdown",
   "metadata": {},
   "source": [
    "### Scraping des images"
   ]
  },
  {
   "cell_type": "code",
   "execution_count": null,
   "metadata": {},
   "outputs": [],
   "source": [
    "images = []\n",
    "for i in spectacles:\n",
    "    img = i.find('img')\n",
    "    print(img.get('src'))\n",
    "    images.append(img.get('src'))"
   ]
  },
  {
   "cell_type": "markdown",
   "metadata": {},
   "source": [
    "## Récupérér les dates, heures et Descriptions lien par lien"
   ]
  },
  {
   "cell_type": "markdown",
   "metadata": {},
   "source": [
    "##  Tout regrouper en une seule structure"
   ]
  },
  {
   "cell_type": "code",
   "execution_count": null,
   "metadata": {},
   "outputs": [],
   "source": [
    "prog = []\n",
    "for i,j,k,l,m,n,o in zip(noms,dates,heures,images,liens,descs,places):\n",
    "    #Ajouter le lieu\n",
    "    t = (i,j,k,l,m,n,o)\n",
    "    prog.append(t)"
   ]
  },
  {
   "cell_type": "code",
   "execution_count": null,
   "metadata": {},
   "outputs": [],
   "source": [
    "prog"
   ]
  },
  {
   "cell_type": "markdown",
   "metadata": {},
   "source": [
    "### Convertir en objet pandas"
   ]
  },
  {
   "cell_type": "code",
   "execution_count": null,
   "metadata": {},
   "outputs": [],
   "source": [
    "import pandas as pd"
   ]
  },
  {
   "cell_type": "code",
   "execution_count": null,
   "metadata": {},
   "outputs": [],
   "source": [
    "df = pd.DataFrame(prog,columns=['noms','date','heure','image','lien','description','lieu'])"
   ]
  },
  {
   "cell_type": "code",
   "execution_count": null,
   "metadata": {},
   "outputs": [],
   "source": [
    "df"
   ]
  },
  {
   "cell_type": "code",
   "execution_count": null,
   "metadata": {},
   "outputs": [],
   "source": []
  }
 ],
 "metadata": {
  "kernelspec": {
   "display_name": "Python 3",
   "language": "python",
   "name": "python3"
  },
  "language_info": {
   "codemirror_mode": {
    "name": "ipython",
    "version": 3
   },
   "file_extension": ".py",
   "mimetype": "text/x-python",
   "name": "python",
   "nbconvert_exporter": "python",
   "pygments_lexer": "ipython3",
   "version": "3.6.1"
  }
 },
 "nbformat": 4,
 "nbformat_minor": 2
}
