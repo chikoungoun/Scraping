{
 "cells": [
  {
   "cell_type": "code",
   "execution_count": 1,
   "metadata": {},
   "outputs": [
    {
     "data": {
      "text/plain": [
       "<Response [200]>"
      ]
     },
     "execution_count": 1,
     "metadata": {},
     "output_type": "execute_result"
    }
   ],
   "source": [
    "import requests\n",
    "\n",
    "url = 'https://if-maroc.org/rabat/evenements-culturels/spectacles/'\n",
    "response = requests.get(url)\n",
    "response"
   ]
  },
  {
   "cell_type": "code",
   "execution_count": 2,
   "metadata": {},
   "outputs": [
    {
     "name": "stdout",
     "output_type": "stream",
     "text": [
      "\n",
      "<!DOCTYPE html>\n",
      "<html lang=\"fr-FR\" prefix=\"og: http://ogp.me/ns#\" class=\"no-js\">\n",
      "    <head>\n",
      "       \n"
     ]
    }
   ],
   "source": [
    "print(response.text[:100])"
   ]
  },
  {
   "cell_type": "code",
   "execution_count": 3,
   "metadata": {},
   "outputs": [
    {
     "data": {
      "text/plain": [
       "bs4.BeautifulSoup"
      ]
     },
     "execution_count": 3,
     "metadata": {},
     "output_type": "execute_result"
    }
   ],
   "source": [
    "from bs4 import BeautifulSoup\n",
    "\n",
    "soup = BeautifulSoup(response.text,'html.parser')\n",
    "type(soup)"
   ]
  },
  {
   "cell_type": "code",
   "execution_count": 4,
   "metadata": {},
   "outputs": [],
   "source": [
    "grille_spectacles = soup.find(\"section\",class_=\"section latest\")"
   ]
  },
  {
   "cell_type": "code",
   "execution_count": 5,
   "metadata": {},
   "outputs": [
    {
     "data": {
      "text/plain": [
       "<section class=\"section latest\">\n",
       "<div class=\"row\">\n",
       "<article class=\"col-md-4 col-sm-4\">\n",
       "<div class=\"post\">\n",
       "<div class=\"post_thumbnail\">\n",
       "<a href=\"https://if-maroc.org/rabat/evenements/cine-concert-spatial-t60/\" title=\"CINÉ-CONCERT SPATIAL T60\">\n",
       "<img alt=\"\" class=\"attachment-home-post size-home-post wp-post-image\" height=\"204\" src=\"https://if-maroc.org/rabat/wp-content/uploads/sites/18/2019/09/31263016772_ff14ca3ef5_b-360x204.jpg\" width=\"360\"/> </a>\n",
       "</div>\n",
       "<div class=\"post-title\">\n",
       "<h3><a href=\"https://if-maroc.org/rabat/evenements/cine-concert-spatial-t60/\" title=\"CINÉ-CONCERT SPATIAL T60\">CINÉ-CONCERT SPATIAL T60</a></h3>\n",
       "</div>\n",
       "<div class=\"post-excerpt\"><p>Par la Compagnie des musiques télescopiques. Ce ciné-concert part d’un constat simple : mettez devant vos yeux une paire de lentilles puissantes (jumelles ou télescope) et vous êtes aussitôt transportés là où vous regardez. C’est ainsi que depuis des siècles l’homme voyage avec légèreté, dans l’espace et le temps : l’astronome se transforme en astronaute […]</p>\n",
       "</div>\n",
       "<div class=\"post-info\"><span class=\"post-date\">Ciné-concert / 25 octobre 20h</span><span class=\"post-author\">Rabat / Salle Renaissance</span></div> </div>\n",
       "</article>\n",
       "<article class=\"col-md-4 col-sm-4\">\n",
       "<div class=\"post\">\n",
       "<div class=\"post_thumbnail\">\n",
       "<a href=\"https://if-maroc.org/rabat/evenements/spectacle-des-reves-dans-le-sable-lorene-bihorel/\" title=\"SPECTACLE / DES RÊVES DANS LE SABLE / LORÈNE BIHOREL\">\n",
       "<img alt=\"\" class=\"attachment-home-post size-home-post wp-post-image\" height=\"204\" src=\"https://if-maroc.org/rabat/wp-content/uploads/sites/18/2019/07/dscn6947b-360x204.jpg\" width=\"360\"/> </a>\n",
       "</div>\n",
       "<div class=\"post-title\">\n",
       "<h3><a href=\"https://if-maroc.org/rabat/evenements/spectacle-des-reves-dans-le-sable-lorene-bihorel/\" title=\"SPECTACLE / DES RÊVES DANS LE SABLE / LORÈNE BIHOREL\">SPECTACLE / DES RÊVES DANS LE SABLE / LORÈNE BIHOREL</a></h3>\n",
       "</div>\n",
       "<div class=\"post-excerpt\"><p>Un spectacle unique de dessin sur sable ! Compagnie Sable d’Avril Réalisé et interprété par Lorène Bihorel Voix off : François Berland et Catherine Nullans Tout public à partir de 7 ans Lorène Bihorel est une jeune artiste qui excelle dans une discipline d’un genre nouveau. Elle présente un spectacle étonnant de dessin sur sable, qui émerveille […]</p>\n",
       "</div>\n",
       "<div class=\"post-info\"><span class=\"post-date\">Spectacle / 5 octobre</span><span class=\"post-author\">Rabat / Salle Bahnini</span></div> </div>\n",
       "</article>\n",
       "<article class=\"col-md-4 col-sm-4\">\n",
       "<div class=\"post\">\n",
       "<div class=\"post_thumbnail\">\n",
       "<a href=\"https://if-maroc.org/rabat/les-evenements-passes/\" title=\"Les événements passés\">\n",
       "<img alt=\"\" src=\"https://if-maroc.org/rabat/wp-content/themes/ville/img/default-img.png\"/>\n",
       "</a>\n",
       "</div>\n",
       "<div class=\"post-title\">\n",
       "<h3><a href=\"https://if-maroc.org/rabat/les-evenements-passes/\" title=\"CINÉ-CONCERT SPATIAL T60\">Les événements passés</a></h3>\n",
       "</div>\n",
       "<div class=\"post-info\"></div> </div>\n",
       "</article>\n",
       "<br/> </div>\n",
       "</section>"
      ]
     },
     "execution_count": 5,
     "metadata": {},
     "output_type": "execute_result"
    }
   ],
   "source": [
    "grille_spectacles"
   ]
  },
  {
   "cell_type": "code",
   "execution_count": 6,
   "metadata": {},
   "outputs": [],
   "source": [
    "spectacles = grille_spectacles.find_all('div',class_=\"post\")"
   ]
  },
  {
   "cell_type": "code",
   "execution_count": 7,
   "metadata": {},
   "outputs": [
    {
     "data": {
      "text/plain": [
       "[<div class=\"post\">\n",
       " <div class=\"post_thumbnail\">\n",
       " <a href=\"https://if-maroc.org/rabat/evenements/cine-concert-spatial-t60/\" title=\"CINÉ-CONCERT SPATIAL T60\">\n",
       " <img alt=\"\" class=\"attachment-home-post size-home-post wp-post-image\" height=\"204\" src=\"https://if-maroc.org/rabat/wp-content/uploads/sites/18/2019/09/31263016772_ff14ca3ef5_b-360x204.jpg\" width=\"360\"/> </a>\n",
       " </div>\n",
       " <div class=\"post-title\">\n",
       " <h3><a href=\"https://if-maroc.org/rabat/evenements/cine-concert-spatial-t60/\" title=\"CINÉ-CONCERT SPATIAL T60\">CINÉ-CONCERT SPATIAL T60</a></h3>\n",
       " </div>\n",
       " <div class=\"post-excerpt\"><p>Par la Compagnie des musiques télescopiques. Ce ciné-concert part d’un constat simple : mettez devant vos yeux une paire de lentilles puissantes (jumelles ou télescope) et vous êtes aussitôt transportés là où vous regardez. C’est ainsi que depuis des siècles l’homme voyage avec légèreté, dans l’espace et le temps : l’astronome se transforme en astronaute […]</p>\n",
       " </div>\n",
       " <div class=\"post-info\"><span class=\"post-date\">Ciné-concert / 25 octobre 20h</span><span class=\"post-author\">Rabat / Salle Renaissance</span></div> </div>,\n",
       " <div class=\"post\">\n",
       " <div class=\"post_thumbnail\">\n",
       " <a href=\"https://if-maroc.org/rabat/evenements/spectacle-des-reves-dans-le-sable-lorene-bihorel/\" title=\"SPECTACLE / DES RÊVES DANS LE SABLE / LORÈNE BIHOREL\">\n",
       " <img alt=\"\" class=\"attachment-home-post size-home-post wp-post-image\" height=\"204\" src=\"https://if-maroc.org/rabat/wp-content/uploads/sites/18/2019/07/dscn6947b-360x204.jpg\" width=\"360\"/> </a>\n",
       " </div>\n",
       " <div class=\"post-title\">\n",
       " <h3><a href=\"https://if-maroc.org/rabat/evenements/spectacle-des-reves-dans-le-sable-lorene-bihorel/\" title=\"SPECTACLE / DES RÊVES DANS LE SABLE / LORÈNE BIHOREL\">SPECTACLE / DES RÊVES DANS LE SABLE / LORÈNE BIHOREL</a></h3>\n",
       " </div>\n",
       " <div class=\"post-excerpt\"><p>Un spectacle unique de dessin sur sable ! Compagnie Sable d’Avril Réalisé et interprété par Lorène Bihorel Voix off : François Berland et Catherine Nullans Tout public à partir de 7 ans Lorène Bihorel est une jeune artiste qui excelle dans une discipline d’un genre nouveau. Elle présente un spectacle étonnant de dessin sur sable, qui émerveille […]</p>\n",
       " </div>\n",
       " <div class=\"post-info\"><span class=\"post-date\">Spectacle / 5 octobre</span><span class=\"post-author\">Rabat / Salle Bahnini</span></div> </div>,\n",
       " <div class=\"post\">\n",
       " <div class=\"post_thumbnail\">\n",
       " <a href=\"https://if-maroc.org/rabat/les-evenements-passes/\" title=\"Les événements passés\">\n",
       " <img alt=\"\" src=\"https://if-maroc.org/rabat/wp-content/themes/ville/img/default-img.png\"/>\n",
       " </a>\n",
       " </div>\n",
       " <div class=\"post-title\">\n",
       " <h3><a href=\"https://if-maroc.org/rabat/les-evenements-passes/\" title=\"CINÉ-CONCERT SPATIAL T60\">Les événements passés</a></h3>\n",
       " </div>\n",
       " <div class=\"post-info\"></div> </div>]"
      ]
     },
     "execution_count": 7,
     "metadata": {},
     "output_type": "execute_result"
    }
   ],
   "source": [
    "spectacles"
   ]
  },
  {
   "cell_type": "code",
   "execution_count": 8,
   "metadata": {},
   "outputs": [
    {
     "data": {
      "text/plain": [
       "3"
      ]
     },
     "execution_count": 8,
     "metadata": {},
     "output_type": "execute_result"
    }
   ],
   "source": [
    "len(spectacles)"
   ]
  },
  {
   "cell_type": "markdown",
   "metadata": {},
   "source": [
    "### Scraping des noms"
   ]
  },
  {
   "cell_type": "code",
   "execution_count": 9,
   "metadata": {},
   "outputs": [
    {
     "name": "stdout",
     "output_type": "stream",
     "text": [
      "CINÉ-CONCERT SPATIAL T60\n",
      "SPECTACLE / DES RÊVES DANS LE SABLE / LORÈNE BIHOREL\n",
      "Les événements passés\n"
     ]
    }
   ],
   "source": [
    "noms = []\n",
    "for i in spectacles:\n",
    "    print((i.find('div',class_='post-title').text).strip())\n",
    "    noms.append((i.find('div',class_='post-title').text).strip())"
   ]
  },
  {
   "cell_type": "code",
   "execution_count": 10,
   "metadata": {},
   "outputs": [
    {
     "data": {
      "text/plain": [
       "['CINÉ-CONCERT SPATIAL T60',\n",
       " 'SPECTACLE / DES RÊVES DANS LE SABLE / LORÈNE BIHOREL',\n",
       " 'Les événements passés']"
      ]
     },
     "execution_count": 10,
     "metadata": {},
     "output_type": "execute_result"
    }
   ],
   "source": [
    "noms"
   ]
  },
  {
   "cell_type": "markdown",
   "metadata": {},
   "source": [
    "### Scraping des liens"
   ]
  },
  {
   "cell_type": "code",
   "execution_count": 11,
   "metadata": {},
   "outputs": [
    {
     "name": "stdout",
     "output_type": "stream",
     "text": [
      "https://if-maroc.org/rabat/evenements/cine-concert-spatial-t60/\n",
      "https://if-maroc.org/rabat/evenements/spectacle-des-reves-dans-le-sable-lorene-bihorel/\n",
      "https://if-maroc.org/rabat/les-evenements-passes/\n"
     ]
    }
   ],
   "source": [
    "liens = []\n",
    "for i in spectacles:\n",
    "    link = i.find('a')\n",
    "    print(link.get('href'))\n",
    "    liens.append(link.get('href'))\n",
    "    "
   ]
  },
  {
   "cell_type": "markdown",
   "metadata": {},
   "source": [
    "### Scraping des images"
   ]
  },
  {
   "cell_type": "code",
   "execution_count": 12,
   "metadata": {},
   "outputs": [
    {
     "name": "stdout",
     "output_type": "stream",
     "text": [
      "https://if-maroc.org/rabat/wp-content/uploads/sites/18/2019/09/31263016772_ff14ca3ef5_b-360x204.jpg\n",
      "https://if-maroc.org/rabat/wp-content/uploads/sites/18/2019/07/dscn6947b-360x204.jpg\n",
      "https://if-maroc.org/rabat/wp-content/themes/ville/img/default-img.png\n"
     ]
    }
   ],
   "source": [
    "images = []\n",
    "for i in spectacles:\n",
    "    img = i.find('img')\n",
    "    print(img.get('src'))\n",
    "    images.append(img.get('src'))"
   ]
  },
  {
   "cell_type": "markdown",
   "metadata": {},
   "source": [
    "## Récupérér les dates, heures et Descriptions lien par lien"
   ]
  },
  {
   "cell_type": "code",
   "execution_count": 13,
   "metadata": {},
   "outputs": [],
   "source": [
    "from time import time\n",
    "from time import sleep\n",
    "from random import randint"
   ]
  },
  {
   "cell_type": "code",
   "execution_count": 14,
   "metadata": {},
   "outputs": [],
   "source": [
    "start_time = time()\n",
    "requests = 0"
   ]
  },
  {
   "cell_type": "code",
   "execution_count": 15,
   "metadata": {},
   "outputs": [],
   "source": [
    "from requests import get"
   ]
  },
  {
   "cell_type": "code",
   "execution_count": 16,
   "metadata": {
    "scrolled": true
   },
   "outputs": [
    {
     "name": "stdout",
     "output_type": "stream",
     "text": [
      "https://if-maroc.org/rabat/evenements/cine-concert-spatial-t60/\n",
      "13\n",
      "https://if-maroc.org/rabat/evenements/spectacle-des-reves-dans-le-sable-lorene-bihorel/\n",
      "13\n",
      "https://if-maroc.org/rabat/les-evenements-passes/\n",
      "9\n",
      " *** *** Done *** *** \n"
     ]
    }
   ],
   "source": [
    "dates = []\n",
    "heures = []\n",
    "places = []\n",
    "descs = []\n",
    "\n",
    "for i in liens:\n",
    "    print(i)\n",
    "    response = get(i)\n",
    "    \n",
    "    timer = randint(8,15)\n",
    "    #pause de loop\n",
    "    print(timer)\n",
    "    sleep(timer)\n",
    "    \n",
    "    #renvoyer un warning pour les non 'status code : 200'\n",
    "    if response.status_code != 200:\n",
    "        warn('Request: {}; Status code: {}'.format(requests, response.status_code))\n",
    "            \n",
    "    #parser en BS\n",
    "    page_html = BeautifulSoup(response.text,'html.parser') \n",
    "    \n",
    "    \"\"\" date et lieu  \"\"\"\n",
    "    events = page_html.find('div',class_='event')\n",
    "    \n",
    "    #Sauter le code si on ne trouve pas les balises nécessaires\n",
    "    if events is None:\n",
    "        dates.append('NO DATE')\n",
    "        heures.append('NO HOUR')\n",
    "        places.append('NO PLACE')\n",
    "        continue    \n",
    "    \n",
    "    #date\n",
    "    date = events.find('div',class_='event-date')\n",
    "    dates.append(date.text)\n",
    "    \n",
    "    #heure\n",
    "    heure = events.find('div',class_='event-hour')\n",
    "    heures.append(heure.text)\n",
    "    \n",
    "    #place\n",
    "    place = events.find('div',class_='event-place')\n",
    "    places.append((place.text).strip())\n",
    "    \n",
    "    \"\"\" Descriptions \"\"\"\n",
    "    detail = page_html.find('div',class_='content')\n",
    "    \n",
    "    if detail is None:\n",
    "        descs.append('NO DESCRIPTION')\n",
    "        continue\n",
    "        \n",
    "    description = detail.find('p')        \n",
    "    descs.append(description.text)\n",
    "    \n",
    "    \n",
    "print(\" *** *** Done *** *** \")"
   ]
  },
  {
   "cell_type": "code",
   "execution_count": 17,
   "metadata": {},
   "outputs": [
    {
     "data": {
      "text/plain": [
       "[' vendredi 25 oct.', ' samedi 05 oct.', 'NO DATE']"
      ]
     },
     "execution_count": 17,
     "metadata": {},
     "output_type": "execute_result"
    }
   ],
   "source": [
    "dates"
   ]
  },
  {
   "cell_type": "code",
   "execution_count": 18,
   "metadata": {},
   "outputs": [
    {
     "data": {
      "text/plain": [
       "[' 20:00', ' 17:00', 'NO HOUR']"
      ]
     },
     "execution_count": 18,
     "metadata": {},
     "output_type": "execute_result"
    }
   ],
   "source": [
    "heures"
   ]
  },
  {
   "cell_type": "code",
   "execution_count": 19,
   "metadata": {},
   "outputs": [
    {
     "data": {
      "text/plain": [
       "['Salle Renaissance\\n                                                             - \\n                                                            Rabat',\n",
       " 'Salle Bahnini\\n                                                             - \\n                                                            Rabat',\n",
       " 'NO PLACE']"
      ]
     },
     "execution_count": 19,
     "metadata": {},
     "output_type": "execute_result"
    }
   ],
   "source": [
    "places"
   ]
  },
  {
   "cell_type": "markdown",
   "metadata": {},
   "source": [
    "##  Tout regrouper en une seule structure"
   ]
  },
  {
   "cell_type": "code",
   "execution_count": 20,
   "metadata": {},
   "outputs": [],
   "source": [
    "prog = []\n",
    "for i,j,k,l,m,n,o in zip(noms,dates,heures,images,liens,descs,places):\n",
    "    #Ajouter le lieu\n",
    "    t = (i,j,k,l,m,n,o)\n",
    "    prog.append(t)"
   ]
  },
  {
   "cell_type": "code",
   "execution_count": 21,
   "metadata": {},
   "outputs": [
    {
     "data": {
      "text/plain": [
       "[('CINÉ-CONCERT SPATIAL T60',\n",
       "  ' vendredi 25 oct.',\n",
       "  ' 20:00',\n",
       "  'https://if-maroc.org/rabat/wp-content/uploads/sites/18/2019/09/31263016772_ff14ca3ef5_b-360x204.jpg',\n",
       "  'https://if-maroc.org/rabat/evenements/cine-concert-spatial-t60/',\n",
       "  'Par la Compagnie des musiques télescopiques.',\n",
       "  'Salle Renaissance\\n                                                             - \\n                                                            Rabat'),\n",
       " ('SPECTACLE / DES RÊVES DANS LE SABLE / LORÈNE BIHOREL',\n",
       "  ' samedi 05 oct.',\n",
       "  ' 17:00',\n",
       "  'https://if-maroc.org/rabat/wp-content/uploads/sites/18/2019/07/dscn6947b-360x204.jpg',\n",
       "  'https://if-maroc.org/rabat/evenements/spectacle-des-reves-dans-le-sable-lorene-bihorel/',\n",
       "  'Un spectacle unique de dessin sur sable\\xa0!',\n",
       "  'Salle Bahnini\\n                                                             - \\n                                                            Rabat')]"
      ]
     },
     "execution_count": 21,
     "metadata": {},
     "output_type": "execute_result"
    }
   ],
   "source": [
    "prog"
   ]
  },
  {
   "cell_type": "markdown",
   "metadata": {},
   "source": [
    "### Convertir en objet pandas"
   ]
  },
  {
   "cell_type": "code",
   "execution_count": 22,
   "metadata": {},
   "outputs": [],
   "source": [
    "import pandas as pd"
   ]
  },
  {
   "cell_type": "code",
   "execution_count": 23,
   "metadata": {},
   "outputs": [],
   "source": [
    "df = pd.DataFrame(prog,columns=['noms','date','heure','image','lien','description','lieu'])"
   ]
  },
  {
   "cell_type": "code",
   "execution_count": 24,
   "metadata": {},
   "outputs": [
    {
     "data": {
      "text/html": [
       "<div>\n",
       "<style>\n",
       "    .dataframe thead tr:only-child th {\n",
       "        text-align: right;\n",
       "    }\n",
       "\n",
       "    .dataframe thead th {\n",
       "        text-align: left;\n",
       "    }\n",
       "\n",
       "    .dataframe tbody tr th {\n",
       "        vertical-align: top;\n",
       "    }\n",
       "</style>\n",
       "<table border=\"1\" class=\"dataframe\">\n",
       "  <thead>\n",
       "    <tr style=\"text-align: right;\">\n",
       "      <th></th>\n",
       "      <th>noms</th>\n",
       "      <th>date</th>\n",
       "      <th>heure</th>\n",
       "      <th>image</th>\n",
       "      <th>lien</th>\n",
       "      <th>description</th>\n",
       "      <th>lieu</th>\n",
       "    </tr>\n",
       "  </thead>\n",
       "  <tbody>\n",
       "    <tr>\n",
       "      <th>0</th>\n",
       "      <td>CINÉ-CONCERT SPATIAL T60</td>\n",
       "      <td>vendredi 25 oct.</td>\n",
       "      <td>20:00</td>\n",
       "      <td>https://if-maroc.org/rabat/wp-content/uploads/...</td>\n",
       "      <td>https://if-maroc.org/rabat/evenements/cine-con...</td>\n",
       "      <td>Par la Compagnie des musiques télescopiques.</td>\n",
       "      <td>Salle Renaissance\\n                           ...</td>\n",
       "    </tr>\n",
       "    <tr>\n",
       "      <th>1</th>\n",
       "      <td>SPECTACLE / DES RÊVES DANS LE SABLE / LORÈNE B...</td>\n",
       "      <td>samedi 05 oct.</td>\n",
       "      <td>17:00</td>\n",
       "      <td>https://if-maroc.org/rabat/wp-content/uploads/...</td>\n",
       "      <td>https://if-maroc.org/rabat/evenements/spectacl...</td>\n",
       "      <td>Un spectacle unique de dessin sur sable !</td>\n",
       "      <td>Salle Bahnini\\n                               ...</td>\n",
       "    </tr>\n",
       "  </tbody>\n",
       "</table>\n",
       "</div>"
      ],
      "text/plain": [
       "                                                noms               date  \\\n",
       "0                           CINÉ-CONCERT SPATIAL T60   vendredi 25 oct.   \n",
       "1  SPECTACLE / DES RÊVES DANS LE SABLE / LORÈNE B...     samedi 05 oct.   \n",
       "\n",
       "    heure                                              image  \\\n",
       "0   20:00  https://if-maroc.org/rabat/wp-content/uploads/...   \n",
       "1   17:00  https://if-maroc.org/rabat/wp-content/uploads/...   \n",
       "\n",
       "                                                lien  \\\n",
       "0  https://if-maroc.org/rabat/evenements/cine-con...   \n",
       "1  https://if-maroc.org/rabat/evenements/spectacl...   \n",
       "\n",
       "                                    description  \\\n",
       "0  Par la Compagnie des musiques télescopiques.   \n",
       "1     Un spectacle unique de dessin sur sable !   \n",
       "\n",
       "                                                lieu  \n",
       "0  Salle Renaissance\\n                           ...  \n",
       "1  Salle Bahnini\\n                               ...  "
      ]
     },
     "execution_count": 24,
     "metadata": {},
     "output_type": "execute_result"
    }
   ],
   "source": [
    "df"
   ]
  },
  {
   "cell_type": "code",
   "execution_count": null,
   "metadata": {},
   "outputs": [],
   "source": []
  }
 ],
 "metadata": {
  "kernelspec": {
   "display_name": "Python 3",
   "language": "python",
   "name": "python3"
  },
  "language_info": {
   "codemirror_mode": {
    "name": "ipython",
    "version": 3
   },
   "file_extension": ".py",
   "mimetype": "text/x-python",
   "name": "python",
   "nbconvert_exporter": "python",
   "pygments_lexer": "ipython3",
   "version": "3.6.1"
  }
 },
 "nbformat": 4,
 "nbformat_minor": 2
}
