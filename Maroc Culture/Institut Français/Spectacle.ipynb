{
 "cells": [
  {
   "cell_type": "code",
   "execution_count": 1,
   "metadata": {},
   "outputs": [
    {
     "data": {
      "text/plain": [
       "<Response [200]>"
      ]
     },
     "execution_count": 1,
     "metadata": {},
     "output_type": "execute_result"
    }
   ],
   "source": [
    "import requests\n",
    "\n",
    "url = 'https://if-maroc.org/rabat/evenements-culturels/spectacles/'\n",
    "response = requests.get(url)\n",
    "response"
   ]
  },
  {
   "cell_type": "code",
   "execution_count": 2,
   "metadata": {},
   "outputs": [
    {
     "name": "stdout",
     "output_type": "stream",
     "text": [
      "\n",
      "<!DOCTYPE html>\n",
      "<html lang=\"fr-FR\" prefix=\"og: http://ogp.me/ns#\" class=\"no-js\">\n",
      "    <head>\n",
      "       \n"
     ]
    }
   ],
   "source": [
    "print(response.text[:100])"
   ]
  },
  {
   "cell_type": "code",
   "execution_count": 3,
   "metadata": {},
   "outputs": [
    {
     "data": {
      "text/plain": [
       "bs4.BeautifulSoup"
      ]
     },
     "execution_count": 3,
     "metadata": {},
     "output_type": "execute_result"
    }
   ],
   "source": [
    "from bs4 import BeautifulSoup\n",
    "\n",
    "soup = BeautifulSoup(response.text,'html.parser')\n",
    "type(soup)"
   ]
  },
  {
   "cell_type": "code",
   "execution_count": 17,
   "metadata": {},
   "outputs": [],
   "source": [
    "grille_spectacles = soup.find(\"section\",class_=\"section latest\")"
   ]
  },
  {
   "cell_type": "code",
   "execution_count": 18,
   "metadata": {},
   "outputs": [
    {
     "data": {
      "text/plain": [
       "<section class=\"section latest\">\n",
       "<div class=\"row\">\n",
       "<article class=\"col-md-4 col-sm-4\">\n",
       "<div class=\"post\">\n",
       "<div class=\"post_thumbnail\">\n",
       "<a href=\"https://if-maroc.org/rabat/evenements/cine-concert-spatial-t60/\" title=\"CINÉ-CONCERT SPATIAL T60\">\n",
       "<img alt=\"\" class=\"attachment-home-post size-home-post wp-post-image\" height=\"204\" src=\"https://if-maroc.org/rabat/wp-content/uploads/sites/18/2019/09/31263016772_ff14ca3ef5_b-360x204.jpg\" width=\"360\"/> </a>\n",
       "</div>\n",
       "<div class=\"post-title\">\n",
       "<h3><a href=\"https://if-maroc.org/rabat/evenements/cine-concert-spatial-t60/\" title=\"CINÉ-CONCERT SPATIAL T60\">CINÉ-CONCERT SPATIAL T60</a></h3>\n",
       "</div>\n",
       "<div class=\"post-excerpt\"><p>Par la Compagnie des musiques télescopiques. Ce ciné-concert part d’un constat simple : mettez devant vos yeux une paire de lentilles puissantes (jumelles ou télescope) et vous êtes aussitôt transportés là où vous regardez. C’est ainsi que depuis des siècles l’homme voyage avec légèreté, dans l’espace et le temps : l’astronome se transforme en astronaute […]</p>\n",
       "</div>\n",
       "<div class=\"post-info\"><span class=\"post-date\">Ciné-concert / 25 octobre 20h</span><span class=\"post-author\">Rabat / Salle Renaissance</span></div> </div>\n",
       "</article>\n",
       "<article class=\"col-md-4 col-sm-4\">\n",
       "<div class=\"post\">\n",
       "<div class=\"post_thumbnail\">\n",
       "<a href=\"https://if-maroc.org/rabat/evenements/spectacle-des-reves-dans-le-sable-lorene-bihorel/\" title=\"SPECTACLE / DES RÊVES DANS LE SABLE / LORÈNE BIHOREL\">\n",
       "<img alt=\"\" class=\"attachment-home-post size-home-post wp-post-image\" height=\"204\" src=\"https://if-maroc.org/rabat/wp-content/uploads/sites/18/2019/07/dscn6947b-360x204.jpg\" width=\"360\"/> </a>\n",
       "</div>\n",
       "<div class=\"post-title\">\n",
       "<h3><a href=\"https://if-maroc.org/rabat/evenements/spectacle-des-reves-dans-le-sable-lorene-bihorel/\" title=\"SPECTACLE / DES RÊVES DANS LE SABLE / LORÈNE BIHOREL\">SPECTACLE / DES RÊVES DANS LE SABLE / LORÈNE BIHOREL</a></h3>\n",
       "</div>\n",
       "<div class=\"post-excerpt\"><p>Un spectacle unique de dessin sur sable ! Compagnie Sable d’Avril Réalisé et interprété par Lorène Bihorel Voix off : François Berland et Catherine Nullans Tout public à partir de 7 ans Lorène Bihorel est une jeune artiste qui excelle dans une discipline d’un genre nouveau. Elle présente un spectacle étonnant de dessin sur sable, qui émerveille […]</p>\n",
       "</div>\n",
       "<div class=\"post-info\"><span class=\"post-date\">Spectacle / 5 octobre</span><span class=\"post-author\">Rabat / Salle Bahnini</span></div> </div>\n",
       "</article>\n",
       "<article class=\"col-md-4 col-sm-4\">\n",
       "<div class=\"post\">\n",
       "<div class=\"post_thumbnail\">\n",
       "<a href=\"https://if-maroc.org/rabat/les-evenements-passes/\" title=\"Les événements passés\">\n",
       "<img alt=\"\" src=\"https://if-maroc.org/rabat/wp-content/themes/ville/img/default-img.png\"/>\n",
       "</a>\n",
       "</div>\n",
       "<div class=\"post-title\">\n",
       "<h3><a href=\"https://if-maroc.org/rabat/les-evenements-passes/\" title=\"CINÉ-CONCERT SPATIAL T60\">Les événements passés</a></h3>\n",
       "</div>\n",
       "<div class=\"post-info\"></div> </div>\n",
       "</article>\n",
       "<br/> </div>\n",
       "</section>"
      ]
     },
     "execution_count": 18,
     "metadata": {},
     "output_type": "execute_result"
    }
   ],
   "source": [
    "grille_spectacles"
   ]
  },
  {
   "cell_type": "code",
   "execution_count": 14,
   "metadata": {},
   "outputs": [],
   "source": [
    "spectacles = grille_spectacles.find_all('div',class_=\"post\")"
   ]
  },
  {
   "cell_type": "code",
   "execution_count": 19,
   "metadata": {},
   "outputs": [
    {
     "data": {
      "text/plain": [
       "<section class=\"section latest\">\n",
       "<div class=\"row\">\n",
       "<article class=\"col-md-4 col-sm-4\">\n",
       "<div class=\"post\">\n",
       "<div class=\"post_thumbnail\">\n",
       "<a href=\"https://if-maroc.org/rabat/evenements/cine-concert-spatial-t60/\" title=\"CINÉ-CONCERT SPATIAL T60\">\n",
       "<img alt=\"\" class=\"attachment-home-post size-home-post wp-post-image\" height=\"204\" src=\"https://if-maroc.org/rabat/wp-content/uploads/sites/18/2019/09/31263016772_ff14ca3ef5_b-360x204.jpg\" width=\"360\"/> </a>\n",
       "</div>\n",
       "<div class=\"post-title\">\n",
       "<h3><a href=\"https://if-maroc.org/rabat/evenements/cine-concert-spatial-t60/\" title=\"CINÉ-CONCERT SPATIAL T60\">CINÉ-CONCERT SPATIAL T60</a></h3>\n",
       "</div>\n",
       "<div class=\"post-excerpt\"><p>Par la Compagnie des musiques télescopiques. Ce ciné-concert part d’un constat simple : mettez devant vos yeux une paire de lentilles puissantes (jumelles ou télescope) et vous êtes aussitôt transportés là où vous regardez. C’est ainsi que depuis des siècles l’homme voyage avec légèreté, dans l’espace et le temps : l’astronome se transforme en astronaute […]</p>\n",
       "</div>\n",
       "<div class=\"post-info\"><span class=\"post-date\">Ciné-concert / 25 octobre 20h</span><span class=\"post-author\">Rabat / Salle Renaissance</span></div> </div>\n",
       "</article>\n",
       "<article class=\"col-md-4 col-sm-4\">\n",
       "<div class=\"post\">\n",
       "<div class=\"post_thumbnail\">\n",
       "<a href=\"https://if-maroc.org/rabat/evenements/spectacle-des-reves-dans-le-sable-lorene-bihorel/\" title=\"SPECTACLE / DES RÊVES DANS LE SABLE / LORÈNE BIHOREL\">\n",
       "<img alt=\"\" class=\"attachment-home-post size-home-post wp-post-image\" height=\"204\" src=\"https://if-maroc.org/rabat/wp-content/uploads/sites/18/2019/07/dscn6947b-360x204.jpg\" width=\"360\"/> </a>\n",
       "</div>\n",
       "<div class=\"post-title\">\n",
       "<h3><a href=\"https://if-maroc.org/rabat/evenements/spectacle-des-reves-dans-le-sable-lorene-bihorel/\" title=\"SPECTACLE / DES RÊVES DANS LE SABLE / LORÈNE BIHOREL\">SPECTACLE / DES RÊVES DANS LE SABLE / LORÈNE BIHOREL</a></h3>\n",
       "</div>\n",
       "<div class=\"post-excerpt\"><p>Un spectacle unique de dessin sur sable ! Compagnie Sable d’Avril Réalisé et interprété par Lorène Bihorel Voix off : François Berland et Catherine Nullans Tout public à partir de 7 ans Lorène Bihorel est une jeune artiste qui excelle dans une discipline d’un genre nouveau. Elle présente un spectacle étonnant de dessin sur sable, qui émerveille […]</p>\n",
       "</div>\n",
       "<div class=\"post-info\"><span class=\"post-date\">Spectacle / 5 octobre</span><span class=\"post-author\">Rabat / Salle Bahnini</span></div> </div>\n",
       "</article>\n",
       "<article class=\"col-md-4 col-sm-4\">\n",
       "<div class=\"post\">\n",
       "<div class=\"post_thumbnail\">\n",
       "<a href=\"https://if-maroc.org/rabat/les-evenements-passes/\" title=\"Les événements passés\">\n",
       "<img alt=\"\" src=\"https://if-maroc.org/rabat/wp-content/themes/ville/img/default-img.png\"/>\n",
       "</a>\n",
       "</div>\n",
       "<div class=\"post-title\">\n",
       "<h3><a href=\"https://if-maroc.org/rabat/les-evenements-passes/\" title=\"CINÉ-CONCERT SPATIAL T60\">Les événements passés</a></h3>\n",
       "</div>\n",
       "<div class=\"post-info\"></div> </div>\n",
       "</article>\n",
       "<br/> </div>\n",
       "</section>"
      ]
     },
     "execution_count": 19,
     "metadata": {},
     "output_type": "execute_result"
    }
   ],
   "source": [
    "spectacles"
   ]
  },
  {
   "cell_type": "code",
   "execution_count": 31,
   "metadata": {},
   "outputs": [
    {
     "data": {
      "text/plain": [
       "3"
      ]
     },
     "execution_count": 31,
     "metadata": {},
     "output_type": "execute_result"
    }
   ],
   "source": [
    "len(spectacles)"
   ]
  },
  {
   "cell_type": "markdown",
   "metadata": {},
   "source": [
    "### Scraping des noms"
   ]
  },
  {
   "cell_type": "code",
   "execution_count": 37,
   "metadata": {},
   "outputs": [
    {
     "name": "stdout",
     "output_type": "stream",
     "text": [
      "\n",
      "CINÉ-CONCERT SPATIAL T60\n",
      "\n",
      "\n",
      "SPECTACLE / DES RÊVES DANS LE SABLE / LORÈNE BIHOREL\n",
      "\n",
      "\n",
      "Les événements passés\n",
      "\n"
     ]
    }
   ],
   "source": [
    "noms = []\n",
    "for i in spectacles.find_all('div',class_='post-title'):\n",
    "    print(i.text)\n",
    "    noms.append(i.text)"
   ]
  },
  {
   "cell_type": "code",
   "execution_count": 38,
   "metadata": {},
   "outputs": [
    {
     "data": {
      "text/plain": [
       "['\\nCINÉ-CONCERT SPATIAL T60\\n',\n",
       " '\\nSPECTACLE / DES RÊVES DANS LE SABLE / LORÈNE BIHOREL\\n',\n",
       " '\\nLes événements passés\\n']"
      ]
     },
     "execution_count": 38,
     "metadata": {},
     "output_type": "execute_result"
    }
   ],
   "source": []
  },
  {
   "cell_type": "markdown",
   "metadata": {},
   "source": [
    "### Scraping des liens"
   ]
  },
  {
   "cell_type": "code",
   "execution_count": 44,
   "metadata": {},
   "outputs": [
    {
     "name": "stdout",
     "output_type": "stream",
     "text": [
      "https://if-maroc.org/rabat/evenements/cine-concert-spatial-t60/\n",
      "https://if-maroc.org/rabat/evenements/spectacle-des-reves-dans-le-sable-lorene-bihorel/\n",
      "https://if-maroc.org/rabat/les-evenements-passes/\n"
     ]
    }
   ],
   "source": [
    "liens = []\n",
    "for i in spectacles.find_all('div',class_='post-title'):\n",
    "    link = i.find('a')\n",
    "    print(link.get('href'))\n",
    "    liens.append(link.get('href'))\n",
    "    "
   ]
  },
  {
   "cell_type": "markdown",
   "metadata": {},
   "source": [
    "### Scraping des images"
   ]
  },
  {
   "cell_type": "code",
   "execution_count": 47,
   "metadata": {},
   "outputs": [
    {
     "name": "stdout",
     "output_type": "stream",
     "text": [
      "https://if-maroc.org/rabat/wp-content/uploads/sites/18/2019/09/31263016772_ff14ca3ef5_b-360x204.jpg\n",
      "https://if-maroc.org/rabat/wp-content/uploads/sites/18/2019/07/dscn6947b-360x204.jpg\n",
      "https://if-maroc.org/rabat/wp-content/themes/ville/img/default-img.png\n"
     ]
    }
   ],
   "source": [
    "images = []\n",
    "for i in spectacles.find_all('div',class_='post_thumbnail'):\n",
    "    img = i.find('img')\n",
    "    print(img.get('src'))\n",
    "    images.append(img)"
   ]
  },
  {
   "cell_type": "code",
   "execution_count": null,
   "metadata": {},
   "outputs": [],
   "source": []
  }
 ],
 "metadata": {
  "kernelspec": {
   "display_name": "Python 3",
   "language": "python",
   "name": "python3"
  },
  "language_info": {
   "codemirror_mode": {
    "name": "ipython",
    "version": 3
   },
   "file_extension": ".py",
   "mimetype": "text/x-python",
   "name": "python",
   "nbconvert_exporter": "python",
   "pygments_lexer": "ipython3",
   "version": "3.6.1"
  }
 },
 "nbformat": 4,
 "nbformat_minor": 2
}
