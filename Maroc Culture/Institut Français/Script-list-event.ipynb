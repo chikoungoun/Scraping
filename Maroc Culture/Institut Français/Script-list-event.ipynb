{
 "cells": [
  {
   "cell_type": "markdown",
   "metadata": {},
   "source": [
    "# Institut Français Script : date, heure, lieu"
   ]
  },
  {
   "cell_type": "markdown",
   "metadata": {},
   "source": [
    "Pour les films de l'institut français, les films ont des dates et lieux qui peuvent diverger d'un film à l'autre et selon les salles."
   ]
  },
  {
   "cell_type": "code",
   "execution_count": 1,
   "metadata": {},
   "outputs": [
    {
     "data": {
      "text/plain": [
       "<Response [200]>"
      ]
     },
     "execution_count": 1,
     "metadata": {},
     "output_type": "execute_result"
    }
   ],
   "source": [
    "import requests\n",
    "\n",
    "url = 'https://if-maroc.org/rabat/film/les-freres-sisters-the-sisters-brothers/'\n",
    "response = requests.get(url)\n",
    "response"
   ]
  },
  {
   "cell_type": "code",
   "execution_count": 2,
   "metadata": {},
   "outputs": [
    {
     "data": {
      "text/plain": [
       "bs4.BeautifulSoup"
      ]
     },
     "execution_count": 2,
     "metadata": {},
     "output_type": "execute_result"
    }
   ],
   "source": [
    "from bs4 import BeautifulSoup\n",
    "\n",
    "soup = BeautifulSoup(response.text,'html.parser')\n",
    "type(soup)"
   ]
  },
  {
   "cell_type": "code",
   "execution_count": 4,
   "metadata": {},
   "outputs": [],
   "source": [
    "films = soup.find(\"div\",class_=\"row evenements\")"
   ]
  },
  {
   "cell_type": "code",
   "execution_count": 8,
   "metadata": {},
   "outputs": [],
   "source": [
    "events = films.findAll('div',class_=\"col-md-12\")"
   ]
  },
  {
   "cell_type": "code",
   "execution_count": 9,
   "metadata": {},
   "outputs": [
    {
     "data": {
      "text/plain": [
       "[<div class=\"col-md-12\">\n",
       " <div class=\"event\">\n",
       " <div class=\"event-date\"><i class=\"fa fa-calendar\"></i> <span class=\"day\">dimanche 13</span> <span class=\"month\">janv.</span></div>\n",
       " <div class=\"event-hour\"><i class=\"fa fa-clock-o\"></i> 18:30</div>\n",
       " <div class=\"event-place\"><i class=\"fa fa-map-marker\"></i>\n",
       "                                                                     Salle Gérard Philipe                                                                     -                                                                     Rabat                                                                </div>\n",
       " </div>\n",
       " </div>, <div class=\"col-md-12\">\n",
       " <div class=\"event\">\n",
       " <div class=\"event-date\"><i class=\"fa fa-calendar\"></i> <span class=\"day\">lundi 14</span> <span class=\"month\">janv.</span></div>\n",
       " <div class=\"event-hour\"><i class=\"fa fa-clock-o\"></i> 18:30</div>\n",
       " <div class=\"event-place\"><i class=\"fa fa-map-marker\"></i>\n",
       "                                                                     Salle Gérard Philipe                                                                     -                                                                     Rabat                                                                </div>\n",
       " </div>\n",
       " </div>, <div class=\"col-md-12\">\n",
       " <div class=\"event\">\n",
       " <div class=\"event-date\"><i class=\"fa fa-calendar\"></i> <span class=\"day\">jeudi 17</span> <span class=\"month\">janv.</span></div>\n",
       " <div class=\"event-hour\"><i class=\"fa fa-clock-o\"></i> 20:00</div>\n",
       " <div class=\"event-place\"><i class=\"fa fa-map-marker\"></i>\n",
       "                                                                     Cinéma Renaissance                                                                     -                                                                     Rabat                                                                </div>\n",
       " </div>\n",
       " </div>]"
      ]
     },
     "execution_count": 9,
     "metadata": {},
     "output_type": "execute_result"
    }
   ],
   "source": [
    "events"
   ]
  },
  {
   "cell_type": "code",
   "execution_count": 10,
   "metadata": {},
   "outputs": [
    {
     "data": {
      "text/plain": [
       "3"
      ]
     },
     "execution_count": 10,
     "metadata": {},
     "output_type": "execute_result"
    }
   ],
   "source": [
    "len(events)"
   ]
  },
  {
   "cell_type": "code",
   "execution_count": 15,
   "metadata": {},
   "outputs": [
    {
     "name": "stdout",
     "output_type": "stream",
     "text": [
      " dimanche 13 janv.\n",
      " 18:30\n",
      "\n",
      "                                                                    Salle Gérard Philipe                                                                     -                                                                     Rabat                                                                \n",
      " lundi 14 janv.\n",
      " 18:30\n",
      "\n",
      "                                                                    Salle Gérard Philipe                                                                     -                                                                     Rabat                                                                \n",
      " jeudi 17 janv.\n",
      " 20:00\n",
      "\n",
      "                                                                    Cinéma Renaissance                                                                     -                                                                     Rabat                                                                \n"
     ]
    }
   ],
   "source": [
    "for i in events:\n",
    "    print(i.find('div',class_='event-date').text)\n",
    "    print(i.find('div',class_='event-hour').text)\n",
    "    print(i.find('div',class_='event-place').text)"
   ]
  },
  {
   "cell_type": "code",
   "execution_count": null,
   "metadata": {},
   "outputs": [],
   "source": []
  }
 ],
 "metadata": {
  "kernelspec": {
   "display_name": "Python 3",
   "language": "python",
   "name": "python3"
  },
  "language_info": {
   "codemirror_mode": {
    "name": "ipython",
    "version": 3
   },
   "file_extension": ".py",
   "mimetype": "text/x-python",
   "name": "python",
   "nbconvert_exporter": "python",
   "pygments_lexer": "ipython3",
   "version": "3.6.1"
  }
 },
 "nbformat": 4,
 "nbformat_minor": 2
}
