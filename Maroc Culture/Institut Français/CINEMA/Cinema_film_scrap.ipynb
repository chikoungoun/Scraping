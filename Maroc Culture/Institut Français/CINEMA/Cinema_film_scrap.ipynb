{
 "cells": [
  {
   "cell_type": "markdown",
   "metadata": {},
   "source": [
    "# Scraping de tous les films actuels (seulement les premières place et dates)"
   ]
  },
  {
   "cell_type": "code",
   "execution_count": 1,
   "metadata": {},
   "outputs": [
    {
     "data": {
      "text/plain": [
       "<Response [200]>"
      ]
     },
     "execution_count": 1,
     "metadata": {},
     "output_type": "execute_result"
    }
   ],
   "source": [
    "import requests\n",
    "\n",
    "url = 'https://if-maroc.org/rabat/film/'\n",
    "response = requests.get(url)\n",
    "response"
   ]
  },
  {
   "cell_type": "code",
   "execution_count": 2,
   "metadata": {},
   "outputs": [
    {
     "name": "stdout",
     "output_type": "stream",
     "text": [
      "\n",
      "<!DOCTYPE html>\n",
      "<html lang=\"fr-FR\" prefix=\"og: http://ogp.me/ns#\" class=\"no-js\">\n",
      "    <head>\n",
      "       \n"
     ]
    }
   ],
   "source": [
    "print(response.text[:100])"
   ]
  },
  {
   "cell_type": "code",
   "execution_count": 3,
   "metadata": {},
   "outputs": [
    {
     "data": {
      "text/plain": [
       "bs4.BeautifulSoup"
      ]
     },
     "execution_count": 3,
     "metadata": {},
     "output_type": "execute_result"
    }
   ],
   "source": [
    "from bs4 import BeautifulSoup\n",
    "\n",
    "soup = BeautifulSoup(response.text,'html.parser')\n",
    "type(soup)"
   ]
  },
  {
   "cell_type": "code",
   "execution_count": 7,
   "metadata": {},
   "outputs": [],
   "source": [
    "grille_spectacles = soup.find(\"section\",class_=\"section latest archive\")"
   ]
  },
  {
   "cell_type": "code",
   "execution_count": 8,
   "metadata": {},
   "outputs": [
    {
     "data": {
      "text/plain": [
       "<section class=\"section latest archive\">\n",
       "<div class=\"row\">\n",
       "<div class=\"col-md-12\">\n",
       "<div class=\"section-title\">\n",
       "<h2>Films</h2>\n",
       "</div>\n",
       "</div>\n",
       "<article class=\"col-md-4\">\n",
       "<div class=\"post\">\n",
       "<div class=\"post_thumbnail\">\n",
       "<a href=\"https://if-maroc.org/rabat/film/cinema-la-source/\" title=\"CINÉMA / LA SOURCE\">\n",
       "<img src=\"https://if-maroc.org/rabat/wp-content/uploads/sites/18/2019/09/190716_rodolphelaugalasourcecritique-1-360x204.jpg\"/> </a>\n",
       "</div>\n",
       "<div class=\"post-title\">\n",
       "<h3><a href=\"https://if-maroc.org/rabat/film/cinema-la-source/\" title=\"CINÉMA / LA SOURCE\">CINÉMA / LA SOURCE</a></h3>\n",
       "</div>\n",
       "<div class=\"post-excerpt\"><p>Samir vit dans une cité populaire, en banlieue d’une grande ville de province. Entre l’ennui et les petits coups foireux pour tuer le temps avec les potes, son père le forme à la plomberie. Quand celui-ci décède brutalement, Samir n’a plus d’autre choix que de reprendre l’entreprise familiale pour subvenir aux besoins de sa mère […]</p>\n",
       "</div>\n",
       "<div class=\"post-info\"><span class=\"post-date\">Cinéma / 6,7 et 8 octobre</span><span class=\"post-author\">Rabat</span></div> </div>\n",
       "</article>\n",
       "<article class=\"col-md-4\">\n",
       "<div class=\"post\">\n",
       "<div class=\"post_thumbnail\">\n",
       "<a href=\"https://if-maroc.org/rabat/film/cinema-parasite/\" title=\"CINÉMA / PARASITE\">\n",
       "<img src=\"https://if-maroc.org/rabat/wp-content/uploads/sites/18/2019/09/parasite-2-1450x800-c-1-360x204.jpg\"/> </a>\n",
       "</div>\n",
       "<div class=\"post-title\">\n",
       "<h3><a href=\"https://if-maroc.org/rabat/film/cinema-parasite/\" title=\"CINÉMA / PARASITE\">CINÉMA / PARASITE</a></h3>\n",
       "</div>\n",
       "<div class=\"post-excerpt\"><p>Toute la famille de Ki-taek est au chômage, et s’intéresse fortement au train de vie de la richissime famille Park. Un jour, leur fils réussit à se faire recommander pour donner des cours particuliers d’anglais chez les Park. C’est le début d’un engrenage incontrôlable, dont personne ne sortira véritablement indemne… Palme d’or – Festival de […]</p>\n",
       "</div>\n",
       "<div class=\"post-info\"><span class=\"post-date\">Cinéma / 29, 30 septembre et 1er octobre</span><span class=\"post-author\">Rabat</span></div> </div>\n",
       "</article>\n",
       "<article class=\"col-md-4\">\n",
       "<div class=\"post\">\n",
       "<div class=\"post_thumbnail\">\n",
       "<a href=\"https://if-maroc.org/rabat/film/le-daim/\" title=\"LE DAIM\">\n",
       "<img src=\"https://if-maroc.org/rabat/wp-content/uploads/sites/18/2019/09/19039124lpw-19044093-libre-jpg_6298766-360x204.jpg\"/> </a>\n",
       "</div>\n",
       "<div class=\"post-title\">\n",
       "<h3><a href=\"https://if-maroc.org/rabat/film/le-daim/\" title=\"LE DAIM\">LE DAIM</a></h3>\n",
       "</div>\n",
       "<div class=\"post-excerpt\"><p>  Georges, 44 ans, et son blouson, 100% daim, ont un projet.</p>\n",
       "</div>\n",
       "<div class=\"post-info\"><span class=\"post-date\">Cinéma / 22, 23 et 24 septembre</span><span class=\"post-author\">Rabat</span></div> </div>\n",
       "</article>\n",
       "</div><div class=\"row\">\n",
       "<article class=\"col-md-4\">\n",
       "<div class=\"post\">\n",
       "<div class=\"post_thumbnail\">\n",
       "<a href=\"https://if-maroc.org/rabat/film/yves/\" title=\"YVES\">\n",
       "<img src=\"https://if-maroc.org/rabat/wp-content/uploads/sites/18/2019/09/1f555b6_piqtedy77c3nrshftexantbg-360x204.jpg\"/> </a>\n",
       "</div>\n",
       "<div class=\"post-title\">\n",
       "<h3><a href=\"https://if-maroc.org/rabat/film/yves/\" title=\"YVES\">YVES</a></h3>\n",
       "</div>\n",
       "<div class=\"post-excerpt\"><p>Jérem s’installe dans la maison de sa mémé pour y composer son premier disque. Il y fait la rencontre de So, mystérieuse enquêtrice pour le compte de la start-up Digital Cool. Elle le persuade de prendre à l’essai Yves, un réfrigérateur intelligent, censé lui simplifier la vie…  </p>\n",
       "</div>\n",
       "<div class=\"post-info\"><span class=\"post-date\">Cinéma / 8, 9 et 10 septembre</span><span class=\"post-author\">Rabat</span></div> </div>\n",
       "</article>\n",
       "<article class=\"col-md-4\">\n",
       "<div class=\"post\">\n",
       "<div class=\"post_thumbnail\">\n",
       "<a href=\"https://if-maroc.org/rabat/film/le-jeune-ahmed/\" title=\"LE JEUNE AHMED\">\n",
       "<img src=\"https://if-maroc.org/rabat/wp-content/uploads/sites/18/2019/09/telechargement.jpg\"/> </a>\n",
       "</div>\n",
       "<div class=\"post-title\">\n",
       "<h3><a href=\"https://if-maroc.org/rabat/film/le-jeune-ahmed/\" title=\"LE JEUNE AHMED\">LE JEUNE AHMED</a></h3>\n",
       "</div>\n",
       "<div class=\"post-excerpt\"><p>En Belgique, aujourd’hui, le destin du Jeune Ahmed, 13 ans, pris entre les idéaux de pureté de son imam et les appels de la vie.</p>\n",
       "</div>\n",
       "<div class=\"post-info\"><span class=\"post-date\">Cinéma / 15, 16 et 17 septembre</span><span class=\"post-author\">Rabat</span></div> </div>\n",
       "</article>\n",
       "<article class=\"col-md-4\">\n",
       "<div class=\"post\">\n",
       "<div class=\"post_thumbnail\">\n",
       "<a href=\"https://if-maroc.org/rabat/film/tel-aviv-on-fire/\" title=\"TEL AVIV ON FIRE\">\n",
       "<img src=\"https://if-maroc.org/rabat/wp-content/uploads/sites/18/2019/06/tel-aviv-on-fire-photo-tel-aviv-on-fire-1080699-360x204.jpg\"/> </a>\n",
       "</div>\n",
       "<div class=\"post-title\">\n",
       "<h3><a href=\"https://if-maroc.org/rabat/film/tel-aviv-on-fire/\" title=\"TEL AVIV ON FIRE\">TEL AVIV ON FIRE</a></h3>\n",
       "</div>\n",
       "<div class=\"post-excerpt\"><p>Salam, 30 ans, vit à Jérusalem. Il est Palestinien et stagiaire sur le tournage de la série arabe à succès Tel Aviv on Fire ! Tous les matins, il traverse le même check-point pour aller travailler à Ramallah.  Un jour, Salam se fait arrêter par un officier israélien, Assi, fan de la série, et pour s’en sortir, il prétend en […]</p>\n",
       "</div>\n",
       "<div class=\"post-info\"><span class=\"post-date\">Cinéma / 23, 24, 27 juin</span><span class=\"post-author\">Rabat</span></div> </div>\n",
       "</article>\n",
       "</div><div class=\"row\">\n",
       "<article class=\"col-md-4\">\n",
       "<div class=\"post\">\n",
       "<div class=\"post_thumbnail\">\n",
       "<a href=\"https://if-maroc.org/rabat/film/grace-a-dieu/\" title=\"GRÂCE Á DIEU\">\n",
       "<img src=\"https://if-maroc.org/rabat/wp-content/uploads/sites/18/2019/06/b9718622259z-1_20190218130432_000gsdd0iejm-1-0-360x204.jpg\"/> </a>\n",
       "</div>\n",
       "<div class=\"post-title\">\n",
       "<h3><a href=\"https://if-maroc.org/rabat/film/grace-a-dieu/\" title=\"GRÂCE Á DIEU\">GRÂCE Á DIEU</a></h3>\n",
       "</div>\n",
       "<div class=\"post-excerpt\"><p>Drame de François Ozon, avec Melvil Poupaud, Denis Mélochet, Swann Arlaud / 2h17 Alexandre vit à Lyon avec sa femme et ses enfants. Un jour, il découvre par hasard que le prêtre qui a abusé de lui aux scouts officie toujours auprès d’enfants. Il se lance alors dans un combat, très vite rejoint par François et […]</p>\n",
       "</div>\n",
       "<div class=\"post-info\"><span class=\"post-date\">Cinéma / 18 juin</span><span class=\"post-author\">Rabat / Cinéma Renaissance</span></div> </div>\n",
       "</article>\n",
       "<article class=\"col-md-4\">\n",
       "<div class=\"post\">\n",
       "<div class=\"post_thumbnail\">\n",
       "<a href=\"https://if-maroc.org/rabat/film/kabullywood/\" title=\"KABULLYWOOD\">\n",
       "<img src=\"https://if-maroc.org/rabat/wp-content/uploads/sites/18/2019/05/8004999_0cb60c08-296f-11e9-8fe8-6d1c30375965-1_1000x625-360x204.jpg\"/> </a>\n",
       "</div>\n",
       "<div class=\"post-title\">\n",
       "<h3><a href=\"https://if-maroc.org/rabat/film/kabullywood/\" title=\"KABULLYWOOD\">KABULLYWOOD</a></h3>\n",
       "</div>\n",
       "<div class=\"post-excerpt\"><p>A Kaboul en Afghanistan, quatre étudiants assoiffés de vie décident d’accomplir un projet audacieux : rénover un cinéma abandonné, qui a miraculeusement survécu à 30 ans de guerre. Comme un acte de résistance contre le fondamentalisme des talibans, ils vont aller au bout de leur rêve pour la liberté, la culture, le cinéma… Remi d’argent au […]</p>\n",
       "</div>\n",
       "<div class=\"post-info\"><span class=\"post-date\">Cinéma 9, 10 et 13 juin </span><span class=\"post-author\">Rabat</span></div> </div>\n",
       "</article>\n",
       "<article class=\"col-md-4\">\n",
       "<div class=\"post\">\n",
       "<div class=\"post_thumbnail\">\n",
       "<a href=\"https://if-maroc.org/rabat/film/la-lutte-des-classes/\" title=\"LA LUTTE DES CLASSES\">\n",
       "<img src=\"https://if-maroc.org/rabat/wp-content/uploads/sites/18/2019/05/la-lutte-des-classes-360x204.jpg\"/> </a>\n",
       "</div>\n",
       "<div class=\"post-title\">\n",
       "<h3><a href=\"https://if-maroc.org/rabat/film/la-lutte-des-classes/\" title=\"LA LUTTE DES CLASSES\">LA LUTTE DES CLASSES</a></h3>\n",
       "</div>\n",
       "<div class=\"post-excerpt\"><p>  Sofia et Paul emménagent dans une petite maison de banlieue. Elle, brillante avocate d’origine magrébine, a grandi dans une cité proche. Lui, batteur punk-rock et anar dans l’âme, cultive un manque d’ambition qui force le respect ! Comme tous les parents, ils veulent le meilleur pour leur fils Corentin, élève à Jean Jaurès, l’école primaire du quartier. Mais […]</p>\n",
       "</div>\n",
       "<div class=\"post-info\"><span class=\"post-date\">Cinéma / 2, 3 et 6 juin</span><span class=\"post-author\">Rabat</span></div> </div>\n",
       "</article>\n",
       "</div><div class=\"row\">\n",
       "<article class=\"col-md-4\">\n",
       "<div class=\"post\">\n",
       "<div class=\"post_thumbnail\">\n",
       "<a href=\"https://if-maroc.org/rabat/film/chamboultout/\" title=\"CHAMBOULTOUT\">\n",
       "<img src=\"https://if-maroc.org/rabat/wp-content/uploads/sites/18/2019/05/8045676_webressources-2019-02-14-chamboultout-01736_1000x625-360x204.jpg\"/> </a>\n",
       "</div>\n",
       "<div class=\"post-title\">\n",
       "<h3><a href=\"https://if-maroc.org/rabat/film/chamboultout/\" title=\"CHAMBOULTOUT\">CHAMBOULTOUT</a></h3>\n",
       "</div>\n",
       "<div class=\"post-excerpt\"><p>Béatrice célèbre avec les siens la sortie de son livre, dans lequel elle raconte l’accident de son mari qui a bouleversé leur vie. Frédéric a perdu la vue et ne peut s’empêcher de dire tout ce qu’il pense : c’est devenu un homme imprévisible et sans filtre bien que toujours aussi drôle et séduisant. Mais ce […]</p>\n",
       "</div>\n",
       "<div class=\"post-info\"><span class=\"post-date\">Cinéma / 26,27 et 30 mai</span><span class=\"post-author\">Rabat</span></div> </div>\n",
       "</article>\n",
       "</div>\n",
       "</section>"
      ]
     },
     "execution_count": 8,
     "metadata": {},
     "output_type": "execute_result"
    }
   ],
   "source": [
    "grille_spectacles"
   ]
  },
  {
   "cell_type": "code",
   "execution_count": 9,
   "metadata": {},
   "outputs": [],
   "source": [
    "spectacles = grille_spectacles.find_all('div',class_=\"post\")"
   ]
  },
  {
   "cell_type": "code",
   "execution_count": 10,
   "metadata": {},
   "outputs": [
    {
     "data": {
      "text/plain": [
       "[<div class=\"post\">\n",
       " <div class=\"post_thumbnail\">\n",
       " <a href=\"https://if-maroc.org/rabat/film/cinema-la-source/\" title=\"CINÉMA / LA SOURCE\">\n",
       " <img src=\"https://if-maroc.org/rabat/wp-content/uploads/sites/18/2019/09/190716_rodolphelaugalasourcecritique-1-360x204.jpg\"/> </a>\n",
       " </div>\n",
       " <div class=\"post-title\">\n",
       " <h3><a href=\"https://if-maroc.org/rabat/film/cinema-la-source/\" title=\"CINÉMA / LA SOURCE\">CINÉMA / LA SOURCE</a></h3>\n",
       " </div>\n",
       " <div class=\"post-excerpt\"><p>Samir vit dans une cité populaire, en banlieue d’une grande ville de province. Entre l’ennui et les petits coups foireux pour tuer le temps avec les potes, son père le forme à la plomberie. Quand celui-ci décède brutalement, Samir n’a plus d’autre choix que de reprendre l’entreprise familiale pour subvenir aux besoins de sa mère […]</p>\n",
       " </div>\n",
       " <div class=\"post-info\"><span class=\"post-date\">Cinéma / 6,7 et 8 octobre</span><span class=\"post-author\">Rabat</span></div> </div>,\n",
       " <div class=\"post\">\n",
       " <div class=\"post_thumbnail\">\n",
       " <a href=\"https://if-maroc.org/rabat/film/cinema-parasite/\" title=\"CINÉMA / PARASITE\">\n",
       " <img src=\"https://if-maroc.org/rabat/wp-content/uploads/sites/18/2019/09/parasite-2-1450x800-c-1-360x204.jpg\"/> </a>\n",
       " </div>\n",
       " <div class=\"post-title\">\n",
       " <h3><a href=\"https://if-maroc.org/rabat/film/cinema-parasite/\" title=\"CINÉMA / PARASITE\">CINÉMA / PARASITE</a></h3>\n",
       " </div>\n",
       " <div class=\"post-excerpt\"><p>Toute la famille de Ki-taek est au chômage, et s’intéresse fortement au train de vie de la richissime famille Park. Un jour, leur fils réussit à se faire recommander pour donner des cours particuliers d’anglais chez les Park. C’est le début d’un engrenage incontrôlable, dont personne ne sortira véritablement indemne… Palme d’or – Festival de […]</p>\n",
       " </div>\n",
       " <div class=\"post-info\"><span class=\"post-date\">Cinéma / 29, 30 septembre et 1er octobre</span><span class=\"post-author\">Rabat</span></div> </div>,\n",
       " <div class=\"post\">\n",
       " <div class=\"post_thumbnail\">\n",
       " <a href=\"https://if-maroc.org/rabat/film/le-daim/\" title=\"LE DAIM\">\n",
       " <img src=\"https://if-maroc.org/rabat/wp-content/uploads/sites/18/2019/09/19039124lpw-19044093-libre-jpg_6298766-360x204.jpg\"/> </a>\n",
       " </div>\n",
       " <div class=\"post-title\">\n",
       " <h3><a href=\"https://if-maroc.org/rabat/film/le-daim/\" title=\"LE DAIM\">LE DAIM</a></h3>\n",
       " </div>\n",
       " <div class=\"post-excerpt\"><p>  Georges, 44 ans, et son blouson, 100% daim, ont un projet.</p>\n",
       " </div>\n",
       " <div class=\"post-info\"><span class=\"post-date\">Cinéma / 22, 23 et 24 septembre</span><span class=\"post-author\">Rabat</span></div> </div>,\n",
       " <div class=\"post\">\n",
       " <div class=\"post_thumbnail\">\n",
       " <a href=\"https://if-maroc.org/rabat/film/yves/\" title=\"YVES\">\n",
       " <img src=\"https://if-maroc.org/rabat/wp-content/uploads/sites/18/2019/09/1f555b6_piqtedy77c3nrshftexantbg-360x204.jpg\"/> </a>\n",
       " </div>\n",
       " <div class=\"post-title\">\n",
       " <h3><a href=\"https://if-maroc.org/rabat/film/yves/\" title=\"YVES\">YVES</a></h3>\n",
       " </div>\n",
       " <div class=\"post-excerpt\"><p>Jérem s’installe dans la maison de sa mémé pour y composer son premier disque. Il y fait la rencontre de So, mystérieuse enquêtrice pour le compte de la start-up Digital Cool. Elle le persuade de prendre à l’essai Yves, un réfrigérateur intelligent, censé lui simplifier la vie…  </p>\n",
       " </div>\n",
       " <div class=\"post-info\"><span class=\"post-date\">Cinéma / 8, 9 et 10 septembre</span><span class=\"post-author\">Rabat</span></div> </div>,\n",
       " <div class=\"post\">\n",
       " <div class=\"post_thumbnail\">\n",
       " <a href=\"https://if-maroc.org/rabat/film/le-jeune-ahmed/\" title=\"LE JEUNE AHMED\">\n",
       " <img src=\"https://if-maroc.org/rabat/wp-content/uploads/sites/18/2019/09/telechargement.jpg\"/> </a>\n",
       " </div>\n",
       " <div class=\"post-title\">\n",
       " <h3><a href=\"https://if-maroc.org/rabat/film/le-jeune-ahmed/\" title=\"LE JEUNE AHMED\">LE JEUNE AHMED</a></h3>\n",
       " </div>\n",
       " <div class=\"post-excerpt\"><p>En Belgique, aujourd’hui, le destin du Jeune Ahmed, 13 ans, pris entre les idéaux de pureté de son imam et les appels de la vie.</p>\n",
       " </div>\n",
       " <div class=\"post-info\"><span class=\"post-date\">Cinéma / 15, 16 et 17 septembre</span><span class=\"post-author\">Rabat</span></div> </div>,\n",
       " <div class=\"post\">\n",
       " <div class=\"post_thumbnail\">\n",
       " <a href=\"https://if-maroc.org/rabat/film/tel-aviv-on-fire/\" title=\"TEL AVIV ON FIRE\">\n",
       " <img src=\"https://if-maroc.org/rabat/wp-content/uploads/sites/18/2019/06/tel-aviv-on-fire-photo-tel-aviv-on-fire-1080699-360x204.jpg\"/> </a>\n",
       " </div>\n",
       " <div class=\"post-title\">\n",
       " <h3><a href=\"https://if-maroc.org/rabat/film/tel-aviv-on-fire/\" title=\"TEL AVIV ON FIRE\">TEL AVIV ON FIRE</a></h3>\n",
       " </div>\n",
       " <div class=\"post-excerpt\"><p>Salam, 30 ans, vit à Jérusalem. Il est Palestinien et stagiaire sur le tournage de la série arabe à succès Tel Aviv on Fire ! Tous les matins, il traverse le même check-point pour aller travailler à Ramallah.  Un jour, Salam se fait arrêter par un officier israélien, Assi, fan de la série, et pour s’en sortir, il prétend en […]</p>\n",
       " </div>\n",
       " <div class=\"post-info\"><span class=\"post-date\">Cinéma / 23, 24, 27 juin</span><span class=\"post-author\">Rabat</span></div> </div>,\n",
       " <div class=\"post\">\n",
       " <div class=\"post_thumbnail\">\n",
       " <a href=\"https://if-maroc.org/rabat/film/grace-a-dieu/\" title=\"GRÂCE Á DIEU\">\n",
       " <img src=\"https://if-maroc.org/rabat/wp-content/uploads/sites/18/2019/06/b9718622259z-1_20190218130432_000gsdd0iejm-1-0-360x204.jpg\"/> </a>\n",
       " </div>\n",
       " <div class=\"post-title\">\n",
       " <h3><a href=\"https://if-maroc.org/rabat/film/grace-a-dieu/\" title=\"GRÂCE Á DIEU\">GRÂCE Á DIEU</a></h3>\n",
       " </div>\n",
       " <div class=\"post-excerpt\"><p>Drame de François Ozon, avec Melvil Poupaud, Denis Mélochet, Swann Arlaud / 2h17 Alexandre vit à Lyon avec sa femme et ses enfants. Un jour, il découvre par hasard que le prêtre qui a abusé de lui aux scouts officie toujours auprès d’enfants. Il se lance alors dans un combat, très vite rejoint par François et […]</p>\n",
       " </div>\n",
       " <div class=\"post-info\"><span class=\"post-date\">Cinéma / 18 juin</span><span class=\"post-author\">Rabat / Cinéma Renaissance</span></div> </div>,\n",
       " <div class=\"post\">\n",
       " <div class=\"post_thumbnail\">\n",
       " <a href=\"https://if-maroc.org/rabat/film/kabullywood/\" title=\"KABULLYWOOD\">\n",
       " <img src=\"https://if-maroc.org/rabat/wp-content/uploads/sites/18/2019/05/8004999_0cb60c08-296f-11e9-8fe8-6d1c30375965-1_1000x625-360x204.jpg\"/> </a>\n",
       " </div>\n",
       " <div class=\"post-title\">\n",
       " <h3><a href=\"https://if-maroc.org/rabat/film/kabullywood/\" title=\"KABULLYWOOD\">KABULLYWOOD</a></h3>\n",
       " </div>\n",
       " <div class=\"post-excerpt\"><p>A Kaboul en Afghanistan, quatre étudiants assoiffés de vie décident d’accomplir un projet audacieux : rénover un cinéma abandonné, qui a miraculeusement survécu à 30 ans de guerre. Comme un acte de résistance contre le fondamentalisme des talibans, ils vont aller au bout de leur rêve pour la liberté, la culture, le cinéma… Remi d’argent au […]</p>\n",
       " </div>\n",
       " <div class=\"post-info\"><span class=\"post-date\">Cinéma 9, 10 et 13 juin </span><span class=\"post-author\">Rabat</span></div> </div>,\n",
       " <div class=\"post\">\n",
       " <div class=\"post_thumbnail\">\n",
       " <a href=\"https://if-maroc.org/rabat/film/la-lutte-des-classes/\" title=\"LA LUTTE DES CLASSES\">\n",
       " <img src=\"https://if-maroc.org/rabat/wp-content/uploads/sites/18/2019/05/la-lutte-des-classes-360x204.jpg\"/> </a>\n",
       " </div>\n",
       " <div class=\"post-title\">\n",
       " <h3><a href=\"https://if-maroc.org/rabat/film/la-lutte-des-classes/\" title=\"LA LUTTE DES CLASSES\">LA LUTTE DES CLASSES</a></h3>\n",
       " </div>\n",
       " <div class=\"post-excerpt\"><p>  Sofia et Paul emménagent dans une petite maison de banlieue. Elle, brillante avocate d’origine magrébine, a grandi dans une cité proche. Lui, batteur punk-rock et anar dans l’âme, cultive un manque d’ambition qui force le respect ! Comme tous les parents, ils veulent le meilleur pour leur fils Corentin, élève à Jean Jaurès, l’école primaire du quartier. Mais […]</p>\n",
       " </div>\n",
       " <div class=\"post-info\"><span class=\"post-date\">Cinéma / 2, 3 et 6 juin</span><span class=\"post-author\">Rabat</span></div> </div>,\n",
       " <div class=\"post\">\n",
       " <div class=\"post_thumbnail\">\n",
       " <a href=\"https://if-maroc.org/rabat/film/chamboultout/\" title=\"CHAMBOULTOUT\">\n",
       " <img src=\"https://if-maroc.org/rabat/wp-content/uploads/sites/18/2019/05/8045676_webressources-2019-02-14-chamboultout-01736_1000x625-360x204.jpg\"/> </a>\n",
       " </div>\n",
       " <div class=\"post-title\">\n",
       " <h3><a href=\"https://if-maroc.org/rabat/film/chamboultout/\" title=\"CHAMBOULTOUT\">CHAMBOULTOUT</a></h3>\n",
       " </div>\n",
       " <div class=\"post-excerpt\"><p>Béatrice célèbre avec les siens la sortie de son livre, dans lequel elle raconte l’accident de son mari qui a bouleversé leur vie. Frédéric a perdu la vue et ne peut s’empêcher de dire tout ce qu’il pense : c’est devenu un homme imprévisible et sans filtre bien que toujours aussi drôle et séduisant. Mais ce […]</p>\n",
       " </div>\n",
       " <div class=\"post-info\"><span class=\"post-date\">Cinéma / 26,27 et 30 mai</span><span class=\"post-author\">Rabat</span></div> </div>]"
      ]
     },
     "execution_count": 10,
     "metadata": {},
     "output_type": "execute_result"
    }
   ],
   "source": [
    "spectacles"
   ]
  },
  {
   "cell_type": "code",
   "execution_count": 11,
   "metadata": {},
   "outputs": [
    {
     "data": {
      "text/plain": [
       "10"
      ]
     },
     "execution_count": 11,
     "metadata": {},
     "output_type": "execute_result"
    }
   ],
   "source": [
    "len(spectacles)"
   ]
  },
  {
   "cell_type": "markdown",
   "metadata": {},
   "source": [
    "### Scraping des noms"
   ]
  },
  {
   "cell_type": "code",
   "execution_count": 13,
   "metadata": {},
   "outputs": [
    {
     "name": "stdout",
     "output_type": "stream",
     "text": [
      "CINÉMA / LA SOURCE\n",
      "CINÉMA / PARASITE\n",
      "LE DAIM\n",
      "YVES\n",
      "LE JEUNE AHMED\n",
      "TEL AVIV ON FIRE\n",
      "GRÂCE Á DIEU\n",
      "KABULLYWOOD\n",
      "LA LUTTE DES CLASSES\n",
      "CHAMBOULTOUT\n"
     ]
    }
   ],
   "source": [
    "noms = []\n",
    "for i in spectacles:\n",
    "    print((i.find('div',class_='post-title').text).strip())\n",
    "    noms.append((i.find('div',class_='post-title').text).strip())"
   ]
  },
  {
   "cell_type": "code",
   "execution_count": 14,
   "metadata": {},
   "outputs": [
    {
     "data": {
      "text/plain": [
       "['CINÉMA / LA SOURCE',\n",
       " 'CINÉMA / PARASITE',\n",
       " 'LE DAIM',\n",
       " 'YVES',\n",
       " 'LE JEUNE AHMED',\n",
       " 'TEL AVIV ON FIRE',\n",
       " 'GRÂCE Á DIEU',\n",
       " 'KABULLYWOOD',\n",
       " 'LA LUTTE DES CLASSES',\n",
       " 'CHAMBOULTOUT']"
      ]
     },
     "execution_count": 14,
     "metadata": {},
     "output_type": "execute_result"
    }
   ],
   "source": [
    "noms"
   ]
  },
  {
   "cell_type": "markdown",
   "metadata": {},
   "source": [
    "### Scraping des liens"
   ]
  },
  {
   "cell_type": "code",
   "execution_count": 15,
   "metadata": {},
   "outputs": [
    {
     "name": "stdout",
     "output_type": "stream",
     "text": [
      "https://if-maroc.org/rabat/film/cinema-la-source/\n",
      "https://if-maroc.org/rabat/film/cinema-parasite/\n",
      "https://if-maroc.org/rabat/film/le-daim/\n",
      "https://if-maroc.org/rabat/film/yves/\n",
      "https://if-maroc.org/rabat/film/le-jeune-ahmed/\n",
      "https://if-maroc.org/rabat/film/tel-aviv-on-fire/\n",
      "https://if-maroc.org/rabat/film/grace-a-dieu/\n",
      "https://if-maroc.org/rabat/film/kabullywood/\n",
      "https://if-maroc.org/rabat/film/la-lutte-des-classes/\n",
      "https://if-maroc.org/rabat/film/chamboultout/\n"
     ]
    }
   ],
   "source": [
    "liens = []\n",
    "for i in spectacles:\n",
    "    link = i.find('a')\n",
    "    print(link.get('href'))\n",
    "    liens.append(link.get('href'))\n",
    "    "
   ]
  },
  {
   "cell_type": "markdown",
   "metadata": {},
   "source": [
    "### Scraping des images"
   ]
  },
  {
   "cell_type": "code",
   "execution_count": 16,
   "metadata": {},
   "outputs": [
    {
     "name": "stdout",
     "output_type": "stream",
     "text": [
      "https://if-maroc.org/rabat/wp-content/uploads/sites/18/2019/09/190716_rodolphelaugalasourcecritique-1-360x204.jpg\n",
      "https://if-maroc.org/rabat/wp-content/uploads/sites/18/2019/09/parasite-2-1450x800-c-1-360x204.jpg\n",
      "https://if-maroc.org/rabat/wp-content/uploads/sites/18/2019/09/19039124lpw-19044093-libre-jpg_6298766-360x204.jpg\n",
      "https://if-maroc.org/rabat/wp-content/uploads/sites/18/2019/09/1f555b6_piqtedy77c3nrshftexantbg-360x204.jpg\n",
      "https://if-maroc.org/rabat/wp-content/uploads/sites/18/2019/09/telechargement.jpg\n",
      "https://if-maroc.org/rabat/wp-content/uploads/sites/18/2019/06/tel-aviv-on-fire-photo-tel-aviv-on-fire-1080699-360x204.jpg\n",
      "https://if-maroc.org/rabat/wp-content/uploads/sites/18/2019/06/b9718622259z-1_20190218130432_000gsdd0iejm-1-0-360x204.jpg\n",
      "https://if-maroc.org/rabat/wp-content/uploads/sites/18/2019/05/8004999_0cb60c08-296f-11e9-8fe8-6d1c30375965-1_1000x625-360x204.jpg\n",
      "https://if-maroc.org/rabat/wp-content/uploads/sites/18/2019/05/la-lutte-des-classes-360x204.jpg\n",
      "https://if-maroc.org/rabat/wp-content/uploads/sites/18/2019/05/8045676_webressources-2019-02-14-chamboultout-01736_1000x625-360x204.jpg\n"
     ]
    }
   ],
   "source": [
    "images = []\n",
    "for i in spectacles:\n",
    "    img = i.find('img')\n",
    "    print(img.get('src'))\n",
    "    images.append(img.get('src'))"
   ]
  },
  {
   "cell_type": "markdown",
   "metadata": {},
   "source": [
    "## Récupérér les dates, heures et Descriptions lien par lien"
   ]
  },
  {
   "cell_type": "code",
   "execution_count": 17,
   "metadata": {},
   "outputs": [],
   "source": [
    "from time import time\n",
    "from time import sleep\n",
    "from random import randint"
   ]
  },
  {
   "cell_type": "code",
   "execution_count": 18,
   "metadata": {},
   "outputs": [],
   "source": [
    "start_time = time()\n",
    "requests = 0"
   ]
  },
  {
   "cell_type": "code",
   "execution_count": 19,
   "metadata": {},
   "outputs": [],
   "source": [
    "from requests import get"
   ]
  },
  {
   "cell_type": "code",
   "execution_count": 20,
   "metadata": {
    "scrolled": false
   },
   "outputs": [
    {
     "name": "stdout",
     "output_type": "stream",
     "text": [
      "https://if-maroc.org/rabat/film/cinema-la-source/\n",
      "13\n",
      "https://if-maroc.org/rabat/film/cinema-parasite/\n",
      "15\n",
      "https://if-maroc.org/rabat/film/le-daim/\n",
      "14\n",
      "https://if-maroc.org/rabat/film/yves/\n",
      "13\n",
      "https://if-maroc.org/rabat/film/le-jeune-ahmed/\n",
      "14\n",
      "https://if-maroc.org/rabat/film/tel-aviv-on-fire/\n",
      "9\n",
      "https://if-maroc.org/rabat/film/grace-a-dieu/\n",
      "12\n",
      "https://if-maroc.org/rabat/film/kabullywood/\n",
      "14\n",
      "https://if-maroc.org/rabat/film/la-lutte-des-classes/\n",
      "13\n",
      "https://if-maroc.org/rabat/film/chamboultout/\n",
      "14\n",
      " *** *** Done *** *** \n"
     ]
    }
   ],
   "source": [
    "dates = []\n",
    "heures = []\n",
    "places = []\n",
    "descs = []\n",
    "\n",
    "for i in liens:\n",
    "    print(i)\n",
    "    response = get(i)\n",
    "    \n",
    "    timer = randint(8,15)\n",
    "    #pause de loop\n",
    "    print(timer)\n",
    "    sleep(timer)\n",
    "    \n",
    "    #renvoyer un warning pour les non 'status code : 200'\n",
    "    if response.status_code != 200:\n",
    "        warn('Request: {}; Status code: {}'.format(requests, response.status_code))\n",
    "            \n",
    "    #parser en BS\n",
    "    page_html = BeautifulSoup(response.text,'html.parser') \n",
    "    \n",
    "    \"\"\" date et lieu  \"\"\"\n",
    "    events = page_html.find('div',class_='event')\n",
    "    \n",
    "    #Sauter le code si on ne trouve pas les balises nécessaires\n",
    "    if events is None:\n",
    "        dates.append('NO DATE')\n",
    "        heures.append('NO HOUR')\n",
    "        places.append('NO PLACE')\n",
    "        continue    \n",
    "    \n",
    "    #date\n",
    "    date = events.find('div',class_='event-date')\n",
    "    dates.append(date.text)\n",
    "    \n",
    "    #heure\n",
    "    heure = events.find('div',class_='event-hour')\n",
    "    heures.append(heure.text)\n",
    "    \n",
    "    #place\n",
    "    place = events.find('div',class_='event-place')\n",
    "    places.append((place.text).strip())\n",
    "    \n",
    "    \"\"\" Descriptions \"\"\"\n",
    "    detail = page_html.find('div',class_='content')\n",
    "    \n",
    "    if detail is None:\n",
    "        descs.append('NO DESCRIPTION')\n",
    "        continue\n",
    "        \n",
    "    description = detail.find('p')        \n",
    "    descs.append(description.text)\n",
    "    \n",
    "    \n",
    "print(\" *** *** Done *** *** \")"
   ]
  },
  {
   "cell_type": "code",
   "execution_count": 21,
   "metadata": {},
   "outputs": [
    {
     "data": {
      "text/plain": [
       "[' dimanche 06 oct.',\n",
       " ' dimanche 29 sept.',\n",
       " ' dimanche 22 sept.',\n",
       " ' dimanche 08 sept.',\n",
       " ' dimanche 15 sept.',\n",
       " ' dimanche 23 juin',\n",
       " ' mardi 18 juin',\n",
       " ' dimanche 09 juin',\n",
       " ' dimanche 02 juin',\n",
       " ' dimanche 26 mai']"
      ]
     },
     "execution_count": 21,
     "metadata": {},
     "output_type": "execute_result"
    }
   ],
   "source": [
    "dates"
   ]
  },
  {
   "cell_type": "code",
   "execution_count": 22,
   "metadata": {},
   "outputs": [
    {
     "data": {
      "text/plain": [
       "[' 18:30',\n",
       " ' 18:30',\n",
       " ' 18:30',\n",
       " ' 18:30',\n",
       " ' 18:30',\n",
       " ' 18:30',\n",
       " ' 20:00',\n",
       " ' 18:30',\n",
       " ' 21:30',\n",
       " ' 21:30']"
      ]
     },
     "execution_count": 22,
     "metadata": {},
     "output_type": "execute_result"
    }
   ],
   "source": [
    "heures"
   ]
  },
  {
   "cell_type": "code",
   "execution_count": 23,
   "metadata": {},
   "outputs": [
    {
     "data": {
      "text/plain": [
       "['Salle Gérard Philipe                                                                     -                                                                     Rabat',\n",
       " 'Salle Gérard Philipe                                                                     -                                                                     Rabat',\n",
       " 'Salle Gérard Philipe                                                                     -                                                                     Rabat',\n",
       " 'Salle Gérard Philipe                                                                     -                                                                     Rabat',\n",
       " 'Salle Gérard Philipe                                                                     -                                                                     Rabat',\n",
       " 'Salle Gérard Philipe                                                                     -                                                                     Rabat',\n",
       " 'Cinéma Renaissance                                                                     -                                                                     Rabat',\n",
       " 'Salle Gérard Philipe                                                                     -                                                                     Rabat',\n",
       " 'Salle Gérard Philipe                                                                     -                                                                     Rabat',\n",
       " 'Salle Gérard Philipe                                                                     -                                                                     Rabat']"
      ]
     },
     "execution_count": 23,
     "metadata": {},
     "output_type": "execute_result"
    }
   ],
   "source": [
    "places"
   ]
  },
  {
   "cell_type": "markdown",
   "metadata": {},
   "source": [
    "##  Tout regrouper en une seule structure"
   ]
  },
  {
   "cell_type": "code",
   "execution_count": 24,
   "metadata": {},
   "outputs": [],
   "source": [
    "prog = []\n",
    "for i,j,k,l,m,n,o in zip(noms,dates,heures,images,liens,descs,places):\n",
    "    #Ajouter le lieu\n",
    "    t = (i,j,k,l,m,n,o)\n",
    "    prog.append(t)"
   ]
  },
  {
   "cell_type": "code",
   "execution_count": 25,
   "metadata": {},
   "outputs": [
    {
     "data": {
      "text/plain": [
       "[('CINÉMA / LA SOURCE',\n",
       "  ' dimanche 06 oct.',\n",
       "  ' 18:30',\n",
       "  'https://if-maroc.org/rabat/wp-content/uploads/sites/18/2019/09/190716_rodolphelaugalasourcecritique-1-360x204.jpg',\n",
       "  'https://if-maroc.org/rabat/film/cinema-la-source/',\n",
       "  'Samir vit dans une cité populaire, en banlieue d’une grande ville de province. Entre l’ennui et les petits coups foireux pour tuer le temps avec les potes, son père le forme à la plomberie. Quand celui-ci décède brutalement, Samir n’a plus d’autre choix que de reprendre l’entreprise familiale pour subvenir aux besoins de sa mère et de ses deux sœurs. Le destin va pourtant en décider autrement… À la médiathèque de son quartier, il a une révélation : devant une couverture de magazine représentant un surfeur, son horizon s’élargit. Son avenir est là, sous ses yeux. Dès lors, il n’aura de cesse de tout mettre en œuvre pour réaliser son rêve, à commencer par la base : apprendre à nager.',\n",
       "  'Salle Gérard Philipe                                                                     -                                                                     Rabat'),\n",
       " ('CINÉMA / PARASITE',\n",
       "  ' dimanche 29 sept.',\n",
       "  ' 18:30',\n",
       "  'https://if-maroc.org/rabat/wp-content/uploads/sites/18/2019/09/parasite-2-1450x800-c-1-360x204.jpg',\n",
       "  'https://if-maroc.org/rabat/film/cinema-parasite/',\n",
       "  'Toute la famille de Ki-taek est au chômage, et s’intéresse fortement au train de vie de la richissime famille Park. Un jour, leur fils réussit à se faire recommander pour donner des cours particuliers d’anglais chez les Park. C’est le début d’un engrenage incontrôlable, dont personne ne sortira véritablement indemne…',\n",
       "  'Salle Gérard Philipe                                                                     -                                                                     Rabat'),\n",
       " ('LE DAIM',\n",
       "  ' dimanche 22 sept.',\n",
       "  ' 18:30',\n",
       "  'https://if-maroc.org/rabat/wp-content/uploads/sites/18/2019/09/19039124lpw-19044093-libre-jpg_6298766-360x204.jpg',\n",
       "  'https://if-maroc.org/rabat/film/le-daim/',\n",
       "  '\\xa0',\n",
       "  'Salle Gérard Philipe                                                                     -                                                                     Rabat'),\n",
       " ('YVES',\n",
       "  ' dimanche 08 sept.',\n",
       "  ' 18:30',\n",
       "  'https://if-maroc.org/rabat/wp-content/uploads/sites/18/2019/09/1f555b6_piqtedy77c3nrshftexantbg-360x204.jpg',\n",
       "  'https://if-maroc.org/rabat/film/yves/',\n",
       "  'Jérem s’installe dans la maison de sa mémé pour y composer son premier disque. Il y fait la rencontre de So, mystérieuse enquêtrice pour le compte de la start-up Digital Cool. Elle le persuade de prendre à l’essai Yves, un réfrigérateur intelligent, censé lui simplifier la vie…',\n",
       "  'Salle Gérard Philipe                                                                     -                                                                     Rabat'),\n",
       " ('LE JEUNE AHMED',\n",
       "  ' dimanche 15 sept.',\n",
       "  ' 18:30',\n",
       "  'https://if-maroc.org/rabat/wp-content/uploads/sites/18/2019/09/telechargement.jpg',\n",
       "  'https://if-maroc.org/rabat/film/le-jeune-ahmed/',\n",
       "  'En Belgique, aujourd’hui, le destin du Jeune Ahmed, 13 ans, pris entre les\\nidéaux de pureté de son imam et les appels de la vie.',\n",
       "  'Salle Gérard Philipe                                                                     -                                                                     Rabat'),\n",
       " ('TEL AVIV ON FIRE',\n",
       "  ' dimanche 23 juin',\n",
       "  ' 18:30',\n",
       "  'https://if-maroc.org/rabat/wp-content/uploads/sites/18/2019/06/tel-aviv-on-fire-photo-tel-aviv-on-fire-1080699-360x204.jpg',\n",
       "  'https://if-maroc.org/rabat/film/tel-aviv-on-fire/',\n",
       "  'Salam, 30 ans, vit à Jérusalem. Il est\\xa0Palestinien et stagiaire sur le tournage de la série arabe à succès\\xa0Tel Aviv on Fire\\xa0!\\xa0Tous les matins,\\xa0il traverse le même check-point pour aller travailler à Ramallah.\\xa0 Un jour, Salam se fait arrêter par un officier israélien, Assi, fan de la série, et pour s’en sortir, il prétend en être le scénariste.\\xa0Pris à son propre piège, Salam va se voir imposer par Assi un nouveau scénario. Evidemment, rien ne se passera comme prévu.',\n",
       "  'Salle Gérard Philipe                                                                     -                                                                     Rabat'),\n",
       " ('GRÂCE Á DIEU',\n",
       "  ' mardi 18 juin',\n",
       "  ' 20:00',\n",
       "  'https://if-maroc.org/rabat/wp-content/uploads/sites/18/2019/06/b9718622259z-1_20190218130432_000gsdd0iejm-1-0-360x204.jpg',\n",
       "  'https://if-maroc.org/rabat/film/grace-a-dieu/',\n",
       "  'Drame de François Ozon, avec Melvil Poupaud, Denis Mélochet, Swann Arlaud / 2h17',\n",
       "  'Cinéma Renaissance                                                                     -                                                                     Rabat'),\n",
       " ('KABULLYWOOD',\n",
       "  ' dimanche 09 juin',\n",
       "  ' 18:30',\n",
       "  'https://if-maroc.org/rabat/wp-content/uploads/sites/18/2019/05/8004999_0cb60c08-296f-11e9-8fe8-6d1c30375965-1_1000x625-360x204.jpg',\n",
       "  'https://if-maroc.org/rabat/film/kabullywood/',\n",
       "  'A Kaboul en Afghanistan, quatre étudiants assoiffés de vie décident d’accomplir un projet audacieux\\xa0: rénover un cinéma abandonné, qui a miraculeusement survécu à 30 ans de guerre. Comme un acte de résistance contre le fondamentalisme des talibans, ils vont aller au bout de leur rêve pour la liberté, la culture, le cinéma…',\n",
       "  'Salle Gérard Philipe                                                                     -                                                                     Rabat'),\n",
       " ('LA LUTTE DES CLASSES',\n",
       "  ' dimanche 02 juin',\n",
       "  ' 21:30',\n",
       "  'https://if-maroc.org/rabat/wp-content/uploads/sites/18/2019/05/la-lutte-des-classes-360x204.jpg',\n",
       "  'https://if-maroc.org/rabat/film/la-lutte-des-classes/',\n",
       "  '\\xa0',\n",
       "  'Salle Gérard Philipe                                                                     -                                                                     Rabat'),\n",
       " ('CHAMBOULTOUT',\n",
       "  ' dimanche 26 mai',\n",
       "  ' 21:30',\n",
       "  'https://if-maroc.org/rabat/wp-content/uploads/sites/18/2019/05/8045676_webressources-2019-02-14-chamboultout-01736_1000x625-360x204.jpg',\n",
       "  'https://if-maroc.org/rabat/film/chamboultout/',\n",
       "  'Béatrice célèbre avec les siens la sortie de son livre, dans lequel elle raconte l’accident de son mari qui a bouleversé leur vie. Frédéric a perdu la vue et ne peut s’empêcher de dire tout ce qu’il pense\\xa0: c’est devenu un homme imprévisible et sans filtre bien que toujours aussi drôle et séduisant. Mais ce livre, véritable hymne-à-la-vie, va déclencher un joyeux pugilat car même si Béatrice a changé les noms, chacun de ses proches cherche à retrouver son personnage. Le groupe d’amis et la famille tanguent… mais certaines tempêtes sont salutaires.',\n",
       "  'Salle Gérard Philipe                                                                     -                                                                     Rabat')]"
      ]
     },
     "execution_count": 25,
     "metadata": {},
     "output_type": "execute_result"
    }
   ],
   "source": [
    "prog"
   ]
  },
  {
   "cell_type": "markdown",
   "metadata": {},
   "source": [
    "### Convertir en objet pandas"
   ]
  },
  {
   "cell_type": "code",
   "execution_count": 26,
   "metadata": {},
   "outputs": [],
   "source": [
    "import pandas as pd"
   ]
  },
  {
   "cell_type": "code",
   "execution_count": 27,
   "metadata": {},
   "outputs": [],
   "source": [
    "df = pd.DataFrame(prog,columns=['noms','date','heure','image','lien','description','lieu'])"
   ]
  },
  {
   "cell_type": "code",
   "execution_count": 28,
   "metadata": {},
   "outputs": [
    {
     "data": {
      "text/html": [
       "<div>\n",
       "<style>\n",
       "    .dataframe thead tr:only-child th {\n",
       "        text-align: right;\n",
       "    }\n",
       "\n",
       "    .dataframe thead th {\n",
       "        text-align: left;\n",
       "    }\n",
       "\n",
       "    .dataframe tbody tr th {\n",
       "        vertical-align: top;\n",
       "    }\n",
       "</style>\n",
       "<table border=\"1\" class=\"dataframe\">\n",
       "  <thead>\n",
       "    <tr style=\"text-align: right;\">\n",
       "      <th></th>\n",
       "      <th>noms</th>\n",
       "      <th>date</th>\n",
       "      <th>heure</th>\n",
       "      <th>image</th>\n",
       "      <th>lien</th>\n",
       "      <th>description</th>\n",
       "      <th>lieu</th>\n",
       "    </tr>\n",
       "  </thead>\n",
       "  <tbody>\n",
       "    <tr>\n",
       "      <th>0</th>\n",
       "      <td>CINÉMA / LA SOURCE</td>\n",
       "      <td>dimanche 06 oct.</td>\n",
       "      <td>18:30</td>\n",
       "      <td>https://if-maroc.org/rabat/wp-content/uploads/...</td>\n",
       "      <td>https://if-maroc.org/rabat/film/cinema-la-source/</td>\n",
       "      <td>Samir vit dans une cité populaire, en banlieu...</td>\n",
       "      <td>Salle Gérard Philipe                          ...</td>\n",
       "    </tr>\n",
       "    <tr>\n",
       "      <th>1</th>\n",
       "      <td>CINÉMA / PARASITE</td>\n",
       "      <td>dimanche 29 sept.</td>\n",
       "      <td>18:30</td>\n",
       "      <td>https://if-maroc.org/rabat/wp-content/uploads/...</td>\n",
       "      <td>https://if-maroc.org/rabat/film/cinema-parasite/</td>\n",
       "      <td>Toute la famille de Ki-taek est au chômage, et...</td>\n",
       "      <td>Salle Gérard Philipe                          ...</td>\n",
       "    </tr>\n",
       "    <tr>\n",
       "      <th>2</th>\n",
       "      <td>LE DAIM</td>\n",
       "      <td>dimanche 22 sept.</td>\n",
       "      <td>18:30</td>\n",
       "      <td>https://if-maroc.org/rabat/wp-content/uploads/...</td>\n",
       "      <td>https://if-maroc.org/rabat/film/le-daim/</td>\n",
       "      <td></td>\n",
       "      <td>Salle Gérard Philipe                          ...</td>\n",
       "    </tr>\n",
       "    <tr>\n",
       "      <th>3</th>\n",
       "      <td>YVES</td>\n",
       "      <td>dimanche 08 sept.</td>\n",
       "      <td>18:30</td>\n",
       "      <td>https://if-maroc.org/rabat/wp-content/uploads/...</td>\n",
       "      <td>https://if-maroc.org/rabat/film/yves/</td>\n",
       "      <td>Jérem s’installe dans la maison de sa mémé pou...</td>\n",
       "      <td>Salle Gérard Philipe                          ...</td>\n",
       "    </tr>\n",
       "    <tr>\n",
       "      <th>4</th>\n",
       "      <td>LE JEUNE AHMED</td>\n",
       "      <td>dimanche 15 sept.</td>\n",
       "      <td>18:30</td>\n",
       "      <td>https://if-maroc.org/rabat/wp-content/uploads/...</td>\n",
       "      <td>https://if-maroc.org/rabat/film/le-jeune-ahmed/</td>\n",
       "      <td>En Belgique, aujourd’hui, le destin du Jeune A...</td>\n",
       "      <td>Salle Gérard Philipe                          ...</td>\n",
       "    </tr>\n",
       "    <tr>\n",
       "      <th>5</th>\n",
       "      <td>TEL AVIV ON FIRE</td>\n",
       "      <td>dimanche 23 juin</td>\n",
       "      <td>18:30</td>\n",
       "      <td>https://if-maroc.org/rabat/wp-content/uploads/...</td>\n",
       "      <td>https://if-maroc.org/rabat/film/tel-aviv-on-fire/</td>\n",
       "      <td>Salam, 30 ans, vit à Jérusalem. Il est Palesti...</td>\n",
       "      <td>Salle Gérard Philipe                          ...</td>\n",
       "    </tr>\n",
       "    <tr>\n",
       "      <th>6</th>\n",
       "      <td>GRÂCE Á DIEU</td>\n",
       "      <td>mardi 18 juin</td>\n",
       "      <td>20:00</td>\n",
       "      <td>https://if-maroc.org/rabat/wp-content/uploads/...</td>\n",
       "      <td>https://if-maroc.org/rabat/film/grace-a-dieu/</td>\n",
       "      <td>Drame de François Ozon, avec Melvil Poupaud, D...</td>\n",
       "      <td>Cinéma Renaissance                            ...</td>\n",
       "    </tr>\n",
       "    <tr>\n",
       "      <th>7</th>\n",
       "      <td>KABULLYWOOD</td>\n",
       "      <td>dimanche 09 juin</td>\n",
       "      <td>18:30</td>\n",
       "      <td>https://if-maroc.org/rabat/wp-content/uploads/...</td>\n",
       "      <td>https://if-maroc.org/rabat/film/kabullywood/</td>\n",
       "      <td>A Kaboul en Afghanistan, quatre étudiants asso...</td>\n",
       "      <td>Salle Gérard Philipe                          ...</td>\n",
       "    </tr>\n",
       "    <tr>\n",
       "      <th>8</th>\n",
       "      <td>LA LUTTE DES CLASSES</td>\n",
       "      <td>dimanche 02 juin</td>\n",
       "      <td>21:30</td>\n",
       "      <td>https://if-maroc.org/rabat/wp-content/uploads/...</td>\n",
       "      <td>https://if-maroc.org/rabat/film/la-lutte-des-c...</td>\n",
       "      <td></td>\n",
       "      <td>Salle Gérard Philipe                          ...</td>\n",
       "    </tr>\n",
       "    <tr>\n",
       "      <th>9</th>\n",
       "      <td>CHAMBOULTOUT</td>\n",
       "      <td>dimanche 26 mai</td>\n",
       "      <td>21:30</td>\n",
       "      <td>https://if-maroc.org/rabat/wp-content/uploads/...</td>\n",
       "      <td>https://if-maroc.org/rabat/film/chamboultout/</td>\n",
       "      <td>Béatrice célèbre avec les siens la sortie de s...</td>\n",
       "      <td>Salle Gérard Philipe                          ...</td>\n",
       "    </tr>\n",
       "  </tbody>\n",
       "</table>\n",
       "</div>"
      ],
      "text/plain": [
       "                   noms                date   heure  \\\n",
       "0    CINÉMA / LA SOURCE    dimanche 06 oct.   18:30   \n",
       "1     CINÉMA / PARASITE   dimanche 29 sept.   18:30   \n",
       "2               LE DAIM   dimanche 22 sept.   18:30   \n",
       "3                  YVES   dimanche 08 sept.   18:30   \n",
       "4        LE JEUNE AHMED   dimanche 15 sept.   18:30   \n",
       "5      TEL AVIV ON FIRE    dimanche 23 juin   18:30   \n",
       "6          GRÂCE Á DIEU       mardi 18 juin   20:00   \n",
       "7           KABULLYWOOD    dimanche 09 juin   18:30   \n",
       "8  LA LUTTE DES CLASSES    dimanche 02 juin   21:30   \n",
       "9          CHAMBOULTOUT     dimanche 26 mai   21:30   \n",
       "\n",
       "                                               image  \\\n",
       "0  https://if-maroc.org/rabat/wp-content/uploads/...   \n",
       "1  https://if-maroc.org/rabat/wp-content/uploads/...   \n",
       "2  https://if-maroc.org/rabat/wp-content/uploads/...   \n",
       "3  https://if-maroc.org/rabat/wp-content/uploads/...   \n",
       "4  https://if-maroc.org/rabat/wp-content/uploads/...   \n",
       "5  https://if-maroc.org/rabat/wp-content/uploads/...   \n",
       "6  https://if-maroc.org/rabat/wp-content/uploads/...   \n",
       "7  https://if-maroc.org/rabat/wp-content/uploads/...   \n",
       "8  https://if-maroc.org/rabat/wp-content/uploads/...   \n",
       "9  https://if-maroc.org/rabat/wp-content/uploads/...   \n",
       "\n",
       "                                                lien  \\\n",
       "0  https://if-maroc.org/rabat/film/cinema-la-source/   \n",
       "1   https://if-maroc.org/rabat/film/cinema-parasite/   \n",
       "2           https://if-maroc.org/rabat/film/le-daim/   \n",
       "3              https://if-maroc.org/rabat/film/yves/   \n",
       "4    https://if-maroc.org/rabat/film/le-jeune-ahmed/   \n",
       "5  https://if-maroc.org/rabat/film/tel-aviv-on-fire/   \n",
       "6      https://if-maroc.org/rabat/film/grace-a-dieu/   \n",
       "7       https://if-maroc.org/rabat/film/kabullywood/   \n",
       "8  https://if-maroc.org/rabat/film/la-lutte-des-c...   \n",
       "9      https://if-maroc.org/rabat/film/chamboultout/   \n",
       "\n",
       "                                         description  \\\n",
       "0  Samir vit dans une cité populaire, en banlieu...   \n",
       "1  Toute la famille de Ki-taek est au chômage, et...   \n",
       "2                                                      \n",
       "3  Jérem s’installe dans la maison de sa mémé pou...   \n",
       "4  En Belgique, aujourd’hui, le destin du Jeune A...   \n",
       "5  Salam, 30 ans, vit à Jérusalem. Il est Palesti...   \n",
       "6  Drame de François Ozon, avec Melvil Poupaud, D...   \n",
       "7  A Kaboul en Afghanistan, quatre étudiants asso...   \n",
       "8                                                      \n",
       "9  Béatrice célèbre avec les siens la sortie de s...   \n",
       "\n",
       "                                                lieu  \n",
       "0  Salle Gérard Philipe                          ...  \n",
       "1  Salle Gérard Philipe                          ...  \n",
       "2  Salle Gérard Philipe                          ...  \n",
       "3  Salle Gérard Philipe                          ...  \n",
       "4  Salle Gérard Philipe                          ...  \n",
       "5  Salle Gérard Philipe                          ...  \n",
       "6  Cinéma Renaissance                            ...  \n",
       "7  Salle Gérard Philipe                          ...  \n",
       "8  Salle Gérard Philipe                          ...  \n",
       "9  Salle Gérard Philipe                          ...  "
      ]
     },
     "execution_count": 28,
     "metadata": {},
     "output_type": "execute_result"
    }
   ],
   "source": [
    "df"
   ]
  },
  {
   "cell_type": "code",
   "execution_count": null,
   "metadata": {},
   "outputs": [],
   "source": []
  }
 ],
 "metadata": {
  "kernelspec": {
   "display_name": "Python 3",
   "language": "python",
   "name": "python3"
  },
  "language_info": {
   "codemirror_mode": {
    "name": "ipython",
    "version": 3
   },
   "file_extension": ".py",
   "mimetype": "text/x-python",
   "name": "python",
   "nbconvert_exporter": "python",
   "pygments_lexer": "ipython3",
   "version": "3.6.1"
  }
 },
 "nbformat": 4,
 "nbformat_minor": 2
}
