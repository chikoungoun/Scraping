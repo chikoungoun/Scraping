{
 "cells": [
  {
   "cell_type": "markdown",
   "metadata": {},
   "source": [
    "# Prototype d'extraction des informations sur la page dédiée à l'évènement"
   ]
  },
  {
   "cell_type": "code",
   "execution_count": 1,
   "metadata": {},
   "outputs": [
    {
     "data": {
      "text/plain": [
       "<Response [200]>"
      ]
     },
     "execution_count": 1,
     "metadata": {},
     "output_type": "execute_result"
    }
   ],
   "source": [
    "import requests\n",
    "\n",
    "url = 'https://www.ticket.ma/ticket/concerts/festival-international-de-la-culture-aissaoua-du-18-au-20-avril-au-palais-mechouar-casablanca'\n",
    "response = requests.get(url)\n",
    "response"
   ]
  },
  {
   "cell_type": "code",
   "execution_count": 2,
   "metadata": {},
   "outputs": [
    {
     "name": "stdout",
     "output_type": "stream",
     "text": [
      "<html xmlns=\"//www.w3.org/1999/xhtml\">\n",
      "\t<head>\n",
      "\t    <meta property=\"fb:app_id\" content=\"273870459404278\"/>\n",
      "\t\t\t\t<title>Ticket Maroc | Festival International de la culture Aissaoua  - Palais Méchouar - </title>\n",
      "\t\t<meta property=\"og:image\" content=\"https://www.ticket.ma/upload/events/1773/original_Festival_Aissaoua_2019_650.jpg\" />\n",
      "\t\t<meta property=\"og:description\" content=\"18 avril 2019 · Palais Méchouar  · 200 DH\" />\n",
      "\t\t<meta property=\"og:url\" content=\"https://www.ticket.ma/ticket/concerts/festiva\n"
     ]
    }
   ],
   "source": [
    "print(response.text[:500])"
   ]
  },
  {
   "cell_type": "code",
   "execution_count": 3,
   "metadata": {},
   "outputs": [
    {
     "data": {
      "text/plain": [
       "bs4.BeautifulSoup"
      ]
     },
     "execution_count": 3,
     "metadata": {},
     "output_type": "execute_result"
    }
   ],
   "source": [
    "from bs4 import BeautifulSoup\n",
    "\n",
    "soup = BeautifulSoup(response.text,'html.parser')\n",
    "type(soup)"
   ]
  },
  {
   "cell_type": "code",
   "execution_count": 5,
   "metadata": {},
   "outputs": [],
   "source": [
    "event = soup.find('article',{'id':'event-1773'})"
   ]
  },
  {
   "cell_type": "code",
   "execution_count": 6,
   "metadata": {},
   "outputs": [
    {
     "data": {
      "text/plain": [
       "<article class=\"event\" id=\"event-1773\">\n",
       "<div class=\"entry-content\">\n",
       "<div class=\"event-detail-wrapper vevent\">\n",
       "<div class=\"clearfix page-header\">\n",
       "<div class=\"event-date\" style=\"width: 71px;\">\n",
       "<p class=\"event-date-month\">Du</p>\n",
       "<p class=\"event-date-month\" style=\"font-weight: bold;\">18 AVR.</p>\n",
       "<p class=\"event-date-month\">Au</p>\n",
       "<p class=\"event-date-month\" style=\"font-weight: bold;\">20 AVR.</p>\n",
       "</div>\n",
       "<div class=\"event-titles\">\n",
       "<h1 class=\"headliners summary\">Festival International de la culture Aissaoua</h1>\n",
       "<h3>\n",
       "</h3>\n",
       "</div>\n",
       "<!--titles-->\n",
       "<div class=\"event-venue location vcard\">\n",
       "<h5 class=\"venue fn org\">\n",
       "<a class=\"fancybox map-location\" href=\"#div-map\">Palais Méchouar</a>\n",
       "<a class=\"event-location fancybox map-location\" href=\"#div-map\" rel=\"nofollow\" target=\"_blank\">\n",
       "<img alt=\"Palais Méchouar\" src=\"/img/icon-location-small.gif\"/></a>\n",
       "</h5>\n",
       "<p class=\"city-state adr\">\n",
       "<span class=\"street-address\"></span><br/>\n",
       "<span class=\"locality\"> - Maroc</span><br/>\n",
       "</p>\n",
       "<span class=\"geo\"> <abbr class=\"latitude\" title=\"\"></abbr>\n",
       "<abbr class=\"longitude\" title=\"\"></abbr>\n",
       "</span>\n",
       "<p class=\"event-start-time\">\n",
       "<span class=\"doors\">Ouverture des portes 20h30</span>\n",
       "<br/>\n",
       "<span class=\"start dtstart\">Heure du spectacle 21h00</span>\n",
       "</p>\n",
       "</div>\n",
       "</div>\n",
       "<!--/.page-header-->\n",
       "<div class=\"leftcol\">\n",
       "<div class=\"projekktor player image-only landscape\" id=\"artist-image\">\n",
       "<img src=\"/upload/events/1773/original_Festival_Aissaoua_2019_650.jpg\"> </img></div>\n",
       "<br/>\n",
       "<div class=\"event-details\">\n",
       "<h3>Description</h3>\n",
       "<div class=\"\">\n",
       "<p>Après le beau succès du Premier Festival de la Culture Aissaoui de l’année écoulée, il était naturel de continuer en 2019 dans la voie de l’exploration d’un champs spirituel qui fait partie d’un patrimoine profondément enraciné dans l’histoire du Maghreb. L’illustration la plus éloquente de ce succès est représentée par le Haut patronage accordé par Sa Majesté Mohammed VI à cette deuxième Édition du Festival.</p>\n",
       "<h1>Programme :</h1>\n",
       "<ul>\n",
       "<li><strong><u>Jeudi 18 avril : </u>à 21h : Soirée d’ouverture – Tunisie, Maroc*</strong>\n",
       "<ul>\n",
       "<li>Awamria Mkaddem Sidi Ameur, Mahmoud Frih, Tunisie</li>\n",
       "<li>Aissaoua Mkaddem Haj Said Berrada de Fès avec la participation de l’artiste Said Belcadi, Maroc<br>\n",
       "\t\t </br></li>\n",
       "</ul>\n",
       "</li>\n",
       "<li><u><strong>Vendredi 19 avril:</strong></u>\n",
       "<ul>\n",
       "<li><strong>De 9h30 à 13h : Table ronde (Gratuit)</strong></li>\n",
       "</ul>\n",
       "</li>\n",
       "</ul>\n",
       "<p style=\"margin-left:72.0pt\"><strong><em>Thème</em> : </strong>Dialogue des religions, dialogues des cultures : l’universel en partage</p>\n",
       "<p style=\"margin-left:72.0pt\">Cette table ronde sera introduite par M. Mohamed Kabbaj, Ancien Conseiller de sa Majesté le Roi, Président d'honneur et Fondateur du Festival de Fès des Musiques sacrées du Monde et Fondateur de l’Association Fès Saiss</p>\n",
       "<p style=\"margin-left:72.0pt\">Elle sera animée par M. Abdou Hafidi, Islamologue et animateur de l’émission “Cultures d’Islam” sur France 2<br>\n",
       " </br></p>\n",
       "<ul>\n",
       "<li><strong>À 21h : 2ème Soirée – Algérie, Maroc*</strong>\n",
       "<ul>\n",
       "<li>Aissaoua Mkaddem Khalil Baba Ahmed, Moustaghanem et musique Gharnati avec Brahim Haj Kacem, Algérie</li>\n",
       "<li>Taifat Ikhouane Aissaoua dirigée par Mkaddem Abdessamad Hadef de Meknès, avec la participation de l’artiste Driss Zaarouri et l’orchestre du Maître Mohammed Otmani des musiques traditionnelles, Maroc<br>\n",
       "\t\t </br></li>\n",
       "</ul>\n",
       "</li>\n",
       "<li><u><strong>Samedi 20 avril:</strong></u></li>\n",
       "<li><strong>De 9h30 à 13h : Forum-Débat (Gratuit)</strong></li>\n",
       "</ul>\n",
       "<p style=\"margin-left:72.0pt\"><strong><em>Thème</em></strong> “L’approche soufie dans la moralisation de l’éducation”</p>\n",
       "<p style=\"margin-left:72.0pt\">Présidé par Moulay Driss Alaoui Mdaghri, Ancien Ministre, Poète et Universitaire.</p>\n",
       "<p style=\"margin-left:72.0pt\">Modérateur : Dr Abdellah Cherif Ouazzani, Professeur chercheur dans la pensée islamique et les sciences de l’éducation.<br>\n",
       " </br></p>\n",
       "<ul>\n",
       "<li><strong>À 21h : Soirée de clôture Maghrébine – Tunisie, Algérie &amp; Maroc*</strong></li>\n",
       "</ul>\n",
       "<ul>\n",
       "<li>Nass El Ghiwane, Maroc</li>\n",
       "<li>Tawaifs Aissaoua, Hmatcha, Ahl Twate, groupes Maghrébins - Mkaddems : Said Berrada (Fès), Allal Chamane (Rabat), Abderrahim Amrani (Fès), Semlali (Fès), Nawal Abdellaoui (Meknès) - Tunisie, Algérie &amp; Maroc</li>\n",
       "</ul>\n",
       "<p>Directeur artistique du festival : Pr Abdelhamid Essbai</p>\n",
       "<p>* Ouverture des porte à 20h30</p>\n",
       "<p><strong>Si vous souhaitez effectuer un achat de groupe ou de société, prière de contacter directement notre service clientèle sur le 06 69 26 77 09 ou le 06 62 78 26 62.</strong><br/>\n",
       " </p>\n",
       "<table border=\"1\" cellpadding=\"1\" cellspacing=\"1\" style=\"width:500px\">\n",
       "<tbody>\n",
       "<tr>\n",
       "<td style=\"text-align:center\"><strong>Catégories</strong></td>\n",
       "<td style=\"text-align:center\"><strong>Prix</strong></td>\n",
       "</tr>\n",
       "<tr>\n",
       "<td style=\"text-align:center\">Pack Festival du 18 au 20 avril (3 soirées)</td>\n",
       "<td style=\"text-align:center\">500 Dhs</td>\n",
       "</tr>\n",
       "<tr>\n",
       "<td style=\"text-align:center\">Concert du 18 Avril</td>\n",
       "<td style=\"text-align:center\">200 Dhs</td>\n",
       "</tr>\n",
       "<tr>\n",
       "<td style=\"text-align:center\">Concert du 19 Avril</td>\n",
       "<td style=\"text-align:center\">200 Dhs</td>\n",
       "</tr>\n",
       "<tr>\n",
       "<td style=\"text-align:center\">Concert du 20 Avril</td>\n",
       "<td style=\"text-align:center\">200 Dhs</td>\n",
       "</tr>\n",
       "</tbody>\n",
       "</table>\n",
       "<p> </p>\n",
       "</div>\n",
       "<br/> <br/>\n",
       "<h3 class=\"fb\">Partagez vos commentaires</h3>\n",
       "<div class=\"fb-comments\" data-colorscheme=\"light\" data-href=\"https://www.ticket.ma/event/festival-international-de-la-culture-aissaoua-du-18-au-20-avril-au-palais-mechouar-casablanca\" data-numposts=\"5\" data-width=\"650px\"></div>\n",
       "</div>\n",
       "</div>\n",
       "<div class=\"rightcol\">\n",
       "<div class=\"clearfix event-tickets\">\n",
       "<p class=\"event-tickets-price\">\n",
       "<span style=\"font-size: 17px; font-weight: 400; margin-bottom: 5px\">À partir de</span><br/>\n",
       "\t\t\t\t\t\t\t\t\t\t\t\t\n",
       "\t\t\t\t\t\t\t\t\t\t\t\t\n",
       "\t\t\t\t\t\t\t\t\t\t\t\t\t\t\t\t\t\t\t\n",
       "\t\t\t\t\t\t200 Dhs</p>\n",
       "<p class=\"ticket-link2 primary-link2\">\n",
       "<a class=\"tickets button radius large green fancybox acheter\" href=\"#multideal-popup\">Acheter<span class=\"buy\"> </span></a>\n",
       "</p>\n",
       "<div class=\"share-events share-plus clearfix\" id=\"toolbox\">\n",
       "<h3>\n",
       "<span>Partager</span>\n",
       "</h3>\n",
       "<div class=\"share-facebook\">\n",
       "<a class=\"\" href=\"javascript:void(0);\" onclick=\"showBShareDialog();return false\">Facebook</a>\n",
       "</div>\n",
       "<div class=\"share-twitter\">\n",
       "<a class=\"\" href=\"https://twitter.com/intent/tweet?text=Festival+International+de+la+culture+Aissaoua&amp;url=https%3A%2F%2Fwww.ticket.ma%2Fevent%2Ffestival-international-de-la-culture-aissaoua-du-18-au-20-avril-au-palais-mechouar-casablanca&amp;via=ticket_ma\" target=\"_blank\">Twitter</a>\n",
       "</div>\n",
       "<!-- div class=\"share-gplus\">\n",
       "\n",
       "\t\t\t\t\t\t\t<a href=\"javascript:void(0);\">Google Plus</a>\n",
       "\n",
       "\t\t\t\t\t\t</div-->\n",
       "</div>\n",
       "<div class=\"calendar-sync clearfix\">\n",
       "<h3>\n",
       "<span>Ajouter au calendrier</span>\n",
       "</h3>\n",
       "<!-- div class=\"ical-sync\">\n",
       "\t\t\t\t\t\t\t<a href=\"javascript:void(0);\">iCal</a>\n",
       "\t\t\t\t\t\t</div-->\n",
       "<div class=\"gcal-sync\">\n",
       "<a href=\"http://www.google.com/calendar/event?action=TEMPLATE&amp;text=Festival International de la culture Aissaoua&amp;dates=20190418T111605Z/20190418T200000Z&amp;details=Festival International de la culture Aissaoua&amp;location=Palais Méchouar &amp;trp=false&amp;sprop=http%3A%2F%2Fwww.ticket.ma&amp;sprop=name:Ticket.ma\" target=\"_blank\">Google</a>\n",
       "</div>\n",
       "</div>\n",
       "</div>\n",
       "<div class=\"header-double-line\">\n",
       "<h4>Autres événements</h4>\n",
       "</div>\n",
       "<ul class=\"events-upcoming\">\n",
       "<li class=\"\">\n",
       "<p class=\"event-date\">\n",
       "\t\t\t\t\t\t\tLe mardi 30 avril 2019\n",
       "\t\t\t\t\t\t</p>\n",
       "<h4>\n",
       "<a href=\"/ticket/theatre-humour/rachid-kids-show-le-30-avril-a-10h-au-studio-des-arts-vivants\">Rachid Kids Show Casa 10h</a>\n",
       "</h4>\n",
       "<p class=\"get-tickets\">\n",
       "<a href=\"/ticket/theatre-humour/rachid-kids-show-le-30-avril-a-10h-au-studio-des-arts-vivants\">Acheter</a>\n",
       "</p>\n",
       "</li>\n",
       "<li class=\"\">\n",
       "<p class=\"event-date\">\n",
       "\t\t\t\t\t\t\tLe jeudi 23 mai 2019\n",
       "\t\t\t\t\t\t</p>\n",
       "<h4>\n",
       "<a href=\"/ticket/theatre-humour/jalil-tijani-le-23-mai-2019-au-theatre-national-mohamed-v-rabat\">Jalil Tijani // Jeux de société Rabat</a>\n",
       "</h4>\n",
       "<p class=\"get-tickets\">\n",
       "<a href=\"/ticket/theatre-humour/jalil-tijani-le-23-mai-2019-au-theatre-national-mohamed-v-rabat\">Acheter</a>\n",
       "</p>\n",
       "</li>\n",
       "<li class=\"\">\n",
       "<p class=\"event-date\">\n",
       "\t\t\t\t\t\t\tLe jeudi 27 juin 2019\n",
       "\t\t\t\t\t\t</p>\n",
       "<h4>\n",
       "<a href=\"/ticket/festival-mawazine/kamasi-washington\">Kamasi Washington</a>\n",
       "</h4>\n",
       "<p class=\"get-tickets\">\n",
       "<a href=\"/ticket/festival-mawazine/kamasi-washington\">Acheter</a>\n",
       "</p>\n",
       "</li>\n",
       "<li class=\"\">\n",
       "<p class=\"event-date\">\n",
       "\t\t\t\t\t\t\tLe jeudi 29 août 2019\n",
       "\t\t\t\t\t\t</p>\n",
       "<h4>\n",
       "<a href=\"/ticket/festivals/atlas-electronic-2019-du-29-au-01-septembre-a-la-villa-janna-a-marrakech\">Atlas Electronic 2019</a>\n",
       "</h4>\n",
       "<p class=\"get-tickets\">\n",
       "<a href=\"/ticket/festivals/atlas-electronic-2019-du-29-au-01-septembre-a-la-villa-janna-a-marrakech\">Acheter</a>\n",
       "</p>\n",
       "</li>\n",
       "<li class=\"\">\n",
       "<p class=\"event-date\">\n",
       "\t\t\t\t\t\t\tLe samedi 22 juin 2019\n",
       "\t\t\t\t\t\t</p>\n",
       "<h4>\n",
       "<a href=\"/ticket/festival-mawazine/kokoko-sho-madjozi\">KOKOKO / SHO MADJOZI </a>\n",
       "</h4>\n",
       "<p class=\"get-tickets\">\n",
       "<a href=\"/ticket/festival-mawazine/kokoko-sho-madjozi\">Acheter</a>\n",
       "</p>\n",
       "</li>\n",
       "<li class=\"\">\n",
       "<p class=\"event-date\">\n",
       "\t\t\t\t\t\t\tLe vendredi 03 mai 2019\n",
       "\t\t\t\t\t\t</p>\n",
       "<h4>\n",
       "<a href=\"/ticket/concerts/laylat-chaabana-le-03-mai-2019-au-theatre-national-mohamed-v-rabat\">ليلة شعبانة</a>\n",
       "</h4>\n",
       "<p class=\"get-tickets\">\n",
       "<a href=\"/ticket/concerts/laylat-chaabana-le-03-mai-2019-au-theatre-national-mohamed-v-rabat\">Acheter</a>\n",
       "</p>\n",
       "</li>\n",
       "<li class=\"\">\n",
       "<p class=\"event-date\">\n",
       "\t\t\t\t\t\t\tLe jeudi 09 mai 2019\n",
       "\t\t\t\t\t\t</p>\n",
       "<h4>\n",
       "<a href=\"/ticket/theatre-humour/humouraji-le-09-mai-a-agadir\">Humouraji Agadir</a>\n",
       "</h4>\n",
       "<p class=\"get-tickets\">\n",
       "<a href=\"/ticket/theatre-humour/humouraji-le-09-mai-a-agadir\">Acheter</a>\n",
       "</p>\n",
       "</li>\n",
       "<li class=\"\">\n",
       "<p class=\"event-date\">\n",
       "\t\t\t\t\t\t\tLe samedi 20 avril 2019\n",
       "\t\t\t\t\t\t</p>\n",
       "<h4>\n",
       "<a href=\"/ticket/theatre-humour/humouraji-le-20-avril-2019-nador\">Humouraji Nador</a>\n",
       "</h4>\n",
       "<p class=\"get-tickets\">\n",
       "<a href=\"/ticket/theatre-humour/humouraji-le-20-avril-2019-nador\">Acheter</a>\n",
       "</p>\n",
       "</li>\n",
       "<li class=\"\">\n",
       "<p class=\"event-date\">\n",
       "\t\t\t\t\t\t\tLe dimanche 19 mai 2019\n",
       "\t\t\t\t\t\t</p>\n",
       "<h4>\n",
       "<a href=\"/ticket/concerts/said-berrada-le-19-mai-a-la-salle-allal-al-fassi-rabat\">Said Berrada</a>\n",
       "</h4>\n",
       "<p class=\"get-tickets\">\n",
       "<a href=\"/ticket/concerts/said-berrada-le-19-mai-a-la-salle-allal-al-fassi-rabat\">Acheter</a>\n",
       "</p>\n",
       "</li>\n",
       "<li class=\"\">\n",
       "<p class=\"event-date\">\n",
       "\t\t\t\t\t\t\tLe vendredi 21 juin 2019\n",
       "\t\t\t\t\t\t</p>\n",
       "<h4>\n",
       "<a href=\"/ticket/festival-mawazine/la-carte-fast-gold-2019\">La Carte Fast Gold</a>\n",
       "</h4>\n",
       "<p class=\"get-tickets\">\n",
       "<a href=\"/ticket/festival-mawazine/la-carte-fast-gold-2019\">Acheter</a>\n",
       "</p>\n",
       "</li>\n",
       "</ul>\n",
       "</div>\n",
       "</div>\n",
       "</div>\n",
       "</article>"
      ]
     },
     "execution_count": 6,
     "metadata": {},
     "output_type": "execute_result"
    }
   ],
   "source": [
    "event"
   ]
  },
  {
   "cell_type": "markdown",
   "metadata": {},
   "source": [
    "## Trouver le nom de l'évènement"
   ]
  },
  {
   "cell_type": "code",
   "execution_count": 21,
   "metadata": {},
   "outputs": [],
   "source": [
    "nom = event.find('div',{'class':'event-titles'}).get_text().replace('\\n','')"
   ]
  },
  {
   "cell_type": "code",
   "execution_count": 22,
   "metadata": {},
   "outputs": [
    {
     "data": {
      "text/plain": [
       "'Festival International de la culture Aissaoua'"
      ]
     },
     "execution_count": 22,
     "metadata": {},
     "output_type": "execute_result"
    }
   ],
   "source": [
    "nom"
   ]
  },
  {
   "cell_type": "markdown",
   "metadata": {},
   "source": [
    "## Trouver la localisation"
   ]
  },
  {
   "cell_type": "code",
   "execution_count": 19,
   "metadata": {},
   "outputs": [
    {
     "data": {
      "text/plain": [
       "'Palais Méchouar'"
      ]
     },
     "execution_count": 19,
     "metadata": {},
     "output_type": "execute_result"
    }
   ],
   "source": [
    "event.find('a',{'class':'fancybox map-location'}).text"
   ]
  },
  {
   "cell_type": "code",
   "execution_count": 18,
   "metadata": {},
   "outputs": [
    {
     "data": {
      "text/plain": [
       "'Palais Méchouar'"
      ]
     },
     "execution_count": 18,
     "metadata": {},
     "output_type": "execute_result"
    }
   ],
   "source": [
    "l"
   ]
  },
  {
   "cell_type": "code",
   "execution_count": null,
   "metadata": {},
   "outputs": [],
   "source": []
  }
 ],
 "metadata": {
  "kernelspec": {
   "display_name": "Python 3",
   "language": "python",
   "name": "python3"
  },
  "language_info": {
   "codemirror_mode": {
    "name": "ipython",
    "version": 3
   },
   "file_extension": ".py",
   "mimetype": "text/x-python",
   "name": "python",
   "nbconvert_exporter": "python",
   "pygments_lexer": "ipython3",
   "version": "3.6.1"
  }
 },
 "nbformat": 4,
 "nbformat_minor": 2
}
